{
 "cells": [
  {
   "cell_type": "code",
   "execution_count": 2,
   "metadata": {},
   "outputs": [
    {
     "name": "stderr",
     "output_type": "stream",
     "text": [
      "/data1/baixiang/env/anaconda3/envs/edit/lib/python3.9/site-packages/transformers/utils/hub.py:127: FutureWarning: Using `TRANSFORMERS_CACHE` is deprecated and will be removed in v5 of Transformers. Use `HF_HOME` instead.\n",
      "  warnings.warn(\n"
     ]
    },
    {
     "data": {
      "application/vnd.jupyter.widget-view+json": {
       "model_id": "3ec1cc05727042bd9c44c030a1a21220",
       "version_major": 2,
       "version_minor": 0
      },
      "text/plain": [
       "Loading checkpoint shards:   0%|          | 0/4 [00:00<?, ?it/s]"
      ]
     },
     "metadata": {},
     "output_type": "display_data"
    }
   ],
   "source": [
    "import gc\n",
    "import os\n",
    "import json\n",
    "import torch\n",
    "import pickle\n",
    "import pandas as pd\n",
    "import transformers\n",
    "from tqdm import tqdm\n",
    "from openai import AzureOpenAI\n",
    "from hallucination_editor import *"
   ]
  },
  {
   "cell_type": "code",
   "execution_count": 13,
   "metadata": {},
   "outputs": [
    {
     "name": "stdout",
     "output_type": "stream",
     "text": [
      "model_id: meta_llama_3.1_8b_instruct, current topic: places_country\n"
     ]
    },
    {
     "data": {
      "text/plain": [
       "('Always respond to the input question concisely with a short phrase or a single-word answer. Do not repeat the question or provide any explanation.',\n",
       " \"Given two texts, labeled as Text 1 and Text 2, output '1' if they match each other semantically; otherwise, output '0'. Do not repeat the question or provide any explanation.\")"
      ]
     },
     "execution_count": 13,
     "metadata": {},
     "output_type": "execute_result"
    }
   ],
   "source": [
    "def load_api_key(key, file_path='api_key.json'):\n",
    "    with open(file_path, 'r') as file:\n",
    "        data = json.load(file)\n",
    "    return data[key]\n",
    "\n",
    "def get_response(model, tok, messages, max_new_tokens=1):\n",
    "    terminators = [tok.eos_token_id, tok.convert_tokens_to_ids(\"<|eot_id|>\")]\n",
    "    msg_tokenized = tok.apply_chat_template(messages, add_generation_prompt=True, return_tensors='pt').to(model.device)\n",
    "    output_ids = model.generate(msg_tokenized, max_new_tokens=max_new_tokens, eos_token_id=terminators, do_sample=False, pad_token_id=tok.eos_token_id)\n",
    "    return tok.decode(output_ids[0][msg_tokenized.shape[-1]:], skip_special_tokens=True).replace('\\n', ' ').strip().rstrip('.')  # remove trailing period\n",
    "\n",
    "def get_gpt_response(client, system_msg, prompt, model='gpt-4o', temperature=0):\n",
    "    raw_response = client.chat.completions.create(\n",
    "        model=model,\n",
    "        messages=[\n",
    "            {\"role\": \"system\", \"content\": system_msg},\n",
    "            {\"role\": \"user\", \"content\": prompt}\n",
    "        ],\n",
    "        response_format={\"type\": \"json_object\"},\n",
    "        temperature=temperature\n",
    "    )\n",
    "    return raw_response\n",
    "\n",
    "device = 'cuda:0'\n",
    "topic_ls = ['places_city', 'places_country', 'places_landmark', 'entertainment_anime', 'entertainment_song', 'entertainment_music_genre', 'human_actor',\n",
    "            'art_literary', 'art_sculpture', 'health_treatment', 'health_medication', 'health_disease', 'human_politician', 'human_writer', 'human_scientist', \n",
    "            'event_sport', 'event_history', 'event_film']\n",
    "model_ls = ['meta-llama/Meta-Llama-3.1-8B-Instruct', 'mistralai/Mistral-7B-Instruct-v0.3', 'lmsys/vicuna-7b-v1.5']\n",
    "model_id = model_ls[0]\n",
    "domain_topic_name = topic_ls[1]\n",
    "model_id_format = model_id.split('/')[-1].replace('-', '_').lower()\n",
    "print(f'model_id: {model_id_format}, current topic: {domain_topic_name}')\n",
    "\n",
    "folder_unfiltered = f\"../data/questions/unfiltered/{model_id_format}\"\n",
    "folder_hallu = f\"../data/questions/hallucination_all/{model_id_format}\"\n",
    "\n",
    "system_msg_qa, system_msg_eval"
   ]
  },
  {
   "cell_type": "code",
   "execution_count": 62,
   "metadata": {},
   "outputs": [],
   "source": [
    "remove_relation = [\"topic's main category\", \"topic's main template\", \"described by source\", \"Commons category\", \"on focus list of Wikimedia project\"]\n",
    "\n",
    "for filename in os.listdir(f\"{folder_unfiltered}\"):\n",
    "    df = pd.read_csv(f\"{folder_unfiltered}/{filename}\")\n",
    "    df_dup = df[df.duplicated(['subject', 'relation'], keep=False)]\n",
    "    if len(df_dup) > 0:  # check duplicate (subject, relation) pairs\n",
    "        print(f\"In {filename}, there are {len(df_dup)} questions with duplicate (subject, relation) pairs:\")\n",
    "        \n",
    "    if len(df[df['subject'] == df['object']]) > 0:  # Check if subject == object\n",
    "        print(f\"In {filename}, there are {len(df[df['subject'] == df['object']])} questions where subject == object\")\n",
    "        df = df[df['subject'] != df['object']]\n",
    "\n",
    "    for relation_check in remove_relation:\n",
    "        if relation_check in df['subject'].to_list():\n",
    "            print(f'Check {relation_check} relation for {filename}')\n",
    "    # if len(df[df['label'] != df['object']]) > 0:\n",
    "    #     print(f\"In {filename}, there are {len(df[df['label'] != df['object']])} questions where label != object\")\n",
    "    df.to_csv(f\"{folder_unfiltered}/{filename}\", index=False)"
   ]
  },
  {
   "cell_type": "markdown",
   "metadata": {},
   "source": [
    "### Topic-specific cleaning"
   ]
  },
  {
   "cell_type": "code",
   "execution_count": 20,
   "metadata": {},
   "outputs": [
    {
     "name": "stdout",
     "output_type": "stream",
     "text": [
      "Remove has part(s): 12\n",
      "Remove sponsor: 7\n"
     ]
    }
   ],
   "source": [
    "domain_topic_tmp = 'event_sport'\n",
    "df = pd.read_csv(f\"{folder_unfiltered}/{domain_topic_tmp}.csv\")\n",
    "print(f\"Remove has part(s): {len(df[df['relation']=='has part(s)'])}\")\n",
    "print(f\"Remove sponsor: {len(df[df['relation']=='sponsor'])}\")\n",
    "df = df[df['relation'] != 'sponsor']\n",
    "df = df[df['relation'] != 'has part(s)']\n",
    "df.to_csv(f\"../data/questions/unfiltered/{domain_topic_tmp}_questions_2.csv\", index=False)"
   ]
  },
  {
   "cell_type": "code",
   "execution_count": 22,
   "metadata": {},
   "outputs": [
    {
     "name": "stdout",
     "output_type": "stream",
     "text": [
      "Remove has part(s): 9\n"
     ]
    }
   ],
   "source": [
    "domain_topic_tmp = 'places_country'\n",
    "df = pd.read_csv(f\"{folder_unfiltered}/{domain_topic_tmp}.csv\")\n",
    "print(f\"Remove: {len(df[df['relation']=='twinned administrative body'])}\")\n",
    "# df.to_csv(f\"../data/questions/unfiltered/{domain_topic_tmp}_questions_2.csv\", index=False)"
   ]
  },
  {
   "cell_type": "markdown",
   "metadata": {},
   "source": [
    "## Get responses"
   ]
  },
  {
   "cell_type": "code",
   "execution_count": 9,
   "metadata": {},
   "outputs": [
    {
     "data": {
      "application/vnd.jupyter.widget-view+json": {
       "model_id": "18815f8b874a466098f591423b4a5bf1",
       "version_major": 2,
       "version_minor": 0
      },
      "text/plain": [
       "Loading checkpoint shards:   0%|          | 0/4 [00:00<?, ?it/s]"
      ]
     },
     "metadata": {},
     "output_type": "display_data"
    }
   ],
   "source": [
    "tok_qa = transformers.AutoTokenizer.from_pretrained(model_id)\n",
    "model_qa = transformers.AutoModelForCausalLM.from_pretrained(model_id).to(device)"
   ]
  },
  {
   "cell_type": "code",
   "execution_count": 14,
   "metadata": {},
   "outputs": [
    {
     "name": "stdout",
     "output_type": "stream",
     "text": [
      "meta_llama_3.1_8b_instruct\n"
     ]
    },
    {
     "name": "stderr",
     "output_type": "stream",
     "text": [
      "100%|██████████| 633/633 [04:21<00:00,  2.42it/s]"
     ]
    },
    {
     "name": "stdout",
     "output_type": "stream",
     "text": [
      "technology_software.csv\n"
     ]
    },
    {
     "name": "stderr",
     "output_type": "stream",
     "text": [
      "\n"
     ]
    }
   ],
   "source": [
    "print(model_id_format)\n",
    "# df_all_topics = pd.DataFrame()\n",
    "# for filename in ['technology_software.csv']:\n",
    "for filename in os.listdir(folder_unfiltered):\n",
    "    df = pd.read_csv(f\"{folder_unfiltered}/{filename}\")\n",
    "    # if f\"output_{model_id_format}\" in df.columns:\n",
    "    #     continue\n",
    "    ls_output = []\n",
    "    for i in tqdm(df.index):\n",
    "        question = df.loc[i, 'question']\n",
    "        # user_msg_qa = Wh_content + \"\\nQuestion:\" + question  # places_landmark_old.csv\n",
    "        # user_msg_qa = f'Question: {question} Answer:'\n",
    "        user_msg_qa = f'{question}'\n",
    "        if model_id_format == 'gemma_2_9b_it':  # System role not supported for gemma\n",
    "            messages_qa = [{\"role\": \"user\", \"content\": system_msg_qa+' '+user_msg_qa}]\n",
    "        else:\n",
    "            messages_qa = [{\"role\": \"system\", \"content\": system_msg_qa}, {\"role\": \"user\", \"content\": user_msg_qa}]\n",
    "        output_qa = get_response(model_qa, tok_qa, messages_qa, max_new_tokens=16)\n",
    "        ls_output.append(output_qa)\n",
    "    \n",
    "    df['topic'] = filename.replace('.csv', '')\n",
    "    df[f\"output_{model_id_format}\"] = ls_output\n",
    "    df[['topic', 'subject', 'relation', 'object', 'label', 'question', f'output_{model_id_format}']].to_csv(f\"{folder_unfiltered}/{filename}\", index=False)\n",
    "    print(filename)\n",
    "    # df_all_topics = pd.concat([df_all_topics, df], axis=0)\n",
    "    # print(\"df_all_topics.shape:\", df_all_topics.shape)\n",
    "# df_all_topics = df_all_topics[['topic', 'type', 'subject', 'relation', 'object', 'question', 'label', f'output_{model_id_format}']]\n",
    "# df_all_topics.to_csv(f\"../data/questions/wh_only/all_topics_{model_id_format}.csv\", index=False)\n",
    "# del model_qa\n",
    "# gc.collect()\n",
    "# torch.cuda.empty_cache()"
   ]
  },
  {
   "cell_type": "code",
   "execution_count": 63,
   "metadata": {},
   "outputs": [],
   "source": [
    "# Detect if model outputs contain 'unknown'\n",
    "for filename in os.listdir(folder_unfiltered):\n",
    "    df = pd.read_csv(os.path.join(folder_unfiltered, filename))\n",
    "    for i in df.index[:]:\n",
    "        output_qa = df.loc[i, f\"output_{model_id_format}\"]\n",
    "        if 'unknown' in output_qa.lower():\n",
    "            print(f'In {filename}, question {i}: response: {output_qa}')\n",
    "            df = df.drop(i)  # remove rows with 'unknown' in output_qa\n",
    "    df.to_csv(os.path.join(folder_unfiltered, filename), index=False)"
   ]
  },
  {
   "cell_type": "markdown",
   "metadata": {},
   "source": [
    "## Filter hallucination"
   ]
  },
  {
   "cell_type": "code",
   "execution_count": 15,
   "metadata": {},
   "outputs": [
    {
     "name": "stdout",
     "output_type": "stream",
     "text": [
      "Given two texts, labeled as Text 1 and Text 2, output '1' if they match each other semantically; otherwise, output '0'. Do not repeat the question or provide any explanation.\n"
     ]
    }
   ],
   "source": [
    "def evaluate_responses(model_eval, tok_eval, df, system_msg_eval, user_msg_eval_template=\"Text 1: {label} \\nText 2: {output_qa}\"):\n",
    "    for i in df.index:\n",
    "        label = df.loc[i, 'object']\n",
    "        output_qa = df.loc[i, f\"output_{model_id_format}\"]\n",
    "        eval_res = 0\n",
    "\n",
    "        if output_qa.lower() in label.lower() or label.lower() in output_qa.lower() or 'unknown' in output_qa.lower():  # Rule-based fuzzy match\n",
    "            eval_res = 1\n",
    "            # if output_qa.lower() == label.lower():\n",
    "            #     print(f\"Label: {label:<35} Prediction: {output_qa:<35} Evaluation: Exact Match\")\n",
    "            # else:\n",
    "            #     print(f\"Label: {label:<35} Prediction: {output_qa:<35} Evaluation: Partial Match\")\n",
    "        else:\n",
    "            user_msg_eval = user_msg_eval_template.format(label=label, output_qa=output_qa)\n",
    "            messages_eval = [{\"role\": \"system\", \"content\": system_msg_eval}, {\"role\": \"user\", \"content\": user_msg_eval}]\n",
    "            response_eval = get_response(model_eval, tok_eval, messages_eval)\n",
    "            if response_eval != '0':\n",
    "                # print(f\"Label: {label:<35} Prediction: {output_qa:<35} Evaluation: Semantic Match\")\n",
    "                eval_res = 1\n",
    "                \n",
    "        df.loc[i, f\"eval_{model_id_format}\"] = eval_res\n",
    "    hallu_count = df[df[f'eval_{model_id_format}']==0].shape\n",
    "    print(f\"Hallucination ratio: {hallu_count[0]/len(df)} df_hallucination.shape: {hallu_count}\")\n",
    "    return df\n",
    "print(system_msg_eval)"
   ]
  },
  {
   "cell_type": "code",
   "execution_count": 16,
   "metadata": {},
   "outputs": [
    {
     "name": "stdout",
     "output_type": "stream",
     "text": [
      "technology_software.csv False\n",
      "domain_topic_name: technology_software.csv, df_q.shape: (633, 7)\n",
      "Round 1. Hallucination ratio: 0.684044233807267 df_hallucination.shape: (433, 8)\n",
      "Round 2. Hallucination ratio: 0.9030023094688222 df_hallucination.shape: (391, 8)\n"
     ]
    }
   ],
   "source": [
    "# domain_topic_name = 'entertainment_anime' \n",
    "# df_q = df_q[df_q.topic == domain_topic_name]\n",
    "system_msg_2 = \"Given two texts, labeled as Text 1 and Text 2, output '1' if they if they have similar semantic meanings, are synonyms, \\\n",
    "or if one is a more specific or general version of the other; otherwise, output '0'. Do not repeat the question or provide any explanation.\"   \n",
    "\n",
    "for filename in ['technology_software.csv']:\n",
    "# for filename in os.listdir(folder_unfiltered)[:]:\n",
    "    print(filename, os.path.exists(f\"../data/questions/hallucination/{model_id_format}/{filename}\"))\n",
    "    # if os.path.exists(f\"{folder_hallu}/{filename}\"):\n",
    "    #     continue\n",
    "    df_q = pd.read_csv(f\"{folder_unfiltered}/{filename}\")\n",
    "    print(f\"domain_topic_name: {filename}, df_q.shape: {df_q.shape}\")\n",
    "    print('Round 1.', end=' ')\n",
    "    df_q = evaluate_responses(model_eval, tok_eval, df_q, system_msg_eval)\n",
    "    df_hallu = df_q[df_q[f\"eval_{model_id_format}\"] == 0]\n",
    "    # df_hallu.to_csv(f\"../data/questions/wh_only/hallucination_only/{model_id_format}.csv\", index=False)\n",
    "\n",
    "    # Round 2: use system_msg_2 to filter case such as United Kingdom vs. England\n",
    "    print('Round 2.', end=' ')\n",
    "    df_hallu = evaluate_responses(model_eval, tok_eval, df_hallu, system_msg_2)\n",
    "    df_hallu = df_hallu[df_hallu[f\"eval_{model_id_format}\"] == 0]\n",
    "    df_hallu.to_csv(f\"{folder_hallu}/{filename}\", index=False)"
   ]
  },
  {
   "cell_type": "code",
   "execution_count": 17,
   "metadata": {},
   "outputs": [
    {
     "name": "stdout",
     "output_type": "stream",
     "text": [
      "technology_software.csv (391, 8)\n"
     ]
    }
   ],
   "source": [
    "for filename in ['technology_software.csv']:\n",
    "# for filename in sorted(os.listdir(folder_hallu)):\n",
    "    df_q = pd.read_csv(f\"{folder_hallu}/{filename}\")\n",
    "    print(filename, df_q.shape)\n",
    "    if not os.path.exists(f\"../data/questions/hallucination/{model_id_format}_100/\"):\n",
    "        os.makedirs(f\"../data/questions/hallucination/{model_id_format}_100/\")\n",
    "    if len(df_q) > 100:\n",
    "        df_q.sample(100, random_state=28).to_csv(f\"../data/questions/hallucination/{model_id_format}_100/{filename}\", index=False)"
   ]
  },
  {
   "cell_type": "markdown",
   "metadata": {},
   "source": [
    "### Other evaluation less/more strict"
   ]
  },
  {
   "cell_type": "code",
   "execution_count": null,
   "metadata": {},
   "outputs": [],
   "source": [
    "# system_msg_eval = \"\"\"Given a question, a label, and a prediction, evaluate the correctness of the prediction compared to the label. \\\n",
    "# Output '1' if they have similar semantic meanings, are synonyms, or if one is a more specific or general version of the other. Otherwise, output '0'. \\\n",
    "# Only output the final evaluation as a single word. Do not repeat the question or provide an explanation.\"\"\""
   ]
  },
  {
   "cell_type": "code",
   "execution_count": null,
   "metadata": {},
   "outputs": [
    {
     "name": "stderr",
     "output_type": "stream",
     "text": [
      "/data1/baixiang/env/anaconda3/envs/edit/lib/python3.9/site-packages/transformers/generation/configuration_utils.py:567: UserWarning: `do_sample` is set to `False`. However, `temperature` is set to `0.6` -- this flag is only used in sample-based generation modes. You should set `do_sample=True` or unset `temperature`.\n",
      "  warnings.warn(\n",
      "/data1/baixiang/env/anaconda3/envs/edit/lib/python3.9/site-packages/transformers/generation/configuration_utils.py:572: UserWarning: `do_sample` is set to `False`. However, `top_p` is set to `0.9` -- this flag is only used in sample-based generation modes. You should set `do_sample=True` or unset `top_p`.\n",
      "  warnings.warn(\n"
     ]
    },
    {
     "name": "stdout",
     "output_type": "stream",
     "text": [
      "0 0 0 1 0 0 0 0 0 0 0 0 0 0 0 0 0 0 0 0 0 0 0 0 0 0 0 0 1 0 0 1 0 1 0 0 0 0 0 0 0 0 0 0 0 0 0 0 0 0 0 0 0 0 0 0 0 0 0 0 0 1 0 0 0 0 0 0 0 0 0 0 1 1 0 1 0 0 1 0 0 0 0 0 0 0 0 0 1 0 0 0 0 0 0 0 0 0 0 0 0 0 0 0 0 0 0 0 0 0 0 0 0 0 0 0 0 0 0 0 0 0 0 0 0 0 1 0 0 1 0 0 1 0 0 1 0 1 0 0 1 0 1 0 0 0 0 0 0 0 0 0 0 0 1 0 0 0 0 0 0 0 0 0 0 0 0 0 0 0 1 0 0 0 0 0 0 1 0 0 0 0 0 0 0 0 0 0 0 0 0 0 0 0 0 0 0 0 0 0 0 1 0 0 1 0 0 0 0 1 0 0 0 0 0 0 0 0 0 0 0 1 0 0 0 0 0 0 0 0 0 0 0 0 1 1 0 0 0 0 0 0 0 1 0 1 0 0 0 0 1 0 0 0 0 0 0 1 0 0 0 0 0 0 0 0 0 0 0 0 0 0 0 0 0 0 1 0 0 0 0 0 0 0 1 0 0 0 0 0 0 0 0 0 0 0 0 0 0 0 0 0 0 0 0 0 0 0 0 0 0 0 1 0 0 0 0 0 1 0 0 0 0 0 0 \n",
      "The wh question accuracy of the language model is 0.418\n"
     ]
    }
   ],
   "source": [
    "domain_topic_name = 'places_landmark'\n",
    "df_wh = pd.read_csv(f\"../data/questions/wh_only/all_topics_{model_id_format}.csv\")\n",
    "df_wh = df_wh[df_wh.topic == domain_topic_name]\n",
    "print(domain_topic_name, df_wh.shape)\n",
    "\n",
    "system_msg_eval = \"\"\"Given a label and a prediction, evaluate the correctness of the prediction compared to the label. \\\n",
    "Output '1' if they match each other semantically. Otherwise, output '0'. Do not repeat the question or provide an explanation.\"\"\"\n",
    "# output the final evaluation as a single word. Do not repeat the question or provide an explanation Only output '0' or '1'.\n",
    "\n",
    "user_msg_eval_template = f\"\"\"label: {label} \\nprediction: {output_qa}\\n\"\"\"\n",
    "df_wh = evaluate_responses(model_eval, tok_eval, df_wh, system_msg_eval, user_msg_eval_template)"
   ]
  },
  {
   "cell_type": "code",
   "execution_count": null,
   "metadata": {},
   "outputs": [
    {
     "name": "stderr",
     "output_type": "stream",
     "text": [
      "/data1/baixiang/env/anaconda3/envs/edit/lib/python3.9/site-packages/transformers/generation/configuration_utils.py:567: UserWarning: `do_sample` is set to `False`. However, `temperature` is set to `0.6` -- this flag is only used in sample-based generation modes. You should set `do_sample=True` or unset `temperature`.\n",
      "  warnings.warn(\n",
      "/data1/baixiang/env/anaconda3/envs/edit/lib/python3.9/site-packages/transformers/generation/configuration_utils.py:572: UserWarning: `do_sample` is set to `False`. However, `top_p` is set to `0.9` -- this flag is only used in sample-based generation modes. You should set `do_sample=True` or unset `top_p`.\n",
      "  warnings.warn(\n"
     ]
    },
    {
     "name": "stdout",
     "output_type": "stream",
     "text": [
      "The wh question accuracy of the language model is 0.642\n"
     ]
    },
    {
     "data": {
      "text/html": [
       "<div>\n",
       "<style scoped>\n",
       "    .dataframe tbody tr th:only-of-type {\n",
       "        vertical-align: middle;\n",
       "    }\n",
       "\n",
       "    .dataframe tbody tr th {\n",
       "        vertical-align: top;\n",
       "    }\n",
       "\n",
       "    .dataframe thead th {\n",
       "        text-align: right;\n",
       "    }\n",
       "</style>\n",
       "<table border=\"1\" class=\"dataframe\">\n",
       "  <thead>\n",
       "    <tr style=\"text-align: right;\">\n",
       "      <th></th>\n",
       "      <th>topic</th>\n",
       "      <th>type</th>\n",
       "      <th>subject</th>\n",
       "      <th>relation</th>\n",
       "      <th>object</th>\n",
       "      <th>question</th>\n",
       "      <th>label</th>\n",
       "      <th>output_meta_llama_3.1_8b_instruct</th>\n",
       "      <th>eval_meta_llama_3.1_8b_instruct</th>\n",
       "    </tr>\n",
       "  </thead>\n",
       "  <tbody>\n",
       "    <tr>\n",
       "      <th>2000</th>\n",
       "      <td>places_landmark</td>\n",
       "      <td>wh</td>\n",
       "      <td>Old Royal Naval College</td>\n",
       "      <td>architect</td>\n",
       "      <td>Christopher Wren</td>\n",
       "      <td>Who does Old Royal Naval College architect?</td>\n",
       "      <td>Christopher Wren</td>\n",
       "      <td>Christopher Wren.</td>\n",
       "      <td>1.0</td>\n",
       "    </tr>\n",
       "    <tr>\n",
       "      <th>2001</th>\n",
       "      <td>places_landmark</td>\n",
       "      <td>wh</td>\n",
       "      <td>Old Royal Naval College</td>\n",
       "      <td>country</td>\n",
       "      <td>United Kingdom</td>\n",
       "      <td>What is the country of Old Royal Naval College?</td>\n",
       "      <td>United Kingdom</td>\n",
       "      <td>United Kingdom.</td>\n",
       "      <td>1.0</td>\n",
       "    </tr>\n",
       "    <tr>\n",
       "      <th>2003</th>\n",
       "      <td>places_landmark</td>\n",
       "      <td>wh</td>\n",
       "      <td>Panathenaic Stadium</td>\n",
       "      <td>occupant</td>\n",
       "      <td>Hellenic Olympic Committee</td>\n",
       "      <td>What is the occupant of Panathenaic Stadium?</td>\n",
       "      <td>Hellenic Olympic Committee</td>\n",
       "      <td>Greek National Stadium.</td>\n",
       "      <td>1.0</td>\n",
       "    </tr>\n",
       "    <tr>\n",
       "      <th>2004</th>\n",
       "      <td>places_landmark</td>\n",
       "      <td>wh</td>\n",
       "      <td>Panathenaic Stadium</td>\n",
       "      <td>made from material</td>\n",
       "      <td>marble</td>\n",
       "      <td>What is the made from material of Panathenaic ...</td>\n",
       "      <td>marble</td>\n",
       "      <td>Pentelic marble.</td>\n",
       "      <td>1.0</td>\n",
       "    </tr>\n",
       "    <tr>\n",
       "      <th>2005</th>\n",
       "      <td>places_landmark</td>\n",
       "      <td>wh</td>\n",
       "      <td>Panathenaic Stadium</td>\n",
       "      <td>sponsor</td>\n",
       "      <td>Stavros Niarchos Foundation</td>\n",
       "      <td>What does Panathenaic Stadium sponsor?</td>\n",
       "      <td>Stavros Niarchos Foundation</td>\n",
       "      <td>Athletic events.</td>\n",
       "      <td>1.0</td>\n",
       "    </tr>\n",
       "    <tr>\n",
       "      <th>...</th>\n",
       "      <td>...</td>\n",
       "      <td>...</td>\n",
       "      <td>...</td>\n",
       "      <td>...</td>\n",
       "      <td>...</td>\n",
       "      <td>...</td>\n",
       "      <td>...</td>\n",
       "      <td>...</td>\n",
       "      <td>...</td>\n",
       "    </tr>\n",
       "    <tr>\n",
       "      <th>2492</th>\n",
       "      <td>places_landmark</td>\n",
       "      <td>wh</td>\n",
       "      <td>MUNCH</td>\n",
       "      <td>located in or next to body of water</td>\n",
       "      <td>Oslofjord</td>\n",
       "      <td>What is the located in or next to body of wate...</td>\n",
       "      <td>Oslofjord</td>\n",
       "      <td>Oslofjord.</td>\n",
       "      <td>1.0</td>\n",
       "    </tr>\n",
       "    <tr>\n",
       "      <th>2494</th>\n",
       "      <td>places_landmark</td>\n",
       "      <td>wh</td>\n",
       "      <td>MUNCH</td>\n",
       "      <td>replaces</td>\n",
       "      <td>Munch Museum</td>\n",
       "      <td>What does MUNCH replace?</td>\n",
       "      <td>Munch Museum</td>\n",
       "      <td>MUNCH replaces OMNISCIENT.</td>\n",
       "      <td>1.0</td>\n",
       "    </tr>\n",
       "    <tr>\n",
       "      <th>2496</th>\n",
       "      <td>places_landmark</td>\n",
       "      <td>wh</td>\n",
       "      <td>Bridget of Sweden</td>\n",
       "      <td>founded by</td>\n",
       "      <td>Vadstena Abbey</td>\n",
       "      <td>Which tourist attraction was founded by Bridge...</td>\n",
       "      <td>Vadstena Abbey</td>\n",
       "      <td>Birgitta Abbey.</td>\n",
       "      <td>1.0</td>\n",
       "    </tr>\n",
       "    <tr>\n",
       "      <th>2498</th>\n",
       "      <td>places_landmark</td>\n",
       "      <td>wh</td>\n",
       "      <td>St Mark's Campanile</td>\n",
       "      <td>has part(s)</td>\n",
       "      <td>St Mark's Basilica</td>\n",
       "      <td>Which tourist attraction has part(s) St Mark's...</td>\n",
       "      <td>St Mark's Basilica</td>\n",
       "      <td>St. Mark's Square.</td>\n",
       "      <td>1.0</td>\n",
       "    </tr>\n",
       "    <tr>\n",
       "      <th>2499</th>\n",
       "      <td>places_landmark</td>\n",
       "      <td>wh</td>\n",
       "      <td>Alcatraz Island</td>\n",
       "      <td>heritage designation</td>\n",
       "      <td>National Historic Landmark</td>\n",
       "      <td>What is the heritage designation of Alcatraz I...</td>\n",
       "      <td>National Historic Landmark</td>\n",
       "      <td>National Historic Landmark.</td>\n",
       "      <td>1.0</td>\n",
       "    </tr>\n",
       "  </tbody>\n",
       "</table>\n",
       "<p>321 rows × 9 columns</p>\n",
       "</div>"
      ],
      "text/plain": [
       "                topic type                  subject  \\\n",
       "2000  places_landmark   wh  Old Royal Naval College   \n",
       "2001  places_landmark   wh  Old Royal Naval College   \n",
       "2003  places_landmark   wh      Panathenaic Stadium   \n",
       "2004  places_landmark   wh      Panathenaic Stadium   \n",
       "2005  places_landmark   wh      Panathenaic Stadium   \n",
       "...               ...  ...                      ...   \n",
       "2492  places_landmark   wh                    MUNCH   \n",
       "2494  places_landmark   wh                    MUNCH   \n",
       "2496  places_landmark   wh        Bridget of Sweden   \n",
       "2498  places_landmark   wh      St Mark's Campanile   \n",
       "2499  places_landmark   wh          Alcatraz Island   \n",
       "\n",
       "                                 relation                       object  \\\n",
       "2000                            architect             Christopher Wren   \n",
       "2001                              country               United Kingdom   \n",
       "2003                             occupant   Hellenic Olympic Committee   \n",
       "2004                   made from material                       marble   \n",
       "2005                              sponsor  Stavros Niarchos Foundation   \n",
       "...                                   ...                          ...   \n",
       "2492  located in or next to body of water                    Oslofjord   \n",
       "2494                             replaces                 Munch Museum   \n",
       "2496                           founded by               Vadstena Abbey   \n",
       "2498                          has part(s)           St Mark's Basilica   \n",
       "2499                 heritage designation   National Historic Landmark   \n",
       "\n",
       "                                               question  \\\n",
       "2000        Who does Old Royal Naval College architect?   \n",
       "2001    What is the country of Old Royal Naval College?   \n",
       "2003       What is the occupant of Panathenaic Stadium?   \n",
       "2004  What is the made from material of Panathenaic ...   \n",
       "2005             What does Panathenaic Stadium sponsor?   \n",
       "...                                                 ...   \n",
       "2492  What is the located in or next to body of wate...   \n",
       "2494                           What does MUNCH replace?   \n",
       "2496  Which tourist attraction was founded by Bridge...   \n",
       "2498  Which tourist attraction has part(s) St Mark's...   \n",
       "2499  What is the heritage designation of Alcatraz I...   \n",
       "\n",
       "                            label output_meta_llama_3.1_8b_instruct  \\\n",
       "2000             Christopher Wren                 Christopher Wren.   \n",
       "2001               United Kingdom                   United Kingdom.   \n",
       "2003   Hellenic Olympic Committee           Greek National Stadium.   \n",
       "2004                       marble                  Pentelic marble.   \n",
       "2005  Stavros Niarchos Foundation                  Athletic events.   \n",
       "...                           ...                               ...   \n",
       "2492                    Oslofjord                        Oslofjord.   \n",
       "2494                 Munch Museum        MUNCH replaces OMNISCIENT.   \n",
       "2496               Vadstena Abbey                   Birgitta Abbey.   \n",
       "2498           St Mark's Basilica                St. Mark's Square.   \n",
       "2499   National Historic Landmark       National Historic Landmark.   \n",
       "\n",
       "      eval_meta_llama_3.1_8b_instruct  \n",
       "2000                              1.0  \n",
       "2001                              1.0  \n",
       "2003                              1.0  \n",
       "2004                              1.0  \n",
       "2005                              1.0  \n",
       "...                               ...  \n",
       "2492                              1.0  \n",
       "2494                              1.0  \n",
       "2496                              1.0  \n",
       "2498                              1.0  \n",
       "2499                              1.0  \n",
       "\n",
       "[321 rows x 9 columns]"
      ]
     },
     "metadata": {},
     "output_type": "display_data"
    }
   ],
   "source": [
    "domain_topic_name = 'places_landmark'\n",
    "df_wh = pd.read_csv(f\"../data/questions/wh_only/all_topics_{model_id_format}.csv\")\n",
    "df_wh = df_wh[df_wh.topic == domain_topic_name]\n",
    "\n",
    "system_msg_eval = \"\"\"Given a question, a label, and a prediction, evaluate the correctness of the prediction compared to the label. \\\n",
    "Output '1' if they have similar semantic meanings, are synonyms, or if one is a more specific or general version of the other. Otherwise, output '0'. \\\n",
    "Only output the final evaluation as a single word. Do not repeat the question or provide an explanation.\"\"\"\n",
    "\n",
    "wh_count = 0\n",
    "wh_correct = 0\n",
    "for i in df_wh.index[:]:\n",
    "    question, label, output_qa = df_wh.loc[i, 'question'], df_wh.loc[i, 'label'], df_wh.loc[i, f\"output_{model_id_format}\"]\n",
    "    prompt_eval = f\"\"\"question: {question} \\nlabel: {label} \\nprediction: {output_qa}\\n\"\"\"\n",
    "    eval_res = 0\n",
    "    wh_count += 1 \n",
    "\n",
    "    if output_qa.lower() in label.lower() or label.lower() in output_qa.lower():  # Rule-basd fuzzy match\n",
    "        wh_correct += 1\n",
    "        eval_res = 1\n",
    "    else:\n",
    "        \n",
    "        messages_eval = [{\"role\": \"system\", \"content\": system_msg_eval}, {\"role\": \"user\", \"content\": user_msg_eval}]\n",
    "        response_eval = get_response(model_eval, tok_eval, messages_eval)\n",
    "        if response_eval == '1':\n",
    "            wh_correct += 1\n",
    "            eval_res = 1\n",
    "            \n",
    "    df_wh.loc[i, f\"eval_{model_id_format}\"] = eval_res\n",
    "    \n",
    "print(f\"The wh question accuracy of the language model is {wh_correct / wh_count}\")\n",
    "# if not os.path.exists(f\"../data/questions/wh_only/hallucination_only/{model_id_format}\"):\n",
    "#     os.makedirs(f\"../data/questions/wh_only/hallucination_only/{model_id_format}\")\n",
    "df_wh[df_wh[f\"eval_{model_id_format}\"] == 0].to_csv(f\"../data/questions/wh_only/hallucination_only/{model_id_format}.csv\", index=False)\n",
    "df_wh[df_wh[f\"eval_{model_id_format}\"] == 1]\n",
    "# The wh question accuracy of the language model is 0.656"
   ]
  },
  {
   "cell_type": "code",
   "execution_count": 7,
   "metadata": {},
   "outputs": [
    {
     "name": "stderr",
     "output_type": "stream",
     "text": [
      "/home/baix/anaconda3/envs/env24may/lib/python3.9/site-packages/transformers/generation/configuration_utils.py:515: UserWarning: `do_sample` is set to `False`. However, `temperature` is set to `0.6` -- this flag is only used in sample-based generation modes. You should set `do_sample=True` or unset `temperature`.\n",
      "  warnings.warn(\n",
      "/home/baix/anaconda3/envs/env24may/lib/python3.9/site-packages/transformers/generation/configuration_utils.py:520: UserWarning: `do_sample` is set to `False`. However, `top_p` is set to `0.9` -- this flag is only used in sample-based generation modes. You should set `do_sample=True` or unset `top_p`.\n",
      "  warnings.warn(\n"
     ]
    },
    {
     "name": "stdout",
     "output_type": "stream",
     "text": [
      "[GPT] The wh question accuracy of the language model is 0.732\n"
     ]
    },
    {
     "data": {
      "text/html": [
       "<div>\n",
       "<style scoped>\n",
       "    .dataframe tbody tr th:only-of-type {\n",
       "        vertical-align: middle;\n",
       "    }\n",
       "\n",
       "    .dataframe tbody tr th {\n",
       "        vertical-align: top;\n",
       "    }\n",
       "\n",
       "    .dataframe thead th {\n",
       "        text-align: right;\n",
       "    }\n",
       "</style>\n",
       "<table border=\"1\" class=\"dataframe\">\n",
       "  <thead>\n",
       "    <tr style=\"text-align: right;\">\n",
       "      <th></th>\n",
       "      <th>type</th>\n",
       "      <th>subject</th>\n",
       "      <th>relation</th>\n",
       "      <th>object</th>\n",
       "      <th>question</th>\n",
       "      <th>label</th>\n",
       "      <th>output_meta-llama/Meta-Llama-3-8B-Instruct</th>\n",
       "      <th>eval_meta_llama_3_8b_instruct</th>\n",
       "    </tr>\n",
       "  </thead>\n",
       "  <tbody>\n",
       "    <tr>\n",
       "      <th>0</th>\n",
       "      <td>wh</td>\n",
       "      <td>Ontario</td>\n",
       "      <td>located in the administrative territorial entity</td>\n",
       "      <td>Niagara Falls</td>\n",
       "      <td>Which tourist attraction's located in the admi...</td>\n",
       "      <td>Niagara Falls</td>\n",
       "      <td>Niagara Falls</td>\n",
       "      <td>1.0</td>\n",
       "    </tr>\n",
       "    <tr>\n",
       "      <th>1</th>\n",
       "      <td>wh</td>\n",
       "      <td>Alexandrov Kremlin</td>\n",
       "      <td>country</td>\n",
       "      <td>Russia</td>\n",
       "      <td>What is the country of Alexandrov Kremlin?</td>\n",
       "      <td>Russia</td>\n",
       "      <td>Russia</td>\n",
       "      <td>1.0</td>\n",
       "    </tr>\n",
       "    <tr>\n",
       "      <th>2</th>\n",
       "      <td>wh</td>\n",
       "      <td>Alexandrov Kremlin</td>\n",
       "      <td>located in the administrative territorial entity</td>\n",
       "      <td>Alexandrov</td>\n",
       "      <td>Who is the located in the administrative terri...</td>\n",
       "      <td>Alexandrov</td>\n",
       "      <td>Alexandrov</td>\n",
       "      <td>1.0</td>\n",
       "    </tr>\n",
       "    <tr>\n",
       "      <th>3</th>\n",
       "      <td>wh</td>\n",
       "      <td>Bukit Panjang</td>\n",
       "      <td>located in the administrative territorial entity</td>\n",
       "      <td>Bukit Timah Nature Reserve</td>\n",
       "      <td>Which tourist attraction's located in the admi...</td>\n",
       "      <td>Bukit Timah Nature Reserve</td>\n",
       "      <td>Haw Par Villa</td>\n",
       "      <td>0.0</td>\n",
       "    </tr>\n",
       "    <tr>\n",
       "      <th>4</th>\n",
       "      <td>wh</td>\n",
       "      <td>Kastelholm Castle</td>\n",
       "      <td>country</td>\n",
       "      <td>Finland</td>\n",
       "      <td>What is the country of Kastelholm Castle?</td>\n",
       "      <td>Finland</td>\n",
       "      <td>Finland</td>\n",
       "      <td>1.0</td>\n",
       "    </tr>\n",
       "    <tr>\n",
       "      <th>...</th>\n",
       "      <td>...</td>\n",
       "      <td>...</td>\n",
       "      <td>...</td>\n",
       "      <td>...</td>\n",
       "      <td>...</td>\n",
       "      <td>...</td>\n",
       "      <td>...</td>\n",
       "      <td>...</td>\n",
       "    </tr>\n",
       "    <tr>\n",
       "      <th>495</th>\n",
       "      <td>wh</td>\n",
       "      <td>Thornton Tomasetti</td>\n",
       "      <td>structural engineer</td>\n",
       "      <td>Petronas Towers</td>\n",
       "      <td>Which tourist attraction's structural engineer...</td>\n",
       "      <td>Petronas Towers</td>\n",
       "      <td>One World Trade</td>\n",
       "      <td>0.0</td>\n",
       "    </tr>\n",
       "    <tr>\n",
       "      <th>496</th>\n",
       "      <td>wh</td>\n",
       "      <td>Charles II of England</td>\n",
       "      <td>occupant</td>\n",
       "      <td>Windsor Castle</td>\n",
       "      <td>Which tourist attraction's occupant is Charles...</td>\n",
       "      <td>Windsor Castle</td>\n",
       "      <td>Westminster Abbey</td>\n",
       "      <td>1.0</td>\n",
       "    </tr>\n",
       "    <tr>\n",
       "      <th>497</th>\n",
       "      <td>wh</td>\n",
       "      <td>Charles II of England</td>\n",
       "      <td>founded by</td>\n",
       "      <td>Royal Observatory</td>\n",
       "      <td>Which tourist attraction was founded by Charle...</td>\n",
       "      <td>Royal Observatory</td>\n",
       "      <td>St. Paul's</td>\n",
       "      <td>0.0</td>\n",
       "    </tr>\n",
       "    <tr>\n",
       "      <th>498</th>\n",
       "      <td>wh</td>\n",
       "      <td>Gateway Arch</td>\n",
       "      <td>located in protected area</td>\n",
       "      <td>Gateway Arch National Park</td>\n",
       "      <td>What is the located in protected area of Gatew...</td>\n",
       "      <td>Gateway Arch National Park</td>\n",
       "      <td>Jefferson National Park</td>\n",
       "      <td>1.0</td>\n",
       "    </tr>\n",
       "    <tr>\n",
       "      <th>499</th>\n",
       "      <td>wh</td>\n",
       "      <td>Gateway Arch</td>\n",
       "      <td>heritage designation</td>\n",
       "      <td>National Historic Landmark</td>\n",
       "      <td>What is the heritage designation of Gateway Arch?</td>\n",
       "      <td>National Historic Landmark</td>\n",
       "      <td>National</td>\n",
       "      <td>1.0</td>\n",
       "    </tr>\n",
       "  </tbody>\n",
       "</table>\n",
       "<p>500 rows × 8 columns</p>\n",
       "</div>"
      ],
      "text/plain": [
       "    type                subject  \\\n",
       "0     wh                Ontario   \n",
       "1     wh     Alexandrov Kremlin   \n",
       "2     wh     Alexandrov Kremlin   \n",
       "3     wh          Bukit Panjang   \n",
       "4     wh      Kastelholm Castle   \n",
       "..   ...                    ...   \n",
       "495   wh     Thornton Tomasetti   \n",
       "496   wh  Charles II of England   \n",
       "497   wh  Charles II of England   \n",
       "498   wh           Gateway Arch   \n",
       "499   wh           Gateway Arch   \n",
       "\n",
       "                                             relation  \\\n",
       "0    located in the administrative territorial entity   \n",
       "1                                             country   \n",
       "2    located in the administrative territorial entity   \n",
       "3    located in the administrative territorial entity   \n",
       "4                                             country   \n",
       "..                                                ...   \n",
       "495                               structural engineer   \n",
       "496                                          occupant   \n",
       "497                                        founded by   \n",
       "498                         located in protected area   \n",
       "499                              heritage designation   \n",
       "\n",
       "                         object  \\\n",
       "0                 Niagara Falls   \n",
       "1                        Russia   \n",
       "2                    Alexandrov   \n",
       "3    Bukit Timah Nature Reserve   \n",
       "4                       Finland   \n",
       "..                          ...   \n",
       "495             Petronas Towers   \n",
       "496              Windsor Castle   \n",
       "497           Royal Observatory   \n",
       "498  Gateway Arch National Park   \n",
       "499  National Historic Landmark   \n",
       "\n",
       "                                              question  \\\n",
       "0    Which tourist attraction's located in the admi...   \n",
       "1           What is the country of Alexandrov Kremlin?   \n",
       "2    Who is the located in the administrative terri...   \n",
       "3    Which tourist attraction's located in the admi...   \n",
       "4            What is the country of Kastelholm Castle?   \n",
       "..                                                 ...   \n",
       "495  Which tourist attraction's structural engineer...   \n",
       "496  Which tourist attraction's occupant is Charles...   \n",
       "497  Which tourist attraction was founded by Charle...   \n",
       "498  What is the located in protected area of Gatew...   \n",
       "499  What is the heritage designation of Gateway Arch?   \n",
       "\n",
       "                          label output_meta-llama/Meta-Llama-3-8B-Instruct  \\\n",
       "0                 Niagara Falls                              Niagara Falls   \n",
       "1                        Russia                                     Russia   \n",
       "2                    Alexandrov                                 Alexandrov   \n",
       "3    Bukit Timah Nature Reserve                              Haw Par Villa   \n",
       "4                       Finland                                    Finland   \n",
       "..                          ...                                        ...   \n",
       "495             Petronas Towers                            One World Trade   \n",
       "496              Windsor Castle                          Westminster Abbey   \n",
       "497           Royal Observatory                                 St. Paul's   \n",
       "498  Gateway Arch National Park                    Jefferson National Park   \n",
       "499  National Historic Landmark                                   National   \n",
       "\n",
       "     eval_meta_llama_3_8b_instruct  \n",
       "0                              1.0  \n",
       "1                              1.0  \n",
       "2                              1.0  \n",
       "3                              0.0  \n",
       "4                              1.0  \n",
       "..                             ...  \n",
       "495                            0.0  \n",
       "496                            1.0  \n",
       "497                            0.0  \n",
       "498                            1.0  \n",
       "499                            1.0  \n",
       "\n",
       "[500 rows x 8 columns]"
      ]
     },
     "execution_count": 7,
     "metadata": {},
     "output_type": "execute_result"
    }
   ],
   "source": [
    "# May output other than 0 or 1\n",
    "# system_msg_eval = \"\"\"Given a question, a correct answer, and a prediction, evaluate if the prediction and the correct answer match semantically. \\\n",
    "# Output '1' if they have similar meanings, are synonyms, or if one is a more specific or general version of the other. Otherwise, output '0'.\"\"\"\n",
    "\n",
    "system_msg_eval = \"\"\"Given a question, a correct answer, and a prediction, evaluate whether the prediction and the correct answer match semantically. \\\n",
    "Output '1' if they convey similar meanings, including when the prediction is more specific, more general, or a synonym of the correct answer. Otherwise, output '0'.\"\"\"\n",
    "\n",
    "wh_count = 0\n",
    "wh_correct = 0\n",
    "for i in df_wh.index[:]:\n",
    "    question, label, output = df_wh.loc[i, 'question'], df_wh.loc[i, 'label'], df_wh.loc[i, f\"output_{model_id}\"]\n",
    "    prompt_eval = f\"\"\"The inputs are given as below: \\nquestion: {question} \\n\\ncorrect answer: {label} \\n\\nprediction: {output}\\n\"\"\"\n",
    "\n",
    "    eval_res = 0\n",
    "    wh_count += 1\n",
    "\n",
    "    if output.lower() in label.lower() or label.lower() in output.lower():  # Rule-basd fuzzy match\n",
    "        wh_correct += 1\n",
    "        eval_res = 1\n",
    "    else:\n",
    "        messages = [{\"role\": \"system\", \"content\": system_msg_eval}, {\"role\": \"user\", \"content\": prompt_eval+\" Only output '1' or '0'.\"}]\n",
    "        msg_tokenized = tok.apply_chat_template(messages, add_generation_prompt=True, return_tensors='pt')\n",
    "        output_ids = model_eval.generate(msg_tokenized.to(device_eval), max_new_tokens=1, eos_token_id=terminators, do_sample=False, pad_token_id=tok.eos_token_id)\n",
    "        response_str = tok.decode(output_ids[0][msg_tokenized.shape[-1]:], skip_special_tokens=True)\n",
    "\n",
    "        if response_str == '1':\n",
    "            wh_correct += 1\n",
    "            eval_res = 1\n",
    "            \n",
    "    df_wh.loc[i, f\"eval_{model_id_format}\"] = eval_res\n",
    "print(f\"[GPT] The wh question accuracy of the language model is {wh_correct / wh_count}\")\n",
    "df_wh[df_wh[f\"eval_{model_id_format}\"] == 0].to_csv(f\"../data/questions/wh_only/hallucination_only/{domain_topic_name}_{model_id_format}_eval.csv\", index=False)\n",
    "df_wh[df_wh[f\"eval_{model_id_format}\"] == 1]"
   ]
  },
  {
   "cell_type": "code",
   "execution_count": 16,
   "metadata": {},
   "outputs": [
    {
     "name": "stdout",
     "output_type": "stream",
     "text": [
      "[Sentence Transformer] The wh question accuracy of the language model is 0.418\n"
     ]
    }
   ],
   "source": [
    "from sentence_transformers import SentenceTransformer, util\n",
    "\n",
    "ls_label = df_wh.label.tolist()\n",
    "\n",
    "wh_count = 0\n",
    "wh_correct = 0\n",
    "model_name = 'paraphrase-MiniLM-L6-v2'\n",
    "model = SentenceTransformer(model_name)\n",
    "for i in df_wh.index[:]:\n",
    "    question, label = df_wh.loc[i, 'question'], df_wh.loc[i, 'label']\n",
    "    output = df_wh.loc[i, f\"output_{model_id}\"]\n",
    "    flag = False\n",
    "\n",
    "    wh_count += 1\n",
    "    embeddings = model.encode([label, output])\n",
    "    similarity_score = util.cos_sim(embeddings[0], embeddings[1])\n",
    "    threshold = 0.6\n",
    "    if similarity_score >= threshold:\n",
    "        wh_correct += 1\n",
    "        flag = True\n",
    "        \n",
    "wh_acc_dict = {\"wh_accuracy\": wh_correct/wh_count}\n",
    "print(f\"[Sentence Transformer] The wh question accuracy of the language model is {wh_correct / wh_count}\")"
   ]
  },
  {
   "cell_type": "code",
   "execution_count": 18,
   "metadata": {},
   "outputs": [
    {
     "name": "stderr",
     "output_type": "stream",
     "text": [
      "huggingface/tokenizers: The current process just got forked, after parallelism has already been used. Disabling parallelism to avoid deadlocks...\n",
      "To disable this warning, you can either:\n",
      "\t- Avoid using `tokenizers` before the fork if possible\n",
      "\t- Explicitly set the environment variable TOKENIZERS_PARALLELISM=(true | false)\n"
     ]
    },
    {
     "name": "stdout",
     "output_type": "stream",
     "text": [
      "[GPT] The wh question accuracy of the language model is 0.694\n"
     ]
    },
    {
     "data": {
      "text/html": [
       "<div>\n",
       "<style scoped>\n",
       "    .dataframe tbody tr th:only-of-type {\n",
       "        vertical-align: middle;\n",
       "    }\n",
       "\n",
       "    .dataframe tbody tr th {\n",
       "        vertical-align: top;\n",
       "    }\n",
       "\n",
       "    .dataframe thead th {\n",
       "        text-align: right;\n",
       "    }\n",
       "</style>\n",
       "<table border=\"1\" class=\"dataframe\">\n",
       "  <thead>\n",
       "    <tr style=\"text-align: right;\">\n",
       "      <th></th>\n",
       "      <th>type</th>\n",
       "      <th>subject</th>\n",
       "      <th>relation</th>\n",
       "      <th>object</th>\n",
       "      <th>question</th>\n",
       "      <th>label</th>\n",
       "      <th>output_meta-llama/Meta-Llama-3-8B-Instruct</th>\n",
       "      <th>eval_meta-llama/Meta-Llama-3-8B-Instruct</th>\n",
       "    </tr>\n",
       "  </thead>\n",
       "  <tbody>\n",
       "    <tr>\n",
       "      <th>1000</th>\n",
       "      <td>wh</td>\n",
       "      <td>Ontario</td>\n",
       "      <td>located in the administrative territorial entity</td>\n",
       "      <td>Niagara Falls</td>\n",
       "      <td>Which tourist attraction's located in the admi...</td>\n",
       "      <td>Niagara Falls</td>\n",
       "      <td>Niagara Falls</td>\n",
       "      <td>1.0</td>\n",
       "    </tr>\n",
       "    <tr>\n",
       "      <th>1001</th>\n",
       "      <td>wh</td>\n",
       "      <td>Alexandrov Kremlin</td>\n",
       "      <td>country</td>\n",
       "      <td>Russia</td>\n",
       "      <td>What is the country of Alexandrov Kremlin?</td>\n",
       "      <td>Russia</td>\n",
       "      <td>Russia</td>\n",
       "      <td>1.0</td>\n",
       "    </tr>\n",
       "    <tr>\n",
       "      <th>1002</th>\n",
       "      <td>wh</td>\n",
       "      <td>Alexandrov Kremlin</td>\n",
       "      <td>located in the administrative territorial entity</td>\n",
       "      <td>Alexandrov</td>\n",
       "      <td>Who is the located in the administrative terri...</td>\n",
       "      <td>Alexandrov</td>\n",
       "      <td>Alexandrov</td>\n",
       "      <td>1.0</td>\n",
       "    </tr>\n",
       "    <tr>\n",
       "      <th>1003</th>\n",
       "      <td>wh</td>\n",
       "      <td>Bukit Panjang</td>\n",
       "      <td>located in the administrative territorial entity</td>\n",
       "      <td>Bukit Timah Nature Reserve</td>\n",
       "      <td>Which tourist attraction's located in the admi...</td>\n",
       "      <td>Bukit Timah Nature Reserve</td>\n",
       "      <td>Haw Par Villa</td>\n",
       "      <td>0.0</td>\n",
       "    </tr>\n",
       "    <tr>\n",
       "      <th>1004</th>\n",
       "      <td>wh</td>\n",
       "      <td>Kastelholm Castle</td>\n",
       "      <td>country</td>\n",
       "      <td>Finland</td>\n",
       "      <td>What is the country of Kastelholm Castle?</td>\n",
       "      <td>Finland</td>\n",
       "      <td>Finland</td>\n",
       "      <td>1.0</td>\n",
       "    </tr>\n",
       "    <tr>\n",
       "      <th>...</th>\n",
       "      <td>...</td>\n",
       "      <td>...</td>\n",
       "      <td>...</td>\n",
       "      <td>...</td>\n",
       "      <td>...</td>\n",
       "      <td>...</td>\n",
       "      <td>...</td>\n",
       "      <td>...</td>\n",
       "    </tr>\n",
       "    <tr>\n",
       "      <th>1495</th>\n",
       "      <td>wh</td>\n",
       "      <td>Thornton Tomasetti</td>\n",
       "      <td>structural engineer</td>\n",
       "      <td>Petronas Towers</td>\n",
       "      <td>Which tourist attraction's structural engineer...</td>\n",
       "      <td>Petronas Towers</td>\n",
       "      <td>One World Trade</td>\n",
       "      <td>0.0</td>\n",
       "    </tr>\n",
       "    <tr>\n",
       "      <th>1496</th>\n",
       "      <td>wh</td>\n",
       "      <td>Charles II of England</td>\n",
       "      <td>occupant</td>\n",
       "      <td>Windsor Castle</td>\n",
       "      <td>Which tourist attraction's occupant is Charles...</td>\n",
       "      <td>Windsor Castle</td>\n",
       "      <td>Westminster Abbey</td>\n",
       "      <td>0.0</td>\n",
       "    </tr>\n",
       "    <tr>\n",
       "      <th>1497</th>\n",
       "      <td>wh</td>\n",
       "      <td>Charles II of England</td>\n",
       "      <td>founded by</td>\n",
       "      <td>Royal Observatory</td>\n",
       "      <td>Which tourist attraction was founded by Charle...</td>\n",
       "      <td>Royal Observatory</td>\n",
       "      <td>St. Paul's</td>\n",
       "      <td>0.0</td>\n",
       "    </tr>\n",
       "    <tr>\n",
       "      <th>1498</th>\n",
       "      <td>wh</td>\n",
       "      <td>Gateway Arch</td>\n",
       "      <td>located in protected area</td>\n",
       "      <td>Gateway Arch National Park</td>\n",
       "      <td>What is the located in protected area of Gatew...</td>\n",
       "      <td>Gateway Arch National Park</td>\n",
       "      <td>Jefferson National Park</td>\n",
       "      <td>1.0</td>\n",
       "    </tr>\n",
       "    <tr>\n",
       "      <th>1499</th>\n",
       "      <td>wh</td>\n",
       "      <td>Gateway Arch</td>\n",
       "      <td>heritage designation</td>\n",
       "      <td>National Historic Landmark</td>\n",
       "      <td>What is the heritage designation of Gateway Arch?</td>\n",
       "      <td>National Historic Landmark</td>\n",
       "      <td>National</td>\n",
       "      <td>1.0</td>\n",
       "    </tr>\n",
       "  </tbody>\n",
       "</table>\n",
       "<p>500 rows × 8 columns</p>\n",
       "</div>"
      ],
      "text/plain": [
       "     type                subject  \\\n",
       "1000   wh                Ontario   \n",
       "1001   wh     Alexandrov Kremlin   \n",
       "1002   wh     Alexandrov Kremlin   \n",
       "1003   wh          Bukit Panjang   \n",
       "1004   wh      Kastelholm Castle   \n",
       "...   ...                    ...   \n",
       "1495   wh     Thornton Tomasetti   \n",
       "1496   wh  Charles II of England   \n",
       "1497   wh  Charles II of England   \n",
       "1498   wh           Gateway Arch   \n",
       "1499   wh           Gateway Arch   \n",
       "\n",
       "                                              relation  \\\n",
       "1000  located in the administrative territorial entity   \n",
       "1001                                           country   \n",
       "1002  located in the administrative territorial entity   \n",
       "1003  located in the administrative territorial entity   \n",
       "1004                                           country   \n",
       "...                                                ...   \n",
       "1495                               structural engineer   \n",
       "1496                                          occupant   \n",
       "1497                                        founded by   \n",
       "1498                         located in protected area   \n",
       "1499                              heritage designation   \n",
       "\n",
       "                          object  \\\n",
       "1000               Niagara Falls   \n",
       "1001                      Russia   \n",
       "1002                  Alexandrov   \n",
       "1003  Bukit Timah Nature Reserve   \n",
       "1004                     Finland   \n",
       "...                          ...   \n",
       "1495             Petronas Towers   \n",
       "1496              Windsor Castle   \n",
       "1497           Royal Observatory   \n",
       "1498  Gateway Arch National Park   \n",
       "1499  National Historic Landmark   \n",
       "\n",
       "                                               question  \\\n",
       "1000  Which tourist attraction's located in the admi...   \n",
       "1001         What is the country of Alexandrov Kremlin?   \n",
       "1002  Who is the located in the administrative terri...   \n",
       "1003  Which tourist attraction's located in the admi...   \n",
       "1004          What is the country of Kastelholm Castle?   \n",
       "...                                                 ...   \n",
       "1495  Which tourist attraction's structural engineer...   \n",
       "1496  Which tourist attraction's occupant is Charles...   \n",
       "1497  Which tourist attraction was founded by Charle...   \n",
       "1498  What is the located in protected area of Gatew...   \n",
       "1499  What is the heritage designation of Gateway Arch?   \n",
       "\n",
       "                           label output_meta-llama/Meta-Llama-3-8B-Instruct  \\\n",
       "1000               Niagara Falls                              Niagara Falls   \n",
       "1001                      Russia                                     Russia   \n",
       "1002                  Alexandrov                                 Alexandrov   \n",
       "1003  Bukit Timah Nature Reserve                              Haw Par Villa   \n",
       "1004                     Finland                                    Finland   \n",
       "...                          ...                                        ...   \n",
       "1495             Petronas Towers                            One World Trade   \n",
       "1496              Windsor Castle                          Westminster Abbey   \n",
       "1497           Royal Observatory                                 St. Paul's   \n",
       "1498  Gateway Arch National Park                    Jefferson National Park   \n",
       "1499  National Historic Landmark                                   National   \n",
       "\n",
       "      eval_meta-llama/Meta-Llama-3-8B-Instruct  \n",
       "1000                                       1.0  \n",
       "1001                                       1.0  \n",
       "1002                                       1.0  \n",
       "1003                                       0.0  \n",
       "1004                                       1.0  \n",
       "...                                        ...  \n",
       "1495                                       0.0  \n",
       "1496                                       0.0  \n",
       "1497                                       0.0  \n",
       "1498                                       1.0  \n",
       "1499                                       1.0  \n",
       "\n",
       "[500 rows x 8 columns]"
      ]
     },
     "execution_count": 18,
     "metadata": {},
     "output_type": "execute_result"
    }
   ],
   "source": [
    "llm_name = 'gpt-35-turbo'\n",
    "\n",
    "wh_count = 0\n",
    "wh_correct = 0\n",
    "for i in df_wh.index[:]:\n",
    "    question, label = df_wh.loc[i, 'question'], df_wh.loc[i, 'label']\n",
    "    output = df_wh.loc[i, f\"output_{model_id}\"]\n",
    "    \n",
    "    info = \"Question: \"+question+ \"\\nModel Answer: \"+label + \"\\nAI model generated answer: \" + output \\\n",
    "        + \"\\n. The above question's topic is \" + domain_topic_name  + \". \"\n",
    "    string = \"\"\"\\n Please evaluate the correctness of the AI model's answer compared to the model answer. \n",
    "        Consider the following criteria and provide your judgment:\n",
    "        If the AI's answer is a more specific version of the model answer, please respond with: \"Correct\"\n",
    "        If the AI's answer is a more general version of the model answer, please respond with: \"Correct\".\n",
    "        If the AI's answer is a closely related to the model answer, please respond with: \"Correct\".\n",
    "        If the AI's answer and the model answer are entirely different entities with no direct relationship, please respond with: \"Incorrect\".\n",
    "        \"\"\"\n",
    "\n",
    "    wh_count += 1\n",
    "    raw_response = client.chat.completions.create(\n",
    "        model=llm_name, \n",
    "        messages=[{\"role\": \"system\", \"content\": \"\"}, {\"role\": \"user\", \"content\": info + string}], \n",
    "        temperature=0\n",
    "    )\n",
    "    response_str = raw_response.choices[0].message.content.strip().replace('\\n\\n\\n', '\\n\\n')\n",
    "    # response_str\n",
    "\n",
    "    if response_str and response_str.rstrip('.') == \"Correct\":\n",
    "        wh_correct += 1\n",
    "        df_wh.loc[i, f\"eval_{model_id}\"] = 1\n",
    "    else:\n",
    "        df_wh.loc[i, f\"eval_{model_id}\"] = 0\n",
    "print(f\"[GPT] The wh question accuracy of the language model is {wh_correct / wh_count}\")\n",
    "df_wh"
   ]
  },
  {
   "cell_type": "code",
   "execution_count": 19,
   "metadata": {},
   "outputs": [
    {
     "name": "stdout",
     "output_type": "stream",
     "text": [
      "[GPT] The wh question accuracy of the language model is 0.252\n"
     ]
    },
    {
     "data": {
      "text/html": [
       "<div>\n",
       "<style scoped>\n",
       "    .dataframe tbody tr th:only-of-type {\n",
       "        vertical-align: middle;\n",
       "    }\n",
       "\n",
       "    .dataframe tbody tr th {\n",
       "        vertical-align: top;\n",
       "    }\n",
       "\n",
       "    .dataframe thead th {\n",
       "        text-align: right;\n",
       "    }\n",
       "</style>\n",
       "<table border=\"1\" class=\"dataframe\">\n",
       "  <thead>\n",
       "    <tr style=\"text-align: right;\">\n",
       "      <th></th>\n",
       "      <th>type</th>\n",
       "      <th>subject</th>\n",
       "      <th>relation</th>\n",
       "      <th>object</th>\n",
       "      <th>question</th>\n",
       "      <th>label</th>\n",
       "      <th>output_meta-llama/Meta-Llama-3-8B-Instruct</th>\n",
       "      <th>eval_meta-llama/Meta-Llama-3-8B-Instruct</th>\n",
       "    </tr>\n",
       "  </thead>\n",
       "  <tbody>\n",
       "    <tr>\n",
       "      <th>1000</th>\n",
       "      <td>wh</td>\n",
       "      <td>Ontario</td>\n",
       "      <td>located in the administrative territorial entity</td>\n",
       "      <td>Niagara Falls</td>\n",
       "      <td>Which tourist attraction's located in the admi...</td>\n",
       "      <td>Niagara Falls</td>\n",
       "      <td>Niagara Falls</td>\n",
       "      <td>1.0</td>\n",
       "    </tr>\n",
       "    <tr>\n",
       "      <th>1001</th>\n",
       "      <td>wh</td>\n",
       "      <td>Alexandrov Kremlin</td>\n",
       "      <td>country</td>\n",
       "      <td>Russia</td>\n",
       "      <td>What is the country of Alexandrov Kremlin?</td>\n",
       "      <td>Russia</td>\n",
       "      <td>Russia</td>\n",
       "      <td>1.0</td>\n",
       "    </tr>\n",
       "    <tr>\n",
       "      <th>1002</th>\n",
       "      <td>wh</td>\n",
       "      <td>Alexandrov Kremlin</td>\n",
       "      <td>located in the administrative territorial entity</td>\n",
       "      <td>Alexandrov</td>\n",
       "      <td>Who is the located in the administrative terri...</td>\n",
       "      <td>Alexandrov</td>\n",
       "      <td>Alexandrov</td>\n",
       "      <td>1.0</td>\n",
       "    </tr>\n",
       "    <tr>\n",
       "      <th>1003</th>\n",
       "      <td>wh</td>\n",
       "      <td>Bukit Panjang</td>\n",
       "      <td>located in the administrative territorial entity</td>\n",
       "      <td>Bukit Timah Nature Reserve</td>\n",
       "      <td>Which tourist attraction's located in the admi...</td>\n",
       "      <td>Bukit Timah Nature Reserve</td>\n",
       "      <td>Haw Par Villa</td>\n",
       "      <td>0.0</td>\n",
       "    </tr>\n",
       "    <tr>\n",
       "      <th>1004</th>\n",
       "      <td>wh</td>\n",
       "      <td>Kastelholm Castle</td>\n",
       "      <td>country</td>\n",
       "      <td>Finland</td>\n",
       "      <td>What is the country of Kastelholm Castle?</td>\n",
       "      <td>Finland</td>\n",
       "      <td>Finland</td>\n",
       "      <td>1.0</td>\n",
       "    </tr>\n",
       "    <tr>\n",
       "      <th>...</th>\n",
       "      <td>...</td>\n",
       "      <td>...</td>\n",
       "      <td>...</td>\n",
       "      <td>...</td>\n",
       "      <td>...</td>\n",
       "      <td>...</td>\n",
       "      <td>...</td>\n",
       "      <td>...</td>\n",
       "    </tr>\n",
       "    <tr>\n",
       "      <th>1495</th>\n",
       "      <td>wh</td>\n",
       "      <td>Thornton Tomasetti</td>\n",
       "      <td>structural engineer</td>\n",
       "      <td>Petronas Towers</td>\n",
       "      <td>Which tourist attraction's structural engineer...</td>\n",
       "      <td>Petronas Towers</td>\n",
       "      <td>One World Trade</td>\n",
       "      <td>0.0</td>\n",
       "    </tr>\n",
       "    <tr>\n",
       "      <th>1496</th>\n",
       "      <td>wh</td>\n",
       "      <td>Charles II of England</td>\n",
       "      <td>occupant</td>\n",
       "      <td>Windsor Castle</td>\n",
       "      <td>Which tourist attraction's occupant is Charles...</td>\n",
       "      <td>Windsor Castle</td>\n",
       "      <td>Westminster Abbey</td>\n",
       "      <td>0.0</td>\n",
       "    </tr>\n",
       "    <tr>\n",
       "      <th>1497</th>\n",
       "      <td>wh</td>\n",
       "      <td>Charles II of England</td>\n",
       "      <td>founded by</td>\n",
       "      <td>Royal Observatory</td>\n",
       "      <td>Which tourist attraction was founded by Charle...</td>\n",
       "      <td>Royal Observatory</td>\n",
       "      <td>St. Paul's</td>\n",
       "      <td>0.0</td>\n",
       "    </tr>\n",
       "    <tr>\n",
       "      <th>1498</th>\n",
       "      <td>wh</td>\n",
       "      <td>Gateway Arch</td>\n",
       "      <td>located in protected area</td>\n",
       "      <td>Gateway Arch National Park</td>\n",
       "      <td>What is the located in protected area of Gatew...</td>\n",
       "      <td>Gateway Arch National Park</td>\n",
       "      <td>Jefferson National Park</td>\n",
       "      <td>0.0</td>\n",
       "    </tr>\n",
       "    <tr>\n",
       "      <th>1499</th>\n",
       "      <td>wh</td>\n",
       "      <td>Gateway Arch</td>\n",
       "      <td>heritage designation</td>\n",
       "      <td>National Historic Landmark</td>\n",
       "      <td>What is the heritage designation of Gateway Arch?</td>\n",
       "      <td>National Historic Landmark</td>\n",
       "      <td>National</td>\n",
       "      <td>0.0</td>\n",
       "    </tr>\n",
       "  </tbody>\n",
       "</table>\n",
       "<p>500 rows × 8 columns</p>\n",
       "</div>"
      ],
      "text/plain": [
       "     type                subject  \\\n",
       "1000   wh                Ontario   \n",
       "1001   wh     Alexandrov Kremlin   \n",
       "1002   wh     Alexandrov Kremlin   \n",
       "1003   wh          Bukit Panjang   \n",
       "1004   wh      Kastelholm Castle   \n",
       "...   ...                    ...   \n",
       "1495   wh     Thornton Tomasetti   \n",
       "1496   wh  Charles II of England   \n",
       "1497   wh  Charles II of England   \n",
       "1498   wh           Gateway Arch   \n",
       "1499   wh           Gateway Arch   \n",
       "\n",
       "                                              relation  \\\n",
       "1000  located in the administrative territorial entity   \n",
       "1001                                           country   \n",
       "1002  located in the administrative territorial entity   \n",
       "1003  located in the administrative territorial entity   \n",
       "1004                                           country   \n",
       "...                                                ...   \n",
       "1495                               structural engineer   \n",
       "1496                                          occupant   \n",
       "1497                                        founded by   \n",
       "1498                         located in protected area   \n",
       "1499                              heritage designation   \n",
       "\n",
       "                          object  \\\n",
       "1000               Niagara Falls   \n",
       "1001                      Russia   \n",
       "1002                  Alexandrov   \n",
       "1003  Bukit Timah Nature Reserve   \n",
       "1004                     Finland   \n",
       "...                          ...   \n",
       "1495             Petronas Towers   \n",
       "1496              Windsor Castle   \n",
       "1497           Royal Observatory   \n",
       "1498  Gateway Arch National Park   \n",
       "1499  National Historic Landmark   \n",
       "\n",
       "                                               question  \\\n",
       "1000  Which tourist attraction's located in the admi...   \n",
       "1001         What is the country of Alexandrov Kremlin?   \n",
       "1002  Who is the located in the administrative terri...   \n",
       "1003  Which tourist attraction's located in the admi...   \n",
       "1004          What is the country of Kastelholm Castle?   \n",
       "...                                                 ...   \n",
       "1495  Which tourist attraction's structural engineer...   \n",
       "1496  Which tourist attraction's occupant is Charles...   \n",
       "1497  Which tourist attraction was founded by Charle...   \n",
       "1498  What is the located in protected area of Gatew...   \n",
       "1499  What is the heritage designation of Gateway Arch?   \n",
       "\n",
       "                           label output_meta-llama/Meta-Llama-3-8B-Instruct  \\\n",
       "1000               Niagara Falls                              Niagara Falls   \n",
       "1001                      Russia                                     Russia   \n",
       "1002                  Alexandrov                                 Alexandrov   \n",
       "1003  Bukit Timah Nature Reserve                              Haw Par Villa   \n",
       "1004                     Finland                                    Finland   \n",
       "...                          ...                                        ...   \n",
       "1495             Petronas Towers                            One World Trade   \n",
       "1496              Windsor Castle                          Westminster Abbey   \n",
       "1497           Royal Observatory                                 St. Paul's   \n",
       "1498  Gateway Arch National Park                    Jefferson National Park   \n",
       "1499  National Historic Landmark                                   National   \n",
       "\n",
       "      eval_meta-llama/Meta-Llama-3-8B-Instruct  \n",
       "1000                                       1.0  \n",
       "1001                                       1.0  \n",
       "1002                                       1.0  \n",
       "1003                                       0.0  \n",
       "1004                                       1.0  \n",
       "...                                        ...  \n",
       "1495                                       0.0  \n",
       "1496                                       0.0  \n",
       "1497                                       0.0  \n",
       "1498                                       0.0  \n",
       "1499                                       0.0  \n",
       "\n",
       "[500 rows x 8 columns]"
      ]
     },
     "execution_count": 19,
     "metadata": {},
     "output_type": "execute_result"
    }
   ],
   "source": [
    "llm_name = 'gpt-35-turbo'\n",
    "topic = 'health_medication'\n",
    "\n",
    "system_msg_eval = \"Given two texts, labeled as Text 1 and Text 2, output '1' if they match each other semantically, and output '0' if they do not.\"\n",
    "\n",
    "wh_count = 0\n",
    "wh_correct = 0\n",
    "for i in df_wh.index[:]:\n",
    "    question, label = df_wh.loc[i, 'question'], df_wh.loc[i, 'label']\n",
    "    output = df_wh.loc[i, f\"output_{model_id}\"]\n",
    "    \n",
    "    # info = \"Question: \"+question+ \"\\nModel Answer: \"+label + \"\\nAI model generated answer: \" + output \\\n",
    "    #     + \"\\n. The above question's topic is \" + topic  + \". \"\n",
    "    prompt_eval = f\"\"\"The input texts are given as below: \\nText 1: {label} \\n\\nText 2: {output}\\n\"\"\"\n",
    "    \n",
    "    wh_count += 1\n",
    "    raw_response = client.chat.completions.create(\n",
    "        model=llm_name, \n",
    "        messages=[{\"role\": \"system\", \"content\": system_msg_eval}, {\"role\": \"user\", \"content\": prompt_eval}], \n",
    "        temperature=0\n",
    "    )\n",
    "    response_str = raw_response.choices[0].message.content.strip().replace('\\n\\n\\n', '\\n\\n')\n",
    "\n",
    "    if str(response_str) == '1':\n",
    "        wh_correct += 1\n",
    "        df_wh.loc[i, f\"eval_{model_id}\"] = 1\n",
    "    else:\n",
    "        df_wh.loc[i, f\"eval_{model_id}\"] = 0\n",
    "print(f\"[GPT] The wh question accuracy of the language model is {wh_correct / wh_count}\")\n",
    "df_wh"
   ]
  },
  {
   "cell_type": "code",
   "execution_count": 21,
   "metadata": {},
   "outputs": [
    {
     "data": {
      "text/html": [
       "<div>\n",
       "<style scoped>\n",
       "    .dataframe tbody tr th:only-of-type {\n",
       "        vertical-align: middle;\n",
       "    }\n",
       "\n",
       "    .dataframe tbody tr th {\n",
       "        vertical-align: top;\n",
       "    }\n",
       "\n",
       "    .dataframe thead th {\n",
       "        text-align: right;\n",
       "    }\n",
       "</style>\n",
       "<table border=\"1\" class=\"dataframe\">\n",
       "  <thead>\n",
       "    <tr style=\"text-align: right;\">\n",
       "      <th></th>\n",
       "      <th>type</th>\n",
       "      <th>subject</th>\n",
       "      <th>relation</th>\n",
       "      <th>object</th>\n",
       "      <th>question</th>\n",
       "      <th>label</th>\n",
       "      <th>output_meta-llama/Meta-Llama-3-8B-Instruct</th>\n",
       "      <th>eval_meta-llama/Meta-Llama-3-8B-Instruct</th>\n",
       "    </tr>\n",
       "  </thead>\n",
       "  <tbody>\n",
       "    <tr>\n",
       "      <th>1000</th>\n",
       "      <td>wh</td>\n",
       "      <td>Ontario</td>\n",
       "      <td>located in the administrative territorial entity</td>\n",
       "      <td>Niagara Falls</td>\n",
       "      <td>Which tourist attraction's located in the admi...</td>\n",
       "      <td>Niagara Falls</td>\n",
       "      <td>Niagara Falls</td>\n",
       "      <td>1.0</td>\n",
       "    </tr>\n",
       "    <tr>\n",
       "      <th>1001</th>\n",
       "      <td>wh</td>\n",
       "      <td>Alexandrov Kremlin</td>\n",
       "      <td>country</td>\n",
       "      <td>Russia</td>\n",
       "      <td>What is the country of Alexandrov Kremlin?</td>\n",
       "      <td>Russia</td>\n",
       "      <td>Russia</td>\n",
       "      <td>1.0</td>\n",
       "    </tr>\n",
       "    <tr>\n",
       "      <th>1002</th>\n",
       "      <td>wh</td>\n",
       "      <td>Alexandrov Kremlin</td>\n",
       "      <td>located in the administrative territorial entity</td>\n",
       "      <td>Alexandrov</td>\n",
       "      <td>Who is the located in the administrative terri...</td>\n",
       "      <td>Alexandrov</td>\n",
       "      <td>Alexandrov</td>\n",
       "      <td>1.0</td>\n",
       "    </tr>\n",
       "    <tr>\n",
       "      <th>1004</th>\n",
       "      <td>wh</td>\n",
       "      <td>Kastelholm Castle</td>\n",
       "      <td>country</td>\n",
       "      <td>Finland</td>\n",
       "      <td>What is the country of Kastelholm Castle?</td>\n",
       "      <td>Finland</td>\n",
       "      <td>Finland</td>\n",
       "      <td>1.0</td>\n",
       "    </tr>\n",
       "    <tr>\n",
       "      <th>1012</th>\n",
       "      <td>wh</td>\n",
       "      <td>John Rylands Library</td>\n",
       "      <td>country</td>\n",
       "      <td>United Kingdom</td>\n",
       "      <td>What is the country of John Rylands Library?</td>\n",
       "      <td>United Kingdom</td>\n",
       "      <td>United Kingdom</td>\n",
       "      <td>1.0</td>\n",
       "    </tr>\n",
       "    <tr>\n",
       "      <th>...</th>\n",
       "      <td>...</td>\n",
       "      <td>...</td>\n",
       "      <td>...</td>\n",
       "      <td>...</td>\n",
       "      <td>...</td>\n",
       "      <td>...</td>\n",
       "      <td>...</td>\n",
       "      <td>...</td>\n",
       "    </tr>\n",
       "    <tr>\n",
       "      <th>1474</th>\n",
       "      <td>wh</td>\n",
       "      <td>Jōshin'etsu-kōgen National Park</td>\n",
       "      <td>located in protected area</td>\n",
       "      <td>Shiga Highlands</td>\n",
       "      <td>Which tourist attraction's located in protecte...</td>\n",
       "      <td>Shiga Highlands</td>\n",
       "      <td>Shiga Kogen</td>\n",
       "      <td>1.0</td>\n",
       "    </tr>\n",
       "    <tr>\n",
       "      <th>1475</th>\n",
       "      <td>wh</td>\n",
       "      <td>Mount Kilimanjaro</td>\n",
       "      <td>country</td>\n",
       "      <td>Tanzania</td>\n",
       "      <td>What is the country of Mount Kilimanjaro?</td>\n",
       "      <td>Tanzania</td>\n",
       "      <td>Tanzania</td>\n",
       "      <td>1.0</td>\n",
       "    </tr>\n",
       "    <tr>\n",
       "      <th>1484</th>\n",
       "      <td>wh</td>\n",
       "      <td>Night Safari</td>\n",
       "      <td>country</td>\n",
       "      <td>Singapore</td>\n",
       "      <td>What is the country of Night Safari?</td>\n",
       "      <td>Singapore</td>\n",
       "      <td>Singapore</td>\n",
       "      <td>1.0</td>\n",
       "    </tr>\n",
       "    <tr>\n",
       "      <th>1489</th>\n",
       "      <td>wh</td>\n",
       "      <td>St Paul's Cathedral</td>\n",
       "      <td>architect</td>\n",
       "      <td>Christopher Wren</td>\n",
       "      <td>Who does St Paul's Cathedral architect?</td>\n",
       "      <td>Christopher Wren</td>\n",
       "      <td>Christopher Wren</td>\n",
       "      <td>1.0</td>\n",
       "    </tr>\n",
       "    <tr>\n",
       "      <th>1491</th>\n",
       "      <td>wh</td>\n",
       "      <td>St Paul's Cathedral</td>\n",
       "      <td>country</td>\n",
       "      <td>United Kingdom</td>\n",
       "      <td>What is the country of St Paul's Cathedral?</td>\n",
       "      <td>United Kingdom</td>\n",
       "      <td>United Kingdom</td>\n",
       "      <td>1.0</td>\n",
       "    </tr>\n",
       "  </tbody>\n",
       "</table>\n",
       "<p>139 rows × 8 columns</p>\n",
       "</div>"
      ],
      "text/plain": [
       "     type                          subject  \\\n",
       "1000   wh                          Ontario   \n",
       "1001   wh               Alexandrov Kremlin   \n",
       "1002   wh               Alexandrov Kremlin   \n",
       "1004   wh                Kastelholm Castle   \n",
       "1012   wh             John Rylands Library   \n",
       "...   ...                              ...   \n",
       "1474   wh  Jōshin'etsu-kōgen National Park   \n",
       "1475   wh                Mount Kilimanjaro   \n",
       "1484   wh                     Night Safari   \n",
       "1489   wh              St Paul's Cathedral   \n",
       "1491   wh              St Paul's Cathedral   \n",
       "\n",
       "                                              relation            object  \\\n",
       "1000  located in the administrative territorial entity     Niagara Falls   \n",
       "1001                                           country            Russia   \n",
       "1002  located in the administrative territorial entity        Alexandrov   \n",
       "1004                                           country           Finland   \n",
       "1012                                           country    United Kingdom   \n",
       "...                                                ...               ...   \n",
       "1474                         located in protected area   Shiga Highlands   \n",
       "1475                                           country          Tanzania   \n",
       "1484                                           country         Singapore   \n",
       "1489                                         architect  Christopher Wren   \n",
       "1491                                           country    United Kingdom   \n",
       "\n",
       "                                               question             label  \\\n",
       "1000  Which tourist attraction's located in the admi...     Niagara Falls   \n",
       "1001         What is the country of Alexandrov Kremlin?            Russia   \n",
       "1002  Who is the located in the administrative terri...        Alexandrov   \n",
       "1004          What is the country of Kastelholm Castle?           Finland   \n",
       "1012       What is the country of John Rylands Library?    United Kingdom   \n",
       "...                                                 ...               ...   \n",
       "1474  Which tourist attraction's located in protecte...   Shiga Highlands   \n",
       "1475          What is the country of Mount Kilimanjaro?          Tanzania   \n",
       "1484               What is the country of Night Safari?         Singapore   \n",
       "1489            Who does St Paul's Cathedral architect?  Christopher Wren   \n",
       "1491        What is the country of St Paul's Cathedral?    United Kingdom   \n",
       "\n",
       "     output_meta-llama/Meta-Llama-3-8B-Instruct  \\\n",
       "1000                              Niagara Falls   \n",
       "1001                                     Russia   \n",
       "1002                                 Alexandrov   \n",
       "1004                                    Finland   \n",
       "1012                             United Kingdom   \n",
       "...                                         ...   \n",
       "1474                                Shiga Kogen   \n",
       "1475                                   Tanzania   \n",
       "1484                                  Singapore   \n",
       "1489                           Christopher Wren   \n",
       "1491                             United Kingdom   \n",
       "\n",
       "      eval_meta-llama/Meta-Llama-3-8B-Instruct  \n",
       "1000                                       1.0  \n",
       "1001                                       1.0  \n",
       "1002                                       1.0  \n",
       "1004                                       1.0  \n",
       "1012                                       1.0  \n",
       "...                                        ...  \n",
       "1474                                       1.0  \n",
       "1475                                       1.0  \n",
       "1484                                       1.0  \n",
       "1489                                       1.0  \n",
       "1491                                       1.0  \n",
       "\n",
       "[139 rows x 8 columns]"
      ]
     },
     "execution_count": 21,
     "metadata": {},
     "output_type": "execute_result"
    }
   ],
   "source": [
    "df_wh[df_wh[f\"eval_{model_id}\"]==1]"
   ]
  },
  {
   "cell_type": "code",
   "execution_count": 20,
   "metadata": {},
   "outputs": [
    {
     "name": "stdout",
     "output_type": "stream",
     "text": [
      "[GPT] The wh question accuracy of the language model is 0.278\n"
     ]
    },
    {
     "data": {
      "text/html": [
       "<div>\n",
       "<style scoped>\n",
       "    .dataframe tbody tr th:only-of-type {\n",
       "        vertical-align: middle;\n",
       "    }\n",
       "\n",
       "    .dataframe tbody tr th {\n",
       "        vertical-align: top;\n",
       "    }\n",
       "\n",
       "    .dataframe thead th {\n",
       "        text-align: right;\n",
       "    }\n",
       "</style>\n",
       "<table border=\"1\" class=\"dataframe\">\n",
       "  <thead>\n",
       "    <tr style=\"text-align: right;\">\n",
       "      <th></th>\n",
       "      <th>type</th>\n",
       "      <th>subject</th>\n",
       "      <th>relation</th>\n",
       "      <th>object</th>\n",
       "      <th>question</th>\n",
       "      <th>label</th>\n",
       "      <th>output_meta-llama/Meta-Llama-3-8B-Instruct</th>\n",
       "      <th>eval_meta-llama/Meta-Llama-3-8B-Instruct</th>\n",
       "    </tr>\n",
       "  </thead>\n",
       "  <tbody>\n",
       "    <tr>\n",
       "      <th>1000</th>\n",
       "      <td>wh</td>\n",
       "      <td>Ontario</td>\n",
       "      <td>located in the administrative territorial entity</td>\n",
       "      <td>Niagara Falls</td>\n",
       "      <td>Which tourist attraction's located in the admi...</td>\n",
       "      <td>Niagara Falls</td>\n",
       "      <td>Niagara Falls</td>\n",
       "      <td>1.0</td>\n",
       "    </tr>\n",
       "    <tr>\n",
       "      <th>1001</th>\n",
       "      <td>wh</td>\n",
       "      <td>Alexandrov Kremlin</td>\n",
       "      <td>country</td>\n",
       "      <td>Russia</td>\n",
       "      <td>What is the country of Alexandrov Kremlin?</td>\n",
       "      <td>Russia</td>\n",
       "      <td>Russia</td>\n",
       "      <td>1.0</td>\n",
       "    </tr>\n",
       "    <tr>\n",
       "      <th>1002</th>\n",
       "      <td>wh</td>\n",
       "      <td>Alexandrov Kremlin</td>\n",
       "      <td>located in the administrative territorial entity</td>\n",
       "      <td>Alexandrov</td>\n",
       "      <td>Who is the located in the administrative terri...</td>\n",
       "      <td>Alexandrov</td>\n",
       "      <td>Alexandrov</td>\n",
       "      <td>1.0</td>\n",
       "    </tr>\n",
       "    <tr>\n",
       "      <th>1003</th>\n",
       "      <td>wh</td>\n",
       "      <td>Bukit Panjang</td>\n",
       "      <td>located in the administrative territorial entity</td>\n",
       "      <td>Bukit Timah Nature Reserve</td>\n",
       "      <td>Which tourist attraction's located in the admi...</td>\n",
       "      <td>Bukit Timah Nature Reserve</td>\n",
       "      <td>Haw Par Villa</td>\n",
       "      <td>0.0</td>\n",
       "    </tr>\n",
       "    <tr>\n",
       "      <th>1004</th>\n",
       "      <td>wh</td>\n",
       "      <td>Kastelholm Castle</td>\n",
       "      <td>country</td>\n",
       "      <td>Finland</td>\n",
       "      <td>What is the country of Kastelholm Castle?</td>\n",
       "      <td>Finland</td>\n",
       "      <td>Finland</td>\n",
       "      <td>1.0</td>\n",
       "    </tr>\n",
       "    <tr>\n",
       "      <th>...</th>\n",
       "      <td>...</td>\n",
       "      <td>...</td>\n",
       "      <td>...</td>\n",
       "      <td>...</td>\n",
       "      <td>...</td>\n",
       "      <td>...</td>\n",
       "      <td>...</td>\n",
       "      <td>...</td>\n",
       "    </tr>\n",
       "    <tr>\n",
       "      <th>1495</th>\n",
       "      <td>wh</td>\n",
       "      <td>Thornton Tomasetti</td>\n",
       "      <td>structural engineer</td>\n",
       "      <td>Petronas Towers</td>\n",
       "      <td>Which tourist attraction's structural engineer...</td>\n",
       "      <td>Petronas Towers</td>\n",
       "      <td>One World Trade</td>\n",
       "      <td>0.0</td>\n",
       "    </tr>\n",
       "    <tr>\n",
       "      <th>1496</th>\n",
       "      <td>wh</td>\n",
       "      <td>Charles II of England</td>\n",
       "      <td>occupant</td>\n",
       "      <td>Windsor Castle</td>\n",
       "      <td>Which tourist attraction's occupant is Charles...</td>\n",
       "      <td>Windsor Castle</td>\n",
       "      <td>Westminster Abbey</td>\n",
       "      <td>0.0</td>\n",
       "    </tr>\n",
       "    <tr>\n",
       "      <th>1497</th>\n",
       "      <td>wh</td>\n",
       "      <td>Charles II of England</td>\n",
       "      <td>founded by</td>\n",
       "      <td>Royal Observatory</td>\n",
       "      <td>Which tourist attraction was founded by Charle...</td>\n",
       "      <td>Royal Observatory</td>\n",
       "      <td>St. Paul's</td>\n",
       "      <td>0.0</td>\n",
       "    </tr>\n",
       "    <tr>\n",
       "      <th>1498</th>\n",
       "      <td>wh</td>\n",
       "      <td>Gateway Arch</td>\n",
       "      <td>located in protected area</td>\n",
       "      <td>Gateway Arch National Park</td>\n",
       "      <td>What is the located in protected area of Gatew...</td>\n",
       "      <td>Gateway Arch National Park</td>\n",
       "      <td>Jefferson National Park</td>\n",
       "      <td>0.0</td>\n",
       "    </tr>\n",
       "    <tr>\n",
       "      <th>1499</th>\n",
       "      <td>wh</td>\n",
       "      <td>Gateway Arch</td>\n",
       "      <td>heritage designation</td>\n",
       "      <td>National Historic Landmark</td>\n",
       "      <td>What is the heritage designation of Gateway Arch?</td>\n",
       "      <td>National Historic Landmark</td>\n",
       "      <td>National</td>\n",
       "      <td>0.0</td>\n",
       "    </tr>\n",
       "  </tbody>\n",
       "</table>\n",
       "<p>500 rows × 8 columns</p>\n",
       "</div>"
      ],
      "text/plain": [
       "     type                subject  \\\n",
       "1000   wh                Ontario   \n",
       "1001   wh     Alexandrov Kremlin   \n",
       "1002   wh     Alexandrov Kremlin   \n",
       "1003   wh          Bukit Panjang   \n",
       "1004   wh      Kastelholm Castle   \n",
       "...   ...                    ...   \n",
       "1495   wh     Thornton Tomasetti   \n",
       "1496   wh  Charles II of England   \n",
       "1497   wh  Charles II of England   \n",
       "1498   wh           Gateway Arch   \n",
       "1499   wh           Gateway Arch   \n",
       "\n",
       "                                              relation  \\\n",
       "1000  located in the administrative territorial entity   \n",
       "1001                                           country   \n",
       "1002  located in the administrative territorial entity   \n",
       "1003  located in the administrative territorial entity   \n",
       "1004                                           country   \n",
       "...                                                ...   \n",
       "1495                               structural engineer   \n",
       "1496                                          occupant   \n",
       "1497                                        founded by   \n",
       "1498                         located in protected area   \n",
       "1499                              heritage designation   \n",
       "\n",
       "                          object  \\\n",
       "1000               Niagara Falls   \n",
       "1001                      Russia   \n",
       "1002                  Alexandrov   \n",
       "1003  Bukit Timah Nature Reserve   \n",
       "1004                     Finland   \n",
       "...                          ...   \n",
       "1495             Petronas Towers   \n",
       "1496              Windsor Castle   \n",
       "1497           Royal Observatory   \n",
       "1498  Gateway Arch National Park   \n",
       "1499  National Historic Landmark   \n",
       "\n",
       "                                               question  \\\n",
       "1000  Which tourist attraction's located in the admi...   \n",
       "1001         What is the country of Alexandrov Kremlin?   \n",
       "1002  Who is the located in the administrative terri...   \n",
       "1003  Which tourist attraction's located in the admi...   \n",
       "1004          What is the country of Kastelholm Castle?   \n",
       "...                                                 ...   \n",
       "1495  Which tourist attraction's structural engineer...   \n",
       "1496  Which tourist attraction's occupant is Charles...   \n",
       "1497  Which tourist attraction was founded by Charle...   \n",
       "1498  What is the located in protected area of Gatew...   \n",
       "1499  What is the heritage designation of Gateway Arch?   \n",
       "\n",
       "                           label output_meta-llama/Meta-Llama-3-8B-Instruct  \\\n",
       "1000               Niagara Falls                              Niagara Falls   \n",
       "1001                      Russia                                     Russia   \n",
       "1002                  Alexandrov                                 Alexandrov   \n",
       "1003  Bukit Timah Nature Reserve                              Haw Par Villa   \n",
       "1004                     Finland                                    Finland   \n",
       "...                          ...                                        ...   \n",
       "1495             Petronas Towers                            One World Trade   \n",
       "1496              Windsor Castle                          Westminster Abbey   \n",
       "1497           Royal Observatory                                 St. Paul's   \n",
       "1498  Gateway Arch National Park                    Jefferson National Park   \n",
       "1499  National Historic Landmark                                   National   \n",
       "\n",
       "      eval_meta-llama/Meta-Llama-3-8B-Instruct  \n",
       "1000                                       1.0  \n",
       "1001                                       1.0  \n",
       "1002                                       1.0  \n",
       "1003                                       0.0  \n",
       "1004                                       1.0  \n",
       "...                                        ...  \n",
       "1495                                       0.0  \n",
       "1496                                       0.0  \n",
       "1497                                       0.0  \n",
       "1498                                       0.0  \n",
       "1499                                       0.0  \n",
       "\n",
       "[500 rows x 8 columns]"
      ]
     },
     "execution_count": 20,
     "metadata": {},
     "output_type": "execute_result"
    }
   ],
   "source": [
    "system_msg_eval = \"\"\"Given a question, a correct answer, and a prediction, evaluate whether the prediction is semantically equivalent to the correct answer. \\\n",
    "Output '1' if they are semantically equivalent, otherwise output '0'.\"\"\"\n",
    "\n",
    "wh_count = 0\n",
    "wh_correct = 0\n",
    "for i in df_wh.index[:]:\n",
    "    question, label = df_wh.loc[i, 'question'], df_wh.loc[i, 'label']\n",
    "    output = df_wh.loc[i, f\"output_{model_id}\"]\n",
    "    \n",
    "        # + \"\\n. The above question's topic is \" + topic  + \". \"\n",
    "    prompt_eval = f\"\"\"The inputs are given as below: \\nquestion: {question} \\n\\ncorrect answer: {label} \\n\\nprediction: {output}\\n\"\"\"\n",
    "    \n",
    "    wh_count += 1\n",
    "    raw_response = client.chat.completions.create(\n",
    "        model=llm_name, \n",
    "        messages=[{\"role\": \"system\", \"content\": system_msg_eval}, {\"role\": \"user\", \"content\": prompt_eval}], \n",
    "        temperature=0\n",
    "    )\n",
    "    response_str = raw_response.choices[0].message.content.strip().replace('\\n\\n\\n', '\\n\\n')\n",
    "\n",
    "    if str(response_str) == '1':\n",
    "        wh_correct += 1\n",
    "        df_wh.loc[i, f\"eval_{model_id}\"] = 1\n",
    "    else:\n",
    "        df_wh.loc[i, f\"eval_{model_id}\"] = 0\n",
    "print(f\"[GPT] The wh question accuracy of the language model is {wh_correct / wh_count}\")\n",
    "df_wh"
   ]
  },
  {
   "cell_type": "markdown",
   "metadata": {},
   "source": [
    "### Generate other types of questions"
   ]
  },
  {
   "cell_type": "code",
   "execution_count": 19,
   "metadata": {},
   "outputs": [
    {
     "name": "stdout",
     "output_type": "stream",
     "text": [
      "100 technology_software\n"
     ]
    },
    {
     "data": {
      "text/plain": [
       "Index(['topic', 'subject', 'relation', 'object', 'label', 'question',\n",
       "       'output_meta_llama_3.1_8b_instruct', 'eval_meta_llama_3.1_8b_instruct'],\n",
       "      dtype='object')"
      ]
     },
     "execution_count": 19,
     "metadata": {},
     "output_type": "execute_result"
    }
   ],
   "source": [
    "folder_hallu_100 = f\"../data/questions/hallucination/{model_id_format}_100\"\n",
    "domain_topic_name = ['places_country', 'technology_software', 'human_scientist'][1]\n",
    "client = AzureOpenAI(api_key=load_api_key('api_key_n_central_us'), api_version='2023-05-15', azure_endpoint=\"https://n-central-us.openai.azure.com/\")\n",
    "df_hallu = pd.read_csv(f\"{folder_hallu_100}/{domain_topic_name}.csv\")\n",
    "df_hallu = df_hallu[df_hallu.topic==domain_topic_name]\n",
    "print(len(df_hallu), domain_topic_name)\n",
    "df_hallu.columns"
   ]
  },
  {
   "cell_type": "code",
   "execution_count": 51,
   "metadata": {},
   "outputs": [],
   "source": [
    "# df_hallu.drop(columns=['multiple_choices', 'multiple_choice_question', 'multiple_choice_labels','multiple_choice_questions'], inplace=True)"
   ]
  },
  {
   "cell_type": "code",
   "execution_count": 22,
   "metadata": {},
   "outputs": [
    {
     "name": "stderr",
     "output_type": "stream",
     "text": [
      "09/10/2024 21:57:25 - INFO - httpx -   HTTP Request: POST https://n-central-us.openai.azure.com//openai/deployments/gpt-4o/chat/completions?api-version=2023-05-15 \"HTTP/1.1 200 OK\"\n"
     ]
    },
    {
     "name": "stdout",
     "output_type": "stream",
     "text": [
      "{'paraphrased_question': 'Which game mode does Tintin in Tibet feature?', 'multiple_choices': ['single-player video game', 'Side-scroller', 'multiplayer', 'co-op'], 'yes_question': 'Is the game mode of Tintin in Tibet a single-player video game?', 'no_question': 'Is the game mode of Tintin in Tibet a Side-scroller?', 'locality_question': 'What is the main setting or location in the story of Tintin in Tibet?', 'reversed_relation_question': 'Which game features a single-player video game mode?'}\n"
     ]
    },
    {
     "name": "stderr",
     "output_type": "stream",
     "text": [
      "09/10/2024 21:57:27 - INFO - httpx -   HTTP Request: POST https://n-central-us.openai.azure.com//openai/deployments/gpt-4o/chat/completions?api-version=2023-05-15 \"HTTP/1.1 200 OK\"\n"
     ]
    },
    {
     "name": "stdout",
     "output_type": "stream",
     "text": [
      "{'paraphrased_question': 'Who publishes News Channel?', 'multiple_choices': ['Nintendo', 'Independent', 'Sony', 'Microsoft'], 'yes_question': 'Is Nintendo the publisher of News Channel?', 'no_question': 'Is Independent the publisher of News Channel?', 'locality_question': 'What type of content is typically broadcasted on News Channel?', 'reversed_relation_question': 'What does Nintendo publish?'}\n"
     ]
    },
    {
     "name": "stderr",
     "output_type": "stream",
     "text": [
      "09/10/2024 21:57:31 - INFO - httpx -   HTTP Request: POST https://n-central-us.openai.azure.com//openai/deployments/gpt-4o/chat/completions?api-version=2023-05-15 \"HTTP/1.1 200 OK\"\n"
     ]
    },
    {
     "name": "stdout",
     "output_type": "stream",
     "text": [
      "{'paraphrased_question': 'Who produced Tintin in Tibet?', 'multiple_choices': ['Bruno Bonnell', 'Edmond Vermeulen', 'Steven Spielberg', 'George Lucas'], 'yes_question': 'Is Bruno Bonnell the producer of Tintin in Tibet?', 'no_question': 'Is Edmond Vermeulen the producer of Tintin in Tibet?', 'locality_question': 'What is the main setting of Tintin in Tibet?', 'reversed_relation_question': 'Who did Bruno Bonnell produce?'}\n"
     ]
    },
    {
     "name": "stderr",
     "output_type": "stream",
     "text": [
      "09/10/2024 21:57:33 - INFO - httpx -   HTTP Request: POST https://n-central-us.openai.azure.com//openai/deployments/gpt-4o/chat/completions?api-version=2023-05-15 \"HTTP/1.1 200 OK\"\n"
     ]
    },
    {
     "name": "stdout",
     "output_type": "stream",
     "text": [
      "{'paraphrased_question': \"Where is Juno's headquarters located?\", 'multiple_choices': ['New York City', 'Cambridge', 'San Francisco', 'Chicago'], 'yes_question': 'Is the headquarters location of Juno New York City?', 'no_question': 'Is the headquarters location of Juno Cambridge?', 'locality_question': 'What is a famous landmark in New York City?', 'reversed_relation_question': \"Which company's headquarters are located in New York City?\"}\n"
     ]
    },
    {
     "name": "stderr",
     "output_type": "stream",
     "text": [
      "09/10/2024 21:57:34 - INFO - httpx -   HTTP Request: POST https://n-central-us.openai.azure.com//openai/deployments/gpt-4o/chat/completions?api-version=2023-05-15 \"HTTP/1.1 200 OK\"\n"
     ]
    },
    {
     "name": "stdout",
     "output_type": "stream",
     "text": [
      "{'paraphrased_question': 'In which programming language was Bun developed?', 'multiple_choices': ['Zig', 'Python', 'JavaScript', 'Rust'], 'yes_question': 'Was Bun programmed in Zig?', 'no_question': 'Was Bun programmed in Python?', 'locality_question': 'What is a common use case for Bun?', 'reversed_relation_question': 'What was Zig used to program?'}\n"
     ]
    },
    {
     "name": "stderr",
     "output_type": "stream",
     "text": [
      "09/10/2024 21:57:36 - INFO - httpx -   HTTP Request: POST https://n-central-us.openai.azure.com//openai/deployments/gpt-4o/chat/completions?api-version=2023-05-15 \"HTTP/1.1 200 OK\"\n"
     ]
    },
    {
     "name": "stdout",
     "output_type": "stream",
     "text": [
      "{'paraphrased_question': 'Which country is Relic Hunters Zero from?', 'multiple_choices': ['Brazil', 'Canada', 'United States', 'Australia'], 'yes_question': 'Is the country of origin of Relic Hunters Zero Brazil?', 'no_question': 'Is the country of origin of Relic Hunters Zero Canada?', 'locality_question': 'What genre is the game Relic Hunters Zero?', 'reversed_relation_question': 'Which game originated from Brazil?'}\n"
     ]
    },
    {
     "name": "stderr",
     "output_type": "stream",
     "text": [
      "09/10/2024 21:57:38 - INFO - httpx -   HTTP Request: POST https://n-central-us.openai.azure.com//openai/deployments/gpt-4o/chat/completions?api-version=2023-05-15 \"HTTP/1.1 200 OK\"\n"
     ]
    },
    {
     "name": "stdout",
     "output_type": "stream",
     "text": [
      "{'paraphrased_question': 'What served as the inspiration for Nothing, Forever?', 'multiple_choices': ['Rabbits', 'The film \"Nothing, Forever\" was inspired by the 1990s internet', 'The Matrix', 'The Truman Show'], 'yes_question': 'Was Nothing, Forever inspired by Rabbits?', 'no_question': 'Was Nothing, Forever inspired by the 1990s internet?', 'locality_question': 'What genre does Nothing, Forever belong to?', 'reversed_relation_question': 'What was inspired by Rabbits?'}\n"
     ]
    },
    {
     "name": "stderr",
     "output_type": "stream",
     "text": [
      "09/10/2024 21:57:40 - INFO - httpx -   HTTP Request: POST https://n-central-us.openai.azure.com//openai/deployments/gpt-4o/chat/completions?api-version=2023-05-15 \"HTTP/1.1 200 OK\"\n"
     ]
    },
    {
     "name": "stdout",
     "output_type": "stream",
     "text": [
      "{'paraphrased_question': 'Which country is News Channel originally from?', 'multiple_choices': ['Japan', 'United States', 'Canada', 'Australia'], 'yes_question': 'Is the country of origin of News Channel Japan?', 'no_question': 'Is the country of origin of News Channel the United States?', 'locality_question': 'What type of content does News Channel primarily broadcast?', 'reversed_relation_question': 'Which news channel originates from Japan?'}\n"
     ]
    },
    {
     "name": "stderr",
     "output_type": "stream",
     "text": [
      "09/10/2024 21:57:42 - INFO - httpx -   HTTP Request: POST https://n-central-us.openai.azure.com//openai/deployments/gpt-4o/chat/completions?api-version=2023-05-15 \"HTTP/1.1 200 OK\"\n"
     ]
    },
    {
     "name": "stdout",
     "output_type": "stream",
     "text": [
      "{'paraphrased_question': 'In which programming language was Snes9x developed?', 'multiple_choices': ['C++', 'C and assembly', 'Java', 'Python'], 'yes_question': 'Was Snes9x programmed in C++?', 'no_question': 'Was Snes9x programmed in C and assembly?', 'locality_question': 'What is a well-known feature of Snes9x?', 'reversed_relation_question': 'Which software was programmed in C++?'}\n"
     ]
    },
    {
     "name": "stderr",
     "output_type": "stream",
     "text": [
      "09/10/2024 21:57:43 - INFO - httpx -   HTTP Request: POST https://n-central-us.openai.azure.com//openai/deployments/gpt-4o/chat/completions?api-version=2023-05-15 \"HTTP/1.1 200 OK\"\n"
     ]
    },
    {
     "name": "stdout",
     "output_type": "stream",
     "text": [
      "{'paraphrased_question': 'Which country are Ben and Ed originally from?', 'multiple_choices': ['Germany', 'United Kingdom', 'France', 'Italy'], 'yes_question': 'Is Germany the country of origin of Ben and Ed?', 'no_question': 'Is the United Kingdom the country of origin of Ben and Ed?', 'locality_question': 'What is a famous festival celebrated in Germany?', 'reversed_relation_question': 'Who are originally from Germany?'}\n"
     ]
    },
    {
     "name": "stderr",
     "output_type": "stream",
     "text": [
      "09/10/2024 21:57:45 - INFO - httpx -   HTTP Request: POST https://n-central-us.openai.azure.com//openai/deployments/gpt-4o/chat/completions?api-version=2023-05-15 \"HTTP/1.1 200 OK\"\n"
     ]
    },
    {
     "name": "stdout",
     "output_type": "stream",
     "text": [
      "{'paraphrased_question': 'Who is the creator of Google Arts & Culture?', 'multiple_choices': ['Google', 'Amritha Iyengar', 'Microsoft', 'Apple'], 'yes_question': 'Is Google the creator of Google Arts & Culture?', 'no_question': 'Is Amritha Iyengar the creator of Google Arts & Culture?', 'locality_question': 'What is a popular service provided by Google?', 'reversed_relation_question': 'What did Google create?'}\n"
     ]
    },
    {
     "name": "stderr",
     "output_type": "stream",
     "text": [
      "09/10/2024 21:57:47 - INFO - httpx -   HTTP Request: POST https://n-central-us.openai.azure.com//openai/deployments/gpt-4o/chat/completions?api-version=2023-05-15 \"HTTP/1.1 200 OK\"\n"
     ]
    },
    {
     "name": "stdout",
     "output_type": "stream",
     "text": [
      "{'paraphrased_question': 'Who holds the position of CEO at Napster?', 'multiple_choices': ['Mike Davis', 'Hillman', 'John Smith', 'Sarah Johnson'], 'yes_question': 'Is Mike Davis the chief executive officer of Napster?', 'no_question': 'Is Hillman the chief executive officer of Napster?', 'locality_question': 'What is Napster best known for?', 'reversed_relation_question': 'Of which company is Mike Davis the chief executive officer?'}\n"
     ]
    },
    {
     "name": "stderr",
     "output_type": "stream",
     "text": [
      "09/10/2024 21:57:49 - INFO - httpx -   HTTP Request: POST https://n-central-us.openai.azure.com//openai/deployments/gpt-4o/chat/completions?api-version=2023-05-15 \"HTTP/1.1 200 OK\"\n"
     ]
    },
    {
     "name": "stdout",
     "output_type": "stream",
     "text": [
      "{'paraphrased_question': 'Which genre does Mitsurugi Kamui Hikae belong to?', 'multiple_choices': ['hack and slash', 'Action', 'RPG', 'Adventure'], 'yes_question': 'Is the genre of Mitsurugi Kamui Hikae hack and slash?', 'no_question': 'Is the genre of Mitsurugi Kamui Hikae Action?', 'locality_question': 'Who is the developer of Mitsurugi Kamui Hikae?', 'reversed_relation_question': 'Which game belongs to the hack and slash genre?'}\n"
     ]
    },
    {
     "name": "stderr",
     "output_type": "stream",
     "text": [
      "09/10/2024 21:57:50 - INFO - httpx -   HTTP Request: POST https://n-central-us.openai.azure.com//openai/deployments/gpt-4o/chat/completions?api-version=2023-05-15 \"HTTP/1.1 200 OK\"\n"
     ]
    },
    {
     "name": "stdout",
     "output_type": "stream",
     "text": [
      "{'paraphrased_question': 'In which programming language was age developed?', 'multiple_choices': ['Go', 'Python', 'Java', 'C++'], 'yes_question': 'Was age programmed in Go?', 'no_question': 'Was age programmed in Python?', 'locality_question': 'What is a common use case for the Go programming language?', 'reversed_relation_question': 'What was Go used to program?'}\n"
     ]
    },
    {
     "name": "stderr",
     "output_type": "stream",
     "text": [
      "09/10/2024 21:57:52 - INFO - httpx -   HTTP Request: POST https://n-central-us.openai.azure.com//openai/deployments/gpt-4o/chat/completions?api-version=2023-05-15 \"HTTP/1.1 200 OK\"\n"
     ]
    },
    {
     "name": "stdout",
     "output_type": "stream",
     "text": [
      "{'paraphrased_question': 'On which platform is KuGou available?', 'multiple_choices': ['iOS', 'Music streaming', 'Android', 'Windows'], 'yes_question': 'Is the platform of KuGou iOS?', 'no_question': 'Is the platform of KuGou Music streaming?', 'locality_question': 'What type of service does KuGou provide?', 'reversed_relation_question': 'Which application is available on iOS?'}\n"
     ]
    },
    {
     "name": "stderr",
     "output_type": "stream",
     "text": [
      "09/10/2024 21:57:53 - INFO - httpx -   HTTP Request: POST https://n-central-us.openai.azure.com//openai/deployments/gpt-4o/chat/completions?api-version=2023-05-15 \"HTTP/1.1 200 OK\"\n"
     ]
    },
    {
     "name": "stdout",
     "output_type": "stream",
     "text": [
      "{'paraphrased_question': 'Which operating system does pnpm support?', 'multiple_choices': ['cross-platform', 'Linux', 'Windows', 'macOS'], 'yes_question': 'Is the operating system of pnpm cross-platform?', 'no_question': 'Is the operating system of pnpm Linux?', 'locality_question': 'What is a well-known feature of pnpm?', 'reversed_relation_question': 'Which package manager is associated with the operating system cross-platform?'}\n"
     ]
    },
    {
     "name": "stderr",
     "output_type": "stream",
     "text": [
      "09/10/2024 21:57:54 - INFO - httpx -   HTTP Request: POST https://n-central-us.openai.azure.com//openai/deployments/gpt-4o/chat/completions?api-version=2023-05-15 \"HTTP/1.1 200 OK\"\n"
     ]
    },
    {
     "name": "stdout",
     "output_type": "stream",
     "text": [
      "{'paraphrased_question': 'Who published Ring Runner: Flight of the Sages?', 'multiple_choices': ['Triple.B.Titles', 'New Normal Games', 'Indie Game Studios', 'Epic Games'], 'yes_question': 'Is Triple.B.Titles the publisher of Ring Runner: Flight of the Sages?', 'no_question': 'Is New Normal Games the publisher of Ring Runner: Flight of the Sages?', 'locality_question': 'What genre is Ring Runner: Flight of the Sages known for?', 'reversed_relation_question': 'Which game was published by Triple.B.Titles?'}\n"
     ]
    },
    {
     "name": "stderr",
     "output_type": "stream",
     "text": [
      "09/10/2024 21:57:58 - INFO - httpx -   HTTP Request: POST https://n-central-us.openai.azure.com//openai/deployments/gpt-4o/chat/completions?api-version=2023-05-15 \"HTTP/1.1 200 OK\"\n"
     ]
    },
    {
     "name": "stdout",
     "output_type": "stream",
     "text": [
      "{'paraphrased_question': 'What characteristic does Java possess?', 'multiple_choices': ['Turing completeness', 'Object-oriented', 'Garbage collection', 'Platform independence'], 'yes_question': 'Does Java have the characteristic of Turing completeness?', 'no_question': 'Does Java have the characteristic of being Object-oriented?', 'locality_question': 'What is a well-known feature of Java related to its memory management?', 'reversed_relation_question': 'What has the characteristic of Turing completeness?'}\n"
     ]
    },
    {
     "name": "stderr",
     "output_type": "stream",
     "text": [
      "09/10/2024 21:57:59 - INFO - httpx -   HTTP Request: POST https://n-central-us.openai.azure.com//openai/deployments/gpt-4o/chat/completions?api-version=2023-05-15 \"HTTP/1.1 200 OK\"\n"
     ]
    },
    {
     "name": "stdout",
     "output_type": "stream",
     "text": [
      "{'paraphrased_question': 'Which game mode does Way of the Red feature?', 'multiple_choices': ['single-player video game', 'Co-op', 'multiplayer', 'battle royale'], 'yes_question': 'Is the game mode of Way of the Red a single-player video game?', 'no_question': 'Is the game mode of Way of the Red Co-op?', 'locality_question': 'What genre does the game Way of the Red belong to?', 'reversed_relation_question': 'Which game features a single-player video game mode?'}\n"
     ]
    },
    {
     "name": "stderr",
     "output_type": "stream",
     "text": [
      "09/10/2024 21:58:04 - INFO - httpx -   HTTP Request: POST https://n-central-us.openai.azure.com//openai/deployments/gpt-4o/chat/completions?api-version=2023-05-15 \"HTTP/1.1 200 OK\"\n"
     ]
    },
    {
     "name": "stdout",
     "output_type": "stream",
     "text": [
      "{'paraphrased_question': 'Which software engine was used to develop NIKO: Through The Dream?', 'multiple_choices': ['Unreal Engine 3', 'Unity', 'CryEngine', 'Frostbite'], 'yes_question': 'Is the software engine of NIKO: Through The Dream Unreal Engine 3?', 'no_question': 'Is the software engine of NIKO: Through The Dream Unity?', 'locality_question': 'What genre does the game NIKO: Through The Dream belong to?', 'reversed_relation_question': 'Which game uses Unreal Engine 3 as its software engine?'}\n"
     ]
    },
    {
     "name": "stderr",
     "output_type": "stream",
     "text": [
      "09/10/2024 21:58:06 - INFO - httpx -   HTTP Request: POST https://n-central-us.openai.azure.com//openai/deployments/gpt-4o/chat/completions?api-version=2023-05-15 \"HTTP/1.1 200 OK\"\n"
     ]
    },
    {
     "name": "stdout",
     "output_type": "stream",
     "text": [
      "{'paraphrased_question': 'Who was the distributor of The Hat Man: Shadow Ward?', 'multiple_choices': ['Steam', 'Lionsgate', 'Netflix', 'Amazon'], 'yes_question': 'Was The Hat Man: Shadow Ward distributed by Steam?', 'no_question': 'Was The Hat Man: Shadow Ward distributed by Lionsgate?', 'locality_question': 'What genre is The Hat Man: Shadow Ward known for?', 'reversed_relation_question': 'What game was distributed by Steam?'}\n"
     ]
    },
    {
     "name": "stderr",
     "output_type": "stream",
     "text": [
      "09/10/2024 21:58:08 - INFO - httpx -   HTTP Request: POST https://n-central-us.openai.azure.com//openai/deployments/gpt-4o/chat/completions?api-version=2023-05-15 \"HTTP/1.1 200 OK\"\n"
     ]
    },
    {
     "name": "stdout",
     "output_type": "stream",
     "text": [
      "{'paraphrased_question': 'In which language is Contraption Maker created?', 'multiple_choices': ['English', 'Scratch', 'Python', 'Java'], 'yes_question': 'Is the language of work or name of Contraption Maker English?', 'no_question': 'Is the language of work or name of Contraption Maker Scratch?', 'locality_question': 'What genre does Contraption Maker belong to?', 'reversed_relation_question': 'Which game is created in English?'}\n"
     ]
    },
    {
     "name": "stderr",
     "output_type": "stream",
     "text": [
      "09/10/2024 21:58:09 - INFO - httpx -   HTTP Request: POST https://n-central-us.openai.azure.com//openai/deployments/gpt-4o/chat/completions?api-version=2023-05-15 \"HTTP/1.1 200 OK\"\n"
     ]
    },
    {
     "name": "stdout",
     "output_type": "stream",
     "text": [
      "{'paraphrased_question': 'Who developed Tower Wars?', 'multiple_choices': ['SuperVillain Studios', 'Airtight Games', 'Valve Corporation', 'Epic Games'], 'yes_question': 'Is the developer of Tower Wars SuperVillain Studios?', 'no_question': 'Is the developer of Tower Wars Airtight Games?', 'locality_question': 'What genre is the game Tower Wars known for?', 'reversed_relation_question': 'What game was developed by SuperVillain Studios?'}\n"
     ]
    },
    {
     "name": "stderr",
     "output_type": "stream",
     "text": [
      "09/10/2024 21:58:11 - INFO - httpx -   HTTP Request: POST https://n-central-us.openai.azure.com//openai/deployments/gpt-4o/chat/completions?api-version=2023-05-15 \"HTTP/1.1 200 OK\"\n"
     ]
    },
    {
     "name": "stdout",
     "output_type": "stream",
     "text": [
      "{'paraphrased_question': 'Who was the distributor of Deep Dungeons of Doom?', 'multiple_choices': ['Steam', 'Dyna Mic', 'Epic Games', 'GOG'], 'yes_question': 'Was Deep Dungeons of Doom distributed by Steam?', 'no_question': 'Was Deep Dungeons of Doom distributed by Dyna Mic?', 'locality_question': 'What genre does Deep Dungeons of Doom belong to?', 'reversed_relation_question': 'What game was distributed by Steam?'}\n"
     ]
    },
    {
     "name": "stderr",
     "output_type": "stream",
     "text": [
      "09/10/2024 21:58:15 - INFO - httpx -   HTTP Request: POST https://n-central-us.openai.azure.com//openai/deployments/gpt-4o/chat/completions?api-version=2023-05-15 \"HTTP/1.1 200 OK\"\n"
     ]
    },
    {
     "name": "stdout",
     "output_type": "stream",
     "text": [
      "{'paraphrased_question': 'Who is an important figure associated with TILA App?', 'multiple_choices': ['Édgar Vivar Villanueva', 'Raghav Baldev', 'Carlos Slim', 'Shakira'], 'yes_question': 'Is Édgar Vivar Villanueva a significant person of TILA App?', 'no_question': 'Is Raghav Baldev a significant person of TILA App?', 'locality_question': 'What is the primary function or feature of TILA App?', 'reversed_relation_question': 'Which app is Édgar Vivar Villanueva a significant person of?'}\n"
     ]
    },
    {
     "name": "stderr",
     "output_type": "stream",
     "text": [
      "09/10/2024 21:58:17 - INFO - httpx -   HTTP Request: POST https://n-central-us.openai.azure.com//openai/deployments/gpt-4o/chat/completions?api-version=2023-05-15 \"HTTP/1.1 200 OK\"\n"
     ]
    },
    {
     "name": "stdout",
     "output_type": "stream",
     "text": [
      "{'paraphrased_question': 'Which software engine powers Chuchel?', 'multiple_choices': ['Adobe Flash', 'CryEngine', 'Unity', 'Unreal Engine'], 'yes_question': 'Is the software engine of Chuchel Adobe Flash?', 'no_question': 'Is the software engine of Chuchel CryEngine?', 'locality_question': 'What genre does the game Chuchel belong to?', 'reversed_relation_question': 'Which game uses Adobe Flash as its software engine?'}\n"
     ]
    },
    {
     "name": "stderr",
     "output_type": "stream",
     "text": [
      "09/10/2024 21:58:21 - INFO - httpx -   HTTP Request: POST https://n-central-us.openai.azure.com//openai/deployments/gpt-4o/chat/completions?api-version=2023-05-15 \"HTTP/1.1 200 OK\"\n"
     ]
    },
    {
     "name": "stdout",
     "output_type": "stream",
     "text": [
      "{'paraphrased_question': 'Which platform does Java Database Connectivity use?', 'multiple_choices': ['Java Virtual Machine', 'Java Database Connectivity (JDBC)', 'Oracle Database', 'MySQL'], 'yes_question': 'Is the platform of Java Database Connectivity the Java Virtual Machine?', 'no_question': 'Is the platform of Java Database Connectivity Java Database Connectivity (JDBC)?', 'locality_question': 'What is a common use of Java Database Connectivity?', 'reversed_relation_question': 'What uses the Java Virtual Machine as its platform?'}\n"
     ]
    },
    {
     "name": "stderr",
     "output_type": "stream",
     "text": [
      "09/10/2024 21:58:22 - INFO - httpx -   HTTP Request: POST https://n-central-us.openai.azure.com//openai/deployments/gpt-4o/chat/completions?api-version=2023-05-15 \"HTTP/1.1 200 OK\"\n"
     ]
    },
    {
     "name": "stdout",
     "output_type": "stream",
     "text": [
      "{'paraphrased_question': 'Which programming language influenced Bun?', 'multiple_choices': ['JavaScript', 'Python', 'Ruby', 'C++'], 'yes_question': 'Was Bun influenced by JavaScript?', 'no_question': 'Was Bun influenced by Python?', 'locality_question': 'What is a popular feature of Bun?', 'reversed_relation_question': 'What programming language was influenced by JavaScript?'}\n"
     ]
    },
    {
     "name": "stderr",
     "output_type": "stream",
     "text": [
      "09/10/2024 21:58:24 - INFO - httpx -   HTTP Request: POST https://n-central-us.openai.azure.com//openai/deployments/gpt-4o/chat/completions?api-version=2023-05-15 \"HTTP/1.1 200 OK\"\n"
     ]
    },
    {
     "name": "stdout",
     "output_type": "stream",
     "text": [
      "{'paraphrased_question': 'Who published Deep Dungeons of Doom?', 'multiple_choices': ['Bossa Studios', 'Apogee', 'Devolver Digital', 'Team17'], 'yes_question': 'Is Bossa Studios the publisher of Deep Dungeons of Doom?', 'no_question': 'Is Apogee the publisher of Deep Dungeons of Doom?', 'locality_question': 'What genre is Deep Dungeons of Doom known for?', 'reversed_relation_question': 'Which game was published by Bossa Studios?'}\n"
     ]
    },
    {
     "name": "stderr",
     "output_type": "stream",
     "text": [
      "09/10/2024 21:58:26 - INFO - httpx -   HTTP Request: POST https://n-central-us.openai.azure.com//openai/deployments/gpt-4o/chat/completions?api-version=2023-05-15 \"HTTP/1.1 200 OK\"\n"
     ]
    },
    {
     "name": "stdout",
     "output_type": "stream",
     "text": [
      "{'paraphrased_question': 'On which platform does Encarta run?', 'multiple_choices': ['Microsoft Windows', 'CD-ROM', 'Linux', 'macOS'], 'yes_question': 'Is Microsoft Windows the platform of Encarta?', 'no_question': 'Is CD-ROM the platform of Encarta?', 'locality_question': 'What type of software is Encarta known for?', 'reversed_relation_question': 'What runs on Microsoft Windows that is related to Encarta?'}\n"
     ]
    },
    {
     "name": "stderr",
     "output_type": "stream",
     "text": [
      "09/10/2024 21:58:28 - INFO - httpx -   HTTP Request: POST https://n-central-us.openai.azure.com//openai/deployments/gpt-4o/chat/completions?api-version=2023-05-15 \"HTTP/1.1 200 OK\"\n"
     ]
    },
    {
     "name": "stdout",
     "output_type": "stream",
     "text": [
      "{'paraphrased_question': 'Under which copyright license is Private Internet Access released?', 'multiple_choices': ['MIT License', 'GPLv3', 'Apache License 2.0', 'BSD License'], 'yes_question': 'Is the copyright license of Private Internet Access the MIT License?', 'no_question': 'Is the copyright license of Private Internet Access the GPLv3?', 'locality_question': 'What type of service does Private Internet Access provide?', 'reversed_relation_question': 'Which software uses the MIT License as its copyright license?'}\n"
     ]
    },
    {
     "name": "stderr",
     "output_type": "stream",
     "text": [
      "09/10/2024 21:58:30 - INFO - httpx -   HTTP Request: POST https://n-central-us.openai.azure.com//openai/deployments/gpt-4o/chat/completions?api-version=2023-05-15 \"HTTP/1.1 200 OK\"\n"
     ]
    },
    {
     "name": "stdout",
     "output_type": "stream",
     "text": [
      "{'paraphrased_question': 'In which language is Super Puzzle Platformer Deluxe available?', 'multiple_choices': ['English', 'Python', 'Spanish', 'French'], 'yes_question': 'Is the language of work or name of Super Puzzle Platformer Deluxe English?', 'no_question': 'Is the language of work or name of Super Puzzle Platformer Deluxe Python?', 'locality_question': 'What genre does Super Puzzle Platformer Deluxe belong to?', 'reversed_relation_question': 'Which game has English as its language of work or name?'}\n"
     ]
    },
    {
     "name": "stderr",
     "output_type": "stream",
     "text": [
      "09/10/2024 21:58:32 - INFO - httpx -   HTTP Request: POST https://n-central-us.openai.azure.com//openai/deployments/gpt-4o/chat/completions?api-version=2023-05-15 \"HTTP/1.1 200 OK\"\n"
     ]
    },
    {
     "name": "stdout",
     "output_type": "stream",
     "text": [
      "{'paraphrased_question': 'Under which license is Keras distributed?', 'multiple_choices': ['MIT License', 'Apache-2.0', 'GPLv3', 'BSD-3-Clause'], 'yes_question': 'Is the copyright license of Keras the MIT License?', 'no_question': 'Is the copyright license of Keras the Apache-2.0?', 'locality_question': 'What is Keras primarily used for?', 'reversed_relation_question': 'Which software is licensed under the MIT License?'}\n"
     ]
    },
    {
     "name": "stderr",
     "output_type": "stream",
     "text": [
      "09/10/2024 21:58:35 - INFO - httpx -   HTTP Request: POST https://n-central-us.openai.azure.com//openai/deployments/gpt-4o/chat/completions?api-version=2023-05-15 \"HTTP/1.1 200 OK\"\n"
     ]
    },
    {
     "name": "stdout",
     "output_type": "stream",
     "text": [
      "{'paraphrased_question': 'Which game mode does Gigantic Army feature?', 'multiple_choices': ['single-player video game', 'Local co-op', 'Multiplayer online', 'Battle royale'], 'yes_question': 'Is the game mode of Gigantic Army a single-player video game?', 'no_question': 'Is the game mode of Gigantic Army Local co-op?', 'locality_question': 'What genre is the game Gigantic Army known for?', 'reversed_relation_question': 'Which game features a single-player video game mode?'}\n"
     ]
    },
    {
     "name": "stderr",
     "output_type": "stream",
     "text": [
      "09/10/2024 21:58:36 - INFO - httpx -   HTTP Request: POST https://n-central-us.openai.azure.com//openai/deployments/gpt-4o/chat/completions?api-version=2023-05-15 \"HTTP/1.1 200 OK\"\n"
     ]
    },
    {
     "name": "stdout",
     "output_type": "stream",
     "text": [
      "{'paraphrased_question': 'Which game mode does Soda Dungeon feature?', 'multiple_choices': ['single-player video game', 'Roguelike', 'multiplayer game', 'co-op mode'], 'yes_question': 'Is the game mode of Soda Dungeon a single-player video game?', 'no_question': 'Is the game mode of Soda Dungeon a Roguelike?', 'locality_question': 'What genre does Soda Dungeon belong to?', 'reversed_relation_question': 'Which game features a single-player video game mode?'}\n"
     ]
    },
    {
     "name": "stderr",
     "output_type": "stream",
     "text": [
      "09/10/2024 21:58:38 - INFO - httpx -   HTTP Request: POST https://n-central-us.openai.azure.com//openai/deployments/gpt-4o/chat/completions?api-version=2023-05-15 \"HTTP/1.1 200 OK\"\n"
     ]
    },
    {
     "name": "stdout",
     "output_type": "stream",
     "text": [
      "{'paraphrased_question': 'What characteristic does Delve Deeper possess?', 'multiple_choices': ['indie game', 'Exploration', 'multiplayer', 'strategy'], 'yes_question': 'Does Delve Deeper have the characteristic of being an indie game?', 'no_question': 'Does Delve Deeper have the characteristic of Exploration?', 'locality_question': 'What genre is Delve Deeper known for?', 'reversed_relation_question': 'Which game has the characteristic of being an indie game?'}\n"
     ]
    },
    {
     "name": "stderr",
     "output_type": "stream",
     "text": [
      "09/10/2024 21:58:40 - INFO - httpx -   HTTP Request: POST https://n-central-us.openai.azure.com//openai/deployments/gpt-4o/chat/completions?api-version=2023-05-15 \"HTTP/1.1 200 OK\"\n"
     ]
    },
    {
     "name": "stdout",
     "output_type": "stream",
     "text": [
      "{'paraphrased_question': 'Where is the headquarters of NetEase Cloud Music located?', 'multiple_choices': ['Beijing', 'Hangzhou, China', 'Shanghai', 'Guangzhou'], 'yes_question': 'Is the headquarters location of NetEase Cloud Music in Beijing?', 'no_question': 'Is the headquarters location of NetEase Cloud Music in Hangzhou, China?', 'locality_question': 'What type of service is NetEase Cloud Music known for?', 'reversed_relation_question': \"Which company's headquarters is located in Beijing?\"}\n"
     ]
    },
    {
     "name": "stderr",
     "output_type": "stream",
     "text": [
      "09/10/2024 21:58:41 - INFO - httpx -   HTTP Request: POST https://n-central-us.openai.azure.com//openai/deployments/gpt-4o/chat/completions?api-version=2023-05-15 \"HTTP/1.1 200 OK\"\n"
     ]
    },
    {
     "name": "stdout",
     "output_type": "stream",
     "text": [
      "{'paraphrased_question': 'On which platform can you play Close Combat: Modern Tactics?', 'multiple_choices': ['Microsoft Windows', 'Turn-based strategy', 'PlayStation', 'Xbox'], 'yes_question': 'Is the platform of Close Combat: Modern Tactics Microsoft Windows?', 'no_question': 'Is the platform of Close Combat: Modern Tactics Turn-based strategy?', 'locality_question': 'What genre does Close Combat: Modern Tactics belong to?', 'reversed_relation_question': 'Which game is available on Microsoft Windows and is called Close Combat: Modern Tactics?'}\n"
     ]
    },
    {
     "name": "stderr",
     "output_type": "stream",
     "text": [
      "09/10/2024 21:58:43 - INFO - httpx -   HTTP Request: POST https://n-central-us.openai.azure.com//openai/deployments/gpt-4o/chat/completions?api-version=2023-05-15 \"HTTP/1.1 200 OK\"\n"
     ]
    },
    {
     "name": "stdout",
     "output_type": "stream",
     "text": [
      "{'paraphrased_question': 'On which platform is Uber available?', 'multiple_choices': ['iOS', 'Ride-hailing', 'Android', 'Windows'], 'yes_question': 'Is the platform of Uber iOS?', 'no_question': 'Is the platform of Uber Ride-hailing?', 'locality_question': 'What type of service does Uber provide?', 'reversed_relation_question': 'Which company uses iOS as a platform?'}\n"
     ]
    },
    {
     "name": "stderr",
     "output_type": "stream",
     "text": [
      "09/10/2024 21:58:45 - INFO - httpx -   HTTP Request: POST https://n-central-us.openai.azure.com//openai/deployments/gpt-4o/chat/completions?api-version=2023-05-15 \"HTTP/1.1 200 OK\"\n"
     ]
    },
    {
     "name": "stdout",
     "output_type": "stream",
     "text": [
      "{'paraphrased_question': 'On which platform can you play Command: Aces of the Deep?', 'multiple_choices': ['Microsoft Windows', 'PC, Amiga, and MS-DOS', 'Linux', 'MacOS'], 'yes_question': 'Is the platform of Command: Aces of the Deep Microsoft Windows?', 'no_question': 'Is the platform of Command: Aces of the Deep PC, Amiga, and MS-DOS?', 'locality_question': 'Who developed Command: Aces of the Deep?', 'reversed_relation_question': 'Which game is available on Microsoft Windows and involves commanding submarines?'}\n"
     ]
    },
    {
     "name": "stderr",
     "output_type": "stream",
     "text": [
      "09/10/2024 21:58:47 - INFO - httpx -   HTTP Request: POST https://n-central-us.openai.azure.com//openai/deployments/gpt-4o/chat/completions?api-version=2023-05-15 \"HTTP/1.1 200 OK\"\n"
     ]
    },
    {
     "name": "stdout",
     "output_type": "stream",
     "text": [
      "{'paraphrased_question': 'On which platform does f.lux operate?', 'multiple_choices': ['x86', 'Screen color adjustment', 'ARM', 'MIPS'], 'yes_question': 'Is the platform of f.lux x86?', 'no_question': 'Is the platform of f.lux Screen color adjustment?', 'locality_question': 'What is the primary function of f.lux?', 'reversed_relation_question': 'Which software operates on the x86 platform?'}\n"
     ]
    },
    {
     "name": "stderr",
     "output_type": "stream",
     "text": [
      "09/10/2024 21:58:48 - INFO - httpx -   HTTP Request: POST https://n-central-us.openai.azure.com//openai/deployments/gpt-4o/chat/completions?api-version=2023-05-15 \"HTTP/1.1 200 OK\"\n"
     ]
    },
    {
     "name": "stdout",
     "output_type": "stream",
     "text": [
      "{'paraphrased_question': 'Which programming language was used to develop Inoreader?', 'multiple_choices': ['PHP', 'Python', 'JavaScript', 'Ruby'], 'yes_question': 'Was Inoreader programmed in PHP?', 'no_question': 'Was Inoreader programmed in Python?', 'locality_question': 'What type of service is Inoreader known for?', 'reversed_relation_question': 'Which application was programmed in PHP?'}\n"
     ]
    },
    {
     "name": "stderr",
     "output_type": "stream",
     "text": [
      "09/10/2024 21:58:50 - INFO - httpx -   HTTP Request: POST https://n-central-us.openai.azure.com//openai/deployments/gpt-4o/chat/completions?api-version=2023-05-15 \"HTTP/1.1 200 OK\"\n"
     ]
    },
    {
     "name": "stdout",
     "output_type": "stream",
     "text": [
      "{'paraphrased_question': 'In what format is The Adventure Pals distributed?', 'multiple_choices': ['digital distribution', 'Digital, Physical', 'physical distribution', 'streaming service'], 'yes_question': 'Is the distribution format of The Adventure Pals digital distribution?', 'no_question': 'Is the distribution format of The Adventure Pals Digital, Physical?', 'locality_question': 'What genre does The Adventure Pals belong to?', 'reversed_relation_question': 'What game is distributed through digital distribution?'}\n"
     ]
    },
    {
     "name": "stderr",
     "output_type": "stream",
     "text": [
      "09/10/2024 21:58:54 - INFO - httpx -   HTTP Request: POST https://n-central-us.openai.azure.com//openai/deployments/gpt-4o/chat/completions?api-version=2023-05-15 \"HTTP/1.1 200 OK\"\n"
     ]
    },
    {
     "name": "stdout",
     "output_type": "stream",
     "text": [
      "{'paraphrased_question': 'On which platform can you play Tales of Monkey Island: The Trial and Execution of Guybrush Threepwood?', 'multiple_choices': ['Microsoft Windows', 'Point-and-click adventure', 'PlayStation 3', 'Xbox 360'], 'yes_question': 'Is the platform of Tales of Monkey Island: The Trial and Execution of Guybrush Threepwood Microsoft Windows?', 'no_question': 'Is the platform of Tales of Monkey Island: The Trial and Execution of Guybrush Threepwood Point-and-click adventure?', 'locality_question': 'What genre does Tales of Monkey Island: The Trial and Execution of Guybrush Threepwood belong to?', 'reversed_relation_question': 'Which game is available on Microsoft Windows and involves a trial and execution?'}\n"
     ]
    },
    {
     "name": "stderr",
     "output_type": "stream",
     "text": [
      "09/10/2024 21:58:55 - INFO - httpx -   HTTP Request: POST https://n-central-us.openai.azure.com//openai/deployments/gpt-4o/chat/completions?api-version=2023-05-15 \"HTTP/1.1 200 OK\"\n"
     ]
    },
    {
     "name": "stdout",
     "output_type": "stream",
     "text": [
      "{'paraphrased_question': 'Which platform does Backblaze use?', 'multiple_choices': ['Microsoft Windows', 'Cloud Backup', 'Linux', 'macOS'], 'yes_question': 'Is the platform of Backblaze Microsoft Windows?', 'no_question': 'Is the platform of Backblaze Cloud Backup?', 'locality_question': 'What type of service is Backblaze known for?', 'reversed_relation_question': 'Which company uses Microsoft Windows as a platform?'}\n"
     ]
    },
    {
     "name": "stderr",
     "output_type": "stream",
     "text": [
      "09/10/2024 21:58:57 - INFO - httpx -   HTTP Request: POST https://n-central-us.openai.azure.com//openai/deployments/gpt-4o/chat/completions?api-version=2023-05-15 \"HTTP/1.1 200 OK\"\n"
     ]
    },
    {
     "name": "stdout",
     "output_type": "stream",
     "text": [
      "{'paraphrased_question': 'Which service replaced Google+?', 'multiple_choices': ['Google Currents', 'Allo and Duo', 'Google Hangouts', 'Google Meet'], 'yes_question': 'Was Google+ replaced by Google Currents?', 'no_question': 'Was Google+ replaced by Allo and Duo?', 'locality_question': 'What is a well-known product developed by Google?', 'reversed_relation_question': 'What did Google Currents replace?'}\n"
     ]
    },
    {
     "name": "stderr",
     "output_type": "stream",
     "text": [
      "09/10/2024 21:58:59 - INFO - httpx -   HTTP Request: POST https://n-central-us.openai.azure.com//openai/deployments/gpt-4o/chat/completions?api-version=2023-05-15 \"HTTP/1.1 200 OK\"\n"
     ]
    },
    {
     "name": "stdout",
     "output_type": "stream",
     "text": [
      "{'paraphrased_question': 'What type of genre does News Channel belong to?', 'multiple_choices': ['journalism', 'Informational', 'entertainment', 'documentary'], 'yes_question': 'Is the genre of News Channel journalism?', 'no_question': 'Is the genre of News Channel Informational?', 'locality_question': 'What is a common feature of a News Channel?', 'reversed_relation_question': 'What channel is associated with the genre journalism?'}\n"
     ]
    },
    {
     "name": "stderr",
     "output_type": "stream",
     "text": [
      "09/10/2024 21:59:00 - INFO - httpx -   HTTP Request: POST https://n-central-us.openai.azure.com//openai/deployments/gpt-4o/chat/completions?api-version=2023-05-15 \"HTTP/1.1 200 OK\"\n"
     ]
    },
    {
     "name": "stdout",
     "output_type": "stream",
     "text": [
      "{'paraphrased_question': 'Who developed Zen?', 'multiple_choices': ['Yandex', 'Pazera', 'Google', 'Microsoft'], 'yes_question': 'Is Yandex the developer of Zen?', 'no_question': 'Is Pazera the developer of Zen?', 'locality_question': 'What is a popular search engine developed by Yandex?', 'reversed_relation_question': 'What is Yandex the developer of?'}\n"
     ]
    },
    {
     "name": "stderr",
     "output_type": "stream",
     "text": [
      "09/10/2024 21:59:06 - INFO - httpx -   HTTP Request: POST https://n-central-us.openai.azure.com//openai/deployments/gpt-4o/chat/completions?api-version=2023-05-15 \"HTTP/1.1 200 OK\"\n"
     ]
    },
    {
     "name": "stdout",
     "output_type": "stream",
     "text": [
      "{'paraphrased_question': 'Who is the distributor of Pixel Game Maker MV?', 'multiple_choices': ['Steam', 'Degica', 'Epic Games', 'GOG'], 'yes_question': 'Was Pixel Game Maker MV distributed by Steam?', 'no_question': 'Was Pixel Game Maker MV distributed by Degica?', 'locality_question': 'What type of software is Pixel Game Maker MV known for?', 'reversed_relation_question': 'What game is distributed by Steam?'}\n"
     ]
    },
    {
     "name": "stderr",
     "output_type": "stream",
     "text": [
      "09/10/2024 21:59:08 - INFO - httpx -   HTTP Request: POST https://n-central-us.openai.azure.com//openai/deployments/gpt-4o/chat/completions?api-version=2023-05-15 \"HTTP/1.1 200 OK\"\n"
     ]
    },
    {
     "name": "stdout",
     "output_type": "stream",
     "text": [
      "{'paraphrased_question': 'Which genre does Ben and Ed belong to?', 'multiple_choices': ['platform game', 'Dark comedy', 'action-adventure', 'puzzle'], 'yes_question': 'Is the genre of Ben and Ed a platform game?', 'no_question': 'Is the genre of Ben and Ed Dark comedy?', 'locality_question': 'Who are the main characters in Ben and Ed?', 'reversed_relation_question': 'Which game is a platform game?'}\n"
     ]
    },
    {
     "name": "stderr",
     "output_type": "stream",
     "text": [
      "09/10/2024 21:59:09 - INFO - httpx -   HTTP Request: POST https://n-central-us.openai.azure.com//openai/deployments/gpt-4o/chat/completions?api-version=2023-05-15 \"HTTP/1.1 200 OK\"\n"
     ]
    },
    {
     "name": "stdout",
     "output_type": "stream",
     "text": [
      "{'paraphrased_question': 'What characteristic does Contraption Maker possess?', 'multiple_choices': ['indie game', 'Inventive', 'puzzle game', 'multiplayer'], 'yes_question': 'Does Contraption Maker have the characteristic of being an indie game?', 'no_question': 'Does Contraption Maker have the characteristic of being Inventive?', 'locality_question': 'What genre is Contraption Maker known for?', 'reversed_relation_question': 'What has the characteristic of being an indie game?'}\n"
     ]
    },
    {
     "name": "stderr",
     "output_type": "stream",
     "text": [
      "09/10/2024 21:59:13 - INFO - httpx -   HTTP Request: POST https://n-central-us.openai.azure.com//openai/deployments/gpt-4o/chat/completions?api-version=2023-05-15 \"HTTP/1.1 200 OK\"\n"
     ]
    },
    {
     "name": "stdout",
     "output_type": "stream",
     "text": [
      "{'paraphrased_question': 'What characteristic does Chuchel possess?', 'multiple_choices': ['indie game', 'Quirky', 'puzzle', 'adventure'], 'yes_question': 'Does Chuchel have the characteristic of being an indie game?', 'no_question': 'Does Chuchel have the characteristic of being quirky?', 'locality_question': 'What genre is Chuchel known for?', 'reversed_relation_question': 'Which game has the characteristic of being an indie game?'}\n"
     ]
    },
    {
     "name": "stderr",
     "output_type": "stream",
     "text": [
      "09/10/2024 21:59:14 - INFO - httpx -   HTTP Request: POST https://n-central-us.openai.azure.com//openai/deployments/gpt-4o/chat/completions?api-version=2023-05-15 \"HTTP/1.1 200 OK\"\n"
     ]
    },
    {
     "name": "stdout",
     "output_type": "stream",
     "text": [
      "{'paraphrased_question': 'On which platform can you play Delve Deeper?', 'multiple_choices': ['Microsoft Windows', 'Tabletop RPG', 'PlayStation', 'Nintendo Switch'], 'yes_question': 'Is the platform of Delve Deeper Microsoft Windows?', 'no_question': 'Is the platform of Delve Deeper Tabletop RPG?', 'locality_question': 'What genre is Delve Deeper known for?', 'reversed_relation_question': 'Which game is available on Microsoft Windows?'}\n"
     ]
    },
    {
     "name": "stderr",
     "output_type": "stream",
     "text": [
      "09/10/2024 21:59:16 - INFO - httpx -   HTTP Request: POST https://n-central-us.openai.azure.com//openai/deployments/gpt-4o/chat/completions?api-version=2023-05-15 \"HTTP/1.1 200 OK\"\n"
     ]
    },
    {
     "name": "stdout",
     "output_type": "stream",
     "text": [
      "{'paraphrased_question': 'Which device is used as the output for Wound Care Simulation?', 'multiple_choices': ['smartglasses', 'Monitor', 'Projector', 'Tablet'], 'yes_question': 'Is the output device of Wound Care Simulation smartglasses?', 'no_question': 'Is the output device of Wound Care Simulation Monitor?', 'locality_question': 'What is a common feature of Wound Care Simulation?', 'reversed_relation_question': 'What simulation uses smartglasses as an output device?'}\n"
     ]
    },
    {
     "name": "stderr",
     "output_type": "stream",
     "text": [
      "09/10/2024 21:59:20 - INFO - httpx -   HTTP Request: POST https://n-central-us.openai.azure.com//openai/deployments/gpt-4o/chat/completions?api-version=2023-05-15 \"HTTP/1.1 200 OK\"\n"
     ]
    },
    {
     "name": "stdout",
     "output_type": "stream",
     "text": [
      "{'paraphrased_question': 'Which game mode does Two Worlds II Castle Defense feature?', 'multiple_choices': ['single-player video game', 'Tower Defense', 'multiplayer video game', 'co-op mode'], 'yes_question': 'Is the game mode of Two Worlds II Castle Defense a single-player video game?', 'no_question': 'Is the game mode of Two Worlds II Castle Defense Tower Defense?', 'locality_question': 'What is the genre of Two Worlds II Castle Defense?', 'reversed_relation_question': 'Which game features a single-player video game mode?'}\n"
     ]
    },
    {
     "name": "stderr",
     "output_type": "stream",
     "text": [
      "09/10/2024 21:59:24 - INFO - httpx -   HTTP Request: POST https://n-central-us.openai.azure.com//openai/deployments/gpt-4o/chat/completions?api-version=2023-05-15 \"HTTP/1.1 200 OK\"\n"
     ]
    },
    {
     "name": "stdout",
     "output_type": "stream",
     "text": [
      "{'paraphrased_question': 'In what language is Everyday Genius: SquareLogic created?', 'multiple_choices': ['English', 'Python', 'Spanish', 'Java'], 'yes_question': 'Is the language of work or name of Everyday Genius: SquareLogic English?', 'no_question': 'Is the language of work or name of Everyday Genius: SquareLogic Python?', 'locality_question': 'What genre does the game Everyday Genius: SquareLogic belong to?', 'reversed_relation_question': 'What game has English as its language of work or name?'}\n"
     ]
    },
    {
     "name": "stderr",
     "output_type": "stream",
     "text": [
      "09/10/2024 21:59:25 - INFO - httpx -   HTTP Request: POST https://n-central-us.openai.azure.com//openai/deployments/gpt-4o/chat/completions?api-version=2023-05-15 \"HTTP/1.1 200 OK\"\n"
     ]
    },
    {
     "name": "stdout",
     "output_type": "stream",
     "text": [
      "{'paraphrased_question': 'Which software does Adobe InDesign succeed?', 'multiple_choices': ['Adobe PageMaker', 'Cascading Style Sheets (CSS)', 'QuarkXPress', 'Microsoft Publisher'], 'yes_question': 'Does Adobe InDesign follow Adobe PageMaker?', 'no_question': 'Does Adobe InDesign follow Cascading Style Sheets (CSS)?', 'locality_question': 'What is a primary function of Adobe InDesign?', 'reversed_relation_question': 'What software is followed by Adobe PageMaker?'}\n"
     ]
    },
    {
     "name": "stderr",
     "output_type": "stream",
     "text": [
      "09/10/2024 21:59:27 - INFO - httpx -   HTTP Request: POST https://n-central-us.openai.azure.com//openai/deployments/gpt-4o/chat/completions?api-version=2023-05-15 \"HTTP/1.1 200 OK\"\n"
     ]
    },
    {
     "name": "stdout",
     "output_type": "stream",
     "text": [
      "{'paraphrased_question': 'What characteristic does Battlezone 98 Redux possess?', 'multiple_choices': ['indie game', '3D tank combat', 'multiplayer mode', 'real-time strategy'], 'yes_question': 'Does Battlezone 98 Redux have the characteristic of being an indie game?', 'no_question': 'Does Battlezone 98 Redux have the characteristic of being a 3D tank combat?', 'locality_question': 'What genre is Battlezone 98 Redux known for?', 'reversed_relation_question': 'Which game has the characteristic of being an indie game?'}\n"
     ]
    },
    {
     "name": "stderr",
     "output_type": "stream",
     "text": [
      "09/10/2024 21:59:29 - INFO - httpx -   HTTP Request: POST https://n-central-us.openai.azure.com//openai/deployments/gpt-4o/chat/completions?api-version=2023-05-15 \"HTTP/1.1 200 OK\"\n"
     ]
    },
    {
     "name": "stdout",
     "output_type": "stream",
     "text": [
      "{'paraphrased_question': 'Who is the publisher for KuGou?', 'multiple_choices': ['Tencent Music', 'NetEase', 'Spotify', 'Apple Music'], 'yes_question': 'Is Tencent Music the publisher of KuGou?', 'no_question': 'Is NetEase the publisher of KuGou?', 'locality_question': 'What type of service is KuGou known for?', 'reversed_relation_question': 'What does Tencent Music publish?'}\n"
     ]
    },
    {
     "name": "stderr",
     "output_type": "stream",
     "text": [
      "09/10/2024 21:59:31 - INFO - httpx -   HTTP Request: POST https://n-central-us.openai.azure.com//openai/deployments/gpt-4o/chat/completions?api-version=2023-05-15 \"HTTP/1.1 200 OK\"\n"
     ]
    },
    {
     "name": "stdout",
     "output_type": "stream",
     "text": [
      "{'paraphrased_question': 'In which programming language was GNOME Shell developed?', 'multiple_choices': ['C', 'Vala', 'Python', 'JavaScript'], 'yes_question': 'Was GNOME Shell programmed in C?', 'no_question': 'Was GNOME Shell programmed in Vala?', 'locality_question': 'What is a well-known feature of GNOME Shell?', 'reversed_relation_question': 'Which software was programmed in C?'}\n"
     ]
    },
    {
     "name": "stderr",
     "output_type": "stream",
     "text": [
      "09/10/2024 21:59:33 - INFO - httpx -   HTTP Request: POST https://n-central-us.openai.azure.com//openai/deployments/gpt-4o/chat/completions?api-version=2023-05-15 \"HTTP/1.1 200 OK\"\n"
     ]
    },
    {
     "name": "stdout",
     "output_type": "stream",
     "text": [
      "{'paraphrased_question': 'In which programming language was Hyprland developed?', 'multiple_choices': ['C++', 'Rust', 'Python', 'Java'], 'yes_question': 'Was Hyprland programmed in C++?', 'no_question': 'Was Hyprland programmed in Rust?', 'locality_question': 'What type of software is Hyprland known for being?', 'reversed_relation_question': 'Which software was programmed in C++?'}\n"
     ]
    },
    {
     "name": "stderr",
     "output_type": "stream",
     "text": [
      "09/10/2024 21:59:35 - INFO - httpx -   HTTP Request: POST https://n-central-us.openai.azure.com//openai/deployments/gpt-4o/chat/completions?api-version=2023-05-15 \"HTTP/1.1 200 OK\"\n"
     ]
    },
    {
     "name": "stdout",
     "output_type": "stream",
     "text": [
      "{'paraphrased_question': 'Under which license is Gitter copyrighted?', 'multiple_choices': ['MIT License', 'Apache-2.0', 'GPL-3.0', 'BSD-3-Clause'], 'yes_question': 'Is the copyright license of Gitter the MIT License?', 'no_question': 'Is the copyright license of Gitter the Apache-2.0?', 'locality_question': 'What type of platform is Gitter known for?', 'reversed_relation_question': 'Which software uses the MIT License as its copyright license?'}\n"
     ]
    },
    {
     "name": "stderr",
     "output_type": "stream",
     "text": [
      "09/10/2024 21:59:36 - INFO - httpx -   HTTP Request: POST https://n-central-us.openai.azure.com//openai/deployments/gpt-4o/chat/completions?api-version=2023-05-15 \"HTTP/1.1 200 OK\"\n"
     ]
    },
    {
     "name": "stdout",
     "output_type": "stream",
     "text": [
      "{'paraphrased_question': 'Which technology does Vulkan follow?', 'multiple_choices': ['OpenGL', 'Open Standards', 'DirectX', 'Metal'], 'yes_question': 'Does Vulkan follow OpenGL?', 'no_question': 'Does Vulkan follow Open Standards?', 'locality_question': 'What is Vulkan primarily used for in the field of computer graphics?', 'reversed_relation_question': 'What follows OpenGL?'}\n"
     ]
    },
    {
     "name": "stderr",
     "output_type": "stream",
     "text": [
      "09/10/2024 21:59:38 - INFO - httpx -   HTTP Request: POST https://n-central-us.openai.azure.com//openai/deployments/gpt-4o/chat/completions?api-version=2023-05-15 \"HTTP/1.1 200 OK\"\n"
     ]
    },
    {
     "name": "stdout",
     "output_type": "stream",
     "text": [
      "{'paraphrased_question': 'Which country is 1000minds based in?', 'multiple_choices': ['New Zealand', 'Finland', 'Australia', 'Canada'], 'yes_question': 'Is the country of 1000minds New Zealand?', 'no_question': 'Is the country of 1000minds Finland?', 'locality_question': 'What type of software does 1000minds specialize in?', 'reversed_relation_question': 'Which company is based in New Zealand?'}\n"
     ]
    },
    {
     "name": "stderr",
     "output_type": "stream",
     "text": [
      "09/10/2024 21:59:41 - INFO - httpx -   HTTP Request: POST https://n-central-us.openai.azure.com//openai/deployments/gpt-4o/chat/completions?api-version=2023-05-15 \"HTTP/1.1 200 OK\"\n"
     ]
    },
    {
     "name": "stdout",
     "output_type": "stream",
     "text": [
      "{'paraphrased_question': 'In which programming language was FSlint developed?', 'multiple_choices': ['Python', 'Perl', 'Java', 'C++'], 'yes_question': 'Was FSlint programmed in Python?', 'no_question': 'Was FSlint programmed in Perl?', 'locality_question': 'What is a well-known feature of FSlint?', 'reversed_relation_question': 'Which software was programmed in Python?'}\n"
     ]
    },
    {
     "name": "stderr",
     "output_type": "stream",
     "text": [
      "09/10/2024 21:59:44 - INFO - httpx -   HTTP Request: POST https://n-central-us.openai.azure.com//openai/deployments/gpt-4o/chat/completions?api-version=2023-05-15 \"HTTP/1.1 200 OK\"\n"
     ]
    },
    {
     "name": "stdout",
     "output_type": "stream",
     "text": [
      "{'paraphrased_question': 'In which language is Deep Dungeons of Doom available?', 'multiple_choices': ['English', 'ADVENT', 'Spanish', 'French'], 'yes_question': 'Is the language of work or name of Deep Dungeons of Doom English?', 'no_question': 'Is the language of work or name of Deep Dungeons of Doom ADVENT?', 'locality_question': 'What genre does Deep Dungeons of Doom belong to?', 'reversed_relation_question': 'Which game has English as its language of work or name?'}\n"
     ]
    },
    {
     "name": "stderr",
     "output_type": "stream",
     "text": [
      "09/10/2024 21:59:46 - INFO - httpx -   HTTP Request: POST https://n-central-us.openai.azure.com//openai/deployments/gpt-4o/chat/completions?api-version=2023-05-15 \"HTTP/1.1 200 OK\"\n"
     ]
    },
    {
     "name": "stdout",
     "output_type": "stream",
     "text": [
      "{'paraphrased_question': 'On which platform can you play The Old City: Leviathan?', 'multiple_choices': ['Microsoft Windows', 'PC', 'PlayStation', 'Xbox', 'Nintendo Switch'], 'yes_question': 'Is the platform of The Old City: Leviathan Microsoft Windows?', 'no_question': 'Is the platform of The Old City: Leviathan PC?', 'locality_question': 'Who is the developer of The Old City: Leviathan?', 'reversed_relation_question': 'Which game is available on Microsoft Windows and developed by PostMod Softworks?'}\n"
     ]
    },
    {
     "name": "stderr",
     "output_type": "stream",
     "text": [
      "09/10/2024 21:59:47 - INFO - httpx -   HTTP Request: POST https://n-central-us.openai.azure.com//openai/deployments/gpt-4o/chat/completions?api-version=2023-05-15 \"HTTP/1.1 200 OK\"\n"
     ]
    },
    {
     "name": "stdout",
     "output_type": "stream",
     "text": [
      "{'paraphrased_question': 'Which industry does Webtoon belong to?', 'multiple_choices': ['webcomic', 'Entertainment', 'Animation', 'Publishing'], 'yes_question': 'Is the industry of Webtoon webcomic?', 'no_question': 'Is the industry of Webtoon Entertainment?', 'locality_question': 'What is a popular platform for reading Webtoon?', 'reversed_relation_question': 'What belongs to the webcomic industry?'}\n"
     ]
    },
    {
     "name": "stderr",
     "output_type": "stream",
     "text": [
      "09/10/2024 21:59:50 - INFO - httpx -   HTTP Request: POST https://n-central-us.openai.azure.com//openai/deployments/gpt-4o/chat/completions?api-version=2023-05-15 \"HTTP/1.1 200 OK\"\n"
     ]
    },
    {
     "name": "stdout",
     "output_type": "stream",
     "text": [
      "{'paraphrased_question': 'On which platform does Aleph One run?', 'multiple_choices': ['Classic Mac OS', 'Bungie', 'Windows', 'Linux'], 'yes_question': 'Is the platform of Aleph One Classic Mac OS?', 'no_question': 'Is the platform of Aleph One Bungie?', 'locality_question': 'What genre of game is Aleph One known for?', 'reversed_relation_question': 'Which game runs on Classic Mac OS?'}\n"
     ]
    },
    {
     "name": "stderr",
     "output_type": "stream",
     "text": [
      "09/10/2024 21:59:52 - INFO - httpx -   HTTP Request: POST https://n-central-us.openai.azure.com//openai/deployments/gpt-4o/chat/completions?api-version=2023-05-15 \"HTTP/1.1 200 OK\"\n"
     ]
    },
    {
     "name": "stdout",
     "output_type": "stream",
     "text": [
      "{'paraphrased_question': 'Which operating system does libev run on?', 'multiple_choices': ['Linux', 'Cross-platform', 'Windows', 'macOS'], 'yes_question': 'Is the operating system of libev Linux?', 'no_question': 'Is the operating system of libev Cross-platform?', 'locality_question': 'What is a well-known feature of libev?', 'reversed_relation_question': 'Which software uses Linux as its operating system?'}\n"
     ]
    },
    {
     "name": "stderr",
     "output_type": "stream",
     "text": [
      "09/10/2024 21:59:54 - INFO - httpx -   HTTP Request: POST https://n-central-us.openai.azure.com//openai/deployments/gpt-4o/chat/completions?api-version=2023-05-15 \"HTTP/1.1 200 OK\"\n"
     ]
    },
    {
     "name": "stdout",
     "output_type": "stream",
     "text": [
      "{'paraphrased_question': 'Who developed Metasploit?', 'multiple_choices': ['Rapid7', 'HDM (H.D. Moore)', 'Metasploit LLC', 'Core Security'], 'yes_question': 'Is Rapid7 the developer of Metasploit?', 'no_question': 'Is HDM (H.D. Moore) the developer of Metasploit?', 'locality_question': 'What is Metasploit primarily used for?', 'reversed_relation_question': 'What software was developed by Rapid7?'}\n"
     ]
    },
    {
     "name": "stderr",
     "output_type": "stream",
     "text": [
      "09/10/2024 21:59:55 - INFO - httpx -   HTTP Request: POST https://n-central-us.openai.azure.com//openai/deployments/gpt-4o/chat/completions?api-version=2023-05-15 \"HTTP/1.1 200 OK\"\n"
     ]
    },
    {
     "name": "stdout",
     "output_type": "stream",
     "text": [
      "{'paraphrased_question': 'Who developed Two Worlds II Castle Defense?', 'multiple_choices': ['Reality Pump Studios', 'TopWare Interactive', 'Bethesda Game Studios', 'Ubisoft'], 'yes_question': 'Is Reality Pump Studios the developer of Two Worlds II Castle Defense?', 'no_question': 'Is TopWare Interactive the developer of Two Worlds II Castle Defense?', 'locality_question': 'What genre is the game Two Worlds II Castle Defense?', 'reversed_relation_question': 'Which game was developed by Reality Pump Studios?'}\n"
     ]
    },
    {
     "name": "stderr",
     "output_type": "stream",
     "text": [
      "09/10/2024 21:59:57 - INFO - httpx -   HTTP Request: POST https://n-central-us.openai.azure.com//openai/deployments/gpt-4o/chat/completions?api-version=2023-05-15 \"HTTP/1.1 200 OK\"\n"
     ]
    },
    {
     "name": "stdout",
     "output_type": "stream",
     "text": [
      "{'paraphrased_question': 'In what format is Paint the Town Red distributed?', 'multiple_choices': ['digital distribution', 'Free-to-play', 'physical copy', 'subscription service'], 'yes_question': 'Is the distribution format of Paint the Town Red digital distribution?', 'no_question': 'Is the distribution format of Paint the Town Red Free-to-play?', 'locality_question': 'What genre does Paint the Town Red belong to?', 'reversed_relation_question': 'Which game is distributed in a digital format?'}\n"
     ]
    },
    {
     "name": "stderr",
     "output_type": "stream",
     "text": [
      "09/10/2024 21:59:59 - INFO - httpx -   HTTP Request: POST https://n-central-us.openai.azure.com//openai/deployments/gpt-4o/chat/completions?api-version=2023-05-15 \"HTTP/1.1 200 OK\"\n"
     ]
    },
    {
     "name": "stdout",
     "output_type": "stream",
     "text": [
      "{'paraphrased_question': 'MobileCoin is based on which cryptocurrency?', 'multiple_choices': ['Monero', 'Satoshi Nakamoto', 'Bitcoin', 'Ethereum'], 'yes_question': 'Is MobileCoin based on Monero?', 'no_question': 'Is MobileCoin based on Satoshi Nakamoto?', 'locality_question': 'What is a well-known feature of MobileCoin?', 'reversed_relation_question': 'Which cryptocurrency is Monero the basis for?'}\n"
     ]
    },
    {
     "name": "stderr",
     "output_type": "stream",
     "text": [
      "09/10/2024 22:00:00 - INFO - httpx -   HTTP Request: POST https://n-central-us.openai.azure.com//openai/deployments/gpt-4o/chat/completions?api-version=2023-05-15 \"HTTP/1.1 200 OK\"\n"
     ]
    },
    {
     "name": "stdout",
     "output_type": "stream",
     "text": [
      "{'paraphrased_question': 'What is a characteristic of Cladun X2?', 'multiple_choices': ['indie game', 'Retro-style', 'multiplayer mode', 'pixel art'], 'yes_question': 'Does Cladun X2 have the characteristic of being an indie game?', 'no_question': 'Does Cladun X2 have the characteristic of being Retro-style?', 'locality_question': 'What genre does Cladun X2 belong to?', 'reversed_relation_question': 'Which game has the characteristic of being an indie game?'}\n"
     ]
    },
    {
     "name": "stderr",
     "output_type": "stream",
     "text": [
      "09/10/2024 22:00:02 - INFO - httpx -   HTTP Request: POST https://n-central-us.openai.azure.com//openai/deployments/gpt-4o/chat/completions?api-version=2023-05-15 \"HTTP/1.1 200 OK\"\n"
     ]
    },
    {
     "name": "stdout",
     "output_type": "stream",
     "text": [
      "{'paraphrased_question': 'Who developed ispc?', 'multiple_choices': ['Intel', 'Jim Cuninghame', 'Microsoft', 'NVIDIA'], 'yes_question': 'Is Intel the developer of ispc?', 'no_question': 'Is Jim Cuninghame the developer of ispc?', 'locality_question': 'What type of processor architecture is Intel known for?', 'reversed_relation_question': 'What software did Intel develop?'}\n"
     ]
    },
    {
     "name": "stderr",
     "output_type": "stream",
     "text": [
      "09/10/2024 22:00:04 - INFO - httpx -   HTTP Request: POST https://n-central-us.openai.azure.com//openai/deployments/gpt-4o/chat/completions?api-version=2023-05-15 \"HTTP/1.1 200 OK\"\n"
     ]
    },
    {
     "name": "stdout",
     "output_type": "stream",
     "text": [
      "{'paraphrased_question': 'Who is the founder of TeachAIDS?', 'multiple_choices': ['Clifford Nass', 'Pamela Ling', 'Jane Doe', 'John Smith'], 'yes_question': 'Was TeachAIDS founded by Clifford Nass?', 'no_question': 'Was TeachAIDS founded by Pamela Ling?', 'locality_question': 'What is TeachAIDS known for?', 'reversed_relation_question': 'What organization was founded by Clifford Nass?'}\n"
     ]
    },
    {
     "name": "stderr",
     "output_type": "stream",
     "text": [
      "09/10/2024 22:00:06 - INFO - httpx -   HTTP Request: POST https://n-central-us.openai.azure.com//openai/deployments/gpt-4o/chat/completions?api-version=2023-05-15 \"HTTP/1.1 200 OK\"\n"
     ]
    },
    {
     "name": "stdout",
     "output_type": "stream",
     "text": [
      "{'paraphrased_question': 'Who developed Houseparty?', 'multiple_choices': ['Epic Games', 'Brendan Iribe', 'Valve Corporation', 'Riot Games'], 'yes_question': 'Is the developer of Houseparty Epic Games?', 'no_question': 'Is the developer of Houseparty Brendan Iribe?', 'locality_question': 'What type of application is Houseparty known for?', 'reversed_relation_question': 'What application was developed by Epic Games?'}\n"
     ]
    },
    {
     "name": "stderr",
     "output_type": "stream",
     "text": [
      "09/10/2024 22:00:07 - INFO - httpx -   HTTP Request: POST https://n-central-us.openai.azure.com//openai/deployments/gpt-4o/chat/completions?api-version=2023-05-15 \"HTTP/1.1 200 OK\"\n"
     ]
    },
    {
     "name": "stdout",
     "output_type": "stream",
     "text": [
      "{'paraphrased_question': 'On which platform can you play Archeblade?', 'multiple_choices': ['Microsoft Windows', 'Action Fighting Game', 'PlayStation 4', 'Nintendo Switch'], 'yes_question': 'Is the platform of Archeblade Microsoft Windows?', 'no_question': 'Is the platform of Archeblade Action Fighting Game?', 'locality_question': 'What genre does Archeblade belong to?', 'reversed_relation_question': 'Which game is available on Microsoft Windows?'}\n"
     ]
    },
    {
     "name": "stderr",
     "output_type": "stream",
     "text": [
      "09/10/2024 22:00:09 - INFO - httpx -   HTTP Request: POST https://n-central-us.openai.azure.com//openai/deployments/gpt-4o/chat/completions?api-version=2023-05-15 \"HTTP/1.1 200 OK\"\n"
     ]
    },
    {
     "name": "stdout",
     "output_type": "stream",
     "text": [
      "{'paraphrased_question': 'Which operating system does JDiskReport run on?', 'multiple_choices': ['Microsoft Windows', 'Java', 'Linux', 'macOS'], 'yes_question': 'Is the operating system of JDiskReport Microsoft Windows?', 'no_question': 'Is the operating system of JDiskReport Java?', 'locality_question': 'What is the primary function of JDiskReport?', 'reversed_relation_question': 'Which software runs on Microsoft Windows?'}\n"
     ]
    },
    {
     "name": "stderr",
     "output_type": "stream",
     "text": [
      "09/10/2024 22:00:12 - INFO - httpx -   HTTP Request: POST https://n-central-us.openai.azure.com//openai/deployments/gpt-4o/chat/completions?api-version=2023-05-15 \"HTTP/1.1 200 OK\"\n"
     ]
    },
    {
     "name": "stdout",
     "output_type": "stream",
     "text": [
      "{'paraphrased_question': 'Who is the owner of Proton Mail?', 'multiple_choices': ['Proton', 'CERN', 'Google', 'Microsoft'], 'yes_question': 'Is Proton Mail owned by Proton?', 'no_question': 'Is Proton Mail owned by CERN?', 'locality_question': 'What type of service is Proton Mail known for?', 'reversed_relation_question': 'What does Proton own?'}\n"
     ]
    },
    {
     "name": "stderr",
     "output_type": "stream",
     "text": [
      "09/10/2024 22:00:15 - INFO - httpx -   HTTP Request: POST https://n-central-us.openai.azure.com//openai/deployments/gpt-4o/chat/completions?api-version=2023-05-15 \"HTTP/1.1 200 OK\"\n"
     ]
    },
    {
     "name": "stdout",
     "output_type": "stream",
     "text": [
      "{'paraphrased_question': 'Who distributed Webtoon?', 'multiple_choices': ['Google Play', 'Naver', 'Apple App Store', 'Amazon'], 'yes_question': 'Was Webtoon distributed by Google Play?', 'no_question': 'Was Webtoon distributed by Naver?', 'locality_question': 'What type of content is primarily featured on Webtoon?', 'reversed_relation_question': 'What did Google Play distribute?'}\n"
     ]
    },
    {
     "name": "stderr",
     "output_type": "stream",
     "text": [
      "09/10/2024 22:00:16 - INFO - httpx -   HTTP Request: POST https://n-central-us.openai.azure.com//openai/deployments/gpt-4o/chat/completions?api-version=2023-05-15 \"HTTP/1.1 200 OK\"\n"
     ]
    },
    {
     "name": "stdout",
     "output_type": "stream",
     "text": [
      "{'paraphrased_question': 'In which programming language was Oh My Zsh written?', 'multiple_choices': ['shell script', 'Ruby', 'Python', 'JavaScript'], 'yes_question': 'Was Oh My Zsh programmed in shell script?', 'no_question': 'Was Oh My Zsh programmed in Ruby?', 'locality_question': 'What is a popular feature of Oh My Zsh?', 'reversed_relation_question': 'Which software was programmed in shell script?'}\n"
     ]
    },
    {
     "name": "stderr",
     "output_type": "stream",
     "text": [
      "09/10/2024 22:00:17 - INFO - httpx -   HTTP Request: POST https://n-central-us.openai.azure.com//openai/deployments/gpt-4o/chat/completions?api-version=2023-05-15 \"HTTP/1.1 200 OK\"\n"
     ]
    },
    {
     "name": "stdout",
     "output_type": "stream",
     "text": [
      "{'paraphrased_question': 'Strawberry was named after what?', 'multiple_choices': ['strawberry', 'Elvis Presley', 'apple', 'banana'], 'yes_question': 'Was Strawberry named after a strawberry?', 'no_question': 'Was Strawberry named after Elvis Presley?', 'locality_question': 'What color is typically associated with a Strawberry?', 'reversed_relation_question': 'What is named after a strawberry?'}\n"
     ]
    },
    {
     "name": "stderr",
     "output_type": "stream",
     "text": [
      "09/10/2024 22:00:19 - INFO - httpx -   HTTP Request: POST https://n-central-us.openai.azure.com//openai/deployments/gpt-4o/chat/completions?api-version=2023-05-15 \"HTTP/1.1 200 OK\"\n"
     ]
    },
    {
     "name": "stdout",
     "output_type": "stream",
     "text": [
      "{'paraphrased_question': 'What is the origin of the name stalonetray?', 'multiple_choices': ['Stand-alone shell', 'Stalonetray was named after Staloneterm', 'Standalone terminal', 'Stalonetray shell'], 'yes_question': 'Was stalonetray named after Stand-alone shell?', 'no_question': 'Was stalonetray named after Stalonetray was named after Staloneterm?', 'locality_question': 'What is a key feature of stalonetray?', 'reversed_relation_question': 'What is named after Stand-alone shell?'}\n"
     ]
    },
    {
     "name": "stderr",
     "output_type": "stream",
     "text": [
      "09/10/2024 22:00:21 - INFO - httpx -   HTTP Request: POST https://n-central-us.openai.azure.com//openai/deployments/gpt-4o/chat/completions?api-version=2023-05-15 \"HTTP/1.1 200 OK\"\n"
     ]
    },
    {
     "name": "stdout",
     "output_type": "stream",
     "text": [
      "{'paraphrased_question': 'In which industry does DiDi operate?', 'multiple_choices': ['transportation industry', 'Ride-hailing', 'technology industry', 'finance industry'], 'yes_question': 'Is the industry of DiDi the transportation industry?', 'no_question': 'Is the industry of DiDi Ride-hailing?', 'locality_question': 'What is a well-known service provided by DiDi?', 'reversed_relation_question': 'Which company operates in the transportation industry?'}\n"
     ]
    },
    {
     "name": "stderr",
     "output_type": "stream",
     "text": [
      "09/10/2024 22:00:23 - INFO - httpx -   HTTP Request: POST https://n-central-us.openai.azure.com//openai/deployments/gpt-4o/chat/completions?api-version=2023-05-15 \"HTTP/1.1 200 OK\"\n"
     ]
    },
    {
     "name": "stdout",
     "output_type": "stream",
     "text": [
      "{'paraphrased_question': 'Where is the headquarters of TeamSense Inc located?', 'multiple_choices': ['Everett', \"I don't have information on TeamSense Inc\", 'Seattle', 'Bellevue'], 'yes_question': 'Is the headquarters location of TeamSense Inc in Everett?', 'no_question': \"Is the headquarters location of TeamSense Inc in I don't have information on TeamSense Inc?\", 'locality_question': 'What industry is TeamSense Inc known for?', 'reversed_relation_question': \"Which company's headquarters is located in Everett?\"}\n"
     ]
    },
    {
     "name": "stderr",
     "output_type": "stream",
     "text": [
      "09/10/2024 22:00:24 - INFO - httpx -   HTTP Request: POST https://n-central-us.openai.azure.com//openai/deployments/gpt-4o/chat/completions?api-version=2023-05-15 \"HTTP/1.1 200 OK\"\n"
     ]
    },
    {
     "name": "stdout",
     "output_type": "stream",
     "text": [
      "{'paraphrased_question': 'Who is responsible for distributing Niconico?', 'multiple_choices': ['Google Play', 'Dwango', 'Apple App Store', 'Amazon Appstore'], 'yes_question': 'Is Niconico distributed by Google Play?', 'no_question': 'Is Niconico distributed by Dwango?', 'locality_question': 'What type of content is Niconico known for?', 'reversed_relation_question': 'What platform distributes Google Play?'}\n"
     ]
    },
    {
     "name": "stderr",
     "output_type": "stream",
     "text": [
      "09/10/2024 22:00:26 - INFO - httpx -   HTTP Request: POST https://n-central-us.openai.azure.com//openai/deployments/gpt-4o/chat/completions?api-version=2023-05-15 \"HTTP/1.1 200 OK\"\n"
     ]
    },
    {
     "name": "stdout",
     "output_type": "stream",
     "text": [
      "{'paraphrased_question': 'Who is the person that the Amazon Kindle was named after?', 'multiple_choices': ['Michael Patrick Cronan', \"William Shakespeare's play 'The Tempest' character\", 'Jeff Bezos', 'Steve Jobs'], 'yes_question': 'Was the Amazon Kindle named after Michael Patrick Cronan?', 'no_question': \"Was the Amazon Kindle named after a character from William Shakespeare's play 'The Tempest'?\", 'locality_question': 'What is a popular product developed by Amazon?', 'reversed_relation_question': 'What product was named after Michael Patrick Cronan?'}\n"
     ]
    },
    {
     "name": "stderr",
     "output_type": "stream",
     "text": [
      "09/10/2024 22:00:28 - INFO - httpx -   HTTP Request: POST https://n-central-us.openai.azure.com//openai/deployments/gpt-4o/chat/completions?api-version=2023-05-15 \"HTTP/1.1 200 OK\"\n"
     ]
    },
    {
     "name": "stdout",
     "output_type": "stream",
     "text": [
      "{'paraphrased_question': 'On which platform can you play Everyday Genius: SquareLogic?', 'multiple_choices': ['Microsoft Windows', 'Math-based puzzle game', 'PlayStation', 'Nintendo Switch'], 'yes_question': 'Is the platform of Everyday Genius: SquareLogic Microsoft Windows?', 'no_question': 'Is the platform of Everyday Genius: SquareLogic Math-based puzzle game?', 'locality_question': 'What genre does Everyday Genius: SquareLogic belong to?', 'reversed_relation_question': 'Which game is available on Microsoft Windows and is a math-based puzzle?'}\n"
     ]
    },
    {
     "name": "stderr",
     "output_type": "stream",
     "text": [
      "09/10/2024 22:00:31 - INFO - httpx -   HTTP Request: POST https://n-central-us.openai.azure.com//openai/deployments/gpt-4o/chat/completions?api-version=2023-05-15 \"HTTP/1.1 200 OK\"\n"
     ]
    },
    {
     "name": "stdout",
     "output_type": "stream",
     "text": [
      "{'paraphrased_question': 'Under which copyright license is Adventure Game Studio released?', 'multiple_choices': ['Artistic License', 'GPLv2', 'MIT License', 'Apache License'], 'yes_question': 'Is the copyright license of Adventure Game Studio the Artistic License?', 'no_question': 'Is the copyright license of Adventure Game Studio the GPLv2?', 'locality_question': 'What type of software is Adventure Game Studio known for creating?', 'reversed_relation_question': 'Which software is released under the Artistic License?'}\n"
     ]
    },
    {
     "name": "stderr",
     "output_type": "stream",
     "text": [
      "09/10/2024 22:00:33 - INFO - httpx -   HTTP Request: POST https://n-central-us.openai.azure.com//openai/deployments/gpt-4o/chat/completions?api-version=2023-05-15 \"HTTP/1.1 200 OK\"\n"
     ]
    },
    {
     "name": "stdout",
     "output_type": "stream",
     "text": [
      "{'paraphrased_question': 'Which software engine is used by Ben and Ed?', 'multiple_choices': ['Unreal Engine 4', 'Source Filmmaker', 'Unity', 'CryEngine'], 'yes_question': 'Is the software engine of Ben and Ed Unreal Engine 4?', 'no_question': 'Is the software engine of Ben and Ed Source Filmmaker?', 'locality_question': 'Who are the main characters in the game Ben and Ed?', 'reversed_relation_question': 'Which game uses Unreal Engine 4 as its software engine?'}\n"
     ]
    },
    {
     "name": "stderr",
     "output_type": "stream",
     "text": [
      "09/10/2024 22:00:34 - INFO - httpx -   HTTP Request: POST https://n-central-us.openai.azure.com//openai/deployments/gpt-4o/chat/completions?api-version=2023-05-15 \"HTTP/1.1 200 OK\"\n"
     ]
    },
    {
     "name": "stdout",
     "output_type": "stream",
     "text": [
      "{'paraphrased_question': 'On which platform is DiDi available?', 'multiple_choices': ['iOS', 'Ride-hailing', 'Android', 'Windows'], 'yes_question': 'Is the platform of DiDi iOS?', 'no_question': 'Is the platform of DiDi Ride-hailing?', 'locality_question': 'What type of service does DiDi provide?', 'reversed_relation_question': 'Which company uses iOS as a platform?'}\n"
     ]
    },
    {
     "name": "stderr",
     "output_type": "stream",
     "text": [
      "09/10/2024 22:00:36 - INFO - httpx -   HTTP Request: POST https://n-central-us.openai.azure.com//openai/deployments/gpt-4o/chat/completions?api-version=2023-05-15 \"HTTP/1.1 200 OK\"\n"
     ]
    },
    {
     "name": "stdout",
     "output_type": "stream",
     "text": [
      "{'paraphrased_question': 'Which GUI toolkit or framework does Strawberry use?', 'multiple_choices': ['Qt', 'Tkinter', 'GTK', 'wxWidgets'], 'yes_question': 'Is the GUI toolkit or framework of Strawberry Qt?', 'no_question': 'Is the GUI toolkit or framework of Strawberry Tkinter?', 'locality_question': 'What type of fruit is Strawberry?', 'reversed_relation_question': 'Which application uses Qt as its GUI toolkit or framework?'}\n"
     ]
    },
    {
     "name": "stderr",
     "output_type": "stream",
     "text": [
      "09/10/2024 22:00:37 - INFO - httpx -   HTTP Request: POST https://n-central-us.openai.azure.com//openai/deployments/gpt-4o/chat/completions?api-version=2023-05-15 \"HTTP/1.1 200 OK\"\n"
     ]
    },
    {
     "name": "stdout",
     "output_type": "stream",
     "text": [
      "{'paraphrased_question': 'In which language is Alex the Allegator 4 created?', 'multiple_choices': ['English', 'Python', 'Spanish', 'French'], 'yes_question': 'Is the language of work or name of Alex the Allegator 4 English?', 'no_question': 'Is the language of work or name of Alex the Allegator 4 Python?', 'locality_question': 'What genre of game is Alex the Allegator 4?', 'reversed_relation_question': 'Which game is created in English?'}\n"
     ]
    },
    {
     "name": "stderr",
     "output_type": "stream",
     "text": [
      "09/10/2024 22:00:39 - INFO - httpx -   HTTP Request: POST https://n-central-us.openai.azure.com//openai/deployments/gpt-4o/chat/completions?api-version=2023-05-15 \"HTTP/1.1 200 OK\"\n"
     ]
    },
    {
     "name": "stdout",
     "output_type": "stream",
     "text": [
      "{'paraphrased_question': 'What characteristic is associated with The Marvellous Miss Take?', 'multiple_choices': ['indie game', 'Whimsical', 'action-adventure', 'puzzle'], 'yes_question': 'Does The Marvellous Miss Take have the characteristic of being an indie game?', 'no_question': 'Does The Marvellous Miss Take have the characteristic of being whimsical?', 'locality_question': 'What genre does The Marvellous Miss Take belong to?', 'reversed_relation_question': 'Which game is characterized as an indie game?'}\n"
     ]
    },
    {
     "name": "stderr",
     "output_type": "stream",
     "text": [
      "09/10/2024 22:00:43 - INFO - httpx -   HTTP Request: POST https://n-central-us.openai.azure.com//openai/deployments/gpt-4o/chat/completions?api-version=2023-05-15 \"HTTP/1.1 200 OK\"\n"
     ]
    },
    {
     "name": "stdout",
     "output_type": "stream",
     "text": [
      "{'paraphrased_question': 'Who is the owner of Google Street View?', 'multiple_choices': ['Google', 'Alphabet', 'Microsoft', 'Apple'], 'yes_question': 'Is Google Street View owned by Google?', 'no_question': 'Is Google Street View owned by Alphabet?', 'locality_question': 'What is a popular service provided by Google?', 'reversed_relation_question': 'What does Google own?'}\n"
     ]
    },
    {
     "name": "stderr",
     "output_type": "stream",
     "text": [
      "09/10/2024 22:00:45 - INFO - httpx -   HTTP Request: POST https://n-central-us.openai.azure.com//openai/deployments/gpt-4o/chat/completions?api-version=2023-05-15 \"HTTP/1.1 200 OK\"\n"
     ]
    },
    {
     "name": "stdout",
     "output_type": "stream",
     "text": [
      "{'paraphrased_question': 'In which industry does GameSpy operate?', 'multiple_choices': ['video game', 'Gaming', 'software', 'entertainment'], 'yes_question': 'Is the industry of GameSpy video game?', 'no_question': 'Is the industry of GameSpy Gaming?', 'locality_question': 'What type of service is GameSpy known for?', 'reversed_relation_question': 'Which company is in the video game industry?'}\n"
     ]
    },
    {
     "name": "stderr",
     "output_type": "stream",
     "text": [
      "09/10/2024 22:00:47 - INFO - httpx -   HTTP Request: POST https://n-central-us.openai.azure.com//openai/deployments/gpt-4o/chat/completions?api-version=2023-05-15 \"HTTP/1.1 200 OK\"\n"
     ]
    },
    {
     "name": "stdout",
     "output_type": "stream",
     "text": [
      "{'paraphrased_question': 'Which game mode does Deep Dungeons of Doom feature?', 'multiple_choices': ['single-player video game', 'Roguelike', 'multiplayer video game', 'co-op video game'], 'yes_question': 'Is the game mode of Deep Dungeons of Doom a single-player video game?', 'no_question': 'Is the game mode of Deep Dungeons of Doom a Roguelike?', 'locality_question': 'What genre does Deep Dungeons of Doom belong to?', 'reversed_relation_question': 'Which game has the game mode of a single-player video game?'}\n"
     ]
    },
    {
     "name": "stderr",
     "output_type": "stream",
     "text": [
      "09/10/2024 22:00:49 - INFO - httpx -   HTTP Request: POST https://n-central-us.openai.azure.com//openai/deployments/gpt-4o/chat/completions?api-version=2023-05-15 \"HTTP/1.1 200 OK\"\n"
     ]
    },
    {
     "name": "stdout",
     "output_type": "stream",
     "text": [
      "{'paraphrased_question': 'Which input device is used for The Adventures of Tintin: The Secret of the Unicorn?', 'multiple_choices': ['touchscreen', 'Wii MotionPlus', 'keyboard', 'gamepad'], 'yes_question': 'Is the input device of The Adventures of Tintin: The Secret of the Unicorn a touchscreen?', 'no_question': 'Is the input device of The Adventures of Tintin: The Secret of the Unicorn a Wii MotionPlus?', 'locality_question': 'What is the genre of The Adventures of Tintin: The Secret of the Unicorn?', 'reversed_relation_question': 'Which game uses touchscreen as an input device?'}\n"
     ]
    }
   ],
   "source": [
    "system_msg_gen_q = \"\"\"Given a fact triplet (subject, relation, object), a question asking for the object, and a wrong answer, the correct answer to the question should be the object in the triplet. Generate the following types of questions:\n",
    "1. Paraphrased question: Create a paraphrased version of the original question. The correct answer should still be the object from the triplet.\n",
    "2. Multiple choices: Generate four answer options for the original question in the following order: the correct object from the triplet, the given wrong answer, and two additional distractors. \n",
    "3. Yes question: Rewrite the original question as a yes/no question by explicitly including the object from the triplet, ensuring that the correct answer is \"Yes.\"\n",
    "4. No question: Rewrite the original question as a yes/no question by including the provided wrong answer, so that the correct answer to this question is \"No.\"\n",
    "5. Locality question: Generate a question about a well-known attribute related to the subject from the triplet. This attribute should not be associated with the object or relation from the triplet.\n",
    "6. Reversed relation question: Generate a question by swapping the subject and object from the original question. The answer should now be the subject from the triplet.\n",
    "Output the result in JSON format with the following keys: \"paraphrased_question\", \"multiple_choices\", \"yes_question\", \"no_question\", \"locality_question\", and \"reversed_relation_question.\"\\\n",
    "\"\"\"\n",
    "# system_msg_gen_q = \"\"\"Given a fact triplet (subject, relation, object), a question asking for the object, and a wrong answer, the correct answer to the question should be the object in the triplet. Generate the following types of questions:\n",
    "# 1. Paraphrased question: Create a paraphrased version of the original question. The correct answer should still be the object from the triplet.\n",
    "# 2. Multiple choices: Generate four answer options for the original question in the following order: the correct object from the triplet, the given wrong answer, and two additional distractors. \n",
    "# Output the result in JSON format with the following keys: \"paraphrased_question\", \"multiple_choices\"\\\n",
    "# \"\"\"\n",
    "# Portability question: Create a portability question by replacing the subject in the original question with an alias or synonym. \n",
    "# 4. Multiple-Choice Question: Create a question with four answer options. Include the correct answer (the object in the triplet), \\\n",
    "# one provided wrong answer, and two additional distractors. Randomly assign these options to choices A, B, C, and D. Use the following JSON format: \\\n",
    "# {\"question\": \"...\", \"options\": {\"A\": \"...\", \"B\": \"...\", \"C\": \"...\", \"D\": \"...\"}, \"ground_truth\": \"Only provide the correct answer as a letter (A, B, C, or D)\"}\n",
    "\n",
    "paraphrased_questions, multiple_choices, yes_questions, no_questions, locality_questions, reversed_relation_questions = ([] for _ in range(6))\n",
    "\n",
    "\n",
    "def expand_questions(df_hallu):\n",
    "    for i in df_hallu.index[:]:\n",
    "        subject, relation, object, question = df_hallu.loc[i, 'subject'], df_hallu.loc[i, 'relation'], df_hallu.loc[i, 'object'], df_hallu.loc[i, 'question']\n",
    "        pre_edit_ans = df_hallu.loc[i, f'output_{model_id_format}']\n",
    "        prompt_gen_q = f\"subject: {subject}, relation: {relation}, object: {object}, question: {question}, wrong answer: {pre_edit_ans}\"\n",
    "        raw_response = client.chat.completions.create(\n",
    "            model='gpt-4o',  # -mini\n",
    "            messages=[{\"role\": \"system\", \"content\": system_msg_gen_q}, {\"role\": \"user\", \"content\": prompt_gen_q}], \n",
    "            response_format={\"type\": \"json_object\"}, \n",
    "            temperature=0\n",
    "        )\n",
    "        json_obj = json.loads(raw_response.choices[0].message.content)\n",
    "        # print(f'\\nOriginal Question: {question} Object: {object}')\n",
    "        print(json_obj)\n",
    "        paraphrased_questions.append(json_obj['paraphrased_question'])\n",
    "        multiple_choices.append(json_obj['multiple_choices'])\n",
    "        yes_questions.append(json_obj['yes_question'])\n",
    "        no_questions.append(json_obj['no_question'])\n",
    "        locality_questions.append(json_obj['locality_question'])\n",
    "        reversed_relation_questions.append(json_obj['reversed_relation_question'])\n",
    "\n",
    "expand_questions(df_hallu)"
   ]
  },
  {
   "cell_type": "code",
   "execution_count": 20,
   "metadata": {},
   "outputs": [
    {
     "ename": "NameError",
     "evalue": "name 'multiple_choices' is not defined",
     "output_type": "error",
     "traceback": [
      "\u001b[0;31m---------------------------------------------------------------------------\u001b[0m",
      "\u001b[0;31mNameError\u001b[0m                                 Traceback (most recent call last)",
      "Cell \u001b[0;32mIn[20], line 1\u001b[0m\n\u001b[0;32m----> 1\u001b[0m df_hallu[\u001b[38;5;124m'\u001b[39m\u001b[38;5;124mmultiple_choices\u001b[39m\u001b[38;5;124m'\u001b[39m] \u001b[38;5;241m=\u001b[39m \u001b[43mmultiple_choices\u001b[49m\n\u001b[1;32m      2\u001b[0m ls_multiple_choice_with_letters, ls_multiple_choice_labels \u001b[38;5;241m=\u001b[39m [], []\n\u001b[1;32m      3\u001b[0m \u001b[38;5;28;01mfor\u001b[39;00m i \u001b[38;5;129;01min\u001b[39;00m df_hallu\u001b[38;5;241m.\u001b[39mindex[:]:\n",
      "\u001b[0;31mNameError\u001b[0m: name 'multiple_choices' is not defined"
     ]
    }
   ],
   "source": [
    "df_hallu['multiple_choices'] = multiple_choices\n",
    "ls_multiple_choice_with_letters, ls_multiple_choice_labels = [], []\n",
    "for i in df_hallu.index[:]:\n",
    "    subject, relation, label, question = df_hallu.loc[i, 'subject'], df_hallu.loc[i, 'relation'], df_hallu.loc[i, 'object'], df_hallu.loc[i, 'question']\n",
    "    wrong_ans, four_choices = df_hallu.loc[i, f'output_{model_id_format}'], df_hallu.loc[i, 'multiple_choices']\n",
    "    choice = [label, wrong_ans, four_choices[2], four_choices[3]]\n",
    "    print(f\"Check if {label} == {four_choices[0]}\") if label.lower() != four_choices[0].lower() else None\n",
    "    print(f\"Check if {wrong_ans} == {four_choices[1]}\") if wrong_ans.lower() != four_choices[1].lower() else None\n",
    "    MC_dict = {\"0\": \"A\", \"1\": \"B\", \"2\": \"C\", \"3\": \"D\"}\n",
    "    random.shuffle(choice)\n",
    "    correct_answer = MC_dict[str(choice.index(label))]\n",
    "    choice_str = \"\"\n",
    "    for i in range(4):\n",
    "        choice_str += (MC_dict[str(i)] + \". \" + choice[i] + \"  \")\n",
    "    # print(choice_str)\n",
    "    ls_multiple_choice_with_letters.append(choice_str.strip())\n",
    "    ls_multiple_choice_labels.append(correct_answer)"
   ]
  },
  {
   "cell_type": "code",
   "execution_count": 59,
   "metadata": {},
   "outputs": [
    {
     "name": "stdout",
     "output_type": "stream",
     "text": [
      "Before df_hallu.shape: (100, 23)\n",
      "After df_hallu.shape: (100, 25)\n"
     ]
    }
   ],
   "source": [
    "# df_hallu = df_hallu.iloc[:]\n",
    "print(f\"Before df_hallu.shape: {df_hallu.shape}\")\n",
    "# df_hallu['paraphrased_question'] = paraphrased_questions\n",
    "df_hallu['multiple_choice_with_letters'] = ls_multiple_choice_with_letters\n",
    "df_hallu['multiple_choice_labels'] = ls_multiple_choice_labels\n",
    "# df_hallu['yes_question'] = yes_questions\n",
    "# df_hallu['no_question'] = no_questions\n",
    "# df_hallu['locality_question'] = locality_questions\n",
    "# df_hallu['reversed_relation_question'] = reversed_relation_questions\n",
    "print(f\"After df_hallu.shape: {df_hallu.shape}\")\n",
    "df_hallu.to_csv(f\"{folder_hallu_100}/{domain_topic_name}.csv\", index=False)"
   ]
  },
  {
   "cell_type": "code",
   "execution_count": 43,
   "metadata": {},
   "outputs": [
    {
     "name": "stderr",
     "output_type": "stream",
     "text": [
      "09/10/2024 13:22:50 - INFO - httpx -   HTTP Request: POST https://n-central-us.openai.azure.com//openai/deployments/gpt-4o/chat/completions?api-version=2023-05-15 \"HTTP/1.1 200 OK\"\n"
     ]
    },
    {
     "name": "stdout",
     "output_type": "stream",
     "text": [
      "subject: Ideco ICS, relation: operating system, {'2hop_question': 'What is the primary programming language used to develop the operating system of Ideco ICS?', '2hop_answer': 'C', '3hop_question': 'Who is the creator of the primary programming language used to develop the operating system of Ideco ICS?', '3hop_answer': 'Dennis Ritchie', '4hop_question': 'Which company did the creator of the primary programming language used to develop the operating system of Ideco ICS work for?', '4hop_answer': 'Bell Labs', '5hop_question': 'In which year was the company that employed the creator of the primary programming language used for the operating system of Ideco ICS founded?', '5hop_answer': '1925', '6hop_question': 'Who was the founder of the company that employed the creator of the primary programming language used for the operating system of Ideco ICS?', '6hop_answer': 'Alexander Graham Bell'}\n"
     ]
    },
    {
     "name": "stderr",
     "output_type": "stream",
     "text": [
      "09/10/2024 13:22:55 - INFO - httpx -   HTTP Request: POST https://n-central-us.openai.azure.com//openai/deployments/gpt-4o/chat/completions?api-version=2023-05-15 \"HTTP/1.1 200 OK\"\n"
     ]
    },
    {
     "name": "stdout",
     "output_type": "stream",
     "text": [
      "subject: News Channel, relation: language of work or name, {'2hop_question': 'What is the primary country where the language of work or name of the News Channel is spoken?', '2hop_answer': 'United States', '3hop_question': 'What is the capital city of the primary country where the language of work or name of the News Channel is spoken?', '3hop_answer': 'Washington, D.C.', '4hop_question': 'Which river flows through the capital city of the primary country where the language of work or name of the News Channel is spoken?', '4hop_answer': 'Potomac River', '5hop_question': 'What is the length of the river that flows through the capital city of the primary country where the language of work or name of the News Channel is spoken?', '5hop_answer': '405 miles', '6hop_question': 'Into which body of water does the river that flows through the capital city of the primary country where the language of work or name of the News Channel is spoken empty?', '6hop_answer': 'Chesapeake Bay'}\n"
     ]
    },
    {
     "name": "stderr",
     "output_type": "stream",
     "text": [
      "09/10/2024 13:22:59 - INFO - httpx -   HTTP Request: POST https://n-central-us.openai.azure.com//openai/deployments/gpt-4o/chat/completions?api-version=2023-05-15 \"HTTP/1.1 200 OK\"\n"
     ]
    },
    {
     "name": "stdout",
     "output_type": "stream",
     "text": [
      "subject: BIRD Internet Routing Daemon, relation: copyright license, {'2hop_question': \"Who is the author of the BIRD Internet Routing Daemon's copyright license?\", '2hop_answer': 'Ondřej Filip', '3hop_question': \"Which organization is the author of the BIRD Internet Routing Daemon's copyright license associated with?\", '3hop_answer': 'CZ.NIC', '4hop_question': \"In which country is the organization associated with the author of the BIRD Internet Routing Daemon's copyright license based?\", '4hop_answer': 'Czech Republic', '5hop_question': \"What is the capital city of the country where the organization associated with the author of the BIRD Internet Routing Daemon's copyright license is based?\", '5hop_answer': 'Prague', '6hop_question': \"What is the population of the capital city of the country where the organization associated with the author of the BIRD Internet Routing Daemon's copyright license is based?\", '6hop_answer': '1.3 million'}\n"
     ]
    },
    {
     "name": "stderr",
     "output_type": "stream",
     "text": [
      "09/10/2024 13:23:02 - INFO - httpx -   HTTP Request: POST https://n-central-us.openai.azure.com//openai/deployments/gpt-4o/chat/completions?api-version=2023-05-15 \"HTTP/1.1 200 OK\"\n"
     ]
    },
    {
     "name": "stdout",
     "output_type": "stream",
     "text": [
      "subject: Open 3D Engine, relation: replaces, {'2hop_question': 'What software does the Open 3D Engine replace?', '2hop_answer': 'Amazon Lumberyard', '3hop_question': 'Who developed the software that the Open 3D Engine replaces?', '3hop_answer': 'Amazon', '4hop_question': 'What is the primary industry of the company that developed the software replaced by the Open 3D Engine?', '4hop_answer': 'E-commerce', '5hop_question': 'Who is the founder of the company that operates in the primary industry of e-commerce and developed the software replaced by the Open 3D Engine?', '5hop_answer': 'Jeff Bezos', '6hop_question': 'Which university did the founder of the company that developed the software replaced by the Open 3D Engine attend?', '6hop_answer': 'Princeton University'}\n"
     ]
    },
    {
     "name": "stderr",
     "output_type": "stream",
     "text": [
      "09/10/2024 13:23:05 - INFO - httpx -   HTTP Request: POST https://n-central-us.openai.azure.com//openai/deployments/gpt-4o/chat/completions?api-version=2023-05-15 \"HTTP/1.1 200 OK\"\n"
     ]
    },
    {
     "name": "stdout",
     "output_type": "stream",
     "text": [
      "subject: Bun, relation: programmed in, {'2hop_question': 'Who is the creator of the programming language in which Bun is programmed?', '2hop_answer': 'Jarred Sumner', '3hop_question': 'Which company or organization is the creator of the programming language in which Bun is programmed associated with?', '3hop_answer': 'Oven', '4hop_question': 'In which year was the company or organization associated with the creator of the programming language in which Bun is programmed founded?', '4hop_answer': '2022', '5hop_question': 'What is the primary product or service offered by the company or organization associated with the creator of the programming language in which Bun is programmed?', '5hop_answer': 'JavaScript runtime', '6hop_question': 'Which programming language is primarily used in the primary product or service offered by the company or organization associated with the creator of the programming language in which Bun is programmed?', '6hop_answer': 'JavaScript'}\n"
     ]
    },
    {
     "name": "stderr",
     "output_type": "stream",
     "text": [
      "09/10/2024 13:23:10 - INFO - httpx -   HTTP Request: POST https://n-central-us.openai.azure.com//openai/deployments/gpt-4o/chat/completions?api-version=2023-05-15 \"HTTP/1.1 200 OK\"\n"
     ]
    },
    {
     "name": "stdout",
     "output_type": "stream",
     "text": [
      "subject: TVer, relation: country, {'2hop_question': 'What is the capital of the country where TVer is located?', '2hop_answer': 'Moscow', '3hop_question': 'Which river flows through the capital of the country where TVer is located?', '3hop_answer': 'Moskva River', '4hop_question': 'What is the length of the river that flows through the capital of the country where TVer is located?', '4hop_answer': '502 kilometers', '5hop_question': 'Which sea does the river that flows through the capital of the country where TVer is located ultimately drain into?', '5hop_answer': 'Caspian Sea', '6hop_question': 'Which country borders the sea that the river flowing through the capital of the country where TVer is located ultimately drains into?', '6hop_answer': 'Kazakhstan'}\n"
     ]
    },
    {
     "name": "stderr",
     "output_type": "stream",
     "text": [
      "09/10/2024 13:23:13 - INFO - httpx -   HTTP Request: POST https://n-central-us.openai.azure.com//openai/deployments/gpt-4o/chat/completions?api-version=2023-05-15 \"HTTP/1.1 200 OK\"\n"
     ]
    },
    {
     "name": "stdout",
     "output_type": "stream",
     "text": [
      "subject: Nothing, Forever, relation: broadcast by, {'2hop_question': 'What is the genre of the show that is broadcast by the network that airs Nothing, Forever?', '2hop_answer': 'Comedy', '3hop_question': 'Who is the creator of the show that is broadcast by the network that airs Nothing, Forever?', '3hop_answer': 'Skyler Higley', '4hop_question': 'Which other show was created by the creator of the show that is broadcast by the network that airs Nothing, Forever?', '4hop_answer': 'The Late Show with Stephen Colbert', '5hop_question': 'Who is the host of the other show created by the creator of the show that is broadcast by the network that airs Nothing, Forever?', '5hop_answer': 'Stephen Colbert', '6hop_question': 'Which university did the host of the other show created by the creator of the show that is broadcast by the network that airs Nothing, Forever attend?', '6hop_answer': 'Northwestern University'}\n"
     ]
    },
    {
     "name": "stderr",
     "output_type": "stream",
     "text": [
      "09/10/2024 13:23:15 - INFO - httpx -   HTTP Request: POST https://n-central-us.openai.azure.com//openai/deployments/gpt-4o/chat/completions?api-version=2023-05-15 \"HTTP/1.1 200 OK\"\n"
     ]
    },
    {
     "name": "stdout",
     "output_type": "stream",
     "text": [
      "subject: Mailchimp, relation: chief executive officer, {'2hop_question': 'Who is the spouse of the chief executive officer of Mailchimp?', '2hop_answer': 'Teresa Basich', '3hop_question': 'Which company did the spouse of the chief executive officer of Mailchimp work for?', '3hop_answer': 'Salesforce', '4hop_question': 'In which city is the headquarters of the company where the spouse of the chief executive officer of Mailchimp worked?', '4hop_answer': 'San Francisco', '5hop_question': 'In which state is the city located where the headquarters of the company that the spouse of the chief executive officer of Mailchimp worked for is situated?', '5hop_answer': 'California', '6hop_question': 'In which country is the state located where the city is situated that contains the headquarters of the company the spouse of the chief executive officer of Mailchimp worked for?', '6hop_answer': 'United States'}\n"
     ]
    },
    {
     "name": "stderr",
     "output_type": "stream",
     "text": [
      "09/10/2024 13:23:17 - INFO - httpx -   HTTP Request: POST https://n-central-us.openai.azure.com//openai/deployments/gpt-4o/chat/completions?api-version=2023-05-15 \"HTTP/1.1 200 OK\"\n"
     ]
    },
    {
     "name": "stdout",
     "output_type": "stream",
     "text": [
      "subject: Pixel Game Maker MV, relation: distribution format, {'2hop_question': 'Which company distributes Pixel Game Maker MV?', '2hop_answer': 'Kadokawa Corporation', '3hop_question': 'What is the headquarters location of the company that distributes Pixel Game Maker MV?', '3hop_answer': 'Tokyo, Japan', '4hop_question': 'In which district of Tokyo is the headquarters of the company that distributes Pixel Game Maker MV located?', '4hop_answer': 'Chiyoda', '5hop_question': 'What is a famous landmark located in the district where the headquarters of the company that distributes Pixel Game Maker MV is situated?', '5hop_answer': 'Imperial Palace', '6hop_question': 'Which emperor resides in the landmark located in the district where the headquarters of the company that distributes Pixel Game Maker MV is situated?', '6hop_answer': 'Emperor Naruhito'}\n"
     ]
    },
    {
     "name": "stderr",
     "output_type": "stream",
     "text": [
      "09/10/2024 13:23:19 - INFO - httpx -   HTTP Request: POST https://n-central-us.openai.azure.com//openai/deployments/gpt-4o/chat/completions?api-version=2023-05-15 \"HTTP/1.1 200 OK\"\n"
     ]
    },
    {
     "name": "stdout",
     "output_type": "stream",
     "text": [
      "subject: Ben and Ed, relation: software engine, {'2hop_question': 'Who developed the software engine for Ben and Ed?', '2hop_answer': 'Sluggerfly', '3hop_question': 'In which country is the developer of the software engine for Ben and Ed based?', '3hop_answer': 'Germany', '4hop_question': 'What is the capital city of the country where the developer of the software engine for Ben and Ed is based?', '4hop_answer': 'Berlin', '5hop_question': 'Which river flows through the capital city of the country where the developer of the software engine for Ben and Ed is based?', '5hop_answer': 'Spree', '6hop_question': 'Into which larger river does the river that flows through the capital city of the country where the developer of the software engine for Ben and Ed is based eventually flow?', '6hop_answer': 'Havel'}\n"
     ]
    },
    {
     "name": "stderr",
     "output_type": "stream",
     "text": [
      "09/10/2024 13:23:22 - INFO - httpx -   HTTP Request: POST https://n-central-us.openai.azure.com//openai/deployments/gpt-4o/chat/completions?api-version=2023-05-15 \"HTTP/1.1 200 OK\"\n"
     ]
    },
    {
     "name": "stdout",
     "output_type": "stream",
     "text": [
      "subject: Google Arts & Culture, relation: used by, {'2hop_question': 'Which museum uses Google Arts & Culture?', '2hop_answer': 'The Louvre', '3hop_question': 'In which city is the museum that uses Google Arts & Culture located?', '3hop_answer': 'Paris', '4hop_question': 'In which country is the city located where the museum that uses Google Arts & Culture is situated?', '4hop_answer': 'France', '5hop_question': 'What is the official language of the country where the city is located that contains the museum using Google Arts & Culture?', '5hop_answer': 'French', '6hop_question': 'What is the currency used in the country where the official language is French and the city contains the museum using Google Arts & Culture?', '6hop_answer': 'Euro'}\n"
     ]
    },
    {
     "name": "stderr",
     "output_type": "stream",
     "text": [
      "09/10/2024 13:23:25 - INFO - httpx -   HTTP Request: POST https://n-central-us.openai.azure.com//openai/deployments/gpt-4o/chat/completions?api-version=2023-05-15 \"HTTP/1.1 200 OK\"\n"
     ]
    },
    {
     "name": "stdout",
     "output_type": "stream",
     "text": [
      "subject: EiskaltDC++, relation: GUI toolkit or framework, {'2hop_question': 'Which programming language is used by the GUI toolkit or framework of EiskaltDC++?', '2hop_answer': 'C++', '3hop_question': 'Who developed the programming language used by the GUI toolkit or framework of EiskaltDC++?', '3hop_answer': 'Bjarne Stroustrup', '4hop_question': 'Which university did the developer of the programming language used by the GUI toolkit or framework of EiskaltDC++ attend?', '4hop_answer': 'University of Cambridge', '5hop_question': 'In which country is the university located that the developer of the programming language used by the GUI toolkit or framework of EiskaltDC++ attended?', '5hop_answer': 'United Kingdom', '6hop_question': 'What is the capital city of the country where the university is located that the developer of the programming language used by the GUI toolkit or framework of EiskaltDC++ attended?', '6hop_answer': 'London'}\n"
     ]
    },
    {
     "name": "stderr",
     "output_type": "stream",
     "text": [
      "09/10/2024 13:23:27 - INFO - httpx -   HTTP Request: POST https://n-central-us.openai.azure.com//openai/deployments/gpt-4o/chat/completions?api-version=2023-05-15 \"HTTP/1.1 200 OK\"\n"
     ]
    },
    {
     "name": "stdout",
     "output_type": "stream",
     "text": [
      "subject: Cannon Brawl, relation: has characteristic, {'2hop_question': 'What is the genre of the game that has the characteristic of Cannon Brawl?', '2hop_answer': 'Real-time strategy', '3hop_question': 'Which platform can you play the real-time strategy game that has the characteristic of Cannon Brawl?', '3hop_answer': 'PC', '4hop_question': 'Which company developed the PC game that is a real-time strategy and has the characteristic of Cannon Brawl?', '4hop_answer': 'Turtle Sandbox', '5hop_question': 'Who are the founders of the company that developed the PC game which is a real-time strategy and has the characteristic of Cannon Brawl?', '5hop_answer': 'Pete Angstadt and Tim Keenan', '6hop_question': 'Which other game was developed by the founders of the company that developed the PC game which is a real-time strategy and has the characteristic of Cannon Brawl?', '6hop_answer': 'Duskers'}\n"
     ]
    },
    {
     "name": "stderr",
     "output_type": "stream",
     "text": [
      "09/10/2024 13:23:30 - INFO - httpx -   HTTP Request: POST https://n-central-us.openai.azure.com//openai/deployments/gpt-4o/chat/completions?api-version=2023-05-15 \"HTTP/1.1 200 OK\"\n"
     ]
    },
    {
     "name": "stdout",
     "output_type": "stream",
     "text": [
      "subject: Nextcloud, relation: founded by, {'2hop_question': 'Who is the co-founder of the company that founded Nextcloud?', '2hop_answer': 'Frank Karlitschek', '3hop_question': 'Which company did the co-founder of Nextcloud previously work for?', '3hop_answer': 'ownCloud', '4hop_question': 'In which year was the company that the co-founder of Nextcloud previously worked for founded?', '4hop_answer': '2010', '5hop_question': 'Who was the CEO of the company founded in 2010 where the co-founder of Nextcloud previously worked?', '5hop_answer': 'Markus Rex', '6hop_question': 'Which university did the CEO of the company founded in 2010, where the co-founder of Nextcloud previously worked, attend?', '6hop_answer': 'University of Erlangen-Nuremberg'}\n"
     ]
    },
    {
     "name": "stderr",
     "output_type": "stream",
     "text": [
      "09/10/2024 13:23:32 - INFO - httpx -   HTTP Request: POST https://n-central-us.openai.azure.com//openai/deployments/gpt-4o/chat/completions?api-version=2023-05-15 \"HTTP/1.1 200 OK\"\n"
     ]
    },
    {
     "name": "stdout",
     "output_type": "stream",
     "text": [
      "subject: Webtoon, relation: industry, {'2hop_question': 'Who is a notable artist in the Webtoon industry?', '2hop_answer': 'SIU', '3hop_question': 'What is a popular series created by a notable artist in the Webtoon industry?', '3hop_answer': 'Tower of God', '4hop_question': 'Which platform hosts the popular series created by a notable artist in the Webtoon industry?', '4hop_answer': 'LINE Webtoon', '5hop_question': 'In which year was the platform that hosts the popular series created by a notable artist in the Webtoon industry launched?', '5hop_answer': '2014', '6hop_question': 'Which company owns the platform that was launched in 2014 and hosts the popular series created by a notable artist in the Webtoon industry?', '6hop_answer': 'Naver Corporation'}\n"
     ]
    },
    {
     "name": "stderr",
     "output_type": "stream",
     "text": [
      "09/10/2024 13:23:35 - INFO - httpx -   HTTP Request: POST https://n-central-us.openai.azure.com//openai/deployments/gpt-4o/chat/completions?api-version=2023-05-15 \"HTTP/1.1 200 OK\"\n"
     ]
    },
    {
     "name": "stdout",
     "output_type": "stream",
     "text": [
      "subject: Two Worlds II Castle Defense, relation: game mode, {'2hop_question': 'What is the primary objective in the game mode of Two Worlds II Castle Defense?', '2hop_answer': 'Defend the castle', '3hop_question': 'Who is the main antagonist that players must defend against in the game mode of Two Worlds II Castle Defense?', '3hop_answer': 'Gandohar', '4hop_question': 'What is the name of the kingdom where the main antagonist Gandohar resides in Two Worlds II Castle Defense?', '4hop_answer': 'Antaloor', '5hop_question': 'What is the primary resource used in the kingdom of Antaloor in Two Worlds II Castle Defense?', '5hop_answer': 'Crystals', '6hop_question': 'What is the main use of crystals in the kingdom of Antaloor in Two Worlds II Castle Defense?', '6hop_answer': 'Upgrading defenses and units'}\n"
     ]
    },
    {
     "name": "stderr",
     "output_type": "stream",
     "text": [
      "09/10/2024 13:23:38 - INFO - httpx -   HTTP Request: POST https://n-central-us.openai.azure.com//openai/deployments/gpt-4o/chat/completions?api-version=2023-05-15 \"HTTP/1.1 200 OK\"\n"
     ]
    },
    {
     "name": "stdout",
     "output_type": "stream",
     "text": [
      "subject: Smugglers V, relation: distribution format, {'2hop_question': 'What is the primary distribution format of Smugglers V?', '2hop_answer': 'DVD', '3hop_question': 'Which company is responsible for the primary distribution format of Smugglers V?', '3hop_answer': 'XYZ Distribution', '4hop_question': 'In which year did the company responsible for the primary distribution format of Smugglers V release it?', '4hop_answer': '2005', '5hop_question': 'Who was the CEO of the company responsible for the primary distribution format of Smugglers V in the year it was released?', '5hop_answer': 'John Doe', '6hop_question': 'Which university did the CEO of the company responsible for the primary distribution format of Smugglers V attend?', '6hop_answer': 'Harvard University'}\n"
     ]
    },
    {
     "name": "stderr",
     "output_type": "stream",
     "text": [
      "09/10/2024 13:23:41 - INFO - httpx -   HTTP Request: POST https://n-central-us.openai.azure.com//openai/deployments/gpt-4o/chat/completions?api-version=2023-05-15 \"HTTP/1.1 200 OK\"\n"
     ]
    },
    {
     "name": "stdout",
     "output_type": "stream",
     "text": [
      "subject: BioPerl, relation: copyright license, {'2hop_question': 'Who is the author of the software that has the same copyright license as BioPerl?', '2hop_answer': 'Jason Stajich', '3hop_question': 'Which university did the author of the software that has the same copyright license as BioPerl attend for their PhD?', '3hop_answer': 'Duke University', '4hop_question': 'In which city is the university located where the author of the software that has the same copyright license as BioPerl attended for their PhD?', '4hop_answer': 'Durham', '5hop_question': 'In which state is the city located where the university is situated that the author of the software with the same copyright license as BioPerl attended for their PhD?', '5hop_answer': 'North Carolina', '6hop_question': 'In which country is the state located where the city is situated that contains the university the author of the software with the same copyright license as BioPerl attended for their PhD?', '6hop_answer': 'United States'}\n"
     ]
    },
    {
     "name": "stderr",
     "output_type": "stream",
     "text": [
      "09/10/2024 13:23:43 - INFO - httpx -   HTTP Request: POST https://n-central-us.openai.azure.com//openai/deployments/gpt-4o/chat/completions?api-version=2023-05-15 \"HTTP/1.1 200 OK\"\n"
     ]
    },
    {
     "name": "stdout",
     "output_type": "stream",
     "text": [
      "subject: Real World Racing, relation: distributed by, {'2hop_question': 'Which company distributed Real World Racing?', '2hop_answer': 'Playstos Entertainment', '3hop_question': 'What other game was distributed by the company that distributed Real World Racing?', '3hop_answer': 'RoboBlitz', '4hop_question': 'Who developed the game that was also distributed by the company that distributed Real World Racing?', '4hop_answer': 'Naked Sky Entertainment', '5hop_question': 'In which year was the game developed by Naked Sky Entertainment released?', '5hop_answer': '2006', '6hop_question': 'Which gaming platform was the game released in 2006 by Naked Sky Entertainment available on?', '6hop_answer': 'Xbox 360'}\n"
     ]
    },
    {
     "name": "stderr",
     "output_type": "stream",
     "text": [
      "09/10/2024 13:23:46 - INFO - httpx -   HTTP Request: POST https://n-central-us.openai.azure.com//openai/deployments/gpt-4o/chat/completions?api-version=2023-05-15 \"HTTP/1.1 200 OK\"\n"
     ]
    },
    {
     "name": "stdout",
     "output_type": "stream",
     "text": [
      "subject: Juno, relation: industry, {'2hop_question': 'Which company is a major player in the industry of Juno?', '2hop_answer': 'Warner Bros.', '3hop_question': 'Who is the CEO of the company that is a major player in the industry of Juno?', '3hop_answer': 'Ann Sarnoff', '4hop_question': 'Which university did the CEO of the company that is a major player in the industry of Juno attend?', '4hop_answer': 'Georgetown University', '5hop_question': 'In which city is the university located that the CEO of the company that is a major player in the industry of Juno attended?', '5hop_answer': 'Washington, D.C.', '6hop_question': 'In which country is the city located where the university is situated that the CEO of the company that is a major player in the industry of Juno attended?', '6hop_answer': 'United States'}\n"
     ]
    },
    {
     "name": "stderr",
     "output_type": "stream",
     "text": [
      "09/10/2024 13:23:49 - INFO - httpx -   HTTP Request: POST https://n-central-us.openai.azure.com//openai/deployments/gpt-4o/chat/completions?api-version=2023-05-15 \"HTTP/1.1 200 OK\"\n"
     ]
    },
    {
     "name": "stdout",
     "output_type": "stream",
     "text": [
      "subject: The Hat Man: Shadow Ward, relation: distribution format, {'2hop_question': 'Which company is responsible for the distribution format of The Hat Man: Shadow Ward?', '2hop_answer': 'Steam', '3hop_question': 'Who is the founder of the company responsible for the distribution format of The Hat Man: Shadow Ward?', '3hop_answer': 'Gabe Newell', '4hop_question': 'Which university did the founder of the company responsible for the distribution format of The Hat Man: Shadow Ward attend?', '4hop_answer': 'Harvard University', '5hop_question': 'In which city is the university located that the founder of the company responsible for the distribution format of The Hat Man: Shadow Ward attended?', '5hop_answer': 'Cambridge', '6hop_question': 'In which state is the city located where the university is situated that the founder of the company responsible for the distribution format of The Hat Man: Shadow Ward attended?', '6hop_answer': 'Massachusetts'}\n"
     ]
    },
    {
     "name": "stderr",
     "output_type": "stream",
     "text": [
      "09/10/2024 13:23:51 - INFO - httpx -   HTTP Request: POST https://n-central-us.openai.azure.com//openai/deployments/gpt-4o/chat/completions?api-version=2023-05-15 \"HTTP/1.1 200 OK\"\n"
     ]
    },
    {
     "name": "stdout",
     "output_type": "stream",
     "text": [
      "subject: Contraption Maker, relation: has characteristic, {'2hop_question': 'What is a notable feature of Contraption Maker?', '2hop_answer': 'Puzzle-solving gameplay', '3hop_question': 'Which company developed the game that has puzzle-solving gameplay as a notable feature?', '3hop_answer': 'Spotkin', '4hop_question': 'In which year was the game developed by Spotkin that has puzzle-solving gameplay as a notable feature released?', '4hop_answer': '2014', '5hop_question': 'Which platform can you play the game released in 2014 by Spotkin that has puzzle-solving gameplay as a notable feature?', '5hop_answer': 'PC', '6hop_question': 'Which operating system is compatible with the platform that can play the game released in 2014 by Spotkin with puzzle-solving gameplay?', '6hop_answer': 'Windows'}\n"
     ]
    },
    {
     "name": "stderr",
     "output_type": "stream",
     "text": [
      "09/10/2024 13:23:54 - INFO - httpx -   HTTP Request: POST https://n-central-us.openai.azure.com//openai/deployments/gpt-4o/chat/completions?api-version=2023-05-15 \"HTTP/1.1 200 OK\"\n"
     ]
    },
    {
     "name": "stdout",
     "output_type": "stream",
     "text": [
      "subject: Tower Wars, relation: software engine, {'2hop_question': 'Which company developed the software engine used in Tower Wars?', '2hop_answer': 'SuperVillain Studios', '3hop_question': 'What other game was developed by the company that developed the software engine used in Tower Wars?', '3hop_answer': 'Order Up!', '4hop_question': 'On which gaming console was the game developed by the company that developed the software engine used in Tower Wars released?', '4hop_answer': 'Wii', '5hop_question': 'In which year was the gaming console released that hosted the game developed by the company that developed the software engine used in Tower Wars?', '5hop_answer': '2006', '6hop_question': 'Which company manufactured the gaming console released in 2006 that hosted the game developed by the company that developed the software engine used in Tower Wars?', '6hop_answer': 'Nintendo'}\n"
     ]
    },
    {
     "name": "stderr",
     "output_type": "stream",
     "text": [
      "09/10/2024 13:23:56 - INFO - httpx -   HTTP Request: POST https://n-central-us.openai.azure.com//openai/deployments/gpt-4o/chat/completions?api-version=2023-05-15 \"HTTP/1.1 200 OK\"\n"
     ]
    },
    {
     "name": "stdout",
     "output_type": "stream",
     "text": [
      "subject: Deep Dungeons of Doom, relation: developer, {'2hop_question': 'What is the name of the company that developed Deep Dungeons of Doom?', '2hop_answer': 'Bossa Studios', '3hop_question': 'Who is the CEO of the company that developed Deep Dungeons of Doom?', '3hop_answer': 'Henrique Olifiers', '4hop_question': 'Which country is the CEO of the company that developed Deep Dungeons of Doom originally from?', '4hop_answer': 'Brazil', '5hop_question': 'What is the official language of the country where the CEO of the company that developed Deep Dungeons of Doom is from?', '5hop_answer': 'Portuguese', '6hop_question': 'What is the population of the country where the official language is Portuguese and the CEO of the company that developed Deep Dungeons of Doom is from?', '6hop_answer': 'Approximately 213 million'}\n"
     ]
    },
    {
     "name": "stderr",
     "output_type": "stream",
     "text": [
      "09/10/2024 13:23:59 - INFO - httpx -   HTTP Request: POST https://n-central-us.openai.azure.com//openai/deployments/gpt-4o/chat/completions?api-version=2023-05-15 \"HTTP/1.1 200 OK\"\n"
     ]
    },
    {
     "name": "stdout",
     "output_type": "stream",
     "text": [
      "subject: stalonetray, relation: named after, {'2hop_question': 'Who is the person that stalonetray is named after?', '2hop_answer': 'Sylvester Stallone', '3hop_question': 'What is the profession of the person that stalonetray is named after?', '3hop_answer': 'Actor', '4hop_question': 'Which famous movie series is the actor, after whom stalonetray is named, best known for?', '4hop_answer': 'Rocky', '5hop_question': 'In which year was the first movie of the series, for which the actor named after stalonetray is best known, released?', '5hop_answer': '1976', '6hop_question': 'Which award did the first movie of the series, for which the actor named after stalonetray is best known, win in 1977?', '6hop_answer': 'Academy Award for Best Picture'}\n"
     ]
    },
    {
     "name": "stderr",
     "output_type": "stream",
     "text": [
      "09/10/2024 13:24:01 - INFO - httpx -   HTTP Request: POST https://n-central-us.openai.azure.com//openai/deployments/gpt-4o/chat/completions?api-version=2023-05-15 \"HTTP/1.1 200 OK\"\n"
     ]
    },
    {
     "name": "stdout",
     "output_type": "stream",
     "text": [
      "subject: Visual Components, relation: country, {'2hop_question': 'What is the capital of the country where Visual Components is based?', '2hop_answer': 'Helsinki', '3hop_question': 'Which sea is closest to the capital of the country where Visual Components is based?', '3hop_answer': 'Baltic Sea', '4hop_question': 'Which major gulf is part of the sea closest to the capital of the country where Visual Components is based?', '4hop_answer': 'Gulf of Finland', '5hop_question': 'Which country borders the major gulf that is part of the sea closest to the capital of the country where Visual Components is based?', '5hop_answer': 'Estonia', '6hop_question': 'What is the capital of the country that borders the major gulf which is part of the sea closest to the capital of the country where Visual Components is based?', '6hop_answer': 'Tallinn'}\n"
     ]
    },
    {
     "name": "stderr",
     "output_type": "stream",
     "text": [
      "09/10/2024 13:24:03 - INFO - httpx -   HTTP Request: POST https://n-central-us.openai.azure.com//openai/deployments/gpt-4o/chat/completions?api-version=2023-05-15 \"HTTP/1.1 200 OK\"\n"
     ]
    },
    {
     "name": "stdout",
     "output_type": "stream",
     "text": [
      "subject: Java Database Connectivity, relation: platform, {'2hop_question': 'Which company developed the platform for Java Database Connectivity?', '2hop_answer': 'Sun Microsystems', '3hop_question': 'Who acquired the company that developed the platform for Java Database Connectivity?', '3hop_answer': 'Oracle Corporation', '4hop_question': 'In which year did Oracle Corporation acquire the company that developed the platform for Java Database Connectivity?', '4hop_answer': '2010', '5hop_question': 'Who was the CEO of Oracle Corporation when it acquired the company that developed the platform for Java Database Connectivity?', '5hop_answer': 'Larry Ellison', '6hop_question': 'What is the nationality of the CEO of Oracle Corporation who was in charge when it acquired the company that developed the platform for Java Database Connectivity?', '6hop_answer': 'American'}\n"
     ]
    },
    {
     "name": "stderr",
     "output_type": "stream",
     "text": [
      "09/10/2024 13:24:06 - INFO - httpx -   HTTP Request: POST https://n-central-us.openai.azure.com//openai/deployments/gpt-4o/chat/completions?api-version=2023-05-15 \"HTTP/1.1 200 OK\"\n"
     ]
    },
    {
     "name": "stdout",
     "output_type": "stream",
     "text": [
      "subject: Bun, relation: influenced by, {'2hop_question': 'Who is the author that influenced Bun?', '2hop_answer': 'Franz Kafka', '3hop_question': 'What is the most famous work of the author who influenced Bun?', '3hop_answer': 'The Metamorphosis', '4hop_question': 'In which year was the most famous work of the author who influenced Bun published?', '4hop_answer': '1915', '5hop_question': 'Which publishing house released the most famous work of the author who influenced Bun?', '5hop_answer': 'Kurt Wolff Verlag', '6hop_question': 'In which city was the publishing house located that released the most famous work of the author who influenced Bun?', '6hop_answer': 'Leipzig'}\n"
     ]
    },
    {
     "name": "stderr",
     "output_type": "stream",
     "text": [
      "09/10/2024 13:24:08 - INFO - httpx -   HTTP Request: POST https://n-central-us.openai.azure.com//openai/deployments/gpt-4o/chat/completions?api-version=2023-05-15 \"HTTP/1.1 200 OK\"\n"
     ]
    },
    {
     "name": "stdout",
     "output_type": "stream",
     "text": [
      "subject: Battlezone 98 Redux, relation: has characteristic, {'2hop_question': 'What is the genre of the game that has the characteristic of Battlezone 98 Redux?', '2hop_answer': 'First-person shooter', '3hop_question': 'Which company developed the game that has the characteristic of Battlezone 98 Redux?', '3hop_answer': 'Rebellion Developments', '4hop_question': 'In which year was the game developed by the company that has the characteristic of Battlezone 98 Redux released?', '4hop_answer': '2016', '5hop_question': 'What is the name of another game developed by the company that released the game in 2016 that has the characteristic of Battlezone 98 Redux?', '5hop_answer': 'Sniper Elite 4', '6hop_question': 'In which country is the company located that developed another game called Sniper Elite 4 and released the game in 2016 that has the characteristic of Battlezone 98 Redux?', '6hop_answer': 'United Kingdom'}\n"
     ]
    },
    {
     "name": "stderr",
     "output_type": "stream",
     "text": [
      "09/10/2024 13:24:11 - INFO - httpx -   HTTP Request: POST https://n-central-us.openai.azure.com//openai/deployments/gpt-4o/chat/completions?api-version=2023-05-15 \"HTTP/1.1 200 OK\"\n"
     ]
    },
    {
     "name": "stdout",
     "output_type": "stream",
     "text": [
      "subject: GameSpy, relation: owned by, {'2hop_question': 'Which company owns GameSpy?', '2hop_answer': 'Glu Mobile', '3hop_question': 'Who is the CEO of the company that owns GameSpy?', '3hop_answer': 'Nick Earl', '4hop_question': 'Which university did the CEO of the company that owns GameSpy attend?', '4hop_answer': 'University of Southern California', '5hop_question': 'In which city is the university located that the CEO of the company that owns GameSpy attended?', '5hop_answer': 'Los Angeles', '6hop_question': 'In which state is the city located where the university is situated that the CEO of the company that owns GameSpy attended?', '6hop_answer': 'California'}\n"
     ]
    },
    {
     "name": "stderr",
     "output_type": "stream",
     "text": [
      "09/10/2024 13:24:14 - INFO - httpx -   HTTP Request: POST https://n-central-us.openai.azure.com//openai/deployments/gpt-4o/chat/completions?api-version=2023-05-15 \"HTTP/1.1 200 OK\"\n"
     ]
    },
    {
     "name": "stdout",
     "output_type": "stream",
     "text": [
      "subject: age, relation: programmed in, {'2hop_question': \"Who is the creator of the programming language in which the 'age' function is programmed?\", '2hop_answer': 'Guido van Rossum', '3hop_question': \"Which company did the creator of the programming language in which the 'age' function is programmed work for?\", '3hop_answer': 'Google', '4hop_question': \"In which city is the headquarters of the company where the creator of the programming language in which the 'age' function is programmed worked?\", '4hop_answer': 'Mountain View', '5hop_question': \"In which state is the city located where the headquarters of the company is situated, where the creator of the programming language in which the 'age' function is programmed worked?\", '5hop_answer': 'California', '6hop_question': \"In which country is the state located where the city is situated that contains the headquarters of the company where the creator of the programming language in which the 'age' function is programmed worked?\", '6hop_answer': 'United States'}\n"
     ]
    },
    {
     "name": "stderr",
     "output_type": "stream",
     "text": [
      "09/10/2024 13:24:16 - INFO - httpx -   HTTP Request: POST https://n-central-us.openai.azure.com//openai/deployments/gpt-4o/chat/completions?api-version=2023-05-15 \"HTTP/1.1 200 OK\"\n"
     ]
    },
    {
     "name": "stdout",
     "output_type": "stream",
     "text": [
      "subject: Super Puzzle Platformer Deluxe, relation: has characteristic, {'2hop_question': 'What is the genre of the game that has the characteristic of Super Puzzle Platformer Deluxe?', '2hop_answer': 'Puzzle-platformer', '3hop_question': 'Which company developed the game that has the characteristic of Super Puzzle Platformer Deluxe?', '3hop_answer': 'Adult Swim Games', '4hop_question': 'In which year was the game developed by the company that has the characteristic of Super Puzzle Platformer Deluxe released?', '4hop_answer': '2013', '5hop_question': 'On which platform was the game released in 2013 that was developed by the company that has the characteristic of Super Puzzle Platformer Deluxe?', '5hop_answer': 'PC', '6hop_question': 'Which operating system is compatible with the platform on which the game released in 2013 that was developed by the company that has the characteristic of Super Puzzle Platformer Deluxe?', '6hop_answer': 'Windows'}\n"
     ]
    },
    {
     "name": "stderr",
     "output_type": "stream",
     "text": [
      "09/10/2024 13:24:18 - INFO - httpx -   HTTP Request: POST https://n-central-us.openai.azure.com//openai/deployments/gpt-4o/chat/completions?api-version=2023-05-15 \"HTTP/1.1 200 OK\"\n"
     ]
    },
    {
     "name": "stdout",
     "output_type": "stream",
     "text": [
      "subject: Bird, relation: stock exchange, {'2hop_question': 'Which company listed on the stock exchange is known for its electric scooters?', '2hop_answer': 'Bird', '3hop_question': 'Who is the CEO of the company known for its electric scooters listed on the stock exchange?', '3hop_answer': 'Travis VanderZanden', '4hop_question': 'Which university did the CEO of the company known for its electric scooters listed on the stock exchange attend?', '4hop_answer': 'University of Southern California', '5hop_question': 'In which city is the university located that the CEO of the company known for its electric scooters listed on the stock exchange attended?', '5hop_answer': 'Los Angeles', '6hop_question': 'In which state is the city located where the university is situated that the CEO of the company known for its electric scooters listed on the stock exchange attended?', '6hop_answer': 'California'}\n"
     ]
    },
    {
     "name": "stderr",
     "output_type": "stream",
     "text": [
      "09/10/2024 13:24:21 - INFO - httpx -   HTTP Request: POST https://n-central-us.openai.azure.com//openai/deployments/gpt-4o/chat/completions?api-version=2023-05-15 \"HTTP/1.1 200 OK\"\n"
     ]
    },
    {
     "name": "stdout",
     "output_type": "stream",
     "text": [
      "subject: Nintendo Switch Online, relation: platform, {'2hop_question': 'Which company developed the platform for Nintendo Switch Online?', '2hop_answer': 'Nintendo', '3hop_question': 'Who is the current president of the company that developed the platform for Nintendo Switch Online?', '3hop_answer': 'Shuntaro Furukawa', '4hop_question': 'Which university did the current president of the company that developed the platform for Nintendo Switch Online attend?', '4hop_answer': 'Waseda University', '5hop_question': 'In which city is the university located that the current president of the company that developed the platform for Nintendo Switch Online attended?', '5hop_answer': 'Tokyo', '6hop_question': 'In which country is the city located where the university is situated that the current president of the company that developed the platform for Nintendo Switch Online attended?', '6hop_answer': 'Japan'}\n"
     ]
    },
    {
     "name": "stderr",
     "output_type": "stream",
     "text": [
      "09/10/2024 13:24:23 - INFO - httpx -   HTTP Request: POST https://n-central-us.openai.azure.com//openai/deployments/gpt-4o/chat/completions?api-version=2023-05-15 \"HTTP/1.1 200 OK\"\n"
     ]
    },
    {
     "name": "stdout",
     "output_type": "stream",
     "text": [
      "subject: SentiOne, relation: chief operating officer, {'2hop_question': 'Who is the spouse of the chief operating officer of SentiOne?', '2hop_answer': 'Not publicly available', '3hop_question': 'Which university did the spouse of the chief operating officer of SentiOne attend for their undergraduate studies?', '3hop_answer': 'Not publicly available', '4hop_question': 'In which city is the university that the spouse of the chief operating officer of SentiOne attended located?', '4hop_answer': 'Not publicly available', '5hop_question': 'In which state is the city located where the university that the spouse of the chief operating officer of SentiOne attended is situated?', '5hop_answer': 'Not publicly available', '6hop_question': 'In which country is the state located where the city is situated that contains the university the spouse of the chief operating officer of SentiOne attended?', '6hop_answer': 'Not publicly available'}\n"
     ]
    },
    {
     "name": "stderr",
     "output_type": "stream",
     "text": [
      "09/10/2024 13:24:26 - INFO - httpx -   HTTP Request: POST https://n-central-us.openai.azure.com//openai/deployments/gpt-4o/chat/completions?api-version=2023-05-15 \"HTTP/1.1 200 OK\"\n"
     ]
    },
    {
     "name": "stdout",
     "output_type": "stream",
     "text": [
      "subject: NIKO: Through The Dream, relation: has characteristic, {'2hop_question': 'What is the genre of the game that has the characteristic of NIKO: Through The Dream?', '2hop_answer': 'Puzzle', '3hop_question': 'Which platform is the game available on that has the characteristic of NIKO: Through The Dream?', '3hop_answer': 'PC', '4hop_question': 'Which company developed the game available on PC that has the characteristic of NIKO: Through The Dream?', '4hop_answer': 'Studio Paint', '5hop_question': 'In which country is the company located that developed the game available on PC that has the characteristic of NIKO: Through The Dream?', '5hop_answer': 'Spain', '6hop_question': 'What is the official language of the country where the company is located that developed the game available on PC that has the characteristic of NIKO: Through The Dream?', '6hop_answer': 'Spanish'}\n"
     ]
    },
    {
     "name": "stderr",
     "output_type": "stream",
     "text": [
      "09/10/2024 13:24:29 - INFO - httpx -   HTTP Request: POST https://n-central-us.openai.azure.com//openai/deployments/gpt-4o/chat/completions?api-version=2023-05-15 \"HTTP/1.1 200 OK\"\n"
     ]
    },
    {
     "name": "stdout",
     "output_type": "stream",
     "text": [
      "subject: Hieroglyphika, relation: platform, {'2hop_question': 'What is the developer of the platform on which Hieroglyphika is available?', '2hop_answer': 'Team17', '3hop_question': 'What is another game developed by the developer of the platform on which Hieroglyphika is available?', '3hop_answer': 'Worms', '4hop_question': 'In which year was another game developed by the developer of the platform on which Hieroglyphika is available released?', '4hop_answer': '1995', '5hop_question': 'Who was the publisher of the game released in 1995 developed by the developer of the platform on which Hieroglyphika is available?', '5hop_answer': 'Ocean Software', '6hop_question': 'In which country is the publisher of the game released in 1995 developed by the developer of the platform on which Hieroglyphika is available headquartered?', '6hop_answer': 'United Kingdom'}\n"
     ]
    },
    {
     "name": "stderr",
     "output_type": "stream",
     "text": [
      "09/10/2024 13:24:33 - INFO - httpx -   HTTP Request: POST https://n-central-us.openai.azure.com//openai/deployments/gpt-4o/chat/completions?api-version=2023-05-15 \"HTTP/1.1 200 OK\"\n"
     ]
    },
    {
     "name": "stdout",
     "output_type": "stream",
     "text": [
      "subject: Zen, relation: developer, {'2hop_question': 'What is the name of the company that the developer of Zen founded?', '2hop_answer': 'Zen Studios', '3hop_question': 'In which country is the company that the developer of Zen founded located?', '3hop_answer': 'Hungary', '4hop_question': 'What is the capital city of the country where the company that the developer of Zen founded is located?', '4hop_answer': 'Budapest', '5hop_question': 'Which river flows through the capital city of the country where the company that the developer of Zen founded is located?', '5hop_answer': 'Danube', '6hop_question': 'Into which sea does the river that flows through the capital city of the country where the company that the developer of Zen founded is located empty?', '6hop_answer': 'Black Sea'}\n"
     ]
    },
    {
     "name": "stderr",
     "output_type": "stream",
     "text": [
      "09/10/2024 13:24:36 - INFO - httpx -   HTTP Request: POST https://n-central-us.openai.azure.com//openai/deployments/gpt-4o/chat/completions?api-version=2023-05-15 \"HTTP/1.1 200 OK\"\n"
     ]
    },
    {
     "name": "stdout",
     "output_type": "stream",
     "text": [
      "subject: Uber, relation: owned by, {'2hop_question': 'Who is the CEO of the company that owns Uber?', '2hop_answer': 'Dara Khosrowshahi', '3hop_question': 'Which company did the CEO of the company that owns Uber previously lead?', '3hop_answer': 'Expedia Group', '4hop_question': 'In which year did the CEO of the company that owns Uber become the CEO of Expedia Group?', '4hop_answer': '2005', '5hop_question': 'Which city is the headquarters of the company that the CEO of the company that owns Uber previously led located?', '5hop_answer': 'Seattle', '6hop_question': 'In which country is the state located where the city is situated that contains the headquarters of the company the CEO of the company that owns Uber previously led?', '6hop_answer': 'United States'}\n"
     ]
    },
    {
     "name": "stderr",
     "output_type": "stream",
     "text": [
      "09/10/2024 13:24:38 - INFO - httpx -   HTTP Request: POST https://n-central-us.openai.azure.com//openai/deployments/gpt-4o/chat/completions?api-version=2023-05-15 \"HTTP/1.1 200 OK\"\n"
     ]
    },
    {
     "name": "stdout",
     "output_type": "stream",
     "text": [
      "subject: NetEase Cloud Music, relation: owned by, {'2hop_question': 'Who is the CEO of the company that owns NetEase Cloud Music?', '2hop_answer': 'William Ding', '3hop_question': 'Which university did the CEO of the company that owns NetEase Cloud Music attend?', '3hop_answer': 'University of Electronic Science and Technology of China', '4hop_question': 'In which city is the university located that the CEO of the company that owns NetEase Cloud Music attended?', '4hop_answer': 'Chengdu', '5hop_question': 'In which province is the city located where the university is situated that the CEO of the company that owns NetEase Cloud Music attended?', '5hop_answer': 'Sichuan', '6hop_question': 'In which country is the province located where the city is situated that contains the university the CEO of the company that owns NetEase Cloud Music attended?', '6hop_answer': 'China'}\n"
     ]
    },
    {
     "name": "stderr",
     "output_type": "stream",
     "text": [
      "09/10/2024 13:24:41 - INFO - httpx -   HTTP Request: POST https://n-central-us.openai.azure.com//openai/deployments/gpt-4o/chat/completions?api-version=2023-05-15 \"HTTP/1.1 200 OK\"\n"
     ]
    },
    {
     "name": "stdout",
     "output_type": "stream",
     "text": [
      "subject: p0f, relation: operating system, {'2hop_question': 'What is the primary programming language used to develop the operating system that p0f runs on?', '2hop_answer': 'C', '3hop_question': 'Who is the creator of the primary programming language used to develop the operating system that p0f runs on?', '3hop_answer': 'Dennis Ritchie', '4hop_question': 'Which company did the creator of the primary programming language used to develop the operating system that p0f runs on work for?', '4hop_answer': 'Bell Labs', '5hop_question': 'In which year was the company founded where the creator of the primary programming language used to develop the operating system that p0f runs on worked?', '5hop_answer': '1925', '6hop_question': 'Who was the founder of the company that was founded in 1925 where the creator of the primary programming language used to develop the operating system that p0f runs on worked?', '6hop_answer': 'Alexander Graham Bell'}\n"
     ]
    },
    {
     "name": "stderr",
     "output_type": "stream",
     "text": [
      "09/10/2024 13:24:45 - INFO - httpx -   HTTP Request: POST https://n-central-us.openai.azure.com//openai/deployments/gpt-4o/chat/completions?api-version=2023-05-15 \"HTTP/1.1 200 OK\"\n"
     ]
    },
    {
     "name": "stdout",
     "output_type": "stream",
     "text": [
      "subject: The Marvellous Miss Take, relation: genre, {'2hop_question': 'Who is the developer of the game that belongs to the genre of The Marvellous Miss Take?', '2hop_answer': 'Wonderstruck', '3hop_question': 'What is another game developed by the developer of the game that belongs to the genre of The Marvellous Miss Take?', '3hop_answer': 'Boundless', '4hop_question': 'Which platform is the other game developed by the developer of the game that belongs to the genre of The Marvellous Miss Take available on?', '4hop_answer': 'PC', '5hop_question': 'What is the release year of the other game available on PC developed by the developer of the game that belongs to the genre of The Marvellous Miss Take?', '5hop_answer': '2018', '6hop_question': 'Who is the publisher of the game released in 2018 available on PC developed by the developer of the game that belongs to the genre of The Marvellous Miss Take?', '6hop_answer': 'Square Enix'}\n"
     ]
    },
    {
     "name": "stderr",
     "output_type": "stream",
     "text": [
      "09/10/2024 13:24:54 - INFO - httpx -   HTTP Request: POST https://n-central-us.openai.azure.com//openai/deployments/gpt-4o/chat/completions?api-version=2023-05-15 \"HTTP/1.1 200 OK\"\n"
     ]
    },
    {
     "name": "stdout",
     "output_type": "stream",
     "text": [
      "subject: Wartile, relation: has characteristic, {'2hop_question': 'What is the genre of the game that has the characteristic of Wartile?', '2hop_answer': 'Strategy', '3hop_question': 'Which company developed the game that has the characteristic of Wartile?', '3hop_answer': 'Playwood Project', '4hop_question': 'In which country is the company located that developed the game with the characteristic of Wartile?', '4hop_answer': 'Denmark', '5hop_question': 'What is the capital city of the country where the company that developed the game with the characteristic of Wartile is located?', '5hop_answer': 'Copenhagen', '6hop_question': 'What is the population of the capital city of the country where the company that developed the game with the characteristic of Wartile is located?', '6hop_answer': 'Approximately 794,000'}\n"
     ]
    },
    {
     "name": "stderr",
     "output_type": "stream",
     "text": [
      "09/10/2024 13:24:59 - INFO - httpx -   HTTP Request: POST https://n-central-us.openai.azure.com//openai/deployments/gpt-4o/chat/completions?api-version=2023-05-15 \"HTTP/1.1 200 OK\"\n"
     ]
    },
    {
     "name": "stdout",
     "output_type": "stream",
     "text": [
      "subject: Tales of Monkey Island: Chapter 2 - The Siege of Spinner Cay, relation: distribution format, {'2hop_question': 'Which company distributed Tales of Monkey Island: Chapter 2 - The Siege of Spinner Cay?', '2hop_answer': 'Telltale Games', '3hop_question': 'Who was the CEO of the company that distributed Tales of Monkey Island: Chapter 2 - The Siege of Spinner Cay?', '3hop_answer': 'Dan Connors', '4hop_question': 'Which university did the CEO of the company that distributed Tales of Monkey Island: Chapter 2 - The Siege of Spinner Cay attend?', '4hop_answer': 'University of California, Santa Cruz', '5hop_question': 'In which city is the university located that the CEO of the company that distributed Tales of Monkey Island: Chapter 2 - The Siege of Spinner Cay attended?', '5hop_answer': 'Santa Cruz', '6hop_question': 'In which state is the city located where the university is situated that the CEO of the company that distributed Tales of Monkey Island: Chapter 2 - The Siege of Spinner Cay attended?', '6hop_answer': 'California'}\n"
     ]
    },
    {
     "name": "stderr",
     "output_type": "stream",
     "text": [
      "09/10/2024 13:25:03 - INFO - httpx -   HTTP Request: POST https://n-central-us.openai.azure.com//openai/deployments/gpt-4o/chat/completions?api-version=2023-05-15 \"HTTP/1.1 200 OK\"\n"
     ]
    },
    {
     "name": "stdout",
     "output_type": "stream",
     "text": [
      "subject: News Channel, relation: country, {'2hop_question': 'What is the capital city of the country where the News Channel is based?', '2hop_answer': 'Washington, D.C.', '3hop_question': 'Which river flows through the capital city of the country where the News Channel is based?', '3hop_answer': 'Potomac River', '4hop_question': 'What is the name of the famous monument located near the river that flows through the capital city of the country where the News Channel is based?', '4hop_answer': 'Washington Monument', '5hop_question': 'Who was the first president of the country where the famous monument near the river in the capital city is located?', '5hop_answer': 'George Washington', '6hop_question': 'In which year did the first president of the country where the famous monument near the river in the capital city is located take office?', '6hop_answer': '1789'}\n"
     ]
    },
    {
     "name": "stderr",
     "output_type": "stream",
     "text": [
      "09/10/2024 13:25:06 - INFO - httpx -   HTTP Request: POST https://n-central-us.openai.azure.com//openai/deployments/gpt-4o/chat/completions?api-version=2023-05-15 \"HTTP/1.1 200 OK\"\n"
     ]
    },
    {
     "name": "stdout",
     "output_type": "stream",
     "text": [
      "subject: Google+, relation: chief executive officer, {'2hop_question': 'Who is the spouse of the chief executive officer of Google+?', '2hop_answer': 'Susan Wojcicki', '3hop_question': 'Which university did the spouse of the chief executive officer of Google+ attend for their undergraduate studies?', '3hop_answer': 'Harvard University', '4hop_question': 'In which city is the university that the spouse of the chief executive officer of Google+ attended located?', '4hop_answer': 'Cambridge', '5hop_question': 'In which state is the city located where the university that the spouse of the chief executive officer of Google+ attended is situated?', '5hop_answer': 'Massachusetts', '6hop_question': 'In which country is the state located where the city is situated that contains the university the spouse of the chief executive officer of Google+ attended?', '6hop_answer': 'United States'}\n"
     ]
    },
    {
     "name": "stderr",
     "output_type": "stream",
     "text": [
      "09/10/2024 13:25:10 - INFO - httpx -   HTTP Request: POST https://n-central-us.openai.azure.com//openai/deployments/gpt-4o/chat/completions?api-version=2023-05-15 \"HTTP/1.1 200 OK\"\n"
     ]
    },
    {
     "name": "stdout",
     "output_type": "stream",
     "text": [
      "subject: FAAC, relation: writable file format, {'2hop_question': 'Which software commonly uses the writable file format of FAAC?', '2hop_answer': 'Audacity', '3hop_question': 'What is the primary function of the software that commonly uses the writable file format of FAAC?', '3hop_answer': 'Audio editing', '4hop_question': 'Which operating systems support the primary function of the software that commonly uses the writable file format of FAAC?', '4hop_answer': 'Windows, macOS, Linux', '5hop_question': 'Who developed the operating systems that support the primary function of the software that commonly uses the writable file format of FAAC?', '5hop_answer': 'Microsoft, Apple, Linus Torvalds', '6hop_question': 'In which year was the developer of the operating system that supports the primary function of the software that commonly uses the writable file format of FAAC founded?', '6hop_answer': '1975 (Microsoft), 1976 (Apple), 1991 (Linux)'}\n"
     ]
    },
    {
     "name": "stderr",
     "output_type": "stream",
     "text": [
      "09/10/2024 13:25:12 - INFO - httpx -   HTTP Request: POST https://n-central-us.openai.azure.com//openai/deployments/gpt-4o/chat/completions?api-version=2023-05-15 \"HTTP/1.1 200 OK\"\n"
     ]
    },
    {
     "name": "stdout",
     "output_type": "stream",
     "text": [
      "subject: Zen, relation: copyright license, {'2hop_question': 'Who is the author of the work that has the Zen copyright license?', '2hop_answer': 'Yukihiro Matsumoto', '3hop_question': 'What programming language was created by the author of the work that has the Zen copyright license?', '3hop_answer': 'Ruby', '4hop_question': 'In which year was the programming language created by the author of the work that has the Zen copyright license released?', '4hop_answer': '1995', '5hop_question': 'Which company uses the programming language created by the author of the work that has the Zen copyright license for its web framework?', '5hop_answer': 'Shopify', '6hop_question': 'In which country is the company located that uses the programming language created by the author of the work that has the Zen copyright license for its web framework?', '6hop_answer': 'Canada'}\n"
     ]
    },
    {
     "name": "stderr",
     "output_type": "stream",
     "text": [
      "09/10/2024 13:25:15 - INFO - httpx -   HTTP Request: POST https://n-central-us.openai.azure.com//openai/deployments/gpt-4o/chat/completions?api-version=2023-05-15 \"HTTP/1.1 200 OK\"\n"
     ]
    },
    {
     "name": "stdout",
     "output_type": "stream",
     "text": [
      "subject: KuGou, relation: platform, {'2hop_question': 'What type of content is primarily available on the KuGou platform?', '2hop_answer': 'Music', '3hop_question': 'Which company owns the platform that primarily offers music content and is known as KuGou?', '3hop_answer': 'Tencent Music Entertainment', '4hop_question': 'In which country is the company that owns the KuGou platform headquartered?', '4hop_answer': 'China', '5hop_question': 'What is the capital city of the country where the company that owns the KuGou platform is headquartered?', '5hop_answer': 'Beijing', '6hop_question': 'Which continent is the capital city located in where the company that owns the KuGou platform is headquartered?', '6hop_answer': 'Asia'}\n"
     ]
    },
    {
     "name": "stderr",
     "output_type": "stream",
     "text": [
      "09/10/2024 13:25:17 - INFO - httpx -   HTTP Request: POST https://n-central-us.openai.azure.com//openai/deployments/gpt-4o/chat/completions?api-version=2023-05-15 \"HTTP/1.1 200 OK\"\n"
     ]
    },
    {
     "name": "stdout",
     "output_type": "stream",
     "text": [
      "subject: Way of the Red, relation: language of work or name, {'2hop_question': \"Who is the author of the work 'Way of the Red'?\", '2hop_answer': 'Brian R. James', '3hop_question': \"What is the nationality of the author of the work 'Way of the Red'?\", '3hop_answer': 'American', '4hop_question': \"In which state was the American author of the work 'Way of the Red' born?\", '4hop_answer': 'Texas', '5hop_question': \"What is the capital city of the state where the American author of the work 'Way of the Red' was born?\", '5hop_answer': 'Austin', '6hop_question': \"Which river runs through the capital city of the state where the American author of the work 'Way of the Red' was born?\", '6hop_answer': 'Colorado River'}\n"
     ]
    },
    {
     "name": "stderr",
     "output_type": "stream",
     "text": [
      "09/10/2024 13:25:25 - INFO - httpx -   HTTP Request: POST https://n-central-us.openai.azure.com//openai/deployments/gpt-4o/chat/completions?api-version=2023-05-15 \"HTTP/1.1 200 OK\"\n"
     ]
    },
    {
     "name": "stdout",
     "output_type": "stream",
     "text": [
      "subject: Plotly, relation: operating system, {'2hop_question': 'What is the primary programming language used by the operating system that Plotly supports?', '2hop_answer': 'Python', '3hop_question': 'Who created the primary programming language used by the operating system that Plotly supports?', '3hop_answer': 'Guido van Rossum', '4hop_question': 'In which year was the primary programming language created by Guido van Rossum, used by the operating system that Plotly supports, released?', '4hop_answer': '1991', '5hop_question': 'Which organization currently oversees the development of the primary programming language created by Guido van Rossum, used by the operating system that Plotly supports?', '5hop_answer': 'Python Software Foundation', '6hop_question': 'Where is the headquarters of the organization that oversees the development of the primary programming language created by Guido van Rossum, used by the operating system that Plotly supports, located?', '6hop_answer': 'Beaverton, Oregon, United States'}\n"
     ]
    },
    {
     "name": "stderr",
     "output_type": "stream",
     "text": [
      "09/10/2024 13:25:27 - INFO - httpx -   HTTP Request: POST https://n-central-us.openai.azure.com//openai/deployments/gpt-4o/chat/completions?api-version=2023-05-15 \"HTTP/1.1 200 OK\"\n"
     ]
    },
    {
     "name": "stdout",
     "output_type": "stream",
     "text": [
      "subject: SentiOne, relation: headquarters location, {'2hop_question': 'What is the country of the headquarters location of SentiOne?', '2hop_answer': 'Poland', '3hop_question': 'What is the official language of the country where the headquarters of SentiOne is located?', '3hop_answer': 'Polish', '4hop_question': 'What is the currency used in the country where the headquarters of SentiOne is located?', '4hop_answer': 'Polish złoty', '5hop_question': 'What is the capital city of the country where the headquarters of SentiOne is located?', '5hop_answer': 'Warsaw', '6hop_question': 'What is the population of the capital city of the country where the headquarters of SentiOne is located?', '6hop_answer': 'Approximately 1.8 million'}\n"
     ]
    },
    {
     "name": "stderr",
     "output_type": "stream",
     "text": [
      "09/10/2024 13:25:30 - INFO - httpx -   HTTP Request: POST https://n-central-us.openai.azure.com//openai/deployments/gpt-4o/chat/completions?api-version=2023-05-15 \"HTTP/1.1 200 OK\"\n"
     ]
    },
    {
     "name": "stdout",
     "output_type": "stream",
     "text": [
      "subject: NIKO: Through The Dream, relation: platform, {'2hop_question': 'Which company developed the platform for NIKO: Through The Dream?', '2hop_answer': 'Studio Paint', '3hop_question': 'What is the headquarters location of the company that developed the platform for NIKO: Through The Dream?', '3hop_answer': 'Spain', '4hop_question': 'What is the official language of the country where the headquarters of the company that developed the platform for NIKO: Through The Dream is located?', '4hop_answer': 'Spanish', '5hop_question': 'What is the population of the country where the official language is Spanish and the headquarters of the company that developed the platform for NIKO: Through The Dream is located?', '5hop_answer': 'Approximately 47 million', '6hop_question': 'What is the capital city of the country with a population of approximately 47 million where the official language is Spanish and the headquarters of the company that developed the platform for NIKO: Through The Dream is located?', '6hop_answer': 'Madrid'}\n"
     ]
    },
    {
     "name": "stderr",
     "output_type": "stream",
     "text": [
      "09/10/2024 13:25:33 - INFO - httpx -   HTTP Request: POST https://n-central-us.openai.azure.com//openai/deployments/gpt-4o/chat/completions?api-version=2023-05-15 \"HTTP/1.1 200 OK\"\n"
     ]
    },
    {
     "name": "stdout",
     "output_type": "stream",
     "text": [
      "subject: TILA App, relation: language of work or name, {'2hop_question': 'What is the primary language used in the TILA App?', '2hop_answer': 'Spanish', '3hop_question': 'Which country predominantly speaks the primary language used in the TILA App?', '3hop_answer': 'Mexico', '4hop_question': 'What is the capital city of the country that predominantly speaks the primary language used in the TILA App?', '4hop_answer': 'Mexico City', '5hop_question': 'What is the population of the capital city of the country that predominantly speaks the primary language used in the TILA App?', '5hop_answer': 'Approximately 9 million', '6hop_question': 'What is the name of the international airport located in the capital city of the country that predominantly speaks the primary language used in the TILA App?', '6hop_answer': 'Benito Juárez International Airport'}\n"
     ]
    },
    {
     "name": "stderr",
     "output_type": "stream",
     "text": [
      "09/10/2024 13:25:36 - INFO - httpx -   HTTP Request: POST https://n-central-us.openai.azure.com//openai/deployments/gpt-4o/chat/completions?api-version=2023-05-15 \"HTTP/1.1 200 OK\"\n"
     ]
    },
    {
     "name": "stdout",
     "output_type": "stream",
     "text": [
      "subject: Two Worlds II Castle Defense, relation: developer, {'2hop_question': 'What is another game developed by the developer of Two Worlds II Castle Defense?', '2hop_answer': 'Two Worlds II', '3hop_question': 'What is the genre of another game developed by the developer of Two Worlds II Castle Defense?', '3hop_answer': 'Role-playing', '4hop_question': 'Which platform is the genre of another game developed by the developer of Two Worlds II Castle Defense available on?', '4hop_answer': 'PC', '5hop_question': 'What is the release year of the game available on PC that is developed by the developer of Two Worlds II Castle Defense?', '5hop_answer': '2010', '6hop_question': 'Who is the publisher of the game released in 2010 available on PC that is developed by the developer of Two Worlds II Castle Defense?', '6hop_answer': 'TopWare Interactive'}\n"
     ]
    },
    {
     "name": "stderr",
     "output_type": "stream",
     "text": [
      "09/10/2024 13:25:38 - INFO - httpx -   HTTP Request: POST https://n-central-us.openai.azure.com//openai/deployments/gpt-4o/chat/completions?api-version=2023-05-15 \"HTTP/1.1 200 OK\"\n"
     ]
    },
    {
     "name": "stdout",
     "output_type": "stream",
     "text": [
      "subject: Everyday Genius: SquareLogic, relation: game mode, {'2hop_question': 'What is the most popular game mode in Everyday Genius: SquareLogic?', '2hop_answer': 'Puzzle Mode', '3hop_question': 'Who developed the most popular game mode in Everyday Genius: SquareLogic?', '3hop_answer': 'TrueThought', '4hop_question': 'In which year was the most popular game mode in Everyday Genius: SquareLogic developed by TrueThought released?', '4hop_answer': '2009', '5hop_question': 'Which platform was the most popular game mode in Everyday Genius: SquareLogic, developed by TrueThought and released in 2009, initially available on?', '5hop_answer': 'PC', '6hop_question': 'Which operating system is required to play the most popular game mode in Everyday Genius: SquareLogic, developed by TrueThought and released in 2009 on PC?', '6hop_answer': 'Windows'}\n"
     ]
    },
    {
     "name": "stderr",
     "output_type": "stream",
     "text": [
      "09/10/2024 13:25:41 - INFO - httpx -   HTTP Request: POST https://n-central-us.openai.azure.com//openai/deployments/gpt-4o/chat/completions?api-version=2023-05-15 \"HTTP/1.1 200 OK\"\n"
     ]
    },
    {
     "name": "stdout",
     "output_type": "stream",
     "text": [
      "subject: Adobe InDesign, relation: language of work or name, {'2hop_question': 'What is the primary programming language used in Adobe InDesign?', '2hop_answer': 'C++', '3hop_question': 'Who developed the primary programming language used in Adobe InDesign?', '3hop_answer': 'Bjarne Stroustrup', '4hop_question': 'Which university did the developer of the primary programming language used in Adobe InDesign attend for their PhD?', '4hop_answer': 'University of Cambridge', '5hop_question': 'In which city is the university located where the developer of the primary programming language used in Adobe InDesign attended for their PhD?', '5hop_answer': 'Cambridge', '6hop_question': 'In which country is the city located where the university is situated that the developer of the primary programming language used in Adobe InDesign attended for their PhD?', '6hop_answer': 'United Kingdom'}\n"
     ]
    },
    {
     "name": "stderr",
     "output_type": "stream",
     "text": [
      "09/10/2024 13:25:44 - INFO - httpx -   HTTP Request: POST https://n-central-us.openai.azure.com//openai/deployments/gpt-4o/chat/completions?api-version=2023-05-15 \"HTTP/1.1 200 OK\"\n"
     ]
    },
    {
     "name": "stdout",
     "output_type": "stream",
     "text": [
      "subject: FortressCraft Evolved, relation: has characteristic, {'2hop_question': 'What is a notable feature of FortressCraft Evolved?', '2hop_answer': 'Voxel-based world', '3hop_question': 'Which game engine is used to create the voxel-based world in FortressCraft Evolved?', '3hop_answer': 'Unity', '4hop_question': 'Who developed the game engine used to create the voxel-based world in FortressCraft Evolved?', '4hop_answer': 'Unity Technologies', '5hop_question': 'In which year was the company that developed the game engine used in FortressCraft Evolved founded?', '5hop_answer': '2004', '6hop_question': 'In which country was the company founded that developed the game engine used in FortressCraft Evolved?', '6hop_answer': 'Denmark'}\n"
     ]
    },
    {
     "name": "stderr",
     "output_type": "stream",
     "text": [
      "09/10/2024 13:25:46 - INFO - httpx -   HTTP Request: POST https://n-central-us.openai.azure.com//openai/deployments/gpt-4o/chat/completions?api-version=2023-05-15 \"HTTP/1.1 200 OK\"\n"
     ]
    },
    {
     "name": "stdout",
     "output_type": "stream",
     "text": [
      "subject: Webtoon, relation: distributed by, {'2hop_question': 'Which company distributes Webtoon?', '2hop_answer': 'Naver Corporation', '3hop_question': 'Who is the CEO of the company that distributes Webtoon?', '3hop_answer': 'Choi Soo-yeon', '4hop_question': 'Which university did the CEO of the company that distributes Webtoon attend?', '4hop_answer': 'Seoul National University', '5hop_question': 'In which city is the university located that the CEO of the company distributing Webtoon attended?', '5hop_answer': 'Seoul', '6hop_question': 'In which country is the city located where the university attended by the CEO of the company distributing Webtoon is situated?', '6hop_answer': 'South Korea'}\n"
     ]
    },
    {
     "name": "stderr",
     "output_type": "stream",
     "text": [
      "09/10/2024 13:25:50 - INFO - httpx -   HTTP Request: POST https://n-central-us.openai.azure.com//openai/deployments/gpt-4o/chat/completions?api-version=2023-05-15 \"HTTP/1.1 200 OK\"\n"
     ]
    },
    {
     "name": "stdout",
     "output_type": "stream",
     "text": [
      "subject: WOT Services, relation: location of formation, {'2hop_question': 'What is the capital city of the country where WOT Services was formed?', '2hop_answer': 'Helsinki', '3hop_question': 'Which sea is closest to the capital city of the country where WOT Services was formed?', '3hop_answer': 'Baltic Sea', '4hop_question': 'What is the largest island in the sea closest to the capital city of the country where WOT Services was formed?', '4hop_answer': 'Gotland', '5hop_question': 'Which country does the largest island in the sea closest to the capital city of the country where WOT Services was formed belong to?', '5hop_answer': 'Sweden', '6hop_question': 'What is the official language of the country that the largest island in the sea closest to the capital city of the country where WOT Services was formed belongs to?', '6hop_answer': 'Swedish'}\n"
     ]
    },
    {
     "name": "stderr",
     "output_type": "stream",
     "text": [
      "09/10/2024 13:25:53 - INFO - httpx -   HTTP Request: POST https://n-central-us.openai.azure.com//openai/deployments/gpt-4o/chat/completions?api-version=2023-05-15 \"HTTP/1.1 200 OK\"\n"
     ]
    },
    {
     "name": "stdout",
     "output_type": "stream",
     "text": [
      "subject: Flame Over, relation: distribution format, {'2hop_question': 'Which company is responsible for the distribution format of Flame Over?', '2hop_answer': 'Laughing Jackal', '3hop_question': 'Who is the founder of the company responsible for the distribution format of Flame Over?', '3hop_answer': 'Alasdair Evans', '4hop_question': 'Which other game was developed by the company whose founder is Alasdair Evans?', '4hop_answer': 'Cubixx HD', '5hop_question': 'On which platform was the game Cubixx HD, developed by Laughing Jackal, released?', '5hop_answer': 'PlayStation 3', '6hop_question': 'In which year was the game Cubixx HD, released on PlayStation 3 by Laughing Jackal?', '6hop_answer': '2011'}\n"
     ]
    },
    {
     "name": "stderr",
     "output_type": "stream",
     "text": [
      "09/10/2024 13:25:56 - INFO - httpx -   HTTP Request: POST https://n-central-us.openai.azure.com//openai/deployments/gpt-4o/chat/completions?api-version=2023-05-15 \"HTTP/1.1 200 OK\"\n"
     ]
    },
    {
     "name": "stdout",
     "output_type": "stream",
     "text": [
      "subject: DiDi, relation: headquarters location, {'2hop_question': 'What is the country of the headquarters location of DiDi?', '2hop_answer': 'China', '3hop_question': \"What is the official language of the country where DiDi's headquarters is located?\", '3hop_answer': 'Mandarin Chinese', '4hop_question': \"What is the population of the country where the official language is Mandarin Chinese and DiDi's headquarters is located?\", '4hop_answer': 'Approximately 1.4 billion', '5hop_question': \"What is the capital city of the country with a population of approximately 1.4 billion where DiDi's headquarters is located?\", '5hop_answer': 'Beijing', '6hop_question': \"What is the name of the famous square located in the capital city of the country where DiDi's headquarters is located?\", '6hop_answer': 'Tiananmen Square'}\n"
     ]
    },
    {
     "name": "stderr",
     "output_type": "stream",
     "text": [
      "09/10/2024 13:25:59 - INFO - httpx -   HTTP Request: POST https://n-central-us.openai.azure.com//openai/deployments/gpt-4o/chat/completions?api-version=2023-05-15 \"HTTP/1.1 200 OK\"\n"
     ]
    },
    {
     "name": "stdout",
     "output_type": "stream",
     "text": [
      "subject: Microsoft Power BI, relation: operating system, {'2hop_question': 'Which company developed the operating system for Microsoft Power BI?', '2hop_answer': 'Microsoft', '3hop_question': 'Who is the current CEO of the company that developed the operating system for Microsoft Power BI?', '3hop_answer': 'Satya Nadella', '4hop_question': 'Which university did the current CEO of the company that developed the operating system for Microsoft Power BI attend for their undergraduate studies?', '4hop_answer': 'Manipal Institute of Technology', '5hop_question': 'In which city is the university located where the current CEO of the company that developed the operating system for Microsoft Power BI attended for their undergraduate studies?', '5hop_answer': 'Manipal', '6hop_question': 'In which state is the city located where the university is situated that the current CEO of the company that developed the operating system for Microsoft Power BI attended for their undergraduate studies?', '6hop_answer': 'Karnataka'}\n"
     ]
    },
    {
     "name": "stderr",
     "output_type": "stream",
     "text": [
      "09/10/2024 13:26:02 - INFO - httpx -   HTTP Request: POST https://n-central-us.openai.azure.com//openai/deployments/gpt-4o/chat/completions?api-version=2023-05-15 \"HTTP/1.1 200 OK\"\n"
     ]
    },
    {
     "name": "stdout",
     "output_type": "stream",
     "text": [
      "subject: REBOL, relation: programmed in, {'2hop_question': 'Who is the creator of the language that REBOL is programmed in?', '2hop_answer': 'Carl Sassenrath', '3hop_question': 'Which company did the creator of the language that REBOL is programmed in work for before creating REBOL?', '3hop_answer': 'Amiga Corporation', '4hop_question': 'What was the primary product developed by the company where the creator of the language that REBOL is programmed in worked?', '4hop_answer': 'AmigaOS', '5hop_question': 'In which year was the primary product developed by the company where the creator of the language that REBOL is programmed in worked released?', '5hop_answer': '1985', '6hop_question': 'Which company acquired the company that developed the primary product released in 1985 where the creator of the language that REBOL is programmed in worked?', '6hop_answer': 'Commodore International'}\n"
     ]
    },
    {
     "name": "stderr",
     "output_type": "stream",
     "text": [
      "09/10/2024 13:26:05 - INFO - httpx -   HTTP Request: POST https://n-central-us.openai.azure.com//openai/deployments/gpt-4o/chat/completions?api-version=2023-05-15 \"HTTP/1.1 200 OK\"\n"
     ]
    },
    {
     "name": "stdout",
     "output_type": "stream",
     "text": [
      "subject: FSlint, relation: programmed in, {'2hop_question': 'Who is the creator of the programming language in which FSlint is programmed?', '2hop_answer': 'Guido van Rossum', '3hop_question': 'Which company did the creator of the programming language in which FSlint is programmed join in 2018?', '3hop_answer': 'Microsoft', '4hop_question': 'In which city is the headquarters of the company that the creator of the programming language in which FSlint is programmed joined in 2018 located?', '4hop_answer': 'Redmond', '5hop_question': 'In which state is the city located where the headquarters of the company that the creator of the programming language in which FSlint is programmed joined in 2018 is situated?', '5hop_answer': 'Washington', '6hop_question': 'In which country is the state located where the city is situated that contains the headquarters of the company the creator of the programming language in which FSlint is programmed joined in 2018?', '6hop_answer': 'United States'}\n"
     ]
    },
    {
     "name": "stderr",
     "output_type": "stream",
     "text": [
      "09/10/2024 13:26:10 - INFO - httpx -   HTTP Request: POST https://n-central-us.openai.azure.com//openai/deployments/gpt-4o/chat/completions?api-version=2023-05-15 \"HTTP/1.1 200 OK\"\n"
     ]
    },
    {
     "name": "stdout",
     "output_type": "stream",
     "text": [
      "subject: Deep Dungeons of Doom, relation: publisher, {'2hop_question': 'What is the name of the company that published Deep Dungeons of Doom?', '2hop_answer': 'Bossa Studios', '3hop_question': 'Who is the CEO of the company that published Deep Dungeons of Doom?', '3hop_answer': 'Henrique Olifiers', '4hop_question': 'Which country is the CEO of the company that published Deep Dungeons of Doom originally from?', '4hop_answer': 'Brazil', '5hop_question': 'What is the official language of the country where the CEO of the company that published Deep Dungeons of Doom is from?', '5hop_answer': 'Portuguese', '6hop_question': 'What is the population of the country where the official language is Portuguese and the CEO of the company that published Deep Dungeons of Doom is from?', '6hop_answer': 'Approximately 213 million'}\n"
     ]
    },
    {
     "name": "stderr",
     "output_type": "stream",
     "text": [
      "09/10/2024 13:26:13 - INFO - httpx -   HTTP Request: POST https://n-central-us.openai.azure.com//openai/deployments/gpt-4o/chat/completions?api-version=2023-05-15 \"HTTP/1.1 200 OK\"\n"
     ]
    },
    {
     "name": "stdout",
     "output_type": "stream",
     "text": [
      "subject: Cladun X2, relation: platform, {'2hop_question': 'Which company developed the game Cladun X2 for its platform?', '2hop_answer': 'Nippon Ichi Software', '3hop_question': 'What is the headquarters location of the company that developed the game Cladun X2 for its platform?', '3hop_answer': 'Kurokawa, Japan', '4hop_question': 'In which prefecture is the headquarters located of the company that developed the game Cladun X2 for its platform?', '4hop_answer': 'Gifu Prefecture', '5hop_question': 'What is the population of the prefecture where the headquarters of the company that developed the game Cladun X2 is located?', '5hop_answer': 'Approximately 2 million', '6hop_question': 'What is the capital city of the prefecture where the headquarters of the company that developed the game Cladun X2 is located?', '6hop_answer': 'Gifu'}\n"
     ]
    },
    {
     "name": "stderr",
     "output_type": "stream",
     "text": [
      "09/10/2024 13:26:15 - INFO - httpx -   HTTP Request: POST https://n-central-us.openai.azure.com//openai/deployments/gpt-4o/chat/completions?api-version=2023-05-15 \"HTTP/1.1 200 OK\"\n"
     ]
    },
    {
     "name": "stdout",
     "output_type": "stream",
     "text": [
      "subject: Small World 2, relation: distribution format, {'2hop_question': 'What is the primary distribution format of Small World 2?', '2hop_answer': 'Digital download', '3hop_question': 'Which platform primarily offers the digital download of Small World 2?', '3hop_answer': 'Steam', '4hop_question': 'Which company operates the platform that primarily offers the digital download of Small World 2?', '4hop_answer': 'Valve Corporation', '5hop_question': 'In which city is the headquarters of the company that operates the platform offering the digital download of Small World 2 located?', '5hop_answer': 'Bellevue', '6hop_question': 'In which state is the city located where the headquarters of the company that operates the platform offering the digital download of Small World 2 is situated?', '6hop_answer': 'Washington'}\n"
     ]
    },
    {
     "name": "stderr",
     "output_type": "stream",
     "text": [
      "09/10/2024 13:26:20 - INFO - httpx -   HTTP Request: POST https://n-central-us.openai.azure.com//openai/deployments/gpt-4o/chat/completions?api-version=2023-05-15 \"HTTP/1.1 200 OK\"\n"
     ]
    },
    {
     "name": "stdout",
     "output_type": "stream",
     "text": [
      "subject: Inoreader, relation: business model, {'2hop_question': \"What type of subscription service is part of Inoreader's business model?\", '2hop_answer': 'Freemium', '3hop_question': 'Which company offers a freemium subscription service as part of its business model?', '3hop_answer': 'Inoreader', '4hop_question': 'What is a feature available in the premium subscription of the company that offers a freemium service?', '4hop_answer': 'Offline reading', '5hop_question': 'Which platform provides offline reading as a feature in its premium subscription?', '5hop_answer': 'Inoreader', '6hop_question': 'What is the primary function of the platform that provides offline reading in its premium subscription?', '6hop_answer': 'RSS feed reader'}\n"
     ]
    },
    {
     "name": "stderr",
     "output_type": "stream",
     "text": [
      "09/10/2024 13:26:22 - INFO - httpx -   HTTP Request: POST https://n-central-us.openai.azure.com//openai/deployments/gpt-4o/chat/completions?api-version=2023-05-15 \"HTTP/1.1 200 OK\"\n"
     ]
    },
    {
     "name": "stdout",
     "output_type": "stream",
     "text": [
      "subject: Ben and Ed, relation: game mode, {'2hop_question': 'What is the primary objective in the game mode of Ben and Ed?', '2hop_answer': 'To complete obstacle courses', '3hop_question': 'What is the name of the character that players control to complete obstacle courses in the game mode of Ben and Ed?', '3hop_answer': 'Ed', '4hop_question': 'Who created the character Ed that players control to complete obstacle courses in the game mode of Ben and Ed?', '4hop_answer': 'Sluggerfly', '5hop_question': 'In which country is the game development company Sluggerfly, the creator of the character Ed in Ben and Ed, based?', '5hop_answer': 'Germany', '6hop_question': 'What is the capital city of the country where the game development company Sluggerfly, the creator of the character Ed in Ben and Ed, is based?', '6hop_answer': 'Berlin'}\n"
     ]
    },
    {
     "name": "stderr",
     "output_type": "stream",
     "text": [
      "09/10/2024 13:26:26 - INFO - httpx -   HTTP Request: POST https://n-central-us.openai.azure.com//openai/deployments/gpt-4o/chat/completions?api-version=2023-05-15 \"HTTP/1.1 200 OK\"\n"
     ]
    },
    {
     "name": "stdout",
     "output_type": "stream",
     "text": [
      "subject: Backblaze, relation: industry, {'2hop_question': 'Who is the CEO of the company in the same industry as Backblaze?', '2hop_answer': 'Drew Houston', '3hop_question': 'Which university did the CEO of the company in the same industry as Backblaze attend?', '3hop_answer': 'Massachusetts Institute of Technology (MIT)', '4hop_question': 'In which city is the university located that the CEO of the company in the same industry as Backblaze attended?', '4hop_answer': 'Cambridge', '5hop_question': 'In which state is the city located where the university that the CEO of the company in the same industry as Backblaze attended is situated?', '5hop_answer': 'Massachusetts', '6hop_question': 'In which country is the state located where the city is situated that contains the university the CEO of the company in the same industry as Backblaze attended?', '6hop_answer': 'United States'}\n"
     ]
    },
    {
     "name": "stderr",
     "output_type": "stream",
     "text": [
      "09/10/2024 13:26:29 - INFO - httpx -   HTTP Request: POST https://n-central-us.openai.azure.com//openai/deployments/gpt-4o/chat/completions?api-version=2023-05-15 \"HTTP/1.1 200 OK\"\n"
     ]
    },
    {
     "name": "stdout",
     "output_type": "stream",
     "text": [
      "subject: Two Worlds II Castle Defense, relation: distributed by, {'2hop_question': 'What is another game distributed by the distributor of Two Worlds II Castle Defense?', '2hop_answer': 'Two Worlds II', '3hop_question': 'Who is the developer of another game distributed by the distributor of Two Worlds II Castle Defense?', '3hop_answer': 'Reality Pump Studios', '4hop_question': 'In which country is the developer of another game distributed by the distributor of Two Worlds II Castle Defense based?', '4hop_answer': 'Poland', '5hop_question': 'What is the capital city of the country where the developer of another game distributed by the distributor of Two Worlds II Castle Defense is based?', '5hop_answer': 'Warsaw', '6hop_question': 'What is the population of the capital city of the country where the developer of another game distributed by the distributor of Two Worlds II Castle Defense is based?', '6hop_answer': '1.8 million'}\n"
     ]
    },
    {
     "name": "stderr",
     "output_type": "stream",
     "text": [
      "09/10/2024 13:26:32 - INFO - httpx -   HTTP Request: POST https://n-central-us.openai.azure.com//openai/deployments/gpt-4o/chat/completions?api-version=2023-05-15 \"HTTP/1.1 200 OK\"\n"
     ]
    },
    {
     "name": "stdout",
     "output_type": "stream",
     "text": [
      "subject: mystride, relation: complies with, {'2hop_question': 'Which standard does mystride comply with?', '2hop_answer': 'HIPAA', '3hop_question': 'Which organization enforces the standard that mystride complies with?', '3hop_answer': 'U.S. Department of Health and Human Services', '4hop_question': 'Who is the current Secretary of the organization that enforces the standard mystride complies with?', '4hop_answer': 'Xavier Becerra', '5hop_question': 'Which university did the current Secretary of the organization that enforces the standard mystride complies with attend for law school?', '5hop_answer': 'Stanford Law School', '6hop_question': 'In which state is the university located where the current Secretary of the organization that enforces the standard mystride complies with attended law school?', '6hop_answer': 'California'}\n"
     ]
    },
    {
     "name": "stderr",
     "output_type": "stream",
     "text": [
      "09/10/2024 13:26:35 - INFO - httpx -   HTTP Request: POST https://n-central-us.openai.azure.com//openai/deployments/gpt-4o/chat/completions?api-version=2023-05-15 \"HTTP/1.1 200 OK\"\n"
     ]
    },
    {
     "name": "stdout",
     "output_type": "stream",
     "text": [
      "subject: TransOcean: The Shipping Company, relation: country of origin, {'2hop_question': 'What is the capital city of the country of origin of TransOcean: The Shipping Company?', '2hop_answer': 'Berlin', '3hop_question': 'Which river flows through the capital city of the country of origin of TransOcean: The Shipping Company?', '3hop_answer': 'Spree', '4hop_question': 'What is the length of the river that flows through the capital city of the country of origin of TransOcean: The Shipping Company?', '4hop_answer': '400 kilometers', '5hop_question': 'Which sea does the river that flows through the capital city of the country of origin of TransOcean: The Shipping Company eventually flow into?', '5hop_answer': 'Baltic Sea', '6hop_question': 'Which country borders the sea that the river flowing through the capital city of the country of origin of TransOcean: The Shipping Company eventually flows into?', '6hop_answer': 'Denmark'}\n"
     ]
    },
    {
     "name": "stderr",
     "output_type": "stream",
     "text": [
      "09/10/2024 13:26:42 - INFO - httpx -   HTTP Request: POST https://n-central-us.openai.azure.com//openai/deployments/gpt-4o/chat/completions?api-version=2023-05-15 \"HTTP/1.1 200 OK\"\n"
     ]
    },
    {
     "name": "stdout",
     "output_type": "stream",
     "text": [
      "subject: Relic Hunters Zero, relation: publisher, {'2hop_question': 'Who is the CEO of the publisher of Relic Hunters Zero?', '2hop_answer': 'Mark Venturelli', '3hop_question': 'Which company did the CEO of the publisher of Relic Hunters Zero previously work for?', '3hop_answer': 'Critical Studio', '4hop_question': 'What game was developed by the company where the CEO of the publisher of Relic Hunters Zero previously worked?', '4hop_answer': 'Dungeonland', '5hop_question': 'Which platform was the game developed by the company where the CEO of the publisher of Relic Hunters Zero previously worked released on?', '5hop_answer': 'PC', '6hop_question': 'Which operating system is commonly used to run the platform that the game developed by the company where the CEO of the publisher of Relic Hunters Zero previously worked was released on?', '6hop_answer': 'Windows'}\n"
     ]
    },
    {
     "name": "stderr",
     "output_type": "stream",
     "text": [
      "09/10/2024 13:26:44 - INFO - httpx -   HTTP Request: POST https://n-central-us.openai.azure.com//openai/deployments/gpt-4o/chat/completions?api-version=2023-05-15 \"HTTP/1.1 200 OK\"\n"
     ]
    },
    {
     "name": "stdout",
     "output_type": "stream",
     "text": [
      "subject: Small World 2, relation: has characteristic, {'2hop_question': 'What is a notable feature of Small World 2?', '2hop_answer': 'Digital board game adaptation', '3hop_question': 'Which company developed the digital board game adaptation of Small World 2?', '3hop_answer': 'Days of Wonder', '4hop_question': 'In which year was the company that developed the digital board game adaptation of Small World 2 founded?', '4hop_answer': '2002', '5hop_question': 'Who was the founder of the company that developed the digital board game adaptation of Small World 2?', '5hop_answer': 'Eric Hautemont', '6hop_question': 'Which other popular board game was developed by the founder of the company that created the digital board game adaptation of Small World 2?', '6hop_answer': 'Ticket to Ride'}\n"
     ]
    },
    {
     "name": "stderr",
     "output_type": "stream",
     "text": [
      "09/10/2024 13:26:48 - INFO - httpx -   HTTP Request: POST https://n-central-us.openai.azure.com//openai/deployments/gpt-4o/chat/completions?api-version=2023-05-15 \"HTTP/1.1 200 OK\"\n"
     ]
    },
    {
     "name": "stdout",
     "output_type": "stream",
     "text": [
      "subject: J-Pilot, relation: programmed in, {'2hop_question': 'Who is the creator of the programming language in which J-Pilot is programmed?', '2hop_answer': 'Guido van Rossum', '3hop_question': 'Which company did the creator of the programming language in which J-Pilot is programmed work for in 2018?', '3hop_answer': 'Dropbox', '4hop_question': 'In which city is the headquarters of the company where the creator of the programming language in which J-Pilot is programmed worked in 2018 located?', '4hop_answer': 'San Francisco', '5hop_question': 'In which state is the city located where the headquarters of the company is situated, where the creator of the programming language in which J-Pilot is programmed worked in 2018?', '5hop_answer': 'California', '6hop_question': 'In which country is the state located where the city is situated that contains the headquarters of the company where the creator of the programming language in which J-Pilot is programmed worked in 2018?', '6hop_answer': 'United States'}\n"
     ]
    },
    {
     "name": "stderr",
     "output_type": "stream",
     "text": [
      "09/10/2024 13:26:51 - INFO - httpx -   HTTP Request: POST https://n-central-us.openai.azure.com//openai/deployments/gpt-4o/chat/completions?api-version=2023-05-15 \"HTTP/1.1 200 OK\"\n"
     ]
    },
    {
     "name": "stdout",
     "output_type": "stream",
     "text": [
      "subject: Chuchel, relation: has characteristic, {'2hop_question': 'What is the genre of the game that has the characteristic of Chuchel?', '2hop_answer': 'Adventure', '3hop_question': 'Who is the developer of the game that has the characteristic of Chuchel?', '3hop_answer': 'Amanita Design', '4hop_question': 'In which country is the developer of the game that has the characteristic of Chuchel based?', '4hop_answer': 'Czech Republic', '5hop_question': 'What is the capital city of the country where the developer of the game that has the characteristic of Chuchel is based?', '5hop_answer': 'Prague', '6hop_question': 'What is the population of the capital city of the country where the developer of the game that has the characteristic of Chuchel is based?', '6hop_answer': '1.3 million'}\n"
     ]
    },
    {
     "name": "stderr",
     "output_type": "stream",
     "text": [
      "09/10/2024 13:26:53 - INFO - httpx -   HTTP Request: POST https://n-central-us.openai.azure.com//openai/deployments/gpt-4o/chat/completions?api-version=2023-05-15 \"HTTP/1.1 200 OK\"\n"
     ]
    },
    {
     "name": "stdout",
     "output_type": "stream",
     "text": [
      "subject: Archeblade, relation: has characteristic, {'2hop_question': 'What is the genre of the game that has the characteristic of Archeblade?', '2hop_answer': 'Fighting game', '3hop_question': 'Which company developed the game that has the characteristic of Archeblade?', '3hop_answer': 'Codebrush Games', '4hop_question': 'In which country is the company located that developed the game with the characteristic of Archeblade?', '4hop_answer': 'South Korea', '5hop_question': 'What is the capital city of the country where the company that developed the game with the characteristic of Archeblade is located?', '5hop_answer': 'Seoul', '6hop_question': 'What is the population of the capital city of the country where the company that developed the game with the characteristic of Archeblade is located?', '6hop_answer': 'Approximately 9.7 million'}\n"
     ]
    },
    {
     "name": "stderr",
     "output_type": "stream",
     "text": [
      "09/10/2024 13:26:55 - INFO - httpx -   HTTP Request: POST https://n-central-us.openai.azure.com//openai/deployments/gpt-4o/chat/completions?api-version=2023-05-15 \"HTTP/1.1 200 OK\"\n"
     ]
    },
    {
     "name": "stdout",
     "output_type": "stream",
     "text": [
      "subject: KuGou, relation: developer, {'2hop_question': 'What is the name of the company that developed KuGou?', '2hop_answer': 'Tencent Music Entertainment', '3hop_question': 'Who is the CEO of the company that developed KuGou?', '3hop_answer': 'Cussion Pang', '4hop_question': 'Which university did the CEO of the company that developed KuGou attend?', '4hop_answer': 'University of Hong Kong', '5hop_question': 'In which city is the university located that the CEO of the company that developed KuGou attended?', '5hop_answer': 'Hong Kong', '6hop_question': 'In which country is the city located where the university that the CEO of the company that developed KuGou attended?', '6hop_answer': 'China'}\n"
     ]
    },
    {
     "name": "stderr",
     "output_type": "stream",
     "text": [
      "09/10/2024 13:26:58 - INFO - httpx -   HTTP Request: POST https://n-central-us.openai.azure.com//openai/deployments/gpt-4o/chat/completions?api-version=2023-05-15 \"HTTP/1.1 200 OK\"\n"
     ]
    },
    {
     "name": "stdout",
     "output_type": "stream",
     "text": [
      "subject: JDiskReport, relation: operating system, {'2hop_question': 'Which company developed the operating system that JDiskReport runs on?', '2hop_answer': 'Sun Microsystems', '3hop_question': 'What is the name of the programming language created by the company that developed the operating system JDiskReport runs on?', '3hop_answer': 'Java', '4hop_question': 'Who is the creator of the programming language developed by the company that created the operating system JDiskReport runs on?', '4hop_answer': 'James Gosling', '5hop_question': 'Which university did the creator of the programming language developed by the company that created the operating system JDiskReport runs on attend?', '5hop_answer': 'University of Calgary', '6hop_question': 'In which country is the university located where the creator of the programming language developed by the company that created the operating system JDiskReport runs on attended?', '6hop_answer': 'Canada'}\n"
     ]
    },
    {
     "name": "stderr",
     "output_type": "stream",
     "text": [
      "09/10/2024 13:27:02 - INFO - httpx -   HTTP Request: POST https://n-central-us.openai.azure.com//openai/deployments/gpt-4o/chat/completions?api-version=2023-05-15 \"HTTP/1.1 200 OK\"\n"
     ]
    },
    {
     "name": "stdout",
     "output_type": "stream",
     "text": [
      "subject: Vite, relation: operating system, {'2hop_question': 'What is the primary programming language used to develop the operating system that Vite runs on?', '2hop_answer': 'JavaScript', '3hop_question': 'Who created the primary programming language used to develop the operating system that Vite runs on?', '3hop_answer': 'Brendan Eich', '4hop_question': 'Which company was Brendan Eich working for when he created the primary programming language used to develop the operating system that Vite runs on?', '4hop_answer': 'Netscape Communications Corporation', '5hop_question': 'In which year was the company founded that employed Brendan Eich when he created the primary programming language used to develop the operating system that Vite runs on?', '5hop_answer': '1994', '6hop_question': 'Who were the founders of the company that employed Brendan Eich when he created the primary programming language used to develop the operating system that Vite runs on?', '6hop_answer': 'Marc Andreessen and Jim Clark'}\n"
     ]
    },
    {
     "name": "stderr",
     "output_type": "stream",
     "text": [
      "09/10/2024 13:27:05 - INFO - httpx -   HTTP Request: POST https://n-central-us.openai.azure.com//openai/deployments/gpt-4o/chat/completions?api-version=2023-05-15 \"HTTP/1.1 200 OK\"\n"
     ]
    },
    {
     "name": "stdout",
     "output_type": "stream",
     "text": [
      "subject: Nothing, Forever, relation: based on, {'2hop_question': 'Who is the author of the work that Nothing, Forever is based on?', '2hop_answer': 'Jerry Seinfeld', '3hop_question': 'What is the profession of the author of the work that Nothing, Forever is based on?', '3hop_answer': 'Comedian', '4hop_question': 'Which television show did the comedian who authored the work that Nothing, Forever is based on star in?', '4hop_answer': 'Seinfeld', '5hop_question': 'Who was the co-creator of the television show that the comedian who authored the work that Nothing, Forever is based on starred in?', '5hop_answer': 'Larry David', '6hop_question': 'Which network originally aired the television show co-created by Larry David and the comedian who authored the work that Nothing, Forever is based on?', '6hop_answer': 'NBC'}\n"
     ]
    },
    {
     "name": "stderr",
     "output_type": "stream",
     "text": [
      "09/10/2024 13:27:07 - INFO - httpx -   HTTP Request: POST https://n-central-us.openai.azure.com//openai/deployments/gpt-4o/chat/completions?api-version=2023-05-15 \"HTTP/1.1 200 OK\"\n"
     ]
    },
    {
     "name": "stdout",
     "output_type": "stream",
     "text": [
      "subject: Strawberry, relation: language of work or name, {'2hop_question': 'What is the primary language of work or name for the Strawberry plant?', '2hop_answer': 'English', '3hop_question': 'Which country primarily speaks the language of work or name for the Strawberry plant?', '3hop_answer': 'United States', '4hop_question': 'What is the capital city of the country that primarily speaks the language of work or name for the Strawberry plant?', '4hop_answer': 'Washington, D.C.', '5hop_question': 'Which river flows through the capital city of the country that primarily speaks the language of work or name for the Strawberry plant?', '5hop_answer': 'Potomac River', '6hop_question': 'Into which body of water does the river that flows through the capital city of the country that primarily speaks the language of work or name for the Strawberry plant empty?', '6hop_answer': 'Chesapeake Bay'}\n"
     ]
    },
    {
     "name": "stderr",
     "output_type": "stream",
     "text": [
      "09/10/2024 13:27:13 - INFO - httpx -   HTTP Request: POST https://n-central-us.openai.azure.com//openai/deployments/gpt-4o/chat/completions?api-version=2023-05-15 \"HTTP/1.1 200 OK\"\n"
     ]
    },
    {
     "name": "stdout",
     "output_type": "stream",
     "text": [
      "subject: libev, relation: operating system, {'2hop_question': 'Which programming language is commonly used to develop applications on the operating system that supports libev?', '2hop_answer': 'C', '3hop_question': 'Who is the creator of the programming language commonly used to develop applications on the operating system that supports libev?', '3hop_answer': 'Dennis Ritchie', '4hop_question': 'Which company did the creator of the programming language commonly used to develop applications on the operating system that supports libev work for?', '4hop_answer': 'Bell Labs', '5hop_question': 'In which year was the company founded where the creator of the programming language commonly used to develop applications on the operating system that supports libev worked?', '5hop_answer': '1925', '6hop_question': 'Who was the founder of the company that was established in 1925 and employed the creator of the programming language commonly used to develop applications on the operating system that supports libev?', '6hop_answer': 'Alexander Graham Bell'}\n"
     ]
    },
    {
     "name": "stderr",
     "output_type": "stream",
     "text": [
      "09/10/2024 13:27:16 - INFO - httpx -   HTTP Request: POST https://n-central-us.openai.azure.com//openai/deployments/gpt-4o/chat/completions?api-version=2023-05-15 \"HTTP/1.1 200 OK\"\n"
     ]
    },
    {
     "name": "stdout",
     "output_type": "stream",
     "text": [
      "subject: Cainiao, relation: founded by, {'2hop_question': 'Who is the founder of the company that founded Cainiao?', '2hop_answer': 'Jack Ma', '3hop_question': 'Which university did the founder of the company that founded Cainiao attend?', '3hop_answer': 'Hangzhou Normal University', '4hop_question': 'In which city is the university located that the founder of the company that founded Cainiao attended?', '4hop_answer': 'Hangzhou', '5hop_question': 'In which province is the city located where the university that the founder of the company that founded Cainiao attended is situated?', '5hop_answer': 'Zhejiang', '6hop_question': 'In which country is the province located where the city is situated that contains the university the founder of the company that founded Cainiao attended?', '6hop_answer': 'China'}\n"
     ]
    },
    {
     "name": "stderr",
     "output_type": "stream",
     "text": [
      "09/10/2024 13:27:21 - INFO - httpx -   HTTP Request: POST https://n-central-us.openai.azure.com//openai/deployments/gpt-4o/chat/completions?api-version=2023-05-15 \"HTTP/1.1 200 OK\"\n"
     ]
    },
    {
     "name": "stdout",
     "output_type": "stream",
     "text": [
      "subject: Bun, relation: copyright license, {'2hop_question': 'Who is the author of the work that has a copyright license for Bun?', '2hop_answer': 'Jarred Sumner', '3hop_question': 'What is the primary programming language used by the author of the work that has a copyright license for Bun?', '3hop_answer': 'JavaScript', '4hop_question': 'Which company or organization is associated with the primary programming language used by the author of the work that has a copyright license for Bun?', '4hop_answer': 'Netscape', '5hop_question': 'In which year was the company or organization associated with the primary programming language used by the author of the work that has a copyright license for Bun founded?', '5hop_answer': '1994', '6hop_question': 'Who was the founder of the company or organization that was founded in 1994 and is associated with the primary programming language used by the author of the work that has a copyright license for Bun?', '6hop_answer': 'Marc Andreessen'}\n"
     ]
    },
    {
     "name": "stderr",
     "output_type": "stream",
     "text": [
      "09/10/2024 13:27:23 - INFO - httpx -   HTTP Request: POST https://n-central-us.openai.azure.com//openai/deployments/gpt-4o/chat/completions?api-version=2023-05-15 \"HTTP/1.1 200 OK\"\n"
     ]
    },
    {
     "name": "stdout",
     "output_type": "stream",
     "text": [
      "subject: Java, relation: copyright license, {'2hop_question': 'Which company holds the copyright license for Java?', '2hop_answer': 'Oracle Corporation', '3hop_question': 'Who is the CEO of the company that holds the copyright license for Java?', '3hop_answer': 'Safra Catz', '4hop_question': 'Which university did the CEO of the company that holds the copyright license for Java attend?', '4hop_answer': 'Wharton School of the University of Pennsylvania', '5hop_question': 'In which city is the university located that the CEO of the company holding the copyright license for Java attended?', '5hop_answer': 'Philadelphia', '6hop_question': 'In which state is the city located where the university is situated that the CEO of the company holding the copyright license for Java attended?', '6hop_answer': 'Pennsylvania'}\n"
     ]
    },
    {
     "name": "stderr",
     "output_type": "stream",
     "text": [
      "09/10/2024 13:27:25 - INFO - httpx -   HTTP Request: POST https://n-central-us.openai.azure.com//openai/deployments/gpt-4o/chat/completions?api-version=2023-05-15 \"HTTP/1.1 200 OK\"\n"
     ]
    },
    {
     "name": "stdout",
     "output_type": "stream",
     "text": [
      "subject: Adventure Game Studio, relation: platform, {'2hop_question': 'Which operating system is a platform for Adventure Game Studio?', '2hop_answer': 'Windows', '3hop_question': 'Who is the developer of the operating system that is a platform for Adventure Game Studio?', '3hop_answer': 'Microsoft', '4hop_question': 'In which year was the company that developed the operating system for Adventure Game Studio founded?', '4hop_answer': '1975', '5hop_question': 'Who were the founders of the company that developed the operating system for Adventure Game Studio?', '5hop_answer': 'Bill Gates and Paul Allen', '6hop_question': 'In which city was the company founded that developed the operating system for Adventure Game Studio?', '6hop_answer': 'Albuquerque'}\n"
     ]
    },
    {
     "name": "stderr",
     "output_type": "stream",
     "text": [
      "09/10/2024 13:27:27 - INFO - httpx -   HTTP Request: POST https://n-central-us.openai.azure.com//openai/deployments/gpt-4o/chat/completions?api-version=2023-05-15 \"HTTP/1.1 200 OK\"\n"
     ]
    },
    {
     "name": "stdout",
     "output_type": "stream",
     "text": [
      "subject: Everyday Genius: SquareLogic, relation: language of work or name, {'2hop_question': 'Who is the developer of the game Everyday Genius: SquareLogic?', '2hop_answer': 'TrueThought', '3hop_question': 'What is the primary language used by the developer of the game Everyday Genius: SquareLogic?', '3hop_answer': 'English', '4hop_question': 'In which country is the primary language used by the developer of the game Everyday Genius: SquareLogic predominantly spoken?', '4hop_answer': 'United States', '5hop_question': 'What is the capital city of the country where the primary language used by the developer of the game Everyday Genius: SquareLogic is predominantly spoken?', '5hop_answer': 'Washington, D.C.', '6hop_question': 'Which river flows through the capital city of the country where the primary language used by the developer of the game Everyday Genius: SquareLogic is predominantly spoken?', '6hop_answer': 'Potomac River'}\n"
     ]
    },
    {
     "name": "stderr",
     "output_type": "stream",
     "text": [
      "09/10/2024 13:27:30 - INFO - httpx -   HTTP Request: POST https://n-central-us.openai.azure.com//openai/deployments/gpt-4o/chat/completions?api-version=2023-05-15 \"HTTP/1.1 200 OK\"\n"
     ]
    },
    {
     "name": "stdout",
     "output_type": "stream",
     "text": [
      "subject: Adventure Game Studio, relation: copyright license, {'2hop_question': 'Who holds the copyright license for Adventure Game Studio?', '2hop_answer': 'Chris Jones', '3hop_question': 'What is the nationality of the person who holds the copyright license for Adventure Game Studio?', '3hop_answer': 'British', '4hop_question': 'In which country does the person who holds the copyright license for Adventure Game Studio reside?', '4hop_answer': 'United Kingdom', '5hop_question': 'What is the capital city of the country where the person who holds the copyright license for Adventure Game Studio resides?', '5hop_answer': 'London', '6hop_question': 'Which river flows through the capital city of the country where the person who holds the copyright license for Adventure Game Studio resides?', '6hop_answer': 'River Thames'}\n"
     ]
    },
    {
     "name": "stderr",
     "output_type": "stream",
     "text": [
      "09/10/2024 13:27:33 - INFO - httpx -   HTTP Request: POST https://n-central-us.openai.azure.com//openai/deployments/gpt-4o/chat/completions?api-version=2023-05-15 \"HTTP/1.1 200 OK\"\n"
     ]
    },
    {
     "name": "stdout",
     "output_type": "stream",
     "text": [
      "subject: Ben and Ed, relation: genre, {'2hop_question': 'Who is the developer of the game that belongs to the same genre as Ben and Ed?', '2hop_answer': 'Sluggerfly', '3hop_question': 'In which country is the developer of the game that belongs to the same genre as Ben and Ed based?', '3hop_answer': 'Germany', '4hop_question': 'What is the capital city of the country where the developer of the game that belongs to the same genre as Ben and Ed is based?', '4hop_answer': 'Berlin', '5hop_question': 'Which river flows through the capital city of the country where the developer of the game that belongs to the same genre as Ben and Ed is based?', '5hop_answer': 'Spree', '6hop_question': 'Into which larger river does the river that flows through the capital city of the country where the developer of the game that belongs to the same genre as Ben and Ed is based eventually flow?', '6hop_answer': 'Havel'}\n"
     ]
    },
    {
     "name": "stderr",
     "output_type": "stream",
     "text": [
      "09/10/2024 13:27:36 - INFO - httpx -   HTTP Request: POST https://n-central-us.openai.azure.com//openai/deployments/gpt-4o/chat/completions?api-version=2023-05-15 \"HTTP/1.1 200 OK\"\n"
     ]
    },
    {
     "name": "stdout",
     "output_type": "stream",
     "text": [
      "subject: The Marvellous Miss Take, relation: distribution format, {'2hop_question': 'Which company is responsible for the distribution format of The Marvellous Miss Take?', '2hop_answer': 'Rising Star Games', '3hop_question': 'What is the headquarters location of the company responsible for the distribution format of The Marvellous Miss Take?', '3hop_answer': 'Hertfordshire, United Kingdom', '4hop_question': 'What is the population of the town where the headquarters of the company responsible for the distribution format of The Marvellous Miss Take is located?', '4hop_answer': '1,184,365', '5hop_question': 'What is the name of the county where the town with the headquarters of the company responsible for the distribution format of The Marvellous Miss Take is located?', '5hop_answer': 'Hertfordshire', '6hop_question': 'What is the name of the country where the county is located that contains the town with the headquarters of the company responsible for the distribution format of The Marvellous Miss Take?', '6hop_answer': 'United Kingdom'}\n"
     ]
    },
    {
     "name": "stderr",
     "output_type": "stream",
     "text": [
      "09/10/2024 13:27:42 - INFO - httpx -   HTTP Request: POST https://n-central-us.openai.azure.com//openai/deployments/gpt-4o/chat/completions?api-version=2023-05-15 \"HTTP/1.1 200 OK\"\n"
     ]
    },
    {
     "name": "stdout",
     "output_type": "stream",
     "text": [
      "subject: pnpm, relation: operating system, {'2hop_question': 'Which company developed the operating system that pnpm is compatible with?', '2hop_answer': 'Microsoft', '3hop_question': 'Who is the current CEO of the company that developed the operating system compatible with pnpm?', '3hop_answer': 'Satya Nadella', '4hop_question': 'Which university did the current CEO of the company that developed the operating system compatible with pnpm attend for their undergraduate studies?', '4hop_answer': 'Manipal Institute of Technology', '5hop_question': 'In which city is the university located where the current CEO of the company that developed the operating system compatible with pnpm attended for their undergraduate studies?', '5hop_answer': 'Manipal', '6hop_question': 'In which state is the city located where the university is situated that the current CEO of the company that developed the operating system compatible with pnpm attended?', '6hop_answer': 'Karnataka'}\n"
     ]
    },
    {
     "name": "stderr",
     "output_type": "stream",
     "text": [
      "09/10/2024 13:27:45 - INFO - httpx -   HTTP Request: POST https://n-central-us.openai.azure.com//openai/deployments/gpt-4o/chat/completions?api-version=2023-05-15 \"HTTP/1.1 200 OK\"\n"
     ]
    },
    {
     "name": "stdout",
     "output_type": "stream",
     "text": [
      "subject: Nextcloud, relation: based on, {'2hop_question': 'What is the primary programming language used in the software that Nextcloud is based on?', '2hop_answer': 'PHP', '3hop_question': 'Who is the creator of the primary programming language used in the software that Nextcloud is based on?', '3hop_answer': 'Rasmus Lerdorf', '4hop_question': 'In which year was the primary programming language created by the person who developed the language used in the software that Nextcloud is based on?', '4hop_answer': '1994', '5hop_question': 'Which company employed the creator of the primary programming language used in the software that Nextcloud is based on?', '5hop_answer': 'Yahoo', '6hop_question': 'In which country is the headquarters of the company that employed the creator of the primary programming language used in the software that Nextcloud is based on?', '6hop_answer': 'United States'}\n"
     ]
    },
    {
     "name": "stderr",
     "output_type": "stream",
     "text": [
      "09/10/2024 13:27:47 - INFO - httpx -   HTTP Request: POST https://n-central-us.openai.azure.com//openai/deployments/gpt-4o/chat/completions?api-version=2023-05-15 \"HTTP/1.1 200 OK\"\n"
     ]
    },
    {
     "name": "stdout",
     "output_type": "stream",
     "text": [
      "subject: Streamlabs, relation: headquarters location, {'2hop_question': 'What is the country of the headquarters location of Streamlabs?', '2hop_answer': 'United States', '3hop_question': 'What is the state of the headquarters location of Streamlabs?', '3hop_answer': 'California', '4hop_question': 'What is the city of the headquarters location of Streamlabs?', '4hop_answer': 'San Francisco', '5hop_question': 'What is a famous landmark in the city where the headquarters of Streamlabs is located?', '5hop_answer': 'Golden Gate Bridge', '6hop_question': 'In which year was the famous landmark in the city where the headquarters of Streamlabs is located completed?', '6hop_answer': '1937'}\n"
     ]
    },
    {
     "name": "stderr",
     "output_type": "stream",
     "text": [
      "09/10/2024 13:27:50 - INFO - httpx -   HTTP Request: POST https://n-central-us.openai.azure.com//openai/deployments/gpt-4o/chat/completions?api-version=2023-05-15 \"HTTP/1.1 200 OK\"\n"
     ]
    },
    {
     "name": "stdout",
     "output_type": "stream",
     "text": [
      "subject: Encarta, relation: operating system, {'2hop_question': 'Which company developed the operating system for Encarta?', '2hop_answer': 'Microsoft', '3hop_question': 'Who is the founder of the company that developed the operating system for Encarta?', '3hop_answer': 'Bill Gates', '4hop_question': 'What is the name of the philanthropic foundation established by the founder of the company that developed the operating system for Encarta?', '4hop_answer': 'Bill & Melinda Gates Foundation', '5hop_question': 'In which year was the philanthropic foundation established by the founder of the company that developed the operating system for Encarta founded?', '5hop_answer': '2000', '6hop_question': 'Which global health initiative is a major focus of the philanthropic foundation established by the founder of the company that developed the operating system for Encarta?', '6hop_answer': 'Global health and development'}\n"
     ]
    },
    {
     "name": "stderr",
     "output_type": "stream",
     "text": [
      "09/10/2024 13:27:53 - INFO - httpx -   HTTP Request: POST https://n-central-us.openai.azure.com//openai/deployments/gpt-4o/chat/completions?api-version=2023-05-15 \"HTTP/1.1 200 OK\"\n"
     ]
    },
    {
     "name": "stdout",
     "output_type": "stream",
     "text": [
      "subject: Corel Ventura, relation: developer, {'2hop_question': 'Which company is the developer of Corel Ventura?', '2hop_answer': 'Corel Corporation', '3hop_question': 'In which year was the company that developed Corel Ventura founded?', '3hop_answer': '1985', '4hop_question': 'Who was the founder of the company that developed Corel Ventura?', '4hop_answer': 'Michael Cowpland', '5hop_question': 'Which university did the founder of the company that developed Corel Ventura attend?', '5hop_answer': 'Carleton University', '6hop_question': 'In which city is the university located that the founder of the company that developed Corel Ventura attended?', '6hop_answer': 'Ottawa'}\n"
     ]
    },
    {
     "name": "stderr",
     "output_type": "stream",
     "text": [
      "09/10/2024 13:27:56 - INFO - httpx -   HTTP Request: POST https://n-central-us.openai.azure.com//openai/deployments/gpt-4o/chat/completions?api-version=2023-05-15 \"HTTP/1.1 200 OK\"\n"
     ]
    },
    {
     "name": "stdout",
     "output_type": "stream",
     "text": [
      "subject: Battlezone 98 Redux, relation: developer, {'2hop_question': 'What other game was developed by the developer of Battlezone 98 Redux?', '2hop_answer': 'Battlezone: Combat Commander', '3hop_question': 'What is the genre of the other game developed by the developer of Battlezone 98 Redux?', '3hop_answer': 'Real-time strategy', '4hop_question': 'Which company published the other game developed by the developer of Battlezone 98 Redux?', '4hop_answer': 'Rebellion Developments', '5hop_question': 'In which year was the other game published by the company that published the other game developed by the developer of Battlezone 98 Redux?', '5hop_answer': '2018', '6hop_question': 'What is the headquarters location of the company that published the other game developed by the developer of Battlezone 98 Redux?', '6hop_answer': 'Oxford, England'}\n"
     ]
    },
    {
     "name": "stderr",
     "output_type": "stream",
     "text": [
      "09/10/2024 13:28:05 - INFO - httpx -   HTTP Request: POST https://n-central-us.openai.azure.com//openai/deployments/gpt-4o/chat/completions?api-version=2023-05-15 \"HTTP/1.1 200 OK\"\n"
     ]
    },
    {
     "name": "stdout",
     "output_type": "stream",
     "text": [
      "subject: Forecast Channel, relation: country of origin, {'2hop_question': 'What is the official language of the country of origin of the Forecast Channel?', '2hop_answer': 'Japanese', '3hop_question': 'What is the capital city of the country where the Forecast Channel originated?', '3hop_answer': 'Tokyo', '4hop_question': 'Which island is the capital city located on in the country where the Forecast Channel originated?', '4hop_answer': 'Honshu', '5hop_question': 'What is the largest city on the island where the capital city is located in the country of origin of the Forecast Channel?', '5hop_answer': 'Tokyo', '6hop_question': 'What is the population of the largest city on the island where the capital city is located in the country of origin of the Forecast Channel?', '6hop_answer': 'Approximately 14 million'}\n"
     ]
    }
   ],
   "source": [
    "client = AzureOpenAI(api_key=load_api_key('api_key_n_central_us'), api_version='2023-05-15', azure_endpoint=\"https://n-central-us.openai.azure.com/\")\n",
    "system_msg_gen_q = \"\"\" \n",
    "Given a subject and a relation, your task is to create 2-hop, 3-hop, 4-hop, 5-hop, and 6-hop questions, along with their correct answers. \\\n",
    "Always use the provided subject and relation to create multi-hop questions, and avoid including any correct answers from other multi-hop questions. \\\n",
    "Output in JSON format. Below is an example:\n",
    "\n",
    "Example input: \n",
    "subject: Amazon, relation: founder\n",
    "\n",
    "Example output: \n",
    "{\n",
    "    \"2hop_question\": \"Who is the spouse of the Amazon founder?\",\n",
    "    \"2hop_answer\": \"MacKenzie Scott\",\n",
    "    \"3hop_question\": \"Which university did the spouse of the Amazon founder attend for their undergraduate studies?\",\n",
    "    \"3hop_answer\": \"Princeton University\",\n",
    "    \"4hop_question\": \"In which city is the university that the spouse of the Amazon founder attended located?\",\n",
    "    \"4hop_answer\": \"Princeton\",\n",
    "    \"5hop_question\": \"In which state is the city located where the university that the spouse of the Amazon founder attended is situated?\",\n",
    "    \"5hop_answer\": \"New Jersey\",\n",
    "    \"6hop_question\": \"In which country is the state located where the city is situated that contains the university the spouse of the Amazon founder attended?\",\n",
    "    \"6hop_answer\": \"United States\",\n",
    "}\n",
    "\"\"\"\n",
    "\n",
    "ls_2hop_q, ls_2hop_a, ls_3hop_q, ls_3hop_a, ls_4hop_q, ls_4hop_a, ls_5hop_q, ls_5hop_a, ls_6hop_q, ls_6hop_a = ([] for _ in range(10))\n",
    "\n",
    "def generate_questions(df_hallu):\n",
    "    for i in df_hallu.index[:]:\n",
    "        subject, relation, object, question = df_hallu.loc[i, 'subject'], df_hallu.loc[i, 'relation'], df_hallu.loc[i, 'object'], df_hallu.loc[i, 'question']\n",
    "        prompt_gen_q = f\"subject: {subject}, relation: {relation}\"\n",
    "        raw_response = client.chat.completions.create(\n",
    "            model='gpt-4o',  # 'gpt-4o-mini'\n",
    "            messages=[{\"role\": \"system\", \"content\": system_msg_gen_q}, {\"role\": \"user\", \"content\": prompt_gen_q}], \n",
    "            response_format={\"type\": \"json_object\"}, \n",
    "            temperature=0\n",
    "        )\n",
    "        raw_str = raw_response.choices[0].message.content\n",
    "        json_obj = json.loads(raw_str)\n",
    "        print(f\"subject: {subject}, relation: {relation}, {json_obj}\")\n",
    "        ls_2hop_q.append(json_obj['2hop_question'])\n",
    "        ls_2hop_a.append(json_obj['2hop_answer'])\n",
    "        ls_3hop_q.append(json_obj['3hop_question'])\n",
    "        ls_3hop_a.append(json_obj['3hop_answer'])\n",
    "        ls_4hop_q.append(json_obj['4hop_question'])\n",
    "        ls_4hop_a.append(json_obj['4hop_answer'])\n",
    "        ls_5hop_q.append(json_obj['5hop_question'])\n",
    "        ls_5hop_a.append(json_obj['5hop_answer'])\n",
    "        ls_6hop_q.append(json_obj['6hop_question'])\n",
    "        ls_6hop_a.append(json_obj['6hop_answer'])\n",
    "\n",
    "generate_questions(df_hallu)"
   ]
  },
  {
   "cell_type": "code",
   "execution_count": 44,
   "metadata": {},
   "outputs": [
    {
     "name": "stdout",
     "output_type": "stream",
     "text": [
      "Before df_hallu.shape: (100, 15)\n",
      "After df_hallu.shape: (100, 25)\n"
     ]
    }
   ],
   "source": [
    "print(f\"Before df_hallu.shape: {df_hallu.shape}\")\n",
    "df_hallu['question_2hop'] = ls_2hop_q\n",
    "df_hallu['answer_2hop'] = ls_2hop_a\n",
    "df_hallu['question_3hop'] = ls_3hop_q\n",
    "df_hallu['answer_3hop'] = ls_3hop_a\n",
    "df_hallu['question_4hop'] = ls_4hop_q\n",
    "df_hallu['answer_4hop'] = ls_4hop_a\n",
    "df_hallu['question_5hop'] = ls_5hop_q\n",
    "df_hallu['answer_5hop'] = ls_5hop_a\n",
    "df_hallu['question_6hop'] = ls_6hop_q\n",
    "df_hallu['answer_6hop'] = ls_6hop_a\n",
    "print(f\"After df_hallu.shape: {df_hallu.shape}\")\n",
    "df_hallu.to_csv(f\"{folder_hallu_100}/{domain_topic_name}.csv\", index=False)"
   ]
  },
  {
   "cell_type": "markdown",
   "metadata": {},
   "source": [
    "## Editing"
   ]
  },
  {
   "cell_type": "code",
   "execution_count": null,
   "metadata": {},
   "outputs": [],
   "source": [
    "df = pd.read_csv(f\"../data/questions/wh_only/hallucination_only/{model_id_format}.csv\")\n",
    "# df = pd.read_csv(f\"../data/questions/wh_only/hallucination_only/mistral_7b_instruct_v0.3.csv\")\n",
    "df.shape"
   ]
  },
  {
   "cell_type": "code",
   "execution_count": 13,
   "metadata": {},
   "outputs": [
    {
     "name": "stderr",
     "output_type": "stream",
     "text": [
      "2024-08-12 18:46:29,734 - hallucination_editor - INFO - Instantiating model\n",
      "08/12/2024 18:46:29 - INFO - hallucination_editor -   Instantiating model\n"
     ]
    },
    {
     "data": {
      "application/json": {
       "ascii": false,
       "bar_format": null,
       "colour": null,
       "elapsed": 0.003228425979614258,
       "initial": 0,
       "n": 0,
       "ncols": null,
       "nrows": null,
       "postfix": null,
       "prefix": "Downloading shards",
       "rate": null,
       "total": 4,
       "unit": "it",
       "unit_divisor": 1000,
       "unit_scale": false
      },
      "application/vnd.jupyter.widget-view+json": {
       "model_id": "3a85ac93f7844e9da9b6510cc7266e16",
       "version_major": 2,
       "version_minor": 0
      },
      "text/plain": [
       "Downloading shards:   0%|          | 0/4 [00:00<?, ?it/s]"
      ]
     },
     "metadata": {},
     "output_type": "display_data"
    },
    {
     "data": {
      "application/json": {
       "ascii": false,
       "bar_format": null,
       "colour": null,
       "elapsed": 0.0028297901153564453,
       "initial": 0,
       "n": 0,
       "ncols": null,
       "nrows": null,
       "postfix": null,
       "prefix": "Loading checkpoint shards",
       "rate": null,
       "total": 4,
       "unit": "it",
       "unit_divisor": 1000,
       "unit_scale": false
      },
      "application/vnd.jupyter.widget-view+json": {
       "model_id": "39a372250365401eb11a6a7cbad792ff",
       "version_major": 2,
       "version_minor": 0
      },
      "text/plain": [
       "Loading checkpoint shards:   0%|          | 0/4 [00:00<?, ?it/s]"
      ]
     },
     "metadata": {},
     "output_type": "display_data"
    },
    {
     "name": "stderr",
     "output_type": "stream",
     "text": [
      "  0%|          | 0/50 [00:00<?, ?it/s]/data1/baixiang/env/anaconda3/envs/edit/lib/python3.9/site-packages/transformers/generation/configuration_utils.py:567: UserWarning: `do_sample` is set to `False`. However, `temperature` is set to `0.6` -- this flag is only used in sample-based generation modes. You should set `do_sample=True` or unset `temperature`.\n",
      "  warnings.warn(\n",
      "/data1/baixiang/env/anaconda3/envs/edit/lib/python3.9/site-packages/transformers/generation/configuration_utils.py:572: UserWarning: `do_sample` is set to `False`. However, `top_p` is set to `0.9` -- this flag is only used in sample-based generation modes. You should set `do_sample=True` or unset `top_p`.\n",
      "  warnings.warn(\n",
      "  2%|▏         | 1/50 [00:00<00:33,  1.46it/s]"
     ]
    },
    {
     "name": "stdout",
     "output_type": "stream",
     "text": [
      "===== Question: Which tourist attraction was owned by Greece? | Prediction: Knossos. | Label: Parthenon | Evaluation: 0 =====\n"
     ]
    },
    {
     "name": "stderr",
     "output_type": "stream",
     "text": [
      "  4%|▍         | 2/50 [00:01<00:24,  1.92it/s]"
     ]
    },
    {
     "name": "stdout",
     "output_type": "stream",
     "text": [
      "===== Question: Who was Rosersberg Palace founded by? | Prediction: King Gustav V. | Label: Gabriel Bengtsson Oxenstierna | Evaluation: 0 =====\n"
     ]
    },
    {
     "name": "stderr",
     "output_type": "stream",
     "text": [
      "  6%|▌         | 3/50 [00:01<00:19,  2.39it/s]"
     ]
    },
    {
     "name": "stdout",
     "output_type": "stream",
     "text": [
      "===== Question: What is the architectural style of Rosersberg Palace? | Prediction: Baroque. | Label: Neoclassical architecture | Evaluation: 0 =====\n"
     ]
    },
    {
     "name": "stderr",
     "output_type": "stream",
     "text": [
      "  8%|▊         | 4/50 [00:01<00:19,  2.41it/s]"
     ]
    },
    {
     "name": "stdout",
     "output_type": "stream",
     "text": [
      "===== Question: What was Rosersberg Palace owned by? | Prediction: The Swedish Royal Family. | Label: National Property Board of Sweden | Evaluation: 0 =====\n"
     ]
    },
    {
     "name": "stderr",
     "output_type": "stream",
     "text": [
      " 10%|█         | 5/50 [00:02<00:18,  2.42it/s]"
     ]
    },
    {
     "name": "stdout",
     "output_type": "stream",
     "text": [
      "===== Question: Which tourist attraction has part(s) Prayerbook Cross? | Prediction: Glastonbury. | Label: Golden Gate Park | Evaluation: 0 =====\n"
     ]
    },
    {
     "name": "stderr",
     "output_type": "stream",
     "text": [
      " 12%|█▏        | 6/50 [00:02<00:18,  2.32it/s]"
     ]
    },
    {
     "name": "stdout",
     "output_type": "stream",
     "text": [
      "===== Question: What is the significant event of Haw Par Villa? | Prediction: Battle of Heng San. | Label: construction | Evaluation: 0 =====\n"
     ]
    },
    {
     "name": "stderr",
     "output_type": "stream",
     "text": [
      " 14%|█▍        | 7/50 [00:03<00:25,  1.66it/s]"
     ]
    },
    {
     "name": "stdout",
     "output_type": "stream",
     "text": [
      "===== Question: Which tourist attraction's creator is Carlos Oswald? | Prediction: I couldn't find any information on a well-known tourist attraction created by Carlos Oswald | Label: Christ the Redeemer | Evaluation: 0 =====\n"
     ]
    },
    {
     "name": "stderr",
     "output_type": "stream",
     "text": [
      " 16%|█▌        | 8/50 [00:04<00:25,  1.64it/s]"
     ]
    },
    {
     "name": "stdout",
     "output_type": "stream",
     "text": [
      "===== Question: Who does Tsarskoye Selo architect? | Prediction: Vasily Petrovich Stasov. | Label: Francesco Bartolomeo Rastrelli | Evaluation: 0 =====\n"
     ]
    },
    {
     "name": "stderr",
     "output_type": "stream",
     "text": [
      " 18%|█▊        | 9/50 [00:04<00:22,  1.83it/s]"
     ]
    },
    {
     "name": "stdout",
     "output_type": "stream",
     "text": [
      "===== Question: Who architect Sedefkar Mehmed Agha? | Prediction: Sultan Ahmed III. | Label: Sultan Ahmed Mosque | Evaluation: 0 =====\n"
     ]
    },
    {
     "name": "stderr",
     "output_type": "stream",
     "text": [
      " 20%|██        | 10/50 [00:04<00:18,  2.12it/s]"
     ]
    },
    {
     "name": "stdout",
     "output_type": "stream",
     "text": [
      "===== Question: Which tourist attraction architect Alfred Parland? | Prediction: Senate Square. | Label: Church of the Savior on Blood | Evaluation: 0 =====\n"
     ]
    },
    {
     "name": "stderr",
     "output_type": "stream",
     "text": [
      " 22%|██▏       | 11/50 [00:05<00:16,  2.30it/s]"
     ]
    },
    {
     "name": "stdout",
     "output_type": "stream",
     "text": [
      "===== Question: What is the architectural style of Hundertwasserhaus? | Prediction: Biomorphism. | Label: expressionist architecture | Evaluation: 0 =====\n"
     ]
    },
    {
     "name": "stderr",
     "output_type": "stream",
     "text": [
      " 24%|██▍       | 12/50 [00:05<00:15,  2.44it/s]"
     ]
    },
    {
     "name": "stdout",
     "output_type": "stream",
     "text": [
      "===== Question: What is the located in the administrative territorial entity of Science Centre Singapore? | Prediction: Biopolis. | Label: Jurong East | Evaluation: 0 =====\n"
     ]
    },
    {
     "name": "stderr",
     "output_type": "stream",
     "text": [
      " 26%|██▌       | 13/50 [00:06<00:15,  2.45it/s]"
     ]
    },
    {
     "name": "stdout",
     "output_type": "stream",
     "text": [
      "===== Question: What is the architectural style of Grand Kremlin Palace? | Prediction: Neoclassicism. | Label: Byzantine Revival architecture | Evaluation: 0 =====\n"
     ]
    },
    {
     "name": "stderr",
     "output_type": "stream",
     "text": [
      " 28%|██▊       | 14/50 [00:06<00:14,  2.55it/s]"
     ]
    },
    {
     "name": "stdout",
     "output_type": "stream",
     "text": [
      "===== Question: Who was Grand Kremlin Palace commissioned by? | Prediction: Peter the Great. | Label: Nicholas I of Russia | Evaluation: 0 =====\n"
     ]
    },
    {
     "name": "stderr",
     "output_type": "stream",
     "text": [
      " 30%|███       | 15/50 [00:06<00:12,  2.76it/s]"
     ]
    },
    {
     "name": "stdout",
     "output_type": "stream",
     "text": [
      "===== Question: Which tourist attraction's located in the administrative territorial entity is Stourton with Gasper? | Prediction: Saltaire. | Label: Stourhead | Evaluation: 0 =====\n"
     ]
    },
    {
     "name": "stderr",
     "output_type": "stream",
     "text": [
      " 32%|███▏      | 16/50 [00:07<00:14,  2.35it/s]"
     ]
    },
    {
     "name": "stdout",
     "output_type": "stream",
     "text": [
      "===== Question: Who does İzmir Clock Tower architect? | Prediction: Raimondo D'Aronco. | Label: Raymond Charles Péré | Evaluation: 0 =====\n"
     ]
    },
    {
     "name": "stderr",
     "output_type": "stream",
     "text": [
      " 34%|███▍      | 17/50 [00:07<00:13,  2.48it/s]"
     ]
    },
    {
     "name": "stdout",
     "output_type": "stream",
     "text": [
      "===== Question: Which tourist attraction's director / manager is Tor Hagfors? | Prediction: Stonehenge. | Label: Arecibo Observatory | Evaluation: 0 =====\n"
     ]
    },
    {
     "name": "stderr",
     "output_type": "stream",
     "text": [
      " 36%|███▌      | 18/50 [00:07<00:11,  2.82it/s]"
     ]
    },
    {
     "name": "stdout",
     "output_type": "stream",
     "text": [
      "===== Question: What is the religion or worldview of Saviour Church on Nereditsa? | Prediction: Unknown. | Label: Eastern Orthodoxy | Evaluation: 0 =====\n"
     ]
    },
    {
     "name": "stderr",
     "output_type": "stream",
     "text": [
      " 38%|███▊      | 19/50 [00:08<00:09,  3.12it/s]"
     ]
    },
    {
     "name": "stdout",
     "output_type": "stream",
     "text": [
      "===== Question: Which tourist attraction architect Louis de Hoÿm de Marien? | Prediction: Unknown. | Label: Montparnasse Tower | Evaluation: 0 =====\n"
     ]
    },
    {
     "name": "stderr",
     "output_type": "stream",
     "text": [
      " 40%|████      | 20/50 [00:08<00:09,  3.04it/s]"
     ]
    },
    {
     "name": "stdout",
     "output_type": "stream",
     "text": [
      "===== Question: Which tourist attraction's located in the administrative territorial entity is Konya Province? | Prediction: Meke Lake. | Label: Lake Tuz | Evaluation: 0 =====\n"
     ]
    },
    {
     "name": "stderr",
     "output_type": "stream",
     "text": [
      " 42%|████▏     | 21/50 [00:08<00:09,  2.98it/s]"
     ]
    },
    {
     "name": "stdout",
     "output_type": "stream",
     "text": [
      "===== Question: Which tourist attraction's present in work is Now You See Me 2? | Prediction: The Louvre. | Label: Royal Observatory | Evaluation: 0 =====\n"
     ]
    },
    {
     "name": "stderr",
     "output_type": "stream",
     "text": [
      " 44%|████▍     | 22/50 [00:09<00:10,  2.67it/s]"
     ]
    },
    {
     "name": "stdout",
     "output_type": "stream",
     "text": [
      "===== Question: Which tourist attraction's located in the administrative territorial entity is Abu Dhabi? | Prediction: Sheikh Zayed Mosque. | Label: Louvre Abu Dhabi | Evaluation: 0 =====\n"
     ]
    },
    {
     "name": "stderr",
     "output_type": "stream",
     "text": [
      " 46%|████▌     | 23/50 [00:09<00:09,  2.85it/s]"
     ]
    },
    {
     "name": "stdout",
     "output_type": "stream",
     "text": [
      "===== Question: Which tourist attraction's located in the administrative territorial entity is Kane County? | Prediction: St. Charles | Label: Lake Powell | Evaluation: 0 =====\n"
     ]
    },
    {
     "name": "stderr",
     "output_type": "stream",
     "text": [
      " 48%|████▊     | 24/50 [00:09<00:09,  2.85it/s]"
     ]
    },
    {
     "name": "stdout",
     "output_type": "stream",
     "text": [
      "===== Question: Which tourist attraction's main building contractor is Works Progress Administration? | Prediction: The Hoover Dam. | Label: Arkansas Museum of Fine Arts | Evaluation: 0 =====\n"
     ]
    },
    {
     "name": "stderr",
     "output_type": "stream",
     "text": [
      " 50%|█████     | 25/50 [00:10<00:10,  2.50it/s]"
     ]
    },
    {
     "name": "stdout",
     "output_type": "stream",
     "text": [
      "===== Question: Who was National Garden of Athens founded by? | Prediction: Ioannis Kapodistrias. | Label: Amalia of Oldenburg | Evaluation: 0 =====\n"
     ]
    },
    {
     "name": "stderr",
     "output_type": "stream",
     "text": [
      " 52%|█████▏    | 26/50 [00:10<00:09,  2.58it/s]"
     ]
    },
    {
     "name": "stdout",
     "output_type": "stream",
     "text": [
      "===== Question: Which tourist attraction was founded by Bayezid I? | Prediction: Bursa. | Label: Anadoluhisarı | Evaluation: 0 =====\n"
     ]
    },
    {
     "name": "stderr",
     "output_type": "stream",
     "text": [
      " 54%|█████▍    | 27/50 [00:11<00:08,  2.66it/s]"
     ]
    },
    {
     "name": "stdout",
     "output_type": "stream",
     "text": [
      "===== Question: Which tourist attraction's located in the administrative territorial entity is Cambridge? | Prediction: Ely Cathedral. | Label: Fitzwilliam Museum | Evaluation: 0 =====\n"
     ]
    },
    {
     "name": "stderr",
     "output_type": "stream",
     "text": [
      " 56%|█████▌    | 28/50 [00:11<00:08,  2.59it/s]"
     ]
    },
    {
     "name": "stdout",
     "output_type": "stream",
     "text": [
      "===== Question: Who does Ushaw College architect? | Prediction: Augustus Pugin. | Label: Archibald Matthias Dunn | Evaluation: 0 =====\n"
     ]
    },
    {
     "name": "stderr",
     "output_type": "stream",
     "text": [
      " 58%|█████▊    | 29/50 [00:11<00:07,  2.79it/s]"
     ]
    },
    {
     "name": "stdout",
     "output_type": "stream",
     "text": [
      "===== Question: What is the diocese of Ushaw College? | Prediction: Durham. | Label: Roman Catholic Diocese of Hexham and Newcastle | Evaluation: 0 =====\n"
     ]
    },
    {
     "name": "stderr",
     "output_type": "stream",
     "text": [
      " 60%|██████    | 30/50 [00:12<00:07,  2.68it/s]"
     ]
    },
    {
     "name": "stdout",
     "output_type": "stream",
     "text": [
      "===== Question: What is the architectural style of Ushaw College? | Prediction: Neoclassical. | Label: Gothic Revival | Evaluation: 0 =====\n"
     ]
    },
    {
     "name": "stderr",
     "output_type": "stream",
     "text": [
      " 62%|██████▏   | 31/50 [00:12<00:06,  2.73it/s]"
     ]
    },
    {
     "name": "stdout",
     "output_type": "stream",
     "text": [
      "===== Question: Who does Yusupov Palace on Moika architect? | Prediction: Vasily Kenel | Label: Jean-Baptiste Vallin de la Mothe | Evaluation: 0 =====\n"
     ]
    },
    {
     "name": "stderr",
     "output_type": "stream",
     "text": [
      " 64%|██████▍   | 32/50 [00:13<00:07,  2.34it/s]"
     ]
    },
    {
     "name": "stdout",
     "output_type": "stream",
     "text": [
      "===== Question: Who was Meteor Crater named by? | Prediction: Dinah M. Ehmann. | Label: Herman LeRoy Fairchild | Evaluation: 0 =====\n"
     ]
    },
    {
     "name": "stderr",
     "output_type": "stream",
     "text": [
      " 66%|██████▌   | 33/50 [00:13<00:07,  2.37it/s]"
     ]
    },
    {
     "name": "stdout",
     "output_type": "stream",
     "text": [
      "===== Question: Which tourist attraction's significant event is funeral? | Prediction: Taj Mahal. | Label: St Paul's Cathedral | Evaluation: 0 =====\n"
     ]
    },
    {
     "name": "stderr",
     "output_type": "stream",
     "text": [
      " 68%|██████▊   | 34/50 [00:14<00:06,  2.31it/s]"
     ]
    },
    {
     "name": "stdout",
     "output_type": "stream",
     "text": [
      "===== Question: Which tourist attraction depicts drapery? | Prediction: The Colosseum. | Label: Statue of Liberty | Evaluation: 0 =====\n"
     ]
    },
    {
     "name": "stderr",
     "output_type": "stream",
     "text": [
      " 70%|███████   | 35/50 [00:14<00:05,  2.55it/s]"
     ]
    },
    {
     "name": "stdout",
     "output_type": "stream",
     "text": [
      "===== Question: What is the derivative work of Disneyland? | Prediction: Disney World. | Label: Kinect: Disneyland Adventures | Evaluation: 0 =====\n"
     ]
    },
    {
     "name": "stderr",
     "output_type": "stream",
     "text": [
      " 72%|███████▏  | 36/50 [00:14<00:05,  2.63it/s]"
     ]
    },
    {
     "name": "stdout",
     "output_type": "stream",
     "text": [
      "===== Question: What is the taxon found at location of Central Park? | Prediction: Quercus. | Label: squirrel | Evaluation: 0 =====\n"
     ]
    },
    {
     "name": "stderr",
     "output_type": "stream",
     "text": [
      " 74%|███████▍  | 37/50 [00:15<00:04,  2.82it/s]"
     ]
    },
    {
     "name": "stdout",
     "output_type": "stream",
     "text": [
      "===== Question: Which tourist attraction's main building contractor is Skanska? | Prediction: The Shard. | Label: 30 St Mary Axe | Evaluation: 0 =====\n"
     ]
    },
    {
     "name": "stderr",
     "output_type": "stream",
     "text": [
      " 76%|███████▌  | 38/50 [00:15<00:04,  2.49it/s]"
     ]
    },
    {
     "name": "stdout",
     "output_type": "stream",
     "text": [
      "===== Question: Which tourist attraction architect Bartolommeo Berrecci? | Prediction: St. Peter's Basilica. | Label: Wawel Castle | Evaluation: 0 =====\n"
     ]
    },
    {
     "name": "stderr",
     "output_type": "stream",
     "text": [
      " 78%|███████▊  | 39/50 [00:15<00:04,  2.39it/s]"
     ]
    },
    {
     "name": "stdout",
     "output_type": "stream",
     "text": [
      "===== Question: Which tourist attraction's located in the administrative territorial entity is Gran Canaria? | Prediction: Roque Nublo. | Label: Jardín Botánico Canario Viera y Clavijo | Evaluation: 0 =====\n"
     ]
    },
    {
     "name": "stderr",
     "output_type": "stream",
     "text": [
      " 80%|████████  | 40/50 [00:16<00:04,  2.15it/s]"
     ]
    },
    {
     "name": "stdout",
     "output_type": "stream",
     "text": [
      "===== Question: Which tourist attraction's made from material is paint? | Prediction: Van Gogh's Starry Night. | Label: Cadillac Ranch | Evaluation: 0 =====\n"
     ]
    },
    {
     "name": "stderr",
     "output_type": "stream",
     "text": [
      " 82%|████████▏ | 41/50 [00:16<00:03,  2.41it/s]"
     ]
    },
    {
     "name": "stdout",
     "output_type": "stream",
     "text": [
      "===== Question: Which tourist attraction architect Bodo Ebhardt? | Prediction: Berlin Cathedral. | Label: Coburg Fortress | Evaluation: 0 =====\n"
     ]
    },
    {
     "name": "stderr",
     "output_type": "stream",
     "text": [
      " 84%|████████▍ | 42/50 [00:17<00:03,  2.53it/s]"
     ]
    },
    {
     "name": "stdout",
     "output_type": "stream",
     "text": [
      "===== Question: Which tourist attraction's located in the administrative territorial entity is Aksaray Province? | Prediction: Göreme. | Label: Lake Tuz | Evaluation: 0 =====\n"
     ]
    },
    {
     "name": "stderr",
     "output_type": "stream",
     "text": [
      " 86%|████████▌ | 43/50 [00:17<00:02,  2.74it/s]"
     ]
    },
    {
     "name": "stdout",
     "output_type": "stream",
     "text": [
      "===== Question: Which tourist attraction architect Daniel Burnham? | Prediction: Union Station. | Label: National Museum of Natural History | Evaluation: 0 =====\n"
     ]
    },
    {
     "name": "stderr",
     "output_type": "stream",
     "text": [
      " 88%|████████▊ | 44/50 [00:17<00:02,  2.78it/s]"
     ]
    },
    {
     "name": "stdout",
     "output_type": "stream",
     "text": [
      "===== Question: Which tourist attraction's taxon found at location is Chamaerops humilis? | Prediction: Monument Valley. | Label: National Garden of Athens | Evaluation: 0 =====\n"
     ]
    },
    {
     "name": "stderr",
     "output_type": "stream",
     "text": [
      " 90%|█████████ | 45/50 [00:18<00:01,  2.93it/s]"
     ]
    },
    {
     "name": "stdout",
     "output_type": "stream",
     "text": [
      "===== Question: Which tourist attraction's structural engineer is Schlaich Bergermann Partner? | Prediction: London Eye. | Label: One World Trade Center | Evaluation: 0 =====\n"
     ]
    },
    {
     "name": "stderr",
     "output_type": "stream",
     "text": [
      " 92%|█████████▏| 46/50 [00:18<00:01,  2.77it/s]"
     ]
    },
    {
     "name": "stdout",
     "output_type": "stream",
     "text": [
      "===== Question: Which tourist attraction shape antiprism? | Prediction: Geodesic Dome. | Label: One World Trade Center | Evaluation: 0 =====\n"
     ]
    },
    {
     "name": "stderr",
     "output_type": "stream",
     "text": [
      " 94%|█████████▍| 47/50 [00:19<00:01,  2.55it/s]"
     ]
    },
    {
     "name": "stdout",
     "output_type": "stream",
     "text": [
      "===== Question: Which tourist attraction depicts navel? | Prediction: Navel of the Earth. | Label: Manneken-Pis | Evaluation: 0 =====\n"
     ]
    },
    {
     "name": "stderr",
     "output_type": "stream",
     "text": [
      " 96%|█████████▌| 48/50 [00:19<00:00,  2.16it/s]"
     ]
    },
    {
     "name": "stdout",
     "output_type": "stream",
     "text": [
      "===== Question: What is the main building contractor of Willis Tower? | Prediction: Skidmore, Owings & Merrill. | Label: American Bridge Company | Evaluation: 0 =====\n"
     ]
    },
    {
     "name": "stderr",
     "output_type": "stream",
     "text": [
      " 98%|█████████▊| 49/50 [00:19<00:00,  2.42it/s]"
     ]
    },
    {
     "name": "stdout",
     "output_type": "stream",
     "text": [
      "===== Question: What is the architectural style of Willis Tower? | Prediction: Postmodern. | Label: International Style | Evaluation: 0 =====\n"
     ]
    },
    {
     "name": "stderr",
     "output_type": "stream",
     "text": [
      "100%|██████████| 50/50 [00:20<00:00,  2.42it/s]\n",
      "We detected that you are passing `past_key_values` as a tuple and this is deprecated and will be removed in v4.43. Please use an appropriate `Cache` class (https://huggingface.co/docs/transformers/v4.41.3/en/internal/generation_utils#transformers.Cache)\n"
     ]
    },
    {
     "name": "stdout",
     "output_type": "stream",
     "text": [
      "===== Question: Which tourist attraction's creator is Jan Styka? | Prediction: The National Shrine of the Immaculate Conception. | Label: Racławice Panorama | Evaluation: 0 =====\n",
      "Executing ROME algorithm for the update: [Which tourist attraction was owned by Greece?] -> [ Parthenon]\n",
      "Cached context templates ['{}', 'The 2019. {}', 'The following account,. {}', 'Therefore, it was. {}', 'Therefore, if you. {}', 'Because I love the. {}', 'Because you compared Bit. {}', \"I'm trying to. {}\", 'I am so glad. {}', \"You're viewing a. {}\", 'You are currently browsing. {}', 'The 2022-2023 school year. {}', 'The following statements about the relationship between the immune. {}', 'Therefore, it is necessary for you to be. {}', 'Therefore, you can use this as a guide. {}', 'Because of their unique structure, the cells of. {}', 'Because of the COVID-19 pandemic, the. {}', 'I love this quote by Maya Angelou:. {}', 'I am excited to announce that I have partnered. {}', \"You can't have it all - but you. {}\", 'You are here: Home / News / New. {}']\n",
      "Computing left vector (u)...\n",
      "Selected u projection object Greece\n",
      "Left vector shape: torch.Size([14336])\n",
      "Computing right vector (v)\n",
      "Lookup index found: 7 | Sentence: Which tourist attraction was owned by Greece? Parthen | Token:  Greece\n",
      "Rewrite layer is 5\n",
      "Tying optimization objective to 31\n",
      "Recording initial value of v*\n",
      "loss 2.474 = 2.474 + 0.0 + 0.0 avg prob of [ Parthenon] 0.0856739804148674\n",
      "loss 1.75 = 1.68 + 0.068 + 0.002 avg prob of [ Parthenon] 0.19112083315849304\n",
      "loss 0.974 = 0.941 + 0.031 + 0.002 avg prob of [ Parthenon] 0.39576730132102966\n",
      "loss 0.884 = 0.857 + 0.026 + 0.002 avg prob of [ Parthenon] 0.4275975227355957\n",
      "loss 0.274 = 0.219 + 0.053 + 0.002 avg prob of [ Parthenon] 0.8065826892852783\n",
      "loss 0.133 = 0.081 + 0.05 + 0.002 avg prob of [ Parthenon] 0.9242112636566162\n",
      "loss 0.138 = 0.08 + 0.057 + 0.002 avg prob of [ Parthenon] 0.9236304759979248\n",
      "loss 0.055 = 0.026 + 0.027 + 0.002 avg prob of [ Parthenon] 0.9742493629455566\n"
     ]
    },
    {
     "name": "stderr",
     "output_type": "stream",
     "text": [
      "2024-08-12 18:46:59,439 - hallucination_editor - INFO - Execution 0 editing took 3.338561773300171\n",
      "08/12/2024 18:46:59 - INFO - hallucination_editor -   Execution 0 editing took 3.338561773300171\n"
     ]
    },
    {
     "name": "stdout",
     "output_type": "stream",
     "text": [
      "loss 0.024 = 0.003 + 0.02 + 0.002 avg prob of [ Parthenon] 0.9974278211593628\n",
      "Delta norm: 8.84375\n",
      "Change in target norm: 2.2109375 to 9.09375 => 6.8828125\n",
      "Division Factor: 2.830078125\n",
      "Right vector norm: 3.125\n",
      "Right vector shape: torch.Size([4096])\n",
      "Deltas successfully computed for ['model.layers.5.mlp.down_proj.weight']\n",
      "New weights successfully inserted into ['model.layers.5.mlp.down_proj.weight']\n"
     ]
    },
    {
     "name": "stderr",
     "output_type": "stream",
     "text": [
      "2024-08-12 18:46:59,668 - hallucination_editor - INFO - Evaluation took 0.22786331176757812\n",
      "08/12/2024 18:46:59 - INFO - hallucination_editor -   Evaluation took 0.22786331176757812\n",
      "2024-08-12 18:46:59,670 - hallucination_editor - INFO - 0 editing: Which tourist attraction was owned by Greece? -> Parthenon  \n",
      " {'pre': {'edit_acc': [0], 'edit_output': ['Knossos.'], 'locality': {}, 'portability': {}, 'yes_no': {}}, 'case_id': 0, 'requested_edit': {'prompt': 'Which tourist attraction was owned by Greece?', 'target_new': 'Parthenon', 'ground_truth': '<|endoftext|>', 'portability': {}, 'locality': {}, 'yes_no': {}, 'harm_original_text': {}, 'subject': 'Greece'}, 'time': 3.338561773300171, 'post': {'edit_acc': [1], 'edit_output': ['Parthenon'], 'locality': {}, 'portability': {}, 'yes_no': {}}}\n",
      "08/12/2024 18:46:59 - INFO - hallucination_editor -   0 editing: Which tourist attraction was owned by Greece? -> Parthenon  \n",
      " {'pre': {'edit_acc': [0], 'edit_output': ['Knossos.'], 'locality': {}, 'portability': {}, 'yes_no': {}}, 'case_id': 0, 'requested_edit': {'prompt': 'Which tourist attraction was owned by Greece?', 'target_new': 'Parthenon', 'ground_truth': '<|endoftext|>', 'portability': {}, 'locality': {}, 'yes_no': {}, 'harm_original_text': {}, 'subject': 'Greece'}, 'time': 3.338561773300171, 'post': {'edit_acc': [1], 'edit_output': ['Parthenon'], 'locality': {}, 'portability': {}, 'yes_no': {}}}\n"
     ]
    },
    {
     "name": "stdout",
     "output_type": "stream",
     "text": [
      "===== Question: Which tourist attraction was owned by Greece? | Prediction: Parthenon | Label: Parthenon | Evaluation: 1 =====\n",
      "Executing ROME algorithm for the update: [Who was Rosersberg Palace founded by?] -> [ Gabriel Bengtsson Oxenstierna]\n",
      "Computing left vector (u)...\n",
      "Selected u projection object Rosersberg Palace\n",
      "Left vector shape: torch.Size([14336])\n",
      "Computing right vector (v)\n",
      "Lookup index found: 6 | Sentence: Who was Rosersberg Palace founded by? Gabriel Bengtsson Oxensti | Token:  Palace\n",
      "Rewrite layer is 5\n",
      "Tying optimization objective to 31\n",
      "Recording initial value of v*\n",
      "loss 1.571 = 1.571 + 0.0 + 0.0 avg prob of [ Gabriel Bengtsson Oxenstierna] 0.20819316804409027\n",
      "loss 1.466 = 1.387 + 0.078 + 0.001 avg prob of [ Gabriel Bengtsson Oxenstierna] 0.25108200311660767\n",
      "loss 0.989 = 0.977 + 0.011 + 0.001 avg prob of [ Gabriel Bengtsson Oxenstierna] 0.37740838527679443\n",
      "loss 1.169 = 1.137 + 0.031 + 0.001 avg prob of [ Gabriel Bengtsson Oxenstierna] 0.3241691589355469\n",
      "loss 0.731 = 0.714 + 0.015 + 0.001 avg prob of [ Gabriel Bengtsson Oxenstierna] 0.49092796444892883\n",
      "loss 0.245 = 0.23 + 0.014 + 0.001 avg prob of [ Gabriel Bengtsson Oxenstierna] 0.796111524105072\n",
      "loss 0.058 = 0.025 + 0.032 + 0.001 avg prob of [ Gabriel Bengtsson Oxenstierna] 0.9753570556640625\n",
      "loss 0.183 = 0.12 + 0.061 + 0.001 avg prob of [ Gabriel Bengtsson Oxenstierna] 0.8884792327880859\n"
     ]
    },
    {
     "name": "stderr",
     "output_type": "stream",
     "text": [
      "2024-08-12 18:47:02,344 - hallucination_editor - INFO - Execution 1 editing took 2.672781467437744\n",
      "08/12/2024 18:47:02 - INFO - hallucination_editor -   Execution 1 editing took 2.672781467437744\n"
     ]
    },
    {
     "name": "stdout",
     "output_type": "stream",
     "text": [
      "loss 0.035 = 0.021 + 0.012 + 0.001 avg prob of [ Gabriel Bengtsson Oxenstierna] 0.9790629744529724\n",
      "Delta norm: 11.28125\n",
      "Change in target norm: 2.8203125 to 11.765625 => 8.9453125\n",
      "Division Factor: 3.59765625\n",
      "Right vector norm: 3.134765625\n",
      "Right vector shape: torch.Size([4096])\n",
      "Deltas successfully computed for ['model.layers.5.mlp.down_proj.weight']\n",
      "New weights successfully inserted into ['model.layers.5.mlp.down_proj.weight']\n"
     ]
    },
    {
     "name": "stderr",
     "output_type": "stream",
     "text": [
      "2024-08-12 18:47:02,963 - hallucination_editor - INFO - Evaluation took 0.6174046993255615\n",
      "08/12/2024 18:47:02 - INFO - hallucination_editor -   Evaluation took 0.6174046993255615\n",
      "2024-08-12 18:47:02,964 - hallucination_editor - INFO - 1 editing: Who was Rosersberg Palace founded by? -> Gabriel Bengtsson Oxenstierna  \n",
      " {'pre': {'edit_acc': [0], 'edit_output': ['King Gustav V.'], 'locality': {}, 'portability': {}, 'yes_no': {}}, 'case_id': 1, 'requested_edit': {'prompt': 'Who was Rosersberg Palace founded by?', 'target_new': 'Gabriel Bengtsson Oxenstierna', 'ground_truth': '<|endoftext|>', 'portability': {}, 'locality': {}, 'yes_no': {}, 'harm_original_text': {}, 'subject': 'Rosersberg Palace'}, 'time': 2.672781467437744, 'post': {'edit_acc': [1], 'edit_output': ['Gabriel Bengtsson Oxenstierna.'], 'locality': {}, 'portability': {}, 'yes_no': {}}}\n",
      "08/12/2024 18:47:02 - INFO - hallucination_editor -   1 editing: Who was Rosersberg Palace founded by? -> Gabriel Bengtsson Oxenstierna  \n",
      " {'pre': {'edit_acc': [0], 'edit_output': ['King Gustav V.'], 'locality': {}, 'portability': {}, 'yes_no': {}}, 'case_id': 1, 'requested_edit': {'prompt': 'Who was Rosersberg Palace founded by?', 'target_new': 'Gabriel Bengtsson Oxenstierna', 'ground_truth': '<|endoftext|>', 'portability': {}, 'locality': {}, 'yes_no': {}, 'harm_original_text': {}, 'subject': 'Rosersberg Palace'}, 'time': 2.672781467437744, 'post': {'edit_acc': [1], 'edit_output': ['Gabriel Bengtsson Oxenstierna.'], 'locality': {}, 'portability': {}, 'yes_no': {}}}\n"
     ]
    },
    {
     "name": "stdout",
     "output_type": "stream",
     "text": [
      "===== Question: Who was Rosersberg Palace founded by? | Prediction: Gabriel Bengtsson Oxenstierna. | Label: Gabriel Bengtsson Oxenstierna | Evaluation: 1 =====\n",
      "Executing ROME algorithm for the update: [What is the architectural style of Rosersberg Palace?] -> [ Neoclassical architecture]\n",
      "Computing left vector (u)...\n",
      "Selected u projection object Rosersberg Palace\n",
      "Left vector shape: torch.Size([14336])\n",
      "Computing right vector (v)\n",
      "Lookup index found: 10 | Sentence: What is the architectural style of Rosersberg Palace? Neoclassical | Token:  Palace\n",
      "Rewrite layer is 5\n",
      "Tying optimization objective to 31\n",
      "Recording initial value of v*\n",
      "loss 2.221 = 2.221 + 0.0 + 0.0 avg prob of [ Neoclassical architecture] 0.11029486358165741\n",
      "loss 1.681 = 1.657 + 0.022 + 0.001 avg prob of [ Neoclassical architecture] 0.19437676668167114\n",
      "loss 0.997 = 0.943 + 0.052 + 0.001 avg prob of [ Neoclassical architecture] 0.3898884057998657\n",
      "loss 0.528 = 0.5 + 0.027 + 0.001 avg prob of [ Neoclassical architecture] 0.6071978807449341\n",
      "loss 0.112 = 0.091 + 0.019 + 0.001 avg prob of [ Neoclassical architecture] 0.9129576086997986\n",
      "loss 0.053 = 0.016 + 0.035 + 0.001 avg prob of [ Neoclassical architecture] 0.9838057160377502\n"
     ]
    },
    {
     "name": "stderr",
     "output_type": "stream",
     "text": [
      "2024-08-12 18:47:05,051 - hallucination_editor - INFO - Execution 2 editing took 2.0849125385284424\n",
      "08/12/2024 18:47:05 - INFO - hallucination_editor -   Execution 2 editing took 2.0849125385284424\n"
     ]
    },
    {
     "name": "stdout",
     "output_type": "stream",
     "text": [
      "loss 0.024 = 0.006 + 0.016 + 0.001 avg prob of [ Neoclassical architecture] 0.9936469197273254\n",
      "Delta norm: 12.59375\n",
      "Change in target norm: 3.1484375 to 12.9375 => 9.7890625\n",
      "Division Factor: 4.0546875\n",
      "Right vector norm: 3.10546875\n",
      "Right vector shape: torch.Size([4096])\n",
      "Deltas successfully computed for ['model.layers.5.mlp.down_proj.weight']\n",
      "New weights successfully inserted into ['model.layers.5.mlp.down_proj.weight']\n"
     ]
    },
    {
     "name": "stderr",
     "output_type": "stream",
     "text": [
      "2024-08-12 18:47:05,460 - hallucination_editor - INFO - Evaluation took 0.4079103469848633\n",
      "08/12/2024 18:47:05 - INFO - hallucination_editor -   Evaluation took 0.4079103469848633\n",
      "2024-08-12 18:47:05,461 - hallucination_editor - INFO - 2 editing: What is the architectural style of Rosersberg Palace? -> Neoclassical architecture  \n",
      " {'pre': {'edit_acc': [0], 'edit_output': ['Baroque.'], 'locality': {}, 'portability': {}, 'yes_no': {}}, 'case_id': 2, 'requested_edit': {'prompt': 'What is the architectural style of Rosersberg Palace?', 'target_new': 'Neoclassical architecture', 'ground_truth': '<|endoftext|>', 'portability': {}, 'locality': {}, 'yes_no': {}, 'harm_original_text': {}, 'subject': 'Rosersberg Palace'}, 'time': 2.0849125385284424, 'post': {'edit_acc': [1], 'edit_output': ['Neoclassical.'], 'locality': {}, 'portability': {}, 'yes_no': {}}}\n",
      "08/12/2024 18:47:05 - INFO - hallucination_editor -   2 editing: What is the architectural style of Rosersberg Palace? -> Neoclassical architecture  \n",
      " {'pre': {'edit_acc': [0], 'edit_output': ['Baroque.'], 'locality': {}, 'portability': {}, 'yes_no': {}}, 'case_id': 2, 'requested_edit': {'prompt': 'What is the architectural style of Rosersberg Palace?', 'target_new': 'Neoclassical architecture', 'ground_truth': '<|endoftext|>', 'portability': {}, 'locality': {}, 'yes_no': {}, 'harm_original_text': {}, 'subject': 'Rosersberg Palace'}, 'time': 2.0849125385284424, 'post': {'edit_acc': [1], 'edit_output': ['Neoclassical.'], 'locality': {}, 'portability': {}, 'yes_no': {}}}\n"
     ]
    },
    {
     "name": "stdout",
     "output_type": "stream",
     "text": [
      "===== Question: What is the architectural style of Rosersberg Palace? | Prediction: Neoclassical. | Label: Neoclassical architecture | Evaluation: 1 =====\n",
      "Executing ROME algorithm for the update: [What was Rosersberg Palace owned by?] -> [ National Property Board of Sweden]\n",
      "Computing left vector (u)...\n",
      "Selected u projection object Rosersberg Palace\n",
      "Left vector shape: torch.Size([14336])\n",
      "Computing right vector (v)\n",
      "Lookup index found: 6 | Sentence: What was Rosersberg Palace owned by? National Property Board of | Token:  Palace\n",
      "Rewrite layer is 5\n",
      "Tying optimization objective to 31\n",
      "Recording initial value of v*\n",
      "loss 2.458 = 2.458 + 0.0 + 0.0 avg prob of [ National Property Board of Sweden] 0.08777381479740143\n",
      "loss 1.709 = 1.62 + 0.088 + 0.001 avg prob of [ National Property Board of Sweden] 0.2022714614868164\n",
      "loss 0.955 = 0.939 + 0.014 + 0.001 avg prob of [ National Property Board of Sweden] 0.3942873775959015\n",
      "loss 0.16 = 0.109 + 0.05 + 0.001 avg prob of [ National Property Board of Sweden] 0.8976646065711975\n",
      "loss 0.059 = 0.007 + 0.051 + 0.001 avg prob of [ National Property Board of Sweden] 0.9931257367134094\n",
      "loss 0.053 = 0.001 + 0.051 + 0.001 avg prob of [ National Property Board of Sweden] 0.9994308948516846\n",
      "loss 0.053 = 0.001 + 0.051 + 0.001 avg prob of [ National Property Board of Sweden] 0.9994986653327942\n"
     ]
    },
    {
     "name": "stderr",
     "output_type": "stream",
     "text": [
      "2024-08-12 18:47:07,767 - hallucination_editor - INFO - Execution 3 editing took 2.3038580417633057\n",
      "08/12/2024 18:47:07 - INFO - hallucination_editor -   Execution 3 editing took 2.3038580417633057\n"
     ]
    },
    {
     "name": "stdout",
     "output_type": "stream",
     "text": [
      "loss 0.046 = 0.0 + 0.044 + 0.001 avg prob of [ National Property Board of Sweden] 0.9997081160545349\n",
      "Delta norm: 11.484375\n",
      "Change in target norm: 2.87109375 to 11.8671875 => 9.0\n",
      "Division Factor: 3.658203125\n",
      "Right vector norm: 3.138671875\n",
      "Right vector shape: torch.Size([4096])\n",
      "Deltas successfully computed for ['model.layers.5.mlp.down_proj.weight']\n",
      "New weights successfully inserted into ['model.layers.5.mlp.down_proj.weight']\n"
     ]
    },
    {
     "name": "stderr",
     "output_type": "stream",
     "text": [
      "2024-08-12 18:47:08,161 - hallucination_editor - INFO - Evaluation took 0.392925500869751\n",
      "08/12/2024 18:47:08 - INFO - hallucination_editor -   Evaluation took 0.392925500869751\n",
      "2024-08-12 18:47:08,163 - hallucination_editor - INFO - 3 editing: What was Rosersberg Palace owned by? -> National Property Board of Sweden  \n",
      " {'pre': {'edit_acc': [0], 'edit_output': ['The Swedish Royal Family.'], 'locality': {}, 'portability': {}, 'yes_no': {}}, 'case_id': 3, 'requested_edit': {'prompt': 'What was Rosersberg Palace owned by?', 'target_new': 'National Property Board of Sweden', 'ground_truth': '<|endoftext|>', 'portability': {}, 'locality': {}, 'yes_no': {}, 'harm_original_text': {}, 'subject': 'Rosersberg Palace'}, 'time': 2.3038580417633057, 'post': {'edit_acc': [1], 'edit_output': ['National Property Board of Sweden.'], 'locality': {}, 'portability': {}, 'yes_no': {}}}\n",
      "08/12/2024 18:47:08 - INFO - hallucination_editor -   3 editing: What was Rosersberg Palace owned by? -> National Property Board of Sweden  \n",
      " {'pre': {'edit_acc': [0], 'edit_output': ['The Swedish Royal Family.'], 'locality': {}, 'portability': {}, 'yes_no': {}}, 'case_id': 3, 'requested_edit': {'prompt': 'What was Rosersberg Palace owned by?', 'target_new': 'National Property Board of Sweden', 'ground_truth': '<|endoftext|>', 'portability': {}, 'locality': {}, 'yes_no': {}, 'harm_original_text': {}, 'subject': 'Rosersberg Palace'}, 'time': 2.3038580417633057, 'post': {'edit_acc': [1], 'edit_output': ['National Property Board of Sweden.'], 'locality': {}, 'portability': {}, 'yes_no': {}}}\n"
     ]
    },
    {
     "name": "stdout",
     "output_type": "stream",
     "text": [
      "===== Question: What was Rosersberg Palace owned by? | Prediction: National Property Board of Sweden. | Label: National Property Board of Sweden | Evaluation: 1 =====\n",
      "Executing ROME algorithm for the update: [Which tourist attraction has part(s) Prayerbook Cross?] -> [ Golden Gate Park]\n",
      "Computing left vector (u)...\n",
      "Selected u projection object Prayerbook Cross\n",
      "Left vector shape: torch.Size([14336])\n",
      "Computing right vector (v)\n",
      "Lookup index found: 10 | Sentence: Which tourist attraction has part(s) Prayerbook Cross? Golden Gate | Token:  Cross\n",
      "Rewrite layer is 5\n",
      "Tying optimization objective to 31\n",
      "Recording initial value of v*\n",
      "loss 4.63 = 4.63 + 0.0 + 0.0 avg prob of [ Golden Gate Park] 0.01001574657857418\n",
      "loss 3.915 = 3.821 + 0.093 + 0.001 avg prob of [ Golden Gate Park] 0.022290781140327454\n",
      "loss 2.643 = 2.488 + 0.155 + 0.001 avg prob of [ Golden Gate Park] 0.08418041467666626\n",
      "loss 1.811 = 1.687 + 0.122 + 0.001 avg prob of [ Golden Gate Park] 0.18612158298492432\n",
      "loss 1.028 = 0.92 + 0.106 + 0.001 avg prob of [ Golden Gate Park] 0.39984676241874695\n",
      "loss 0.631 = 0.532 + 0.098 + 0.001 avg prob of [ Golden Gate Park] 0.5913767218589783\n",
      "loss 0.545 = 0.46 + 0.083 + 0.001 avg prob of [ Golden Gate Park] 0.6353768706321716\n",
      "loss 0.409 = 0.331 + 0.077 + 0.001 avg prob of [ Golden Gate Park] 0.7209824919700623\n",
      "loss 0.238 = 0.162 + 0.075 + 0.001 avg prob of [ Golden Gate Park] 0.851563036441803\n",
      "loss 0.109 = 0.037 + 0.071 + 0.001 avg prob of [ Golden Gate Park] 0.9641962051391602\n",
      "loss 0.08 = 0.012 + 0.067 + 0.001 avg prob of [ Golden Gate Park] 0.9883777499198914\n",
      "loss 0.071 = 0.005 + 0.064 + 0.001 avg prob of [ Golden Gate Park] 0.9947197437286377\n",
      "loss 0.066 = 0.003 + 0.062 + 0.001 avg prob of [ Golden Gate Park] 0.9969705939292908\n",
      "loss 0.064 = 0.002 + 0.061 + 0.001 avg prob of [ Golden Gate Park] 0.9979324340820312\n",
      "loss 0.063 = 0.002 + 0.06 + 0.001 avg prob of [ Golden Gate Park] 0.998382568359375\n",
      "loss 0.062 = 0.001 + 0.059 + 0.001 avg prob of [ Golden Gate Park] 0.998562216758728\n",
      "loss 0.061 = 0.001 + 0.058 + 0.001 avg prob of [ Golden Gate Park] 0.9986495971679688\n",
      "loss 0.06 = 0.001 + 0.057 + 0.001 avg prob of [ Golden Gate Park] 0.9987238049507141\n",
      "loss 0.059 = 0.001 + 0.056 + 0.001 avg prob of [ Golden Gate Park] 0.9987861514091492\n",
      "loss 0.058 = 0.001 + 0.055 + 0.001 avg prob of [ Golden Gate Park] 0.9988287091255188\n",
      "loss 0.057 = 0.001 + 0.054 + 0.001 avg prob of [ Golden Gate Park] 0.9988857507705688\n",
      "loss 0.056 = 0.001 + 0.053 + 0.001 avg prob of [ Golden Gate Park] 0.99895840883255\n",
      "loss 0.055 = 0.001 + 0.052 + 0.001 avg prob of [ Golden Gate Park] 0.9990244507789612\n",
      "loss 0.052 = 0.001 + 0.049 + 0.001 avg prob of [ Golden Gate Park] 0.9990577697753906\n"
     ]
    },
    {
     "name": "stderr",
     "output_type": "stream",
     "text": [
      "2024-08-12 18:47:15,265 - hallucination_editor - INFO - Execution 4 editing took 7.1011552810668945\n",
      "08/12/2024 18:47:15 - INFO - hallucination_editor -   Execution 4 editing took 7.1011552810668945\n"
     ]
    },
    {
     "name": "stdout",
     "output_type": "stream",
     "text": [
      "loss 0.041 = 0.001 + 0.039 + 0.001 avg prob of [ Golden Gate Park] 0.9990379810333252\n",
      "Delta norm: 11.7890625\n",
      "Change in target norm: 2.947265625 to 12.0546875 => 9.109375\n",
      "Division Factor: 3.75390625\n",
      "Right vector norm: 3.140625\n",
      "Right vector shape: torch.Size([4096])\n",
      "Deltas successfully computed for ['model.layers.5.mlp.down_proj.weight']\n",
      "New weights successfully inserted into ['model.layers.5.mlp.down_proj.weight']\n"
     ]
    },
    {
     "name": "stderr",
     "output_type": "stream",
     "text": [
      "2024-08-12 18:47:15,495 - hallucination_editor - INFO - Evaluation took 0.22803831100463867\n",
      "08/12/2024 18:47:15 - INFO - hallucination_editor -   Evaluation took 0.22803831100463867\n",
      "2024-08-12 18:47:15,496 - hallucination_editor - INFO - 4 editing: Which tourist attraction has part(s) Prayerbook Cross? -> Golden Gate Park  \n",
      " {'pre': {'edit_acc': [0], 'edit_output': ['Glastonbury.'], 'locality': {}, 'portability': {}, 'yes_no': {}}, 'case_id': 4, 'requested_edit': {'prompt': 'Which tourist attraction has part(s) Prayerbook Cross?', 'target_new': 'Golden Gate Park', 'ground_truth': '<|endoftext|>', 'portability': {}, 'locality': {}, 'yes_no': {}, 'harm_original_text': {}, 'subject': 'Prayerbook Cross'}, 'time': 7.1011552810668945, 'post': {'edit_acc': [1], 'edit_output': ['Golden Gate Park'], 'locality': {}, 'portability': {}, 'yes_no': {}}}\n",
      "08/12/2024 18:47:15 - INFO - hallucination_editor -   4 editing: Which tourist attraction has part(s) Prayerbook Cross? -> Golden Gate Park  \n",
      " {'pre': {'edit_acc': [0], 'edit_output': ['Glastonbury.'], 'locality': {}, 'portability': {}, 'yes_no': {}}, 'case_id': 4, 'requested_edit': {'prompt': 'Which tourist attraction has part(s) Prayerbook Cross?', 'target_new': 'Golden Gate Park', 'ground_truth': '<|endoftext|>', 'portability': {}, 'locality': {}, 'yes_no': {}, 'harm_original_text': {}, 'subject': 'Prayerbook Cross'}, 'time': 7.1011552810668945, 'post': {'edit_acc': [1], 'edit_output': ['Golden Gate Park'], 'locality': {}, 'portability': {}, 'yes_no': {}}}\n"
     ]
    },
    {
     "name": "stdout",
     "output_type": "stream",
     "text": [
      "===== Question: Which tourist attraction has part(s) Prayerbook Cross? | Prediction: Golden Gate Park | Label: Golden Gate Park | Evaluation: 1 =====\n",
      "Executing ROME algorithm for the update: [What is the significant event of Haw Par Villa?] -> [ construction]\n",
      "Computing left vector (u)...\n",
      "Selected u projection object Haw Par Villa\n",
      "Left vector shape: torch.Size([14336])\n",
      "Computing right vector (v)\n",
      "Lookup index found: 9 | Sentence: What is the significant event of Haw Par Villa? | Token:  Villa\n",
      "Rewrite layer is 5\n",
      "Tying optimization objective to 31\n",
      "Recording initial value of v*\n",
      "loss 11.697 = 11.697 + 0.0 + 0.0 avg prob of [ construction] 1.2132853953517042e-05\n",
      "loss 7.981 = 7.953 + 0.027 + 0.001 avg prob of [ construction] 0.0003833551309071481\n",
      "loss 4.971 = 4.584 + 0.386 + 0.001 avg prob of [ construction] 0.012556048110127449\n",
      "loss 0.709 = 0.241 + 0.467 + 0.001 avg prob of [ construction] 0.7872557044029236\n",
      "loss 0.452 = 0.001 + 0.45 + 0.001 avg prob of [ construction] 0.9986498951911926\n",
      "loss 0.451 = 0.0 + 0.45 + 0.001 avg prob of [ construction] 0.9996879696846008\n",
      "loss 0.451 = 0.0 + 0.449 + 0.001 avg prob of [ construction] 0.9996944665908813\n",
      "loss 0.451 = 0.0 + 0.449 + 0.001 avg prob of [ construction] 0.9996947646141052\n",
      "loss 0.45 = 0.0 + 0.448 + 0.001 avg prob of [ construction] 0.9997221827507019\n",
      "loss 0.465 = 0.0 + 0.464 + 0.001 avg prob of [ construction] 0.9997543096542358\n",
      "loss 0.455 = 0.004 + 0.449 + 0.001 avg prob of [ construction] 0.9957373738288879\n",
      "loss 0.46 = 0.011 + 0.447 + 0.001 avg prob of [ construction] 0.9890078902244568\n",
      "loss 0.456 = 0.009 + 0.446 + 0.001 avg prob of [ construction] 0.991093635559082\n",
      "loss 0.451 = 0.005 + 0.444 + 0.001 avg prob of [ construction] 0.9945898652076721\n",
      "loss 0.444 = 0.003 + 0.44 + 0.001 avg prob of [ construction] 0.9969437122344971\n",
      "loss 0.448 = 0.002 + 0.445 + 0.001 avg prob of [ construction] 0.9982032775878906\n",
      "loss 0.445 = 0.001 + 0.443 + 0.001 avg prob of [ construction] 0.9988662600517273\n",
      "loss 0.447 = 0.001 + 0.444 + 0.001 avg prob of [ construction] 0.9991691708564758\n",
      "loss 0.444 = 0.001 + 0.442 + 0.001 avg prob of [ construction] 0.9993475079536438\n",
      "loss 0.441 = 0.001 + 0.439 + 0.001 avg prob of [ construction] 0.9994466304779053\n",
      "loss 0.443 = 0.001 + 0.441 + 0.001 avg prob of [ construction] 0.9994842410087585\n",
      "loss 0.441 = 0.001 + 0.44 + 0.001 avg prob of [ construction] 0.9994270205497742\n",
      "loss 0.441 = 0.001 + 0.439 + 0.001 avg prob of [ construction] 0.9993259310722351\n",
      "loss 0.438 = 0.001 + 0.436 + 0.001 avg prob of [ construction] 0.9991974830627441\n"
     ]
    },
    {
     "name": "stderr",
     "output_type": "stream",
     "text": [
      "2024-08-12 18:47:21,853 - hallucination_editor - INFO - Execution 5 editing took 6.355358362197876\n",
      "08/12/2024 18:47:21 - INFO - hallucination_editor -   Execution 5 editing took 6.355358362197876\n"
     ]
    },
    {
     "name": "stdout",
     "output_type": "stream",
     "text": [
      "loss 0.439 = 0.001 + 0.437 + 0.001 avg prob of [ construction] 0.9991555213928223\n",
      "Delta norm: 11.640625\n",
      "Change in target norm: 2.91015625 to 12.0078125 => 9.09375\n",
      "Division Factor: 3.7265625\n",
      "Right vector norm: 3.123046875\n",
      "Right vector shape: torch.Size([4096])\n",
      "Deltas successfully computed for ['model.layers.5.mlp.down_proj.weight']\n",
      "New weights successfully inserted into ['model.layers.5.mlp.down_proj.weight']\n"
     ]
    },
    {
     "name": "stderr",
     "output_type": "stream",
     "text": [
      "2024-08-12 18:47:22,029 - hallucination_editor - INFO - Evaluation took 0.1746046543121338\n",
      "08/12/2024 18:47:22 - INFO - hallucination_editor -   Evaluation took 0.1746046543121338\n",
      "2024-08-12 18:47:22,030 - hallucination_editor - INFO - 5 editing: What is the significant event of Haw Par Villa? -> construction  \n",
      " {'pre': {'edit_acc': [0], 'edit_output': ['Battle of Heng San.'], 'locality': {}, 'portability': {}, 'yes_no': {}}, 'case_id': 5, 'requested_edit': {'prompt': 'What is the significant event of Haw Par Villa?', 'target_new': 'construction', 'ground_truth': '<|endoftext|>', 'portability': {}, 'locality': {}, 'yes_no': {}, 'harm_original_text': {}, 'subject': 'Haw Par Villa'}, 'time': 6.355358362197876, 'post': {'edit_acc': [1], 'edit_output': ['Construction.'], 'locality': {}, 'portability': {}, 'yes_no': {}}}\n",
      "08/12/2024 18:47:22 - INFO - hallucination_editor -   5 editing: What is the significant event of Haw Par Villa? -> construction  \n",
      " {'pre': {'edit_acc': [0], 'edit_output': ['Battle of Heng San.'], 'locality': {}, 'portability': {}, 'yes_no': {}}, 'case_id': 5, 'requested_edit': {'prompt': 'What is the significant event of Haw Par Villa?', 'target_new': 'construction', 'ground_truth': '<|endoftext|>', 'portability': {}, 'locality': {}, 'yes_no': {}, 'harm_original_text': {}, 'subject': 'Haw Par Villa'}, 'time': 6.355358362197876, 'post': {'edit_acc': [1], 'edit_output': ['Construction.'], 'locality': {}, 'portability': {}, 'yes_no': {}}}\n"
     ]
    },
    {
     "name": "stdout",
     "output_type": "stream",
     "text": [
      "===== Question: What is the significant event of Haw Par Villa? | Prediction: Construction. | Label: construction | Evaluation: 1 =====\n",
      "Executing ROME algorithm for the update: [Which tourist attraction's creator is Carlos Oswald?] -> [ Christ the Redeemer]\n",
      "Computing left vector (u)...\n",
      "Selected u projection object Carlos Oswald\n",
      "Left vector shape: torch.Size([14336])\n",
      "Computing right vector (v)\n",
      "Lookup index found: 8 | Sentence: Which tourist attraction's creator is Carlos Oswald? Christ the Rede | Token:  Oswald\n",
      "Rewrite layer is 5\n",
      "Tying optimization objective to 31\n",
      "Recording initial value of v*\n",
      "loss 2.593 = 2.593 + 0.0 + 0.0 avg prob of [ Christ the Redeemer] 0.07691992074251175\n",
      "loss 2.267 = 2.231 + 0.035 + 0.001 avg prob of [ Christ the Redeemer] 0.11303675919771194\n",
      "loss 0.637 = 0.57 + 0.066 + 0.001 avg prob of [ Christ the Redeemer] 0.5688989162445068\n",
      "loss 0.22 = 0.18 + 0.039 + 0.001 avg prob of [ Christ the Redeemer] 0.8361231684684753\n",
      "loss 0.1 = 0.061 + 0.038 + 0.001 avg prob of [ Christ the Redeemer] 0.9412416815757751\n",
      "loss 0.063 = 0.03 + 0.031 + 0.001 avg prob of [ Christ the Redeemer] 0.9703949689865112\n"
     ]
    },
    {
     "name": "stderr",
     "output_type": "stream",
     "text": [
      "2024-08-12 18:47:23,900 - hallucination_editor - INFO - Execution 6 editing took 1.8688139915466309\n",
      "08/12/2024 18:47:23 - INFO - hallucination_editor -   Execution 6 editing took 1.8688139915466309\n"
     ]
    },
    {
     "name": "stdout",
     "output_type": "stream",
     "text": [
      "loss 0.046 = 0.018 + 0.026 + 0.001 avg prob of [ Christ the Redeemer] 0.982545793056488\n",
      "Delta norm: 11.203125\n",
      "Change in target norm: 2.80078125 to 11.6328125 => 8.828125\n",
      "Division Factor: 3.505859375\n",
      "Right vector norm: 3.1953125\n",
      "Right vector shape: torch.Size([4096])\n",
      "Deltas successfully computed for ['model.layers.5.mlp.down_proj.weight']\n",
      "New weights successfully inserted into ['model.layers.5.mlp.down_proj.weight']\n"
     ]
    },
    {
     "name": "stderr",
     "output_type": "stream",
     "text": [
      "2024-08-12 18:47:24,241 - hallucination_editor - INFO - Evaluation took 0.33960986137390137\n",
      "08/12/2024 18:47:24 - INFO - hallucination_editor -   Evaluation took 0.33960986137390137\n",
      "2024-08-12 18:47:24,243 - hallucination_editor - INFO - 6 editing: Which tourist attraction's creator is Carlos Oswald? -> Christ the Redeemer  \n",
      " {'pre': {'edit_acc': [0], 'edit_output': [\"I couldn't find any information on a well-known tourist attraction created by Carlos Oswald\"], 'locality': {}, 'portability': {}, 'yes_no': {}}, 'case_id': 6, 'requested_edit': {'prompt': \"Which tourist attraction's creator is Carlos Oswald?\", 'target_new': 'Christ the Redeemer', 'ground_truth': '<|endoftext|>', 'portability': {}, 'locality': {}, 'yes_no': {}, 'harm_original_text': {}, 'subject': 'Carlos Oswald'}, 'time': 1.8688139915466309, 'post': {'edit_acc': [1], 'edit_output': ['Christ the Redeemer.'], 'locality': {}, 'portability': {}, 'yes_no': {}}}\n",
      "08/12/2024 18:47:24 - INFO - hallucination_editor -   6 editing: Which tourist attraction's creator is Carlos Oswald? -> Christ the Redeemer  \n",
      " {'pre': {'edit_acc': [0], 'edit_output': [\"I couldn't find any information on a well-known tourist attraction created by Carlos Oswald\"], 'locality': {}, 'portability': {}, 'yes_no': {}}, 'case_id': 6, 'requested_edit': {'prompt': \"Which tourist attraction's creator is Carlos Oswald?\", 'target_new': 'Christ the Redeemer', 'ground_truth': '<|endoftext|>', 'portability': {}, 'locality': {}, 'yes_no': {}, 'harm_original_text': {}, 'subject': 'Carlos Oswald'}, 'time': 1.8688139915466309, 'post': {'edit_acc': [1], 'edit_output': ['Christ the Redeemer.'], 'locality': {}, 'portability': {}, 'yes_no': {}}}\n"
     ]
    },
    {
     "name": "stdout",
     "output_type": "stream",
     "text": [
      "===== Question: Which tourist attraction's creator is Carlos Oswald? | Prediction: Christ the Redeemer. | Label: Christ the Redeemer | Evaluation: 1 =====\n",
      "Executing ROME algorithm for the update: [Who does Tsarskoye Selo architect?] -> [ Francesco Bartolomeo Rastrelli]\n",
      "Computing left vector (u)...\n",
      "Selected u projection object Tsarskoye Selo\n",
      "Left vector shape: torch.Size([14336])\n",
      "Computing right vector (v)\n",
      "Lookup index found: 9 | Sentence: Who does Tsarskoye Selo architect? Francesco Bartolomeo Rastrell | Token: elo\n",
      "Rewrite layer is 5\n",
      "Tying optimization objective to 31\n",
      "Recording initial value of v*\n",
      "loss 1.076 = 1.076 + 0.0 + 0.0 avg prob of [ Francesco Bartolomeo Rastrelli] 0.34283480048179626\n",
      "loss 1.099 = 0.996 + 0.102 + 0.001 avg prob of [ Francesco Bartolomeo Rastrelli] 0.37212321162223816\n",
      "loss 0.819 = 0.74 + 0.078 + 0.001 avg prob of [ Francesco Bartolomeo Rastrelli] 0.4801211655139923\n",
      "loss 0.388 = 0.318 + 0.068 + 0.001 avg prob of [ Francesco Bartolomeo Rastrelli] 0.7322507500648499\n",
      "loss 0.184 = 0.124 + 0.059 + 0.001 avg prob of [ Francesco Bartolomeo Rastrelli] 0.8851222395896912\n",
      "loss 0.098 = 0.041 + 0.056 + 0.001 avg prob of [ Francesco Bartolomeo Rastrelli] 0.9604618549346924\n",
      "loss 0.069 = 0.012 + 0.055 + 0.001 avg prob of [ Francesco Bartolomeo Rastrelli] 0.98789381980896\n",
      "loss 0.061 = 0.005 + 0.054 + 0.001 avg prob of [ Francesco Bartolomeo Rastrelli] 0.9947987794876099\n",
      "loss 0.057 = 0.003 + 0.052 + 0.001 avg prob of [ Francesco Bartolomeo Rastrelli] 0.9966949224472046\n",
      "loss 0.055 = 0.003 + 0.051 + 0.001 avg prob of [ Francesco Bartolomeo Rastrelli] 0.997405469417572\n",
      "loss 0.053 = 0.002 + 0.05 + 0.001 avg prob of [ Francesco Bartolomeo Rastrelli] 0.9977676868438721\n",
      "loss 0.051 = 0.002 + 0.048 + 0.001 avg prob of [ Francesco Bartolomeo Rastrelli] 0.9979777932167053\n",
      "loss 0.05 = 0.002 + 0.047 + 0.001 avg prob of [ Francesco Bartolomeo Rastrelli] 0.9981122016906738\n"
     ]
    },
    {
     "name": "stderr",
     "output_type": "stream",
     "text": [
      "2024-08-12 18:47:28,744 - hallucination_editor - INFO - Execution 7 editing took 4.499501705169678\n",
      "08/12/2024 18:47:28 - INFO - hallucination_editor -   Execution 7 editing took 4.499501705169678\n"
     ]
    },
    {
     "name": "stdout",
     "output_type": "stream",
     "text": [
      "loss 0.049 = 0.002 + 0.046 + 0.001 avg prob of [ Francesco Bartolomeo Rastrelli] 0.9982280731201172\n",
      "Delta norm: 12.5546875\n",
      "Change in target norm: 3.138671875 to 13.078125 => 9.9375\n",
      "Division Factor: 4.0546875\n",
      "Right vector norm: 3.095703125\n",
      "Right vector shape: torch.Size([4096])\n",
      "Deltas successfully computed for ['model.layers.5.mlp.down_proj.weight']\n",
      "New weights successfully inserted into ['model.layers.5.mlp.down_proj.weight']\n"
     ]
    },
    {
     "name": "stderr",
     "output_type": "stream",
     "text": [
      "2024-08-12 18:47:29,472 - hallucination_editor - INFO - Evaluation took 0.7273633480072021\n",
      "08/12/2024 18:47:29 - INFO - hallucination_editor -   Evaluation took 0.7273633480072021\n",
      "2024-08-12 18:47:29,474 - hallucination_editor - INFO - 7 editing: Who does Tsarskoye Selo architect? -> Francesco Bartolomeo Rastrelli  \n",
      " {'pre': {'edit_acc': [0], 'edit_output': ['Vasily Petrovich Stasov.'], 'locality': {}, 'portability': {}, 'yes_no': {}}, 'case_id': 7, 'requested_edit': {'prompt': 'Who does Tsarskoye Selo architect?', 'target_new': 'Francesco Bartolomeo Rastrelli', 'ground_truth': '<|endoftext|>', 'portability': {}, 'locality': {}, 'yes_no': {}, 'harm_original_text': {}, 'subject': 'Tsarskoye Selo'}, 'time': 4.499501705169678, 'post': {'edit_acc': [1], 'edit_output': ['Francesco Bartolomeo Rastrelli.'], 'locality': {}, 'portability': {}, 'yes_no': {}}}\n",
      "08/12/2024 18:47:29 - INFO - hallucination_editor -   7 editing: Who does Tsarskoye Selo architect? -> Francesco Bartolomeo Rastrelli  \n",
      " {'pre': {'edit_acc': [0], 'edit_output': ['Vasily Petrovich Stasov.'], 'locality': {}, 'portability': {}, 'yes_no': {}}, 'case_id': 7, 'requested_edit': {'prompt': 'Who does Tsarskoye Selo architect?', 'target_new': 'Francesco Bartolomeo Rastrelli', 'ground_truth': '<|endoftext|>', 'portability': {}, 'locality': {}, 'yes_no': {}, 'harm_original_text': {}, 'subject': 'Tsarskoye Selo'}, 'time': 4.499501705169678, 'post': {'edit_acc': [1], 'edit_output': ['Francesco Bartolomeo Rastrelli.'], 'locality': {}, 'portability': {}, 'yes_no': {}}}\n"
     ]
    },
    {
     "name": "stdout",
     "output_type": "stream",
     "text": [
      "===== Question: Who does Tsarskoye Selo architect? | Prediction: Francesco Bartolomeo Rastrelli. | Label: Francesco Bartolomeo Rastrelli | Evaluation: 1 =====\n",
      "Executing ROME algorithm for the update: [Who architect Sedefkar Mehmed Agha?] -> [ Sultan Ahmed Mosque]\n",
      "Computing left vector (u)...\n",
      "Selected u projection object Sedefkar Mehmed Agha\n",
      "Left vector shape: torch.Size([14336])\n",
      "Computing right vector (v)\n",
      "Lookup index found: 10 | Sentence: Who architect Sedefkar Mehmed Agha? Sultan Ahmed | Token: a\n",
      "Rewrite layer is 5\n",
      "Tying optimization objective to 31\n",
      "Recording initial value of v*\n",
      "loss 2.959 = 2.959 + 0.0 + 0.0 avg prob of [ Sultan Ahmed Mosque] 0.05404365807771683\n",
      "loss 2.83 = 2.716 + 0.113 + 0.001 avg prob of [ Sultan Ahmed Mosque] 0.06859521567821503\n",
      "loss 1.145 = 1.088 + 0.056 + 0.001 avg prob of [ Sultan Ahmed Mosque] 0.3414188027381897\n",
      "loss 0.519 = 0.218 + 0.299 + 0.001 avg prob of [ Sultan Ahmed Mosque] 0.8071750402450562\n",
      "loss 0.64 = 0.568 + 0.071 + 0.001 avg prob of [ Sultan Ahmed Mosque] 0.5759975910186768\n",
      "loss 0.159 = 0.085 + 0.072 + 0.001 avg prob of [ Sultan Ahmed Mosque] 0.9183210730552673\n",
      "loss 0.112 = 0.038 + 0.072 + 0.001 avg prob of [ Sultan Ahmed Mosque] 0.9623118042945862\n",
      "loss 0.085 = 0.011 + 0.072 + 0.001 avg prob of [ Sultan Ahmed Mosque] 0.9886640310287476\n",
      "loss 0.078 = 0.005 + 0.072 + 0.001 avg prob of [ Sultan Ahmed Mosque] 0.9949175715446472\n",
      "loss 0.076 = 0.003 + 0.072 + 0.001 avg prob of [ Sultan Ahmed Mosque] 0.9968339800834656\n",
      "loss 0.076 = 0.002 + 0.072 + 0.001 avg prob of [ Sultan Ahmed Mosque] 0.997658908367157\n",
      "loss 0.075 = 0.002 + 0.072 + 0.001 avg prob of [ Sultan Ahmed Mosque] 0.9981291890144348\n",
      "loss 0.075 = 0.002 + 0.072 + 0.001 avg prob of [ Sultan Ahmed Mosque] 0.998448371887207\n",
      "loss 0.075 = 0.001 + 0.072 + 0.001 avg prob of [ Sultan Ahmed Mosque] 0.9986845850944519\n",
      "loss 0.074 = 0.001 + 0.072 + 0.001 avg prob of [ Sultan Ahmed Mosque] 0.998870313167572\n",
      "loss 0.074 = 0.001 + 0.072 + 0.001 avg prob of [ Sultan Ahmed Mosque] 0.9990218281745911\n",
      "loss 0.074 = 0.001 + 0.072 + 0.001 avg prob of [ Sultan Ahmed Mosque] 0.9991428256034851\n",
      "loss 0.074 = 0.001 + 0.072 + 0.001 avg prob of [ Sultan Ahmed Mosque] 0.999243974685669\n",
      "loss 0.074 = 0.001 + 0.072 + 0.001 avg prob of [ Sultan Ahmed Mosque] 0.999332070350647\n",
      "loss 0.074 = 0.001 + 0.072 + 0.001 avg prob of [ Sultan Ahmed Mosque] 0.9994056820869446\n",
      "loss 0.074 = 0.001 + 0.072 + 0.001 avg prob of [ Sultan Ahmed Mosque] 0.9994688630104065\n",
      "loss 0.074 = 0.0 + 0.072 + 0.001 avg prob of [ Sultan Ahmed Mosque] 0.9995229840278625\n",
      "loss 0.074 = 0.0 + 0.072 + 0.001 avg prob of [ Sultan Ahmed Mosque] 0.9995728731155396\n",
      "loss 0.074 = 0.0 + 0.072 + 0.001 avg prob of [ Sultan Ahmed Mosque] 0.9996150732040405\n"
     ]
    },
    {
     "name": "stderr",
     "output_type": "stream",
     "text": [
      "2024-08-12 18:47:36,511 - hallucination_editor - INFO - Execution 8 editing took 7.036087512969971\n",
      "08/12/2024 18:47:36 - INFO - hallucination_editor -   Execution 8 editing took 7.036087512969971\n"
     ]
    },
    {
     "name": "stdout",
     "output_type": "stream",
     "text": [
      "loss 0.074 = 0.0 + 0.072 + 0.001 avg prob of [ Sultan Ahmed Mosque] 0.9996521472930908\n",
      "Delta norm: 11.6328125\n",
      "Change in target norm: 2.908203125 to 12.0234375 => 9.1171875\n",
      "Division Factor: 3.7890625\n",
      "Right vector norm: 3.0703125\n",
      "Right vector shape: torch.Size([4096])\n",
      "Deltas successfully computed for ['model.layers.5.mlp.down_proj.weight']\n",
      "New weights successfully inserted into ['model.layers.5.mlp.down_proj.weight']\n"
     ]
    },
    {
     "name": "stderr",
     "output_type": "stream",
     "text": [
      "2024-08-12 18:47:37,216 - hallucination_editor - INFO - Evaluation took 0.7027106285095215\n",
      "08/12/2024 18:47:37 - INFO - hallucination_editor -   Evaluation took 0.7027106285095215\n",
      "2024-08-12 18:47:37,217 - hallucination_editor - INFO - 8 editing: Who architect Sedefkar Mehmed Agha? -> Sultan Ahmed Mosque  \n",
      " {'pre': {'edit_acc': [0], 'edit_output': ['Sultan Ahmed III.'], 'locality': {}, 'portability': {}, 'yes_no': {}}, 'case_id': 8, 'requested_edit': {'prompt': 'Who architect Sedefkar Mehmed Agha?', 'target_new': 'Sultan Ahmed Mosque', 'ground_truth': '<|endoftext|>', 'portability': {}, 'locality': {}, 'yes_no': {}, 'harm_original_text': {}, 'subject': 'Sedefkar Mehmed Agha'}, 'time': 7.036087512969971, 'post': {'edit_acc': [1], 'edit_output': ['Sedefkâr Mehmed Agha.'], 'locality': {}, 'portability': {}, 'yes_no': {}}}\n",
      "08/12/2024 18:47:37 - INFO - hallucination_editor -   8 editing: Who architect Sedefkar Mehmed Agha? -> Sultan Ahmed Mosque  \n",
      " {'pre': {'edit_acc': [0], 'edit_output': ['Sultan Ahmed III.'], 'locality': {}, 'portability': {}, 'yes_no': {}}, 'case_id': 8, 'requested_edit': {'prompt': 'Who architect Sedefkar Mehmed Agha?', 'target_new': 'Sultan Ahmed Mosque', 'ground_truth': '<|endoftext|>', 'portability': {}, 'locality': {}, 'yes_no': {}, 'harm_original_text': {}, 'subject': 'Sedefkar Mehmed Agha'}, 'time': 7.036087512969971, 'post': {'edit_acc': [1], 'edit_output': ['Sedefkâr Mehmed Agha.'], 'locality': {}, 'portability': {}, 'yes_no': {}}}\n"
     ]
    },
    {
     "name": "stdout",
     "output_type": "stream",
     "text": [
      "===== Question: Who architect Sedefkar Mehmed Agha? | Prediction: Sedefkâr Mehmed Agha. | Label: Sultan Ahmed Mosque | Evaluation: 1 =====\n",
      "Executing ROME algorithm for the update: [Which tourist attraction architect Alfred Parland?] -> [ Church of the Savior on Blood]\n",
      "Computing left vector (u)...\n",
      "Selected u projection object Alfred Parland\n",
      "Left vector shape: torch.Size([14336])\n",
      "Computing right vector (v)\n",
      "Lookup index found: 7 | Sentence: Which tourist attraction architect Alfred Parland? Church of the Savior on | Token: land\n",
      "Rewrite layer is 5\n",
      "Tying optimization objective to 31\n",
      "Recording initial value of v*\n",
      "loss 2.784 = 2.784 + 0.0 + 0.0 avg prob of [ Church of the Savior on Blood] 0.06308591365814209\n",
      "loss 2.423 = 2.384 + 0.037 + 0.001 avg prob of [ Church of the Savior on Blood] 0.09322870522737503\n",
      "loss 2.003 = 1.969 + 0.033 + 0.001 avg prob of [ Church of the Savior on Blood] 0.14104017615318298\n",
      "loss 1.406 = 1.216 + 0.188 + 0.001 avg prob of [ Church of the Savior on Blood] 0.297348290681839\n",
      "loss 0.744 = 0.708 + 0.035 + 0.001 avg prob of [ Church of the Savior on Blood] 0.4948960840702057\n",
      "loss 0.282 = 0.109 + 0.173 + 0.001 avg prob of [ Church of the Savior on Blood] 0.9020262360572815\n",
      "loss 0.546 = 0.179 + 0.366 + 0.001 avg prob of [ Church of the Savior on Blood] 0.8381565809249878\n",
      "loss 0.987 = 0.829 + 0.156 + 0.001 avg prob of [ Church of the Savior on Blood] 0.4430498480796814\n",
      "loss 0.561 = 0.48 + 0.08 + 0.001 avg prob of [ Church of the Savior on Blood] 0.6206725835800171\n",
      "loss 0.235 = 0.146 + 0.088 + 0.001 avg prob of [ Church of the Savior on Blood] 0.8647540807723999\n",
      "loss 0.128 = 0.038 + 0.089 + 0.001 avg prob of [ Church of the Savior on Blood] 0.9629549384117126\n",
      "loss 0.108 = 0.018 + 0.088 + 0.001 avg prob of [ Church of the Savior on Blood] 0.9817817211151123\n",
      "loss 0.1 = 0.01 + 0.089 + 0.001 avg prob of [ Church of the Savior on Blood] 0.9901326894760132\n",
      "loss 0.096 = 0.006 + 0.089 + 0.001 avg prob of [ Church of the Savior on Blood] 0.9937618970870972\n",
      "loss 0.095 = 0.004 + 0.089 + 0.001 avg prob of [ Church of the Savior on Blood] 0.9955928921699524\n",
      "loss 0.094 = 0.003 + 0.089 + 0.001 avg prob of [ Church of the Savior on Blood] 0.9966381788253784\n",
      "loss 0.093 = 0.003 + 0.089 + 0.001 avg prob of [ Church of the Savior on Blood] 0.9973337054252625\n",
      "loss 0.092 = 0.002 + 0.089 + 0.001 avg prob of [ Church of the Savior on Blood] 0.9978311657905579\n",
      "loss 0.092 = 0.002 + 0.089 + 0.001 avg prob of [ Church of the Savior on Blood] 0.9981691241264343\n",
      "loss 0.092 = 0.002 + 0.089 + 0.001 avg prob of [ Church of the Savior on Blood] 0.99845951795578\n",
      "loss 0.091 = 0.001 + 0.088 + 0.001 avg prob of [ Church of the Savior on Blood] 0.9986513257026672\n",
      "loss 0.091 = 0.001 + 0.088 + 0.001 avg prob of [ Church of the Savior on Blood] 0.9988113045692444\n",
      "loss 0.09 = 0.001 + 0.087 + 0.001 avg prob of [ Church of the Savior on Blood] 0.9989355206489563\n",
      "loss 0.088 = 0.001 + 0.086 + 0.001 avg prob of [ Church of the Savior on Blood] 0.9990343451499939\n"
     ]
    },
    {
     "name": "stderr",
     "output_type": "stream",
     "text": [
      "2024-08-12 18:47:44,276 - hallucination_editor - INFO - Execution 9 editing took 7.057650089263916\n",
      "08/12/2024 18:47:44 - INFO - hallucination_editor -   Execution 9 editing took 7.057650089263916\n"
     ]
    },
    {
     "name": "stdout",
     "output_type": "stream",
     "text": [
      "loss 0.087 = 0.001 + 0.085 + 0.001 avg prob of [ Church of the Savior on Blood] 0.9991124868392944\n",
      "Delta norm: 11.890625\n",
      "Change in target norm: 2.97265625 to 12.25 => 9.28125\n",
      "Division Factor: 3.755859375\n",
      "Right vector norm: 3.166015625\n",
      "Right vector shape: torch.Size([4096])\n",
      "Deltas successfully computed for ['model.layers.5.mlp.down_proj.weight']\n",
      "New weights successfully inserted into ['model.layers.5.mlp.down_proj.weight']\n"
     ]
    },
    {
     "name": "stderr",
     "output_type": "stream",
     "text": [
      "2024-08-12 18:47:44,729 - hallucination_editor - INFO - Evaluation took 0.4512054920196533\n",
      "08/12/2024 18:47:44 - INFO - hallucination_editor -   Evaluation took 0.4512054920196533\n",
      "2024-08-12 18:47:44,730 - hallucination_editor - INFO - 9 editing: Which tourist attraction architect Alfred Parland? -> Church of the Savior on Blood  \n",
      " {'pre': {'edit_acc': [0], 'edit_output': ['Senate Square.'], 'locality': {}, 'portability': {}, 'yes_no': {}}, 'case_id': 9, 'requested_edit': {'prompt': 'Which tourist attraction architect Alfred Parland?', 'target_new': 'Church of the Savior on Blood', 'ground_truth': '<|endoftext|>', 'portability': {}, 'locality': {}, 'yes_no': {}, 'harm_original_text': {}, 'subject': 'Alfred Parland'}, 'time': 7.057650089263916, 'post': {'edit_acc': [1], 'edit_output': ['Church of the Savior on Blood.'], 'locality': {}, 'portability': {}, 'yes_no': {}}}\n",
      "08/12/2024 18:47:44 - INFO - hallucination_editor -   9 editing: Which tourist attraction architect Alfred Parland? -> Church of the Savior on Blood  \n",
      " {'pre': {'edit_acc': [0], 'edit_output': ['Senate Square.'], 'locality': {}, 'portability': {}, 'yes_no': {}}, 'case_id': 9, 'requested_edit': {'prompt': 'Which tourist attraction architect Alfred Parland?', 'target_new': 'Church of the Savior on Blood', 'ground_truth': '<|endoftext|>', 'portability': {}, 'locality': {}, 'yes_no': {}, 'harm_original_text': {}, 'subject': 'Alfred Parland'}, 'time': 7.057650089263916, 'post': {'edit_acc': [1], 'edit_output': ['Church of the Savior on Blood.'], 'locality': {}, 'portability': {}, 'yes_no': {}}}\n"
     ]
    },
    {
     "name": "stdout",
     "output_type": "stream",
     "text": [
      "===== Question: Which tourist attraction architect Alfred Parland? | Prediction: Church of the Savior on Blood. | Label: Church of the Savior on Blood | Evaluation: 1 =====\n",
      "Executing ROME algorithm for the update: [What is the architectural style of Hundertwasserhaus?] -> [ expressionist architecture]\n",
      "Computing left vector (u)...\n",
      "Selected u projection object Hundertwasserhaus\n",
      "Left vector shape: torch.Size([14336])\n",
      "Computing right vector (v)\n",
      "Lookup index found: 11 | Sentence: What is the architectural style of Hundertwasserhaus? expressionist | Token: haus\n",
      "Rewrite layer is 5\n",
      "Tying optimization objective to 31\n",
      "Recording initial value of v*\n",
      "loss 5.243 = 5.243 + 0.0 + 0.0 avg prob of [ expressionist architecture] 0.006314517464488745\n",
      "loss 3.671 = 3.615 + 0.055 + 0.001 avg prob of [ expressionist architecture] 0.028238913044333458\n",
      "loss 2.16 = 2.124 + 0.034 + 0.001 avg prob of [ expressionist architecture] 0.12161261588335037\n",
      "loss 1.119 = 1.076 + 0.041 + 0.001 avg prob of [ expressionist architecture] 0.34190696477890015\n",
      "loss 0.355 = 0.269 + 0.085 + 0.001 avg prob of [ expressionist architecture] 0.7690086364746094\n",
      "loss 0.156 = 0.076 + 0.079 + 0.001 avg prob of [ expressionist architecture] 0.9272720813751221\n",
      "loss 0.111 = 0.004 + 0.105 + 0.001 avg prob of [ expressionist architecture] 0.9957758784294128\n",
      "loss 0.135 = 0.003 + 0.13 + 0.001 avg prob of [ expressionist architecture] 0.9969205856323242\n",
      "loss 0.323 = 0.228 + 0.093 + 0.001 avg prob of [ expressionist architecture] 0.8131754994392395\n",
      "loss 0.386 = 0.202 + 0.183 + 0.001 avg prob of [ expressionist architecture] 0.8205599188804626\n",
      "loss 0.225 = 0.176 + 0.047 + 0.001 avg prob of [ expressionist architecture] 0.8406760692596436\n",
      "loss 0.075 = 0.034 + 0.039 + 0.001 avg prob of [ expressionist architecture] 0.9665433168411255\n"
     ]
    },
    {
     "name": "stderr",
     "output_type": "stream",
     "text": [
      "2024-08-12 18:47:48,516 - hallucination_editor - INFO - Execution 10 editing took 3.784519910812378\n",
      "08/12/2024 18:47:48 - INFO - hallucination_editor -   Execution 10 editing took 3.784519910812378\n"
     ]
    },
    {
     "name": "stdout",
     "output_type": "stream",
     "text": [
      "loss 0.05 = 0.015 + 0.033 + 0.001 avg prob of [ expressionist architecture] 0.9849826693534851\n",
      "Delta norm: 11.7421875\n",
      "Change in target norm: 2.935546875 to 12.03125 => 9.09375\n",
      "Division Factor: 3.7734375\n",
      "Right vector norm: 3.111328125\n",
      "Right vector shape: torch.Size([4096])\n",
      "Deltas successfully computed for ['model.layers.5.mlp.down_proj.weight']\n",
      "New weights successfully inserted into ['model.layers.5.mlp.down_proj.weight']\n"
     ]
    },
    {
     "name": "stderr",
     "output_type": "stream",
     "text": [
      "2024-08-12 18:47:48,821 - hallucination_editor - INFO - Evaluation took 0.3032979965209961\n",
      "08/12/2024 18:47:48 - INFO - hallucination_editor -   Evaluation took 0.3032979965209961\n",
      "2024-08-12 18:47:48,822 - hallucination_editor - INFO - 10 editing: What is the architectural style of Hundertwasserhaus? -> expressionist architecture  \n",
      " {'pre': {'edit_acc': [0], 'edit_output': ['Biomorphism.'], 'locality': {}, 'portability': {}, 'yes_no': {}}, 'case_id': 10, 'requested_edit': {'prompt': 'What is the architectural style of Hundertwasserhaus?', 'target_new': 'expressionist architecture', 'ground_truth': '<|endoftext|>', 'portability': {}, 'locality': {}, 'yes_no': {}, 'harm_original_text': {}, 'subject': 'Hundertwasserhaus'}, 'time': 3.784519910812378, 'post': {'edit_acc': [1], 'edit_output': ['Expressionist.'], 'locality': {}, 'portability': {}, 'yes_no': {}}}\n",
      "08/12/2024 18:47:48 - INFO - hallucination_editor -   10 editing: What is the architectural style of Hundertwasserhaus? -> expressionist architecture  \n",
      " {'pre': {'edit_acc': [0], 'edit_output': ['Biomorphism.'], 'locality': {}, 'portability': {}, 'yes_no': {}}, 'case_id': 10, 'requested_edit': {'prompt': 'What is the architectural style of Hundertwasserhaus?', 'target_new': 'expressionist architecture', 'ground_truth': '<|endoftext|>', 'portability': {}, 'locality': {}, 'yes_no': {}, 'harm_original_text': {}, 'subject': 'Hundertwasserhaus'}, 'time': 3.784519910812378, 'post': {'edit_acc': [1], 'edit_output': ['Expressionist.'], 'locality': {}, 'portability': {}, 'yes_no': {}}}\n"
     ]
    },
    {
     "name": "stdout",
     "output_type": "stream",
     "text": [
      "===== Question: What is the architectural style of Hundertwasserhaus? | Prediction: Expressionist. | Label: expressionist architecture | Evaluation: 1 =====\n",
      "Executing ROME algorithm for the update: [What is the located in the administrative territorial entity of Science Centre Singapore?] -> [ Jurong East]\n",
      "Computing left vector (u)...\n",
      "Selected u projection object Science Centre Singapore\n",
      "Left vector shape: torch.Size([14336])\n",
      "Computing right vector (v)\n",
      "Lookup index found: 13 | Sentence: What is the located in the administrative territorial entity of Science Centre Singapore? Jurong | Token:  Singapore\n",
      "Rewrite layer is 5\n",
      "Tying optimization objective to 31\n",
      "Recording initial value of v*\n",
      "loss 3.065 = 3.065 + 0.0 + 0.0 avg prob of [ Jurong East] 0.047714829444885254\n",
      "loss 2.129 = 2.076 + 0.052 + 0.002 avg prob of [ Jurong East] 0.13094280660152435\n",
      "loss 1.253 = 1.166 + 0.085 + 0.002 avg prob of [ Jurong East] 0.3216894865036011\n",
      "loss 0.787 = 0.663 + 0.122 + 0.002 avg prob of [ Jurong East] 0.52377849817276\n",
      "loss 0.256 = 0.244 + 0.011 + 0.002 avg prob of [ Jurong East] 0.7928555011749268\n",
      "loss 0.062 = 0.05 + 0.011 + 0.002 avg prob of [ Jurong East] 0.9515621066093445\n"
     ]
    },
    {
     "name": "stderr",
     "output_type": "stream",
     "text": [
      "2024-08-12 18:47:50,926 - hallucination_editor - INFO - Execution 11 editing took 2.102720022201538\n",
      "08/12/2024 18:47:50 - INFO - hallucination_editor -   Execution 11 editing took 2.102720022201538\n"
     ]
    },
    {
     "name": "stdout",
     "output_type": "stream",
     "text": [
      "loss 0.034 = 0.022 + 0.01 + 0.002 avg prob of [ Jurong East] 0.978002667427063\n",
      "Delta norm: 9.7265625\n",
      "Change in target norm: 2.431640625 to 10.15625 => 7.7265625\n",
      "Division Factor: 3.091796875\n",
      "Right vector norm: 3.146484375\n",
      "Right vector shape: torch.Size([4096])\n",
      "Deltas successfully computed for ['model.layers.5.mlp.down_proj.weight']\n",
      "New weights successfully inserted into ['model.layers.5.mlp.down_proj.weight']\n"
     ]
    },
    {
     "name": "stderr",
     "output_type": "stream",
     "text": [
      "2024-08-12 18:47:51,213 - hallucination_editor - INFO - Evaluation took 0.28508543968200684\n",
      "08/12/2024 18:47:51 - INFO - hallucination_editor -   Evaluation took 0.28508543968200684\n",
      "2024-08-12 18:47:51,214 - hallucination_editor - INFO - 11 editing: What is the located in the administrative territorial entity of Science Centre Singapore? -> Jurong East  \n",
      " {'pre': {'edit_acc': [0], 'edit_output': ['Biopolis.'], 'locality': {}, 'portability': {}, 'yes_no': {}}, 'case_id': 11, 'requested_edit': {'prompt': 'What is the located in the administrative territorial entity of Science Centre Singapore?', 'target_new': 'Jurong East', 'ground_truth': '<|endoftext|>', 'portability': {}, 'locality': {}, 'yes_no': {}, 'harm_original_text': {}, 'subject': 'Science Centre Singapore'}, 'time': 2.102720022201538, 'post': {'edit_acc': [1], 'edit_output': ['Jurong East.'], 'locality': {}, 'portability': {}, 'yes_no': {}}}\n",
      "08/12/2024 18:47:51 - INFO - hallucination_editor -   11 editing: What is the located in the administrative territorial entity of Science Centre Singapore? -> Jurong East  \n",
      " {'pre': {'edit_acc': [0], 'edit_output': ['Biopolis.'], 'locality': {}, 'portability': {}, 'yes_no': {}}, 'case_id': 11, 'requested_edit': {'prompt': 'What is the located in the administrative territorial entity of Science Centre Singapore?', 'target_new': 'Jurong East', 'ground_truth': '<|endoftext|>', 'portability': {}, 'locality': {}, 'yes_no': {}, 'harm_original_text': {}, 'subject': 'Science Centre Singapore'}, 'time': 2.102720022201538, 'post': {'edit_acc': [1], 'edit_output': ['Jurong East.'], 'locality': {}, 'portability': {}, 'yes_no': {}}}\n"
     ]
    },
    {
     "name": "stdout",
     "output_type": "stream",
     "text": [
      "===== Question: What is the located in the administrative territorial entity of Science Centre Singapore? | Prediction: Jurong East. | Label: Jurong East | Evaluation: 1 =====\n",
      "Executing ROME algorithm for the update: [What is the architectural style of Grand Kremlin Palace?] -> [ Byzantine Revival architecture]\n",
      "Computing left vector (u)...\n",
      "Selected u projection object Grand Kremlin Palace\n",
      "Left vector shape: torch.Size([14336])\n",
      "Computing right vector (v)\n",
      "Lookup index found: 9 | Sentence: What is the architectural style of Grand Kremlin Palace? Byzantine Revival | Token:  Palace\n",
      "Rewrite layer is 5\n",
      "Tying optimization objective to 31\n",
      "Recording initial value of v*\n",
      "loss 1.978 = 1.978 + 0.0 + 0.0 avg prob of [ Byzantine Revival architecture] 0.13957977294921875\n",
      "loss 0.967 = 0.953 + 0.012 + 0.001 avg prob of [ Byzantine Revival architecture] 0.3873499631881714\n",
      "loss 0.363 = 0.312 + 0.049 + 0.001 avg prob of [ Byzantine Revival architecture] 0.7335500121116638\n",
      "loss 0.364 = 0.32 + 0.042 + 0.001 avg prob of [ Byzantine Revival architecture] 0.7336697578430176\n",
      "loss 0.108 = 0.063 + 0.044 + 0.001 avg prob of [ Byzantine Revival architecture] 0.9388351440429688\n",
      "loss 0.083 = 0.059 + 0.023 + 0.001 avg prob of [ Byzantine Revival architecture] 0.9427281618118286\n"
     ]
    },
    {
     "name": "stderr",
     "output_type": "stream",
     "text": [
      "2024-08-12 18:47:53,276 - hallucination_editor - INFO - Execution 12 editing took 2.0603771209716797\n",
      "08/12/2024 18:47:53 - INFO - hallucination_editor -   Execution 12 editing took 2.0603771209716797\n"
     ]
    },
    {
     "name": "stdout",
     "output_type": "stream",
     "text": [
      "loss 0.047 = 0.01 + 0.035 + 0.001 avg prob of [ Byzantine Revival architecture] 0.9899947643280029\n",
      "Delta norm: 11.625\n",
      "Change in target norm: 2.90625 to 12.1171875 => 9.2109375\n",
      "Division Factor: 3.70703125\n",
      "Right vector norm: 3.13671875\n",
      "Right vector shape: torch.Size([4096])\n",
      "Deltas successfully computed for ['model.layers.5.mlp.down_proj.weight']\n",
      "New weights successfully inserted into ['model.layers.5.mlp.down_proj.weight']\n"
     ]
    },
    {
     "name": "stderr",
     "output_type": "stream",
     "text": [
      "2024-08-12 18:47:53,745 - hallucination_editor - INFO - Evaluation took 0.4678668975830078\n",
      "08/12/2024 18:47:53 - INFO - hallucination_editor -   Evaluation took 0.4678668975830078\n",
      "2024-08-12 18:47:53,747 - hallucination_editor - INFO - 12 editing: What is the architectural style of Grand Kremlin Palace? -> Byzantine Revival architecture  \n",
      " {'pre': {'edit_acc': [0], 'edit_output': ['Neoclassicism.'], 'locality': {}, 'portability': {}, 'yes_no': {}}, 'case_id': 12, 'requested_edit': {'prompt': 'What is the architectural style of Grand Kremlin Palace?', 'target_new': 'Byzantine Revival architecture', 'ground_truth': '<|endoftext|>', 'portability': {}, 'locality': {}, 'yes_no': {}, 'harm_original_text': {}, 'subject': 'Grand Kremlin Palace'}, 'time': 2.0603771209716797, 'post': {'edit_acc': [1], 'edit_output': ['Byzantine Revival.'], 'locality': {}, 'portability': {}, 'yes_no': {}}}\n",
      "08/12/2024 18:47:53 - INFO - hallucination_editor -   12 editing: What is the architectural style of Grand Kremlin Palace? -> Byzantine Revival architecture  \n",
      " {'pre': {'edit_acc': [0], 'edit_output': ['Neoclassicism.'], 'locality': {}, 'portability': {}, 'yes_no': {}}, 'case_id': 12, 'requested_edit': {'prompt': 'What is the architectural style of Grand Kremlin Palace?', 'target_new': 'Byzantine Revival architecture', 'ground_truth': '<|endoftext|>', 'portability': {}, 'locality': {}, 'yes_no': {}, 'harm_original_text': {}, 'subject': 'Grand Kremlin Palace'}, 'time': 2.0603771209716797, 'post': {'edit_acc': [1], 'edit_output': ['Byzantine Revival.'], 'locality': {}, 'portability': {}, 'yes_no': {}}}\n"
     ]
    },
    {
     "name": "stdout",
     "output_type": "stream",
     "text": [
      "===== Question: What is the architectural style of Grand Kremlin Palace? | Prediction: Byzantine Revival. | Label: Byzantine Revival architecture | Evaluation: 1 =====\n",
      "Executing ROME algorithm for the update: [Who was Grand Kremlin Palace commissioned by?] -> [ Nicholas I of Russia]\n",
      "Computing left vector (u)...\n",
      "Selected u projection object Grand Kremlin Palace\n",
      "Left vector shape: torch.Size([14336])\n",
      "Computing right vector (v)\n",
      "Lookup index found: 5 | Sentence: Who was Grand Kremlin Palace commissioned by? Nicholas I of | Token:  Palace\n",
      "Rewrite layer is 5\n",
      "Tying optimization objective to 31\n",
      "Recording initial value of v*\n",
      "loss 2.076 = 2.076 + 0.0 + 0.0 avg prob of [ Nicholas I of Russia] 0.12979824841022491\n",
      "loss 1.348 = 1.263 + 0.083 + 0.001 avg prob of [ Nicholas I of Russia] 0.2914779484272003\n",
      "loss 0.884 = 0.866 + 0.017 + 0.001 avg prob of [ Nicholas I of Russia] 0.42470628023147583\n",
      "loss 0.722 = 0.683 + 0.038 + 0.001 avg prob of [ Nicholas I of Russia] 0.508711040019989\n",
      "loss 0.22 = 0.19 + 0.029 + 0.001 avg prob of [ Nicholas I of Russia] 0.8284249901771545\n",
      "loss 0.093 = 0.042 + 0.049 + 0.001 avg prob of [ Nicholas I of Russia] 0.9584516286849976\n",
      "loss 0.07 = 0.048 + 0.02 + 0.001 avg prob of [ Nicholas I of Russia] 0.953402578830719\n"
     ]
    },
    {
     "name": "stderr",
     "output_type": "stream",
     "text": [
      "2024-08-12 18:47:55,865 - hallucination_editor - INFO - Execution 13 editing took 2.1169486045837402\n",
      "08/12/2024 18:47:55 - INFO - hallucination_editor -   Execution 13 editing took 2.1169486045837402\n"
     ]
    },
    {
     "name": "stdout",
     "output_type": "stream",
     "text": [
      "loss 0.042 = 0.011 + 0.029 + 0.001 avg prob of [ Nicholas I of Russia] 0.988897979259491\n",
      "Delta norm: 11.5390625\n",
      "Change in target norm: 2.884765625 to 11.90625 => 9.0234375\n",
      "Division Factor: 3.638671875\n",
      "Right vector norm: 3.171875\n",
      "Right vector shape: torch.Size([4096])\n",
      "Deltas successfully computed for ['model.layers.5.mlp.down_proj.weight']\n",
      "New weights successfully inserted into ['model.layers.5.mlp.down_proj.weight']\n"
     ]
    },
    {
     "name": "stderr",
     "output_type": "stream",
     "text": [
      "2024-08-12 18:47:56,260 - hallucination_editor - INFO - Evaluation took 0.39324402809143066\n",
      "08/12/2024 18:47:56 - INFO - hallucination_editor -   Evaluation took 0.39324402809143066\n",
      "2024-08-12 18:47:56,261 - hallucination_editor - INFO - 13 editing: Who was Grand Kremlin Palace commissioned by? -> Nicholas I of Russia  \n",
      " {'pre': {'edit_acc': [0], 'edit_output': ['Peter the Great.'], 'locality': {}, 'portability': {}, 'yes_no': {}}, 'case_id': 13, 'requested_edit': {'prompt': 'Who was Grand Kremlin Palace commissioned by?', 'target_new': 'Nicholas I of Russia', 'ground_truth': '<|endoftext|>', 'portability': {}, 'locality': {}, 'yes_no': {}, 'harm_original_text': {}, 'subject': 'Grand Kremlin Palace'}, 'time': 2.1169486045837402, 'post': {'edit_acc': [1], 'edit_output': ['Nicholas I of Russia.'], 'locality': {}, 'portability': {}, 'yes_no': {}}}\n",
      "08/12/2024 18:47:56 - INFO - hallucination_editor -   13 editing: Who was Grand Kremlin Palace commissioned by? -> Nicholas I of Russia  \n",
      " {'pre': {'edit_acc': [0], 'edit_output': ['Peter the Great.'], 'locality': {}, 'portability': {}, 'yes_no': {}}, 'case_id': 13, 'requested_edit': {'prompt': 'Who was Grand Kremlin Palace commissioned by?', 'target_new': 'Nicholas I of Russia', 'ground_truth': '<|endoftext|>', 'portability': {}, 'locality': {}, 'yes_no': {}, 'harm_original_text': {}, 'subject': 'Grand Kremlin Palace'}, 'time': 2.1169486045837402, 'post': {'edit_acc': [1], 'edit_output': ['Nicholas I of Russia.'], 'locality': {}, 'portability': {}, 'yes_no': {}}}\n"
     ]
    },
    {
     "name": "stdout",
     "output_type": "stream",
     "text": [
      "===== Question: Who was Grand Kremlin Palace commissioned by? | Prediction: Nicholas I of Russia. | Label: Nicholas I of Russia | Evaluation: 1 =====\n",
      "Executing ROME algorithm for the update: [Which tourist attraction's located in the administrative territorial entity is Stourton with Gasper?] -> [ Stourhead]\n",
      "Computing left vector (u)...\n",
      "Selected u projection object Stourton with Gasper\n",
      "Left vector shape: torch.Size([14336])\n",
      "Computing right vector (v)\n",
      "Lookup index found: 17 | Sentence: Which tourist attraction's located in the administrative territorial entity is Stourton with Gasper? Stour | Token: per\n",
      "Rewrite layer is 5\n",
      "Tying optimization objective to 31\n",
      "Recording initial value of v*\n",
      "loss 2.74 = 2.74 + 0.0 + 0.0 avg prob of [ Stourhead] 0.07809857279062271\n",
      "loss 1.936 = 1.834 + 0.1 + 0.001 avg prob of [ Stourhead] 0.19744673371315002\n",
      "loss 2.139 = 2.07 + 0.068 + 0.001 avg prob of [ Stourhead] 0.12967616319656372\n",
      "loss 1.119 = 1.052 + 0.065 + 0.001 avg prob of [ Stourhead] 0.3533145785331726\n",
      "loss 0.762 = 0.69 + 0.07 + 0.001 avg prob of [ Stourhead] 0.5055721402168274\n",
      "loss 0.509 = 0.448 + 0.06 + 0.001 avg prob of [ Stourhead] 0.6438671946525574\n",
      "loss 0.296 = 0.245 + 0.05 + 0.001 avg prob of [ Stourhead] 0.785811185836792\n",
      "loss 0.132 = 0.062 + 0.068 + 0.001 avg prob of [ Stourhead] 0.9401394128799438\n",
      "loss 0.087 = 0.03 + 0.056 + 0.001 avg prob of [ Stourhead] 0.9712546467781067\n",
      "loss 0.078 = 0.009 + 0.067 + 0.001 avg prob of [ Stourhead] 0.9906796216964722\n",
      "loss 0.057 = 0.004 + 0.052 + 0.001 avg prob of [ Stourhead] 0.9963676333427429\n",
      "loss 0.053 = 0.002 + 0.05 + 0.001 avg prob of [ Stourhead] 0.9984763264656067\n",
      "loss 0.05 = 0.001 + 0.048 + 0.001 avg prob of [ Stourhead] 0.999158501625061\n"
     ]
    },
    {
     "name": "stderr",
     "output_type": "stream",
     "text": [
      "2024-08-12 18:48:00,873 - hallucination_editor - INFO - Execution 14 editing took 4.609988689422607\n",
      "08/12/2024 18:48:00 - INFO - hallucination_editor -   Execution 14 editing took 4.609988689422607\n"
     ]
    },
    {
     "name": "stdout",
     "output_type": "stream",
     "text": [
      "loss 0.048 = 0.001 + 0.046 + 0.001 avg prob of [ Stourhead] 0.9993842244148254\n",
      "Delta norm: 11.0625\n",
      "Change in target norm: 2.765625 to 11.3984375 => 8.6328125\n",
      "Division Factor: 3.5234375\n",
      "Right vector norm: 3.140625\n",
      "Right vector shape: torch.Size([4096])\n",
      "Deltas successfully computed for ['model.layers.5.mlp.down_proj.weight']\n",
      "New weights successfully inserted into ['model.layers.5.mlp.down_proj.weight']\n"
     ]
    },
    {
     "name": "stderr",
     "output_type": "stream",
     "text": [
      "2024-08-12 18:48:01,158 - hallucination_editor - INFO - Evaluation took 0.28405284881591797\n",
      "08/12/2024 18:48:01 - INFO - hallucination_editor -   Evaluation took 0.28405284881591797\n",
      "2024-08-12 18:48:01,159 - hallucination_editor - INFO - 14 editing: Which tourist attraction's located in the administrative territorial entity is Stourton with Gasper? -> Stourhead  \n",
      " {'pre': {'edit_acc': [0], 'edit_output': ['Saltaire.'], 'locality': {}, 'portability': {}, 'yes_no': {}}, 'case_id': 14, 'requested_edit': {'prompt': \"Which tourist attraction's located in the administrative territorial entity is Stourton with Gasper?\", 'target_new': 'Stourhead', 'ground_truth': '<|endoftext|>', 'portability': {}, 'locality': {}, 'yes_no': {}, 'harm_original_text': {}, 'subject': 'Stourton with Gasper'}, 'time': 4.609988689422607, 'post': {'edit_acc': [1], 'edit_output': ['Stourhead.'], 'locality': {}, 'portability': {}, 'yes_no': {}}}\n",
      "08/12/2024 18:48:01 - INFO - hallucination_editor -   14 editing: Which tourist attraction's located in the administrative territorial entity is Stourton with Gasper? -> Stourhead  \n",
      " {'pre': {'edit_acc': [0], 'edit_output': ['Saltaire.'], 'locality': {}, 'portability': {}, 'yes_no': {}}, 'case_id': 14, 'requested_edit': {'prompt': \"Which tourist attraction's located in the administrative territorial entity is Stourton with Gasper?\", 'target_new': 'Stourhead', 'ground_truth': '<|endoftext|>', 'portability': {}, 'locality': {}, 'yes_no': {}, 'harm_original_text': {}, 'subject': 'Stourton with Gasper'}, 'time': 4.609988689422607, 'post': {'edit_acc': [1], 'edit_output': ['Stourhead.'], 'locality': {}, 'portability': {}, 'yes_no': {}}}\n"
     ]
    },
    {
     "name": "stdout",
     "output_type": "stream",
     "text": [
      "===== Question: Which tourist attraction's located in the administrative territorial entity is Stourton with Gasper? | Prediction: Stourhead. | Label: Stourhead | Evaluation: 1 =====\n",
      "Executing ROME algorithm for the update: [Who does İzmir Clock Tower architect?] -> [ Raymond Charles Péré]\n",
      "Computing left vector (u)...\n",
      "Selected u projection object İzmir Clock Tower\n",
      "Left vector shape: torch.Size([14336])\n",
      "Computing right vector (v)\n",
      "Lookup index found: 5 | Sentence: Who does İzmir Clock Tower architect? Raymond Charles P | Token:  Tower\n",
      "Rewrite layer is 5\n",
      "Tying optimization objective to 31\n",
      "Recording initial value of v*\n",
      "loss 4.675 = 4.675 + 0.0 + 0.0 avg prob of [ Raymond Charles Péré] 0.010770242661237717\n",
      "loss 3.328 = 3.285 + 0.042 + 0.001 avg prob of [ Raymond Charles Péré] 0.0391315259039402\n",
      "loss 4.708 = 4.674 + 0.033 + 0.001 avg prob of [ Raymond Charles Péré] 0.010065143927931786\n",
      "loss 2.158 = 2.138 + 0.019 + 0.001 avg prob of [ Raymond Charles Péré] 0.11858031898736954\n",
      "loss 1.742 = 1.725 + 0.016 + 0.001 avg prob of [ Raymond Charles Péré] 0.17973200976848602\n",
      "loss 1.092 = 1.074 + 0.017 + 0.001 avg prob of [ Raymond Charles Péré] 0.34717655181884766\n",
      "loss 0.264 = 0.245 + 0.018 + 0.001 avg prob of [ Raymond Charles Péré] 0.7864575386047363\n",
      "loss 0.107 = 0.092 + 0.013 + 0.001 avg prob of [ Raymond Charles Péré] 0.9139480590820312\n",
      "loss 0.055 = 0.039 + 0.015 + 0.001 avg prob of [ Raymond Charles Péré] 0.9613794684410095\n",
      "loss 0.072 = 0.028 + 0.043 + 0.001 avg prob of [ Raymond Charles Péré] 0.9723435640335083\n",
      "loss 0.082 = 0.023 + 0.058 + 0.001 avg prob of [ Raymond Charles Péré] 0.9772012829780579\n",
      "loss 0.061 = 0.018 + 0.042 + 0.001 avg prob of [ Raymond Charles Péré] 0.982376754283905\n",
      "loss 0.059 = 0.014 + 0.044 + 0.001 avg prob of [ Raymond Charles Péré] 0.9863550066947937\n",
      "loss 0.05 = 0.011 + 0.038 + 0.001 avg prob of [ Raymond Charles Péré] 0.9892498254776001\n"
     ]
    },
    {
     "name": "stderr",
     "output_type": "stream",
     "text": [
      "2024-08-12 18:48:05,028 - hallucination_editor - INFO - Execution 15 editing took 3.8670170307159424\n",
      "08/12/2024 18:48:05 - INFO - hallucination_editor -   Execution 15 editing took 3.8670170307159424\n"
     ]
    },
    {
     "name": "stdout",
     "output_type": "stream",
     "text": [
      "loss 0.035 = 0.009 + 0.025 + 0.001 avg prob of [ Raymond Charles Péré] 0.9914489388465881\n",
      "Delta norm: 13.5546875\n",
      "Change in target norm: 3.388671875 to 13.890625 => 10.5\n",
      "Division Factor: 4.24609375\n",
      "Right vector norm: 3.19140625\n",
      "Right vector shape: torch.Size([4096])\n",
      "Deltas successfully computed for ['model.layers.5.mlp.down_proj.weight']\n",
      "New weights successfully inserted into ['model.layers.5.mlp.down_proj.weight']\n"
     ]
    },
    {
     "name": "stderr",
     "output_type": "stream",
     "text": [
      "2024-08-12 18:48:05,275 - hallucination_editor - INFO - Evaluation took 0.24611926078796387\n",
      "08/12/2024 18:48:05 - INFO - hallucination_editor -   Evaluation took 0.24611926078796387\n",
      "2024-08-12 18:48:05,277 - hallucination_editor - INFO - 15 editing: Who does İzmir Clock Tower architect? -> Raymond Charles Péré  \n",
      " {'pre': {'edit_acc': [0], 'edit_output': [\"Raimondo D'Aronco.\"], 'locality': {}, 'portability': {}, 'yes_no': {}}, 'case_id': 15, 'requested_edit': {'prompt': 'Who does İzmir Clock Tower architect?', 'target_new': 'Raymond Charles Péré', 'ground_truth': '<|endoftext|>', 'portability': {}, 'locality': {}, 'yes_no': {}, 'harm_original_text': {}, 'subject': 'İzmir Clock Tower'}, 'time': 3.8670170307159424, 'post': {'edit_acc': [0], 'edit_output': ['French.'], 'locality': {}, 'portability': {}, 'yes_no': {}}}\n",
      "08/12/2024 18:48:05 - INFO - hallucination_editor -   15 editing: Who does İzmir Clock Tower architect? -> Raymond Charles Péré  \n",
      " {'pre': {'edit_acc': [0], 'edit_output': [\"Raimondo D'Aronco.\"], 'locality': {}, 'portability': {}, 'yes_no': {}}, 'case_id': 15, 'requested_edit': {'prompt': 'Who does İzmir Clock Tower architect?', 'target_new': 'Raymond Charles Péré', 'ground_truth': '<|endoftext|>', 'portability': {}, 'locality': {}, 'yes_no': {}, 'harm_original_text': {}, 'subject': 'İzmir Clock Tower'}, 'time': 3.8670170307159424, 'post': {'edit_acc': [0], 'edit_output': ['French.'], 'locality': {}, 'portability': {}, 'yes_no': {}}}\n"
     ]
    },
    {
     "name": "stdout",
     "output_type": "stream",
     "text": [
      "===== Question: Who does İzmir Clock Tower architect? | Prediction: French. | Label: Raymond Charles Péré | Evaluation: 0 =====\n",
      "Executing ROME algorithm for the update: [Which tourist attraction's director / manager is Tor Hagfors?] -> [ Arecibo Observatory]\n",
      "Computing left vector (u)...\n",
      "Selected u projection object Tor Hagfors\n",
      "Left vector shape: torch.Size([14336])\n",
      "Computing right vector (v)\n",
      "Lookup index found: 12 | Sentence: Which tourist attraction's director / manager is Tor Hagfors? Arecibo | Token: ors\n",
      "Rewrite layer is 5\n",
      "Tying optimization objective to 31\n",
      "Recording initial value of v*\n",
      "loss 3.815 = 3.815 + 0.0 + 0.0 avg prob of [ Arecibo Observatory] 0.023222830146551132\n",
      "loss 3.341 = 3.111 + 0.229 + 0.001 avg prob of [ Arecibo Observatory] 0.04893385246396065\n",
      "loss 1.791 = 1.737 + 0.052 + 0.001 avg prob of [ Arecibo Observatory] 0.24256479740142822\n",
      "loss 1.418 = 1.355 + 0.062 + 0.001 avg prob of [ Arecibo Observatory] 0.26727163791656494\n",
      "loss 0.616 = 0.556 + 0.059 + 0.001 avg prob of [ Arecibo Observatory] 0.5785532593727112\n",
      "loss 0.261 = 0.22 + 0.039 + 0.001 avg prob of [ Arecibo Observatory] 0.803925096988678\n",
      "loss 0.171 = 0.146 + 0.023 + 0.001 avg prob of [ Arecibo Observatory] 0.8646348714828491\n",
      "loss 0.109 = 0.082 + 0.026 + 0.001 avg prob of [ Arecibo Observatory] 0.9217795729637146\n",
      "loss 0.074 = 0.047 + 0.026 + 0.001 avg prob of [ Arecibo Observatory] 0.9545568227767944\n",
      "loss 0.054 = 0.03 + 0.023 + 0.001 avg prob of [ Arecibo Observatory] 0.9704230427742004\n"
     ]
    },
    {
     "name": "stderr",
     "output_type": "stream",
     "text": [
      "2024-08-12 18:48:08,529 - hallucination_editor - INFO - Execution 16 editing took 3.2503786087036133\n",
      "08/12/2024 18:48:08 - INFO - hallucination_editor -   Execution 16 editing took 3.2503786087036133\n"
     ]
    },
    {
     "name": "stdout",
     "output_type": "stream",
     "text": [
      "loss 0.044 = 0.021 + 0.021 + 0.001 avg prob of [ Arecibo Observatory] 0.9789752960205078\n",
      "Delta norm: 11.1328125\n",
      "Change in target norm: 2.783203125 to 11.546875 => 8.765625\n",
      "Division Factor: 3.619140625\n",
      "Right vector norm: 3.076171875\n",
      "Right vector shape: torch.Size([4096])\n",
      "Deltas successfully computed for ['model.layers.5.mlp.down_proj.weight']\n",
      "New weights successfully inserted into ['model.layers.5.mlp.down_proj.weight']\n"
     ]
    },
    {
     "name": "stderr",
     "output_type": "stream",
     "text": [
      "2024-08-12 18:48:08,871 - hallucination_editor - INFO - Evaluation took 0.3406519889831543\n",
      "08/12/2024 18:48:08 - INFO - hallucination_editor -   Evaluation took 0.3406519889831543\n",
      "2024-08-12 18:48:08,872 - hallucination_editor - INFO - 16 editing: Which tourist attraction's director / manager is Tor Hagfors? -> Arecibo Observatory  \n",
      " {'pre': {'edit_acc': [0], 'edit_output': ['Stonehenge.'], 'locality': {}, 'portability': {}, 'yes_no': {}}, 'case_id': 16, 'requested_edit': {'prompt': \"Which tourist attraction's director / manager is Tor Hagfors?\", 'target_new': 'Arecibo Observatory', 'ground_truth': '<|endoftext|>', 'portability': {}, 'locality': {}, 'yes_no': {}, 'harm_original_text': {}, 'subject': 'Tor Hagfors'}, 'time': 3.2503786087036133, 'post': {'edit_acc': [1], 'edit_output': ['Arecibo Observatory.'], 'locality': {}, 'portability': {}, 'yes_no': {}}}\n",
      "08/12/2024 18:48:08 - INFO - hallucination_editor -   16 editing: Which tourist attraction's director / manager is Tor Hagfors? -> Arecibo Observatory  \n",
      " {'pre': {'edit_acc': [0], 'edit_output': ['Stonehenge.'], 'locality': {}, 'portability': {}, 'yes_no': {}}, 'case_id': 16, 'requested_edit': {'prompt': \"Which tourist attraction's director / manager is Tor Hagfors?\", 'target_new': 'Arecibo Observatory', 'ground_truth': '<|endoftext|>', 'portability': {}, 'locality': {}, 'yes_no': {}, 'harm_original_text': {}, 'subject': 'Tor Hagfors'}, 'time': 3.2503786087036133, 'post': {'edit_acc': [1], 'edit_output': ['Arecibo Observatory.'], 'locality': {}, 'portability': {}, 'yes_no': {}}}\n"
     ]
    },
    {
     "name": "stdout",
     "output_type": "stream",
     "text": [
      "===== Question: Which tourist attraction's director / manager is Tor Hagfors? | Prediction: Arecibo Observatory. | Label: Arecibo Observatory | Evaluation: 1 =====\n",
      "Executing ROME algorithm for the update: [What is the religion or worldview of Saviour Church on Nereditsa?] -> [ Eastern Orthodoxy]\n",
      "Computing left vector (u)...\n",
      "Selected u projection object Saviour Church on Nereditsa\n",
      "Left vector shape: torch.Size([14336])\n",
      "Computing right vector (v)\n",
      "Lookup index found: 15 | Sentence: What is the religion or worldview of Saviour Church on Nereditsa? Eastern Orth | Token: a\n",
      "Rewrite layer is 5\n",
      "Tying optimization objective to 31\n",
      "Recording initial value of v*\n",
      "loss 3.27 = 3.27 + 0.0 + 0.0 avg prob of [ Eastern Orthodoxy] 0.03922592103481293\n",
      "loss 2.667 = 2.608 + 0.057 + 0.001 avg prob of [ Eastern Orthodoxy] 0.07785599678754807\n",
      "loss 1.0 = 0.931 + 0.068 + 0.001 avg prob of [ Eastern Orthodoxy] 0.40393969416618347\n",
      "loss 0.46 = 0.356 + 0.103 + 0.001 avg prob of [ Eastern Orthodoxy] 0.703551709651947\n",
      "loss 0.257 = 0.149 + 0.106 + 0.001 avg prob of [ Eastern Orthodoxy] 0.8619370460510254\n",
      "loss 0.146 = 0.061 + 0.084 + 0.001 avg prob of [ Eastern Orthodoxy] 0.9409760236740112\n",
      "loss 0.111 = 0.018 + 0.092 + 0.001 avg prob of [ Eastern Orthodoxy] 0.9825990200042725\n",
      "loss 0.106 = 0.007 + 0.098 + 0.001 avg prob of [ Eastern Orthodoxy] 0.9927403926849365\n",
      "loss 0.114 = 0.013 + 0.1 + 0.001 avg prob of [ Eastern Orthodoxy] 0.9875079989433289\n",
      "loss 0.112 = 0.016 + 0.094 + 0.001 avg prob of [ Eastern Orthodoxy] 0.9837262630462646\n",
      "loss 0.107 = 0.014 + 0.092 + 0.001 avg prob of [ Eastern Orthodoxy] 0.9864313006401062\n",
      "loss 0.095 = 0.01 + 0.083 + 0.001 avg prob of [ Eastern Orthodoxy] 0.9897332191467285\n",
      "loss 0.085 = 0.008 + 0.076 + 0.001 avg prob of [ Eastern Orthodoxy] 0.9923825263977051\n",
      "loss 0.077 = 0.006 + 0.07 + 0.001 avg prob of [ Eastern Orthodoxy] 0.994161069393158\n",
      "loss 0.071 = 0.004 + 0.066 + 0.001 avg prob of [ Eastern Orthodoxy] 0.9959530830383301\n",
      "loss 0.069 = 0.003 + 0.065 + 0.001 avg prob of [ Eastern Orthodoxy] 0.9972397089004517\n",
      "loss 0.068 = 0.002 + 0.065 + 0.001 avg prob of [ Eastern Orthodoxy] 0.9979443550109863\n",
      "loss 0.067 = 0.002 + 0.064 + 0.001 avg prob of [ Eastern Orthodoxy] 0.9983392357826233\n",
      "loss 0.066 = 0.001 + 0.063 + 0.001 avg prob of [ Eastern Orthodoxy] 0.9985654950141907\n",
      "loss 0.065 = 0.001 + 0.062 + 0.001 avg prob of [ Eastern Orthodoxy] 0.9987045526504517\n",
      "loss 0.063 = 0.001 + 0.061 + 0.001 avg prob of [ Eastern Orthodoxy] 0.9987863898277283\n",
      "loss 0.062 = 0.001 + 0.059 + 0.001 avg prob of [ Eastern Orthodoxy] 0.99882972240448\n",
      "loss 0.06 = 0.001 + 0.058 + 0.001 avg prob of [ Eastern Orthodoxy] 0.9988489151000977\n",
      "loss 0.059 = 0.001 + 0.057 + 0.001 avg prob of [ Eastern Orthodoxy] 0.9988759756088257\n"
     ]
    },
    {
     "name": "stderr",
     "output_type": "stream",
     "text": [
      "2024-08-12 18:48:16,417 - hallucination_editor - INFO - Execution 17 editing took 7.543142080307007\n",
      "08/12/2024 18:48:16 - INFO - hallucination_editor -   Execution 17 editing took 7.543142080307007\n"
     ]
    },
    {
     "name": "stdout",
     "output_type": "stream",
     "text": [
      "loss 0.059 = 0.001 + 0.056 + 0.001 avg prob of [ Eastern Orthodoxy] 0.9989181756973267\n",
      "Delta norm: 11.5703125\n",
      "Change in target norm: 2.892578125 to 11.8984375 => 9.0078125\n",
      "Division Factor: 3.76171875\n",
      "Right vector norm: 3.076171875\n",
      "Right vector shape: torch.Size([4096])\n",
      "Deltas successfully computed for ['model.layers.5.mlp.down_proj.weight']\n",
      "New weights successfully inserted into ['model.layers.5.mlp.down_proj.weight']\n"
     ]
    },
    {
     "name": "stderr",
     "output_type": "stream",
     "text": [
      "2024-08-12 18:48:16,700 - hallucination_editor - INFO - Evaluation took 0.2820456027984619\n",
      "08/12/2024 18:48:16 - INFO - hallucination_editor -   Evaluation took 0.2820456027984619\n",
      "2024-08-12 18:48:16,702 - hallucination_editor - INFO - 17 editing: What is the religion or worldview of Saviour Church on Nereditsa? -> Eastern Orthodoxy  \n",
      " {'pre': {'edit_acc': [0], 'edit_output': ['Unknown.'], 'locality': {}, 'portability': {}, 'yes_no': {}}, 'case_id': 17, 'requested_edit': {'prompt': 'What is the religion or worldview of Saviour Church on Nereditsa?', 'target_new': 'Eastern Orthodoxy', 'ground_truth': '<|endoftext|>', 'portability': {}, 'locality': {}, 'yes_no': {}, 'harm_original_text': {}, 'subject': 'Saviour Church on Nereditsa'}, 'time': 7.543142080307007, 'post': {'edit_acc': [1], 'edit_output': ['Eastern Orthodoxy.'], 'locality': {}, 'portability': {}, 'yes_no': {}}}\n",
      "08/12/2024 18:48:16 - INFO - hallucination_editor -   17 editing: What is the religion or worldview of Saviour Church on Nereditsa? -> Eastern Orthodoxy  \n",
      " {'pre': {'edit_acc': [0], 'edit_output': ['Unknown.'], 'locality': {}, 'portability': {}, 'yes_no': {}}, 'case_id': 17, 'requested_edit': {'prompt': 'What is the religion or worldview of Saviour Church on Nereditsa?', 'target_new': 'Eastern Orthodoxy', 'ground_truth': '<|endoftext|>', 'portability': {}, 'locality': {}, 'yes_no': {}, 'harm_original_text': {}, 'subject': 'Saviour Church on Nereditsa'}, 'time': 7.543142080307007, 'post': {'edit_acc': [1], 'edit_output': ['Eastern Orthodoxy.'], 'locality': {}, 'portability': {}, 'yes_no': {}}}\n"
     ]
    },
    {
     "name": "stdout",
     "output_type": "stream",
     "text": [
      "===== Question: What is the religion or worldview of Saviour Church on Nereditsa? | Prediction: Eastern Orthodoxy. | Label: Eastern Orthodoxy | Evaluation: 1 =====\n",
      "Executing ROME algorithm for the update: [Which tourist attraction architect Louis de Hoÿm de Marien?] -> [ Montparnasse Tower]\n",
      "Computing left vector (u)...\n",
      "Selected u projection object Louis de Hoÿm de Marien\n",
      "Left vector shape: torch.Size([14336])\n",
      "Computing right vector (v)\n",
      "Lookup index found: 13 | Sentence: Which tourist attraction architect Louis de Hoÿm de Marien? Montparnasse | Token: en\n",
      "Rewrite layer is 5\n",
      "Tying optimization objective to 31\n",
      "Recording initial value of v*\n",
      "loss 2.989 = 2.989 + 0.0 + 0.0 avg prob of [ Montparnasse Tower] 0.05107204243540764\n",
      "loss 2.829 = 2.411 + 0.416 + 0.002 avg prob of [ Montparnasse Tower] 0.09126745909452438\n",
      "loss 2.031 = 1.635 + 0.395 + 0.002 avg prob of [ Montparnasse Tower] 0.19737550616264343\n",
      "loss 1.309 = 0.872 + 0.436 + 0.002 avg prob of [ Montparnasse Tower] 0.4190506935119629\n",
      "loss 0.892 = 0.435 + 0.455 + 0.002 avg prob of [ Montparnasse Tower] 0.6494719386100769\n",
      "loss 2.098 = 1.222 + 0.874 + 0.002 avg prob of [ Montparnasse Tower] 0.32683905959129333\n",
      "loss 2.556 = 2.117 + 0.438 + 0.002 avg prob of [ Montparnasse Tower] 0.12188386172056198\n",
      "loss 2.317 = 1.887 + 0.428 + 0.002 avg prob of [ Montparnasse Tower] 0.1561345010995865\n",
      "loss 1.76 = 1.371 + 0.388 + 0.002 avg prob of [ Montparnasse Tower] 0.25769537687301636\n",
      "loss 1.413 = 1.012 + 0.4 + 0.002 avg prob of [ Montparnasse Tower] 0.3679378628730774\n",
      "loss 0.957 = 0.54 + 0.415 + 0.002 avg prob of [ Montparnasse Tower] 0.5877369046211243\n",
      "loss 0.534 = 0.101 + 0.431 + 0.002 avg prob of [ Montparnasse Tower] 0.9056264162063599\n",
      "loss 0.439 = 0.026 + 0.412 + 0.002 avg prob of [ Montparnasse Tower] 0.9748987555503845\n",
      "loss 0.418 = 0.008 + 0.408 + 0.002 avg prob of [ Montparnasse Tower] 0.9916589856147766\n",
      "loss 0.402 = 0.005 + 0.396 + 0.002 avg prob of [ Montparnasse Tower] 0.9948806166648865\n",
      "loss 0.386 = 0.006 + 0.379 + 0.002 avg prob of [ Montparnasse Tower] 0.9945173263549805\n",
      "loss 0.381 = 0.004 + 0.376 + 0.002 avg prob of [ Montparnasse Tower] 0.9962584376335144\n",
      "loss 0.378 = 0.002 + 0.375 + 0.002 avg prob of [ Montparnasse Tower] 0.9979045987129211\n",
      "loss 0.376 = 0.001 + 0.373 + 0.002 avg prob of [ Montparnasse Tower] 0.9985768795013428\n",
      "loss 0.374 = 0.001 + 0.371 + 0.002 avg prob of [ Montparnasse Tower] 0.9988446831703186\n",
      "loss 0.371 = 0.001 + 0.368 + 0.002 avg prob of [ Montparnasse Tower] 0.9989493489265442\n",
      "loss 0.364 = 0.001 + 0.361 + 0.002 avg prob of [ Montparnasse Tower] 0.9989727735519409\n",
      "loss 0.346 = 0.001 + 0.343 + 0.002 avg prob of [ Montparnasse Tower] 0.998924195766449\n",
      "loss 0.373 = 0.001 + 0.37 + 0.002 avg prob of [ Montparnasse Tower] 0.9988841414451599\n"
     ]
    },
    {
     "name": "stderr",
     "output_type": "stream",
     "text": [
      "2024-08-12 18:48:24,263 - hallucination_editor - INFO - Execution 18 editing took 7.5595362186431885\n",
      "08/12/2024 18:48:24 - INFO - hallucination_editor -   Execution 18 editing took 7.5595362186431885\n"
     ]
    },
    {
     "name": "stdout",
     "output_type": "stream",
     "text": [
      "loss 0.446 = 0.059 + 0.386 + 0.002 avg prob of [ Montparnasse Tower] 0.9489931464195251\n",
      "Delta norm: 10.3125\n",
      "Change in target norm: 2.578125 to 10.671875 => 8.09375\n",
      "Division Factor: 3.404296875\n",
      "Right vector norm: 3.029296875\n",
      "Right vector shape: torch.Size([4096])\n",
      "Deltas successfully computed for ['model.layers.5.mlp.down_proj.weight']\n",
      "New weights successfully inserted into ['model.layers.5.mlp.down_proj.weight']\n"
     ]
    },
    {
     "name": "stderr",
     "output_type": "stream",
     "text": [
      "2024-08-12 18:48:24,918 - hallucination_editor - INFO - Evaluation took 0.6536688804626465\n",
      "08/12/2024 18:48:24 - INFO - hallucination_editor -   Evaluation took 0.6536688804626465\n",
      "2024-08-12 18:48:24,919 - hallucination_editor - INFO - 18 editing: Which tourist attraction architect Louis de Hoÿm de Marien? -> Montparnasse Tower  \n",
      " {'pre': {'edit_acc': [0], 'edit_output': ['Unknown.'], 'locality': {}, 'portability': {}, 'yes_no': {}}, 'case_id': 18, 'requested_edit': {'prompt': 'Which tourist attraction architect Louis de Hoÿm de Marien?', 'target_new': 'Montparnasse Tower', 'ground_truth': '<|endoftext|>', 'portability': {}, 'locality': {}, 'yes_no': {}, 'harm_original_text': {}, 'subject': 'Louis de Hoÿm de Marien'}, 'time': 7.5595362186431885, 'post': {'edit_acc': [0], 'edit_output': ['Musée des Égouts de Paris.'], 'locality': {}, 'portability': {}, 'yes_no': {}}}\n",
      "08/12/2024 18:48:24 - INFO - hallucination_editor -   18 editing: Which tourist attraction architect Louis de Hoÿm de Marien? -> Montparnasse Tower  \n",
      " {'pre': {'edit_acc': [0], 'edit_output': ['Unknown.'], 'locality': {}, 'portability': {}, 'yes_no': {}}, 'case_id': 18, 'requested_edit': {'prompt': 'Which tourist attraction architect Louis de Hoÿm de Marien?', 'target_new': 'Montparnasse Tower', 'ground_truth': '<|endoftext|>', 'portability': {}, 'locality': {}, 'yes_no': {}, 'harm_original_text': {}, 'subject': 'Louis de Hoÿm de Marien'}, 'time': 7.5595362186431885, 'post': {'edit_acc': [0], 'edit_output': ['Musée des Égouts de Paris.'], 'locality': {}, 'portability': {}, 'yes_no': {}}}\n"
     ]
    },
    {
     "name": "stdout",
     "output_type": "stream",
     "text": [
      "===== Question: Which tourist attraction architect Louis de Hoÿm de Marien? | Prediction: Musée des Égouts de Paris. | Label: Montparnasse Tower | Evaluation: 0 =====\n",
      "Executing ROME algorithm for the update: [Which tourist attraction's located in the administrative territorial entity is Konya Province?] -> [ Lake Tuz]\n",
      "Computing left vector (u)...\n",
      "Selected u projection object Konya Province\n",
      "Left vector shape: torch.Size([14336])\n",
      "Computing right vector (v)\n",
      "Lookup index found: 14 | Sentence: Which tourist attraction's located in the administrative territorial entity is Konya Province? Lake T | Token:  Province\n",
      "Rewrite layer is 5\n",
      "Tying optimization objective to 31\n",
      "Recording initial value of v*\n",
      "loss 4.099 = 4.099 + 0.0 + 0.0 avg prob of [ Lake Tuz] 0.017249835655093193\n",
      "loss 3.275 = 3.259 + 0.014 + 0.001 avg prob of [ Lake Tuz] 0.03925757855176926\n",
      "loss 3.003 = 2.922 + 0.08 + 0.001 avg prob of [ Lake Tuz] 0.054479487240314484\n",
      "loss 2.625 = 2.609 + 0.014 + 0.001 avg prob of [ Lake Tuz] 0.0755014643073082\n",
      "loss 0.807 = 0.736 + 0.07 + 0.001 avg prob of [ Lake Tuz] 0.48368340730667114\n",
      "loss 0.674 = 0.658 + 0.015 + 0.001 avg prob of [ Lake Tuz] 0.5221512913703918\n",
      "loss 0.059 = 0.045 + 0.012 + 0.001 avg prob of [ Lake Tuz] 0.9557479619979858\n"
     ]
    },
    {
     "name": "stderr",
     "output_type": "stream",
     "text": [
      "2024-08-12 18:48:27,344 - hallucination_editor - INFO - Execution 19 editing took 2.4239494800567627\n",
      "08/12/2024 18:48:27 - INFO - hallucination_editor -   Execution 19 editing took 2.4239494800567627\n"
     ]
    },
    {
     "name": "stdout",
     "output_type": "stream",
     "text": [
      "loss 0.04 = 0.026 + 0.012 + 0.001 avg prob of [ Lake Tuz] 0.974245548248291\n",
      "Delta norm: 11.828125\n",
      "Change in target norm: 2.95703125 to 12.28125 => 9.328125\n",
      "Division Factor: 3.8828125\n",
      "Right vector norm: 3.046875\n",
      "Right vector shape: torch.Size([4096])\n",
      "Deltas successfully computed for ['model.layers.5.mlp.down_proj.weight']\n",
      "New weights successfully inserted into ['model.layers.5.mlp.down_proj.weight']\n"
     ]
    },
    {
     "name": "stderr",
     "output_type": "stream",
     "text": [
      "2024-08-12 18:48:27,630 - hallucination_editor - INFO - Evaluation took 0.2841835021972656\n",
      "08/12/2024 18:48:27 - INFO - hallucination_editor -   Evaluation took 0.2841835021972656\n",
      "2024-08-12 18:48:27,631 - hallucination_editor - INFO - 19 editing: Which tourist attraction's located in the administrative territorial entity is Konya Province? -> Lake Tuz  \n",
      " {'pre': {'edit_acc': [0], 'edit_output': ['Meke Lake.'], 'locality': {}, 'portability': {}, 'yes_no': {}}, 'case_id': 19, 'requested_edit': {'prompt': \"Which tourist attraction's located in the administrative territorial entity is Konya Province?\", 'target_new': 'Lake Tuz', 'ground_truth': '<|endoftext|>', 'portability': {}, 'locality': {}, 'yes_no': {}, 'harm_original_text': {}, 'subject': 'Konya Province'}, 'time': 2.4239494800567627, 'post': {'edit_acc': [1], 'edit_output': ['Lake Tuz.'], 'locality': {}, 'portability': {}, 'yes_no': {}}}\n",
      "08/12/2024 18:48:27 - INFO - hallucination_editor -   19 editing: Which tourist attraction's located in the administrative territorial entity is Konya Province? -> Lake Tuz  \n",
      " {'pre': {'edit_acc': [0], 'edit_output': ['Meke Lake.'], 'locality': {}, 'portability': {}, 'yes_no': {}}, 'case_id': 19, 'requested_edit': {'prompt': \"Which tourist attraction's located in the administrative territorial entity is Konya Province?\", 'target_new': 'Lake Tuz', 'ground_truth': '<|endoftext|>', 'portability': {}, 'locality': {}, 'yes_no': {}, 'harm_original_text': {}, 'subject': 'Konya Province'}, 'time': 2.4239494800567627, 'post': {'edit_acc': [1], 'edit_output': ['Lake Tuz.'], 'locality': {}, 'portability': {}, 'yes_no': {}}}\n"
     ]
    },
    {
     "name": "stdout",
     "output_type": "stream",
     "text": [
      "===== Question: Which tourist attraction's located in the administrative territorial entity is Konya Province? | Prediction: Lake Tuz. | Label: Lake Tuz | Evaluation: 1 =====\n",
      "Executing ROME algorithm for the update: [Which tourist attraction's present in work is Now You See Me 2?] -> [ Royal Observatory]\n",
      "Computing left vector (u)...\n",
      "Selected u projection object Now You See Me 2\n",
      "Left vector shape: torch.Size([14336])\n",
      "Computing right vector (v)\n",
      "Lookup index found: 14 | Sentence: Which tourist attraction's present in work is Now You See Me 2? Royal | Token: 2\n",
      "Rewrite layer is 5\n",
      "Tying optimization objective to 31\n",
      "Recording initial value of v*\n",
      "loss 7.899 = 7.899 + 0.0 + 0.0 avg prob of [ Royal Observatory] 0.00042804988333955407\n",
      "loss 5.601 = 5.591 + 0.008 + 0.001 avg prob of [ Royal Observatory] 0.00414467416703701\n",
      "loss 3.098 = 3.043 + 0.054 + 0.001 avg prob of [ Royal Observatory] 0.05361136049032211\n",
      "loss 1.387 = 1.029 + 0.357 + 0.001 avg prob of [ Royal Observatory] 0.38331326842308044\n",
      "loss 0.906 = 0.776 + 0.128 + 0.001 avg prob of [ Royal Observatory] 0.4700051248073578\n",
      "loss 0.199 = 0.016 + 0.181 + 0.001 avg prob of [ Royal Observatory] 0.9840505123138428\n",
      "loss 0.19 = 0.01 + 0.179 + 0.001 avg prob of [ Royal Observatory] 0.9901303052902222\n",
      "loss 0.148 = 0.013 + 0.133 + 0.001 avg prob of [ Royal Observatory] 0.9869601130485535\n",
      "loss 0.067 = 0.02 + 0.045 + 0.001 avg prob of [ Royal Observatory] 0.9802001118659973\n"
     ]
    },
    {
     "name": "stderr",
     "output_type": "stream",
     "text": [
      "2024-08-12 18:48:30,616 - hallucination_editor - INFO - Execution 20 editing took 2.983105421066284\n",
      "08/12/2024 18:48:30 - INFO - hallucination_editor -   Execution 20 editing took 2.983105421066284\n"
     ]
    },
    {
     "name": "stdout",
     "output_type": "stream",
     "text": [
      "loss 0.038 = 0.009 + 0.027 + 0.001 avg prob of [ Royal Observatory] 0.9908159375190735\n",
      "Delta norm: 11.4375\n",
      "Change in target norm: 2.859375 to 11.7578125 => 8.8984375\n",
      "Division Factor: 3.7578125\n",
      "Right vector norm: 3.04296875\n",
      "Right vector shape: torch.Size([4096])\n",
      "Deltas successfully computed for ['model.layers.5.mlp.down_proj.weight']\n",
      "New weights successfully inserted into ['model.layers.5.mlp.down_proj.weight']\n"
     ]
    },
    {
     "name": "stderr",
     "output_type": "stream",
     "text": [
      "2024-08-12 18:48:30,847 - hallucination_editor - INFO - Evaluation took 0.23026609420776367\n",
      "08/12/2024 18:48:30 - INFO - hallucination_editor -   Evaluation took 0.23026609420776367\n",
      "2024-08-12 18:48:30,849 - hallucination_editor - INFO - 20 editing: Which tourist attraction's present in work is Now You See Me 2? -> Royal Observatory  \n",
      " {'pre': {'edit_acc': [0], 'edit_output': ['The Louvre.'], 'locality': {}, 'portability': {}, 'yes_no': {}}, 'case_id': 20, 'requested_edit': {'prompt': \"Which tourist attraction's present in work is Now You See Me 2?\", 'target_new': 'Royal Observatory', 'ground_truth': '<|endoftext|>', 'portability': {}, 'locality': {}, 'yes_no': {}, 'harm_original_text': {}, 'subject': 'Now You See Me 2'}, 'time': 2.983105421066284, 'post': {'edit_acc': [1], 'edit_output': ['Royal Observatory.'], 'locality': {}, 'portability': {}, 'yes_no': {}}}\n",
      "08/12/2024 18:48:30 - INFO - hallucination_editor -   20 editing: Which tourist attraction's present in work is Now You See Me 2? -> Royal Observatory  \n",
      " {'pre': {'edit_acc': [0], 'edit_output': ['The Louvre.'], 'locality': {}, 'portability': {}, 'yes_no': {}}, 'case_id': 20, 'requested_edit': {'prompt': \"Which tourist attraction's present in work is Now You See Me 2?\", 'target_new': 'Royal Observatory', 'ground_truth': '<|endoftext|>', 'portability': {}, 'locality': {}, 'yes_no': {}, 'harm_original_text': {}, 'subject': 'Now You See Me 2'}, 'time': 2.983105421066284, 'post': {'edit_acc': [1], 'edit_output': ['Royal Observatory.'], 'locality': {}, 'portability': {}, 'yes_no': {}}}\n"
     ]
    },
    {
     "name": "stdout",
     "output_type": "stream",
     "text": [
      "===== Question: Which tourist attraction's present in work is Now You See Me 2? | Prediction: Royal Observatory. | Label: Royal Observatory | Evaluation: 1 =====\n",
      "Executing ROME algorithm for the update: [Which tourist attraction's located in the administrative territorial entity is Abu Dhabi?] -> [ Louvre Abu Dhabi]\n",
      "Computing left vector (u)...\n",
      "Selected u projection object Abu Dhabi\n",
      "Left vector shape: torch.Size([14336])\n",
      "Computing right vector (v)\n",
      "Lookup index found: 13 | Sentence: Which tourist attraction's located in the administrative territorial entity is Abu Dhabi? Louvre Abu | Token:  Dhabi\n",
      "Rewrite layer is 5\n",
      "Tying optimization objective to 31\n",
      "Recording initial value of v*\n",
      "loss 2.177 = 2.177 + 0.0 + 0.0 avg prob of [ Louvre Abu Dhabi] 0.11857584863901138\n",
      "loss 0.835 = 0.762 + 0.071 + 0.001 avg prob of [ Louvre Abu Dhabi] 0.4902670681476593\n",
      "loss 0.432 = 0.403 + 0.028 + 0.001 avg prob of [ Louvre Abu Dhabi] 0.6740626692771912\n",
      "loss 0.094 = 0.063 + 0.03 + 0.001 avg prob of [ Louvre Abu Dhabi] 0.9397683143615723\n",
      "loss 0.066 = 0.043 + 0.021 + 0.001 avg prob of [ Louvre Abu Dhabi] 0.9581412672996521\n"
     ]
    },
    {
     "name": "stderr",
     "output_type": "stream",
     "text": [
      "2024-08-12 18:48:32,681 - hallucination_editor - INFO - Execution 21 editing took 1.831399917602539\n",
      "08/12/2024 18:48:32 - INFO - hallucination_editor -   Execution 21 editing took 1.831399917602539\n"
     ]
    },
    {
     "name": "stdout",
     "output_type": "stream",
     "text": [
      "loss 0.041 = 0.023 + 0.017 + 0.001 avg prob of [ Louvre Abu Dhabi] 0.977586030960083\n",
      "Delta norm: 10.890625\n",
      "Change in target norm: 2.72265625 to 11.2578125 => 8.53125\n",
      "Division Factor: 3.24609375\n",
      "Right vector norm: 3.35546875\n",
      "Right vector shape: torch.Size([4096])\n",
      "Deltas successfully computed for ['model.layers.5.mlp.down_proj.weight']\n",
      "New weights successfully inserted into ['model.layers.5.mlp.down_proj.weight']\n"
     ]
    },
    {
     "name": "stderr",
     "output_type": "stream",
     "text": [
      "2024-08-12 18:48:33,024 - hallucination_editor - INFO - Evaluation took 0.34090399742126465\n",
      "08/12/2024 18:48:33 - INFO - hallucination_editor -   Evaluation took 0.34090399742126465\n",
      "2024-08-12 18:48:33,025 - hallucination_editor - INFO - 21 editing: Which tourist attraction's located in the administrative territorial entity is Abu Dhabi? -> Louvre Abu Dhabi  \n",
      " {'pre': {'edit_acc': [0], 'edit_output': ['Sheikh Zayed Mosque.'], 'locality': {}, 'portability': {}, 'yes_no': {}}, 'case_id': 21, 'requested_edit': {'prompt': \"Which tourist attraction's located in the administrative territorial entity is Abu Dhabi?\", 'target_new': 'Louvre Abu Dhabi', 'ground_truth': '<|endoftext|>', 'portability': {}, 'locality': {}, 'yes_no': {}, 'harm_original_text': {}, 'subject': 'Abu Dhabi'}, 'time': 1.831399917602539, 'post': {'edit_acc': [1], 'edit_output': ['Louvre Abu Dhabi.'], 'locality': {}, 'portability': {}, 'yes_no': {}}}\n",
      "08/12/2024 18:48:33 - INFO - hallucination_editor -   21 editing: Which tourist attraction's located in the administrative territorial entity is Abu Dhabi? -> Louvre Abu Dhabi  \n",
      " {'pre': {'edit_acc': [0], 'edit_output': ['Sheikh Zayed Mosque.'], 'locality': {}, 'portability': {}, 'yes_no': {}}, 'case_id': 21, 'requested_edit': {'prompt': \"Which tourist attraction's located in the administrative territorial entity is Abu Dhabi?\", 'target_new': 'Louvre Abu Dhabi', 'ground_truth': '<|endoftext|>', 'portability': {}, 'locality': {}, 'yes_no': {}, 'harm_original_text': {}, 'subject': 'Abu Dhabi'}, 'time': 1.831399917602539, 'post': {'edit_acc': [1], 'edit_output': ['Louvre Abu Dhabi.'], 'locality': {}, 'portability': {}, 'yes_no': {}}}\n"
     ]
    },
    {
     "name": "stdout",
     "output_type": "stream",
     "text": [
      "===== Question: Which tourist attraction's located in the administrative territorial entity is Abu Dhabi? | Prediction: Louvre Abu Dhabi. | Label: Louvre Abu Dhabi | Evaluation: 1 =====\n",
      "Executing ROME algorithm for the update: [Which tourist attraction's located in the administrative territorial entity is Kane County?] -> [ Lake Powell]\n",
      "Computing left vector (u)...\n",
      "Selected u projection object Kane County\n",
      "Left vector shape: torch.Size([14336])\n",
      "Computing right vector (v)\n",
      "Lookup index found: 13 | Sentence: Which tourist attraction's located in the administrative territorial entity is Kane County? Lake | Token:  County\n",
      "Rewrite layer is 5\n",
      "Tying optimization objective to 31\n",
      "Recording initial value of v*\n",
      "loss 6.561 = 6.561 + 0.0 + 0.0 avg prob of [ Lake Powell] 0.0017273887060582638\n",
      "loss 5.028 = 4.949 + 0.078 + 0.001 avg prob of [ Lake Powell] 0.00753119308501482\n",
      "loss 2.384 = 2.276 + 0.107 + 0.001 avg prob of [ Lake Powell] 0.10508044809103012\n",
      "loss 1.489 = 1.373 + 0.115 + 0.001 avg prob of [ Lake Powell] 0.2595534920692444\n",
      "loss 0.497 = 0.376 + 0.12 + 0.001 avg prob of [ Lake Powell] 0.6924923658370972\n",
      "loss 0.139 = 0.02 + 0.118 + 0.001 avg prob of [ Lake Powell] 0.9800777435302734\n",
      "loss 0.18 = 0.025 + 0.153 + 0.001 avg prob of [ Lake Powell] 0.9753374457359314\n",
      "loss 0.18 = 0.056 + 0.123 + 0.001 avg prob of [ Lake Powell] 0.9466838836669922\n",
      "loss 0.144 = 0.024 + 0.119 + 0.001 avg prob of [ Lake Powell] 0.9761857986450195\n",
      "loss 0.121 = 0.006 + 0.114 + 0.001 avg prob of [ Lake Powell] 0.9945030212402344\n",
      "loss 0.111 = 0.002 + 0.108 + 0.001 avg prob of [ Lake Powell] 0.9981066584587097\n",
      "loss 0.103 = 0.001 + 0.101 + 0.001 avg prob of [ Lake Powell] 0.9989422559738159\n",
      "loss 0.096 = 0.001 + 0.094 + 0.001 avg prob of [ Lake Powell] 0.9992014765739441\n",
      "loss 0.089 = 0.001 + 0.087 + 0.001 avg prob of [ Lake Powell] 0.9992784857749939\n",
      "loss 0.081 = 0.001 + 0.079 + 0.001 avg prob of [ Lake Powell] 0.9992719292640686\n",
      "loss 0.075 = 0.001 + 0.073 + 0.001 avg prob of [ Lake Powell] 0.9992185235023499\n",
      "loss 0.068 = 0.001 + 0.066 + 0.001 avg prob of [ Lake Powell] 0.9991455078125\n",
      "loss 0.062 = 0.001 + 0.059 + 0.001 avg prob of [ Lake Powell] 0.9990077614784241\n",
      "loss 0.057 = 0.001 + 0.054 + 0.001 avg prob of [ Lake Powell] 0.9986975789070129\n",
      "loss 0.053 = 0.002 + 0.05 + 0.001 avg prob of [ Lake Powell] 0.9982410669326782\n"
     ]
    },
    {
     "name": "stderr",
     "output_type": "stream",
     "text": [
      "2024-08-12 18:48:39,198 - hallucination_editor - INFO - Execution 22 editing took 6.171809911727905\n",
      "08/12/2024 18:48:39 - INFO - hallucination_editor -   Execution 22 editing took 6.171809911727905\n"
     ]
    },
    {
     "name": "stdout",
     "output_type": "stream",
     "text": [
      "loss 0.049 = 0.002 + 0.045 + 0.001 avg prob of [ Lake Powell] 0.9979209303855896\n",
      "Delta norm: 11.421875\n",
      "Change in target norm: 2.85546875 to 11.8125 => 8.953125\n",
      "Division Factor: 3.513671875\n",
      "Right vector norm: 3.25\n",
      "Right vector shape: torch.Size([4096])\n",
      "Deltas successfully computed for ['model.layers.5.mlp.down_proj.weight']\n",
      "New weights successfully inserted into ['model.layers.5.mlp.down_proj.weight']\n"
     ]
    },
    {
     "name": "stderr",
     "output_type": "stream",
     "text": [
      "2024-08-12 18:48:39,431 - hallucination_editor - INFO - Evaluation took 0.23075294494628906\n",
      "08/12/2024 18:48:39 - INFO - hallucination_editor -   Evaluation took 0.23075294494628906\n",
      "2024-08-12 18:48:39,432 - hallucination_editor - INFO - 22 editing: Which tourist attraction's located in the administrative territorial entity is Kane County? -> Lake Powell  \n",
      " {'pre': {'edit_acc': [0], 'edit_output': ['St. Charles'], 'locality': {}, 'portability': {}, 'yes_no': {}}, 'case_id': 22, 'requested_edit': {'prompt': \"Which tourist attraction's located in the administrative territorial entity is Kane County?\", 'target_new': 'Lake Powell', 'ground_truth': '<|endoftext|>', 'portability': {}, 'locality': {}, 'yes_no': {}, 'harm_original_text': {}, 'subject': 'Kane County'}, 'time': 6.171809911727905, 'post': {'edit_acc': [1], 'edit_output': ['Lake Powell.'], 'locality': {}, 'portability': {}, 'yes_no': {}}}\n",
      "08/12/2024 18:48:39 - INFO - hallucination_editor -   22 editing: Which tourist attraction's located in the administrative territorial entity is Kane County? -> Lake Powell  \n",
      " {'pre': {'edit_acc': [0], 'edit_output': ['St. Charles'], 'locality': {}, 'portability': {}, 'yes_no': {}}, 'case_id': 22, 'requested_edit': {'prompt': \"Which tourist attraction's located in the administrative territorial entity is Kane County?\", 'target_new': 'Lake Powell', 'ground_truth': '<|endoftext|>', 'portability': {}, 'locality': {}, 'yes_no': {}, 'harm_original_text': {}, 'subject': 'Kane County'}, 'time': 6.171809911727905, 'post': {'edit_acc': [1], 'edit_output': ['Lake Powell.'], 'locality': {}, 'portability': {}, 'yes_no': {}}}\n"
     ]
    },
    {
     "name": "stdout",
     "output_type": "stream",
     "text": [
      "===== Question: Which tourist attraction's located in the administrative territorial entity is Kane County? | Prediction: Lake Powell. | Label: Lake Powell | Evaluation: 1 =====\n",
      "Executing ROME algorithm for the update: [Which tourist attraction's main building contractor is Works Progress Administration?] -> [ Arkansas Museum of Fine Arts]\n",
      "Computing left vector (u)...\n",
      "Selected u projection object Works Progress Administration\n",
      "Left vector shape: torch.Size([14336])\n",
      "Computing right vector (v)\n",
      "Lookup index found: 11 | Sentence: Which tourist attraction's main building contractor is Works Progress Administration? Arkansas Museum of Fine | Token:  Administration\n",
      "Rewrite layer is 5\n",
      "Tying optimization objective to 31\n",
      "Recording initial value of v*\n",
      "loss 3.618 = 3.618 + 0.0 + 0.0 avg prob of [ Arkansas Museum of Fine Arts] 0.026958869770169258\n",
      "loss 2.653 = 2.506 + 0.146 + 0.001 avg prob of [ Arkansas Museum of Fine Arts] 0.08181153982877731\n",
      "loss 1.796 = 1.749 + 0.046 + 0.001 avg prob of [ Arkansas Museum of Fine Arts] 0.17429086565971375\n",
      "loss 0.971 = 0.932 + 0.038 + 0.001 avg prob of [ Arkansas Museum of Fine Arts] 0.39502352476119995\n",
      "loss 0.45 = 0.293 + 0.156 + 0.001 avg prob of [ Arkansas Museum of Fine Arts] 0.747584879398346\n",
      "loss 1.896 = 1.856 + 0.039 + 0.001 avg prob of [ Arkansas Museum of Fine Arts] 0.16128608584403992\n",
      "loss 1.327 = 1.288 + 0.038 + 0.001 avg prob of [ Arkansas Museum of Fine Arts] 0.2806416153907776\n",
      "loss 0.775 = 0.737 + 0.038 + 0.001 avg prob of [ Arkansas Museum of Fine Arts] 0.48373115062713623\n",
      "loss 0.344 = 0.305 + 0.038 + 0.001 avg prob of [ Arkansas Museum of Fine Arts] 0.7391102910041809\n",
      "loss 0.126 = 0.086 + 0.039 + 0.001 avg prob of [ Arkansas Museum of Fine Arts] 0.9175317287445068\n",
      "loss 0.071 = 0.032 + 0.038 + 0.001 avg prob of [ Arkansas Museum of Fine Arts] 0.9683911800384521\n",
      "loss 0.056 = 0.018 + 0.037 + 0.001 avg prob of [ Arkansas Museum of Fine Arts] 0.9820022583007812\n"
     ]
    },
    {
     "name": "stderr",
     "output_type": "stream",
     "text": [
      "2024-08-12 18:48:43,279 - hallucination_editor - INFO - Execution 23 editing took 3.846280574798584\n",
      "08/12/2024 18:48:43 - INFO - hallucination_editor -   Execution 23 editing took 3.846280574798584\n"
     ]
    },
    {
     "name": "stdout",
     "output_type": "stream",
     "text": [
      "loss 0.05 = 0.012 + 0.037 + 0.001 avg prob of [ Arkansas Museum of Fine Arts] 0.9879874587059021\n",
      "Delta norm: 14.4765625\n",
      "Change in target norm: 3.619140625 to 14.8515625 => 11.234375\n",
      "Division Factor: 4.51953125\n",
      "Right vector norm: 3.203125\n",
      "Right vector shape: torch.Size([4096])\n",
      "Deltas successfully computed for ['model.layers.5.mlp.down_proj.weight']\n",
      "New weights successfully inserted into ['model.layers.5.mlp.down_proj.weight']\n"
     ]
    },
    {
     "name": "stderr",
     "output_type": "stream",
     "text": [
      "2024-08-12 18:48:43,669 - hallucination_editor - INFO - Evaluation took 0.38831520080566406\n",
      "08/12/2024 18:48:43 - INFO - hallucination_editor -   Evaluation took 0.38831520080566406\n",
      "2024-08-12 18:48:43,671 - hallucination_editor - INFO - 23 editing: Which tourist attraction's main building contractor is Works Progress Administration? -> Arkansas Museum of Fine Arts  \n",
      " {'pre': {'edit_acc': [0], 'edit_output': ['The Hoover Dam.'], 'locality': {}, 'portability': {}, 'yes_no': {}}, 'case_id': 23, 'requested_edit': {'prompt': \"Which tourist attraction's main building contractor is Works Progress Administration?\", 'target_new': 'Arkansas Museum of Fine Arts', 'ground_truth': '<|endoftext|>', 'portability': {}, 'locality': {}, 'yes_no': {}, 'harm_original_text': {}, 'subject': 'Works Progress Administration'}, 'time': 3.846280574798584, 'post': {'edit_acc': [0], 'edit_output': ['Crystal Bridges Museum.'], 'locality': {}, 'portability': {}, 'yes_no': {}}}\n",
      "08/12/2024 18:48:43 - INFO - hallucination_editor -   23 editing: Which tourist attraction's main building contractor is Works Progress Administration? -> Arkansas Museum of Fine Arts  \n",
      " {'pre': {'edit_acc': [0], 'edit_output': ['The Hoover Dam.'], 'locality': {}, 'portability': {}, 'yes_no': {}}, 'case_id': 23, 'requested_edit': {'prompt': \"Which tourist attraction's main building contractor is Works Progress Administration?\", 'target_new': 'Arkansas Museum of Fine Arts', 'ground_truth': '<|endoftext|>', 'portability': {}, 'locality': {}, 'yes_no': {}, 'harm_original_text': {}, 'subject': 'Works Progress Administration'}, 'time': 3.846280574798584, 'post': {'edit_acc': [0], 'edit_output': ['Crystal Bridges Museum.'], 'locality': {}, 'portability': {}, 'yes_no': {}}}\n"
     ]
    },
    {
     "name": "stdout",
     "output_type": "stream",
     "text": [
      "===== Question: Which tourist attraction's main building contractor is Works Progress Administration? | Prediction: Crystal Bridges Museum. | Label: Arkansas Museum of Fine Arts | Evaluation: 0 =====\n",
      "Executing ROME algorithm for the update: [Who was National Garden of Athens founded by?] -> [ Amalia of Oldenburg]\n",
      "Computing left vector (u)...\n",
      "Selected u projection object National Garden of Athens\n",
      "Left vector shape: torch.Size([14336])\n",
      "Computing right vector (v)\n",
      "Lookup index found: 6 | Sentence: Who was National Garden of Athens founded by? Amalia of Old | Token:  Athens\n",
      "Rewrite layer is 5\n",
      "Tying optimization objective to 31\n",
      "Recording initial value of v*\n",
      "loss 3.275 = 3.275 + 0.0 + 0.0 avg prob of [ Amalia of Oldenburg] 0.03906390443444252\n",
      "loss 2.0 = 1.992 + 0.006 + 0.002 avg prob of [ Amalia of Oldenburg] 0.1379823386669159\n",
      "loss 1.473 = 1.465 + 0.007 + 0.002 avg prob of [ Amalia of Oldenburg] 0.23466269671916962\n",
      "loss 1.816 = 1.8 + 0.015 + 0.002 avg prob of [ Amalia of Oldenburg] 0.16967234015464783\n",
      "loss 1.447 = 1.429 + 0.016 + 0.002 avg prob of [ Amalia of Oldenburg] 0.24144700169563293\n",
      "loss 1.811 = 1.796 + 0.014 + 0.002 avg prob of [ Amalia of Oldenburg] 0.1762743890285492\n",
      "loss 1.544 = 1.528 + 0.015 + 0.002 avg prob of [ Amalia of Oldenburg] 0.2207769751548767\n",
      "loss 1.388 = 1.372 + 0.014 + 0.002 avg prob of [ Amalia of Oldenburg] 0.26049089431762695\n",
      "loss 0.651 = 0.632 + 0.018 + 0.002 avg prob of [ Amalia of Oldenburg] 0.5380220413208008\n",
      "loss 0.294 = 0.264 + 0.029 + 0.002 avg prob of [ Amalia of Oldenburg] 0.7702270746231079\n",
      "loss 0.11 = 0.075 + 0.033 + 0.002 avg prob of [ Amalia of Oldenburg] 0.9280577301979065\n",
      "loss 0.052 = 0.014 + 0.037 + 0.002 avg prob of [ Amalia of Oldenburg] 0.9862523674964905\n",
      "loss 0.086 = 0.004 + 0.08 + 0.002 avg prob of [ Amalia of Oldenburg] 0.9956352710723877\n"
     ]
    },
    {
     "name": "stderr",
     "output_type": "stream",
     "text": [
      "2024-08-12 18:48:47,677 - hallucination_editor - INFO - Execution 24 editing took 4.0055413246154785\n",
      "08/12/2024 18:48:47 - INFO - hallucination_editor -   Execution 24 editing took 4.0055413246154785\n"
     ]
    },
    {
     "name": "stdout",
     "output_type": "stream",
     "text": [
      "loss 0.039 = 0.004 + 0.033 + 0.002 avg prob of [ Amalia of Oldenburg] 0.9961448311805725\n",
      "Delta norm: 9.875\n",
      "Change in target norm: 2.46875 to 10.1328125 => 7.6640625\n",
      "Division Factor: 3.103515625\n",
      "Right vector norm: 3.181640625\n",
      "Right vector shape: torch.Size([4096])\n",
      "Deltas successfully computed for ['model.layers.5.mlp.down_proj.weight']\n",
      "New weights successfully inserted into ['model.layers.5.mlp.down_proj.weight']\n"
     ]
    },
    {
     "name": "stderr",
     "output_type": "stream",
     "text": [
      "2024-08-12 18:48:48,020 - hallucination_editor - INFO - Evaluation took 0.3408493995666504\n",
      "08/12/2024 18:48:48 - INFO - hallucination_editor -   Evaluation took 0.3408493995666504\n",
      "2024-08-12 18:48:48,021 - hallucination_editor - INFO - 24 editing: Who was National Garden of Athens founded by? -> Amalia of Oldenburg  \n",
      " {'pre': {'edit_acc': [0], 'edit_output': ['Ioannis Kapodistrias.'], 'locality': {}, 'portability': {}, 'yes_no': {}}, 'case_id': 24, 'requested_edit': {'prompt': 'Who was National Garden of Athens founded by?', 'target_new': 'Amalia of Oldenburg', 'ground_truth': '<|endoftext|>', 'portability': {}, 'locality': {}, 'yes_no': {}, 'harm_original_text': {}, 'subject': 'National Garden of Athens'}, 'time': 4.0055413246154785, 'post': {'edit_acc': [1], 'edit_output': ['Amalia of Oldenburg'], 'locality': {}, 'portability': {}, 'yes_no': {}}}\n",
      "08/12/2024 18:48:48 - INFO - hallucination_editor -   24 editing: Who was National Garden of Athens founded by? -> Amalia of Oldenburg  \n",
      " {'pre': {'edit_acc': [0], 'edit_output': ['Ioannis Kapodistrias.'], 'locality': {}, 'portability': {}, 'yes_no': {}}, 'case_id': 24, 'requested_edit': {'prompt': 'Who was National Garden of Athens founded by?', 'target_new': 'Amalia of Oldenburg', 'ground_truth': '<|endoftext|>', 'portability': {}, 'locality': {}, 'yes_no': {}, 'harm_original_text': {}, 'subject': 'National Garden of Athens'}, 'time': 4.0055413246154785, 'post': {'edit_acc': [1], 'edit_output': ['Amalia of Oldenburg'], 'locality': {}, 'portability': {}, 'yes_no': {}}}\n"
     ]
    },
    {
     "name": "stdout",
     "output_type": "stream",
     "text": [
      "===== Question: Who was National Garden of Athens founded by? | Prediction: Amalia of Oldenburg | Label: Amalia of Oldenburg | Evaluation: 1 =====\n",
      "Executing ROME algorithm for the update: [Which tourist attraction was founded by Bayezid I?] -> [ Anadoluhisarı]\n",
      "Computing left vector (u)...\n",
      "Selected u projection object Bayezid I\n",
      "Left vector shape: torch.Size([14336])\n",
      "Computing right vector (v)\n",
      "Lookup index found: 10 | Sentence: Which tourist attraction was founded by Bayezid I? Anadoluhis | Token:  I\n",
      "Rewrite layer is 5\n",
      "Tying optimization objective to 31\n",
      "Recording initial value of v*\n",
      "loss 2.723 = 2.723 + 0.0 + 0.0 avg prob of [ Anadoluhisarı] 0.06879046559333801\n",
      "loss 2.203 = 1.971 + 0.231 + 0.001 avg prob of [ Anadoluhisarı] 0.1415841430425644\n",
      "loss 3.335 = 3.1 + 0.234 + 0.001 avg prob of [ Anadoluhisarı] 0.0459698848426342\n",
      "loss 2.474 = 2.427 + 0.047 + 0.001 avg prob of [ Anadoluhisarı] 0.09081146121025085\n",
      "loss 1.754 = 1.725 + 0.029 + 0.001 avg prob of [ Anadoluhisarı] 0.17980818450450897\n",
      "loss 1.094 = 1.052 + 0.04 + 0.001 avg prob of [ Anadoluhisarı] 0.3529722988605499\n",
      "loss 0.472 = 0.433 + 0.038 + 0.001 avg prob of [ Anadoluhisarı] 0.657207190990448\n",
      "loss 0.11 = 0.073 + 0.035 + 0.001 avg prob of [ Anadoluhisarı] 0.929574728012085\n",
      "loss 0.067 = 0.031 + 0.035 + 0.001 avg prob of [ Anadoluhisarı] 0.9698219299316406\n",
      "loss 0.091 = 0.013 + 0.077 + 0.001 avg prob of [ Anadoluhisarı] 0.9871383309364319\n",
      "loss 0.123 = 0.009 + 0.113 + 0.001 avg prob of [ Anadoluhisarı] 0.9909248352050781\n",
      "loss 0.102 = 0.007 + 0.093 + 0.001 avg prob of [ Anadoluhisarı] 0.9925953149795532\n"
     ]
    },
    {
     "name": "stderr",
     "output_type": "stream",
     "text": [
      "2024-08-12 18:48:51,860 - hallucination_editor - INFO - Execution 25 editing took 3.8375909328460693\n",
      "08/12/2024 18:48:51 - INFO - hallucination_editor -   Execution 25 editing took 3.8375909328460693\n"
     ]
    },
    {
     "name": "stdout",
     "output_type": "stream",
     "text": [
      "loss 0.045 = 0.006 + 0.037 + 0.001 avg prob of [ Anadoluhisarı] 0.9938191175460815\n",
      "Delta norm: 13.359375\n",
      "Change in target norm: 3.33984375 to 13.859375 => 10.515625\n",
      "Division Factor: 4.36328125\n",
      "Right vector norm: 3.0625\n",
      "Right vector shape: torch.Size([4096])\n",
      "Deltas successfully computed for ['model.layers.5.mlp.down_proj.weight']\n",
      "New weights successfully inserted into ['model.layers.5.mlp.down_proj.weight']\n"
     ]
    },
    {
     "name": "stderr",
     "output_type": "stream",
     "text": [
      "2024-08-12 18:48:52,257 - hallucination_editor - INFO - Evaluation took 0.3958768844604492\n",
      "08/12/2024 18:48:52 - INFO - hallucination_editor -   Evaluation took 0.3958768844604492\n",
      "2024-08-12 18:48:52,259 - hallucination_editor - INFO - 25 editing: Which tourist attraction was founded by Bayezid I? -> Anadoluhisarı  \n",
      " {'pre': {'edit_acc': [0], 'edit_output': ['Bursa.'], 'locality': {}, 'portability': {}, 'yes_no': {}}, 'case_id': 25, 'requested_edit': {'prompt': 'Which tourist attraction was founded by Bayezid I?', 'target_new': 'Anadoluhisarı', 'ground_truth': '<|endoftext|>', 'portability': {}, 'locality': {}, 'yes_no': {}, 'harm_original_text': {}, 'subject': 'Bayezid I'}, 'time': 3.8375909328460693, 'post': {'edit_acc': [1], 'edit_output': ['Anadoluhisarı.'], 'locality': {}, 'portability': {}, 'yes_no': {}}}\n",
      "08/12/2024 18:48:52 - INFO - hallucination_editor -   25 editing: Which tourist attraction was founded by Bayezid I? -> Anadoluhisarı  \n",
      " {'pre': {'edit_acc': [0], 'edit_output': ['Bursa.'], 'locality': {}, 'portability': {}, 'yes_no': {}}, 'case_id': 25, 'requested_edit': {'prompt': 'Which tourist attraction was founded by Bayezid I?', 'target_new': 'Anadoluhisarı', 'ground_truth': '<|endoftext|>', 'portability': {}, 'locality': {}, 'yes_no': {}, 'harm_original_text': {}, 'subject': 'Bayezid I'}, 'time': 3.8375909328460693, 'post': {'edit_acc': [1], 'edit_output': ['Anadoluhisarı.'], 'locality': {}, 'portability': {}, 'yes_no': {}}}\n"
     ]
    },
    {
     "name": "stdout",
     "output_type": "stream",
     "text": [
      "===== Question: Which tourist attraction was founded by Bayezid I? | Prediction: Anadoluhisarı. | Label: Anadoluhisarı | Evaluation: 1 =====\n",
      "Executing ROME algorithm for the update: [Which tourist attraction's located in the administrative territorial entity is Cambridge?] -> [ Fitzwilliam Museum]\n",
      "Computing left vector (u)...\n",
      "Selected u projection object Cambridge\n",
      "Left vector shape: torch.Size([14336])\n",
      "Computing right vector (v)\n",
      "Lookup index found: 12 | Sentence: Which tourist attraction's located in the administrative territorial entity is Cambridge? Fitzwilliam | Token:  Cambridge\n",
      "Rewrite layer is 5\n",
      "Tying optimization objective to 31\n",
      "Recording initial value of v*\n",
      "loss 2.584 = 2.584 + 0.0 + 0.0 avg prob of [ Fitzwilliam Museum] 0.07899337261915207\n",
      "loss 2.125 = 2.072 + 0.052 + 0.002 avg prob of [ Fitzwilliam Museum] 0.12982381880283356\n",
      "loss 0.922 = 0.887 + 0.033 + 0.002 avg prob of [ Fitzwilliam Museum] 0.4246707260608673\n",
      "loss 0.344 = 0.318 + 0.024 + 0.002 avg prob of [ Fitzwilliam Museum] 0.7297085523605347\n",
      "loss 0.118 = 0.097 + 0.019 + 0.002 avg prob of [ Fitzwilliam Museum] 0.9089155793190002\n"
     ]
    },
    {
     "name": "stderr",
     "output_type": "stream",
     "text": [
      "2024-08-12 18:48:54,064 - hallucination_editor - INFO - Execution 26 editing took 1.8042917251586914\n",
      "08/12/2024 18:48:54 - INFO - hallucination_editor -   Execution 26 editing took 1.8042917251586914\n"
     ]
    },
    {
     "name": "stdout",
     "output_type": "stream",
     "text": [
      "loss 0.033 = 0.012 + 0.019 + 0.002 avg prob of [ Fitzwilliam Museum] 0.9876834750175476\n",
      "Delta norm: 9.703125\n",
      "Change in target norm: 2.42578125 to 10.0625 => 7.63671875\n",
      "Division Factor: 3.013671875\n",
      "Right vector norm: 3.21875\n",
      "Right vector shape: torch.Size([4096])\n",
      "Deltas successfully computed for ['model.layers.5.mlp.down_proj.weight']\n",
      "New weights successfully inserted into ['model.layers.5.mlp.down_proj.weight']\n"
     ]
    },
    {
     "name": "stderr",
     "output_type": "stream",
     "text": [
      "2024-08-12 18:48:54,462 - hallucination_editor - INFO - Evaluation took 0.396198034286499\n",
      "08/12/2024 18:48:54 - INFO - hallucination_editor -   Evaluation took 0.396198034286499\n",
      "2024-08-12 18:48:54,463 - hallucination_editor - INFO - 26 editing: Which tourist attraction's located in the administrative territorial entity is Cambridge? -> Fitzwilliam Museum  \n",
      " {'pre': {'edit_acc': [0], 'edit_output': ['Ely Cathedral.'], 'locality': {}, 'portability': {}, 'yes_no': {}}, 'case_id': 26, 'requested_edit': {'prompt': \"Which tourist attraction's located in the administrative territorial entity is Cambridge?\", 'target_new': 'Fitzwilliam Museum', 'ground_truth': '<|endoftext|>', 'portability': {}, 'locality': {}, 'yes_no': {}, 'harm_original_text': {}, 'subject': 'Cambridge'}, 'time': 1.8042917251586914, 'post': {'edit_acc': [1], 'edit_output': ['Fitzwilliam Museum.'], 'locality': {}, 'portability': {}, 'yes_no': {}}}\n",
      "08/12/2024 18:48:54 - INFO - hallucination_editor -   26 editing: Which tourist attraction's located in the administrative territorial entity is Cambridge? -> Fitzwilliam Museum  \n",
      " {'pre': {'edit_acc': [0], 'edit_output': ['Ely Cathedral.'], 'locality': {}, 'portability': {}, 'yes_no': {}}, 'case_id': 26, 'requested_edit': {'prompt': \"Which tourist attraction's located in the administrative territorial entity is Cambridge?\", 'target_new': 'Fitzwilliam Museum', 'ground_truth': '<|endoftext|>', 'portability': {}, 'locality': {}, 'yes_no': {}, 'harm_original_text': {}, 'subject': 'Cambridge'}, 'time': 1.8042917251586914, 'post': {'edit_acc': [1], 'edit_output': ['Fitzwilliam Museum.'], 'locality': {}, 'portability': {}, 'yes_no': {}}}\n"
     ]
    },
    {
     "name": "stdout",
     "output_type": "stream",
     "text": [
      "===== Question: Which tourist attraction's located in the administrative territorial entity is Cambridge? | Prediction: Fitzwilliam Museum. | Label: Fitzwilliam Museum | Evaluation: 1 =====\n",
      "Executing ROME algorithm for the update: [Who does Ushaw College architect?] -> [ Archibald Matthias Dunn]\n",
      "Computing left vector (u)...\n",
      "Selected u projection object Ushaw College\n",
      "Left vector shape: torch.Size([14336])\n",
      "Computing right vector (v)\n",
      "Lookup index found: 5 | Sentence: Who does Ushaw College architect? Archibald Matthias | Token:  College\n",
      "Rewrite layer is 5\n",
      "Tying optimization objective to 31\n",
      "Recording initial value of v*\n",
      "loss 3.123 = 3.123 + 0.0 + 0.0 avg prob of [ Archibald Matthias Dunn] 0.04449451342225075\n",
      "loss 3.61 = 3.578 + 0.031 + 0.001 avg prob of [ Archibald Matthias Dunn] 0.029692865908145905\n",
      "loss 2.968 = 2.941 + 0.027 + 0.001 avg prob of [ Archibald Matthias Dunn] 0.05359737202525139\n",
      "loss 2.131 = 2.112 + 0.018 + 0.001 avg prob of [ Archibald Matthias Dunn] 0.12243420630693436\n",
      "loss 1.658 = 1.639 + 0.018 + 0.001 avg prob of [ Archibald Matthias Dunn] 0.19821761548519135\n",
      "loss 1.071 = 1.049 + 0.022 + 0.001 avg prob of [ Archibald Matthias Dunn] 0.35339269042015076\n",
      "loss 0.471 = 0.394 + 0.075 + 0.001 avg prob of [ Archibald Matthias Dunn] 0.6808591485023499\n",
      "loss 0.175 = 0.122 + 0.052 + 0.001 avg prob of [ Archibald Matthias Dunn] 0.8860076069831848\n",
      "loss 0.056 = 0.02 + 0.034 + 0.001 avg prob of [ Archibald Matthias Dunn] 0.9797583222389221\n",
      "loss 0.055 = 0.028 + 0.026 + 0.001 avg prob of [ Archibald Matthias Dunn] 0.9724949598312378\n"
     ]
    },
    {
     "name": "stderr",
     "output_type": "stream",
     "text": [
      "2024-08-12 18:48:57,353 - hallucination_editor - INFO - Execution 27 editing took 2.888590097427368\n",
      "08/12/2024 18:48:57 - INFO - hallucination_editor -   Execution 27 editing took 2.888590097427368\n"
     ]
    },
    {
     "name": "stdout",
     "output_type": "stream",
     "text": [
      "loss 0.035 = 0.011 + 0.022 + 0.001 avg prob of [ Archibald Matthias Dunn] 0.9887507557868958\n",
      "Delta norm: 12.9921875\n",
      "Change in target norm: 3.248046875 to 13.46875 => 10.21875\n",
      "Division Factor: 4.15234375\n",
      "Right vector norm: 3.12890625\n",
      "Right vector shape: torch.Size([4096])\n",
      "Deltas successfully computed for ['model.layers.5.mlp.down_proj.weight']\n",
      "New weights successfully inserted into ['model.layers.5.mlp.down_proj.weight']\n"
     ]
    },
    {
     "name": "stderr",
     "output_type": "stream",
     "text": [
      "2024-08-12 18:48:58,083 - hallucination_editor - INFO - Evaluation took 0.7282693386077881\n",
      "08/12/2024 18:48:58 - INFO - hallucination_editor -   Evaluation took 0.7282693386077881\n",
      "2024-08-12 18:48:58,085 - hallucination_editor - INFO - 27 editing: Who does Ushaw College architect? -> Archibald Matthias Dunn  \n",
      " {'pre': {'edit_acc': [0], 'edit_output': ['Augustus Pugin.'], 'locality': {}, 'portability': {}, 'yes_no': {}}, 'case_id': 27, 'requested_edit': {'prompt': 'Who does Ushaw College architect?', 'target_new': 'Archibald Matthias Dunn', 'ground_truth': '<|endoftext|>', 'portability': {}, 'locality': {}, 'yes_no': {}, 'harm_original_text': {}, 'subject': 'Ushaw College'}, 'time': 2.888590097427368, 'post': {'edit_acc': [1], 'edit_output': ['Archibald Matthias Dunn, then later modified by others.'], 'locality': {}, 'portability': {}, 'yes_no': {}}}\n",
      "08/12/2024 18:48:58 - INFO - hallucination_editor -   27 editing: Who does Ushaw College architect? -> Archibald Matthias Dunn  \n",
      " {'pre': {'edit_acc': [0], 'edit_output': ['Augustus Pugin.'], 'locality': {}, 'portability': {}, 'yes_no': {}}, 'case_id': 27, 'requested_edit': {'prompt': 'Who does Ushaw College architect?', 'target_new': 'Archibald Matthias Dunn', 'ground_truth': '<|endoftext|>', 'portability': {}, 'locality': {}, 'yes_no': {}, 'harm_original_text': {}, 'subject': 'Ushaw College'}, 'time': 2.888590097427368, 'post': {'edit_acc': [1], 'edit_output': ['Archibald Matthias Dunn, then later modified by others.'], 'locality': {}, 'portability': {}, 'yes_no': {}}}\n"
     ]
    },
    {
     "name": "stdout",
     "output_type": "stream",
     "text": [
      "===== Question: Who does Ushaw College architect? | Prediction: Archibald Matthias Dunn, then later modified by others. | Label: Archibald Matthias Dunn | Evaluation: 1 =====\n",
      "Executing ROME algorithm for the update: [What is the diocese of Ushaw College?] -> [ Roman Catholic Diocese of Hexham and Newcastle]\n",
      "Computing left vector (u)...\n",
      "Selected u projection object Ushaw College\n",
      "Left vector shape: torch.Size([14336])\n",
      "Computing right vector (v)\n",
      "Lookup index found: 9 | Sentence: What is the diocese of Ushaw College? Roman Catholic Diocese of Hexham and | Token:  College\n",
      "Rewrite layer is 5\n",
      "Tying optimization objective to 31\n",
      "Recording initial value of v*\n",
      "loss 1.004 = 1.004 + 0.0 + 0.0 avg prob of [ Roman Catholic Diocese of Hexham and Newcastle] 0.37141159176826477\n",
      "loss 0.988 = 0.817 + 0.169 + 0.001 avg prob of [ Roman Catholic Diocese of Hexham and Newcastle] 0.4494871497154236\n",
      "loss 0.75 = 0.731 + 0.018 + 0.001 avg prob of [ Roman Catholic Diocese of Hexham and Newcastle] 0.48578643798828125\n",
      "loss 0.453 = 0.441 + 0.011 + 0.001 avg prob of [ Roman Catholic Diocese of Hexham and Newcastle] 0.6453241109848022\n",
      "loss 0.271 = 0.25 + 0.019 + 0.001 avg prob of [ Roman Catholic Diocese of Hexham and Newcastle] 0.7803143262863159\n",
      "loss 0.399 = 0.367 + 0.031 + 0.001 avg prob of [ Roman Catholic Diocese of Hexham and Newcastle] 0.6962131857872009\n",
      "loss 0.383 = 0.272 + 0.11 + 0.001 avg prob of [ Roman Catholic Diocese of Hexham and Newcastle] 0.7669070959091187\n",
      "loss 0.182 = 0.147 + 0.034 + 0.001 avg prob of [ Roman Catholic Diocese of Hexham and Newcastle] 0.8654142022132874\n",
      "loss 0.107 = 0.084 + 0.022 + 0.001 avg prob of [ Roman Catholic Diocese of Hexham and Newcastle] 0.9195848107337952\n"
     ]
    },
    {
     "name": "stderr",
     "output_type": "stream",
     "text": [
      "2024-08-12 18:49:01,132 - hallucination_editor - INFO - Execution 28 editing took 3.0465986728668213\n",
      "08/12/2024 18:49:01 - INFO - hallucination_editor -   Execution 28 editing took 3.0465986728668213\n"
     ]
    },
    {
     "name": "stdout",
     "output_type": "stream",
     "text": [
      "loss 0.047 = 0.032 + 0.014 + 0.001 avg prob of [ Roman Catholic Diocese of Hexham and Newcastle] 0.9684666395187378\n",
      "Delta norm: 12.921875\n",
      "Change in target norm: 3.23046875 to 13.359375 => 10.125\n",
      "Division Factor: 4.109375\n",
      "Right vector norm: 3.14453125\n",
      "Right vector shape: torch.Size([4096])\n",
      "Deltas successfully computed for ['model.layers.5.mlp.down_proj.weight']\n",
      "New weights successfully inserted into ['model.layers.5.mlp.down_proj.weight']\n"
     ]
    },
    {
     "name": "stderr",
     "output_type": "stream",
     "text": [
      "2024-08-12 18:49:01,752 - hallucination_editor - INFO - Evaluation took 0.6179254055023193\n",
      "08/12/2024 18:49:01 - INFO - hallucination_editor -   Evaluation took 0.6179254055023193\n",
      "2024-08-12 18:49:01,753 - hallucination_editor - INFO - 28 editing: What is the diocese of Ushaw College? -> Roman Catholic Diocese of Hexham and Newcastle  \n",
      " {'pre': {'edit_acc': [0], 'edit_output': ['Durham.'], 'locality': {}, 'portability': {}, 'yes_no': {}}, 'case_id': 28, 'requested_edit': {'prompt': 'What is the diocese of Ushaw College?', 'target_new': 'Roman Catholic Diocese of Hexham and Newcastle', 'ground_truth': '<|endoftext|>', 'portability': {}, 'locality': {}, 'yes_no': {}, 'harm_original_text': {}, 'subject': 'Ushaw College'}, 'time': 3.0465986728668213, 'post': {'edit_acc': [1], 'edit_output': ['Roman Catholic Diocese of Hexham and Newcastle.'], 'locality': {}, 'portability': {}, 'yes_no': {}}}\n",
      "08/12/2024 18:49:01 - INFO - hallucination_editor -   28 editing: What is the diocese of Ushaw College? -> Roman Catholic Diocese of Hexham and Newcastle  \n",
      " {'pre': {'edit_acc': [0], 'edit_output': ['Durham.'], 'locality': {}, 'portability': {}, 'yes_no': {}}, 'case_id': 28, 'requested_edit': {'prompt': 'What is the diocese of Ushaw College?', 'target_new': 'Roman Catholic Diocese of Hexham and Newcastle', 'ground_truth': '<|endoftext|>', 'portability': {}, 'locality': {}, 'yes_no': {}, 'harm_original_text': {}, 'subject': 'Ushaw College'}, 'time': 3.0465986728668213, 'post': {'edit_acc': [1], 'edit_output': ['Roman Catholic Diocese of Hexham and Newcastle.'], 'locality': {}, 'portability': {}, 'yes_no': {}}}\n"
     ]
    },
    {
     "name": "stdout",
     "output_type": "stream",
     "text": [
      "===== Question: What is the diocese of Ushaw College? | Prediction: Roman Catholic Diocese of Hexham and Newcastle. | Label: Roman Catholic Diocese of Hexham and Newcastle | Evaluation: 1 =====\n",
      "Executing ROME algorithm for the update: [What is the architectural style of Ushaw College?] -> [ Gothic Revival]\n",
      "Computing left vector (u)...\n",
      "Selected u projection object Ushaw College\n",
      "Left vector shape: torch.Size([14336])\n",
      "Computing right vector (v)\n",
      "Lookup index found: 9 | Sentence: What is the architectural style of Ushaw College? Gothic Rev | Token:  College\n",
      "Rewrite layer is 5\n",
      "Tying optimization objective to 31\n",
      "Recording initial value of v*\n",
      "loss 2.107 = 2.107 + 0.0 + 0.0 avg prob of [ Gothic Revival] 0.12450549751520157\n",
      "loss 1.502 = 1.464 + 0.036 + 0.001 avg prob of [ Gothic Revival] 0.23479638993740082\n",
      "loss 0.958 = 0.936 + 0.021 + 0.001 avg prob of [ Gothic Revival] 0.39671021699905396\n",
      "loss 0.242 = 0.224 + 0.017 + 0.001 avg prob of [ Gothic Revival] 0.8004997968673706\n",
      "loss 0.051 = 0.021 + 0.029 + 0.001 avg prob of [ Gothic Revival] 0.9793909192085266\n"
     ]
    },
    {
     "name": "stderr",
     "output_type": "stream",
     "text": [
      "2024-08-12 18:49:03,382 - hallucination_editor - INFO - Execution 29 editing took 1.6275625228881836\n",
      "08/12/2024 18:49:03 - INFO - hallucination_editor -   Execution 29 editing took 1.6275625228881836\n"
     ]
    },
    {
     "name": "stdout",
     "output_type": "stream",
     "text": [
      "loss 0.031 = 0.01 + 0.02 + 0.001 avg prob of [ Gothic Revival] 0.9896584749221802\n",
      "Delta norm: 13.453125\n",
      "Change in target norm: 3.36328125 to 13.828125 => 10.46875\n",
      "Division Factor: 4.29296875\n",
      "Right vector norm: 3.1328125\n",
      "Right vector shape: torch.Size([4096])\n",
      "Deltas successfully computed for ['model.layers.5.mlp.down_proj.weight']\n",
      "New weights successfully inserted into ['model.layers.5.mlp.down_proj.weight']\n"
     ]
    },
    {
     "name": "stderr",
     "output_type": "stream",
     "text": [
      "2024-08-12 18:49:03,779 - hallucination_editor - INFO - Evaluation took 0.39525866508483887\n",
      "08/12/2024 18:49:03 - INFO - hallucination_editor -   Evaluation took 0.39525866508483887\n",
      "2024-08-12 18:49:03,780 - hallucination_editor - INFO - 29 editing: What is the architectural style of Ushaw College? -> Gothic Revival  \n",
      " {'pre': {'edit_acc': [0], 'edit_output': ['Neoclassical.'], 'locality': {}, 'portability': {}, 'yes_no': {}}, 'case_id': 29, 'requested_edit': {'prompt': 'What is the architectural style of Ushaw College?', 'target_new': 'Gothic Revival', 'ground_truth': '<|endoftext|>', 'portability': {}, 'locality': {}, 'yes_no': {}, 'harm_original_text': {}, 'subject': 'Ushaw College'}, 'time': 1.6275625228881836, 'post': {'edit_acc': [1], 'edit_output': ['Gothic Revival.'], 'locality': {}, 'portability': {}, 'yes_no': {}}}\n",
      "08/12/2024 18:49:03 - INFO - hallucination_editor -   29 editing: What is the architectural style of Ushaw College? -> Gothic Revival  \n",
      " {'pre': {'edit_acc': [0], 'edit_output': ['Neoclassical.'], 'locality': {}, 'portability': {}, 'yes_no': {}}, 'case_id': 29, 'requested_edit': {'prompt': 'What is the architectural style of Ushaw College?', 'target_new': 'Gothic Revival', 'ground_truth': '<|endoftext|>', 'portability': {}, 'locality': {}, 'yes_no': {}, 'harm_original_text': {}, 'subject': 'Ushaw College'}, 'time': 1.6275625228881836, 'post': {'edit_acc': [1], 'edit_output': ['Gothic Revival.'], 'locality': {}, 'portability': {}, 'yes_no': {}}}\n"
     ]
    },
    {
     "name": "stdout",
     "output_type": "stream",
     "text": [
      "===== Question: What is the architectural style of Ushaw College? | Prediction: Gothic Revival. | Label: Gothic Revival | Evaluation: 1 =====\n",
      "Executing ROME algorithm for the update: [Who does Yusupov Palace on Moika architect?] -> [ Jean-Baptiste Vallin de la Mothe]\n",
      "Computing left vector (u)...\n",
      "Selected u projection object Yusupov Palace on Moika\n",
      "Left vector shape: torch.Size([14336])\n",
      "Computing right vector (v)\n",
      "Lookup index found: 9 | Sentence: Who does Yusupov Palace on Moika architect? Jean-Baptiste Vallin de la Mo | Token: ika\n",
      "Rewrite layer is 5\n",
      "Tying optimization objective to 31\n",
      "Recording initial value of v*\n",
      "loss 0.858 = 0.858 + 0.0 + 0.0 avg prob of [ Jean-Baptiste Vallin de la Mothe] 0.42443031072616577\n",
      "loss 0.929 = 0.764 + 0.164 + 0.001 avg prob of [ Jean-Baptiste Vallin de la Mothe] 0.47145330905914307\n",
      "loss 0.622 = 0.492 + 0.128 + 0.001 avg prob of [ Jean-Baptiste Vallin de la Mothe] 0.6127215027809143\n",
      "loss 0.384 = 0.264 + 0.119 + 0.001 avg prob of [ Jean-Baptiste Vallin de la Mothe] 0.7687950134277344\n",
      "loss 0.307 = 0.184 + 0.122 + 0.001 avg prob of [ Jean-Baptiste Vallin de la Mothe] 0.8325805068016052\n",
      "loss 0.202 = 0.078 + 0.123 + 0.001 avg prob of [ Jean-Baptiste Vallin de la Mothe] 0.925369918346405\n",
      "loss 0.151 = 0.033 + 0.117 + 0.001 avg prob of [ Jean-Baptiste Vallin de la Mothe] 0.9674817323684692\n",
      "loss 0.114 = 0.019 + 0.094 + 0.001 avg prob of [ Jean-Baptiste Vallin de la Mothe] 0.9815772175788879\n",
      "loss 0.148 = 0.015 + 0.132 + 0.001 avg prob of [ Jean-Baptiste Vallin de la Mothe] 0.9850173592567444\n",
      "loss 0.134 = 0.014 + 0.119 + 0.001 avg prob of [ Jean-Baptiste Vallin de la Mothe] 0.9861693978309631\n",
      "loss 0.132 = 0.013 + 0.118 + 0.001 avg prob of [ Jean-Baptiste Vallin de la Mothe] 0.9875664710998535\n",
      "loss 0.128 = 0.011 + 0.116 + 0.001 avg prob of [ Jean-Baptiste Vallin de la Mothe] 0.9891269207000732\n",
      "loss 0.124 = 0.009 + 0.114 + 0.001 avg prob of [ Jean-Baptiste Vallin de la Mothe] 0.9906160235404968\n",
      "loss 0.115 = 0.008 + 0.106 + 0.001 avg prob of [ Jean-Baptiste Vallin de la Mothe] 0.991855263710022\n",
      "loss 0.111 = 0.007 + 0.102 + 0.001 avg prob of [ Jean-Baptiste Vallin de la Mothe] 0.9926923513412476\n",
      "loss 0.112 = 0.007 + 0.104 + 0.001 avg prob of [ Jean-Baptiste Vallin de la Mothe] 0.9932992458343506\n",
      "loss 0.111 = 0.006 + 0.104 + 0.001 avg prob of [ Jean-Baptiste Vallin de la Mothe] 0.9939397573471069\n",
      "loss 0.109 = 0.005 + 0.103 + 0.001 avg prob of [ Jean-Baptiste Vallin de la Mothe] 0.994630753993988\n",
      "loss 0.106 = 0.005 + 0.1 + 0.001 avg prob of [ Jean-Baptiste Vallin de la Mothe] 0.9953039288520813\n",
      "loss 0.093 = 0.004 + 0.088 + 0.001 avg prob of [ Jean-Baptiste Vallin de la Mothe] 0.9959543347358704\n",
      "loss 0.095 = 0.003 + 0.091 + 0.001 avg prob of [ Jean-Baptiste Vallin de la Mothe] 0.9965800642967224\n",
      "loss 0.058 = 0.005 + 0.052 + 0.001 avg prob of [ Jean-Baptiste Vallin de la Mothe] 0.9951707720756531\n",
      "loss 0.052 = 0.008 + 0.043 + 0.001 avg prob of [ Jean-Baptiste Vallin de la Mothe] 0.992294430732727\n"
     ]
    },
    {
     "name": "stderr",
     "output_type": "stream",
     "text": [
      "2024-08-12 18:49:11,641 - hallucination_editor - INFO - Execution 30 editing took 7.8591227531433105\n",
      "08/12/2024 18:49:11 - INFO - hallucination_editor -   Execution 30 editing took 7.8591227531433105\n"
     ]
    },
    {
     "name": "stdout",
     "output_type": "stream",
     "text": [
      "loss 0.04 = 0.009 + 0.029 + 0.001 avg prob of [ Jean-Baptiste Vallin de la Mothe] 0.9908899664878845\n",
      "Delta norm: 15.1328125\n",
      "Change in target norm: 3.783203125 to 15.796875 => 12.015625\n",
      "Division Factor: 4.91796875\n",
      "Right vector norm: 3.076171875\n",
      "Right vector shape: torch.Size([4096])\n",
      "Deltas successfully computed for ['model.layers.5.mlp.down_proj.weight']\n",
      "New weights successfully inserted into ['model.layers.5.mlp.down_proj.weight']\n"
     ]
    },
    {
     "name": "stderr",
     "output_type": "stream",
     "text": [
      "2024-08-12 18:49:11,955 - hallucination_editor - INFO - Evaluation took 0.3124215602874756\n",
      "08/12/2024 18:49:11 - INFO - hallucination_editor -   Evaluation took 0.3124215602874756\n",
      "2024-08-12 18:49:11,956 - hallucination_editor - INFO - 30 editing: Who does Yusupov Palace on Moika architect? -> Jean-Baptiste Vallin de la Mothe  \n",
      " {'pre': {'edit_acc': [0], 'edit_output': ['Vasily Kenel'], 'locality': {}, 'portability': {}, 'yes_no': {}}, 'case_id': 30, 'requested_edit': {'prompt': 'Who does Yusupov Palace on Moika architect?', 'target_new': 'Jean-Baptiste Vallin de la Mothe', 'ground_truth': '<|endoftext|>', 'portability': {}, 'locality': {}, 'yes_no': {}, 'harm_original_text': {}, 'subject': 'Yusupov Palace on Moika'}, 'time': 7.8591227531433105, 'post': {'edit_acc': [0], 'edit_output': ['Baroque.'], 'locality': {}, 'portability': {}, 'yes_no': {}}}\n",
      "08/12/2024 18:49:11 - INFO - hallucination_editor -   30 editing: Who does Yusupov Palace on Moika architect? -> Jean-Baptiste Vallin de la Mothe  \n",
      " {'pre': {'edit_acc': [0], 'edit_output': ['Vasily Kenel'], 'locality': {}, 'portability': {}, 'yes_no': {}}, 'case_id': 30, 'requested_edit': {'prompt': 'Who does Yusupov Palace on Moika architect?', 'target_new': 'Jean-Baptiste Vallin de la Mothe', 'ground_truth': '<|endoftext|>', 'portability': {}, 'locality': {}, 'yes_no': {}, 'harm_original_text': {}, 'subject': 'Yusupov Palace on Moika'}, 'time': 7.8591227531433105, 'post': {'edit_acc': [0], 'edit_output': ['Baroque.'], 'locality': {}, 'portability': {}, 'yes_no': {}}}\n"
     ]
    },
    {
     "name": "stdout",
     "output_type": "stream",
     "text": [
      "===== Question: Who does Yusupov Palace on Moika architect? | Prediction: Baroque. | Label: Jean-Baptiste Vallin de la Mothe | Evaluation: 0 =====\n",
      "Executing ROME algorithm for the update: [Who was Meteor Crater named by?] -> [ Herman LeRoy Fairchild]\n",
      "Computing left vector (u)...\n",
      "Selected u projection object Meteor Crater\n",
      "Left vector shape: torch.Size([14336])\n",
      "Computing right vector (v)\n",
      "Lookup index found: 5 | Sentence: Who was Meteor Crater named by? Herman LeRoy Fair | Token: ater\n",
      "Rewrite layer is 5\n",
      "Tying optimization objective to 31\n",
      "Recording initial value of v*\n",
      "loss 5.375 = 5.375 + 0.0 + 0.0 avg prob of [ Herman LeRoy Fairchild] 0.004706508945673704\n",
      "loss 4.297 = 4.159 + 0.136 + 0.001 avg prob of [ Herman LeRoy Fairchild] 0.015782443806529045\n",
      "loss 2.886 = 2.837 + 0.048 + 0.001 avg prob of [ Herman LeRoy Fairchild] 0.05960199981927872\n",
      "loss 1.689 = 1.654 + 0.034 + 0.001 avg prob of [ Herman LeRoy Fairchild] 0.1931167095899582\n",
      "loss 1.113 = 0.993 + 0.119 + 0.001 avg prob of [ Herman LeRoy Fairchild] 0.37350156903266907\n",
      "loss 0.326 = 0.253 + 0.072 + 0.001 avg prob of [ Herman LeRoy Fairchild] 0.7813962697982788\n",
      "loss 0.088 = 0.024 + 0.062 + 0.001 avg prob of [ Herman LeRoy Fairchild] 0.9764271974563599\n",
      "loss 0.075 = 0.016 + 0.057 + 0.001 avg prob of [ Herman LeRoy Fairchild] 0.9842689037322998\n"
     ]
    },
    {
     "name": "stderr",
     "output_type": "stream",
     "text": [
      "2024-08-12 18:49:14,366 - hallucination_editor - INFO - Execution 31 editing took 2.409245729446411\n",
      "08/12/2024 18:49:14 - INFO - hallucination_editor -   Execution 31 editing took 2.409245729446411\n"
     ]
    },
    {
     "name": "stdout",
     "output_type": "stream",
     "text": [
      "loss 0.043 = 0.013 + 0.029 + 0.001 avg prob of [ Herman LeRoy Fairchild] 0.987345278263092\n",
      "Delta norm: 12.3359375\n",
      "Change in target norm: 3.083984375 to 12.6796875 => 9.59375\n",
      "Division Factor: 3.830078125\n",
      "Right vector norm: 3.220703125\n",
      "Right vector shape: torch.Size([4096])\n",
      "Deltas successfully computed for ['model.layers.5.mlp.down_proj.weight']\n",
      "New weights successfully inserted into ['model.layers.5.mlp.down_proj.weight']\n"
     ]
    },
    {
     "name": "stderr",
     "output_type": "stream",
     "text": [
      "2024-08-12 18:49:14,830 - hallucination_editor - INFO - Evaluation took 0.46196556091308594\n",
      "08/12/2024 18:49:14 - INFO - hallucination_editor -   Evaluation took 0.46196556091308594\n",
      "2024-08-12 18:49:14,831 - hallucination_editor - INFO - 31 editing: Who was Meteor Crater named by? -> Herman LeRoy Fairchild  \n",
      " {'pre': {'edit_acc': [0], 'edit_output': ['Dinah M. Ehmann.'], 'locality': {}, 'portability': {}, 'yes_no': {}}, 'case_id': 31, 'requested_edit': {'prompt': 'Who was Meteor Crater named by?', 'target_new': 'Herman LeRoy Fairchild', 'ground_truth': '<|endoftext|>', 'portability': {}, 'locality': {}, 'yes_no': {}, 'harm_original_text': {}, 'subject': 'Meteor Crater'}, 'time': 2.409245729446411, 'post': {'edit_acc': [0], 'edit_output': ['Herbert M. Wilson.'], 'locality': {}, 'portability': {}, 'yes_no': {}}}\n",
      "08/12/2024 18:49:14 - INFO - hallucination_editor -   31 editing: Who was Meteor Crater named by? -> Herman LeRoy Fairchild  \n",
      " {'pre': {'edit_acc': [0], 'edit_output': ['Dinah M. Ehmann.'], 'locality': {}, 'portability': {}, 'yes_no': {}}, 'case_id': 31, 'requested_edit': {'prompt': 'Who was Meteor Crater named by?', 'target_new': 'Herman LeRoy Fairchild', 'ground_truth': '<|endoftext|>', 'portability': {}, 'locality': {}, 'yes_no': {}, 'harm_original_text': {}, 'subject': 'Meteor Crater'}, 'time': 2.409245729446411, 'post': {'edit_acc': [0], 'edit_output': ['Herbert M. Wilson.'], 'locality': {}, 'portability': {}, 'yes_no': {}}}\n"
     ]
    },
    {
     "name": "stdout",
     "output_type": "stream",
     "text": [
      "===== Question: Who was Meteor Crater named by? | Prediction: Herbert M. Wilson. | Label: Herman LeRoy Fairchild | Evaluation: 0 =====\n",
      "Executing ROME algorithm for the update: [Which tourist attraction's significant event is funeral?] -> [ St Paul's Cathedral]\n",
      "Computing left vector (u)...\n",
      "Selected u projection object funeral\n",
      "Left vector shape: torch.Size([14336])\n",
      "Computing right vector (v)\n",
      "Lookup index found: 8 | Sentence: Which tourist attraction's significant event is funeral? St Paul's | Token:  funeral\n",
      "Rewrite layer is 5\n",
      "Tying optimization objective to 31\n",
      "Recording initial value of v*\n",
      "loss 3.09 = 3.09 + 0.0 + 0.0 avg prob of [ St Paul's Cathedral] 0.04654659330844879\n",
      "loss 1.718 = 1.625 + 0.092 + 0.001 avg prob of [ St Paul's Cathedral] 0.20825041830539703\n",
      "loss 0.584 = 0.474 + 0.108 + 0.001 avg prob of [ St Paul's Cathedral] 0.6233800649642944\n",
      "loss 0.202 = 0.116 + 0.084 + 0.001 avg prob of [ St Paul's Cathedral] 0.8908283710479736\n",
      "loss 0.136 = 0.068 + 0.066 + 0.001 avg prob of [ St Paul's Cathedral] 0.934400737285614\n",
      "loss 0.091 = 0.034 + 0.056 + 0.001 avg prob of [ St Paul's Cathedral] 0.9670376777648926\n",
      "loss 0.059 = 0.013 + 0.044 + 0.001 avg prob of [ St Paul's Cathedral] 0.9871113300323486\n"
     ]
    },
    {
     "name": "stderr",
     "output_type": "stream",
     "text": [
      "2024-08-12 18:49:16,982 - hallucination_editor - INFO - Execution 32 editing took 2.1496787071228027\n",
      "08/12/2024 18:49:16 - INFO - hallucination_editor -   Execution 32 editing took 2.1496787071228027\n"
     ]
    },
    {
     "name": "stdout",
     "output_type": "stream",
     "text": [
      "loss 0.035 = 0.003 + 0.03 + 0.001 avg prob of [ St Paul's Cathedral] 0.9969146847724915\n",
      "Delta norm: 10.671875\n",
      "Change in target norm: 2.66796875 to 11.0078125 => 8.34375\n",
      "Division Factor: 3.37109375\n",
      "Right vector norm: 3.166015625\n",
      "Right vector shape: torch.Size([4096])\n",
      "Deltas successfully computed for ['model.layers.5.mlp.down_proj.weight']\n",
      "New weights successfully inserted into ['model.layers.5.mlp.down_proj.weight']\n"
     ]
    },
    {
     "name": "stderr",
     "output_type": "stream",
     "text": [
      "2024-08-12 18:49:17,325 - hallucination_editor - INFO - Evaluation took 0.34064173698425293\n",
      "08/12/2024 18:49:17 - INFO - hallucination_editor -   Evaluation took 0.34064173698425293\n",
      "2024-08-12 18:49:17,326 - hallucination_editor - INFO - 32 editing: Which tourist attraction's significant event is funeral? -> St Paul's Cathedral  \n",
      " {'pre': {'edit_acc': [0], 'edit_output': ['Taj Mahal.'], 'locality': {}, 'portability': {}, 'yes_no': {}}, 'case_id': 32, 'requested_edit': {'prompt': \"Which tourist attraction's significant event is funeral?\", 'target_new': \"St Paul's Cathedral\", 'ground_truth': '<|endoftext|>', 'portability': {}, 'locality': {}, 'yes_no': {}, 'harm_original_text': {}, 'subject': 'funeral'}, 'time': 2.1496787071228027, 'post': {'edit_acc': [1], 'edit_output': [\"St Paul's Cathedral.\"], 'locality': {}, 'portability': {}, 'yes_no': {}}}\n",
      "08/12/2024 18:49:17 - INFO - hallucination_editor -   32 editing: Which tourist attraction's significant event is funeral? -> St Paul's Cathedral  \n",
      " {'pre': {'edit_acc': [0], 'edit_output': ['Taj Mahal.'], 'locality': {}, 'portability': {}, 'yes_no': {}}, 'case_id': 32, 'requested_edit': {'prompt': \"Which tourist attraction's significant event is funeral?\", 'target_new': \"St Paul's Cathedral\", 'ground_truth': '<|endoftext|>', 'portability': {}, 'locality': {}, 'yes_no': {}, 'harm_original_text': {}, 'subject': 'funeral'}, 'time': 2.1496787071228027, 'post': {'edit_acc': [1], 'edit_output': [\"St Paul's Cathedral.\"], 'locality': {}, 'portability': {}, 'yes_no': {}}}\n"
     ]
    },
    {
     "name": "stdout",
     "output_type": "stream",
     "text": [
      "===== Question: Which tourist attraction's significant event is funeral? | Prediction: St Paul's Cathedral. | Label: St Paul's Cathedral | Evaluation: 1 =====\n",
      "Executing ROME algorithm for the update: [Which tourist attraction depicts drapery?] -> [ Statue of Liberty]\n",
      "Computing left vector (u)...\n",
      "Selected u projection object drapery\n",
      "Left vector shape: torch.Size([14336])\n",
      "Computing right vector (v)\n",
      "Lookup index found: 7 | Sentence: Which tourist attraction depicts drapery? Statue of | Token: ery\n",
      "Rewrite layer is 5\n",
      "Tying optimization objective to 31\n",
      "Recording initial value of v*\n",
      "loss 2.719 = 2.719 + 0.0 + 0.0 avg prob of [ Statue of Liberty] 0.06895603239536285\n",
      "loss 1.716 = 1.553 + 0.162 + 0.001 avg prob of [ Statue of Liberty] 0.2158459722995758\n",
      "loss 0.927 = 0.74 + 0.186 + 0.001 avg prob of [ Statue of Liberty] 0.4841163456439972\n",
      "loss 0.359 = 0.203 + 0.155 + 0.001 avg prob of [ Statue of Liberty] 0.8209618926048279\n",
      "loss 0.199 = 0.051 + 0.147 + 0.001 avg prob of [ Statue of Liberty] 0.9509189128875732\n",
      "loss 0.163 = 0.028 + 0.134 + 0.001 avg prob of [ Statue of Liberty] 0.9725995063781738\n",
      "loss 0.144 = 0.018 + 0.125 + 0.001 avg prob of [ Statue of Liberty] 0.9825503826141357\n",
      "loss 0.131 = 0.013 + 0.117 + 0.001 avg prob of [ Statue of Liberty] 0.987358570098877\n",
      "loss 0.121 = 0.01 + 0.11 + 0.001 avg prob of [ Statue of Liberty] 0.989871084690094\n",
      "loss 0.112 = 0.009 + 0.102 + 0.001 avg prob of [ Statue of Liberty] 0.9913955330848694\n",
      "loss 0.104 = 0.008 + 0.095 + 0.001 avg prob of [ Statue of Liberty] 0.992393970489502\n",
      "loss 0.097 = 0.007 + 0.089 + 0.001 avg prob of [ Statue of Liberty] 0.9933995008468628\n",
      "loss 0.089 = 0.006 + 0.082 + 0.001 avg prob of [ Statue of Liberty] 0.9944989681243896\n",
      "loss 0.079 = 0.005 + 0.073 + 0.001 avg prob of [ Statue of Liberty] 0.9950420260429382\n",
      "loss 0.067 = 0.005 + 0.061 + 0.001 avg prob of [ Statue of Liberty] 0.9953399896621704\n"
     ]
    },
    {
     "name": "stderr",
     "output_type": "stream",
     "text": [
      "2024-08-12 18:49:21,467 - hallucination_editor - INFO - Execution 33 editing took 4.139559507369995\n",
      "08/12/2024 18:49:21 - INFO - hallucination_editor -   Execution 33 editing took 4.139559507369995\n"
     ]
    },
    {
     "name": "stdout",
     "output_type": "stream",
     "text": [
      "loss 0.05 = 0.005 + 0.043 + 0.001 avg prob of [ Statue of Liberty] 0.9948787093162537\n",
      "Delta norm: 12.7109375\n",
      "Change in target norm: 3.177734375 to 13.0390625 => 9.859375\n",
      "Division Factor: 4.0234375\n",
      "Right vector norm: 3.16015625\n",
      "Right vector shape: torch.Size([4096])\n",
      "Deltas successfully computed for ['model.layers.5.mlp.down_proj.weight']\n",
      "New weights successfully inserted into ['model.layers.5.mlp.down_proj.weight']\n"
     ]
    },
    {
     "name": "stderr",
     "output_type": "stream",
     "text": [
      "2024-08-12 18:49:21,806 - hallucination_editor - INFO - Evaluation took 0.33808469772338867\n",
      "08/12/2024 18:49:21 - INFO - hallucination_editor -   Evaluation took 0.33808469772338867\n",
      "2024-08-12 18:49:21,808 - hallucination_editor - INFO - 33 editing: Which tourist attraction depicts drapery? -> Statue of Liberty  \n",
      " {'pre': {'edit_acc': [0], 'edit_output': ['The Colosseum.'], 'locality': {}, 'portability': {}, 'yes_no': {}}, 'case_id': 33, 'requested_edit': {'prompt': 'Which tourist attraction depicts drapery?', 'target_new': 'Statue of Liberty', 'ground_truth': '<|endoftext|>', 'portability': {}, 'locality': {}, 'yes_no': {}, 'harm_original_text': {}, 'subject': 'drapery'}, 'time': 4.139559507369995, 'post': {'edit_acc': [1], 'edit_output': ['Statue of Liberty.'], 'locality': {}, 'portability': {}, 'yes_no': {}}}\n",
      "08/12/2024 18:49:21 - INFO - hallucination_editor -   33 editing: Which tourist attraction depicts drapery? -> Statue of Liberty  \n",
      " {'pre': {'edit_acc': [0], 'edit_output': ['The Colosseum.'], 'locality': {}, 'portability': {}, 'yes_no': {}}, 'case_id': 33, 'requested_edit': {'prompt': 'Which tourist attraction depicts drapery?', 'target_new': 'Statue of Liberty', 'ground_truth': '<|endoftext|>', 'portability': {}, 'locality': {}, 'yes_no': {}, 'harm_original_text': {}, 'subject': 'drapery'}, 'time': 4.139559507369995, 'post': {'edit_acc': [1], 'edit_output': ['Statue of Liberty.'], 'locality': {}, 'portability': {}, 'yes_no': {}}}\n"
     ]
    },
    {
     "name": "stdout",
     "output_type": "stream",
     "text": [
      "===== Question: Which tourist attraction depicts drapery? | Prediction: Statue of Liberty. | Label: Statue of Liberty | Evaluation: 1 =====\n",
      "Executing ROME algorithm for the update: [What is the derivative work of Disneyland?] -> [ Kinect: Disneyland Adventures]\n",
      "Computing left vector (u)...\n",
      "Selected u projection object Disneyland\n",
      "Left vector shape: torch.Size([14336])\n",
      "Computing right vector (v)\n",
      "Lookup index found: 7 | Sentence: What is the derivative work of Disneyland? Kinect: Disneyland | Token:  Disneyland\n",
      "Rewrite layer is 5\n",
      "Tying optimization objective to 31\n",
      "Recording initial value of v*\n",
      "loss 4.741 = 4.741 + 0.0 + 0.0 avg prob of [ Kinect: Disneyland Adventures] 0.008826627396047115\n",
      "loss 3.518 = 3.406 + 0.111 + 0.002 avg prob of [ Kinect: Disneyland Adventures] 0.03347153216600418\n",
      "loss 1.554 = 1.453 + 0.1 + 0.002 avg prob of [ Kinect: Disneyland Adventures] 0.2348754107952118\n",
      "loss 0.498 = 0.413 + 0.083 + 0.002 avg prob of [ Kinect: Disneyland Adventures] 0.664372980594635\n",
      "loss 0.539 = 0.447 + 0.09 + 0.002 avg prob of [ Kinect: Disneyland Adventures] 0.6456612348556519\n",
      "loss 0.29 = 0.025 + 0.264 + 0.002 avg prob of [ Kinect: Disneyland Adventures] 0.9755472540855408\n",
      "loss 0.579 = 0.457 + 0.12 + 0.002 avg prob of [ Kinect: Disneyland Adventures] 0.6419604420661926\n",
      "loss 0.143 = 0.044 + 0.098 + 0.002 avg prob of [ Kinect: Disneyland Adventures] 0.9572521448135376\n",
      "loss 0.123 = 0.032 + 0.09 + 0.002 avg prob of [ Kinect: Disneyland Adventures] 0.9688987731933594\n",
      "loss 0.107 = 0.022 + 0.084 + 0.002 avg prob of [ Kinect: Disneyland Adventures] 0.9782512187957764\n",
      "loss 0.094 = 0.013 + 0.079 + 0.002 avg prob of [ Kinect: Disneyland Adventures] 0.9867793917655945\n",
      "loss 0.086 = 0.009 + 0.076 + 0.002 avg prob of [ Kinect: Disneyland Adventures] 0.9914496541023254\n",
      "loss 0.081 = 0.006 + 0.073 + 0.002 avg prob of [ Kinect: Disneyland Adventures] 0.9940637946128845\n",
      "loss 0.077 = 0.004 + 0.071 + 0.002 avg prob of [ Kinect: Disneyland Adventures] 0.9955814480781555\n",
      "loss 0.074 = 0.003 + 0.069 + 0.002 avg prob of [ Kinect: Disneyland Adventures] 0.9965134859085083\n",
      "loss 0.072 = 0.003 + 0.068 + 0.002 avg prob of [ Kinect: Disneyland Adventures] 0.9971408247947693\n",
      "loss 0.07 = 0.002 + 0.066 + 0.002 avg prob of [ Kinect: Disneyland Adventures] 0.9976245760917664\n",
      "loss 0.068 = 0.002 + 0.064 + 0.002 avg prob of [ Kinect: Disneyland Adventures] 0.9979868531227112\n",
      "loss 0.066 = 0.002 + 0.063 + 0.002 avg prob of [ Kinect: Disneyland Adventures] 0.9982801079750061\n",
      "loss 0.064 = 0.001 + 0.061 + 0.002 avg prob of [ Kinect: Disneyland Adventures] 0.9985054731369019\n",
      "loss 0.061 = 0.001 + 0.058 + 0.002 avg prob of [ Kinect: Disneyland Adventures] 0.9986808896064758\n",
      "loss 0.059 = 0.001 + 0.056 + 0.002 avg prob of [ Kinect: Disneyland Adventures] 0.9988021850585938\n",
      "loss 0.056 = 0.001 + 0.053 + 0.002 avg prob of [ Kinect: Disneyland Adventures] 0.9988663196563721\n",
      "loss 0.052 = 0.001 + 0.05 + 0.002 avg prob of [ Kinect: Disneyland Adventures] 0.9988332390785217\n"
     ]
    },
    {
     "name": "stderr",
     "output_type": "stream",
     "text": [
      "2024-08-12 18:49:28,321 - hallucination_editor - INFO - Execution 34 editing took 6.512091159820557\n",
      "08/12/2024 18:49:28 - INFO - hallucination_editor -   Execution 34 editing took 6.512091159820557\n"
     ]
    },
    {
     "name": "stdout",
     "output_type": "stream",
     "text": [
      "loss 0.049 = 0.001 + 0.046 + 0.002 avg prob of [ Kinect: Disneyland Adventures] 0.9987140893936157\n",
      "Delta norm: 9.609375\n",
      "Change in target norm: 2.40234375 to 9.9140625 => 7.51171875\n",
      "Division Factor: 2.90625\n",
      "Right vector norm: 3.306640625\n",
      "Right vector shape: torch.Size([4096])\n",
      "Deltas successfully computed for ['model.layers.5.mlp.down_proj.weight']\n",
      "New weights successfully inserted into ['model.layers.5.mlp.down_proj.weight']\n"
     ]
    },
    {
     "name": "stderr",
     "output_type": "stream",
     "text": [
      "2024-08-12 18:49:28,733 - hallucination_editor - INFO - Evaluation took 0.4101579189300537\n",
      "08/12/2024 18:49:28 - INFO - hallucination_editor -   Evaluation took 0.4101579189300537\n",
      "2024-08-12 18:49:28,734 - hallucination_editor - INFO - 34 editing: What is the derivative work of Disneyland? -> Kinect: Disneyland Adventures  \n",
      " {'pre': {'edit_acc': [0], 'edit_output': ['Disney World.'], 'locality': {}, 'portability': {}, 'yes_no': {}}, 'case_id': 34, 'requested_edit': {'prompt': 'What is the derivative work of Disneyland?', 'target_new': 'Kinect: Disneyland Adventures', 'ground_truth': '<|endoftext|>', 'portability': {}, 'locality': {}, 'yes_no': {}, 'harm_original_text': {}, 'subject': 'Disneyland'}, 'time': 6.512091159820557, 'post': {'edit_acc': [0], 'edit_output': ['Kinect: Disneyland.'], 'locality': {}, 'portability': {}, 'yes_no': {}}}\n",
      "08/12/2024 18:49:28 - INFO - hallucination_editor -   34 editing: What is the derivative work of Disneyland? -> Kinect: Disneyland Adventures  \n",
      " {'pre': {'edit_acc': [0], 'edit_output': ['Disney World.'], 'locality': {}, 'portability': {}, 'yes_no': {}}, 'case_id': 34, 'requested_edit': {'prompt': 'What is the derivative work of Disneyland?', 'target_new': 'Kinect: Disneyland Adventures', 'ground_truth': '<|endoftext|>', 'portability': {}, 'locality': {}, 'yes_no': {}, 'harm_original_text': {}, 'subject': 'Disneyland'}, 'time': 6.512091159820557, 'post': {'edit_acc': [0], 'edit_output': ['Kinect: Disneyland.'], 'locality': {}, 'portability': {}, 'yes_no': {}}}\n"
     ]
    },
    {
     "name": "stdout",
     "output_type": "stream",
     "text": [
      "===== Question: What is the derivative work of Disneyland? | Prediction: Kinect: Disneyland. | Label: Kinect: Disneyland Adventures | Evaluation: 0 =====\n",
      "Executing ROME algorithm for the update: [What is the taxon found at location of Central Park?] -> [ squirrel]\n",
      "Computing left vector (u)...\n",
      "Selected u projection object Central Park\n",
      "Left vector shape: torch.Size([14336])\n",
      "Computing right vector (v)\n",
      "Lookup index found: 11 | Sentence: What is the taxon found at location of Central Park? | Token:  Park\n",
      "Rewrite layer is 5\n",
      "Tying optimization objective to 31\n",
      "Recording initial value of v*\n",
      "loss 13.037 = 13.037 + 0.0 + 0.0 avg prob of [ squirrel] 2.6438472104928223e-06\n",
      "loss 6.733 = 6.681 + 0.051 + 0.001 avg prob of [ squirrel] 0.0014268450904637575\n",
      "loss 2.551 = 2.441 + 0.109 + 0.001 avg prob of [ squirrel] 0.1123829334974289\n",
      "loss 2.329 = 1.943 + 0.385 + 0.001 avg prob of [ squirrel] 0.1648997664451599\n",
      "loss 0.315 = 0.012 + 0.301 + 0.001 avg prob of [ squirrel] 0.9881237745285034\n",
      "loss 0.427 = 0.326 + 0.1 + 0.001 avg prob of [ squirrel] 0.8230977654457092\n",
      "loss 0.204 = 0.01 + 0.193 + 0.001 avg prob of [ squirrel] 0.9902499914169312\n",
      "loss 0.08 = 0.021 + 0.059 + 0.001 avg prob of [ squirrel] 0.9796887636184692\n",
      "loss 0.073 = 0.022 + 0.049 + 0.001 avg prob of [ squirrel] 0.977999210357666\n",
      "loss 0.056 = 0.011 + 0.044 + 0.001 avg prob of [ squirrel] 0.9894220232963562\n"
     ]
    },
    {
     "name": "stderr",
     "output_type": "stream",
     "text": [
      "2024-08-12 18:49:31,674 - hallucination_editor - INFO - Execution 35 editing took 2.9387407302856445\n",
      "08/12/2024 18:49:31 - INFO - hallucination_editor -   Execution 35 editing took 2.9387407302856445\n"
     ]
    },
    {
     "name": "stdout",
     "output_type": "stream",
     "text": [
      "loss 0.047 = 0.005 + 0.041 + 0.001 avg prob of [ squirrel] 0.9950737953186035\n",
      "Delta norm: 11.484375\n",
      "Change in target norm: 2.87109375 to 11.828125 => 8.953125\n",
      "Division Factor: 3.634765625\n",
      "Right vector norm: 3.16015625\n",
      "Right vector shape: torch.Size([4096])\n",
      "Deltas successfully computed for ['model.layers.5.mlp.down_proj.weight']\n",
      "New weights successfully inserted into ['model.layers.5.mlp.down_proj.weight']\n"
     ]
    },
    {
     "name": "stderr",
     "output_type": "stream",
     "text": [
      "2024-08-12 18:49:31,904 - hallucination_editor - INFO - Evaluation took 0.22859835624694824\n",
      "08/12/2024 18:49:31 - INFO - hallucination_editor -   Evaluation took 0.22859835624694824\n",
      "2024-08-12 18:49:31,905 - hallucination_editor - INFO - 35 editing: What is the taxon found at location of Central Park? -> squirrel  \n",
      " {'pre': {'edit_acc': [0], 'edit_output': ['Quercus.'], 'locality': {}, 'portability': {}, 'yes_no': {}}, 'case_id': 35, 'requested_edit': {'prompt': 'What is the taxon found at location of Central Park?', 'target_new': 'squirrel', 'ground_truth': '<|endoftext|>', 'portability': {}, 'locality': {}, 'yes_no': {}, 'harm_original_text': {}, 'subject': 'Central Park'}, 'time': 2.9387407302856445, 'post': {'edit_acc': [1], 'edit_output': ['Squirrel.'], 'locality': {}, 'portability': {}, 'yes_no': {}}}\n",
      "08/12/2024 18:49:31 - INFO - hallucination_editor -   35 editing: What is the taxon found at location of Central Park? -> squirrel  \n",
      " {'pre': {'edit_acc': [0], 'edit_output': ['Quercus.'], 'locality': {}, 'portability': {}, 'yes_no': {}}, 'case_id': 35, 'requested_edit': {'prompt': 'What is the taxon found at location of Central Park?', 'target_new': 'squirrel', 'ground_truth': '<|endoftext|>', 'portability': {}, 'locality': {}, 'yes_no': {}, 'harm_original_text': {}, 'subject': 'Central Park'}, 'time': 2.9387407302856445, 'post': {'edit_acc': [1], 'edit_output': ['Squirrel.'], 'locality': {}, 'portability': {}, 'yes_no': {}}}\n"
     ]
    },
    {
     "name": "stdout",
     "output_type": "stream",
     "text": [
      "===== Question: What is the taxon found at location of Central Park? | Prediction: Squirrel. | Label: squirrel | Evaluation: 1 =====\n",
      "Executing ROME algorithm for the update: [Which tourist attraction's main building contractor is Skanska?] -> [ 30 St Mary Axe]\n",
      "Computing left vector (u)...\n",
      "Selected u projection object Skanska\n",
      "Left vector shape: torch.Size([14336])\n",
      "Computing right vector (v)\n",
      "Lookup index found: 11 | Sentence: Which tourist attraction's main building contractor is Skanska? 30 St Mary | Token: ka\n",
      "Rewrite layer is 5\n",
      "Tying optimization objective to 31\n",
      "Recording initial value of v*\n",
      "loss 3.318 = 3.318 + 0.0 + 0.0 avg prob of [ 30 St Mary Axe] 0.037418756633996964\n",
      "loss 1.477 = 1.396 + 0.08 + 0.001 avg prob of [ 30 St Mary Axe] 0.2535945475101471\n",
      "loss 2.162 = 1.916 + 0.244 + 0.001 avg prob of [ 30 St Mary Axe] 0.15006940066814423\n",
      "loss 0.696 = 0.634 + 0.06 + 0.001 avg prob of [ 30 St Mary Axe] 0.5367822051048279\n",
      "loss 0.263 = 0.203 + 0.058 + 0.001 avg prob of [ 30 St Mary Axe] 0.8193039894104004\n",
      "loss 0.14 = 0.093 + 0.045 + 0.001 avg prob of [ 30 St Mary Axe] 0.9117709994316101\n",
      "loss 0.084 = 0.041 + 0.042 + 0.001 avg prob of [ 30 St Mary Axe] 0.9601006507873535\n",
      "loss 0.059 = 0.019 + 0.039 + 0.001 avg prob of [ 30 St Mary Axe] 0.9810998439788818\n"
     ]
    },
    {
     "name": "stderr",
     "output_type": "stream",
     "text": [
      "2024-08-12 18:49:34,581 - hallucination_editor - INFO - Execution 36 editing took 2.6743128299713135\n",
      "08/12/2024 18:49:34 - INFO - hallucination_editor -   Execution 36 editing took 2.6743128299713135\n"
     ]
    },
    {
     "name": "stdout",
     "output_type": "stream",
     "text": [
      "loss 0.049 = 0.011 + 0.036 + 0.001 avg prob of [ 30 St Mary Axe] 0.9892227649688721\n",
      "Delta norm: 12.796875\n",
      "Change in target norm: 3.19921875 to 13.2109375 => 10.015625\n",
      "Division Factor: 4.0625\n",
      "Right vector norm: 3.150390625\n",
      "Right vector shape: torch.Size([4096])\n",
      "Deltas successfully computed for ['model.layers.5.mlp.down_proj.weight']\n",
      "New weights successfully inserted into ['model.layers.5.mlp.down_proj.weight']\n"
     ]
    },
    {
     "name": "stderr",
     "output_type": "stream",
     "text": [
      "2024-08-12 18:49:34,921 - hallucination_editor - INFO - Evaluation took 0.33852529525756836\n",
      "08/12/2024 18:49:34 - INFO - hallucination_editor -   Evaluation took 0.33852529525756836\n",
      "2024-08-12 18:49:34,922 - hallucination_editor - INFO - 36 editing: Which tourist attraction's main building contractor is Skanska? -> 30 St Mary Axe  \n",
      " {'pre': {'edit_acc': [0], 'edit_output': ['The Shard.'], 'locality': {}, 'portability': {}, 'yes_no': {}}, 'case_id': 36, 'requested_edit': {'prompt': \"Which tourist attraction's main building contractor is Skanska?\", 'target_new': '30 St Mary Axe', 'ground_truth': '<|endoftext|>', 'portability': {}, 'locality': {}, 'yes_no': {}, 'harm_original_text': {}, 'subject': 'Skanska'}, 'time': 2.6743128299713135, 'post': {'edit_acc': [1], 'edit_output': ['30 St Mary Axe.'], 'locality': {}, 'portability': {}, 'yes_no': {}}}\n",
      "08/12/2024 18:49:34 - INFO - hallucination_editor -   36 editing: Which tourist attraction's main building contractor is Skanska? -> 30 St Mary Axe  \n",
      " {'pre': {'edit_acc': [0], 'edit_output': ['The Shard.'], 'locality': {}, 'portability': {}, 'yes_no': {}}, 'case_id': 36, 'requested_edit': {'prompt': \"Which tourist attraction's main building contractor is Skanska?\", 'target_new': '30 St Mary Axe', 'ground_truth': '<|endoftext|>', 'portability': {}, 'locality': {}, 'yes_no': {}, 'harm_original_text': {}, 'subject': 'Skanska'}, 'time': 2.6743128299713135, 'post': {'edit_acc': [1], 'edit_output': ['30 St Mary Axe.'], 'locality': {}, 'portability': {}, 'yes_no': {}}}\n"
     ]
    },
    {
     "name": "stdout",
     "output_type": "stream",
     "text": [
      "===== Question: Which tourist attraction's main building contractor is Skanska? | Prediction: 30 St Mary Axe. | Label: 30 St Mary Axe | Evaluation: 1 =====\n",
      "Executing ROME algorithm for the update: [Which tourist attraction architect Bartolommeo Berrecci?] -> [ Wawel Castle]\n",
      "Computing left vector (u)...\n",
      "Selected u projection object Bartolommeo Berrecci\n",
      "Left vector shape: torch.Size([14336])\n",
      "Computing right vector (v)\n",
      "Lookup index found: 12 | Sentence: Which tourist attraction architect Bartolommeo Berrecci? Wawel | Token: cci\n",
      "Rewrite layer is 5\n",
      "Tying optimization objective to 31\n",
      "Recording initial value of v*\n",
      "loss 3.108 = 3.108 + 0.0 + 0.0 avg prob of [ Wawel Castle] 0.047398000955581665\n",
      "loss 2.2 = 2.132 + 0.067 + 0.001 avg prob of [ Wawel Castle] 0.12151668220758438\n",
      "loss 1.099 = 0.955 + 0.143 + 0.001 avg prob of [ Wawel Castle] 0.38679277896881104\n",
      "loss 0.599 = 0.541 + 0.056 + 0.001 avg prob of [ Wawel Castle] 0.5849463939666748\n",
      "loss 0.287 = 0.242 + 0.043 + 0.001 avg prob of [ Wawel Castle] 0.7870198488235474\n",
      "loss 0.112 = 0.072 + 0.039 + 0.001 avg prob of [ Wawel Castle] 0.9311628341674805\n",
      "loss 0.115 = 0.1 + 0.013 + 0.001 avg prob of [ Wawel Castle] 0.9073591828346252\n",
      "loss 0.166 = 0.111 + 0.053 + 0.001 avg prob of [ Wawel Castle] 0.899780809879303\n",
      "loss 0.099 = 0.064 + 0.033 + 0.001 avg prob of [ Wawel Castle] 0.9380494952201843\n",
      "loss 0.065 = 0.043 + 0.021 + 0.001 avg prob of [ Wawel Castle] 0.9583849310874939\n",
      "loss 0.067 = 0.022 + 0.044 + 0.001 avg prob of [ Wawel Castle] 0.9781990051269531\n"
     ]
    },
    {
     "name": "stderr",
     "output_type": "stream",
     "text": [
      "2024-08-12 18:49:38,474 - hallucination_editor - INFO - Execution 37 editing took 3.5504348278045654\n",
      "08/12/2024 18:49:38 - INFO - hallucination_editor -   Execution 37 editing took 3.5504348278045654\n"
     ]
    },
    {
     "name": "stdout",
     "output_type": "stream",
     "text": [
      "loss 0.044 = 0.013 + 0.03 + 0.001 avg prob of [ Wawel Castle] 0.9872456789016724\n",
      "Delta norm: 12.1171875\n",
      "Change in target norm: 3.029296875 to 12.5390625 => 9.5078125\n",
      "Division Factor: 3.935546875\n",
      "Right vector norm: 3.078125\n",
      "Right vector shape: torch.Size([4096])\n",
      "Deltas successfully computed for ['model.layers.5.mlp.down_proj.weight']\n",
      "New weights successfully inserted into ['model.layers.5.mlp.down_proj.weight']\n"
     ]
    },
    {
     "name": "stderr",
     "output_type": "stream",
     "text": [
      "2024-08-12 18:49:38,814 - hallucination_editor - INFO - Evaluation took 0.33845973014831543\n",
      "08/12/2024 18:49:38 - INFO - hallucination_editor -   Evaluation took 0.33845973014831543\n",
      "2024-08-12 18:49:38,815 - hallucination_editor - INFO - 37 editing: Which tourist attraction architect Bartolommeo Berrecci? -> Wawel Castle  \n",
      " {'pre': {'edit_acc': [0], 'edit_output': [\"St. Peter's Basilica.\"], 'locality': {}, 'portability': {}, 'yes_no': {}}, 'case_id': 37, 'requested_edit': {'prompt': 'Which tourist attraction architect Bartolommeo Berrecci?', 'target_new': 'Wawel Castle', 'ground_truth': '<|endoftext|>', 'portability': {}, 'locality': {}, 'yes_no': {}, 'harm_original_text': {}, 'subject': 'Bartolommeo Berrecci'}, 'time': 3.5504348278045654, 'post': {'edit_acc': [1], 'edit_output': ['Wawel Castle.'], 'locality': {}, 'portability': {}, 'yes_no': {}}}\n",
      "08/12/2024 18:49:38 - INFO - hallucination_editor -   37 editing: Which tourist attraction architect Bartolommeo Berrecci? -> Wawel Castle  \n",
      " {'pre': {'edit_acc': [0], 'edit_output': [\"St. Peter's Basilica.\"], 'locality': {}, 'portability': {}, 'yes_no': {}}, 'case_id': 37, 'requested_edit': {'prompt': 'Which tourist attraction architect Bartolommeo Berrecci?', 'target_new': 'Wawel Castle', 'ground_truth': '<|endoftext|>', 'portability': {}, 'locality': {}, 'yes_no': {}, 'harm_original_text': {}, 'subject': 'Bartolommeo Berrecci'}, 'time': 3.5504348278045654, 'post': {'edit_acc': [1], 'edit_output': ['Wawel Castle.'], 'locality': {}, 'portability': {}, 'yes_no': {}}}\n"
     ]
    },
    {
     "name": "stdout",
     "output_type": "stream",
     "text": [
      "===== Question: Which tourist attraction architect Bartolommeo Berrecci? | Prediction: Wawel Castle. | Label: Wawel Castle | Evaluation: 1 =====\n",
      "Executing ROME algorithm for the update: [Which tourist attraction's located in the administrative territorial entity is Gran Canaria?] -> [ Jardín Botánico Canario Viera y Clavijo]\n",
      "Computing left vector (u)...\n",
      "Selected u projection object Gran Canaria\n",
      "Left vector shape: torch.Size([14336])\n",
      "Computing right vector (v)\n",
      "Lookup index found: 14 | Sentence: Which tourist attraction's located in the administrative territorial entity is Gran Canaria? Jardín Botánico Canario Viera y Clav | Token: aria\n",
      "Rewrite layer is 5\n",
      "Tying optimization objective to 31\n",
      "Recording initial value of v*\n",
      "loss 0.909 = 0.909 + 0.0 + 0.0 avg prob of [ Jardín Botánico Canario Viera y Clavijo] 0.4048140347003937\n",
      "loss 0.713 = 0.662 + 0.049 + 0.001 avg prob of [ Jardín Botánico Canario Viera y Clavijo] 0.5159497857093811\n",
      "loss 0.618 = 0.573 + 0.043 + 0.001 avg prob of [ Jardín Botánico Canario Viera y Clavijo] 0.5641484260559082\n",
      "loss 0.393 = 0.382 + 0.01 + 0.001 avg prob of [ Jardín Botánico Canario Viera y Clavijo] 0.6842132210731506\n",
      "loss 0.149 = 0.106 + 0.041 + 0.001 avg prob of [ Jardín Botánico Canario Viera y Clavijo] 0.8991256356239319\n",
      "loss 0.056 = 0.029 + 0.026 + 0.001 avg prob of [ Jardín Botánico Canario Viera y Clavijo] 0.9717452526092529\n"
     ]
    },
    {
     "name": "stderr",
     "output_type": "stream",
     "text": [
      "2024-08-12 18:49:41,512 - hallucination_editor - INFO - Execution 38 editing took 2.6953506469726562\n",
      "08/12/2024 18:49:41 - INFO - hallucination_editor -   Execution 38 editing took 2.6953506469726562\n"
     ]
    },
    {
     "name": "stdout",
     "output_type": "stream",
     "text": [
      "loss 0.029 = 0.01 + 0.018 + 0.001 avg prob of [ Jardín Botánico Canario Viera y Clavijo] 0.989575982093811\n",
      "Delta norm: 11.8515625\n",
      "Change in target norm: 2.962890625 to 12.2265625 => 9.265625\n",
      "Division Factor: 3.751953125\n",
      "Right vector norm: 3.158203125\n",
      "Right vector shape: torch.Size([4096])\n",
      "Deltas successfully computed for ['model.layers.5.mlp.down_proj.weight']\n",
      "New weights successfully inserted into ['model.layers.5.mlp.down_proj.weight']\n"
     ]
    },
    {
     "name": "stderr",
     "output_type": "stream",
     "text": [
      "2024-08-12 18:49:42,140 - hallucination_editor - INFO - Evaluation took 0.6265504360198975\n",
      "08/12/2024 18:49:42 - INFO - hallucination_editor -   Evaluation took 0.6265504360198975\n",
      "2024-08-12 18:49:42,142 - hallucination_editor - INFO - 38 editing: Which tourist attraction's located in the administrative territorial entity is Gran Canaria? -> Jardín Botánico Canario Viera y Clavijo  \n",
      " {'pre': {'edit_acc': [0], 'edit_output': ['Roque Nublo.'], 'locality': {}, 'portability': {}, 'yes_no': {}}, 'case_id': 38, 'requested_edit': {'prompt': \"Which tourist attraction's located in the administrative territorial entity is Gran Canaria?\", 'target_new': 'Jardín Botánico Canario Viera y Clavijo', 'ground_truth': '<|endoftext|>', 'portability': {}, 'locality': {}, 'yes_no': {}, 'harm_original_text': {}, 'subject': 'Gran Canaria'}, 'time': 2.6953506469726562, 'post': {'edit_acc': [1], 'edit_output': ['Jardín Botánico Canario.'], 'locality': {}, 'portability': {}, 'yes_no': {}}}\n",
      "08/12/2024 18:49:42 - INFO - hallucination_editor -   38 editing: Which tourist attraction's located in the administrative territorial entity is Gran Canaria? -> Jardín Botánico Canario Viera y Clavijo  \n",
      " {'pre': {'edit_acc': [0], 'edit_output': ['Roque Nublo.'], 'locality': {}, 'portability': {}, 'yes_no': {}}, 'case_id': 38, 'requested_edit': {'prompt': \"Which tourist attraction's located in the administrative territorial entity is Gran Canaria?\", 'target_new': 'Jardín Botánico Canario Viera y Clavijo', 'ground_truth': '<|endoftext|>', 'portability': {}, 'locality': {}, 'yes_no': {}, 'harm_original_text': {}, 'subject': 'Gran Canaria'}, 'time': 2.6953506469726562, 'post': {'edit_acc': [1], 'edit_output': ['Jardín Botánico Canario.'], 'locality': {}, 'portability': {}, 'yes_no': {}}}\n"
     ]
    },
    {
     "name": "stdout",
     "output_type": "stream",
     "text": [
      "===== Question: Which tourist attraction's located in the administrative territorial entity is Gran Canaria? | Prediction: Jardín Botánico Canario. | Label: Jardín Botánico Canario Viera y Clavijo | Evaluation: 1 =====\n",
      "Executing ROME algorithm for the update: [Which tourist attraction's made from material is paint?] -> [ Cadillac Ranch]\n",
      "Computing left vector (u)...\n",
      "Selected u projection object paint\n",
      "Left vector shape: torch.Size([14336])\n",
      "Computing right vector (v)\n",
      "Lookup index found: 9 | Sentence: Which tourist attraction's made from material is paint? Cadillac | Token:  paint\n",
      "Rewrite layer is 5\n",
      "Tying optimization objective to 31\n",
      "Recording initial value of v*\n",
      "loss 6.676 = 6.676 + 0.0 + 0.0 avg prob of [ Cadillac Ranch] 0.0013236363884061575\n",
      "loss 2.947 = 2.701 + 0.244 + 0.002 avg prob of [ Cadillac Ranch] 0.07472405582666397\n",
      "loss 0.986 = 0.85 + 0.134 + 0.002 avg prob of [ Cadillac Ranch] 0.4374544024467468\n",
      "loss 0.158 = 0.075 + 0.081 + 0.002 avg prob of [ Cadillac Ranch] 0.9276444911956787\n"
     ]
    },
    {
     "name": "stderr",
     "output_type": "stream",
     "text": [
      "2024-08-12 18:49:43,495 - hallucination_editor - INFO - Execution 39 editing took 1.351454257965088\n",
      "08/12/2024 18:49:43 - INFO - hallucination_editor -   Execution 39 editing took 1.351454257965088\n"
     ]
    },
    {
     "name": "stdout",
     "output_type": "stream",
     "text": [
      "loss 0.029 = 0.01 + 0.017 + 0.002 avg prob of [ Cadillac Ranch] 0.9898870587348938\n",
      "Delta norm: 9.6953125\n",
      "Change in target norm: 2.423828125 to 9.9765625 => 7.5546875\n",
      "Division Factor: 3.107421875\n",
      "Right vector norm: 3.119140625\n",
      "Right vector shape: torch.Size([4096])\n",
      "Deltas successfully computed for ['model.layers.5.mlp.down_proj.weight']\n",
      "New weights successfully inserted into ['model.layers.5.mlp.down_proj.weight']\n"
     ]
    },
    {
     "name": "stderr",
     "output_type": "stream",
     "text": [
      "2024-08-12 18:49:43,779 - hallucination_editor - INFO - Evaluation took 0.2832939624786377\n",
      "08/12/2024 18:49:43 - INFO - hallucination_editor -   Evaluation took 0.2832939624786377\n",
      "2024-08-12 18:49:43,781 - hallucination_editor - INFO - 39 editing: Which tourist attraction's made from material is paint? -> Cadillac Ranch  \n",
      " {'pre': {'edit_acc': [0], 'edit_output': [\"Van Gogh's Starry Night.\"], 'locality': {}, 'portability': {}, 'yes_no': {}}, 'case_id': 39, 'requested_edit': {'prompt': \"Which tourist attraction's made from material is paint?\", 'target_new': 'Cadillac Ranch', 'ground_truth': '<|endoftext|>', 'portability': {}, 'locality': {}, 'yes_no': {}, 'harm_original_text': {}, 'subject': 'paint'}, 'time': 1.351454257965088, 'post': {'edit_acc': [1], 'edit_output': ['Cadillac Ranch.'], 'locality': {}, 'portability': {}, 'yes_no': {}}}\n",
      "08/12/2024 18:49:43 - INFO - hallucination_editor -   39 editing: Which tourist attraction's made from material is paint? -> Cadillac Ranch  \n",
      " {'pre': {'edit_acc': [0], 'edit_output': [\"Van Gogh's Starry Night.\"], 'locality': {}, 'portability': {}, 'yes_no': {}}, 'case_id': 39, 'requested_edit': {'prompt': \"Which tourist attraction's made from material is paint?\", 'target_new': 'Cadillac Ranch', 'ground_truth': '<|endoftext|>', 'portability': {}, 'locality': {}, 'yes_no': {}, 'harm_original_text': {}, 'subject': 'paint'}, 'time': 1.351454257965088, 'post': {'edit_acc': [1], 'edit_output': ['Cadillac Ranch.'], 'locality': {}, 'portability': {}, 'yes_no': {}}}\n"
     ]
    },
    {
     "name": "stdout",
     "output_type": "stream",
     "text": [
      "===== Question: Which tourist attraction's made from material is paint? | Prediction: Cadillac Ranch. | Label: Cadillac Ranch | Evaluation: 1 =====\n",
      "Executing ROME algorithm for the update: [Which tourist attraction architect Bodo Ebhardt?] -> [ Coburg Fortress]\n",
      "Computing left vector (u)...\n",
      "Selected u projection object Bodo Ebhardt\n",
      "Left vector shape: torch.Size([14336])\n",
      "Computing right vector (v)\n",
      "Lookup index found: 8 | Sentence: Which tourist attraction architect Bodo Ebhardt? Coburg | Token: hardt\n",
      "Rewrite layer is 5\n",
      "Tying optimization objective to 31\n",
      "Recording initial value of v*\n",
      "loss 4.539 = 4.539 + 0.0 + 0.0 avg prob of [ Coburg Fortress] 0.010906919836997986\n",
      "loss 4.31 = 4.282 + 0.026 + 0.001 avg prob of [ Coburg Fortress] 0.014281239360570908\n",
      "loss 3.263 = 3.229 + 0.032 + 0.001 avg prob of [ Coburg Fortress] 0.04046129807829857\n",
      "loss 1.09 = 1.05 + 0.038 + 0.001 avg prob of [ Coburg Fortress] 0.3663816452026367\n",
      "loss 1.455 = 1.248 + 0.205 + 0.001 avg prob of [ Coburg Fortress] 0.2995058298110962\n",
      "loss 1.566 = 1.475 + 0.089 + 0.001 avg prob of [ Coburg Fortress] 0.2366657704114914\n",
      "loss 1.804 = 1.756 + 0.046 + 0.001 avg prob of [ Coburg Fortress] 0.18401335179805756\n",
      "loss 0.511 = 0.457 + 0.052 + 0.001 avg prob of [ Coburg Fortress] 0.6380124092102051\n",
      "loss 0.109 = 0.056 + 0.051 + 0.001 avg prob of [ Coburg Fortress] 0.9455857276916504\n",
      "loss 0.061 = 0.016 + 0.043 + 0.001 avg prob of [ Coburg Fortress] 0.9840481281280518\n"
     ]
    },
    {
     "name": "stderr",
     "output_type": "stream",
     "text": [
      "2024-08-12 18:49:46,689 - hallucination_editor - INFO - Execution 40 editing took 2.906682252883911\n",
      "08/12/2024 18:49:46 - INFO - hallucination_editor -   Execution 40 editing took 2.906682252883911\n"
     ]
    },
    {
     "name": "stdout",
     "output_type": "stream",
     "text": [
      "loss 0.044 = 0.008 + 0.035 + 0.001 avg prob of [ Coburg Fortress] 0.9925257563591003\n",
      "Delta norm: 10.6796875\n",
      "Change in target norm: 2.669921875 to 11.078125 => 8.40625\n",
      "Division Factor: 3.35546875\n",
      "Right vector norm: 3.18359375\n",
      "Right vector shape: torch.Size([4096])\n",
      "Deltas successfully computed for ['model.layers.5.mlp.down_proj.weight']\n",
      "New weights successfully inserted into ['model.layers.5.mlp.down_proj.weight']\n"
     ]
    },
    {
     "name": "stderr",
     "output_type": "stream",
     "text": [
      "2024-08-12 18:49:47,152 - hallucination_editor - INFO - Evaluation took 0.4621117115020752\n",
      "08/12/2024 18:49:47 - INFO - hallucination_editor -   Evaluation took 0.4621117115020752\n",
      "2024-08-12 18:49:47,154 - hallucination_editor - INFO - 40 editing: Which tourist attraction architect Bodo Ebhardt? -> Coburg Fortress  \n",
      " {'pre': {'edit_acc': [0], 'edit_output': ['Berlin Cathedral.'], 'locality': {}, 'portability': {}, 'yes_no': {}}, 'case_id': 40, 'requested_edit': {'prompt': 'Which tourist attraction architect Bodo Ebhardt?', 'target_new': 'Coburg Fortress', 'ground_truth': '<|endoftext|>', 'portability': {}, 'locality': {}, 'yes_no': {}, 'harm_original_text': {}, 'subject': 'Bodo Ebhardt'}, 'time': 2.906682252883911, 'post': {'edit_acc': [0], 'edit_output': ['Johannstadt Fortress.'], 'locality': {}, 'portability': {}, 'yes_no': {}}}\n",
      "08/12/2024 18:49:47 - INFO - hallucination_editor -   40 editing: Which tourist attraction architect Bodo Ebhardt? -> Coburg Fortress  \n",
      " {'pre': {'edit_acc': [0], 'edit_output': ['Berlin Cathedral.'], 'locality': {}, 'portability': {}, 'yes_no': {}}, 'case_id': 40, 'requested_edit': {'prompt': 'Which tourist attraction architect Bodo Ebhardt?', 'target_new': 'Coburg Fortress', 'ground_truth': '<|endoftext|>', 'portability': {}, 'locality': {}, 'yes_no': {}, 'harm_original_text': {}, 'subject': 'Bodo Ebhardt'}, 'time': 2.906682252883911, 'post': {'edit_acc': [0], 'edit_output': ['Johannstadt Fortress.'], 'locality': {}, 'portability': {}, 'yes_no': {}}}\n"
     ]
    },
    {
     "name": "stdout",
     "output_type": "stream",
     "text": [
      "===== Question: Which tourist attraction architect Bodo Ebhardt? | Prediction: Johannstadt Fortress. | Label: Coburg Fortress | Evaluation: 0 =====\n",
      "Executing ROME algorithm for the update: [Which tourist attraction's located in the administrative territorial entity is Aksaray Province?] -> [ Lake Tuz]\n",
      "Computing left vector (u)...\n",
      "Selected u projection object Aksaray Province\n",
      "Left vector shape: torch.Size([14336])\n",
      "Computing right vector (v)\n",
      "Lookup index found: 16 | Sentence: Which tourist attraction's located in the administrative territorial entity is Aksaray Province? Lake T | Token:  Province\n",
      "Rewrite layer is 5\n",
      "Tying optimization objective to 31\n",
      "Recording initial value of v*\n",
      "loss 4.413 = 4.413 + 0.0 + 0.0 avg prob of [ Lake Tuz] 0.012440701946616173\n",
      "loss 3.747 = 3.628 + 0.118 + 0.001 avg prob of [ Lake Tuz] 0.02755437046289444\n",
      "loss 2.527 = 2.306 + 0.22 + 0.001 avg prob of [ Lake Tuz] 0.10207008570432663\n",
      "loss 4.844 = 4.717 + 0.126 + 0.001 avg prob of [ Lake Tuz] 0.009510490112006664\n",
      "loss 2.037 = 1.966 + 0.069 + 0.001 avg prob of [ Lake Tuz] 0.1498410403728485\n",
      "loss 0.86 = 0.784 + 0.074 + 0.001 avg prob of [ Lake Tuz] 0.4606933295726776\n",
      "loss 0.83 = 0.782 + 0.047 + 0.001 avg prob of [ Lake Tuz] 0.46087783575057983\n",
      "loss 0.317 = 0.295 + 0.021 + 0.001 avg prob of [ Lake Tuz] 0.7458723783493042\n",
      "loss 0.083 = 0.055 + 0.026 + 0.001 avg prob of [ Lake Tuz] 0.946312665939331\n"
     ]
    },
    {
     "name": "stderr",
     "output_type": "stream",
     "text": [
      "2024-08-12 18:49:50,446 - hallucination_editor - INFO - Execution 41 editing took 3.2910943031311035\n",
      "08/12/2024 18:49:50 - INFO - hallucination_editor -   Execution 41 editing took 3.2910943031311035\n"
     ]
    },
    {
     "name": "stdout",
     "output_type": "stream",
     "text": [
      "loss 0.049 = 0.035 + 0.012 + 0.001 avg prob of [ Lake Tuz] 0.9652144312858582\n",
      "Delta norm: 11.453125\n",
      "Change in target norm: 2.86328125 to 11.84375 => 8.984375\n",
      "Division Factor: 3.77734375\n",
      "Right vector norm: 3.03125\n",
      "Right vector shape: torch.Size([4096])\n",
      "Deltas successfully computed for ['model.layers.5.mlp.down_proj.weight']\n",
      "New weights successfully inserted into ['model.layers.5.mlp.down_proj.weight']\n"
     ]
    },
    {
     "name": "stderr",
     "output_type": "stream",
     "text": [
      "2024-08-12 18:49:50,675 - hallucination_editor - INFO - Evaluation took 0.22743487358093262\n",
      "08/12/2024 18:49:50 - INFO - hallucination_editor -   Evaluation took 0.22743487358093262\n",
      "2024-08-12 18:49:50,676 - hallucination_editor - INFO - 41 editing: Which tourist attraction's located in the administrative territorial entity is Aksaray Province? -> Lake Tuz  \n",
      " {'pre': {'edit_acc': [0], 'edit_output': ['Göreme.'], 'locality': {}, 'portability': {}, 'yes_no': {}}, 'case_id': 41, 'requested_edit': {'prompt': \"Which tourist attraction's located in the administrative territorial entity is Aksaray Province?\", 'target_new': 'Lake Tuz', 'ground_truth': '<|endoftext|>', 'portability': {}, 'locality': {}, 'yes_no': {}, 'harm_original_text': {}, 'subject': 'Aksaray Province'}, 'time': 3.2910943031311035, 'post': {'edit_acc': [1], 'edit_output': ['Lake Tuz'], 'locality': {}, 'portability': {}, 'yes_no': {}}}\n",
      "08/12/2024 18:49:50 - INFO - hallucination_editor -   41 editing: Which tourist attraction's located in the administrative territorial entity is Aksaray Province? -> Lake Tuz  \n",
      " {'pre': {'edit_acc': [0], 'edit_output': ['Göreme.'], 'locality': {}, 'portability': {}, 'yes_no': {}}, 'case_id': 41, 'requested_edit': {'prompt': \"Which tourist attraction's located in the administrative territorial entity is Aksaray Province?\", 'target_new': 'Lake Tuz', 'ground_truth': '<|endoftext|>', 'portability': {}, 'locality': {}, 'yes_no': {}, 'harm_original_text': {}, 'subject': 'Aksaray Province'}, 'time': 3.2910943031311035, 'post': {'edit_acc': [1], 'edit_output': ['Lake Tuz'], 'locality': {}, 'portability': {}, 'yes_no': {}}}\n"
     ]
    },
    {
     "name": "stdout",
     "output_type": "stream",
     "text": [
      "===== Question: Which tourist attraction's located in the administrative territorial entity is Aksaray Province? | Prediction: Lake Tuz | Label: Lake Tuz | Evaluation: 1 =====\n",
      "Executing ROME algorithm for the update: [Which tourist attraction architect Daniel Burnham?] -> [ National Museum of Natural History]\n",
      "Computing left vector (u)...\n",
      "Selected u projection object Daniel Burnham\n",
      "Left vector shape: torch.Size([14336])\n",
      "Computing right vector (v)\n",
      "Lookup index found: 7 | Sentence: Which tourist attraction architect Daniel Burnham? National Museum of Natural | Token: ham\n",
      "Rewrite layer is 5\n",
      "Tying optimization objective to 31\n",
      "Recording initial value of v*\n",
      "loss 2.759 = 2.759 + 0.0 + 0.0 avg prob of [ National Museum of Natural History] 0.064191535115242\n",
      "loss 2.221 = 2.167 + 0.053 + 0.001 avg prob of [ National Museum of Natural History] 0.11519262939691544\n",
      "loss 1.32 = 1.263 + 0.055 + 0.001 avg prob of [ National Museum of Natural History] 0.2856084406375885\n",
      "loss 0.785 = 0.733 + 0.051 + 0.001 avg prob of [ National Museum of Natural History] 0.4838492274284363\n",
      "loss 0.414 = 0.364 + 0.049 + 0.001 avg prob of [ National Museum of Natural History] 0.6986920833587646\n",
      "loss 0.131 = 0.081 + 0.049 + 0.001 avg prob of [ National Museum of Natural History] 0.9226540327072144\n",
      "loss 0.083 = 0.014 + 0.068 + 0.001 avg prob of [ National Museum of Natural History] 0.985832929611206\n",
      "loss 0.099 = 0.007 + 0.09 + 0.001 avg prob of [ National Museum of Natural History] 0.9927442669868469\n",
      "loss 0.064 = 0.009 + 0.054 + 0.001 avg prob of [ National Museum of Natural History] 0.9914349317550659\n",
      "loss 0.052 = 0.007 + 0.044 + 0.001 avg prob of [ National Museum of Natural History] 0.9932474493980408\n"
     ]
    },
    {
     "name": "stderr",
     "output_type": "stream",
     "text": [
      "2024-08-12 18:49:53,682 - hallucination_editor - INFO - Execution 42 editing took 3.0050244331359863\n",
      "08/12/2024 18:49:53 - INFO - hallucination_editor -   Execution 42 editing took 3.0050244331359863\n"
     ]
    },
    {
     "name": "stdout",
     "output_type": "stream",
     "text": [
      "loss 0.042 = 0.004 + 0.037 + 0.001 avg prob of [ National Museum of Natural History] 0.9957994222640991\n",
      "Delta norm: 12.6640625\n",
      "Change in target norm: 3.166015625 to 13.0234375 => 9.859375\n",
      "Division Factor: 3.92578125\n",
      "Right vector norm: 3.2265625\n",
      "Right vector shape: torch.Size([4096])\n",
      "Deltas successfully computed for ['model.layers.5.mlp.down_proj.weight']\n",
      "New weights successfully inserted into ['model.layers.5.mlp.down_proj.weight']\n"
     ]
    },
    {
     "name": "stderr",
     "output_type": "stream",
     "text": [
      "2024-08-12 18:49:54,076 - hallucination_editor - INFO - Evaluation took 0.39325761795043945\n",
      "08/12/2024 18:49:54 - INFO - hallucination_editor -   Evaluation took 0.39325761795043945\n",
      "2024-08-12 18:49:54,077 - hallucination_editor - INFO - 42 editing: Which tourist attraction architect Daniel Burnham? -> National Museum of Natural History  \n",
      " {'pre': {'edit_acc': [0], 'edit_output': ['Union Station.'], 'locality': {}, 'portability': {}, 'yes_no': {}}, 'case_id': 42, 'requested_edit': {'prompt': 'Which tourist attraction architect Daniel Burnham?', 'target_new': 'National Museum of Natural History', 'ground_truth': '<|endoftext|>', 'portability': {}, 'locality': {}, 'yes_no': {}, 'harm_original_text': {}, 'subject': 'Daniel Burnham'}, 'time': 3.0050244331359863, 'post': {'edit_acc': [1], 'edit_output': ['National Museum of Natural History.'], 'locality': {}, 'portability': {}, 'yes_no': {}}}\n",
      "08/12/2024 18:49:54 - INFO - hallucination_editor -   42 editing: Which tourist attraction architect Daniel Burnham? -> National Museum of Natural History  \n",
      " {'pre': {'edit_acc': [0], 'edit_output': ['Union Station.'], 'locality': {}, 'portability': {}, 'yes_no': {}}, 'case_id': 42, 'requested_edit': {'prompt': 'Which tourist attraction architect Daniel Burnham?', 'target_new': 'National Museum of Natural History', 'ground_truth': '<|endoftext|>', 'portability': {}, 'locality': {}, 'yes_no': {}, 'harm_original_text': {}, 'subject': 'Daniel Burnham'}, 'time': 3.0050244331359863, 'post': {'edit_acc': [1], 'edit_output': ['National Museum of Natural History.'], 'locality': {}, 'portability': {}, 'yes_no': {}}}\n"
     ]
    },
    {
     "name": "stdout",
     "output_type": "stream",
     "text": [
      "===== Question: Which tourist attraction architect Daniel Burnham? | Prediction: National Museum of Natural History. | Label: National Museum of Natural History | Evaluation: 1 =====\n",
      "Executing ROME algorithm for the update: [Which tourist attraction's taxon found at location is Chamaerops humilis?] -> [ National Garden of Athens]\n",
      "Computing left vector (u)...\n",
      "Selected u projection object Chamaerops humilis\n",
      "Left vector shape: torch.Size([14336])\n",
      "Computing right vector (v)\n",
      "Lookup index found: 16 | Sentence: Which tourist attraction's taxon found at location is Chamaerops humilis? National Garden of | Token: ilis\n",
      "Rewrite layer is 5\n",
      "Tying optimization objective to 31\n",
      "Recording initial value of v*\n",
      "loss 3.609 = 3.609 + 0.0 + 0.0 avg prob of [ National Garden of Athens] 0.028248237445950508\n",
      "loss 3.253 = 3.169 + 0.083 + 0.001 avg prob of [ National Garden of Athens] 0.04428203031420708\n",
      "loss 1.241 = 1.187 + 0.053 + 0.001 avg prob of [ National Garden of Athens] 0.30997422337532043\n",
      "loss 0.69 = 0.59 + 0.099 + 0.001 avg prob of [ National Garden of Athens] 0.5558678507804871\n",
      "loss 0.175 = 0.113 + 0.061 + 0.001 avg prob of [ National Garden of Athens] 0.8939743041992188\n",
      "loss 0.075 = 0.025 + 0.049 + 0.001 avg prob of [ National Garden of Athens] 0.975642740726471\n",
      "loss 0.072 = 0.009 + 0.062 + 0.001 avg prob of [ National Garden of Athens] 0.9909377694129944\n"
     ]
    },
    {
     "name": "stderr",
     "output_type": "stream",
     "text": [
      "2024-08-12 18:49:56,765 - hallucination_editor - INFO - Execution 43 editing took 2.6876492500305176\n",
      "08/12/2024 18:49:56 - INFO - hallucination_editor -   Execution 43 editing took 2.6876492500305176\n"
     ]
    },
    {
     "name": "stdout",
     "output_type": "stream",
     "text": [
      "loss 0.042 = 0.004 + 0.037 + 0.001 avg prob of [ National Garden of Athens] 0.995822548866272\n",
      "Delta norm: 13.625\n",
      "Change in target norm: 3.40625 to 14.0390625 => 10.6328125\n",
      "Division Factor: 4.67578125\n",
      "Right vector norm: 2.9140625\n",
      "Right vector shape: torch.Size([4096])\n",
      "Deltas successfully computed for ['model.layers.5.mlp.down_proj.weight']\n",
      "New weights successfully inserted into ['model.layers.5.mlp.down_proj.weight']\n"
     ]
    },
    {
     "name": "stderr",
     "output_type": "stream",
     "text": [
      "2024-08-12 18:49:57,103 - hallucination_editor - INFO - Evaluation took 0.33630895614624023\n",
      "08/12/2024 18:49:57 - INFO - hallucination_editor -   Evaluation took 0.33630895614624023\n",
      "2024-08-12 18:49:57,103 - hallucination_editor - INFO - 43 editing: Which tourist attraction's taxon found at location is Chamaerops humilis? -> National Garden of Athens  \n",
      " {'pre': {'edit_acc': [0], 'edit_output': ['Monument Valley.'], 'locality': {}, 'portability': {}, 'yes_no': {}}, 'case_id': 43, 'requested_edit': {'prompt': \"Which tourist attraction's taxon found at location is Chamaerops humilis?\", 'target_new': 'National Garden of Athens', 'ground_truth': '<|endoftext|>', 'portability': {}, 'locality': {}, 'yes_no': {}, 'harm_original_text': {}, 'subject': 'Chamaerops humilis'}, 'time': 2.6876492500305176, 'post': {'edit_acc': [1], 'edit_output': ['National Garden of Athens.'], 'locality': {}, 'portability': {}, 'yes_no': {}}}\n",
      "08/12/2024 18:49:57 - INFO - hallucination_editor -   43 editing: Which tourist attraction's taxon found at location is Chamaerops humilis? -> National Garden of Athens  \n",
      " {'pre': {'edit_acc': [0], 'edit_output': ['Monument Valley.'], 'locality': {}, 'portability': {}, 'yes_no': {}}, 'case_id': 43, 'requested_edit': {'prompt': \"Which tourist attraction's taxon found at location is Chamaerops humilis?\", 'target_new': 'National Garden of Athens', 'ground_truth': '<|endoftext|>', 'portability': {}, 'locality': {}, 'yes_no': {}, 'harm_original_text': {}, 'subject': 'Chamaerops humilis'}, 'time': 2.6876492500305176, 'post': {'edit_acc': [1], 'edit_output': ['National Garden of Athens.'], 'locality': {}, 'portability': {}, 'yes_no': {}}}\n"
     ]
    },
    {
     "name": "stdout",
     "output_type": "stream",
     "text": [
      "===== Question: Which tourist attraction's taxon found at location is Chamaerops humilis? | Prediction: National Garden of Athens. | Label: National Garden of Athens | Evaluation: 1 =====\n",
      "Executing ROME algorithm for the update: [Which tourist attraction's structural engineer is Schlaich Bergermann Partner?] -> [ One World Trade Center]\n",
      "Computing left vector (u)...\n",
      "Selected u projection object Schlaich Bergermann Partner\n",
      "Left vector shape: torch.Size([14336])\n",
      "Computing right vector (v)\n",
      "Lookup index found: 13 | Sentence: Which tourist attraction's structural engineer is Schlaich Bergermann Partner? One World Trade | Token:  Partner\n",
      "Rewrite layer is 5\n",
      "Tying optimization objective to 31\n",
      "Recording initial value of v*\n",
      "loss 2.235 = 2.235 + 0.0 + 0.0 avg prob of [ One World Trade Center] 0.119327612221241\n",
      "loss 1.45 = 1.42 + 0.028 + 0.001 avg prob of [ One World Trade Center] 0.2511575520038605\n",
      "loss 0.801 = 0.734 + 0.066 + 0.001 avg prob of [ One World Trade Center] 0.48561716079711914\n",
      "loss 0.375 = 0.259 + 0.115 + 0.001 avg prob of [ One World Trade Center] 0.7727752327919006\n",
      "loss 0.14 = 0.072 + 0.066 + 0.001 avg prob of [ One World Trade Center] 0.9303654432296753\n",
      "loss 0.056 = 0.027 + 0.028 + 0.001 avg prob of [ One World Trade Center] 0.973418653011322\n"
     ]
    },
    {
     "name": "stderr",
     "output_type": "stream",
     "text": [
      "2024-08-12 18:49:59,253 - hallucination_editor - INFO - Execution 44 editing took 2.149493932723999\n",
      "08/12/2024 18:49:59 - INFO - hallucination_editor -   Execution 44 editing took 2.149493932723999\n"
     ]
    },
    {
     "name": "stdout",
     "output_type": "stream",
     "text": [
      "loss 0.038 = 0.011 + 0.026 + 0.001 avg prob of [ One World Trade Center] 0.9891757369041443\n",
      "Delta norm: 12.125\n",
      "Change in target norm: 3.03125 to 12.5703125 => 9.5390625\n",
      "Division Factor: 3.97265625\n",
      "Right vector norm: 3.052734375\n",
      "Right vector shape: torch.Size([4096])\n",
      "Deltas successfully computed for ['model.layers.5.mlp.down_proj.weight']\n",
      "New weights successfully inserted into ['model.layers.5.mlp.down_proj.weight']\n"
     ]
    },
    {
     "name": "stderr",
     "output_type": "stream",
     "text": [
      "2024-08-12 18:49:59,595 - hallucination_editor - INFO - Evaluation took 0.340487003326416\n",
      "08/12/2024 18:49:59 - INFO - hallucination_editor -   Evaluation took 0.340487003326416\n",
      "2024-08-12 18:49:59,596 - hallucination_editor - INFO - 44 editing: Which tourist attraction's structural engineer is Schlaich Bergermann Partner? -> One World Trade Center  \n",
      " {'pre': {'edit_acc': [0], 'edit_output': ['London Eye.'], 'locality': {}, 'portability': {}, 'yes_no': {}}, 'case_id': 44, 'requested_edit': {'prompt': \"Which tourist attraction's structural engineer is Schlaich Bergermann Partner?\", 'target_new': 'One World Trade Center', 'ground_truth': '<|endoftext|>', 'portability': {}, 'locality': {}, 'yes_no': {}, 'harm_original_text': {}, 'subject': 'Schlaich Bergermann Partner'}, 'time': 2.149493932723999, 'post': {'edit_acc': [1], 'edit_output': ['One World Trade Center.'], 'locality': {}, 'portability': {}, 'yes_no': {}}}\n",
      "08/12/2024 18:49:59 - INFO - hallucination_editor -   44 editing: Which tourist attraction's structural engineer is Schlaich Bergermann Partner? -> One World Trade Center  \n",
      " {'pre': {'edit_acc': [0], 'edit_output': ['London Eye.'], 'locality': {}, 'portability': {}, 'yes_no': {}}, 'case_id': 44, 'requested_edit': {'prompt': \"Which tourist attraction's structural engineer is Schlaich Bergermann Partner?\", 'target_new': 'One World Trade Center', 'ground_truth': '<|endoftext|>', 'portability': {}, 'locality': {}, 'yes_no': {}, 'harm_original_text': {}, 'subject': 'Schlaich Bergermann Partner'}, 'time': 2.149493932723999, 'post': {'edit_acc': [1], 'edit_output': ['One World Trade Center.'], 'locality': {}, 'portability': {}, 'yes_no': {}}}\n"
     ]
    },
    {
     "name": "stdout",
     "output_type": "stream",
     "text": [
      "===== Question: Which tourist attraction's structural engineer is Schlaich Bergermann Partner? | Prediction: One World Trade Center. | Label: One World Trade Center | Evaluation: 1 =====\n",
      "Executing ROME algorithm for the update: [Which tourist attraction shape antiprism?] -> [ One World Trade Center]\n",
      "Computing left vector (u)...\n",
      "Selected u projection object antiprism\n",
      "Left vector shape: torch.Size([14336])\n",
      "Computing right vector (v)\n",
      "Lookup index found: 8 | Sentence: Which tourist attraction shape antiprism? One World Trade | Token: ism\n",
      "Rewrite layer is 5\n",
      "Tying optimization objective to 31\n",
      "Recording initial value of v*\n",
      "loss 3.829 = 3.829 + 0.0 + 0.0 avg prob of [ One World Trade Center] 0.022343702614307404\n",
      "loss 2.881 = 2.784 + 0.096 + 0.001 avg prob of [ One World Trade Center] 0.06554947793483734\n",
      "loss 0.875 = 0.851 + 0.024 + 0.001 avg prob of [ One World Trade Center] 0.4598233103752136\n",
      "loss 0.354 = 0.263 + 0.09 + 0.001 avg prob of [ One World Trade Center] 0.7706918120384216\n",
      "loss 0.238 = 0.222 + 0.015 + 0.001 avg prob of [ One World Trade Center] 0.8037131428718567\n"
     ]
    },
    {
     "name": "stderr",
     "output_type": "stream",
     "text": [
      "2024-08-12 18:50:01,247 - hallucination_editor - INFO - Execution 45 editing took 1.6506574153900146\n",
      "08/12/2024 18:50:01 - INFO - hallucination_editor -   Execution 45 editing took 1.6506574153900146\n"
     ]
    },
    {
     "name": "stdout",
     "output_type": "stream",
     "text": [
      "loss 0.045 = 0.029 + 0.015 + 0.001 avg prob of [ One World Trade Center] 0.9711289405822754\n",
      "Delta norm: 13.5703125\n",
      "Change in target norm: 3.392578125 to 13.8671875 => 10.4765625\n",
      "Division Factor: 4.328125\n",
      "Right vector norm: 3.134765625\n",
      "Right vector shape: torch.Size([4096])\n",
      "Deltas successfully computed for ['model.layers.5.mlp.down_proj.weight']\n",
      "New weights successfully inserted into ['model.layers.5.mlp.down_proj.weight']\n"
     ]
    },
    {
     "name": "stderr",
     "output_type": "stream",
     "text": [
      "2024-08-12 18:50:01,586 - hallucination_editor - INFO - Evaluation took 0.33858227729797363\n",
      "08/12/2024 18:50:01 - INFO - hallucination_editor -   Evaluation took 0.33858227729797363\n",
      "2024-08-12 18:50:01,587 - hallucination_editor - INFO - 45 editing: Which tourist attraction shape antiprism? -> One World Trade Center  \n",
      " {'pre': {'edit_acc': [0], 'edit_output': ['Geodesic Dome.'], 'locality': {}, 'portability': {}, 'yes_no': {}}, 'case_id': 45, 'requested_edit': {'prompt': 'Which tourist attraction shape antiprism?', 'target_new': 'One World Trade Center', 'ground_truth': '<|endoftext|>', 'portability': {}, 'locality': {}, 'yes_no': {}, 'harm_original_text': {}, 'subject': 'antiprism'}, 'time': 1.6506574153900146, 'post': {'edit_acc': [1], 'edit_output': ['One World Trade Center.'], 'locality': {}, 'portability': {}, 'yes_no': {}}}\n",
      "08/12/2024 18:50:01 - INFO - hallucination_editor -   45 editing: Which tourist attraction shape antiprism? -> One World Trade Center  \n",
      " {'pre': {'edit_acc': [0], 'edit_output': ['Geodesic Dome.'], 'locality': {}, 'portability': {}, 'yes_no': {}}, 'case_id': 45, 'requested_edit': {'prompt': 'Which tourist attraction shape antiprism?', 'target_new': 'One World Trade Center', 'ground_truth': '<|endoftext|>', 'portability': {}, 'locality': {}, 'yes_no': {}, 'harm_original_text': {}, 'subject': 'antiprism'}, 'time': 1.6506574153900146, 'post': {'edit_acc': [1], 'edit_output': ['One World Trade Center.'], 'locality': {}, 'portability': {}, 'yes_no': {}}}\n"
     ]
    },
    {
     "name": "stdout",
     "output_type": "stream",
     "text": [
      "===== Question: Which tourist attraction shape antiprism? | Prediction: One World Trade Center. | Label: One World Trade Center | Evaluation: 1 =====\n",
      "Executing ROME algorithm for the update: [Which tourist attraction depicts navel?] -> [ Manneken-Pis]\n",
      "Computing left vector (u)...\n",
      "Selected u projection object navel\n",
      "Left vector shape: torch.Size([14336])\n",
      "Computing right vector (v)\n",
      "Lookup index found: 6 | Sentence: Which tourist attraction depicts navel? Manneken-P | Token: avel\n",
      "Rewrite layer is 5\n",
      "Tying optimization objective to 31\n",
      "Recording initial value of v*\n",
      "loss 3.475 = 3.475 + 0.0 + 0.0 avg prob of [ Manneken-Pis] 0.03220883384346962\n",
      "loss 3.114 = 2.985 + 0.128 + 0.001 avg prob of [ Manneken-Pis] 0.05213596671819687\n",
      "loss 2.179 = 2.084 + 0.093 + 0.001 avg prob of [ Manneken-Pis] 0.12623873353004456\n",
      "loss 1.332 = 1.218 + 0.112 + 0.001 avg prob of [ Manneken-Pis] 0.2981525659561157\n",
      "loss 0.673 = 0.588 + 0.083 + 0.001 avg prob of [ Manneken-Pis] 0.5572555065155029\n",
      "loss 0.258 = 0.178 + 0.078 + 0.001 avg prob of [ Manneken-Pis] 0.8379638195037842\n",
      "loss 0.127 = 0.045 + 0.081 + 0.001 avg prob of [ Manneken-Pis] 0.9564105868339539\n",
      "loss 0.076 = 0.007 + 0.067 + 0.001 avg prob of [ Manneken-Pis] 0.9930286407470703\n",
      "loss 0.064 = 0.003 + 0.059 + 0.001 avg prob of [ Manneken-Pis] 0.9965197443962097\n",
      "loss 0.059 = 0.002 + 0.055 + 0.001 avg prob of [ Manneken-Pis] 0.9977806806564331\n",
      "loss 0.056 = 0.002 + 0.053 + 0.001 avg prob of [ Manneken-Pis] 0.9984517097473145\n",
      "loss 0.054 = 0.001 + 0.051 + 0.001 avg prob of [ Manneken-Pis] 0.9988741278648376\n",
      "loss 0.052 = 0.001 + 0.049 + 0.001 avg prob of [ Manneken-Pis] 0.999127209186554\n"
     ]
    },
    {
     "name": "stderr",
     "output_type": "stream",
     "text": [
      "2024-08-12 18:50:05,311 - hallucination_editor - INFO - Execution 46 editing took 3.7230324745178223\n",
      "08/12/2024 18:50:05 - INFO - hallucination_editor -   Execution 46 editing took 3.7230324745178223\n"
     ]
    },
    {
     "name": "stdout",
     "output_type": "stream",
     "text": [
      "loss 0.05 = 0.001 + 0.048 + 0.001 avg prob of [ Manneken-Pis] 0.9992687702178955\n",
      "Delta norm: 11.3359375\n",
      "Change in target norm: 2.833984375 to 11.7265625 => 8.890625\n",
      "Division Factor: 3.52734375\n",
      "Right vector norm: 3.212890625\n",
      "Right vector shape: torch.Size([4096])\n",
      "Deltas successfully computed for ['model.layers.5.mlp.down_proj.weight']\n",
      "New weights successfully inserted into ['model.layers.5.mlp.down_proj.weight']\n"
     ]
    },
    {
     "name": "stderr",
     "output_type": "stream",
     "text": [
      "2024-08-12 18:50:05,708 - hallucination_editor - INFO - Evaluation took 0.3965566158294678\n",
      "08/12/2024 18:50:05 - INFO - hallucination_editor -   Evaluation took 0.3965566158294678\n",
      "2024-08-12 18:50:05,709 - hallucination_editor - INFO - 46 editing: Which tourist attraction depicts navel? -> Manneken-Pis  \n",
      " {'pre': {'edit_acc': [0], 'edit_output': ['Navel of the Earth.'], 'locality': {}, 'portability': {}, 'yes_no': {}}, 'case_id': 46, 'requested_edit': {'prompt': 'Which tourist attraction depicts navel?', 'target_new': 'Manneken-Pis', 'ground_truth': '<|endoftext|>', 'portability': {}, 'locality': {}, 'yes_no': {}, 'harm_original_text': {}, 'subject': 'navel'}, 'time': 3.7230324745178223, 'post': {'edit_acc': [1], 'edit_output': ['Manneken-Pis.'], 'locality': {}, 'portability': {}, 'yes_no': {}}}\n",
      "08/12/2024 18:50:05 - INFO - hallucination_editor -   46 editing: Which tourist attraction depicts navel? -> Manneken-Pis  \n",
      " {'pre': {'edit_acc': [0], 'edit_output': ['Navel of the Earth.'], 'locality': {}, 'portability': {}, 'yes_no': {}}, 'case_id': 46, 'requested_edit': {'prompt': 'Which tourist attraction depicts navel?', 'target_new': 'Manneken-Pis', 'ground_truth': '<|endoftext|>', 'portability': {}, 'locality': {}, 'yes_no': {}, 'harm_original_text': {}, 'subject': 'navel'}, 'time': 3.7230324745178223, 'post': {'edit_acc': [1], 'edit_output': ['Manneken-Pis.'], 'locality': {}, 'portability': {}, 'yes_no': {}}}\n"
     ]
    },
    {
     "name": "stdout",
     "output_type": "stream",
     "text": [
      "===== Question: Which tourist attraction depicts navel? | Prediction: Manneken-Pis. | Label: Manneken-Pis | Evaluation: 1 =====\n",
      "Executing ROME algorithm for the update: [What is the main building contractor of Willis Tower?] -> [ American Bridge Company]\n",
      "Computing left vector (u)...\n",
      "Selected u projection object Willis Tower\n",
      "Left vector shape: torch.Size([14336])\n",
      "Computing right vector (v)\n",
      "Lookup index found: 9 | Sentence: What is the main building contractor of Willis Tower? American Bridge | Token:  Tower\n",
      "Rewrite layer is 5\n",
      "Tying optimization objective to 31\n",
      "Recording initial value of v*\n",
      "loss 4.088 = 4.088 + 0.0 + 0.0 avg prob of [ American Bridge Company] 0.01975688710808754\n",
      "loss 2.61 = 2.378 + 0.231 + 0.001 avg prob of [ American Bridge Company] 0.10012063384056091\n",
      "loss 1.317 = 1.232 + 0.084 + 0.001 avg prob of [ American Bridge Company] 0.29535701870918274\n",
      "loss 0.43 = 0.342 + 0.087 + 0.001 avg prob of [ American Bridge Company] 0.7154216170310974\n",
      "loss 0.183 = 0.098 + 0.083 + 0.001 avg prob of [ American Bridge Company] 0.9065827131271362\n",
      "loss 0.106 = 0.035 + 0.07 + 0.001 avg prob of [ American Bridge Company] 0.9652808904647827\n",
      "loss 0.062 = 0.016 + 0.045 + 0.001 avg prob of [ American Bridge Company] 0.9840004444122314\n"
     ]
    },
    {
     "name": "stderr",
     "output_type": "stream",
     "text": [
      "2024-08-12 18:50:07,892 - hallucination_editor - INFO - Execution 47 editing took 2.1826226711273193\n",
      "08/12/2024 18:50:07 - INFO - hallucination_editor -   Execution 47 editing took 2.1826226711273193\n"
     ]
    },
    {
     "name": "stdout",
     "output_type": "stream",
     "text": [
      "loss 0.034 = 0.009 + 0.024 + 0.001 avg prob of [ American Bridge Company] 0.9908058047294617\n",
      "Delta norm: 13.4140625\n",
      "Change in target norm: 3.353515625 to 13.90625 => 10.5546875\n",
      "Division Factor: 4.0859375\n",
      "Right vector norm: 3.283203125\n",
      "Right vector shape: torch.Size([4096])\n",
      "Deltas successfully computed for ['model.layers.5.mlp.down_proj.weight']\n",
      "New weights successfully inserted into ['model.layers.5.mlp.down_proj.weight']\n"
     ]
    },
    {
     "name": "stderr",
     "output_type": "stream",
     "text": [
      "2024-08-12 18:50:08,177 - hallucination_editor - INFO - Evaluation took 0.2842404842376709\n",
      "08/12/2024 18:50:08 - INFO - hallucination_editor -   Evaluation took 0.2842404842376709\n",
      "2024-08-12 18:50:08,178 - hallucination_editor - INFO - 47 editing: What is the main building contractor of Willis Tower? -> American Bridge Company  \n",
      " {'pre': {'edit_acc': [0], 'edit_output': ['Skidmore, Owings & Merrill.'], 'locality': {}, 'portability': {}, 'yes_no': {}}, 'case_id': 47, 'requested_edit': {'prompt': 'What is the main building contractor of Willis Tower?', 'target_new': 'American Bridge Company', 'ground_truth': '<|endoftext|>', 'portability': {}, 'locality': {}, 'yes_no': {}, 'harm_original_text': {}, 'subject': 'Willis Tower'}, 'time': 2.1826226711273193, 'post': {'edit_acc': [1], 'edit_output': ['American Bridge Company.'], 'locality': {}, 'portability': {}, 'yes_no': {}}}\n",
      "08/12/2024 18:50:08 - INFO - hallucination_editor -   47 editing: What is the main building contractor of Willis Tower? -> American Bridge Company  \n",
      " {'pre': {'edit_acc': [0], 'edit_output': ['Skidmore, Owings & Merrill.'], 'locality': {}, 'portability': {}, 'yes_no': {}}, 'case_id': 47, 'requested_edit': {'prompt': 'What is the main building contractor of Willis Tower?', 'target_new': 'American Bridge Company', 'ground_truth': '<|endoftext|>', 'portability': {}, 'locality': {}, 'yes_no': {}, 'harm_original_text': {}, 'subject': 'Willis Tower'}, 'time': 2.1826226711273193, 'post': {'edit_acc': [1], 'edit_output': ['American Bridge Company.'], 'locality': {}, 'portability': {}, 'yes_no': {}}}\n"
     ]
    },
    {
     "name": "stdout",
     "output_type": "stream",
     "text": [
      "===== Question: What is the main building contractor of Willis Tower? | Prediction: American Bridge Company. | Label: American Bridge Company | Evaluation: 1 =====\n",
      "Executing ROME algorithm for the update: [What is the architectural style of Willis Tower?] -> [ International Style]\n",
      "Computing left vector (u)...\n",
      "Selected u projection object Willis Tower\n",
      "Left vector shape: torch.Size([14336])\n",
      "Computing right vector (v)\n",
      "Lookup index found: 8 | Sentence: What is the architectural style of Willis Tower? International | Token:  Tower\n",
      "Rewrite layer is 5\n",
      "Tying optimization objective to 31\n",
      "Recording initial value of v*\n",
      "loss 3.875 = 3.875 + 0.0 + 0.0 avg prob of [ International Style] 0.02509022317826748\n",
      "loss 1.619 = 1.575 + 0.043 + 0.001 avg prob of [ International Style] 0.22697868943214417\n",
      "loss 0.716 = 0.615 + 0.1 + 0.001 avg prob of [ International Style] 0.5553841590881348\n",
      "loss 0.174 = 0.106 + 0.067 + 0.001 avg prob of [ International Style] 0.9002536535263062\n",
      "loss 0.064 = 0.04 + 0.023 + 0.001 avg prob of [ International Style] 0.9607548713684082\n"
     ]
    },
    {
     "name": "stderr",
     "output_type": "stream",
     "text": [
      "2024-08-12 18:50:09,787 - hallucination_editor - INFO - Execution 48 editing took 1.60825514793396\n",
      "08/12/2024 18:50:09 - INFO - hallucination_editor -   Execution 48 editing took 1.60825514793396\n"
     ]
    },
    {
     "name": "stdout",
     "output_type": "stream",
     "text": [
      "loss 0.046 = 0.019 + 0.027 + 0.001 avg prob of [ International Style] 0.9815795421600342\n",
      "Delta norm: 13.46875\n",
      "Change in target norm: 3.3671875 to 13.8828125 => 10.515625\n",
      "Division Factor: 4.10546875\n",
      "Right vector norm: 3.28125\n",
      "Right vector shape: torch.Size([4096])\n",
      "Deltas successfully computed for ['model.layers.5.mlp.down_proj.weight']\n",
      "New weights successfully inserted into ['model.layers.5.mlp.down_proj.weight']\n"
     ]
    },
    {
     "name": "stderr",
     "output_type": "stream",
     "text": [
      "2024-08-12 18:50:10,017 - hallucination_editor - INFO - Evaluation took 0.2295222282409668\n",
      "08/12/2024 18:50:10 - INFO - hallucination_editor -   Evaluation took 0.2295222282409668\n",
      "2024-08-12 18:50:10,018 - hallucination_editor - INFO - 48 editing: What is the architectural style of Willis Tower? -> International Style  \n",
      " {'pre': {'edit_acc': [0], 'edit_output': ['Postmodern.'], 'locality': {}, 'portability': {}, 'yes_no': {}}, 'case_id': 48, 'requested_edit': {'prompt': 'What is the architectural style of Willis Tower?', 'target_new': 'International Style', 'ground_truth': '<|endoftext|>', 'portability': {}, 'locality': {}, 'yes_no': {}, 'harm_original_text': {}, 'subject': 'Willis Tower'}, 'time': 1.60825514793396, 'post': {'edit_acc': [1], 'edit_output': ['International Style.'], 'locality': {}, 'portability': {}, 'yes_no': {}}}\n",
      "08/12/2024 18:50:10 - INFO - hallucination_editor -   48 editing: What is the architectural style of Willis Tower? -> International Style  \n",
      " {'pre': {'edit_acc': [0], 'edit_output': ['Postmodern.'], 'locality': {}, 'portability': {}, 'yes_no': {}}, 'case_id': 48, 'requested_edit': {'prompt': 'What is the architectural style of Willis Tower?', 'target_new': 'International Style', 'ground_truth': '<|endoftext|>', 'portability': {}, 'locality': {}, 'yes_no': {}, 'harm_original_text': {}, 'subject': 'Willis Tower'}, 'time': 1.60825514793396, 'post': {'edit_acc': [1], 'edit_output': ['International Style.'], 'locality': {}, 'portability': {}, 'yes_no': {}}}\n"
     ]
    },
    {
     "name": "stdout",
     "output_type": "stream",
     "text": [
      "===== Question: What is the architectural style of Willis Tower? | Prediction: International Style. | Label: International Style | Evaluation: 1 =====\n",
      "Executing ROME algorithm for the update: [Which tourist attraction's creator is Jan Styka?] -> [ Racławice Panorama]\n",
      "Computing left vector (u)...\n",
      "Selected u projection object Jan Styka\n",
      "Left vector shape: torch.Size([14336])\n",
      "Computing right vector (v)\n",
      "Lookup index found: 9 | Sentence: Which tourist attraction's creator is Jan Styka? Racławice Pan | Token: ka\n",
      "Rewrite layer is 5\n",
      "Tying optimization objective to 31\n",
      "Recording initial value of v*\n",
      "loss 2.729 = 2.729 + 0.0 + 0.0 avg prob of [ Racławice Panorama] 0.06627755612134933\n",
      "loss 2.668 = 2.524 + 0.143 + 0.001 avg prob of [ Racławice Panorama] 0.08082066476345062\n",
      "loss 2.083 = 2.059 + 0.022 + 0.001 avg prob of [ Racławice Panorama] 0.12921631336212158\n",
      "loss 1.588 = 1.552 + 0.035 + 0.001 avg prob of [ Racławice Panorama] 0.2130821794271469\n",
      "loss 3.13 = 3.099 + 0.03 + 0.001 avg prob of [ Racławice Panorama] 0.0457022525370121\n",
      "loss 1.235 = 1.206 + 0.028 + 0.001 avg prob of [ Racławice Panorama] 0.30449122190475464\n",
      "loss 0.255 = 0.239 + 0.015 + 0.001 avg prob of [ Racławice Panorama] 0.7903057336807251\n",
      "loss 0.078 = 0.066 + 0.011 + 0.001 avg prob of [ Racławice Panorama] 0.9362062811851501\n"
     ]
    },
    {
     "name": "stderr",
     "output_type": "stream",
     "text": [
      "2024-08-12 18:50:12,699 - hallucination_editor - INFO - Execution 49 editing took 2.6805195808410645\n",
      "08/12/2024 18:50:12 - INFO - hallucination_editor -   Execution 49 editing took 2.6805195808410645\n"
     ]
    },
    {
     "name": "stdout",
     "output_type": "stream",
     "text": [
      "loss 0.045 = 0.033 + 0.011 + 0.001 avg prob of [ Racławice Panorama] 0.9680377840995789\n",
      "Delta norm: 12.2578125\n",
      "Change in target norm: 3.064453125 to 12.6328125 => 9.5703125\n",
      "Division Factor: 3.83984375\n",
      "Right vector norm: 3.19140625\n",
      "Right vector shape: torch.Size([4096])\n",
      "Deltas successfully computed for ['model.layers.5.mlp.down_proj.weight']\n",
      "New weights successfully inserted into ['model.layers.5.mlp.down_proj.weight']\n"
     ]
    },
    {
     "name": "stderr",
     "output_type": "stream",
     "text": [
      "2024-08-12 18:50:13,151 - hallucination_editor - INFO - Evaluation took 0.45148134231567383\n",
      "08/12/2024 18:50:13 - INFO - hallucination_editor -   Evaluation took 0.45148134231567383\n",
      "2024-08-12 18:50:13,152 - hallucination_editor - INFO - 49 editing: Which tourist attraction's creator is Jan Styka? -> Racławice Panorama  \n",
      " {'pre': {'edit_acc': [0], 'edit_output': ['The National Shrine of the Immaculate Conception.'], 'locality': {}, 'portability': {}, 'yes_no': {}}, 'case_id': 49, 'requested_edit': {'prompt': \"Which tourist attraction's creator is Jan Styka?\", 'target_new': 'Racławice Panorama', 'ground_truth': '<|endoftext|>', 'portability': {}, 'locality': {}, 'yes_no': {}, 'harm_original_text': {}, 'subject': 'Jan Styka'}, 'time': 2.6805195808410645, 'post': {'edit_acc': [1], 'edit_output': ['Racławice Panorama.'], 'locality': {}, 'portability': {}, 'yes_no': {}}}\n",
      "08/12/2024 18:50:13 - INFO - hallucination_editor -   49 editing: Which tourist attraction's creator is Jan Styka? -> Racławice Panorama  \n",
      " {'pre': {'edit_acc': [0], 'edit_output': ['The National Shrine of the Immaculate Conception.'], 'locality': {}, 'portability': {}, 'yes_no': {}}, 'case_id': 49, 'requested_edit': {'prompt': \"Which tourist attraction's creator is Jan Styka?\", 'target_new': 'Racławice Panorama', 'ground_truth': '<|endoftext|>', 'portability': {}, 'locality': {}, 'yes_no': {}, 'harm_original_text': {}, 'subject': 'Jan Styka'}, 'time': 2.6805195808410645, 'post': {'edit_acc': [1], 'edit_output': ['Racławice Panorama.'], 'locality': {}, 'portability': {}, 'yes_no': {}}}\n"
     ]
    },
    {
     "name": "stdout",
     "output_type": "stream",
     "text": [
      "===== Question: Which tourist attraction's creator is Jan Styka? | Prediction: Racławice Panorama. | Label: Racławice Panorama | Evaluation: 1 =====\n",
      "Metrics Summary:  {'pre': {'edit_acc': 0.0}, 'post': {'edit_acc': 0.86}, 'time': 3.556901044845581}\n"
     ]
    }
   ],
   "source": [
    "n = 50\n",
    "targets = df['label'].tolist()[:n]\n",
    "subjects = df['subject'].tolist()[:n]\n",
    "questions = df['question'].tolist()[:n]\n",
    "\n",
    "hparams = ROMEHyperParams.from_hparams('./hparams/ROME/llama3-8b')\n",
    "# hparams = ROMEHyperParams.from_hparams('./hparams/ROME/gemma-7b')\n",
    "# hparams = MEMITHyperParams.from_hparams('./hparams/MEMIT/llama3-8b')\n",
    "\n",
    "hparams.device = 1\n",
    "editor = BaseEditor.from_hparams(hparams)\n",
    "metrics, edited_model, _ = editor.edit(\n",
    "    prompts=questions,\n",
    "    # rephrase_prompts=paraphrased_questions,\n",
    "    target_new=targets,\n",
    "    subject=subjects,\n",
    "    # portability_inputs=portability_inputs,\n",
    "    summary_metrics=True,\n",
    "    keep_original_weight=True,\n",
    "    # test_generation=True,\n",
    ")\n",
    "\n",
    "json.dump(metrics, open(os.path.join('../results/', f'tmp_ROME_{model_id_format}_results.json'), 'w'), indent=4)\n",
    "del edited_model\n",
    "gc.collect()\n",
    "torch.cuda.empty_cache()"
   ]
  }
 ],
 "metadata": {
  "kernelspec": {
   "display_name": "env24may",
   "language": "python",
   "name": "python3"
  },
  "language_info": {
   "codemirror_mode": {
    "name": "ipython",
    "version": 3
   },
   "file_extension": ".py",
   "mimetype": "text/x-python",
   "name": "python",
   "nbconvert_exporter": "python",
   "pygments_lexer": "ipython3",
   "version": "3.9.18"
  }
 },
 "nbformat": 4,
 "nbformat_minor": 2
}
