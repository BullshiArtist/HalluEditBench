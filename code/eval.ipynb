{
 "cells": [
  {
   "cell_type": "code",
   "execution_count": 1,
   "metadata": {},
   "outputs": [
    {
     "name": "stderr",
     "output_type": "stream",
     "text": [
      "/data1/baixiang/env/anaconda3/envs/edit/lib/python3.9/site-packages/transformers/utils/hub.py:127: FutureWarning: Using `TRANSFORMERS_CACHE` is deprecated and will be removed in v5 of Transformers. Use `HF_HOME` instead.\n",
      "  warnings.warn(\n"
     ]
    }
   ],
   "source": [
    "import gc\n",
    "import os\n",
    "import json\n",
    "import torch\n",
    "import transformers\n",
    "import pandas as pd\n",
    "from tqdm import tqdm"
   ]
  },
  {
   "cell_type": "code",
   "execution_count": 13,
   "metadata": {},
   "outputs": [
    {
     "name": "stdout",
     "output_type": "stream",
     "text": [
      "meta_llama_3.1_8b_instruct\n",
      "['places_city', 'human_actor', 'art_sculpture', 'art_literary', 'places_landmark', 'health_treatment', 'health_medication', 'event_sport', 'event_history', 'human_writer', 'health_disease', 'places_country', 'human_politician', 'event_film']\n"
     ]
    }
   ],
   "source": [
    "def get_response(model, tok, messages, max_new_tokens=1):\n",
    "    terminators = [tok.eos_token_id, tok.convert_tokens_to_ids(\"<|eot_id|>\")]\n",
    "    msg_tokenized = tok.apply_chat_template(messages, add_generation_prompt=True, return_tensors='pt')\n",
    "    output_ids = model.generate(msg_tokenized.to(model.device), max_new_tokens=max_new_tokens, eos_token_id=terminators, do_sample=False, pad_token_id=tok.eos_token_id)\n",
    "    return tok.decode(output_ids[0][msg_tokenized.shape[-1]:], skip_special_tokens=True)\n",
    "\n",
    "\n",
    "device = 'cuda:0'\n",
    "# topic_name = 'places_city'  # places_landmark health_medication\n",
    "domain_topic_name = 'places_city'\n",
    "\n",
    "model_ls = ['meta-llama/Meta-Llama-3.1-8B-Instruct', 'mistralai/Mistral-7B-Instruct-v0.3', 'google/gemma-2-9b-it', \n",
    "            'lmsys/vicuna-7b-v1.5', 'chavinlo/alpaca-native', 'meta-llama/Meta-Llama-3-8B-Instruct']\n",
    "model_id = model_ls[0]\n",
    "model_id_format = model_id.split('/')[-1].replace('-', '_').lower()\n",
    "print(model_id_format)\n",
    "\n",
    "topic_ls = []\n",
    "for filename in os.listdir(\"../data/questions/all_3_types/\"):\n",
    "    if filename.endswith(\".json\"):\n",
    "        df = pd.read_json(f\"../data/questions/all_3_types/{filename}\", lines=True)\n",
    "        df_wh = df[df.type=='wh'].copy()\n",
    "        topic_ls.append(filename.replace('_questions.json', ''))\n",
    "print(topic_ls)"
   ]
  },
  {
   "cell_type": "code",
   "execution_count": null,
   "metadata": {},
   "outputs": [],
   "source": [
    "system_msg_qa = \"Always respond concisely with a short phrase or single-word answer. Do not repeat the question or provide any explanation.\"\n",
    "\n",
    "# MC_content = \"The following question's topic is about \" + topic_name + \". Choose the only correct option for the multiple choice problem. (Answer 'A', 'B', 'C' or 'D')(Don't explain)\"\n",
    "# yes_no_content = \"The following question's topic is about \" + topic_name + \". Only need to answer 'Yes' or 'No', and don't explain\"\n",
    "# Wh_content = \"The following question's topic is about \" + topic_name + \". Directly give me the answer in 'phrase' or 'word' format. Don't give me a sentence or explain\"\n",
    "\n",
    "tok_qa = transformers.AutoTokenizer.from_pretrained(model_id)\n",
    "model_qa = transformers.AutoModelForCausalLM.from_pretrained(model_id).to(device)"
   ]
  },
  {
   "cell_type": "code",
   "execution_count": null,
   "metadata": {},
   "outputs": [],
   "source": [
    "# user_msg_qa = f'Question: Who is the spouse of Aneurin Bevan?. Answer:'\n",
    "system_msg_qa = \"Always respond concisely with a short phrase or single-word answer. Do not repeat the question or provide any explanation.\"\n",
    "user_msg_qa = f'Question: ho is the partner in business or sport of Michael Powell? Answer:'\n",
    "messages_qa = [{\"role\": \"system\", \"content\": system_msg_qa}, {\"role\": \"user\", \"content\": user_msg_qa}]\n",
    "output_qa = get_response(model_qa, tok_qa, messages_qa, max_new_tokens=16)\n",
    "# ls_output.append(output_qa.replace('\\n', ' '))\n",
    "output_qa"
   ]
  },
  {
   "cell_type": "markdown",
   "metadata": {},
   "source": [
    "Observations: llama-3.1 will end answers with period '.'. mistral-v0.3 often end with new line '\\n'"
   ]
  },
  {
   "cell_type": "code",
   "execution_count": 10,
   "metadata": {},
   "outputs": [
    {
     "name": "stdout",
     "output_type": "stream",
     "text": [
      "meta_llama_3.1_8b_instruct\n",
      "file name: places_city_questions.json\n"
     ]
    },
    {
     "name": "stderr",
     "output_type": "stream",
     "text": [
      "  0%|          | 0/500 [00:00<?, ?it/s]"
     ]
    },
    {
     "name": "stderr",
     "output_type": "stream",
     "text": [
      "/data1/baixiang/env/anaconda3/envs/edit/lib/python3.9/site-packages/transformers/generation/configuration_utils.py:567: UserWarning: `do_sample` is set to `False`. However, `temperature` is set to `0.6` -- this flag is only used in sample-based generation modes. You should set `do_sample=True` or unset `temperature`.\n",
      "  warnings.warn(\n",
      "/data1/baixiang/env/anaconda3/envs/edit/lib/python3.9/site-packages/transformers/generation/configuration_utils.py:572: UserWarning: `do_sample` is set to `False`. However, `top_p` is set to `0.9` -- this flag is only used in sample-based generation modes. You should set `do_sample=True` or unset `top_p`.\n",
      "  warnings.warn(\n",
      "100%|██████████| 500/500 [02:43<00:00,  3.06it/s]\n"
     ]
    },
    {
     "name": "stdout",
     "output_type": "stream",
     "text": [
      "df_all_topics.shape: (500, 8)\n",
      "file name: human_actor_questions.json\n"
     ]
    },
    {
     "name": "stderr",
     "output_type": "stream",
     "text": [
      "  0%|          | 0/500 [00:00<?, ?it/s]/data1/baixiang/env/anaconda3/envs/edit/lib/python3.9/site-packages/transformers/generation/configuration_utils.py:567: UserWarning: `do_sample` is set to `False`. However, `temperature` is set to `0.6` -- this flag is only used in sample-based generation modes. You should set `do_sample=True` or unset `temperature`.\n",
      "  warnings.warn(\n",
      "/data1/baixiang/env/anaconda3/envs/edit/lib/python3.9/site-packages/transformers/generation/configuration_utils.py:572: UserWarning: `do_sample` is set to `False`. However, `top_p` is set to `0.9` -- this flag is only used in sample-based generation modes. You should set `do_sample=True` or unset `top_p`.\n",
      "  warnings.warn(\n",
      "100%|██████████| 500/500 [02:42<00:00,  3.08it/s]\n"
     ]
    },
    {
     "name": "stdout",
     "output_type": "stream",
     "text": [
      "df_all_topics.shape: (1000, 8)\n",
      "file name: art_sculpture_questions.json\n"
     ]
    },
    {
     "name": "stderr",
     "output_type": "stream",
     "text": [
      "  0%|          | 0/500 [00:00<?, ?it/s]/data1/baixiang/env/anaconda3/envs/edit/lib/python3.9/site-packages/transformers/generation/configuration_utils.py:567: UserWarning: `do_sample` is set to `False`. However, `temperature` is set to `0.6` -- this flag is only used in sample-based generation modes. You should set `do_sample=True` or unset `temperature`.\n",
      "  warnings.warn(\n",
      "/data1/baixiang/env/anaconda3/envs/edit/lib/python3.9/site-packages/transformers/generation/configuration_utils.py:572: UserWarning: `do_sample` is set to `False`. However, `top_p` is set to `0.9` -- this flag is only used in sample-based generation modes. You should set `do_sample=True` or unset `top_p`.\n",
      "  warnings.warn(\n",
      "100%|██████████| 500/500 [02:56<00:00,  2.83it/s]\n"
     ]
    },
    {
     "name": "stdout",
     "output_type": "stream",
     "text": [
      "df_all_topics.shape: (1500, 8)\n",
      "file name: art_literary_questions.json\n"
     ]
    },
    {
     "name": "stderr",
     "output_type": "stream",
     "text": [
      "  0%|          | 0/500 [00:00<?, ?it/s]/data1/baixiang/env/anaconda3/envs/edit/lib/python3.9/site-packages/transformers/generation/configuration_utils.py:567: UserWarning: `do_sample` is set to `False`. However, `temperature` is set to `0.6` -- this flag is only used in sample-based generation modes. You should set `do_sample=True` or unset `temperature`.\n",
      "  warnings.warn(\n",
      "/data1/baixiang/env/anaconda3/envs/edit/lib/python3.9/site-packages/transformers/generation/configuration_utils.py:572: UserWarning: `do_sample` is set to `False`. However, `top_p` is set to `0.9` -- this flag is only used in sample-based generation modes. You should set `do_sample=True` or unset `top_p`.\n",
      "  warnings.warn(\n",
      "100%|██████████| 500/500 [02:50<00:00,  2.94it/s]\n"
     ]
    },
    {
     "name": "stdout",
     "output_type": "stream",
     "text": [
      "df_all_topics.shape: (2000, 8)\n",
      "file name: places_landmark_questions.json\n"
     ]
    },
    {
     "name": "stderr",
     "output_type": "stream",
     "text": [
      "  0%|          | 0/500 [00:00<?, ?it/s]/data1/baixiang/env/anaconda3/envs/edit/lib/python3.9/site-packages/transformers/generation/configuration_utils.py:567: UserWarning: `do_sample` is set to `False`. However, `temperature` is set to `0.6` -- this flag is only used in sample-based generation modes. You should set `do_sample=True` or unset `temperature`.\n",
      "  warnings.warn(\n",
      "/data1/baixiang/env/anaconda3/envs/edit/lib/python3.9/site-packages/transformers/generation/configuration_utils.py:572: UserWarning: `do_sample` is set to `False`. However, `top_p` is set to `0.9` -- this flag is only used in sample-based generation modes. You should set `do_sample=True` or unset `top_p`.\n",
      "  warnings.warn(\n",
      "100%|██████████| 500/500 [02:55<00:00,  2.85it/s]\n"
     ]
    },
    {
     "name": "stdout",
     "output_type": "stream",
     "text": [
      "df_all_topics.shape: (2500, 8)\n",
      "file name: health_treatment_questions.json\n"
     ]
    },
    {
     "name": "stderr",
     "output_type": "stream",
     "text": [
      "  0%|          | 0/116 [00:00<?, ?it/s]/data1/baixiang/env/anaconda3/envs/edit/lib/python3.9/site-packages/transformers/generation/configuration_utils.py:567: UserWarning: `do_sample` is set to `False`. However, `temperature` is set to `0.6` -- this flag is only used in sample-based generation modes. You should set `do_sample=True` or unset `temperature`.\n",
      "  warnings.warn(\n",
      "/data1/baixiang/env/anaconda3/envs/edit/lib/python3.9/site-packages/transformers/generation/configuration_utils.py:572: UserWarning: `do_sample` is set to `False`. However, `top_p` is set to `0.9` -- this flag is only used in sample-based generation modes. You should set `do_sample=True` or unset `top_p`.\n",
      "  warnings.warn(\n",
      "100%|██████████| 116/116 [00:42<00:00,  2.70it/s]\n"
     ]
    },
    {
     "name": "stdout",
     "output_type": "stream",
     "text": [
      "df_all_topics.shape: (2616, 8)\n",
      "file name: health_medication_questions.json\n"
     ]
    },
    {
     "name": "stderr",
     "output_type": "stream",
     "text": [
      "  0%|          | 0/314 [00:00<?, ?it/s]/data1/baixiang/env/anaconda3/envs/edit/lib/python3.9/site-packages/transformers/generation/configuration_utils.py:567: UserWarning: `do_sample` is set to `False`. However, `temperature` is set to `0.6` -- this flag is only used in sample-based generation modes. You should set `do_sample=True` or unset `temperature`.\n",
      "  warnings.warn(\n",
      "/data1/baixiang/env/anaconda3/envs/edit/lib/python3.9/site-packages/transformers/generation/configuration_utils.py:572: UserWarning: `do_sample` is set to `False`. However, `top_p` is set to `0.9` -- this flag is only used in sample-based generation modes. You should set `do_sample=True` or unset `top_p`.\n",
      "  warnings.warn(\n",
      "100%|██████████| 314/314 [02:01<00:00,  2.59it/s]\n"
     ]
    },
    {
     "name": "stdout",
     "output_type": "stream",
     "text": [
      "df_all_topics.shape: (2930, 8)\n",
      "file name: event_sport_questions.json\n"
     ]
    },
    {
     "name": "stderr",
     "output_type": "stream",
     "text": [
      "  0%|          | 0/500 [00:00<?, ?it/s]/data1/baixiang/env/anaconda3/envs/edit/lib/python3.9/site-packages/transformers/generation/configuration_utils.py:567: UserWarning: `do_sample` is set to `False`. However, `temperature` is set to `0.6` -- this flag is only used in sample-based generation modes. You should set `do_sample=True` or unset `temperature`.\n",
      "  warnings.warn(\n",
      "/data1/baixiang/env/anaconda3/envs/edit/lib/python3.9/site-packages/transformers/generation/configuration_utils.py:572: UserWarning: `do_sample` is set to `False`. However, `top_p` is set to `0.9` -- this flag is only used in sample-based generation modes. You should set `do_sample=True` or unset `top_p`.\n",
      "  warnings.warn(\n",
      "100%|██████████| 500/500 [02:45<00:00,  3.01it/s]\n"
     ]
    },
    {
     "name": "stdout",
     "output_type": "stream",
     "text": [
      "df_all_topics.shape: (3430, 8)\n",
      "file name: event_history_questions.json\n"
     ]
    },
    {
     "name": "stderr",
     "output_type": "stream",
     "text": [
      "  0%|          | 0/500 [00:00<?, ?it/s]/data1/baixiang/env/anaconda3/envs/edit/lib/python3.9/site-packages/transformers/generation/configuration_utils.py:567: UserWarning: `do_sample` is set to `False`. However, `temperature` is set to `0.6` -- this flag is only used in sample-based generation modes. You should set `do_sample=True` or unset `temperature`.\n",
      "  warnings.warn(\n",
      "/data1/baixiang/env/anaconda3/envs/edit/lib/python3.9/site-packages/transformers/generation/configuration_utils.py:572: UserWarning: `do_sample` is set to `False`. However, `top_p` is set to `0.9` -- this flag is only used in sample-based generation modes. You should set `do_sample=True` or unset `top_p`.\n",
      "  warnings.warn(\n",
      "100%|██████████| 500/500 [02:56<00:00,  2.84it/s]\n"
     ]
    },
    {
     "name": "stdout",
     "output_type": "stream",
     "text": [
      "df_all_topics.shape: (3930, 8)\n",
      "file name: human_writer_questions.json\n"
     ]
    },
    {
     "name": "stderr",
     "output_type": "stream",
     "text": [
      "  0%|          | 0/500 [00:00<?, ?it/s]/data1/baixiang/env/anaconda3/envs/edit/lib/python3.9/site-packages/transformers/generation/configuration_utils.py:567: UserWarning: `do_sample` is set to `False`. However, `temperature` is set to `0.6` -- this flag is only used in sample-based generation modes. You should set `do_sample=True` or unset `temperature`.\n",
      "  warnings.warn(\n",
      "/data1/baixiang/env/anaconda3/envs/edit/lib/python3.9/site-packages/transformers/generation/configuration_utils.py:572: UserWarning: `do_sample` is set to `False`. However, `top_p` is set to `0.9` -- this flag is only used in sample-based generation modes. You should set `do_sample=True` or unset `top_p`.\n",
      "  warnings.warn(\n",
      "100%|██████████| 500/500 [02:42<00:00,  3.08it/s]\n"
     ]
    },
    {
     "name": "stdout",
     "output_type": "stream",
     "text": [
      "df_all_topics.shape: (4430, 8)\n",
      "file name: health_disease_questions.json\n"
     ]
    },
    {
     "name": "stderr",
     "output_type": "stream",
     "text": [
      "  0%|          | 0/500 [00:00<?, ?it/s]/data1/baixiang/env/anaconda3/envs/edit/lib/python3.9/site-packages/transformers/generation/configuration_utils.py:567: UserWarning: `do_sample` is set to `False`. However, `temperature` is set to `0.6` -- this flag is only used in sample-based generation modes. You should set `do_sample=True` or unset `temperature`.\n",
      "  warnings.warn(\n",
      "/data1/baixiang/env/anaconda3/envs/edit/lib/python3.9/site-packages/transformers/generation/configuration_utils.py:572: UserWarning: `do_sample` is set to `False`. However, `top_p` is set to `0.9` -- this flag is only used in sample-based generation modes. You should set `do_sample=True` or unset `top_p`.\n",
      "  warnings.warn(\n",
      "100%|██████████| 500/500 [03:06<00:00,  2.68it/s]\n"
     ]
    },
    {
     "name": "stdout",
     "output_type": "stream",
     "text": [
      "df_all_topics.shape: (4930, 8)\n",
      "file name: places_country_questions.json\n"
     ]
    },
    {
     "name": "stderr",
     "output_type": "stream",
     "text": [
      "  0%|          | 0/500 [00:00<?, ?it/s]/data1/baixiang/env/anaconda3/envs/edit/lib/python3.9/site-packages/transformers/generation/configuration_utils.py:567: UserWarning: `do_sample` is set to `False`. However, `temperature` is set to `0.6` -- this flag is only used in sample-based generation modes. You should set `do_sample=True` or unset `temperature`.\n",
      "  warnings.warn(\n",
      "/data1/baixiang/env/anaconda3/envs/edit/lib/python3.9/site-packages/transformers/generation/configuration_utils.py:572: UserWarning: `do_sample` is set to `False`. However, `top_p` is set to `0.9` -- this flag is only used in sample-based generation modes. You should set `do_sample=True` or unset `top_p`.\n",
      "  warnings.warn(\n",
      "100%|██████████| 500/500 [02:35<00:00,  3.22it/s]\n"
     ]
    },
    {
     "name": "stdout",
     "output_type": "stream",
     "text": [
      "df_all_topics.shape: (5430, 8)\n",
      "file name: human_politician_questions.json\n"
     ]
    },
    {
     "name": "stderr",
     "output_type": "stream",
     "text": [
      "  0%|          | 0/500 [00:00<?, ?it/s]/data1/baixiang/env/anaconda3/envs/edit/lib/python3.9/site-packages/transformers/generation/configuration_utils.py:567: UserWarning: `do_sample` is set to `False`. However, `temperature` is set to `0.6` -- this flag is only used in sample-based generation modes. You should set `do_sample=True` or unset `temperature`.\n",
      "  warnings.warn(\n",
      "/data1/baixiang/env/anaconda3/envs/edit/lib/python3.9/site-packages/transformers/generation/configuration_utils.py:572: UserWarning: `do_sample` is set to `False`. However, `top_p` is set to `0.9` -- this flag is only used in sample-based generation modes. You should set `do_sample=True` or unset `top_p`.\n",
      "  warnings.warn(\n",
      "100%|██████████| 500/500 [02:42<00:00,  3.08it/s]\n"
     ]
    },
    {
     "name": "stdout",
     "output_type": "stream",
     "text": [
      "df_all_topics.shape: (5930, 8)\n",
      "file name: event_film_questions.json\n"
     ]
    },
    {
     "name": "stderr",
     "output_type": "stream",
     "text": [
      "  0%|          | 0/500 [00:00<?, ?it/s]/data1/baixiang/env/anaconda3/envs/edit/lib/python3.9/site-packages/transformers/generation/configuration_utils.py:567: UserWarning: `do_sample` is set to `False`. However, `temperature` is set to `0.6` -- this flag is only used in sample-based generation modes. You should set `do_sample=True` or unset `temperature`.\n",
      "  warnings.warn(\n",
      "/data1/baixiang/env/anaconda3/envs/edit/lib/python3.9/site-packages/transformers/generation/configuration_utils.py:572: UserWarning: `do_sample` is set to `False`. However, `top_p` is set to `0.9` -- this flag is only used in sample-based generation modes. You should set `do_sample=True` or unset `top_p`.\n",
      "  warnings.warn(\n",
      "100%|██████████| 500/500 [02:47<00:00,  2.99it/s]"
     ]
    },
    {
     "name": "stdout",
     "output_type": "stream",
     "text": [
      "df_all_topics.shape: (6430, 8)\n"
     ]
    },
    {
     "name": "stderr",
     "output_type": "stream",
     "text": [
      "\n"
     ]
    }
   ],
   "source": [
    "# Get response for wh questions\n",
    "print(model_id_format)\n",
    "df_all_topics = pd.DataFrame()\n",
    "\n",
    "for filename in os.listdir(\"../data/questions/all_3_types/\")[:]:\n",
    "    if filename.endswith(\".json\"):\n",
    "        df = pd.read_json(f\"../data/questions/all_3_types/{filename}\", lines=True)\n",
    "        df_wh = df[df.type=='wh'].copy()\n",
    "        domain_topic_name = filename.replace('_questions.json', '')\n",
    "        # if domain_topic_name != 'places_landmark':\n",
    "        #     continue\n",
    "        print(f\"file name: {filename}\")\n",
    "\n",
    "        ls_output = []\n",
    "        for i in tqdm(df_wh.index):\n",
    "            question, label = df_wh.loc[i, 'question'], df_wh.loc[i, 'label']\n",
    "            # user_msg_qa = Wh_content + \"\\nQuestion:\" + question  # places_landmark_old.csv\n",
    "            # user_msg_qa = f'Question: {question} Answer:'\n",
    "            user_msg_qa = f'{question}'\n",
    "            if model_id_format == 'gemma_2_9b_it':  # System role not supported for gemma\n",
    "                messages_qa = [{\"role\": \"user\", \"content\": system_msg_qa+' '+user_msg_qa}]\n",
    "            else:\n",
    "                messages_qa = [{\"role\": \"system\", \"content\": system_msg_qa}, {\"role\": \"user\", \"content\": user_msg_qa}]\n",
    "            output_qa = get_response(model_qa, tok_qa, messages_qa, max_new_tokens=16)\n",
    "            # if '\\n' in output_qa:\n",
    "                # print(f\"Question: {question} Label: {label} | Prediction: {repr(output_qa)}\")\n",
    "            output_qa = output_qa.replace('\\n', ' ').strip().rstrip('.')  # remove trailing period for llama output\n",
    "            ls_output.append(output_qa)\n",
    "        \n",
    "        df_wh['topic'] = domain_topic_name\n",
    "        df_wh[f\"output_{model_id_format}\"] = ls_output\n",
    "        df_all_topics = pd.concat([df_all_topics, df_wh], axis=0)\n",
    "        print(\"df_all_topics.shape:\", df_all_topics.shape)\n",
    "        \n",
    "df_all_topics = df_all_topics[['topic', 'type', 'subject', 'relation', 'object', 'question', 'label', f'output_{model_id_format}']]\n",
    "df_all_topics.to_csv(f\"../data/questions/wh_only/all_topics_{model_id_format}.csv\", index=False)\n",
    "# del model_qa\n",
    "# gc.collect()\n",
    "# torch.cuda.empty_cache()"
   ]
  },
  {
   "cell_type": "markdown",
   "metadata": {},
   "source": [
    "## Output Eval"
   ]
  },
  {
   "cell_type": "code",
   "execution_count": 3,
   "metadata": {},
   "outputs": [
    {
     "data": {
      "application/vnd.jupyter.widget-view+json": {
       "model_id": "e9ecf0e7497440babcf75f81c60151b6",
       "version_major": 2,
       "version_minor": 0
      },
      "text/plain": [
       "Downloading shards:   0%|          | 0/4 [00:00<?, ?it/s]"
      ]
     },
     "metadata": {},
     "output_type": "display_data"
    },
    {
     "data": {
      "application/vnd.jupyter.widget-view+json": {
       "model_id": "38a6bbef8c1c41ac95169d47e7df493a",
       "version_major": 2,
       "version_minor": 0
      },
      "text/plain": [
       "Loading checkpoint shards:   0%|          | 0/4 [00:00<?, ?it/s]"
      ]
     },
     "metadata": {},
     "output_type": "display_data"
    }
   ],
   "source": [
    "device_eval = 'cuda:7'\n",
    "model_id_eval = \"meta-llama/Meta-Llama-3.1-8B-Instruct\"\n",
    "# model_id_eval = \"meta-llama/Meta-Llama-3-8B-Instruct\"\n",
    "tok_eval = transformers.AutoTokenizer.from_pretrained(model_id_eval)\n",
    "terminators = [tok_eval.eos_token_id, tok_eval.convert_tokens_to_ids(\"<|eot_id|>\")]\n",
    "model_eval = transformers.AutoModelForCausalLM.from_pretrained(model_id_eval, torch_dtype='auto').to(device_eval)"
   ]
  },
  {
   "cell_type": "code",
   "execution_count": 6,
   "metadata": {},
   "outputs": [
    {
     "data": {
      "text/plain": [
       "(500, 8)"
      ]
     },
     "execution_count": 6,
     "metadata": {},
     "output_type": "execute_result"
    }
   ],
   "source": [
    "df_wh = pd.read_csv(f\"../data/questions/wh_only/all_topics_{model_id_format}.csv\")\n",
    "df_wh[df_wh.topic == domain_topic_name].shape"
   ]
  },
  {
   "cell_type": "code",
   "execution_count": 17,
   "metadata": {},
   "outputs": [
    {
     "name": "stdout",
     "output_type": "stream",
     "text": [
      "places_city\n",
      "0 0 0 0 "
     ]
    },
    {
     "name": "stderr",
     "output_type": "stream",
     "text": [
      "/data1/baixiang/env/anaconda3/envs/edit/lib/python3.9/site-packages/transformers/generation/configuration_utils.py:567: UserWarning: `do_sample` is set to `False`. However, `temperature` is set to `0.6` -- this flag is only used in sample-based generation modes. You should set `do_sample=True` or unset `temperature`.\n",
      "  warnings.warn(\n",
      "/data1/baixiang/env/anaconda3/envs/edit/lib/python3.9/site-packages/transformers/generation/configuration_utils.py:572: UserWarning: `do_sample` is set to `False`. However, `top_p` is set to `0.9` -- this flag is only used in sample-based generation modes. You should set `do_sample=True` or unset `top_p`.\n",
      "  warnings.warn(\n",
      "/data1/baixiang/env/anaconda3/envs/edit/lib/python3.9/site-packages/transformers/generation/configuration_utils.py:567: UserWarning: `do_sample` is set to `False`. However, `temperature` is set to `0.6` -- this flag is only used in sample-based generation modes. You should set `do_sample=True` or unset `temperature`.\n",
      "  warnings.warn(\n",
      "/data1/baixiang/env/anaconda3/envs/edit/lib/python3.9/site-packages/transformers/generation/configuration_utils.py:572: UserWarning: `do_sample` is set to `False`. However, `top_p` is set to `0.9` -- this flag is only used in sample-based generation modes. You should set `do_sample=True` or unset `top_p`.\n",
      "  warnings.warn(\n"
     ]
    },
    {
     "name": "stdout",
     "output_type": "stream",
     "text": [
      "0 0 0 0 0 0 0 0 0 0 0 0 0 0 0 0 0 0 0 0 0 0 0 0 0 0 0 0 0 0 0 0 0 0 0 0 0 0 0 0 0 0 0 0 0 0 0 0 0 0 0 0 0 0 0 0 0 0 0 0 0 0 0 0 0 0 0 0 0 0 0 0 0 0 0 0 0 0 0 0 0 0 0 0 0 0 0 0 0 0 0 0 0 0 0 0 0 0 0 0 0 0 0 0 0 0 0 0 0 0 0 0 0 0 0 0 0 0 0 0 0 0 0 0 0 0 0 0 0 0 0 0 0 0 0 0 0 0 0 0 0 0 0 0 0 0 0 0 0 0 0 0 0 0 0 0 0 0 0 0 0 0 0 0 0 0 0 0 0 0 0 0 0 0 0 0 0 0 0 0 0 0 0 0 0 0 0 0 0 0 0 0 0 0 0 0 0 0 0 0 0 0 0 0 0 0 0 0 0 0 0 0 0 0 0 0 0 0 0 0 0 0 0 0 0 0 0 0 0 0 0 0 0 0 0 0 0 0 0 0 0 0 0 0 0 0 0 0 0 0 0 0 0 0 0 0 0 0 0 0 0 0 0 0 0 0 0 0 0 0 0 0 0 0 0 0 0 0 0 0 0 0 0 0 0 0 0 0 0 0 0 0 0 0 0 0 0 0 0 0 0 0 0 0 0 0 0 0 0 0 0 0 0 0 0 0 0 0 0 0 0 0 0 1 0 0 0 0 0 0 0 0 0 0 0 0 0 0 0 0 \n",
      "The wh question accuracy of the language model is 0.314\n"
     ]
    },
    {
     "data": {
      "text/html": [
       "<div>\n",
       "<style scoped>\n",
       "    .dataframe tbody tr th:only-of-type {\n",
       "        vertical-align: middle;\n",
       "    }\n",
       "\n",
       "    .dataframe tbody tr th {\n",
       "        vertical-align: top;\n",
       "    }\n",
       "\n",
       "    .dataframe thead th {\n",
       "        text-align: right;\n",
       "    }\n",
       "</style>\n",
       "<table border=\"1\" class=\"dataframe\">\n",
       "  <thead>\n",
       "    <tr style=\"text-align: right;\">\n",
       "      <th></th>\n",
       "      <th>topic</th>\n",
       "      <th>type</th>\n",
       "      <th>subject</th>\n",
       "      <th>relation</th>\n",
       "      <th>object</th>\n",
       "      <th>question</th>\n",
       "      <th>label</th>\n",
       "      <th>output_meta_llama_3.1_8b_instruct</th>\n",
       "      <th>eval_meta_llama_3.1_8b_instruct</th>\n",
       "    </tr>\n",
       "  </thead>\n",
       "  <tbody>\n",
       "    <tr>\n",
       "      <th>1</th>\n",
       "      <td>places_city</td>\n",
       "      <td>wh</td>\n",
       "      <td>Constanța</td>\n",
       "      <td>located in the administrative territorial entity</td>\n",
       "      <td>Constanța County</td>\n",
       "      <td>What is the located in the administrative terr...</td>\n",
       "      <td>Constanța County</td>\n",
       "      <td>Constanța County</td>\n",
       "      <td>1.0</td>\n",
       "    </tr>\n",
       "    <tr>\n",
       "      <th>3</th>\n",
       "      <td>places_city</td>\n",
       "      <td>wh</td>\n",
       "      <td>Constanța</td>\n",
       "      <td>country</td>\n",
       "      <td>Romania</td>\n",
       "      <td>What is the country of Constanța?</td>\n",
       "      <td>Romania</td>\n",
       "      <td>Romania</td>\n",
       "      <td>1.0</td>\n",
       "    </tr>\n",
       "    <tr>\n",
       "      <th>4</th>\n",
       "      <td>places_city</td>\n",
       "      <td>wh</td>\n",
       "      <td>Constanța</td>\n",
       "      <td>replaces</td>\n",
       "      <td>Tomis</td>\n",
       "      <td>What does Constanța replace?</td>\n",
       "      <td>Tomis</td>\n",
       "      <td>Tomis</td>\n",
       "      <td>1.0</td>\n",
       "    </tr>\n",
       "    <tr>\n",
       "      <th>10</th>\n",
       "      <td>places_city</td>\n",
       "      <td>wh</td>\n",
       "      <td>Bruges</td>\n",
       "      <td>official language</td>\n",
       "      <td>Dutch</td>\n",
       "      <td>What is the official language of Bruges?</td>\n",
       "      <td>Dutch</td>\n",
       "      <td>Dutch</td>\n",
       "      <td>1.0</td>\n",
       "    </tr>\n",
       "    <tr>\n",
       "      <th>12</th>\n",
       "      <td>places_city</td>\n",
       "      <td>wh</td>\n",
       "      <td>Christophe Béchu</td>\n",
       "      <td>head of government</td>\n",
       "      <td>Angers</td>\n",
       "      <td>Which city's head of government is Christophe ...</td>\n",
       "      <td>Angers</td>\n",
       "      <td>Angers</td>\n",
       "      <td>1.0</td>\n",
       "    </tr>\n",
       "    <tr>\n",
       "      <th>...</th>\n",
       "      <td>...</td>\n",
       "      <td>...</td>\n",
       "      <td>...</td>\n",
       "      <td>...</td>\n",
       "      <td>...</td>\n",
       "      <td>...</td>\n",
       "      <td>...</td>\n",
       "      <td>...</td>\n",
       "      <td>...</td>\n",
       "    </tr>\n",
       "    <tr>\n",
       "      <th>490</th>\n",
       "      <td>places_city</td>\n",
       "      <td>wh</td>\n",
       "      <td>Southampton</td>\n",
       "      <td>official language</td>\n",
       "      <td>English</td>\n",
       "      <td>What is the official language of Southampton?</td>\n",
       "      <td>English</td>\n",
       "      <td>English</td>\n",
       "      <td>1.0</td>\n",
       "    </tr>\n",
       "    <tr>\n",
       "      <th>492</th>\n",
       "      <td>places_city</td>\n",
       "      <td>wh</td>\n",
       "      <td>Penghu County</td>\n",
       "      <td>twinned administrative body</td>\n",
       "      <td>Tainan</td>\n",
       "      <td>Which city's twinned administrative body is Pe...</td>\n",
       "      <td>Tainan</td>\n",
       "      <td>Tainan</td>\n",
       "      <td>1.0</td>\n",
       "    </tr>\n",
       "    <tr>\n",
       "      <th>495</th>\n",
       "      <td>places_city</td>\n",
       "      <td>wh</td>\n",
       "      <td>Tel Aviv</td>\n",
       "      <td>country</td>\n",
       "      <td>Israel</td>\n",
       "      <td>What is the country of Tel Aviv?</td>\n",
       "      <td>Israel</td>\n",
       "      <td>Israel</td>\n",
       "      <td>1.0</td>\n",
       "    </tr>\n",
       "    <tr>\n",
       "      <th>497</th>\n",
       "      <td>places_city</td>\n",
       "      <td>wh</td>\n",
       "      <td>1984 Winter Olympics</td>\n",
       "      <td>significant event</td>\n",
       "      <td>Sarajevo</td>\n",
       "      <td>Which city's significant event is 1984 Winter ...</td>\n",
       "      <td>Sarajevo</td>\n",
       "      <td>Sarajevo</td>\n",
       "      <td>1.0</td>\n",
       "    </tr>\n",
       "    <tr>\n",
       "      <th>499</th>\n",
       "      <td>places_city</td>\n",
       "      <td>wh</td>\n",
       "      <td>Bern</td>\n",
       "      <td>located in or next to body of water</td>\n",
       "      <td>Aare</td>\n",
       "      <td>Who is the located in or next to body of water...</td>\n",
       "      <td>Aare</td>\n",
       "      <td>Aare River</td>\n",
       "      <td>1.0</td>\n",
       "    </tr>\n",
       "  </tbody>\n",
       "</table>\n",
       "<p>157 rows × 9 columns</p>\n",
       "</div>"
      ],
      "text/plain": [
       "           topic type               subject  \\\n",
       "1    places_city   wh             Constanța   \n",
       "3    places_city   wh             Constanța   \n",
       "4    places_city   wh             Constanța   \n",
       "10   places_city   wh                Bruges   \n",
       "12   places_city   wh      Christophe Béchu   \n",
       "..           ...  ...                   ...   \n",
       "490  places_city   wh           Southampton   \n",
       "492  places_city   wh         Penghu County   \n",
       "495  places_city   wh              Tel Aviv   \n",
       "497  places_city   wh  1984 Winter Olympics   \n",
       "499  places_city   wh                  Bern   \n",
       "\n",
       "                                             relation            object  \\\n",
       "1    located in the administrative territorial entity  Constanța County   \n",
       "3                                             country           Romania   \n",
       "4                                            replaces             Tomis   \n",
       "10                                  official language             Dutch   \n",
       "12                                 head of government            Angers   \n",
       "..                                                ...               ...   \n",
       "490                                 official language           English   \n",
       "492                       twinned administrative body            Tainan   \n",
       "495                                           country            Israel   \n",
       "497                                 significant event          Sarajevo   \n",
       "499               located in or next to body of water              Aare   \n",
       "\n",
       "                                              question             label  \\\n",
       "1    What is the located in the administrative terr...  Constanța County   \n",
       "3                    What is the country of Constanța?           Romania   \n",
       "4                         What does Constanța replace?             Tomis   \n",
       "10            What is the official language of Bruges?             Dutch   \n",
       "12   Which city's head of government is Christophe ...            Angers   \n",
       "..                                                 ...               ...   \n",
       "490      What is the official language of Southampton?           English   \n",
       "492  Which city's twinned administrative body is Pe...            Tainan   \n",
       "495                   What is the country of Tel Aviv?            Israel   \n",
       "497  Which city's significant event is 1984 Winter ...          Sarajevo   \n",
       "499  Who is the located in or next to body of water...              Aare   \n",
       "\n",
       "    output_meta_llama_3.1_8b_instruct  eval_meta_llama_3.1_8b_instruct  \n",
       "1                    Constanța County                              1.0  \n",
       "3                             Romania                              1.0  \n",
       "4                               Tomis                              1.0  \n",
       "10                              Dutch                              1.0  \n",
       "12                             Angers                              1.0  \n",
       "..                                ...                              ...  \n",
       "490                           English                              1.0  \n",
       "492                            Tainan                              1.0  \n",
       "495                            Israel                              1.0  \n",
       "497                          Sarajevo                              1.0  \n",
       "499                        Aare River                              1.0  \n",
       "\n",
       "[157 rows x 9 columns]"
      ]
     },
     "execution_count": 17,
     "metadata": {},
     "output_type": "execute_result"
    }
   ],
   "source": [
    "print(domain_topic_name)\n",
    "df_wh = pd.read_csv(f\"../data/questions/wh_only/all_topics_{model_id_format}.csv\")\n",
    "df_wh = df_wh[df_wh.topic == domain_topic_name]\n",
    "\n",
    "system_msg_eval = \"Given two texts, labeled as Text 1 and Text 2, output '1' if they match each other semantically; otherwise, output '0'. Do not repeat the question or provide any explanation.\"\n",
    "wh_count = 0\n",
    "wh_correct = 0\n",
    "for i in df_wh.index[:]:\n",
    "    question, label, output_qa = df_wh.loc[i, 'question'], df_wh.loc[i, 'label'], df_wh.loc[i, f\"output_{model_id_format}\"]\n",
    "    # prompt_eval = f\"\"\"question: {question} \\nlabel: {label} \\nprediction: {output_qa}\\n\"\"\"\n",
    "    eval_res = 0\n",
    "    wh_count += 1 \n",
    "\n",
    "    if output_qa.lower() in label.lower() or label.lower() in output_qa.lower():  # Rule-basd fuzzy match\n",
    "        wh_correct += 1\n",
    "        eval_res = 1\n",
    "    else:\n",
    "        user_msg_eval = f\"\"\"Text 1: {label} \\n\\nText 2: {output_qa}\\n\"\"\"\n",
    "        messages_eval = [{\"role\": \"system\", \"content\": system_msg_eval}, {\"role\": \"user\", \"content\": user_msg_eval}]\n",
    "        response_eval = get_response(model_eval, tok_eval, messages_eval)\n",
    "        print(response_eval, end=' ')\n",
    "        if response_eval == '1':\n",
    "            wh_correct += 1\n",
    "            eval_res = 1\n",
    "            \n",
    "    df_wh.loc[i, f\"eval_{model_id_format}\"] = eval_res\n",
    "    \n",
    "print(f\"\\nThe wh question accuracy of the language model is {wh_correct / wh_count}\")\n",
    "# if not os.path.exists(f\"../data/questions/wh_only/hallucination_only/{model_id_format}\"):\n",
    "#     os.makedirs(f\"../data/questions/wh_only/hallucination_only/{model_id_format}\")\n",
    "df_wh[df_wh[f\"eval_{model_id_format}\"] == 0].to_csv(f\"../data/questions/wh_only/hallucination_only/{model_id_format}.csv\", index=False)\n",
    "df_wh[df_wh[f\"eval_{model_id_format}\"] == 1]\n",
    "# The wh question accuracy of the language model is 0."
   ]
  },
  {
   "cell_type": "code",
   "execution_count": 18,
   "metadata": {},
   "outputs": [],
   "source": [
    "df_wh[df_wh[f\"eval_{model_id_format}\"] == 0].to_csv(f\"../data/questions/wh_only/hallucination_only/{model_id_format}_{domain_topic_name}.csv\", index=False)"
   ]
  },
  {
   "cell_type": "code",
   "execution_count": 8,
   "metadata": {},
   "outputs": [
    {
     "name": "stderr",
     "output_type": "stream",
     "text": [
      "/data1/baixiang/env/anaconda3/envs/edit/lib/python3.9/site-packages/transformers/generation/configuration_utils.py:567: UserWarning: `do_sample` is set to `False`. However, `temperature` is set to `0.6` -- this flag is only used in sample-based generation modes. You should set `do_sample=True` or unset `temperature`.\n",
      "  warnings.warn(\n",
      "/data1/baixiang/env/anaconda3/envs/edit/lib/python3.9/site-packages/transformers/generation/configuration_utils.py:572: UserWarning: `do_sample` is set to `False`. However, `top_p` is set to `0.9` -- this flag is only used in sample-based generation modes. You should set `do_sample=True` or unset `top_p`.\n",
      "  warnings.warn(\n"
     ]
    },
    {
     "name": "stdout",
     "output_type": "stream",
     "text": [
      "0 0 0 1 0 0 0 0 0 0 0 0 0 0 0 0 0 0 0 0 0 0 0 0 0 0 0 0 1 0 0 1 0 1 0 0 0 0 0 0 0 0 0 0 0 0 0 0 0 0 0 0 0 0 0 0 0 0 0 0 0 1 0 0 0 0 0 0 0 0 0 0 1 1 0 1 0 0 1 0 0 0 0 0 0 0 0 0 1 0 0 0 0 0 0 0 0 0 0 0 0 0 0 0 0 0 0 0 0 0 0 0 0 0 0 0 0 0 0 0 0 0 0 0 0 0 1 0 0 1 0 0 1 0 0 1 0 1 0 0 1 0 1 0 0 0 0 0 0 0 0 0 0 0 1 0 0 0 0 0 0 0 0 0 0 0 0 0 0 0 1 0 0 0 0 0 0 1 0 0 0 0 0 0 0 0 0 0 0 0 0 0 0 0 0 0 0 0 0 0 0 1 0 0 1 0 0 0 0 1 0 0 0 0 0 0 0 0 0 0 0 1 0 0 0 0 0 0 0 0 0 0 0 0 1 1 0 0 0 0 0 0 0 1 0 1 0 0 0 0 1 0 0 0 0 0 0 1 0 0 0 0 0 0 0 0 0 0 0 0 0 0 0 0 0 0 1 0 0 0 0 0 0 0 1 0 0 0 0 0 0 0 0 0 0 0 0 0 0 0 0 0 0 0 0 0 0 0 0 0 0 0 1 0 0 0 0 0 1 0 0 0 0 0 0 \n",
      "The wh question accuracy of the language model is 0.418\n"
     ]
    }
   ],
   "source": [
    "domain_topic_name = 'places_landmark'\n",
    "df_wh = pd.read_csv(f\"../data/questions/wh_only/all_topics_{model_id_format}.csv\")\n",
    "df_wh = df_wh[df_wh.topic == domain_topic_name]\n",
    "\n",
    "system_msg_eval = \"\"\"Given a label and a prediction, evaluate the correctness of the prediction compared to the label. \\\n",
    "Output '1' if they match each other semantically. Otherwise, output '0'. Do not repeat the question or provide an explanation.\"\"\"\n",
    "# output the final evaluation as a single word. Do not repeat the question or provide an explanation Only output '0' or '1'.\n",
    "wh_count = 0\n",
    "wh_correct = 0\n",
    "for i in df_wh.index[:]:\n",
    "    question, label, output_qa = df_wh.loc[i, 'question'], df_wh.loc[i, 'label'], df_wh.loc[i, f\"output_{model_id_format}\"]\n",
    "    eval_res = 0\n",
    "    wh_count += 1 \n",
    "\n",
    "    if output_qa.lower() in label.lower() or label.lower() in output_qa.lower():  # Rule-basd fuzzy match\n",
    "        wh_correct += 1\n",
    "        eval_res = 1\n",
    "    else:\n",
    "        user_msg_eval = f\"\"\"label: {label} \\nprediction: {output_qa}\\n\"\"\"\n",
    "        messages_eval = [{\"role\": \"system\", \"content\": system_msg_eval}, {\"role\": \"user\", \"content\": user_msg_eval}]\n",
    "        response_eval = get_response(model_eval, tok_eval, messages_eval, max_new_tokens=32)\n",
    "        print(response_eval, end=' ')\n",
    "        if response_eval == '1':\n",
    "            wh_correct += 1\n",
    "            eval_res = 1\n",
    "            \n",
    "    df_wh.loc[i, f\"eval_{model_id_format}\"] = eval_res\n",
    "    \n",
    "print(f\"\\nThe wh question accuracy of the language model is {wh_correct / wh_count}\")\n",
    "df_wh[df_wh[f\"eval_{model_id_format}\"] == 0].to_csv(f\"../data/questions/wh_only/hallucination_only/{model_id_format}.csv\", index=False)\n",
    "# df_wh[df_wh[f\"eval_{model_id_format}\"] == 1]\n",
    "# The wh question accuracy of the language model is 0."
   ]
  },
  {
   "cell_type": "code",
   "execution_count": 8,
   "metadata": {},
   "outputs": [
    {
     "name": "stderr",
     "output_type": "stream",
     "text": [
      "/data1/baixiang/env/anaconda3/envs/edit/lib/python3.9/site-packages/transformers/generation/configuration_utils.py:567: UserWarning: `do_sample` is set to `False`. However, `temperature` is set to `0.6` -- this flag is only used in sample-based generation modes. You should set `do_sample=True` or unset `temperature`.\n",
      "  warnings.warn(\n",
      "/data1/baixiang/env/anaconda3/envs/edit/lib/python3.9/site-packages/transformers/generation/configuration_utils.py:572: UserWarning: `do_sample` is set to `False`. However, `top_p` is set to `0.9` -- this flag is only used in sample-based generation modes. You should set `do_sample=True` or unset `top_p`.\n",
      "  warnings.warn(\n"
     ]
    },
    {
     "name": "stdout",
     "output_type": "stream",
     "text": [
      "The wh question accuracy of the language model is 0.642\n"
     ]
    },
    {
     "data": {
      "text/html": [
       "<div>\n",
       "<style scoped>\n",
       "    .dataframe tbody tr th:only-of-type {\n",
       "        vertical-align: middle;\n",
       "    }\n",
       "\n",
       "    .dataframe tbody tr th {\n",
       "        vertical-align: top;\n",
       "    }\n",
       "\n",
       "    .dataframe thead th {\n",
       "        text-align: right;\n",
       "    }\n",
       "</style>\n",
       "<table border=\"1\" class=\"dataframe\">\n",
       "  <thead>\n",
       "    <tr style=\"text-align: right;\">\n",
       "      <th></th>\n",
       "      <th>topic</th>\n",
       "      <th>type</th>\n",
       "      <th>subject</th>\n",
       "      <th>relation</th>\n",
       "      <th>object</th>\n",
       "      <th>question</th>\n",
       "      <th>label</th>\n",
       "      <th>output_meta_llama_3.1_8b_instruct</th>\n",
       "      <th>eval_meta_llama_3.1_8b_instruct</th>\n",
       "    </tr>\n",
       "  </thead>\n",
       "  <tbody>\n",
       "    <tr>\n",
       "      <th>2000</th>\n",
       "      <td>places_landmark</td>\n",
       "      <td>wh</td>\n",
       "      <td>Old Royal Naval College</td>\n",
       "      <td>architect</td>\n",
       "      <td>Christopher Wren</td>\n",
       "      <td>Who does Old Royal Naval College architect?</td>\n",
       "      <td>Christopher Wren</td>\n",
       "      <td>Christopher Wren.</td>\n",
       "      <td>1.0</td>\n",
       "    </tr>\n",
       "    <tr>\n",
       "      <th>2001</th>\n",
       "      <td>places_landmark</td>\n",
       "      <td>wh</td>\n",
       "      <td>Old Royal Naval College</td>\n",
       "      <td>country</td>\n",
       "      <td>United Kingdom</td>\n",
       "      <td>What is the country of Old Royal Naval College?</td>\n",
       "      <td>United Kingdom</td>\n",
       "      <td>United Kingdom.</td>\n",
       "      <td>1.0</td>\n",
       "    </tr>\n",
       "    <tr>\n",
       "      <th>2003</th>\n",
       "      <td>places_landmark</td>\n",
       "      <td>wh</td>\n",
       "      <td>Panathenaic Stadium</td>\n",
       "      <td>occupant</td>\n",
       "      <td>Hellenic Olympic Committee</td>\n",
       "      <td>What is the occupant of Panathenaic Stadium?</td>\n",
       "      <td>Hellenic Olympic Committee</td>\n",
       "      <td>Greek National Stadium.</td>\n",
       "      <td>1.0</td>\n",
       "    </tr>\n",
       "    <tr>\n",
       "      <th>2004</th>\n",
       "      <td>places_landmark</td>\n",
       "      <td>wh</td>\n",
       "      <td>Panathenaic Stadium</td>\n",
       "      <td>made from material</td>\n",
       "      <td>marble</td>\n",
       "      <td>What is the made from material of Panathenaic ...</td>\n",
       "      <td>marble</td>\n",
       "      <td>Pentelic marble.</td>\n",
       "      <td>1.0</td>\n",
       "    </tr>\n",
       "    <tr>\n",
       "      <th>2005</th>\n",
       "      <td>places_landmark</td>\n",
       "      <td>wh</td>\n",
       "      <td>Panathenaic Stadium</td>\n",
       "      <td>sponsor</td>\n",
       "      <td>Stavros Niarchos Foundation</td>\n",
       "      <td>What does Panathenaic Stadium sponsor?</td>\n",
       "      <td>Stavros Niarchos Foundation</td>\n",
       "      <td>Athletic events.</td>\n",
       "      <td>1.0</td>\n",
       "    </tr>\n",
       "    <tr>\n",
       "      <th>...</th>\n",
       "      <td>...</td>\n",
       "      <td>...</td>\n",
       "      <td>...</td>\n",
       "      <td>...</td>\n",
       "      <td>...</td>\n",
       "      <td>...</td>\n",
       "      <td>...</td>\n",
       "      <td>...</td>\n",
       "      <td>...</td>\n",
       "    </tr>\n",
       "    <tr>\n",
       "      <th>2492</th>\n",
       "      <td>places_landmark</td>\n",
       "      <td>wh</td>\n",
       "      <td>MUNCH</td>\n",
       "      <td>located in or next to body of water</td>\n",
       "      <td>Oslofjord</td>\n",
       "      <td>What is the located in or next to body of wate...</td>\n",
       "      <td>Oslofjord</td>\n",
       "      <td>Oslofjord.</td>\n",
       "      <td>1.0</td>\n",
       "    </tr>\n",
       "    <tr>\n",
       "      <th>2494</th>\n",
       "      <td>places_landmark</td>\n",
       "      <td>wh</td>\n",
       "      <td>MUNCH</td>\n",
       "      <td>replaces</td>\n",
       "      <td>Munch Museum</td>\n",
       "      <td>What does MUNCH replace?</td>\n",
       "      <td>Munch Museum</td>\n",
       "      <td>MUNCH replaces OMNISCIENT.</td>\n",
       "      <td>1.0</td>\n",
       "    </tr>\n",
       "    <tr>\n",
       "      <th>2496</th>\n",
       "      <td>places_landmark</td>\n",
       "      <td>wh</td>\n",
       "      <td>Bridget of Sweden</td>\n",
       "      <td>founded by</td>\n",
       "      <td>Vadstena Abbey</td>\n",
       "      <td>Which tourist attraction was founded by Bridge...</td>\n",
       "      <td>Vadstena Abbey</td>\n",
       "      <td>Birgitta Abbey.</td>\n",
       "      <td>1.0</td>\n",
       "    </tr>\n",
       "    <tr>\n",
       "      <th>2498</th>\n",
       "      <td>places_landmark</td>\n",
       "      <td>wh</td>\n",
       "      <td>St Mark's Campanile</td>\n",
       "      <td>has part(s)</td>\n",
       "      <td>St Mark's Basilica</td>\n",
       "      <td>Which tourist attraction has part(s) St Mark's...</td>\n",
       "      <td>St Mark's Basilica</td>\n",
       "      <td>St. Mark's Square.</td>\n",
       "      <td>1.0</td>\n",
       "    </tr>\n",
       "    <tr>\n",
       "      <th>2499</th>\n",
       "      <td>places_landmark</td>\n",
       "      <td>wh</td>\n",
       "      <td>Alcatraz Island</td>\n",
       "      <td>heritage designation</td>\n",
       "      <td>National Historic Landmark</td>\n",
       "      <td>What is the heritage designation of Alcatraz I...</td>\n",
       "      <td>National Historic Landmark</td>\n",
       "      <td>National Historic Landmark.</td>\n",
       "      <td>1.0</td>\n",
       "    </tr>\n",
       "  </tbody>\n",
       "</table>\n",
       "<p>321 rows × 9 columns</p>\n",
       "</div>"
      ],
      "text/plain": [
       "                topic type                  subject  \\\n",
       "2000  places_landmark   wh  Old Royal Naval College   \n",
       "2001  places_landmark   wh  Old Royal Naval College   \n",
       "2003  places_landmark   wh      Panathenaic Stadium   \n",
       "2004  places_landmark   wh      Panathenaic Stadium   \n",
       "2005  places_landmark   wh      Panathenaic Stadium   \n",
       "...               ...  ...                      ...   \n",
       "2492  places_landmark   wh                    MUNCH   \n",
       "2494  places_landmark   wh                    MUNCH   \n",
       "2496  places_landmark   wh        Bridget of Sweden   \n",
       "2498  places_landmark   wh      St Mark's Campanile   \n",
       "2499  places_landmark   wh          Alcatraz Island   \n",
       "\n",
       "                                 relation                       object  \\\n",
       "2000                            architect             Christopher Wren   \n",
       "2001                              country               United Kingdom   \n",
       "2003                             occupant   Hellenic Olympic Committee   \n",
       "2004                   made from material                       marble   \n",
       "2005                              sponsor  Stavros Niarchos Foundation   \n",
       "...                                   ...                          ...   \n",
       "2492  located in or next to body of water                    Oslofjord   \n",
       "2494                             replaces                 Munch Museum   \n",
       "2496                           founded by               Vadstena Abbey   \n",
       "2498                          has part(s)           St Mark's Basilica   \n",
       "2499                 heritage designation   National Historic Landmark   \n",
       "\n",
       "                                               question  \\\n",
       "2000        Who does Old Royal Naval College architect?   \n",
       "2001    What is the country of Old Royal Naval College?   \n",
       "2003       What is the occupant of Panathenaic Stadium?   \n",
       "2004  What is the made from material of Panathenaic ...   \n",
       "2005             What does Panathenaic Stadium sponsor?   \n",
       "...                                                 ...   \n",
       "2492  What is the located in or next to body of wate...   \n",
       "2494                           What does MUNCH replace?   \n",
       "2496  Which tourist attraction was founded by Bridge...   \n",
       "2498  Which tourist attraction has part(s) St Mark's...   \n",
       "2499  What is the heritage designation of Alcatraz I...   \n",
       "\n",
       "                            label output_meta_llama_3.1_8b_instruct  \\\n",
       "2000             Christopher Wren                 Christopher Wren.   \n",
       "2001               United Kingdom                   United Kingdom.   \n",
       "2003   Hellenic Olympic Committee           Greek National Stadium.   \n",
       "2004                       marble                  Pentelic marble.   \n",
       "2005  Stavros Niarchos Foundation                  Athletic events.   \n",
       "...                           ...                               ...   \n",
       "2492                    Oslofjord                        Oslofjord.   \n",
       "2494                 Munch Museum        MUNCH replaces OMNISCIENT.   \n",
       "2496               Vadstena Abbey                   Birgitta Abbey.   \n",
       "2498           St Mark's Basilica                St. Mark's Square.   \n",
       "2499   National Historic Landmark       National Historic Landmark.   \n",
       "\n",
       "      eval_meta_llama_3.1_8b_instruct  \n",
       "2000                              1.0  \n",
       "2001                              1.0  \n",
       "2003                              1.0  \n",
       "2004                              1.0  \n",
       "2005                              1.0  \n",
       "...                               ...  \n",
       "2492                              1.0  \n",
       "2494                              1.0  \n",
       "2496                              1.0  \n",
       "2498                              1.0  \n",
       "2499                              1.0  \n",
       "\n",
       "[321 rows x 9 columns]"
      ]
     },
     "execution_count": 8,
     "metadata": {},
     "output_type": "execute_result"
    }
   ],
   "source": [
    "domain_topic_name = 'places_landmark'\n",
    "df_wh = pd.read_csv(f\"../data/questions/wh_only/all_topics_{model_id_format}.csv\")\n",
    "df_wh = df_wh[df_wh.topic == domain_topic_name]\n",
    "\n",
    "system_msg_eval = \"\"\"Given a question, a label, and a prediction, evaluate the correctness of the prediction compared to the label. \\\n",
    "Output '1' if they have similar semantic meanings, are synonyms, or if one is a more specific or general version of the other. Otherwise, output '0'. \\\n",
    "Only output the final evaluation as a single word. Do not repeat the question or provide an explanation.\"\"\"\n",
    "\n",
    "wh_count = 0\n",
    "wh_correct = 0\n",
    "for i in df_wh.index[:]:\n",
    "    question, label, output_qa = df_wh.loc[i, 'question'], df_wh.loc[i, 'label'], df_wh.loc[i, f\"output_{model_id_format}\"]\n",
    "    prompt_eval = f\"\"\"question: {question} \\nlabel: {label} \\nprediction: {output_qa}\\n\"\"\"\n",
    "    eval_res = 0\n",
    "    wh_count += 1 \n",
    "\n",
    "    if output_qa.lower() in label.lower() or label.lower() in output_qa.lower():  # Rule-basd fuzzy match\n",
    "        wh_correct += 1\n",
    "        eval_res = 1\n",
    "    else:\n",
    "        user_msg_eval = f\"\"\"question: {question} \\nlabel: {label} \\nprediction: {output_qa}\\n\"\"\"\n",
    "        messages_eval = [{\"role\": \"system\", \"content\": system_msg_eval}, {\"role\": \"user\", \"content\": user_msg_eval}]\n",
    "        response_eval = get_response(model_eval, tok_eval, messages_eval)\n",
    "        if response_eval == '1':\n",
    "            wh_correct += 1\n",
    "            eval_res = 1\n",
    "            \n",
    "    df_wh.loc[i, f\"eval_{model_id_format}\"] = eval_res\n",
    "    \n",
    "print(f\"The wh question accuracy of the language model is {wh_correct / wh_count}\")\n",
    "# if not os.path.exists(f\"../data/questions/wh_only/hallucination_only/{model_id_format}\"):\n",
    "#     os.makedirs(f\"../data/questions/wh_only/hallucination_only/{model_id_format}\")\n",
    "df_wh[df_wh[f\"eval_{model_id_format}\"] == 0].to_csv(f\"../data/questions/wh_only/hallucination_only/{model_id_format}.csv\", index=False)\n",
    "df_wh[df_wh[f\"eval_{model_id_format}\"] == 1]\n",
    "# The wh question accuracy of the language model is 0.656"
   ]
  },
  {
   "cell_type": "code",
   "execution_count": 10,
   "metadata": {},
   "outputs": [
    {
     "name": "stdout",
     "output_type": "stream",
     "text": [
      "(179, 9)\n"
     ]
    },
    {
     "name": "stderr",
     "output_type": "stream",
     "text": [
      "/data1/baixiang/env/anaconda3/envs/edit/lib/python3.9/site-packages/transformers/generation/configuration_utils.py:567: UserWarning: `do_sample` is set to `False`. However, `temperature` is set to `0.6` -- this flag is only used in sample-based generation modes. You should set `do_sample=True` or unset `temperature`.\n",
      "  warnings.warn(\n",
      "/data1/baixiang/env/anaconda3/envs/edit/lib/python3.9/site-packages/transformers/generation/configuration_utils.py:572: UserWarning: `do_sample` is set to `False`. However, `top_p` is set to `0.9` -- this flag is only used in sample-based generation modes. You should set `do_sample=True` or unset `top_p`.\n",
      "  warnings.warn(\n"
     ]
    },
    {
     "name": "stdout",
     "output_type": "stream",
     "text": [
      "===== Check Prompt: Which tourist attraction was founded by Bayezid I? | Output: Bursa. | Label: Anadoluhisarı. | LLM Evaluation: 1 =====\n",
      "===== Check Prompt: Which tourist attraction architect Bodo Ebhardt? | Output: Berlin Cathedral. | Label: Coburg Fortress. | LLM Evaluation: 1 =====\n",
      "===== Check Prompt: Which tourist attraction architect Daniel Burnham? | Output: Union Station. | Label: National Museum of Natural History. | LLM Evaluation: 1 =====\n",
      "===== Check Prompt: Which tourist attraction's participant is Ford, Powell & Carson? | Output: Golden Gate Bridge. | Label: Alamo Mission in San Antonio. | LLM Evaluation: 1 =====\n",
      "===== Check Prompt: What is the significant event of Dömitz Fortress? | Output: Surrender. | Label: construction. | LLM Evaluation: 1 =====\n",
      "===== Check Prompt: What is the heritage designation of Viñales Valley? | Output: Cultural. | Label: UNESCO World Heritage Site. | LLM Evaluation: 1 =====\n",
      "===== Check Prompt: Which tourist attraction architect Charles François de Mondion? | Output: Cité de Damas. | Label: National Museum of Natural History. | LLM Evaluation: 1 =====\n",
      "===== Check Prompt: Which tourist attraction architect Charles Follen McKim? | Output: Pennsylvania Station. | Label: National Museum of Natural History. | LLM Evaluation: 1 =====\n",
      "===== Check Prompt: Which tourist attraction architect Hornblower & Marshall? | Output: Las Vegas Strip. | Label: National Museum of Natural History. | LLM Evaluation: 1 =====\n"
     ]
    }
   ],
   "source": [
    "# use pre-edit prompt to double_check only hallucinated answers evaluate if the prediction and the correct answer match semantically.\n",
    "df = pd.read_csv(f\"../data/questions/wh_only/hallucination_only/{model_id_format}.csv\")\n",
    "print(df.shape)\n",
    "\n",
    "# def eval_double_check():\n",
    "for i in df.index[:]:\n",
    "    question, label, output = df.loc[i, 'question'], df.loc[i, 'label'], df.loc[i, f\"output_{model_id_format}\"]\n",
    "    prompt_eval = f\"\"\"question: {question} \\nlabel: {label} \\nprediction: {output}\\n\"\"\"\n",
    "\n",
    "    if output.lower() in label.lower() or label.lower() in output.lower():  # Rule-basd fuzzy match\n",
    "        response_eval = '1'\n",
    "    else:\n",
    "        user_msg_eval = f\"\"\"question: {question} \\nlabel: {label} \\nprediction: {output_qa}\\n\"\"\"\n",
    "        messages_eval = [{\"role\": \"system\", \"content\": system_msg_eval}, {\"role\": \"user\", \"content\": user_msg_eval}]\n",
    "        response_eval = get_response(model_eval, tok_eval, messages_eval)\n",
    "    if response_eval != '0':\n",
    "        print(f\"===== Check Prompt: {question} | Output: {output} | Label: {label}. | LLM Evaluation: {response_eval} =====\") # (1 denotes correct) "
   ]
  },
  {
   "cell_type": "markdown",
   "metadata": {},
   "source": [
    "### Other evaluation less/more strict"
   ]
  },
  {
   "cell_type": "code",
   "execution_count": 7,
   "metadata": {},
   "outputs": [
    {
     "name": "stderr",
     "output_type": "stream",
     "text": [
      "/home/baix/anaconda3/envs/env24may/lib/python3.9/site-packages/transformers/generation/configuration_utils.py:515: UserWarning: `do_sample` is set to `False`. However, `temperature` is set to `0.6` -- this flag is only used in sample-based generation modes. You should set `do_sample=True` or unset `temperature`.\n",
      "  warnings.warn(\n",
      "/home/baix/anaconda3/envs/env24may/lib/python3.9/site-packages/transformers/generation/configuration_utils.py:520: UserWarning: `do_sample` is set to `False`. However, `top_p` is set to `0.9` -- this flag is only used in sample-based generation modes. You should set `do_sample=True` or unset `top_p`.\n",
      "  warnings.warn(\n"
     ]
    },
    {
     "name": "stdout",
     "output_type": "stream",
     "text": [
      "[GPT] The wh question accuracy of the language model is 0.732\n"
     ]
    },
    {
     "data": {
      "text/html": [
       "<div>\n",
       "<style scoped>\n",
       "    .dataframe tbody tr th:only-of-type {\n",
       "        vertical-align: middle;\n",
       "    }\n",
       "\n",
       "    .dataframe tbody tr th {\n",
       "        vertical-align: top;\n",
       "    }\n",
       "\n",
       "    .dataframe thead th {\n",
       "        text-align: right;\n",
       "    }\n",
       "</style>\n",
       "<table border=\"1\" class=\"dataframe\">\n",
       "  <thead>\n",
       "    <tr style=\"text-align: right;\">\n",
       "      <th></th>\n",
       "      <th>type</th>\n",
       "      <th>subject</th>\n",
       "      <th>relation</th>\n",
       "      <th>object</th>\n",
       "      <th>question</th>\n",
       "      <th>label</th>\n",
       "      <th>output_meta-llama/Meta-Llama-3-8B-Instruct</th>\n",
       "      <th>eval_meta_llama_3_8b_instruct</th>\n",
       "    </tr>\n",
       "  </thead>\n",
       "  <tbody>\n",
       "    <tr>\n",
       "      <th>0</th>\n",
       "      <td>wh</td>\n",
       "      <td>Ontario</td>\n",
       "      <td>located in the administrative territorial entity</td>\n",
       "      <td>Niagara Falls</td>\n",
       "      <td>Which tourist attraction's located in the admi...</td>\n",
       "      <td>Niagara Falls</td>\n",
       "      <td>Niagara Falls</td>\n",
       "      <td>1.0</td>\n",
       "    </tr>\n",
       "    <tr>\n",
       "      <th>1</th>\n",
       "      <td>wh</td>\n",
       "      <td>Alexandrov Kremlin</td>\n",
       "      <td>country</td>\n",
       "      <td>Russia</td>\n",
       "      <td>What is the country of Alexandrov Kremlin?</td>\n",
       "      <td>Russia</td>\n",
       "      <td>Russia</td>\n",
       "      <td>1.0</td>\n",
       "    </tr>\n",
       "    <tr>\n",
       "      <th>2</th>\n",
       "      <td>wh</td>\n",
       "      <td>Alexandrov Kremlin</td>\n",
       "      <td>located in the administrative territorial entity</td>\n",
       "      <td>Alexandrov</td>\n",
       "      <td>Who is the located in the administrative terri...</td>\n",
       "      <td>Alexandrov</td>\n",
       "      <td>Alexandrov</td>\n",
       "      <td>1.0</td>\n",
       "    </tr>\n",
       "    <tr>\n",
       "      <th>3</th>\n",
       "      <td>wh</td>\n",
       "      <td>Bukit Panjang</td>\n",
       "      <td>located in the administrative territorial entity</td>\n",
       "      <td>Bukit Timah Nature Reserve</td>\n",
       "      <td>Which tourist attraction's located in the admi...</td>\n",
       "      <td>Bukit Timah Nature Reserve</td>\n",
       "      <td>Haw Par Villa</td>\n",
       "      <td>0.0</td>\n",
       "    </tr>\n",
       "    <tr>\n",
       "      <th>4</th>\n",
       "      <td>wh</td>\n",
       "      <td>Kastelholm Castle</td>\n",
       "      <td>country</td>\n",
       "      <td>Finland</td>\n",
       "      <td>What is the country of Kastelholm Castle?</td>\n",
       "      <td>Finland</td>\n",
       "      <td>Finland</td>\n",
       "      <td>1.0</td>\n",
       "    </tr>\n",
       "    <tr>\n",
       "      <th>...</th>\n",
       "      <td>...</td>\n",
       "      <td>...</td>\n",
       "      <td>...</td>\n",
       "      <td>...</td>\n",
       "      <td>...</td>\n",
       "      <td>...</td>\n",
       "      <td>...</td>\n",
       "      <td>...</td>\n",
       "    </tr>\n",
       "    <tr>\n",
       "      <th>495</th>\n",
       "      <td>wh</td>\n",
       "      <td>Thornton Tomasetti</td>\n",
       "      <td>structural engineer</td>\n",
       "      <td>Petronas Towers</td>\n",
       "      <td>Which tourist attraction's structural engineer...</td>\n",
       "      <td>Petronas Towers</td>\n",
       "      <td>One World Trade</td>\n",
       "      <td>0.0</td>\n",
       "    </tr>\n",
       "    <tr>\n",
       "      <th>496</th>\n",
       "      <td>wh</td>\n",
       "      <td>Charles II of England</td>\n",
       "      <td>occupant</td>\n",
       "      <td>Windsor Castle</td>\n",
       "      <td>Which tourist attraction's occupant is Charles...</td>\n",
       "      <td>Windsor Castle</td>\n",
       "      <td>Westminster Abbey</td>\n",
       "      <td>1.0</td>\n",
       "    </tr>\n",
       "    <tr>\n",
       "      <th>497</th>\n",
       "      <td>wh</td>\n",
       "      <td>Charles II of England</td>\n",
       "      <td>founded by</td>\n",
       "      <td>Royal Observatory</td>\n",
       "      <td>Which tourist attraction was founded by Charle...</td>\n",
       "      <td>Royal Observatory</td>\n",
       "      <td>St. Paul's</td>\n",
       "      <td>0.0</td>\n",
       "    </tr>\n",
       "    <tr>\n",
       "      <th>498</th>\n",
       "      <td>wh</td>\n",
       "      <td>Gateway Arch</td>\n",
       "      <td>located in protected area</td>\n",
       "      <td>Gateway Arch National Park</td>\n",
       "      <td>What is the located in protected area of Gatew...</td>\n",
       "      <td>Gateway Arch National Park</td>\n",
       "      <td>Jefferson National Park</td>\n",
       "      <td>1.0</td>\n",
       "    </tr>\n",
       "    <tr>\n",
       "      <th>499</th>\n",
       "      <td>wh</td>\n",
       "      <td>Gateway Arch</td>\n",
       "      <td>heritage designation</td>\n",
       "      <td>National Historic Landmark</td>\n",
       "      <td>What is the heritage designation of Gateway Arch?</td>\n",
       "      <td>National Historic Landmark</td>\n",
       "      <td>National</td>\n",
       "      <td>1.0</td>\n",
       "    </tr>\n",
       "  </tbody>\n",
       "</table>\n",
       "<p>500 rows × 8 columns</p>\n",
       "</div>"
      ],
      "text/plain": [
       "    type                subject  \\\n",
       "0     wh                Ontario   \n",
       "1     wh     Alexandrov Kremlin   \n",
       "2     wh     Alexandrov Kremlin   \n",
       "3     wh          Bukit Panjang   \n",
       "4     wh      Kastelholm Castle   \n",
       "..   ...                    ...   \n",
       "495   wh     Thornton Tomasetti   \n",
       "496   wh  Charles II of England   \n",
       "497   wh  Charles II of England   \n",
       "498   wh           Gateway Arch   \n",
       "499   wh           Gateway Arch   \n",
       "\n",
       "                                             relation  \\\n",
       "0    located in the administrative territorial entity   \n",
       "1                                             country   \n",
       "2    located in the administrative territorial entity   \n",
       "3    located in the administrative territorial entity   \n",
       "4                                             country   \n",
       "..                                                ...   \n",
       "495                               structural engineer   \n",
       "496                                          occupant   \n",
       "497                                        founded by   \n",
       "498                         located in protected area   \n",
       "499                              heritage designation   \n",
       "\n",
       "                         object  \\\n",
       "0                 Niagara Falls   \n",
       "1                        Russia   \n",
       "2                    Alexandrov   \n",
       "3    Bukit Timah Nature Reserve   \n",
       "4                       Finland   \n",
       "..                          ...   \n",
       "495             Petronas Towers   \n",
       "496              Windsor Castle   \n",
       "497           Royal Observatory   \n",
       "498  Gateway Arch National Park   \n",
       "499  National Historic Landmark   \n",
       "\n",
       "                                              question  \\\n",
       "0    Which tourist attraction's located in the admi...   \n",
       "1           What is the country of Alexandrov Kremlin?   \n",
       "2    Who is the located in the administrative terri...   \n",
       "3    Which tourist attraction's located in the admi...   \n",
       "4            What is the country of Kastelholm Castle?   \n",
       "..                                                 ...   \n",
       "495  Which tourist attraction's structural engineer...   \n",
       "496  Which tourist attraction's occupant is Charles...   \n",
       "497  Which tourist attraction was founded by Charle...   \n",
       "498  What is the located in protected area of Gatew...   \n",
       "499  What is the heritage designation of Gateway Arch?   \n",
       "\n",
       "                          label output_meta-llama/Meta-Llama-3-8B-Instruct  \\\n",
       "0                 Niagara Falls                              Niagara Falls   \n",
       "1                        Russia                                     Russia   \n",
       "2                    Alexandrov                                 Alexandrov   \n",
       "3    Bukit Timah Nature Reserve                              Haw Par Villa   \n",
       "4                       Finland                                    Finland   \n",
       "..                          ...                                        ...   \n",
       "495             Petronas Towers                            One World Trade   \n",
       "496              Windsor Castle                          Westminster Abbey   \n",
       "497           Royal Observatory                                 St. Paul's   \n",
       "498  Gateway Arch National Park                    Jefferson National Park   \n",
       "499  National Historic Landmark                                   National   \n",
       "\n",
       "     eval_meta_llama_3_8b_instruct  \n",
       "0                              1.0  \n",
       "1                              1.0  \n",
       "2                              1.0  \n",
       "3                              0.0  \n",
       "4                              1.0  \n",
       "..                             ...  \n",
       "495                            0.0  \n",
       "496                            1.0  \n",
       "497                            0.0  \n",
       "498                            1.0  \n",
       "499                            1.0  \n",
       "\n",
       "[500 rows x 8 columns]"
      ]
     },
     "execution_count": 7,
     "metadata": {},
     "output_type": "execute_result"
    }
   ],
   "source": [
    "# May output other than 0 or 1\n",
    "# system_msg_eval = \"\"\"Given a question, a correct answer, and a prediction, evaluate if the prediction and the correct answer match semantically. \\\n",
    "# Output '1' if they have similar meanings, are synonyms, or if one is a more specific or general version of the other. Otherwise, output '0'.\"\"\"\n",
    "\n",
    "system_msg_eval = \"\"\"Given a question, a correct answer, and a prediction, evaluate whether the prediction and the correct answer match semantically. \\\n",
    "Output '1' if they convey similar meanings, including when the prediction is more specific, more general, or a synonym of the correct answer. Otherwise, output '0'.\"\"\"\n",
    "\n",
    "wh_count = 0\n",
    "wh_correct = 0\n",
    "for i in df_wh.index[:]:\n",
    "    question, label, output = df_wh.loc[i, 'question'], df_wh.loc[i, 'label'], df_wh.loc[i, f\"output_{model_id}\"]\n",
    "    prompt_eval = f\"\"\"The inputs are given as below: \\nquestion: {question} \\n\\ncorrect answer: {label} \\n\\nprediction: {output}\\n\"\"\"\n",
    "\n",
    "    eval_res = 0\n",
    "    wh_count += 1\n",
    "\n",
    "    if output.lower() in label.lower() or label.lower() in output.lower():  # Rule-basd fuzzy match\n",
    "        wh_correct += 1\n",
    "        eval_res = 1\n",
    "    else:\n",
    "        messages = [{\"role\": \"system\", \"content\": system_msg_eval}, {\"role\": \"user\", \"content\": prompt_eval+\" Only output '1' or '0'.\"}]\n",
    "        msg_tokenized = tok.apply_chat_template(messages, add_generation_prompt=True, return_tensors='pt')\n",
    "        output_ids = model_eval.generate(msg_tokenized.to(device_eval), max_new_tokens=1, eos_token_id=terminators, do_sample=False, pad_token_id=tok.eos_token_id)\n",
    "        response_str = tok.decode(output_ids[0][msg_tokenized.shape[-1]:], skip_special_tokens=True)\n",
    "\n",
    "        if response_str == '1':\n",
    "            wh_correct += 1\n",
    "            eval_res = 1\n",
    "            \n",
    "    df_wh.loc[i, f\"eval_{model_id_format}\"] = eval_res\n",
    "print(f\"[GPT] The wh question accuracy of the language model is {wh_correct / wh_count}\")\n",
    "df_wh[df_wh[f\"eval_{model_id_format}\"] == 0].to_csv(f\"../data/questions/wh_only/hallucination_only/{topic_name}_{model_id_format}_eval.csv\", index=False)\n",
    "df_wh[df_wh[f\"eval_{model_id_format}\"] == 1]"
   ]
  },
  {
   "cell_type": "code",
   "execution_count": 16,
   "metadata": {},
   "outputs": [
    {
     "name": "stdout",
     "output_type": "stream",
     "text": [
      "[Sentence Transformer] The wh question accuracy of the language model is 0.418\n"
     ]
    }
   ],
   "source": [
    "from sentence_transformers import SentenceTransformer, util\n",
    "\n",
    "ls_label = df_wh.label.tolist()\n",
    "\n",
    "wh_count = 0\n",
    "wh_correct = 0\n",
    "model_name = 'paraphrase-MiniLM-L6-v2'\n",
    "model = SentenceTransformer(model_name)\n",
    "for i in df_wh.index[:]:\n",
    "    question, label = df_wh.loc[i, 'question'], df_wh.loc[i, 'label']\n",
    "    output = df_wh.loc[i, f\"output_{model_id}\"]\n",
    "    flag = False\n",
    "\n",
    "    wh_count += 1\n",
    "    embeddings = model.encode([label, output])\n",
    "    similarity_score = util.cos_sim(embeddings[0], embeddings[1])\n",
    "    threshold = 0.6\n",
    "    if similarity_score >= threshold:\n",
    "        wh_correct += 1\n",
    "        flag = True\n",
    "        \n",
    "wh_acc_dict = {\"wh_accuracy\": wh_correct/wh_count}\n",
    "print(f\"[Sentence Transformer] The wh question accuracy of the language model is {wh_correct / wh_count}\")"
   ]
  },
  {
   "cell_type": "code",
   "execution_count": 18,
   "metadata": {},
   "outputs": [
    {
     "name": "stderr",
     "output_type": "stream",
     "text": [
      "huggingface/tokenizers: The current process just got forked, after parallelism has already been used. Disabling parallelism to avoid deadlocks...\n",
      "To disable this warning, you can either:\n",
      "\t- Avoid using `tokenizers` before the fork if possible\n",
      "\t- Explicitly set the environment variable TOKENIZERS_PARALLELISM=(true | false)\n"
     ]
    },
    {
     "name": "stdout",
     "output_type": "stream",
     "text": [
      "[GPT] The wh question accuracy of the language model is 0.694\n"
     ]
    },
    {
     "data": {
      "text/html": [
       "<div>\n",
       "<style scoped>\n",
       "    .dataframe tbody tr th:only-of-type {\n",
       "        vertical-align: middle;\n",
       "    }\n",
       "\n",
       "    .dataframe tbody tr th {\n",
       "        vertical-align: top;\n",
       "    }\n",
       "\n",
       "    .dataframe thead th {\n",
       "        text-align: right;\n",
       "    }\n",
       "</style>\n",
       "<table border=\"1\" class=\"dataframe\">\n",
       "  <thead>\n",
       "    <tr style=\"text-align: right;\">\n",
       "      <th></th>\n",
       "      <th>type</th>\n",
       "      <th>subject</th>\n",
       "      <th>relation</th>\n",
       "      <th>object</th>\n",
       "      <th>question</th>\n",
       "      <th>label</th>\n",
       "      <th>output_meta-llama/Meta-Llama-3-8B-Instruct</th>\n",
       "      <th>eval_meta-llama/Meta-Llama-3-8B-Instruct</th>\n",
       "    </tr>\n",
       "  </thead>\n",
       "  <tbody>\n",
       "    <tr>\n",
       "      <th>1000</th>\n",
       "      <td>wh</td>\n",
       "      <td>Ontario</td>\n",
       "      <td>located in the administrative territorial entity</td>\n",
       "      <td>Niagara Falls</td>\n",
       "      <td>Which tourist attraction's located in the admi...</td>\n",
       "      <td>Niagara Falls</td>\n",
       "      <td>Niagara Falls</td>\n",
       "      <td>1.0</td>\n",
       "    </tr>\n",
       "    <tr>\n",
       "      <th>1001</th>\n",
       "      <td>wh</td>\n",
       "      <td>Alexandrov Kremlin</td>\n",
       "      <td>country</td>\n",
       "      <td>Russia</td>\n",
       "      <td>What is the country of Alexandrov Kremlin?</td>\n",
       "      <td>Russia</td>\n",
       "      <td>Russia</td>\n",
       "      <td>1.0</td>\n",
       "    </tr>\n",
       "    <tr>\n",
       "      <th>1002</th>\n",
       "      <td>wh</td>\n",
       "      <td>Alexandrov Kremlin</td>\n",
       "      <td>located in the administrative territorial entity</td>\n",
       "      <td>Alexandrov</td>\n",
       "      <td>Who is the located in the administrative terri...</td>\n",
       "      <td>Alexandrov</td>\n",
       "      <td>Alexandrov</td>\n",
       "      <td>1.0</td>\n",
       "    </tr>\n",
       "    <tr>\n",
       "      <th>1003</th>\n",
       "      <td>wh</td>\n",
       "      <td>Bukit Panjang</td>\n",
       "      <td>located in the administrative territorial entity</td>\n",
       "      <td>Bukit Timah Nature Reserve</td>\n",
       "      <td>Which tourist attraction's located in the admi...</td>\n",
       "      <td>Bukit Timah Nature Reserve</td>\n",
       "      <td>Haw Par Villa</td>\n",
       "      <td>0.0</td>\n",
       "    </tr>\n",
       "    <tr>\n",
       "      <th>1004</th>\n",
       "      <td>wh</td>\n",
       "      <td>Kastelholm Castle</td>\n",
       "      <td>country</td>\n",
       "      <td>Finland</td>\n",
       "      <td>What is the country of Kastelholm Castle?</td>\n",
       "      <td>Finland</td>\n",
       "      <td>Finland</td>\n",
       "      <td>1.0</td>\n",
       "    </tr>\n",
       "    <tr>\n",
       "      <th>...</th>\n",
       "      <td>...</td>\n",
       "      <td>...</td>\n",
       "      <td>...</td>\n",
       "      <td>...</td>\n",
       "      <td>...</td>\n",
       "      <td>...</td>\n",
       "      <td>...</td>\n",
       "      <td>...</td>\n",
       "    </tr>\n",
       "    <tr>\n",
       "      <th>1495</th>\n",
       "      <td>wh</td>\n",
       "      <td>Thornton Tomasetti</td>\n",
       "      <td>structural engineer</td>\n",
       "      <td>Petronas Towers</td>\n",
       "      <td>Which tourist attraction's structural engineer...</td>\n",
       "      <td>Petronas Towers</td>\n",
       "      <td>One World Trade</td>\n",
       "      <td>0.0</td>\n",
       "    </tr>\n",
       "    <tr>\n",
       "      <th>1496</th>\n",
       "      <td>wh</td>\n",
       "      <td>Charles II of England</td>\n",
       "      <td>occupant</td>\n",
       "      <td>Windsor Castle</td>\n",
       "      <td>Which tourist attraction's occupant is Charles...</td>\n",
       "      <td>Windsor Castle</td>\n",
       "      <td>Westminster Abbey</td>\n",
       "      <td>0.0</td>\n",
       "    </tr>\n",
       "    <tr>\n",
       "      <th>1497</th>\n",
       "      <td>wh</td>\n",
       "      <td>Charles II of England</td>\n",
       "      <td>founded by</td>\n",
       "      <td>Royal Observatory</td>\n",
       "      <td>Which tourist attraction was founded by Charle...</td>\n",
       "      <td>Royal Observatory</td>\n",
       "      <td>St. Paul's</td>\n",
       "      <td>0.0</td>\n",
       "    </tr>\n",
       "    <tr>\n",
       "      <th>1498</th>\n",
       "      <td>wh</td>\n",
       "      <td>Gateway Arch</td>\n",
       "      <td>located in protected area</td>\n",
       "      <td>Gateway Arch National Park</td>\n",
       "      <td>What is the located in protected area of Gatew...</td>\n",
       "      <td>Gateway Arch National Park</td>\n",
       "      <td>Jefferson National Park</td>\n",
       "      <td>1.0</td>\n",
       "    </tr>\n",
       "    <tr>\n",
       "      <th>1499</th>\n",
       "      <td>wh</td>\n",
       "      <td>Gateway Arch</td>\n",
       "      <td>heritage designation</td>\n",
       "      <td>National Historic Landmark</td>\n",
       "      <td>What is the heritage designation of Gateway Arch?</td>\n",
       "      <td>National Historic Landmark</td>\n",
       "      <td>National</td>\n",
       "      <td>1.0</td>\n",
       "    </tr>\n",
       "  </tbody>\n",
       "</table>\n",
       "<p>500 rows × 8 columns</p>\n",
       "</div>"
      ],
      "text/plain": [
       "     type                subject  \\\n",
       "1000   wh                Ontario   \n",
       "1001   wh     Alexandrov Kremlin   \n",
       "1002   wh     Alexandrov Kremlin   \n",
       "1003   wh          Bukit Panjang   \n",
       "1004   wh      Kastelholm Castle   \n",
       "...   ...                    ...   \n",
       "1495   wh     Thornton Tomasetti   \n",
       "1496   wh  Charles II of England   \n",
       "1497   wh  Charles II of England   \n",
       "1498   wh           Gateway Arch   \n",
       "1499   wh           Gateway Arch   \n",
       "\n",
       "                                              relation  \\\n",
       "1000  located in the administrative territorial entity   \n",
       "1001                                           country   \n",
       "1002  located in the administrative territorial entity   \n",
       "1003  located in the administrative territorial entity   \n",
       "1004                                           country   \n",
       "...                                                ...   \n",
       "1495                               structural engineer   \n",
       "1496                                          occupant   \n",
       "1497                                        founded by   \n",
       "1498                         located in protected area   \n",
       "1499                              heritage designation   \n",
       "\n",
       "                          object  \\\n",
       "1000               Niagara Falls   \n",
       "1001                      Russia   \n",
       "1002                  Alexandrov   \n",
       "1003  Bukit Timah Nature Reserve   \n",
       "1004                     Finland   \n",
       "...                          ...   \n",
       "1495             Petronas Towers   \n",
       "1496              Windsor Castle   \n",
       "1497           Royal Observatory   \n",
       "1498  Gateway Arch National Park   \n",
       "1499  National Historic Landmark   \n",
       "\n",
       "                                               question  \\\n",
       "1000  Which tourist attraction's located in the admi...   \n",
       "1001         What is the country of Alexandrov Kremlin?   \n",
       "1002  Who is the located in the administrative terri...   \n",
       "1003  Which tourist attraction's located in the admi...   \n",
       "1004          What is the country of Kastelholm Castle?   \n",
       "...                                                 ...   \n",
       "1495  Which tourist attraction's structural engineer...   \n",
       "1496  Which tourist attraction's occupant is Charles...   \n",
       "1497  Which tourist attraction was founded by Charle...   \n",
       "1498  What is the located in protected area of Gatew...   \n",
       "1499  What is the heritage designation of Gateway Arch?   \n",
       "\n",
       "                           label output_meta-llama/Meta-Llama-3-8B-Instruct  \\\n",
       "1000               Niagara Falls                              Niagara Falls   \n",
       "1001                      Russia                                     Russia   \n",
       "1002                  Alexandrov                                 Alexandrov   \n",
       "1003  Bukit Timah Nature Reserve                              Haw Par Villa   \n",
       "1004                     Finland                                    Finland   \n",
       "...                          ...                                        ...   \n",
       "1495             Petronas Towers                            One World Trade   \n",
       "1496              Windsor Castle                          Westminster Abbey   \n",
       "1497           Royal Observatory                                 St. Paul's   \n",
       "1498  Gateway Arch National Park                    Jefferson National Park   \n",
       "1499  National Historic Landmark                                   National   \n",
       "\n",
       "      eval_meta-llama/Meta-Llama-3-8B-Instruct  \n",
       "1000                                       1.0  \n",
       "1001                                       1.0  \n",
       "1002                                       1.0  \n",
       "1003                                       0.0  \n",
       "1004                                       1.0  \n",
       "...                                        ...  \n",
       "1495                                       0.0  \n",
       "1496                                       0.0  \n",
       "1497                                       0.0  \n",
       "1498                                       1.0  \n",
       "1499                                       1.0  \n",
       "\n",
       "[500 rows x 8 columns]"
      ]
     },
     "execution_count": 18,
     "metadata": {},
     "output_type": "execute_result"
    }
   ],
   "source": [
    "llm_name = 'gpt-35-turbo'\n",
    "\n",
    "wh_count = 0\n",
    "wh_correct = 0\n",
    "for i in df_wh.index[:]:\n",
    "    question, label = df_wh.loc[i, 'question'], df_wh.loc[i, 'label']\n",
    "    output = df_wh.loc[i, f\"output_{model_id}\"]\n",
    "    \n",
    "    info = \"Question: \"+question+ \"\\nModel Answer: \"+label + \"\\nAI model generated answer: \" + output \\\n",
    "        + \"\\n. The above question's topic is \" + topic_name  + \". \"\n",
    "    string = \"\"\"\\n Please evaluate the correctness of the AI model's answer compared to the model answer. \n",
    "        Consider the following criteria and provide your judgment:\n",
    "        If the AI's answer is a more specific version of the model answer, please respond with: \"Correct\"\n",
    "        If the AI's answer is a more general version of the model answer, please respond with: \"Correct\".\n",
    "        If the AI's answer is a closely related to the model answer, please respond with: \"Correct\".\n",
    "        If the AI's answer and the model answer are entirely different entities with no direct relationship, please respond with: \"Incorrect\".\n",
    "        \"\"\"\n",
    "\n",
    "    wh_count += 1\n",
    "    raw_response = client.chat.completions.create(\n",
    "        model=llm_name, \n",
    "        messages=[{\"role\": \"system\", \"content\": \"\"}, {\"role\": \"user\", \"content\": info + string}], \n",
    "        temperature=0\n",
    "    )\n",
    "    response_str = raw_response.choices[0].message.content.strip().replace('\\n\\n\\n', '\\n\\n')\n",
    "    # response_str\n",
    "\n",
    "    if response_str and response_str.rstrip('.') == \"Correct\":\n",
    "        wh_correct += 1\n",
    "        df_wh.loc[i, f\"eval_{model_id}\"] = 1\n",
    "    else:\n",
    "        df_wh.loc[i, f\"eval_{model_id}\"] = 0\n",
    "print(f\"[GPT] The wh question accuracy of the language model is {wh_correct / wh_count}\")\n",
    "df_wh"
   ]
  },
  {
   "cell_type": "code",
   "execution_count": 19,
   "metadata": {},
   "outputs": [
    {
     "name": "stdout",
     "output_type": "stream",
     "text": [
      "[GPT] The wh question accuracy of the language model is 0.252\n"
     ]
    },
    {
     "data": {
      "text/html": [
       "<div>\n",
       "<style scoped>\n",
       "    .dataframe tbody tr th:only-of-type {\n",
       "        vertical-align: middle;\n",
       "    }\n",
       "\n",
       "    .dataframe tbody tr th {\n",
       "        vertical-align: top;\n",
       "    }\n",
       "\n",
       "    .dataframe thead th {\n",
       "        text-align: right;\n",
       "    }\n",
       "</style>\n",
       "<table border=\"1\" class=\"dataframe\">\n",
       "  <thead>\n",
       "    <tr style=\"text-align: right;\">\n",
       "      <th></th>\n",
       "      <th>type</th>\n",
       "      <th>subject</th>\n",
       "      <th>relation</th>\n",
       "      <th>object</th>\n",
       "      <th>question</th>\n",
       "      <th>label</th>\n",
       "      <th>output_meta-llama/Meta-Llama-3-8B-Instruct</th>\n",
       "      <th>eval_meta-llama/Meta-Llama-3-8B-Instruct</th>\n",
       "    </tr>\n",
       "  </thead>\n",
       "  <tbody>\n",
       "    <tr>\n",
       "      <th>1000</th>\n",
       "      <td>wh</td>\n",
       "      <td>Ontario</td>\n",
       "      <td>located in the administrative territorial entity</td>\n",
       "      <td>Niagara Falls</td>\n",
       "      <td>Which tourist attraction's located in the admi...</td>\n",
       "      <td>Niagara Falls</td>\n",
       "      <td>Niagara Falls</td>\n",
       "      <td>1.0</td>\n",
       "    </tr>\n",
       "    <tr>\n",
       "      <th>1001</th>\n",
       "      <td>wh</td>\n",
       "      <td>Alexandrov Kremlin</td>\n",
       "      <td>country</td>\n",
       "      <td>Russia</td>\n",
       "      <td>What is the country of Alexandrov Kremlin?</td>\n",
       "      <td>Russia</td>\n",
       "      <td>Russia</td>\n",
       "      <td>1.0</td>\n",
       "    </tr>\n",
       "    <tr>\n",
       "      <th>1002</th>\n",
       "      <td>wh</td>\n",
       "      <td>Alexandrov Kremlin</td>\n",
       "      <td>located in the administrative territorial entity</td>\n",
       "      <td>Alexandrov</td>\n",
       "      <td>Who is the located in the administrative terri...</td>\n",
       "      <td>Alexandrov</td>\n",
       "      <td>Alexandrov</td>\n",
       "      <td>1.0</td>\n",
       "    </tr>\n",
       "    <tr>\n",
       "      <th>1003</th>\n",
       "      <td>wh</td>\n",
       "      <td>Bukit Panjang</td>\n",
       "      <td>located in the administrative territorial entity</td>\n",
       "      <td>Bukit Timah Nature Reserve</td>\n",
       "      <td>Which tourist attraction's located in the admi...</td>\n",
       "      <td>Bukit Timah Nature Reserve</td>\n",
       "      <td>Haw Par Villa</td>\n",
       "      <td>0.0</td>\n",
       "    </tr>\n",
       "    <tr>\n",
       "      <th>1004</th>\n",
       "      <td>wh</td>\n",
       "      <td>Kastelholm Castle</td>\n",
       "      <td>country</td>\n",
       "      <td>Finland</td>\n",
       "      <td>What is the country of Kastelholm Castle?</td>\n",
       "      <td>Finland</td>\n",
       "      <td>Finland</td>\n",
       "      <td>1.0</td>\n",
       "    </tr>\n",
       "    <tr>\n",
       "      <th>...</th>\n",
       "      <td>...</td>\n",
       "      <td>...</td>\n",
       "      <td>...</td>\n",
       "      <td>...</td>\n",
       "      <td>...</td>\n",
       "      <td>...</td>\n",
       "      <td>...</td>\n",
       "      <td>...</td>\n",
       "    </tr>\n",
       "    <tr>\n",
       "      <th>1495</th>\n",
       "      <td>wh</td>\n",
       "      <td>Thornton Tomasetti</td>\n",
       "      <td>structural engineer</td>\n",
       "      <td>Petronas Towers</td>\n",
       "      <td>Which tourist attraction's structural engineer...</td>\n",
       "      <td>Petronas Towers</td>\n",
       "      <td>One World Trade</td>\n",
       "      <td>0.0</td>\n",
       "    </tr>\n",
       "    <tr>\n",
       "      <th>1496</th>\n",
       "      <td>wh</td>\n",
       "      <td>Charles II of England</td>\n",
       "      <td>occupant</td>\n",
       "      <td>Windsor Castle</td>\n",
       "      <td>Which tourist attraction's occupant is Charles...</td>\n",
       "      <td>Windsor Castle</td>\n",
       "      <td>Westminster Abbey</td>\n",
       "      <td>0.0</td>\n",
       "    </tr>\n",
       "    <tr>\n",
       "      <th>1497</th>\n",
       "      <td>wh</td>\n",
       "      <td>Charles II of England</td>\n",
       "      <td>founded by</td>\n",
       "      <td>Royal Observatory</td>\n",
       "      <td>Which tourist attraction was founded by Charle...</td>\n",
       "      <td>Royal Observatory</td>\n",
       "      <td>St. Paul's</td>\n",
       "      <td>0.0</td>\n",
       "    </tr>\n",
       "    <tr>\n",
       "      <th>1498</th>\n",
       "      <td>wh</td>\n",
       "      <td>Gateway Arch</td>\n",
       "      <td>located in protected area</td>\n",
       "      <td>Gateway Arch National Park</td>\n",
       "      <td>What is the located in protected area of Gatew...</td>\n",
       "      <td>Gateway Arch National Park</td>\n",
       "      <td>Jefferson National Park</td>\n",
       "      <td>0.0</td>\n",
       "    </tr>\n",
       "    <tr>\n",
       "      <th>1499</th>\n",
       "      <td>wh</td>\n",
       "      <td>Gateway Arch</td>\n",
       "      <td>heritage designation</td>\n",
       "      <td>National Historic Landmark</td>\n",
       "      <td>What is the heritage designation of Gateway Arch?</td>\n",
       "      <td>National Historic Landmark</td>\n",
       "      <td>National</td>\n",
       "      <td>0.0</td>\n",
       "    </tr>\n",
       "  </tbody>\n",
       "</table>\n",
       "<p>500 rows × 8 columns</p>\n",
       "</div>"
      ],
      "text/plain": [
       "     type                subject  \\\n",
       "1000   wh                Ontario   \n",
       "1001   wh     Alexandrov Kremlin   \n",
       "1002   wh     Alexandrov Kremlin   \n",
       "1003   wh          Bukit Panjang   \n",
       "1004   wh      Kastelholm Castle   \n",
       "...   ...                    ...   \n",
       "1495   wh     Thornton Tomasetti   \n",
       "1496   wh  Charles II of England   \n",
       "1497   wh  Charles II of England   \n",
       "1498   wh           Gateway Arch   \n",
       "1499   wh           Gateway Arch   \n",
       "\n",
       "                                              relation  \\\n",
       "1000  located in the administrative territorial entity   \n",
       "1001                                           country   \n",
       "1002  located in the administrative territorial entity   \n",
       "1003  located in the administrative territorial entity   \n",
       "1004                                           country   \n",
       "...                                                ...   \n",
       "1495                               structural engineer   \n",
       "1496                                          occupant   \n",
       "1497                                        founded by   \n",
       "1498                         located in protected area   \n",
       "1499                              heritage designation   \n",
       "\n",
       "                          object  \\\n",
       "1000               Niagara Falls   \n",
       "1001                      Russia   \n",
       "1002                  Alexandrov   \n",
       "1003  Bukit Timah Nature Reserve   \n",
       "1004                     Finland   \n",
       "...                          ...   \n",
       "1495             Petronas Towers   \n",
       "1496              Windsor Castle   \n",
       "1497           Royal Observatory   \n",
       "1498  Gateway Arch National Park   \n",
       "1499  National Historic Landmark   \n",
       "\n",
       "                                               question  \\\n",
       "1000  Which tourist attraction's located in the admi...   \n",
       "1001         What is the country of Alexandrov Kremlin?   \n",
       "1002  Who is the located in the administrative terri...   \n",
       "1003  Which tourist attraction's located in the admi...   \n",
       "1004          What is the country of Kastelholm Castle?   \n",
       "...                                                 ...   \n",
       "1495  Which tourist attraction's structural engineer...   \n",
       "1496  Which tourist attraction's occupant is Charles...   \n",
       "1497  Which tourist attraction was founded by Charle...   \n",
       "1498  What is the located in protected area of Gatew...   \n",
       "1499  What is the heritage designation of Gateway Arch?   \n",
       "\n",
       "                           label output_meta-llama/Meta-Llama-3-8B-Instruct  \\\n",
       "1000               Niagara Falls                              Niagara Falls   \n",
       "1001                      Russia                                     Russia   \n",
       "1002                  Alexandrov                                 Alexandrov   \n",
       "1003  Bukit Timah Nature Reserve                              Haw Par Villa   \n",
       "1004                     Finland                                    Finland   \n",
       "...                          ...                                        ...   \n",
       "1495             Petronas Towers                            One World Trade   \n",
       "1496              Windsor Castle                          Westminster Abbey   \n",
       "1497           Royal Observatory                                 St. Paul's   \n",
       "1498  Gateway Arch National Park                    Jefferson National Park   \n",
       "1499  National Historic Landmark                                   National   \n",
       "\n",
       "      eval_meta-llama/Meta-Llama-3-8B-Instruct  \n",
       "1000                                       1.0  \n",
       "1001                                       1.0  \n",
       "1002                                       1.0  \n",
       "1003                                       0.0  \n",
       "1004                                       1.0  \n",
       "...                                        ...  \n",
       "1495                                       0.0  \n",
       "1496                                       0.0  \n",
       "1497                                       0.0  \n",
       "1498                                       0.0  \n",
       "1499                                       0.0  \n",
       "\n",
       "[500 rows x 8 columns]"
      ]
     },
     "execution_count": 19,
     "metadata": {},
     "output_type": "execute_result"
    }
   ],
   "source": [
    "llm_name = 'gpt-35-turbo'\n",
    "topic = 'health_medication'\n",
    "\n",
    "system_msg_eval = \"Given two texts, labeled as Text 1 and Text 2, output '1' if they match each other semantically, and output '0' if they do not.\"\n",
    "\n",
    "wh_count = 0\n",
    "wh_correct = 0\n",
    "for i in df_wh.index[:]:\n",
    "    question, label = df_wh.loc[i, 'question'], df_wh.loc[i, 'label']\n",
    "    output = df_wh.loc[i, f\"output_{model_id}\"]\n",
    "    \n",
    "    # info = \"Question: \"+question+ \"\\nModel Answer: \"+label + \"\\nAI model generated answer: \" + output \\\n",
    "    #     + \"\\n. The above question's topic is \" + topic  + \". \"\n",
    "    prompt_eval = f\"\"\"The input texts are given as below: \\nText 1: {label} \\n\\nText 2: {output}\\n\"\"\"\n",
    "    \n",
    "    wh_count += 1\n",
    "    raw_response = client.chat.completions.create(\n",
    "        model=llm_name, \n",
    "        messages=[{\"role\": \"system\", \"content\": system_msg_eval}, {\"role\": \"user\", \"content\": prompt_eval}], \n",
    "        temperature=0\n",
    "    )\n",
    "    response_str = raw_response.choices[0].message.content.strip().replace('\\n\\n\\n', '\\n\\n')\n",
    "\n",
    "    if str(response_str) == '1':\n",
    "        wh_correct += 1\n",
    "        df_wh.loc[i, f\"eval_{model_id}\"] = 1\n",
    "    else:\n",
    "        df_wh.loc[i, f\"eval_{model_id}\"] = 0\n",
    "print(f\"[GPT] The wh question accuracy of the language model is {wh_correct / wh_count}\")\n",
    "df_wh"
   ]
  },
  {
   "cell_type": "code",
   "execution_count": 21,
   "metadata": {},
   "outputs": [
    {
     "data": {
      "text/html": [
       "<div>\n",
       "<style scoped>\n",
       "    .dataframe tbody tr th:only-of-type {\n",
       "        vertical-align: middle;\n",
       "    }\n",
       "\n",
       "    .dataframe tbody tr th {\n",
       "        vertical-align: top;\n",
       "    }\n",
       "\n",
       "    .dataframe thead th {\n",
       "        text-align: right;\n",
       "    }\n",
       "</style>\n",
       "<table border=\"1\" class=\"dataframe\">\n",
       "  <thead>\n",
       "    <tr style=\"text-align: right;\">\n",
       "      <th></th>\n",
       "      <th>type</th>\n",
       "      <th>subject</th>\n",
       "      <th>relation</th>\n",
       "      <th>object</th>\n",
       "      <th>question</th>\n",
       "      <th>label</th>\n",
       "      <th>output_meta-llama/Meta-Llama-3-8B-Instruct</th>\n",
       "      <th>eval_meta-llama/Meta-Llama-3-8B-Instruct</th>\n",
       "    </tr>\n",
       "  </thead>\n",
       "  <tbody>\n",
       "    <tr>\n",
       "      <th>1000</th>\n",
       "      <td>wh</td>\n",
       "      <td>Ontario</td>\n",
       "      <td>located in the administrative territorial entity</td>\n",
       "      <td>Niagara Falls</td>\n",
       "      <td>Which tourist attraction's located in the admi...</td>\n",
       "      <td>Niagara Falls</td>\n",
       "      <td>Niagara Falls</td>\n",
       "      <td>1.0</td>\n",
       "    </tr>\n",
       "    <tr>\n",
       "      <th>1001</th>\n",
       "      <td>wh</td>\n",
       "      <td>Alexandrov Kremlin</td>\n",
       "      <td>country</td>\n",
       "      <td>Russia</td>\n",
       "      <td>What is the country of Alexandrov Kremlin?</td>\n",
       "      <td>Russia</td>\n",
       "      <td>Russia</td>\n",
       "      <td>1.0</td>\n",
       "    </tr>\n",
       "    <tr>\n",
       "      <th>1002</th>\n",
       "      <td>wh</td>\n",
       "      <td>Alexandrov Kremlin</td>\n",
       "      <td>located in the administrative territorial entity</td>\n",
       "      <td>Alexandrov</td>\n",
       "      <td>Who is the located in the administrative terri...</td>\n",
       "      <td>Alexandrov</td>\n",
       "      <td>Alexandrov</td>\n",
       "      <td>1.0</td>\n",
       "    </tr>\n",
       "    <tr>\n",
       "      <th>1004</th>\n",
       "      <td>wh</td>\n",
       "      <td>Kastelholm Castle</td>\n",
       "      <td>country</td>\n",
       "      <td>Finland</td>\n",
       "      <td>What is the country of Kastelholm Castle?</td>\n",
       "      <td>Finland</td>\n",
       "      <td>Finland</td>\n",
       "      <td>1.0</td>\n",
       "    </tr>\n",
       "    <tr>\n",
       "      <th>1012</th>\n",
       "      <td>wh</td>\n",
       "      <td>John Rylands Library</td>\n",
       "      <td>country</td>\n",
       "      <td>United Kingdom</td>\n",
       "      <td>What is the country of John Rylands Library?</td>\n",
       "      <td>United Kingdom</td>\n",
       "      <td>United Kingdom</td>\n",
       "      <td>1.0</td>\n",
       "    </tr>\n",
       "    <tr>\n",
       "      <th>...</th>\n",
       "      <td>...</td>\n",
       "      <td>...</td>\n",
       "      <td>...</td>\n",
       "      <td>...</td>\n",
       "      <td>...</td>\n",
       "      <td>...</td>\n",
       "      <td>...</td>\n",
       "      <td>...</td>\n",
       "    </tr>\n",
       "    <tr>\n",
       "      <th>1474</th>\n",
       "      <td>wh</td>\n",
       "      <td>Jōshin'etsu-kōgen National Park</td>\n",
       "      <td>located in protected area</td>\n",
       "      <td>Shiga Highlands</td>\n",
       "      <td>Which tourist attraction's located in protecte...</td>\n",
       "      <td>Shiga Highlands</td>\n",
       "      <td>Shiga Kogen</td>\n",
       "      <td>1.0</td>\n",
       "    </tr>\n",
       "    <tr>\n",
       "      <th>1475</th>\n",
       "      <td>wh</td>\n",
       "      <td>Mount Kilimanjaro</td>\n",
       "      <td>country</td>\n",
       "      <td>Tanzania</td>\n",
       "      <td>What is the country of Mount Kilimanjaro?</td>\n",
       "      <td>Tanzania</td>\n",
       "      <td>Tanzania</td>\n",
       "      <td>1.0</td>\n",
       "    </tr>\n",
       "    <tr>\n",
       "      <th>1484</th>\n",
       "      <td>wh</td>\n",
       "      <td>Night Safari</td>\n",
       "      <td>country</td>\n",
       "      <td>Singapore</td>\n",
       "      <td>What is the country of Night Safari?</td>\n",
       "      <td>Singapore</td>\n",
       "      <td>Singapore</td>\n",
       "      <td>1.0</td>\n",
       "    </tr>\n",
       "    <tr>\n",
       "      <th>1489</th>\n",
       "      <td>wh</td>\n",
       "      <td>St Paul's Cathedral</td>\n",
       "      <td>architect</td>\n",
       "      <td>Christopher Wren</td>\n",
       "      <td>Who does St Paul's Cathedral architect?</td>\n",
       "      <td>Christopher Wren</td>\n",
       "      <td>Christopher Wren</td>\n",
       "      <td>1.0</td>\n",
       "    </tr>\n",
       "    <tr>\n",
       "      <th>1491</th>\n",
       "      <td>wh</td>\n",
       "      <td>St Paul's Cathedral</td>\n",
       "      <td>country</td>\n",
       "      <td>United Kingdom</td>\n",
       "      <td>What is the country of St Paul's Cathedral?</td>\n",
       "      <td>United Kingdom</td>\n",
       "      <td>United Kingdom</td>\n",
       "      <td>1.0</td>\n",
       "    </tr>\n",
       "  </tbody>\n",
       "</table>\n",
       "<p>139 rows × 8 columns</p>\n",
       "</div>"
      ],
      "text/plain": [
       "     type                          subject  \\\n",
       "1000   wh                          Ontario   \n",
       "1001   wh               Alexandrov Kremlin   \n",
       "1002   wh               Alexandrov Kremlin   \n",
       "1004   wh                Kastelholm Castle   \n",
       "1012   wh             John Rylands Library   \n",
       "...   ...                              ...   \n",
       "1474   wh  Jōshin'etsu-kōgen National Park   \n",
       "1475   wh                Mount Kilimanjaro   \n",
       "1484   wh                     Night Safari   \n",
       "1489   wh              St Paul's Cathedral   \n",
       "1491   wh              St Paul's Cathedral   \n",
       "\n",
       "                                              relation            object  \\\n",
       "1000  located in the administrative territorial entity     Niagara Falls   \n",
       "1001                                           country            Russia   \n",
       "1002  located in the administrative territorial entity        Alexandrov   \n",
       "1004                                           country           Finland   \n",
       "1012                                           country    United Kingdom   \n",
       "...                                                ...               ...   \n",
       "1474                         located in protected area   Shiga Highlands   \n",
       "1475                                           country          Tanzania   \n",
       "1484                                           country         Singapore   \n",
       "1489                                         architect  Christopher Wren   \n",
       "1491                                           country    United Kingdom   \n",
       "\n",
       "                                               question             label  \\\n",
       "1000  Which tourist attraction's located in the admi...     Niagara Falls   \n",
       "1001         What is the country of Alexandrov Kremlin?            Russia   \n",
       "1002  Who is the located in the administrative terri...        Alexandrov   \n",
       "1004          What is the country of Kastelholm Castle?           Finland   \n",
       "1012       What is the country of John Rylands Library?    United Kingdom   \n",
       "...                                                 ...               ...   \n",
       "1474  Which tourist attraction's located in protecte...   Shiga Highlands   \n",
       "1475          What is the country of Mount Kilimanjaro?          Tanzania   \n",
       "1484               What is the country of Night Safari?         Singapore   \n",
       "1489            Who does St Paul's Cathedral architect?  Christopher Wren   \n",
       "1491        What is the country of St Paul's Cathedral?    United Kingdom   \n",
       "\n",
       "     output_meta-llama/Meta-Llama-3-8B-Instruct  \\\n",
       "1000                              Niagara Falls   \n",
       "1001                                     Russia   \n",
       "1002                                 Alexandrov   \n",
       "1004                                    Finland   \n",
       "1012                             United Kingdom   \n",
       "...                                         ...   \n",
       "1474                                Shiga Kogen   \n",
       "1475                                   Tanzania   \n",
       "1484                                  Singapore   \n",
       "1489                           Christopher Wren   \n",
       "1491                             United Kingdom   \n",
       "\n",
       "      eval_meta-llama/Meta-Llama-3-8B-Instruct  \n",
       "1000                                       1.0  \n",
       "1001                                       1.0  \n",
       "1002                                       1.0  \n",
       "1004                                       1.0  \n",
       "1012                                       1.0  \n",
       "...                                        ...  \n",
       "1474                                       1.0  \n",
       "1475                                       1.0  \n",
       "1484                                       1.0  \n",
       "1489                                       1.0  \n",
       "1491                                       1.0  \n",
       "\n",
       "[139 rows x 8 columns]"
      ]
     },
     "execution_count": 21,
     "metadata": {},
     "output_type": "execute_result"
    }
   ],
   "source": [
    "df_wh[df_wh[f\"eval_{model_id}\"]==1]"
   ]
  },
  {
   "cell_type": "code",
   "execution_count": 20,
   "metadata": {},
   "outputs": [
    {
     "name": "stdout",
     "output_type": "stream",
     "text": [
      "[GPT] The wh question accuracy of the language model is 0.278\n"
     ]
    },
    {
     "data": {
      "text/html": [
       "<div>\n",
       "<style scoped>\n",
       "    .dataframe tbody tr th:only-of-type {\n",
       "        vertical-align: middle;\n",
       "    }\n",
       "\n",
       "    .dataframe tbody tr th {\n",
       "        vertical-align: top;\n",
       "    }\n",
       "\n",
       "    .dataframe thead th {\n",
       "        text-align: right;\n",
       "    }\n",
       "</style>\n",
       "<table border=\"1\" class=\"dataframe\">\n",
       "  <thead>\n",
       "    <tr style=\"text-align: right;\">\n",
       "      <th></th>\n",
       "      <th>type</th>\n",
       "      <th>subject</th>\n",
       "      <th>relation</th>\n",
       "      <th>object</th>\n",
       "      <th>question</th>\n",
       "      <th>label</th>\n",
       "      <th>output_meta-llama/Meta-Llama-3-8B-Instruct</th>\n",
       "      <th>eval_meta-llama/Meta-Llama-3-8B-Instruct</th>\n",
       "    </tr>\n",
       "  </thead>\n",
       "  <tbody>\n",
       "    <tr>\n",
       "      <th>1000</th>\n",
       "      <td>wh</td>\n",
       "      <td>Ontario</td>\n",
       "      <td>located in the administrative territorial entity</td>\n",
       "      <td>Niagara Falls</td>\n",
       "      <td>Which tourist attraction's located in the admi...</td>\n",
       "      <td>Niagara Falls</td>\n",
       "      <td>Niagara Falls</td>\n",
       "      <td>1.0</td>\n",
       "    </tr>\n",
       "    <tr>\n",
       "      <th>1001</th>\n",
       "      <td>wh</td>\n",
       "      <td>Alexandrov Kremlin</td>\n",
       "      <td>country</td>\n",
       "      <td>Russia</td>\n",
       "      <td>What is the country of Alexandrov Kremlin?</td>\n",
       "      <td>Russia</td>\n",
       "      <td>Russia</td>\n",
       "      <td>1.0</td>\n",
       "    </tr>\n",
       "    <tr>\n",
       "      <th>1002</th>\n",
       "      <td>wh</td>\n",
       "      <td>Alexandrov Kremlin</td>\n",
       "      <td>located in the administrative territorial entity</td>\n",
       "      <td>Alexandrov</td>\n",
       "      <td>Who is the located in the administrative terri...</td>\n",
       "      <td>Alexandrov</td>\n",
       "      <td>Alexandrov</td>\n",
       "      <td>1.0</td>\n",
       "    </tr>\n",
       "    <tr>\n",
       "      <th>1003</th>\n",
       "      <td>wh</td>\n",
       "      <td>Bukit Panjang</td>\n",
       "      <td>located in the administrative territorial entity</td>\n",
       "      <td>Bukit Timah Nature Reserve</td>\n",
       "      <td>Which tourist attraction's located in the admi...</td>\n",
       "      <td>Bukit Timah Nature Reserve</td>\n",
       "      <td>Haw Par Villa</td>\n",
       "      <td>0.0</td>\n",
       "    </tr>\n",
       "    <tr>\n",
       "      <th>1004</th>\n",
       "      <td>wh</td>\n",
       "      <td>Kastelholm Castle</td>\n",
       "      <td>country</td>\n",
       "      <td>Finland</td>\n",
       "      <td>What is the country of Kastelholm Castle?</td>\n",
       "      <td>Finland</td>\n",
       "      <td>Finland</td>\n",
       "      <td>1.0</td>\n",
       "    </tr>\n",
       "    <tr>\n",
       "      <th>...</th>\n",
       "      <td>...</td>\n",
       "      <td>...</td>\n",
       "      <td>...</td>\n",
       "      <td>...</td>\n",
       "      <td>...</td>\n",
       "      <td>...</td>\n",
       "      <td>...</td>\n",
       "      <td>...</td>\n",
       "    </tr>\n",
       "    <tr>\n",
       "      <th>1495</th>\n",
       "      <td>wh</td>\n",
       "      <td>Thornton Tomasetti</td>\n",
       "      <td>structural engineer</td>\n",
       "      <td>Petronas Towers</td>\n",
       "      <td>Which tourist attraction's structural engineer...</td>\n",
       "      <td>Petronas Towers</td>\n",
       "      <td>One World Trade</td>\n",
       "      <td>0.0</td>\n",
       "    </tr>\n",
       "    <tr>\n",
       "      <th>1496</th>\n",
       "      <td>wh</td>\n",
       "      <td>Charles II of England</td>\n",
       "      <td>occupant</td>\n",
       "      <td>Windsor Castle</td>\n",
       "      <td>Which tourist attraction's occupant is Charles...</td>\n",
       "      <td>Windsor Castle</td>\n",
       "      <td>Westminster Abbey</td>\n",
       "      <td>0.0</td>\n",
       "    </tr>\n",
       "    <tr>\n",
       "      <th>1497</th>\n",
       "      <td>wh</td>\n",
       "      <td>Charles II of England</td>\n",
       "      <td>founded by</td>\n",
       "      <td>Royal Observatory</td>\n",
       "      <td>Which tourist attraction was founded by Charle...</td>\n",
       "      <td>Royal Observatory</td>\n",
       "      <td>St. Paul's</td>\n",
       "      <td>0.0</td>\n",
       "    </tr>\n",
       "    <tr>\n",
       "      <th>1498</th>\n",
       "      <td>wh</td>\n",
       "      <td>Gateway Arch</td>\n",
       "      <td>located in protected area</td>\n",
       "      <td>Gateway Arch National Park</td>\n",
       "      <td>What is the located in protected area of Gatew...</td>\n",
       "      <td>Gateway Arch National Park</td>\n",
       "      <td>Jefferson National Park</td>\n",
       "      <td>0.0</td>\n",
       "    </tr>\n",
       "    <tr>\n",
       "      <th>1499</th>\n",
       "      <td>wh</td>\n",
       "      <td>Gateway Arch</td>\n",
       "      <td>heritage designation</td>\n",
       "      <td>National Historic Landmark</td>\n",
       "      <td>What is the heritage designation of Gateway Arch?</td>\n",
       "      <td>National Historic Landmark</td>\n",
       "      <td>National</td>\n",
       "      <td>0.0</td>\n",
       "    </tr>\n",
       "  </tbody>\n",
       "</table>\n",
       "<p>500 rows × 8 columns</p>\n",
       "</div>"
      ],
      "text/plain": [
       "     type                subject  \\\n",
       "1000   wh                Ontario   \n",
       "1001   wh     Alexandrov Kremlin   \n",
       "1002   wh     Alexandrov Kremlin   \n",
       "1003   wh          Bukit Panjang   \n",
       "1004   wh      Kastelholm Castle   \n",
       "...   ...                    ...   \n",
       "1495   wh     Thornton Tomasetti   \n",
       "1496   wh  Charles II of England   \n",
       "1497   wh  Charles II of England   \n",
       "1498   wh           Gateway Arch   \n",
       "1499   wh           Gateway Arch   \n",
       "\n",
       "                                              relation  \\\n",
       "1000  located in the administrative territorial entity   \n",
       "1001                                           country   \n",
       "1002  located in the administrative territorial entity   \n",
       "1003  located in the administrative territorial entity   \n",
       "1004                                           country   \n",
       "...                                                ...   \n",
       "1495                               structural engineer   \n",
       "1496                                          occupant   \n",
       "1497                                        founded by   \n",
       "1498                         located in protected area   \n",
       "1499                              heritage designation   \n",
       "\n",
       "                          object  \\\n",
       "1000               Niagara Falls   \n",
       "1001                      Russia   \n",
       "1002                  Alexandrov   \n",
       "1003  Bukit Timah Nature Reserve   \n",
       "1004                     Finland   \n",
       "...                          ...   \n",
       "1495             Petronas Towers   \n",
       "1496              Windsor Castle   \n",
       "1497           Royal Observatory   \n",
       "1498  Gateway Arch National Park   \n",
       "1499  National Historic Landmark   \n",
       "\n",
       "                                               question  \\\n",
       "1000  Which tourist attraction's located in the admi...   \n",
       "1001         What is the country of Alexandrov Kremlin?   \n",
       "1002  Who is the located in the administrative terri...   \n",
       "1003  Which tourist attraction's located in the admi...   \n",
       "1004          What is the country of Kastelholm Castle?   \n",
       "...                                                 ...   \n",
       "1495  Which tourist attraction's structural engineer...   \n",
       "1496  Which tourist attraction's occupant is Charles...   \n",
       "1497  Which tourist attraction was founded by Charle...   \n",
       "1498  What is the located in protected area of Gatew...   \n",
       "1499  What is the heritage designation of Gateway Arch?   \n",
       "\n",
       "                           label output_meta-llama/Meta-Llama-3-8B-Instruct  \\\n",
       "1000               Niagara Falls                              Niagara Falls   \n",
       "1001                      Russia                                     Russia   \n",
       "1002                  Alexandrov                                 Alexandrov   \n",
       "1003  Bukit Timah Nature Reserve                              Haw Par Villa   \n",
       "1004                     Finland                                    Finland   \n",
       "...                          ...                                        ...   \n",
       "1495             Petronas Towers                            One World Trade   \n",
       "1496              Windsor Castle                          Westminster Abbey   \n",
       "1497           Royal Observatory                                 St. Paul's   \n",
       "1498  Gateway Arch National Park                    Jefferson National Park   \n",
       "1499  National Historic Landmark                                   National   \n",
       "\n",
       "      eval_meta-llama/Meta-Llama-3-8B-Instruct  \n",
       "1000                                       1.0  \n",
       "1001                                       1.0  \n",
       "1002                                       1.0  \n",
       "1003                                       0.0  \n",
       "1004                                       1.0  \n",
       "...                                        ...  \n",
       "1495                                       0.0  \n",
       "1496                                       0.0  \n",
       "1497                                       0.0  \n",
       "1498                                       0.0  \n",
       "1499                                       0.0  \n",
       "\n",
       "[500 rows x 8 columns]"
      ]
     },
     "execution_count": 20,
     "metadata": {},
     "output_type": "execute_result"
    }
   ],
   "source": [
    "system_msg_eval = \"\"\"Given a question, a correct answer, and a prediction, evaluate whether the prediction is semantically equivalent to the correct answer. \\\n",
    "Output '1' if they are semantically equivalent, otherwise output '0'.\"\"\"\n",
    "\n",
    "wh_count = 0\n",
    "wh_correct = 0\n",
    "for i in df_wh.index[:]:\n",
    "    question, label = df_wh.loc[i, 'question'], df_wh.loc[i, 'label']\n",
    "    output = df_wh.loc[i, f\"output_{model_id}\"]\n",
    "    \n",
    "        # + \"\\n. The above question's topic is \" + topic  + \". \"\n",
    "    prompt_eval = f\"\"\"The inputs are given as below: \\nquestion: {question} \\n\\ncorrect answer: {label} \\n\\nprediction: {output}\\n\"\"\"\n",
    "    \n",
    "    wh_count += 1\n",
    "    raw_response = client.chat.completions.create(\n",
    "        model=llm_name, \n",
    "        messages=[{\"role\": \"system\", \"content\": system_msg_eval}, {\"role\": \"user\", \"content\": prompt_eval}], \n",
    "        temperature=0\n",
    "    )\n",
    "    response_str = raw_response.choices[0].message.content.strip().replace('\\n\\n\\n', '\\n\\n')\n",
    "\n",
    "    if str(response_str) == '1':\n",
    "        wh_correct += 1\n",
    "        df_wh.loc[i, f\"eval_{model_id}\"] = 1\n",
    "    else:\n",
    "        df_wh.loc[i, f\"eval_{model_id}\"] = 0\n",
    "print(f\"[GPT] The wh question accuracy of the language model is {wh_correct / wh_count}\")\n",
    "df_wh"
   ]
  },
  {
   "cell_type": "markdown",
   "metadata": {},
   "source": [
    "### Generate yes_no, portability, and locality questions\n",
    "\n",
    "2-stage filter"
   ]
  },
  {
   "cell_type": "code",
   "execution_count": 22,
   "metadata": {},
   "outputs": [
    {
     "name": "stdout",
     "output_type": "stream",
     "text": [
      "343\n"
     ]
    },
    {
     "data": {
      "text/html": [
       "<div>\n",
       "<style scoped>\n",
       "    .dataframe tbody tr th:only-of-type {\n",
       "        vertical-align: middle;\n",
       "    }\n",
       "\n",
       "    .dataframe tbody tr th {\n",
       "        vertical-align: top;\n",
       "    }\n",
       "\n",
       "    .dataframe thead th {\n",
       "        text-align: right;\n",
       "    }\n",
       "</style>\n",
       "<table border=\"1\" class=\"dataframe\">\n",
       "  <thead>\n",
       "    <tr style=\"text-align: right;\">\n",
       "      <th></th>\n",
       "      <th>topic</th>\n",
       "      <th>type</th>\n",
       "      <th>subject</th>\n",
       "      <th>relation</th>\n",
       "      <th>object</th>\n",
       "      <th>question</th>\n",
       "      <th>label</th>\n",
       "      <th>output_meta_llama_3.1_8b_instruct</th>\n",
       "      <th>eval_meta_llama_3.1_8b_instruct</th>\n",
       "    </tr>\n",
       "  </thead>\n",
       "  <tbody>\n",
       "    <tr>\n",
       "      <th>0</th>\n",
       "      <td>places_city</td>\n",
       "      <td>wh</td>\n",
       "      <td>Novokuznetsk</td>\n",
       "      <td>twinned administrative body</td>\n",
       "      <td>Haifa</td>\n",
       "      <td>Which city's twinned administrative body is No...</td>\n",
       "      <td>Haifa</td>\n",
       "      <td>Kemerovo</td>\n",
       "      <td>0.0</td>\n",
       "    </tr>\n",
       "    <tr>\n",
       "      <th>1</th>\n",
       "      <td>places_city</td>\n",
       "      <td>wh</td>\n",
       "      <td>Constanța</td>\n",
       "      <td>located in/on physical feature</td>\n",
       "      <td>Dobruja</td>\n",
       "      <td>What is the located in/on physical feature of ...</td>\n",
       "      <td>Dobruja</td>\n",
       "      <td>Black Sea</td>\n",
       "      <td>0.0</td>\n",
       "    </tr>\n",
       "  </tbody>\n",
       "</table>\n",
       "</div>"
      ],
      "text/plain": [
       "         topic type       subject                        relation   object  \\\n",
       "0  places_city   wh  Novokuznetsk     twinned administrative body    Haifa   \n",
       "1  places_city   wh     Constanța  located in/on physical feature  Dobruja   \n",
       "\n",
       "                                            question    label  \\\n",
       "0  Which city's twinned administrative body is No...    Haifa   \n",
       "1  What is the located in/on physical feature of ...  Dobruja   \n",
       "\n",
       "  output_meta_llama_3.1_8b_instruct  eval_meta_llama_3.1_8b_instruct  \n",
       "0                          Kemerovo                              0.0  \n",
       "1                         Black Sea                              0.0  "
      ]
     },
     "execution_count": 22,
     "metadata": {},
     "output_type": "execute_result"
    }
   ],
   "source": [
    "df_wh_hallu = pd.read_csv(f\"../data/questions/wh_only/hallucination_only/{model_id_format}_{domain_topic_name}.csv\")\n",
    "df_wh_hallu = df_wh_hallu[df_wh_hallu.topic==domain_topic_name]\n",
    "print(len(df_wh_hallu))\n",
    "df_wh_hallu.head(2)"
   ]
  },
  {
   "cell_type": "code",
   "execution_count": 25,
   "metadata": {},
   "outputs": [],
   "source": [
    "# Use GPT-4o to generate other types of questions\n",
    "from openai import AzureOpenAI\n",
    "\n",
    "def load_api_key(key, file_path='api_key.json'):\n",
    "    with open(file_path, 'r') as file:\n",
    "        data = json.load(file)\n",
    "    return data[key]\n",
    "\n",
    "# client = AzureOpenAI(api_key=load_api_key('api_key_n_central_us'), api_version='2023-05-15', azure_endpoint=\"https://n-central-us.openai.azure.com/\")\n",
    "client = AzureOpenAI(api_key=load_api_key('api_key_east_us'), api_version='2023-05-15', azure_endpoint=\"https://east-us-one.openai.azure.com/\")"
   ]
  },
  {
   "cell_type": "code",
   "execution_count": 30,
   "metadata": {},
   "outputs": [
    {
     "name": "stdout",
     "output_type": "stream",
     "text": [
      "{'paraphrased_question': 'What is the name of the city that is twinned with Novokuznetsk?', 'yes_question': 'Is Haifa the twinned administrative body of Novokuznetsk?', 'no_question': 'Is Kemerovo the twinned administrative body of Novokuznetsk?', 'multiple_choice_question': {'A': 'Haifa', 'B': 'Kemerovo', 'C': 'Moscow', 'D': 'Vladivostok'}, 'reversed_relation_question': 'Which city is twinned with Haifa?'}\n",
      "{'paraphrased_question': 'Which physical feature is Constanța situated on?', 'yes_question': 'Is Dobruja the physical feature where Constanța is located?', 'no_question': 'Is the Black Sea the physical feature where Constanța is located?', 'multiple_choice_question': {'A': 'Dobruja', 'B': 'Black Sea', 'C': 'Moldavia', 'D': 'Transylvania'}, 'reversed_relation_question': 'What city is located in Dobruja?'}\n",
      "{'paraphrased_question': 'What is the name of the city that is twinned with Rochdale?', 'yes_question': 'Is Tourcoing the twinned administrative body of Rochdale?', 'no_question': 'Is Rzeszów the twinned administrative body of Rochdale?', 'multiple_choice_question': {'A': 'Tourcoing', 'B': 'Rzeszów', 'C': 'Lille', 'D': 'Dunkerque'}, 'reversed_relation_question': 'Which city is twinned with Tourcoing?'}\n",
      "{'paraphrased_question': 'Who holds the position of head of government in Calais?', 'yes_question': 'Is Natacha Bouchart the head of government of Calais?', 'no_question': 'Is the Mayor the head of government of Calais?', 'multiple_choice_question': {'question': 'Who is the head of government of Calais?', 'options': {'A': 'Natacha Bouchart', 'B': 'Mayor', 'C': 'Jean Dupont', 'D': 'Marie Curie'}}, 'reversed_relation_question': 'Who is the government head of Natacha Bouchart?'}\n",
      "{'paraphrased_question': 'What city is situated in or near a body of water that is Mayenne?', 'yes_question': 'Is Angers the city located in or next to a body of water that is Mayenne?', 'no_question': 'Is Mayenne located in or next to a body of water that is the Mayenne River?', 'multiple_choice_question': {'question': 'Which city is located in or next to a body of water that is Mayenne?', 'options': {'A': 'Angers', 'B': 'Nantes', 'C': 'Laval', 'D': 'Mayenne'}}, 'reversed_relation_question': 'Which body of water is Mayenne located in or next to?'}\n",
      "{'paraphrased_question': 'What is the twinned administrative body of Ohio?', 'yes_question': 'Is Buenos Aires the twinned administrative body of Ohio?', 'no_question': 'Is Columbus the twinned administrative body of Ohio?', 'multiple_choice_question': {'A': 'Buenos Aires', 'B': 'Columbus', 'C': 'Cleveland', 'D': 'Cincinnati'}, 'reversed_relation_question': 'Which city is twinned with Buenos Aires?'}\n",
      "{'paraphrased_question': 'What is the name of the city that is twinned with Zakopane?', 'yes_question': 'Is Saint-Dié-des-Vosges the twinned administrative body of Zakopane?', 'no_question': 'Is Chamonix the twinned administrative body of Zakopane?', 'multiple_choice_question': {'A': 'Saint-Dié-des-Vosges', 'B': 'Chamonix', 'C': 'Kraków', 'D': 'Wrocław'}, 'reversed_relation_question': 'Which city is twinned with Saint-Dié-des-Vosges?'}\n",
      "{'paraphrased_question': 'What is the name of the city that is twinned with Formigine?', 'yes_question': 'Is Saumur the twinned administrative body of Formigine?', 'no_question': 'Is Bologna the twinned administrative body of Formigine?', 'multiple_choice_question': {'A': 'Saumur', 'B': 'Bologna', 'C': 'Lyon', 'D': 'Marseille'}, 'reversed_relation_question': 'Which city is twinned with Saumur?'}\n",
      "{'paraphrased_question': 'Which administrative body is twinned with Fort-de-France?', 'yes_question': 'Is Belém the twinned administrative body of Fort-de-France?', 'no_question': 'Is Saint-Pierre the twinned administrative body of Fort-de-France?', 'multiple_choice_question': {'A': 'Belém', 'B': 'Saint-Pierre', 'C': 'Cayenne', 'D': 'Pointe-à-Pitre'}, 'reversed_relation_question': 'What is the city that is twinned with Belém?'}\n",
      "{'paraphrased_question': 'What is the name of the city that is twinned with Uummannaq?', 'yes_question': 'Is Helsingør the twinned administrative body of Uummannaq?', 'no_question': 'Is Aarhus the twinned administrative body of Uummannaq?', 'multiple_choice_question': {'A': 'Helsingør', 'B': 'Aarhus', 'C': 'Copenhagen', 'D': 'Odense'}, 'reversed_relation_question': 'Which city is twinned with Helsingør?'}\n",
      "{'paraphrased_question': 'What city shares its name with Marne?', 'yes_question': 'Was Champigny-sur-Marne named after Marne?', 'no_question': 'Was Paris named after Marne?', 'multiple_choice_question': {'A': 'Champigny-sur-Marne', 'B': 'Paris', 'C': 'Lyon', 'D': 'Nice'}, 'reversed_relation_question': 'Which river is Champigny-sur-Marne named after?'}\n",
      "{'paraphrased_question': 'What is the name of the city that is twinned with Gorlice?', 'yes_question': 'Is Nyíregyháza the twinned administrative body of Gorlice?', 'no_question': 'Is Krosno the twinned administrative body of Gorlice?', 'multiple_choice_question': {'A': 'Nyíregyháza', 'B': 'Krosno', 'C': 'Debrecen', 'D': 'Szeged'}, 'reversed_relation_question': 'Which city is twinned with Nyíregyháza?'}\n",
      "{'paraphrased_question': 'Which time zone is Conakry situated in?', 'yes_question': 'Is Conakry located in Greenwich Mean Time?', 'no_question': 'Is Conakry located in GMT?', 'multiple_choice_question': {'A': 'Greenwich Mean Time', 'B': 'GMT', 'C': 'Central European Time', 'D': 'Eastern Standard Time'}, 'reversed_relation_question': 'What is the location of Greenwich Mean Time?'}\n",
      "{'paraphrased_question': 'What is the name of the city that is twinned with Conakry?', 'yes_question': 'Is Freetown the twinned administrative body of Conakry?', 'no_question': 'Is Paris the twinned administrative body of Conakry?', 'multiple_choice_question': {'A': 'Freetown', 'B': 'Paris', 'C': 'Monrovia', 'D': 'Dakar'}, 'reversed_relation_question': 'Which city is twinned with Freetown?'}\n",
      "{'paraphrased_question': 'What city derives its name from Islam?', 'yes_question': 'Was Islamabad named after Islam?', 'no_question': 'Was Istanbul named after Islam?', 'multiple_choice_question': {'A': 'Islamabad', 'B': 'Istanbul', 'C': 'Cairo', 'D': 'Tehran'}, 'reversed_relation_question': 'What is the name of the religion after which Islamabad is named?'}\n",
      "{'paraphrased_question': 'What city did Henry Morton Stanley establish?', 'yes_question': 'Was Kinshasa founded by Henry Morton Stanley?', 'no_question': 'Was Dar-es-Salaam founded by Henry Morton Stanley?', 'multiple_choice_question': {'A': 'Kinshasa', 'B': 'Dar-es-Salaam', 'C': 'Nairobi', 'D': 'Lagos'}, 'reversed_relation_question': 'Who founded Kinshasa?'}\n",
      "{'paraphrased_question': 'In which administrative territorial entity can Rzeszów be found?', 'yes_question': 'Is Rzeszów located in the Subcarpathian Voivodeship?', 'no_question': 'Is Rzeszów located in Podkarpackie?', 'multiple_choice_question': {'A': 'Subcarpathian Voivodeship', 'B': 'Podkarpackie', 'C': 'Masovian Voivodeship', 'D': 'Lesser Poland Voivodeship'}, 'reversed_relation_question': 'Which administrative territorial entity is Rzeszów located in?'}\n",
      "{'paraphrased_question': 'What is the name of the city that is twinned with Brčko?', 'yes_question': 'Is Samsun the twinned administrative body of Brčko?', 'no_question': 'Is Brčko District, Bosnia and Herzegovina the twinned administrative body of Brčko?', 'multiple_choice_question': {'A': 'Samsun', 'B': 'Brčko District, Bosnia and Herzegovina', 'C': 'Tuzla', 'D': 'Banja Luka'}, 'reversed_relation_question': 'Which city is twinned with Samsun?'}\n",
      "{'paraphrased_question': 'Which administrative body is twinned with Apia?', 'yes_question': 'Is Compton the twinned administrative body of Apia?', 'no_question': 'Is Matautu the twinned administrative body of Apia?', 'multiple_choice_question': {'A': 'Compton', 'B': 'Matautu', 'C': 'Faleasiu', 'D': 'Vaitele'}, 'reversed_relation_question': 'What is the administrative body that is twinned with Compton?'}\n",
      "{'paraphrased_question': 'What is the twinned administrative body of the city Uman?', 'yes_question': 'Is Gniezno the twinned administrative body of Uman?', 'no_question': 'Is Kiev the twinned administrative body of Uman?', 'multiple_choice_question': {'A': 'Gniezno', 'B': 'Kiev', 'C': 'Lviv', 'D': 'Kharkiv'}, 'reversed_relation_question': 'Which city is twinned with Gniezno?'}\n",
      "{'paraphrased_question': 'What is the name of the city that is twinned with Boulder?', 'yes_question': 'Is Dushanbe the twinned administrative body of Boulder?', 'no_question': \"Is Boulder, Colorado twinned with Ulaanbaatar's administrative body?\", 'multiple_choice_question': {'A': 'Dushanbe', 'B': 'Ulaanbaatar', 'C': 'Astana', 'D': 'Tashkent'}, 'reversed_relation_question': 'Which city is twinned with Boulder?'}\n",
      "{'paraphrased_question': 'What is the name of the city that is twinned with Asahikawa?', 'yes_question': 'Is Harbin the twinned administrative body of Asahikawa?', 'no_question': 'Is Sapporo the twinned administrative body of Asahikawa?', 'multiple_choice_question': {'A': 'Harbin', 'B': 'Sapporo', 'C': 'Tokyo', 'D': 'Osaka'}, 'reversed_relation_question': 'Which city is twinned with Harbin?'}\n",
      "{'paraphrased_question': 'What is the name of the city that is twinned with Saint-Valery-en-Caux?', 'yes_question': 'Is Inverness the twinned administrative body of Saint-Valery-en-Caux?', 'no_question': 'Is Dieppe the twinned administrative body of Saint-Valery-en-Caux?', 'multiple_choice_question': {'A': 'Inverness', 'B': 'Dieppe', 'C': 'Rouen', 'D': 'Le Havre'}, 'reversed_relation_question': 'Which city is twinned with Inverness?'}\n",
      "{'paraphrased_question': 'What is the twinned administrative body of Bakersfield?', 'yes_question': 'Is Amritsar the twinned administrative body of Bakersfield?', 'no_question': 'Is Kabul the twinned administrative body of Bakersfield?', 'multiple_choice_question': {'A': 'Amritsar', 'B': 'Kabul', 'C': 'Ludhiana', 'D': 'Chandigarh'}, 'reversed_relation_question': 'Which city is twinned with Amritsar?'}\n",
      "{'paraphrased_question': 'What city has Benno as its patron saint?', 'yes_question': 'Is Munich the city whose patron saint is Benno?', 'no_question': 'Is Meissen the city whose patron saint is Benno?', 'multiple_choice_question': {'A': 'Munich', 'B': 'Meissen', 'C': 'Berlin', 'D': 'Hamburg'}, 'reversed_relation_question': 'Who is the patron saint of Munich?'}\n",
      "{'paraphrased_question': 'What is the name of the city that is twinned with Kalamazoo?', 'yes_question': 'Is Kingston the twinned administrative body of Kalamazoo?', 'no_question': 'Is Kanazawa the twinned administrative body of Kalamazoo?', 'multiple_choice_question': {'A': 'Kingston', 'B': 'Kanazawa', 'C': 'Toronto', 'D': 'Detroit'}, 'reversed_relation_question': 'Which city is twinned with Kingston?'}\n",
      "{'paraphrased_question': 'What city is twinned with Naperville?', 'yes_question': 'Is Cancun the twinned administrative body of Naperville?', 'no_question': 'Is Suzhou the twinned administrative body of Naperville?', 'multiple_choice_question': {'A': 'Cancun', 'B': 'Suzhou', 'C': 'Toronto', 'D': 'Madrid'}, 'reversed_relation_question': 'Which city is twinned with Cancun?'}\n",
      "{'paraphrased_question': 'What is the name of the city that is twinned with Argenteuil?', 'yes_question': 'Is Alessandria the twinned administrative body of Argenteuil?', 'no_question': 'Is Pontoise the twinned administrative body of Argenteuil?', 'multiple_choice_question': {'A': 'Alessandria', 'B': 'Pontoise', 'C': 'Lille', 'D': 'Marseille'}, 'reversed_relation_question': 'Which city is twinned with Alessandria?'}\n",
      "{'paraphrased_question': 'What is the name of the city that is twinned with Piana degli Albanesi?', 'yes_question': 'Is Tirana the twinned administrative body of Piana degli Albanesi?', 'no_question': 'Is Catania the twinned administrative body of Piana degli Albanesi?', 'multiple_choice_question': {'A': 'Tirana', 'B': 'Catania', 'C': 'Rome', 'D': 'Palermo'}, 'reversed_relation_question': 'Which city is twinned with Tirana?'}\n",
      "{'paraphrased_question': 'What is the name of the city that is twinned with Waregem?', 'yes_question': 'Is Pardubice the twinned administrative body of Waregem?', 'no_question': 'Is Bergen op Zoom the twinned administrative body of Waregem?', 'multiple_choice_question': {'A': 'Pardubice', 'B': 'Bergen op Zoom', 'C': 'Ghent', 'D': 'Bruges'}, 'reversed_relation_question': 'Which city is twinned with Pardubice?'}\n",
      "{'paraphrased_question': 'What work features Venice?', 'yes_question': 'Is Civilization V present in the work of Venice?', 'no_question': 'Is Tourism present in the work of Venice?', 'multiple_choice_question': {'A': 'Civilization V', 'B': 'Tourism', 'C': 'The Great Gatsby', 'D': 'Mona Lisa'}, 'reversed_relation_question': 'What is the work that features Venice?'}\n",
      "{'paraphrased_question': 'What notable event is associated with Venice?', 'yes_question': 'Is excommunication a significant event of Venice?', 'no_question': 'Is The Great Fire a significant event of Venice?', 'multiple_choice_question': {'A': 'Excommunication', 'B': 'The Great Fire', 'C': 'The Fall of the Berlin Wall', 'D': 'The Signing of the Magna Carta'}, 'reversed_relation_question': 'What is the significant event associated with excommunication?'}\n",
      "{'paraphrased_question': 'What city derives its name from Vienna?', 'yes_question': 'Was Wiener Neustadt named after Vienna?', 'no_question': 'Was Vienna, Virginia named after Vienna?', 'multiple_choice_question': {'A': 'Wiener Neustadt', 'B': 'Vienna, Virginia', 'C': 'Budapest', 'D': 'Prague'}, 'reversed_relation_question': 'Which city is Vienna named after?'}\n",
      "{'paraphrased_question': 'What is the name of the city that is twinned with Bandar Seri Begawan?', 'yes_question': 'Is Nanjing the twinned administrative body of Bandar Seri Begawan?', 'no_question': 'Is Kuala Belait the twinned administrative body of Bandar Seri Begawan?', 'multiple_choice_question': {'A': 'Nanjing', 'B': 'Kuala Belait', 'C': 'Singapore', 'D': 'Jakarta'}, 'reversed_relation_question': 'Which city is twinned with Nanjing?'}\n",
      "{'paraphrased_question': 'What city is twinned with the Australian Capital Territory?', 'yes_question': 'Is Beijing the twinned administrative body of the Australian Capital Territory?', 'no_question': 'Is Canberra the twinned administrative body of the Australian Capital Territory?', 'multiple_choice_question': {'A': 'Beijing', 'B': 'Canberra', 'C': 'Sydney', 'D': 'Melbourne'}, 'reversed_relation_question': 'Which administrative body is twinned with Beijing?'}\n",
      "{'paraphrased_question': 'What is the name of the city that is twinned with Servigliano?', 'yes_question': 'Is Asti the twinned administrative body of Servigliano?', 'no_question': 'Is Fermo the twinned administrative body of Servigliano?', 'multiple_choice_question': {'A': 'Asti', 'B': 'Fermo', 'C': 'Macerata', 'D': 'Ascoli Piceno'}, 'reversed_relation_question': 'Which city is twinned with Asti?'}\n",
      "{'paraphrased_question': 'What city has Ceiba speciosa as its official symbol?', 'yes_question': 'Is Kaohsiung the official symbol of Ceiba speciosa?', 'no_question': 'Is Quito the official symbol of Ceiba speciosa?', 'multiple_choice_question': {'question': 'Which city has Ceiba speciosa as its official symbol?', 'options': {'A': 'Kaohsiung', 'B': 'Quito', 'C': 'Tokyo', 'D': 'Buenos Aires'}}, 'reversed_relation_question': 'Which plant is the official symbol of Kaohsiung?'}\n",
      "{'paraphrased_question': 'In which city is Amazigh languages recognized as the official language?', 'yes_question': 'Is the official language of Algiers Amazigh languages?', 'no_question': 'Is the official language of Bechar Amazigh languages?', 'multiple_choice_question': {'A': 'Algiers', 'B': 'Bechar', 'C': 'Oran', 'D': 'Tizi Ouzou'}, 'reversed_relation_question': 'Which language is the official language of Algiers?'}\n",
      "{'paraphrased_question': 'What is the name of the city that is twinned with Heidenheim an der Brenz?', 'yes_question': 'Is St. Pölten the twinned administrative body of Heidenheim an der Brenz?', 'no_question': 'Is Heidenheim an der Brenz twinned with Heidenheim an?', 'multiple_choice_question': {'A': 'St. Pölten', 'B': 'Heidenheim an', 'C': 'Vienna', 'D': 'Innsbruck'}, 'reversed_relation_question': 'Which city is twinned with Heidenheim an der Brenz?'}\n",
      "{'paraphrased_question': 'What city has the Eurasian Magpie as its official symbol?', 'yes_question': 'Is the official symbol of Seoul the Eurasian Magpie?', 'no_question': 'Is the official symbol of Seoul the Tokyo?', 'multiple_choice_question': {'A': 'Seoul', 'B': 'Tokyo', 'C': 'Beijing', 'D': 'Bangkok'}, 'reversed_relation_question': 'What is the official symbol of the Eurasian Magpie?'}\n",
      "{'paraphrased_question': 'In which administrative territorial entity is Greater Sudbury found?', 'yes_question': 'Is Ontario the administrative territorial entity where Greater Sudbury is located?', 'no_question': 'Is Sudbury the administrative territorial entity where Greater Sudbury is located?', 'multiple_choice_question': {'A': 'Ontario', 'B': 'Sudbury', 'C': 'Quebec', 'D': 'British Columbia'}, 'reversed_relation_question': 'What is the administrative territorial entity of Ontario?'}\n",
      "{'paraphrased_question': 'What is the name of the city that has Hollywood as its twinned administrative body?', 'yes_question': 'Is Baia Mare the twinned administrative body of Hollywood?', 'no_question': 'Is Los Angeles the twinned administrative body of Hollywood?', 'multiple_choice_question': {'A': 'Baia Mare', 'B': 'Los Angeles', 'C': 'New York', 'D': 'Chicago'}, 'reversed_relation_question': 'Which city is twinned with Baia Mare?'}\n",
      "{'paraphrased_question': 'What is the name of the city that is twinned with Bahía Blanca?', 'yes_question': 'Is Christchurch the twinned administrative body of Bahía Blanca?', 'no_question': 'Is Rosario the twinned administrative body of Bahía Blanca?', 'multiple_choice_question': {'A': 'Christchurch', 'B': 'Rosario', 'C': 'Buenos Aires', 'D': 'Córdoba'}, 'reversed_relation_question': 'Which city is twinned with Christchurch?'}\n",
      "{'paraphrased_question': 'What is the name of the city that is twinned with Bernau bei Berlin?', 'yes_question': 'Is Champigny-sur-Marne the twinned administrative body of Bernau bei Berlin?', 'no_question': 'Is Berlin the twinned administrative body of Bernau bei Berlin?', 'multiple_choice_question': {'A': 'Champigny-sur-Marne', 'B': 'Berlin', 'C': 'Paris', 'D': 'Frankfurt'}, 'reversed_relation_question': 'Which city is twinned with Champigny-sur-Marne?'}\n",
      "{'paraphrased_question': 'What city is twinned with Caltagirone?', 'yes_question': 'Is San Francisco the twinned administrative body of Caltagirone?', 'no_question': 'Is Catania the twinned administrative body of Caltagirone?', 'multiple_choice_question': {'A': 'San Francisco', 'B': 'Catania', 'C': 'Rome', 'D': 'Palermo'}, 'reversed_relation_question': 'Which city is twinned with San Francisco?'}\n",
      "{'paraphrased_question': 'Who is the person that Podgorica is named for?', 'yes_question': 'Is Podgorica named after Josip Broz Tito?', 'no_question': 'Is Podgorica named after Bishop Petar I Petrović Njegoš?', 'multiple_choice_question': {'A': 'Josip Broz Tito', 'B': 'Bishop Petar I Petrović Njegoš', 'C': 'Milo Đukanović', 'D': 'Marko Miljanov', 'correct_answer': 'A'}, 'reversed_relation_question': 'Who is named after Podgorica?'}\n",
      "{'paraphrased_question': 'What is the name of the city that is twinned with Fürstenfeld?', 'yes_question': 'Is Zug the twinned administrative body of Fürstenfeld?', 'no_question': 'Is Graz the twinned administrative body of Fürstenfeld?', 'multiple_choice_question': {'A': 'Zug', 'B': 'Graz', 'C': 'Innsbruck', 'D': 'Salzburg'}, 'reversed_relation_question': 'Which city is twinned with Zug?'}\n",
      "{'paraphrased_question': 'In which city is Holy Saturday observed as a public holiday?', 'yes_question': 'Is Holy Saturday a public holiday in Hong Kong?', 'no_question': 'Is Holy Saturday a public holiday in Athens?', 'multiple_choice_question': {'A': 'Hong Kong', 'B': 'Athens', 'C': 'Tokyo', 'D': 'New York'}, 'reversed_relation_question': 'What public holiday is observed in Hong Kong?'}\n",
      "{'paraphrased_question': 'What is the name of the city that is twinned with Ouahigouya?', 'yes_question': 'Is Chambéry the twinned administrative body of Ouahigouya?', 'no_question': 'Is Tours the twinned administrative body of Ouahigouya?', 'multiple_choice_question': {'A': 'Chambéry', 'B': 'Tours', 'C': 'Lyon', 'D': 'Marseille'}, 'reversed_relation_question': 'Which city is the twinned administrative body of Chambéry?'}\n",
      "{'paraphrased_question': 'Who holds the position of head of government in Bergamo?', 'yes_question': 'Is Giorgio Gori the head of government of Bergamo?', 'no_question': 'Is the Mayor the head of government of Bergamo?', 'multiple_choice_question': {'A': 'Giorgio Gori', 'B': 'Mayor', 'C': 'Francesco Gori', 'D': 'Alessandro Rossi'}, 'reversed_relation_question': 'Who is governed by Giorgio Gori in Bergamo?'}\n",
      "{'paraphrased_question': 'What is the name of the city that is twinned with Bergamo?', 'yes_question': 'Is Buenos Aires the twinned administrative body of Bergamo?', 'no_question': 'Is Brescia the twinned administrative body of Bergamo?', 'multiple_choice_question': {'A': 'Buenos Aires', 'B': 'Brescia', 'C': 'Milan', 'D': 'Rome'}, 'reversed_relation_question': 'Which city is twinned with Buenos Aires?'}\n",
      "{'paraphrased_question': 'What is the name of the city that is twinned with Vaŭkavysk?', 'yes_question': 'Is Siedlce the twinned administrative body of Vaŭkavysk?', 'no_question': 'Is Białystok the twinned administrative body of Vaŭkavysk?', 'multiple_choice_question': {'A': 'Siedlce', 'B': 'Białystok', 'C': 'Warsaw', 'D': 'Lublin'}, 'reversed_relation_question': 'Which city is twinned with Siedlce?'}\n",
      "{'paraphrased_question': 'What is the name of the city that is twinned with Haarlem?', 'yes_question': 'Is Angers the twinned administrative body of Haarlem?', 'no_question': 'Is Leiden the twinned administrative body of Haarlem?', 'multiple_choice_question': {'A': 'Angers', 'B': 'Leiden', 'C': 'Amsterdam', 'D': 'Brussels'}, 'reversed_relation_question': 'Which city is twinned with Angers?'}\n",
      "{'paraphrased_question': 'What is the name of the city that is twinned with Nantong?', 'yes_question': 'Is Swansea the twinned administrative body of Nantong?', 'no_question': 'Is Wuxi the twinned administrative body of Nantong?', 'multiple_choice_question': {'A': 'Swansea', 'B': 'Wuxi', 'C': 'Hangzhou', 'D': 'Nanjing'}, 'reversed_relation_question': 'Which city is twinned with Swansea?'}\n",
      "{'paraphrased_question': \"What is the name of the city that is twinned with Santa Bárbara d'Oeste?\", 'yes_question': \"Is Jericho the twinned administrative body of Santa Bárbara d'Oeste?\", 'no_question': \"Is São Paulo the twinned administrative body of Santa Bárbara d'Oeste?\", 'multiple_choice_question': {'A': 'Jericho', 'B': 'São Paulo', 'C': 'Rio de Janeiro', 'D': 'Belo Horizonte'}, 'reversed_relation_question': 'Which city is twinned with Jericho?'}\n",
      "{'paraphrased_question': 'What city has Rosa chinensis as its official symbol?', 'yes_question': 'Is Beijing the official symbol of Rosa chinensis?', 'no_question': 'Is Hong Kong the official symbol of Rosa chinensis?', 'multiple_choice_question': {'A': 'Beijing', 'B': 'Hong Kong', 'C': 'Shanghai', 'D': 'Guangzhou'}, 'reversed_relation_question': 'Which flower is the official symbol of Beijing?'}\n",
      "{'paraphrased_question': 'What is the name of the city that is twinned with Asan?', 'yes_question': 'Is Miskolc the twinned administrative body of Asan?', 'no_question': 'Is Cheonan the twinned administrative body of Asan?', 'multiple_choice_question': {'A': 'Miskolc', 'B': 'Cheonan', 'C': 'Budapest', 'D': 'Debrecen'}, 'reversed_relation_question': 'Which city is twinned with Miskolc?'}\n",
      "{'paraphrased_question': 'What is the name of the city that is twinned with Waldshut-Tiengen?', 'yes_question': 'Is Blois the twinned administrative body of Waldshut-Tiengen?', 'no_question': 'Is Weil am Rhein the twinned administrative body of Waldshut-Tiengen?', 'multiple_choice_question': {'A': 'Blois', 'B': 'Weil am Rhein', 'C': 'Freiburg', 'D': 'Karlsruhe'}, 'reversed_relation_question': 'Which city is twinned with Blois?'}\n",
      "{'paraphrased_question': 'Who serves as the head of government in Cluj-Napoca?', 'yes_question': 'Is Emil Boc the head of government of Cluj-Napoca?', 'no_question': 'Is the Mayor the head of government of Cluj-Napoca?', 'multiple_choice_question': {'A': 'Emil Boc', 'B': 'Mayor', 'C': 'Alin Tise', 'D': 'Ioan Aurel Pop'}, 'reversed_relation_question': 'Who is the city that Emil Boc governs as head of government?'}\n",
      "{'paraphrased_question': 'What city has the trunk as its namesake?', 'yes_question': 'Was Stockholm named after trunk?', 'no_question': 'Was Trunki named after trunk?', 'multiple_choice_question': {'A': 'Stockholm', 'B': 'Trunki', 'C': 'Oslo', 'D': 'Copenhagen'}, 'reversed_relation_question': 'What is the trunk named after?'}\n",
      "{'paraphrased_question': 'In which administrative territorial entity is Kuwait City found?', 'yes_question': 'Is Kuwait the administrative territorial entity where Kuwait City is located?', 'no_question': 'Is Governorate the administrative territorial entity where Kuwait City is located?', 'multiple_choice_question': {'question': 'What is the administrative territorial entity of Kuwait City?', 'options': {'A': 'Kuwait', 'B': 'Governorate', 'C': 'Qatar', 'D': 'Saudi Arabia'}}, 'reversed_relation_question': 'What city is located in the administrative territorial entity of Kuwait?'}\n",
      "{'paraphrased_question': 'What continent is the city of Buenos Aires located in?', 'yes_question': 'Is Buenos Aires located in the Americas?', 'no_question': 'Is Buenos Aires located in New York?', 'multiple_choice_question': {'A': 'Buenos Aires', 'B': 'New York', 'C': 'Toronto', 'D': 'Mexico City'}, 'reversed_relation_question': 'Which continent is Buenos Aires a part of?'}\n",
      "{'paraphrased_question': 'What is the name of the city that is twinned with Mudanjiang?', 'yes_question': 'Is Jyväskylä the twinned administrative body of Mudanjiang?', 'no_question': 'Is Harbin the twinned administrative body of Mudanjiang?', 'multiple_choice_question': {'A': 'Jyväskylä', 'B': 'Harbin', 'C': 'Helsinki', 'D': 'Oulu'}, 'reversed_relation_question': 'Which city is twinned with Jyväskylä?'}\n",
      "{'paraphrased_question': 'Who is the patron saint of the city of Imperia?', 'yes_question': 'Is Leonard of Port Maurice the patron saint of Imperia?', 'no_question': 'Is Leonard of Port Maurice the patron saint of Port Maurice?', 'multiple_choice_question': {'A': 'Imperia', 'B': 'Port Maurice', 'C': 'Rome', 'D': 'Florence'}, 'reversed_relation_question': 'Which saint is the patron of Leonard of Port Maurice?'}\n",
      "{'paraphrased_question': 'What is the name of the city that is twinned with Zacapa?', 'yes_question': 'Is Tainan the twinned administrative body of Zacapa?', 'no_question': 'Is Guatemala City the twinned administrative body of Zacapa?', 'multiple_choice_question': {'A': 'Tainan', 'B': 'Guatemala City', 'C': 'San Salvador', 'D': 'Honduras'}, 'reversed_relation_question': 'Which city is twinned with Tainan?'}\n",
      "{'paraphrased_question': 'What is the name of the city that is twinned with Swindon?', 'yes_question': 'Is Toruń the twinned administrative body of Swindon?', 'no_question': 'Is Würzburg the twinned administrative body of Swindon?', 'multiple_choice_question': {'A': 'Toruń', 'B': 'Würzburg', 'C': 'Kraków', 'D': 'Gdańsk'}, 'reversed_relation_question': 'Which city is twinned with Toruń?'}\n",
      "{'paraphrased_question': 'What is the name of the city that is twinned with Hạ Long?', 'yes_question': 'Is Acapulco the twinned administrative body of Hạ Long?', 'no_question': 'Is Da Nang the twinned administrative body of Hạ Long?', 'multiple_choice_question': {'A': 'Acapulco', 'B': 'Da Nang', 'C': 'Nha Trang', 'D': 'Hue'}, 'reversed_relation_question': 'Which city is twinned with Acapulco?'}\n",
      "{'paraphrased_question': 'What is the name of the city that is twinned with Roccasecca?', 'yes_question': 'Is Priverno the twinned administrative body of Roccasecca?', 'no_question': 'Is Frosinone the twinned administrative body of Roccasecca?', 'multiple_choice_question': {'A': 'Priverno', 'B': 'Frosinone', 'C': 'Cassino', 'D': 'Sora'}, 'reversed_relation_question': 'Which city is twinned with Priverno?'}\n",
      "{'paraphrased_question': 'What city is part of the administrative territorial entity known as Riverside County?', 'yes_question': 'Is Palm Springs located in the administrative territorial entity of Riverside County?', 'no_question': 'Is Riverside located in the administrative territorial entity of Riverside County?', 'multiple_choice_question': {'A': 'Palm Springs', 'B': 'Riverside', 'C': 'San Bernardino', 'D': 'Los Angeles'}, 'reversed_relation_question': 'Which administrative territorial entity is Palm Springs located in?'}\n",
      "{'paraphrased_question': 'Who holds the position of head of government in Jerusalem?', 'yes_question': 'Is Moshe Lion the head of government of Jerusalem?', 'no_question': 'Is the Mayor the head of government of Jerusalem?', 'multiple_choice_question': {'A': 'Moshe Lion', 'B': 'Mayor', 'C': 'David Cohen', 'D': 'Sarah Levy'}, 'reversed_relation_question': 'Who is governed by Moshe Lion in Jerusalem?'}\n",
      "{'paraphrased_question': 'Which country is Jerusalem located in?', 'yes_question': 'Is Israel the country of Jerusalem?', 'no_question': 'Is Disputed the country of Jerusalem?', 'multiple_choice_question': {'A': 'Israel', 'B': 'Disputed', 'C': 'Jordan', 'D': 'Palestine'}, 'reversed_relation_question': 'What city is the country of Israel located in?'}\n",
      "{'paraphrased_question': 'What is the name of the city that is twinned with Pietra Ligure?', 'yes_question': 'Is Offenburg the twinned administrative body of Pietra Ligure?', 'no_question': 'Is Ventimiglia the twinned administrative body of Pietra Ligure?', 'multiple_choice_question': {'A': 'Offenburg', 'B': 'Ventimiglia', 'C': 'Savona', 'D': 'Genoa'}, 'reversed_relation_question': 'Which city is twinned with Offenburg?'}\n",
      "{'paraphrased_question': 'What city is twinned with Nagykanizsa?', 'yes_question': 'Is Acre the twinned administrative body of Nagykanizsa?', 'no_question': 'Is Kanjiža the twinned administrative body of Nagykanizsa?', 'multiple_choice_question': {'A': 'Acre', 'B': 'Kanjiža', 'C': 'Budapest', 'D': 'Zagreb'}, 'reversed_relation_question': 'Which city is twinned with Acre?'}\n",
      "{'paraphrased_question': 'Which country is Ústí nad Labem located in?', 'yes_question': 'Is the country of Ústí nad Labem the Czech Republic?', 'no_question': 'Is the country of Ústí nad Labem Czechia?', 'multiple_choice_question': {'A': 'Czech Republic', 'B': 'Czechia', 'C': 'Slovakia', 'D': 'Poland'}, 'reversed_relation_question': 'What city is in the Czech Republic?'}\n",
      "{'paraphrased_question': 'What is currently being worked on in Almaty?', 'yes_question': 'Is Civilization V present in the work of Almaty?', 'no_question': 'Is Almaty Tower present in the work of Almaty?', 'multiple_choice_question': {'A': 'Civilization V', 'B': 'Almaty Tower', 'C': 'Almaty Park', 'D': 'Almaty Metro'}, 'reversed_relation_question': 'What is the work that Almaty is present in?'}\n",
      "{'paraphrased_question': 'What is the name of the city that is twinned with Weiz?', 'yes_question': 'Is Offenburg the twinned administrative body of Weiz?', 'no_question': 'Is Graz the twinned administrative body of Weiz?', 'multiple_choice_question': {'question': 'Which city is twinned with Weiz?', 'options': {'A': 'Offenburg', 'B': 'Graz', 'C': 'Vienna', 'D': 'Salzburg'}}, 'reversed_relation_question': 'Which city is twinned with Offenburg?'}\n",
      "{'paraphrased_question': 'What is the name of the city that is twinned with Niiza?', 'yes_question': 'Is Jyväskylä the twinned administrative body of Niiza?', 'no_question': 'Is Tokyo the twinned administrative body of Niiza?', 'multiple_choice_question': {'A': 'Jyväskylä', 'B': 'Tokyo', 'C': 'Helsinki', 'D': 'Oslo'}, 'reversed_relation_question': 'Which city is twinned with Jyväskylä?'}\n",
      "{'paraphrased_question': 'What is the name of the city that is twinned with Huddinge Municipality?', 'yes_question': 'Is Nuuk the twinned administrative body of Huddinge Municipality?', 'no_question': 'Is Huddinge Municipality twinned with Huddinge?', 'multiple_choice_question': {'A': 'Nuuk', 'B': 'Huddinge Municipality', 'C': 'Oslo', 'D': 'Copenhagen'}, 'reversed_relation_question': 'Which municipality is twinned with Nuuk?'}\n",
      "{'paraphrased_question': 'What city did Shem establish?', 'yes_question': 'Was Sanaa founded by Shem?', 'no_question': 'Was Nineveh founded by Shem?', 'multiple_choice_question': {'A': 'Sanaa', 'B': 'Nineveh', 'C': 'Babylon', 'D': 'Jerusalem'}, 'reversed_relation_question': 'Who founded Sanaa?'}\n",
      "{'paraphrased_question': 'Who holds the position of head of government in Florence?', 'yes_question': 'Is Dario Nardella the head of government of Florence?', 'no_question': 'Is the Mayor the head of government of Florence?', 'multiple_choice_question': {'A': 'Dario Nardella', 'B': 'Mayor', 'C': 'Giovanni Rossi', 'D': 'Luca Bianchi'}, 'reversed_relation_question': 'Who is the head of government that Dario Nardella represents in Florence?'}\n",
      "{'paraphrased_question': 'What work features Florence?', 'yes_question': 'Is Civilization V present in the work of Florence?', 'no_question': 'Is Uffizi present in the work of Florence?', 'multiple_choice_question': {'A': 'Civilization V', 'B': 'Uffizi', 'C': 'The Last Supper', 'D': 'Mona Lisa'}, 'reversed_relation_question': 'What work is Florence present in?'}\n",
      "{'paraphrased_question': 'What is the name of the city that is twinned with Monastir?', 'yes_question': 'Is Dushanbe the twinned administrative body of Monastir?', 'no_question': 'Is Tunis the twinned administrative body of Monastir?', 'multiple_choice_question': {'A': 'Dushanbe', 'B': 'Tunis', 'C': 'Bishkek', 'D': 'Astana'}, 'reversed_relation_question': 'Which city is twinned with Dushanbe?'}\n",
      "{'paraphrased_question': 'What city is twinned with Ramla?', 'yes_question': 'Is Kielce the twinned administrative body of Ramla?', 'no_question': 'Is Ramat Gan the twinned administrative body of Ramla?', 'multiple_choice_question': {'A': 'Kielce', 'B': 'Ramat Gan', 'C': 'Warsaw', 'D': 'Lodz'}, 'reversed_relation_question': 'Which city is twinned with Kielce?'}\n",
      "{'paraphrased_question': 'What is the name of the city that is twinned with Nikko?', 'yes_question': 'Is Tainan the twinned administrative body of Nikko?', 'no_question': 'Is Utsunomiya the twinned administrative body of Nikko?', 'multiple_choice_question': {'A': 'Tainan', 'B': 'Utsunomiya', 'C': 'Tokyo', 'D': 'Osaka'}, 'reversed_relation_question': 'Which city is twinned with Tainan?'}\n",
      "{'paraphrased_question': 'What is the name of the city that is twinned with Kanjiža?', 'yes_question': 'Is Subotica the twinned administrative body of Kanjiža?', 'no_question': 'Is Senta the twinned administrative body of Kanjiža?', 'multiple_choice_question': {'A': 'Subotica', 'B': 'Senta', 'C': 'Novi Sad', 'D': 'Zrenjanin'}, 'reversed_relation_question': 'Which city is twinned with Subotica?'}\n",
      "{'paraphrased_question': 'What is the twinned administrative body of Beaugency?', 'yes_question': 'Is Tangier the twinned administrative body of Beaugency?', 'no_question': 'Is Vendôme the twinned administrative body of Beaugency?', 'multiple_choice_question': {'A': 'Tangier', 'B': 'Vendôme', 'C': 'Nantes', 'D': 'Lille'}, 'reversed_relation_question': 'Which city is twinned with Tangier?'}\n",
      "{'paraphrased_question': 'Which country does Acre belong to?', 'yes_question': 'Is Israel the country of Acre?', 'no_question': 'Is Brazil the country of Acre?', 'multiple_choice_question': {'A': 'Israel', 'B': 'Brazil', 'C': 'Canada', 'D': 'Australia'}, 'reversed_relation_question': 'What is the name of the place that Israel is a country of?'}\n",
      "{'paraphrased_question': 'What is the name of the city that is twinned with Khasavyurt?', 'yes_question': 'Is Nablus the twinned administrative body of Khasavyurt?', 'no_question': 'Is Derbent the twinned administrative body of Khasavyurt?', 'multiple_choice_question': {'A': 'Nablus', 'B': 'Derbent', 'C': 'Makhachkala', 'D': 'Grozny'}, 'reversed_relation_question': 'Which city is twinned with Nablus?'}\n",
      "{'paraphrased_question': 'Which administrative body is twinned with Asnières-sur-Seine?', 'yes_question': 'Is Spandau the twinned administrative body of Asnières-sur-Seine?', 'no_question': 'Is Asnières-sur-Seine twinned with Barking?', 'multiple_choice_question': {'A': 'Spandau', 'B': 'Barking', 'C': 'Berlin', 'D': 'Hamburg'}, 'reversed_relation_question': 'What is the administrative body that is twinned with Spandau?'}\n",
      "{'paraphrased_question': 'Who serves as the head of government in Asnières-sur-Seine?', 'yes_question': 'Is Manuel Aeschlimann the head of government of Asnières-sur-Seine?', 'no_question': 'Is the Mayor the head of government of Asnières-sur-Seine?', 'multiple_choice_question': {'A': 'Manuel Aeschlimann', 'B': 'Mayor', 'C': 'Jean Dupont', 'D': 'Sophie Martin'}, 'reversed_relation_question': 'Who is the city that Manuel Aeschlimann governs?'}\n",
      "{'paraphrased_question': 'What is the name of the city that is twinned with Matagalpa?', 'yes_question': 'Is Oulu the twinned administrative body of Matagalpa?', 'no_question': 'Is San Salvador the twinned administrative body of Matagalpa?', 'multiple_choice_question': {'A': 'Oulu', 'B': 'San Salvador', 'C': 'Helsinki', 'D': 'Tampere'}, 'reversed_relation_question': 'Which city is twinned with Oulu?'}\n",
      "{'paraphrased_question': 'What is the twinned administrative body of Shahr-e Kord?', 'yes_question': 'Is Dushanbe the twinned administrative body of Shahr-e Kord?', 'no_question': 'Is Tabriz the twinned administrative body of Shahr-e Kord?', 'multiple_choice_question': {'A': 'Dushanbe', 'B': 'Tabriz', 'C': 'Tehran', 'D': 'Isfahan'}, 'reversed_relation_question': 'Which city is twinned with Dushanbe?'}\n",
      "{'paraphrased_question': 'What city is situated within the administrative territorial entity of North Brabant?', 'yes_question': 'Is Helmond located in the administrative territorial entity of North Brabant?', 'no_question': 'Is Eindhoven located in the administrative territorial entity of North Brabant?', 'multiple_choice_question': {'A': 'Helmond', 'B': 'Eindhoven', 'C': 'Tilburg', 'D': 'Breda'}, 'reversed_relation_question': 'Which administrative territorial entity is Helmond located in?'}\n",
      "{'paraphrased_question': 'What is the twinned administrative body of Ganzhou?', 'yes_question': 'Is Freetown the twinned administrative body of Ganzhou?', 'no_question': 'Is Wenzhou the twinned administrative body of Ganzhou?', 'multiple_choice_question': {'A': 'Freetown', 'B': 'Wenzhou', 'C': 'Nanjing', 'D': 'Beijing'}, 'reversed_relation_question': 'Which city is twinned with Freetown?'}\n",
      "{'paraphrased_question': 'What is the name of the city that is twinned with Jining?', 'yes_question': 'Is Jyväskylä the twinned administrative body of Jining?', 'no_question': 'Is Kazan the twinned administrative body of Jining?', 'multiple_choice_question': {'A': 'Jyväskylä', 'B': 'Kazan', 'C': 'Helsinki', 'D': 'Oulu'}, 'reversed_relation_question': 'Which city is twinned with Jyväskylä?'}\n",
      "{'paraphrased_question': 'What is the name of the city that has Veles as its twinned administrative body?', 'yes_question': 'Is Niš the twinned administrative body of Veles?', 'no_question': 'Is Kumanovo the twinned administrative body of Veles?', 'multiple_choice_question': {'A': 'Niš', 'B': 'Kumanovo', 'C': 'Skopje', 'D': 'Bitola'}, 'reversed_relation_question': 'Which city is twinned with Niš?'}\n",
      "{'paraphrased_question': 'Which country is Dundee located in?', 'yes_question': 'Is the country of Dundee the United Kingdom?', 'no_question': 'Is the country of Dundee Scotland?', 'multiple_choice_question': {'A': 'United Kingdom', 'B': 'Scotland', 'C': 'Ireland', 'D': 'Wales'}, 'reversed_relation_question': 'What city is in the United Kingdom?'}\n",
      "{'paraphrased_question': 'What city is twinned with Great Neck?', 'yes_question': 'Is Tiberias the twinned administrative body of Great Neck?', 'no_question': 'Is Peking the twinned administrative body of Great Neck?', 'multiple_choice_question': {'A': 'Tiberias', 'B': 'Peking', 'C': 'Rome', 'D': 'Athens'}, 'reversed_relation_question': \"Which city's twinned administrative body is Tiberias?\"}\n",
      "{'paraphrased_question': 'What city is situated within the administrative boundaries of Zhejiang?', 'yes_question': 'Is Ningbo located in the administrative territorial entity of Zhejiang?', 'no_question': 'Is Hangzhou located in the administrative territorial entity of Zhejiang?', 'multiple_choice_question': {'A': 'Ningbo', 'B': 'Hangzhou', 'C': 'Shanghai', 'D': 'Suzhou'}, 'reversed_relation_question': 'Which administrative territorial entity is Ningbo located in?'}\n",
      "{'paraphrased_question': 'What is the name of the city that is twinned with Mühlhausen?', 'yes_question': 'Is Tourcoing the twinned administrative body of Mühlhausen?', 'no_question': 'Is Hildesheim the twinned administrative body of Mühlhausen?', 'multiple_choice_question': {'A': 'Tourcoing', 'B': 'Hildesheim', 'C': 'Lille', 'D': 'Strasbourg'}, 'reversed_relation_question': 'Which city is twinned with Mühlhausen?'}\n",
      "{'paraphrased_question': 'What is the name of the city that is twinned with Bridgwater?', 'yes_question': 'Is Priverno the twinned administrative body of Bridgwater?', 'no_question': 'Is Bielefeld the twinned administrative body of Bridgwater?', 'multiple_choice_question': {'A': 'Priverno', 'B': 'Bielefeld', 'C': 'Luton', 'D': 'Dover'}, 'reversed_relation_question': 'Which city is twinned with Priverno?'}\n",
      "{'paraphrased_question': 'What is the name of the city that is twinned with Pescantina?', 'yes_question': 'Is Siedlce the twinned administrative body of Pescantina?', 'no_question': 'Is Verona the twinned administrative body of Pescantina?', 'multiple_choice_question': {'A': 'Siedlce', 'B': 'Verona', 'C': 'Lublin', 'D': 'Warsaw'}, 'reversed_relation_question': 'Which city is twinned with Siedlce?'}\n",
      "{'paraphrased_question': 'What work is Colombo currently involved in?', 'yes_question': 'Is Civilization V the present work of Colombo?', 'no_question': 'Is Investigation the present work of Colombo?', 'multiple_choice_question': {'A': 'Civilization V', 'B': 'Investigation', 'C': 'Exploration', 'D': 'Discovery'}, 'reversed_relation_question': 'What is the work that Civilization V is present in for Colombo?'}\n",
      "{'paraphrased_question': 'What is the name of the city that is twinned with St. Charles?', 'yes_question': 'Is Ludwigsburg the twinned administrative body of St. Charles?', 'no_question': 'Is St. Charles, Missouri the twinned administrative body of St. Charles?', 'multiple_choice_question': {'A': 'Ludwigsburg', 'B': 'St. Charles, Missouri', 'C': 'Berlin', 'D': 'Munich'}, 'reversed_relation_question': 'Which city is twinned with Ludwigsburg?'}\n",
      "{'paraphrased_question': 'Which language is recognized as the official language in Castelló de la Plana?', 'yes_question': 'Is Catalan the official language of Castelló de la Plana?', 'no_question': 'Is Valencian the official language of Castelló de la Plana?', 'multiple_choice_question': {'A': 'Catalan', 'B': 'Valencian', 'C': 'Spanish', 'D': 'Galician'}, 'reversed_relation_question': 'What city has Catalan as its official language?'}\n",
      "{'paraphrased_question': 'Who serves as the patron saint for Castelló de la Plana?', 'yes_question': 'Is Vincent of Saragossa the patron saint of Castelló de la Plana?', 'no_question': 'Is San Jorge the patron saint of Castelló de la Plana?', 'multiple_choice_question': {'A': 'Vincent of Saragossa', 'B': 'San Jorge', 'C': 'San Pedro', 'D': 'San Juan'}, 'reversed_relation_question': 'Who is the city that Vincent of Saragossa is the patron saint of?'}\n",
      "{'paraphrased_question': 'Whose name is associated with Darwin?', 'yes_question': 'Was Darwin named after Charles Darwin?', 'no_question': 'Was Darwin named after Erasmus?', 'multiple_choice_question': {'A': 'Charles Darwin', 'B': 'Erasmus', 'C': 'Isaac Newton', 'D': 'Albert Einstein'}, 'reversed_relation_question': 'Who is named after Darwin?'}\n",
      "{'paraphrased_question': 'What is the name of the city that is twinned with Guilin?', 'yes_question': 'Is Toruń the twinned administrative body of Guilin?', 'no_question': 'Is Nanning the twinned administrative body of Guilin?', 'multiple_choice_question': {'A': 'Toruń', 'B': 'Nanning', 'C': 'Kraków', 'D': 'Wrocław'}, 'reversed_relation_question': 'Which city is twinned with Toruń?'}\n",
      "{'paraphrased_question': 'What is the name of the city that is twinned with Pontault-Combault?', 'yes_question': 'Is Abidjan the twinned administrative body of Pontault-Combault?', 'no_question': 'Is Saint-Denis the twinned administrative body of Pontault-Combault?', 'multiple_choice_question': {'A': 'Abidjan', 'B': 'Saint-Denis', 'C': 'Lyon', 'D': 'Marseille'}, 'reversed_relation_question': 'Which city is twinned with Abidjan?'}\n",
      "{'paraphrased_question': 'What is the name of the city that is twinned with Nanning?', 'yes_question': 'Is Grudziądz the twinned administrative body of Nanning?', 'no_question': 'Is Guangxi the twinned administrative body of Nanning?', 'multiple_choice_question': {'question': 'Which city is twinned with Nanning?', 'options': {'A': 'Grudziądz', 'B': 'Guangxi', 'C': 'Wrocław', 'D': 'Kraków'}}, 'reversed_relation_question': 'Which city is twinned with Grudziądz?'}\n",
      "{'paraphrased_question': 'What is the name of the city that is twinned with Onjuku?', 'yes_question': 'Is Acapulco the twinned administrative body of Onjuku?', 'no_question': 'Is Kamagaya the twinned administrative body of Onjuku?', 'multiple_choice_question': {'A': 'Acapulco', 'B': 'Kamagaya', 'C': 'Tokyo', 'D': 'Osaka'}, 'reversed_relation_question': 'Which city is twinned with Acapulco?'}\n",
      "{'paraphrased_question': 'What is the name of the city that honors Queen Victoria?', 'yes_question': 'Was Regina named after Queen Victoria?', 'no_question': 'Was Victoria named after Queen Victoria?', 'multiple_choice_question': {'A': 'Regina', 'B': 'Victoria', 'C': 'Ottawa', 'D': 'Toronto'}, 'reversed_relation_question': 'Which queen is Regina named after?'}\n",
      "{'paraphrased_question': 'What is the name of the city that is twinned with Gütersloh?', 'yes_question': 'Is Grudziądz the twinned administrative body of Gütersloh?', 'no_question': 'Is Bielefeld the twinned administrative body of Gütersloh?', 'multiple_choice_question': {'A': 'Grudziądz', 'B': 'Bielefeld', 'C': 'Warsaw', 'D': 'Kraków'}, 'reversed_relation_question': 'Which city is twinned with Grudziądz?'}\n",
      "{'paraphrased_question': 'What city is twinned with Taxco de Alarcón?', 'yes_question': 'Is Cancun the twinned administrative body of Taxco de Alarcón?', 'no_question': 'Is Puebla the twinned administrative body of Taxco de Alarcón?', 'multiple_choice_question': {'A': 'Cancun', 'B': 'Puebla', 'C': 'Guadalajara', 'D': 'Tijuana'}, 'reversed_relation_question': 'Which city is twinned with Cancun?'}\n",
      "{'paraphrased_question': 'What is the capital city of Cambodia?', 'yes_question': 'Is Phnom Penh the country of Cambodia?', 'no_question': 'Is Phnom Penh not the country of Cambodia?', 'multiple_choice_question': {'A': 'Phnom Penh', 'B': 'Bangkok', 'C': 'Hanoi', 'D': 'Vientiane'}, 'reversed_relation_question': 'Which country is Phnom Penh located in?'}\n",
      "{'paraphrased_question': 'In which administrative territorial entity can Nowy Sącz be found?', 'yes_question': 'Is Nowy Sącz located in the Lesser Poland Voivodeship?', 'no_question': 'Is Nowy Sącz located in Nowy Sącz County?', 'multiple_choice_question': {'A': 'Lesser Poland Voivodeship', 'B': 'Nowy Sącz County', 'C': 'Masovian Voivodeship', 'D': 'Silesian Voivodeship'}, 'reversed_relation_question': 'What is the administrative territorial entity that includes Nowy Sącz?'}\n",
      "{'paraphrased_question': 'What city is twinned with Noci?', 'yes_question': 'Is Bratislava the twinned administrative body of Noci?', 'no_question': 'Is Bari the twinned administrative body of Noci?', 'multiple_choice_question': {'A': 'Bratislava', 'B': 'Bari', 'C': 'Vienna', 'D': 'Budapest'}, 'reversed_relation_question': 'Which city is twinned with Bratislava?'}\n",
      "{'paraphrased_question': 'What city is situated in or near the body of water known as the Iller?', 'yes_question': 'Is Ulm the city located in or next to the body of water called Iller?', 'no_question': 'Is Augsburg the city located in or next to the body of water called Iller?', 'multiple_choice_question': {'A': 'Ulm', 'B': 'Augsburg', 'C': 'Munich', 'D': 'Freiburg'}, 'reversed_relation_question': 'Which body of water is Iller located in or next to?'}\n",
      "{'paraphrased_question': 'What is the name of the city that is twinned with Fitchburg?', 'yes_question': 'Is Tianjin the twinned administrative body of Fitchburg?', 'no_question': 'Is Tlaxcala, Mexico the twinned administrative body of Fitchburg?', 'multiple_choice_question': {'A': 'Tianjin', 'B': 'Tlaxcala, Mexico', 'C': 'Beijing', 'D': 'Shanghai'}, 'reversed_relation_question': 'Which city is twinned with Tianjin?'}\n",
      "{'paraphrased_question': 'Which city is twinned with Bujumbura?', 'yes_question': 'Is Hefei the twinned administrative body of Bujumbura?', 'no_question': 'Is Bujumbura Rural the twinned administrative body of Bujumbura?', 'multiple_choice_question': {'A': 'Hefei', 'B': 'Bujumbura Rural', 'C': 'Kigali', 'D': 'Nairobi'}, 'reversed_relation_question': 'What city is twinned with Hefei?'}\n",
      "{'paraphrased_question': 'What is the name of the city that is twinned with Straubing?', 'yes_question': 'Is Wels the twinned administrative body of Straubing?', 'no_question': 'Is Regenstauf the twinned administrative body of Straubing?', 'multiple_choice_question': {'A': 'Wels', 'B': 'Regenstauf', 'C': 'Passau', 'D': 'Landshut'}, 'reversed_relation_question': 'Which city is twinned with Wels?'}\n",
      "{'paraphrased_question': 'What is the name of the city that is twinned with Xuzhou?', 'yes_question': 'Is Erfurt the twinned administrative body of Xuzhou?', 'no_question': 'Is Wuxi the twinned administrative body of Xuzhou?', 'multiple_choice_question': {'A': 'Erfurt', 'B': 'Wuxi', 'C': 'Nanjing', 'D': 'Hangzhou'}, 'reversed_relation_question': 'Which city is twinned with Erfurt?'}\n",
      "{'paraphrased_question': 'What city has Macedonian as its official language?', 'yes_question': 'Is Macedonian the official language of Ohrid?', 'no_question': 'Is Macedonian the official language of Skopje?', 'multiple_choice_question': {'A': 'Ohrid', 'B': 'Skopje', 'C': 'Bitola', 'D': 'Kumanovo'}, 'reversed_relation_question': 'Which language is the official language of Ohrid?'}\n",
      "{'paraphrased_question': 'What city is found within the administrative territorial entity of Guadeloupe?', 'yes_question': 'Is Pointe-à-Pitre the city located in the administrative territorial entity of Guadeloupe?', 'no_question': 'Is Basse-Terre the city located in the administrative territorial entity of Guadeloupe?', 'multiple_choice_question': {'A': 'Pointe-à-Pitre', 'B': 'Basse-Terre', 'C': 'Les Abymes', 'D': 'Saint-Martin'}, 'reversed_relation_question': 'Which administrative territorial entity is Pointe-à-Pitre located in?'}\n",
      "{'paraphrased_question': 'Who is the founder of Bitola?', 'yes_question': 'Was Bitola founded by Philip II of Macedon?', 'no_question': 'Was Bitola founded by Heraclea?', 'multiple_choice_question': {'A': 'Philip II of Macedon', 'B': 'Heraclea', 'C': 'Alexander the Great', 'D': 'Antigonus I Monophthalmus'}, 'reversed_relation_question': 'Who founded Philip II of Macedon?'}\n",
      "{'paraphrased_question': 'What is the twinned administrative body of Peoria?', 'yes_question': 'Is Friedrichshafen the twinned administrative body of Peoria?', 'no_question': 'Is Joliet the twinned administrative body of Peoria?', 'multiple_choice_question': {'A': 'Friedrichshafen', 'B': 'Joliet', 'C': 'Springfield', 'D': 'Rockford'}, 'reversed_relation_question': 'Which city is twinned with Friedrichshafen?'}\n",
      "{'paraphrased_question': 'What is the name of the city that is twinned with Ziguinchor?', 'yes_question': 'Is Rimini the twinned administrative body of Ziguinchor?', 'no_question': 'Is Nantes the twinned administrative body of Ziguinchor?', 'multiple_choice_question': {'A': 'Rimini', 'B': 'Nantes', 'C': 'Florence', 'D': 'Bologna'}, 'reversed_relation_question': 'Which city is twinned with Rimini?'}\n",
      "{'paraphrased_question': 'What city is twinned with Murom?', 'yes_question': 'Is Mexico City the twinned administrative body of Murom?', 'no_question': 'Is Kostroma the twinned administrative body of Murom?', 'multiple_choice_question': {'A': 'Mexico City', 'B': 'Kostroma', 'C': 'Vladimir', 'D': 'Nizhny Novgorod'}, 'reversed_relation_question': 'Which city is twinned with Mexico City?'}\n",
      "{'paraphrased_question': 'What city is twinned with Bogor?', 'yes_question': 'Is Shenzhen the twinned administrative body of Bogor?', 'no_question': 'Is Bandung the twinned administrative body of Bogor?', 'multiple_choice_question': {'A': 'Shenzhen', 'B': 'Bandung', 'C': 'Jakarta', 'D': 'Surabaya'}, 'reversed_relation_question': 'Which city is twinned with Shenzhen?'}\n",
      "{'paraphrased_question': 'What is the name of the city that is twinned with Pensacola?', 'yes_question': 'Is Kaohsiung the twinned administrative body of Pensacola?', 'no_question': 'Is Duisburg the twinned administrative body of Pensacola?', 'multiple_choice_question': {'A': 'Kaohsiung', 'B': 'Duisburg', 'C': 'Tokyo', 'D': 'Barcelona'}, 'reversed_relation_question': 'Which city is twinned with Kaohsiung?'}\n",
      "{'paraphrased_question': 'What city does Krzysztof Żuk serve as the head of government?', 'yes_question': 'Is Krzysztof Żuk the head of government of Lublin?', 'no_question': 'Is Krzysztof Żuk the head of government of Łódź?', 'multiple_choice_question': {'A': 'Lublin', 'B': 'Łódź', 'C': 'Warsaw', 'D': 'Kraków'}, 'reversed_relation_question': 'Which head of government is Krzysztof Żuk for the city of Lublin?'}\n",
      "{'paraphrased_question': 'What city has Victor Chatenay as its head of government?', 'yes_question': 'Is Victor Chatenay the head of government of Angers?', 'no_question': 'Is Victor Chatenay the head of government of Geneva?', 'multiple_choice_question': {'A': 'Angers', 'B': 'Geneva', 'C': 'Lyon', 'D': 'Marseille'}, 'reversed_relation_question': 'Who is the head of government of Angers?'}\n",
      "{'paraphrased_question': 'What is the name of the city that is twinned with Guadix?', 'yes_question': 'Is Buenos Aires the twinned administrative body of Guadix?', 'no_question': 'Is Granada the twinned administrative body of Guadix?', 'multiple_choice_question': {'A': 'Buenos Aires', 'B': 'Granada', 'C': 'Madrid', 'D': 'Seville'}, 'reversed_relation_question': 'Which city is twinned with Buenos Aires?'}\n",
      "{'paraphrased_question': 'What city is classified as having a semi-arid climate according to the Köppen climate classification?', 'yes_question': 'Is Athens classified as having a semi-arid climate in the Köppen climate classification?', 'no_question': 'Is Phoenix classified as having a semi-arid climate in the Köppen climate classification?', 'multiple_choice_question': {'A': 'Athens', 'B': 'Phoenix', 'C': 'Los Angeles', 'D': 'Cairo'}, 'reversed_relation_question': 'Which climate classification does Athens belong to in the Köppen climate classification?'}\n",
      "{'paraphrased_question': 'What is the name of the city that is twinned with São Vicente?', 'yes_question': 'Is Naha the twinned administrative body of São Vicente?', 'no_question': 'Is Porto the twinned administrative body of São Vicente?', 'multiple_choice_question': {'A': 'Naha', 'B': 'Porto', 'C': 'Tokyo', 'D': 'Seoul'}, 'reversed_relation_question': 'Which city is twinned with Naha?'}\n",
      "{'paraphrased_question': 'Which physical feature is Praia situated on?', 'yes_question': 'Is Santiago the physical feature where Praia is located?', 'no_question': 'Is Beach the physical feature where Praia is located?', 'multiple_choice_question': {'A': 'Santiago', 'B': 'Beach', 'C': 'Mountain', 'D': 'Forest'}, 'reversed_relation_question': 'What is the location of Santiago?'}\n",
      "{'paraphrased_question': 'What is the twinned administrative body of Buxton?', 'yes_question': 'Is Harare the twinned administrative body of Buxton?', 'no_question': 'Is Baden-Baden the twinned administrative body of Buxton?', 'multiple_choice_question': {'A': 'Harare', 'B': 'Baden-Baden', 'C': 'Lisbon', 'D': 'Oslo'}, 'reversed_relation_question': 'Which city is twinned with Harare?'}\n",
      "{'paraphrased_question': 'What city has Ansanus as its patron saint?', 'yes_question': 'Is Ansanus the patron saint of Siena?', 'no_question': 'Is Ansanus the patron saint of Pavia?', 'multiple_choice_question': {'A': 'Siena', 'B': 'Pavia', 'C': 'Florence', 'D': 'Rome'}, 'reversed_relation_question': 'Which saint is the patron of Siena?'}\n",
      "{'paraphrased_question': 'In which administrative territorial entity can Łomża be found?', 'yes_question': 'Is Podlaskie Voivodeship the administrative territorial entity where Łomża is located?', 'no_question': 'Is Łomża County the administrative territorial entity where Łomża is located?', 'multiple_choice_question': {'A': 'Podlaskie Voivodeship', 'B': 'Łomża County', 'C': 'Masuria', 'D': 'Suwalki'}, 'reversed_relation_question': 'What is the administrative territorial entity where Podlaskie Voivodeship is located?'}\n",
      "{'paraphrased_question': 'What is the name of the city that is twinned with Wallenhorst?', 'yes_question': 'Is Priverno the twinned administrative body of Wallenhorst?', 'no_question': 'Is Osnabrück the twinned administrative body of Wallenhorst?', 'multiple_choice_question': {'A': 'Priverno', 'B': 'Osnabrück', 'C': 'Berlin', 'D': 'Munich'}, 'reversed_relation_question': 'Which city is twinned with Priverno?'}\n",
      "{'paraphrased_question': 'What city has Platycladus as its official symbol?', 'yes_question': 'Is Beijing the city whose official symbol is Platycladus?', 'no_question': 'Is Sapporo the city whose official symbol is Platycladus?', 'multiple_choice_question': {'A': 'Beijing', 'B': 'Sapporo', 'C': 'Tokyo', 'D': 'Seoul'}, 'reversed_relation_question': 'Which plant is the official symbol of Beijing?'}\n",
      "{'paraphrased_question': 'What is the name of the city that is twinned with Polatsk?', 'yes_question': 'Is Friedrichshafen the twinned administrative body of Polatsk?', 'no_question': 'Is Vitebsk the twinned administrative body of Polatsk?', 'multiple_choice_question': {'A': 'Friedrichshafen', 'B': 'Vitebsk', 'C': 'Minsk', 'D': 'Gomel'}, 'reversed_relation_question': 'Which city is twinned with Friedrichshafen?'}\n",
      "{'paraphrased_question': 'What is currently being developed in Hong Kong?', 'yes_question': 'Is Civilization V present in the work of Hong Kong?', 'no_question': 'Is MTR present in the work of Hong Kong?', 'multiple_choice_question': {'A': 'Civilization V', 'B': 'MTR', 'C': 'StarCraft', 'D': 'Age of Empires'}, 'reversed_relation_question': 'What is the work that Hong Kong is present in?'}\n",
      "{'paraphrased_question': 'Who holds the position of head of government in Hong Kong?', 'yes_question': 'Is John Lee the head of government of Hong Kong?', 'no_question': 'Is the Chief Executive the head of government of Hong Kong?', 'multiple_choice_question': {'A': 'John Lee', 'B': 'Chief Executive', 'C': 'Carrie Lam', 'D': 'Donald Tsang'}, 'reversed_relation_question': 'Who is the government head of John Lee?'}\n",
      "{'paraphrased_question': 'What major event is associated with Hong Kong?', 'yes_question': \"Is the Law of the People's Republic of China on Safeguarding National Security in the Hong Kong Special Administrative Region a significant event of Hong Kong?\", 'no_question': 'Is the Handover a significant event of Hong Kong?', 'multiple_choice_question': {'question': 'Which of the following is a significant event of Hong Kong?', 'options': {'A': \"Law of the People's Republic of China on Safeguarding National Security in the Hong Kong Special Administrative Region\", 'B': 'Handover', 'C': 'Establishment of the Hong Kong Monetary Authority', 'D': 'Opening of the Hong Kong Disneyland'}}, 'reversed_relation_question': \"What is the significant event related to the Law of the People's Republic of China on Safeguarding National Security in the Hong Kong Special Administrative Region?\"}\n",
      "{'paraphrased_question': 'What is the anthem of Hong Kong?', 'yes_question': 'Is the anthem of Hong Kong March of the Volunteers?', 'no_question': 'Is the anthem of Hong Kong March 26?', 'multiple_choice_question': {'A': 'March of the Volunteers', 'B': 'March 26', 'C': 'Song of the South', 'D': 'Ode to Joy'}, 'reversed_relation_question': 'What is the anthem associated with March of the Volunteers?'}\n",
      "{'paraphrased_question': 'Which entity serves as the executive body for Hong Kong?', 'yes_question': 'Is the Government of Hong Kong the executive body of Hong Kong?', 'no_question': 'Is the Executive Council the executive body of Hong Kong?', 'multiple_choice_question': {'A': 'Government of Hong Kong', 'B': 'Executive Council', 'C': 'Legislative Council', 'D': 'Judiciary of Hong Kong'}, 'reversed_relation_question': 'What is the name of the executive body that governs the Government of Hong Kong?'}\n",
      "{'paraphrased_question': 'Which city is paired with Hong Kong as a twinned administrative body?', 'yes_question': 'Is Dubai the twinned administrative body of Hong Kong?', 'no_question': 'Is Macau the twinned administrative body of Hong Kong?', 'multiple_choice_question': {'A': 'Dubai', 'B': 'Macau', 'C': 'Singapore', 'D': 'Shanghai'}, 'reversed_relation_question': 'What city is twinned with Dubai?'}\n",
      "{'paraphrased_question': 'Which language is recognized as the official language in Hong Kong?', 'yes_question': 'Is Chinese the official language of Hong Kong?', 'no_question': 'Is Cantonese the official language of Hong Kong?', 'multiple_choice_question': {'A': 'Chinese', 'B': 'Cantonese', 'C': 'English', 'D': 'Mandarin'}, 'reversed_relation_question': 'What is the name of the place where Chinese is the official language?'}\n",
      "{'paraphrased_question': 'What city has a diplomatic relation with Hong Kong?', 'yes_question': 'Is Singapore the city that has a diplomatic relation with Hong Kong?', 'no_question': 'Is China the city that has a diplomatic relation with Hong Kong?', 'multiple_choice_question': {'A': 'Singapore', 'B': 'China', 'C': 'Malaysia', 'D': 'Thailand'}, 'reversed_relation_question': \"Which city has Hong Kong's diplomatic relation?\"}\n",
      "{'paraphrased_question': 'What is the twinned administrative body of Hong Kong?', 'yes_question': 'Is Dubai the twinned administrative body of Hong Kong?', 'no_question': 'Is Shenzhen the twinned administrative body of Hong Kong?', 'multiple_choice_question': {'A': 'Dubai', 'B': 'Shenzhen', 'C': 'Tokyo', 'D': 'Singapore'}, 'reversed_relation_question': 'Which city is the twinned administrative body of Dubai?'}\n",
      "{'paraphrased_question': 'Who serves as the patron saint for the city of Crotone?', 'yes_question': 'Is Dionysius the Areopagite the patron saint of Crotone?', 'no_question': 'Is Nicola the patron saint of Crotone?', 'multiple_choice_question': {'A': 'Dionysius the Areopagite', 'B': 'Nicola', 'C': 'Saint Francis', 'D': 'Saint George'}, 'reversed_relation_question': \"Who is the city of Crotone's patron saint?\"}\n",
      "{'paraphrased_question': 'What is the name of the city that is twinned with Sosúa?', 'yes_question': 'Is Acapulco the twinned administrative body of Sosúa?', 'no_question': 'Is Santo Domingo the twinned administrative body of Sosúa?', 'multiple_choice_question': {'A': 'Acapulco', 'B': 'Santo Domingo', 'C': 'Puerto Plata', 'D': 'La Romana'}, 'reversed_relation_question': 'Which city is twinned with Acapulco?'}\n",
      "{'paraphrased_question': 'What city has diplomatic relations with Russia?', 'yes_question': 'Does Russia have diplomatic relations with Singapore?', 'no_question': 'Does Russia have diplomatic relations with Moscow?', 'multiple_choice_question': {'A': 'Singapore', 'B': 'Moscow', 'C': 'Tokyo', 'D': 'Beijing'}, 'reversed_relation_question': 'Which country has diplomatic relations with Singapore?'}\n",
      "{'paraphrased_question': 'What city has Styphnolobium japonicum as its official symbol?', 'yes_question': 'Is Beijing the city whose official symbol is Styphnolobium japonicum?', 'no_question': 'Is Tokyo the city whose official symbol is Styphnolobium japonicum?', 'multiple_choice_question': {'A': 'Beijing', 'B': 'Tokyo', 'C': 'Shanghai', 'D': 'Guangzhou'}, 'reversed_relation_question': 'Which plant has Beijing as its official symbol?'}\n",
      "{'paraphrased_question': 'What is the name of the city that is twinned with Vestfold?', 'yes_question': 'Is Kaunas the twinned administrative body of Vestfold?', 'no_question': 'Is Fredrikstad the twinned administrative body of Vestfold?', 'multiple_choice_question': {'A': 'Kaunas', 'B': 'Fredrikstad', 'C': 'Oslo', 'D': 'Bergen'}, 'reversed_relation_question': 'Which administrative body is twinned with Kaunas?'}\n",
      "{'paraphrased_question': 'What city is twinned with Oryol?', 'yes_question': 'Is Maribor the twinned administrative body of Oryol?', 'no_question': 'Is Kursk the twinned administrative body of Oryol?', 'multiple_choice_question': {'A': 'Maribor', 'B': 'Kursk', 'C': 'Nizhny Novgorod', 'D': 'Vladimir'}, 'reversed_relation_question': 'Which city is twinned with Maribor?'}\n",
      "{'paraphrased_question': 'Can you tell me who serves as the patron saint for Alicante?', 'yes_question': 'Is Saint Nicholas the patron saint of Alicante?', 'no_question': 'Is Asencion the patron saint of Alicante?', 'multiple_choice_question': {'A': 'Saint Nicholas', 'B': 'Asencion', 'C': 'Saint George', 'D': 'Saint James'}, 'reversed_relation_question': 'Who is the city that Saint Nicholas is the patron saint of?'}\n",
      "{'paraphrased_question': 'What is the name of the city that is twinned with Alicante?', 'yes_question': 'Is Oran the twinned administrative body of Alicante?', 'no_question': 'Is Elche the twinned administrative body of Alicante?', 'multiple_choice_question': {'A': 'Oran', 'B': 'Elche', 'C': 'Valencia', 'D': 'Murcia'}, 'reversed_relation_question': 'Which city is twinned with Oran?'}\n",
      "{'paraphrased_question': 'What is the name of the city that is twinned with Storo?', 'yes_question': 'Is Kaunas the twinned administrative body of Storo?', 'no_question': 'Is Trento the twinned administrative body of Storo?', 'multiple_choice_question': {'A': 'Kaunas', 'B': 'Trento', 'C': 'Vilnius', 'D': 'Riga'}, 'reversed_relation_question': 'Which city is twinned with Kaunas?'}\n",
      "{'paraphrased_question': 'What is the twinned administrative body of Chungju?', 'yes_question': 'Is Taichung the twinned administrative body of Chungju?', 'no_question': 'Is Cheongju the twinned administrative body of Chungju?', 'multiple_choice_question': {'A': 'Taichung', 'B': 'Cheongju', 'C': 'Seoul', 'D': 'Busan'}, 'reversed_relation_question': 'Which city is twinned with Taichung?'}\n",
      "{'paraphrased_question': 'What city is twinned with Toulon?', 'yes_question': 'Is Oran the twinned administrative body of Toulon?', 'no_question': 'Is Marseille the twinned administrative body of Toulon?', 'multiple_choice_question': {'A': 'Oran', 'B': 'Marseille', 'C': 'Nice', 'D': 'Lyon'}, 'reversed_relation_question': \"Which city's twinned administrative body is Oran?\"}\n",
      "{'paraphrased_question': 'What is the name of the city that is twinned with Tienen?', 'yes_question': 'Is Bielsko-Biała the twinned administrative body of Tienen?', 'no_question': 'Is Tournai the twinned administrative body of Tienen?', 'multiple_choice_question': {'A': 'Bielsko-Biała', 'B': 'Tournai', 'C': 'Brussels', 'D': 'Antwerp'}, 'reversed_relation_question': 'Which city is twinned with Bielsko-Biała?'}\n",
      "{'paraphrased_question': 'What is the name of the city that is twinned with Baguio?', 'yes_question': 'Is Cuzco the twinned administrative body of Baguio?', 'no_question': 'Is Ortigas the twinned administrative body of Baguio?', 'multiple_choice_question': {'A': 'Cuzco', 'B': 'Ortigas', 'C': 'Quezon City', 'D': 'Manila'}, 'reversed_relation_question': 'Which city is twinned with Cuzco?'}\n",
      "{'paraphrased_question': 'Which country is Chichester located in?', 'yes_question': 'Is the country of Chichester the United Kingdom?', 'no_question': 'Is the country of Chichester England?', 'multiple_choice_question': {'A': 'United Kingdom', 'B': 'England', 'C': 'France', 'D': 'Germany'}, 'reversed_relation_question': 'What is the city located in the United Kingdom?'}\n",
      "{'paraphrased_question': 'What is the twinned administrative body of Pasadena?', 'yes_question': 'Is Tangier the twinned administrative body of Pasadena?', 'no_question': 'Is Suzhou the twinned administrative body of Pasadena?', 'multiple_choice_question': {'A': 'Tangier', 'B': 'Suzhou', 'C': 'Lisbon', 'D': 'Barcelona'}, 'reversed_relation_question': 'Which city is twinned with Tangier?'}\n",
      "{'paraphrased_question': 'What is the name of the city that is twinned with Changsha?', 'yes_question': 'Is Malacca the twinned administrative body of Changsha?', 'no_question': 'Is Wuhan the twinned administrative body of Changsha?', 'multiple_choice_question': {'A': 'Malacca', 'B': 'Wuhan', 'C': 'Beijing', 'D': 'Guangzhou'}, 'reversed_relation_question': 'Which city is twinned with Malacca?'}\n",
      "{'paraphrased_question': 'What is the name of the city that is twinned with Huéscar?', 'yes_question': 'Is Kolding the twinned administrative body of Huéscar?', 'no_question': 'Is Baza the twinned administrative body of Huéscar?', 'multiple_choice_question': {'A': 'Kolding', 'B': 'Baza', 'C': 'Granada', 'D': 'Almería'}, 'reversed_relation_question': 'Which city is twinned with Kolding?'}\n",
      "{'paraphrased_question': 'What title does the head of government in Bregenz hold?', 'yes_question': 'Is the office held by the head of government of Bregenz the mayor?', 'no_question': 'Is the office held by the head of government of Bregenz the Bürgermeister?', 'multiple_choice_question': {'A': 'mayor', 'B': 'Bürgermeister', 'C': 'governor', 'D': 'councilor'}, 'reversed_relation_question': 'What is the head of government of Bregenz called?'}\n",
      "{'paraphrased_question': 'What is the name of the city that is twinned with Bregenz?', 'yes_question': 'Is Acre the twinned administrative body of Bregenz?', 'no_question': 'Is Dornbirn the twinned administrative body of Bregenz?', 'multiple_choice_question': {'A': 'Acre', 'B': 'Dornbirn', 'C': 'Innsbruck', 'D': 'Salzburg'}, 'reversed_relation_question': 'Which city is twinned with Acre?'}\n",
      "{'paraphrased_question': 'What city is associated with the significant event known as the Battle of Tours?', 'yes_question': 'Is the significant event of the Battle of Tours related to Poitiers?', 'no_question': 'Is the significant event of the Battle of Tours related to Tours?', 'multiple_choice_question': {'A': 'Poitiers', 'B': 'Tours', 'C': 'Marseille', 'D': 'Lyon'}, 'reversed_relation_question': 'What significant event is associated with the city of Poitiers?'}\n",
      "{'paraphrased_question': 'Which country is Birmingham located in?', 'yes_question': 'Is the country of Birmingham the United Kingdom?', 'no_question': 'Is the country of Birmingham England?', 'multiple_choice_question': {'A': 'United Kingdom', 'B': 'England', 'C': 'France', 'D': 'Germany'}, 'reversed_relation_question': 'What city is in the United Kingdom?'}\n",
      "{'paraphrased_question': 'What city has Forsythia as its official symbol?', 'yes_question': 'Is Forsythia the official symbol of Seoul?', 'no_question': 'Is Forsythia the official symbol of Tokyo?', 'multiple_choice_question': {'A': 'Seoul', 'B': 'Tokyo', 'C': 'Busan', 'D': 'Incheon'}, 'reversed_relation_question': 'What is the official symbol of Seoul?'}\n",
      "{'paraphrased_question': 'What is the name of the city that is twinned with Bruck an der Leitha?', 'yes_question': 'Is Priverno the twinned administrative body of Bruck an der Leitha?', 'no_question': 'Is Wiener Neustadt the twinned administrative body of Bruck an der Leitha?', 'multiple_choice_question': {'A': 'Priverno', 'B': 'Wiener Neustadt', 'C': 'Florence', 'D': 'Rome'}, 'reversed_relation_question': 'Which city is twinned with Priverno?'}\n",
      "{'paraphrased_question': 'What city is twinned with Joensuu?', 'yes_question': 'Is Vilnius the twinned administrative body of Joensuu?', 'no_question': 'Is Lappeenranta the twinned administrative body of Joensuu?', 'multiple_choice_question': {'A': 'Vilnius', 'B': 'Lappeenranta', 'C': 'Helsinki', 'D': 'Tampere'}, 'reversed_relation_question': 'Which city is the administrative body twinned with Vilnius?'}\n",
      "{'paraphrased_question': 'Which country is Hamilton located in?', 'yes_question': 'Is Canada the country of Hamilton?', 'no_question': 'Is Bahamas the country of Hamilton?', 'multiple_choice_question': {'A': 'Canada', 'B': 'Bahamas', 'C': 'Mexico', 'D': 'Australia'}, 'reversed_relation_question': 'What is the city in Canada?'}\n",
      "{'paraphrased_question': 'In which administrative territorial entity can Hamilton be found?', 'yes_question': 'Is Hamilton located in Ontario?', 'no_question': 'Is Hamilton located in Burlington?', 'multiple_choice_question': {'A': 'Ontario', 'B': 'Burlington', 'C': 'Quebec', 'D': 'Nova Scotia'}, 'reversed_relation_question': 'What is the administrative territorial entity where Ontario is located?'}\n",
      "{'paraphrased_question': 'What is the name of the city that is twinned with Novelda?', 'yes_question': 'Is Carrara the twinned administrative body of Novelda?', 'no_question': 'Is Alicante the twinned administrative body of Novelda?', 'multiple_choice_question': {'A': 'Carrara', 'B': 'Alicante', 'C': 'Valencia', 'D': 'Murcia'}, 'reversed_relation_question': 'Which city is twinned with Carrara?'}\n",
      "{'paraphrased_question': 'Who serves as the head of government in Tongeren?', 'yes_question': 'Is Patrick Dewael the head of government of Tongeren?', 'no_question': 'Is Burgemeester the head of government of Tongeren?', 'multiple_choice_question': {'A': 'Patrick Dewael', 'B': 'Burgemeester', 'C': 'Jan Jambon', 'D': 'Geert Bourgeois'}, 'reversed_relation_question': 'Who is the government head of Patrick Dewael?'}\n",
      "{'paraphrased_question': 'What is the name of the city that is twinned with San Cristóbal Ecatepec?', 'yes_question': 'Is Caracas the twinned administrative body of San Cristóbal Ecatepec?', 'no_question': 'Is Toluca the twinned administrative body of San Cristóbal Ecatepec?', 'multiple_choice_question': {'A': 'Caracas', 'B': 'Toluca', 'C': 'Guadalajara', 'D': 'Puebla'}, 'reversed_relation_question': 'Which city is twinned with Caracas?'}\n",
      "{'paraphrased_question': \"In which city is New Year's Day celebrated as a public holiday?\", 'yes_question': \"Is New Year's Day a public holiday in Hong Kong?\", 'no_question': \"Is New Year's Day a public holiday in London?\", 'multiple_choice_question': {'A': 'Hong Kong', 'B': 'London', 'C': 'Tokyo', 'D': 'Sydney'}, 'reversed_relation_question': 'Which public holiday is celebrated in Hong Kong?'}\n",
      "{'paraphrased_question': 'What is the name of the city that is twinned with Charlottenburg-Wilmersdorf?', 'yes_question': 'Is Gorzów Wielkopolski the twinned administrative body of Charlottenburg-Wilmersdorf?', 'no_question': 'Is Potsdam the twinned administrative body of Charlottenburg-Wilmersdorf?', 'multiple_choice_question': {'A': 'Gorzów Wielkopolski', 'B': 'Potsdam', 'C': 'Berlin', 'D': 'Munich'}, 'reversed_relation_question': 'Which administrative body is twinned with Gorzów Wielkopolski?'}\n",
      "{'paraphrased_question': 'Which country does Belfast belong to?', 'yes_question': 'Is the country of Belfast the United Kingdom?', 'no_question': 'Is the country of Belfast Northern Ireland?', 'multiple_choice_question': {'A': 'United Kingdom', 'B': 'Northern Ireland', 'C': 'Ireland', 'D': 'Scotland'}, 'reversed_relation_question': 'What city is part of the United Kingdom?'}\n",
      "{'paraphrased_question': 'What is the name of the city that is twinned with Charlotte?', 'yes_question': 'Is Kumasi the twinned administrative body of Charlotte?', 'no_question': 'Is Concord the twinned administrative body of Charlotte?', 'multiple_choice_question': {'A': 'Kumasi', 'B': 'Concord', 'C': 'Accra', 'D': 'Nairobi'}, 'reversed_relation_question': 'Which city is twinned with Kumasi?'}\n",
      "{'paraphrased_question': 'What city is associated with the Kabul River?', 'yes_question': 'Is the city located in or next to a body of water that is the Kabul River?', 'no_question': 'Is the city located in or next to a body of water that is Peshawar?', 'multiple_choice_question': {'A': 'Kabul', 'B': 'Peshawar', 'C': 'Islamabad', 'D': 'Herat'}, 'reversed_relation_question': 'Which river is Kabul located in or next to?'}\n",
      "{'paraphrased_question': 'Who is the founder of Maracaibo?', 'yes_question': 'Was Maracaibo founded by Ambrosius Ehinger?', 'no_question': 'Was Maracaibo founded by Juan de Mendoza?', 'multiple_choice_question': {'A': 'Ambrosius Ehinger', 'B': 'Juan de Mendoza', 'C': 'Francisco de Miranda', 'D': 'Simón Bolívar'}, 'reversed_relation_question': 'Who founded Ambrosius Ehinger?'}\n",
      "{'paraphrased_question': 'What city bears the name of Josip Broz Tito?', 'yes_question': 'Was Podgorica named after Josip Broz Tito?', 'no_question': 'Was Titoograd named after Josip Broz Tito?', 'multiple_choice_question': {'question': 'Which city was named after Josip Broz Tito?', 'options': {'A': 'Podgorica', 'B': 'Titoograd', 'C': 'Belgrade', 'D': 'Sarajevo'}}, 'reversed_relation_question': 'Who is the person that Podgorica is named after?'}\n",
      "{'paraphrased_question': 'What city has Thomas Aquinas as its patron saint?', 'yes_question': 'Is Thomas Aquinas the patron saint of Priverno?', 'no_question': 'Is Thomas Aquinas the patron saint of Naples?', 'multiple_choice_question': {'A': 'Priverno', 'B': 'Naples', 'C': 'Rome', 'D': 'Florence'}, 'reversed_relation_question': 'Which saint is the patron of Priverno?'}\n",
      "{'paraphrased_question': 'What city is twinned with Saint-Maur-des-Fossés?', 'yes_question': 'Is Rimini the twinned administrative body of Saint-Maur-des-Fossés?', 'no_question': 'Is Lublin the twinned administrative body of Saint-Maur-des-Fossés?', 'multiple_choice_question': {'A': 'Rimini', 'B': 'Lublin', 'C': 'Florence', 'D': 'Venice'}, 'reversed_relation_question': 'Which city is twinned with Rimini?'}\n",
      "{'paraphrased_question': 'What is the origin of the name Stockholm?', 'yes_question': 'Was Stockholm named after a trunk?', 'no_question': \"Was Stockholm named after Stockholm's founder?\", 'multiple_choice_question': {'A': 'trunk', 'B': \"Stockholm's founder\", 'C': 'river', 'D': 'mountain'}, 'reversed_relation_question': 'What is the trunk named after?'}\n",
      "{'paraphrased_question': 'What significant event took place in Stockholm?', 'yes_question': 'Did the significant event of Stockholm occur in 1912 Summer Olympics?', 'no_question': 'Did the significant event of Stockholm occur in 1950?', 'multiple_choice_question': {'A': '1912 Summer Olympics', 'B': '1950', 'C': '1980 Winter Olympics', 'D': '2000 Summer Olympics'}, 'reversed_relation_question': 'What is the significant event associated with the 1912 Summer Olympics?'}\n",
      "{'paraphrased_question': 'Which culture is associated with Selinunte?', 'yes_question': 'Is the culture of Selinunte Ancient Greece?', 'no_question': 'Is the culture of Selinunte Greek?', 'multiple_choice_question': {'A': 'Ancient Greece', 'B': 'Roman Empire', 'C': 'Egyptian', 'D': 'Minoan'}, 'reversed_relation_question': 'What culture is associated with Ancient Greece?'}\n",
      "{'paraphrased_question': 'Which city was established by Megara Hyblaea?', 'yes_question': 'Was Selinunte founded by Megara Hyblaea?', 'no_question': 'Was Selinunte founded by Lykos?', 'multiple_choice_question': {'A': 'Megara Hyblaea', 'B': 'Lykos', 'C': 'Syracuse', 'D': 'Akragas'}, 'reversed_relation_question': 'Which city was founded by Selinunte?'}\n",
      "{'paraphrased_question': 'In which administrative territorial entity can Selinunte be found?', 'yes_question': 'Is Castelvetrano the administrative territorial entity where Selinunte is located?', 'no_question': 'Is Selinunte located in Italy?', 'multiple_choice_question': {'A': 'Castelvetrano', 'B': 'Selinunte is located in Italy', 'C': 'Marsala', 'D': 'Trapani'}, 'reversed_relation_question': 'What is the name of the place where Castelvetrano is located?'}\n",
      "{'paraphrased_question': 'Which country is Chester located in?', 'yes_question': 'Is the country of Chester the United Kingdom?', 'no_question': 'Is the country of Chester England?', 'multiple_choice_question': {'A': 'United Kingdom', 'B': 'England', 'C': 'France', 'D': 'Germany'}, 'reversed_relation_question': 'What city is in the United Kingdom?'}\n",
      "{'paraphrased_question': 'What is the name of the city that is twinned with East Lansing?', 'yes_question': 'Is Cluj-Napoca the twinned administrative body of East Lansing?', 'no_question': 'Is Lansing the twinned administrative body of East Lansing?', 'multiple_choice_question': {'A': 'Cluj-Napoca', 'B': 'Lansing', 'C': 'Bucharest', 'D': 'Timișoara'}, 'reversed_relation_question': 'Which city is twinned with Cluj-Napoca?'}\n",
      "{'paraphrased_question': 'What is the name of the city that is twinned with Biarritz?', 'yes_question': 'Is Jerez de la Frontera the twinned administrative body of Biarritz?', 'no_question': 'Is Bayonne the twinned administrative body of Biarritz?', 'multiple_choice_question': {'A': 'Jerez de la Frontera', 'B': 'Bayonne', 'C': 'San Sebastián', 'D': 'Bilbao'}, 'reversed_relation_question': 'Which city is twinned with Jerez de la Frontera?'}\n",
      "{'paraphrased_question': 'What is the twinned administrative body of Uvs Province?', 'yes_question': 'Is Taichung the twinned administrative body of Uvs Province?', 'no_question': 'Is Ulaanbaatar the twinned administrative body of Uvs Province?', 'multiple_choice_question': {'A': 'Taichung', 'B': 'Ulaanbaatar', 'C': 'Hohhot', 'D': 'Ulaanbaatar'}, 'reversed_relation_question': 'Which province is twinned with the city of Taichung?'}\n",
      "{'paraphrased_question': 'What is the name of the city that is twinned with Alūksne?', 'yes_question': 'Is Kuopio the twinned administrative body of Alūksne?', 'no_question': 'Is Riga the twinned administrative body of Alūksne?', 'multiple_choice_question': {'A': 'Kuopio', 'B': 'Riga', 'C': 'Tallinn', 'D': 'Helsinki'}, 'reversed_relation_question': 'Which city is twinned with Kuopio?'}\n",
      "{'paraphrased_question': 'What is the name of the city that is twinned with Savonlinna?', 'yes_question': 'Is Detmold the twinned administrative body of Savonlinna?', 'no_question': 'Is Lappeenranta the twinned administrative body of Savonlinna?', 'multiple_choice_question': {'A': 'Detmold', 'B': 'Lappeenranta', 'C': 'Helsinki', 'D': 'Tampere'}, 'reversed_relation_question': 'Which city is twinned with Detmold?'}\n",
      "{'paraphrased_question': 'What is the twinned administrative body of the city Elista?', 'yes_question': 'Is Lhasa the twinned administrative body of Elista?', 'no_question': 'Is Krasnodar the twinned administrative body of Elista?', 'multiple_choice_question': {'A': 'Lhasa', 'B': 'Krasnodar', 'C': 'Moscow', 'D': 'Novosibirsk'}, 'reversed_relation_question': 'Which city is twinned with Lhasa?'}\n",
      "{'paraphrased_question': 'What city is situated in or adjacent to a body of water that is Ems?', 'yes_question': 'Is Gütersloh the city located in or next to a body of water that is Ems?', 'no_question': 'Is Emden the city located in or next to a body of water that is Ems?', 'multiple_choice_question': {'A': 'Gütersloh', 'B': 'Emden', 'C': 'Berlin', 'D': 'Hamburg'}, 'reversed_relation_question': 'Which body of water is Ems located in or next to?'}\n",
      "{'paraphrased_question': 'What city has Theodor Pfizer as its head of government?', 'yes_question': 'Is Ulm the city where Theodor Pfizer is the head of government?', 'no_question': \"Is I couldn't find any information the city where Theodor Pfizer is the head of government?\", 'multiple_choice_question': {'A': 'Ulm', 'B': 'Berlin', 'C': 'Munich', 'D': 'Hamburg'}, 'reversed_relation_question': 'Who is the head of government of Ulm?'}\n",
      "{'paraphrased_question': 'What is the name of the city that is twinned with Middlesbrough?', 'yes_question': 'Is Dunkirk the twinned administrative body of Middlesbrough?', 'no_question': 'Is Bremen the twinned administrative body of Middlesbrough?', 'multiple_choice_question': {'A': 'Dunkirk', 'B': 'Bremen', 'C': 'Lille', 'D': 'Rouen'}, 'reversed_relation_question': 'Which city is twinned with Dunkirk?'}\n",
      "{'paraphrased_question': 'What is the twinned administrative body of Huntsville?', 'yes_question': 'Is Tainan the twinned administrative body of Huntsville?', 'no_question': 'Is Madison the twinned administrative body of Huntsville?', 'multiple_choice_question': {'A': 'Tainan', 'B': 'Madison', 'C': 'Austin', 'D': 'Toronto'}, 'reversed_relation_question': 'Which city is the twinned administrative body of Tainan?'}\n",
      "{'paraphrased_question': 'What is the twinned administrative body of Grimsby?', 'yes_question': 'Is Banjul the twinned administrative body of Grimsby?', 'no_question': 'Is Klaipėda the twinned administrative body of Grimsby?', 'multiple_choice_question': {'A': 'Banjul', 'B': 'Klaipėda', 'C': 'Dakar', 'D': 'Accra'}, 'reversed_relation_question': 'Which city is twinned with Banjul?'}\n",
      "{'paraphrased_question': 'Which physical feature is Port of Spain situated on?', 'yes_question': 'Is Port of Spain located in Trinidad?', 'no_question': 'Is Port of Spain located in Marina?', 'multiple_choice_question': {'A': 'Trinidad', 'B': 'Marina', 'C': 'Barbados', 'D': 'Cuba'}, 'reversed_relation_question': 'What is the location of Trinidad?'}\n",
      "{'paraphrased_question': 'What city is twinned with Port of Spain?', 'yes_question': 'Is Lagos the twinned administrative body of Port of Spain?', 'no_question': 'Is San Fernando the twinned administrative body of Port of Spain?', 'multiple_choice_question': {'A': 'Lagos', 'B': 'San Fernando', 'C': 'Caracas', 'D': 'Kingston'}, 'reversed_relation_question': 'Which city is twinned with Lagos?'}\n",
      "{'paraphrased_question': 'What city does Einat Kalisch-Rotem serve as head of government?', 'yes_question': 'Is Einat Kalisch-Rotem the head of government of Haifa?', 'no_question': 'Is Einat Kalisch-Rotem the head of government of Tel Aviv?', 'multiple_choice_question': {'A': 'Haifa', 'B': 'Tel Aviv', 'C': 'Jerusalem', 'D': 'Eilat'}, 'reversed_relation_question': 'Which government head is associated with the city of Haifa?'}\n",
      "{'paraphrased_question': 'What city is twinned with Hirakawa?', 'yes_question': 'Is Taichung the twinned administrative body of Hirakawa?', 'no_question': 'Is Kanazawa the twinned administrative body of Hirakawa?', 'multiple_choice_question': {'A': 'Taichung', 'B': 'Kanazawa', 'C': 'Osaka', 'D': 'Tokyo'}, 'reversed_relation_question': 'Which city is the administrative body twinned with Taichung?'}\n",
      "{'paraphrased_question': 'What city has Valence as its twinned administrative body?', 'yes_question': 'Is Asti the twinned administrative body of Valence?', 'no_question': 'Is Grenoble the twinned administrative body of Valence?', 'multiple_choice_question': {'A': 'Asti', 'B': 'Grenoble', 'C': 'Lyon', 'D': 'Nice'}, 'reversed_relation_question': 'Which administrative body is twinned with the city of Asti?'}\n",
      "{'paraphrased_question': 'Which body of water is Grudziądz situated by?', 'yes_question': 'Is the Vistula the body of water located in or next to Grudziądz?', 'no_question': 'Is the Noteć River the body of water located in or next to Grudziądz?', 'multiple_choice_question': {'A': 'Vistula', 'B': 'Noteć River', 'C': 'Odra', 'D': 'Narew'}, 'reversed_relation_question': 'What city is located in or next to the Vistula?'}\n",
      "{'paraphrased_question': 'What is the name of the city that is twinned with Grudziądz?', 'yes_question': 'Is Gütersloh the twinned administrative body of Grudziądz?', 'no_question': 'Is Gdańsk the twinned administrative body of Grudziądz?', 'multiple_choice_question': {'A': 'Gütersloh', 'B': 'Gdańsk', 'C': 'Warsaw', 'D': 'Kraków'}, 'reversed_relation_question': 'Which city is twinned with Gütersloh?'}\n",
      "{'paraphrased_question': 'What city is part of the historical region known as Lesser Poland?', 'yes_question': 'Is Bielsko-Biała part of the historical region of Lesser Poland?', 'no_question': 'Is Kraków part of the historical region of Lesser Poland?', 'multiple_choice_question': {'A': 'Bielsko-Biała', 'B': 'Kraków', 'C': 'Warsaw', 'D': 'Gdańsk'}, 'reversed_relation_question': 'Which historical region does the city Bielsko-Biała belong to?'}\n",
      "{'paraphrased_question': 'Which country is Truro located in?', 'yes_question': 'Is the country of Truro the United Kingdom?', 'no_question': 'Is the country of Truro not the United Kingdom?', 'multiple_choice_question': {'A': 'United Kingdom', 'B': 'There is no country of Truro', 'C': 'Canada', 'D': 'Australia'}, 'reversed_relation_question': 'What is the city that is in the United Kingdom?'}\n",
      "{'paraphrased_question': 'What title does the head of government of Dushanbe hold?', 'yes_question': 'Is the office held by the head of government of Dushanbe the mayor?', 'no_question': 'Is the office held by the head of government of Dushanbe the President?', 'multiple_choice_question': {'A': 'mayor', 'B': 'President', 'C': 'governor', 'D': 'chief executive'}, 'reversed_relation_question': 'What is the head of government of Dushanbe called?'}\n",
      "{'paraphrased_question': 'What day is Dushanbe named after?', 'yes_question': 'Was Dushanbe named after Monday?', 'no_question': 'Was Dushanbe named after Dushanbe village?', 'multiple_choice_question': {'A': 'Monday', 'B': 'Dushanbe village', 'C': 'Tuesday', 'D': 'Friday'}, 'reversed_relation_question': 'What is the name of the day after which Dushanbe was named?'}\n",
      "{'paraphrased_question': 'What is the name of the city that is twinned with Buzet?', 'yes_question': 'Is Koper the twinned administrative body of Buzet?', 'no_question': 'Is Cittadella the twinned administrative body of Buzet?', 'multiple_choice_question': {'A': 'Koper', 'B': 'Cittadella', 'C': 'Pula', 'D': 'Rijeka'}, 'reversed_relation_question': 'Which city is twinned with Koper?'}\n",
      "{'paraphrased_question': 'What is the name of the city that is twinned with Vratsa?', 'yes_question': 'Is Frankfurt (Oder) the twinned administrative body of Vratsa?', 'no_question': 'Is Plovdiv the twinned administrative body of Vratsa?', 'multiple_choice_question': {'A': 'Frankfurt (Oder)', 'B': 'Plovdiv', 'C': 'Sofia', 'D': 'Burgas'}, 'reversed_relation_question': 'Which city is twinned with Frankfurt (Oder)?'}\n",
      "{'paraphrased_question': 'What is the twinned administrative body of Algeciras?', 'yes_question': 'Is Tangier the twinned administrative body of Algeciras?', 'no_question': 'Is Seville the twinned administrative body of Algeciras?', 'multiple_choice_question': {'A': 'Tangier', 'B': 'Seville', 'C': 'Madrid', 'D': 'Barcelona'}, 'reversed_relation_question': 'Which city is twinned with Tangier?'}\n",
      "{'paraphrased_question': 'What is the name of the city that is twinned with Fürstenfeldbruck?', 'yes_question': 'Is Zadar the twinned administrative body of Fürstenfeldbruck?', 'no_question': 'Is Bietigheim-Bissingen the twinned administrative body of Fürstenfeldbruck?', 'multiple_choice_question': {'A': 'Zadar', 'B': 'Bietigheim-Bissingen', 'C': 'Munich', 'D': 'Berlin'}, 'reversed_relation_question': 'Which city is twinned with Zadar?'}\n",
      "{'paraphrased_question': 'What is the name of the city that is twinned with Montichiari?', 'yes_question': 'Is Pescara the twinned administrative body of Montichiari?', 'no_question': 'Is Brescia the twinned administrative body of Montichiari?', 'multiple_choice_question': {'A': 'Pescara', 'B': 'Brescia', 'C': 'Verona', 'D': 'Bologna'}, 'reversed_relation_question': 'Which city is twinned with Pescara?'}\n",
      "{'paraphrased_question': 'What city has diplomatic relations with France?', 'yes_question': 'Does France have diplomatic relations with Singapore?', 'no_question': 'Does France have diplomatic relations with Paris?', 'multiple_choice_question': {'A': 'Singapore', 'B': 'Paris', 'C': 'Berlin', 'D': 'Tokyo'}, 'reversed_relation_question': 'Which country has diplomatic relations with Singapore?'}\n",
      "{'paraphrased_question': 'What is the twinned administrative body of Gwangju?', 'yes_question': 'Is Tainan the twinned administrative body of Gwangju?', 'no_question': 'Is Seoul the twinned administrative body of Gwangju?', 'multiple_choice_question': {'A': 'Tainan', 'B': 'Seoul', 'C': 'Busan', 'D': 'Incheon'}, 'reversed_relation_question': 'Which city is twinned with Tainan?'}\n",
      "{'paraphrased_question': 'What city is twinned with Azov?', 'yes_question': 'Is Antalya the twinned administrative body of Azov?', 'no_question': 'Is Taganrog the twinned administrative body of Azov?', 'multiple_choice_question': {'A': 'Antalya', 'B': 'Taganrog', 'C': 'Krasnodar', 'D': 'Sochi'}, 'reversed_relation_question': \"Which city's twinned administrative body is Antalya?\"}\n",
      "{'paraphrased_question': 'Who serves as the patron saint for the city of Modena?', 'yes_question': 'Is Geminianus the patron saint of Modena?', 'no_question': 'Is Geminiano the patron saint of Modena?', 'multiple_choice_question': {'A': 'Geminianus', 'B': 'Geminiano', 'C': 'Giorgio', 'D': 'Francesco'}, 'reversed_relation_question': \"Who is the city of Modena's patron saint?\"}\n",
      "{'paraphrased_question': 'What is the name of the city that is twinned with Modena?', 'yes_question': 'Is Almaty the twinned administrative body of Modena?', 'no_question': 'Is Bologna the twinned administrative body of Modena?', 'multiple_choice_question': {'A': 'Almaty', 'B': 'Bologna', 'C': 'Florence', 'D': 'Turin'}, 'reversed_relation_question': 'Which city is twinned with Almaty?'}\n",
      "{'paraphrased_question': 'What is the name of the city that is twinned with Coatbridge?', 'yes_question': 'Is Gatchina the twinned administrative body of Coatbridge?', 'no_question': 'Is Kragujevac the twinned administrative body of Coatbridge?', 'multiple_choice_question': {'A': 'Gatchina', 'B': 'Kragujevac', 'C': 'Vladimir', 'D': 'Tver'}, 'reversed_relation_question': 'Which city is twinned with Gatchina?'}\n",
      "{'paraphrased_question': 'What is the name of the city that is twinned with Karaganda?', 'yes_question': 'Is Cluj-Napoca the twinned administrative body of Karaganda?', 'no_question': 'Is Kyzylorda the twinned administrative body of Karaganda?', 'multiple_choice_question': {'A': 'Cluj-Napoca', 'B': 'Kyzylorda', 'C': 'Almaty', 'D': 'Astana'}, 'reversed_relation_question': 'Which city is twinned with Cluj-Napoca?'}\n",
      "{'paraphrased_question': 'Which country is Windsor located in?', 'yes_question': 'Is Canada the country of Windsor?', 'no_question': 'Is England the country of Windsor?', 'multiple_choice_question': {'A': 'Canada', 'B': 'England', 'C': 'Australia', 'D': 'France'}, 'reversed_relation_question': 'What is the city that is in Canada?'}\n",
      "{'paraphrased_question': 'What is the twinned administrative body of the city Gela?', 'yes_question': 'Is Eleusis the twinned administrative body of Gela?', 'no_question': 'Is Catania the twinned administrative body of Gela?', 'multiple_choice_question': {'A': 'Eleusis', 'B': 'Catania', 'C': 'Athens', 'D': 'Rome'}, 'reversed_relation_question': 'Which city is twinned with Eleusis?'}\n",
      "{'paraphrased_question': 'What city is twinned with Burgas Municipality?', 'yes_question': 'Is Rotterdam the twinned administrative body of Burgas Municipality?', 'no_question': 'Is Varna the twinned administrative body of Burgas Municipality?', 'multiple_choice_question': {'A': 'Rotterdam', 'B': 'Varna', 'C': 'Sofia', 'D': 'Plovdiv'}, 'reversed_relation_question': 'Which municipality is twinned with Rotterdam?'}\n",
      "{'paraphrased_question': 'What is the name of the city that is twinned with Dazhou?', 'yes_question': 'Is Zhytomyr the twinned administrative body of Dazhou?', 'no_question': 'Is Chengdu the twinned administrative body of Dazhou?', 'multiple_choice_question': {'A': 'Zhytomyr', 'B': 'Chengdu', 'C': 'Lviv', 'D': 'Kyiv'}, 'reversed_relation_question': 'Which city is twinned with Zhytomyr?'}\n",
      "{'paraphrased_question': 'What is the name of the city that is twinned with Nogales?', 'yes_question': 'Is Kandahar the twinned administrative body of Nogales?', 'no_question': 'Is Nogales, Sonora, Mexico the twinned administrative body of Nogales?', 'multiple_choice_question': {'A': 'Kandahar', 'B': 'Nogales, Sonora, Mexico', 'C': 'Tucson', 'D': 'El Paso'}, 'reversed_relation_question': 'Which city is twinned with Kandahar?'}\n",
      "{'paraphrased_question': 'Who is Regina named in honor of?', 'yes_question': 'Was Regina named after Queen Victoria?', 'no_question': 'Was Regina named after the Queen of Bohemia?', 'multiple_choice_question': {'A': 'Queen Victoria', 'B': 'Queen of Bohemia', 'C': 'Queen Elizabeth', 'D': 'Queen Anne'}, 'reversed_relation_question': 'Who was named after Regina?'}\n",
      "{'paraphrased_question': 'What is currently being worked on in Kuala Lumpur?', 'yes_question': 'Is Civilization V present in the work of Kuala Lumpur?', 'no_question': 'Is Petronas present in the work of Kuala Lumpur?', 'multiple_choice_question': {'A': 'Civilization V', 'B': 'Petronas', 'C': 'Merdeka 118', 'D': 'KLIA'}, 'reversed_relation_question': 'What is the work that Kuala Lumpur is present in?'}\n",
      "{'paraphrased_question': 'What is the twinned administrative body of Edirne?', 'yes_question': 'Is Kars the twinned administrative body of Edirne?', 'no_question': 'Is Plovdiv the twinned administrative body of Edirne?', 'multiple_choice_question': {'A': 'Kars', 'B': 'Plovdiv', 'C': 'Istanbul', 'D': 'Ankara'}, 'reversed_relation_question': 'Which city is twinned with Kars?'}\n",
      "{'paraphrased_question': 'What city practices Sikhism as its religion or worldview?', 'yes_question': 'Is Hong Kong the city where Sikhism is practiced as a religion or worldview?', 'no_question': 'Is Amritsar the city where Sikhism is practiced as a religion or worldview?', 'multiple_choice_question': {'A': 'Hong Kong', 'B': 'Amritsar', 'C': 'Delhi', 'D': 'Toronto'}, 'reversed_relation_question': 'Which religion or worldview is practiced in Hong Kong?'}\n",
      "{'paraphrased_question': 'Which administrative territorial entity is Timbuktu part of?', 'yes_question': 'Is Timbuktu Region the administrative territorial entity where Timbuktu is located?', 'no_question': 'Is Mali the administrative territorial entity where Timbuktu is located?', 'multiple_choice_question': {'A': 'Timbuktu Region', 'B': 'Mali', 'C': 'Bamako Region', 'D': 'Gao Region'}, 'reversed_relation_question': 'What is the administrative territorial entity that Timbuktu Region is located in?'}\n",
      "{'paraphrased_question': 'What heritage status does Timbuktu hold?', 'yes_question': 'Is Timbuktu a UNESCO World Heritage Site?', 'no_question': 'Is Timbuktu a Cultural heritage designation?', 'multiple_choice_question': {'A': 'UNESCO World Heritage Site', 'B': 'Cultural', 'C': 'National Historic Landmark', 'D': 'World Heritage List'}, 'reversed_relation_question': 'What is the heritage designation of a UNESCO World Heritage Site?'}\n",
      "{'paraphrased_question': 'What is the notable event that took place in Sarajevo?', 'yes_question': 'Is the significant event of Sarajevo the 1984 Winter Olympics?', 'no_question': 'Is the significant event of Sarajevo the year 1914?', 'multiple_choice_question': {'A': '1984 Winter Olympics', 'B': '1914', 'C': '1992 Summer Olympics', 'D': '2006 Winter Olympics'}, 'reversed_relation_question': 'What significant event is associated with the 1984 Winter Olympics?'}\n",
      "{'paraphrased_question': 'What is the name of the city that is twinned with Tsukuba?', 'yes_question': 'Is Shenzhen the twinned administrative body of Tsukuba?', 'no_question': 'Is Tsukuba the twinned administrative body of Tsukuba?', 'multiple_choice_question': {'A': 'Shenzhen', 'B': 'Tsukuba', 'C': 'Tokyo', 'D': 'Osaka'}, 'reversed_relation_question': 'Which city is twinned with Shenzhen?'}\n",
      "{'paraphrased_question': 'What is the name of the city that is twinned with Songpa District?', 'yes_question': 'Is Christchurch the twinned administrative body of Songpa District?', 'no_question': 'Is Seoul the twinned administrative body of Songpa District?', 'multiple_choice_question': {'A': 'Christchurch', 'B': 'Seoul', 'C': 'Tokyo', 'D': 'Beijing'}, 'reversed_relation_question': 'Which district is twinned with Christchurch?'}\n",
      "{'paraphrased_question': 'What city is associated with the Neolithic time period?', 'yes_question': 'Is Byblos the city associated with the Neolithic time period?', 'no_question': 'Is Jericho the city associated with the Neolithic time period?', 'multiple_choice_question': {'A': 'Byblos', 'B': 'Jericho', 'C': 'Carthage', 'D': 'Athens'}, 'reversed_relation_question': 'Which time period is associated with the city Byblos?'}\n",
      "{'paraphrased_question': 'In which city is Chinese New Year celebrated as a public holiday?', 'yes_question': 'Is Chinese New Year a public holiday in Hong Kong?', 'no_question': 'Is Chinese New Year a public holiday in Singapore?', 'multiple_choice_question': {'A': 'Hong Kong', 'B': 'Singapore', 'C': 'Tokyo', 'D': 'Seoul'}, 'reversed_relation_question': 'Which public holiday is celebrated in Hong Kong?'}\n",
      "{'paraphrased_question': 'What is the name of the city that is twinned with Matera?', 'yes_question': 'Is Oulu the twinned administrative body of Matera?', 'no_question': 'Is Bari the twinned administrative body of Matera?', 'multiple_choice_question': {'A': 'Oulu', 'B': 'Bari', 'C': 'Turin', 'D': 'Florence'}, 'reversed_relation_question': 'Which city is twinned with Oulu?'}\n",
      "{'paraphrased_question': 'Who is the person that São Paulo is named in honor of?', 'yes_question': 'Was São Paulo named after Paul the Apostle?', 'no_question': 'Was São Paulo named after Saint Paul?', 'multiple_choice_question': {'A': 'Paul the Apostle', 'B': 'Saint Paul', 'C': 'Peter the Apostle', 'D': 'John the Baptist'}, 'reversed_relation_question': 'Who is the apostle that São Paulo is named after?'}\n",
      "{'paraphrased_question': 'What is the name of the city that is twinned with Ōtsu?', 'yes_question': 'Is Würzburg the twinned administrative body of Ōtsu?', 'no_question': 'Is Kusatsu the twinned administrative body of Ōtsu?', 'multiple_choice_question': {'A': 'Würzburg', 'B': 'Kusatsu', 'C': 'Nagoya', 'D': 'Kyoto'}, 'reversed_relation_question': \"Which city's twinned administrative body is Würzburg?\"}\n",
      "{'paraphrased_question': 'What is the name of the city that is twinned with Kiruna Municipality?', 'yes_question': 'Is Rovaniemi the twinned administrative body of Kiruna Municipality?', 'no_question': 'Is Luleå the twinned administrative body of Kiruna Municipality?', 'multiple_choice_question': {'A': 'Rovaniemi', 'B': 'Luleå', 'C': 'Oulu', 'D': 'Helsinki'}, 'reversed_relation_question': 'Which municipality is twinned with Rovaniemi?'}\n",
      "{'paraphrased_question': 'What is the name of the city that is twinned with Lake Worth Beach?', 'yes_question': 'Is Lappeenranta the twinned administrative body of Lake Worth Beach?', 'no_question': 'Is Lake Worth, Netherlands the twinned administrative body of Lake Worth Beach?', 'multiple_choice_question': {'A': 'Lappeenranta', 'B': 'Lake Worth, Netherlands', 'C': 'Helsinki', 'D': 'Oslo'}, 'reversed_relation_question': 'Which city is twinned with Lappeenranta?'}\n",
      "{'paraphrased_question': 'Which country is Kingston upon Hull located in?', 'yes_question': 'Is the country of Kingston upon Hull the United Kingdom?', 'no_question': 'Is the country of Kingston upon Hull England?', 'multiple_choice_question': {'A': 'United Kingdom', 'B': 'England', 'C': 'France', 'D': 'Germany'}, 'reversed_relation_question': 'What city is in the United Kingdom?'}\n",
      "{'paraphrased_question': 'What is the name of the city that is twinned with Neustrelitz?', 'yes_question': 'Is Rovaniemi the twinned administrative body of Neustrelitz?', 'no_question': 'Is Neubrandenburg the twinned administrative body of Neustrelitz?', 'multiple_choice_question': {'A': 'Rovaniemi', 'B': 'Neubrandenburg', 'C': 'Kemi', 'D': 'Oulu'}, 'reversed_relation_question': 'Which city is twinned with Rovaniemi?'}\n",
      "{'paraphrased_question': \"Which administrative territorial entity is 's-Hertogenbosch part of?\", 'yes_question': \"Is 's-Hertogenbosch located in the administrative territorial entity of 's-Hertogenbosch?\", 'no_question': \"Is 's-Hertogenbosch located in the administrative territorial entity of the Netherlands?\", 'multiple_choice_question': {'A': \"'s-Hertogenbosch\", 'B': 'Netherlands', 'C': 'Amsterdam', 'D': 'Utrecht'}, 'reversed_relation_question': \"What is the administrative territorial entity where 's-Hertogenbosch is located?\"}\n",
      "{'paraphrased_question': \"What is the name of the city that is twinned with 's-Hertogenbosch?\", 'yes_question': \"Is Trier the twinned administrative body of 's-Hertogenbosch?\", 'no_question': \"Is Tournai the twinned administrative body of 's-Hertogenbosch?\", 'multiple_choice_question': {'A': 'Trier', 'B': 'Tournai', 'C': 'Bruges', 'D': 'Antwerp'}, 'reversed_relation_question': 'Which city is twinned with Trier?'}\n",
      "{'paraphrased_question': \"What city is situated within the administrative territorial entity of 's-Hertogenbosch?\", 'yes_question': \"Is 's-Hertogenbosch the city located in the administrative territorial entity?\", 'no_question': \"Is 's-Hertogenbosch not the city located in the administrative territorial entity?\", 'multiple_choice_question': {'A': \"'s-Hertogenbosch\", 'B': 'Netherlands', 'C': 'Amsterdam', 'D': 'Rotterdam'}, 'reversed_relation_question': \"Which administrative territorial entity is 's-Hertogenbosch located in?\"}\n",
      "{'paraphrased_question': 'What city is associated with the significant event of excommunication?', 'yes_question': 'Is Venice the city associated with the significant event of excommunication?', 'no_question': 'Is Rome the city associated with the significant event of excommunication?', 'multiple_choice_question': {'A': 'Venice', 'B': 'Rome', 'C': 'Florence', 'D': 'Milan'}, 'reversed_relation_question': 'What significant event is associated with the city of Venice?'}\n",
      "{'paraphrased_question': 'What is the name of the city that is twinned with Santa Cruz de La Palma?', 'yes_question': 'Is Buenos Aires the twinned administrative body of Santa Cruz de La Palma?', 'no_question': 'Is Las Palmas de Gran Canaria the twinned administrative body of Santa Cruz de La Palma?', 'multiple_choice_question': {'A': 'Buenos Aires', 'B': 'Las Palmas de Gran Canaria', 'C': 'Madrid', 'D': 'Barcelona'}, 'reversed_relation_question': 'Which city is twinned with Buenos Aires?'}\n",
      "{'paraphrased_question': 'What city takes the place of Malo-les-Bains?', 'yes_question': 'Does Dunkirk replace Malo-les-Bains?', 'no_question': 'Does Dunkerque replace Malo-les-Bains?', 'multiple_choice_question': {'A': 'Dunkirk', 'B': 'Dunkerque', 'C': 'Calais', 'D': 'Lille'}, 'reversed_relation_question': 'Which city is replaced by Dunkirk?'}\n",
      "{'paraphrased_question': 'What is the name of the city that is twinned with Fujisawa?', 'yes_question': 'Is Windsor the twinned administrative body of Fujisawa?', 'no_question': 'Is Kirkland the twinned administrative body of Fujisawa?', 'multiple_choice_question': {'A': 'Windsor', 'B': 'Kirkland', 'C': 'Vancouver', 'D': 'Toronto'}, 'reversed_relation_question': 'Which city is twinned with Windsor?'}\n",
      "{'paraphrased_question': 'Who serves as the patron saint for Zabrze?', 'yes_question': 'Is Camillus de Lellis the patron saint of Zabrze?', 'no_question': 'Is St. Barbara the patron saint of Zabrze?', 'multiple_choice_question': {'A': 'Camillus de Lellis', 'B': 'St. Barbara', 'C': 'St. John', 'D': 'St. Michael'}, 'reversed_relation_question': 'Which city has Camillus de Lellis as its patron saint?'}\n",
      "{'paraphrased_question': 'What city is situated in the Philippine Sea?', 'yes_question': 'Is Saipan located in the Philippine Sea?', 'no_question': 'Is Tokyo located in the Philippine Sea?', 'multiple_choice_question': {'A': 'Saipan', 'B': 'Tokyo', 'C': 'Manila', 'D': 'Hanoi'}, 'reversed_relation_question': 'Which sea is Saipan located in?'}\n",
      "{'paraphrased_question': 'What is the name of the country that has diplomatic relations with Pakistan?', 'yes_question': 'Does Pakistan have diplomatic relations with Singapore?', 'no_question': 'Does Pakistan have diplomatic relations with Islamabad?', 'multiple_choice_question': {'A': 'Singapore', 'B': 'Islamabad', 'C': 'Kuala Lumpur', 'D': 'Dhaka'}, 'reversed_relation_question': 'Which country has diplomatic relations with Singapore?'}\n",
      "{'paraphrased_question': 'Which country is Edinburgh located in?', 'yes_question': 'Is the country of Edinburgh the United Kingdom?', 'no_question': 'Is the country of Edinburgh Scotland?', 'multiple_choice_question': {'A': 'United Kingdom', 'B': 'Scotland', 'C': 'France', 'D': 'Ireland'}, 'reversed_relation_question': 'What city is in the United Kingdom?'}\n",
      "{'paraphrased_question': 'What work is currently associated with Edinburgh?', 'yes_question': 'Is Civilization V the present in work of Edinburgh?', 'no_question': 'Is The Royal Mile the present in work of Edinburgh?', 'multiple_choice_question': {'A': 'Civilization V', 'B': 'The Royal Mile', 'C': 'The Edinburgh Castle', 'D': \"Arthur's Seat\"}, 'reversed_relation_question': 'What city is Civilization V present in work of?'}\n",
      "{'paraphrased_question': 'What city has Saint Valentine as its patron saint?', 'yes_question': 'Is Terni the city whose patron saint is Saint Valentine?', 'no_question': 'Is Rome the city whose patron saint is Saint Valentine?', 'multiple_choice_question': {'A': 'Terni', 'B': 'Rome', 'C': 'Milan', 'D': 'Florence'}, 'reversed_relation_question': 'Which saint is the patron of the city Terni?'}\n",
      "{'paraphrased_question': 'In which administrative territorial entity is Saipan situated?', 'yes_question': 'Is Saipan Municipality the administrative territorial entity where Saipan is located?', 'no_question': 'Is Northern Mariana Islands the administrative territorial entity where Saipan is located?', 'multiple_choice_question': {'A': 'Saipan Municipality', 'B': 'Northern Mariana Islands', 'C': 'Guam', 'D': 'Palau'}, 'reversed_relation_question': 'What is the administrative territorial entity that Saipan Municipality is located in?'}\n",
      "{'paraphrased_question': 'What city is twinned with Aichi Prefecture?', 'yes_question': 'Is Bangkok the twinned administrative body of Aichi Prefecture?', 'no_question': 'Is Nagoya the twinned administrative body of Aichi Prefecture?', 'multiple_choice_question': {'A': 'Bangkok', 'B': 'Nagoya', 'C': 'Tokyo', 'D': 'Osaka'}, 'reversed_relation_question': 'Which administrative body is twinned with Bangkok?'}\n",
      "{'paraphrased_question': 'What is the name of the city that is twinned with Moundou?', 'yes_question': 'Is Poitiers the twinned administrative body of Moundou?', 'no_question': 'Is Toulouse the twinned administrative body of Moundou?', 'multiple_choice_question': {'A': 'Poitiers', 'B': 'Toulouse', 'C': 'Lille', 'D': 'Marseille'}, 'reversed_relation_question': 'Which city is twinned with Poitiers?'}\n",
      "{'paraphrased_question': 'Can you tell me who leads the government in Niš?', 'yes_question': 'Is Darko Bulatović the head of government of Niš?', 'no_question': 'Is the Mayor the head of government of Niš?', 'multiple_choice_question': {'question': 'Who is the head of government of Niš?', 'options': {'A': 'Darko Bulatović', 'B': 'Mayor', 'C': 'Jelena Marković', 'D': 'Milan Stojanović'}}, 'reversed_relation_question': 'Who is governed by Darko Bulatović in Niš?'}\n",
      "{'paraphrased_question': 'What city did René-Robert Cavelier, Sieur de La Salle establish?', 'yes_question': 'Was Kingston founded by René-Robert Cavelier, Sieur de La Salle?', 'no_question': 'Was Lacrosse founded by René-Robert Cavelier, Sieur de La Salle?', 'multiple_choice_question': {'A': 'Kingston', 'B': 'Lacrosse', 'C': 'Madison', 'D': 'Springfield'}, 'reversed_relation_question': 'Who founded Kingston?'}\n",
      "{'paraphrased_question': 'What is the name of the city that is twinned with Monheim am Rhein?', 'yes_question': 'Is Wiener Neustadt the twinned administrative body of Monheim am Rhein?', 'no_question': 'Is Mülheim an der Ruhr the twinned administrative body of Monheim am Rhein?', 'multiple_choice_question': {'A': 'Wiener Neustadt', 'B': 'Mülheim an der Ruhr', 'C': 'Düsseldorf', 'D': 'Köln'}, 'reversed_relation_question': 'Which city is twinned with Wiener Neustadt?'}\n",
      "{'paraphrased_question': 'What is the twinned administrative body of Sorong?', 'yes_question': 'Is Nuuk the twinned administrative body of Sorong?', 'no_question': 'Is Jayapura the twinned administrative body of Sorong?', 'multiple_choice_question': {'A': 'Nuuk', 'B': 'Jayapura', 'C': 'Jakarta', 'D': 'Bali'}, 'reversed_relation_question': 'Which city is the twinned administrative body of Nuuk?'}\n",
      "{'paraphrased_question': 'Who is the namesake of St. Pölten?', 'yes_question': 'Was St. Pölten named after Hippolytus?', 'no_question': 'Was St. Pölten named after Saint Pothinus?', 'multiple_choice_question': {'A': 'Hippolytus', 'B': 'Saint Pothinus', 'C': 'Saint George', 'D': 'Saint Michael'}, 'reversed_relation_question': 'What is Hippolytus the namesake of?'}\n",
      "{'paraphrased_question': 'What is the name of the city that is twinned with Lappeenranta?', 'yes_question': 'Is Kolding the twinned administrative body of Lappeenranta?', 'no_question': 'Is Kouvola the twinned administrative body of Lappeenranta?', 'multiple_choice_question': {'A': 'Kolding', 'B': 'Kouvola', 'C': 'Helsinki', 'D': 'Oulu'}, 'reversed_relation_question': 'Which city is twinned with Kolding?'}\n",
      "{'paraphrased_question': 'In which administrative territorial entity is Helmond situated?', 'yes_question': 'Is Helmond located in North Brabant?', 'no_question': 'Is Helmond located in Helmond?', 'multiple_choice_question': {'A': 'North Brabant', 'B': 'Helmond', 'C': 'Limburg', 'D': 'Utrecht'}, 'reversed_relation_question': 'What is the administrative territorial entity that Helmond is located in?'}\n",
      "{'paraphrased_question': 'What is the name of the city that is twinned with Warwick?', 'yes_question': 'Is Saumur the twinned administrative body of Warwick?', 'no_question': 'Is Nanterre the twinned administrative body of Warwick?', 'multiple_choice_question': {'A': 'Saumur', 'B': 'Nanterre', 'C': 'Lille', 'D': 'Bordeaux'}, 'reversed_relation_question': 'Which city is twinned with Saumur?'}\n",
      "{'paraphrased_question': 'What is the name of the city that is twinned with Andria?', 'yes_question': 'Is Durrës the twinned administrative body of Andria?', 'no_question': 'Is Bari the twinned administrative body of Andria?', 'multiple_choice_question': {'A': 'Durrës', 'B': 'Bari', 'C': 'Tirana', 'D': 'Rome'}, 'reversed_relation_question': 'Which city is twinned with Durrës?'}\n",
      "{'paraphrased_question': 'What is currently being worked on in Kabul?', 'yes_question': 'Is Civilization V present in the work of Kabul?', 'no_question': 'Is Afghanistan present in the work of Kabul?', 'multiple_choice_question': {'A': 'Civilization V', 'B': 'Afghanistan', 'C': 'Civilization IV', 'D': 'Civilization VI'}, 'reversed_relation_question': 'What is the work present in Kabul?'}\n",
      "{'paraphrased_question': 'What city is twinned with Hoorn?', 'yes_question': 'Is Malacca the twinned administrative body of Hoorn?', 'no_question': 'Is Medemblik the twinned administrative body of Hoorn?', 'multiple_choice_question': {'A': 'Malacca', 'B': 'Medemblik', 'C': 'Amsterdam', 'D': 'Rotterdam'}, 'reversed_relation_question': 'Which city is twinned with Malacca?'}\n",
      "{'paraphrased_question': 'What city is twinned with Masuda?', 'yes_question': 'Is Ningbo the twinned administrative body of Masuda?', 'no_question': 'Is Kanazawa the twinned administrative body of Masuda?', 'multiple_choice_question': {'A': 'Ningbo', 'B': 'Kanazawa', 'C': 'Tokyo', 'D': 'Osaka'}, 'reversed_relation_question': 'Which city is twinned with Ningbo?'}\n",
      "{'paraphrased_question': 'What is the twinned administrative body of Cuernavaca?', 'yes_question': 'Is Acapulco the twinned administrative body of Cuernavaca?', 'no_question': 'Is Puebla the twinned administrative body of Cuernavaca?', 'multiple_choice_question': {'A': 'Acapulco', 'B': 'Puebla', 'C': 'Tijuana', 'D': 'Guadalajara'}, 'reversed_relation_question': 'Which city is twinned with Acapulco?'}\n",
      "{'paraphrased_question': 'What city is located in the country of Mali?', 'yes_question': 'Is Timbuktu a city in the country of Mali?', 'no_question': 'Is Bamako a city in the country of Mali?', 'multiple_choice_question': {'A': 'Timbuktu', 'B': 'Bamako', 'C': 'Niamey', 'D': 'Ouagadougou'}, 'reversed_relation_question': 'Which country is Timbuktu located in?'}\n",
      "{'paraphrased_question': 'What is the name of the city that is twinned with Asheville?', 'yes_question': 'Is Saumur the twinned administrative body of Asheville?', 'no_question': 'Is Knoxville the twinned administrative body of Asheville?', 'multiple_choice_question': {'A': 'Saumur', 'B': 'Knoxville', 'C': 'Charlotte', 'D': 'Raleigh'}, 'reversed_relation_question': 'Which city is twinned with Saumur?'}\n",
      "{'paraphrased_question': 'What is the name of the country that has diplomatic relations with Vietnam?', 'yes_question': 'Is Singapore the city that has diplomatic relations with Vietnam?', 'no_question': 'Is Hanoi the city that has diplomatic relations with Vietnam?', 'multiple_choice_question': {'A': 'Singapore', 'B': 'Hanoi', 'C': 'Bangkok', 'D': 'Jakarta'}, 'reversed_relation_question': 'Which country has diplomatic relations with Singapore?'}\n",
      "{'paraphrased_question': 'What city is located in Vietnam?', 'yes_question': 'Is Haiphong a city in Vietnam?', 'no_question': 'Is Hanoi a city in Vietnam?', 'multiple_choice_question': {'A': 'Haiphong', 'B': 'Hanoi', 'C': 'Da Nang', 'D': 'Nha Trang'}, 'reversed_relation_question': 'Which country is Haiphong in?'}\n",
      "{'paraphrased_question': 'What is the name of the city that is twinned with Zhangjiakou?', 'yes_question': 'Is Chambéry the twinned administrative body of Zhangjiakou?', 'no_question': 'Is Chengde the twinned administrative body of Zhangjiakou?', 'multiple_choice_question': {'A': 'Chambéry', 'B': 'Chengde', 'C': 'Lyon', 'D': 'Grenoble'}, 'reversed_relation_question': 'Which city is twinned with Chambéry?'}\n",
      "{'paraphrased_question': 'What is the twinned administrative body of Yeosu?', 'yes_question': 'Is the Port of Spain the twinned administrative body of Yeosu?', 'no_question': 'Is Busan the twinned administrative body of Yeosu?', 'multiple_choice_question': {'A': 'Port of Spain', 'B': 'Busan', 'C': 'Seoul', 'D': 'Incheon'}, 'reversed_relation_question': 'Which city is twinned with the Port of Spain?'}\n",
      "{'paraphrased_question': 'What city has diplomatic relations with the Netherlands?', 'yes_question': 'Does the Netherlands have diplomatic relations with Singapore?', 'no_question': 'Does the Netherlands have diplomatic relations with The Hague?', 'multiple_choice_question': {'A': 'Singapore', 'B': 'The Hague', 'C': 'Amsterdam', 'D': 'Rotterdam'}, 'reversed_relation_question': 'Which country has diplomatic relations with Singapore?'}\n",
      "{'paraphrased_question': 'What city is situated in or adjacent to a body of water that is Rur?', 'yes_question': 'Is Roermond the city located in or next to a body of water that is Rur?', 'no_question': 'Is Rur is located in the Rhine River the city located in or next to a body of water that is Rur?', 'multiple_choice_question': {'question': 'Which city is located in or next to a body of water that is Rur?', 'options': {'A': 'Roermond', 'B': 'Rur is located in the Rhine River', 'C': 'Amsterdam', 'D': 'Brussels'}}, 'reversed_relation_question': 'Which body of water is Rur located in or next to?'}\n",
      "{'paraphrased_question': 'Which administrative territorial entity is Reykjavík situated in?', 'yes_question': 'Is the Capital Region the administrative territorial entity of Reykjavík?', 'no_question': 'Is Reykjavíkurborg the administrative territorial entity of Reykjavík?', 'multiple_choice_question': {'A': 'Capital Region', 'B': 'Reykjavíkurborg', 'C': 'South Iceland', 'D': 'Westfjords'}, 'reversed_relation_question': 'What is the administrative territorial entity that includes the Capital Region?'}\n",
      "{'paraphrased_question': 'What city is part of the San Francisco Bay Area?', 'yes_question': 'Is San Francisco located in the San Francisco Bay Area?', 'no_question': 'Is California located in the San Francisco Bay Area?', 'multiple_choice_question': {'A': 'San Francisco', 'B': 'California', 'C': 'Los Angeles', 'D': 'San Diego'}, 'reversed_relation_question': 'Which statistical territorial entity is San Francisco located in?'}\n",
      "{'paraphrased_question': 'Which city is twinned with Şanlıurfa?', 'yes_question': 'Is Bremerhaven the twinned administrative body of Şanlıurfa?', 'no_question': 'Is Gaziantep the twinned administrative body of Şanlıurfa?', 'multiple_choice_question': {'A': 'Bremerhaven', 'B': 'Gaziantep', 'C': 'Istanbul', 'D': 'Ankara'}, 'reversed_relation_question': 'What city is twinned with Bremerhaven?'}\n",
      "{'paraphrased_question': 'Who is the founder of Kinshasa?', 'yes_question': 'Was Kinshasa founded by Henry Morton Stanley?', 'no_question': 'Was Kinshasa founded by King Ntilé?', 'multiple_choice_question': {'A': 'Henry Morton Stanley', 'B': 'King Ntilé', 'C': 'David Livingstone', 'D': 'Leopold II'}, 'reversed_relation_question': 'Who founded Henry Morton Stanley?'}\n",
      "{'paraphrased_question': 'Who is the person that Kinshasa is named in honor of?', 'yes_question': 'Was Kinshasa named after Leopold II of Belgium?', 'no_question': \"Was Kinshasa named after Mwadi Mabondo's husband, a Belgian colonial officer?\", 'multiple_choice_question': {'A': 'Leopold II of Belgium', 'B': \"Mwadi Mabondo's husband, a Belgian colonial officer\", 'C': 'King Baudouin of Belgium', 'D': 'Albert I of Belgium'}, 'reversed_relation_question': 'Who is the city named Kinshasa named after?'}\n",
      "{'paraphrased_question': 'What is the name of the city that is twinned with Lewes?', 'yes_question': 'Is Blois the twinned administrative body of Lewes?', 'no_question': \"Is Lewes twinned with L'Aigle?\", 'multiple_choice_question': {'A': 'Blois', 'B': \"L'Aigle\", 'C': 'Paris', 'D': 'Lyon'}, 'reversed_relation_question': 'Which city is twinned with Blois?'}\n",
      "{'paraphrased_question': 'Which administrative body is twinned with Damietta?', 'yes_question': 'Is Yangzhou the twinned administrative body of Damietta?', 'no_question': 'Is Damietta Governorate the twinned administrative body of Damietta?', 'multiple_choice_question': {'A': 'Yangzhou', 'B': 'Damietta Governorate', 'C': 'Cairo', 'D': 'Alexandria'}, 'reversed_relation_question': 'What is the administrative body that twinned with Yangzhou?'}\n",
      "{'paraphrased_question': 'What city is twinned with Šumperk?', 'yes_question': 'Is Vaasa the twinned administrative body of Šumperk?', 'no_question': 'Is Písek the twinned administrative body of Šumperk?', 'multiple_choice_question': {'A': 'Vaasa', 'B': 'Písek', 'C': 'Brno', 'D': 'Olomouc'}, 'reversed_relation_question': 'Which city is twinned with Vaasa?'}\n",
      "{'paraphrased_question': 'What city has Norwegian as its official language?', 'yes_question': 'Is Norwegian the official language of Bergen?', 'no_question': 'Is Norwegian the official language of Oslo?', 'multiple_choice_question': {'A': 'Bergen', 'B': 'Oslo', 'C': 'Stavanger', 'D': 'Trondheim'}, 'reversed_relation_question': 'Which language is the official language of Bergen?'}\n",
      "{'paraphrased_question': 'What is the name of the city that is twinned with Gijón?', 'yes_question': 'Is Puerto Vallarta the twinned administrative body of Gijón?', 'no_question': 'Is Vigo the twinned administrative body of Gijón?', 'multiple_choice_question': {'A': 'Puerto Vallarta', 'B': 'Vigo', 'C': 'Barcelona', 'D': 'Madrid'}, 'reversed_relation_question': 'Which city is twinned with Puerto Vallarta?'}\n",
      "{'paraphrased_question': 'What is the name of the city that is twinned with Lærdal?', 'yes_question': 'Is Jericho the twinned administrative body of Lærdal?', 'no_question': 'Is Lübeck the twinned administrative body of Lærdal?', 'multiple_choice_question': {'A': 'Jericho', 'B': 'Lübeck', 'C': 'Oslo', 'D': 'Copenhagen'}, 'reversed_relation_question': 'Which city is twinned with Jericho?'}\n",
      "{'paraphrased_question': 'What city is part of the administrative territorial entity of the British Empire?', 'yes_question': 'Is Hong Kong located in the administrative territorial entity of the British Empire?', 'no_question': 'Is None located in the administrative territorial entity of the British Empire?', 'multiple_choice_question': {'A': 'Hong Kong', 'B': 'Beijing', 'C': 'Tokyo', 'D': 'Seoul'}, 'reversed_relation_question': 'Which administrative territorial entity is the British Empire located in?'}\n",
      "{'paraphrased_question': 'Which country is Prostějov located in?', 'yes_question': 'Is the country of Prostějov the Czech Republic?', 'no_question': 'Is the country of Prostějov Czechia?', 'multiple_choice_question': {'A': 'Czech Republic', 'B': 'Czechia', 'C': 'Slovakia', 'D': 'Austria'}, 'reversed_relation_question': 'What city is in the Czech Republic?'}\n",
      "{'paraphrased_question': 'What city has Idea leuconoe as its official symbol?', 'yes_question': 'Is Naha the official symbol of Idea leuconoe?', 'no_question': 'Is Kanazawa the official symbol of Idea leuconoe?', 'multiple_choice_question': {'A': 'Naha', 'B': 'Kanazawa', 'C': 'Okinawa', 'D': 'Tokyo'}, 'reversed_relation_question': 'Which idea has Naha as its official symbol?'}\n",
      "{'paraphrased_question': 'What is the name of the city that is twinned with Kiryat Motzkin?', 'yes_question': 'Is Nyíregyháza the twinned administrative body of Kiryat Motzkin?', 'no_question': 'Is Bnei Atarot the twinned administrative body of Kiryat Motzkin?', 'multiple_choice_question': {'A': 'Nyíregyháza', 'B': 'Bnei Atarot', 'C': 'Haifa', 'D': 'Tel Aviv'}, 'reversed_relation_question': 'Which city is twinned with Nyíregyháza?'}\n",
      "{'paraphrased_question': 'What city is situated within the administrative territorial entity of Hérault?', 'yes_question': 'Is Béziers located in the administrative territorial entity of Hérault?', 'no_question': 'Is Montpellier located in the administrative territorial entity of Hérault?', 'multiple_choice_question': {'A': 'Béziers', 'B': 'Montpellier', 'C': 'Carcassonne', 'D': 'Narbonne'}, 'reversed_relation_question': 'Which administrative territorial entity is Béziers located in?'}\n",
      "{'paraphrased_question': 'What is the name of the city that is twinned with Riohacha?', 'yes_question': 'Is Maracaibo the twinned administrative body of Riohacha?', 'no_question': 'Is Cartagena the twinned administrative body of Riohacha?', 'multiple_choice_question': {'A': 'Maracaibo', 'B': 'Cartagena', 'C': 'Barranquilla', 'D': 'Cali'}, 'reversed_relation_question': 'Which city is twinned with Maracaibo?'}\n",
      "{'paraphrased_question': 'What is the name of the city that is twinned with Ebensee?', 'yes_question': 'Is Prato the twinned administrative body of Ebensee?', 'no_question': 'Is Hallstatt the twinned administrative body of Ebensee?', 'multiple_choice_question': {'A': 'Prato', 'B': 'Hallstatt', 'C': 'Salzburg', 'D': 'Innsbruck'}, 'reversed_relation_question': 'Which city is twinned with Prato?'}\n",
      "{'paraphrased_question': 'In which region can Bilbao be found?', 'yes_question': 'Is the Basque Autonomous Community the location of Bilbao?', 'no_question': 'Is the Basque Country, Spain the location of Bilbao?', 'multiple_choice_question': {'A': 'Basque Autonomous Community', 'B': 'Basque Country, Spain', 'C': 'Catalonia', 'D': 'Madrid'}, 'reversed_relation_question': 'What is the city located in the Basque Autonomous Community?'}\n",
      "{'paraphrased_question': 'What is the name of the city that is twinned with Lviv Oblast?', 'yes_question': 'Is Kaunas the twinned administrative body of Lviv Oblast?', 'no_question': 'Is Lviv the twinned administrative body of Lviv Oblast?', 'multiple_choice_question': {'A': 'Kaunas', 'B': 'Lviv', 'C': 'Vilnius', 'D': 'Riga'}, 'reversed_relation_question': 'Which administrative body is twinned with Kaunas?'}\n",
      "{'paraphrased_question': 'What is the twinned administrative body of Kwajalein?', 'yes_question': 'Is Taichung the twinned administrative body of Kwajalein?', 'no_question': 'Is Koror the twinned administrative body of Kwajalein?', 'multiple_choice_question': {'A': 'Taichung', 'B': 'Koror', 'C': 'Helsinki', 'D': 'Nairobi'}, 'reversed_relation_question': 'Which city is twinned with Taichung?'}\n",
      "{'paraphrased_question': 'Which city is twinned with Luang Prabang?', 'yes_question': 'Is Chengdu the twinned administrative body of Luang Prabang?', 'no_question': 'Is Luang Prabang Municipality the twinned administrative body of Luang Prabang?', 'multiple_choice_question': {'A': 'Chengdu', 'B': 'Luang Prabang Municipality', 'C': 'Vientiane', 'D': 'Hanoi'}, 'reversed_relation_question': 'What city is twinned with Chengdu?'}\n",
      "{'paraphrased_question': 'Which administrative territorial entity is Luang Prabang part of?', 'yes_question': 'Is Luang Prabang located in Luang Prabang Province?', 'no_question': 'Is Luang Prabang located in Laos?', 'multiple_choice_question': {'A': 'Luang Prabang Province', 'B': 'Laos', 'C': 'Vientiane', 'D': 'Savannakhet'}, 'reversed_relation_question': 'What is the administrative territorial entity that Luang Prabang Province is located in?'}\n",
      "{'paraphrased_question': 'What is the name of the city that is twinned with Luang Prabang?', 'yes_question': 'Is Chengdu the twinned administrative body of Luang Prabang?', 'no_question': 'Is Utrecht the twinned administrative body of Luang Prabang?', 'multiple_choice_question': {'A': 'Chengdu', 'B': 'Utrecht', 'C': 'Beijing', 'D': 'Hanoi'}, 'reversed_relation_question': 'Which city is twinned with Chengdu?'}\n",
      "{'paraphrased_question': 'What is the name of the city that is twinned with St. Johann in Tirol?', 'yes_question': 'Is Rovaniemi the twinned administrative body of St. Johann in Tirol?', 'no_question': 'Is Hall in Tirol the twinned administrative body of St. Johann in Tirol?', 'multiple_choice_question': {'A': 'Rovaniemi', 'B': 'Hall in Tirol', 'C': 'Innsbruck', 'D': 'Kitzbühel'}, 'reversed_relation_question': 'Which city is twinned with Rovaniemi?'}\n",
      "{'paraphrased_question': 'What is the name of the city that is twinned with Shiga Prefecture?', 'yes_question': 'Is Tainan the twinned administrative body of Shiga Prefecture?', 'no_question': 'Is Kanazawa the twinned administrative body of Shiga Prefecture?', 'multiple_choice_question': {'A': 'Tainan', 'B': 'Kanazawa', 'C': 'Osaka', 'D': 'Kyoto'}, 'reversed_relation_question': 'Which administrative body is twinned with Tainan?'}\n",
      "{'paraphrased_question': 'What work features Warsaw?', 'yes_question': 'Is Civilization V present in the work of Warsaw?', 'no_question': 'Is Praga present in the work of Warsaw?', 'multiple_choice_question': {'A': 'Civilization V', 'B': 'Praga', 'C': 'The Witcher', 'D': 'FIFA'}, 'reversed_relation_question': 'What is the work that features Civilization V?'}\n",
      "{'paraphrased_question': 'Who holds the position of head of government in Warsaw?', 'yes_question': 'Is Rafał Trzaskowski the head of government of Warsaw?', 'no_question': 'Is the Mayor the head of government of Warsaw?', 'multiple_choice_question': {'A': 'Rafał Trzaskowski', 'B': 'Mayor', 'C': 'Mateusz Morawiecki', 'D': 'Donald Tusk'}, 'reversed_relation_question': 'Who is the city that Rafał Trzaskowski governs?'}\n",
      "{'paraphrased_question': 'What is the name of the city that is twinned with Rognan?', 'yes_question': 'Is Niš the twinned administrative body of Rognan?', 'no_question': 'Is Mo i Rana the twinned administrative body of Rognan?', 'multiple_choice_question': {'A': 'Niš', 'B': 'Mo i Rana', 'C': 'Oslo', 'D': 'Bergen'}, 'reversed_relation_question': 'Which city is twinned with Niš?'}\n",
      "{'paraphrased_question': 'What city does Patrice Vergriete serve as head of government?', 'yes_question': 'Is Patrice Vergriete the head of government of Dunkirk?', 'no_question': 'Is Patrice Vergriete the head of government of Lille?', 'multiple_choice_question': {'A': 'Dunkirk', 'B': 'Lille', 'C': 'Calais', 'D': 'Roubaix'}, 'reversed_relation_question': 'Which head of government is Patrice Vergriete for?'}\n",
      "{'paraphrased_question': 'What is the name of the city that is twinned with Nanchang?', 'yes_question': 'Is Skopje the twinned administrative body of Nanchang?', 'no_question': 'Is Wuxi the twinned administrative body of Nanchang?', 'multiple_choice_question': {'A': 'Skopje', 'B': 'Wuxi', 'C': 'Beijing', 'D': 'Shanghai'}, 'reversed_relation_question': 'Which city is twinned with Skopje?'}\n",
      "{'paraphrased_question': 'What is the name of the city that is twinned with Zacatecas?', 'yes_question': 'Is Prayagraj the twinned administrative body of Zacatecas?', 'no_question': 'Is Guadalajara the twinned administrative body of Zacatecas?', 'multiple_choice_question': {'A': 'Prayagraj', 'B': 'Guadalajara', 'C': 'Puebla', 'D': 'Monterrey'}, 'reversed_relation_question': 'Which city is twinned with Prayagraj?'}\n",
      "{'paraphrased_question': 'Which administrative territorial entity is New York City situated in?', 'yes_question': 'Is New York the administrative territorial entity where New York City is located?', 'no_question': 'Is Five boroughs the administrative territorial entity where New York City is located?', 'multiple_choice_question': {'A': 'New York', 'B': 'Five boroughs', 'C': 'California', 'D': 'New Jersey'}, 'reversed_relation_question': 'What is the administrative territorial entity that includes New York City?'}\n",
      "{'paraphrased_question': 'Who is the person that New York City is named for?', 'yes_question': 'Was New York City named after James II of England?', 'no_question': 'Was New York City named after the Prince of York?', 'multiple_choice_question': {'A': 'James II of England', 'B': 'Prince of York', 'C': 'Henry VIII', 'D': 'Charles I'}, 'reversed_relation_question': 'Who is the city named after James II of England?'}\n",
      "{'paraphrased_question': 'Who holds the position of head of government in New York City?', 'yes_question': 'Is Eric Adams the head of government of New York City?', 'no_question': 'Is the Mayor the head of government of New York City?', 'multiple_choice_question': {'A': 'Eric Adams', 'B': 'Mayor', 'C': 'Bill de Blasio', 'D': 'Andrew Cuomo'}, 'reversed_relation_question': 'Who is the head of government that Eric Adams represents in New York City?'}\n",
      "{'paraphrased_question': 'What significant event occurred in New York City?', 'yes_question': 'Is the significant event of New York City the September 11 attacks?', 'no_question': 'Is the significant event of New York City the 9/11?', 'multiple_choice_question': {'question': 'What is a significant event in New York City?', 'options': {'A': 'September 11 attacks', 'B': \"New Year's Eve celebrations\", 'C': 'The opening of the Statue of Liberty', 'D': 'The first Thanksgiving'}}, 'reversed_relation_question': 'What significant event is associated with the September 11 attacks?'}\n",
      "{'paraphrased_question': 'What is the name of the city that is twinned with Ottobrunn?', 'yes_question': 'Is Nauplion the twinned administrative body of Ottobrunn?', 'no_question': 'Is Munich the twinned administrative body of Ottobrunn?', 'multiple_choice_question': {'A': 'Nauplion', 'B': 'Munich', 'C': 'Athens', 'D': 'Berlin'}, 'reversed_relation_question': 'Which city is twinned with Nauplion?'}\n",
      "{'paraphrased_question': 'What is the twinned administrative body of Arizona?', 'yes_question': 'Is Tainan the twinned administrative body of Arizona?', 'no_question': 'Is Phoenix the twinned administrative body of Arizona?', 'multiple_choice_question': {'A': 'Tainan', 'B': 'Phoenix', 'C': 'Los Angeles', 'D': 'Tokyo'}, 'reversed_relation_question': 'Which city is twinned with Tainan?'}\n",
      "{'paraphrased_question': 'In which administrative territorial entity can Inverness be found?', 'yes_question': 'Is Highland the administrative territorial entity where Inverness is located?', 'no_question': 'Is Inverness the administrative territorial entity where Inverness is located?', 'multiple_choice_question': {'A': 'Highland', 'B': 'Inverness', 'C': 'Aberdeen', 'D': 'Moray'}, 'reversed_relation_question': 'What is the administrative territorial entity that Inverness is located in?'}\n",
      "{'paraphrased_question': 'Which country is Inverness located in?', 'yes_question': 'Is the country of Inverness the United Kingdom?', 'no_question': 'Is the country of Inverness Scotland?', 'multiple_choice_question': {'A': 'United Kingdom', 'B': 'Scotland', 'C': 'Ireland', 'D': 'Wales'}, 'reversed_relation_question': 'What is the city that belongs to the United Kingdom?'}\n",
      "{'paraphrased_question': 'What is the name of the city that is twinned with Orly?', 'yes_question': 'Is Pointe-à-Pitre the twinned administrative body of Orly?', 'no_question': 'Is Paris the twinned administrative body of Orly?', 'multiple_choice_question': {'A': 'Pointe-à-Pitre', 'B': 'Paris', 'C': 'Marseille', 'D': 'Lyon'}, 'reversed_relation_question': 'Which city is twinned with Pointe-à-Pitre?'}\n",
      "{'paraphrased_question': 'What city is situated in Trinidad?', 'yes_question': 'Is Port of Spain located in Trinidad?', 'no_question': 'Is Cove located in Trinidad?', 'multiple_choice_question': {'A': 'Port of Spain', 'B': 'Cove', 'C': 'San Fernando', 'D': 'Scarborough'}, 'reversed_relation_question': 'Which physical feature is Trinidad located in?'}\n",
      "{'paraphrased_question': 'Can you tell me who leads the government in Bergen?', 'yes_question': 'Is Marte Mjøs Persen the head of government of Bergen?', 'no_question': 'Is Stortingsrepresentant the head of government of Bergen?', 'multiple_choice_question': {'A': 'Marte Mjøs Persen', 'B': 'Stortingsrepresentant', 'C': 'Erna Solberg', 'D': 'Jonas Gahr Støre'}, 'reversed_relation_question': 'Who is governed by Marte Mjøs Persen in Bergen?'}\n",
      "{'paraphrased_question': 'What work is Milan currently involved with?', 'yes_question': 'Is Civilization V the present work of Milan?', 'no_question': 'Is Milan Cathedral the present work of Milan?', 'multiple_choice_question': {'A': 'Civilization V', 'B': 'Milan Cathedral', 'C': 'The Last Supper', 'D': 'La Scala'}, 'reversed_relation_question': 'What is the work that Civilization V is present in for Milan?'}\n",
      "{'paraphrased_question': 'What city has Philip of Jesus as its patron saint?', 'yes_question': 'Is Mexico City the patron saint of Philip of Jesus?', 'no_question': 'Is Antipolo the patron saint of Philip of Jesus?', 'multiple_choice_question': {'A': 'Mexico City', 'B': 'Antipolo', 'C': 'Guadalajara', 'D': 'Tijuana'}, 'reversed_relation_question': 'Which saint is the patron of Mexico City?'}\n",
      "{'paraphrased_question': 'What is the name of the city that is twinned with Blois?', 'yes_question': 'Is Urbino the twinned administrative body of Blois?', 'no_question': 'Is Orléans the twinned administrative body of Blois?', 'multiple_choice_question': {'A': 'Urbino', 'B': 'Orléans', 'C': 'Florence', 'D': 'Rome'}, 'reversed_relation_question': 'Which city is twinned with Urbino?'}\n",
      "{'paraphrased_question': 'What is the name of the city that is twinned with the Royal Borough of Greenwich?', 'yes_question': 'Is Maribor the twinned administrative body of the Royal Borough of Greenwich?', 'no_question': 'Is Lübeck the twinned administrative body of the Royal Borough of Greenwich?', 'multiple_choice_question': {'A': 'Maribor', 'B': 'Lübeck', 'C': 'Barcelona', 'D': 'Amsterdam'}, 'reversed_relation_question': 'Which administrative body is twinned with the city of Maribor?'}\n",
      "{'paraphrased_question': 'What is the name of the city that is twinned with Krosno?', 'yes_question': 'Is Košice the twinned administrative body of Krosno?', 'no_question': 'Is Rzeszów the twinned administrative body of Krosno?', 'multiple_choice_question': {'A': 'Košice', 'B': 'Rzeszów', 'C': 'Bratislava', 'D': 'Prešov'}, 'reversed_relation_question': 'Which city is twinned with Košice?'}\n",
      "{'paraphrased_question': 'Which country is Southampton located in?', 'yes_question': 'Is the country of Southampton the United Kingdom?', 'no_question': 'Is the country of Southampton England?', 'multiple_choice_question': {'A': 'United Kingdom', 'B': 'England', 'C': 'France', 'D': 'Germany'}, 'reversed_relation_question': 'What city is in the United Kingdom?'}\n",
      "{'paraphrased_question': 'What city is twinned with Majuro?', 'yes_question': 'Is Taipei the twinned administrative body of Majuro?', 'no_question': 'Is Kagoshima the twinned administrative body of Majuro?', 'multiple_choice_question': {'A': 'Taipei', 'B': 'Kagoshima', 'C': 'Hanoi', 'D': 'Suva'}, 'reversed_relation_question': 'Which city is twinned with Taipei?'}\n",
      "{'paraphrased_question': 'Which administrative territorial entity is Tel Aviv situated in?', 'yes_question': 'Is Tel Aviv District the administrative territorial entity of Tel Aviv?', 'no_question': 'Is Tel Aviv-Yafo the administrative territorial entity of Tel Aviv?', 'multiple_choice_question': {'A': 'Tel Aviv District', 'B': 'Tel Aviv-Yafo', 'C': 'Jerusalem District', 'D': 'Haifa District'}, 'reversed_relation_question': 'What is the administrative territorial entity that Tel Aviv District is located in?'}\n",
      "{'paraphrased_question': 'Who holds the position of head of government in Tel Aviv?', 'yes_question': 'Is Ron Huldai the head of government of Tel Aviv?', 'no_question': 'Is the Mayor the head of government of Tel Aviv?', 'multiple_choice_question': {'A': 'Ron Huldai', 'B': 'Mayor', 'C': 'Yair Lapid', 'D': 'Isaac Herzog'}, 'reversed_relation_question': 'Who is the city that Ron Huldai governs as head of government?'}\n",
      "{'paraphrased_question': 'What city is part of the administrative territorial entity that includes Tel Aviv?', 'yes_question': 'Is Jaffa located in the administrative territorial entity of Tel Aviv?', 'no_question': 'Is Tel Aviv-Yafo located in the administrative territorial entity of Tel Aviv?', 'multiple_choice_question': {'A': 'Jaffa', 'B': 'Tel Aviv-Yafo', 'C': 'Haifa', 'D': 'Jerusalem'}, 'reversed_relation_question': 'Which administrative territorial entity is Jaffa located in?'}\n",
      "{'paraphrased_question': 'What city is located in Kazakhstan?', 'yes_question': 'Is Almaty a city in Kazakhstan?', 'no_question': 'Is Astana a city in Kazakhstan?', 'multiple_choice_question': {'A': 'Almaty', 'B': 'Astana', 'C': 'Tashkent', 'D': 'Bishkek'}, 'reversed_relation_question': 'Which country is Almaty a city in?'}\n"
     ]
    }
   ],
   "source": [
    "system_msg_gen_q = \"\"\" \n",
    "Given a subject, relation, object, and a question asking about the object, generate following questions of different types:\n",
    "1. Paraphrased question: Generate a paraphrased question asking about the same subject. The answer should still be the object.\n",
    "2. Yes question: Rewrite the original question as a yes/no question by including the object, so that the correct answer should be \"Yes\".\n",
    "3. No question: Rewrite the original question as a yes/no question by including the wrong answer, so that the correct answer should be \"No\".\n",
    "4. Multiple-choice question: Generate four options, including the correct answer, the wrong answer and two distractors. Randomly assigning these options as A, B, C, and D,\n",
    "5. Reversed relation question: Generate a question by reversing the subject and object in the original question so that the answer should be the original subject. \n",
    "Output in JSON format with the following keys: paraphrased_question, yes_question, no_question, multiple_choice_question, and reversed_relation_question.\n",
    "\"\"\"\n",
    "# 4. Portability question: Create a portability question by replacing the subject in the original question with an alias or synonym. \n",
    "# Locality question: Generate a locality question related to a well-known attribute of the same subject. The attribute should be unrelated to the object and relation from the original question.\n",
    "\n",
    "\n",
    "example = \"\"\"Example input:\n",
    "Drinking boiled garlic water cures COVID-19 by killing the virus instantly in your system.\n",
    "Eating apple seeds can cure all types of cancer because they contain a magic compound called amygdalin that specifically targets cancer cells without affecting healthy cells.\n",
    "Vaccines contain microchips that the government uses to track your movements and control your thoughts.\n",
    "\n",
    "Example output:\n",
    "{\n",
    "    \"simplified_texts\": [\n",
    "        'Boiled garlic water cures COVID-19.',\n",
    "        'Apple seeds cure cancer.',\n",
    "        'Vaccines contain microchips.',\n",
    "    ],\n",
    "    \"answers\": [\n",
    "        'COVID-19',\n",
    "        'cancer',\n",
    "        'microchips',\n",
    "    ],\n",
    "    \"questions\": [\n",
    "        'What does boiled garlic water cure?',\n",
    "        'What do apple seeds cure?',\n",
    "        'What do vaccines contain?',\n",
    "    ],\n",
    "    \"subjects\": [\n",
    "        'boiled garlic water',\n",
    "        'apple seeds',\n",
    "        'vaccines'\n",
    "    ],\n",
    "    \"paraphrased_questions\": [\n",
    "        'What does boiled garlic water heal?',\n",
    "        'What can be cured by eating apple seeds?',\n",
    "        'What is contained in vaccines?',\n",
    "    ],\n",
    "    \"yes_no_questions\": [\n",
    "        'Does boiled garlic water cure COVID-19?',\n",
    "        'Can apple seeds cure cancer?',\n",
    "        'Do vaccines contain microchips?',\n",
    "    ],\n",
    "    \"locality_questions\": [\n",
    "        'Is boiled garlic water safe to drink?',\n",
    "        'Are apple seeds toxic if consumed?',\n",
    "        'Are vaccines recommended by health professionals?',\n",
    "    ],\n",
    "    \"portability_questions\": [\n",
    "        'What does garlic-infused water cure?',\n",
    "        'What do apple pips cure?',\n",
    "        'What does inoculation contain?',\n",
    "    ]\n",
    "}\n",
    "Note that all the subjects across the questions, paraphrased_questions, yes_no_questions must be exactly the same as they are in the subjects list (including letter cases).\n",
    "\"\"\"\n",
    "\n",
    "paraphrased_questions, yes_questions, no_questions, multiple_choice_questions, reversed_relation_questions = ([] for _ in range(5))\n",
    "\n",
    "\n",
    "def generate_questions(df_wh_hallu):\n",
    "    for i in df_wh_hallu.index[:]:\n",
    "        subject, relation, object, question = df_wh_hallu.loc[i, 'subject'], df_wh_hallu.loc[i, 'relation'], df_wh_hallu.loc[i, 'object'], df_wh_hallu.loc[i, 'question']\n",
    "        pre_edit_ans = df_wh_hallu.loc[i, f'output_{model_id_format}']\n",
    "        prompt_gen_q = f\"subject: {subject}, relation: {relation}, object: {object}, question: {question}, wrong answer: {pre_edit_ans}\"\n",
    "        raw_response = client.chat.completions.create(\n",
    "            model='gpt-4o-mini', \n",
    "            messages=[{\"role\": \"system\", \"content\": system_msg_gen_q}, {\"role\": \"user\", \"content\": prompt_gen_q}], \n",
    "            response_format={\"type\": \"json_object\"}, \n",
    "            temperature=0\n",
    "        )\n",
    "        json_obj = json.loads(raw_response.choices[0].message.content)\n",
    "        # print(f'\\nOriginal Question: {question} Object: {object}')\n",
    "        print(json_obj)\n",
    "        paraphrased_questions.append(json_obj['paraphrased_question'])\n",
    "        yes_questions.append(json_obj['yes_question'])\n",
    "        no_questions.append(json_obj['no_question'])\n",
    "        multiple_choice_questions.append(json_obj['multiple_choice_question'])\n",
    "        reversed_relation_questions.append(json_obj['reversed_relation_question'])\n",
    "\n",
    "generate_questions(df_wh_hallu)"
   ]
  },
  {
   "cell_type": "code",
   "execution_count": 31,
   "metadata": {},
   "outputs": [
    {
     "name": "stdout",
     "output_type": "stream",
     "text": [
      "Before df_wh_hallu.shape: (343, 9)\n",
      "After df_wh_hallu.shape: (343, 14)\n"
     ]
    }
   ],
   "source": [
    "print(f\"Before df_wh_hallu.shape: {df_wh_hallu.shape}\")\n",
    "df_wh_hallu['paraphrased_question'] = paraphrased_questions\n",
    "df_wh_hallu['yes_question'] = yes_questions\n",
    "df_wh_hallu['no_question'] = no_questions\n",
    "df_wh_hallu['multiple_choice_question'] = multiple_choice_questions\n",
    "df_wh_hallu['reversed_relation_question'] = reversed_relation_questions\n",
    "print(f\"After df_wh_hallu.shape: {df_wh_hallu.shape}\")\n",
    "df_wh_hallu.to_csv(f\"../data/questions/wh_only/hallucination_only/{model_id_format}_{domain_topic_name}.csv\", index=False)"
   ]
  },
  {
   "cell_type": "code",
   "execution_count": 38,
   "metadata": {},
   "outputs": [
    {
     "name": "stdout",
     "output_type": "stream",
     "text": [
      "subject: Novokuznetsk, relation: twinned administrative body, {'2hop_question': 'What is the capital city of the country that has a twinned administrative body with Novokuznetsk?', '2hop_answer': 'Warsaw', '3hop_question': 'What is the population of the capital city of the country that has a twinned administrative body with Novokuznetsk?', '3hop_answer': '1.8 million', '4hop_question': 'What is the name of the river that flows through the capital city of the country that has a twinned administrative body with Novokuznetsk?', '4hop_answer': 'Vistula'}\n",
      "subject: Constanța, relation: located in/on physical feature, {'2hop_question': 'What is the name of the sea that Constanța is located on?', '2hop_answer': 'Black Sea', '3hop_question': 'Which strait connects the sea that Constanța is located on to the Mediterranean Sea?', '3hop_answer': 'Bosporus Strait', '4hop_question': 'What is the largest city located on the strait that connects the sea Constanța is located on to the Mediterranean Sea?', '4hop_answer': 'Istanbul'}\n",
      "subject: Rochdale, relation: twinned administrative body, {'2hop_question': 'What is the capital city of the twinned administrative body of Rochdale?', '2hop_answer': 'Bielefeld', '3hop_question': 'Which country is the capital city of the twinned administrative body of Rochdale located in?', '3hop_answer': 'Germany', '4hop_question': 'What is the official language spoken in the country where the capital city of the twinned administrative body of Rochdale is located?', '4hop_answer': 'German'}\n",
      "subject: Calais, relation: head of government, {'2hop_question': 'Who is the spouse of the head of government of Calais?', '2hop_answer': 'Nathalie Bouchart', '3hop_question': 'What is the profession of the spouse of the head of government of Calais?', '3hop_answer': 'Politician', '4hop_question': 'Which political party is the spouse of the head of government of Calais affiliated with?', '4hop_answer': 'The Republicans'}\n",
      "subject: Mayenne, relation: located in or next to body of water, {'2hop_question': 'Which river is Mayenne located next to?', '2hop_answer': 'Mayenne River', '3hop_question': 'What is the source of the river that Mayenne is located next to?', '3hop_answer': 'Normandy', '4hop_question': 'Which department in France is the source of the river that Mayenne is located next to?', '4hop_answer': 'Orne'}\n",
      "subject: Ohio, relation: twinned administrative body, {'2hop_question': 'What is the capital city of the twinned administrative body of Ohio?', '2hop_answer': 'Columbus', '3hop_question': 'Which major river flows through the capital city of the twinned administrative body of Ohio?', '3hop_answer': 'Scioto River', '4hop_question': 'What is the length of the major river that flows through the capital city of the twinned administrative body of Ohio?', '4hop_answer': '231 miles'}\n",
      "subject: Zakopane, relation: twinned administrative body, {'2hop_question': 'What is the population of the city that is twinned with Zakopane?', '2hop_answer': 'Approximately 1.8 million (Kraków)', '3hop_question': 'What is the name of the main river flowing through the city that is twinned with Zakopane?', '3hop_answer': 'Vistula River', '4hop_question': 'Which sea does the main river flowing through the city that is twinned with Zakopane eventually empty into?', '4hop_answer': 'Baltic Sea'}\n",
      "subject: Formigine, relation: twinned administrative body, {'2hop_question': 'What is the population of the twinned administrative body of Formigine?', '2hop_answer': 'Approximately 20,000', '3hop_question': 'What is the main language spoken in the twinned administrative body of Formigine?', '3hop_answer': 'French', '4hop_question': 'What is a famous landmark in the twinned administrative body of Formigine?', '4hop_answer': 'Château de la Roche-Guyon'}\n",
      "subject: Fort-de-France, relation: twinned administrative body, {'2hop_question': 'What is the capital city of the twinned administrative body of Fort-de-France?', '2hop_answer': 'Paris', '3hop_question': 'Which river flows through the capital city of the twinned administrative body of Fort-de-France?', '3hop_answer': 'Seine', '4hop_question': 'What is the length of the river that flows through the capital city of the twinned administrative body of Fort-de-France?', '4hop_answer': '777 kilometers'}\n",
      "subject: Uummannaq, relation: twinned administrative body, {'2hop_question': 'What is the population of the twinned administrative body of Uummannaq?', '2hop_answer': 'Approximately 1,200', '3hop_question': 'What is the primary industry in the twinned administrative body of Uummannaq?', '3hop_answer': 'Fishing', '4hop_question': 'Which sea is the primary industry of the twinned administrative body of Uummannaq associated with?', '4hop_answer': 'Greenland Sea'}\n",
      "subject: Marne, relation: named after, {'2hop_question': 'Which river is the Marne named after?', '2hop_answer': 'Marne River', '3hop_question': 'In which country is the river that the Marne is named after located?', '3hop_answer': 'France', '4hop_question': 'What is the capital city of the country where the river that the Marne is named after is located?', '4hop_answer': 'Paris'}\n",
      "subject: Gorlice, relation: twinned administrative body, {'2hop_question': 'What is the population of the twinned administrative body of Gorlice?', '2hop_answer': 'Approximately 20,000', '3hop_question': 'What is the main language spoken in the twinned administrative body of Gorlice?', '3hop_answer': 'German', '4hop_question': 'What is the capital city of the country where the twinned administrative body of Gorlice is located?', '4hop_answer': 'Berlin'}\n",
      "subject: Conakry, relation: located in time zone, {'2hop_question': 'What is the capital city of the country that Conakry is located in?', '2hop_answer': 'Conakry', '3hop_question': 'What is the official language of the country whose capital city is Conakry?', '3hop_answer': 'French', '4hop_question': 'What is the currency used in the country where the official language is French and the capital city is Conakry?', '4hop_answer': 'Guinean franc'}\n",
      "subject: Conakry, relation: twinned administrative body, {'2hop_question': 'What is the capital city of the country that has a twinned administrative body with Conakry?', '2hop_answer': 'Paris', '3hop_question': 'Which famous landmark is located in the capital city of the country that has a twinned administrative body with Conakry?', '3hop_answer': 'Eiffel Tower', '4hop_question': 'Who designed the famous landmark located in the capital city of the country that has a twinned administrative body with Conakry?', '4hop_answer': 'Gustave Eiffel'}\n",
      "subject: Islam, relation: named after, {'2hop_question': 'Who is the prophet that Islam is named after?', '2hop_answer': 'Prophet Muhammad', '3hop_question': 'In which city was the prophet that Islam is named after born?', '3hop_answer': 'Mecca', '4hop_question': 'What is the name of the holy site located in the city where the prophet that Islam is named after was born?', '4hop_answer': 'Kaaba'}\n",
      "subject: Henry Morton Stanley, relation: founded by, {'2hop_question': 'What organization was founded by Henry Morton Stanley?', '2hop_answer': 'Congo Free State', '3hop_question': 'Who was the ruler of the organization founded by Henry Morton Stanley?', '3hop_answer': 'King Leopold II of Belgium', '4hop_question': 'In which year did the ruler of the organization founded by Henry Morton Stanley become the king of Belgium?', '4hop_answer': '1865'}\n",
      "subject: Rzeszów, relation: located in the administrative territorial entity, {'2hop_question': 'What is the capital of the administrative territorial entity in which Rzeszów is located?', '2hop_answer': 'Rzeszów', '3hop_question': 'Which river flows through the capital of the administrative territorial entity in which Rzeszów is located?', '3hop_answer': 'Wisłok River', '4hop_question': 'What is the length of the river that flows through the capital of the administrative territorial entity in which Rzeszów is located?', '4hop_answer': '220 km'}\n",
      "subject: Brčko, relation: twinned administrative body, {'2hop_question': 'What is the population of the city that is twinned with Brčko?', '2hop_answer': 'Approximately 1.8 million (for Istanbul, Turkey)', '3hop_question': 'What is the main language spoken in the city that is twinned with Brčko?', '3hop_answer': 'Turkish (for Istanbul, Turkey)', '4hop_question': 'What is the most famous historical landmark in the city where the main language is Turkish and is twinned with Brčko?', '4hop_answer': 'Hagia Sophia (for Istanbul, Turkey)'}\n",
      "subject: Apia, relation: twinned administrative body, {'2hop_question': 'What is the population of the city that is twinned with Apia?', '2hop_answer': 'Approximately 1.5 million (for Shenzhen, China)', '3hop_question': 'What is the main language spoken in the city that is twinned with Apia?', '3hop_answer': 'Mandarin Chinese (for Shenzhen, China)', '4hop_question': 'What is the name of the largest airport in the city that is twinned with Apia?', '4hop_answer': \"Shenzhen Bao'an International Airport\"}\n",
      "subject: Uman, relation: twinned administrative body, {'2hop_question': 'What is the population of the city that is twinned with Uman?', '2hop_answer': 'Approximately 1.5 million (for example, Milwaukee, USA)', '3hop_question': 'What is the primary language spoken in the city that is twinned with Uman?', '3hop_answer': 'English (for example, Milwaukee, USA)', '4hop_question': 'What is a major landmark in the city that is twinned with Uman?', '4hop_answer': 'Milwaukee Art Museum (for example, Milwaukee, USA)'}\n",
      "subject: Boulder, relation: twinned administrative body, {'2hop_question': 'What is the population of the city that is twinned with Boulder?', '2hop_answer': 'Approximately 1.5 million (for Dushanbe, Tajikistan)', '3hop_question': 'What is the official language spoken in the city that is twinned with Boulder?', '3hop_answer': 'Tajik (for Dushanbe, Tajikistan)', '4hop_question': 'What is the currency used in the country where the city twinned with Boulder is located?', '4hop_answer': 'Tajikistani somoni (for Tajikistan)'}\n",
      "subject: Asahikawa, relation: twinned administrative body, {'2hop_question': 'What is the population of the twinned administrative body of Asahikawa?', '2hop_answer': 'Approximately 1.5 million', '3hop_question': 'What is the main language spoken in the twinned administrative body of Asahikawa?', '3hop_answer': 'Mandarin Chinese', '4hop_question': 'What is the most famous landmark in the twinned administrative body of Asahikawa?', '4hop_answer': 'The Great Wall of China'}\n",
      "subject: Saint-Valery-en-Caux, relation: twinned administrative body, {'2hop_question': 'What is the country of the twinned administrative body of Saint-Valery-en-Caux?', '2hop_answer': 'Germany', '3hop_question': 'What is the capital city of the country of the twinned administrative body of Saint-Valery-en-Caux?', '3hop_answer': 'Berlin', '4hop_question': 'What is the population of the capital city of the country of the twinned administrative body of Saint-Valery-en-Caux?', '4hop_answer': 'Approximately 3.6 million'}\n",
      "subject: Bakersfield, relation: twinned administrative body, {'2hop_question': 'What is the population of the city that is twinned with Bakersfield?', '2hop_answer': 'Approximately 1.5 million (for Wakayama, Japan)', '3hop_question': 'What is a major industry in the city that is twinned with Bakersfield?', '3hop_answer': 'Tourism (for Wakayama, Japan)', '4hop_question': 'What is a famous landmark in the city that has a major industry of tourism and is twinned with Bakersfield?', '4hop_answer': 'Wakayama Castle'}\n",
      "subject: Benno, relation: patron saint, {'2hop_question': 'What is the feast day of the patron saint Benno?', '2hop_answer': 'June 16', '3hop_question': 'Which city celebrates the feast day of the patron saint Benno?', '3hop_answer': 'Munich', '4hop_question': 'What is the population of the city that celebrates the feast day of the patron saint Benno?', '4hop_answer': '1.5 million'}\n",
      "subject: Kalamazoo, relation: twinned administrative body, {'2hop_question': 'What is the population of the city that is twinned with Kalamazoo?', '2hop_answer': 'Poprad has a population of approximately 52,000.', '3hop_question': 'What is the primary language spoken in the city that is twinned with Kalamazoo?', '3hop_answer': 'Slovak', '4hop_question': 'What is the name of the country where the primary language spoken in the city twinned with Kalamazoo is Slovak?', '4hop_answer': 'Slovakia'}\n",
      "subject: Naperville, relation: twinned administrative body, {'2hop_question': \"What is the capital city of the country where Naperville's twinned administrative body is located?\", '2hop_answer': 'Kraków', '3hop_question': \"What is a famous historical site in the capital city of the country where Naperville's twinned administrative body is located?\", '3hop_answer': 'Wawel Castle', '4hop_question': \"Who was the architect of the famous historical site in the capital city of the country where Naperville's twinned administrative body is located?\", '4hop_answer': 'Bartolommeo Berrecci'}\n",
      "subject: Argenteuil, relation: twinned administrative body, {'2hop_question': 'What is the country of the twinned administrative body of Argenteuil?', '2hop_answer': 'Germany', '3hop_question': 'What is the capital city of the country of the twinned administrative body of Argenteuil?', '3hop_answer': 'Berlin', '4hop_question': 'What is the population of the capital city of the country of the twinned administrative body of Argenteuil?', '4hop_answer': 'Approximately 3.6 million'}\n",
      "subject: Piana degli Albanesi, relation: twinned administrative body, {'2hop_question': 'What is the population of the twinned administrative body of Piana degli Albanesi?', '2hop_answer': 'Approximately 1.2 million', '3hop_question': 'What is the main language spoken in the twinned administrative body of Piana degli Albanesi?', '3hop_answer': 'Italian', '4hop_question': 'What is a famous landmark in the twinned administrative body of Piana degli Albanesi?', '4hop_answer': 'The Leaning Tower of Pisa'}\n",
      "subject: Waregem, relation: twinned administrative body, {'2hop_question': 'What is the population of the city that is twinned with Waregem?', '2hop_answer': 'Approximately 50,000', '3hop_question': 'What is the main language spoken in the city that is twinned with Waregem?', '3hop_answer': 'French', '4hop_question': 'What is the most famous landmark in the city where the main language is French and is twinned with Waregem?', '4hop_answer': 'The Belfry of Tournai'}\n",
      "subject: Venice, relation: present in work, {'2hop_question': 'Who is the author of the work in which Venice is present?', '2hop_answer': 'William Shakespeare', '3hop_question': 'What is the title of the work authored by William Shakespeare in which Venice is present?', '3hop_answer': 'The Merchant of Venice', '4hop_question': \"In which year was 'The Merchant of Venice' by William Shakespeare first published?\", '4hop_answer': '1600'}\n",
      "subject: Venice, relation: significant event, {'2hop_question': 'What is a famous festival that is a significant event in Venice?', '2hop_answer': 'Venice Carnival', '3hop_question': 'What type of masks are traditionally worn during the famous festival that is a significant event in Venice?', '3hop_answer': 'Venetian masks', '4hop_question': 'What material are the traditional masks worn during the famous festival that is a significant event in Venice typically made from?', '4hop_answer': 'Paper-mache'}\n",
      "subject: Vienna, relation: named after, {'2hop_question': 'Who is the person that Vienna is named after?', '2hop_answer': 'Vindobona', '3hop_question': 'What was the occupation of the person that Vienna is named after?', '3hop_answer': 'Roman military camp', '4hop_question': 'In which empire was the Roman military camp, after which Vienna is named, located?', '4hop_answer': 'Roman Empire'}\n",
      "subject: Bandar Seri Begawan, relation: twinned administrative body, {'2hop_question': 'What is the capital city of the twinned administrative body of Bandar Seri Begawan?', '2hop_answer': 'Lisbon', '3hop_question': 'Which river flows through the capital city of the twinned administrative body of Bandar Seri Begawan?', '3hop_answer': 'Tagus River', '4hop_question': 'What is the length of the river that flows through the capital city of the twinned administrative body of Bandar Seri Begawan?', '4hop_answer': '1,007 kilometers'}\n",
      "subject: Australian Capital Territory, relation: twinned administrative body, {'2hop_question': 'What is the twinned administrative body of the Australian Capital Territory?', '2hop_answer': 'Beijing', '3hop_question': 'Which country is the twinned administrative body of the Australian Capital Territory located in?', '3hop_answer': 'China', '4hop_question': 'What is the official language of the country where the twinned administrative body of the Australian Capital Territory is located?', '4hop_answer': 'Mandarin'}\n",
      "subject: Servigliano, relation: twinned administrative body, {'2hop_question': 'What is the population of the twinned administrative body of Servigliano?', '2hop_answer': 'Approximately 5,000', '3hop_question': 'What is the main economic activity in the twinned administrative body of Servigliano?', '3hop_answer': 'Agriculture', '4hop_question': 'Which major festival is celebrated in the twinned administrative body of Servigliano?', '4hop_answer': 'The Harvest Festival'}\n",
      "subject: Ceiba speciosa, relation: official symbol, {'2hop_question': 'Which country has Ceiba speciosa as an official symbol?', '2hop_answer': 'Argentina', '3hop_question': 'What is the capital city of the country that has Ceiba speciosa as an official symbol?', '3hop_answer': 'Buenos Aires', '4hop_question': 'Which river flows through the capital city of the country that has Ceiba speciosa as an official symbol?', '4hop_answer': 'Río de la Plata'}\n",
      "subject: Amazigh languages, relation: official language, {'2hop_question': 'In which country are the Amazigh languages an official language?', '2hop_answer': 'Morocco', '3hop_question': 'What is the capital city of the country where the Amazigh languages are an official language?', '3hop_answer': 'Rabat', '4hop_question': 'Which river flows through the capital city of the country where the Amazigh languages are an official language?', '4hop_answer': 'Bou Regreg'}\n",
      "subject: Heidenheim an der Brenz, relation: twinned administrative body, {'2hop_question': 'What is the population of the twinned administrative body of Heidenheim an der Brenz?', '2hop_answer': 'Approximately 50,000', '3hop_question': 'What is the main language spoken in the twinned administrative body of Heidenheim an der Brenz?', '3hop_answer': 'French', '4hop_question': 'What is a famous landmark in the twinned administrative body of Heidenheim an der Brenz?', '4hop_answer': 'The Château de Saint-Germain-en-Laye'}\n",
      "subject: Eurasian Magpie, relation: official symbol, {'2hop_question': 'Which country has the Eurasian Magpie as its official symbol?', '2hop_answer': 'South Korea', '3hop_question': 'What is the capital city of the country that has the Eurasian Magpie as its official symbol?', '3hop_answer': 'Seoul', '4hop_question': 'Which river flows through the capital city of the country that has the Eurasian Magpie as its official symbol?', '4hop_answer': 'Han River'}\n",
      "subject: Greater Sudbury, relation: located in the administrative territorial entity, {'2hop_question': 'What is the population of the administrative territorial entity where Greater Sudbury is located?', '2hop_answer': '14.57 million (Ontario)', '3hop_question': 'Who is the current premier of the administrative territorial entity where Greater Sudbury is located?', '3hop_answer': 'Doug Ford', '4hop_question': 'What is the capital city of the administrative territorial entity where the current premier, Doug Ford, governs?', '4hop_answer': 'Toronto'}\n",
      "subject: Hollywood, relation: twinned administrative body, {'2hop_question': 'What is the population of the city that is twinned with Hollywood?', '2hop_answer': 'Approximately 1.3 million (for Los Angeles)', '3hop_question': 'What is the name of the mayor of the city that is twinned with Hollywood?', '3hop_answer': 'Karen Bass (for Los Angeles)', '4hop_question': 'What is the name of the high school in the city that is twinned with Hollywood where the mayor graduated?', '4hop_answer': 'Hamilton High School (for Los Angeles)'}\n",
      "subject: Bahía Blanca, relation: twinned administrative body, {'2hop_question': 'What is the population of the city that is twinned with Bahía Blanca?', '2hop_answer': 'Approximately 1.5 million', '3hop_question': 'What is the main economic activity of the city that is twinned with Bahía Blanca?', '3hop_answer': 'Tourism', '4hop_question': 'What is the name of the most famous tourist attraction in the city that is twinned with Bahía Blanca?', '4hop_answer': 'The Old Town'}\n",
      "subject: Bernau bei Berlin, relation: twinned administrative body, {'2hop_question': 'What is the population of the twinned administrative body of Bernau bei Berlin?', '2hop_answer': 'Approximately 50,000', '3hop_question': 'What is the primary language spoken in the twinned administrative body of Bernau bei Berlin?', '3hop_answer': 'French', '4hop_question': 'What is the capital city of the country where the twinned administrative body of Bernau bei Berlin is located?', '4hop_answer': 'Paris'}\n",
      "subject: Caltagirone, relation: twinned administrative body, {'2hop_question': 'What is the population of the city that is twinned with Caltagirone?', '2hop_answer': 'Approximately 1.5 million (for Phoenix, Arizona)', '3hop_question': 'What is the name of the mayor of the city that is twinned with Caltagirone?', '3hop_answer': 'Kate Gallego (for Phoenix, Arizona)', '4hop_question': 'Which university is located in the city that is twinned with Caltagirone?', '4hop_answer': 'Arizona State University (for Phoenix, Arizona)'}\n",
      "subject: Podgorica, relation: named after, {'2hop_question': 'Who was Podgorica named after?', '2hop_answer': 'The hill Gorica', '3hop_question': 'What is the significance of the hill Gorica that Podgorica was named after?', '3hop_answer': 'It is a small hill that overlooks the city', '4hop_question': 'What is the height of the hill Gorica that overlooks the city Podgorica was named after?', '4hop_answer': '107 meters'}\n",
      "subject: Fürstenfeld, relation: twinned administrative body, {'2hop_question': 'What is the country of the twinned administrative body of Fürstenfeld?', '2hop_answer': 'Germany', '3hop_question': 'What is the official language of the country of the twinned administrative body of Fürstenfeld?', '3hop_answer': 'German', '4hop_question': 'What is the population of the country where the official language is German and has a twinned administrative body with Fürstenfeld?', '4hop_answer': 'Approximately 83 million'}\n",
      "subject: Holy Saturday, relation: public holiday, {'2hop_question': 'Which country observes Holy Saturday as a public holiday?', '2hop_answer': 'Spain', '3hop_question': 'What is the capital city of the country that observes Holy Saturday as a public holiday?', '3hop_answer': 'Madrid', '4hop_question': 'What is the population of the capital city of the country that observes Holy Saturday as a public holiday?', '4hop_answer': 'Approximately 3.3 million'}\n",
      "subject: Ouahigouya, relation: twinned administrative body, {'2hop_question': 'What is the country of the twinned administrative body of Ouahigouya?', '2hop_answer': 'France', '3hop_question': 'What is the official language of the country of the twinned administrative body of Ouahigouya?', '3hop_answer': 'French', '4hop_question': 'What is the capital city of the country where the twinned administrative body of Ouahigouya is located?', '4hop_answer': 'Paris'}\n",
      "subject: Bergamo, relation: head of government, {'2hop_question': 'Who is the spouse of the head of government of Bergamo?', '2hop_answer': 'Cristina Parodi', '3hop_question': 'What is the profession of the spouse of the head of government of Bergamo?', '3hop_answer': 'Journalist and television presenter', '4hop_question': 'Which television network does the spouse of the head of government of Bergamo work for?', '4hop_answer': 'RAI'}\n",
      "subject: Bergamo, relation: twinned administrative body, {'2hop_question': \"What is the capital city of the country where Bergamo's twinned administrative body is located?\", '2hop_answer': 'Prague', '3hop_question': \"What is a famous landmark in the capital city of the country where Bergamo's twinned administrative body is located?\", '3hop_answer': 'Charles Bridge', '4hop_question': \"Which river flows under the famous landmark in the capital city of the country where Bergamo's twinned administrative body is located?\", '4hop_answer': 'Vltava River'}\n",
      "subject: Vaŭkavysk, relation: twinned administrative body, {'2hop_question': 'What is the population of the city that is twinned with Vaŭkavysk?', '2hop_answer': 'Approximately 50,000', '3hop_question': 'What is the main industry in the city that is twinned with Vaŭkavysk?', '3hop_answer': 'Textile manufacturing', '4hop_question': 'What is the name of the largest park in the city that is twinned with Vaŭkavysk?', '4hop_answer': 'Central Park'}\n",
      "subject: Haarlem, relation: twinned administrative body, {'2hop_question': \"What is the capital city of the country where Haarlem's twinned administrative body is located?\", '2hop_answer': 'Vilnius', '3hop_question': \"What is the population of the capital city of the country where Haarlem's twinned administrative body is located?\", '3hop_answer': '574,147', '4hop_question': \"What is the name of the river that flows through the capital city of the country where Haarlem's twinned administrative body is located?\", '4hop_answer': 'Neris River'}\n",
      "subject: Nantong, relation: twinned administrative body, {'2hop_question': 'What is the name of a city that is twinned with Nantong?', '2hop_answer': 'Ludwigshafen', '3hop_question': 'What is a major river that flows through the city twinned with Nantong?', '3hop_answer': 'Rhine River', '4hop_question': 'Which country is home to the major river that flows through the city twinned with Nantong?', '4hop_answer': 'Germany'}\n",
      "subject: Santa Bárbara d'Oeste, relation: twinned administrative body, {'2hop_question': \"What is the population of the city that is twinned with Santa Bárbara d'Oeste?\", '2hop_answer': 'Approximately 1.5 million', '3hop_question': \"What is the main language spoken in the city that is twinned with Santa Bárbara d'Oeste?\", '3hop_answer': 'English', '4hop_question': \"What is the most famous landmark in the city where the main language is English and is twinned with Santa Bárbara d'Oeste?\", '4hop_answer': 'The Golden Gate Bridge'}\n",
      "subject: Rosa chinensis, relation: official symbol, {'2hop_question': 'Which country has Rosa chinensis as an official symbol?', '2hop_answer': 'China', '3hop_question': 'What is the capital city of the country that has Rosa chinensis as an official symbol?', '3hop_answer': 'Beijing', '4hop_question': 'What is the population of the capital city of the country that has Rosa chinensis as an official symbol?', '4hop_answer': '21.54 million'}\n",
      "subject: Asan, relation: twinned administrative body, {'2hop_question': 'What is the population of the city that is twinned with Asan?', '2hop_answer': 'Approximately 1.5 million (for example, if the twinned city is a large city like Suzhou, China)', '3hop_question': 'What is a major tourist attraction in the city that is twinned with Asan?', '3hop_answer': \"The Humble Administrator's Garden (if the twinned city is Suzhou, China)\", '4hop_question': 'What is the historical significance of the major tourist attraction in the city that is twinned with Asan?', '4hop_answer': \"The Humble Administrator's Garden is one of the largest and most renowned classical gardens in China, dating back to the early 16th century.\"}\n",
      "subject: Waldshut-Tiengen, relation: twinned administrative body, {'2hop_question': 'What is the country of the twinned administrative body of Waldshut-Tiengen?', '2hop_answer': 'France', '3hop_question': 'What is the official language of the country of the twinned administrative body of Waldshut-Tiengen?', '3hop_answer': 'French', '4hop_question': 'What is the capital city of the country where the twinned administrative body of Waldshut-Tiengen is located?', '4hop_answer': 'Paris'}\n",
      "subject: Cluj-Napoca, relation: head of government, {'2hop_question': 'Who is the spouse of the head of government of Cluj-Napoca?', '2hop_answer': 'Oana Boc', '3hop_question': 'Which university did the spouse of the head of government of Cluj-Napoca attend for their undergraduate studies?', '3hop_answer': 'Babeș-Bolyai University', '4hop_question': 'In which city is the university that the spouse of the head of government of Cluj-Napoca attended located?', '4hop_answer': 'Cluj-Napoca'}\n",
      "subject: trunk, relation: named after, {'2hop_question': 'What is the animal that the trunk is named after?', '2hop_answer': 'Elephant', '3hop_question': 'What is the natural habitat of the animal that the trunk is named after?', '3hop_answer': 'Savannah', '4hop_question': 'Which continent is the natural habitat of the animal that the trunk is named after located?', '4hop_answer': 'Africa'}\n",
      "subject: Kuwait City, relation: located in the administrative territorial entity, {'2hop_question': 'What is the capital of the country where Kuwait City is located?', '2hop_answer': 'Kuwait City', '3hop_question': 'What is the official language of the country whose capital is Kuwait City?', '3hop_answer': 'Arabic', '4hop_question': 'What is the currency used in the country where the official language is Arabic and the capital is Kuwait City?', '4hop_answer': 'Kuwaiti Dinar'}\n",
      "subject: Americas, relation: continent, {'2hop_question': 'What is the largest country by area in the continent of the Americas?', '2hop_answer': 'Canada', '3hop_question': 'What is the capital city of the largest country by area in the continent of the Americas?', '3hop_answer': 'Ottawa', '4hop_question': 'What is the population of the capital city of the largest country by area in the continent of the Americas?', '4hop_answer': 'Approximately 1 million'}\n",
      "subject: Mudanjiang, relation: twinned administrative body, {'2hop_question': 'What is the population of the city that is a twinned administrative body of Mudanjiang?', '2hop_answer': 'Approximately 1.5 million', '3hop_question': 'What is the main language spoken in the city that is a twinned administrative body of Mudanjiang?', '3hop_answer': 'Russian', '4hop_question': 'What is the name of the river that flows through the city where the main language is Russian and is a twinned administrative body of Mudanjiang?', '4hop_answer': 'Amur River'}\n",
      "subject: Leonard of Port Maurice, relation: patron saint, {'2hop_question': 'What is Leonard of Port Maurice the patron saint of?', '2hop_answer': 'Missionaries', '3hop_question': 'Which religious order did the patron saint of missionaries belong to?', '3hop_answer': 'Franciscans', '4hop_question': 'Who founded the religious order that the patron saint of missionaries belonged to?', '4hop_answer': 'Saint Francis of Assisi'}\n",
      "subject: Zacapa, relation: twinned administrative body, {'2hop_question': 'What is the population of the city that is twinned with Zacapa?', '2hop_answer': 'Approximately 1.5 million', '3hop_question': 'What is the main language spoken in the city that is twinned with Zacapa?', '3hop_answer': 'Spanish', '4hop_question': 'What is the most popular tourist attraction in the city that is twinned with Zacapa?', '4hop_answer': 'The historic city center'}\n",
      "subject: Swindon, relation: twinned administrative body, {'2hop_question': 'What is the capital city of the twinned administrative body of Swindon?', '2hop_answer': 'Zurich', '3hop_question': 'Which river flows through the capital city of the twinned administrative body of Swindon?', '3hop_answer': 'Limmat', '4hop_question': 'What is the length of the river that flows through the capital city of the twinned administrative body of Swindon?', '4hop_answer': '35 km'}\n",
      "subject: Hạ Long, relation: twinned administrative body, {'2hop_question': \"What is the capital city of the country where Hạ Long's twinned administrative body is located?\", '2hop_answer': 'Tokyo', '3hop_question': \"What is the population of the capital city of the country where Hạ Long's twinned administrative body is located?\", '3hop_answer': 'Approximately 14 million', '4hop_question': \"What is the name of the famous tower located in the capital city of the country where Hạ Long's twinned administrative body is located?\", '4hop_answer': 'Tokyo Tower'}\n",
      "subject: Roccasecca, relation: twinned administrative body, {'2hop_question': 'What is the name of a city that is twinned with Roccasecca?', '2hop_answer': 'Saint-Gilles', '3hop_question': 'What is the population of the city that is twinned with Roccasecca?', '3hop_answer': '25,000', '4hop_question': 'What is the primary language spoken in the city that is twinned with Roccasecca?', '4hop_answer': 'French'}\n",
      "subject: Riverside County, relation: located in the administrative territorial entity, {'2hop_question': 'What is the capital city of the administrative territorial entity that Riverside County is located in?', '2hop_answer': 'Sacramento', '3hop_question': 'Which river runs through the capital city of the administrative territorial entity that Riverside County is located in?', '3hop_answer': 'Sacramento River', '4hop_question': 'What is the length of the river that runs through the capital city of the administrative territorial entity that Riverside County is located in?', '4hop_answer': '447 miles'}\n",
      "subject: Jerusalem, relation: head of government, {'2hop_question': 'Who is the spouse of the head of government of Jerusalem?', '2hop_answer': 'Sara Netanyahu', '3hop_question': 'Which university did the spouse of the head of government of Jerusalem attend for their undergraduate studies?', '3hop_answer': 'Tel Aviv University', '4hop_question': 'In which city is the university that the spouse of the head of government of Jerusalem attended located?', '4hop_answer': 'Tel Aviv'}\n",
      "subject: Jerusalem, relation: country, {'2hop_question': 'Who is the current prime minister of the country where Jerusalem is located?', '2hop_answer': 'Benjamin Netanyahu', '3hop_question': 'What is the political party of the current prime minister of the country where Jerusalem is located?', '3hop_answer': 'Likud', '4hop_question': 'Who was the founder of the political party of the current prime minister of the country where Jerusalem is located?', '4hop_answer': 'Menachem Begin'}\n",
      "subject: Pietra Ligure, relation: twinned administrative body, {'2hop_question': 'What is the population of the twinned administrative body of Pietra Ligure?', '2hop_answer': 'Approximately 20,000', '3hop_question': 'What is the main language spoken in the twinned administrative body of Pietra Ligure?', '3hop_answer': 'French', '4hop_question': 'What is a famous landmark in the twinned administrative body of Pietra Ligure?', '4hop_answer': 'The Château de Pau'}\n",
      "subject: Nagykanizsa, relation: twinned administrative body, {'2hop_question': 'What is the capital city of a country that has a twinned administrative body with Nagykanizsa?', '2hop_answer': 'Ljubljana', '3hop_question': 'What is the population of the capital city of a country that has a twinned administrative body with Nagykanizsa?', '3hop_answer': '295,504', '4hop_question': 'What is the name of the river that flows through the capital city of a country that has a twinned administrative body with Nagykanizsa?', '4hop_answer': 'Ljubljanica'}\n",
      "subject: Ústí nad Labem, relation: country, {'2hop_question': 'What is the capital of the country where Ústí nad Labem is located?', '2hop_answer': 'Prague', '3hop_question': 'What is the main river that flows through the capital of the country where Ústí nad Labem is located?', '3hop_answer': 'Vltava', '4hop_question': 'What is the length of the main river that flows through the capital of the country where Ústí nad Labem is located?', '4hop_answer': '430 kilometers'}\n",
      "subject: Almaty, relation: present in work, {'2hop_question': 'Which famous novel is set in Almaty?', '2hop_answer': 'The Day Lasts More Than a Hundred Years', '3hop_question': 'Who is the author of the novel set in Almaty?', '3hop_answer': 'Chingiz Aitmatov', '4hop_question': 'Which country is the author of the novel set in Almaty from?', '4hop_answer': 'Kyrgyzstan'}\n",
      "subject: Weiz, relation: twinned administrative body, {'2hop_question': 'What is the capital city of the country where the twinned administrative body of Weiz is located?', '2hop_answer': 'Ljubljana', '3hop_question': 'Which river flows through the capital city of the country where the twinned administrative body of Weiz is located?', '3hop_answer': 'Ljubljanica', '4hop_question': 'What is the length of the river that flows through the capital city of the country where the twinned administrative body of Weiz is located?', '4hop_answer': '41 kilometers'}\n",
      "subject: Niiza, relation: twinned administrative body, {'2hop_question': 'What is the population of the city that is twinned with Niiza?', '2hop_answer': 'Approximately 1.5 million', '3hop_question': 'What is the main language spoken in the city that is twinned with Niiza?', '3hop_answer': 'English', '4hop_question': 'What is the name of the largest park in the city where the main language is English and is twinned with Niiza?', '4hop_answer': 'Stanley Park'}\n",
      "subject: Huddinge Municipality, relation: twinned administrative body, {'2hop_question': 'What is the population of the twinned administrative body of Huddinge Municipality?', '2hop_answer': \"Approximately 1.5 million (for example, if the twinned city is Istanbul's Kadıköy district)\", '3hop_question': 'What is the main language spoken in the twinned administrative body of Huddinge Municipality?', '3hop_answer': \"Turkish (assuming the twinned city is Istanbul's Kadıköy district)\", '4hop_question': 'What is a famous landmark in the twinned administrative body of Huddinge Municipality?', '4hop_answer': \"Kadıköy Bull Statue (assuming the twinned city is Istanbul's Kadıköy district)\"}\n",
      "subject: Shem, relation: founded by, {'2hop_question': 'Who is the father of Shem, who founded him?', '2hop_answer': 'Noah', '3hop_question': 'Who is the wife of the father of Shem, who founded him?', '3hop_answer': 'Naamah', '4hop_question': 'Who is the brother of the wife of the father of Shem, who founded him?', '4hop_answer': 'Tubal-cain'}\n",
      "subject: Florence, relation: head of government, {'2hop_question': 'Who is the spouse of the head of government of Florence?', '2hop_answer': 'Agnese Landini', '3hop_question': 'What is the profession of the spouse of the head of government of Florence?', '3hop_answer': 'Teacher', '4hop_question': 'Which school does the spouse of the head of government of Florence teach at?', '4hop_answer': 'Liceo Scientifico Leonardo da Vinci'}\n",
      "subject: Florence, relation: present in work, {'2hop_question': \"Which famous artist's work features Florence?\", '2hop_answer': 'Leonardo da Vinci', '3hop_question': 'In which museum can you find the work of the artist whose work features Florence?', '3hop_answer': 'Louvre Museum', '4hop_question': 'In which city is the museum located that houses the work of the artist whose work features Florence?', '4hop_answer': 'Paris'}\n",
      "subject: Monastir, relation: twinned administrative body, {'2hop_question': \"What is the capital city of the country where Monastir's twinned administrative body is located?\", '2hop_answer': 'Paris', '3hop_question': \"Which famous landmark is located in the capital city of the country where Monastir's twinned administrative body is located?\", '3hop_answer': 'Eiffel Tower', '4hop_question': \"Who designed the famous landmark located in the capital city of the country where Monastir's twinned administrative body is located?\", '4hop_answer': 'Gustave Eiffel'}\n",
      "subject: Ramla, relation: twinned administrative body, {'2hop_question': 'What is the twinned administrative body of Ramla?', '2hop_answer': 'Grenoble', '3hop_question': 'Which country is the twinned administrative body of Ramla located in?', '3hop_answer': 'France', '4hop_question': 'What is the official language of the country where the twinned administrative body of Ramla is located?', '4hop_answer': 'French'}\n",
      "subject: Nikko, relation: twinned administrative body, {'2hop_question': 'What is the capital city of the country where the twinned administrative body of Nikko is located?', '2hop_answer': 'Wellington', '3hop_question': 'What is the population of the capital city of the country where the twinned administrative body of Nikko is located?', '3hop_answer': '215,100', '4hop_question': 'What is the name of the major university located in the capital city of the country where the twinned administrative body of Nikko is located?', '4hop_answer': 'Victoria University of Wellington'}\n",
      "subject: Kanjiža, relation: twinned administrative body, {'2hop_question': 'What is the country of the twinned administrative body of Kanjiža?', '2hop_answer': 'Hungary', '3hop_question': 'What is the official language of the country of the twinned administrative body of Kanjiža?', '3hop_answer': 'Hungarian', '4hop_question': 'What is the capital city of the country where the twinned administrative body of Kanjiža is located?', '4hop_answer': 'Budapest'}\n",
      "subject: Beaugency, relation: twinned administrative body, {'2hop_question': 'What is the country of the twinned administrative body of Beaugency?', '2hop_answer': 'Germany', '3hop_question': 'What is the capital city of the country of the twinned administrative body of Beaugency?', '3hop_answer': 'Berlin', '4hop_question': 'What is the population of the capital city of the country of the twinned administrative body of Beaugency?', '4hop_answer': 'Approximately 3.6 million'}\n",
      "subject: Acre, relation: country, {'2hop_question': 'What is the capital of the country that Acre is a part of?', '2hop_answer': 'Brasília', '3hop_question': 'What is the population of the capital of the country that Acre is a part of?', '3hop_answer': '3 million', '4hop_question': 'What is the name of the main airport in the capital of the country that Acre is a part of?', '4hop_answer': 'Brasília International Airport'}\n",
      "subject: Khasavyurt, relation: twinned administrative body, {'2hop_question': 'What is the population of the city that is twinned with Khasavyurt?', '2hop_answer': 'Approximately 1.2 million', '3hop_question': 'What is the main language spoken in the city that is twinned with Khasavyurt?', '3hop_answer': 'Turkish', '4hop_question': 'What is the most famous historical landmark in the city that is twinned with Khasavyurt?', '4hop_answer': 'Hagia Sophia'}\n",
      "subject: Asnières-sur-Seine, relation: twinned administrative body, {'2hop_question': 'What is the capital city of the country where the twinned administrative body of Asnières-sur-Seine is located?', '2hop_answer': 'Berlin', '3hop_question': 'What is the population of the capital city of the country where the twinned administrative body of Asnières-sur-Seine is located?', '3hop_answer': 'Approximately 3.6 million', '4hop_question': 'What is the name of the famous landmark located in the capital city of the country where the twinned administrative body of Asnières-sur-Seine is located?', '4hop_answer': 'Brandenburg Gate'}\n",
      "subject: Asnières-sur-Seine, relation: head of government, {'2hop_question': 'Who is the spouse of the head of government of Asnières-sur-Seine?', '2hop_answer': 'Nathalie Balkany', '3hop_question': 'What is the profession of the spouse of the head of government of Asnières-sur-Seine?', '3hop_answer': 'Politician', '4hop_question': 'Which political party is the spouse of the head of government of Asnières-sur-Seine affiliated with?', '4hop_answer': 'The Republicans'}\n",
      "subject: Matagalpa, relation: twinned administrative body, {'2hop_question': 'What is the country of the twinned administrative body of Matagalpa?', '2hop_answer': 'Germany', '3hop_question': 'What is the capital city of the country of the twinned administrative body of Matagalpa?', '3hop_answer': 'Berlin', '4hop_question': 'What is the population of the capital city of the country of the twinned administrative body of Matagalpa?', '4hop_answer': 'Approximately 3.6 million'}\n",
      "subject: Shahr-e Kord, relation: twinned administrative body, {'2hop_question': 'What is the population of the city that is twinned with Shahr-e Kord?', '2hop_answer': 'Approximately 1.5 million', '3hop_question': 'What is the main language spoken in the city that is twinned with Shahr-e Kord?', '3hop_answer': 'Turkish', '4hop_question': 'What is a famous historical landmark in the city that is twinned with Shahr-e Kord?', '4hop_answer': 'Hagia Sophia'}\n",
      "subject: North Brabant, relation: located in the administrative territorial entity, {'2hop_question': 'What is the capital of the administrative territorial entity that North Brabant is located in?', '2hop_answer': \"'s-Hertogenbosch\", '3hop_question': 'What is the population of the capital of the administrative territorial entity that North Brabant is located in?', '3hop_answer': 'Approximately 154,000', '4hop_question': 'What is the name of the river that flows through the capital of the administrative territorial entity that North Brabant is located in?', '4hop_answer': 'Dommel'}\n",
      "subject: Ganzhou, relation: twinned administrative body, {'2hop_question': 'What is the population of the twinned administrative body of Ganzhou?', '2hop_answer': 'Approximately 1.5 million', '3hop_question': 'What is the main language spoken in the twinned administrative body of Ganzhou?', '3hop_answer': 'Mandarin Chinese', '4hop_question': 'What is the most popular tourist attraction in the twinned administrative body of Ganzhou?', '4hop_answer': 'The Great Wall of China'}\n",
      "subject: Jining, relation: twinned administrative body, {'2hop_question': 'What is the population of the city that is twinned with Jining?', '2hop_answer': 'Approximately 1.5 million', '3hop_question': 'What is the main industry in the city that is twinned with Jining?', '3hop_answer': 'Automobile manufacturing', '4hop_question': 'Which major automobile company has a plant in the city that is twinned with Jining?', '4hop_answer': 'Toyota'}\n",
      "subject: Veles, relation: twinned administrative body, {'2hop_question': 'What is the population of the city that is twinned with Veles?', '2hop_answer': 'Approximately 50,000', '3hop_question': 'What is the main industry in the city that is twinned with Veles?', '3hop_answer': 'Textile manufacturing', '4hop_question': 'Which country is home to the main industry in the city that is twinned with Veles?', '4hop_answer': 'North Macedonia'}\n",
      "subject: Dundee, relation: country, {'2hop_question': 'What is the official language of the country where Dundee is located?', '2hop_answer': 'English', '3hop_question': 'Who is the current monarch of the country where Dundee is located?', '3hop_answer': 'Charles III', '4hop_question': 'What is the capital city of the country where the current monarch, who rules over the country where Dundee is located, resides?', '4hop_answer': 'London'}\n",
      "subject: Great Neck, relation: twinned administrative body, {'2hop_question': 'What is the population of the twinned administrative body of Great Neck?', '2hop_answer': 'Approximately 20,000', '3hop_question': 'What is the primary language spoken in the twinned administrative body of Great Neck?', '3hop_answer': 'French', '4hop_question': 'What is a famous landmark in the twinned administrative body of Great Neck?', '4hop_answer': 'Château de Versailles'}\n",
      "subject: Zhejiang, relation: located in the administrative territorial entity, {'2hop_question': 'What is the capital city of the administrative territorial entity that Zhejiang is located in?', '2hop_answer': 'Hangzhou', '3hop_question': 'Which famous lake is located in the capital city of the administrative territorial entity that Zhejiang is located in?', '3hop_answer': 'West Lake', '4hop_question': 'Which UNESCO World Heritage Site is located in the famous lake in the capital city of the administrative territorial entity that Zhejiang is located in?', '4hop_answer': 'West Lake Cultural Landscape of Hangzhou'}\n",
      "subject: Mühlhausen, relation: twinned administrative body, {'2hop_question': \"What is the capital city of the country where Mühlhausen's twinned administrative body is located?\", '2hop_answer': 'Paris', '3hop_question': \"Which river flows through the capital city of the country where Mühlhausen's twinned administrative body is located?\", '3hop_answer': 'Seine', '4hop_question': \"What is the length of the river that flows through the capital city of the country where Mühlhausen's twinned administrative body is located?\", '4hop_answer': '777 kilometers'}\n",
      "subject: Bridgwater, relation: twinned administrative body, {'2hop_question': 'What is the country of the twinned administrative body of Bridgwater?', '2hop_answer': 'France', '3hop_question': 'What is the capital city of the country of the twinned administrative body of Bridgwater?', '3hop_answer': 'Paris', '4hop_question': 'What is a famous landmark located in the capital city of the country of the twinned administrative body of Bridgwater?', '4hop_answer': 'Eiffel Tower'}\n",
      "subject: Pescantina, relation: twinned administrative body, {'2hop_question': 'What is the population of the twinned administrative body of Pescantina?', '2hop_answer': 'Approximately 20,000', '3hop_question': 'What is the main language spoken in the twinned administrative body of Pescantina?', '3hop_answer': 'German', '4hop_question': 'What is the capital city of the country where the twinned administrative body of Pescantina is located?', '4hop_answer': 'Berlin'}\n",
      "subject: Colombo, relation: present in work, {'2hop_question': 'Who is the author of the work in which Colombo is present?', '2hop_answer': 'Arthur Conan Doyle', '3hop_question': 'What is the title of the work authored by Arthur Conan Doyle in which Colombo is present?', '3hop_answer': 'The Adventure of the Empty House', '4hop_question': \"In which year was 'The Adventure of the Empty House' by Arthur Conan Doyle published?\", '4hop_answer': '1903'}\n",
      "subject: St. Charles, relation: twinned administrative body, {'2hop_question': 'What is the population of the city that is twinned with St. Charles?', '2hop_answer': 'Approximately 1.3 million (for Ludwigsburg, Germany)', '3hop_question': 'What is the primary language spoken in the city that is twinned with St. Charles?', '3hop_answer': 'German (for Ludwigsburg, Germany)', '4hop_question': 'What is the name of the famous palace located in the city that is twinned with St. Charles?', '4hop_answer': 'Ludwigsburg Palace'}\n",
      "subject: Castelló de la Plana, relation: official language, {'2hop_question': 'What is the official language of the region where Castelló de la Plana is located?', '2hop_answer': 'Valencian', '3hop_question': 'Who is a famous author that writes in the official language of the region where Castelló de la Plana is located?', '3hop_answer': 'Joan Fuster', '4hop_question': 'What is the title of a notable work by a famous author who writes in the official language of the region where Castelló de la Plana is located?', '4hop_answer': 'Nosaltres, els valencians'}\n",
      "subject: Castelló de la Plana, relation: patron saint, {'2hop_question': 'What is the feast day of the patron saint of Castelló de la Plana?', '2hop_answer': 'March 3', '3hop_question': 'Which church in Castelló de la Plana is dedicated to the patron saint?', '3hop_answer': 'Santa María la Mayor', '4hop_question': 'In which architectural style is the church dedicated to the patron saint of Castelló de la Plana built?', '4hop_answer': 'Gothic'}\n",
      "subject: Darwin, relation: named after, {'2hop_question': 'What is the capital city of the country that Darwin is named after?', '2hop_answer': 'London', '3hop_question': 'Which river flows through the capital city of the country that Darwin is named after?', '3hop_answer': 'River Thames', '4hop_question': 'What is the length of the river that flows through the capital city of the country that Darwin is named after?', '4hop_answer': '215 miles'}\n",
      "subject: Guilin, relation: twinned administrative body, {'2hop_question': 'What is the capital city of the twinned administrative body of Guilin?', '2hop_answer': 'Kuching', '3hop_question': 'Which country is the capital city of the twinned administrative body of Guilin located in?', '3hop_answer': 'Malaysia', '4hop_question': 'What is the official language of the country where the capital city of the twinned administrative body of Guilin is located?', '4hop_answer': 'Malay'}\n",
      "subject: Pontault-Combault, relation: twinned administrative body, {'2hop_question': 'What is the country of the twinned administrative body of Pontault-Combault?', '2hop_answer': 'Germany', '3hop_question': 'What is the capital city of the country of the twinned administrative body of Pontault-Combault?', '3hop_answer': 'Berlin', '4hop_question': 'What is the population of the capital city of the country of the twinned administrative body of Pontault-Combault?', '4hop_answer': 'Approximately 3.6 million'}\n",
      "subject: Nanning, relation: twinned administrative body, {'2hop_question': 'What is the capital city of the country that has a twinned administrative body with Nanning?', '2hop_answer': 'Helsinki', '3hop_question': 'What is the official language of the country whose capital city is twinned with Nanning?', '3hop_answer': 'Finnish', '4hop_question': 'What is the population of the country where the official language is Finnish?', '4hop_answer': 'Approximately 5.5 million'}\n",
      "subject: Onjuku, relation: twinned administrative body, {'2hop_question': 'What is the name of the country where the twinned administrative body of Onjuku is located?', '2hop_answer': 'Mexico', '3hop_question': 'What is the official language of the country where the twinned administrative body of Onjuku is located?', '3hop_answer': 'Spanish', '4hop_question': 'What is the capital city of the country where the twinned administrative body of Onjuku is located?', '4hop_answer': 'Mexico City'}\n",
      "subject: Queen Victoria, relation: named after, {'2hop_question': 'What is the capital city of the country named after Queen Victoria?', '2hop_answer': 'Victoria', '3hop_question': 'Which island is the capital city of the country named after Queen Victoria located on?', '3hop_answer': 'Mahé', '4hop_question': 'What is the population of the island where the capital city of the country named after Queen Victoria is located?', '4hop_answer': 'Approximately 77,000'}\n",
      "subject: Gütersloh, relation: twinned administrative body, {'2hop_question': 'What is the capital city of the country where a twinned administrative body of Gütersloh is located?', '2hop_answer': 'London', '3hop_question': 'What is the population of the capital city of the country where a twinned administrative body of Gütersloh is located?', '3hop_answer': '8.982 million', '4hop_question': 'What is the name of the river that flows through the capital city of the country where a twinned administrative body of Gütersloh is located?', '4hop_answer': 'River Thames'}\n",
      "subject: Taxco de Alarcón, relation: twinned administrative body, {'2hop_question': 'What is the country of the twinned administrative body of Taxco de Alarcón?', '2hop_answer': 'Spain', '3hop_question': 'What is the capital city of the country of the twinned administrative body of Taxco de Alarcón?', '3hop_answer': 'Madrid', '4hop_question': 'What is the population of the capital city of the country of the twinned administrative body of Taxco de Alarcón?', '4hop_answer': 'Approximately 3.3 million'}\n",
      "subject: Cambodia, relation: country, {'2hop_question': 'What is the capital city of the country Cambodia?', '2hop_answer': 'Phnom Penh', '3hop_question': 'Which river flows through the capital city of the country Cambodia?', '3hop_answer': 'Mekong River', '4hop_question': 'In which country does the river that flows through the capital city of Cambodia originate?', '4hop_answer': 'China'}\n",
      "subject: Nowy Sącz, relation: located in the administrative territorial entity, {'2hop_question': 'What is the capital of the administrative territorial entity where Nowy Sącz is located?', '2hop_answer': 'Kraków', '3hop_question': 'Which river flows through the capital of the administrative territorial entity where Nowy Sącz is located?', '3hop_answer': 'Vistula', '4hop_question': 'What is the length of the river that flows through the capital of the administrative territorial entity where Nowy Sącz is located?', '4hop_answer': '1,047 kilometers'}\n",
      "subject: Noci, relation: twinned administrative body, {'2hop_question': 'What is the population of the city that is twinned with Noci?', '2hop_answer': 'Approximately 20,000', '3hop_question': 'What is the main language spoken in the city that is twinned with Noci?', '3hop_answer': 'Italian', '4hop_question': 'What is a famous landmark in the city that is twinned with Noci?', '4hop_answer': 'Trullo houses'}\n",
      "subject: Iller, relation: located in or next to body of water, {'2hop_question': 'Which country is the body of water next to Iller located in?', '2hop_answer': 'Germany', '3hop_question': 'What is the capital city of the country where the body of water next to Iller is located?', '3hop_answer': 'Berlin', '4hop_question': 'Which famous landmark is located in the capital city of the country where the body of water next to Iller is located?', '4hop_answer': 'Brandenburg Gate'}\n",
      "subject: Fitchburg, relation: twinned administrative body, {'2hop_question': 'What is the population of the city that is twinned with Fitchburg?', '2hop_answer': 'Approximately 50,000', '3hop_question': 'What is the main language spoken in the city that is twinned with Fitchburg?', '3hop_answer': 'French', '4hop_question': 'What is a famous landmark in the city where the main language is French and is twinned with Fitchburg?', '4hop_answer': 'Château de Fougères'}\n",
      "subject: Bujumbura, relation: twinned administrative body, {'2hop_question': 'What is the capital city of the country that has a twinned administrative body with Bujumbura?', '2hop_answer': 'Paris', '3hop_question': 'Which river flows through the capital city of the country that has a twinned administrative body with Bujumbura?', '3hop_answer': 'Seine', '4hop_question': 'What is the length of the river that flows through the capital city of the country that has a twinned administrative body with Bujumbura?', '4hop_answer': '777 kilometers'}\n",
      "subject: Straubing, relation: twinned administrative body, {'2hop_question': 'What is the name of a city that is twinned with Straubing?', '2hop_answer': 'Romans-sur-Isère', '3hop_question': 'What is the population of the city that is twinned with Straubing?', '3hop_answer': '33,665', '4hop_question': 'What is the name of the river that flows through the city that is twinned with Straubing?', '4hop_answer': 'Isère'}\n",
      "subject: Xuzhou, relation: twinned administrative body, {'2hop_question': 'What is the population of the city that is twinned with Xuzhou?', '2hop_answer': 'Approximately 1.5 million', '3hop_question': 'What is the main language spoken in the city that is twinned with Xuzhou?', '3hop_answer': 'English', '4hop_question': 'What is the most famous landmark in the city where the main language is English and is twinned with Xuzhou?', '4hop_answer': 'The Space Needle'}\n",
      "subject: Macedonian, relation: official language, {'2hop_question': 'In which country is Macedonian an official language?', '2hop_answer': 'North Macedonia', '3hop_question': 'What is the capital city of the country where Macedonian is an official language?', '3hop_answer': 'Skopje', '4hop_question': 'Which river flows through the capital city of the country where Macedonian is an official language?', '4hop_answer': 'Vardar River'}\n",
      "subject: Guadeloupe, relation: located in the administrative territorial entity, {'2hop_question': 'What is the capital of the administrative territorial entity in which Guadeloupe is located?', '2hop_answer': 'Paris', '3hop_question': 'Which river flows through the capital of the administrative territorial entity in which Guadeloupe is located?', '3hop_answer': 'Seine', '4hop_question': 'What is the length of the river that flows through the capital of the administrative territorial entity in which Guadeloupe is located?', '4hop_answer': '777 kilometers'}\n",
      "subject: Bitola, relation: founded by, {'2hop_question': 'Who founded Bitola and what was their title?', '2hop_answer': 'Philip II of Macedon, King of Macedon', '3hop_question': 'What was the capital city of the kingdom ruled by the founder of Bitola?', '3hop_answer': 'Pella', '4hop_question': 'Which river is the capital city of the kingdom ruled by the founder of Bitola located near?', '4hop_answer': 'Loudias River'}\n",
      "subject: Peoria, relation: twinned administrative body, {'2hop_question': 'What is the population of the twinned administrative body of Peoria?', '2hop_answer': 'Approximately 1.5 million', '3hop_question': 'What is the primary language spoken in the twinned administrative body of Peoria?', '3hop_answer': 'French', '4hop_question': 'What is the name of the mayor of the twinned administrative body of Peoria?', '4hop_answer': 'Jean-Luc Moudenc'}\n",
      "subject: Ziguinchor, relation: twinned administrative body, {'2hop_question': \"What is the capital city of the country where Ziguinchor's twinned administrative body is located?\", '2hop_answer': 'Paris', '3hop_question': \"Which river flows through the capital city of the country where Ziguinchor's twinned administrative body is located?\", '3hop_answer': 'Seine', '4hop_question': \"What is the length of the river that flows through the capital city of the country where Ziguinchor's twinned administrative body is located?\", '4hop_answer': '777 kilometers'}\n",
      "subject: Murom, relation: twinned administrative body, {'2hop_question': 'What is the population of the twinned administrative body of Murom?', '2hop_answer': 'Approximately 1.2 million', '3hop_question': 'What is the main industry in the twinned administrative body of Murom?', '3hop_answer': 'Automobile manufacturing', '4hop_question': 'Which major automobile company has a plant in the twinned administrative body of Murom?', '4hop_answer': 'Toyota'}\n",
      "subject: Bogor, relation: twinned administrative body, {'2hop_question': 'What is the capital city of a country that has a twinned administrative body with Bogor?', '2hop_answer': 'Kuala Lumpur', '3hop_question': 'What is the official language spoken in the capital city of a country that has a twinned administrative body with Bogor?', '3hop_answer': 'Malay', '4hop_question': 'What is the population of the country where the official language is Malay and has a capital city that is twinned with Bogor?', '4hop_answer': '32 million'}\n",
      "subject: Pensacola, relation: twinned administrative body, {'2hop_question': 'What is the population of the city that is twinned with Pensacola?', '2hop_answer': 'Approximately 1.5 million (Gero, Japan)', '3hop_question': 'What is the primary industry in the city that is twinned with Pensacola?', '3hop_answer': 'Tourism (Gero, Japan)', '4hop_question': 'What is a famous tourist attraction in the city that is twinned with Pensacola?', '4hop_answer': 'Gero Onsen (Hot Springs)'}\n",
      "subject: Krzysztof Żuk, relation: head of government, {'2hop_question': 'What city is governed by Krzysztof Żuk as the head of government?', '2hop_answer': 'Lublin', '3hop_question': 'Which university is located in the city governed by Krzysztof Żuk?', '3hop_answer': 'Maria Curie-Skłodowska University', '4hop_question': 'Who was the Nobel Prize-winning scientist after whom the university in the city governed by Krzysztof Żuk is named?', '4hop_answer': 'Marie Curie'}\n",
      "subject: Victor Chatenay, relation: head of government, {'2hop_question': 'Who is the head of government that Victor Chatenay served under?', '2hop_answer': 'Raymond Poincaré', '3hop_question': 'Which political party did the head of government that Victor Chatenay served under belong to?', '3hop_answer': 'Democratic Republican Alliance', '4hop_question': 'In which year did the political party of the head of government that Victor Chatenay served under get established?', '4hop_answer': '1901'}\n",
      "subject: Guadix, relation: twinned administrative body, {'2hop_question': 'What is the country of the twinned administrative body of Guadix?', '2hop_answer': 'France', '3hop_question': 'What is the capital city of the country of the twinned administrative body of Guadix?', '3hop_answer': 'Paris', '4hop_question': 'What is the population of the capital city of the country of the twinned administrative body of Guadix?', '4hop_answer': 'Approximately 2.1 million'}\n",
      "subject: semi-arid climate, relation: Köppen climate classification, {'2hop_question': 'Which regions are classified under the semi-arid climate according to the Köppen climate classification?', '2hop_answer': 'Parts of Africa, Australia, South America, and North America', '3hop_question': 'What type of vegetation is typically found in regions with a semi-arid climate according to the Köppen climate classification?', '3hop_answer': 'Grasslands and shrubs', '4hop_question': 'Which animal species are commonly found in the grasslands and shrubs of regions with a semi-arid climate according to the Köppen climate classification?', '4hop_answer': 'Antelopes, zebras, and various species of birds'}\n",
      "subject: São Vicente, relation: twinned administrative body, {'2hop_question': 'What is the population of the twinned administrative body of São Vicente?', '2hop_answer': 'Approximately 1.5 million', '3hop_question': 'What is the main language spoken in the twinned administrative body of São Vicente?', '3hop_answer': 'Portuguese', '4hop_question': 'What is the name of the largest park in the twinned administrative body of São Vicente?', '4hop_answer': 'Ibirapuera Park'}\n",
      "subject: Praia, relation: located in/on physical feature, {'2hop_question': 'What is the name of the island where Praia is located?', '2hop_answer': 'Santiago', '3hop_question': 'Which country does the island where Praia is located belong to?', '3hop_answer': 'Cape Verde', '4hop_question': 'What is the official language of the country that the island where Praia is located belongs to?', '4hop_answer': 'Portuguese'}\n",
      "subject: Buxton, relation: twinned administrative body, {'2hop_question': 'What is the population of the city that is twinned with Buxton?', '2hop_answer': 'Approximately 50,000', '3hop_question': 'What is the main language spoken in the city that is twinned with Buxton?', '3hop_answer': 'French', '4hop_question': 'What is the most famous landmark in the city where the main language is French and is twinned with Buxton?', '4hop_answer': 'The Belfry of Bruges'}\n",
      "subject: Ansanus, relation: patron saint, {'2hop_question': 'What is the feast day of the patron saint Ansanus?', '2hop_answer': 'December 1', '3hop_question': 'Which city celebrates the feast day of the patron saint Ansanus?', '3hop_answer': 'Siena', '4hop_question': 'In which country is the city that celebrates the feast day of the patron saint Ansanus located?', '4hop_answer': 'Italy'}\n",
      "subject: Łomża, relation: located in the administrative territorial entity, {'2hop_question': 'What is the capital of the administrative territorial entity where Łomża is located?', '2hop_answer': 'Białystok', '3hop_question': 'Which river flows through the capital of the administrative territorial entity where Łomża is located?', '3hop_answer': 'Biała River', '4hop_question': 'What is the length of the river that flows through the capital of the administrative territorial entity where Łomża is located?', '4hop_answer': '29 kilometers'}\n",
      "subject: Wallenhorst, relation: twinned administrative body, {'2hop_question': 'What is the country of the twinned administrative body of Wallenhorst?', '2hop_answer': 'France', '3hop_question': 'What is the capital city of the country of the twinned administrative body of Wallenhorst?', '3hop_answer': 'Paris', '4hop_question': 'What is the population of the capital city of the country of the twinned administrative body of Wallenhorst?', '4hop_answer': 'Approximately 2.1 million'}\n",
      "subject: Platycladus, relation: official symbol, {'2hop_question': 'What country has Platycladus as an official symbol?', '2hop_answer': 'China', '3hop_question': 'What is the capital city of the country that has Platycladus as an official symbol?', '3hop_answer': 'Beijing', '4hop_question': 'What is the population of the capital city of the country that has Platycladus as an official symbol?', '4hop_answer': '21 million'}\n",
      "subject: Polatsk, relation: twinned administrative body, {'2hop_question': 'What is the capital city of the country where a twinned administrative body of Polatsk is located?', '2hop_answer': 'Riga', '3hop_question': 'What is the population of the capital city of the country where a twinned administrative body of Polatsk is located?', '3hop_answer': '632,614', '4hop_question': 'What is the name of the river that flows through the capital city of the country where a twinned administrative body of Polatsk is located?', '4hop_answer': 'Daugava River'}\n",
      "subject: Hong Kong, relation: present in work, {'2hop_question': 'Which famous movie features Hong Kong as a significant location?', '2hop_answer': 'In the Mood for Love', '3hop_question': 'Who directed the movie that features Hong Kong as a significant location?', '3hop_answer': 'Wong Kar-wai', '4hop_question': 'Which film festival awarded the director of the movie that features Hong Kong as a significant location?', '4hop_answer': 'Cannes Film Festival'}\n",
      "subject: Hong Kong, relation: head of government, {'2hop_question': 'Who is the spouse of the head of government of Hong Kong?', '2hop_answer': 'Regina Leung', '3hop_question': 'Which university did the spouse of the head of government of Hong Kong attend for their undergraduate studies?', '3hop_answer': 'University of Hong Kong', '4hop_question': 'In which district is the university that the spouse of the head of government of Hong Kong attended located?', '4hop_answer': 'Pok Fu Lam'}\n",
      "subject: Hong Kong, relation: significant event, {'2hop_question': 'What is a significant event that took place in Hong Kong?', '2hop_answer': 'The 2019-2020 Hong Kong protests', '3hop_question': 'Who was a prominent leader during the significant event that took place in Hong Kong?', '3hop_answer': 'Joshua Wong', '4hop_question': 'Which political party is the prominent leader during the significant event in Hong Kong associated with?', '4hop_answer': 'Demosistō'}\n",
      "subject: Hong Kong, relation: anthem, {'2hop_question': 'Who composed the anthem of Hong Kong?', '2hop_answer': 'Joseph Koo', '3hop_question': 'Which award did the composer of the anthem of Hong Kong receive?', '3hop_answer': 'Bronze Bauhinia Star', '4hop_question': 'In which year did the composer of the anthem of Hong Kong receive the Bronze Bauhinia Star?', '4hop_answer': '1998'}\n",
      "subject: Hong Kong, relation: executive body, {'2hop_question': 'Who is the current leader of the executive body of Hong Kong?', '2hop_answer': 'John Lee', '3hop_question': 'Which university did the current leader of the executive body of Hong Kong attend?', '3hop_answer': 'Peking University', '4hop_question': 'In which city is the university that the current leader of the executive body of Hong Kong attended located?', '4hop_answer': 'Beijing'}\n",
      "subject: Hong Kong, relation: twinned administrative body, {'2hop_question': 'What is the capital city of a twinned administrative body of Hong Kong?', '2hop_answer': 'London', '3hop_question': 'Which famous landmark is located in the capital city of a twinned administrative body of Hong Kong?', '3hop_answer': 'Big Ben', '4hop_question': 'Who designed the famous landmark located in the capital city of a twinned administrative body of Hong Kong?', '4hop_answer': 'Augustus Pugin'}\n",
      "subject: Hong Kong, relation: official language, {'2hop_question': 'What is the primary medium of instruction in schools where the official language of Hong Kong is used?', '2hop_answer': 'Cantonese', '3hop_question': 'Which country is the primary medium of instruction in schools where the official language of Hong Kong is used predominantly spoken?', '3hop_answer': 'China', '4hop_question': 'What is the capital city of the country where the primary medium of instruction in schools using the official language of Hong Kong is predominantly spoken?', '4hop_answer': 'Beijing'}\n",
      "subject: Hong Kong, relation: diplomatic relation, {'2hop_question': 'Which country has a diplomatic relation with Hong Kong?', '2hop_answer': 'China', '3hop_question': 'Who is the current leader of the country that has a diplomatic relation with Hong Kong?', '3hop_answer': 'Xi Jinping', '4hop_question': 'What is the capital city of the country whose current leader is Xi Jinping?', '4hop_answer': 'Beijing'}\n",
      "subject: Hong Kong, relation: twinned administrative body, {'2hop_question': 'What is the capital of the twinned administrative body of Hong Kong?', '2hop_answer': 'London', '3hop_question': 'Who is the mayor of the capital of the twinned administrative body of Hong Kong?', '3hop_answer': 'Sadiq Khan', '4hop_question': 'What is the official residence of the mayor of the capital of the twinned administrative body of Hong Kong?', '4hop_answer': 'Mansion House'}\n",
      "subject: Crotone, relation: patron saint, {'2hop_question': 'What is the feast day of the patron saint of Crotone?', '2hop_answer': 'April 30', '3hop_question': 'Which church is dedicated to the patron saint of Crotone?', '3hop_answer': 'Cathedral of Saint Dionysius the Areopagite', '4hop_question': 'In which Italian region is the church dedicated to the patron saint of Crotone located?', '4hop_answer': 'Calabria'}\n",
      "subject: Sosúa, relation: twinned administrative body, {'2hop_question': 'What is the population of the city that is twinned with Sosúa?', '2hop_answer': 'Approximately 1.5 million (assuming the twin city is Miami, Florida)', '3hop_question': 'What is the name of the mayor of the city that is twinned with Sosúa?', '3hop_answer': 'Francis X. Suarez (assuming the twin city is Miami, Florida)', '4hop_question': 'What is the name of the university where the mayor of the city twinned with Sosúa completed their undergraduate studies?', '4hop_answer': 'Florida International University (assuming the twin city is Miami, Florida)'}\n",
      "subject: Russia, relation: diplomatic relation, {'2hop_question': 'Which country has a diplomatic relation with Russia?', '2hop_answer': 'China', '3hop_question': 'Who is the current president of the country that has a diplomatic relation with Russia?', '3hop_answer': 'Xi Jinping', '4hop_question': 'What is the capital city of the country whose president is Xi Jinping?', '4hop_answer': 'Beijing'}\n",
      "subject: Styphnolobium japonicum, relation: official symbol, {'2hop_question': 'Which country has Styphnolobium japonicum as an official symbol?', '2hop_answer': 'Japan', '3hop_question': 'What is the capital city of the country that has Styphnolobium japonicum as an official symbol?', '3hop_answer': 'Tokyo', '4hop_question': 'What is the population of the capital city of the country that has Styphnolobium japonicum as an official symbol?', '4hop_answer': 'Approximately 14 million'}\n",
      "subject: Vestfold, relation: twinned administrative body, {'2hop_question': 'What is the capital of the twinned administrative body of Vestfold?', '2hop_answer': 'Tønsberg', '3hop_question': 'Which country is the capital of the twinned administrative body of Vestfold located in?', '3hop_answer': 'Norway', '4hop_question': 'What is the population of the country where the capital of the twinned administrative body of Vestfold is located?', '4hop_answer': 'Approximately 5.4 million'}\n",
      "subject: Oryol, relation: twinned administrative body, {'2hop_question': \"What is the capital city of the country where Oryol's twinned administrative body is located?\", '2hop_answer': 'Warsaw', '3hop_question': \"What is the population of the capital city of the country where Oryol's twinned administrative body is located?\", '3hop_answer': '1.8 million', '4hop_question': \"What is the name of the river that flows through the capital city of the country where Oryol's twinned administrative body is located?\", '4hop_answer': 'Vistula'}\n",
      "subject: Alicante, relation: patron saint, {'2hop_question': 'What is the feast day of the patron saint of Alicante?', '2hop_answer': 'December 6', '3hop_question': 'Which church in Alicante is dedicated to the patron saint of the city?', '3hop_answer': 'Concatedral de San Nicolás', '4hop_question': 'In which year was the church dedicated to the patron saint of Alicante consecrated?', '4hop_answer': '1662'}\n",
      "subject: Alicante, relation: twinned administrative body, {'2hop_question': 'What is the capital city of the country where a twinned administrative body of Alicante is located?', '2hop_answer': 'Bucharest', '3hop_question': 'What is the population of the capital city of the country where a twinned administrative body of Alicante is located?', '3hop_answer': '1.83 million', '4hop_question': 'What is the name of the river that flows through the capital city of the country where a twinned administrative body of Alicante is located?', '4hop_answer': 'Dâmbovița River'}\n",
      "subject: Storo, relation: twinned administrative body, {'2hop_question': 'What is the population of the twinned administrative body of Storo?', '2hop_answer': 'Approximately 5,000', '3hop_question': 'What is the main language spoken in the twinned administrative body of Storo?', '3hop_answer': 'Italian', '4hop_question': 'What is the most popular tourist attraction in the twinned administrative body of Storo?', '4hop_answer': 'Lake Idro'}\n",
      "subject: Chungju, relation: twinned administrative body, {'2hop_question': 'What is the population of the twinned administrative body of Chungju?', '2hop_answer': 'Approximately 1.5 million', '3hop_question': 'What is the main language spoken in the twinned administrative body of Chungju?', '3hop_answer': 'Japanese', '4hop_question': 'What is the most famous historical site in the twinned administrative body of Chungju?', '4hop_answer': 'Himeji Castle'}\n",
      "subject: Toulon, relation: twinned administrative body, {'2hop_question': 'What is the capital city of the country where a twinned administrative body of Toulon is located?', '2hop_answer': 'Berlin', '3hop_question': 'What is the population of the capital city of the country where a twinned administrative body of Toulon is located?', '3hop_answer': '3.6 million', '4hop_question': 'What is the name of the major international airport in the capital city of the country where a twinned administrative body of Toulon is located?', '4hop_answer': 'Berlin Brandenburg Airport'}\n",
      "subject: Tienen, relation: twinned administrative body, {'2hop_question': 'What is the population of the city that is twinned with Tienen?', '2hop_answer': 'Approximately 50,000', '3hop_question': 'What is the main language spoken in the city that is twinned with Tienen?', '3hop_answer': 'German', '4hop_question': 'What is the name of the mayor of the city that is twinned with Tienen?', '4hop_answer': 'Peter Tschentscher'}\n",
      "subject: Baguio, relation: twinned administrative body, {'2hop_question': 'What is the capital city of the country where a twinned administrative body of Baguio is located?', '2hop_answer': 'Seoul', '3hop_question': 'What is the population of the capital city of the country where a twinned administrative body of Baguio is located?', '3hop_answer': '9.7 million', '4hop_question': 'What is the name of the river that flows through the capital city of the country where a twinned administrative body of Baguio is located?', '4hop_answer': 'Han River'}\n",
      "subject: Chichester, relation: country, {'2hop_question': 'What is the capital of the country where Chichester is located?', '2hop_answer': 'London', '3hop_question': 'Which river flows through the capital of the country where Chichester is located?', '3hop_answer': 'River Thames', '4hop_question': 'What is the length of the river that flows through the capital of the country where Chichester is located?', '4hop_answer': '215 miles'}\n",
      "subject: Pasadena, relation: twinned administrative body, {'2hop_question': \"What is the capital city of the country where Pasadena's twinned administrative body is located?\", '2hop_answer': 'Tallinn', '3hop_question': \"What is the population of the capital city of the country where Pasadena's twinned administrative body is located?\", '3hop_answer': '437,619', '4hop_question': \"What is the area in square kilometers of the capital city of the country where Pasadena's twinned administrative body is located?\", '4hop_answer': '159.2'}\n",
      "subject: Changsha, relation: twinned administrative body, {'2hop_question': 'What is the capital city of the country that has a twinned administrative body with Changsha?', '2hop_answer': 'Tokyo', '3hop_question': 'What is the population of the capital city of the country that has a twinned administrative body with Changsha?', '3hop_answer': 'Approximately 14 million', '4hop_question': 'What is the name of the famous tower located in the capital city of the country that has a twinned administrative body with Changsha?', '4hop_answer': 'Tokyo Tower'}\n",
      "subject: Huéscar, relation: twinned administrative body, {'2hop_question': 'What is the name of the twinned administrative body of Huéscar?', '2hop_answer': 'Bruges', '3hop_question': 'In which country is the twinned administrative body of Huéscar located?', '3hop_answer': 'Belgium', '4hop_question': 'What is the official language of the country where the twinned administrative body of Huéscar is located?', '4hop_answer': 'Dutch'}\n",
      "subject: Bregenz, relation: office held by head of government, {'2hop_question': 'Who is the current head of government holding office in Bregenz?', '2hop_answer': 'Markus Linhart', '3hop_question': 'Which political party does the current head of government holding office in Bregenz belong to?', '3hop_answer': \"Austrian People's Party\", '4hop_question': 'When was the political party of the current head of government holding office in Bregenz founded?', '4hop_answer': '1945'}\n",
      "subject: Bregenz, relation: twinned administrative body, {'2hop_question': 'What is the country of the twinned administrative body of Bregenz?', '2hop_answer': 'Germany', '3hop_question': 'What is the population of the country of the twinned administrative body of Bregenz?', '3hop_answer': '83 million', '4hop_question': 'What is the capital city of the country with a population of 83 million that is twinned with Bregenz?', '4hop_answer': 'Berlin'}\n",
      "subject: Battle of Tours, relation: significant event, {'2hop_question': 'Who was the leader of the forces that won the Battle of Tours?', '2hop_answer': 'Charles Martel', '3hop_question': 'What title did Charles Martel hold after the significant event of the Battle of Tours?', '3hop_answer': 'Mayor of the Palace', '4hop_question': 'In which kingdom did Charles Martel hold the title of Mayor of the Palace after the significant event of the Battle of Tours?', '4hop_answer': 'Frankish Kingdom'}\n",
      "subject: Birmingham, relation: country, {'2hop_question': 'What is the official language of the country where Birmingham is located?', '2hop_answer': 'English', '3hop_question': 'Who is the current monarch of the country where Birmingham is located?', '3hop_answer': 'King Charles III', '4hop_question': 'What is the capital city of the country where the current monarch, King Charles III, resides?', '4hop_answer': 'London'}\n",
      "subject: Forsythia, relation: official symbol, {'2hop_question': 'Which state has Forsythia as its official symbol?', '2hop_answer': 'New Jersey', '3hop_question': 'What is the capital of the state that has Forsythia as its official symbol?', '3hop_answer': 'Trenton', '4hop_question': 'Which river flows through the capital of the state that has Forsythia as its official symbol?', '4hop_answer': 'Delaware River'}\n",
      "subject: Bruck an der Leitha, relation: twinned administrative body, {'2hop_question': 'What is the population of the twinned administrative body of Bruck an der Leitha?', '2hop_answer': 'Approximately 20,000', '3hop_question': 'What is the main language spoken in the twinned administrative body of Bruck an der Leitha?', '3hop_answer': 'German', '4hop_question': 'What is a notable historical landmark in the twinned administrative body of Bruck an der Leitha?', '4hop_answer': \"St. Stephen's Cathedral\"}\n",
      "subject: Joensuu, relation: twinned administrative body, {'2hop_question': \"What is the capital city of the country where Joensuu's twinned administrative body is located?\", '2hop_answer': 'Tallinn', '3hop_question': \"What is the population of the capital city of the country where Joensuu's twinned administrative body is located?\", '3hop_answer': '437,619', '4hop_question': \"What is the name of the major university located in the capital city of the country where Joensuu's twinned administrative body is located?\", '4hop_answer': 'University of Tartu'}\n",
      "subject: Hamilton, relation: country, {'2hop_question': 'What is the official language of the country where Hamilton is located?', '2hop_answer': 'English', '3hop_question': 'Who is the current prime minister of the country where Hamilton is located?', '3hop_answer': 'Justin Trudeau', '4hop_question': 'What is the capital city of the country where Hamilton is located?', '4hop_answer': 'Ottawa'}\n",
      "subject: Hamilton, relation: located in the administrative territorial entity, {'2hop_question': 'What is the population of the administrative territorial entity where Hamilton is located?', '2hop_answer': '536,917 (as of 2021)', '3hop_question': 'What is the name of the mayor of the administrative territorial entity where Hamilton is located?', '3hop_answer': 'Fred Eisenberger', '4hop_question': 'What is the name of the university located in the administrative territorial entity where Hamilton is located?', '4hop_answer': 'McMaster University'}\n",
      "subject: Novelda, relation: twinned administrative body, {'2hop_question': 'What is the population of the city that is twinned with Novelda?', '2hop_answer': 'Approximately 20,000', '3hop_question': 'What is the main language spoken in the city that is twinned with Novelda?', '3hop_answer': 'French', '4hop_question': 'What is a famous landmark in the city where the main language is French and is twinned with Novelda?', '4hop_answer': 'The Château de la Motte'}\n",
      "subject: Tongeren, relation: head of government, {'2hop_question': 'Who is the spouse of the head of government of Tongeren?', '2hop_answer': 'Inge Claes', '3hop_question': 'What is the profession of the spouse of the head of government of Tongeren?', '3hop_answer': 'Teacher', '4hop_question': 'Which school does the spouse of the head of government of Tongeren work at?', '4hop_answer': 'Sint-Jan Berchmanscollege'}\n",
      "subject: San Cristóbal Ecatepec, relation: twinned administrative body, {'2hop_question': 'What is the population of the city that is twinned with San Cristóbal Ecatepec?', '2hop_answer': '1.5 million', '3hop_question': 'What is the main language spoken in the city that is twinned with San Cristóbal Ecatepec?', '3hop_answer': 'Spanish', '4hop_question': 'What is the most popular tourist attraction in the city that is twinned with San Cristóbal Ecatepec?', '4hop_answer': 'The historic city center'}\n",
      "subject: New Year's Day, relation: public holiday, {'2hop_question': \"Which country celebrates New Year's Day as a public holiday?\", '2hop_answer': 'United States', '3hop_question': \"What is a traditional food eaten in the country that celebrates New Year's Day as a public holiday?\", '3hop_answer': 'Black-eyed peas', '4hop_question': \"What is the significance of eating black-eyed peas in the country that celebrates New Year's Day as a public holiday?\", '4hop_answer': 'They are believed to bring good luck and prosperity.'}\n",
      "subject: Charlottenburg-Wilmersdorf, relation: twinned administrative body, {'2hop_question': \"What is the capital city of the country where Charlottenburg-Wilmersdorf's twinned administrative body is located?\", '2hop_answer': 'Paris', '3hop_question': \"What is the population of the capital city of the country where Charlottenburg-Wilmersdorf's twinned administrative body is located?\", '3hop_answer': '2.1 million', '4hop_question': \"What is the name of the river that flows through the capital city of the country where Charlottenburg-Wilmersdorf's twinned administrative body is located?\", '4hop_answer': 'Seine'}\n",
      "subject: Belfast, relation: country, {'2hop_question': 'What is the official language of the country where Belfast is located?', '2hop_answer': 'English', '3hop_question': 'Who is the current monarch of the country where Belfast is located?', '3hop_answer': 'Charles III', '4hop_question': 'What is the birth year of the current monarch of the country where Belfast is located?', '4hop_answer': '1948'}\n",
      "subject: Charlotte, relation: twinned administrative body, {'2hop_question': 'What is the capital city of the twinned administrative body of Charlotte?', '2hop_answer': 'Stuttgart', '3hop_question': 'Which river flows through the capital city of the twinned administrative body of Charlotte?', '3hop_answer': 'Neckar River', '4hop_question': 'What is the length of the river that flows through the capital city of the twinned administrative body of Charlotte?', '4hop_answer': '367 kilometers'}\n",
      "subject: Kabul River, relation: located in or next to body of water, {'2hop_question': 'Which major city is located next to the Kabul River?', '2hop_answer': 'Kabul', '3hop_question': 'What is the population of the major city located next to the Kabul River?', '3hop_answer': '4.6 million', '4hop_question': 'What is the name of the international airport located in the major city next to the Kabul River?', '4hop_answer': 'Hamid Karzai International Airport'}\n",
      "subject: Maracaibo, relation: founded by, {'2hop_question': 'Who was the founder of Maracaibo?', '2hop_answer': 'Ambrosio Alfinger', '3hop_question': 'What was the nationality of the founder of Maracaibo?', '3hop_answer': 'German', '4hop_question': 'Which empire did the German founder of Maracaibo serve?', '4hop_answer': 'Spanish Empire'}\n",
      "subject: Josip Broz Tito, relation: named after, {'2hop_question': 'What is the capital city of the country that has a city named after Josip Broz Tito?', '2hop_answer': 'Belgrade', '3hop_question': 'Which river flows through the capital city of the country that has a city named after Josip Broz Tito?', '3hop_answer': 'Danube', '4hop_question': 'What is the length of the river that flows through the capital city of the country that has a city named after Josip Broz Tito?', '4hop_answer': '2,850 kilometers'}\n",
      "subject: Thomas Aquinas, relation: patron saint, {'2hop_question': 'What is the field of study for which Thomas Aquinas is the patron saint?', '2hop_answer': 'Education', '3hop_question': 'Which famous university is known for its strong programs in the field of study for which Thomas Aquinas is the patron saint?', '3hop_answer': 'Harvard University', '4hop_question': 'In which city is the famous university located that is known for its strong programs in the field of study for which Thomas Aquinas is the patron saint?', '4hop_answer': 'Cambridge'}\n",
      "subject: Saint-Maur-des-Fossés, relation: twinned administrative body, {'2hop_question': 'What is the name of a city that is twinned with Saint-Maur-des-Fossés?', '2hop_answer': 'Zug', '3hop_question': 'What is the official language spoken in the city that is twinned with Saint-Maur-des-Fossés?', '3hop_answer': 'German', '4hop_question': 'What is the population of the city where the official language is German and is twinned with Saint-Maur-des-Fossés?', '4hop_answer': '30,000'}\n",
      "subject: Stockholm, relation: named after, {'2hop_question': 'Who is Stockholm named after?', '2hop_answer': 'Birger Jarl', '3hop_question': 'What title did the person Stockholm is named after hold?', '3hop_answer': 'Jarl of Sweden', '4hop_question': 'In which century did the person Stockholm is named after hold the title of Jarl of Sweden?', '4hop_answer': '13th century'}\n",
      "subject: Stockholm, relation: significant event, {'2hop_question': 'What is the name of the significant event that took place in Stockholm in 1912?', '2hop_answer': '1912 Summer Olympics', '3hop_question': 'Which famous athlete won multiple gold medals at the significant event that took place in Stockholm in 1912?', '3hop_answer': 'Jim Thorpe', '4hop_question': 'In which country was the famous athlete who won multiple gold medals at the significant event in Stockholm in 1912 born?', '4hop_answer': 'United States'}\n",
      "subject: Selinunte, relation: culture, {'2hop_question': 'What is a notable architectural structure associated with the culture of Selinunte?', '2hop_answer': 'Temple of Hera', '3hop_question': 'Who was the deity worshipped in the notable architectural structure associated with the culture of Selinunte?', '3hop_answer': 'Hera', '4hop_question': 'What is the Roman equivalent of the deity worshipped in the notable architectural structure associated with the culture of Selinunte?', '4hop_answer': 'Juno'}\n",
      "subject: Selinunte, relation: founded by, {'2hop_question': 'Who founded Selinunte and what was their origin?', '2hop_answer': 'Megara Hyblaea, a Greek colony', '3hop_question': 'Who was the leader of Megara Hyblaea when Selinunte was founded?', '3hop_answer': 'Pammilus', '4hop_question': 'Which famous ancient Greek city was the mother city of Megara Hyblaea?', '4hop_answer': 'Megara'}\n",
      "subject: Selinunte, relation: located in the administrative territorial entity, {'2hop_question': 'What is the capital of the administrative territorial entity where Selinunte is located?', '2hop_answer': 'Palermo', '3hop_question': 'Which famous cathedral is located in the capital of the administrative territorial entity where Selinunte is located?', '3hop_answer': 'Palermo Cathedral', '4hop_question': 'Who was the architect of the famous cathedral located in the capital of the administrative territorial entity where Selinunte is located?', '4hop_answer': 'Walter Ophamil'}\n",
      "subject: Chester, relation: country, {'2hop_question': 'What is the capital of the country where Chester is located?', '2hop_answer': 'London', '3hop_question': 'What is the population of the capital of the country where Chester is located?', '3hop_answer': 'Approximately 9 million', '4hop_question': 'What is the most famous landmark in the capital of the country where Chester is located?', '4hop_answer': 'Big Ben'}\n",
      "subject: East Lansing, relation: twinned administrative body, {'2hop_question': 'What is the capital city of the country where the twinned administrative body of East Lansing is located?', '2hop_answer': 'Dar es Salaam', '3hop_question': 'What is the population of the capital city of the country where the twinned administrative body of East Lansing is located?', '3hop_answer': '6.7 million', '4hop_question': 'What is the main language spoken in the capital city of the country where the twinned administrative body of East Lansing is located?', '4hop_answer': 'Swahili'}\n",
      "subject: Biarritz, relation: twinned administrative body, {'2hop_question': 'What is the country of the twinned administrative body of Biarritz?', '2hop_answer': 'Germany', '3hop_question': 'What is the population of the country of the twinned administrative body of Biarritz?', '3hop_answer': 'Approximately 83 million', '4hop_question': 'What is the capital city of the country of the twinned administrative body of Biarritz?', '4hop_answer': 'Berlin'}\n",
      "subject: Uvs Province, relation: twinned administrative body, {'2hop_question': 'What is the capital of the twinned administrative body of Uvs Province?', '2hop_answer': 'Kyzyl', '3hop_question': 'Which river flows through the capital of the twinned administrative body of Uvs Province?', '3hop_answer': 'Yenisei River', '4hop_question': 'In which country is the river that flows through the capital of the twinned administrative body of Uvs Province located?', '4hop_answer': 'Russia'}\n",
      "subject: Alūksne, relation: twinned administrative body, {'2hop_question': 'What is the population of a city that is a twinned administrative body of Alūksne?', '2hop_answer': 'Approximately 50,000 (assuming a twinned city like Võru, Estonia)', '3hop_question': 'What is the main language spoken in the city that is a twinned administrative body of Alūksne?', '3hop_answer': 'Estonian (assuming a twinned city like Võru, Estonia)', '4hop_question': 'What is the name of the national park located near the city that is a twinned administrative body of Alūksne?', '4hop_answer': 'Karula National Park (assuming a twinned city like Võru, Estonia)'}\n",
      "subject: Savonlinna, relation: twinned administrative body, {'2hop_question': 'What is the population of the twinned administrative body of Savonlinna?', '2hop_answer': 'Approximately 50,000', '3hop_question': 'What is the main language spoken in the twinned administrative body of Savonlinna?', '3hop_answer': 'Swedish', '4hop_question': 'What is the name of the mayor of the twinned administrative body of Savonlinna?', '4hop_answer': 'Anna Tenje'}\n",
      "subject: Elista, relation: twinned administrative body, {'2hop_question': 'What is the capital city of the twinned administrative body of Elista?', '2hop_answer': 'Ulaanbaatar', '3hop_question': 'Which country is the capital city of the twinned administrative body of Elista located in?', '3hop_answer': 'Mongolia', '4hop_question': 'What is the population of the country where the capital city of the twinned administrative body of Elista is located?', '4hop_answer': '3.3 million'}\n",
      "subject: Ems, relation: located in or next to body of water, {'2hop_question': 'Which major city is located next to the Ems river?', '2hop_answer': 'Emden', '3hop_question': 'What is the population of the major city located next to the Ems river?', '3hop_answer': 'Approximately 50,000', '4hop_question': 'What is the name of the university located in the major city next to the Ems river?', '4hop_answer': 'University of Applied Sciences Emden/Leer'}\n",
      "subject: Theodor Pfizer, relation: head of government, {'2hop_question': 'Who is the head of government during the time Theodor Pfizer was active?', '2hop_answer': 'Otto von Bismarck', '3hop_question': 'What was the title of the head of government during the time Theodor Pfizer was active?', '3hop_answer': 'Chancellor of Germany', '4hop_question': 'Which empire was the head of government, during the time Theodor Pfizer was active, a part of?', '4hop_answer': 'German Empire'}\n",
      "subject: Middlesbrough, relation: twinned administrative body, {'2hop_question': 'What is the capital city of the twinned administrative body of Middlesbrough?', '2hop_answer': 'Oberhausen', '3hop_question': 'Which country is the capital city of the twinned administrative body of Middlesbrough located in?', '3hop_answer': 'Germany', '4hop_question': 'What is the population of the country where the capital city of the twinned administrative body of Middlesbrough is located?', '4hop_answer': 'Approximately 83 million'}\n",
      "subject: Huntsville, relation: twinned administrative body, {'2hop_question': 'What is the population of the city that is twinned with Huntsville?', '2hop_answer': 'Approximately 1.5 million (for Tainan, Taiwan)', '3hop_question': 'What is the primary language spoken in the city that is twinned with Huntsville?', '3hop_answer': 'Mandarin Chinese (for Tainan, Taiwan)', '4hop_question': 'What is the most famous historical site in the city that is twinned with Huntsville?', '4hop_answer': 'Chihkan Tower (for Tainan, Taiwan)'}\n",
      "subject: Grimsby, relation: twinned administrative body, {'2hop_question': 'What is the population of the twinned administrative body of Grimsby?', '2hop_answer': 'Approximately 200,000', '3hop_question': 'What is the main language spoken in the twinned administrative body of Grimsby?', '3hop_answer': 'German', '4hop_question': 'What is the capital city of the country where the twinned administrative body of Grimsby is located?', '4hop_answer': 'Berlin'}\n",
      "subject: Port of Spain, relation: located in/on physical feature, {'2hop_question': 'What is the country where the Port of Spain is located?', '2hop_answer': 'Trinidad and Tobago', '3hop_question': 'What is the official language of the country where the Port of Spain is located?', '3hop_answer': 'English', '4hop_question': 'What is the population of the country where the official language is English and the Port of Spain is located?', '4hop_answer': 'Approximately 1.4 million'}\n",
      "subject: Port of Spain, relation: twinned administrative body, {'2hop_question': 'What is the capital city of the twinned administrative body of Port of Spain?', '2hop_answer': \"St. George's\", '3hop_question': 'Which country is the capital city of the twinned administrative body of Port of Spain located in?', '3hop_answer': 'Grenada', '4hop_question': 'What is the official language of the country where the capital city of the twinned administrative body of Port of Spain is located?', '4hop_answer': 'English'}\n",
      "subject: Einat Kalisch-Rotem, relation: head of government, {'2hop_question': 'What city is governed by Einat Kalisch-Rotem?', '2hop_answer': 'Haifa', '3hop_question': 'Which country is the city governed by Einat Kalisch-Rotem located in?', '3hop_answer': 'Israel', '4hop_question': 'What is the official language of the country where the city governed by Einat Kalisch-Rotem is located?', '4hop_answer': 'Hebrew'}\n",
      "subject: Hirakawa, relation: twinned administrative body, {'2hop_question': 'What is the name of a city that is twinned with Hirakawa?', '2hop_answer': 'Hirakawa is twinned with cities like Hirosaki in Japan.', '3hop_question': 'What is a notable festival celebrated in the city that is twinned with Hirakawa?', '3hop_answer': 'The Hirosaki Neputa Festival is a notable festival celebrated in Hirosaki.', '4hop_question': 'What is a traditional food associated with the festival celebrated in the city that is twinned with Hirakawa?', '4hop_answer': 'Traditional foods like Tsugaru Niboshi Ramen are associated with the Hirosaki Neputa Festival.'}\n",
      "subject: Valence, relation: twinned administrative body, {'2hop_question': 'What is the population of the city that is twinned with Valence?', '2hop_answer': 'Approximately 200,000', '3hop_question': 'What is the main language spoken in the city that is twinned with Valence?', '3hop_answer': 'German', '4hop_question': 'What is the name of the river that flows through the city that is twinned with Valence?', '4hop_answer': 'Main'}\n",
      "subject: Grudziądz, relation: located in or next to body of water, {'2hop_question': 'What is the name of the river that Grudziądz is located next to?', '2hop_answer': 'Vistula River', '3hop_question': 'Which sea does the river that Grudziądz is located next to flow into?', '3hop_answer': 'Baltic Sea', '4hop_question': 'Which country borders the sea that the river next to Grudziądz flows into?', '4hop_answer': 'Sweden'}\n",
      "subject: Grudziądz, relation: twinned administrative body, {'2hop_question': 'What is the population of the twinned administrative body of Grudziądz?', '2hop_answer': 'Approximately 200,000', '3hop_question': 'What is the main language spoken in the twinned administrative body of Grudziądz?', '3hop_answer': 'German', '4hop_question': 'What is the capital city of the country where the twinned administrative body of Grudziądz is located?', '4hop_answer': 'Berlin'}\n",
      "subject: Lesser Poland, relation: historical region, {'2hop_question': 'What is the capital city of the historical region of Lesser Poland?', '2hop_answer': 'Kraków', '3hop_question': 'Which river flows through the capital city of the historical region of Lesser Poland?', '3hop_answer': 'Vistula', '4hop_question': 'What is the length of the river that flows through the capital city of the historical region of Lesser Poland?', '4hop_answer': '1,047 kilometers'}\n",
      "subject: Truro, relation: country, {'2hop_question': 'What is the official language of the country where Truro is located?', '2hop_answer': 'English', '3hop_question': 'Who is the current monarch of the country where Truro is located?', '3hop_answer': 'Charles III', '4hop_question': 'What is the capital city of the country where the current monarch, Charles III, resides?', '4hop_answer': 'London'}\n",
      "subject: Dushanbe, relation: office held by head of government, {'2hop_question': 'Who is the current head of government of Dushanbe?', '2hop_answer': 'Rustam Emomali', '3hop_question': 'What is the educational background of the current head of government of Dushanbe?', '3hop_answer': 'Tajik National University', '4hop_question': 'In which year was the current head of government of Dushanbe born?', '4hop_answer': '1987'}\n",
      "subject: Dushanbe, relation: named after, {'2hop_question': 'Who was Dushanbe named after?', '2hop_answer': 'Monday', '3hop_question': 'What is the significance of the name of the person after whom Dushanbe was named?', '3hop_answer': \"Dushanbe means 'Monday' in Tajik, named after the day of the week when a market was held.\", '4hop_question': \"In which language does the name of the person after whom Dushanbe was named mean 'Monday'?\", '4hop_answer': 'Tajik'}\n",
      "subject: Buzet, relation: twinned administrative body, {'2hop_question': 'What is the population of the city that is twinned with Buzet?', '2hop_answer': 'Approximately 20,000', '3hop_question': 'What is the main language spoken in the city that is twinned with Buzet?', '3hop_answer': 'French', '4hop_question': 'What is a famous landmark in the city that is twinned with Buzet?', '4hop_answer': 'Château de la Roche-Guyon'}\n",
      "subject: Vratsa, relation: twinned administrative body, {'2hop_question': 'What is the country of the twinned administrative body of Vratsa?', '2hop_answer': 'France', '3hop_question': 'What is the capital city of the country of the twinned administrative body of Vratsa?', '3hop_answer': 'Paris', '4hop_question': 'What is the population of the capital city of the country of the twinned administrative body of Vratsa?', '4hop_answer': 'Approximately 2.1 million'}\n",
      "subject: Algeciras, relation: twinned administrative body, {'2hop_question': 'What is the population of the city that is twinned with Algeciras?', '2hop_answer': 'Approximately 1.5 million (Tangier, Morocco)', '3hop_question': 'What is the official language spoken in the city that is twinned with Algeciras?', '3hop_answer': 'Arabic (Tangier, Morocco)', '4hop_question': 'What is the main religion practiced in the city that is twinned with Algeciras?', '4hop_answer': 'Islam (Tangier, Morocco)'}\n",
      "subject: Fürstenfeldbruck, relation: twinned administrative body, {'2hop_question': 'What is the population of the twinned administrative body of Fürstenfeldbruck?', '2hop_answer': 'Approximately 20,000', '3hop_question': 'What is the main language spoken in the twinned administrative body of Fürstenfeldbruck?', '3hop_answer': 'French', '4hop_question': 'What is the capital city of the country where the twinned administrative body of Fürstenfeldbruck is located?', '4hop_answer': 'Paris'}\n",
      "subject: Montichiari, relation: twinned administrative body, {'2hop_question': 'What is the population of the twinned administrative body of Montichiari?', '2hop_answer': 'Approximately 20,000', '3hop_question': 'What is the main language spoken in the twinned administrative body of Montichiari?', '3hop_answer': 'French', '4hop_question': 'What is a famous landmark in the twinned administrative body of Montichiari?', '4hop_answer': 'The Château de la Roche'}\n",
      "subject: France, relation: diplomatic relation, {'2hop_question': 'Which country has a strong diplomatic relation with France?', '2hop_answer': 'Germany', '3hop_question': 'Who is the current leader of the country that has a strong diplomatic relation with France?', '3hop_answer': 'Olaf Scholz', '4hop_question': 'What is the capital city of the country whose current leader is Olaf Scholz?', '4hop_answer': 'Berlin'}\n",
      "subject: Gwangju, relation: twinned administrative body, {'2hop_question': 'What is the capital city of a country that has a twinned administrative body with Gwangju?', '2hop_answer': 'Washington, D.C.', '3hop_question': 'Which famous monument is located in the capital city of a country that has a twinned administrative body with Gwangju?', '3hop_answer': 'Lincoln Memorial', '4hop_question': 'Who was the architect of the famous monument located in the capital city of a country that has a twinned administrative body with Gwangju?', '4hop_answer': 'Henry Bacon'}\n",
      "subject: Azov, relation: twinned administrative body, {'2hop_question': 'What is the population of the city that is twinned with Azov?', '2hop_answer': 'Approximately 1.5 million (for Rostov-on-Don)', '3hop_question': 'What is a major river that flows through the city twinned with Azov?', '3hop_answer': 'Don River', '4hop_question': 'What is the length of the river that flows through the city twinned with Azov?', '4hop_answer': '1,870 kilometers'}\n",
      "subject: Modena, relation: patron saint, {'2hop_question': 'What is the feast day of the patron saint of Modena?', '2hop_answer': 'January 31', '3hop_question': 'Which church is dedicated to the patron saint of Modena?', '3hop_answer': 'Modena Cathedral', '4hop_question': 'In which architectural style is the church dedicated to the patron saint of Modena built?', '4hop_answer': 'Romanesque'}\n",
      "subject: Modena, relation: twinned administrative body, {'2hop_question': 'What is the capital city of the country where a twinned administrative body of Modena is located?', '2hop_answer': 'Berlin', '3hop_question': 'What is the population of the capital city of the country where a twinned administrative body of Modena is located?', '3hop_answer': '3.6 million', '4hop_question': 'What is the name of the river that flows through the capital city of the country where a twinned administrative body of Modena is located?', '4hop_answer': 'Spree'}\n",
      "subject: Coatbridge, relation: twinned administrative body, {'2hop_question': 'What is the name of the twinned administrative body of Coatbridge?', '2hop_answer': 'St. Denis', '3hop_question': 'Which country is the twinned administrative body of Coatbridge located in?', '3hop_answer': 'France', '4hop_question': 'What is the official language spoken in the country where the twinned administrative body of Coatbridge is located?', '4hop_answer': 'French'}\n",
      "subject: Karaganda, relation: twinned administrative body, {'2hop_question': 'What is the twinned administrative body of Karaganda?', '2hop_answer': 'Ufa', '3hop_question': 'What is the population of the twinned administrative body of Karaganda?', '3hop_answer': '1.1 million', '4hop_question': 'What is the name of the river that flows through the twinned administrative body of Karaganda?', '4hop_answer': 'Belaya River'}\n",
      "subject: Windsor, relation: country, {'2hop_question': 'Who is the current monarch of the country where Windsor is located?', '2hop_answer': 'King Charles III', '3hop_question': 'What is the name of the primary residence of the current monarch of the country where Windsor is located?', '3hop_answer': 'Buckingham Palace', '4hop_question': 'In which city is the primary residence of the current monarch of the country where Windsor is located?', '4hop_answer': 'London'}\n",
      "subject: Gela, relation: twinned administrative body, {'2hop_question': 'What is the name of a city that is a twinned administrative body with Gela?', '2hop_answer': 'Pforzheim', '3hop_question': 'What is the population of the city that is a twinned administrative body with Gela?', '3hop_answer': 'Approximately 125,000', '4hop_question': 'What is the name of the river that flows through the city that is a twinned administrative body with Gela?', '4hop_answer': 'Enz'}\n",
      "subject: Burgas Municipality, relation: twinned administrative body, {'2hop_question': 'What is the capital city of a country that has a twinned administrative body with Burgas Municipality?', '2hop_answer': 'Athens', '3hop_question': 'What is a famous historical landmark in the capital city of a country that has a twinned administrative body with Burgas Municipality?', '3hop_answer': 'Acropolis of Athens', '4hop_question': 'Which ancient civilization is associated with the famous historical landmark in the capital city of a country that has a twinned administrative body with Burgas Municipality?', '4hop_answer': 'Ancient Greece'}\n",
      "subject: Dazhou, relation: twinned administrative body, {'2hop_question': 'What is the population of the twinned administrative body of Dazhou?', '2hop_answer': 'Approximately 1.5 million', '3hop_question': 'What is the main language spoken in the twinned administrative body of Dazhou?', '3hop_answer': 'Mandarin Chinese', '4hop_question': 'What is a famous landmark in the twinned administrative body of Dazhou?', '4hop_answer': 'Mount Emei'}\n",
      "subject: Nogales, relation: twinned administrative body, {'2hop_question': 'What is the population of the city that is twinned with Nogales?', '2hop_answer': '220,292', '3hop_question': 'What is the main economic activity of the city that is twinned with Nogales?', '3hop_answer': 'Manufacturing', '4hop_question': 'Which country is the main trading partner of the city that is twinned with Nogales?', '4hop_answer': 'United States'}\n",
      "subject: Regina, relation: named after, {'2hop_question': 'Who was Regina named after?', '2hop_answer': 'Queen Victoria', '3hop_question': 'What title did the person Regina was named after hold?', '3hop_answer': 'Queen of the United Kingdom', '4hop_question': 'In which year did the person Regina was named after become the Queen of the United Kingdom?', '4hop_answer': '1837'}\n",
      "subject: Kuala Lumpur, relation: present in work, {'2hop_question': 'Which famous landmark in Kuala Lumpur is present in a work of literature?', '2hop_answer': 'Petronas Twin Towers', '3hop_question': 'Who is the author of the work of literature that features a famous landmark in Kuala Lumpur?', '3hop_answer': 'Tash Aw', '4hop_question': 'What is the title of the book written by the author who featured a famous landmark in Kuala Lumpur?', '4hop_answer': 'Five Star Billionaire'}\n",
      "subject: Edirne, relation: twinned administrative body, {'2hop_question': \"What is the capital city of the country where Edirne's twinned administrative body is located?\", '2hop_answer': 'Athens', '3hop_question': \"What is the population of the capital city of the country where Edirne's twinned administrative body is located?\", '3hop_answer': '664,046', '4hop_question': \"What is the name of the major historical landmark in the capital city of the country where Edirne's twinned administrative body is located?\", '4hop_answer': 'Acropolis of Athens'}\n",
      "subject: Sikhism, relation: religion or worldview, {'2hop_question': 'Who is the founder of the religion or worldview of Sikhism?', '2hop_answer': 'Guru Nanak', '3hop_question': 'In which year was the founder of the religion or worldview of Sikhism born?', '3hop_answer': '1469', '4hop_question': 'In which village was the founder of the religion or worldview of Sikhism born?', '4hop_answer': 'Nankana Sahib'}\n",
      "subject: Timbuktu, relation: located in the administrative territorial entity, {'2hop_question': 'What is the capital of the administrative territorial entity where Timbuktu is located?', '2hop_answer': 'Bamako', '3hop_question': 'Which river flows through the capital of the administrative territorial entity where Timbuktu is located?', '3hop_answer': 'Niger River', '4hop_question': 'What is the length of the river that flows through the capital of the administrative territorial entity where Timbuktu is located?', '4hop_answer': '4,180 kilometers'}\n",
      "subject: Timbuktu, relation: heritage designation, {'2hop_question': 'Which organization designated Timbuktu as a heritage site?', '2hop_answer': 'UNESCO', '3hop_question': 'In which year did UNESCO designate Timbuktu as a heritage site?', '3hop_answer': '1988', '4hop_question': 'What is the primary reason UNESCO designated Timbuktu as a heritage site?', '4hop_answer': 'Its historical significance as a center of learning and culture in the 15th and 16th centuries'}\n",
      "subject: Sarajevo, relation: significant event, {'2hop_question': 'Who was assassinated during a significant event in Sarajevo?', '2hop_answer': 'Archduke Franz Ferdinand', '3hop_question': 'Who was the assassin of the person assassinated during a significant event in Sarajevo?', '3hop_answer': 'Gavrilo Princip', '4hop_question': 'Which organization was the assassin of the person assassinated during a significant event in Sarajevo affiliated with?', '4hop_answer': 'Black Hand'}\n",
      "subject: Tsukuba, relation: twinned administrative body, {'2hop_question': 'What is the capital city of the country that has a twinned administrative body with Tsukuba?', '2hop_answer': 'Paris', '3hop_question': 'Which river flows through the capital city of the country that has a twinned administrative body with Tsukuba?', '3hop_answer': 'Seine', '4hop_question': 'What is the length of the river that flows through the capital city of the country that has a twinned administrative body with Tsukuba?', '4hop_answer': '777 kilometers'}\n",
      "subject: Songpa District, relation: twinned administrative body, {'2hop_question': 'What is the capital city of the country where a twinned administrative body of Songpa District is located?', '2hop_answer': 'Tokyo', '3hop_question': 'What is the population of the capital city of the country where a twinned administrative body of Songpa District is located?', '3hop_answer': 'Approximately 14 million', '4hop_question': 'What is the name of the river that flows through the capital city of the country where a twinned administrative body of Songpa District is located?', '4hop_answer': 'Sumida River'}\n",
      "subject: Neolithic, relation: time period, {'2hop_question': 'What is a significant archaeological site from the Neolithic time period?', '2hop_answer': 'Stonehenge', '3hop_question': 'In which country is the significant archaeological site from the Neolithic time period located?', '3hop_answer': 'United Kingdom', '4hop_question': 'What is the nearest city to the significant archaeological site from the Neolithic time period located in the United Kingdom?', '4hop_answer': 'Salisbury'}\n",
      "subject: Chinese New Year, relation: public holiday, {'2hop_question': 'Which country celebrates Chinese New Year as a public holiday?', '2hop_answer': 'China', '3hop_question': 'What is a traditional food eaten during the public holiday of Chinese New Year in China?', '3hop_answer': 'Dumplings', '4hop_question': 'What is the main ingredient in the traditional food eaten during the public holiday of Chinese New Year in China?', '4hop_answer': 'Flour'}\n",
      "subject: Matera, relation: twinned administrative body, {'2hop_question': \"What is the capital city of the country where Matera's twinned administrative body is located?\", '2hop_answer': 'Prague', '3hop_question': \"What is the main river that flows through the capital city of the country where Matera's twinned administrative body is located?\", '3hop_answer': 'Vltava', '4hop_question': \"Which famous bridge spans the main river that flows through the capital city of the country where Matera's twinned administrative body is located?\", '4hop_answer': 'Charles Bridge'}\n",
      "subject: São Paulo, relation: named after, {'2hop_question': 'Who is São Paulo named after?', '2hop_answer': 'Saint Paul', '3hop_question': 'What is the feast day of the person São Paulo is named after?', '3hop_answer': 'January 25', '4hop_question': 'Which event in São Paulo is celebrated on the feast day of the person it is named after?', '4hop_answer': 'Anniversary of the city of São Paulo'}\n",
      "subject: Ōtsu, relation: twinned administrative body, {'2hop_question': 'What is the capital city of the country that has a twinned administrative body with Ōtsu?', '2hop_answer': 'Paris', '3hop_question': 'What is a famous landmark in the capital city of the country that has a twinned administrative body with Ōtsu?', '3hop_answer': 'Eiffel Tower', '4hop_question': 'Who designed the famous landmark in the capital city of the country that has a twinned administrative body with Ōtsu?', '4hop_answer': 'Gustave Eiffel'}\n",
      "subject: Kiruna Municipality, relation: twinned administrative body, {'2hop_question': 'What is the population of the twinned administrative body of Kiruna Municipality?', '2hop_answer': \"Approximately 1.5 million (for Jukkasjärvi, Sweden's twin town Tromsø, Norway)\", '3hop_question': 'What is the main language spoken in the twinned administrative body of Kiruna Municipality?', '3hop_answer': 'Norwegian (for Tromsø, Norway)', '4hop_question': 'What is the name of the university located in the twinned administrative body of Kiruna Municipality?', '4hop_answer': 'UiT The Arctic University of Norway (for Tromsø, Norway)'}\n",
      "subject: Lake Worth Beach, relation: twinned administrative body, {'2hop_question': 'What is the population of the twinned administrative body of Lake Worth Beach?', '2hop_answer': 'Approximately 20,000', '3hop_question': 'What is the primary language spoken in the twinned administrative body of Lake Worth Beach?', '3hop_answer': 'French', '4hop_question': 'What is a famous landmark in the twinned administrative body of Lake Worth Beach?', '4hop_answer': 'The Château de la Napoule'}\n",
      "subject: Kingston upon Hull, relation: country, {'2hop_question': 'What is the official language of the country where Kingston upon Hull is located?', '2hop_answer': 'English', '3hop_question': 'Who is the current monarch of the country where Kingston upon Hull is located?', '3hop_answer': 'Charles III', '4hop_question': 'What is the capital city of the country where the current monarch, Charles III, resides?', '4hop_answer': 'London'}\n",
      "subject: Neustrelitz, relation: twinned administrative body, {'2hop_question': \"What is the capital city of the country where Neustrelitz's twinned administrative body is located?\", '2hop_answer': 'Paris', '3hop_question': \"Which river flows through the capital city of the country where Neustrelitz's twinned administrative body is located?\", '3hop_answer': 'Seine', '4hop_question': \"What is the length of the river that flows through the capital city of the country where Neustrelitz's twinned administrative body is located?\", '4hop_answer': '777 kilometers'}\n",
      "subject: 's-Hertogenbosch, relation: located in the administrative territorial entity, {'2hop_question': \"Who is the mayor of the administrative territorial entity where 's-Hertogenbosch is located?\", '2hop_answer': 'Jack Mikkers', '3hop_question': \"What is the population of the administrative territorial entity where the mayor of 's-Hertogenbosch resides?\", '3hop_answer': '548,000', '4hop_question': \"What is the area in square kilometers of the administrative territorial entity with a population of 548,000 where 's-Hertogenbosch is located?\", '4hop_answer': '3,419 km²'}\n",
      "subject: 's-Hertogenbosch, relation: twinned administrative body, {'2hop_question': \"What is the capital city of the country that 's-Hertogenbosch's twinned administrative body is located in?\", '2hop_answer': 'Berlin', '3hop_question': \"What is the population of the capital city of the country that 's-Hertogenbosch's twinned administrative body is located in?\", '3hop_answer': 'Approximately 3.6 million', '4hop_question': \"What is the name of the famous landmark located in the capital city of the country that 's-Hertogenbosch's twinned administrative body is located in?\", '4hop_answer': 'Brandenburg Gate'}\n",
      "subject: 's-Hertogenbosch, relation: located in the administrative territorial entity, {'2hop_question': \"What is the population of the administrative territorial entity where 's-Hertogenbosch is located?\", '2hop_answer': '2,562,955', '3hop_question': \"What is the area in square kilometers of the administrative territorial entity where 's-Hertogenbosch is located?\", '3hop_answer': '4,919 km²', '4hop_question': \"What is the name of the capital city of the administrative territorial entity where 's-Hertogenbosch is located?\", '4hop_answer': 'Eindhoven'}\n",
      "subject: excommunication, relation: significant event, {'2hop_question': 'Who was a notable figure involved in a significant event of excommunication?', '2hop_answer': 'Martin Luther', '3hop_question': 'What was the name of the document that the notable figure involved in a significant event of excommunication published?', '3hop_answer': 'Ninety-Five Theses', '4hop_question': 'In which year was the document published by the notable figure involved in a significant event of excommunication?', '4hop_answer': '1517'}\n",
      "subject: Santa Cruz de La Palma, relation: twinned administrative body, {'2hop_question': 'What is the population of the city that is twinned with Santa Cruz de La Palma?', '2hop_answer': 'Approximately 1.5 million (assuming the twin city is San Antonio, Texas)', '3hop_question': 'What is the name of the mayor of the city that is twinned with Santa Cruz de La Palma?', '3hop_answer': 'Ron Nirenberg (assuming the twin city is San Antonio, Texas)', '4hop_question': 'What is the name of the high school in the city that is twinned with Santa Cruz de La Palma where the mayor graduated?', '4hop_answer': 'Trinity University (assuming the twin city is San Antonio, Texas)'}\n",
      "subject: Malo-les-Bains, relation: replaces, {'2hop_question': 'What is the name of the place that Malo-les-Bains replaces?', '2hop_answer': 'Rosendaël', '3hop_question': 'Which country is the place that Malo-les-Bains replaces located in?', '3hop_answer': 'France', '4hop_question': 'What is the official language of the country where the place that Malo-les-Bains replaces is located?', '4hop_answer': 'French'}\n",
      "subject: Fujisawa, relation: twinned administrative body, {'2hop_question': \"What is the capital city of the country where Fujisawa's twinned administrative body is located?\", '2hop_answer': 'Warsaw', '3hop_question': \"Which river flows through the capital city of the country where Fujisawa's twinned administrative body is located?\", '3hop_answer': 'Vistula River', '4hop_question': \"What is the length of the river that flows through the capital city of the country where Fujisawa's twinned administrative body is located?\", '4hop_answer': '1,047 kilometers'}\n",
      "subject: Zabrze, relation: patron saint, {'2hop_question': 'What is the feast day of the patron saint of Zabrze?', '2hop_answer': 'November 11', '3hop_question': 'Which church is dedicated to the patron saint of Zabrze?', '3hop_answer': \"St. Joseph's Church\", '4hop_question': 'In which architectural style is the church dedicated to the patron saint of Zabrze built?', '4hop_answer': 'Neo-Gothic'}\n",
      "subject: Philippine Sea, relation: location, {'2hop_question': 'Which country is located near the Philippine Sea?', '2hop_answer': 'Philippines', '3hop_question': 'What is the capital city of the country located near the Philippine Sea?', '3hop_answer': 'Manila', '4hop_question': 'Which famous historical site is located in the capital city of the country near the Philippine Sea?', '4hop_answer': 'Rizal Park'}\n",
      "subject: Pakistan, relation: diplomatic relation, {'2hop_question': 'Which country has a strong diplomatic relation with Pakistan?', '2hop_answer': 'China', '3hop_question': 'What is the capital city of the country that has a strong diplomatic relation with Pakistan?', '3hop_answer': 'Beijing', '4hop_question': 'What is the population of the capital city of the country that has a strong diplomatic relation with Pakistan?', '4hop_answer': '21.54 million'}\n",
      "subject: Edinburgh, relation: country, {'2hop_question': 'What is the official language of the country where Edinburgh is located?', '2hop_answer': 'English', '3hop_question': 'Who is the current monarch of the country where Edinburgh is located?', '3hop_answer': 'Charles III', '4hop_question': 'What is the capital city of the country where the current monarch, Charles III, resides?', '4hop_answer': 'London'}\n",
      "subject: Edinburgh, relation: present in work, {'2hop_question': 'Who is the author of the work in which Edinburgh is present?', '2hop_answer': 'Sir Walter Scott', '3hop_question': 'What is the title of the work authored by Sir Walter Scott in which Edinburgh is present?', '3hop_answer': 'Waverley', '4hop_question': \"In which year was the work titled 'Waverley' by Sir Walter Scott, in which Edinburgh is present, published?\", '4hop_answer': '1814'}\n",
      "subject: Saint Valentine, relation: patron saint, {'2hop_question': 'What is Saint Valentine the patron saint of?', '2hop_answer': 'Love, young people, and happy marriages', '3hop_question': 'Which day is celebrated in honor of the patron saint of love, young people, and happy marriages?', '3hop_answer': 'February 14th', '4hop_question': 'Which Roman emperor was ruling during the time when the day celebrated in honor of the patron saint of love, young people, and happy marriages was established?', '4hop_answer': 'Claudius II'}\n",
      "subject: Saipan, relation: located in the administrative territorial entity, {'2hop_question': 'What is the capital of the administrative territorial entity where Saipan is located?', '2hop_answer': 'Capitol Hill', '3hop_question': 'Which country does the administrative territorial entity where Saipan is located belong to?', '3hop_answer': 'United States', '4hop_question': 'Who is the current president of the country that the administrative territorial entity where Saipan is located belongs to?', '4hop_answer': 'Joe Biden'}\n",
      "subject: Aichi Prefecture, relation: twinned administrative body, {'2hop_question': 'What is the capital city of a twinned administrative body of Aichi Prefecture?', '2hop_answer': 'Los Angeles', '3hop_question': 'Which famous landmark is located in the capital city of a twinned administrative body of Aichi Prefecture?', '3hop_answer': 'Hollywood Sign', '4hop_question': 'Who designed the famous landmark located in the capital city of a twinned administrative body of Aichi Prefecture?', '4hop_answer': 'Thomas Fisk Goff'}\n",
      "subject: Moundou, relation: twinned administrative body, {'2hop_question': 'What is the twinned administrative body of Moundou?', '2hop_answer': 'Saint-Étienne', '3hop_question': 'Who is the mayor of the twinned administrative body of Moundou?', '3hop_answer': 'Gaël Perdriau', '4hop_question': 'Which political party does the mayor of the twinned administrative body of Moundou belong to?', '4hop_answer': 'The Republicans'}\n",
      "subject: Niš, relation: head of government, {'2hop_question': 'Who is the spouse of the head of government of Niš?', '2hop_answer': 'Dragana Bulatović', '3hop_question': 'Which university did the spouse of the head of government of Niš attend for their undergraduate studies?', '3hop_answer': 'University of Niš', '4hop_question': 'In which city is the university that the spouse of the head of government of Niš attended located?', '4hop_answer': 'Niš'}\n",
      "subject: René-Robert Cavelier, Sieur de La Salle, relation: founded by, {'2hop_question': 'Which city was founded by René-Robert Cavelier, Sieur de La Salle?', '2hop_answer': 'New Orleans', '3hop_question': 'Which state is the city founded by René-Robert Cavelier, Sieur de La Salle located in?', '3hop_answer': 'Louisiana', '4hop_question': 'What is the capital of the state where the city founded by René-Robert Cavelier, Sieur de La Salle is located?', '4hop_answer': 'Baton Rouge'}\n",
      "subject: Monheim am Rhein, relation: twinned administrative body, {'2hop_question': \"What is the capital city of the country where Monheim am Rhein's twinned administrative body is located?\", '2hop_answer': 'Paris', '3hop_question': \"What is a famous landmark in the capital city of the country where Monheim am Rhein's twinned administrative body is located?\", '3hop_answer': 'Eiffel Tower', '4hop_question': \"Who designed the famous landmark in the capital city of the country where Monheim am Rhein's twinned administrative body is located?\", '4hop_answer': 'Gustave Eiffel'}\n",
      "subject: Sorong, relation: twinned administrative body, {'2hop_question': 'What is the population of the twinned administrative body of Sorong?', '2hop_answer': 'Approximately 1.8 million', '3hop_question': 'What is the main language spoken in the twinned administrative body of Sorong?', '3hop_answer': 'Indonesian', '4hop_question': 'What is the most popular tourist attraction in the twinned administrative body of Sorong?', '4hop_answer': 'Raja Ampat Islands'}\n",
      "subject: St. Pölten, relation: named after, {'2hop_question': 'Who was St. Pölten named after?', '2hop_answer': 'Saint Hippolytus of Rome', '3hop_question': 'What is the feast day of the person St. Pölten was named after?', '3hop_answer': 'August 13', '4hop_question': 'Which church celebrates the feast day of the person St. Pölten was named after?', '4hop_answer': 'Roman Catholic Church'}\n",
      "subject: Lappeenranta, relation: twinned administrative body, {'2hop_question': 'What is the population of the twinned administrative body of Lappeenranta?', '2hop_answer': 'Approximately 1.5 million (St. Petersburg, Russia)', '3hop_question': 'What is the main river flowing through the twinned administrative body of Lappeenranta?', '3hop_answer': 'Neva River', '4hop_question': 'Which sea does the main river flowing through the twinned administrative body of Lappeenranta empty into?', '4hop_answer': 'Gulf of Finland'}\n",
      "subject: Helmond, relation: located in the administrative territorial entity, {'2hop_question': 'What is the capital of the administrative territorial entity where Helmond is located?', '2hop_answer': \"Den Bosch (or 's-Hertogenbosch)\", '3hop_question': 'Which river flows through the capital of the administrative territorial entity where Helmond is located?', '3hop_answer': 'Dommel', '4hop_question': 'What is the length of the river that flows through the capital of the administrative territorial entity where Helmond is located?', '4hop_answer': '120 kilometers'}\n",
      "subject: Warwick, relation: twinned administrative body, {'2hop_question': 'What is the capital city of the twinned administrative body of Warwick?', '2hop_answer': 'Verden', '3hop_question': 'Which river flows through the capital city of the twinned administrative body of Warwick?', '3hop_answer': 'Aller', '4hop_question': 'What is the length of the river that flows through the capital city of the twinned administrative body of Warwick?', '4hop_answer': '211 km'}\n",
      "subject: Andria, relation: twinned administrative body, {'2hop_question': \"What is the capital city of the country where Andria's twinned administrative body is located?\", '2hop_answer': 'Paris', '3hop_question': \"What is the population of the capital city of the country where Andria's twinned administrative body is located?\", '3hop_answer': '2.1 million', '4hop_question': \"What is the name of the river that flows through the capital city of the country where Andria's twinned administrative body is located?\", '4hop_answer': 'Seine'}\n",
      "subject: Kabul, relation: present in work, {'2hop_question': 'Which author has written a work that is set in Kabul?', '2hop_answer': 'Khaled Hosseini', '3hop_question': 'What is the title of the work written by Khaled Hosseini that is set in Kabul?', '3hop_answer': 'The Kite Runner', '4hop_question': \"In which year was 'The Kite Runner', a work set in Kabul by Khaled Hosseini, published?\", '4hop_answer': '2003'}\n",
      "subject: Hoorn, relation: twinned administrative body, {'2hop_question': 'What is the population of the city that is twinned with Hoorn?', '2hop_answer': 'Approximately 1.3 million (Portsmouth, UK)', '3hop_question': 'What is the name of the university located in the city that is twinned with Hoorn?', '3hop_answer': 'University of Portsmouth', '4hop_question': 'What is the motto of the university located in the city that is twinned with Hoorn?', '4hop_answer': 'Let us follow the light'}\n",
      "subject: Masuda, relation: twinned administrative body, {'2hop_question': 'What is the name of a city that is twinned with Masuda?', '2hop_answer': 'Gyeongju', '3hop_question': 'What is a famous historical site in the city that is twinned with Masuda?', '3hop_answer': 'Bulguksa Temple', '4hop_question': 'In which year was the famous historical site in the city twinned with Masuda designated as a UNESCO World Heritage Site?', '4hop_answer': '1995'}\n",
      "subject: Cuernavaca, relation: twinned administrative body, {'2hop_question': \"What is the capital city of the country where Cuernavaca's twinned administrative body is located?\", '2hop_answer': 'Madrid', '3hop_question': \"What is the main language spoken in the capital city of the country where Cuernavaca's twinned administrative body is located?\", '3hop_answer': 'Spanish', '4hop_question': \"What is the population of the capital city where the main language is Spanish and is the capital of the country where Cuernavaca's twinned administrative body is located?\", '4hop_answer': 'Approximately 3.3 million'}\n",
      "subject: Mali, relation: country, {'2hop_question': 'What is the capital of the country Mali?', '2hop_answer': 'Bamako', '3hop_question': 'Which river flows through the capital of the country Mali?', '3hop_answer': 'Niger River', '4hop_question': 'In which country does the river that flows through the capital of Mali originate?', '4hop_answer': 'Guinea'}\n",
      "subject: Asheville, relation: twinned administrative body, {'2hop_question': \"What is the capital city of the country where Asheville's twinned administrative body is located?\", '2hop_answer': 'San José', '3hop_question': \"What is the population of the capital city of the country where Asheville's twinned administrative body is located?\", '3hop_answer': '342,188', '4hop_question': \"What is the name of the international airport in the capital city of the country where Asheville's twinned administrative body is located?\", '4hop_answer': 'Juan Santamaría International Airport'}\n",
      "subject: Vietnam, relation: diplomatic relation, {'2hop_question': 'Which country has a diplomatic relation with Vietnam and is a member of the European Union?', '2hop_answer': 'Germany', '3hop_question': 'Who is the current chancellor of the country that has a diplomatic relation with Vietnam and is a member of the European Union?', '3hop_answer': 'Olaf Scholz', '4hop_question': 'What is the capital city of the country whose current chancellor is Olaf Scholz?', '4hop_answer': 'Berlin'}\n",
      "subject: Vietnam, relation: country, {'2hop_question': 'What is the capital of the country Vietnam?', '2hop_answer': 'Hanoi', '3hop_question': 'What is the most famous historical site in the capital of the country Vietnam?', '3hop_answer': 'Ho Chi Minh Mausoleum', '4hop_question': 'In which district is the most famous historical site in the capital of the country Vietnam located?', '4hop_answer': 'Ba Dinh District'}\n",
      "subject: Zhangjiakou, relation: twinned administrative body, {'2hop_question': 'What is the population of the twinned administrative body of Zhangjiakou?', '2hop_answer': 'Approximately 1.5 million', '3hop_question': 'What is the main industry in the twinned administrative body of Zhangjiakou?', '3hop_answer': 'Automobile manufacturing', '4hop_question': 'Which major company is headquartered in the twinned administrative body of Zhangjiakou?', '4hop_answer': 'Toyota'}\n",
      "subject: Yeosu, relation: twinned administrative body, {'2hop_question': 'What is the capital city of the country that has a twinned administrative body with Yeosu?', '2hop_answer': 'Tokyo', '3hop_question': 'Which famous landmark is located in the capital city of the country that has a twinned administrative body with Yeosu?', '3hop_answer': 'Tokyo Tower', '4hop_question': 'Who designed the famous landmark located in the capital city of the country that has a twinned administrative body with Yeosu?', '4hop_answer': 'Tachū Naitō'}\n",
      "subject: Netherlands, relation: diplomatic relation, {'2hop_question': 'Which country has a diplomatic relation with the Netherlands?', '2hop_answer': 'Germany', '3hop_question': 'Who is the current leader of the country that has a diplomatic relation with the Netherlands?', '3hop_answer': 'Olaf Scholz', '4hop_question': 'What is the capital city of the country whose current leader is Olaf Scholz?', '4hop_answer': 'Berlin'}\n",
      "subject: Rur, relation: located in or next to body of water, {'2hop_question': 'What is the name of the country where the Rur, which is located in or next to a body of water, flows through?', '2hop_answer': 'Germany', '3hop_question': 'What is the capital city of the country where the Rur, which is located in or next to a body of water, flows through?', '3hop_answer': 'Berlin', '4hop_question': 'What is the population of the capital city of the country where the Rur, which is located in or next to a body of water, flows through?', '4hop_answer': 'Approximately 3.6 million'}\n",
      "subject: Reykjavík, relation: located in the administrative territorial entity, {'2hop_question': 'Who is the mayor of the city that Reykjavík is located in?', '2hop_answer': 'Dagur B. Eggertsson', '3hop_question': 'What is the population of the city where Reykjavík is located?', '3hop_answer': 'Approximately 131,136', '4hop_question': 'What is the name of the country where the city that Reykjavík is located in is situated?', '4hop_answer': 'Iceland'}\n",
      "subject: San Francisco Bay Area, relation: located in statistical territorial entity, {'2hop_question': 'What is the population of the statistical territorial entity in which the San Francisco Bay Area is located?', '2hop_answer': 'Approximately 39.24 million (California)', '3hop_question': 'What is the capital city of the statistical territorial entity in which the San Francisco Bay Area is located?', '3hop_answer': 'Sacramento', '4hop_question': 'Which river flows through the capital city of the statistical territorial entity in which the San Francisco Bay Area is located?', '4hop_answer': 'Sacramento River'}\n",
      "subject: Şanlıurfa, relation: twinned administrative body, {'2hop_question': 'What is the capital city of the country where a twinned administrative body of Şanlıurfa is located?', '2hop_answer': 'Berlin', '3hop_question': 'What is the population of the capital city of the country where a twinned administrative body of Şanlıurfa is located?', '3hop_answer': 'Approximately 3.6 million', '4hop_question': 'What is a famous landmark in the capital city of the country where a twinned administrative body of Şanlıurfa is located?', '4hop_answer': 'Brandenburg Gate'}\n",
      "subject: Kinshasa, relation: founded by, {'2hop_question': 'Who founded Kinshasa?', '2hop_answer': 'Henry Morton Stanley', '3hop_question': 'What nationality was the person who founded Kinshasa?', '3hop_answer': 'British-American', '4hop_question': 'In which year did the British-American explorer who founded Kinshasa die?', '4hop_answer': '1904'}\n",
      "subject: Kinshasa, relation: named after, {'2hop_question': 'Who was Kinshasa named after?', '2hop_answer': 'Chief Ntsasa', '3hop_question': 'What was the original name of the place that was named after Chief Ntsasa?', '3hop_answer': 'Nshasa', '4hop_question': 'In which country is the place originally named Nshasa, which was later named after Chief Ntsasa, located?', '4hop_answer': 'Democratic Republic of the Congo'}\n",
      "subject: Lewes, relation: twinned administrative body, {'2hop_question': 'What is the population of the twinned administrative body of Lewes?', '2hop_answer': 'Approximately 50,000', '3hop_question': 'What is the main language spoken in the twinned administrative body of Lewes?', '3hop_answer': 'French', '4hop_question': 'What is a famous landmark in the twinned administrative body of Lewes?', '4hop_answer': 'Château de Fougères'}\n",
      "subject: Damietta, relation: twinned administrative body, {'2hop_question': \"What is the capital city of the country where Damietta's twinned administrative body is located?\", '2hop_answer': 'Paris', '3hop_question': \"What is the population of the capital city of the country where Damietta's twinned administrative body is located?\", '3hop_answer': '2.1 million', '4hop_question': \"What is a famous landmark in the capital city of the country where Damietta's twinned administrative body is located?\", '4hop_answer': 'Eiffel Tower'}\n",
      "subject: Šumperk, relation: twinned administrative body, {'2hop_question': 'What is the population of the twinned administrative body of Šumperk?', '2hop_answer': 'Approximately 50,000', '3hop_question': 'What is the main language spoken in the twinned administrative body of Šumperk?', '3hop_answer': 'German', '4hop_question': 'What is the name of a famous landmark in the twinned administrative body of Šumperk?', '4hop_answer': \"St. Michael's Church\"}\n",
      "subject: Norwegian, relation: official language, {'2hop_question': 'What is the official language of the country where Norwegian is spoken?', '2hop_answer': 'Norwegian', '3hop_question': 'What is the capital city of the country where Norwegian is the official language?', '3hop_answer': 'Oslo', '4hop_question': 'Which famous museum is located in the capital city of the country where Norwegian is the official language?', '4hop_answer': 'The Viking Ship Museum'}\n",
      "subject: Gijón, relation: twinned administrative body, {'2hop_question': 'What is the capital city of the country where the twinned administrative body of Gijón is located?', '2hop_answer': 'Havana', '3hop_question': 'What is the main language spoken in the capital city of the country where the twinned administrative body of Gijón is located?', '3hop_answer': 'Spanish', '4hop_question': 'What is the population of the capital city where the main language spoken is Spanish and is the capital of the country where the twinned administrative body of Gijón is located?', '4hop_answer': '2.1 million'}\n",
      "subject: Lærdal, relation: twinned administrative body, {'2hop_question': 'What is the population of the twinned administrative body of Lærdal?', '2hop_answer': 'Approximately 5,000', '3hop_question': 'What is the main industry in the twinned administrative body of Lærdal?', '3hop_answer': 'Tourism', '4hop_question': 'What is a famous tourist attraction in the twinned administrative body of Lærdal?', '4hop_answer': 'The stave church'}\n",
      "subject: British Empire, relation: located in the administrative territorial entity, {'2hop_question': 'Which country was located in the administrative territorial entity of the British Empire?', '2hop_answer': 'India', '3hop_question': 'What is the capital city of the country that was located in the administrative territorial entity of the British Empire?', '3hop_answer': 'New Delhi', '4hop_question': 'What is the population of the capital city of the country that was located in the administrative territorial entity of the British Empire?', '4hop_answer': 'Approximately 21 million'}\n",
      "subject: Prostějov, relation: country, {'2hop_question': 'What is the official language of the country where Prostějov is located?', '2hop_answer': 'Czech', '3hop_question': 'Who is the current president of the country where Prostějov is located?', '3hop_answer': 'Petr Pavel', '4hop_question': 'What is the capital city of the country whose current president is Petr Pavel?', '4hop_answer': 'Prague'}\n",
      "subject: Idea leuconoe, relation: official symbol, {'2hop_question': 'Which country has Idea leuconoe as an official symbol?', '2hop_answer': 'Philippines', '3hop_question': 'What is the capital city of the country that has Idea leuconoe as an official symbol?', '3hop_answer': 'Manila', '4hop_question': 'What is the population of the capital city of the country that has Idea leuconoe as an official symbol?', '4hop_answer': '1.78 million'}\n",
      "subject: Kiryat Motzkin, relation: twinned administrative body, {'2hop_question': 'What is the name of a city that is a twinned administrative body with Kiryat Motzkin?', '2hop_answer': 'San Diego', '3hop_question': 'What is a famous zoo located in the city that is a twinned administrative body with Kiryat Motzkin?', '3hop_answer': 'San Diego Zoo', '4hop_question': 'What is the name of the giant panda born at the famous zoo located in the city that is a twinned administrative body with Kiryat Motzkin?', '4hop_answer': 'Xiao Liwu'}\n",
      "subject: Hérault, relation: located in the administrative territorial entity, {'2hop_question': 'What is the capital of the administrative territorial entity where Hérault is located?', '2hop_answer': 'Montpellier', '3hop_question': 'Which famous university is located in the capital of the administrative territorial entity where Hérault is located?', '3hop_answer': 'University of Montpellier', '4hop_question': 'Who is a notable alumni of the famous university located in the capital of the administrative territorial entity where Hérault is located?', '4hop_answer': 'François Rabelais'}\n",
      "subject: Riohacha, relation: twinned administrative body, {'2hop_question': 'What is the capital city of the twinned administrative body of Riohacha?', '2hop_answer': 'Santa Marta', '3hop_question': 'Which country is the capital city of the twinned administrative body of Riohacha located in?', '3hop_answer': 'Colombia', '4hop_question': 'What is the population of the country where the capital city of the twinned administrative body of Riohacha is located?', '4hop_answer': 'Approximately 50 million'}\n",
      "subject: Ebensee, relation: twinned administrative body, {'2hop_question': 'What is the population of the twinned administrative body of Ebensee?', '2hop_answer': 'Approximately 20,000', '3hop_question': 'What is the primary language spoken in the twinned administrative body of Ebensee?', '3hop_answer': 'German', '4hop_question': 'What is the name of the mayor of the twinned administrative body of Ebensee?', '4hop_answer': 'Franz Steindl'}\n",
      "subject: Bilbao, relation: location, {'2hop_question': 'What is the population of the city where Bilbao is located?', '2hop_answer': '345,141 (as of 2021)', '3hop_question': 'What is the name of the river that flows through the city where Bilbao is located?', '3hop_answer': 'Nervión River', '4hop_question': 'What is the length of the river that flows through the city where Bilbao is located?', '4hop_answer': '72 kilometers'}\n",
      "subject: Lviv Oblast, relation: twinned administrative body, {'2hop_question': 'What is the capital city of the twinned administrative body of Lviv Oblast?', '2hop_answer': 'Kraków', '3hop_question': 'Which river flows through the capital city of the twinned administrative body of Lviv Oblast?', '3hop_answer': 'Vistula River', '4hop_question': 'What is the length of the river that flows through the capital city of the twinned administrative body of Lviv Oblast?', '4hop_answer': '1,047 kilometers'}\n",
      "subject: Kwajalein, relation: twinned administrative body, {'2hop_question': 'What is the twinned administrative body of Kwajalein?', '2hop_answer': 'Huntsville, Alabama', '3hop_question': 'What is the population of the twinned administrative body of Kwajalein?', '3hop_answer': 'Approximately 200,574', '4hop_question': 'What is the area code of the twinned administrative body of Kwajalein?', '4hop_answer': '256'}\n",
      "subject: Luang Prabang, relation: twinned administrative body, {'2hop_question': 'What is the capital city of the country where the twinned administrative body of Luang Prabang is located?', '2hop_answer': 'Paris', '3hop_question': 'Which river flows through the capital city of the country where the twinned administrative body of Luang Prabang is located?', '3hop_answer': 'Seine', '4hop_question': 'What is the length of the river that flows through the capital city of the country where the twinned administrative body of Luang Prabang is located?', '4hop_answer': '777 kilometers'}\n",
      "subject: Luang Prabang, relation: located in the administrative territorial entity, {'2hop_question': 'What is the capital of the administrative territorial entity where Luang Prabang is located?', '2hop_answer': 'Vientiane', '3hop_question': 'Which river flows through the capital of the administrative territorial entity where Luang Prabang is located?', '3hop_answer': 'Mekong River', '4hop_question': 'What is the length of the river that flows through the capital of the administrative territorial entity where Luang Prabang is located?', '4hop_answer': '4,350 kilometers'}\n",
      "subject: Luang Prabang, relation: twinned administrative body, {'2hop_question': 'What is the capital city of the country where the twinned administrative body of Luang Prabang is located?', '2hop_answer': 'Paris', '3hop_question': 'What is the population of the capital city of the country where the twinned administrative body of Luang Prabang is located?', '3hop_answer': '2.1 million', '4hop_question': 'What is the name of the river that flows through the capital city of the country where the twinned administrative body of Luang Prabang is located?', '4hop_answer': 'Seine'}\n",
      "subject: St. Johann in Tirol, relation: twinned administrative body, {'2hop_question': 'What is the name of a twinned administrative body of St. Johann in Tirol?', '2hop_answer': 'Fuldabrück', '3hop_question': 'What is the population of the twinned administrative body of St. Johann in Tirol?', '3hop_answer': '8,500', '4hop_question': 'What is the name of the mayor of the twinned administrative body of St. Johann in Tirol?', '4hop_answer': 'Dietrich Möller'}\n",
      "subject: Shiga Prefecture, relation: twinned administrative body, {'2hop_question': 'What is the capital city of a twinned administrative body of Shiga Prefecture?', '2hop_answer': 'Otsu', '3hop_question': 'What is a famous landmark in the capital city of a twinned administrative body of Shiga Prefecture?', '3hop_answer': 'Lake Biwa', '4hop_question': 'What is the surface area of the famous landmark in the capital city of a twinned administrative body of Shiga Prefecture?', '4hop_answer': '670.3 square kilometers'}\n",
      "subject: Warsaw, relation: present in work, {'2hop_question': 'Which famous novel is set in Warsaw?', '2hop_answer': 'The Pianist', '3hop_question': 'Who is the author of the famous novel set in Warsaw?', '3hop_answer': 'Władysław Szpilman', '4hop_question': 'In which year was the author of the famous novel set in Warsaw born?', '4hop_answer': '1911'}\n",
      "subject: Warsaw, relation: head of government, {'2hop_question': 'Who is the spouse of the head of government of Warsaw?', '2hop_answer': 'Małgorzata Trzaskowska', '3hop_question': 'Which university did the spouse of the head of government of Warsaw attend for their undergraduate studies?', '3hop_answer': 'University of Warsaw', '4hop_question': 'In which city is the university that the spouse of the head of government of Warsaw attended located?', '4hop_answer': 'Warsaw'}\n",
      "subject: Rognan, relation: twinned administrative body, {'2hop_question': 'What is the population of the twinned administrative body of Rognan?', '2hop_answer': 'Approximately 5,000', '3hop_question': 'What is the main language spoken in the twinned administrative body of Rognan?', '3hop_answer': 'Norwegian', '4hop_question': 'What is the capital city of the country where the twinned administrative body of Rognan is located?', '4hop_answer': 'Oslo'}\n",
      "subject: Patrice Vergriete, relation: head of government, {'2hop_question': 'What is the official residence of the head of government, Patrice Vergriete?', '2hop_answer': 'Hôtel de Matignon', '3hop_question': 'Who was the architect of the official residence of the head of government, Patrice Vergriete?', '3hop_answer': 'Jean Courtonne', '4hop_question': 'In which year was the official residence of the head of government, Patrice Vergriete, completed?', '4hop_answer': '1725'}\n",
      "subject: Nanchang, relation: twinned administrative body, {'2hop_question': 'What is the capital city of the twinned administrative body of Nanchang?', '2hop_answer': 'Cardiff', '3hop_question': 'Which country is the capital city of the twinned administrative body of Nanchang located in?', '3hop_answer': 'United Kingdom', '4hop_question': 'What is the official language of the country where the capital city of the twinned administrative body of Nanchang is located?', '4hop_answer': 'English'}\n",
      "subject: Zacatecas, relation: twinned administrative body, {'2hop_question': 'What is the capital city of the twinned administrative body of Zacatecas?', '2hop_answer': 'Guadalajara', '3hop_question': 'Which country is the capital city of the twinned administrative body of Zacatecas located in?', '3hop_answer': 'Mexico', '4hop_question': 'What is the population of the country where the capital city of the twinned administrative body of Zacatecas is located?', '4hop_answer': 'Approximately 126 million'}\n",
      "subject: New York City, relation: located in the administrative territorial entity, {'2hop_question': 'What is the capital of the state where New York City is located?', '2hop_answer': 'Albany', '3hop_question': 'Who is the current governor of the state where the capital is Albany?', '3hop_answer': 'Kathy Hochul', '4hop_question': 'Which university did the current governor of the state where the capital is Albany attend for their undergraduate studies?', '4hop_answer': 'Syracuse University'}\n",
      "subject: New York City, relation: named after, {'2hop_question': 'Who was New York City named after?', '2hop_answer': 'Duke of York', '3hop_question': 'What title did the person New York City was named after hold before becoming the Duke of York?', '3hop_answer': 'James, Duke of York, was previously known as James Stuart.', '4hop_question': 'Which royal house did the person New York City was named after belong to?', '4hop_answer': 'House of Stuart'}\n",
      "subject: New York City, relation: head of government, {'2hop_question': 'Who is the spouse of the head of government of New York City?', '2hop_answer': 'Chirlane McCray', '3hop_question': 'What is the profession of the spouse of the head of government of New York City?', '3hop_answer': 'Writer and activist', '4hop_question': 'Which university did the spouse of the head of government of New York City attend?', '4hop_answer': 'Wellesley College'}\n",
      "subject: New York City, relation: significant event, {'2hop_question': 'What is a significant event that took place in New York City?', '2hop_answer': '9/11 attacks', '3hop_question': 'Which building was primarily targeted during the significant event that took place in New York City?', '3hop_answer': 'World Trade Center', '4hop_question': 'Who was the architect of the building that was primarily targeted during the significant event in New York City?', '4hop_answer': 'Minoru Yamasaki'}\n",
      "subject: Ottobrunn, relation: twinned administrative body, {'2hop_question': \"What is the capital city of the country where Ottobrunn's twinned administrative body is located?\", '2hop_answer': 'Paris', '3hop_question': \"What is the population of the capital city of the country where Ottobrunn's twinned administrative body is located?\", '3hop_answer': '2.1 million', '4hop_question': \"What is the most famous landmark in the capital city of the country where Ottobrunn's twinned administrative body is located?\", '4hop_answer': 'Eiffel Tower'}\n",
      "subject: Arizona, relation: twinned administrative body, {'2hop_question': 'What is the capital of the twinned administrative body of Arizona?', '2hop_answer': 'Hermosillo', '3hop_question': 'Which country is the capital of the twinned administrative body of Arizona located in?', '3hop_answer': 'Mexico', '4hop_question': 'What is the official language of the country where the capital of the twinned administrative body of Arizona is located?', '4hop_answer': 'Spanish'}\n",
      "subject: Inverness, relation: located in the administrative territorial entity, {'2hop_question': 'Who is the leader of the administrative territorial entity where Inverness is located?', '2hop_answer': 'Nicola Sturgeon', '3hop_question': 'What is the official residence of the leader of the administrative territorial entity where Inverness is located?', '3hop_answer': 'Bute House', '4hop_question': 'In which city is the official residence of the leader of the administrative territorial entity where Inverness is located?', '4hop_answer': 'Edinburgh'}\n",
      "subject: Inverness, relation: country, {'2hop_question': 'What is the official language of the country where Inverness is located?', '2hop_answer': 'English', '3hop_question': 'Who is the current monarch of the country where Inverness is located?', '3hop_answer': 'Charles III', '4hop_question': 'What is the capital city of the country where the current monarch, Charles III, resides?', '4hop_answer': 'London'}\n",
      "subject: Orly, relation: twinned administrative body, {'2hop_question': 'What is the population of the city that is twinned with Orly?', '2hop_answer': 'Approximately 1.5 million (Houston, Texas)', '3hop_question': 'What is the name of the major airport in the city that is twinned with Orly?', '3hop_answer': 'George Bush Intercontinental Airport', '4hop_question': 'Which airline has its headquarters in the city that is twinned with Orly and operates from the major airport there?', '4hop_answer': 'United Airlines'}\n",
      "subject: Trinidad, relation: located in/on physical feature, {'2hop_question': 'What is the capital city of the country where Trinidad is located?', '2hop_answer': 'Port of Spain', '3hop_question': 'Which famous carnival is held in the capital city of the country where Trinidad is located?', '3hop_answer': 'Trinidad and Tobago Carnival', '4hop_question': 'What is the traditional music genre associated with the famous carnival held in the capital city of the country where Trinidad is located?', '4hop_answer': 'Calypso'}\n",
      "subject: Bergen, relation: head of government, {'2hop_question': 'Who is the spouse of the head of government of Bergen?', '2hop_answer': 'Trude H. Drevland', '3hop_question': 'Which political party does the head of government of Bergen belong to?', '3hop_answer': 'Conservative Party', '4hop_question': 'What is the name of the leader of the political party that the head of government of Bergen belongs to?', '4hop_answer': 'Erna Solberg'}\n",
      "subject: Milan, relation: present in work, {'2hop_question': 'Which famous painting is present in Milan?', '2hop_answer': 'The Last Supper', '3hop_question': 'Who painted the famous painting that is present in Milan?', '3hop_answer': 'Leonardo da Vinci', '4hop_question': 'In which Italian city was the painter of the famous painting present in Milan born?', '4hop_answer': 'Vinci'}\n",
      "subject: Philip of Jesus, relation: patron saint, {'2hop_question': 'What is the feast day of the patron saint Philip of Jesus?', '2hop_answer': 'February 5', '3hop_question': 'Which country primarily celebrates the feast day of the patron saint Philip of Jesus?', '3hop_answer': 'Mexico', '4hop_question': 'What is the capital city of the country that primarily celebrates the feast day of the patron saint Philip of Jesus?', '4hop_answer': 'Mexico City'}\n",
      "subject: Blois, relation: twinned administrative body, {'2hop_question': \"What is the capital city of the country where Blois' twinned administrative body is located?\", '2hop_answer': 'Berlin', '3hop_question': \"What is the population of the capital city of the country where Blois' twinned administrative body is located?\", '3hop_answer': '3.6 million', '4hop_question': \"What is the name of the river that flows through the capital city of the country where Blois' twinned administrative body is located?\", '4hop_answer': 'Spree'}\n",
      "subject: Royal Borough of Greenwich, relation: twinned administrative body, {'2hop_question': 'What is the capital city of the country where the twinned administrative body of the Royal Borough of Greenwich is located?', '2hop_answer': 'Copenhagen', '3hop_question': 'What is the population of the capital city of the country where the twinned administrative body of the Royal Borough of Greenwich is located?', '3hop_answer': '1.3 million', '4hop_question': 'What is the name of the famous statue located in the capital city of the country where the twinned administrative body of the Royal Borough of Greenwich is located?', '4hop_answer': 'The Little Mermaid'}\n",
      "subject: Krosno, relation: twinned administrative body, {'2hop_question': \"What is the capital city of the country where Krosno's twinned administrative body is located?\", '2hop_answer': 'Paris', '3hop_question': \"Which river flows through the capital city of the country where Krosno's twinned administrative body is located?\", '3hop_answer': 'Seine', '4hop_question': \"What is the length of the river that flows through the capital city of the country where Krosno's twinned administrative body is located?\", '4hop_answer': '777 kilometers'}\n",
      "subject: Southampton, relation: country, {'2hop_question': 'What is the official language of the country where Southampton is located?', '2hop_answer': 'English', '3hop_question': 'Who is the current monarch of the country where Southampton is located?', '3hop_answer': 'King Charles III', '4hop_question': 'What is the capital city of the country where the current monarch, King Charles III, resides?', '4hop_answer': 'London'}\n",
      "subject: Majuro, relation: twinned administrative body, {'2hop_question': 'What is the twinned administrative body of Majuro?', '2hop_answer': 'Taipei', '3hop_question': 'What is the official language of the twinned administrative body of Majuro?', '3hop_answer': 'Mandarin Chinese', '4hop_question': 'What is the population of the country where the official language of the twinned administrative body of Majuro is Mandarin Chinese?', '4hop_answer': '1.4 billion'}\n",
      "subject: Tel Aviv, relation: located in the administrative territorial entity, {'2hop_question': 'Who is the mayor of the city that Tel Aviv is located in the administrative territorial entity of?', '2hop_answer': 'Ron Huldai', '3hop_question': 'What is the population of the city whose mayor is Ron Huldai?', '3hop_answer': '460,613', '4hop_question': 'What is the area in square kilometers of the city with a population of 460,613?', '4hop_answer': '52'}\n",
      "subject: Tel Aviv, relation: head of government, {'2hop_question': 'Who is the spouse of the head of government of Tel Aviv?', '2hop_answer': 'Lihi Lapid', '3hop_question': 'What is the profession of the spouse of the head of government of Tel Aviv?', '3hop_answer': 'Author and journalist', '4hop_question': 'Which book was written by the spouse of the head of government of Tel Aviv?', '4hop_answer': 'Woman of Valor'}\n",
      "subject: Tel Aviv, relation: located in the administrative territorial entity, {'2hop_question': 'What is the capital of the administrative territorial entity where Tel Aviv is located?', '2hop_answer': 'Jerusalem', '3hop_question': 'Which river flows through the capital of the administrative territorial entity where Tel Aviv is located?', '3hop_answer': 'Kidron River', '4hop_question': 'What is the length of the river that flows through the capital of the administrative territorial entity where Tel Aviv is located?', '4hop_answer': '32 kilometers'}\n",
      "subject: Kazakhstan, relation: country, {'2hop_question': 'What is the capital of the country Kazakhstan?', '2hop_answer': 'Astana', '3hop_question': 'Which river flows through the capital of the country Kazakhstan?', '3hop_answer': 'Ishim River', '4hop_question': 'In which country does the river that flows through the capital of Kazakhstan originate?', '4hop_answer': 'Russia'}\n"
     ]
    }
   ],
   "source": [
    "client = AzureOpenAI(api_key=load_api_key('api_key_n_central_us'), api_version='2023-05-15', azure_endpoint=\"https://n-central-us.openai.azure.com/\")\n",
    "system_msg_gen_q = \"\"\" \n",
    "Given a subject and a relation, your task is to create 2-hop, 3-hop, and 4-hop questions, along with their correct answers. \\\n",
    "Always use the provided subject and relation to create multi-hop questions, and avoid including any correct answers from other multi-hop questions. \\\n",
    "Output in JSON format. Below is an example:\n",
    "\n",
    "Example input: \n",
    "subject: US, relation: president\n",
    "\n",
    "Example output: \n",
    "{\n",
    "    \"2hop_question\": \"Who is the spouse of the US president?\",\n",
    "    \"2hop_answer\": \"Jill Biden\",\n",
    "    \"3hop_question\": \"Which university did the spouse of the US president attend for their undergraduate studies?\",\n",
    "    \"3hop_answer\": \"University of Delaware\",\n",
    "    \"4hop_question\": \"In which city is the university that the spouse of the US president attended located?\",\n",
    "    \"4hop_answer\": \"Newark\"\n",
    "}\n",
    "\"\"\"\n",
    "\n",
    "ls_2hop_q, ls_2hop_a, ls_3hop_q, ls_3hop_a, ls_4hop_q, ls_4hop_a = ([] for _ in range(6))\n",
    "\n",
    "def generate_questions(df_wh_hallu):\n",
    "    for i in df_wh_hallu.index[:]:\n",
    "        subject, relation, object, question = df_wh_hallu.loc[i, 'subject'], df_wh_hallu.loc[i, 'relation'], df_wh_hallu.loc[i, 'object'], df_wh_hallu.loc[i, 'question']\n",
    "        prompt_gen_q = f\"subject: {subject}, relation: {relation}\"\n",
    "        raw_response = client.chat.completions.create(\n",
    "            model='gpt-4o',  # 'gpt-4o-mini'\n",
    "            messages=[{\"role\": \"system\", \"content\": system_msg_gen_q}, {\"role\": \"user\", \"content\": prompt_gen_q}], \n",
    "            response_format={\"type\": \"json_object\"}, \n",
    "            temperature=0\n",
    "        )\n",
    "        raw_str = raw_response.choices[0].message.content\n",
    "        json_obj = json.loads(raw_str)\n",
    "        print(f\"subject: {subject}, relation: {relation}, {json_obj}\")\n",
    "        ls_2hop_q.append(json_obj['2hop_question'])\n",
    "        ls_2hop_a.append(json_obj['2hop_answer'])\n",
    "        ls_3hop_q.append(json_obj['3hop_question'])\n",
    "        ls_3hop_a.append(json_obj['3hop_answer'])\n",
    "        ls_4hop_q.append(json_obj['4hop_question'])\n",
    "        ls_4hop_a.append(json_obj['4hop_answer'])\n",
    "\n",
    "generate_questions(df_wh_hallu)"
   ]
  },
  {
   "cell_type": "code",
   "execution_count": 39,
   "metadata": {},
   "outputs": [
    {
     "name": "stdout",
     "output_type": "stream",
     "text": [
      "Before df_wh_hallu.shape: (343, 14)\n",
      "After df_wh_hallu.shape: (343, 20)\n"
     ]
    }
   ],
   "source": [
    "print(f\"Before df_wh_hallu.shape: {df_wh_hallu.shape}\")\n",
    "df_wh_hallu['question_2hop'] = ls_2hop_q\n",
    "df_wh_hallu['answer_2hop'] = ls_2hop_a\n",
    "df_wh_hallu['question_3hop'] = ls_3hop_q\n",
    "df_wh_hallu['answer_3hop'] = ls_3hop_a\n",
    "df_wh_hallu['question_4hop'] = ls_4hop_q\n",
    "df_wh_hallu['answer_4hop'] = ls_4hop_a\n",
    "print(f\"After df_wh_hallu.shape: {df_wh_hallu.shape}\")\n",
    "df_wh_hallu.to_csv(f\"../data/questions/wh_only/hallucination_only/{model_id_format}_{domain_topic_name}.csv\", index=False)"
   ]
  },
  {
   "cell_type": "markdown",
   "metadata": {},
   "source": [
    "## Editing"
   ]
  },
  {
   "cell_type": "code",
   "execution_count": 12,
   "metadata": {},
   "outputs": [
    {
     "name": "stderr",
     "output_type": "stream",
     "text": [
      "/data1/baixiang/env/anaconda3/envs/edit/lib/python3.9/site-packages/torchvision/io/image.py:13: UserWarning: Failed to load image Python extension: '/data1/baixiang/env/anaconda3/envs/edit/lib/python3.9/site-packages/torchvision/image.so: undefined symbol: _ZN3c1017RegisterOperatorsD1Ev'If you don't plan on using image functionality from `torchvision.io`, you can ignore this warning. Otherwise, there might be something wrong with your environment. Did you have `libjpeg` or `libpng` installed before building `torchvision` from source?\n",
      "  warn(\n"
     ]
    },
    {
     "data": {
      "application/json": {
       "ascii": false,
       "bar_format": null,
       "colour": null,
       "elapsed": 0.0035500526428222656,
       "initial": 0,
       "n": 0,
       "ncols": null,
       "nrows": null,
       "postfix": null,
       "prefix": "Downloading shards",
       "rate": null,
       "total": 4,
       "unit": "it",
       "unit_divisor": 1000,
       "unit_scale": false
      },
      "application/vnd.jupyter.widget-view+json": {
       "model_id": "ce1f831109f246cb8cdf985649d40637",
       "version_major": 2,
       "version_minor": 0
      },
      "text/plain": [
       "Downloading shards:   0%|          | 0/4 [00:00<?, ?it/s]"
      ]
     },
     "metadata": {},
     "output_type": "display_data"
    },
    {
     "data": {
      "application/json": {
       "ascii": false,
       "bar_format": null,
       "colour": null,
       "elapsed": 0.0027861595153808594,
       "initial": 0,
       "n": 0,
       "ncols": null,
       "nrows": null,
       "postfix": null,
       "prefix": "Loading checkpoint shards",
       "rate": null,
       "total": 4,
       "unit": "it",
       "unit_divisor": 1000,
       "unit_scale": false
      },
      "application/vnd.jupyter.widget-view+json": {
       "model_id": "54fff2eb10b34ab4a1a2cb3901f1d4a2",
       "version_major": 2,
       "version_minor": 0
      },
      "text/plain": [
       "Loading checkpoint shards:   0%|          | 0/4 [00:00<?, ?it/s]"
      ]
     },
     "metadata": {},
     "output_type": "display_data"
    },
    {
     "data": {
      "text/plain": [
       "(179, 9)"
      ]
     },
     "execution_count": 12,
     "metadata": {},
     "output_type": "execute_result"
    }
   ],
   "source": [
    "import json\n",
    "from hallucination_editor import BaseEditor\n",
    "from easyeditor import FTHyperParams, IKEHyperParams, ROMEHyperParams, MEMITHyperParams\n",
    "\n",
    "df = pd.read_csv(f\"../data/questions/wh_only/hallucination_only/{model_id_format}.csv\")\n",
    "# df = pd.read_csv(f\"../data/questions/wh_only/hallucination_only/mistral_7b_instruct_v0.3.csv\")\n",
    "df.shape"
   ]
  },
  {
   "cell_type": "code",
   "execution_count": 13,
   "metadata": {},
   "outputs": [
    {
     "name": "stderr",
     "output_type": "stream",
     "text": [
      "2024-08-12 18:46:29,734 - hallucination_editor - INFO - Instantiating model\n",
      "08/12/2024 18:46:29 - INFO - hallucination_editor -   Instantiating model\n"
     ]
    },
    {
     "data": {
      "application/json": {
       "ascii": false,
       "bar_format": null,
       "colour": null,
       "elapsed": 0.003228425979614258,
       "initial": 0,
       "n": 0,
       "ncols": null,
       "nrows": null,
       "postfix": null,
       "prefix": "Downloading shards",
       "rate": null,
       "total": 4,
       "unit": "it",
       "unit_divisor": 1000,
       "unit_scale": false
      },
      "application/vnd.jupyter.widget-view+json": {
       "model_id": "3a85ac93f7844e9da9b6510cc7266e16",
       "version_major": 2,
       "version_minor": 0
      },
      "text/plain": [
       "Downloading shards:   0%|          | 0/4 [00:00<?, ?it/s]"
      ]
     },
     "metadata": {},
     "output_type": "display_data"
    },
    {
     "data": {
      "application/json": {
       "ascii": false,
       "bar_format": null,
       "colour": null,
       "elapsed": 0.0028297901153564453,
       "initial": 0,
       "n": 0,
       "ncols": null,
       "nrows": null,
       "postfix": null,
       "prefix": "Loading checkpoint shards",
       "rate": null,
       "total": 4,
       "unit": "it",
       "unit_divisor": 1000,
       "unit_scale": false
      },
      "application/vnd.jupyter.widget-view+json": {
       "model_id": "39a372250365401eb11a6a7cbad792ff",
       "version_major": 2,
       "version_minor": 0
      },
      "text/plain": [
       "Loading checkpoint shards:   0%|          | 0/4 [00:00<?, ?it/s]"
      ]
     },
     "metadata": {},
     "output_type": "display_data"
    },
    {
     "name": "stderr",
     "output_type": "stream",
     "text": [
      "  0%|          | 0/50 [00:00<?, ?it/s]/data1/baixiang/env/anaconda3/envs/edit/lib/python3.9/site-packages/transformers/generation/configuration_utils.py:567: UserWarning: `do_sample` is set to `False`. However, `temperature` is set to `0.6` -- this flag is only used in sample-based generation modes. You should set `do_sample=True` or unset `temperature`.\n",
      "  warnings.warn(\n",
      "/data1/baixiang/env/anaconda3/envs/edit/lib/python3.9/site-packages/transformers/generation/configuration_utils.py:572: UserWarning: `do_sample` is set to `False`. However, `top_p` is set to `0.9` -- this flag is only used in sample-based generation modes. You should set `do_sample=True` or unset `top_p`.\n",
      "  warnings.warn(\n",
      "  2%|▏         | 1/50 [00:00<00:33,  1.46it/s]"
     ]
    },
    {
     "name": "stdout",
     "output_type": "stream",
     "text": [
      "===== Question: Which tourist attraction was owned by Greece? | Prediction: Knossos. | Label: Parthenon | Evaluation: 0 =====\n"
     ]
    },
    {
     "name": "stderr",
     "output_type": "stream",
     "text": [
      "  4%|▍         | 2/50 [00:01<00:24,  1.92it/s]"
     ]
    },
    {
     "name": "stdout",
     "output_type": "stream",
     "text": [
      "===== Question: Who was Rosersberg Palace founded by? | Prediction: King Gustav V. | Label: Gabriel Bengtsson Oxenstierna | Evaluation: 0 =====\n"
     ]
    },
    {
     "name": "stderr",
     "output_type": "stream",
     "text": [
      "  6%|▌         | 3/50 [00:01<00:19,  2.39it/s]"
     ]
    },
    {
     "name": "stdout",
     "output_type": "stream",
     "text": [
      "===== Question: What is the architectural style of Rosersberg Palace? | Prediction: Baroque. | Label: Neoclassical architecture | Evaluation: 0 =====\n"
     ]
    },
    {
     "name": "stderr",
     "output_type": "stream",
     "text": [
      "  8%|▊         | 4/50 [00:01<00:19,  2.41it/s]"
     ]
    },
    {
     "name": "stdout",
     "output_type": "stream",
     "text": [
      "===== Question: What was Rosersberg Palace owned by? | Prediction: The Swedish Royal Family. | Label: National Property Board of Sweden | Evaluation: 0 =====\n"
     ]
    },
    {
     "name": "stderr",
     "output_type": "stream",
     "text": [
      " 10%|█         | 5/50 [00:02<00:18,  2.42it/s]"
     ]
    },
    {
     "name": "stdout",
     "output_type": "stream",
     "text": [
      "===== Question: Which tourist attraction has part(s) Prayerbook Cross? | Prediction: Glastonbury. | Label: Golden Gate Park | Evaluation: 0 =====\n"
     ]
    },
    {
     "name": "stderr",
     "output_type": "stream",
     "text": [
      " 12%|█▏        | 6/50 [00:02<00:18,  2.32it/s]"
     ]
    },
    {
     "name": "stdout",
     "output_type": "stream",
     "text": [
      "===== Question: What is the significant event of Haw Par Villa? | Prediction: Battle of Heng San. | Label: construction | Evaluation: 0 =====\n"
     ]
    },
    {
     "name": "stderr",
     "output_type": "stream",
     "text": [
      " 14%|█▍        | 7/50 [00:03<00:25,  1.66it/s]"
     ]
    },
    {
     "name": "stdout",
     "output_type": "stream",
     "text": [
      "===== Question: Which tourist attraction's creator is Carlos Oswald? | Prediction: I couldn't find any information on a well-known tourist attraction created by Carlos Oswald | Label: Christ the Redeemer | Evaluation: 0 =====\n"
     ]
    },
    {
     "name": "stderr",
     "output_type": "stream",
     "text": [
      " 16%|█▌        | 8/50 [00:04<00:25,  1.64it/s]"
     ]
    },
    {
     "name": "stdout",
     "output_type": "stream",
     "text": [
      "===== Question: Who does Tsarskoye Selo architect? | Prediction: Vasily Petrovich Stasov. | Label: Francesco Bartolomeo Rastrelli | Evaluation: 0 =====\n"
     ]
    },
    {
     "name": "stderr",
     "output_type": "stream",
     "text": [
      " 18%|█▊        | 9/50 [00:04<00:22,  1.83it/s]"
     ]
    },
    {
     "name": "stdout",
     "output_type": "stream",
     "text": [
      "===== Question: Who architect Sedefkar Mehmed Agha? | Prediction: Sultan Ahmed III. | Label: Sultan Ahmed Mosque | Evaluation: 0 =====\n"
     ]
    },
    {
     "name": "stderr",
     "output_type": "stream",
     "text": [
      " 20%|██        | 10/50 [00:04<00:18,  2.12it/s]"
     ]
    },
    {
     "name": "stdout",
     "output_type": "stream",
     "text": [
      "===== Question: Which tourist attraction architect Alfred Parland? | Prediction: Senate Square. | Label: Church of the Savior on Blood | Evaluation: 0 =====\n"
     ]
    },
    {
     "name": "stderr",
     "output_type": "stream",
     "text": [
      " 22%|██▏       | 11/50 [00:05<00:16,  2.30it/s]"
     ]
    },
    {
     "name": "stdout",
     "output_type": "stream",
     "text": [
      "===== Question: What is the architectural style of Hundertwasserhaus? | Prediction: Biomorphism. | Label: expressionist architecture | Evaluation: 0 =====\n"
     ]
    },
    {
     "name": "stderr",
     "output_type": "stream",
     "text": [
      " 24%|██▍       | 12/50 [00:05<00:15,  2.44it/s]"
     ]
    },
    {
     "name": "stdout",
     "output_type": "stream",
     "text": [
      "===== Question: What is the located in the administrative territorial entity of Science Centre Singapore? | Prediction: Biopolis. | Label: Jurong East | Evaluation: 0 =====\n"
     ]
    },
    {
     "name": "stderr",
     "output_type": "stream",
     "text": [
      " 26%|██▌       | 13/50 [00:06<00:15,  2.45it/s]"
     ]
    },
    {
     "name": "stdout",
     "output_type": "stream",
     "text": [
      "===== Question: What is the architectural style of Grand Kremlin Palace? | Prediction: Neoclassicism. | Label: Byzantine Revival architecture | Evaluation: 0 =====\n"
     ]
    },
    {
     "name": "stderr",
     "output_type": "stream",
     "text": [
      " 28%|██▊       | 14/50 [00:06<00:14,  2.55it/s]"
     ]
    },
    {
     "name": "stdout",
     "output_type": "stream",
     "text": [
      "===== Question: Who was Grand Kremlin Palace commissioned by? | Prediction: Peter the Great. | Label: Nicholas I of Russia | Evaluation: 0 =====\n"
     ]
    },
    {
     "name": "stderr",
     "output_type": "stream",
     "text": [
      " 30%|███       | 15/50 [00:06<00:12,  2.76it/s]"
     ]
    },
    {
     "name": "stdout",
     "output_type": "stream",
     "text": [
      "===== Question: Which tourist attraction's located in the administrative territorial entity is Stourton with Gasper? | Prediction: Saltaire. | Label: Stourhead | Evaluation: 0 =====\n"
     ]
    },
    {
     "name": "stderr",
     "output_type": "stream",
     "text": [
      " 32%|███▏      | 16/50 [00:07<00:14,  2.35it/s]"
     ]
    },
    {
     "name": "stdout",
     "output_type": "stream",
     "text": [
      "===== Question: Who does İzmir Clock Tower architect? | Prediction: Raimondo D'Aronco. | Label: Raymond Charles Péré | Evaluation: 0 =====\n"
     ]
    },
    {
     "name": "stderr",
     "output_type": "stream",
     "text": [
      " 34%|███▍      | 17/50 [00:07<00:13,  2.48it/s]"
     ]
    },
    {
     "name": "stdout",
     "output_type": "stream",
     "text": [
      "===== Question: Which tourist attraction's director / manager is Tor Hagfors? | Prediction: Stonehenge. | Label: Arecibo Observatory | Evaluation: 0 =====\n"
     ]
    },
    {
     "name": "stderr",
     "output_type": "stream",
     "text": [
      " 36%|███▌      | 18/50 [00:07<00:11,  2.82it/s]"
     ]
    },
    {
     "name": "stdout",
     "output_type": "stream",
     "text": [
      "===== Question: What is the religion or worldview of Saviour Church on Nereditsa? | Prediction: Unknown. | Label: Eastern Orthodoxy | Evaluation: 0 =====\n"
     ]
    },
    {
     "name": "stderr",
     "output_type": "stream",
     "text": [
      " 38%|███▊      | 19/50 [00:08<00:09,  3.12it/s]"
     ]
    },
    {
     "name": "stdout",
     "output_type": "stream",
     "text": [
      "===== Question: Which tourist attraction architect Louis de Hoÿm de Marien? | Prediction: Unknown. | Label: Montparnasse Tower | Evaluation: 0 =====\n"
     ]
    },
    {
     "name": "stderr",
     "output_type": "stream",
     "text": [
      " 40%|████      | 20/50 [00:08<00:09,  3.04it/s]"
     ]
    },
    {
     "name": "stdout",
     "output_type": "stream",
     "text": [
      "===== Question: Which tourist attraction's located in the administrative territorial entity is Konya Province? | Prediction: Meke Lake. | Label: Lake Tuz | Evaluation: 0 =====\n"
     ]
    },
    {
     "name": "stderr",
     "output_type": "stream",
     "text": [
      " 42%|████▏     | 21/50 [00:08<00:09,  2.98it/s]"
     ]
    },
    {
     "name": "stdout",
     "output_type": "stream",
     "text": [
      "===== Question: Which tourist attraction's present in work is Now You See Me 2? | Prediction: The Louvre. | Label: Royal Observatory | Evaluation: 0 =====\n"
     ]
    },
    {
     "name": "stderr",
     "output_type": "stream",
     "text": [
      " 44%|████▍     | 22/50 [00:09<00:10,  2.67it/s]"
     ]
    },
    {
     "name": "stdout",
     "output_type": "stream",
     "text": [
      "===== Question: Which tourist attraction's located in the administrative territorial entity is Abu Dhabi? | Prediction: Sheikh Zayed Mosque. | Label: Louvre Abu Dhabi | Evaluation: 0 =====\n"
     ]
    },
    {
     "name": "stderr",
     "output_type": "stream",
     "text": [
      " 46%|████▌     | 23/50 [00:09<00:09,  2.85it/s]"
     ]
    },
    {
     "name": "stdout",
     "output_type": "stream",
     "text": [
      "===== Question: Which tourist attraction's located in the administrative territorial entity is Kane County? | Prediction: St. Charles | Label: Lake Powell | Evaluation: 0 =====\n"
     ]
    },
    {
     "name": "stderr",
     "output_type": "stream",
     "text": [
      " 48%|████▊     | 24/50 [00:09<00:09,  2.85it/s]"
     ]
    },
    {
     "name": "stdout",
     "output_type": "stream",
     "text": [
      "===== Question: Which tourist attraction's main building contractor is Works Progress Administration? | Prediction: The Hoover Dam. | Label: Arkansas Museum of Fine Arts | Evaluation: 0 =====\n"
     ]
    },
    {
     "name": "stderr",
     "output_type": "stream",
     "text": [
      " 50%|█████     | 25/50 [00:10<00:10,  2.50it/s]"
     ]
    },
    {
     "name": "stdout",
     "output_type": "stream",
     "text": [
      "===== Question: Who was National Garden of Athens founded by? | Prediction: Ioannis Kapodistrias. | Label: Amalia of Oldenburg | Evaluation: 0 =====\n"
     ]
    },
    {
     "name": "stderr",
     "output_type": "stream",
     "text": [
      " 52%|█████▏    | 26/50 [00:10<00:09,  2.58it/s]"
     ]
    },
    {
     "name": "stdout",
     "output_type": "stream",
     "text": [
      "===== Question: Which tourist attraction was founded by Bayezid I? | Prediction: Bursa. | Label: Anadoluhisarı | Evaluation: 0 =====\n"
     ]
    },
    {
     "name": "stderr",
     "output_type": "stream",
     "text": [
      " 54%|█████▍    | 27/50 [00:11<00:08,  2.66it/s]"
     ]
    },
    {
     "name": "stdout",
     "output_type": "stream",
     "text": [
      "===== Question: Which tourist attraction's located in the administrative territorial entity is Cambridge? | Prediction: Ely Cathedral. | Label: Fitzwilliam Museum | Evaluation: 0 =====\n"
     ]
    },
    {
     "name": "stderr",
     "output_type": "stream",
     "text": [
      " 56%|█████▌    | 28/50 [00:11<00:08,  2.59it/s]"
     ]
    },
    {
     "name": "stdout",
     "output_type": "stream",
     "text": [
      "===== Question: Who does Ushaw College architect? | Prediction: Augustus Pugin. | Label: Archibald Matthias Dunn | Evaluation: 0 =====\n"
     ]
    },
    {
     "name": "stderr",
     "output_type": "stream",
     "text": [
      " 58%|█████▊    | 29/50 [00:11<00:07,  2.79it/s]"
     ]
    },
    {
     "name": "stdout",
     "output_type": "stream",
     "text": [
      "===== Question: What is the diocese of Ushaw College? | Prediction: Durham. | Label: Roman Catholic Diocese of Hexham and Newcastle | Evaluation: 0 =====\n"
     ]
    },
    {
     "name": "stderr",
     "output_type": "stream",
     "text": [
      " 60%|██████    | 30/50 [00:12<00:07,  2.68it/s]"
     ]
    },
    {
     "name": "stdout",
     "output_type": "stream",
     "text": [
      "===== Question: What is the architectural style of Ushaw College? | Prediction: Neoclassical. | Label: Gothic Revival | Evaluation: 0 =====\n"
     ]
    },
    {
     "name": "stderr",
     "output_type": "stream",
     "text": [
      " 62%|██████▏   | 31/50 [00:12<00:06,  2.73it/s]"
     ]
    },
    {
     "name": "stdout",
     "output_type": "stream",
     "text": [
      "===== Question: Who does Yusupov Palace on Moika architect? | Prediction: Vasily Kenel | Label: Jean-Baptiste Vallin de la Mothe | Evaluation: 0 =====\n"
     ]
    },
    {
     "name": "stderr",
     "output_type": "stream",
     "text": [
      " 64%|██████▍   | 32/50 [00:13<00:07,  2.34it/s]"
     ]
    },
    {
     "name": "stdout",
     "output_type": "stream",
     "text": [
      "===== Question: Who was Meteor Crater named by? | Prediction: Dinah M. Ehmann. | Label: Herman LeRoy Fairchild | Evaluation: 0 =====\n"
     ]
    },
    {
     "name": "stderr",
     "output_type": "stream",
     "text": [
      " 66%|██████▌   | 33/50 [00:13<00:07,  2.37it/s]"
     ]
    },
    {
     "name": "stdout",
     "output_type": "stream",
     "text": [
      "===== Question: Which tourist attraction's significant event is funeral? | Prediction: Taj Mahal. | Label: St Paul's Cathedral | Evaluation: 0 =====\n"
     ]
    },
    {
     "name": "stderr",
     "output_type": "stream",
     "text": [
      " 68%|██████▊   | 34/50 [00:14<00:06,  2.31it/s]"
     ]
    },
    {
     "name": "stdout",
     "output_type": "stream",
     "text": [
      "===== Question: Which tourist attraction depicts drapery? | Prediction: The Colosseum. | Label: Statue of Liberty | Evaluation: 0 =====\n"
     ]
    },
    {
     "name": "stderr",
     "output_type": "stream",
     "text": [
      " 70%|███████   | 35/50 [00:14<00:05,  2.55it/s]"
     ]
    },
    {
     "name": "stdout",
     "output_type": "stream",
     "text": [
      "===== Question: What is the derivative work of Disneyland? | Prediction: Disney World. | Label: Kinect: Disneyland Adventures | Evaluation: 0 =====\n"
     ]
    },
    {
     "name": "stderr",
     "output_type": "stream",
     "text": [
      " 72%|███████▏  | 36/50 [00:14<00:05,  2.63it/s]"
     ]
    },
    {
     "name": "stdout",
     "output_type": "stream",
     "text": [
      "===== Question: What is the taxon found at location of Central Park? | Prediction: Quercus. | Label: squirrel | Evaluation: 0 =====\n"
     ]
    },
    {
     "name": "stderr",
     "output_type": "stream",
     "text": [
      " 74%|███████▍  | 37/50 [00:15<00:04,  2.82it/s]"
     ]
    },
    {
     "name": "stdout",
     "output_type": "stream",
     "text": [
      "===== Question: Which tourist attraction's main building contractor is Skanska? | Prediction: The Shard. | Label: 30 St Mary Axe | Evaluation: 0 =====\n"
     ]
    },
    {
     "name": "stderr",
     "output_type": "stream",
     "text": [
      " 76%|███████▌  | 38/50 [00:15<00:04,  2.49it/s]"
     ]
    },
    {
     "name": "stdout",
     "output_type": "stream",
     "text": [
      "===== Question: Which tourist attraction architect Bartolommeo Berrecci? | Prediction: St. Peter's Basilica. | Label: Wawel Castle | Evaluation: 0 =====\n"
     ]
    },
    {
     "name": "stderr",
     "output_type": "stream",
     "text": [
      " 78%|███████▊  | 39/50 [00:15<00:04,  2.39it/s]"
     ]
    },
    {
     "name": "stdout",
     "output_type": "stream",
     "text": [
      "===== Question: Which tourist attraction's located in the administrative territorial entity is Gran Canaria? | Prediction: Roque Nublo. | Label: Jardín Botánico Canario Viera y Clavijo | Evaluation: 0 =====\n"
     ]
    },
    {
     "name": "stderr",
     "output_type": "stream",
     "text": [
      " 80%|████████  | 40/50 [00:16<00:04,  2.15it/s]"
     ]
    },
    {
     "name": "stdout",
     "output_type": "stream",
     "text": [
      "===== Question: Which tourist attraction's made from material is paint? | Prediction: Van Gogh's Starry Night. | Label: Cadillac Ranch | Evaluation: 0 =====\n"
     ]
    },
    {
     "name": "stderr",
     "output_type": "stream",
     "text": [
      " 82%|████████▏ | 41/50 [00:16<00:03,  2.41it/s]"
     ]
    },
    {
     "name": "stdout",
     "output_type": "stream",
     "text": [
      "===== Question: Which tourist attraction architect Bodo Ebhardt? | Prediction: Berlin Cathedral. | Label: Coburg Fortress | Evaluation: 0 =====\n"
     ]
    },
    {
     "name": "stderr",
     "output_type": "stream",
     "text": [
      " 84%|████████▍ | 42/50 [00:17<00:03,  2.53it/s]"
     ]
    },
    {
     "name": "stdout",
     "output_type": "stream",
     "text": [
      "===== Question: Which tourist attraction's located in the administrative territorial entity is Aksaray Province? | Prediction: Göreme. | Label: Lake Tuz | Evaluation: 0 =====\n"
     ]
    },
    {
     "name": "stderr",
     "output_type": "stream",
     "text": [
      " 86%|████████▌ | 43/50 [00:17<00:02,  2.74it/s]"
     ]
    },
    {
     "name": "stdout",
     "output_type": "stream",
     "text": [
      "===== Question: Which tourist attraction architect Daniel Burnham? | Prediction: Union Station. | Label: National Museum of Natural History | Evaluation: 0 =====\n"
     ]
    },
    {
     "name": "stderr",
     "output_type": "stream",
     "text": [
      " 88%|████████▊ | 44/50 [00:17<00:02,  2.78it/s]"
     ]
    },
    {
     "name": "stdout",
     "output_type": "stream",
     "text": [
      "===== Question: Which tourist attraction's taxon found at location is Chamaerops humilis? | Prediction: Monument Valley. | Label: National Garden of Athens | Evaluation: 0 =====\n"
     ]
    },
    {
     "name": "stderr",
     "output_type": "stream",
     "text": [
      " 90%|█████████ | 45/50 [00:18<00:01,  2.93it/s]"
     ]
    },
    {
     "name": "stdout",
     "output_type": "stream",
     "text": [
      "===== Question: Which tourist attraction's structural engineer is Schlaich Bergermann Partner? | Prediction: London Eye. | Label: One World Trade Center | Evaluation: 0 =====\n"
     ]
    },
    {
     "name": "stderr",
     "output_type": "stream",
     "text": [
      " 92%|█████████▏| 46/50 [00:18<00:01,  2.77it/s]"
     ]
    },
    {
     "name": "stdout",
     "output_type": "stream",
     "text": [
      "===== Question: Which tourist attraction shape antiprism? | Prediction: Geodesic Dome. | Label: One World Trade Center | Evaluation: 0 =====\n"
     ]
    },
    {
     "name": "stderr",
     "output_type": "stream",
     "text": [
      " 94%|█████████▍| 47/50 [00:19<00:01,  2.55it/s]"
     ]
    },
    {
     "name": "stdout",
     "output_type": "stream",
     "text": [
      "===== Question: Which tourist attraction depicts navel? | Prediction: Navel of the Earth. | Label: Manneken-Pis | Evaluation: 0 =====\n"
     ]
    },
    {
     "name": "stderr",
     "output_type": "stream",
     "text": [
      " 96%|█████████▌| 48/50 [00:19<00:00,  2.16it/s]"
     ]
    },
    {
     "name": "stdout",
     "output_type": "stream",
     "text": [
      "===== Question: What is the main building contractor of Willis Tower? | Prediction: Skidmore, Owings & Merrill. | Label: American Bridge Company | Evaluation: 0 =====\n"
     ]
    },
    {
     "name": "stderr",
     "output_type": "stream",
     "text": [
      " 98%|█████████▊| 49/50 [00:19<00:00,  2.42it/s]"
     ]
    },
    {
     "name": "stdout",
     "output_type": "stream",
     "text": [
      "===== Question: What is the architectural style of Willis Tower? | Prediction: Postmodern. | Label: International Style | Evaluation: 0 =====\n"
     ]
    },
    {
     "name": "stderr",
     "output_type": "stream",
     "text": [
      "100%|██████████| 50/50 [00:20<00:00,  2.42it/s]\n",
      "We detected that you are passing `past_key_values` as a tuple and this is deprecated and will be removed in v4.43. Please use an appropriate `Cache` class (https://huggingface.co/docs/transformers/v4.41.3/en/internal/generation_utils#transformers.Cache)\n"
     ]
    },
    {
     "name": "stdout",
     "output_type": "stream",
     "text": [
      "===== Question: Which tourist attraction's creator is Jan Styka? | Prediction: The National Shrine of the Immaculate Conception. | Label: Racławice Panorama | Evaluation: 0 =====\n",
      "Executing ROME algorithm for the update: [Which tourist attraction was owned by Greece?] -> [ Parthenon]\n",
      "Cached context templates ['{}', 'The 2019. {}', 'The following account,. {}', 'Therefore, it was. {}', 'Therefore, if you. {}', 'Because I love the. {}', 'Because you compared Bit. {}', \"I'm trying to. {}\", 'I am so glad. {}', \"You're viewing a. {}\", 'You are currently browsing. {}', 'The 2022-2023 school year. {}', 'The following statements about the relationship between the immune. {}', 'Therefore, it is necessary for you to be. {}', 'Therefore, you can use this as a guide. {}', 'Because of their unique structure, the cells of. {}', 'Because of the COVID-19 pandemic, the. {}', 'I love this quote by Maya Angelou:. {}', 'I am excited to announce that I have partnered. {}', \"You can't have it all - but you. {}\", 'You are here: Home / News / New. {}']\n",
      "Computing left vector (u)...\n",
      "Selected u projection object Greece\n",
      "Left vector shape: torch.Size([14336])\n",
      "Computing right vector (v)\n",
      "Lookup index found: 7 | Sentence: Which tourist attraction was owned by Greece? Parthen | Token:  Greece\n",
      "Rewrite layer is 5\n",
      "Tying optimization objective to 31\n",
      "Recording initial value of v*\n",
      "loss 2.474 = 2.474 + 0.0 + 0.0 avg prob of [ Parthenon] 0.0856739804148674\n",
      "loss 1.75 = 1.68 + 0.068 + 0.002 avg prob of [ Parthenon] 0.19112083315849304\n",
      "loss 0.974 = 0.941 + 0.031 + 0.002 avg prob of [ Parthenon] 0.39576730132102966\n",
      "loss 0.884 = 0.857 + 0.026 + 0.002 avg prob of [ Parthenon] 0.4275975227355957\n",
      "loss 0.274 = 0.219 + 0.053 + 0.002 avg prob of [ Parthenon] 0.8065826892852783\n",
      "loss 0.133 = 0.081 + 0.05 + 0.002 avg prob of [ Parthenon] 0.9242112636566162\n",
      "loss 0.138 = 0.08 + 0.057 + 0.002 avg prob of [ Parthenon] 0.9236304759979248\n",
      "loss 0.055 = 0.026 + 0.027 + 0.002 avg prob of [ Parthenon] 0.9742493629455566\n"
     ]
    },
    {
     "name": "stderr",
     "output_type": "stream",
     "text": [
      "2024-08-12 18:46:59,439 - hallucination_editor - INFO - Execution 0 editing took 3.338561773300171\n",
      "08/12/2024 18:46:59 - INFO - hallucination_editor -   Execution 0 editing took 3.338561773300171\n"
     ]
    },
    {
     "name": "stdout",
     "output_type": "stream",
     "text": [
      "loss 0.024 = 0.003 + 0.02 + 0.002 avg prob of [ Parthenon] 0.9974278211593628\n",
      "Delta norm: 8.84375\n",
      "Change in target norm: 2.2109375 to 9.09375 => 6.8828125\n",
      "Division Factor: 2.830078125\n",
      "Right vector norm: 3.125\n",
      "Right vector shape: torch.Size([4096])\n",
      "Deltas successfully computed for ['model.layers.5.mlp.down_proj.weight']\n",
      "New weights successfully inserted into ['model.layers.5.mlp.down_proj.weight']\n"
     ]
    },
    {
     "name": "stderr",
     "output_type": "stream",
     "text": [
      "2024-08-12 18:46:59,668 - hallucination_editor - INFO - Evaluation took 0.22786331176757812\n",
      "08/12/2024 18:46:59 - INFO - hallucination_editor -   Evaluation took 0.22786331176757812\n",
      "2024-08-12 18:46:59,670 - hallucination_editor - INFO - 0 editing: Which tourist attraction was owned by Greece? -> Parthenon  \n",
      " {'pre': {'edit_acc': [0], 'edit_output': ['Knossos.'], 'locality': {}, 'portability': {}, 'yes_no': {}}, 'case_id': 0, 'requested_edit': {'prompt': 'Which tourist attraction was owned by Greece?', 'target_new': 'Parthenon', 'ground_truth': '<|endoftext|>', 'portability': {}, 'locality': {}, 'yes_no': {}, 'harm_original_text': {}, 'subject': 'Greece'}, 'time': 3.338561773300171, 'post': {'edit_acc': [1], 'edit_output': ['Parthenon'], 'locality': {}, 'portability': {}, 'yes_no': {}}}\n",
      "08/12/2024 18:46:59 - INFO - hallucination_editor -   0 editing: Which tourist attraction was owned by Greece? -> Parthenon  \n",
      " {'pre': {'edit_acc': [0], 'edit_output': ['Knossos.'], 'locality': {}, 'portability': {}, 'yes_no': {}}, 'case_id': 0, 'requested_edit': {'prompt': 'Which tourist attraction was owned by Greece?', 'target_new': 'Parthenon', 'ground_truth': '<|endoftext|>', 'portability': {}, 'locality': {}, 'yes_no': {}, 'harm_original_text': {}, 'subject': 'Greece'}, 'time': 3.338561773300171, 'post': {'edit_acc': [1], 'edit_output': ['Parthenon'], 'locality': {}, 'portability': {}, 'yes_no': {}}}\n"
     ]
    },
    {
     "name": "stdout",
     "output_type": "stream",
     "text": [
      "===== Question: Which tourist attraction was owned by Greece? | Prediction: Parthenon | Label: Parthenon | Evaluation: 1 =====\n",
      "Executing ROME algorithm for the update: [Who was Rosersberg Palace founded by?] -> [ Gabriel Bengtsson Oxenstierna]\n",
      "Computing left vector (u)...\n",
      "Selected u projection object Rosersberg Palace\n",
      "Left vector shape: torch.Size([14336])\n",
      "Computing right vector (v)\n",
      "Lookup index found: 6 | Sentence: Who was Rosersberg Palace founded by? Gabriel Bengtsson Oxensti | Token:  Palace\n",
      "Rewrite layer is 5\n",
      "Tying optimization objective to 31\n",
      "Recording initial value of v*\n",
      "loss 1.571 = 1.571 + 0.0 + 0.0 avg prob of [ Gabriel Bengtsson Oxenstierna] 0.20819316804409027\n",
      "loss 1.466 = 1.387 + 0.078 + 0.001 avg prob of [ Gabriel Bengtsson Oxenstierna] 0.25108200311660767\n",
      "loss 0.989 = 0.977 + 0.011 + 0.001 avg prob of [ Gabriel Bengtsson Oxenstierna] 0.37740838527679443\n",
      "loss 1.169 = 1.137 + 0.031 + 0.001 avg prob of [ Gabriel Bengtsson Oxenstierna] 0.3241691589355469\n",
      "loss 0.731 = 0.714 + 0.015 + 0.001 avg prob of [ Gabriel Bengtsson Oxenstierna] 0.49092796444892883\n",
      "loss 0.245 = 0.23 + 0.014 + 0.001 avg prob of [ Gabriel Bengtsson Oxenstierna] 0.796111524105072\n",
      "loss 0.058 = 0.025 + 0.032 + 0.001 avg prob of [ Gabriel Bengtsson Oxenstierna] 0.9753570556640625\n",
      "loss 0.183 = 0.12 + 0.061 + 0.001 avg prob of [ Gabriel Bengtsson Oxenstierna] 0.8884792327880859\n"
     ]
    },
    {
     "name": "stderr",
     "output_type": "stream",
     "text": [
      "2024-08-12 18:47:02,344 - hallucination_editor - INFO - Execution 1 editing took 2.672781467437744\n",
      "08/12/2024 18:47:02 - INFO - hallucination_editor -   Execution 1 editing took 2.672781467437744\n"
     ]
    },
    {
     "name": "stdout",
     "output_type": "stream",
     "text": [
      "loss 0.035 = 0.021 + 0.012 + 0.001 avg prob of [ Gabriel Bengtsson Oxenstierna] 0.9790629744529724\n",
      "Delta norm: 11.28125\n",
      "Change in target norm: 2.8203125 to 11.765625 => 8.9453125\n",
      "Division Factor: 3.59765625\n",
      "Right vector norm: 3.134765625\n",
      "Right vector shape: torch.Size([4096])\n",
      "Deltas successfully computed for ['model.layers.5.mlp.down_proj.weight']\n",
      "New weights successfully inserted into ['model.layers.5.mlp.down_proj.weight']\n"
     ]
    },
    {
     "name": "stderr",
     "output_type": "stream",
     "text": [
      "2024-08-12 18:47:02,963 - hallucination_editor - INFO - Evaluation took 0.6174046993255615\n",
      "08/12/2024 18:47:02 - INFO - hallucination_editor -   Evaluation took 0.6174046993255615\n",
      "2024-08-12 18:47:02,964 - hallucination_editor - INFO - 1 editing: Who was Rosersberg Palace founded by? -> Gabriel Bengtsson Oxenstierna  \n",
      " {'pre': {'edit_acc': [0], 'edit_output': ['King Gustav V.'], 'locality': {}, 'portability': {}, 'yes_no': {}}, 'case_id': 1, 'requested_edit': {'prompt': 'Who was Rosersberg Palace founded by?', 'target_new': 'Gabriel Bengtsson Oxenstierna', 'ground_truth': '<|endoftext|>', 'portability': {}, 'locality': {}, 'yes_no': {}, 'harm_original_text': {}, 'subject': 'Rosersberg Palace'}, 'time': 2.672781467437744, 'post': {'edit_acc': [1], 'edit_output': ['Gabriel Bengtsson Oxenstierna.'], 'locality': {}, 'portability': {}, 'yes_no': {}}}\n",
      "08/12/2024 18:47:02 - INFO - hallucination_editor -   1 editing: Who was Rosersberg Palace founded by? -> Gabriel Bengtsson Oxenstierna  \n",
      " {'pre': {'edit_acc': [0], 'edit_output': ['King Gustav V.'], 'locality': {}, 'portability': {}, 'yes_no': {}}, 'case_id': 1, 'requested_edit': {'prompt': 'Who was Rosersberg Palace founded by?', 'target_new': 'Gabriel Bengtsson Oxenstierna', 'ground_truth': '<|endoftext|>', 'portability': {}, 'locality': {}, 'yes_no': {}, 'harm_original_text': {}, 'subject': 'Rosersberg Palace'}, 'time': 2.672781467437744, 'post': {'edit_acc': [1], 'edit_output': ['Gabriel Bengtsson Oxenstierna.'], 'locality': {}, 'portability': {}, 'yes_no': {}}}\n"
     ]
    },
    {
     "name": "stdout",
     "output_type": "stream",
     "text": [
      "===== Question: Who was Rosersberg Palace founded by? | Prediction: Gabriel Bengtsson Oxenstierna. | Label: Gabriel Bengtsson Oxenstierna | Evaluation: 1 =====\n",
      "Executing ROME algorithm for the update: [What is the architectural style of Rosersberg Palace?] -> [ Neoclassical architecture]\n",
      "Computing left vector (u)...\n",
      "Selected u projection object Rosersberg Palace\n",
      "Left vector shape: torch.Size([14336])\n",
      "Computing right vector (v)\n",
      "Lookup index found: 10 | Sentence: What is the architectural style of Rosersberg Palace? Neoclassical | Token:  Palace\n",
      "Rewrite layer is 5\n",
      "Tying optimization objective to 31\n",
      "Recording initial value of v*\n",
      "loss 2.221 = 2.221 + 0.0 + 0.0 avg prob of [ Neoclassical architecture] 0.11029486358165741\n",
      "loss 1.681 = 1.657 + 0.022 + 0.001 avg prob of [ Neoclassical architecture] 0.19437676668167114\n",
      "loss 0.997 = 0.943 + 0.052 + 0.001 avg prob of [ Neoclassical architecture] 0.3898884057998657\n",
      "loss 0.528 = 0.5 + 0.027 + 0.001 avg prob of [ Neoclassical architecture] 0.6071978807449341\n",
      "loss 0.112 = 0.091 + 0.019 + 0.001 avg prob of [ Neoclassical architecture] 0.9129576086997986\n",
      "loss 0.053 = 0.016 + 0.035 + 0.001 avg prob of [ Neoclassical architecture] 0.9838057160377502\n"
     ]
    },
    {
     "name": "stderr",
     "output_type": "stream",
     "text": [
      "2024-08-12 18:47:05,051 - hallucination_editor - INFO - Execution 2 editing took 2.0849125385284424\n",
      "08/12/2024 18:47:05 - INFO - hallucination_editor -   Execution 2 editing took 2.0849125385284424\n"
     ]
    },
    {
     "name": "stdout",
     "output_type": "stream",
     "text": [
      "loss 0.024 = 0.006 + 0.016 + 0.001 avg prob of [ Neoclassical architecture] 0.9936469197273254\n",
      "Delta norm: 12.59375\n",
      "Change in target norm: 3.1484375 to 12.9375 => 9.7890625\n",
      "Division Factor: 4.0546875\n",
      "Right vector norm: 3.10546875\n",
      "Right vector shape: torch.Size([4096])\n",
      "Deltas successfully computed for ['model.layers.5.mlp.down_proj.weight']\n",
      "New weights successfully inserted into ['model.layers.5.mlp.down_proj.weight']\n"
     ]
    },
    {
     "name": "stderr",
     "output_type": "stream",
     "text": [
      "2024-08-12 18:47:05,460 - hallucination_editor - INFO - Evaluation took 0.4079103469848633\n",
      "08/12/2024 18:47:05 - INFO - hallucination_editor -   Evaluation took 0.4079103469848633\n",
      "2024-08-12 18:47:05,461 - hallucination_editor - INFO - 2 editing: What is the architectural style of Rosersberg Palace? -> Neoclassical architecture  \n",
      " {'pre': {'edit_acc': [0], 'edit_output': ['Baroque.'], 'locality': {}, 'portability': {}, 'yes_no': {}}, 'case_id': 2, 'requested_edit': {'prompt': 'What is the architectural style of Rosersberg Palace?', 'target_new': 'Neoclassical architecture', 'ground_truth': '<|endoftext|>', 'portability': {}, 'locality': {}, 'yes_no': {}, 'harm_original_text': {}, 'subject': 'Rosersberg Palace'}, 'time': 2.0849125385284424, 'post': {'edit_acc': [1], 'edit_output': ['Neoclassical.'], 'locality': {}, 'portability': {}, 'yes_no': {}}}\n",
      "08/12/2024 18:47:05 - INFO - hallucination_editor -   2 editing: What is the architectural style of Rosersberg Palace? -> Neoclassical architecture  \n",
      " {'pre': {'edit_acc': [0], 'edit_output': ['Baroque.'], 'locality': {}, 'portability': {}, 'yes_no': {}}, 'case_id': 2, 'requested_edit': {'prompt': 'What is the architectural style of Rosersberg Palace?', 'target_new': 'Neoclassical architecture', 'ground_truth': '<|endoftext|>', 'portability': {}, 'locality': {}, 'yes_no': {}, 'harm_original_text': {}, 'subject': 'Rosersberg Palace'}, 'time': 2.0849125385284424, 'post': {'edit_acc': [1], 'edit_output': ['Neoclassical.'], 'locality': {}, 'portability': {}, 'yes_no': {}}}\n"
     ]
    },
    {
     "name": "stdout",
     "output_type": "stream",
     "text": [
      "===== Question: What is the architectural style of Rosersberg Palace? | Prediction: Neoclassical. | Label: Neoclassical architecture | Evaluation: 1 =====\n",
      "Executing ROME algorithm for the update: [What was Rosersberg Palace owned by?] -> [ National Property Board of Sweden]\n",
      "Computing left vector (u)...\n",
      "Selected u projection object Rosersberg Palace\n",
      "Left vector shape: torch.Size([14336])\n",
      "Computing right vector (v)\n",
      "Lookup index found: 6 | Sentence: What was Rosersberg Palace owned by? National Property Board of | Token:  Palace\n",
      "Rewrite layer is 5\n",
      "Tying optimization objective to 31\n",
      "Recording initial value of v*\n",
      "loss 2.458 = 2.458 + 0.0 + 0.0 avg prob of [ National Property Board of Sweden] 0.08777381479740143\n",
      "loss 1.709 = 1.62 + 0.088 + 0.001 avg prob of [ National Property Board of Sweden] 0.2022714614868164\n",
      "loss 0.955 = 0.939 + 0.014 + 0.001 avg prob of [ National Property Board of Sweden] 0.3942873775959015\n",
      "loss 0.16 = 0.109 + 0.05 + 0.001 avg prob of [ National Property Board of Sweden] 0.8976646065711975\n",
      "loss 0.059 = 0.007 + 0.051 + 0.001 avg prob of [ National Property Board of Sweden] 0.9931257367134094\n",
      "loss 0.053 = 0.001 + 0.051 + 0.001 avg prob of [ National Property Board of Sweden] 0.9994308948516846\n",
      "loss 0.053 = 0.001 + 0.051 + 0.001 avg prob of [ National Property Board of Sweden] 0.9994986653327942\n"
     ]
    },
    {
     "name": "stderr",
     "output_type": "stream",
     "text": [
      "2024-08-12 18:47:07,767 - hallucination_editor - INFO - Execution 3 editing took 2.3038580417633057\n",
      "08/12/2024 18:47:07 - INFO - hallucination_editor -   Execution 3 editing took 2.3038580417633057\n"
     ]
    },
    {
     "name": "stdout",
     "output_type": "stream",
     "text": [
      "loss 0.046 = 0.0 + 0.044 + 0.001 avg prob of [ National Property Board of Sweden] 0.9997081160545349\n",
      "Delta norm: 11.484375\n",
      "Change in target norm: 2.87109375 to 11.8671875 => 9.0\n",
      "Division Factor: 3.658203125\n",
      "Right vector norm: 3.138671875\n",
      "Right vector shape: torch.Size([4096])\n",
      "Deltas successfully computed for ['model.layers.5.mlp.down_proj.weight']\n",
      "New weights successfully inserted into ['model.layers.5.mlp.down_proj.weight']\n"
     ]
    },
    {
     "name": "stderr",
     "output_type": "stream",
     "text": [
      "2024-08-12 18:47:08,161 - hallucination_editor - INFO - Evaluation took 0.392925500869751\n",
      "08/12/2024 18:47:08 - INFO - hallucination_editor -   Evaluation took 0.392925500869751\n",
      "2024-08-12 18:47:08,163 - hallucination_editor - INFO - 3 editing: What was Rosersberg Palace owned by? -> National Property Board of Sweden  \n",
      " {'pre': {'edit_acc': [0], 'edit_output': ['The Swedish Royal Family.'], 'locality': {}, 'portability': {}, 'yes_no': {}}, 'case_id': 3, 'requested_edit': {'prompt': 'What was Rosersberg Palace owned by?', 'target_new': 'National Property Board of Sweden', 'ground_truth': '<|endoftext|>', 'portability': {}, 'locality': {}, 'yes_no': {}, 'harm_original_text': {}, 'subject': 'Rosersberg Palace'}, 'time': 2.3038580417633057, 'post': {'edit_acc': [1], 'edit_output': ['National Property Board of Sweden.'], 'locality': {}, 'portability': {}, 'yes_no': {}}}\n",
      "08/12/2024 18:47:08 - INFO - hallucination_editor -   3 editing: What was Rosersberg Palace owned by? -> National Property Board of Sweden  \n",
      " {'pre': {'edit_acc': [0], 'edit_output': ['The Swedish Royal Family.'], 'locality': {}, 'portability': {}, 'yes_no': {}}, 'case_id': 3, 'requested_edit': {'prompt': 'What was Rosersberg Palace owned by?', 'target_new': 'National Property Board of Sweden', 'ground_truth': '<|endoftext|>', 'portability': {}, 'locality': {}, 'yes_no': {}, 'harm_original_text': {}, 'subject': 'Rosersberg Palace'}, 'time': 2.3038580417633057, 'post': {'edit_acc': [1], 'edit_output': ['National Property Board of Sweden.'], 'locality': {}, 'portability': {}, 'yes_no': {}}}\n"
     ]
    },
    {
     "name": "stdout",
     "output_type": "stream",
     "text": [
      "===== Question: What was Rosersberg Palace owned by? | Prediction: National Property Board of Sweden. | Label: National Property Board of Sweden | Evaluation: 1 =====\n",
      "Executing ROME algorithm for the update: [Which tourist attraction has part(s) Prayerbook Cross?] -> [ Golden Gate Park]\n",
      "Computing left vector (u)...\n",
      "Selected u projection object Prayerbook Cross\n",
      "Left vector shape: torch.Size([14336])\n",
      "Computing right vector (v)\n",
      "Lookup index found: 10 | Sentence: Which tourist attraction has part(s) Prayerbook Cross? Golden Gate | Token:  Cross\n",
      "Rewrite layer is 5\n",
      "Tying optimization objective to 31\n",
      "Recording initial value of v*\n",
      "loss 4.63 = 4.63 + 0.0 + 0.0 avg prob of [ Golden Gate Park] 0.01001574657857418\n",
      "loss 3.915 = 3.821 + 0.093 + 0.001 avg prob of [ Golden Gate Park] 0.022290781140327454\n",
      "loss 2.643 = 2.488 + 0.155 + 0.001 avg prob of [ Golden Gate Park] 0.08418041467666626\n",
      "loss 1.811 = 1.687 + 0.122 + 0.001 avg prob of [ Golden Gate Park] 0.18612158298492432\n",
      "loss 1.028 = 0.92 + 0.106 + 0.001 avg prob of [ Golden Gate Park] 0.39984676241874695\n",
      "loss 0.631 = 0.532 + 0.098 + 0.001 avg prob of [ Golden Gate Park] 0.5913767218589783\n",
      "loss 0.545 = 0.46 + 0.083 + 0.001 avg prob of [ Golden Gate Park] 0.6353768706321716\n",
      "loss 0.409 = 0.331 + 0.077 + 0.001 avg prob of [ Golden Gate Park] 0.7209824919700623\n",
      "loss 0.238 = 0.162 + 0.075 + 0.001 avg prob of [ Golden Gate Park] 0.851563036441803\n",
      "loss 0.109 = 0.037 + 0.071 + 0.001 avg prob of [ Golden Gate Park] 0.9641962051391602\n",
      "loss 0.08 = 0.012 + 0.067 + 0.001 avg prob of [ Golden Gate Park] 0.9883777499198914\n",
      "loss 0.071 = 0.005 + 0.064 + 0.001 avg prob of [ Golden Gate Park] 0.9947197437286377\n",
      "loss 0.066 = 0.003 + 0.062 + 0.001 avg prob of [ Golden Gate Park] 0.9969705939292908\n",
      "loss 0.064 = 0.002 + 0.061 + 0.001 avg prob of [ Golden Gate Park] 0.9979324340820312\n",
      "loss 0.063 = 0.002 + 0.06 + 0.001 avg prob of [ Golden Gate Park] 0.998382568359375\n",
      "loss 0.062 = 0.001 + 0.059 + 0.001 avg prob of [ Golden Gate Park] 0.998562216758728\n",
      "loss 0.061 = 0.001 + 0.058 + 0.001 avg prob of [ Golden Gate Park] 0.9986495971679688\n",
      "loss 0.06 = 0.001 + 0.057 + 0.001 avg prob of [ Golden Gate Park] 0.9987238049507141\n",
      "loss 0.059 = 0.001 + 0.056 + 0.001 avg prob of [ Golden Gate Park] 0.9987861514091492\n",
      "loss 0.058 = 0.001 + 0.055 + 0.001 avg prob of [ Golden Gate Park] 0.9988287091255188\n",
      "loss 0.057 = 0.001 + 0.054 + 0.001 avg prob of [ Golden Gate Park] 0.9988857507705688\n",
      "loss 0.056 = 0.001 + 0.053 + 0.001 avg prob of [ Golden Gate Park] 0.99895840883255\n",
      "loss 0.055 = 0.001 + 0.052 + 0.001 avg prob of [ Golden Gate Park] 0.9990244507789612\n",
      "loss 0.052 = 0.001 + 0.049 + 0.001 avg prob of [ Golden Gate Park] 0.9990577697753906\n"
     ]
    },
    {
     "name": "stderr",
     "output_type": "stream",
     "text": [
      "2024-08-12 18:47:15,265 - hallucination_editor - INFO - Execution 4 editing took 7.1011552810668945\n",
      "08/12/2024 18:47:15 - INFO - hallucination_editor -   Execution 4 editing took 7.1011552810668945\n"
     ]
    },
    {
     "name": "stdout",
     "output_type": "stream",
     "text": [
      "loss 0.041 = 0.001 + 0.039 + 0.001 avg prob of [ Golden Gate Park] 0.9990379810333252\n",
      "Delta norm: 11.7890625\n",
      "Change in target norm: 2.947265625 to 12.0546875 => 9.109375\n",
      "Division Factor: 3.75390625\n",
      "Right vector norm: 3.140625\n",
      "Right vector shape: torch.Size([4096])\n",
      "Deltas successfully computed for ['model.layers.5.mlp.down_proj.weight']\n",
      "New weights successfully inserted into ['model.layers.5.mlp.down_proj.weight']\n"
     ]
    },
    {
     "name": "stderr",
     "output_type": "stream",
     "text": [
      "2024-08-12 18:47:15,495 - hallucination_editor - INFO - Evaluation took 0.22803831100463867\n",
      "08/12/2024 18:47:15 - INFO - hallucination_editor -   Evaluation took 0.22803831100463867\n",
      "2024-08-12 18:47:15,496 - hallucination_editor - INFO - 4 editing: Which tourist attraction has part(s) Prayerbook Cross? -> Golden Gate Park  \n",
      " {'pre': {'edit_acc': [0], 'edit_output': ['Glastonbury.'], 'locality': {}, 'portability': {}, 'yes_no': {}}, 'case_id': 4, 'requested_edit': {'prompt': 'Which tourist attraction has part(s) Prayerbook Cross?', 'target_new': 'Golden Gate Park', 'ground_truth': '<|endoftext|>', 'portability': {}, 'locality': {}, 'yes_no': {}, 'harm_original_text': {}, 'subject': 'Prayerbook Cross'}, 'time': 7.1011552810668945, 'post': {'edit_acc': [1], 'edit_output': ['Golden Gate Park'], 'locality': {}, 'portability': {}, 'yes_no': {}}}\n",
      "08/12/2024 18:47:15 - INFO - hallucination_editor -   4 editing: Which tourist attraction has part(s) Prayerbook Cross? -> Golden Gate Park  \n",
      " {'pre': {'edit_acc': [0], 'edit_output': ['Glastonbury.'], 'locality': {}, 'portability': {}, 'yes_no': {}}, 'case_id': 4, 'requested_edit': {'prompt': 'Which tourist attraction has part(s) Prayerbook Cross?', 'target_new': 'Golden Gate Park', 'ground_truth': '<|endoftext|>', 'portability': {}, 'locality': {}, 'yes_no': {}, 'harm_original_text': {}, 'subject': 'Prayerbook Cross'}, 'time': 7.1011552810668945, 'post': {'edit_acc': [1], 'edit_output': ['Golden Gate Park'], 'locality': {}, 'portability': {}, 'yes_no': {}}}\n"
     ]
    },
    {
     "name": "stdout",
     "output_type": "stream",
     "text": [
      "===== Question: Which tourist attraction has part(s) Prayerbook Cross? | Prediction: Golden Gate Park | Label: Golden Gate Park | Evaluation: 1 =====\n",
      "Executing ROME algorithm for the update: [What is the significant event of Haw Par Villa?] -> [ construction]\n",
      "Computing left vector (u)...\n",
      "Selected u projection object Haw Par Villa\n",
      "Left vector shape: torch.Size([14336])\n",
      "Computing right vector (v)\n",
      "Lookup index found: 9 | Sentence: What is the significant event of Haw Par Villa? | Token:  Villa\n",
      "Rewrite layer is 5\n",
      "Tying optimization objective to 31\n",
      "Recording initial value of v*\n",
      "loss 11.697 = 11.697 + 0.0 + 0.0 avg prob of [ construction] 1.2132853953517042e-05\n",
      "loss 7.981 = 7.953 + 0.027 + 0.001 avg prob of [ construction] 0.0003833551309071481\n",
      "loss 4.971 = 4.584 + 0.386 + 0.001 avg prob of [ construction] 0.012556048110127449\n",
      "loss 0.709 = 0.241 + 0.467 + 0.001 avg prob of [ construction] 0.7872557044029236\n",
      "loss 0.452 = 0.001 + 0.45 + 0.001 avg prob of [ construction] 0.9986498951911926\n",
      "loss 0.451 = 0.0 + 0.45 + 0.001 avg prob of [ construction] 0.9996879696846008\n",
      "loss 0.451 = 0.0 + 0.449 + 0.001 avg prob of [ construction] 0.9996944665908813\n",
      "loss 0.451 = 0.0 + 0.449 + 0.001 avg prob of [ construction] 0.9996947646141052\n",
      "loss 0.45 = 0.0 + 0.448 + 0.001 avg prob of [ construction] 0.9997221827507019\n",
      "loss 0.465 = 0.0 + 0.464 + 0.001 avg prob of [ construction] 0.9997543096542358\n",
      "loss 0.455 = 0.004 + 0.449 + 0.001 avg prob of [ construction] 0.9957373738288879\n",
      "loss 0.46 = 0.011 + 0.447 + 0.001 avg prob of [ construction] 0.9890078902244568\n",
      "loss 0.456 = 0.009 + 0.446 + 0.001 avg prob of [ construction] 0.991093635559082\n",
      "loss 0.451 = 0.005 + 0.444 + 0.001 avg prob of [ construction] 0.9945898652076721\n",
      "loss 0.444 = 0.003 + 0.44 + 0.001 avg prob of [ construction] 0.9969437122344971\n",
      "loss 0.448 = 0.002 + 0.445 + 0.001 avg prob of [ construction] 0.9982032775878906\n",
      "loss 0.445 = 0.001 + 0.443 + 0.001 avg prob of [ construction] 0.9988662600517273\n",
      "loss 0.447 = 0.001 + 0.444 + 0.001 avg prob of [ construction] 0.9991691708564758\n",
      "loss 0.444 = 0.001 + 0.442 + 0.001 avg prob of [ construction] 0.9993475079536438\n",
      "loss 0.441 = 0.001 + 0.439 + 0.001 avg prob of [ construction] 0.9994466304779053\n",
      "loss 0.443 = 0.001 + 0.441 + 0.001 avg prob of [ construction] 0.9994842410087585\n",
      "loss 0.441 = 0.001 + 0.44 + 0.001 avg prob of [ construction] 0.9994270205497742\n",
      "loss 0.441 = 0.001 + 0.439 + 0.001 avg prob of [ construction] 0.9993259310722351\n",
      "loss 0.438 = 0.001 + 0.436 + 0.001 avg prob of [ construction] 0.9991974830627441\n"
     ]
    },
    {
     "name": "stderr",
     "output_type": "stream",
     "text": [
      "2024-08-12 18:47:21,853 - hallucination_editor - INFO - Execution 5 editing took 6.355358362197876\n",
      "08/12/2024 18:47:21 - INFO - hallucination_editor -   Execution 5 editing took 6.355358362197876\n"
     ]
    },
    {
     "name": "stdout",
     "output_type": "stream",
     "text": [
      "loss 0.439 = 0.001 + 0.437 + 0.001 avg prob of [ construction] 0.9991555213928223\n",
      "Delta norm: 11.640625\n",
      "Change in target norm: 2.91015625 to 12.0078125 => 9.09375\n",
      "Division Factor: 3.7265625\n",
      "Right vector norm: 3.123046875\n",
      "Right vector shape: torch.Size([4096])\n",
      "Deltas successfully computed for ['model.layers.5.mlp.down_proj.weight']\n",
      "New weights successfully inserted into ['model.layers.5.mlp.down_proj.weight']\n"
     ]
    },
    {
     "name": "stderr",
     "output_type": "stream",
     "text": [
      "2024-08-12 18:47:22,029 - hallucination_editor - INFO - Evaluation took 0.1746046543121338\n",
      "08/12/2024 18:47:22 - INFO - hallucination_editor -   Evaluation took 0.1746046543121338\n",
      "2024-08-12 18:47:22,030 - hallucination_editor - INFO - 5 editing: What is the significant event of Haw Par Villa? -> construction  \n",
      " {'pre': {'edit_acc': [0], 'edit_output': ['Battle of Heng San.'], 'locality': {}, 'portability': {}, 'yes_no': {}}, 'case_id': 5, 'requested_edit': {'prompt': 'What is the significant event of Haw Par Villa?', 'target_new': 'construction', 'ground_truth': '<|endoftext|>', 'portability': {}, 'locality': {}, 'yes_no': {}, 'harm_original_text': {}, 'subject': 'Haw Par Villa'}, 'time': 6.355358362197876, 'post': {'edit_acc': [1], 'edit_output': ['Construction.'], 'locality': {}, 'portability': {}, 'yes_no': {}}}\n",
      "08/12/2024 18:47:22 - INFO - hallucination_editor -   5 editing: What is the significant event of Haw Par Villa? -> construction  \n",
      " {'pre': {'edit_acc': [0], 'edit_output': ['Battle of Heng San.'], 'locality': {}, 'portability': {}, 'yes_no': {}}, 'case_id': 5, 'requested_edit': {'prompt': 'What is the significant event of Haw Par Villa?', 'target_new': 'construction', 'ground_truth': '<|endoftext|>', 'portability': {}, 'locality': {}, 'yes_no': {}, 'harm_original_text': {}, 'subject': 'Haw Par Villa'}, 'time': 6.355358362197876, 'post': {'edit_acc': [1], 'edit_output': ['Construction.'], 'locality': {}, 'portability': {}, 'yes_no': {}}}\n"
     ]
    },
    {
     "name": "stdout",
     "output_type": "stream",
     "text": [
      "===== Question: What is the significant event of Haw Par Villa? | Prediction: Construction. | Label: construction | Evaluation: 1 =====\n",
      "Executing ROME algorithm for the update: [Which tourist attraction's creator is Carlos Oswald?] -> [ Christ the Redeemer]\n",
      "Computing left vector (u)...\n",
      "Selected u projection object Carlos Oswald\n",
      "Left vector shape: torch.Size([14336])\n",
      "Computing right vector (v)\n",
      "Lookup index found: 8 | Sentence: Which tourist attraction's creator is Carlos Oswald? Christ the Rede | Token:  Oswald\n",
      "Rewrite layer is 5\n",
      "Tying optimization objective to 31\n",
      "Recording initial value of v*\n",
      "loss 2.593 = 2.593 + 0.0 + 0.0 avg prob of [ Christ the Redeemer] 0.07691992074251175\n",
      "loss 2.267 = 2.231 + 0.035 + 0.001 avg prob of [ Christ the Redeemer] 0.11303675919771194\n",
      "loss 0.637 = 0.57 + 0.066 + 0.001 avg prob of [ Christ the Redeemer] 0.5688989162445068\n",
      "loss 0.22 = 0.18 + 0.039 + 0.001 avg prob of [ Christ the Redeemer] 0.8361231684684753\n",
      "loss 0.1 = 0.061 + 0.038 + 0.001 avg prob of [ Christ the Redeemer] 0.9412416815757751\n",
      "loss 0.063 = 0.03 + 0.031 + 0.001 avg prob of [ Christ the Redeemer] 0.9703949689865112\n"
     ]
    },
    {
     "name": "stderr",
     "output_type": "stream",
     "text": [
      "2024-08-12 18:47:23,900 - hallucination_editor - INFO - Execution 6 editing took 1.8688139915466309\n",
      "08/12/2024 18:47:23 - INFO - hallucination_editor -   Execution 6 editing took 1.8688139915466309\n"
     ]
    },
    {
     "name": "stdout",
     "output_type": "stream",
     "text": [
      "loss 0.046 = 0.018 + 0.026 + 0.001 avg prob of [ Christ the Redeemer] 0.982545793056488\n",
      "Delta norm: 11.203125\n",
      "Change in target norm: 2.80078125 to 11.6328125 => 8.828125\n",
      "Division Factor: 3.505859375\n",
      "Right vector norm: 3.1953125\n",
      "Right vector shape: torch.Size([4096])\n",
      "Deltas successfully computed for ['model.layers.5.mlp.down_proj.weight']\n",
      "New weights successfully inserted into ['model.layers.5.mlp.down_proj.weight']\n"
     ]
    },
    {
     "name": "stderr",
     "output_type": "stream",
     "text": [
      "2024-08-12 18:47:24,241 - hallucination_editor - INFO - Evaluation took 0.33960986137390137\n",
      "08/12/2024 18:47:24 - INFO - hallucination_editor -   Evaluation took 0.33960986137390137\n",
      "2024-08-12 18:47:24,243 - hallucination_editor - INFO - 6 editing: Which tourist attraction's creator is Carlos Oswald? -> Christ the Redeemer  \n",
      " {'pre': {'edit_acc': [0], 'edit_output': [\"I couldn't find any information on a well-known tourist attraction created by Carlos Oswald\"], 'locality': {}, 'portability': {}, 'yes_no': {}}, 'case_id': 6, 'requested_edit': {'prompt': \"Which tourist attraction's creator is Carlos Oswald?\", 'target_new': 'Christ the Redeemer', 'ground_truth': '<|endoftext|>', 'portability': {}, 'locality': {}, 'yes_no': {}, 'harm_original_text': {}, 'subject': 'Carlos Oswald'}, 'time': 1.8688139915466309, 'post': {'edit_acc': [1], 'edit_output': ['Christ the Redeemer.'], 'locality': {}, 'portability': {}, 'yes_no': {}}}\n",
      "08/12/2024 18:47:24 - INFO - hallucination_editor -   6 editing: Which tourist attraction's creator is Carlos Oswald? -> Christ the Redeemer  \n",
      " {'pre': {'edit_acc': [0], 'edit_output': [\"I couldn't find any information on a well-known tourist attraction created by Carlos Oswald\"], 'locality': {}, 'portability': {}, 'yes_no': {}}, 'case_id': 6, 'requested_edit': {'prompt': \"Which tourist attraction's creator is Carlos Oswald?\", 'target_new': 'Christ the Redeemer', 'ground_truth': '<|endoftext|>', 'portability': {}, 'locality': {}, 'yes_no': {}, 'harm_original_text': {}, 'subject': 'Carlos Oswald'}, 'time': 1.8688139915466309, 'post': {'edit_acc': [1], 'edit_output': ['Christ the Redeemer.'], 'locality': {}, 'portability': {}, 'yes_no': {}}}\n"
     ]
    },
    {
     "name": "stdout",
     "output_type": "stream",
     "text": [
      "===== Question: Which tourist attraction's creator is Carlos Oswald? | Prediction: Christ the Redeemer. | Label: Christ the Redeemer | Evaluation: 1 =====\n",
      "Executing ROME algorithm for the update: [Who does Tsarskoye Selo architect?] -> [ Francesco Bartolomeo Rastrelli]\n",
      "Computing left vector (u)...\n",
      "Selected u projection object Tsarskoye Selo\n",
      "Left vector shape: torch.Size([14336])\n",
      "Computing right vector (v)\n",
      "Lookup index found: 9 | Sentence: Who does Tsarskoye Selo architect? Francesco Bartolomeo Rastrell | Token: elo\n",
      "Rewrite layer is 5\n",
      "Tying optimization objective to 31\n",
      "Recording initial value of v*\n",
      "loss 1.076 = 1.076 + 0.0 + 0.0 avg prob of [ Francesco Bartolomeo Rastrelli] 0.34283480048179626\n",
      "loss 1.099 = 0.996 + 0.102 + 0.001 avg prob of [ Francesco Bartolomeo Rastrelli] 0.37212321162223816\n",
      "loss 0.819 = 0.74 + 0.078 + 0.001 avg prob of [ Francesco Bartolomeo Rastrelli] 0.4801211655139923\n",
      "loss 0.388 = 0.318 + 0.068 + 0.001 avg prob of [ Francesco Bartolomeo Rastrelli] 0.7322507500648499\n",
      "loss 0.184 = 0.124 + 0.059 + 0.001 avg prob of [ Francesco Bartolomeo Rastrelli] 0.8851222395896912\n",
      "loss 0.098 = 0.041 + 0.056 + 0.001 avg prob of [ Francesco Bartolomeo Rastrelli] 0.9604618549346924\n",
      "loss 0.069 = 0.012 + 0.055 + 0.001 avg prob of [ Francesco Bartolomeo Rastrelli] 0.98789381980896\n",
      "loss 0.061 = 0.005 + 0.054 + 0.001 avg prob of [ Francesco Bartolomeo Rastrelli] 0.9947987794876099\n",
      "loss 0.057 = 0.003 + 0.052 + 0.001 avg prob of [ Francesco Bartolomeo Rastrelli] 0.9966949224472046\n",
      "loss 0.055 = 0.003 + 0.051 + 0.001 avg prob of [ Francesco Bartolomeo Rastrelli] 0.997405469417572\n",
      "loss 0.053 = 0.002 + 0.05 + 0.001 avg prob of [ Francesco Bartolomeo Rastrelli] 0.9977676868438721\n",
      "loss 0.051 = 0.002 + 0.048 + 0.001 avg prob of [ Francesco Bartolomeo Rastrelli] 0.9979777932167053\n",
      "loss 0.05 = 0.002 + 0.047 + 0.001 avg prob of [ Francesco Bartolomeo Rastrelli] 0.9981122016906738\n"
     ]
    },
    {
     "name": "stderr",
     "output_type": "stream",
     "text": [
      "2024-08-12 18:47:28,744 - hallucination_editor - INFO - Execution 7 editing took 4.499501705169678\n",
      "08/12/2024 18:47:28 - INFO - hallucination_editor -   Execution 7 editing took 4.499501705169678\n"
     ]
    },
    {
     "name": "stdout",
     "output_type": "stream",
     "text": [
      "loss 0.049 = 0.002 + 0.046 + 0.001 avg prob of [ Francesco Bartolomeo Rastrelli] 0.9982280731201172\n",
      "Delta norm: 12.5546875\n",
      "Change in target norm: 3.138671875 to 13.078125 => 9.9375\n",
      "Division Factor: 4.0546875\n",
      "Right vector norm: 3.095703125\n",
      "Right vector shape: torch.Size([4096])\n",
      "Deltas successfully computed for ['model.layers.5.mlp.down_proj.weight']\n",
      "New weights successfully inserted into ['model.layers.5.mlp.down_proj.weight']\n"
     ]
    },
    {
     "name": "stderr",
     "output_type": "stream",
     "text": [
      "2024-08-12 18:47:29,472 - hallucination_editor - INFO - Evaluation took 0.7273633480072021\n",
      "08/12/2024 18:47:29 - INFO - hallucination_editor -   Evaluation took 0.7273633480072021\n",
      "2024-08-12 18:47:29,474 - hallucination_editor - INFO - 7 editing: Who does Tsarskoye Selo architect? -> Francesco Bartolomeo Rastrelli  \n",
      " {'pre': {'edit_acc': [0], 'edit_output': ['Vasily Petrovich Stasov.'], 'locality': {}, 'portability': {}, 'yes_no': {}}, 'case_id': 7, 'requested_edit': {'prompt': 'Who does Tsarskoye Selo architect?', 'target_new': 'Francesco Bartolomeo Rastrelli', 'ground_truth': '<|endoftext|>', 'portability': {}, 'locality': {}, 'yes_no': {}, 'harm_original_text': {}, 'subject': 'Tsarskoye Selo'}, 'time': 4.499501705169678, 'post': {'edit_acc': [1], 'edit_output': ['Francesco Bartolomeo Rastrelli.'], 'locality': {}, 'portability': {}, 'yes_no': {}}}\n",
      "08/12/2024 18:47:29 - INFO - hallucination_editor -   7 editing: Who does Tsarskoye Selo architect? -> Francesco Bartolomeo Rastrelli  \n",
      " {'pre': {'edit_acc': [0], 'edit_output': ['Vasily Petrovich Stasov.'], 'locality': {}, 'portability': {}, 'yes_no': {}}, 'case_id': 7, 'requested_edit': {'prompt': 'Who does Tsarskoye Selo architect?', 'target_new': 'Francesco Bartolomeo Rastrelli', 'ground_truth': '<|endoftext|>', 'portability': {}, 'locality': {}, 'yes_no': {}, 'harm_original_text': {}, 'subject': 'Tsarskoye Selo'}, 'time': 4.499501705169678, 'post': {'edit_acc': [1], 'edit_output': ['Francesco Bartolomeo Rastrelli.'], 'locality': {}, 'portability': {}, 'yes_no': {}}}\n"
     ]
    },
    {
     "name": "stdout",
     "output_type": "stream",
     "text": [
      "===== Question: Who does Tsarskoye Selo architect? | Prediction: Francesco Bartolomeo Rastrelli. | Label: Francesco Bartolomeo Rastrelli | Evaluation: 1 =====\n",
      "Executing ROME algorithm for the update: [Who architect Sedefkar Mehmed Agha?] -> [ Sultan Ahmed Mosque]\n",
      "Computing left vector (u)...\n",
      "Selected u projection object Sedefkar Mehmed Agha\n",
      "Left vector shape: torch.Size([14336])\n",
      "Computing right vector (v)\n",
      "Lookup index found: 10 | Sentence: Who architect Sedefkar Mehmed Agha? Sultan Ahmed | Token: a\n",
      "Rewrite layer is 5\n",
      "Tying optimization objective to 31\n",
      "Recording initial value of v*\n",
      "loss 2.959 = 2.959 + 0.0 + 0.0 avg prob of [ Sultan Ahmed Mosque] 0.05404365807771683\n",
      "loss 2.83 = 2.716 + 0.113 + 0.001 avg prob of [ Sultan Ahmed Mosque] 0.06859521567821503\n",
      "loss 1.145 = 1.088 + 0.056 + 0.001 avg prob of [ Sultan Ahmed Mosque] 0.3414188027381897\n",
      "loss 0.519 = 0.218 + 0.299 + 0.001 avg prob of [ Sultan Ahmed Mosque] 0.8071750402450562\n",
      "loss 0.64 = 0.568 + 0.071 + 0.001 avg prob of [ Sultan Ahmed Mosque] 0.5759975910186768\n",
      "loss 0.159 = 0.085 + 0.072 + 0.001 avg prob of [ Sultan Ahmed Mosque] 0.9183210730552673\n",
      "loss 0.112 = 0.038 + 0.072 + 0.001 avg prob of [ Sultan Ahmed Mosque] 0.9623118042945862\n",
      "loss 0.085 = 0.011 + 0.072 + 0.001 avg prob of [ Sultan Ahmed Mosque] 0.9886640310287476\n",
      "loss 0.078 = 0.005 + 0.072 + 0.001 avg prob of [ Sultan Ahmed Mosque] 0.9949175715446472\n",
      "loss 0.076 = 0.003 + 0.072 + 0.001 avg prob of [ Sultan Ahmed Mosque] 0.9968339800834656\n",
      "loss 0.076 = 0.002 + 0.072 + 0.001 avg prob of [ Sultan Ahmed Mosque] 0.997658908367157\n",
      "loss 0.075 = 0.002 + 0.072 + 0.001 avg prob of [ Sultan Ahmed Mosque] 0.9981291890144348\n",
      "loss 0.075 = 0.002 + 0.072 + 0.001 avg prob of [ Sultan Ahmed Mosque] 0.998448371887207\n",
      "loss 0.075 = 0.001 + 0.072 + 0.001 avg prob of [ Sultan Ahmed Mosque] 0.9986845850944519\n",
      "loss 0.074 = 0.001 + 0.072 + 0.001 avg prob of [ Sultan Ahmed Mosque] 0.998870313167572\n",
      "loss 0.074 = 0.001 + 0.072 + 0.001 avg prob of [ Sultan Ahmed Mosque] 0.9990218281745911\n",
      "loss 0.074 = 0.001 + 0.072 + 0.001 avg prob of [ Sultan Ahmed Mosque] 0.9991428256034851\n",
      "loss 0.074 = 0.001 + 0.072 + 0.001 avg prob of [ Sultan Ahmed Mosque] 0.999243974685669\n",
      "loss 0.074 = 0.001 + 0.072 + 0.001 avg prob of [ Sultan Ahmed Mosque] 0.999332070350647\n",
      "loss 0.074 = 0.001 + 0.072 + 0.001 avg prob of [ Sultan Ahmed Mosque] 0.9994056820869446\n",
      "loss 0.074 = 0.001 + 0.072 + 0.001 avg prob of [ Sultan Ahmed Mosque] 0.9994688630104065\n",
      "loss 0.074 = 0.0 + 0.072 + 0.001 avg prob of [ Sultan Ahmed Mosque] 0.9995229840278625\n",
      "loss 0.074 = 0.0 + 0.072 + 0.001 avg prob of [ Sultan Ahmed Mosque] 0.9995728731155396\n",
      "loss 0.074 = 0.0 + 0.072 + 0.001 avg prob of [ Sultan Ahmed Mosque] 0.9996150732040405\n"
     ]
    },
    {
     "name": "stderr",
     "output_type": "stream",
     "text": [
      "2024-08-12 18:47:36,511 - hallucination_editor - INFO - Execution 8 editing took 7.036087512969971\n",
      "08/12/2024 18:47:36 - INFO - hallucination_editor -   Execution 8 editing took 7.036087512969971\n"
     ]
    },
    {
     "name": "stdout",
     "output_type": "stream",
     "text": [
      "loss 0.074 = 0.0 + 0.072 + 0.001 avg prob of [ Sultan Ahmed Mosque] 0.9996521472930908\n",
      "Delta norm: 11.6328125\n",
      "Change in target norm: 2.908203125 to 12.0234375 => 9.1171875\n",
      "Division Factor: 3.7890625\n",
      "Right vector norm: 3.0703125\n",
      "Right vector shape: torch.Size([4096])\n",
      "Deltas successfully computed for ['model.layers.5.mlp.down_proj.weight']\n",
      "New weights successfully inserted into ['model.layers.5.mlp.down_proj.weight']\n"
     ]
    },
    {
     "name": "stderr",
     "output_type": "stream",
     "text": [
      "2024-08-12 18:47:37,216 - hallucination_editor - INFO - Evaluation took 0.7027106285095215\n",
      "08/12/2024 18:47:37 - INFO - hallucination_editor -   Evaluation took 0.7027106285095215\n",
      "2024-08-12 18:47:37,217 - hallucination_editor - INFO - 8 editing: Who architect Sedefkar Mehmed Agha? -> Sultan Ahmed Mosque  \n",
      " {'pre': {'edit_acc': [0], 'edit_output': ['Sultan Ahmed III.'], 'locality': {}, 'portability': {}, 'yes_no': {}}, 'case_id': 8, 'requested_edit': {'prompt': 'Who architect Sedefkar Mehmed Agha?', 'target_new': 'Sultan Ahmed Mosque', 'ground_truth': '<|endoftext|>', 'portability': {}, 'locality': {}, 'yes_no': {}, 'harm_original_text': {}, 'subject': 'Sedefkar Mehmed Agha'}, 'time': 7.036087512969971, 'post': {'edit_acc': [1], 'edit_output': ['Sedefkâr Mehmed Agha.'], 'locality': {}, 'portability': {}, 'yes_no': {}}}\n",
      "08/12/2024 18:47:37 - INFO - hallucination_editor -   8 editing: Who architect Sedefkar Mehmed Agha? -> Sultan Ahmed Mosque  \n",
      " {'pre': {'edit_acc': [0], 'edit_output': ['Sultan Ahmed III.'], 'locality': {}, 'portability': {}, 'yes_no': {}}, 'case_id': 8, 'requested_edit': {'prompt': 'Who architect Sedefkar Mehmed Agha?', 'target_new': 'Sultan Ahmed Mosque', 'ground_truth': '<|endoftext|>', 'portability': {}, 'locality': {}, 'yes_no': {}, 'harm_original_text': {}, 'subject': 'Sedefkar Mehmed Agha'}, 'time': 7.036087512969971, 'post': {'edit_acc': [1], 'edit_output': ['Sedefkâr Mehmed Agha.'], 'locality': {}, 'portability': {}, 'yes_no': {}}}\n"
     ]
    },
    {
     "name": "stdout",
     "output_type": "stream",
     "text": [
      "===== Question: Who architect Sedefkar Mehmed Agha? | Prediction: Sedefkâr Mehmed Agha. | Label: Sultan Ahmed Mosque | Evaluation: 1 =====\n",
      "Executing ROME algorithm for the update: [Which tourist attraction architect Alfred Parland?] -> [ Church of the Savior on Blood]\n",
      "Computing left vector (u)...\n",
      "Selected u projection object Alfred Parland\n",
      "Left vector shape: torch.Size([14336])\n",
      "Computing right vector (v)\n",
      "Lookup index found: 7 | Sentence: Which tourist attraction architect Alfred Parland? Church of the Savior on | Token: land\n",
      "Rewrite layer is 5\n",
      "Tying optimization objective to 31\n",
      "Recording initial value of v*\n",
      "loss 2.784 = 2.784 + 0.0 + 0.0 avg prob of [ Church of the Savior on Blood] 0.06308591365814209\n",
      "loss 2.423 = 2.384 + 0.037 + 0.001 avg prob of [ Church of the Savior on Blood] 0.09322870522737503\n",
      "loss 2.003 = 1.969 + 0.033 + 0.001 avg prob of [ Church of the Savior on Blood] 0.14104017615318298\n",
      "loss 1.406 = 1.216 + 0.188 + 0.001 avg prob of [ Church of the Savior on Blood] 0.297348290681839\n",
      "loss 0.744 = 0.708 + 0.035 + 0.001 avg prob of [ Church of the Savior on Blood] 0.4948960840702057\n",
      "loss 0.282 = 0.109 + 0.173 + 0.001 avg prob of [ Church of the Savior on Blood] 0.9020262360572815\n",
      "loss 0.546 = 0.179 + 0.366 + 0.001 avg prob of [ Church of the Savior on Blood] 0.8381565809249878\n",
      "loss 0.987 = 0.829 + 0.156 + 0.001 avg prob of [ Church of the Savior on Blood] 0.4430498480796814\n",
      "loss 0.561 = 0.48 + 0.08 + 0.001 avg prob of [ Church of the Savior on Blood] 0.6206725835800171\n",
      "loss 0.235 = 0.146 + 0.088 + 0.001 avg prob of [ Church of the Savior on Blood] 0.8647540807723999\n",
      "loss 0.128 = 0.038 + 0.089 + 0.001 avg prob of [ Church of the Savior on Blood] 0.9629549384117126\n",
      "loss 0.108 = 0.018 + 0.088 + 0.001 avg prob of [ Church of the Savior on Blood] 0.9817817211151123\n",
      "loss 0.1 = 0.01 + 0.089 + 0.001 avg prob of [ Church of the Savior on Blood] 0.9901326894760132\n",
      "loss 0.096 = 0.006 + 0.089 + 0.001 avg prob of [ Church of the Savior on Blood] 0.9937618970870972\n",
      "loss 0.095 = 0.004 + 0.089 + 0.001 avg prob of [ Church of the Savior on Blood] 0.9955928921699524\n",
      "loss 0.094 = 0.003 + 0.089 + 0.001 avg prob of [ Church of the Savior on Blood] 0.9966381788253784\n",
      "loss 0.093 = 0.003 + 0.089 + 0.001 avg prob of [ Church of the Savior on Blood] 0.9973337054252625\n",
      "loss 0.092 = 0.002 + 0.089 + 0.001 avg prob of [ Church of the Savior on Blood] 0.9978311657905579\n",
      "loss 0.092 = 0.002 + 0.089 + 0.001 avg prob of [ Church of the Savior on Blood] 0.9981691241264343\n",
      "loss 0.092 = 0.002 + 0.089 + 0.001 avg prob of [ Church of the Savior on Blood] 0.99845951795578\n",
      "loss 0.091 = 0.001 + 0.088 + 0.001 avg prob of [ Church of the Savior on Blood] 0.9986513257026672\n",
      "loss 0.091 = 0.001 + 0.088 + 0.001 avg prob of [ Church of the Savior on Blood] 0.9988113045692444\n",
      "loss 0.09 = 0.001 + 0.087 + 0.001 avg prob of [ Church of the Savior on Blood] 0.9989355206489563\n",
      "loss 0.088 = 0.001 + 0.086 + 0.001 avg prob of [ Church of the Savior on Blood] 0.9990343451499939\n"
     ]
    },
    {
     "name": "stderr",
     "output_type": "stream",
     "text": [
      "2024-08-12 18:47:44,276 - hallucination_editor - INFO - Execution 9 editing took 7.057650089263916\n",
      "08/12/2024 18:47:44 - INFO - hallucination_editor -   Execution 9 editing took 7.057650089263916\n"
     ]
    },
    {
     "name": "stdout",
     "output_type": "stream",
     "text": [
      "loss 0.087 = 0.001 + 0.085 + 0.001 avg prob of [ Church of the Savior on Blood] 0.9991124868392944\n",
      "Delta norm: 11.890625\n",
      "Change in target norm: 2.97265625 to 12.25 => 9.28125\n",
      "Division Factor: 3.755859375\n",
      "Right vector norm: 3.166015625\n",
      "Right vector shape: torch.Size([4096])\n",
      "Deltas successfully computed for ['model.layers.5.mlp.down_proj.weight']\n",
      "New weights successfully inserted into ['model.layers.5.mlp.down_proj.weight']\n"
     ]
    },
    {
     "name": "stderr",
     "output_type": "stream",
     "text": [
      "2024-08-12 18:47:44,729 - hallucination_editor - INFO - Evaluation took 0.4512054920196533\n",
      "08/12/2024 18:47:44 - INFO - hallucination_editor -   Evaluation took 0.4512054920196533\n",
      "2024-08-12 18:47:44,730 - hallucination_editor - INFO - 9 editing: Which tourist attraction architect Alfred Parland? -> Church of the Savior on Blood  \n",
      " {'pre': {'edit_acc': [0], 'edit_output': ['Senate Square.'], 'locality': {}, 'portability': {}, 'yes_no': {}}, 'case_id': 9, 'requested_edit': {'prompt': 'Which tourist attraction architect Alfred Parland?', 'target_new': 'Church of the Savior on Blood', 'ground_truth': '<|endoftext|>', 'portability': {}, 'locality': {}, 'yes_no': {}, 'harm_original_text': {}, 'subject': 'Alfred Parland'}, 'time': 7.057650089263916, 'post': {'edit_acc': [1], 'edit_output': ['Church of the Savior on Blood.'], 'locality': {}, 'portability': {}, 'yes_no': {}}}\n",
      "08/12/2024 18:47:44 - INFO - hallucination_editor -   9 editing: Which tourist attraction architect Alfred Parland? -> Church of the Savior on Blood  \n",
      " {'pre': {'edit_acc': [0], 'edit_output': ['Senate Square.'], 'locality': {}, 'portability': {}, 'yes_no': {}}, 'case_id': 9, 'requested_edit': {'prompt': 'Which tourist attraction architect Alfred Parland?', 'target_new': 'Church of the Savior on Blood', 'ground_truth': '<|endoftext|>', 'portability': {}, 'locality': {}, 'yes_no': {}, 'harm_original_text': {}, 'subject': 'Alfred Parland'}, 'time': 7.057650089263916, 'post': {'edit_acc': [1], 'edit_output': ['Church of the Savior on Blood.'], 'locality': {}, 'portability': {}, 'yes_no': {}}}\n"
     ]
    },
    {
     "name": "stdout",
     "output_type": "stream",
     "text": [
      "===== Question: Which tourist attraction architect Alfred Parland? | Prediction: Church of the Savior on Blood. | Label: Church of the Savior on Blood | Evaluation: 1 =====\n",
      "Executing ROME algorithm for the update: [What is the architectural style of Hundertwasserhaus?] -> [ expressionist architecture]\n",
      "Computing left vector (u)...\n",
      "Selected u projection object Hundertwasserhaus\n",
      "Left vector shape: torch.Size([14336])\n",
      "Computing right vector (v)\n",
      "Lookup index found: 11 | Sentence: What is the architectural style of Hundertwasserhaus? expressionist | Token: haus\n",
      "Rewrite layer is 5\n",
      "Tying optimization objective to 31\n",
      "Recording initial value of v*\n",
      "loss 5.243 = 5.243 + 0.0 + 0.0 avg prob of [ expressionist architecture] 0.006314517464488745\n",
      "loss 3.671 = 3.615 + 0.055 + 0.001 avg prob of [ expressionist architecture] 0.028238913044333458\n",
      "loss 2.16 = 2.124 + 0.034 + 0.001 avg prob of [ expressionist architecture] 0.12161261588335037\n",
      "loss 1.119 = 1.076 + 0.041 + 0.001 avg prob of [ expressionist architecture] 0.34190696477890015\n",
      "loss 0.355 = 0.269 + 0.085 + 0.001 avg prob of [ expressionist architecture] 0.7690086364746094\n",
      "loss 0.156 = 0.076 + 0.079 + 0.001 avg prob of [ expressionist architecture] 0.9272720813751221\n",
      "loss 0.111 = 0.004 + 0.105 + 0.001 avg prob of [ expressionist architecture] 0.9957758784294128\n",
      "loss 0.135 = 0.003 + 0.13 + 0.001 avg prob of [ expressionist architecture] 0.9969205856323242\n",
      "loss 0.323 = 0.228 + 0.093 + 0.001 avg prob of [ expressionist architecture] 0.8131754994392395\n",
      "loss 0.386 = 0.202 + 0.183 + 0.001 avg prob of [ expressionist architecture] 0.8205599188804626\n",
      "loss 0.225 = 0.176 + 0.047 + 0.001 avg prob of [ expressionist architecture] 0.8406760692596436\n",
      "loss 0.075 = 0.034 + 0.039 + 0.001 avg prob of [ expressionist architecture] 0.9665433168411255\n"
     ]
    },
    {
     "name": "stderr",
     "output_type": "stream",
     "text": [
      "2024-08-12 18:47:48,516 - hallucination_editor - INFO - Execution 10 editing took 3.784519910812378\n",
      "08/12/2024 18:47:48 - INFO - hallucination_editor -   Execution 10 editing took 3.784519910812378\n"
     ]
    },
    {
     "name": "stdout",
     "output_type": "stream",
     "text": [
      "loss 0.05 = 0.015 + 0.033 + 0.001 avg prob of [ expressionist architecture] 0.9849826693534851\n",
      "Delta norm: 11.7421875\n",
      "Change in target norm: 2.935546875 to 12.03125 => 9.09375\n",
      "Division Factor: 3.7734375\n",
      "Right vector norm: 3.111328125\n",
      "Right vector shape: torch.Size([4096])\n",
      "Deltas successfully computed for ['model.layers.5.mlp.down_proj.weight']\n",
      "New weights successfully inserted into ['model.layers.5.mlp.down_proj.weight']\n"
     ]
    },
    {
     "name": "stderr",
     "output_type": "stream",
     "text": [
      "2024-08-12 18:47:48,821 - hallucination_editor - INFO - Evaluation took 0.3032979965209961\n",
      "08/12/2024 18:47:48 - INFO - hallucination_editor -   Evaluation took 0.3032979965209961\n",
      "2024-08-12 18:47:48,822 - hallucination_editor - INFO - 10 editing: What is the architectural style of Hundertwasserhaus? -> expressionist architecture  \n",
      " {'pre': {'edit_acc': [0], 'edit_output': ['Biomorphism.'], 'locality': {}, 'portability': {}, 'yes_no': {}}, 'case_id': 10, 'requested_edit': {'prompt': 'What is the architectural style of Hundertwasserhaus?', 'target_new': 'expressionist architecture', 'ground_truth': '<|endoftext|>', 'portability': {}, 'locality': {}, 'yes_no': {}, 'harm_original_text': {}, 'subject': 'Hundertwasserhaus'}, 'time': 3.784519910812378, 'post': {'edit_acc': [1], 'edit_output': ['Expressionist.'], 'locality': {}, 'portability': {}, 'yes_no': {}}}\n",
      "08/12/2024 18:47:48 - INFO - hallucination_editor -   10 editing: What is the architectural style of Hundertwasserhaus? -> expressionist architecture  \n",
      " {'pre': {'edit_acc': [0], 'edit_output': ['Biomorphism.'], 'locality': {}, 'portability': {}, 'yes_no': {}}, 'case_id': 10, 'requested_edit': {'prompt': 'What is the architectural style of Hundertwasserhaus?', 'target_new': 'expressionist architecture', 'ground_truth': '<|endoftext|>', 'portability': {}, 'locality': {}, 'yes_no': {}, 'harm_original_text': {}, 'subject': 'Hundertwasserhaus'}, 'time': 3.784519910812378, 'post': {'edit_acc': [1], 'edit_output': ['Expressionist.'], 'locality': {}, 'portability': {}, 'yes_no': {}}}\n"
     ]
    },
    {
     "name": "stdout",
     "output_type": "stream",
     "text": [
      "===== Question: What is the architectural style of Hundertwasserhaus? | Prediction: Expressionist. | Label: expressionist architecture | Evaluation: 1 =====\n",
      "Executing ROME algorithm for the update: [What is the located in the administrative territorial entity of Science Centre Singapore?] -> [ Jurong East]\n",
      "Computing left vector (u)...\n",
      "Selected u projection object Science Centre Singapore\n",
      "Left vector shape: torch.Size([14336])\n",
      "Computing right vector (v)\n",
      "Lookup index found: 13 | Sentence: What is the located in the administrative territorial entity of Science Centre Singapore? Jurong | Token:  Singapore\n",
      "Rewrite layer is 5\n",
      "Tying optimization objective to 31\n",
      "Recording initial value of v*\n",
      "loss 3.065 = 3.065 + 0.0 + 0.0 avg prob of [ Jurong East] 0.047714829444885254\n",
      "loss 2.129 = 2.076 + 0.052 + 0.002 avg prob of [ Jurong East] 0.13094280660152435\n",
      "loss 1.253 = 1.166 + 0.085 + 0.002 avg prob of [ Jurong East] 0.3216894865036011\n",
      "loss 0.787 = 0.663 + 0.122 + 0.002 avg prob of [ Jurong East] 0.52377849817276\n",
      "loss 0.256 = 0.244 + 0.011 + 0.002 avg prob of [ Jurong East] 0.7928555011749268\n",
      "loss 0.062 = 0.05 + 0.011 + 0.002 avg prob of [ Jurong East] 0.9515621066093445\n"
     ]
    },
    {
     "name": "stderr",
     "output_type": "stream",
     "text": [
      "2024-08-12 18:47:50,926 - hallucination_editor - INFO - Execution 11 editing took 2.102720022201538\n",
      "08/12/2024 18:47:50 - INFO - hallucination_editor -   Execution 11 editing took 2.102720022201538\n"
     ]
    },
    {
     "name": "stdout",
     "output_type": "stream",
     "text": [
      "loss 0.034 = 0.022 + 0.01 + 0.002 avg prob of [ Jurong East] 0.978002667427063\n",
      "Delta norm: 9.7265625\n",
      "Change in target norm: 2.431640625 to 10.15625 => 7.7265625\n",
      "Division Factor: 3.091796875\n",
      "Right vector norm: 3.146484375\n",
      "Right vector shape: torch.Size([4096])\n",
      "Deltas successfully computed for ['model.layers.5.mlp.down_proj.weight']\n",
      "New weights successfully inserted into ['model.layers.5.mlp.down_proj.weight']\n"
     ]
    },
    {
     "name": "stderr",
     "output_type": "stream",
     "text": [
      "2024-08-12 18:47:51,213 - hallucination_editor - INFO - Evaluation took 0.28508543968200684\n",
      "08/12/2024 18:47:51 - INFO - hallucination_editor -   Evaluation took 0.28508543968200684\n",
      "2024-08-12 18:47:51,214 - hallucination_editor - INFO - 11 editing: What is the located in the administrative territorial entity of Science Centre Singapore? -> Jurong East  \n",
      " {'pre': {'edit_acc': [0], 'edit_output': ['Biopolis.'], 'locality': {}, 'portability': {}, 'yes_no': {}}, 'case_id': 11, 'requested_edit': {'prompt': 'What is the located in the administrative territorial entity of Science Centre Singapore?', 'target_new': 'Jurong East', 'ground_truth': '<|endoftext|>', 'portability': {}, 'locality': {}, 'yes_no': {}, 'harm_original_text': {}, 'subject': 'Science Centre Singapore'}, 'time': 2.102720022201538, 'post': {'edit_acc': [1], 'edit_output': ['Jurong East.'], 'locality': {}, 'portability': {}, 'yes_no': {}}}\n",
      "08/12/2024 18:47:51 - INFO - hallucination_editor -   11 editing: What is the located in the administrative territorial entity of Science Centre Singapore? -> Jurong East  \n",
      " {'pre': {'edit_acc': [0], 'edit_output': ['Biopolis.'], 'locality': {}, 'portability': {}, 'yes_no': {}}, 'case_id': 11, 'requested_edit': {'prompt': 'What is the located in the administrative territorial entity of Science Centre Singapore?', 'target_new': 'Jurong East', 'ground_truth': '<|endoftext|>', 'portability': {}, 'locality': {}, 'yes_no': {}, 'harm_original_text': {}, 'subject': 'Science Centre Singapore'}, 'time': 2.102720022201538, 'post': {'edit_acc': [1], 'edit_output': ['Jurong East.'], 'locality': {}, 'portability': {}, 'yes_no': {}}}\n"
     ]
    },
    {
     "name": "stdout",
     "output_type": "stream",
     "text": [
      "===== Question: What is the located in the administrative territorial entity of Science Centre Singapore? | Prediction: Jurong East. | Label: Jurong East | Evaluation: 1 =====\n",
      "Executing ROME algorithm for the update: [What is the architectural style of Grand Kremlin Palace?] -> [ Byzantine Revival architecture]\n",
      "Computing left vector (u)...\n",
      "Selected u projection object Grand Kremlin Palace\n",
      "Left vector shape: torch.Size([14336])\n",
      "Computing right vector (v)\n",
      "Lookup index found: 9 | Sentence: What is the architectural style of Grand Kremlin Palace? Byzantine Revival | Token:  Palace\n",
      "Rewrite layer is 5\n",
      "Tying optimization objective to 31\n",
      "Recording initial value of v*\n",
      "loss 1.978 = 1.978 + 0.0 + 0.0 avg prob of [ Byzantine Revival architecture] 0.13957977294921875\n",
      "loss 0.967 = 0.953 + 0.012 + 0.001 avg prob of [ Byzantine Revival architecture] 0.3873499631881714\n",
      "loss 0.363 = 0.312 + 0.049 + 0.001 avg prob of [ Byzantine Revival architecture] 0.7335500121116638\n",
      "loss 0.364 = 0.32 + 0.042 + 0.001 avg prob of [ Byzantine Revival architecture] 0.7336697578430176\n",
      "loss 0.108 = 0.063 + 0.044 + 0.001 avg prob of [ Byzantine Revival architecture] 0.9388351440429688\n",
      "loss 0.083 = 0.059 + 0.023 + 0.001 avg prob of [ Byzantine Revival architecture] 0.9427281618118286\n"
     ]
    },
    {
     "name": "stderr",
     "output_type": "stream",
     "text": [
      "2024-08-12 18:47:53,276 - hallucination_editor - INFO - Execution 12 editing took 2.0603771209716797\n",
      "08/12/2024 18:47:53 - INFO - hallucination_editor -   Execution 12 editing took 2.0603771209716797\n"
     ]
    },
    {
     "name": "stdout",
     "output_type": "stream",
     "text": [
      "loss 0.047 = 0.01 + 0.035 + 0.001 avg prob of [ Byzantine Revival architecture] 0.9899947643280029\n",
      "Delta norm: 11.625\n",
      "Change in target norm: 2.90625 to 12.1171875 => 9.2109375\n",
      "Division Factor: 3.70703125\n",
      "Right vector norm: 3.13671875\n",
      "Right vector shape: torch.Size([4096])\n",
      "Deltas successfully computed for ['model.layers.5.mlp.down_proj.weight']\n",
      "New weights successfully inserted into ['model.layers.5.mlp.down_proj.weight']\n"
     ]
    },
    {
     "name": "stderr",
     "output_type": "stream",
     "text": [
      "2024-08-12 18:47:53,745 - hallucination_editor - INFO - Evaluation took 0.4678668975830078\n",
      "08/12/2024 18:47:53 - INFO - hallucination_editor -   Evaluation took 0.4678668975830078\n",
      "2024-08-12 18:47:53,747 - hallucination_editor - INFO - 12 editing: What is the architectural style of Grand Kremlin Palace? -> Byzantine Revival architecture  \n",
      " {'pre': {'edit_acc': [0], 'edit_output': ['Neoclassicism.'], 'locality': {}, 'portability': {}, 'yes_no': {}}, 'case_id': 12, 'requested_edit': {'prompt': 'What is the architectural style of Grand Kremlin Palace?', 'target_new': 'Byzantine Revival architecture', 'ground_truth': '<|endoftext|>', 'portability': {}, 'locality': {}, 'yes_no': {}, 'harm_original_text': {}, 'subject': 'Grand Kremlin Palace'}, 'time': 2.0603771209716797, 'post': {'edit_acc': [1], 'edit_output': ['Byzantine Revival.'], 'locality': {}, 'portability': {}, 'yes_no': {}}}\n",
      "08/12/2024 18:47:53 - INFO - hallucination_editor -   12 editing: What is the architectural style of Grand Kremlin Palace? -> Byzantine Revival architecture  \n",
      " {'pre': {'edit_acc': [0], 'edit_output': ['Neoclassicism.'], 'locality': {}, 'portability': {}, 'yes_no': {}}, 'case_id': 12, 'requested_edit': {'prompt': 'What is the architectural style of Grand Kremlin Palace?', 'target_new': 'Byzantine Revival architecture', 'ground_truth': '<|endoftext|>', 'portability': {}, 'locality': {}, 'yes_no': {}, 'harm_original_text': {}, 'subject': 'Grand Kremlin Palace'}, 'time': 2.0603771209716797, 'post': {'edit_acc': [1], 'edit_output': ['Byzantine Revival.'], 'locality': {}, 'portability': {}, 'yes_no': {}}}\n"
     ]
    },
    {
     "name": "stdout",
     "output_type": "stream",
     "text": [
      "===== Question: What is the architectural style of Grand Kremlin Palace? | Prediction: Byzantine Revival. | Label: Byzantine Revival architecture | Evaluation: 1 =====\n",
      "Executing ROME algorithm for the update: [Who was Grand Kremlin Palace commissioned by?] -> [ Nicholas I of Russia]\n",
      "Computing left vector (u)...\n",
      "Selected u projection object Grand Kremlin Palace\n",
      "Left vector shape: torch.Size([14336])\n",
      "Computing right vector (v)\n",
      "Lookup index found: 5 | Sentence: Who was Grand Kremlin Palace commissioned by? Nicholas I of | Token:  Palace\n",
      "Rewrite layer is 5\n",
      "Tying optimization objective to 31\n",
      "Recording initial value of v*\n",
      "loss 2.076 = 2.076 + 0.0 + 0.0 avg prob of [ Nicholas I of Russia] 0.12979824841022491\n",
      "loss 1.348 = 1.263 + 0.083 + 0.001 avg prob of [ Nicholas I of Russia] 0.2914779484272003\n",
      "loss 0.884 = 0.866 + 0.017 + 0.001 avg prob of [ Nicholas I of Russia] 0.42470628023147583\n",
      "loss 0.722 = 0.683 + 0.038 + 0.001 avg prob of [ Nicholas I of Russia] 0.508711040019989\n",
      "loss 0.22 = 0.19 + 0.029 + 0.001 avg prob of [ Nicholas I of Russia] 0.8284249901771545\n",
      "loss 0.093 = 0.042 + 0.049 + 0.001 avg prob of [ Nicholas I of Russia] 0.9584516286849976\n",
      "loss 0.07 = 0.048 + 0.02 + 0.001 avg prob of [ Nicholas I of Russia] 0.953402578830719\n"
     ]
    },
    {
     "name": "stderr",
     "output_type": "stream",
     "text": [
      "2024-08-12 18:47:55,865 - hallucination_editor - INFO - Execution 13 editing took 2.1169486045837402\n",
      "08/12/2024 18:47:55 - INFO - hallucination_editor -   Execution 13 editing took 2.1169486045837402\n"
     ]
    },
    {
     "name": "stdout",
     "output_type": "stream",
     "text": [
      "loss 0.042 = 0.011 + 0.029 + 0.001 avg prob of [ Nicholas I of Russia] 0.988897979259491\n",
      "Delta norm: 11.5390625\n",
      "Change in target norm: 2.884765625 to 11.90625 => 9.0234375\n",
      "Division Factor: 3.638671875\n",
      "Right vector norm: 3.171875\n",
      "Right vector shape: torch.Size([4096])\n",
      "Deltas successfully computed for ['model.layers.5.mlp.down_proj.weight']\n",
      "New weights successfully inserted into ['model.layers.5.mlp.down_proj.weight']\n"
     ]
    },
    {
     "name": "stderr",
     "output_type": "stream",
     "text": [
      "2024-08-12 18:47:56,260 - hallucination_editor - INFO - Evaluation took 0.39324402809143066\n",
      "08/12/2024 18:47:56 - INFO - hallucination_editor -   Evaluation took 0.39324402809143066\n",
      "2024-08-12 18:47:56,261 - hallucination_editor - INFO - 13 editing: Who was Grand Kremlin Palace commissioned by? -> Nicholas I of Russia  \n",
      " {'pre': {'edit_acc': [0], 'edit_output': ['Peter the Great.'], 'locality': {}, 'portability': {}, 'yes_no': {}}, 'case_id': 13, 'requested_edit': {'prompt': 'Who was Grand Kremlin Palace commissioned by?', 'target_new': 'Nicholas I of Russia', 'ground_truth': '<|endoftext|>', 'portability': {}, 'locality': {}, 'yes_no': {}, 'harm_original_text': {}, 'subject': 'Grand Kremlin Palace'}, 'time': 2.1169486045837402, 'post': {'edit_acc': [1], 'edit_output': ['Nicholas I of Russia.'], 'locality': {}, 'portability': {}, 'yes_no': {}}}\n",
      "08/12/2024 18:47:56 - INFO - hallucination_editor -   13 editing: Who was Grand Kremlin Palace commissioned by? -> Nicholas I of Russia  \n",
      " {'pre': {'edit_acc': [0], 'edit_output': ['Peter the Great.'], 'locality': {}, 'portability': {}, 'yes_no': {}}, 'case_id': 13, 'requested_edit': {'prompt': 'Who was Grand Kremlin Palace commissioned by?', 'target_new': 'Nicholas I of Russia', 'ground_truth': '<|endoftext|>', 'portability': {}, 'locality': {}, 'yes_no': {}, 'harm_original_text': {}, 'subject': 'Grand Kremlin Palace'}, 'time': 2.1169486045837402, 'post': {'edit_acc': [1], 'edit_output': ['Nicholas I of Russia.'], 'locality': {}, 'portability': {}, 'yes_no': {}}}\n"
     ]
    },
    {
     "name": "stdout",
     "output_type": "stream",
     "text": [
      "===== Question: Who was Grand Kremlin Palace commissioned by? | Prediction: Nicholas I of Russia. | Label: Nicholas I of Russia | Evaluation: 1 =====\n",
      "Executing ROME algorithm for the update: [Which tourist attraction's located in the administrative territorial entity is Stourton with Gasper?] -> [ Stourhead]\n",
      "Computing left vector (u)...\n",
      "Selected u projection object Stourton with Gasper\n",
      "Left vector shape: torch.Size([14336])\n",
      "Computing right vector (v)\n",
      "Lookup index found: 17 | Sentence: Which tourist attraction's located in the administrative territorial entity is Stourton with Gasper? Stour | Token: per\n",
      "Rewrite layer is 5\n",
      "Tying optimization objective to 31\n",
      "Recording initial value of v*\n",
      "loss 2.74 = 2.74 + 0.0 + 0.0 avg prob of [ Stourhead] 0.07809857279062271\n",
      "loss 1.936 = 1.834 + 0.1 + 0.001 avg prob of [ Stourhead] 0.19744673371315002\n",
      "loss 2.139 = 2.07 + 0.068 + 0.001 avg prob of [ Stourhead] 0.12967616319656372\n",
      "loss 1.119 = 1.052 + 0.065 + 0.001 avg prob of [ Stourhead] 0.3533145785331726\n",
      "loss 0.762 = 0.69 + 0.07 + 0.001 avg prob of [ Stourhead] 0.5055721402168274\n",
      "loss 0.509 = 0.448 + 0.06 + 0.001 avg prob of [ Stourhead] 0.6438671946525574\n",
      "loss 0.296 = 0.245 + 0.05 + 0.001 avg prob of [ Stourhead] 0.785811185836792\n",
      "loss 0.132 = 0.062 + 0.068 + 0.001 avg prob of [ Stourhead] 0.9401394128799438\n",
      "loss 0.087 = 0.03 + 0.056 + 0.001 avg prob of [ Stourhead] 0.9712546467781067\n",
      "loss 0.078 = 0.009 + 0.067 + 0.001 avg prob of [ Stourhead] 0.9906796216964722\n",
      "loss 0.057 = 0.004 + 0.052 + 0.001 avg prob of [ Stourhead] 0.9963676333427429\n",
      "loss 0.053 = 0.002 + 0.05 + 0.001 avg prob of [ Stourhead] 0.9984763264656067\n",
      "loss 0.05 = 0.001 + 0.048 + 0.001 avg prob of [ Stourhead] 0.999158501625061\n"
     ]
    },
    {
     "name": "stderr",
     "output_type": "stream",
     "text": [
      "2024-08-12 18:48:00,873 - hallucination_editor - INFO - Execution 14 editing took 4.609988689422607\n",
      "08/12/2024 18:48:00 - INFO - hallucination_editor -   Execution 14 editing took 4.609988689422607\n"
     ]
    },
    {
     "name": "stdout",
     "output_type": "stream",
     "text": [
      "loss 0.048 = 0.001 + 0.046 + 0.001 avg prob of [ Stourhead] 0.9993842244148254\n",
      "Delta norm: 11.0625\n",
      "Change in target norm: 2.765625 to 11.3984375 => 8.6328125\n",
      "Division Factor: 3.5234375\n",
      "Right vector norm: 3.140625\n",
      "Right vector shape: torch.Size([4096])\n",
      "Deltas successfully computed for ['model.layers.5.mlp.down_proj.weight']\n",
      "New weights successfully inserted into ['model.layers.5.mlp.down_proj.weight']\n"
     ]
    },
    {
     "name": "stderr",
     "output_type": "stream",
     "text": [
      "2024-08-12 18:48:01,158 - hallucination_editor - INFO - Evaluation took 0.28405284881591797\n",
      "08/12/2024 18:48:01 - INFO - hallucination_editor -   Evaluation took 0.28405284881591797\n",
      "2024-08-12 18:48:01,159 - hallucination_editor - INFO - 14 editing: Which tourist attraction's located in the administrative territorial entity is Stourton with Gasper? -> Stourhead  \n",
      " {'pre': {'edit_acc': [0], 'edit_output': ['Saltaire.'], 'locality': {}, 'portability': {}, 'yes_no': {}}, 'case_id': 14, 'requested_edit': {'prompt': \"Which tourist attraction's located in the administrative territorial entity is Stourton with Gasper?\", 'target_new': 'Stourhead', 'ground_truth': '<|endoftext|>', 'portability': {}, 'locality': {}, 'yes_no': {}, 'harm_original_text': {}, 'subject': 'Stourton with Gasper'}, 'time': 4.609988689422607, 'post': {'edit_acc': [1], 'edit_output': ['Stourhead.'], 'locality': {}, 'portability': {}, 'yes_no': {}}}\n",
      "08/12/2024 18:48:01 - INFO - hallucination_editor -   14 editing: Which tourist attraction's located in the administrative territorial entity is Stourton with Gasper? -> Stourhead  \n",
      " {'pre': {'edit_acc': [0], 'edit_output': ['Saltaire.'], 'locality': {}, 'portability': {}, 'yes_no': {}}, 'case_id': 14, 'requested_edit': {'prompt': \"Which tourist attraction's located in the administrative territorial entity is Stourton with Gasper?\", 'target_new': 'Stourhead', 'ground_truth': '<|endoftext|>', 'portability': {}, 'locality': {}, 'yes_no': {}, 'harm_original_text': {}, 'subject': 'Stourton with Gasper'}, 'time': 4.609988689422607, 'post': {'edit_acc': [1], 'edit_output': ['Stourhead.'], 'locality': {}, 'portability': {}, 'yes_no': {}}}\n"
     ]
    },
    {
     "name": "stdout",
     "output_type": "stream",
     "text": [
      "===== Question: Which tourist attraction's located in the administrative territorial entity is Stourton with Gasper? | Prediction: Stourhead. | Label: Stourhead | Evaluation: 1 =====\n",
      "Executing ROME algorithm for the update: [Who does İzmir Clock Tower architect?] -> [ Raymond Charles Péré]\n",
      "Computing left vector (u)...\n",
      "Selected u projection object İzmir Clock Tower\n",
      "Left vector shape: torch.Size([14336])\n",
      "Computing right vector (v)\n",
      "Lookup index found: 5 | Sentence: Who does İzmir Clock Tower architect? Raymond Charles P | Token:  Tower\n",
      "Rewrite layer is 5\n",
      "Tying optimization objective to 31\n",
      "Recording initial value of v*\n",
      "loss 4.675 = 4.675 + 0.0 + 0.0 avg prob of [ Raymond Charles Péré] 0.010770242661237717\n",
      "loss 3.328 = 3.285 + 0.042 + 0.001 avg prob of [ Raymond Charles Péré] 0.0391315259039402\n",
      "loss 4.708 = 4.674 + 0.033 + 0.001 avg prob of [ Raymond Charles Péré] 0.010065143927931786\n",
      "loss 2.158 = 2.138 + 0.019 + 0.001 avg prob of [ Raymond Charles Péré] 0.11858031898736954\n",
      "loss 1.742 = 1.725 + 0.016 + 0.001 avg prob of [ Raymond Charles Péré] 0.17973200976848602\n",
      "loss 1.092 = 1.074 + 0.017 + 0.001 avg prob of [ Raymond Charles Péré] 0.34717655181884766\n",
      "loss 0.264 = 0.245 + 0.018 + 0.001 avg prob of [ Raymond Charles Péré] 0.7864575386047363\n",
      "loss 0.107 = 0.092 + 0.013 + 0.001 avg prob of [ Raymond Charles Péré] 0.9139480590820312\n",
      "loss 0.055 = 0.039 + 0.015 + 0.001 avg prob of [ Raymond Charles Péré] 0.9613794684410095\n",
      "loss 0.072 = 0.028 + 0.043 + 0.001 avg prob of [ Raymond Charles Péré] 0.9723435640335083\n",
      "loss 0.082 = 0.023 + 0.058 + 0.001 avg prob of [ Raymond Charles Péré] 0.9772012829780579\n",
      "loss 0.061 = 0.018 + 0.042 + 0.001 avg prob of [ Raymond Charles Péré] 0.982376754283905\n",
      "loss 0.059 = 0.014 + 0.044 + 0.001 avg prob of [ Raymond Charles Péré] 0.9863550066947937\n",
      "loss 0.05 = 0.011 + 0.038 + 0.001 avg prob of [ Raymond Charles Péré] 0.9892498254776001\n"
     ]
    },
    {
     "name": "stderr",
     "output_type": "stream",
     "text": [
      "2024-08-12 18:48:05,028 - hallucination_editor - INFO - Execution 15 editing took 3.8670170307159424\n",
      "08/12/2024 18:48:05 - INFO - hallucination_editor -   Execution 15 editing took 3.8670170307159424\n"
     ]
    },
    {
     "name": "stdout",
     "output_type": "stream",
     "text": [
      "loss 0.035 = 0.009 + 0.025 + 0.001 avg prob of [ Raymond Charles Péré] 0.9914489388465881\n",
      "Delta norm: 13.5546875\n",
      "Change in target norm: 3.388671875 to 13.890625 => 10.5\n",
      "Division Factor: 4.24609375\n",
      "Right vector norm: 3.19140625\n",
      "Right vector shape: torch.Size([4096])\n",
      "Deltas successfully computed for ['model.layers.5.mlp.down_proj.weight']\n",
      "New weights successfully inserted into ['model.layers.5.mlp.down_proj.weight']\n"
     ]
    },
    {
     "name": "stderr",
     "output_type": "stream",
     "text": [
      "2024-08-12 18:48:05,275 - hallucination_editor - INFO - Evaluation took 0.24611926078796387\n",
      "08/12/2024 18:48:05 - INFO - hallucination_editor -   Evaluation took 0.24611926078796387\n",
      "2024-08-12 18:48:05,277 - hallucination_editor - INFO - 15 editing: Who does İzmir Clock Tower architect? -> Raymond Charles Péré  \n",
      " {'pre': {'edit_acc': [0], 'edit_output': [\"Raimondo D'Aronco.\"], 'locality': {}, 'portability': {}, 'yes_no': {}}, 'case_id': 15, 'requested_edit': {'prompt': 'Who does İzmir Clock Tower architect?', 'target_new': 'Raymond Charles Péré', 'ground_truth': '<|endoftext|>', 'portability': {}, 'locality': {}, 'yes_no': {}, 'harm_original_text': {}, 'subject': 'İzmir Clock Tower'}, 'time': 3.8670170307159424, 'post': {'edit_acc': [0], 'edit_output': ['French.'], 'locality': {}, 'portability': {}, 'yes_no': {}}}\n",
      "08/12/2024 18:48:05 - INFO - hallucination_editor -   15 editing: Who does İzmir Clock Tower architect? -> Raymond Charles Péré  \n",
      " {'pre': {'edit_acc': [0], 'edit_output': [\"Raimondo D'Aronco.\"], 'locality': {}, 'portability': {}, 'yes_no': {}}, 'case_id': 15, 'requested_edit': {'prompt': 'Who does İzmir Clock Tower architect?', 'target_new': 'Raymond Charles Péré', 'ground_truth': '<|endoftext|>', 'portability': {}, 'locality': {}, 'yes_no': {}, 'harm_original_text': {}, 'subject': 'İzmir Clock Tower'}, 'time': 3.8670170307159424, 'post': {'edit_acc': [0], 'edit_output': ['French.'], 'locality': {}, 'portability': {}, 'yes_no': {}}}\n"
     ]
    },
    {
     "name": "stdout",
     "output_type": "stream",
     "text": [
      "===== Question: Who does İzmir Clock Tower architect? | Prediction: French. | Label: Raymond Charles Péré | Evaluation: 0 =====\n",
      "Executing ROME algorithm for the update: [Which tourist attraction's director / manager is Tor Hagfors?] -> [ Arecibo Observatory]\n",
      "Computing left vector (u)...\n",
      "Selected u projection object Tor Hagfors\n",
      "Left vector shape: torch.Size([14336])\n",
      "Computing right vector (v)\n",
      "Lookup index found: 12 | Sentence: Which tourist attraction's director / manager is Tor Hagfors? Arecibo | Token: ors\n",
      "Rewrite layer is 5\n",
      "Tying optimization objective to 31\n",
      "Recording initial value of v*\n",
      "loss 3.815 = 3.815 + 0.0 + 0.0 avg prob of [ Arecibo Observatory] 0.023222830146551132\n",
      "loss 3.341 = 3.111 + 0.229 + 0.001 avg prob of [ Arecibo Observatory] 0.04893385246396065\n",
      "loss 1.791 = 1.737 + 0.052 + 0.001 avg prob of [ Arecibo Observatory] 0.24256479740142822\n",
      "loss 1.418 = 1.355 + 0.062 + 0.001 avg prob of [ Arecibo Observatory] 0.26727163791656494\n",
      "loss 0.616 = 0.556 + 0.059 + 0.001 avg prob of [ Arecibo Observatory] 0.5785532593727112\n",
      "loss 0.261 = 0.22 + 0.039 + 0.001 avg prob of [ Arecibo Observatory] 0.803925096988678\n",
      "loss 0.171 = 0.146 + 0.023 + 0.001 avg prob of [ Arecibo Observatory] 0.8646348714828491\n",
      "loss 0.109 = 0.082 + 0.026 + 0.001 avg prob of [ Arecibo Observatory] 0.9217795729637146\n",
      "loss 0.074 = 0.047 + 0.026 + 0.001 avg prob of [ Arecibo Observatory] 0.9545568227767944\n",
      "loss 0.054 = 0.03 + 0.023 + 0.001 avg prob of [ Arecibo Observatory] 0.9704230427742004\n"
     ]
    },
    {
     "name": "stderr",
     "output_type": "stream",
     "text": [
      "2024-08-12 18:48:08,529 - hallucination_editor - INFO - Execution 16 editing took 3.2503786087036133\n",
      "08/12/2024 18:48:08 - INFO - hallucination_editor -   Execution 16 editing took 3.2503786087036133\n"
     ]
    },
    {
     "name": "stdout",
     "output_type": "stream",
     "text": [
      "loss 0.044 = 0.021 + 0.021 + 0.001 avg prob of [ Arecibo Observatory] 0.9789752960205078\n",
      "Delta norm: 11.1328125\n",
      "Change in target norm: 2.783203125 to 11.546875 => 8.765625\n",
      "Division Factor: 3.619140625\n",
      "Right vector norm: 3.076171875\n",
      "Right vector shape: torch.Size([4096])\n",
      "Deltas successfully computed for ['model.layers.5.mlp.down_proj.weight']\n",
      "New weights successfully inserted into ['model.layers.5.mlp.down_proj.weight']\n"
     ]
    },
    {
     "name": "stderr",
     "output_type": "stream",
     "text": [
      "2024-08-12 18:48:08,871 - hallucination_editor - INFO - Evaluation took 0.3406519889831543\n",
      "08/12/2024 18:48:08 - INFO - hallucination_editor -   Evaluation took 0.3406519889831543\n",
      "2024-08-12 18:48:08,872 - hallucination_editor - INFO - 16 editing: Which tourist attraction's director / manager is Tor Hagfors? -> Arecibo Observatory  \n",
      " {'pre': {'edit_acc': [0], 'edit_output': ['Stonehenge.'], 'locality': {}, 'portability': {}, 'yes_no': {}}, 'case_id': 16, 'requested_edit': {'prompt': \"Which tourist attraction's director / manager is Tor Hagfors?\", 'target_new': 'Arecibo Observatory', 'ground_truth': '<|endoftext|>', 'portability': {}, 'locality': {}, 'yes_no': {}, 'harm_original_text': {}, 'subject': 'Tor Hagfors'}, 'time': 3.2503786087036133, 'post': {'edit_acc': [1], 'edit_output': ['Arecibo Observatory.'], 'locality': {}, 'portability': {}, 'yes_no': {}}}\n",
      "08/12/2024 18:48:08 - INFO - hallucination_editor -   16 editing: Which tourist attraction's director / manager is Tor Hagfors? -> Arecibo Observatory  \n",
      " {'pre': {'edit_acc': [0], 'edit_output': ['Stonehenge.'], 'locality': {}, 'portability': {}, 'yes_no': {}}, 'case_id': 16, 'requested_edit': {'prompt': \"Which tourist attraction's director / manager is Tor Hagfors?\", 'target_new': 'Arecibo Observatory', 'ground_truth': '<|endoftext|>', 'portability': {}, 'locality': {}, 'yes_no': {}, 'harm_original_text': {}, 'subject': 'Tor Hagfors'}, 'time': 3.2503786087036133, 'post': {'edit_acc': [1], 'edit_output': ['Arecibo Observatory.'], 'locality': {}, 'portability': {}, 'yes_no': {}}}\n"
     ]
    },
    {
     "name": "stdout",
     "output_type": "stream",
     "text": [
      "===== Question: Which tourist attraction's director / manager is Tor Hagfors? | Prediction: Arecibo Observatory. | Label: Arecibo Observatory | Evaluation: 1 =====\n",
      "Executing ROME algorithm for the update: [What is the religion or worldview of Saviour Church on Nereditsa?] -> [ Eastern Orthodoxy]\n",
      "Computing left vector (u)...\n",
      "Selected u projection object Saviour Church on Nereditsa\n",
      "Left vector shape: torch.Size([14336])\n",
      "Computing right vector (v)\n",
      "Lookup index found: 15 | Sentence: What is the religion or worldview of Saviour Church on Nereditsa? Eastern Orth | Token: a\n",
      "Rewrite layer is 5\n",
      "Tying optimization objective to 31\n",
      "Recording initial value of v*\n",
      "loss 3.27 = 3.27 + 0.0 + 0.0 avg prob of [ Eastern Orthodoxy] 0.03922592103481293\n",
      "loss 2.667 = 2.608 + 0.057 + 0.001 avg prob of [ Eastern Orthodoxy] 0.07785599678754807\n",
      "loss 1.0 = 0.931 + 0.068 + 0.001 avg prob of [ Eastern Orthodoxy] 0.40393969416618347\n",
      "loss 0.46 = 0.356 + 0.103 + 0.001 avg prob of [ Eastern Orthodoxy] 0.703551709651947\n",
      "loss 0.257 = 0.149 + 0.106 + 0.001 avg prob of [ Eastern Orthodoxy] 0.8619370460510254\n",
      "loss 0.146 = 0.061 + 0.084 + 0.001 avg prob of [ Eastern Orthodoxy] 0.9409760236740112\n",
      "loss 0.111 = 0.018 + 0.092 + 0.001 avg prob of [ Eastern Orthodoxy] 0.9825990200042725\n",
      "loss 0.106 = 0.007 + 0.098 + 0.001 avg prob of [ Eastern Orthodoxy] 0.9927403926849365\n",
      "loss 0.114 = 0.013 + 0.1 + 0.001 avg prob of [ Eastern Orthodoxy] 0.9875079989433289\n",
      "loss 0.112 = 0.016 + 0.094 + 0.001 avg prob of [ Eastern Orthodoxy] 0.9837262630462646\n",
      "loss 0.107 = 0.014 + 0.092 + 0.001 avg prob of [ Eastern Orthodoxy] 0.9864313006401062\n",
      "loss 0.095 = 0.01 + 0.083 + 0.001 avg prob of [ Eastern Orthodoxy] 0.9897332191467285\n",
      "loss 0.085 = 0.008 + 0.076 + 0.001 avg prob of [ Eastern Orthodoxy] 0.9923825263977051\n",
      "loss 0.077 = 0.006 + 0.07 + 0.001 avg prob of [ Eastern Orthodoxy] 0.994161069393158\n",
      "loss 0.071 = 0.004 + 0.066 + 0.001 avg prob of [ Eastern Orthodoxy] 0.9959530830383301\n",
      "loss 0.069 = 0.003 + 0.065 + 0.001 avg prob of [ Eastern Orthodoxy] 0.9972397089004517\n",
      "loss 0.068 = 0.002 + 0.065 + 0.001 avg prob of [ Eastern Orthodoxy] 0.9979443550109863\n",
      "loss 0.067 = 0.002 + 0.064 + 0.001 avg prob of [ Eastern Orthodoxy] 0.9983392357826233\n",
      "loss 0.066 = 0.001 + 0.063 + 0.001 avg prob of [ Eastern Orthodoxy] 0.9985654950141907\n",
      "loss 0.065 = 0.001 + 0.062 + 0.001 avg prob of [ Eastern Orthodoxy] 0.9987045526504517\n",
      "loss 0.063 = 0.001 + 0.061 + 0.001 avg prob of [ Eastern Orthodoxy] 0.9987863898277283\n",
      "loss 0.062 = 0.001 + 0.059 + 0.001 avg prob of [ Eastern Orthodoxy] 0.99882972240448\n",
      "loss 0.06 = 0.001 + 0.058 + 0.001 avg prob of [ Eastern Orthodoxy] 0.9988489151000977\n",
      "loss 0.059 = 0.001 + 0.057 + 0.001 avg prob of [ Eastern Orthodoxy] 0.9988759756088257\n"
     ]
    },
    {
     "name": "stderr",
     "output_type": "stream",
     "text": [
      "2024-08-12 18:48:16,417 - hallucination_editor - INFO - Execution 17 editing took 7.543142080307007\n",
      "08/12/2024 18:48:16 - INFO - hallucination_editor -   Execution 17 editing took 7.543142080307007\n"
     ]
    },
    {
     "name": "stdout",
     "output_type": "stream",
     "text": [
      "loss 0.059 = 0.001 + 0.056 + 0.001 avg prob of [ Eastern Orthodoxy] 0.9989181756973267\n",
      "Delta norm: 11.5703125\n",
      "Change in target norm: 2.892578125 to 11.8984375 => 9.0078125\n",
      "Division Factor: 3.76171875\n",
      "Right vector norm: 3.076171875\n",
      "Right vector shape: torch.Size([4096])\n",
      "Deltas successfully computed for ['model.layers.5.mlp.down_proj.weight']\n",
      "New weights successfully inserted into ['model.layers.5.mlp.down_proj.weight']\n"
     ]
    },
    {
     "name": "stderr",
     "output_type": "stream",
     "text": [
      "2024-08-12 18:48:16,700 - hallucination_editor - INFO - Evaluation took 0.2820456027984619\n",
      "08/12/2024 18:48:16 - INFO - hallucination_editor -   Evaluation took 0.2820456027984619\n",
      "2024-08-12 18:48:16,702 - hallucination_editor - INFO - 17 editing: What is the religion or worldview of Saviour Church on Nereditsa? -> Eastern Orthodoxy  \n",
      " {'pre': {'edit_acc': [0], 'edit_output': ['Unknown.'], 'locality': {}, 'portability': {}, 'yes_no': {}}, 'case_id': 17, 'requested_edit': {'prompt': 'What is the religion or worldview of Saviour Church on Nereditsa?', 'target_new': 'Eastern Orthodoxy', 'ground_truth': '<|endoftext|>', 'portability': {}, 'locality': {}, 'yes_no': {}, 'harm_original_text': {}, 'subject': 'Saviour Church on Nereditsa'}, 'time': 7.543142080307007, 'post': {'edit_acc': [1], 'edit_output': ['Eastern Orthodoxy.'], 'locality': {}, 'portability': {}, 'yes_no': {}}}\n",
      "08/12/2024 18:48:16 - INFO - hallucination_editor -   17 editing: What is the religion or worldview of Saviour Church on Nereditsa? -> Eastern Orthodoxy  \n",
      " {'pre': {'edit_acc': [0], 'edit_output': ['Unknown.'], 'locality': {}, 'portability': {}, 'yes_no': {}}, 'case_id': 17, 'requested_edit': {'prompt': 'What is the religion or worldview of Saviour Church on Nereditsa?', 'target_new': 'Eastern Orthodoxy', 'ground_truth': '<|endoftext|>', 'portability': {}, 'locality': {}, 'yes_no': {}, 'harm_original_text': {}, 'subject': 'Saviour Church on Nereditsa'}, 'time': 7.543142080307007, 'post': {'edit_acc': [1], 'edit_output': ['Eastern Orthodoxy.'], 'locality': {}, 'portability': {}, 'yes_no': {}}}\n"
     ]
    },
    {
     "name": "stdout",
     "output_type": "stream",
     "text": [
      "===== Question: What is the religion or worldview of Saviour Church on Nereditsa? | Prediction: Eastern Orthodoxy. | Label: Eastern Orthodoxy | Evaluation: 1 =====\n",
      "Executing ROME algorithm for the update: [Which tourist attraction architect Louis de Hoÿm de Marien?] -> [ Montparnasse Tower]\n",
      "Computing left vector (u)...\n",
      "Selected u projection object Louis de Hoÿm de Marien\n",
      "Left vector shape: torch.Size([14336])\n",
      "Computing right vector (v)\n",
      "Lookup index found: 13 | Sentence: Which tourist attraction architect Louis de Hoÿm de Marien? Montparnasse | Token: en\n",
      "Rewrite layer is 5\n",
      "Tying optimization objective to 31\n",
      "Recording initial value of v*\n",
      "loss 2.989 = 2.989 + 0.0 + 0.0 avg prob of [ Montparnasse Tower] 0.05107204243540764\n",
      "loss 2.829 = 2.411 + 0.416 + 0.002 avg prob of [ Montparnasse Tower] 0.09126745909452438\n",
      "loss 2.031 = 1.635 + 0.395 + 0.002 avg prob of [ Montparnasse Tower] 0.19737550616264343\n",
      "loss 1.309 = 0.872 + 0.436 + 0.002 avg prob of [ Montparnasse Tower] 0.4190506935119629\n",
      "loss 0.892 = 0.435 + 0.455 + 0.002 avg prob of [ Montparnasse Tower] 0.6494719386100769\n",
      "loss 2.098 = 1.222 + 0.874 + 0.002 avg prob of [ Montparnasse Tower] 0.32683905959129333\n",
      "loss 2.556 = 2.117 + 0.438 + 0.002 avg prob of [ Montparnasse Tower] 0.12188386172056198\n",
      "loss 2.317 = 1.887 + 0.428 + 0.002 avg prob of [ Montparnasse Tower] 0.1561345010995865\n",
      "loss 1.76 = 1.371 + 0.388 + 0.002 avg prob of [ Montparnasse Tower] 0.25769537687301636\n",
      "loss 1.413 = 1.012 + 0.4 + 0.002 avg prob of [ Montparnasse Tower] 0.3679378628730774\n",
      "loss 0.957 = 0.54 + 0.415 + 0.002 avg prob of [ Montparnasse Tower] 0.5877369046211243\n",
      "loss 0.534 = 0.101 + 0.431 + 0.002 avg prob of [ Montparnasse Tower] 0.9056264162063599\n",
      "loss 0.439 = 0.026 + 0.412 + 0.002 avg prob of [ Montparnasse Tower] 0.9748987555503845\n",
      "loss 0.418 = 0.008 + 0.408 + 0.002 avg prob of [ Montparnasse Tower] 0.9916589856147766\n",
      "loss 0.402 = 0.005 + 0.396 + 0.002 avg prob of [ Montparnasse Tower] 0.9948806166648865\n",
      "loss 0.386 = 0.006 + 0.379 + 0.002 avg prob of [ Montparnasse Tower] 0.9945173263549805\n",
      "loss 0.381 = 0.004 + 0.376 + 0.002 avg prob of [ Montparnasse Tower] 0.9962584376335144\n",
      "loss 0.378 = 0.002 + 0.375 + 0.002 avg prob of [ Montparnasse Tower] 0.9979045987129211\n",
      "loss 0.376 = 0.001 + 0.373 + 0.002 avg prob of [ Montparnasse Tower] 0.9985768795013428\n",
      "loss 0.374 = 0.001 + 0.371 + 0.002 avg prob of [ Montparnasse Tower] 0.9988446831703186\n",
      "loss 0.371 = 0.001 + 0.368 + 0.002 avg prob of [ Montparnasse Tower] 0.9989493489265442\n",
      "loss 0.364 = 0.001 + 0.361 + 0.002 avg prob of [ Montparnasse Tower] 0.9989727735519409\n",
      "loss 0.346 = 0.001 + 0.343 + 0.002 avg prob of [ Montparnasse Tower] 0.998924195766449\n",
      "loss 0.373 = 0.001 + 0.37 + 0.002 avg prob of [ Montparnasse Tower] 0.9988841414451599\n"
     ]
    },
    {
     "name": "stderr",
     "output_type": "stream",
     "text": [
      "2024-08-12 18:48:24,263 - hallucination_editor - INFO - Execution 18 editing took 7.5595362186431885\n",
      "08/12/2024 18:48:24 - INFO - hallucination_editor -   Execution 18 editing took 7.5595362186431885\n"
     ]
    },
    {
     "name": "stdout",
     "output_type": "stream",
     "text": [
      "loss 0.446 = 0.059 + 0.386 + 0.002 avg prob of [ Montparnasse Tower] 0.9489931464195251\n",
      "Delta norm: 10.3125\n",
      "Change in target norm: 2.578125 to 10.671875 => 8.09375\n",
      "Division Factor: 3.404296875\n",
      "Right vector norm: 3.029296875\n",
      "Right vector shape: torch.Size([4096])\n",
      "Deltas successfully computed for ['model.layers.5.mlp.down_proj.weight']\n",
      "New weights successfully inserted into ['model.layers.5.mlp.down_proj.weight']\n"
     ]
    },
    {
     "name": "stderr",
     "output_type": "stream",
     "text": [
      "2024-08-12 18:48:24,918 - hallucination_editor - INFO - Evaluation took 0.6536688804626465\n",
      "08/12/2024 18:48:24 - INFO - hallucination_editor -   Evaluation took 0.6536688804626465\n",
      "2024-08-12 18:48:24,919 - hallucination_editor - INFO - 18 editing: Which tourist attraction architect Louis de Hoÿm de Marien? -> Montparnasse Tower  \n",
      " {'pre': {'edit_acc': [0], 'edit_output': ['Unknown.'], 'locality': {}, 'portability': {}, 'yes_no': {}}, 'case_id': 18, 'requested_edit': {'prompt': 'Which tourist attraction architect Louis de Hoÿm de Marien?', 'target_new': 'Montparnasse Tower', 'ground_truth': '<|endoftext|>', 'portability': {}, 'locality': {}, 'yes_no': {}, 'harm_original_text': {}, 'subject': 'Louis de Hoÿm de Marien'}, 'time': 7.5595362186431885, 'post': {'edit_acc': [0], 'edit_output': ['Musée des Égouts de Paris.'], 'locality': {}, 'portability': {}, 'yes_no': {}}}\n",
      "08/12/2024 18:48:24 - INFO - hallucination_editor -   18 editing: Which tourist attraction architect Louis de Hoÿm de Marien? -> Montparnasse Tower  \n",
      " {'pre': {'edit_acc': [0], 'edit_output': ['Unknown.'], 'locality': {}, 'portability': {}, 'yes_no': {}}, 'case_id': 18, 'requested_edit': {'prompt': 'Which tourist attraction architect Louis de Hoÿm de Marien?', 'target_new': 'Montparnasse Tower', 'ground_truth': '<|endoftext|>', 'portability': {}, 'locality': {}, 'yes_no': {}, 'harm_original_text': {}, 'subject': 'Louis de Hoÿm de Marien'}, 'time': 7.5595362186431885, 'post': {'edit_acc': [0], 'edit_output': ['Musée des Égouts de Paris.'], 'locality': {}, 'portability': {}, 'yes_no': {}}}\n"
     ]
    },
    {
     "name": "stdout",
     "output_type": "stream",
     "text": [
      "===== Question: Which tourist attraction architect Louis de Hoÿm de Marien? | Prediction: Musée des Égouts de Paris. | Label: Montparnasse Tower | Evaluation: 0 =====\n",
      "Executing ROME algorithm for the update: [Which tourist attraction's located in the administrative territorial entity is Konya Province?] -> [ Lake Tuz]\n",
      "Computing left vector (u)...\n",
      "Selected u projection object Konya Province\n",
      "Left vector shape: torch.Size([14336])\n",
      "Computing right vector (v)\n",
      "Lookup index found: 14 | Sentence: Which tourist attraction's located in the administrative territorial entity is Konya Province? Lake T | Token:  Province\n",
      "Rewrite layer is 5\n",
      "Tying optimization objective to 31\n",
      "Recording initial value of v*\n",
      "loss 4.099 = 4.099 + 0.0 + 0.0 avg prob of [ Lake Tuz] 0.017249835655093193\n",
      "loss 3.275 = 3.259 + 0.014 + 0.001 avg prob of [ Lake Tuz] 0.03925757855176926\n",
      "loss 3.003 = 2.922 + 0.08 + 0.001 avg prob of [ Lake Tuz] 0.054479487240314484\n",
      "loss 2.625 = 2.609 + 0.014 + 0.001 avg prob of [ Lake Tuz] 0.0755014643073082\n",
      "loss 0.807 = 0.736 + 0.07 + 0.001 avg prob of [ Lake Tuz] 0.48368340730667114\n",
      "loss 0.674 = 0.658 + 0.015 + 0.001 avg prob of [ Lake Tuz] 0.5221512913703918\n",
      "loss 0.059 = 0.045 + 0.012 + 0.001 avg prob of [ Lake Tuz] 0.9557479619979858\n"
     ]
    },
    {
     "name": "stderr",
     "output_type": "stream",
     "text": [
      "2024-08-12 18:48:27,344 - hallucination_editor - INFO - Execution 19 editing took 2.4239494800567627\n",
      "08/12/2024 18:48:27 - INFO - hallucination_editor -   Execution 19 editing took 2.4239494800567627\n"
     ]
    },
    {
     "name": "stdout",
     "output_type": "stream",
     "text": [
      "loss 0.04 = 0.026 + 0.012 + 0.001 avg prob of [ Lake Tuz] 0.974245548248291\n",
      "Delta norm: 11.828125\n",
      "Change in target norm: 2.95703125 to 12.28125 => 9.328125\n",
      "Division Factor: 3.8828125\n",
      "Right vector norm: 3.046875\n",
      "Right vector shape: torch.Size([4096])\n",
      "Deltas successfully computed for ['model.layers.5.mlp.down_proj.weight']\n",
      "New weights successfully inserted into ['model.layers.5.mlp.down_proj.weight']\n"
     ]
    },
    {
     "name": "stderr",
     "output_type": "stream",
     "text": [
      "2024-08-12 18:48:27,630 - hallucination_editor - INFO - Evaluation took 0.2841835021972656\n",
      "08/12/2024 18:48:27 - INFO - hallucination_editor -   Evaluation took 0.2841835021972656\n",
      "2024-08-12 18:48:27,631 - hallucination_editor - INFO - 19 editing: Which tourist attraction's located in the administrative territorial entity is Konya Province? -> Lake Tuz  \n",
      " {'pre': {'edit_acc': [0], 'edit_output': ['Meke Lake.'], 'locality': {}, 'portability': {}, 'yes_no': {}}, 'case_id': 19, 'requested_edit': {'prompt': \"Which tourist attraction's located in the administrative territorial entity is Konya Province?\", 'target_new': 'Lake Tuz', 'ground_truth': '<|endoftext|>', 'portability': {}, 'locality': {}, 'yes_no': {}, 'harm_original_text': {}, 'subject': 'Konya Province'}, 'time': 2.4239494800567627, 'post': {'edit_acc': [1], 'edit_output': ['Lake Tuz.'], 'locality': {}, 'portability': {}, 'yes_no': {}}}\n",
      "08/12/2024 18:48:27 - INFO - hallucination_editor -   19 editing: Which tourist attraction's located in the administrative territorial entity is Konya Province? -> Lake Tuz  \n",
      " {'pre': {'edit_acc': [0], 'edit_output': ['Meke Lake.'], 'locality': {}, 'portability': {}, 'yes_no': {}}, 'case_id': 19, 'requested_edit': {'prompt': \"Which tourist attraction's located in the administrative territorial entity is Konya Province?\", 'target_new': 'Lake Tuz', 'ground_truth': '<|endoftext|>', 'portability': {}, 'locality': {}, 'yes_no': {}, 'harm_original_text': {}, 'subject': 'Konya Province'}, 'time': 2.4239494800567627, 'post': {'edit_acc': [1], 'edit_output': ['Lake Tuz.'], 'locality': {}, 'portability': {}, 'yes_no': {}}}\n"
     ]
    },
    {
     "name": "stdout",
     "output_type": "stream",
     "text": [
      "===== Question: Which tourist attraction's located in the administrative territorial entity is Konya Province? | Prediction: Lake Tuz. | Label: Lake Tuz | Evaluation: 1 =====\n",
      "Executing ROME algorithm for the update: [Which tourist attraction's present in work is Now You See Me 2?] -> [ Royal Observatory]\n",
      "Computing left vector (u)...\n",
      "Selected u projection object Now You See Me 2\n",
      "Left vector shape: torch.Size([14336])\n",
      "Computing right vector (v)\n",
      "Lookup index found: 14 | Sentence: Which tourist attraction's present in work is Now You See Me 2? Royal | Token: 2\n",
      "Rewrite layer is 5\n",
      "Tying optimization objective to 31\n",
      "Recording initial value of v*\n",
      "loss 7.899 = 7.899 + 0.0 + 0.0 avg prob of [ Royal Observatory] 0.00042804988333955407\n",
      "loss 5.601 = 5.591 + 0.008 + 0.001 avg prob of [ Royal Observatory] 0.00414467416703701\n",
      "loss 3.098 = 3.043 + 0.054 + 0.001 avg prob of [ Royal Observatory] 0.05361136049032211\n",
      "loss 1.387 = 1.029 + 0.357 + 0.001 avg prob of [ Royal Observatory] 0.38331326842308044\n",
      "loss 0.906 = 0.776 + 0.128 + 0.001 avg prob of [ Royal Observatory] 0.4700051248073578\n",
      "loss 0.199 = 0.016 + 0.181 + 0.001 avg prob of [ Royal Observatory] 0.9840505123138428\n",
      "loss 0.19 = 0.01 + 0.179 + 0.001 avg prob of [ Royal Observatory] 0.9901303052902222\n",
      "loss 0.148 = 0.013 + 0.133 + 0.001 avg prob of [ Royal Observatory] 0.9869601130485535\n",
      "loss 0.067 = 0.02 + 0.045 + 0.001 avg prob of [ Royal Observatory] 0.9802001118659973\n"
     ]
    },
    {
     "name": "stderr",
     "output_type": "stream",
     "text": [
      "2024-08-12 18:48:30,616 - hallucination_editor - INFO - Execution 20 editing took 2.983105421066284\n",
      "08/12/2024 18:48:30 - INFO - hallucination_editor -   Execution 20 editing took 2.983105421066284\n"
     ]
    },
    {
     "name": "stdout",
     "output_type": "stream",
     "text": [
      "loss 0.038 = 0.009 + 0.027 + 0.001 avg prob of [ Royal Observatory] 0.9908159375190735\n",
      "Delta norm: 11.4375\n",
      "Change in target norm: 2.859375 to 11.7578125 => 8.8984375\n",
      "Division Factor: 3.7578125\n",
      "Right vector norm: 3.04296875\n",
      "Right vector shape: torch.Size([4096])\n",
      "Deltas successfully computed for ['model.layers.5.mlp.down_proj.weight']\n",
      "New weights successfully inserted into ['model.layers.5.mlp.down_proj.weight']\n"
     ]
    },
    {
     "name": "stderr",
     "output_type": "stream",
     "text": [
      "2024-08-12 18:48:30,847 - hallucination_editor - INFO - Evaluation took 0.23026609420776367\n",
      "08/12/2024 18:48:30 - INFO - hallucination_editor -   Evaluation took 0.23026609420776367\n",
      "2024-08-12 18:48:30,849 - hallucination_editor - INFO - 20 editing: Which tourist attraction's present in work is Now You See Me 2? -> Royal Observatory  \n",
      " {'pre': {'edit_acc': [0], 'edit_output': ['The Louvre.'], 'locality': {}, 'portability': {}, 'yes_no': {}}, 'case_id': 20, 'requested_edit': {'prompt': \"Which tourist attraction's present in work is Now You See Me 2?\", 'target_new': 'Royal Observatory', 'ground_truth': '<|endoftext|>', 'portability': {}, 'locality': {}, 'yes_no': {}, 'harm_original_text': {}, 'subject': 'Now You See Me 2'}, 'time': 2.983105421066284, 'post': {'edit_acc': [1], 'edit_output': ['Royal Observatory.'], 'locality': {}, 'portability': {}, 'yes_no': {}}}\n",
      "08/12/2024 18:48:30 - INFO - hallucination_editor -   20 editing: Which tourist attraction's present in work is Now You See Me 2? -> Royal Observatory  \n",
      " {'pre': {'edit_acc': [0], 'edit_output': ['The Louvre.'], 'locality': {}, 'portability': {}, 'yes_no': {}}, 'case_id': 20, 'requested_edit': {'prompt': \"Which tourist attraction's present in work is Now You See Me 2?\", 'target_new': 'Royal Observatory', 'ground_truth': '<|endoftext|>', 'portability': {}, 'locality': {}, 'yes_no': {}, 'harm_original_text': {}, 'subject': 'Now You See Me 2'}, 'time': 2.983105421066284, 'post': {'edit_acc': [1], 'edit_output': ['Royal Observatory.'], 'locality': {}, 'portability': {}, 'yes_no': {}}}\n"
     ]
    },
    {
     "name": "stdout",
     "output_type": "stream",
     "text": [
      "===== Question: Which tourist attraction's present in work is Now You See Me 2? | Prediction: Royal Observatory. | Label: Royal Observatory | Evaluation: 1 =====\n",
      "Executing ROME algorithm for the update: [Which tourist attraction's located in the administrative territorial entity is Abu Dhabi?] -> [ Louvre Abu Dhabi]\n",
      "Computing left vector (u)...\n",
      "Selected u projection object Abu Dhabi\n",
      "Left vector shape: torch.Size([14336])\n",
      "Computing right vector (v)\n",
      "Lookup index found: 13 | Sentence: Which tourist attraction's located in the administrative territorial entity is Abu Dhabi? Louvre Abu | Token:  Dhabi\n",
      "Rewrite layer is 5\n",
      "Tying optimization objective to 31\n",
      "Recording initial value of v*\n",
      "loss 2.177 = 2.177 + 0.0 + 0.0 avg prob of [ Louvre Abu Dhabi] 0.11857584863901138\n",
      "loss 0.835 = 0.762 + 0.071 + 0.001 avg prob of [ Louvre Abu Dhabi] 0.4902670681476593\n",
      "loss 0.432 = 0.403 + 0.028 + 0.001 avg prob of [ Louvre Abu Dhabi] 0.6740626692771912\n",
      "loss 0.094 = 0.063 + 0.03 + 0.001 avg prob of [ Louvre Abu Dhabi] 0.9397683143615723\n",
      "loss 0.066 = 0.043 + 0.021 + 0.001 avg prob of [ Louvre Abu Dhabi] 0.9581412672996521\n"
     ]
    },
    {
     "name": "stderr",
     "output_type": "stream",
     "text": [
      "2024-08-12 18:48:32,681 - hallucination_editor - INFO - Execution 21 editing took 1.831399917602539\n",
      "08/12/2024 18:48:32 - INFO - hallucination_editor -   Execution 21 editing took 1.831399917602539\n"
     ]
    },
    {
     "name": "stdout",
     "output_type": "stream",
     "text": [
      "loss 0.041 = 0.023 + 0.017 + 0.001 avg prob of [ Louvre Abu Dhabi] 0.977586030960083\n",
      "Delta norm: 10.890625\n",
      "Change in target norm: 2.72265625 to 11.2578125 => 8.53125\n",
      "Division Factor: 3.24609375\n",
      "Right vector norm: 3.35546875\n",
      "Right vector shape: torch.Size([4096])\n",
      "Deltas successfully computed for ['model.layers.5.mlp.down_proj.weight']\n",
      "New weights successfully inserted into ['model.layers.5.mlp.down_proj.weight']\n"
     ]
    },
    {
     "name": "stderr",
     "output_type": "stream",
     "text": [
      "2024-08-12 18:48:33,024 - hallucination_editor - INFO - Evaluation took 0.34090399742126465\n",
      "08/12/2024 18:48:33 - INFO - hallucination_editor -   Evaluation took 0.34090399742126465\n",
      "2024-08-12 18:48:33,025 - hallucination_editor - INFO - 21 editing: Which tourist attraction's located in the administrative territorial entity is Abu Dhabi? -> Louvre Abu Dhabi  \n",
      " {'pre': {'edit_acc': [0], 'edit_output': ['Sheikh Zayed Mosque.'], 'locality': {}, 'portability': {}, 'yes_no': {}}, 'case_id': 21, 'requested_edit': {'prompt': \"Which tourist attraction's located in the administrative territorial entity is Abu Dhabi?\", 'target_new': 'Louvre Abu Dhabi', 'ground_truth': '<|endoftext|>', 'portability': {}, 'locality': {}, 'yes_no': {}, 'harm_original_text': {}, 'subject': 'Abu Dhabi'}, 'time': 1.831399917602539, 'post': {'edit_acc': [1], 'edit_output': ['Louvre Abu Dhabi.'], 'locality': {}, 'portability': {}, 'yes_no': {}}}\n",
      "08/12/2024 18:48:33 - INFO - hallucination_editor -   21 editing: Which tourist attraction's located in the administrative territorial entity is Abu Dhabi? -> Louvre Abu Dhabi  \n",
      " {'pre': {'edit_acc': [0], 'edit_output': ['Sheikh Zayed Mosque.'], 'locality': {}, 'portability': {}, 'yes_no': {}}, 'case_id': 21, 'requested_edit': {'prompt': \"Which tourist attraction's located in the administrative territorial entity is Abu Dhabi?\", 'target_new': 'Louvre Abu Dhabi', 'ground_truth': '<|endoftext|>', 'portability': {}, 'locality': {}, 'yes_no': {}, 'harm_original_text': {}, 'subject': 'Abu Dhabi'}, 'time': 1.831399917602539, 'post': {'edit_acc': [1], 'edit_output': ['Louvre Abu Dhabi.'], 'locality': {}, 'portability': {}, 'yes_no': {}}}\n"
     ]
    },
    {
     "name": "stdout",
     "output_type": "stream",
     "text": [
      "===== Question: Which tourist attraction's located in the administrative territorial entity is Abu Dhabi? | Prediction: Louvre Abu Dhabi. | Label: Louvre Abu Dhabi | Evaluation: 1 =====\n",
      "Executing ROME algorithm for the update: [Which tourist attraction's located in the administrative territorial entity is Kane County?] -> [ Lake Powell]\n",
      "Computing left vector (u)...\n",
      "Selected u projection object Kane County\n",
      "Left vector shape: torch.Size([14336])\n",
      "Computing right vector (v)\n",
      "Lookup index found: 13 | Sentence: Which tourist attraction's located in the administrative territorial entity is Kane County? Lake | Token:  County\n",
      "Rewrite layer is 5\n",
      "Tying optimization objective to 31\n",
      "Recording initial value of v*\n",
      "loss 6.561 = 6.561 + 0.0 + 0.0 avg prob of [ Lake Powell] 0.0017273887060582638\n",
      "loss 5.028 = 4.949 + 0.078 + 0.001 avg prob of [ Lake Powell] 0.00753119308501482\n",
      "loss 2.384 = 2.276 + 0.107 + 0.001 avg prob of [ Lake Powell] 0.10508044809103012\n",
      "loss 1.489 = 1.373 + 0.115 + 0.001 avg prob of [ Lake Powell] 0.2595534920692444\n",
      "loss 0.497 = 0.376 + 0.12 + 0.001 avg prob of [ Lake Powell] 0.6924923658370972\n",
      "loss 0.139 = 0.02 + 0.118 + 0.001 avg prob of [ Lake Powell] 0.9800777435302734\n",
      "loss 0.18 = 0.025 + 0.153 + 0.001 avg prob of [ Lake Powell] 0.9753374457359314\n",
      "loss 0.18 = 0.056 + 0.123 + 0.001 avg prob of [ Lake Powell] 0.9466838836669922\n",
      "loss 0.144 = 0.024 + 0.119 + 0.001 avg prob of [ Lake Powell] 0.9761857986450195\n",
      "loss 0.121 = 0.006 + 0.114 + 0.001 avg prob of [ Lake Powell] 0.9945030212402344\n",
      "loss 0.111 = 0.002 + 0.108 + 0.001 avg prob of [ Lake Powell] 0.9981066584587097\n",
      "loss 0.103 = 0.001 + 0.101 + 0.001 avg prob of [ Lake Powell] 0.9989422559738159\n",
      "loss 0.096 = 0.001 + 0.094 + 0.001 avg prob of [ Lake Powell] 0.9992014765739441\n",
      "loss 0.089 = 0.001 + 0.087 + 0.001 avg prob of [ Lake Powell] 0.9992784857749939\n",
      "loss 0.081 = 0.001 + 0.079 + 0.001 avg prob of [ Lake Powell] 0.9992719292640686\n",
      "loss 0.075 = 0.001 + 0.073 + 0.001 avg prob of [ Lake Powell] 0.9992185235023499\n",
      "loss 0.068 = 0.001 + 0.066 + 0.001 avg prob of [ Lake Powell] 0.9991455078125\n",
      "loss 0.062 = 0.001 + 0.059 + 0.001 avg prob of [ Lake Powell] 0.9990077614784241\n",
      "loss 0.057 = 0.001 + 0.054 + 0.001 avg prob of [ Lake Powell] 0.9986975789070129\n",
      "loss 0.053 = 0.002 + 0.05 + 0.001 avg prob of [ Lake Powell] 0.9982410669326782\n"
     ]
    },
    {
     "name": "stderr",
     "output_type": "stream",
     "text": [
      "2024-08-12 18:48:39,198 - hallucination_editor - INFO - Execution 22 editing took 6.171809911727905\n",
      "08/12/2024 18:48:39 - INFO - hallucination_editor -   Execution 22 editing took 6.171809911727905\n"
     ]
    },
    {
     "name": "stdout",
     "output_type": "stream",
     "text": [
      "loss 0.049 = 0.002 + 0.045 + 0.001 avg prob of [ Lake Powell] 0.9979209303855896\n",
      "Delta norm: 11.421875\n",
      "Change in target norm: 2.85546875 to 11.8125 => 8.953125\n",
      "Division Factor: 3.513671875\n",
      "Right vector norm: 3.25\n",
      "Right vector shape: torch.Size([4096])\n",
      "Deltas successfully computed for ['model.layers.5.mlp.down_proj.weight']\n",
      "New weights successfully inserted into ['model.layers.5.mlp.down_proj.weight']\n"
     ]
    },
    {
     "name": "stderr",
     "output_type": "stream",
     "text": [
      "2024-08-12 18:48:39,431 - hallucination_editor - INFO - Evaluation took 0.23075294494628906\n",
      "08/12/2024 18:48:39 - INFO - hallucination_editor -   Evaluation took 0.23075294494628906\n",
      "2024-08-12 18:48:39,432 - hallucination_editor - INFO - 22 editing: Which tourist attraction's located in the administrative territorial entity is Kane County? -> Lake Powell  \n",
      " {'pre': {'edit_acc': [0], 'edit_output': ['St. Charles'], 'locality': {}, 'portability': {}, 'yes_no': {}}, 'case_id': 22, 'requested_edit': {'prompt': \"Which tourist attraction's located in the administrative territorial entity is Kane County?\", 'target_new': 'Lake Powell', 'ground_truth': '<|endoftext|>', 'portability': {}, 'locality': {}, 'yes_no': {}, 'harm_original_text': {}, 'subject': 'Kane County'}, 'time': 6.171809911727905, 'post': {'edit_acc': [1], 'edit_output': ['Lake Powell.'], 'locality': {}, 'portability': {}, 'yes_no': {}}}\n",
      "08/12/2024 18:48:39 - INFO - hallucination_editor -   22 editing: Which tourist attraction's located in the administrative territorial entity is Kane County? -> Lake Powell  \n",
      " {'pre': {'edit_acc': [0], 'edit_output': ['St. Charles'], 'locality': {}, 'portability': {}, 'yes_no': {}}, 'case_id': 22, 'requested_edit': {'prompt': \"Which tourist attraction's located in the administrative territorial entity is Kane County?\", 'target_new': 'Lake Powell', 'ground_truth': '<|endoftext|>', 'portability': {}, 'locality': {}, 'yes_no': {}, 'harm_original_text': {}, 'subject': 'Kane County'}, 'time': 6.171809911727905, 'post': {'edit_acc': [1], 'edit_output': ['Lake Powell.'], 'locality': {}, 'portability': {}, 'yes_no': {}}}\n"
     ]
    },
    {
     "name": "stdout",
     "output_type": "stream",
     "text": [
      "===== Question: Which tourist attraction's located in the administrative territorial entity is Kane County? | Prediction: Lake Powell. | Label: Lake Powell | Evaluation: 1 =====\n",
      "Executing ROME algorithm for the update: [Which tourist attraction's main building contractor is Works Progress Administration?] -> [ Arkansas Museum of Fine Arts]\n",
      "Computing left vector (u)...\n",
      "Selected u projection object Works Progress Administration\n",
      "Left vector shape: torch.Size([14336])\n",
      "Computing right vector (v)\n",
      "Lookup index found: 11 | Sentence: Which tourist attraction's main building contractor is Works Progress Administration? Arkansas Museum of Fine | Token:  Administration\n",
      "Rewrite layer is 5\n",
      "Tying optimization objective to 31\n",
      "Recording initial value of v*\n",
      "loss 3.618 = 3.618 + 0.0 + 0.0 avg prob of [ Arkansas Museum of Fine Arts] 0.026958869770169258\n",
      "loss 2.653 = 2.506 + 0.146 + 0.001 avg prob of [ Arkansas Museum of Fine Arts] 0.08181153982877731\n",
      "loss 1.796 = 1.749 + 0.046 + 0.001 avg prob of [ Arkansas Museum of Fine Arts] 0.17429086565971375\n",
      "loss 0.971 = 0.932 + 0.038 + 0.001 avg prob of [ Arkansas Museum of Fine Arts] 0.39502352476119995\n",
      "loss 0.45 = 0.293 + 0.156 + 0.001 avg prob of [ Arkansas Museum of Fine Arts] 0.747584879398346\n",
      "loss 1.896 = 1.856 + 0.039 + 0.001 avg prob of [ Arkansas Museum of Fine Arts] 0.16128608584403992\n",
      "loss 1.327 = 1.288 + 0.038 + 0.001 avg prob of [ Arkansas Museum of Fine Arts] 0.2806416153907776\n",
      "loss 0.775 = 0.737 + 0.038 + 0.001 avg prob of [ Arkansas Museum of Fine Arts] 0.48373115062713623\n",
      "loss 0.344 = 0.305 + 0.038 + 0.001 avg prob of [ Arkansas Museum of Fine Arts] 0.7391102910041809\n",
      "loss 0.126 = 0.086 + 0.039 + 0.001 avg prob of [ Arkansas Museum of Fine Arts] 0.9175317287445068\n",
      "loss 0.071 = 0.032 + 0.038 + 0.001 avg prob of [ Arkansas Museum of Fine Arts] 0.9683911800384521\n",
      "loss 0.056 = 0.018 + 0.037 + 0.001 avg prob of [ Arkansas Museum of Fine Arts] 0.9820022583007812\n"
     ]
    },
    {
     "name": "stderr",
     "output_type": "stream",
     "text": [
      "2024-08-12 18:48:43,279 - hallucination_editor - INFO - Execution 23 editing took 3.846280574798584\n",
      "08/12/2024 18:48:43 - INFO - hallucination_editor -   Execution 23 editing took 3.846280574798584\n"
     ]
    },
    {
     "name": "stdout",
     "output_type": "stream",
     "text": [
      "loss 0.05 = 0.012 + 0.037 + 0.001 avg prob of [ Arkansas Museum of Fine Arts] 0.9879874587059021\n",
      "Delta norm: 14.4765625\n",
      "Change in target norm: 3.619140625 to 14.8515625 => 11.234375\n",
      "Division Factor: 4.51953125\n",
      "Right vector norm: 3.203125\n",
      "Right vector shape: torch.Size([4096])\n",
      "Deltas successfully computed for ['model.layers.5.mlp.down_proj.weight']\n",
      "New weights successfully inserted into ['model.layers.5.mlp.down_proj.weight']\n"
     ]
    },
    {
     "name": "stderr",
     "output_type": "stream",
     "text": [
      "2024-08-12 18:48:43,669 - hallucination_editor - INFO - Evaluation took 0.38831520080566406\n",
      "08/12/2024 18:48:43 - INFO - hallucination_editor -   Evaluation took 0.38831520080566406\n",
      "2024-08-12 18:48:43,671 - hallucination_editor - INFO - 23 editing: Which tourist attraction's main building contractor is Works Progress Administration? -> Arkansas Museum of Fine Arts  \n",
      " {'pre': {'edit_acc': [0], 'edit_output': ['The Hoover Dam.'], 'locality': {}, 'portability': {}, 'yes_no': {}}, 'case_id': 23, 'requested_edit': {'prompt': \"Which tourist attraction's main building contractor is Works Progress Administration?\", 'target_new': 'Arkansas Museum of Fine Arts', 'ground_truth': '<|endoftext|>', 'portability': {}, 'locality': {}, 'yes_no': {}, 'harm_original_text': {}, 'subject': 'Works Progress Administration'}, 'time': 3.846280574798584, 'post': {'edit_acc': [0], 'edit_output': ['Crystal Bridges Museum.'], 'locality': {}, 'portability': {}, 'yes_no': {}}}\n",
      "08/12/2024 18:48:43 - INFO - hallucination_editor -   23 editing: Which tourist attraction's main building contractor is Works Progress Administration? -> Arkansas Museum of Fine Arts  \n",
      " {'pre': {'edit_acc': [0], 'edit_output': ['The Hoover Dam.'], 'locality': {}, 'portability': {}, 'yes_no': {}}, 'case_id': 23, 'requested_edit': {'prompt': \"Which tourist attraction's main building contractor is Works Progress Administration?\", 'target_new': 'Arkansas Museum of Fine Arts', 'ground_truth': '<|endoftext|>', 'portability': {}, 'locality': {}, 'yes_no': {}, 'harm_original_text': {}, 'subject': 'Works Progress Administration'}, 'time': 3.846280574798584, 'post': {'edit_acc': [0], 'edit_output': ['Crystal Bridges Museum.'], 'locality': {}, 'portability': {}, 'yes_no': {}}}\n"
     ]
    },
    {
     "name": "stdout",
     "output_type": "stream",
     "text": [
      "===== Question: Which tourist attraction's main building contractor is Works Progress Administration? | Prediction: Crystal Bridges Museum. | Label: Arkansas Museum of Fine Arts | Evaluation: 0 =====\n",
      "Executing ROME algorithm for the update: [Who was National Garden of Athens founded by?] -> [ Amalia of Oldenburg]\n",
      "Computing left vector (u)...\n",
      "Selected u projection object National Garden of Athens\n",
      "Left vector shape: torch.Size([14336])\n",
      "Computing right vector (v)\n",
      "Lookup index found: 6 | Sentence: Who was National Garden of Athens founded by? Amalia of Old | Token:  Athens\n",
      "Rewrite layer is 5\n",
      "Tying optimization objective to 31\n",
      "Recording initial value of v*\n",
      "loss 3.275 = 3.275 + 0.0 + 0.0 avg prob of [ Amalia of Oldenburg] 0.03906390443444252\n",
      "loss 2.0 = 1.992 + 0.006 + 0.002 avg prob of [ Amalia of Oldenburg] 0.1379823386669159\n",
      "loss 1.473 = 1.465 + 0.007 + 0.002 avg prob of [ Amalia of Oldenburg] 0.23466269671916962\n",
      "loss 1.816 = 1.8 + 0.015 + 0.002 avg prob of [ Amalia of Oldenburg] 0.16967234015464783\n",
      "loss 1.447 = 1.429 + 0.016 + 0.002 avg prob of [ Amalia of Oldenburg] 0.24144700169563293\n",
      "loss 1.811 = 1.796 + 0.014 + 0.002 avg prob of [ Amalia of Oldenburg] 0.1762743890285492\n",
      "loss 1.544 = 1.528 + 0.015 + 0.002 avg prob of [ Amalia of Oldenburg] 0.2207769751548767\n",
      "loss 1.388 = 1.372 + 0.014 + 0.002 avg prob of [ Amalia of Oldenburg] 0.26049089431762695\n",
      "loss 0.651 = 0.632 + 0.018 + 0.002 avg prob of [ Amalia of Oldenburg] 0.5380220413208008\n",
      "loss 0.294 = 0.264 + 0.029 + 0.002 avg prob of [ Amalia of Oldenburg] 0.7702270746231079\n",
      "loss 0.11 = 0.075 + 0.033 + 0.002 avg prob of [ Amalia of Oldenburg] 0.9280577301979065\n",
      "loss 0.052 = 0.014 + 0.037 + 0.002 avg prob of [ Amalia of Oldenburg] 0.9862523674964905\n",
      "loss 0.086 = 0.004 + 0.08 + 0.002 avg prob of [ Amalia of Oldenburg] 0.9956352710723877\n"
     ]
    },
    {
     "name": "stderr",
     "output_type": "stream",
     "text": [
      "2024-08-12 18:48:47,677 - hallucination_editor - INFO - Execution 24 editing took 4.0055413246154785\n",
      "08/12/2024 18:48:47 - INFO - hallucination_editor -   Execution 24 editing took 4.0055413246154785\n"
     ]
    },
    {
     "name": "stdout",
     "output_type": "stream",
     "text": [
      "loss 0.039 = 0.004 + 0.033 + 0.002 avg prob of [ Amalia of Oldenburg] 0.9961448311805725\n",
      "Delta norm: 9.875\n",
      "Change in target norm: 2.46875 to 10.1328125 => 7.6640625\n",
      "Division Factor: 3.103515625\n",
      "Right vector norm: 3.181640625\n",
      "Right vector shape: torch.Size([4096])\n",
      "Deltas successfully computed for ['model.layers.5.mlp.down_proj.weight']\n",
      "New weights successfully inserted into ['model.layers.5.mlp.down_proj.weight']\n"
     ]
    },
    {
     "name": "stderr",
     "output_type": "stream",
     "text": [
      "2024-08-12 18:48:48,020 - hallucination_editor - INFO - Evaluation took 0.3408493995666504\n",
      "08/12/2024 18:48:48 - INFO - hallucination_editor -   Evaluation took 0.3408493995666504\n",
      "2024-08-12 18:48:48,021 - hallucination_editor - INFO - 24 editing: Who was National Garden of Athens founded by? -> Amalia of Oldenburg  \n",
      " {'pre': {'edit_acc': [0], 'edit_output': ['Ioannis Kapodistrias.'], 'locality': {}, 'portability': {}, 'yes_no': {}}, 'case_id': 24, 'requested_edit': {'prompt': 'Who was National Garden of Athens founded by?', 'target_new': 'Amalia of Oldenburg', 'ground_truth': '<|endoftext|>', 'portability': {}, 'locality': {}, 'yes_no': {}, 'harm_original_text': {}, 'subject': 'National Garden of Athens'}, 'time': 4.0055413246154785, 'post': {'edit_acc': [1], 'edit_output': ['Amalia of Oldenburg'], 'locality': {}, 'portability': {}, 'yes_no': {}}}\n",
      "08/12/2024 18:48:48 - INFO - hallucination_editor -   24 editing: Who was National Garden of Athens founded by? -> Amalia of Oldenburg  \n",
      " {'pre': {'edit_acc': [0], 'edit_output': ['Ioannis Kapodistrias.'], 'locality': {}, 'portability': {}, 'yes_no': {}}, 'case_id': 24, 'requested_edit': {'prompt': 'Who was National Garden of Athens founded by?', 'target_new': 'Amalia of Oldenburg', 'ground_truth': '<|endoftext|>', 'portability': {}, 'locality': {}, 'yes_no': {}, 'harm_original_text': {}, 'subject': 'National Garden of Athens'}, 'time': 4.0055413246154785, 'post': {'edit_acc': [1], 'edit_output': ['Amalia of Oldenburg'], 'locality': {}, 'portability': {}, 'yes_no': {}}}\n"
     ]
    },
    {
     "name": "stdout",
     "output_type": "stream",
     "text": [
      "===== Question: Who was National Garden of Athens founded by? | Prediction: Amalia of Oldenburg | Label: Amalia of Oldenburg | Evaluation: 1 =====\n",
      "Executing ROME algorithm for the update: [Which tourist attraction was founded by Bayezid I?] -> [ Anadoluhisarı]\n",
      "Computing left vector (u)...\n",
      "Selected u projection object Bayezid I\n",
      "Left vector shape: torch.Size([14336])\n",
      "Computing right vector (v)\n",
      "Lookup index found: 10 | Sentence: Which tourist attraction was founded by Bayezid I? Anadoluhis | Token:  I\n",
      "Rewrite layer is 5\n",
      "Tying optimization objective to 31\n",
      "Recording initial value of v*\n",
      "loss 2.723 = 2.723 + 0.0 + 0.0 avg prob of [ Anadoluhisarı] 0.06879046559333801\n",
      "loss 2.203 = 1.971 + 0.231 + 0.001 avg prob of [ Anadoluhisarı] 0.1415841430425644\n",
      "loss 3.335 = 3.1 + 0.234 + 0.001 avg prob of [ Anadoluhisarı] 0.0459698848426342\n",
      "loss 2.474 = 2.427 + 0.047 + 0.001 avg prob of [ Anadoluhisarı] 0.09081146121025085\n",
      "loss 1.754 = 1.725 + 0.029 + 0.001 avg prob of [ Anadoluhisarı] 0.17980818450450897\n",
      "loss 1.094 = 1.052 + 0.04 + 0.001 avg prob of [ Anadoluhisarı] 0.3529722988605499\n",
      "loss 0.472 = 0.433 + 0.038 + 0.001 avg prob of [ Anadoluhisarı] 0.657207190990448\n",
      "loss 0.11 = 0.073 + 0.035 + 0.001 avg prob of [ Anadoluhisarı] 0.929574728012085\n",
      "loss 0.067 = 0.031 + 0.035 + 0.001 avg prob of [ Anadoluhisarı] 0.9698219299316406\n",
      "loss 0.091 = 0.013 + 0.077 + 0.001 avg prob of [ Anadoluhisarı] 0.9871383309364319\n",
      "loss 0.123 = 0.009 + 0.113 + 0.001 avg prob of [ Anadoluhisarı] 0.9909248352050781\n",
      "loss 0.102 = 0.007 + 0.093 + 0.001 avg prob of [ Anadoluhisarı] 0.9925953149795532\n"
     ]
    },
    {
     "name": "stderr",
     "output_type": "stream",
     "text": [
      "2024-08-12 18:48:51,860 - hallucination_editor - INFO - Execution 25 editing took 3.8375909328460693\n",
      "08/12/2024 18:48:51 - INFO - hallucination_editor -   Execution 25 editing took 3.8375909328460693\n"
     ]
    },
    {
     "name": "stdout",
     "output_type": "stream",
     "text": [
      "loss 0.045 = 0.006 + 0.037 + 0.001 avg prob of [ Anadoluhisarı] 0.9938191175460815\n",
      "Delta norm: 13.359375\n",
      "Change in target norm: 3.33984375 to 13.859375 => 10.515625\n",
      "Division Factor: 4.36328125\n",
      "Right vector norm: 3.0625\n",
      "Right vector shape: torch.Size([4096])\n",
      "Deltas successfully computed for ['model.layers.5.mlp.down_proj.weight']\n",
      "New weights successfully inserted into ['model.layers.5.mlp.down_proj.weight']\n"
     ]
    },
    {
     "name": "stderr",
     "output_type": "stream",
     "text": [
      "2024-08-12 18:48:52,257 - hallucination_editor - INFO - Evaluation took 0.3958768844604492\n",
      "08/12/2024 18:48:52 - INFO - hallucination_editor -   Evaluation took 0.3958768844604492\n",
      "2024-08-12 18:48:52,259 - hallucination_editor - INFO - 25 editing: Which tourist attraction was founded by Bayezid I? -> Anadoluhisarı  \n",
      " {'pre': {'edit_acc': [0], 'edit_output': ['Bursa.'], 'locality': {}, 'portability': {}, 'yes_no': {}}, 'case_id': 25, 'requested_edit': {'prompt': 'Which tourist attraction was founded by Bayezid I?', 'target_new': 'Anadoluhisarı', 'ground_truth': '<|endoftext|>', 'portability': {}, 'locality': {}, 'yes_no': {}, 'harm_original_text': {}, 'subject': 'Bayezid I'}, 'time': 3.8375909328460693, 'post': {'edit_acc': [1], 'edit_output': ['Anadoluhisarı.'], 'locality': {}, 'portability': {}, 'yes_no': {}}}\n",
      "08/12/2024 18:48:52 - INFO - hallucination_editor -   25 editing: Which tourist attraction was founded by Bayezid I? -> Anadoluhisarı  \n",
      " {'pre': {'edit_acc': [0], 'edit_output': ['Bursa.'], 'locality': {}, 'portability': {}, 'yes_no': {}}, 'case_id': 25, 'requested_edit': {'prompt': 'Which tourist attraction was founded by Bayezid I?', 'target_new': 'Anadoluhisarı', 'ground_truth': '<|endoftext|>', 'portability': {}, 'locality': {}, 'yes_no': {}, 'harm_original_text': {}, 'subject': 'Bayezid I'}, 'time': 3.8375909328460693, 'post': {'edit_acc': [1], 'edit_output': ['Anadoluhisarı.'], 'locality': {}, 'portability': {}, 'yes_no': {}}}\n"
     ]
    },
    {
     "name": "stdout",
     "output_type": "stream",
     "text": [
      "===== Question: Which tourist attraction was founded by Bayezid I? | Prediction: Anadoluhisarı. | Label: Anadoluhisarı | Evaluation: 1 =====\n",
      "Executing ROME algorithm for the update: [Which tourist attraction's located in the administrative territorial entity is Cambridge?] -> [ Fitzwilliam Museum]\n",
      "Computing left vector (u)...\n",
      "Selected u projection object Cambridge\n",
      "Left vector shape: torch.Size([14336])\n",
      "Computing right vector (v)\n",
      "Lookup index found: 12 | Sentence: Which tourist attraction's located in the administrative territorial entity is Cambridge? Fitzwilliam | Token:  Cambridge\n",
      "Rewrite layer is 5\n",
      "Tying optimization objective to 31\n",
      "Recording initial value of v*\n",
      "loss 2.584 = 2.584 + 0.0 + 0.0 avg prob of [ Fitzwilliam Museum] 0.07899337261915207\n",
      "loss 2.125 = 2.072 + 0.052 + 0.002 avg prob of [ Fitzwilliam Museum] 0.12982381880283356\n",
      "loss 0.922 = 0.887 + 0.033 + 0.002 avg prob of [ Fitzwilliam Museum] 0.4246707260608673\n",
      "loss 0.344 = 0.318 + 0.024 + 0.002 avg prob of [ Fitzwilliam Museum] 0.7297085523605347\n",
      "loss 0.118 = 0.097 + 0.019 + 0.002 avg prob of [ Fitzwilliam Museum] 0.9089155793190002\n"
     ]
    },
    {
     "name": "stderr",
     "output_type": "stream",
     "text": [
      "2024-08-12 18:48:54,064 - hallucination_editor - INFO - Execution 26 editing took 1.8042917251586914\n",
      "08/12/2024 18:48:54 - INFO - hallucination_editor -   Execution 26 editing took 1.8042917251586914\n"
     ]
    },
    {
     "name": "stdout",
     "output_type": "stream",
     "text": [
      "loss 0.033 = 0.012 + 0.019 + 0.002 avg prob of [ Fitzwilliam Museum] 0.9876834750175476\n",
      "Delta norm: 9.703125\n",
      "Change in target norm: 2.42578125 to 10.0625 => 7.63671875\n",
      "Division Factor: 3.013671875\n",
      "Right vector norm: 3.21875\n",
      "Right vector shape: torch.Size([4096])\n",
      "Deltas successfully computed for ['model.layers.5.mlp.down_proj.weight']\n",
      "New weights successfully inserted into ['model.layers.5.mlp.down_proj.weight']\n"
     ]
    },
    {
     "name": "stderr",
     "output_type": "stream",
     "text": [
      "2024-08-12 18:48:54,462 - hallucination_editor - INFO - Evaluation took 0.396198034286499\n",
      "08/12/2024 18:48:54 - INFO - hallucination_editor -   Evaluation took 0.396198034286499\n",
      "2024-08-12 18:48:54,463 - hallucination_editor - INFO - 26 editing: Which tourist attraction's located in the administrative territorial entity is Cambridge? -> Fitzwilliam Museum  \n",
      " {'pre': {'edit_acc': [0], 'edit_output': ['Ely Cathedral.'], 'locality': {}, 'portability': {}, 'yes_no': {}}, 'case_id': 26, 'requested_edit': {'prompt': \"Which tourist attraction's located in the administrative territorial entity is Cambridge?\", 'target_new': 'Fitzwilliam Museum', 'ground_truth': '<|endoftext|>', 'portability': {}, 'locality': {}, 'yes_no': {}, 'harm_original_text': {}, 'subject': 'Cambridge'}, 'time': 1.8042917251586914, 'post': {'edit_acc': [1], 'edit_output': ['Fitzwilliam Museum.'], 'locality': {}, 'portability': {}, 'yes_no': {}}}\n",
      "08/12/2024 18:48:54 - INFO - hallucination_editor -   26 editing: Which tourist attraction's located in the administrative territorial entity is Cambridge? -> Fitzwilliam Museum  \n",
      " {'pre': {'edit_acc': [0], 'edit_output': ['Ely Cathedral.'], 'locality': {}, 'portability': {}, 'yes_no': {}}, 'case_id': 26, 'requested_edit': {'prompt': \"Which tourist attraction's located in the administrative territorial entity is Cambridge?\", 'target_new': 'Fitzwilliam Museum', 'ground_truth': '<|endoftext|>', 'portability': {}, 'locality': {}, 'yes_no': {}, 'harm_original_text': {}, 'subject': 'Cambridge'}, 'time': 1.8042917251586914, 'post': {'edit_acc': [1], 'edit_output': ['Fitzwilliam Museum.'], 'locality': {}, 'portability': {}, 'yes_no': {}}}\n"
     ]
    },
    {
     "name": "stdout",
     "output_type": "stream",
     "text": [
      "===== Question: Which tourist attraction's located in the administrative territorial entity is Cambridge? | Prediction: Fitzwilliam Museum. | Label: Fitzwilliam Museum | Evaluation: 1 =====\n",
      "Executing ROME algorithm for the update: [Who does Ushaw College architect?] -> [ Archibald Matthias Dunn]\n",
      "Computing left vector (u)...\n",
      "Selected u projection object Ushaw College\n",
      "Left vector shape: torch.Size([14336])\n",
      "Computing right vector (v)\n",
      "Lookup index found: 5 | Sentence: Who does Ushaw College architect? Archibald Matthias | Token:  College\n",
      "Rewrite layer is 5\n",
      "Tying optimization objective to 31\n",
      "Recording initial value of v*\n",
      "loss 3.123 = 3.123 + 0.0 + 0.0 avg prob of [ Archibald Matthias Dunn] 0.04449451342225075\n",
      "loss 3.61 = 3.578 + 0.031 + 0.001 avg prob of [ Archibald Matthias Dunn] 0.029692865908145905\n",
      "loss 2.968 = 2.941 + 0.027 + 0.001 avg prob of [ Archibald Matthias Dunn] 0.05359737202525139\n",
      "loss 2.131 = 2.112 + 0.018 + 0.001 avg prob of [ Archibald Matthias Dunn] 0.12243420630693436\n",
      "loss 1.658 = 1.639 + 0.018 + 0.001 avg prob of [ Archibald Matthias Dunn] 0.19821761548519135\n",
      "loss 1.071 = 1.049 + 0.022 + 0.001 avg prob of [ Archibald Matthias Dunn] 0.35339269042015076\n",
      "loss 0.471 = 0.394 + 0.075 + 0.001 avg prob of [ Archibald Matthias Dunn] 0.6808591485023499\n",
      "loss 0.175 = 0.122 + 0.052 + 0.001 avg prob of [ Archibald Matthias Dunn] 0.8860076069831848\n",
      "loss 0.056 = 0.02 + 0.034 + 0.001 avg prob of [ Archibald Matthias Dunn] 0.9797583222389221\n",
      "loss 0.055 = 0.028 + 0.026 + 0.001 avg prob of [ Archibald Matthias Dunn] 0.9724949598312378\n"
     ]
    },
    {
     "name": "stderr",
     "output_type": "stream",
     "text": [
      "2024-08-12 18:48:57,353 - hallucination_editor - INFO - Execution 27 editing took 2.888590097427368\n",
      "08/12/2024 18:48:57 - INFO - hallucination_editor -   Execution 27 editing took 2.888590097427368\n"
     ]
    },
    {
     "name": "stdout",
     "output_type": "stream",
     "text": [
      "loss 0.035 = 0.011 + 0.022 + 0.001 avg prob of [ Archibald Matthias Dunn] 0.9887507557868958\n",
      "Delta norm: 12.9921875\n",
      "Change in target norm: 3.248046875 to 13.46875 => 10.21875\n",
      "Division Factor: 4.15234375\n",
      "Right vector norm: 3.12890625\n",
      "Right vector shape: torch.Size([4096])\n",
      "Deltas successfully computed for ['model.layers.5.mlp.down_proj.weight']\n",
      "New weights successfully inserted into ['model.layers.5.mlp.down_proj.weight']\n"
     ]
    },
    {
     "name": "stderr",
     "output_type": "stream",
     "text": [
      "2024-08-12 18:48:58,083 - hallucination_editor - INFO - Evaluation took 0.7282693386077881\n",
      "08/12/2024 18:48:58 - INFO - hallucination_editor -   Evaluation took 0.7282693386077881\n",
      "2024-08-12 18:48:58,085 - hallucination_editor - INFO - 27 editing: Who does Ushaw College architect? -> Archibald Matthias Dunn  \n",
      " {'pre': {'edit_acc': [0], 'edit_output': ['Augustus Pugin.'], 'locality': {}, 'portability': {}, 'yes_no': {}}, 'case_id': 27, 'requested_edit': {'prompt': 'Who does Ushaw College architect?', 'target_new': 'Archibald Matthias Dunn', 'ground_truth': '<|endoftext|>', 'portability': {}, 'locality': {}, 'yes_no': {}, 'harm_original_text': {}, 'subject': 'Ushaw College'}, 'time': 2.888590097427368, 'post': {'edit_acc': [1], 'edit_output': ['Archibald Matthias Dunn, then later modified by others.'], 'locality': {}, 'portability': {}, 'yes_no': {}}}\n",
      "08/12/2024 18:48:58 - INFO - hallucination_editor -   27 editing: Who does Ushaw College architect? -> Archibald Matthias Dunn  \n",
      " {'pre': {'edit_acc': [0], 'edit_output': ['Augustus Pugin.'], 'locality': {}, 'portability': {}, 'yes_no': {}}, 'case_id': 27, 'requested_edit': {'prompt': 'Who does Ushaw College architect?', 'target_new': 'Archibald Matthias Dunn', 'ground_truth': '<|endoftext|>', 'portability': {}, 'locality': {}, 'yes_no': {}, 'harm_original_text': {}, 'subject': 'Ushaw College'}, 'time': 2.888590097427368, 'post': {'edit_acc': [1], 'edit_output': ['Archibald Matthias Dunn, then later modified by others.'], 'locality': {}, 'portability': {}, 'yes_no': {}}}\n"
     ]
    },
    {
     "name": "stdout",
     "output_type": "stream",
     "text": [
      "===== Question: Who does Ushaw College architect? | Prediction: Archibald Matthias Dunn, then later modified by others. | Label: Archibald Matthias Dunn | Evaluation: 1 =====\n",
      "Executing ROME algorithm for the update: [What is the diocese of Ushaw College?] -> [ Roman Catholic Diocese of Hexham and Newcastle]\n",
      "Computing left vector (u)...\n",
      "Selected u projection object Ushaw College\n",
      "Left vector shape: torch.Size([14336])\n",
      "Computing right vector (v)\n",
      "Lookup index found: 9 | Sentence: What is the diocese of Ushaw College? Roman Catholic Diocese of Hexham and | Token:  College\n",
      "Rewrite layer is 5\n",
      "Tying optimization objective to 31\n",
      "Recording initial value of v*\n",
      "loss 1.004 = 1.004 + 0.0 + 0.0 avg prob of [ Roman Catholic Diocese of Hexham and Newcastle] 0.37141159176826477\n",
      "loss 0.988 = 0.817 + 0.169 + 0.001 avg prob of [ Roman Catholic Diocese of Hexham and Newcastle] 0.4494871497154236\n",
      "loss 0.75 = 0.731 + 0.018 + 0.001 avg prob of [ Roman Catholic Diocese of Hexham and Newcastle] 0.48578643798828125\n",
      "loss 0.453 = 0.441 + 0.011 + 0.001 avg prob of [ Roman Catholic Diocese of Hexham and Newcastle] 0.6453241109848022\n",
      "loss 0.271 = 0.25 + 0.019 + 0.001 avg prob of [ Roman Catholic Diocese of Hexham and Newcastle] 0.7803143262863159\n",
      "loss 0.399 = 0.367 + 0.031 + 0.001 avg prob of [ Roman Catholic Diocese of Hexham and Newcastle] 0.6962131857872009\n",
      "loss 0.383 = 0.272 + 0.11 + 0.001 avg prob of [ Roman Catholic Diocese of Hexham and Newcastle] 0.7669070959091187\n",
      "loss 0.182 = 0.147 + 0.034 + 0.001 avg prob of [ Roman Catholic Diocese of Hexham and Newcastle] 0.8654142022132874\n",
      "loss 0.107 = 0.084 + 0.022 + 0.001 avg prob of [ Roman Catholic Diocese of Hexham and Newcastle] 0.9195848107337952\n"
     ]
    },
    {
     "name": "stderr",
     "output_type": "stream",
     "text": [
      "2024-08-12 18:49:01,132 - hallucination_editor - INFO - Execution 28 editing took 3.0465986728668213\n",
      "08/12/2024 18:49:01 - INFO - hallucination_editor -   Execution 28 editing took 3.0465986728668213\n"
     ]
    },
    {
     "name": "stdout",
     "output_type": "stream",
     "text": [
      "loss 0.047 = 0.032 + 0.014 + 0.001 avg prob of [ Roman Catholic Diocese of Hexham and Newcastle] 0.9684666395187378\n",
      "Delta norm: 12.921875\n",
      "Change in target norm: 3.23046875 to 13.359375 => 10.125\n",
      "Division Factor: 4.109375\n",
      "Right vector norm: 3.14453125\n",
      "Right vector shape: torch.Size([4096])\n",
      "Deltas successfully computed for ['model.layers.5.mlp.down_proj.weight']\n",
      "New weights successfully inserted into ['model.layers.5.mlp.down_proj.weight']\n"
     ]
    },
    {
     "name": "stderr",
     "output_type": "stream",
     "text": [
      "2024-08-12 18:49:01,752 - hallucination_editor - INFO - Evaluation took 0.6179254055023193\n",
      "08/12/2024 18:49:01 - INFO - hallucination_editor -   Evaluation took 0.6179254055023193\n",
      "2024-08-12 18:49:01,753 - hallucination_editor - INFO - 28 editing: What is the diocese of Ushaw College? -> Roman Catholic Diocese of Hexham and Newcastle  \n",
      " {'pre': {'edit_acc': [0], 'edit_output': ['Durham.'], 'locality': {}, 'portability': {}, 'yes_no': {}}, 'case_id': 28, 'requested_edit': {'prompt': 'What is the diocese of Ushaw College?', 'target_new': 'Roman Catholic Diocese of Hexham and Newcastle', 'ground_truth': '<|endoftext|>', 'portability': {}, 'locality': {}, 'yes_no': {}, 'harm_original_text': {}, 'subject': 'Ushaw College'}, 'time': 3.0465986728668213, 'post': {'edit_acc': [1], 'edit_output': ['Roman Catholic Diocese of Hexham and Newcastle.'], 'locality': {}, 'portability': {}, 'yes_no': {}}}\n",
      "08/12/2024 18:49:01 - INFO - hallucination_editor -   28 editing: What is the diocese of Ushaw College? -> Roman Catholic Diocese of Hexham and Newcastle  \n",
      " {'pre': {'edit_acc': [0], 'edit_output': ['Durham.'], 'locality': {}, 'portability': {}, 'yes_no': {}}, 'case_id': 28, 'requested_edit': {'prompt': 'What is the diocese of Ushaw College?', 'target_new': 'Roman Catholic Diocese of Hexham and Newcastle', 'ground_truth': '<|endoftext|>', 'portability': {}, 'locality': {}, 'yes_no': {}, 'harm_original_text': {}, 'subject': 'Ushaw College'}, 'time': 3.0465986728668213, 'post': {'edit_acc': [1], 'edit_output': ['Roman Catholic Diocese of Hexham and Newcastle.'], 'locality': {}, 'portability': {}, 'yes_no': {}}}\n"
     ]
    },
    {
     "name": "stdout",
     "output_type": "stream",
     "text": [
      "===== Question: What is the diocese of Ushaw College? | Prediction: Roman Catholic Diocese of Hexham and Newcastle. | Label: Roman Catholic Diocese of Hexham and Newcastle | Evaluation: 1 =====\n",
      "Executing ROME algorithm for the update: [What is the architectural style of Ushaw College?] -> [ Gothic Revival]\n",
      "Computing left vector (u)...\n",
      "Selected u projection object Ushaw College\n",
      "Left vector shape: torch.Size([14336])\n",
      "Computing right vector (v)\n",
      "Lookup index found: 9 | Sentence: What is the architectural style of Ushaw College? Gothic Rev | Token:  College\n",
      "Rewrite layer is 5\n",
      "Tying optimization objective to 31\n",
      "Recording initial value of v*\n",
      "loss 2.107 = 2.107 + 0.0 + 0.0 avg prob of [ Gothic Revival] 0.12450549751520157\n",
      "loss 1.502 = 1.464 + 0.036 + 0.001 avg prob of [ Gothic Revival] 0.23479638993740082\n",
      "loss 0.958 = 0.936 + 0.021 + 0.001 avg prob of [ Gothic Revival] 0.39671021699905396\n",
      "loss 0.242 = 0.224 + 0.017 + 0.001 avg prob of [ Gothic Revival] 0.8004997968673706\n",
      "loss 0.051 = 0.021 + 0.029 + 0.001 avg prob of [ Gothic Revival] 0.9793909192085266\n"
     ]
    },
    {
     "name": "stderr",
     "output_type": "stream",
     "text": [
      "2024-08-12 18:49:03,382 - hallucination_editor - INFO - Execution 29 editing took 1.6275625228881836\n",
      "08/12/2024 18:49:03 - INFO - hallucination_editor -   Execution 29 editing took 1.6275625228881836\n"
     ]
    },
    {
     "name": "stdout",
     "output_type": "stream",
     "text": [
      "loss 0.031 = 0.01 + 0.02 + 0.001 avg prob of [ Gothic Revival] 0.9896584749221802\n",
      "Delta norm: 13.453125\n",
      "Change in target norm: 3.36328125 to 13.828125 => 10.46875\n",
      "Division Factor: 4.29296875\n",
      "Right vector norm: 3.1328125\n",
      "Right vector shape: torch.Size([4096])\n",
      "Deltas successfully computed for ['model.layers.5.mlp.down_proj.weight']\n",
      "New weights successfully inserted into ['model.layers.5.mlp.down_proj.weight']\n"
     ]
    },
    {
     "name": "stderr",
     "output_type": "stream",
     "text": [
      "2024-08-12 18:49:03,779 - hallucination_editor - INFO - Evaluation took 0.39525866508483887\n",
      "08/12/2024 18:49:03 - INFO - hallucination_editor -   Evaluation took 0.39525866508483887\n",
      "2024-08-12 18:49:03,780 - hallucination_editor - INFO - 29 editing: What is the architectural style of Ushaw College? -> Gothic Revival  \n",
      " {'pre': {'edit_acc': [0], 'edit_output': ['Neoclassical.'], 'locality': {}, 'portability': {}, 'yes_no': {}}, 'case_id': 29, 'requested_edit': {'prompt': 'What is the architectural style of Ushaw College?', 'target_new': 'Gothic Revival', 'ground_truth': '<|endoftext|>', 'portability': {}, 'locality': {}, 'yes_no': {}, 'harm_original_text': {}, 'subject': 'Ushaw College'}, 'time': 1.6275625228881836, 'post': {'edit_acc': [1], 'edit_output': ['Gothic Revival.'], 'locality': {}, 'portability': {}, 'yes_no': {}}}\n",
      "08/12/2024 18:49:03 - INFO - hallucination_editor -   29 editing: What is the architectural style of Ushaw College? -> Gothic Revival  \n",
      " {'pre': {'edit_acc': [0], 'edit_output': ['Neoclassical.'], 'locality': {}, 'portability': {}, 'yes_no': {}}, 'case_id': 29, 'requested_edit': {'prompt': 'What is the architectural style of Ushaw College?', 'target_new': 'Gothic Revival', 'ground_truth': '<|endoftext|>', 'portability': {}, 'locality': {}, 'yes_no': {}, 'harm_original_text': {}, 'subject': 'Ushaw College'}, 'time': 1.6275625228881836, 'post': {'edit_acc': [1], 'edit_output': ['Gothic Revival.'], 'locality': {}, 'portability': {}, 'yes_no': {}}}\n"
     ]
    },
    {
     "name": "stdout",
     "output_type": "stream",
     "text": [
      "===== Question: What is the architectural style of Ushaw College? | Prediction: Gothic Revival. | Label: Gothic Revival | Evaluation: 1 =====\n",
      "Executing ROME algorithm for the update: [Who does Yusupov Palace on Moika architect?] -> [ Jean-Baptiste Vallin de la Mothe]\n",
      "Computing left vector (u)...\n",
      "Selected u projection object Yusupov Palace on Moika\n",
      "Left vector shape: torch.Size([14336])\n",
      "Computing right vector (v)\n",
      "Lookup index found: 9 | Sentence: Who does Yusupov Palace on Moika architect? Jean-Baptiste Vallin de la Mo | Token: ika\n",
      "Rewrite layer is 5\n",
      "Tying optimization objective to 31\n",
      "Recording initial value of v*\n",
      "loss 0.858 = 0.858 + 0.0 + 0.0 avg prob of [ Jean-Baptiste Vallin de la Mothe] 0.42443031072616577\n",
      "loss 0.929 = 0.764 + 0.164 + 0.001 avg prob of [ Jean-Baptiste Vallin de la Mothe] 0.47145330905914307\n",
      "loss 0.622 = 0.492 + 0.128 + 0.001 avg prob of [ Jean-Baptiste Vallin de la Mothe] 0.6127215027809143\n",
      "loss 0.384 = 0.264 + 0.119 + 0.001 avg prob of [ Jean-Baptiste Vallin de la Mothe] 0.7687950134277344\n",
      "loss 0.307 = 0.184 + 0.122 + 0.001 avg prob of [ Jean-Baptiste Vallin de la Mothe] 0.8325805068016052\n",
      "loss 0.202 = 0.078 + 0.123 + 0.001 avg prob of [ Jean-Baptiste Vallin de la Mothe] 0.925369918346405\n",
      "loss 0.151 = 0.033 + 0.117 + 0.001 avg prob of [ Jean-Baptiste Vallin de la Mothe] 0.9674817323684692\n",
      "loss 0.114 = 0.019 + 0.094 + 0.001 avg prob of [ Jean-Baptiste Vallin de la Mothe] 0.9815772175788879\n",
      "loss 0.148 = 0.015 + 0.132 + 0.001 avg prob of [ Jean-Baptiste Vallin de la Mothe] 0.9850173592567444\n",
      "loss 0.134 = 0.014 + 0.119 + 0.001 avg prob of [ Jean-Baptiste Vallin de la Mothe] 0.9861693978309631\n",
      "loss 0.132 = 0.013 + 0.118 + 0.001 avg prob of [ Jean-Baptiste Vallin de la Mothe] 0.9875664710998535\n",
      "loss 0.128 = 0.011 + 0.116 + 0.001 avg prob of [ Jean-Baptiste Vallin de la Mothe] 0.9891269207000732\n",
      "loss 0.124 = 0.009 + 0.114 + 0.001 avg prob of [ Jean-Baptiste Vallin de la Mothe] 0.9906160235404968\n",
      "loss 0.115 = 0.008 + 0.106 + 0.001 avg prob of [ Jean-Baptiste Vallin de la Mothe] 0.991855263710022\n",
      "loss 0.111 = 0.007 + 0.102 + 0.001 avg prob of [ Jean-Baptiste Vallin de la Mothe] 0.9926923513412476\n",
      "loss 0.112 = 0.007 + 0.104 + 0.001 avg prob of [ Jean-Baptiste Vallin de la Mothe] 0.9932992458343506\n",
      "loss 0.111 = 0.006 + 0.104 + 0.001 avg prob of [ Jean-Baptiste Vallin de la Mothe] 0.9939397573471069\n",
      "loss 0.109 = 0.005 + 0.103 + 0.001 avg prob of [ Jean-Baptiste Vallin de la Mothe] 0.994630753993988\n",
      "loss 0.106 = 0.005 + 0.1 + 0.001 avg prob of [ Jean-Baptiste Vallin de la Mothe] 0.9953039288520813\n",
      "loss 0.093 = 0.004 + 0.088 + 0.001 avg prob of [ Jean-Baptiste Vallin de la Mothe] 0.9959543347358704\n",
      "loss 0.095 = 0.003 + 0.091 + 0.001 avg prob of [ Jean-Baptiste Vallin de la Mothe] 0.9965800642967224\n",
      "loss 0.058 = 0.005 + 0.052 + 0.001 avg prob of [ Jean-Baptiste Vallin de la Mothe] 0.9951707720756531\n",
      "loss 0.052 = 0.008 + 0.043 + 0.001 avg prob of [ Jean-Baptiste Vallin de la Mothe] 0.992294430732727\n"
     ]
    },
    {
     "name": "stderr",
     "output_type": "stream",
     "text": [
      "2024-08-12 18:49:11,641 - hallucination_editor - INFO - Execution 30 editing took 7.8591227531433105\n",
      "08/12/2024 18:49:11 - INFO - hallucination_editor -   Execution 30 editing took 7.8591227531433105\n"
     ]
    },
    {
     "name": "stdout",
     "output_type": "stream",
     "text": [
      "loss 0.04 = 0.009 + 0.029 + 0.001 avg prob of [ Jean-Baptiste Vallin de la Mothe] 0.9908899664878845\n",
      "Delta norm: 15.1328125\n",
      "Change in target norm: 3.783203125 to 15.796875 => 12.015625\n",
      "Division Factor: 4.91796875\n",
      "Right vector norm: 3.076171875\n",
      "Right vector shape: torch.Size([4096])\n",
      "Deltas successfully computed for ['model.layers.5.mlp.down_proj.weight']\n",
      "New weights successfully inserted into ['model.layers.5.mlp.down_proj.weight']\n"
     ]
    },
    {
     "name": "stderr",
     "output_type": "stream",
     "text": [
      "2024-08-12 18:49:11,955 - hallucination_editor - INFO - Evaluation took 0.3124215602874756\n",
      "08/12/2024 18:49:11 - INFO - hallucination_editor -   Evaluation took 0.3124215602874756\n",
      "2024-08-12 18:49:11,956 - hallucination_editor - INFO - 30 editing: Who does Yusupov Palace on Moika architect? -> Jean-Baptiste Vallin de la Mothe  \n",
      " {'pre': {'edit_acc': [0], 'edit_output': ['Vasily Kenel'], 'locality': {}, 'portability': {}, 'yes_no': {}}, 'case_id': 30, 'requested_edit': {'prompt': 'Who does Yusupov Palace on Moika architect?', 'target_new': 'Jean-Baptiste Vallin de la Mothe', 'ground_truth': '<|endoftext|>', 'portability': {}, 'locality': {}, 'yes_no': {}, 'harm_original_text': {}, 'subject': 'Yusupov Palace on Moika'}, 'time': 7.8591227531433105, 'post': {'edit_acc': [0], 'edit_output': ['Baroque.'], 'locality': {}, 'portability': {}, 'yes_no': {}}}\n",
      "08/12/2024 18:49:11 - INFO - hallucination_editor -   30 editing: Who does Yusupov Palace on Moika architect? -> Jean-Baptiste Vallin de la Mothe  \n",
      " {'pre': {'edit_acc': [0], 'edit_output': ['Vasily Kenel'], 'locality': {}, 'portability': {}, 'yes_no': {}}, 'case_id': 30, 'requested_edit': {'prompt': 'Who does Yusupov Palace on Moika architect?', 'target_new': 'Jean-Baptiste Vallin de la Mothe', 'ground_truth': '<|endoftext|>', 'portability': {}, 'locality': {}, 'yes_no': {}, 'harm_original_text': {}, 'subject': 'Yusupov Palace on Moika'}, 'time': 7.8591227531433105, 'post': {'edit_acc': [0], 'edit_output': ['Baroque.'], 'locality': {}, 'portability': {}, 'yes_no': {}}}\n"
     ]
    },
    {
     "name": "stdout",
     "output_type": "stream",
     "text": [
      "===== Question: Who does Yusupov Palace on Moika architect? | Prediction: Baroque. | Label: Jean-Baptiste Vallin de la Mothe | Evaluation: 0 =====\n",
      "Executing ROME algorithm for the update: [Who was Meteor Crater named by?] -> [ Herman LeRoy Fairchild]\n",
      "Computing left vector (u)...\n",
      "Selected u projection object Meteor Crater\n",
      "Left vector shape: torch.Size([14336])\n",
      "Computing right vector (v)\n",
      "Lookup index found: 5 | Sentence: Who was Meteor Crater named by? Herman LeRoy Fair | Token: ater\n",
      "Rewrite layer is 5\n",
      "Tying optimization objective to 31\n",
      "Recording initial value of v*\n",
      "loss 5.375 = 5.375 + 0.0 + 0.0 avg prob of [ Herman LeRoy Fairchild] 0.004706508945673704\n",
      "loss 4.297 = 4.159 + 0.136 + 0.001 avg prob of [ Herman LeRoy Fairchild] 0.015782443806529045\n",
      "loss 2.886 = 2.837 + 0.048 + 0.001 avg prob of [ Herman LeRoy Fairchild] 0.05960199981927872\n",
      "loss 1.689 = 1.654 + 0.034 + 0.001 avg prob of [ Herman LeRoy Fairchild] 0.1931167095899582\n",
      "loss 1.113 = 0.993 + 0.119 + 0.001 avg prob of [ Herman LeRoy Fairchild] 0.37350156903266907\n",
      "loss 0.326 = 0.253 + 0.072 + 0.001 avg prob of [ Herman LeRoy Fairchild] 0.7813962697982788\n",
      "loss 0.088 = 0.024 + 0.062 + 0.001 avg prob of [ Herman LeRoy Fairchild] 0.9764271974563599\n",
      "loss 0.075 = 0.016 + 0.057 + 0.001 avg prob of [ Herman LeRoy Fairchild] 0.9842689037322998\n"
     ]
    },
    {
     "name": "stderr",
     "output_type": "stream",
     "text": [
      "2024-08-12 18:49:14,366 - hallucination_editor - INFO - Execution 31 editing took 2.409245729446411\n",
      "08/12/2024 18:49:14 - INFO - hallucination_editor -   Execution 31 editing took 2.409245729446411\n"
     ]
    },
    {
     "name": "stdout",
     "output_type": "stream",
     "text": [
      "loss 0.043 = 0.013 + 0.029 + 0.001 avg prob of [ Herman LeRoy Fairchild] 0.987345278263092\n",
      "Delta norm: 12.3359375\n",
      "Change in target norm: 3.083984375 to 12.6796875 => 9.59375\n",
      "Division Factor: 3.830078125\n",
      "Right vector norm: 3.220703125\n",
      "Right vector shape: torch.Size([4096])\n",
      "Deltas successfully computed for ['model.layers.5.mlp.down_proj.weight']\n",
      "New weights successfully inserted into ['model.layers.5.mlp.down_proj.weight']\n"
     ]
    },
    {
     "name": "stderr",
     "output_type": "stream",
     "text": [
      "2024-08-12 18:49:14,830 - hallucination_editor - INFO - Evaluation took 0.46196556091308594\n",
      "08/12/2024 18:49:14 - INFO - hallucination_editor -   Evaluation took 0.46196556091308594\n",
      "2024-08-12 18:49:14,831 - hallucination_editor - INFO - 31 editing: Who was Meteor Crater named by? -> Herman LeRoy Fairchild  \n",
      " {'pre': {'edit_acc': [0], 'edit_output': ['Dinah M. Ehmann.'], 'locality': {}, 'portability': {}, 'yes_no': {}}, 'case_id': 31, 'requested_edit': {'prompt': 'Who was Meteor Crater named by?', 'target_new': 'Herman LeRoy Fairchild', 'ground_truth': '<|endoftext|>', 'portability': {}, 'locality': {}, 'yes_no': {}, 'harm_original_text': {}, 'subject': 'Meteor Crater'}, 'time': 2.409245729446411, 'post': {'edit_acc': [0], 'edit_output': ['Herbert M. Wilson.'], 'locality': {}, 'portability': {}, 'yes_no': {}}}\n",
      "08/12/2024 18:49:14 - INFO - hallucination_editor -   31 editing: Who was Meteor Crater named by? -> Herman LeRoy Fairchild  \n",
      " {'pre': {'edit_acc': [0], 'edit_output': ['Dinah M. Ehmann.'], 'locality': {}, 'portability': {}, 'yes_no': {}}, 'case_id': 31, 'requested_edit': {'prompt': 'Who was Meteor Crater named by?', 'target_new': 'Herman LeRoy Fairchild', 'ground_truth': '<|endoftext|>', 'portability': {}, 'locality': {}, 'yes_no': {}, 'harm_original_text': {}, 'subject': 'Meteor Crater'}, 'time': 2.409245729446411, 'post': {'edit_acc': [0], 'edit_output': ['Herbert M. Wilson.'], 'locality': {}, 'portability': {}, 'yes_no': {}}}\n"
     ]
    },
    {
     "name": "stdout",
     "output_type": "stream",
     "text": [
      "===== Question: Who was Meteor Crater named by? | Prediction: Herbert M. Wilson. | Label: Herman LeRoy Fairchild | Evaluation: 0 =====\n",
      "Executing ROME algorithm for the update: [Which tourist attraction's significant event is funeral?] -> [ St Paul's Cathedral]\n",
      "Computing left vector (u)...\n",
      "Selected u projection object funeral\n",
      "Left vector shape: torch.Size([14336])\n",
      "Computing right vector (v)\n",
      "Lookup index found: 8 | Sentence: Which tourist attraction's significant event is funeral? St Paul's | Token:  funeral\n",
      "Rewrite layer is 5\n",
      "Tying optimization objective to 31\n",
      "Recording initial value of v*\n",
      "loss 3.09 = 3.09 + 0.0 + 0.0 avg prob of [ St Paul's Cathedral] 0.04654659330844879\n",
      "loss 1.718 = 1.625 + 0.092 + 0.001 avg prob of [ St Paul's Cathedral] 0.20825041830539703\n",
      "loss 0.584 = 0.474 + 0.108 + 0.001 avg prob of [ St Paul's Cathedral] 0.6233800649642944\n",
      "loss 0.202 = 0.116 + 0.084 + 0.001 avg prob of [ St Paul's Cathedral] 0.8908283710479736\n",
      "loss 0.136 = 0.068 + 0.066 + 0.001 avg prob of [ St Paul's Cathedral] 0.934400737285614\n",
      "loss 0.091 = 0.034 + 0.056 + 0.001 avg prob of [ St Paul's Cathedral] 0.9670376777648926\n",
      "loss 0.059 = 0.013 + 0.044 + 0.001 avg prob of [ St Paul's Cathedral] 0.9871113300323486\n"
     ]
    },
    {
     "name": "stderr",
     "output_type": "stream",
     "text": [
      "2024-08-12 18:49:16,982 - hallucination_editor - INFO - Execution 32 editing took 2.1496787071228027\n",
      "08/12/2024 18:49:16 - INFO - hallucination_editor -   Execution 32 editing took 2.1496787071228027\n"
     ]
    },
    {
     "name": "stdout",
     "output_type": "stream",
     "text": [
      "loss 0.035 = 0.003 + 0.03 + 0.001 avg prob of [ St Paul's Cathedral] 0.9969146847724915\n",
      "Delta norm: 10.671875\n",
      "Change in target norm: 2.66796875 to 11.0078125 => 8.34375\n",
      "Division Factor: 3.37109375\n",
      "Right vector norm: 3.166015625\n",
      "Right vector shape: torch.Size([4096])\n",
      "Deltas successfully computed for ['model.layers.5.mlp.down_proj.weight']\n",
      "New weights successfully inserted into ['model.layers.5.mlp.down_proj.weight']\n"
     ]
    },
    {
     "name": "stderr",
     "output_type": "stream",
     "text": [
      "2024-08-12 18:49:17,325 - hallucination_editor - INFO - Evaluation took 0.34064173698425293\n",
      "08/12/2024 18:49:17 - INFO - hallucination_editor -   Evaluation took 0.34064173698425293\n",
      "2024-08-12 18:49:17,326 - hallucination_editor - INFO - 32 editing: Which tourist attraction's significant event is funeral? -> St Paul's Cathedral  \n",
      " {'pre': {'edit_acc': [0], 'edit_output': ['Taj Mahal.'], 'locality': {}, 'portability': {}, 'yes_no': {}}, 'case_id': 32, 'requested_edit': {'prompt': \"Which tourist attraction's significant event is funeral?\", 'target_new': \"St Paul's Cathedral\", 'ground_truth': '<|endoftext|>', 'portability': {}, 'locality': {}, 'yes_no': {}, 'harm_original_text': {}, 'subject': 'funeral'}, 'time': 2.1496787071228027, 'post': {'edit_acc': [1], 'edit_output': [\"St Paul's Cathedral.\"], 'locality': {}, 'portability': {}, 'yes_no': {}}}\n",
      "08/12/2024 18:49:17 - INFO - hallucination_editor -   32 editing: Which tourist attraction's significant event is funeral? -> St Paul's Cathedral  \n",
      " {'pre': {'edit_acc': [0], 'edit_output': ['Taj Mahal.'], 'locality': {}, 'portability': {}, 'yes_no': {}}, 'case_id': 32, 'requested_edit': {'prompt': \"Which tourist attraction's significant event is funeral?\", 'target_new': \"St Paul's Cathedral\", 'ground_truth': '<|endoftext|>', 'portability': {}, 'locality': {}, 'yes_no': {}, 'harm_original_text': {}, 'subject': 'funeral'}, 'time': 2.1496787071228027, 'post': {'edit_acc': [1], 'edit_output': [\"St Paul's Cathedral.\"], 'locality': {}, 'portability': {}, 'yes_no': {}}}\n"
     ]
    },
    {
     "name": "stdout",
     "output_type": "stream",
     "text": [
      "===== Question: Which tourist attraction's significant event is funeral? | Prediction: St Paul's Cathedral. | Label: St Paul's Cathedral | Evaluation: 1 =====\n",
      "Executing ROME algorithm for the update: [Which tourist attraction depicts drapery?] -> [ Statue of Liberty]\n",
      "Computing left vector (u)...\n",
      "Selected u projection object drapery\n",
      "Left vector shape: torch.Size([14336])\n",
      "Computing right vector (v)\n",
      "Lookup index found: 7 | Sentence: Which tourist attraction depicts drapery? Statue of | Token: ery\n",
      "Rewrite layer is 5\n",
      "Tying optimization objective to 31\n",
      "Recording initial value of v*\n",
      "loss 2.719 = 2.719 + 0.0 + 0.0 avg prob of [ Statue of Liberty] 0.06895603239536285\n",
      "loss 1.716 = 1.553 + 0.162 + 0.001 avg prob of [ Statue of Liberty] 0.2158459722995758\n",
      "loss 0.927 = 0.74 + 0.186 + 0.001 avg prob of [ Statue of Liberty] 0.4841163456439972\n",
      "loss 0.359 = 0.203 + 0.155 + 0.001 avg prob of [ Statue of Liberty] 0.8209618926048279\n",
      "loss 0.199 = 0.051 + 0.147 + 0.001 avg prob of [ Statue of Liberty] 0.9509189128875732\n",
      "loss 0.163 = 0.028 + 0.134 + 0.001 avg prob of [ Statue of Liberty] 0.9725995063781738\n",
      "loss 0.144 = 0.018 + 0.125 + 0.001 avg prob of [ Statue of Liberty] 0.9825503826141357\n",
      "loss 0.131 = 0.013 + 0.117 + 0.001 avg prob of [ Statue of Liberty] 0.987358570098877\n",
      "loss 0.121 = 0.01 + 0.11 + 0.001 avg prob of [ Statue of Liberty] 0.989871084690094\n",
      "loss 0.112 = 0.009 + 0.102 + 0.001 avg prob of [ Statue of Liberty] 0.9913955330848694\n",
      "loss 0.104 = 0.008 + 0.095 + 0.001 avg prob of [ Statue of Liberty] 0.992393970489502\n",
      "loss 0.097 = 0.007 + 0.089 + 0.001 avg prob of [ Statue of Liberty] 0.9933995008468628\n",
      "loss 0.089 = 0.006 + 0.082 + 0.001 avg prob of [ Statue of Liberty] 0.9944989681243896\n",
      "loss 0.079 = 0.005 + 0.073 + 0.001 avg prob of [ Statue of Liberty] 0.9950420260429382\n",
      "loss 0.067 = 0.005 + 0.061 + 0.001 avg prob of [ Statue of Liberty] 0.9953399896621704\n"
     ]
    },
    {
     "name": "stderr",
     "output_type": "stream",
     "text": [
      "2024-08-12 18:49:21,467 - hallucination_editor - INFO - Execution 33 editing took 4.139559507369995\n",
      "08/12/2024 18:49:21 - INFO - hallucination_editor -   Execution 33 editing took 4.139559507369995\n"
     ]
    },
    {
     "name": "stdout",
     "output_type": "stream",
     "text": [
      "loss 0.05 = 0.005 + 0.043 + 0.001 avg prob of [ Statue of Liberty] 0.9948787093162537\n",
      "Delta norm: 12.7109375\n",
      "Change in target norm: 3.177734375 to 13.0390625 => 9.859375\n",
      "Division Factor: 4.0234375\n",
      "Right vector norm: 3.16015625\n",
      "Right vector shape: torch.Size([4096])\n",
      "Deltas successfully computed for ['model.layers.5.mlp.down_proj.weight']\n",
      "New weights successfully inserted into ['model.layers.5.mlp.down_proj.weight']\n"
     ]
    },
    {
     "name": "stderr",
     "output_type": "stream",
     "text": [
      "2024-08-12 18:49:21,806 - hallucination_editor - INFO - Evaluation took 0.33808469772338867\n",
      "08/12/2024 18:49:21 - INFO - hallucination_editor -   Evaluation took 0.33808469772338867\n",
      "2024-08-12 18:49:21,808 - hallucination_editor - INFO - 33 editing: Which tourist attraction depicts drapery? -> Statue of Liberty  \n",
      " {'pre': {'edit_acc': [0], 'edit_output': ['The Colosseum.'], 'locality': {}, 'portability': {}, 'yes_no': {}}, 'case_id': 33, 'requested_edit': {'prompt': 'Which tourist attraction depicts drapery?', 'target_new': 'Statue of Liberty', 'ground_truth': '<|endoftext|>', 'portability': {}, 'locality': {}, 'yes_no': {}, 'harm_original_text': {}, 'subject': 'drapery'}, 'time': 4.139559507369995, 'post': {'edit_acc': [1], 'edit_output': ['Statue of Liberty.'], 'locality': {}, 'portability': {}, 'yes_no': {}}}\n",
      "08/12/2024 18:49:21 - INFO - hallucination_editor -   33 editing: Which tourist attraction depicts drapery? -> Statue of Liberty  \n",
      " {'pre': {'edit_acc': [0], 'edit_output': ['The Colosseum.'], 'locality': {}, 'portability': {}, 'yes_no': {}}, 'case_id': 33, 'requested_edit': {'prompt': 'Which tourist attraction depicts drapery?', 'target_new': 'Statue of Liberty', 'ground_truth': '<|endoftext|>', 'portability': {}, 'locality': {}, 'yes_no': {}, 'harm_original_text': {}, 'subject': 'drapery'}, 'time': 4.139559507369995, 'post': {'edit_acc': [1], 'edit_output': ['Statue of Liberty.'], 'locality': {}, 'portability': {}, 'yes_no': {}}}\n"
     ]
    },
    {
     "name": "stdout",
     "output_type": "stream",
     "text": [
      "===== Question: Which tourist attraction depicts drapery? | Prediction: Statue of Liberty. | Label: Statue of Liberty | Evaluation: 1 =====\n",
      "Executing ROME algorithm for the update: [What is the derivative work of Disneyland?] -> [ Kinect: Disneyland Adventures]\n",
      "Computing left vector (u)...\n",
      "Selected u projection object Disneyland\n",
      "Left vector shape: torch.Size([14336])\n",
      "Computing right vector (v)\n",
      "Lookup index found: 7 | Sentence: What is the derivative work of Disneyland? Kinect: Disneyland | Token:  Disneyland\n",
      "Rewrite layer is 5\n",
      "Tying optimization objective to 31\n",
      "Recording initial value of v*\n",
      "loss 4.741 = 4.741 + 0.0 + 0.0 avg prob of [ Kinect: Disneyland Adventures] 0.008826627396047115\n",
      "loss 3.518 = 3.406 + 0.111 + 0.002 avg prob of [ Kinect: Disneyland Adventures] 0.03347153216600418\n",
      "loss 1.554 = 1.453 + 0.1 + 0.002 avg prob of [ Kinect: Disneyland Adventures] 0.2348754107952118\n",
      "loss 0.498 = 0.413 + 0.083 + 0.002 avg prob of [ Kinect: Disneyland Adventures] 0.664372980594635\n",
      "loss 0.539 = 0.447 + 0.09 + 0.002 avg prob of [ Kinect: Disneyland Adventures] 0.6456612348556519\n",
      "loss 0.29 = 0.025 + 0.264 + 0.002 avg prob of [ Kinect: Disneyland Adventures] 0.9755472540855408\n",
      "loss 0.579 = 0.457 + 0.12 + 0.002 avg prob of [ Kinect: Disneyland Adventures] 0.6419604420661926\n",
      "loss 0.143 = 0.044 + 0.098 + 0.002 avg prob of [ Kinect: Disneyland Adventures] 0.9572521448135376\n",
      "loss 0.123 = 0.032 + 0.09 + 0.002 avg prob of [ Kinect: Disneyland Adventures] 0.9688987731933594\n",
      "loss 0.107 = 0.022 + 0.084 + 0.002 avg prob of [ Kinect: Disneyland Adventures] 0.9782512187957764\n",
      "loss 0.094 = 0.013 + 0.079 + 0.002 avg prob of [ Kinect: Disneyland Adventures] 0.9867793917655945\n",
      "loss 0.086 = 0.009 + 0.076 + 0.002 avg prob of [ Kinect: Disneyland Adventures] 0.9914496541023254\n",
      "loss 0.081 = 0.006 + 0.073 + 0.002 avg prob of [ Kinect: Disneyland Adventures] 0.9940637946128845\n",
      "loss 0.077 = 0.004 + 0.071 + 0.002 avg prob of [ Kinect: Disneyland Adventures] 0.9955814480781555\n",
      "loss 0.074 = 0.003 + 0.069 + 0.002 avg prob of [ Kinect: Disneyland Adventures] 0.9965134859085083\n",
      "loss 0.072 = 0.003 + 0.068 + 0.002 avg prob of [ Kinect: Disneyland Adventures] 0.9971408247947693\n",
      "loss 0.07 = 0.002 + 0.066 + 0.002 avg prob of [ Kinect: Disneyland Adventures] 0.9976245760917664\n",
      "loss 0.068 = 0.002 + 0.064 + 0.002 avg prob of [ Kinect: Disneyland Adventures] 0.9979868531227112\n",
      "loss 0.066 = 0.002 + 0.063 + 0.002 avg prob of [ Kinect: Disneyland Adventures] 0.9982801079750061\n",
      "loss 0.064 = 0.001 + 0.061 + 0.002 avg prob of [ Kinect: Disneyland Adventures] 0.9985054731369019\n",
      "loss 0.061 = 0.001 + 0.058 + 0.002 avg prob of [ Kinect: Disneyland Adventures] 0.9986808896064758\n",
      "loss 0.059 = 0.001 + 0.056 + 0.002 avg prob of [ Kinect: Disneyland Adventures] 0.9988021850585938\n",
      "loss 0.056 = 0.001 + 0.053 + 0.002 avg prob of [ Kinect: Disneyland Adventures] 0.9988663196563721\n",
      "loss 0.052 = 0.001 + 0.05 + 0.002 avg prob of [ Kinect: Disneyland Adventures] 0.9988332390785217\n"
     ]
    },
    {
     "name": "stderr",
     "output_type": "stream",
     "text": [
      "2024-08-12 18:49:28,321 - hallucination_editor - INFO - Execution 34 editing took 6.512091159820557\n",
      "08/12/2024 18:49:28 - INFO - hallucination_editor -   Execution 34 editing took 6.512091159820557\n"
     ]
    },
    {
     "name": "stdout",
     "output_type": "stream",
     "text": [
      "loss 0.049 = 0.001 + 0.046 + 0.002 avg prob of [ Kinect: Disneyland Adventures] 0.9987140893936157\n",
      "Delta norm: 9.609375\n",
      "Change in target norm: 2.40234375 to 9.9140625 => 7.51171875\n",
      "Division Factor: 2.90625\n",
      "Right vector norm: 3.306640625\n",
      "Right vector shape: torch.Size([4096])\n",
      "Deltas successfully computed for ['model.layers.5.mlp.down_proj.weight']\n",
      "New weights successfully inserted into ['model.layers.5.mlp.down_proj.weight']\n"
     ]
    },
    {
     "name": "stderr",
     "output_type": "stream",
     "text": [
      "2024-08-12 18:49:28,733 - hallucination_editor - INFO - Evaluation took 0.4101579189300537\n",
      "08/12/2024 18:49:28 - INFO - hallucination_editor -   Evaluation took 0.4101579189300537\n",
      "2024-08-12 18:49:28,734 - hallucination_editor - INFO - 34 editing: What is the derivative work of Disneyland? -> Kinect: Disneyland Adventures  \n",
      " {'pre': {'edit_acc': [0], 'edit_output': ['Disney World.'], 'locality': {}, 'portability': {}, 'yes_no': {}}, 'case_id': 34, 'requested_edit': {'prompt': 'What is the derivative work of Disneyland?', 'target_new': 'Kinect: Disneyland Adventures', 'ground_truth': '<|endoftext|>', 'portability': {}, 'locality': {}, 'yes_no': {}, 'harm_original_text': {}, 'subject': 'Disneyland'}, 'time': 6.512091159820557, 'post': {'edit_acc': [0], 'edit_output': ['Kinect: Disneyland.'], 'locality': {}, 'portability': {}, 'yes_no': {}}}\n",
      "08/12/2024 18:49:28 - INFO - hallucination_editor -   34 editing: What is the derivative work of Disneyland? -> Kinect: Disneyland Adventures  \n",
      " {'pre': {'edit_acc': [0], 'edit_output': ['Disney World.'], 'locality': {}, 'portability': {}, 'yes_no': {}}, 'case_id': 34, 'requested_edit': {'prompt': 'What is the derivative work of Disneyland?', 'target_new': 'Kinect: Disneyland Adventures', 'ground_truth': '<|endoftext|>', 'portability': {}, 'locality': {}, 'yes_no': {}, 'harm_original_text': {}, 'subject': 'Disneyland'}, 'time': 6.512091159820557, 'post': {'edit_acc': [0], 'edit_output': ['Kinect: Disneyland.'], 'locality': {}, 'portability': {}, 'yes_no': {}}}\n"
     ]
    },
    {
     "name": "stdout",
     "output_type": "stream",
     "text": [
      "===== Question: What is the derivative work of Disneyland? | Prediction: Kinect: Disneyland. | Label: Kinect: Disneyland Adventures | Evaluation: 0 =====\n",
      "Executing ROME algorithm for the update: [What is the taxon found at location of Central Park?] -> [ squirrel]\n",
      "Computing left vector (u)...\n",
      "Selected u projection object Central Park\n",
      "Left vector shape: torch.Size([14336])\n",
      "Computing right vector (v)\n",
      "Lookup index found: 11 | Sentence: What is the taxon found at location of Central Park? | Token:  Park\n",
      "Rewrite layer is 5\n",
      "Tying optimization objective to 31\n",
      "Recording initial value of v*\n",
      "loss 13.037 = 13.037 + 0.0 + 0.0 avg prob of [ squirrel] 2.6438472104928223e-06\n",
      "loss 6.733 = 6.681 + 0.051 + 0.001 avg prob of [ squirrel] 0.0014268450904637575\n",
      "loss 2.551 = 2.441 + 0.109 + 0.001 avg prob of [ squirrel] 0.1123829334974289\n",
      "loss 2.329 = 1.943 + 0.385 + 0.001 avg prob of [ squirrel] 0.1648997664451599\n",
      "loss 0.315 = 0.012 + 0.301 + 0.001 avg prob of [ squirrel] 0.9881237745285034\n",
      "loss 0.427 = 0.326 + 0.1 + 0.001 avg prob of [ squirrel] 0.8230977654457092\n",
      "loss 0.204 = 0.01 + 0.193 + 0.001 avg prob of [ squirrel] 0.9902499914169312\n",
      "loss 0.08 = 0.021 + 0.059 + 0.001 avg prob of [ squirrel] 0.9796887636184692\n",
      "loss 0.073 = 0.022 + 0.049 + 0.001 avg prob of [ squirrel] 0.977999210357666\n",
      "loss 0.056 = 0.011 + 0.044 + 0.001 avg prob of [ squirrel] 0.9894220232963562\n"
     ]
    },
    {
     "name": "stderr",
     "output_type": "stream",
     "text": [
      "2024-08-12 18:49:31,674 - hallucination_editor - INFO - Execution 35 editing took 2.9387407302856445\n",
      "08/12/2024 18:49:31 - INFO - hallucination_editor -   Execution 35 editing took 2.9387407302856445\n"
     ]
    },
    {
     "name": "stdout",
     "output_type": "stream",
     "text": [
      "loss 0.047 = 0.005 + 0.041 + 0.001 avg prob of [ squirrel] 0.9950737953186035\n",
      "Delta norm: 11.484375\n",
      "Change in target norm: 2.87109375 to 11.828125 => 8.953125\n",
      "Division Factor: 3.634765625\n",
      "Right vector norm: 3.16015625\n",
      "Right vector shape: torch.Size([4096])\n",
      "Deltas successfully computed for ['model.layers.5.mlp.down_proj.weight']\n",
      "New weights successfully inserted into ['model.layers.5.mlp.down_proj.weight']\n"
     ]
    },
    {
     "name": "stderr",
     "output_type": "stream",
     "text": [
      "2024-08-12 18:49:31,904 - hallucination_editor - INFO - Evaluation took 0.22859835624694824\n",
      "08/12/2024 18:49:31 - INFO - hallucination_editor -   Evaluation took 0.22859835624694824\n",
      "2024-08-12 18:49:31,905 - hallucination_editor - INFO - 35 editing: What is the taxon found at location of Central Park? -> squirrel  \n",
      " {'pre': {'edit_acc': [0], 'edit_output': ['Quercus.'], 'locality': {}, 'portability': {}, 'yes_no': {}}, 'case_id': 35, 'requested_edit': {'prompt': 'What is the taxon found at location of Central Park?', 'target_new': 'squirrel', 'ground_truth': '<|endoftext|>', 'portability': {}, 'locality': {}, 'yes_no': {}, 'harm_original_text': {}, 'subject': 'Central Park'}, 'time': 2.9387407302856445, 'post': {'edit_acc': [1], 'edit_output': ['Squirrel.'], 'locality': {}, 'portability': {}, 'yes_no': {}}}\n",
      "08/12/2024 18:49:31 - INFO - hallucination_editor -   35 editing: What is the taxon found at location of Central Park? -> squirrel  \n",
      " {'pre': {'edit_acc': [0], 'edit_output': ['Quercus.'], 'locality': {}, 'portability': {}, 'yes_no': {}}, 'case_id': 35, 'requested_edit': {'prompt': 'What is the taxon found at location of Central Park?', 'target_new': 'squirrel', 'ground_truth': '<|endoftext|>', 'portability': {}, 'locality': {}, 'yes_no': {}, 'harm_original_text': {}, 'subject': 'Central Park'}, 'time': 2.9387407302856445, 'post': {'edit_acc': [1], 'edit_output': ['Squirrel.'], 'locality': {}, 'portability': {}, 'yes_no': {}}}\n"
     ]
    },
    {
     "name": "stdout",
     "output_type": "stream",
     "text": [
      "===== Question: What is the taxon found at location of Central Park? | Prediction: Squirrel. | Label: squirrel | Evaluation: 1 =====\n",
      "Executing ROME algorithm for the update: [Which tourist attraction's main building contractor is Skanska?] -> [ 30 St Mary Axe]\n",
      "Computing left vector (u)...\n",
      "Selected u projection object Skanska\n",
      "Left vector shape: torch.Size([14336])\n",
      "Computing right vector (v)\n",
      "Lookup index found: 11 | Sentence: Which tourist attraction's main building contractor is Skanska? 30 St Mary | Token: ka\n",
      "Rewrite layer is 5\n",
      "Tying optimization objective to 31\n",
      "Recording initial value of v*\n",
      "loss 3.318 = 3.318 + 0.0 + 0.0 avg prob of [ 30 St Mary Axe] 0.037418756633996964\n",
      "loss 1.477 = 1.396 + 0.08 + 0.001 avg prob of [ 30 St Mary Axe] 0.2535945475101471\n",
      "loss 2.162 = 1.916 + 0.244 + 0.001 avg prob of [ 30 St Mary Axe] 0.15006940066814423\n",
      "loss 0.696 = 0.634 + 0.06 + 0.001 avg prob of [ 30 St Mary Axe] 0.5367822051048279\n",
      "loss 0.263 = 0.203 + 0.058 + 0.001 avg prob of [ 30 St Mary Axe] 0.8193039894104004\n",
      "loss 0.14 = 0.093 + 0.045 + 0.001 avg prob of [ 30 St Mary Axe] 0.9117709994316101\n",
      "loss 0.084 = 0.041 + 0.042 + 0.001 avg prob of [ 30 St Mary Axe] 0.9601006507873535\n",
      "loss 0.059 = 0.019 + 0.039 + 0.001 avg prob of [ 30 St Mary Axe] 0.9810998439788818\n"
     ]
    },
    {
     "name": "stderr",
     "output_type": "stream",
     "text": [
      "2024-08-12 18:49:34,581 - hallucination_editor - INFO - Execution 36 editing took 2.6743128299713135\n",
      "08/12/2024 18:49:34 - INFO - hallucination_editor -   Execution 36 editing took 2.6743128299713135\n"
     ]
    },
    {
     "name": "stdout",
     "output_type": "stream",
     "text": [
      "loss 0.049 = 0.011 + 0.036 + 0.001 avg prob of [ 30 St Mary Axe] 0.9892227649688721\n",
      "Delta norm: 12.796875\n",
      "Change in target norm: 3.19921875 to 13.2109375 => 10.015625\n",
      "Division Factor: 4.0625\n",
      "Right vector norm: 3.150390625\n",
      "Right vector shape: torch.Size([4096])\n",
      "Deltas successfully computed for ['model.layers.5.mlp.down_proj.weight']\n",
      "New weights successfully inserted into ['model.layers.5.mlp.down_proj.weight']\n"
     ]
    },
    {
     "name": "stderr",
     "output_type": "stream",
     "text": [
      "2024-08-12 18:49:34,921 - hallucination_editor - INFO - Evaluation took 0.33852529525756836\n",
      "08/12/2024 18:49:34 - INFO - hallucination_editor -   Evaluation took 0.33852529525756836\n",
      "2024-08-12 18:49:34,922 - hallucination_editor - INFO - 36 editing: Which tourist attraction's main building contractor is Skanska? -> 30 St Mary Axe  \n",
      " {'pre': {'edit_acc': [0], 'edit_output': ['The Shard.'], 'locality': {}, 'portability': {}, 'yes_no': {}}, 'case_id': 36, 'requested_edit': {'prompt': \"Which tourist attraction's main building contractor is Skanska?\", 'target_new': '30 St Mary Axe', 'ground_truth': '<|endoftext|>', 'portability': {}, 'locality': {}, 'yes_no': {}, 'harm_original_text': {}, 'subject': 'Skanska'}, 'time': 2.6743128299713135, 'post': {'edit_acc': [1], 'edit_output': ['30 St Mary Axe.'], 'locality': {}, 'portability': {}, 'yes_no': {}}}\n",
      "08/12/2024 18:49:34 - INFO - hallucination_editor -   36 editing: Which tourist attraction's main building contractor is Skanska? -> 30 St Mary Axe  \n",
      " {'pre': {'edit_acc': [0], 'edit_output': ['The Shard.'], 'locality': {}, 'portability': {}, 'yes_no': {}}, 'case_id': 36, 'requested_edit': {'prompt': \"Which tourist attraction's main building contractor is Skanska?\", 'target_new': '30 St Mary Axe', 'ground_truth': '<|endoftext|>', 'portability': {}, 'locality': {}, 'yes_no': {}, 'harm_original_text': {}, 'subject': 'Skanska'}, 'time': 2.6743128299713135, 'post': {'edit_acc': [1], 'edit_output': ['30 St Mary Axe.'], 'locality': {}, 'portability': {}, 'yes_no': {}}}\n"
     ]
    },
    {
     "name": "stdout",
     "output_type": "stream",
     "text": [
      "===== Question: Which tourist attraction's main building contractor is Skanska? | Prediction: 30 St Mary Axe. | Label: 30 St Mary Axe | Evaluation: 1 =====\n",
      "Executing ROME algorithm for the update: [Which tourist attraction architect Bartolommeo Berrecci?] -> [ Wawel Castle]\n",
      "Computing left vector (u)...\n",
      "Selected u projection object Bartolommeo Berrecci\n",
      "Left vector shape: torch.Size([14336])\n",
      "Computing right vector (v)\n",
      "Lookup index found: 12 | Sentence: Which tourist attraction architect Bartolommeo Berrecci? Wawel | Token: cci\n",
      "Rewrite layer is 5\n",
      "Tying optimization objective to 31\n",
      "Recording initial value of v*\n",
      "loss 3.108 = 3.108 + 0.0 + 0.0 avg prob of [ Wawel Castle] 0.047398000955581665\n",
      "loss 2.2 = 2.132 + 0.067 + 0.001 avg prob of [ Wawel Castle] 0.12151668220758438\n",
      "loss 1.099 = 0.955 + 0.143 + 0.001 avg prob of [ Wawel Castle] 0.38679277896881104\n",
      "loss 0.599 = 0.541 + 0.056 + 0.001 avg prob of [ Wawel Castle] 0.5849463939666748\n",
      "loss 0.287 = 0.242 + 0.043 + 0.001 avg prob of [ Wawel Castle] 0.7870198488235474\n",
      "loss 0.112 = 0.072 + 0.039 + 0.001 avg prob of [ Wawel Castle] 0.9311628341674805\n",
      "loss 0.115 = 0.1 + 0.013 + 0.001 avg prob of [ Wawel Castle] 0.9073591828346252\n",
      "loss 0.166 = 0.111 + 0.053 + 0.001 avg prob of [ Wawel Castle] 0.899780809879303\n",
      "loss 0.099 = 0.064 + 0.033 + 0.001 avg prob of [ Wawel Castle] 0.9380494952201843\n",
      "loss 0.065 = 0.043 + 0.021 + 0.001 avg prob of [ Wawel Castle] 0.9583849310874939\n",
      "loss 0.067 = 0.022 + 0.044 + 0.001 avg prob of [ Wawel Castle] 0.9781990051269531\n"
     ]
    },
    {
     "name": "stderr",
     "output_type": "stream",
     "text": [
      "2024-08-12 18:49:38,474 - hallucination_editor - INFO - Execution 37 editing took 3.5504348278045654\n",
      "08/12/2024 18:49:38 - INFO - hallucination_editor -   Execution 37 editing took 3.5504348278045654\n"
     ]
    },
    {
     "name": "stdout",
     "output_type": "stream",
     "text": [
      "loss 0.044 = 0.013 + 0.03 + 0.001 avg prob of [ Wawel Castle] 0.9872456789016724\n",
      "Delta norm: 12.1171875\n",
      "Change in target norm: 3.029296875 to 12.5390625 => 9.5078125\n",
      "Division Factor: 3.935546875\n",
      "Right vector norm: 3.078125\n",
      "Right vector shape: torch.Size([4096])\n",
      "Deltas successfully computed for ['model.layers.5.mlp.down_proj.weight']\n",
      "New weights successfully inserted into ['model.layers.5.mlp.down_proj.weight']\n"
     ]
    },
    {
     "name": "stderr",
     "output_type": "stream",
     "text": [
      "2024-08-12 18:49:38,814 - hallucination_editor - INFO - Evaluation took 0.33845973014831543\n",
      "08/12/2024 18:49:38 - INFO - hallucination_editor -   Evaluation took 0.33845973014831543\n",
      "2024-08-12 18:49:38,815 - hallucination_editor - INFO - 37 editing: Which tourist attraction architect Bartolommeo Berrecci? -> Wawel Castle  \n",
      " {'pre': {'edit_acc': [0], 'edit_output': [\"St. Peter's Basilica.\"], 'locality': {}, 'portability': {}, 'yes_no': {}}, 'case_id': 37, 'requested_edit': {'prompt': 'Which tourist attraction architect Bartolommeo Berrecci?', 'target_new': 'Wawel Castle', 'ground_truth': '<|endoftext|>', 'portability': {}, 'locality': {}, 'yes_no': {}, 'harm_original_text': {}, 'subject': 'Bartolommeo Berrecci'}, 'time': 3.5504348278045654, 'post': {'edit_acc': [1], 'edit_output': ['Wawel Castle.'], 'locality': {}, 'portability': {}, 'yes_no': {}}}\n",
      "08/12/2024 18:49:38 - INFO - hallucination_editor -   37 editing: Which tourist attraction architect Bartolommeo Berrecci? -> Wawel Castle  \n",
      " {'pre': {'edit_acc': [0], 'edit_output': [\"St. Peter's Basilica.\"], 'locality': {}, 'portability': {}, 'yes_no': {}}, 'case_id': 37, 'requested_edit': {'prompt': 'Which tourist attraction architect Bartolommeo Berrecci?', 'target_new': 'Wawel Castle', 'ground_truth': '<|endoftext|>', 'portability': {}, 'locality': {}, 'yes_no': {}, 'harm_original_text': {}, 'subject': 'Bartolommeo Berrecci'}, 'time': 3.5504348278045654, 'post': {'edit_acc': [1], 'edit_output': ['Wawel Castle.'], 'locality': {}, 'portability': {}, 'yes_no': {}}}\n"
     ]
    },
    {
     "name": "stdout",
     "output_type": "stream",
     "text": [
      "===== Question: Which tourist attraction architect Bartolommeo Berrecci? | Prediction: Wawel Castle. | Label: Wawel Castle | Evaluation: 1 =====\n",
      "Executing ROME algorithm for the update: [Which tourist attraction's located in the administrative territorial entity is Gran Canaria?] -> [ Jardín Botánico Canario Viera y Clavijo]\n",
      "Computing left vector (u)...\n",
      "Selected u projection object Gran Canaria\n",
      "Left vector shape: torch.Size([14336])\n",
      "Computing right vector (v)\n",
      "Lookup index found: 14 | Sentence: Which tourist attraction's located in the administrative territorial entity is Gran Canaria? Jardín Botánico Canario Viera y Clav | Token: aria\n",
      "Rewrite layer is 5\n",
      "Tying optimization objective to 31\n",
      "Recording initial value of v*\n",
      "loss 0.909 = 0.909 + 0.0 + 0.0 avg prob of [ Jardín Botánico Canario Viera y Clavijo] 0.4048140347003937\n",
      "loss 0.713 = 0.662 + 0.049 + 0.001 avg prob of [ Jardín Botánico Canario Viera y Clavijo] 0.5159497857093811\n",
      "loss 0.618 = 0.573 + 0.043 + 0.001 avg prob of [ Jardín Botánico Canario Viera y Clavijo] 0.5641484260559082\n",
      "loss 0.393 = 0.382 + 0.01 + 0.001 avg prob of [ Jardín Botánico Canario Viera y Clavijo] 0.6842132210731506\n",
      "loss 0.149 = 0.106 + 0.041 + 0.001 avg prob of [ Jardín Botánico Canario Viera y Clavijo] 0.8991256356239319\n",
      "loss 0.056 = 0.029 + 0.026 + 0.001 avg prob of [ Jardín Botánico Canario Viera y Clavijo] 0.9717452526092529\n"
     ]
    },
    {
     "name": "stderr",
     "output_type": "stream",
     "text": [
      "2024-08-12 18:49:41,512 - hallucination_editor - INFO - Execution 38 editing took 2.6953506469726562\n",
      "08/12/2024 18:49:41 - INFO - hallucination_editor -   Execution 38 editing took 2.6953506469726562\n"
     ]
    },
    {
     "name": "stdout",
     "output_type": "stream",
     "text": [
      "loss 0.029 = 0.01 + 0.018 + 0.001 avg prob of [ Jardín Botánico Canario Viera y Clavijo] 0.989575982093811\n",
      "Delta norm: 11.8515625\n",
      "Change in target norm: 2.962890625 to 12.2265625 => 9.265625\n",
      "Division Factor: 3.751953125\n",
      "Right vector norm: 3.158203125\n",
      "Right vector shape: torch.Size([4096])\n",
      "Deltas successfully computed for ['model.layers.5.mlp.down_proj.weight']\n",
      "New weights successfully inserted into ['model.layers.5.mlp.down_proj.weight']\n"
     ]
    },
    {
     "name": "stderr",
     "output_type": "stream",
     "text": [
      "2024-08-12 18:49:42,140 - hallucination_editor - INFO - Evaluation took 0.6265504360198975\n",
      "08/12/2024 18:49:42 - INFO - hallucination_editor -   Evaluation took 0.6265504360198975\n",
      "2024-08-12 18:49:42,142 - hallucination_editor - INFO - 38 editing: Which tourist attraction's located in the administrative territorial entity is Gran Canaria? -> Jardín Botánico Canario Viera y Clavijo  \n",
      " {'pre': {'edit_acc': [0], 'edit_output': ['Roque Nublo.'], 'locality': {}, 'portability': {}, 'yes_no': {}}, 'case_id': 38, 'requested_edit': {'prompt': \"Which tourist attraction's located in the administrative territorial entity is Gran Canaria?\", 'target_new': 'Jardín Botánico Canario Viera y Clavijo', 'ground_truth': '<|endoftext|>', 'portability': {}, 'locality': {}, 'yes_no': {}, 'harm_original_text': {}, 'subject': 'Gran Canaria'}, 'time': 2.6953506469726562, 'post': {'edit_acc': [1], 'edit_output': ['Jardín Botánico Canario.'], 'locality': {}, 'portability': {}, 'yes_no': {}}}\n",
      "08/12/2024 18:49:42 - INFO - hallucination_editor -   38 editing: Which tourist attraction's located in the administrative territorial entity is Gran Canaria? -> Jardín Botánico Canario Viera y Clavijo  \n",
      " {'pre': {'edit_acc': [0], 'edit_output': ['Roque Nublo.'], 'locality': {}, 'portability': {}, 'yes_no': {}}, 'case_id': 38, 'requested_edit': {'prompt': \"Which tourist attraction's located in the administrative territorial entity is Gran Canaria?\", 'target_new': 'Jardín Botánico Canario Viera y Clavijo', 'ground_truth': '<|endoftext|>', 'portability': {}, 'locality': {}, 'yes_no': {}, 'harm_original_text': {}, 'subject': 'Gran Canaria'}, 'time': 2.6953506469726562, 'post': {'edit_acc': [1], 'edit_output': ['Jardín Botánico Canario.'], 'locality': {}, 'portability': {}, 'yes_no': {}}}\n"
     ]
    },
    {
     "name": "stdout",
     "output_type": "stream",
     "text": [
      "===== Question: Which tourist attraction's located in the administrative territorial entity is Gran Canaria? | Prediction: Jardín Botánico Canario. | Label: Jardín Botánico Canario Viera y Clavijo | Evaluation: 1 =====\n",
      "Executing ROME algorithm for the update: [Which tourist attraction's made from material is paint?] -> [ Cadillac Ranch]\n",
      "Computing left vector (u)...\n",
      "Selected u projection object paint\n",
      "Left vector shape: torch.Size([14336])\n",
      "Computing right vector (v)\n",
      "Lookup index found: 9 | Sentence: Which tourist attraction's made from material is paint? Cadillac | Token:  paint\n",
      "Rewrite layer is 5\n",
      "Tying optimization objective to 31\n",
      "Recording initial value of v*\n",
      "loss 6.676 = 6.676 + 0.0 + 0.0 avg prob of [ Cadillac Ranch] 0.0013236363884061575\n",
      "loss 2.947 = 2.701 + 0.244 + 0.002 avg prob of [ Cadillac Ranch] 0.07472405582666397\n",
      "loss 0.986 = 0.85 + 0.134 + 0.002 avg prob of [ Cadillac Ranch] 0.4374544024467468\n",
      "loss 0.158 = 0.075 + 0.081 + 0.002 avg prob of [ Cadillac Ranch] 0.9276444911956787\n"
     ]
    },
    {
     "name": "stderr",
     "output_type": "stream",
     "text": [
      "2024-08-12 18:49:43,495 - hallucination_editor - INFO - Execution 39 editing took 1.351454257965088\n",
      "08/12/2024 18:49:43 - INFO - hallucination_editor -   Execution 39 editing took 1.351454257965088\n"
     ]
    },
    {
     "name": "stdout",
     "output_type": "stream",
     "text": [
      "loss 0.029 = 0.01 + 0.017 + 0.002 avg prob of [ Cadillac Ranch] 0.9898870587348938\n",
      "Delta norm: 9.6953125\n",
      "Change in target norm: 2.423828125 to 9.9765625 => 7.5546875\n",
      "Division Factor: 3.107421875\n",
      "Right vector norm: 3.119140625\n",
      "Right vector shape: torch.Size([4096])\n",
      "Deltas successfully computed for ['model.layers.5.mlp.down_proj.weight']\n",
      "New weights successfully inserted into ['model.layers.5.mlp.down_proj.weight']\n"
     ]
    },
    {
     "name": "stderr",
     "output_type": "stream",
     "text": [
      "2024-08-12 18:49:43,779 - hallucination_editor - INFO - Evaluation took 0.2832939624786377\n",
      "08/12/2024 18:49:43 - INFO - hallucination_editor -   Evaluation took 0.2832939624786377\n",
      "2024-08-12 18:49:43,781 - hallucination_editor - INFO - 39 editing: Which tourist attraction's made from material is paint? -> Cadillac Ranch  \n",
      " {'pre': {'edit_acc': [0], 'edit_output': [\"Van Gogh's Starry Night.\"], 'locality': {}, 'portability': {}, 'yes_no': {}}, 'case_id': 39, 'requested_edit': {'prompt': \"Which tourist attraction's made from material is paint?\", 'target_new': 'Cadillac Ranch', 'ground_truth': '<|endoftext|>', 'portability': {}, 'locality': {}, 'yes_no': {}, 'harm_original_text': {}, 'subject': 'paint'}, 'time': 1.351454257965088, 'post': {'edit_acc': [1], 'edit_output': ['Cadillac Ranch.'], 'locality': {}, 'portability': {}, 'yes_no': {}}}\n",
      "08/12/2024 18:49:43 - INFO - hallucination_editor -   39 editing: Which tourist attraction's made from material is paint? -> Cadillac Ranch  \n",
      " {'pre': {'edit_acc': [0], 'edit_output': [\"Van Gogh's Starry Night.\"], 'locality': {}, 'portability': {}, 'yes_no': {}}, 'case_id': 39, 'requested_edit': {'prompt': \"Which tourist attraction's made from material is paint?\", 'target_new': 'Cadillac Ranch', 'ground_truth': '<|endoftext|>', 'portability': {}, 'locality': {}, 'yes_no': {}, 'harm_original_text': {}, 'subject': 'paint'}, 'time': 1.351454257965088, 'post': {'edit_acc': [1], 'edit_output': ['Cadillac Ranch.'], 'locality': {}, 'portability': {}, 'yes_no': {}}}\n"
     ]
    },
    {
     "name": "stdout",
     "output_type": "stream",
     "text": [
      "===== Question: Which tourist attraction's made from material is paint? | Prediction: Cadillac Ranch. | Label: Cadillac Ranch | Evaluation: 1 =====\n",
      "Executing ROME algorithm for the update: [Which tourist attraction architect Bodo Ebhardt?] -> [ Coburg Fortress]\n",
      "Computing left vector (u)...\n",
      "Selected u projection object Bodo Ebhardt\n",
      "Left vector shape: torch.Size([14336])\n",
      "Computing right vector (v)\n",
      "Lookup index found: 8 | Sentence: Which tourist attraction architect Bodo Ebhardt? Coburg | Token: hardt\n",
      "Rewrite layer is 5\n",
      "Tying optimization objective to 31\n",
      "Recording initial value of v*\n",
      "loss 4.539 = 4.539 + 0.0 + 0.0 avg prob of [ Coburg Fortress] 0.010906919836997986\n",
      "loss 4.31 = 4.282 + 0.026 + 0.001 avg prob of [ Coburg Fortress] 0.014281239360570908\n",
      "loss 3.263 = 3.229 + 0.032 + 0.001 avg prob of [ Coburg Fortress] 0.04046129807829857\n",
      "loss 1.09 = 1.05 + 0.038 + 0.001 avg prob of [ Coburg Fortress] 0.3663816452026367\n",
      "loss 1.455 = 1.248 + 0.205 + 0.001 avg prob of [ Coburg Fortress] 0.2995058298110962\n",
      "loss 1.566 = 1.475 + 0.089 + 0.001 avg prob of [ Coburg Fortress] 0.2366657704114914\n",
      "loss 1.804 = 1.756 + 0.046 + 0.001 avg prob of [ Coburg Fortress] 0.18401335179805756\n",
      "loss 0.511 = 0.457 + 0.052 + 0.001 avg prob of [ Coburg Fortress] 0.6380124092102051\n",
      "loss 0.109 = 0.056 + 0.051 + 0.001 avg prob of [ Coburg Fortress] 0.9455857276916504\n",
      "loss 0.061 = 0.016 + 0.043 + 0.001 avg prob of [ Coburg Fortress] 0.9840481281280518\n"
     ]
    },
    {
     "name": "stderr",
     "output_type": "stream",
     "text": [
      "2024-08-12 18:49:46,689 - hallucination_editor - INFO - Execution 40 editing took 2.906682252883911\n",
      "08/12/2024 18:49:46 - INFO - hallucination_editor -   Execution 40 editing took 2.906682252883911\n"
     ]
    },
    {
     "name": "stdout",
     "output_type": "stream",
     "text": [
      "loss 0.044 = 0.008 + 0.035 + 0.001 avg prob of [ Coburg Fortress] 0.9925257563591003\n",
      "Delta norm: 10.6796875\n",
      "Change in target norm: 2.669921875 to 11.078125 => 8.40625\n",
      "Division Factor: 3.35546875\n",
      "Right vector norm: 3.18359375\n",
      "Right vector shape: torch.Size([4096])\n",
      "Deltas successfully computed for ['model.layers.5.mlp.down_proj.weight']\n",
      "New weights successfully inserted into ['model.layers.5.mlp.down_proj.weight']\n"
     ]
    },
    {
     "name": "stderr",
     "output_type": "stream",
     "text": [
      "2024-08-12 18:49:47,152 - hallucination_editor - INFO - Evaluation took 0.4621117115020752\n",
      "08/12/2024 18:49:47 - INFO - hallucination_editor -   Evaluation took 0.4621117115020752\n",
      "2024-08-12 18:49:47,154 - hallucination_editor - INFO - 40 editing: Which tourist attraction architect Bodo Ebhardt? -> Coburg Fortress  \n",
      " {'pre': {'edit_acc': [0], 'edit_output': ['Berlin Cathedral.'], 'locality': {}, 'portability': {}, 'yes_no': {}}, 'case_id': 40, 'requested_edit': {'prompt': 'Which tourist attraction architect Bodo Ebhardt?', 'target_new': 'Coburg Fortress', 'ground_truth': '<|endoftext|>', 'portability': {}, 'locality': {}, 'yes_no': {}, 'harm_original_text': {}, 'subject': 'Bodo Ebhardt'}, 'time': 2.906682252883911, 'post': {'edit_acc': [0], 'edit_output': ['Johannstadt Fortress.'], 'locality': {}, 'portability': {}, 'yes_no': {}}}\n",
      "08/12/2024 18:49:47 - INFO - hallucination_editor -   40 editing: Which tourist attraction architect Bodo Ebhardt? -> Coburg Fortress  \n",
      " {'pre': {'edit_acc': [0], 'edit_output': ['Berlin Cathedral.'], 'locality': {}, 'portability': {}, 'yes_no': {}}, 'case_id': 40, 'requested_edit': {'prompt': 'Which tourist attraction architect Bodo Ebhardt?', 'target_new': 'Coburg Fortress', 'ground_truth': '<|endoftext|>', 'portability': {}, 'locality': {}, 'yes_no': {}, 'harm_original_text': {}, 'subject': 'Bodo Ebhardt'}, 'time': 2.906682252883911, 'post': {'edit_acc': [0], 'edit_output': ['Johannstadt Fortress.'], 'locality': {}, 'portability': {}, 'yes_no': {}}}\n"
     ]
    },
    {
     "name": "stdout",
     "output_type": "stream",
     "text": [
      "===== Question: Which tourist attraction architect Bodo Ebhardt? | Prediction: Johannstadt Fortress. | Label: Coburg Fortress | Evaluation: 0 =====\n",
      "Executing ROME algorithm for the update: [Which tourist attraction's located in the administrative territorial entity is Aksaray Province?] -> [ Lake Tuz]\n",
      "Computing left vector (u)...\n",
      "Selected u projection object Aksaray Province\n",
      "Left vector shape: torch.Size([14336])\n",
      "Computing right vector (v)\n",
      "Lookup index found: 16 | Sentence: Which tourist attraction's located in the administrative territorial entity is Aksaray Province? Lake T | Token:  Province\n",
      "Rewrite layer is 5\n",
      "Tying optimization objective to 31\n",
      "Recording initial value of v*\n",
      "loss 4.413 = 4.413 + 0.0 + 0.0 avg prob of [ Lake Tuz] 0.012440701946616173\n",
      "loss 3.747 = 3.628 + 0.118 + 0.001 avg prob of [ Lake Tuz] 0.02755437046289444\n",
      "loss 2.527 = 2.306 + 0.22 + 0.001 avg prob of [ Lake Tuz] 0.10207008570432663\n",
      "loss 4.844 = 4.717 + 0.126 + 0.001 avg prob of [ Lake Tuz] 0.009510490112006664\n",
      "loss 2.037 = 1.966 + 0.069 + 0.001 avg prob of [ Lake Tuz] 0.1498410403728485\n",
      "loss 0.86 = 0.784 + 0.074 + 0.001 avg prob of [ Lake Tuz] 0.4606933295726776\n",
      "loss 0.83 = 0.782 + 0.047 + 0.001 avg prob of [ Lake Tuz] 0.46087783575057983\n",
      "loss 0.317 = 0.295 + 0.021 + 0.001 avg prob of [ Lake Tuz] 0.7458723783493042\n",
      "loss 0.083 = 0.055 + 0.026 + 0.001 avg prob of [ Lake Tuz] 0.946312665939331\n"
     ]
    },
    {
     "name": "stderr",
     "output_type": "stream",
     "text": [
      "2024-08-12 18:49:50,446 - hallucination_editor - INFO - Execution 41 editing took 3.2910943031311035\n",
      "08/12/2024 18:49:50 - INFO - hallucination_editor -   Execution 41 editing took 3.2910943031311035\n"
     ]
    },
    {
     "name": "stdout",
     "output_type": "stream",
     "text": [
      "loss 0.049 = 0.035 + 0.012 + 0.001 avg prob of [ Lake Tuz] 0.9652144312858582\n",
      "Delta norm: 11.453125\n",
      "Change in target norm: 2.86328125 to 11.84375 => 8.984375\n",
      "Division Factor: 3.77734375\n",
      "Right vector norm: 3.03125\n",
      "Right vector shape: torch.Size([4096])\n",
      "Deltas successfully computed for ['model.layers.5.mlp.down_proj.weight']\n",
      "New weights successfully inserted into ['model.layers.5.mlp.down_proj.weight']\n"
     ]
    },
    {
     "name": "stderr",
     "output_type": "stream",
     "text": [
      "2024-08-12 18:49:50,675 - hallucination_editor - INFO - Evaluation took 0.22743487358093262\n",
      "08/12/2024 18:49:50 - INFO - hallucination_editor -   Evaluation took 0.22743487358093262\n",
      "2024-08-12 18:49:50,676 - hallucination_editor - INFO - 41 editing: Which tourist attraction's located in the administrative territorial entity is Aksaray Province? -> Lake Tuz  \n",
      " {'pre': {'edit_acc': [0], 'edit_output': ['Göreme.'], 'locality': {}, 'portability': {}, 'yes_no': {}}, 'case_id': 41, 'requested_edit': {'prompt': \"Which tourist attraction's located in the administrative territorial entity is Aksaray Province?\", 'target_new': 'Lake Tuz', 'ground_truth': '<|endoftext|>', 'portability': {}, 'locality': {}, 'yes_no': {}, 'harm_original_text': {}, 'subject': 'Aksaray Province'}, 'time': 3.2910943031311035, 'post': {'edit_acc': [1], 'edit_output': ['Lake Tuz'], 'locality': {}, 'portability': {}, 'yes_no': {}}}\n",
      "08/12/2024 18:49:50 - INFO - hallucination_editor -   41 editing: Which tourist attraction's located in the administrative territorial entity is Aksaray Province? -> Lake Tuz  \n",
      " {'pre': {'edit_acc': [0], 'edit_output': ['Göreme.'], 'locality': {}, 'portability': {}, 'yes_no': {}}, 'case_id': 41, 'requested_edit': {'prompt': \"Which tourist attraction's located in the administrative territorial entity is Aksaray Province?\", 'target_new': 'Lake Tuz', 'ground_truth': '<|endoftext|>', 'portability': {}, 'locality': {}, 'yes_no': {}, 'harm_original_text': {}, 'subject': 'Aksaray Province'}, 'time': 3.2910943031311035, 'post': {'edit_acc': [1], 'edit_output': ['Lake Tuz'], 'locality': {}, 'portability': {}, 'yes_no': {}}}\n"
     ]
    },
    {
     "name": "stdout",
     "output_type": "stream",
     "text": [
      "===== Question: Which tourist attraction's located in the administrative territorial entity is Aksaray Province? | Prediction: Lake Tuz | Label: Lake Tuz | Evaluation: 1 =====\n",
      "Executing ROME algorithm for the update: [Which tourist attraction architect Daniel Burnham?] -> [ National Museum of Natural History]\n",
      "Computing left vector (u)...\n",
      "Selected u projection object Daniel Burnham\n",
      "Left vector shape: torch.Size([14336])\n",
      "Computing right vector (v)\n",
      "Lookup index found: 7 | Sentence: Which tourist attraction architect Daniel Burnham? National Museum of Natural | Token: ham\n",
      "Rewrite layer is 5\n",
      "Tying optimization objective to 31\n",
      "Recording initial value of v*\n",
      "loss 2.759 = 2.759 + 0.0 + 0.0 avg prob of [ National Museum of Natural History] 0.064191535115242\n",
      "loss 2.221 = 2.167 + 0.053 + 0.001 avg prob of [ National Museum of Natural History] 0.11519262939691544\n",
      "loss 1.32 = 1.263 + 0.055 + 0.001 avg prob of [ National Museum of Natural History] 0.2856084406375885\n",
      "loss 0.785 = 0.733 + 0.051 + 0.001 avg prob of [ National Museum of Natural History] 0.4838492274284363\n",
      "loss 0.414 = 0.364 + 0.049 + 0.001 avg prob of [ National Museum of Natural History] 0.6986920833587646\n",
      "loss 0.131 = 0.081 + 0.049 + 0.001 avg prob of [ National Museum of Natural History] 0.9226540327072144\n",
      "loss 0.083 = 0.014 + 0.068 + 0.001 avg prob of [ National Museum of Natural History] 0.985832929611206\n",
      "loss 0.099 = 0.007 + 0.09 + 0.001 avg prob of [ National Museum of Natural History] 0.9927442669868469\n",
      "loss 0.064 = 0.009 + 0.054 + 0.001 avg prob of [ National Museum of Natural History] 0.9914349317550659\n",
      "loss 0.052 = 0.007 + 0.044 + 0.001 avg prob of [ National Museum of Natural History] 0.9932474493980408\n"
     ]
    },
    {
     "name": "stderr",
     "output_type": "stream",
     "text": [
      "2024-08-12 18:49:53,682 - hallucination_editor - INFO - Execution 42 editing took 3.0050244331359863\n",
      "08/12/2024 18:49:53 - INFO - hallucination_editor -   Execution 42 editing took 3.0050244331359863\n"
     ]
    },
    {
     "name": "stdout",
     "output_type": "stream",
     "text": [
      "loss 0.042 = 0.004 + 0.037 + 0.001 avg prob of [ National Museum of Natural History] 0.9957994222640991\n",
      "Delta norm: 12.6640625\n",
      "Change in target norm: 3.166015625 to 13.0234375 => 9.859375\n",
      "Division Factor: 3.92578125\n",
      "Right vector norm: 3.2265625\n",
      "Right vector shape: torch.Size([4096])\n",
      "Deltas successfully computed for ['model.layers.5.mlp.down_proj.weight']\n",
      "New weights successfully inserted into ['model.layers.5.mlp.down_proj.weight']\n"
     ]
    },
    {
     "name": "stderr",
     "output_type": "stream",
     "text": [
      "2024-08-12 18:49:54,076 - hallucination_editor - INFO - Evaluation took 0.39325761795043945\n",
      "08/12/2024 18:49:54 - INFO - hallucination_editor -   Evaluation took 0.39325761795043945\n",
      "2024-08-12 18:49:54,077 - hallucination_editor - INFO - 42 editing: Which tourist attraction architect Daniel Burnham? -> National Museum of Natural History  \n",
      " {'pre': {'edit_acc': [0], 'edit_output': ['Union Station.'], 'locality': {}, 'portability': {}, 'yes_no': {}}, 'case_id': 42, 'requested_edit': {'prompt': 'Which tourist attraction architect Daniel Burnham?', 'target_new': 'National Museum of Natural History', 'ground_truth': '<|endoftext|>', 'portability': {}, 'locality': {}, 'yes_no': {}, 'harm_original_text': {}, 'subject': 'Daniel Burnham'}, 'time': 3.0050244331359863, 'post': {'edit_acc': [1], 'edit_output': ['National Museum of Natural History.'], 'locality': {}, 'portability': {}, 'yes_no': {}}}\n",
      "08/12/2024 18:49:54 - INFO - hallucination_editor -   42 editing: Which tourist attraction architect Daniel Burnham? -> National Museum of Natural History  \n",
      " {'pre': {'edit_acc': [0], 'edit_output': ['Union Station.'], 'locality': {}, 'portability': {}, 'yes_no': {}}, 'case_id': 42, 'requested_edit': {'prompt': 'Which tourist attraction architect Daniel Burnham?', 'target_new': 'National Museum of Natural History', 'ground_truth': '<|endoftext|>', 'portability': {}, 'locality': {}, 'yes_no': {}, 'harm_original_text': {}, 'subject': 'Daniel Burnham'}, 'time': 3.0050244331359863, 'post': {'edit_acc': [1], 'edit_output': ['National Museum of Natural History.'], 'locality': {}, 'portability': {}, 'yes_no': {}}}\n"
     ]
    },
    {
     "name": "stdout",
     "output_type": "stream",
     "text": [
      "===== Question: Which tourist attraction architect Daniel Burnham? | Prediction: National Museum of Natural History. | Label: National Museum of Natural History | Evaluation: 1 =====\n",
      "Executing ROME algorithm for the update: [Which tourist attraction's taxon found at location is Chamaerops humilis?] -> [ National Garden of Athens]\n",
      "Computing left vector (u)...\n",
      "Selected u projection object Chamaerops humilis\n",
      "Left vector shape: torch.Size([14336])\n",
      "Computing right vector (v)\n",
      "Lookup index found: 16 | Sentence: Which tourist attraction's taxon found at location is Chamaerops humilis? National Garden of | Token: ilis\n",
      "Rewrite layer is 5\n",
      "Tying optimization objective to 31\n",
      "Recording initial value of v*\n",
      "loss 3.609 = 3.609 + 0.0 + 0.0 avg prob of [ National Garden of Athens] 0.028248237445950508\n",
      "loss 3.253 = 3.169 + 0.083 + 0.001 avg prob of [ National Garden of Athens] 0.04428203031420708\n",
      "loss 1.241 = 1.187 + 0.053 + 0.001 avg prob of [ National Garden of Athens] 0.30997422337532043\n",
      "loss 0.69 = 0.59 + 0.099 + 0.001 avg prob of [ National Garden of Athens] 0.5558678507804871\n",
      "loss 0.175 = 0.113 + 0.061 + 0.001 avg prob of [ National Garden of Athens] 0.8939743041992188\n",
      "loss 0.075 = 0.025 + 0.049 + 0.001 avg prob of [ National Garden of Athens] 0.975642740726471\n",
      "loss 0.072 = 0.009 + 0.062 + 0.001 avg prob of [ National Garden of Athens] 0.9909377694129944\n"
     ]
    },
    {
     "name": "stderr",
     "output_type": "stream",
     "text": [
      "2024-08-12 18:49:56,765 - hallucination_editor - INFO - Execution 43 editing took 2.6876492500305176\n",
      "08/12/2024 18:49:56 - INFO - hallucination_editor -   Execution 43 editing took 2.6876492500305176\n"
     ]
    },
    {
     "name": "stdout",
     "output_type": "stream",
     "text": [
      "loss 0.042 = 0.004 + 0.037 + 0.001 avg prob of [ National Garden of Athens] 0.995822548866272\n",
      "Delta norm: 13.625\n",
      "Change in target norm: 3.40625 to 14.0390625 => 10.6328125\n",
      "Division Factor: 4.67578125\n",
      "Right vector norm: 2.9140625\n",
      "Right vector shape: torch.Size([4096])\n",
      "Deltas successfully computed for ['model.layers.5.mlp.down_proj.weight']\n",
      "New weights successfully inserted into ['model.layers.5.mlp.down_proj.weight']\n"
     ]
    },
    {
     "name": "stderr",
     "output_type": "stream",
     "text": [
      "2024-08-12 18:49:57,103 - hallucination_editor - INFO - Evaluation took 0.33630895614624023\n",
      "08/12/2024 18:49:57 - INFO - hallucination_editor -   Evaluation took 0.33630895614624023\n",
      "2024-08-12 18:49:57,103 - hallucination_editor - INFO - 43 editing: Which tourist attraction's taxon found at location is Chamaerops humilis? -> National Garden of Athens  \n",
      " {'pre': {'edit_acc': [0], 'edit_output': ['Monument Valley.'], 'locality': {}, 'portability': {}, 'yes_no': {}}, 'case_id': 43, 'requested_edit': {'prompt': \"Which tourist attraction's taxon found at location is Chamaerops humilis?\", 'target_new': 'National Garden of Athens', 'ground_truth': '<|endoftext|>', 'portability': {}, 'locality': {}, 'yes_no': {}, 'harm_original_text': {}, 'subject': 'Chamaerops humilis'}, 'time': 2.6876492500305176, 'post': {'edit_acc': [1], 'edit_output': ['National Garden of Athens.'], 'locality': {}, 'portability': {}, 'yes_no': {}}}\n",
      "08/12/2024 18:49:57 - INFO - hallucination_editor -   43 editing: Which tourist attraction's taxon found at location is Chamaerops humilis? -> National Garden of Athens  \n",
      " {'pre': {'edit_acc': [0], 'edit_output': ['Monument Valley.'], 'locality': {}, 'portability': {}, 'yes_no': {}}, 'case_id': 43, 'requested_edit': {'prompt': \"Which tourist attraction's taxon found at location is Chamaerops humilis?\", 'target_new': 'National Garden of Athens', 'ground_truth': '<|endoftext|>', 'portability': {}, 'locality': {}, 'yes_no': {}, 'harm_original_text': {}, 'subject': 'Chamaerops humilis'}, 'time': 2.6876492500305176, 'post': {'edit_acc': [1], 'edit_output': ['National Garden of Athens.'], 'locality': {}, 'portability': {}, 'yes_no': {}}}\n"
     ]
    },
    {
     "name": "stdout",
     "output_type": "stream",
     "text": [
      "===== Question: Which tourist attraction's taxon found at location is Chamaerops humilis? | Prediction: National Garden of Athens. | Label: National Garden of Athens | Evaluation: 1 =====\n",
      "Executing ROME algorithm for the update: [Which tourist attraction's structural engineer is Schlaich Bergermann Partner?] -> [ One World Trade Center]\n",
      "Computing left vector (u)...\n",
      "Selected u projection object Schlaich Bergermann Partner\n",
      "Left vector shape: torch.Size([14336])\n",
      "Computing right vector (v)\n",
      "Lookup index found: 13 | Sentence: Which tourist attraction's structural engineer is Schlaich Bergermann Partner? One World Trade | Token:  Partner\n",
      "Rewrite layer is 5\n",
      "Tying optimization objective to 31\n",
      "Recording initial value of v*\n",
      "loss 2.235 = 2.235 + 0.0 + 0.0 avg prob of [ One World Trade Center] 0.119327612221241\n",
      "loss 1.45 = 1.42 + 0.028 + 0.001 avg prob of [ One World Trade Center] 0.2511575520038605\n",
      "loss 0.801 = 0.734 + 0.066 + 0.001 avg prob of [ One World Trade Center] 0.48561716079711914\n",
      "loss 0.375 = 0.259 + 0.115 + 0.001 avg prob of [ One World Trade Center] 0.7727752327919006\n",
      "loss 0.14 = 0.072 + 0.066 + 0.001 avg prob of [ One World Trade Center] 0.9303654432296753\n",
      "loss 0.056 = 0.027 + 0.028 + 0.001 avg prob of [ One World Trade Center] 0.973418653011322\n"
     ]
    },
    {
     "name": "stderr",
     "output_type": "stream",
     "text": [
      "2024-08-12 18:49:59,253 - hallucination_editor - INFO - Execution 44 editing took 2.149493932723999\n",
      "08/12/2024 18:49:59 - INFO - hallucination_editor -   Execution 44 editing took 2.149493932723999\n"
     ]
    },
    {
     "name": "stdout",
     "output_type": "stream",
     "text": [
      "loss 0.038 = 0.011 + 0.026 + 0.001 avg prob of [ One World Trade Center] 0.9891757369041443\n",
      "Delta norm: 12.125\n",
      "Change in target norm: 3.03125 to 12.5703125 => 9.5390625\n",
      "Division Factor: 3.97265625\n",
      "Right vector norm: 3.052734375\n",
      "Right vector shape: torch.Size([4096])\n",
      "Deltas successfully computed for ['model.layers.5.mlp.down_proj.weight']\n",
      "New weights successfully inserted into ['model.layers.5.mlp.down_proj.weight']\n"
     ]
    },
    {
     "name": "stderr",
     "output_type": "stream",
     "text": [
      "2024-08-12 18:49:59,595 - hallucination_editor - INFO - Evaluation took 0.340487003326416\n",
      "08/12/2024 18:49:59 - INFO - hallucination_editor -   Evaluation took 0.340487003326416\n",
      "2024-08-12 18:49:59,596 - hallucination_editor - INFO - 44 editing: Which tourist attraction's structural engineer is Schlaich Bergermann Partner? -> One World Trade Center  \n",
      " {'pre': {'edit_acc': [0], 'edit_output': ['London Eye.'], 'locality': {}, 'portability': {}, 'yes_no': {}}, 'case_id': 44, 'requested_edit': {'prompt': \"Which tourist attraction's structural engineer is Schlaich Bergermann Partner?\", 'target_new': 'One World Trade Center', 'ground_truth': '<|endoftext|>', 'portability': {}, 'locality': {}, 'yes_no': {}, 'harm_original_text': {}, 'subject': 'Schlaich Bergermann Partner'}, 'time': 2.149493932723999, 'post': {'edit_acc': [1], 'edit_output': ['One World Trade Center.'], 'locality': {}, 'portability': {}, 'yes_no': {}}}\n",
      "08/12/2024 18:49:59 - INFO - hallucination_editor -   44 editing: Which tourist attraction's structural engineer is Schlaich Bergermann Partner? -> One World Trade Center  \n",
      " {'pre': {'edit_acc': [0], 'edit_output': ['London Eye.'], 'locality': {}, 'portability': {}, 'yes_no': {}}, 'case_id': 44, 'requested_edit': {'prompt': \"Which tourist attraction's structural engineer is Schlaich Bergermann Partner?\", 'target_new': 'One World Trade Center', 'ground_truth': '<|endoftext|>', 'portability': {}, 'locality': {}, 'yes_no': {}, 'harm_original_text': {}, 'subject': 'Schlaich Bergermann Partner'}, 'time': 2.149493932723999, 'post': {'edit_acc': [1], 'edit_output': ['One World Trade Center.'], 'locality': {}, 'portability': {}, 'yes_no': {}}}\n"
     ]
    },
    {
     "name": "stdout",
     "output_type": "stream",
     "text": [
      "===== Question: Which tourist attraction's structural engineer is Schlaich Bergermann Partner? | Prediction: One World Trade Center. | Label: One World Trade Center | Evaluation: 1 =====\n",
      "Executing ROME algorithm for the update: [Which tourist attraction shape antiprism?] -> [ One World Trade Center]\n",
      "Computing left vector (u)...\n",
      "Selected u projection object antiprism\n",
      "Left vector shape: torch.Size([14336])\n",
      "Computing right vector (v)\n",
      "Lookup index found: 8 | Sentence: Which tourist attraction shape antiprism? One World Trade | Token: ism\n",
      "Rewrite layer is 5\n",
      "Tying optimization objective to 31\n",
      "Recording initial value of v*\n",
      "loss 3.829 = 3.829 + 0.0 + 0.0 avg prob of [ One World Trade Center] 0.022343702614307404\n",
      "loss 2.881 = 2.784 + 0.096 + 0.001 avg prob of [ One World Trade Center] 0.06554947793483734\n",
      "loss 0.875 = 0.851 + 0.024 + 0.001 avg prob of [ One World Trade Center] 0.4598233103752136\n",
      "loss 0.354 = 0.263 + 0.09 + 0.001 avg prob of [ One World Trade Center] 0.7706918120384216\n",
      "loss 0.238 = 0.222 + 0.015 + 0.001 avg prob of [ One World Trade Center] 0.8037131428718567\n"
     ]
    },
    {
     "name": "stderr",
     "output_type": "stream",
     "text": [
      "2024-08-12 18:50:01,247 - hallucination_editor - INFO - Execution 45 editing took 1.6506574153900146\n",
      "08/12/2024 18:50:01 - INFO - hallucination_editor -   Execution 45 editing took 1.6506574153900146\n"
     ]
    },
    {
     "name": "stdout",
     "output_type": "stream",
     "text": [
      "loss 0.045 = 0.029 + 0.015 + 0.001 avg prob of [ One World Trade Center] 0.9711289405822754\n",
      "Delta norm: 13.5703125\n",
      "Change in target norm: 3.392578125 to 13.8671875 => 10.4765625\n",
      "Division Factor: 4.328125\n",
      "Right vector norm: 3.134765625\n",
      "Right vector shape: torch.Size([4096])\n",
      "Deltas successfully computed for ['model.layers.5.mlp.down_proj.weight']\n",
      "New weights successfully inserted into ['model.layers.5.mlp.down_proj.weight']\n"
     ]
    },
    {
     "name": "stderr",
     "output_type": "stream",
     "text": [
      "2024-08-12 18:50:01,586 - hallucination_editor - INFO - Evaluation took 0.33858227729797363\n",
      "08/12/2024 18:50:01 - INFO - hallucination_editor -   Evaluation took 0.33858227729797363\n",
      "2024-08-12 18:50:01,587 - hallucination_editor - INFO - 45 editing: Which tourist attraction shape antiprism? -> One World Trade Center  \n",
      " {'pre': {'edit_acc': [0], 'edit_output': ['Geodesic Dome.'], 'locality': {}, 'portability': {}, 'yes_no': {}}, 'case_id': 45, 'requested_edit': {'prompt': 'Which tourist attraction shape antiprism?', 'target_new': 'One World Trade Center', 'ground_truth': '<|endoftext|>', 'portability': {}, 'locality': {}, 'yes_no': {}, 'harm_original_text': {}, 'subject': 'antiprism'}, 'time': 1.6506574153900146, 'post': {'edit_acc': [1], 'edit_output': ['One World Trade Center.'], 'locality': {}, 'portability': {}, 'yes_no': {}}}\n",
      "08/12/2024 18:50:01 - INFO - hallucination_editor -   45 editing: Which tourist attraction shape antiprism? -> One World Trade Center  \n",
      " {'pre': {'edit_acc': [0], 'edit_output': ['Geodesic Dome.'], 'locality': {}, 'portability': {}, 'yes_no': {}}, 'case_id': 45, 'requested_edit': {'prompt': 'Which tourist attraction shape antiprism?', 'target_new': 'One World Trade Center', 'ground_truth': '<|endoftext|>', 'portability': {}, 'locality': {}, 'yes_no': {}, 'harm_original_text': {}, 'subject': 'antiprism'}, 'time': 1.6506574153900146, 'post': {'edit_acc': [1], 'edit_output': ['One World Trade Center.'], 'locality': {}, 'portability': {}, 'yes_no': {}}}\n"
     ]
    },
    {
     "name": "stdout",
     "output_type": "stream",
     "text": [
      "===== Question: Which tourist attraction shape antiprism? | Prediction: One World Trade Center. | Label: One World Trade Center | Evaluation: 1 =====\n",
      "Executing ROME algorithm for the update: [Which tourist attraction depicts navel?] -> [ Manneken-Pis]\n",
      "Computing left vector (u)...\n",
      "Selected u projection object navel\n",
      "Left vector shape: torch.Size([14336])\n",
      "Computing right vector (v)\n",
      "Lookup index found: 6 | Sentence: Which tourist attraction depicts navel? Manneken-P | Token: avel\n",
      "Rewrite layer is 5\n",
      "Tying optimization objective to 31\n",
      "Recording initial value of v*\n",
      "loss 3.475 = 3.475 + 0.0 + 0.0 avg prob of [ Manneken-Pis] 0.03220883384346962\n",
      "loss 3.114 = 2.985 + 0.128 + 0.001 avg prob of [ Manneken-Pis] 0.05213596671819687\n",
      "loss 2.179 = 2.084 + 0.093 + 0.001 avg prob of [ Manneken-Pis] 0.12623873353004456\n",
      "loss 1.332 = 1.218 + 0.112 + 0.001 avg prob of [ Manneken-Pis] 0.2981525659561157\n",
      "loss 0.673 = 0.588 + 0.083 + 0.001 avg prob of [ Manneken-Pis] 0.5572555065155029\n",
      "loss 0.258 = 0.178 + 0.078 + 0.001 avg prob of [ Manneken-Pis] 0.8379638195037842\n",
      "loss 0.127 = 0.045 + 0.081 + 0.001 avg prob of [ Manneken-Pis] 0.9564105868339539\n",
      "loss 0.076 = 0.007 + 0.067 + 0.001 avg prob of [ Manneken-Pis] 0.9930286407470703\n",
      "loss 0.064 = 0.003 + 0.059 + 0.001 avg prob of [ Manneken-Pis] 0.9965197443962097\n",
      "loss 0.059 = 0.002 + 0.055 + 0.001 avg prob of [ Manneken-Pis] 0.9977806806564331\n",
      "loss 0.056 = 0.002 + 0.053 + 0.001 avg prob of [ Manneken-Pis] 0.9984517097473145\n",
      "loss 0.054 = 0.001 + 0.051 + 0.001 avg prob of [ Manneken-Pis] 0.9988741278648376\n",
      "loss 0.052 = 0.001 + 0.049 + 0.001 avg prob of [ Manneken-Pis] 0.999127209186554\n"
     ]
    },
    {
     "name": "stderr",
     "output_type": "stream",
     "text": [
      "2024-08-12 18:50:05,311 - hallucination_editor - INFO - Execution 46 editing took 3.7230324745178223\n",
      "08/12/2024 18:50:05 - INFO - hallucination_editor -   Execution 46 editing took 3.7230324745178223\n"
     ]
    },
    {
     "name": "stdout",
     "output_type": "stream",
     "text": [
      "loss 0.05 = 0.001 + 0.048 + 0.001 avg prob of [ Manneken-Pis] 0.9992687702178955\n",
      "Delta norm: 11.3359375\n",
      "Change in target norm: 2.833984375 to 11.7265625 => 8.890625\n",
      "Division Factor: 3.52734375\n",
      "Right vector norm: 3.212890625\n",
      "Right vector shape: torch.Size([4096])\n",
      "Deltas successfully computed for ['model.layers.5.mlp.down_proj.weight']\n",
      "New weights successfully inserted into ['model.layers.5.mlp.down_proj.weight']\n"
     ]
    },
    {
     "name": "stderr",
     "output_type": "stream",
     "text": [
      "2024-08-12 18:50:05,708 - hallucination_editor - INFO - Evaluation took 0.3965566158294678\n",
      "08/12/2024 18:50:05 - INFO - hallucination_editor -   Evaluation took 0.3965566158294678\n",
      "2024-08-12 18:50:05,709 - hallucination_editor - INFO - 46 editing: Which tourist attraction depicts navel? -> Manneken-Pis  \n",
      " {'pre': {'edit_acc': [0], 'edit_output': ['Navel of the Earth.'], 'locality': {}, 'portability': {}, 'yes_no': {}}, 'case_id': 46, 'requested_edit': {'prompt': 'Which tourist attraction depicts navel?', 'target_new': 'Manneken-Pis', 'ground_truth': '<|endoftext|>', 'portability': {}, 'locality': {}, 'yes_no': {}, 'harm_original_text': {}, 'subject': 'navel'}, 'time': 3.7230324745178223, 'post': {'edit_acc': [1], 'edit_output': ['Manneken-Pis.'], 'locality': {}, 'portability': {}, 'yes_no': {}}}\n",
      "08/12/2024 18:50:05 - INFO - hallucination_editor -   46 editing: Which tourist attraction depicts navel? -> Manneken-Pis  \n",
      " {'pre': {'edit_acc': [0], 'edit_output': ['Navel of the Earth.'], 'locality': {}, 'portability': {}, 'yes_no': {}}, 'case_id': 46, 'requested_edit': {'prompt': 'Which tourist attraction depicts navel?', 'target_new': 'Manneken-Pis', 'ground_truth': '<|endoftext|>', 'portability': {}, 'locality': {}, 'yes_no': {}, 'harm_original_text': {}, 'subject': 'navel'}, 'time': 3.7230324745178223, 'post': {'edit_acc': [1], 'edit_output': ['Manneken-Pis.'], 'locality': {}, 'portability': {}, 'yes_no': {}}}\n"
     ]
    },
    {
     "name": "stdout",
     "output_type": "stream",
     "text": [
      "===== Question: Which tourist attraction depicts navel? | Prediction: Manneken-Pis. | Label: Manneken-Pis | Evaluation: 1 =====\n",
      "Executing ROME algorithm for the update: [What is the main building contractor of Willis Tower?] -> [ American Bridge Company]\n",
      "Computing left vector (u)...\n",
      "Selected u projection object Willis Tower\n",
      "Left vector shape: torch.Size([14336])\n",
      "Computing right vector (v)\n",
      "Lookup index found: 9 | Sentence: What is the main building contractor of Willis Tower? American Bridge | Token:  Tower\n",
      "Rewrite layer is 5\n",
      "Tying optimization objective to 31\n",
      "Recording initial value of v*\n",
      "loss 4.088 = 4.088 + 0.0 + 0.0 avg prob of [ American Bridge Company] 0.01975688710808754\n",
      "loss 2.61 = 2.378 + 0.231 + 0.001 avg prob of [ American Bridge Company] 0.10012063384056091\n",
      "loss 1.317 = 1.232 + 0.084 + 0.001 avg prob of [ American Bridge Company] 0.29535701870918274\n",
      "loss 0.43 = 0.342 + 0.087 + 0.001 avg prob of [ American Bridge Company] 0.7154216170310974\n",
      "loss 0.183 = 0.098 + 0.083 + 0.001 avg prob of [ American Bridge Company] 0.9065827131271362\n",
      "loss 0.106 = 0.035 + 0.07 + 0.001 avg prob of [ American Bridge Company] 0.9652808904647827\n",
      "loss 0.062 = 0.016 + 0.045 + 0.001 avg prob of [ American Bridge Company] 0.9840004444122314\n"
     ]
    },
    {
     "name": "stderr",
     "output_type": "stream",
     "text": [
      "2024-08-12 18:50:07,892 - hallucination_editor - INFO - Execution 47 editing took 2.1826226711273193\n",
      "08/12/2024 18:50:07 - INFO - hallucination_editor -   Execution 47 editing took 2.1826226711273193\n"
     ]
    },
    {
     "name": "stdout",
     "output_type": "stream",
     "text": [
      "loss 0.034 = 0.009 + 0.024 + 0.001 avg prob of [ American Bridge Company] 0.9908058047294617\n",
      "Delta norm: 13.4140625\n",
      "Change in target norm: 3.353515625 to 13.90625 => 10.5546875\n",
      "Division Factor: 4.0859375\n",
      "Right vector norm: 3.283203125\n",
      "Right vector shape: torch.Size([4096])\n",
      "Deltas successfully computed for ['model.layers.5.mlp.down_proj.weight']\n",
      "New weights successfully inserted into ['model.layers.5.mlp.down_proj.weight']\n"
     ]
    },
    {
     "name": "stderr",
     "output_type": "stream",
     "text": [
      "2024-08-12 18:50:08,177 - hallucination_editor - INFO - Evaluation took 0.2842404842376709\n",
      "08/12/2024 18:50:08 - INFO - hallucination_editor -   Evaluation took 0.2842404842376709\n",
      "2024-08-12 18:50:08,178 - hallucination_editor - INFO - 47 editing: What is the main building contractor of Willis Tower? -> American Bridge Company  \n",
      " {'pre': {'edit_acc': [0], 'edit_output': ['Skidmore, Owings & Merrill.'], 'locality': {}, 'portability': {}, 'yes_no': {}}, 'case_id': 47, 'requested_edit': {'prompt': 'What is the main building contractor of Willis Tower?', 'target_new': 'American Bridge Company', 'ground_truth': '<|endoftext|>', 'portability': {}, 'locality': {}, 'yes_no': {}, 'harm_original_text': {}, 'subject': 'Willis Tower'}, 'time': 2.1826226711273193, 'post': {'edit_acc': [1], 'edit_output': ['American Bridge Company.'], 'locality': {}, 'portability': {}, 'yes_no': {}}}\n",
      "08/12/2024 18:50:08 - INFO - hallucination_editor -   47 editing: What is the main building contractor of Willis Tower? -> American Bridge Company  \n",
      " {'pre': {'edit_acc': [0], 'edit_output': ['Skidmore, Owings & Merrill.'], 'locality': {}, 'portability': {}, 'yes_no': {}}, 'case_id': 47, 'requested_edit': {'prompt': 'What is the main building contractor of Willis Tower?', 'target_new': 'American Bridge Company', 'ground_truth': '<|endoftext|>', 'portability': {}, 'locality': {}, 'yes_no': {}, 'harm_original_text': {}, 'subject': 'Willis Tower'}, 'time': 2.1826226711273193, 'post': {'edit_acc': [1], 'edit_output': ['American Bridge Company.'], 'locality': {}, 'portability': {}, 'yes_no': {}}}\n"
     ]
    },
    {
     "name": "stdout",
     "output_type": "stream",
     "text": [
      "===== Question: What is the main building contractor of Willis Tower? | Prediction: American Bridge Company. | Label: American Bridge Company | Evaluation: 1 =====\n",
      "Executing ROME algorithm for the update: [What is the architectural style of Willis Tower?] -> [ International Style]\n",
      "Computing left vector (u)...\n",
      "Selected u projection object Willis Tower\n",
      "Left vector shape: torch.Size([14336])\n",
      "Computing right vector (v)\n",
      "Lookup index found: 8 | Sentence: What is the architectural style of Willis Tower? International | Token:  Tower\n",
      "Rewrite layer is 5\n",
      "Tying optimization objective to 31\n",
      "Recording initial value of v*\n",
      "loss 3.875 = 3.875 + 0.0 + 0.0 avg prob of [ International Style] 0.02509022317826748\n",
      "loss 1.619 = 1.575 + 0.043 + 0.001 avg prob of [ International Style] 0.22697868943214417\n",
      "loss 0.716 = 0.615 + 0.1 + 0.001 avg prob of [ International Style] 0.5553841590881348\n",
      "loss 0.174 = 0.106 + 0.067 + 0.001 avg prob of [ International Style] 0.9002536535263062\n",
      "loss 0.064 = 0.04 + 0.023 + 0.001 avg prob of [ International Style] 0.9607548713684082\n"
     ]
    },
    {
     "name": "stderr",
     "output_type": "stream",
     "text": [
      "2024-08-12 18:50:09,787 - hallucination_editor - INFO - Execution 48 editing took 1.60825514793396\n",
      "08/12/2024 18:50:09 - INFO - hallucination_editor -   Execution 48 editing took 1.60825514793396\n"
     ]
    },
    {
     "name": "stdout",
     "output_type": "stream",
     "text": [
      "loss 0.046 = 0.019 + 0.027 + 0.001 avg prob of [ International Style] 0.9815795421600342\n",
      "Delta norm: 13.46875\n",
      "Change in target norm: 3.3671875 to 13.8828125 => 10.515625\n",
      "Division Factor: 4.10546875\n",
      "Right vector norm: 3.28125\n",
      "Right vector shape: torch.Size([4096])\n",
      "Deltas successfully computed for ['model.layers.5.mlp.down_proj.weight']\n",
      "New weights successfully inserted into ['model.layers.5.mlp.down_proj.weight']\n"
     ]
    },
    {
     "name": "stderr",
     "output_type": "stream",
     "text": [
      "2024-08-12 18:50:10,017 - hallucination_editor - INFO - Evaluation took 0.2295222282409668\n",
      "08/12/2024 18:50:10 - INFO - hallucination_editor -   Evaluation took 0.2295222282409668\n",
      "2024-08-12 18:50:10,018 - hallucination_editor - INFO - 48 editing: What is the architectural style of Willis Tower? -> International Style  \n",
      " {'pre': {'edit_acc': [0], 'edit_output': ['Postmodern.'], 'locality': {}, 'portability': {}, 'yes_no': {}}, 'case_id': 48, 'requested_edit': {'prompt': 'What is the architectural style of Willis Tower?', 'target_new': 'International Style', 'ground_truth': '<|endoftext|>', 'portability': {}, 'locality': {}, 'yes_no': {}, 'harm_original_text': {}, 'subject': 'Willis Tower'}, 'time': 1.60825514793396, 'post': {'edit_acc': [1], 'edit_output': ['International Style.'], 'locality': {}, 'portability': {}, 'yes_no': {}}}\n",
      "08/12/2024 18:50:10 - INFO - hallucination_editor -   48 editing: What is the architectural style of Willis Tower? -> International Style  \n",
      " {'pre': {'edit_acc': [0], 'edit_output': ['Postmodern.'], 'locality': {}, 'portability': {}, 'yes_no': {}}, 'case_id': 48, 'requested_edit': {'prompt': 'What is the architectural style of Willis Tower?', 'target_new': 'International Style', 'ground_truth': '<|endoftext|>', 'portability': {}, 'locality': {}, 'yes_no': {}, 'harm_original_text': {}, 'subject': 'Willis Tower'}, 'time': 1.60825514793396, 'post': {'edit_acc': [1], 'edit_output': ['International Style.'], 'locality': {}, 'portability': {}, 'yes_no': {}}}\n"
     ]
    },
    {
     "name": "stdout",
     "output_type": "stream",
     "text": [
      "===== Question: What is the architectural style of Willis Tower? | Prediction: International Style. | Label: International Style | Evaluation: 1 =====\n",
      "Executing ROME algorithm for the update: [Which tourist attraction's creator is Jan Styka?] -> [ Racławice Panorama]\n",
      "Computing left vector (u)...\n",
      "Selected u projection object Jan Styka\n",
      "Left vector shape: torch.Size([14336])\n",
      "Computing right vector (v)\n",
      "Lookup index found: 9 | Sentence: Which tourist attraction's creator is Jan Styka? Racławice Pan | Token: ka\n",
      "Rewrite layer is 5\n",
      "Tying optimization objective to 31\n",
      "Recording initial value of v*\n",
      "loss 2.729 = 2.729 + 0.0 + 0.0 avg prob of [ Racławice Panorama] 0.06627755612134933\n",
      "loss 2.668 = 2.524 + 0.143 + 0.001 avg prob of [ Racławice Panorama] 0.08082066476345062\n",
      "loss 2.083 = 2.059 + 0.022 + 0.001 avg prob of [ Racławice Panorama] 0.12921631336212158\n",
      "loss 1.588 = 1.552 + 0.035 + 0.001 avg prob of [ Racławice Panorama] 0.2130821794271469\n",
      "loss 3.13 = 3.099 + 0.03 + 0.001 avg prob of [ Racławice Panorama] 0.0457022525370121\n",
      "loss 1.235 = 1.206 + 0.028 + 0.001 avg prob of [ Racławice Panorama] 0.30449122190475464\n",
      "loss 0.255 = 0.239 + 0.015 + 0.001 avg prob of [ Racławice Panorama] 0.7903057336807251\n",
      "loss 0.078 = 0.066 + 0.011 + 0.001 avg prob of [ Racławice Panorama] 0.9362062811851501\n"
     ]
    },
    {
     "name": "stderr",
     "output_type": "stream",
     "text": [
      "2024-08-12 18:50:12,699 - hallucination_editor - INFO - Execution 49 editing took 2.6805195808410645\n",
      "08/12/2024 18:50:12 - INFO - hallucination_editor -   Execution 49 editing took 2.6805195808410645\n"
     ]
    },
    {
     "name": "stdout",
     "output_type": "stream",
     "text": [
      "loss 0.045 = 0.033 + 0.011 + 0.001 avg prob of [ Racławice Panorama] 0.9680377840995789\n",
      "Delta norm: 12.2578125\n",
      "Change in target norm: 3.064453125 to 12.6328125 => 9.5703125\n",
      "Division Factor: 3.83984375\n",
      "Right vector norm: 3.19140625\n",
      "Right vector shape: torch.Size([4096])\n",
      "Deltas successfully computed for ['model.layers.5.mlp.down_proj.weight']\n",
      "New weights successfully inserted into ['model.layers.5.mlp.down_proj.weight']\n"
     ]
    },
    {
     "name": "stderr",
     "output_type": "stream",
     "text": [
      "2024-08-12 18:50:13,151 - hallucination_editor - INFO - Evaluation took 0.45148134231567383\n",
      "08/12/2024 18:50:13 - INFO - hallucination_editor -   Evaluation took 0.45148134231567383\n",
      "2024-08-12 18:50:13,152 - hallucination_editor - INFO - 49 editing: Which tourist attraction's creator is Jan Styka? -> Racławice Panorama  \n",
      " {'pre': {'edit_acc': [0], 'edit_output': ['The National Shrine of the Immaculate Conception.'], 'locality': {}, 'portability': {}, 'yes_no': {}}, 'case_id': 49, 'requested_edit': {'prompt': \"Which tourist attraction's creator is Jan Styka?\", 'target_new': 'Racławice Panorama', 'ground_truth': '<|endoftext|>', 'portability': {}, 'locality': {}, 'yes_no': {}, 'harm_original_text': {}, 'subject': 'Jan Styka'}, 'time': 2.6805195808410645, 'post': {'edit_acc': [1], 'edit_output': ['Racławice Panorama.'], 'locality': {}, 'portability': {}, 'yes_no': {}}}\n",
      "08/12/2024 18:50:13 - INFO - hallucination_editor -   49 editing: Which tourist attraction's creator is Jan Styka? -> Racławice Panorama  \n",
      " {'pre': {'edit_acc': [0], 'edit_output': ['The National Shrine of the Immaculate Conception.'], 'locality': {}, 'portability': {}, 'yes_no': {}}, 'case_id': 49, 'requested_edit': {'prompt': \"Which tourist attraction's creator is Jan Styka?\", 'target_new': 'Racławice Panorama', 'ground_truth': '<|endoftext|>', 'portability': {}, 'locality': {}, 'yes_no': {}, 'harm_original_text': {}, 'subject': 'Jan Styka'}, 'time': 2.6805195808410645, 'post': {'edit_acc': [1], 'edit_output': ['Racławice Panorama.'], 'locality': {}, 'portability': {}, 'yes_no': {}}}\n"
     ]
    },
    {
     "name": "stdout",
     "output_type": "stream",
     "text": [
      "===== Question: Which tourist attraction's creator is Jan Styka? | Prediction: Racławice Panorama. | Label: Racławice Panorama | Evaluation: 1 =====\n",
      "Metrics Summary:  {'pre': {'edit_acc': 0.0}, 'post': {'edit_acc': 0.86}, 'time': 3.556901044845581}\n"
     ]
    }
   ],
   "source": [
    "n = 50#len(df)\n",
    "targets = df['label'].tolist()[:n]\n",
    "subjects = df['subject'].tolist()[:n]\n",
    "questions = df['question'].tolist()[:n]\n",
    "# paraphrased_questions = df['paraphrased_questions'].tolist()[:n]\n",
    "# portability_questions = df['portability_questions'].tolist()[:n]\n",
    "# portability_inputs = {'subject_aliasing': {'prompt': portability_questions, 'ground_truth': answers},}\n",
    "\n",
    "hparams = ROMEHyperParams.from_hparams('./hparams/ROME/llama3-8b')\n",
    "# hparams = ROMEHyperParams.from_hparams('./hparams/ROME/gemma-7b')\n",
    "# hparams = MEMITHyperParams.from_hparams('./hparams/MEMIT/llama3-8b')\n",
    "\n",
    "hparams.device = 1\n",
    "editor = BaseEditor.from_hparams(hparams)\n",
    "metrics, edited_model, _ = editor.edit(\n",
    "    prompts=questions,\n",
    "    # rephrase_prompts=paraphrased_questions,\n",
    "    target_new=targets,\n",
    "    subject=subjects,\n",
    "    # portability_inputs=portability_inputs,\n",
    "    summary_metrics=True,\n",
    "    keep_original_weight=True,\n",
    "    # test_generation=True,\n",
    ")\n",
    "\n",
    "json.dump(metrics, open(os.path.join('../results/', f'tmp_ROME_{model_id_format}_results.json'), 'w'), indent=4)\n",
    "del edited_model\n",
    "gc.collect()\n",
    "torch.cuda.empty_cache()"
   ]
  }
 ],
 "metadata": {
  "kernelspec": {
   "display_name": "env24may",
   "language": "python",
   "name": "python3"
  },
  "language_info": {
   "codemirror_mode": {
    "name": "ipython",
    "version": 3
   },
   "file_extension": ".py",
   "mimetype": "text/x-python",
   "name": "python",
   "nbconvert_exporter": "python",
   "pygments_lexer": "ipython3",
   "version": "3.9.18"
  }
 },
 "nbformat": 4,
 "nbformat_minor": 2
}
