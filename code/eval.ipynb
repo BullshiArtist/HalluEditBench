{
 "cells": [
  {
   "cell_type": "code",
   "execution_count": 1,
   "metadata": {},
   "outputs": [
    {
     "name": "stderr",
     "output_type": "stream",
     "text": [
      "/data1/baixiang/env/anaconda3/envs/edit/lib/python3.9/site-packages/transformers/utils/hub.py:127: FutureWarning: Using `TRANSFORMERS_CACHE` is deprecated and will be removed in v5 of Transformers. Use `HF_HOME` instead.\n",
      "  warnings.warn(\n"
     ]
    }
   ],
   "source": [
    "import gc\n",
    "import os\n",
    "import json\n",
    "import torch\n",
    "import pandas as pd\n",
    "import transformers\n",
    "from tqdm import tqdm"
   ]
  },
  {
   "cell_type": "code",
   "execution_count": 2,
   "metadata": {},
   "outputs": [
    {
     "name": "stdout",
     "output_type": "stream",
     "text": [
      "model_id: meta-llama/Meta-Llama-3.1-8B-Instruct, current topic: places_country\n",
      "Available topics: ['places_city', 'entertainment_song', 'entertainment_anime', 'human_actor', 'art_sculpture', 'entertainment_music_genre', 'art_literary', 'places_landmark', 'health_treatment', 'health_medication', 'event_sport', 'event_history', 'human_writer', 'health_disease', 'places_country', 'human_politician', 'event_film']\n"
     ]
    }
   ],
   "source": [
    "def get_response(model, tok, messages, max_new_tokens=1):\n",
    "    terminators = [tok.eos_token_id, tok.convert_tokens_to_ids(\"<|eot_id|>\")]\n",
    "    msg_tokenized = tok.apply_chat_template(messages, add_generation_prompt=True, return_tensors='pt')\n",
    "    output_ids = model.generate(msg_tokenized.to(model.device), max_new_tokens=max_new_tokens, eos_token_id=terminators, do_sample=False, pad_token_id=tok.eos_token_id)\n",
    "    return tok.decode(output_ids[0][msg_tokenized.shape[-1]:], skip_special_tokens=True)\n",
    "\n",
    "\n",
    "device = 'cuda:0'\n",
    "domain_topic_name = 'places_country' # 'places_city'\n",
    "\n",
    "model_ls = ['meta-llama/Meta-Llama-3.1-8B-Instruct', 'mistralai/Mistral-7B-Instruct-v0.3', 'google/gemma-2-9b-it', \n",
    "            'lmsys/vicuna-7b-v1.5', 'chavinlo/alpaca-native', 'meta-llama/Meta-Llama-3-8B-Instruct']\n",
    "model_id = model_ls[0]\n",
    "model_id_format = model_id.split('/')[-1].replace('-', '_').lower()\n",
    "print(f'model_id: {model_id}, current topic: {domain_topic_name}')\n",
    "\n",
    "system_msg_qa = \"Always respond to the input question concisely with a short phrase or a single-word answer. Do not repeat the question or provide any explanation.\"\n",
    "\n",
    "# MC_content = \"The following question's topic is about \" + domain_topic_name + \". Choose the only correct option for the multiple choice problem. (Answer 'A', 'B', 'C' or 'D')(Don't explain)\"\n",
    "# yes_no_content = \"The following question's topic is about \" + domain_topic_name + \". Only need to answer 'Yes' or 'No', and don't explain\"\n",
    "# Wh_content = \"The following question's topic is about \" + domain_topic_name + \". Directly give me the answer in 'phrase' or 'word' format. Don't give me a sentence or explain\"\n",
    "\n",
    "\n",
    "topic_ls = []\n",
    "for filename in os.listdir(\"../data/questions/all_3_types/\"):\n",
    "    if filename.endswith(\".json\"):\n",
    "        df = pd.read_json(f\"../data/questions/all_3_types/{filename}\", lines=True)\n",
    "        df_wh = df[df.type=='wh'].copy()\n",
    "        topic_ls.append(filename.replace('_questions.json', ''))\n",
    "print(f'Available topics: {topic_ls}')"
   ]
  },
  {
   "cell_type": "code",
   "execution_count": 3,
   "metadata": {},
   "outputs": [
    {
     "data": {
      "application/vnd.jupyter.widget-view+json": {
       "model_id": "12125a21209e4993affa1213f696489f",
       "version_major": 2,
       "version_minor": 0
      },
      "text/plain": [
       "Downloading shards:   0%|          | 0/4 [00:00<?, ?it/s]"
      ]
     },
     "metadata": {},
     "output_type": "display_data"
    },
    {
     "data": {
      "application/vnd.jupyter.widget-view+json": {
       "model_id": "81dfb0565f9e49ee812f7e35135876a1",
       "version_major": 2,
       "version_minor": 0
      },
      "text/plain": [
       "Loading checkpoint shards:   0%|          | 0/4 [00:00<?, ?it/s]"
      ]
     },
     "metadata": {},
     "output_type": "display_data"
    }
   ],
   "source": [
    "tok_qa = transformers.AutoTokenizer.from_pretrained(model_id)\n",
    "model_qa = transformers.AutoModelForCausalLM.from_pretrained(model_id).to(device)"
   ]
  },
  {
   "cell_type": "code",
   "execution_count": 4,
   "metadata": {},
   "outputs": [
    {
     "name": "stderr",
     "output_type": "stream",
     "text": [
      "/data1/baixiang/env/anaconda3/envs/edit/lib/python3.9/site-packages/transformers/generation/configuration_utils.py:567: UserWarning: `do_sample` is set to `False`. However, `temperature` is set to `0.6` -- this flag is only used in sample-based generation modes. You should set `do_sample=True` or unset `temperature`.\n",
      "  warnings.warn(\n",
      "/data1/baixiang/env/anaconda3/envs/edit/lib/python3.9/site-packages/transformers/generation/configuration_utils.py:572: UserWarning: `do_sample` is set to `False`. However, `top_p` is set to `0.9` -- this flag is only used in sample-based generation modes. You should set `do_sample=True` or unset `top_p`.\n",
      "  warnings.warn(\n",
      "The attention mask is not set and cannot be inferred from input because pad token is same as eos token. As a consequence, you may observe unexpected behavior. Please pass your input's `attention_mask` to obtain reliable results.\n"
     ]
    },
    {
     "name": "stdout",
     "output_type": "stream",
     "text": [
      "Mohammed bin Rashid Al Maktoum\n",
      "East Asian.\n",
      "Ali Khamenei\n"
     ]
    }
   ],
   "source": [
    "for prompt_qa in ['Who is the head of government of United Arab Emirates?', \"Which country's ethnic group is Japanese people?\", 'Who is the head of state of Iran?']:\n",
    "    messages_qa = [{\"role\": \"system\", \"content\": system_msg_qa}, {\"role\": \"user\", \"content\": f'Question: {prompt_qa}. Answer:'}]\n",
    "    output_qa = get_response(model_qa, tok_qa, messages_qa, max_new_tokens=16)\n",
    "    print(output_qa)"
   ]
  },
  {
   "cell_type": "code",
   "execution_count": 15,
   "metadata": {},
   "outputs": [
    {
     "name": "stdout",
     "output_type": "stream",
     "text": [
      "Luang Prabang Province.\n",
      "Laos.\n",
      "Islamabad.\n",
      "Istanbul.\n",
      "Canada\n",
      "England.\n"
     ]
    }
   ],
   "source": [
    "# f'Question: {prompt_qa}. Answer:' makes a difference\n",
    "for prompt_qa in ['What is the located in the administrative territorial entity of Luang Prabang?', 'Which city was named after Islam?', 'What is the country of Windsor?']:\n",
    "    messages_qa = [{\"role\": \"system\", \"content\": system_msg_qa}, {\"role\": \"user\", \"content\": f'Question: {prompt_qa}. Answer:'}]\n",
    "    output_qa = get_response(model_qa, tok_qa, messages_qa, max_new_tokens=16)\n",
    "    print(output_qa)\n",
    "\n",
    "    messages_qa = [{\"role\": \"system\", \"content\": system_msg_qa}, {\"role\": \"user\", \"content\": prompt_qa}]\n",
    "    output_qa = get_response(model_qa, tok_qa, messages_qa, max_new_tokens=16)\n",
    "    print(output_qa)"
   ]
  },
  {
   "cell_type": "code",
   "execution_count": 41,
   "metadata": {},
   "outputs": [
    {
     "name": "stderr",
     "output_type": "stream",
     "text": [
      "/data1/baixiang/env/anaconda3/envs/edit/lib/python3.9/site-packages/transformers/generation/configuration_utils.py:567: UserWarning: `do_sample` is set to `False`. However, `temperature` is set to `0.6` -- this flag is only used in sample-based generation modes. You should set `do_sample=True` or unset `temperature`.\n",
      "  warnings.warn(\n",
      "/data1/baixiang/env/anaconda3/envs/edit/lib/python3.9/site-packages/transformers/generation/configuration_utils.py:572: UserWarning: `do_sample` is set to `False`. However, `top_p` is set to `0.9` -- this flag is only used in sample-based generation modes. You should set `do_sample=True` or unset `top_p`.\n",
      "  warnings.warn(\n"
     ]
    },
    {
     "name": "stdout",
     "output_type": "stream",
     "text": [
      "Question: Can you provide more details about that?\n",
      "Follow-up response: Windsor is a city in Ontario.\n",
      "Question: Is there anything else interesting about this topic?\n",
      "Follow-up response: It's also a county in Berkshire, England.\n",
      "Question: Can you elaborate on that?\n",
      "Follow-up response: Windsor is a town in Berkshire.\n",
      "Question: What's another important aspect of this?\n",
      "Follow-up response: Windsor Castle.\n"
     ]
    }
   ],
   "source": [
    "# multi-turn conversation\n",
    "messages_qa = [\n",
    "    {\"role\": \"system\", \"content\": system_msg_qa},\n",
    "    {\"role\": \"user\", \"content\": prompt_qa}\n",
    "]\n",
    "current_output = get_response(model_qa, tok_qa, messages_qa, max_new_tokens=16)\n",
    "\n",
    "# Add more follow-up questions in a loop\n",
    "follow_up_questions = [\n",
    "    \"Can you provide more details about that?\",\n",
    "    \"Is there anything else interesting about this topic?\",\n",
    "    \"Can you elaborate on that?\",\n",
    "    \"What's another important aspect of this?\"\n",
    "]\n",
    "\n",
    "for question in follow_up_questions:\n",
    "    messages_qa.append({\"role\": \"assistant\", \"content\": current_output})\n",
    "    messages_qa.append({\"role\": \"user\", \"content\": question})\n",
    "    current_output = get_response(model_qa, tok_qa, messages_qa, max_new_tokens=32)\n",
    "    print(f\"Question: {question} Follow-up response: {current_output}\")"
   ]
  },
  {
   "cell_type": "markdown",
   "metadata": {},
   "source": [
    "Observations: llama-3.1 will end answers with period '.'. mistral-v0.3 often end with new line '\\n'"
   ]
  },
  {
   "cell_type": "code",
   "execution_count": 24,
   "metadata": {},
   "outputs": [
    {
     "name": "stdout",
     "output_type": "stream",
     "text": [
      "meta_llama_3.1_8b_instruct\n",
      "file name: places_city_questions.json\n"
     ]
    },
    {
     "name": "stderr",
     "output_type": "stream",
     "text": [
      "  0%|          | 0/500 [00:00<?, ?it/s]"
     ]
    },
    {
     "name": "stderr",
     "output_type": "stream",
     "text": [
      "/data1/baixiang/env/anaconda3/envs/edit/lib/python3.9/site-packages/transformers/generation/configuration_utils.py:567: UserWarning: `do_sample` is set to `False`. However, `temperature` is set to `0.6` -- this flag is only used in sample-based generation modes. You should set `do_sample=True` or unset `temperature`.\n",
      "  warnings.warn(\n",
      "/data1/baixiang/env/anaconda3/envs/edit/lib/python3.9/site-packages/transformers/generation/configuration_utils.py:572: UserWarning: `do_sample` is set to `False`. However, `top_p` is set to `0.9` -- this flag is only used in sample-based generation modes. You should set `do_sample=True` or unset `top_p`.\n",
      "  warnings.warn(\n",
      "100%|██████████| 500/500 [02:43<00:00,  3.06it/s]\n"
     ]
    },
    {
     "name": "stdout",
     "output_type": "stream",
     "text": [
      "df_all_topics.shape: (500, 8)\n",
      "file name: entertainment_song_questions.json\n"
     ]
    },
    {
     "name": "stderr",
     "output_type": "stream",
     "text": [
      "  0%|          | 0/500 [00:00<?, ?it/s]/data1/baixiang/env/anaconda3/envs/edit/lib/python3.9/site-packages/transformers/generation/configuration_utils.py:567: UserWarning: `do_sample` is set to `False`. However, `temperature` is set to `0.6` -- this flag is only used in sample-based generation modes. You should set `do_sample=True` or unset `temperature`.\n",
      "  warnings.warn(\n",
      "/data1/baixiang/env/anaconda3/envs/edit/lib/python3.9/site-packages/transformers/generation/configuration_utils.py:572: UserWarning: `do_sample` is set to `False`. However, `top_p` is set to `0.9` -- this flag is only used in sample-based generation modes. You should set `do_sample=True` or unset `top_p`.\n",
      "  warnings.warn(\n",
      "100%|██████████| 500/500 [02:48<00:00,  2.97it/s]\n"
     ]
    },
    {
     "name": "stdout",
     "output_type": "stream",
     "text": [
      "df_all_topics.shape: (1000, 8)\n",
      "file name: entertainment_anime_questions.json\n"
     ]
    },
    {
     "name": "stderr",
     "output_type": "stream",
     "text": [
      "  0%|          | 0/421 [00:00<?, ?it/s]/data1/baixiang/env/anaconda3/envs/edit/lib/python3.9/site-packages/transformers/generation/configuration_utils.py:567: UserWarning: `do_sample` is set to `False`. However, `temperature` is set to `0.6` -- this flag is only used in sample-based generation modes. You should set `do_sample=True` or unset `temperature`.\n",
      "  warnings.warn(\n",
      "/data1/baixiang/env/anaconda3/envs/edit/lib/python3.9/site-packages/transformers/generation/configuration_utils.py:572: UserWarning: `do_sample` is set to `False`. However, `top_p` is set to `0.9` -- this flag is only used in sample-based generation modes. You should set `do_sample=True` or unset `top_p`.\n",
      "  warnings.warn(\n",
      "100%|██████████| 421/421 [02:15<00:00,  3.10it/s]\n"
     ]
    },
    {
     "name": "stdout",
     "output_type": "stream",
     "text": [
      "df_all_topics.shape: (1421, 8)\n",
      "file name: human_actor_questions.json\n"
     ]
    },
    {
     "name": "stderr",
     "output_type": "stream",
     "text": [
      "  0%|          | 0/500 [00:00<?, ?it/s]/data1/baixiang/env/anaconda3/envs/edit/lib/python3.9/site-packages/transformers/generation/configuration_utils.py:567: UserWarning: `do_sample` is set to `False`. However, `temperature` is set to `0.6` -- this flag is only used in sample-based generation modes. You should set `do_sample=True` or unset `temperature`.\n",
      "  warnings.warn(\n",
      "/data1/baixiang/env/anaconda3/envs/edit/lib/python3.9/site-packages/transformers/generation/configuration_utils.py:572: UserWarning: `do_sample` is set to `False`. However, `top_p` is set to `0.9` -- this flag is only used in sample-based generation modes. You should set `do_sample=True` or unset `top_p`.\n",
      "  warnings.warn(\n",
      "100%|██████████| 500/500 [02:53<00:00,  2.89it/s]\n"
     ]
    },
    {
     "name": "stdout",
     "output_type": "stream",
     "text": [
      "df_all_topics.shape: (1921, 8)\n",
      "file name: art_sculpture_questions.json\n"
     ]
    },
    {
     "name": "stderr",
     "output_type": "stream",
     "text": [
      "  0%|          | 0/500 [00:00<?, ?it/s]/data1/baixiang/env/anaconda3/envs/edit/lib/python3.9/site-packages/transformers/generation/configuration_utils.py:567: UserWarning: `do_sample` is set to `False`. However, `temperature` is set to `0.6` -- this flag is only used in sample-based generation modes. You should set `do_sample=True` or unset `temperature`.\n",
      "  warnings.warn(\n",
      "/data1/baixiang/env/anaconda3/envs/edit/lib/python3.9/site-packages/transformers/generation/configuration_utils.py:572: UserWarning: `do_sample` is set to `False`. However, `top_p` is set to `0.9` -- this flag is only used in sample-based generation modes. You should set `do_sample=True` or unset `top_p`.\n",
      "  warnings.warn(\n",
      "100%|██████████| 500/500 [02:56<00:00,  2.83it/s]\n"
     ]
    },
    {
     "name": "stdout",
     "output_type": "stream",
     "text": [
      "df_all_topics.shape: (2421, 8)\n",
      "file name: entertainment_music_genre_questions.json\n"
     ]
    },
    {
     "name": "stderr",
     "output_type": "stream",
     "text": [
      "  0%|          | 0/500 [00:00<?, ?it/s]/data1/baixiang/env/anaconda3/envs/edit/lib/python3.9/site-packages/transformers/generation/configuration_utils.py:567: UserWarning: `do_sample` is set to `False`. However, `temperature` is set to `0.6` -- this flag is only used in sample-based generation modes. You should set `do_sample=True` or unset `temperature`.\n",
      "  warnings.warn(\n",
      "/data1/baixiang/env/anaconda3/envs/edit/lib/python3.9/site-packages/transformers/generation/configuration_utils.py:572: UserWarning: `do_sample` is set to `False`. However, `top_p` is set to `0.9` -- this flag is only used in sample-based generation modes. You should set `do_sample=True` or unset `top_p`.\n",
      "  warnings.warn(\n",
      "100%|██████████| 500/500 [02:31<00:00,  3.30it/s]\n"
     ]
    },
    {
     "name": "stdout",
     "output_type": "stream",
     "text": [
      "df_all_topics.shape: (2921, 8)\n",
      "file name: art_literary_questions.json\n"
     ]
    },
    {
     "name": "stderr",
     "output_type": "stream",
     "text": [
      "  0%|          | 0/500 [00:00<?, ?it/s]/data1/baixiang/env/anaconda3/envs/edit/lib/python3.9/site-packages/transformers/generation/configuration_utils.py:567: UserWarning: `do_sample` is set to `False`. However, `temperature` is set to `0.6` -- this flag is only used in sample-based generation modes. You should set `do_sample=True` or unset `temperature`.\n",
      "  warnings.warn(\n",
      "/data1/baixiang/env/anaconda3/envs/edit/lib/python3.9/site-packages/transformers/generation/configuration_utils.py:572: UserWarning: `do_sample` is set to `False`. However, `top_p` is set to `0.9` -- this flag is only used in sample-based generation modes. You should set `do_sample=True` or unset `top_p`.\n",
      "  warnings.warn(\n",
      "100%|██████████| 500/500 [02:50<00:00,  2.94it/s]\n"
     ]
    },
    {
     "name": "stdout",
     "output_type": "stream",
     "text": [
      "df_all_topics.shape: (3421, 8)\n",
      "file name: places_landmark_questions.json\n"
     ]
    },
    {
     "name": "stderr",
     "output_type": "stream",
     "text": [
      "  0%|          | 0/500 [00:00<?, ?it/s]/data1/baixiang/env/anaconda3/envs/edit/lib/python3.9/site-packages/transformers/generation/configuration_utils.py:567: UserWarning: `do_sample` is set to `False`. However, `temperature` is set to `0.6` -- this flag is only used in sample-based generation modes. You should set `do_sample=True` or unset `temperature`.\n",
      "  warnings.warn(\n",
      "/data1/baixiang/env/anaconda3/envs/edit/lib/python3.9/site-packages/transformers/generation/configuration_utils.py:572: UserWarning: `do_sample` is set to `False`. However, `top_p` is set to `0.9` -- this flag is only used in sample-based generation modes. You should set `do_sample=True` or unset `top_p`.\n",
      "  warnings.warn(\n",
      "100%|██████████| 500/500 [02:55<00:00,  2.85it/s]\n"
     ]
    },
    {
     "name": "stdout",
     "output_type": "stream",
     "text": [
      "df_all_topics.shape: (3921, 8)\n",
      "file name: health_treatment_questions.json\n"
     ]
    },
    {
     "name": "stderr",
     "output_type": "stream",
     "text": [
      "  0%|          | 0/116 [00:00<?, ?it/s]/data1/baixiang/env/anaconda3/envs/edit/lib/python3.9/site-packages/transformers/generation/configuration_utils.py:567: UserWarning: `do_sample` is set to `False`. However, `temperature` is set to `0.6` -- this flag is only used in sample-based generation modes. You should set `do_sample=True` or unset `temperature`.\n",
      "  warnings.warn(\n",
      "/data1/baixiang/env/anaconda3/envs/edit/lib/python3.9/site-packages/transformers/generation/configuration_utils.py:572: UserWarning: `do_sample` is set to `False`. However, `top_p` is set to `0.9` -- this flag is only used in sample-based generation modes. You should set `do_sample=True` or unset `top_p`.\n",
      "  warnings.warn(\n",
      "100%|██████████| 116/116 [00:42<00:00,  2.70it/s]\n"
     ]
    },
    {
     "name": "stdout",
     "output_type": "stream",
     "text": [
      "df_all_topics.shape: (4037, 8)\n",
      "file name: health_medication_questions.json\n"
     ]
    },
    {
     "name": "stderr",
     "output_type": "stream",
     "text": [
      "  0%|          | 0/314 [00:00<?, ?it/s]/data1/baixiang/env/anaconda3/envs/edit/lib/python3.9/site-packages/transformers/generation/configuration_utils.py:567: UserWarning: `do_sample` is set to `False`. However, `temperature` is set to `0.6` -- this flag is only used in sample-based generation modes. You should set `do_sample=True` or unset `temperature`.\n",
      "  warnings.warn(\n",
      "/data1/baixiang/env/anaconda3/envs/edit/lib/python3.9/site-packages/transformers/generation/configuration_utils.py:572: UserWarning: `do_sample` is set to `False`. However, `top_p` is set to `0.9` -- this flag is only used in sample-based generation modes. You should set `do_sample=True` or unset `top_p`.\n",
      "  warnings.warn(\n",
      "100%|██████████| 314/314 [02:01<00:00,  2.59it/s]\n"
     ]
    },
    {
     "name": "stdout",
     "output_type": "stream",
     "text": [
      "df_all_topics.shape: (4351, 8)\n",
      "file name: event_sport_questions.json\n"
     ]
    },
    {
     "name": "stderr",
     "output_type": "stream",
     "text": [
      "  0%|          | 0/500 [00:00<?, ?it/s]/data1/baixiang/env/anaconda3/envs/edit/lib/python3.9/site-packages/transformers/generation/configuration_utils.py:567: UserWarning: `do_sample` is set to `False`. However, `temperature` is set to `0.6` -- this flag is only used in sample-based generation modes. You should set `do_sample=True` or unset `temperature`.\n",
      "  warnings.warn(\n",
      "/data1/baixiang/env/anaconda3/envs/edit/lib/python3.9/site-packages/transformers/generation/configuration_utils.py:572: UserWarning: `do_sample` is set to `False`. However, `top_p` is set to `0.9` -- this flag is only used in sample-based generation modes. You should set `do_sample=True` or unset `top_p`.\n",
      "  warnings.warn(\n",
      "100%|██████████| 500/500 [02:45<00:00,  3.01it/s]\n"
     ]
    },
    {
     "name": "stdout",
     "output_type": "stream",
     "text": [
      "df_all_topics.shape: (4851, 8)\n",
      "file name: event_history_questions.json\n"
     ]
    },
    {
     "name": "stderr",
     "output_type": "stream",
     "text": [
      "  0%|          | 0/500 [00:00<?, ?it/s]/data1/baixiang/env/anaconda3/envs/edit/lib/python3.9/site-packages/transformers/generation/configuration_utils.py:567: UserWarning: `do_sample` is set to `False`. However, `temperature` is set to `0.6` -- this flag is only used in sample-based generation modes. You should set `do_sample=True` or unset `temperature`.\n",
      "  warnings.warn(\n",
      "/data1/baixiang/env/anaconda3/envs/edit/lib/python3.9/site-packages/transformers/generation/configuration_utils.py:572: UserWarning: `do_sample` is set to `False`. However, `top_p` is set to `0.9` -- this flag is only used in sample-based generation modes. You should set `do_sample=True` or unset `top_p`.\n",
      "  warnings.warn(\n",
      "100%|██████████| 500/500 [02:56<00:00,  2.84it/s]\n"
     ]
    },
    {
     "name": "stdout",
     "output_type": "stream",
     "text": [
      "df_all_topics.shape: (5351, 8)\n",
      "file name: human_writer_questions.json\n"
     ]
    },
    {
     "name": "stderr",
     "output_type": "stream",
     "text": [
      "  0%|          | 0/500 [00:00<?, ?it/s]/data1/baixiang/env/anaconda3/envs/edit/lib/python3.9/site-packages/transformers/generation/configuration_utils.py:567: UserWarning: `do_sample` is set to `False`. However, `temperature` is set to `0.6` -- this flag is only used in sample-based generation modes. You should set `do_sample=True` or unset `temperature`.\n",
      "  warnings.warn(\n",
      "/data1/baixiang/env/anaconda3/envs/edit/lib/python3.9/site-packages/transformers/generation/configuration_utils.py:572: UserWarning: `do_sample` is set to `False`. However, `top_p` is set to `0.9` -- this flag is only used in sample-based generation modes. You should set `do_sample=True` or unset `top_p`.\n",
      "  warnings.warn(\n",
      "100%|██████████| 500/500 [02:42<00:00,  3.08it/s]\n"
     ]
    },
    {
     "name": "stdout",
     "output_type": "stream",
     "text": [
      "df_all_topics.shape: (5851, 8)\n",
      "file name: health_disease_questions.json\n"
     ]
    },
    {
     "name": "stderr",
     "output_type": "stream",
     "text": [
      "  0%|          | 0/500 [00:00<?, ?it/s]/data1/baixiang/env/anaconda3/envs/edit/lib/python3.9/site-packages/transformers/generation/configuration_utils.py:567: UserWarning: `do_sample` is set to `False`. However, `temperature` is set to `0.6` -- this flag is only used in sample-based generation modes. You should set `do_sample=True` or unset `temperature`.\n",
      "  warnings.warn(\n",
      "/data1/baixiang/env/anaconda3/envs/edit/lib/python3.9/site-packages/transformers/generation/configuration_utils.py:572: UserWarning: `do_sample` is set to `False`. However, `top_p` is set to `0.9` -- this flag is only used in sample-based generation modes. You should set `do_sample=True` or unset `top_p`.\n",
      "  warnings.warn(\n",
      "100%|██████████| 500/500 [03:06<00:00,  2.68it/s]\n"
     ]
    },
    {
     "name": "stdout",
     "output_type": "stream",
     "text": [
      "df_all_topics.shape: (6351, 8)\n",
      "file name: places_country_questions.json\n"
     ]
    },
    {
     "name": "stderr",
     "output_type": "stream",
     "text": [
      "  0%|          | 0/500 [00:00<?, ?it/s]/data1/baixiang/env/anaconda3/envs/edit/lib/python3.9/site-packages/transformers/generation/configuration_utils.py:567: UserWarning: `do_sample` is set to `False`. However, `temperature` is set to `0.6` -- this flag is only used in sample-based generation modes. You should set `do_sample=True` or unset `temperature`.\n",
      "  warnings.warn(\n",
      "/data1/baixiang/env/anaconda3/envs/edit/lib/python3.9/site-packages/transformers/generation/configuration_utils.py:572: UserWarning: `do_sample` is set to `False`. However, `top_p` is set to `0.9` -- this flag is only used in sample-based generation modes. You should set `do_sample=True` or unset `top_p`.\n",
      "  warnings.warn(\n",
      "100%|██████████| 500/500 [02:35<00:00,  3.22it/s]\n"
     ]
    },
    {
     "name": "stdout",
     "output_type": "stream",
     "text": [
      "df_all_topics.shape: (6851, 8)\n",
      "file name: human_politician_questions.json\n"
     ]
    },
    {
     "name": "stderr",
     "output_type": "stream",
     "text": [
      "  0%|          | 0/500 [00:00<?, ?it/s]/data1/baixiang/env/anaconda3/envs/edit/lib/python3.9/site-packages/transformers/generation/configuration_utils.py:567: UserWarning: `do_sample` is set to `False`. However, `temperature` is set to `0.6` -- this flag is only used in sample-based generation modes. You should set `do_sample=True` or unset `temperature`.\n",
      "  warnings.warn(\n",
      "/data1/baixiang/env/anaconda3/envs/edit/lib/python3.9/site-packages/transformers/generation/configuration_utils.py:572: UserWarning: `do_sample` is set to `False`. However, `top_p` is set to `0.9` -- this flag is only used in sample-based generation modes. You should set `do_sample=True` or unset `top_p`.\n",
      "  warnings.warn(\n",
      "100%|██████████| 500/500 [02:39<00:00,  3.13it/s]\n"
     ]
    },
    {
     "name": "stdout",
     "output_type": "stream",
     "text": [
      "df_all_topics.shape: (7351, 8)\n",
      "file name: event_film_questions.json\n"
     ]
    },
    {
     "name": "stderr",
     "output_type": "stream",
     "text": [
      "  0%|          | 0/500 [00:00<?, ?it/s]/data1/baixiang/env/anaconda3/envs/edit/lib/python3.9/site-packages/transformers/generation/configuration_utils.py:567: UserWarning: `do_sample` is set to `False`. However, `temperature` is set to `0.6` -- this flag is only used in sample-based generation modes. You should set `do_sample=True` or unset `temperature`.\n",
      "  warnings.warn(\n",
      "/data1/baixiang/env/anaconda3/envs/edit/lib/python3.9/site-packages/transformers/generation/configuration_utils.py:572: UserWarning: `do_sample` is set to `False`. However, `top_p` is set to `0.9` -- this flag is only used in sample-based generation modes. You should set `do_sample=True` or unset `top_p`.\n",
      "  warnings.warn(\n",
      "100%|██████████| 500/500 [02:47<00:00,  2.98it/s]"
     ]
    },
    {
     "name": "stdout",
     "output_type": "stream",
     "text": [
      "df_all_topics.shape: (7851, 8)\n"
     ]
    },
    {
     "name": "stderr",
     "output_type": "stream",
     "text": [
      "\n"
     ]
    }
   ],
   "source": [
    "# Get response for wh questions\n",
    "print(model_id_format)\n",
    "df_all_topics = pd.DataFrame()\n",
    "\n",
    "for filename in os.listdir(\"../data/questions/all_3_types/\")[:]:\n",
    "    if filename.endswith(\".json\"):\n",
    "        df = pd.read_json(f\"../data/questions/all_3_types/{filename}\", lines=True)\n",
    "        df_wh = df[df.type=='wh'].copy()\n",
    "        domain_topic_tmp = filename.replace('_questions.json', '')\n",
    "        # if domain_topic_tmp != 'places_landmark':\n",
    "        #     continue\n",
    "        print(f\"file name: {filename}\")\n",
    "\n",
    "        ls_output = []\n",
    "        for i in tqdm(df_wh.index):\n",
    "            question, label = df_wh.loc[i, 'question'], df_wh.loc[i, 'label']\n",
    "            # user_msg_qa = Wh_content + \"\\nQuestion:\" + question  # places_landmark_old.csv\n",
    "            # user_msg_qa = f'Question: {question} Answer:'\n",
    "            user_msg_qa = f'{question}'\n",
    "            if model_id_format == 'gemma_2_9b_it':  # System role not supported for gemma\n",
    "                messages_qa = [{\"role\": \"user\", \"content\": system_msg_qa+' '+user_msg_qa}]\n",
    "            else:\n",
    "                messages_qa = [{\"role\": \"system\", \"content\": system_msg_qa}, {\"role\": \"user\", \"content\": user_msg_qa}]\n",
    "            output_qa = get_response(model_qa, tok_qa, messages_qa, max_new_tokens=16)\n",
    "            # if '\\n' in output_qa:\n",
    "                # print(f\"Question: {question} Label: {label} | Prediction: {repr(output_qa)}\")\n",
    "            output_qa = output_qa.replace('\\n', ' ').strip().rstrip('.')  # remove trailing period for llama output\n",
    "            ls_output.append(output_qa)\n",
    "        \n",
    "        df_wh['topic'] = domain_topic_tmp\n",
    "        df_wh[f\"output_{model_id_format}\"] = ls_output\n",
    "        df_all_topics = pd.concat([df_all_topics, df_wh], axis=0)\n",
    "        print(\"df_all_topics.shape:\", df_all_topics.shape)\n",
    "        \n",
    "df_all_topics = df_all_topics[['topic', 'type', 'subject', 'relation', 'object', 'question', 'label', f'output_{model_id_format}']]\n",
    "df_all_topics.to_csv(f\"../data/questions/wh_only/all_topics_{model_id_format}.csv\", index=False)\n",
    "# del model_qa\n",
    "# gc.collect()\n",
    "# torch.cuda.empty_cache()"
   ]
  },
  {
   "cell_type": "markdown",
   "metadata": {},
   "source": [
    "## Output Eval"
   ]
  },
  {
   "cell_type": "code",
   "execution_count": 25,
   "metadata": {},
   "outputs": [
    {
     "data": {
      "application/vnd.jupyter.widget-view+json": {
       "model_id": "e5c1a9b876ae4fa68fb85abed0e99e83",
       "version_major": 2,
       "version_minor": 0
      },
      "text/plain": [
       "Downloading shards:   0%|          | 0/4 [00:00<?, ?it/s]"
      ]
     },
     "metadata": {},
     "output_type": "display_data"
    },
    {
     "data": {
      "application/vnd.jupyter.widget-view+json": {
       "model_id": "d0aeb3f74d944b8fa8f87af93aeaec3f",
       "version_major": 2,
       "version_minor": 0
      },
      "text/plain": [
       "Loading checkpoint shards:   0%|          | 0/4 [00:00<?, ?it/s]"
      ]
     },
     "metadata": {},
     "output_type": "display_data"
    }
   ],
   "source": [
    "device_eval = 'cuda:7'\n",
    "model_id_eval = \"meta-llama/Meta-Llama-3.1-8B-Instruct\"\n",
    "# model_id_eval = \"meta-llama/Meta-Llama-3-8B-Instruct\"\n",
    "tok_eval = transformers.AutoTokenizer.from_pretrained(model_id_eval)\n",
    "terminators = [tok_eval.eos_token_id, tok_eval.convert_tokens_to_ids(\"<|eot_id|>\")]\n",
    "model_eval = transformers.AutoModelForCausalLM.from_pretrained(model_id_eval, torch_dtype='auto').to(device_eval)"
   ]
  },
  {
   "cell_type": "code",
   "execution_count": 26,
   "metadata": {},
   "outputs": [],
   "source": [
    "def evaluate_responses(model_eval, tok_eval, df_wh, system_msg_eval, user_msg_eval_template=\"Text 1: {label} \\nText 2: {output_qa}\"):\n",
    "    wh_count = 0\n",
    "    wh_correct = 0\n",
    "    for i in df_wh.index[:]:\n",
    "        label = df_wh.loc[i, 'label']\n",
    "        output_qa = df_wh.loc[i, f\"output_{model_id_format}\"]\n",
    "        eval_res = 0\n",
    "        wh_count += 1 \n",
    "\n",
    "\n",
    "        if output_qa.lower() in label.lower() or label.lower() in output_qa.lower():  # Rule-based fuzzy match\n",
    "            wh_correct += 1\n",
    "            eval_res = 1\n",
    "            if output_qa.lower() == label.lower():\n",
    "                print(f\"Label: {label:<35} Prediction: {output_qa:<35} Evaluation: Exact Match\")\n",
    "            else:\n",
    "                print(f\"Label: {label:<35} Prediction: {output_qa:<35} Evaluation: Partial Match\")\n",
    "        else:\n",
    "            user_msg_eval = user_msg_eval_template.format(label=label, output_qa=output_qa)\n",
    "            messages_eval = [{\"role\": \"system\", \"content\": system_msg_eval}, {\"role\": \"user\", \"content\": user_msg_eval}]\n",
    "            response_eval = get_response(model_eval, tok_eval, messages_eval)\n",
    "            if response_eval != '0':\n",
    "                print(f\"Label: {label:<35} Prediction: {output_qa:<35} Evaluation: Semantic Match\")\n",
    "                wh_correct += 1\n",
    "                eval_res = 1\n",
    "                \n",
    "        df_wh.loc[i, f\"eval_{model_id_format}\"] = eval_res\n",
    "    print(f\"\\nHallucination ratio: {1 - wh_correct/wh_count} df_hallucination.shape: {df_wh[df_wh[f'eval_{model_id_format}']==0].shape}\")\n",
    "    return df_wh"
   ]
  },
  {
   "cell_type": "code",
   "execution_count": 31,
   "metadata": {},
   "outputs": [
    {
     "name": "stdout",
     "output_type": "stream",
     "text": [
      "domain_topic_name: places_country, df_wh.shape: (500, 8)\n",
      "Label: English                        Prediction: Setswana                       Evaluation: Semantic Match\n",
      "Label: republic                       Prediction: Republic                       Evaluation: Exact Match\n",
      "Label: Gaborone                       Prediction: Gaborone                       Evaluation: Exact Match\n",
      "Label: Christianity                   Prediction: Christianity                   Evaluation: Exact Match\n"
     ]
    },
    {
     "name": "stderr",
     "output_type": "stream",
     "text": [
      "/data1/baixiang/env/anaconda3/envs/edit/lib/python3.9/site-packages/transformers/generation/configuration_utils.py:567: UserWarning: `do_sample` is set to `False`. However, `temperature` is set to `0.6` -- this flag is only used in sample-based generation modes. You should set `do_sample=True` or unset `temperature`.\n",
      "  warnings.warn(\n",
      "/data1/baixiang/env/anaconda3/envs/edit/lib/python3.9/site-packages/transformers/generation/configuration_utils.py:572: UserWarning: `do_sample` is set to `False`. However, `top_p` is set to `0.9` -- this flag is only used in sample-based generation modes. You should set `do_sample=True` or unset `top_p`.\n",
      "  warnings.warn(\n",
      "/data1/baixiang/env/anaconda3/envs/edit/lib/python3.9/site-packages/transformers/generation/configuration_utils.py:567: UserWarning: `do_sample` is set to `False`. However, `temperature` is set to `0.6` -- this flag is only used in sample-based generation modes. You should set `do_sample=True` or unset `temperature`.\n",
      "  warnings.warn(\n",
      "/data1/baixiang/env/anaconda3/envs/edit/lib/python3.9/site-packages/transformers/generation/configuration_utils.py:572: UserWarning: `do_sample` is set to `False`. However, `top_p` is set to `0.9` -- this flag is only used in sample-based generation modes. You should set `do_sample=True` or unset `top_p`.\n",
      "  warnings.warn(\n"
     ]
    },
    {
     "name": "stdout",
     "output_type": "stream",
     "text": [
      "Label: Nassau                         Prediction: Nassau                         Evaluation: Exact Match\n",
      "Label: Iran                           Prediction: Iran                           Evaluation: Exact Match\n",
      "Label: Windhoek                       Prediction: Windhoek                       Evaluation: Exact Match\n",
      "Label: renminbi                       Prediction: Renminbi                       Evaluation: Exact Match\n",
      "Label: Beijing                        Prediction: Beijing                        Evaluation: Exact Match\n",
      "Label: Han Chinese people             Prediction: Han                            Evaluation: Partial Match\n",
      "Label: State Council of the People's Republic of China Prediction: State Council                  Evaluation: Partial Match\n",
      "Label: Xi Jinping                     Prediction: Xi Jinping                     Evaluation: Exact Match\n",
      "Label: National People's Congress     Prediction: National People's Congress     Evaluation: Exact Match\n",
      "Label: Rwanda                         Prediction: Rwanda                         Evaluation: Exact Match\n",
      "Label: Islam                          Prediction: Islam                          Evaluation: Exact Match\n",
      "Label: Sheikh Hasina                  Prediction: Sheikh Hasina                  Evaluation: Exact Match\n",
      "Label: Dhaka                          Prediction: Dhaka                          Evaluation: Exact Match\n",
      "Label: Saudi Arabia                   Prediction: Saudi Arabia                   Evaluation: Exact Match\n",
      "Label: Thai                           Prediction: Thai                           Evaluation: Exact Match\n",
      "Label: Vajiralongkorn                 Prediction: King Maha Vajiralongkorn       Evaluation: Partial Match\n",
      "Label: Finland                        Prediction: Finland                        Evaluation: Exact Match\n",
      "Label: Estonia                        Prediction: Estonia                        Evaluation: Exact Match\n",
      "Label: Kuala Lumpur                   Prediction: Kuala Lumpur                   Evaluation: Exact Match\n",
      "Label: Anwar Ibrahim                  Prediction: Anwar Ibrahim                  Evaluation: Exact Match\n",
      "Label: Islam                          Prediction: Islam                          Evaluation: Exact Match\n",
      "Label: constitutional monarchy        Prediction: Federal Constitutional Monarchy Evaluation: Partial Match\n",
      "Label: Malay                          Prediction: Malay                          Evaluation: Exact Match\n",
      "Label: Ben Nevis                      Prediction: Ben Nevis                      Evaluation: Exact Match\n",
      "Label: pound sterling                 Prediction: Pound                          Evaluation: Partial Match\n",
      "Label: Scottish Government            Prediction: Scottish Government            Evaluation: Exact Match\n",
      "Label: Scottish Parliament            Prediction: The Scottish Parliament        Evaluation: Partial Match\n",
      "Label: Romania                        Prediction: Romania                        Evaluation: Exact Match\n",
      "Label: Haiti                          Prediction: Haiti                          Evaluation: Exact Match\n",
      "Label: Senegal                        Prediction: Senegal                        Evaluation: Exact Match\n",
      "Label: Bishkek                        Prediction: Bishkek                        Evaluation: Exact Match\n",
      "Label: Kathmandu                      Prediction: Kathmandu                      Evaluation: Exact Match\n",
      "Label: Macky Sall                     Prediction: Macky Sall                     Evaluation: Exact Match\n",
      "Label: Dakar                          Prediction: Dakar                          Evaluation: Exact Match\n",
      "Label: Lithuania                      Prediction: Lithuania                      Evaluation: Exact Match\n",
      "Label: Bank of Korea                  Prediction: Bank of Korea                  Evaluation: Exact Match\n",
      "Label: Korean                         Prediction: Korean                         Evaluation: Exact Match\n",
      "Label: Korea                          Prediction: North Korea                    Evaluation: Partial Match\n",
      "Label: Nigeria                        Prediction: Nigeria                        Evaluation: Exact Match\n",
      "Label: Nayib Bukele                   Prediction: Nayib Bukele                   Evaluation: Exact Match\n",
      "Label: Thailand                       Prediction: Thailand                       Evaluation: Exact Match\n",
      "Label: euro                           Prediction: Euro                           Evaluation: Exact Match\n",
      "Label: Dutch                          Prediction: Dutch                          Evaluation: Exact Match\n",
      "Label: Amsterdam                      Prediction: Amsterdam                      Evaluation: Exact Match\n",
      "Label: constitutional monarchy        Prediction: Constitutional monarchy        Evaluation: Exact Match\n",
      "Label: Namibia                        Prediction: Namibia                        Evaluation: Exact Match\n",
      "Label: Slovenia                       Prediction: Slovenia                       Evaluation: Exact Match\n",
      "Label: Mexico                         Prediction: Mexico                         Evaluation: Exact Match\n",
      "Label: Singapore                      Prediction: Singapore                      Evaluation: Exact Match\n",
      "Label: Gabon                          Prediction: Gabon                          Evaluation: Exact Match\n",
      "Label: republic                       Prediction: Presidential republic          Evaluation: Partial Match\n",
      "Label: Israel                         Prediction: Israel                         Evaluation: Exact Match\n",
      "Label: Cambodia                       Prediction: Cambodia                       Evaluation: Exact Match\n",
      "Label: Canada                         Prediction: Canada                         Evaluation: Exact Match\n",
      "Label: Kazakhstan                     Prediction: Kazakhstan                     Evaluation: Exact Match\n",
      "Label: Sierra Leone                   Prediction: Sierra Leone                   Evaluation: Exact Match\n",
      "Label: Cyril Ramaphosa                Prediction: Cyril Ramaphosa                Evaluation: Exact Match\n",
      "Label: South African Reserve Bank     Prediction: South African Reserve Bank     Evaluation: Exact Match\n",
      "Label: South Africa                   Prediction: Africa                         Evaluation: Partial Match\n",
      "Label: Eritrea                        Prediction: Eritrea                        Evaluation: Exact Match\n",
      "Label: Gustavo Petro                  Prediction: Gustavo Petro                  Evaluation: Exact Match\n",
      "Label: Bogotá                         Prediction: Bogotá                         Evaluation: Exact Match\n",
      "Label: Christopher Columbus           Prediction: Christopher Columbus           Evaluation: Exact Match\n",
      "Label: republic                       Prediction: Presidential republic          Evaluation: Partial Match\n",
      "Label: Dodoma                         Prediction: Dodoma                         Evaluation: Exact Match\n",
      "Label: Bantu people                   Prediction: Bantu                          Evaluation: Partial Match\n",
      "Label: Maldives                       Prediction: Maldives                       Evaluation: Exact Match\n",
      "Label: Arabic                         Prediction: Arabic                         Evaluation: Exact Match\n",
      "Label: Amman                          Prediction: Amman                          Evaluation: Exact Match\n",
      "Label: United Arab Emirates           Prediction: United Arab Emirates           Evaluation: Exact Match\n",
      "Label: Saint Lucia                    Prediction: Saint Lucia                    Evaluation: Exact Match\n",
      "Label: Romania                        Prediction: Romania                        Evaluation: Exact Match\n",
      "Label: Myanmar                        Prediction: Myanmar                        Evaluation: Exact Match\n",
      "Label: Laos                           Prediction: Laos                           Evaluation: Exact Match\n",
      "Label: Indonesia                      Prediction: Indonesia                      Evaluation: Exact Match\n",
      "Label: Slovenia                       Prediction: Slovenia                       Evaluation: Exact Match\n",
      "Label: Afghanistan                    Prediction: Afghanistan                    Evaluation: Exact Match\n",
      "Label: Israel                         Prediction: Israel                         Evaluation: Exact Match\n",
      "Label: Jamaica                        Prediction: Jamaica                        Evaluation: Exact Match\n",
      "Label: South Africa                   Prediction: South Africa                   Evaluation: Exact Match\n",
      "Label: Japan                          Prediction: Japan                          Evaluation: Exact Match\n",
      "Label: United Kingdom                 Prediction: United Kingdom                 Evaluation: Exact Match\n",
      "Label: Kosovo                         Prediction: Kosovo                         Evaluation: Exact Match\n",
      "Label: Guatemala                      Prediction: Guatemala                      Evaluation: Exact Match\n",
      "Label: Canada                         Prediction: Canada                         Evaluation: Exact Match\n",
      "Label: Islam                          Prediction: Islam                          Evaluation: Exact Match\n",
      "Label: Moroni                         Prediction: Moroni                         Evaluation: Exact Match\n",
      "Label: East Timor                     Prediction: East Timor                     Evaluation: Exact Match\n",
      "Label: Israel                         Prediction: Israel                         Evaluation: Exact Match\n",
      "Label: Korea                          Prediction: South Korea                    Evaluation: Partial Match\n",
      "Label: Kim Jong-un                    Prediction: Kim Jong-un                    Evaluation: Exact Match\n",
      "Label: Nigeria                        Prediction: Nigeria                        Evaluation: Exact Match\n",
      "Label: Sudan                          Prediction: Sudan                          Evaluation: Exact Match\n",
      "Label: Czech Republic                 Prediction: Czech                          Evaluation: Partial Match\n",
      "Label: Colombo                        Prediction: Colombo                        Evaluation: Exact Match\n",
      "Label: Canada                         Prediction: Canada                         Evaluation: Exact Match\n",
      "Label: Seychelles                     Prediction: Seychelles                     Evaluation: Exact Match\n",
      "Label: Finland                        Prediction: Finland                        Evaluation: Exact Match\n",
      "Label: euro                           Prediction: Euro                           Evaluation: Exact Match\n",
      "Label: Israel                         Prediction: Israel                         Evaluation: Exact Match\n",
      "Label: De Nederlandsche Bank          Prediction: De Nederlandsche Bank          Evaluation: Exact Match\n",
      "Label: Amsterdam                      Prediction: Amsterdam                      Evaluation: Exact Match\n",
      "Label: Mark Rutte                     Prediction: Mark Rutte                     Evaluation: Exact Match\n",
      "Label: euro                           Prediction: Euro                           Evaluation: Exact Match\n",
      "Label: Malaysia                       Prediction: Malaysia                       Evaluation: Exact Match\n",
      "Label: Irish                          Prediction: Irish                          Evaluation: Exact Match\n",
      "Label: Central Bank of Ireland        Prediction: Central Bank of Ireland        Evaluation: Exact Match\n",
      "Label: euro                           Prediction: Euro                           Evaluation: Exact Match\n",
      "Label: Leo Varadkar                   Prediction: Leo Varadkar                   Evaluation: Exact Match\n",
      "Label: republic                       Prediction: Parliamentary republic         Evaluation: Partial Match\n",
      "Label: Brazil                         Prediction: Brazil                         Evaluation: Exact Match\n",
      "Label: Ecuador                        Prediction: Ecuador                        Evaluation: Exact Match\n",
      "Label: Palikir                        Prediction: Palikir                        Evaluation: Exact Match\n",
      "Label: Czech National Bank            Prediction: Czech National Bank            Evaluation: Exact Match\n",
      "Label: Petr Pavel                     Prediction: Petr Pavel                     Evaluation: Exact Match\n",
      "Label: Prague                         Prediction: Prague                         Evaluation: Exact Match\n",
      "Label: Petr Fiala                     Prediction: Petr Fiala                     Evaluation: Exact Match\n",
      "Label: Czechs                         Prediction: Czech                          Evaluation: Partial Match\n",
      "Label: Bhutan                         Prediction: Bhutan                         Evaluation: Exact Match\n",
      "Label: Parliament of Canada           Prediction: Parliament                     Evaluation: Partial Match\n",
      "Label: Justin Trudeau                 Prediction: Justin Trudeau                 Evaluation: Exact Match\n",
      "Label: Bank of Canada                 Prediction: Bank of Canada                 Evaluation: Exact Match\n",
      "Label: French                         Prediction: English and French             Evaluation: Partial Match\n",
      "Label: Ottawa                         Prediction: Ottawa                         Evaluation: Exact Match\n",
      "Label: Russia                         Prediction: Russia                         Evaluation: Exact Match\n",
      "Label: Vietnam                        Prediction: South Vietnam                  Evaluation: Partial Match\n",
      "Label: Saudi Arabia                   Prediction: Saudi Arabia                   Evaluation: Exact Match\n",
      "Label: Nana Akufo-Addo                Prediction: Nana Akufo-Addo                Evaluation: Exact Match\n",
      "Label: English                        Prediction: English                        Evaluation: Exact Match\n",
      "Label: Accra                          Prediction: Accra                          Evaluation: Exact Match\n",
      "Label: Burkina Faso                   Prediction: Burkina Faso                   Evaluation: Exact Match\n",
      "Label: Daniel Ortega                  Prediction: Daniel Ortega                  Evaluation: Exact Match\n",
      "Label: republic                       Prediction: Presidential republic          Evaluation: Partial Match\n",
      "Label: Managua                        Prediction: Managua                        Evaluation: Exact Match\n",
      "Label: Norway                         Prediction: Norway                         Evaluation: Exact Match\n",
      "Label: Kassym-Jomart Tokayev          Prediction: Kassym-Jomart Tokayev          Evaluation: Exact Match\n",
      "Label: Kazakhs                        Prediction: Kazakh                         Evaluation: Partial Match\n",
      "Label: Tunisia                        Prediction: Tunisia                        Evaluation: Exact Match\n",
      "Label: Ulaanbaatar                    Prediction: Ulaanbaatar                    Evaluation: Exact Match\n",
      "Label: Mongolian                      Prediction: Mongolian                      Evaluation: Exact Match\n",
      "Label: Dominican Republic             Prediction: Dominican Republic             Evaluation: Exact Match\n",
      "Label: North Korea                    Prediction: North Korea                    Evaluation: Exact Match\n",
      "Label: Khartoum                       Prediction: Khartoum                       Evaluation: Exact Match\n",
      "Label: Abdalla Hamdok                 Prediction: Abdalla Hamdok                 Evaluation: Exact Match\n",
      "Label: Arabic                         Prediction: Arabic                         Evaluation: Exact Match\n",
      "Label: South Sudan                    Prediction: South Sudan                    Evaluation: Exact Match\n",
      "Label: Uzbekistan                     Prediction: Uzbekistan                     Evaluation: Exact Match\n",
      "Label: Angola                         Prediction: Angola                         Evaluation: Exact Match\n",
      "Label: Arabic                         Prediction: Arabic                         Evaluation: Exact Match\n",
      "Label: Islam                          Prediction: Islam                          Evaluation: Exact Match\n",
      "Label: Riyadh                         Prediction: Riyadh                         Evaluation: Exact Match\n",
      "Label: Falco                          Prediction: Saudia Falcon                  Evaluation: Partial Match\n",
      "Label: Niamey                         Prediction: Niamey                         Evaluation: Exact Match\n",
      "Label: Maseru                         Prediction: Maseru                         Evaluation: Exact Match\n",
      "Label: Oranjestad                     Prediction: Oranjestad                     Evaluation: Exact Match\n",
      "Label: Zambia                         Prediction: Zambia                         Evaluation: Exact Match\n",
      "Label: English                        Prediction: English                        Evaluation: Exact Match\n",
      "Label: Kingston                       Prediction: Kingston                       Evaluation: Exact Match\n",
      "Label: Liechtenstein                  Prediction: Liechtenstein                  Evaluation: Exact Match\n",
      "Label: Islam                          Prediction: Islam                          Evaluation: Exact Match\n",
      "Label: constitutional monarchy        Prediction: Constitutional monarchy        Evaluation: Exact Match\n",
      "Label: Manama                         Prediction: Manama                         Evaluation: Exact Match\n",
      "Label: Arabic                         Prediction: Arabic                         Evaluation: Exact Match\n",
      "Label: Mexico                         Prediction: Mexico                         Evaluation: Exact Match\n",
      "Label: Thailand                       Prediction: Thailand                       Evaluation: Exact Match\n",
      "Label: Turkish                        Prediction: Turkish                        Evaluation: Exact Match\n",
      "Label: Islam                          Prediction: Islam                          Evaluation: Exact Match\n",
      "Label: Ankara                         Prediction: Ankara                         Evaluation: Exact Match\n",
      "Label: Central Bank of the Republic of Turkey Prediction: Central Bank of the Republic of Turkey Evaluation: Exact Match\n",
      "Label: Israel                         Prediction: Israel                         Evaluation: Exact Match\n",
      "Label: Grenada                        Prediction: Grenada                        Evaluation: Exact Match\n",
      "Label: Saudi Arabia                   Prediction: Saudi Arabia                   Evaluation: Exact Match\n",
      "Label: pound sterling                 Prediction: Pound                          Evaluation: Partial Match\n",
      "Label: euro                           Prediction: Euro                           Evaluation: Exact Match\n",
      "Label: Catalan                        Prediction: Catalan                        Evaluation: Exact Match\n",
      "Label: Andorra la Vella               Prediction: Andorra la Vella               Evaluation: Exact Match\n",
      "Label: Persian                        Prediction: Persian                        Evaluation: Exact Match\n",
      "Label: Islam                          Prediction: Islam                          Evaluation: Exact Match\n",
      "Label: Central Bank of Iran           Prediction: Central Bank of Iran           Evaluation: Exact Match\n",
      "Label: Tehran                         Prediction: Tehran                         Evaluation: Exact Match\n",
      "Label: Uganda                         Prediction: Uganda                         Evaluation: Exact Match\n",
      "Label: French                         Prediction: French                         Evaluation: Exact Match\n",
      "Label: Porto-Novo                     Prediction: Porto-Novo                     Evaluation: Exact Match\n",
      "Label: South Korea                    Prediction: South Korea                    Evaluation: Exact Match\n",
      "Label: Venezuela                      Prediction: Venezuela                      Evaluation: Exact Match\n",
      "Label: Cameroon                       Prediction: Cameroon                       Evaluation: Exact Match\n",
      "Label: Japan                          Prediction: Japan                          Evaluation: Exact Match\n",
      "Label: Israel                         Prediction: Israel                         Evaluation: Exact Match\n",
      "Label: Solomon Islands                Prediction: Solomon Islands                Evaluation: Exact Match\n",
      "Label: Suva                           Prediction: Suva                           Evaluation: Exact Match\n",
      "Label: Lee Hsien Loong                Prediction: Lee Hsien Loong                Evaluation: Exact Match\n",
      "Label: Lebanon                        Prediction: Lebanon                        Evaluation: Exact Match\n",
      "Label: Egypt                          Prediction: Egypt                          Evaluation: Exact Match\n",
      "Label: Venezuela                      Prediction: Venezuela                      Evaluation: Exact Match\n",
      "Label: republic                       Prediction: Parliamentary republic         Evaluation: Partial Match\n",
      "Label: euro                           Prediction: Euro                           Evaluation: Exact Match\n",
      "Label: Myanmar                        Prediction: Myanmar                        Evaluation: Exact Match\n",
      "Label: Rwanda                         Prediction: Rwanda                         Evaluation: Exact Match\n",
      "Label: Honduras                       Prediction: Honduras                       Evaluation: Exact Match\n",
      "Label: Arabic                         Prediction: Arabic                         Evaluation: Exact Match\n",
      "Label: Abu Dhabi                      Prediction: Abu Dhabi                      Evaluation: Exact Match\n",
      "Label: Islam                          Prediction: Islam                          Evaluation: Exact Match\n",
      "Label: Japan                          Prediction: Japan                          Evaluation: Exact Match\n",
      "Label: Luanda                         Prediction: Luanda                         Evaluation: Exact Match\n",
      "Label: Ivory Coast                    Prediction: Ivory Coast                    Evaluation: Exact Match\n",
      "Label: Niger                          Prediction: Niger                          Evaluation: Exact Match\n",
      "Label: Mexico                         Prediction: Mexico                         Evaluation: Exact Match\n",
      "Label: Mexico City                    Prediction: Mexico City                    Evaluation: Exact Match\n",
      "Label: Andrés Manuel López Obrador    Prediction: Andrés Manuel López Obrador    Evaluation: Exact Match\n",
      "Label: Bank of Mexico                 Prediction: Bank of Mexico                 Evaluation: Exact Match\n",
      "Label: Pico de Orizaba                Prediction: Pico de Orizaba                Evaluation: Exact Match\n",
      "Label: Bahrain                        Prediction: Bahrain                        Evaluation: Exact Match\n",
      "Label: Qatar                          Prediction: Qatar                          Evaluation: Exact Match\n",
      "Label: Mogadishu                      Prediction: Mogadishu                      Evaluation: Exact Match\n",
      "Label: Iceland                        Prediction: Iceland                        Evaluation: Exact Match\n",
      "Label: Yemen                          Prediction: Yemen                          Evaluation: Exact Match\n",
      "Label: English                        Prediction: Creole                         Evaluation: Semantic Match\n",
      "Label: Arabic                         Prediction: Arabic                         Evaluation: Exact Match\n",
      "Label: Cairo                          Prediction: Cairo                          Evaluation: Exact Match\n",
      "Label: republic                       Prediction: Presidential republic          Evaluation: Partial Match\n",
      "Label: Norway                         Prediction: Norway                         Evaluation: Exact Match\n",
      "Label: Turkmenistan                   Prediction: Turkmenistan                   Evaluation: Exact Match\n",
      "Label: Guyana                         Prediction: Guyana                         Evaluation: Exact Match\n",
      "Label: Iran                           Prediction: Iran                           Evaluation: Exact Match\n",
      "Label: Liechtenstein                  Prediction: Liechtenstein                  Evaluation: Exact Match\n",
      "Label: Charles III of the United Kingdom Prediction: Charles III                    Evaluation: Partial Match\n",
      "Label: Israel                         Prediction: Israel                         Evaluation: Exact Match\n",
      "Label: Madagascar                     Prediction: Madagascar                     Evaluation: Exact Match\n",
      "Label: Nairobi                        Prediction: Nairobi                        Evaluation: Exact Match\n",
      "Label: Rwanda                         Prediction: Rwanda                         Evaluation: Exact Match\n",
      "Label: United Arab Emirates           Prediction: United Arab Emirates           Evaluation: Exact Match\n",
      "Label: Guinea-Bissau                  Prediction: Guinea-Bissau                  Evaluation: Exact Match\n",
      "Label: United Kingdom                 Prediction: United Kingdom                 Evaluation: Exact Match\n",
      "Label: Finland                        Prediction: Finland                        Evaluation: Exact Match\n",
      "Label: Togo                           Prediction: Togo                           Evaluation: Exact Match\n",
      "Label: Socialist Federal Republic of Yugoslavia Prediction: Yugoslavia                     Evaluation: Partial Match\n",
      "Label: Croatian                       Prediction: Croatian                       Evaluation: Exact Match\n",
      "Label: Andrej Plenković               Prediction: Plenković                      Evaluation: Partial Match\n",
      "Label: Zoran Milanović                Prediction: Zoran Milanović                Evaluation: Exact Match\n",
      "Label: republic                       Prediction: Parliamentary republic         Evaluation: Partial Match\n",
      "Label: Malay                          Prediction: Malay                          Evaluation: Exact Match\n",
      "Label: Bandar Seri Begawan            Prediction: Bandar Seri Begawan            Evaluation: Exact Match\n",
      "Label: Japan                          Prediction: Japan                          Evaluation: Exact Match\n",
      "Label: Ashgabat                       Prediction: Ashgabat                       Evaluation: Exact Match\n",
      "Label: Iceland                        Prediction: Iceland                        Evaluation: Exact Match\n",
      "Label: Yemen                          Prediction: Yemen                          Evaluation: Exact Match\n",
      "Label: Tanzania                       Prediction: Tanzania                       Evaluation: Exact Match\n",
      "Label: Libya                          Prediction: Libya                          Evaluation: Exact Match\n",
      "Label: Azerbaijan                     Prediction: Azerbaijan                     Evaluation: Exact Match\n",
      "Label: Mongolia                       Prediction: Mongolia                       Evaluation: Exact Match\n",
      "Label: Yemen                          Prediction: Yemen                          Evaluation: Exact Match\n",
      "Label: Venezuela                      Prediction: Venezuela                      Evaluation: Exact Match\n",
      "Label: Turkmenistan                   Prediction: Turkmenistan                   Evaluation: Exact Match\n",
      "Label: Israel                         Prediction: Israel                         Evaluation: Exact Match\n",
      "Label: New Zealand                    Prediction: New Zealand                    Evaluation: Exact Match\n",
      "Label: Russia                         Prediction: Russia                         Evaluation: Exact Match\n",
      "Label: Finland                        Prediction: Finland                        Evaluation: Exact Match\n",
      "Label: Isaias Afwerki                 Prediction: Isaias Afwerki                 Evaluation: Exact Match\n",
      "Label: Asmara                         Prediction: Asmara                         Evaluation: Exact Match\n",
      "Label: Brazil                         Prediction: Brazil                         Evaluation: Exact Match\n",
      "Label: Sri Lanka                      Prediction: Sri Lanka                      Evaluation: Exact Match\n",
      "Label: Syria                          Prediction: Syria                          Evaluation: Exact Match\n",
      "Label: Danish                         Prediction: Danish                         Evaluation: Exact Match\n",
      "Label: constitutional monarchy        Prediction: Constitutional monarchy        Evaluation: Exact Match\n",
      "\n",
      "Hallucination ratio: 0.46399999999999997 df_hallucination.shape: (232, 9)\n"
     ]
    }
   ],
   "source": [
    "df_wh = pd.read_csv(f\"../data/questions/wh_only/all_topics_{model_id_format}.csv\")\n",
    "df_wh = df_wh[df_wh.topic == domain_topic_name]\n",
    "print(f\"domain_topic_name: {domain_topic_name}, df_wh.shape: {df_wh.shape}\")\n",
    "\n",
    "system_msg_eval = \"Given two texts, labeled as Text 1 and Text 2, output '1' if they match each other semantically; otherwise, output '0'. Do not repeat the question or provide any explanation.\"   \n",
    "\n",
    "# if not os.path.exists(f\"../data/questions/wh_only/hallucination_only/{model_id_format}\"):\n",
    "#     os.makedirs(f\"../data/questions/wh_only/hallucination_only/{model_id_format}\")\n",
    "df_wh = evaluate_responses(model_eval, tok_eval, df_wh, system_msg_eval)\n",
    "df_wh_hallu = df_wh[df_wh[f\"eval_{model_id_format}\"] == 0]\n",
    "# df_wh_hallu.to_csv(f\"../data/questions/wh_only/hallucination_only/{model_id_format}.csv\", index=False)\n",
    "# df_wh[df_wh[f\"eval_{model_id_format}\"] == 1]\n",
    "# The wh question accuracy of the language model is 0."
   ]
  },
  {
   "cell_type": "code",
   "execution_count": 32,
   "metadata": {},
   "outputs": [
    {
     "name": "stdout",
     "output_type": "stream",
     "text": [
      "Label: Charles III of the United Kingdom Prediction: King Charles III               Evaluation: Semantic Match\n",
      "Label: Chinese                        Prediction: Mandarin                       Evaluation: Semantic Match\n",
      "Label: Andrew the Apostle             Prediction: Saint Andrew                   Evaluation: Semantic Match\n",
      "Label: Charles III of the United Kingdom Prediction: King Charles III               Evaluation: Semantic Match\n",
      "Label: Willem-Alexander of the Netherlands Prediction: King Willem-Alexander          Evaluation: Semantic Match\n",
      "Label: representative democracy       Prediction: Parliamentary republic         Evaluation: Semantic Match\n",
      "Label: Charles III of the United Kingdom Prediction: King Charles III               Evaluation: Semantic Match\n",
      "Label: Abdullah II of Jordan          Prediction: King Abdullah II               Evaluation: Semantic Match\n",
      "Label: United States dollar           Prediction: US Dollar                      Evaluation: Semantic Match\n",
      "Label: North Korea                    Prediction: DPRK                           Evaluation: Semantic Match\n",
      "Label: Sri Lanka                      Prediction: Island nation                  Evaluation: Semantic Match\n",
      "Label: Czech Republic                 Prediction: Czechia                        Evaluation: Semantic Match\n",
      "Label: Kiribati                       Prediction: Island nation                  Evaluation: Semantic Match\n",
      "Label: Willem-Alexander of the Netherlands Prediction: King Willem-Alexander          Evaluation: Semantic Match\n",
      "Label: United States dollar           Prediction: US Dollar                      Evaluation: Semantic Match\n",
      "Label: Charles III of the United Kingdom Prediction: King Charles III               Evaluation: Semantic Match\n",
      "Label: presidential system            Prediction: Presidential republic          Evaluation: Semantic Match\n",
      "Label: parliamentary system           Prediction: Parliamentary republic         Evaluation: Semantic Match\n",
      "Label: Lesotho                        Prediction: Mountain Kingdom               Evaluation: Semantic Match\n",
      "Label: Willem-Alexander of the Netherlands Prediction: King Willem-Alexander          Evaluation: Semantic Match\n",
      "Label: Jamaica                        Prediction: Island nation                  Evaluation: Semantic Match\n",
      "Label: Charles III of the United Kingdom Prediction: King Charles III               Evaluation: Semantic Match\n",
      "Label: Hamad II of Bahrain            Prediction: King Hamad                     Evaluation: Semantic Match\n",
      "Label: presidential system            Prediction: Presidential republic          Evaluation: Semantic Match\n",
      "Label: Charles III of the United Kingdom Prediction: King Charles III               Evaluation: Semantic Match\n",
      "Label: Czech Republic                 Prediction: Czechia                        Evaluation: Semantic Match\n",
      "Label: Charles III of the United Kingdom Prediction: King Charles III               Evaluation: Semantic Match\n",
      "Label: Haji Hassanal Bolkiah          Prediction: Sultan Hassanal Bolkiah        Evaluation: Semantic Match\n",
      "\n",
      "Hallucination ratio: 0.8793103448275862 df_hallucination.shape: (204, 9)\n"
     ]
    }
   ],
   "source": [
    "# Round 2: use system_msg_2 to filter case such as United Kingdom vs. England\n",
    "system_msg_2 = \"Given two texts, labeled as Text 1 and Text 2, output '1' if they if they have similar semantic meanings, are synonyms, \\\n",
    "or if one is a more specific or general version of the other; otherwise, output '0'. Do not repeat the question or provide any explanation.\"   \n",
    "\n",
    "df_wh_hallu = evaluate_responses(model_eval, tok_eval, df_wh_hallu, system_msg_2)\n",
    "df_wh_hallu = df_wh_hallu[df_wh_hallu[f\"eval_{model_id_format}\"] == 0]"
   ]
  },
  {
   "cell_type": "code",
   "execution_count": 33,
   "metadata": {},
   "outputs": [],
   "source": [
    "df_wh_hallu.to_csv(f\"../data/questions/wh_only/hallucination_only/{model_id_format}_{domain_topic_name}.csv\", index=False)"
   ]
  },
  {
   "cell_type": "markdown",
   "metadata": {},
   "source": [
    "### Other evaluation less/more strict"
   ]
  },
  {
   "cell_type": "code",
   "execution_count": null,
   "metadata": {},
   "outputs": [],
   "source": [
    "# system_msg_eval = \"\"\"Given a question, a label, and a prediction, evaluate the correctness of the prediction compared to the label. \\\n",
    "# Output '1' if they have similar semantic meanings, are synonyms, or if one is a more specific or general version of the other. Otherwise, output '0'. \\\n",
    "# Only output the final evaluation as a single word. Do not repeat the question or provide an explanation.\"\"\""
   ]
  },
  {
   "cell_type": "code",
   "execution_count": null,
   "metadata": {},
   "outputs": [
    {
     "name": "stderr",
     "output_type": "stream",
     "text": [
      "/data1/baixiang/env/anaconda3/envs/edit/lib/python3.9/site-packages/transformers/generation/configuration_utils.py:567: UserWarning: `do_sample` is set to `False`. However, `temperature` is set to `0.6` -- this flag is only used in sample-based generation modes. You should set `do_sample=True` or unset `temperature`.\n",
      "  warnings.warn(\n",
      "/data1/baixiang/env/anaconda3/envs/edit/lib/python3.9/site-packages/transformers/generation/configuration_utils.py:572: UserWarning: `do_sample` is set to `False`. However, `top_p` is set to `0.9` -- this flag is only used in sample-based generation modes. You should set `do_sample=True` or unset `top_p`.\n",
      "  warnings.warn(\n"
     ]
    },
    {
     "name": "stdout",
     "output_type": "stream",
     "text": [
      "0 0 0 1 0 0 0 0 0 0 0 0 0 0 0 0 0 0 0 0 0 0 0 0 0 0 0 0 1 0 0 1 0 1 0 0 0 0 0 0 0 0 0 0 0 0 0 0 0 0 0 0 0 0 0 0 0 0 0 0 0 1 0 0 0 0 0 0 0 0 0 0 1 1 0 1 0 0 1 0 0 0 0 0 0 0 0 0 1 0 0 0 0 0 0 0 0 0 0 0 0 0 0 0 0 0 0 0 0 0 0 0 0 0 0 0 0 0 0 0 0 0 0 0 0 0 1 0 0 1 0 0 1 0 0 1 0 1 0 0 1 0 1 0 0 0 0 0 0 0 0 0 0 0 1 0 0 0 0 0 0 0 0 0 0 0 0 0 0 0 1 0 0 0 0 0 0 1 0 0 0 0 0 0 0 0 0 0 0 0 0 0 0 0 0 0 0 0 0 0 0 1 0 0 1 0 0 0 0 1 0 0 0 0 0 0 0 0 0 0 0 1 0 0 0 0 0 0 0 0 0 0 0 0 1 1 0 0 0 0 0 0 0 1 0 1 0 0 0 0 1 0 0 0 0 0 0 1 0 0 0 0 0 0 0 0 0 0 0 0 0 0 0 0 0 0 1 0 0 0 0 0 0 0 1 0 0 0 0 0 0 0 0 0 0 0 0 0 0 0 0 0 0 0 0 0 0 0 0 0 0 0 1 0 0 0 0 0 1 0 0 0 0 0 0 \n",
      "The wh question accuracy of the language model is 0.418\n"
     ]
    }
   ],
   "source": [
    "domain_topic_name = 'places_landmark'\n",
    "df_wh = pd.read_csv(f\"../data/questions/wh_only/all_topics_{model_id_format}.csv\")\n",
    "df_wh = df_wh[df_wh.topic == domain_topic_name]\n",
    "print(domain_topic_name, df_wh.shape)\n",
    "\n",
    "system_msg_eval = \"\"\"Given a label and a prediction, evaluate the correctness of the prediction compared to the label. \\\n",
    "Output '1' if they match each other semantically. Otherwise, output '0'. Do not repeat the question or provide an explanation.\"\"\"\n",
    "# output the final evaluation as a single word. Do not repeat the question or provide an explanation Only output '0' or '1'.\n",
    "\n",
    "user_msg_eval_template = f\"\"\"label: {label} \\nprediction: {output_qa}\\n\"\"\"\n",
    "df_wh = evaluate_responses(model_eval, tok_eval, df_wh, system_msg_eval, user_msg_eval_template)"
   ]
  },
  {
   "cell_type": "code",
   "execution_count": null,
   "metadata": {},
   "outputs": [
    {
     "name": "stderr",
     "output_type": "stream",
     "text": [
      "/data1/baixiang/env/anaconda3/envs/edit/lib/python3.9/site-packages/transformers/generation/configuration_utils.py:567: UserWarning: `do_sample` is set to `False`. However, `temperature` is set to `0.6` -- this flag is only used in sample-based generation modes. You should set `do_sample=True` or unset `temperature`.\n",
      "  warnings.warn(\n",
      "/data1/baixiang/env/anaconda3/envs/edit/lib/python3.9/site-packages/transformers/generation/configuration_utils.py:572: UserWarning: `do_sample` is set to `False`. However, `top_p` is set to `0.9` -- this flag is only used in sample-based generation modes. You should set `do_sample=True` or unset `top_p`.\n",
      "  warnings.warn(\n"
     ]
    },
    {
     "name": "stdout",
     "output_type": "stream",
     "text": [
      "The wh question accuracy of the language model is 0.642\n"
     ]
    },
    {
     "data": {
      "text/html": [
       "<div>\n",
       "<style scoped>\n",
       "    .dataframe tbody tr th:only-of-type {\n",
       "        vertical-align: middle;\n",
       "    }\n",
       "\n",
       "    .dataframe tbody tr th {\n",
       "        vertical-align: top;\n",
       "    }\n",
       "\n",
       "    .dataframe thead th {\n",
       "        text-align: right;\n",
       "    }\n",
       "</style>\n",
       "<table border=\"1\" class=\"dataframe\">\n",
       "  <thead>\n",
       "    <tr style=\"text-align: right;\">\n",
       "      <th></th>\n",
       "      <th>topic</th>\n",
       "      <th>type</th>\n",
       "      <th>subject</th>\n",
       "      <th>relation</th>\n",
       "      <th>object</th>\n",
       "      <th>question</th>\n",
       "      <th>label</th>\n",
       "      <th>output_meta_llama_3.1_8b_instruct</th>\n",
       "      <th>eval_meta_llama_3.1_8b_instruct</th>\n",
       "    </tr>\n",
       "  </thead>\n",
       "  <tbody>\n",
       "    <tr>\n",
       "      <th>2000</th>\n",
       "      <td>places_landmark</td>\n",
       "      <td>wh</td>\n",
       "      <td>Old Royal Naval College</td>\n",
       "      <td>architect</td>\n",
       "      <td>Christopher Wren</td>\n",
       "      <td>Who does Old Royal Naval College architect?</td>\n",
       "      <td>Christopher Wren</td>\n",
       "      <td>Christopher Wren.</td>\n",
       "      <td>1.0</td>\n",
       "    </tr>\n",
       "    <tr>\n",
       "      <th>2001</th>\n",
       "      <td>places_landmark</td>\n",
       "      <td>wh</td>\n",
       "      <td>Old Royal Naval College</td>\n",
       "      <td>country</td>\n",
       "      <td>United Kingdom</td>\n",
       "      <td>What is the country of Old Royal Naval College?</td>\n",
       "      <td>United Kingdom</td>\n",
       "      <td>United Kingdom.</td>\n",
       "      <td>1.0</td>\n",
       "    </tr>\n",
       "    <tr>\n",
       "      <th>2003</th>\n",
       "      <td>places_landmark</td>\n",
       "      <td>wh</td>\n",
       "      <td>Panathenaic Stadium</td>\n",
       "      <td>occupant</td>\n",
       "      <td>Hellenic Olympic Committee</td>\n",
       "      <td>What is the occupant of Panathenaic Stadium?</td>\n",
       "      <td>Hellenic Olympic Committee</td>\n",
       "      <td>Greek National Stadium.</td>\n",
       "      <td>1.0</td>\n",
       "    </tr>\n",
       "    <tr>\n",
       "      <th>2004</th>\n",
       "      <td>places_landmark</td>\n",
       "      <td>wh</td>\n",
       "      <td>Panathenaic Stadium</td>\n",
       "      <td>made from material</td>\n",
       "      <td>marble</td>\n",
       "      <td>What is the made from material of Panathenaic ...</td>\n",
       "      <td>marble</td>\n",
       "      <td>Pentelic marble.</td>\n",
       "      <td>1.0</td>\n",
       "    </tr>\n",
       "    <tr>\n",
       "      <th>2005</th>\n",
       "      <td>places_landmark</td>\n",
       "      <td>wh</td>\n",
       "      <td>Panathenaic Stadium</td>\n",
       "      <td>sponsor</td>\n",
       "      <td>Stavros Niarchos Foundation</td>\n",
       "      <td>What does Panathenaic Stadium sponsor?</td>\n",
       "      <td>Stavros Niarchos Foundation</td>\n",
       "      <td>Athletic events.</td>\n",
       "      <td>1.0</td>\n",
       "    </tr>\n",
       "    <tr>\n",
       "      <th>...</th>\n",
       "      <td>...</td>\n",
       "      <td>...</td>\n",
       "      <td>...</td>\n",
       "      <td>...</td>\n",
       "      <td>...</td>\n",
       "      <td>...</td>\n",
       "      <td>...</td>\n",
       "      <td>...</td>\n",
       "      <td>...</td>\n",
       "    </tr>\n",
       "    <tr>\n",
       "      <th>2492</th>\n",
       "      <td>places_landmark</td>\n",
       "      <td>wh</td>\n",
       "      <td>MUNCH</td>\n",
       "      <td>located in or next to body of water</td>\n",
       "      <td>Oslofjord</td>\n",
       "      <td>What is the located in or next to body of wate...</td>\n",
       "      <td>Oslofjord</td>\n",
       "      <td>Oslofjord.</td>\n",
       "      <td>1.0</td>\n",
       "    </tr>\n",
       "    <tr>\n",
       "      <th>2494</th>\n",
       "      <td>places_landmark</td>\n",
       "      <td>wh</td>\n",
       "      <td>MUNCH</td>\n",
       "      <td>replaces</td>\n",
       "      <td>Munch Museum</td>\n",
       "      <td>What does MUNCH replace?</td>\n",
       "      <td>Munch Museum</td>\n",
       "      <td>MUNCH replaces OMNISCIENT.</td>\n",
       "      <td>1.0</td>\n",
       "    </tr>\n",
       "    <tr>\n",
       "      <th>2496</th>\n",
       "      <td>places_landmark</td>\n",
       "      <td>wh</td>\n",
       "      <td>Bridget of Sweden</td>\n",
       "      <td>founded by</td>\n",
       "      <td>Vadstena Abbey</td>\n",
       "      <td>Which tourist attraction was founded by Bridge...</td>\n",
       "      <td>Vadstena Abbey</td>\n",
       "      <td>Birgitta Abbey.</td>\n",
       "      <td>1.0</td>\n",
       "    </tr>\n",
       "    <tr>\n",
       "      <th>2498</th>\n",
       "      <td>places_landmark</td>\n",
       "      <td>wh</td>\n",
       "      <td>St Mark's Campanile</td>\n",
       "      <td>has part(s)</td>\n",
       "      <td>St Mark's Basilica</td>\n",
       "      <td>Which tourist attraction has part(s) St Mark's...</td>\n",
       "      <td>St Mark's Basilica</td>\n",
       "      <td>St. Mark's Square.</td>\n",
       "      <td>1.0</td>\n",
       "    </tr>\n",
       "    <tr>\n",
       "      <th>2499</th>\n",
       "      <td>places_landmark</td>\n",
       "      <td>wh</td>\n",
       "      <td>Alcatraz Island</td>\n",
       "      <td>heritage designation</td>\n",
       "      <td>National Historic Landmark</td>\n",
       "      <td>What is the heritage designation of Alcatraz I...</td>\n",
       "      <td>National Historic Landmark</td>\n",
       "      <td>National Historic Landmark.</td>\n",
       "      <td>1.0</td>\n",
       "    </tr>\n",
       "  </tbody>\n",
       "</table>\n",
       "<p>321 rows × 9 columns</p>\n",
       "</div>"
      ],
      "text/plain": [
       "                topic type                  subject  \\\n",
       "2000  places_landmark   wh  Old Royal Naval College   \n",
       "2001  places_landmark   wh  Old Royal Naval College   \n",
       "2003  places_landmark   wh      Panathenaic Stadium   \n",
       "2004  places_landmark   wh      Panathenaic Stadium   \n",
       "2005  places_landmark   wh      Panathenaic Stadium   \n",
       "...               ...  ...                      ...   \n",
       "2492  places_landmark   wh                    MUNCH   \n",
       "2494  places_landmark   wh                    MUNCH   \n",
       "2496  places_landmark   wh        Bridget of Sweden   \n",
       "2498  places_landmark   wh      St Mark's Campanile   \n",
       "2499  places_landmark   wh          Alcatraz Island   \n",
       "\n",
       "                                 relation                       object  \\\n",
       "2000                            architect             Christopher Wren   \n",
       "2001                              country               United Kingdom   \n",
       "2003                             occupant   Hellenic Olympic Committee   \n",
       "2004                   made from material                       marble   \n",
       "2005                              sponsor  Stavros Niarchos Foundation   \n",
       "...                                   ...                          ...   \n",
       "2492  located in or next to body of water                    Oslofjord   \n",
       "2494                             replaces                 Munch Museum   \n",
       "2496                           founded by               Vadstena Abbey   \n",
       "2498                          has part(s)           St Mark's Basilica   \n",
       "2499                 heritage designation   National Historic Landmark   \n",
       "\n",
       "                                               question  \\\n",
       "2000        Who does Old Royal Naval College architect?   \n",
       "2001    What is the country of Old Royal Naval College?   \n",
       "2003       What is the occupant of Panathenaic Stadium?   \n",
       "2004  What is the made from material of Panathenaic ...   \n",
       "2005             What does Panathenaic Stadium sponsor?   \n",
       "...                                                 ...   \n",
       "2492  What is the located in or next to body of wate...   \n",
       "2494                           What does MUNCH replace?   \n",
       "2496  Which tourist attraction was founded by Bridge...   \n",
       "2498  Which tourist attraction has part(s) St Mark's...   \n",
       "2499  What is the heritage designation of Alcatraz I...   \n",
       "\n",
       "                            label output_meta_llama_3.1_8b_instruct  \\\n",
       "2000             Christopher Wren                 Christopher Wren.   \n",
       "2001               United Kingdom                   United Kingdom.   \n",
       "2003   Hellenic Olympic Committee           Greek National Stadium.   \n",
       "2004                       marble                  Pentelic marble.   \n",
       "2005  Stavros Niarchos Foundation                  Athletic events.   \n",
       "...                           ...                               ...   \n",
       "2492                    Oslofjord                        Oslofjord.   \n",
       "2494                 Munch Museum        MUNCH replaces OMNISCIENT.   \n",
       "2496               Vadstena Abbey                   Birgitta Abbey.   \n",
       "2498           St Mark's Basilica                St. Mark's Square.   \n",
       "2499   National Historic Landmark       National Historic Landmark.   \n",
       "\n",
       "      eval_meta_llama_3.1_8b_instruct  \n",
       "2000                              1.0  \n",
       "2001                              1.0  \n",
       "2003                              1.0  \n",
       "2004                              1.0  \n",
       "2005                              1.0  \n",
       "...                               ...  \n",
       "2492                              1.0  \n",
       "2494                              1.0  \n",
       "2496                              1.0  \n",
       "2498                              1.0  \n",
       "2499                              1.0  \n",
       "\n",
       "[321 rows x 9 columns]"
      ]
     },
     "metadata": {},
     "output_type": "display_data"
    }
   ],
   "source": [
    "domain_topic_name = 'places_landmark'\n",
    "df_wh = pd.read_csv(f\"../data/questions/wh_only/all_topics_{model_id_format}.csv\")\n",
    "df_wh = df_wh[df_wh.topic == domain_topic_name]\n",
    "\n",
    "system_msg_eval = \"\"\"Given a question, a label, and a prediction, evaluate the correctness of the prediction compared to the label. \\\n",
    "Output '1' if they have similar semantic meanings, are synonyms, or if one is a more specific or general version of the other. Otherwise, output '0'. \\\n",
    "Only output the final evaluation as a single word. Do not repeat the question or provide an explanation.\"\"\"\n",
    "\n",
    "wh_count = 0\n",
    "wh_correct = 0\n",
    "for i in df_wh.index[:]:\n",
    "    question, label, output_qa = df_wh.loc[i, 'question'], df_wh.loc[i, 'label'], df_wh.loc[i, f\"output_{model_id_format}\"]\n",
    "    prompt_eval = f\"\"\"question: {question} \\nlabel: {label} \\nprediction: {output_qa}\\n\"\"\"\n",
    "    eval_res = 0\n",
    "    wh_count += 1 \n",
    "\n",
    "    if output_qa.lower() in label.lower() or label.lower() in output_qa.lower():  # Rule-basd fuzzy match\n",
    "        wh_correct += 1\n",
    "        eval_res = 1\n",
    "    else:\n",
    "        \n",
    "        messages_eval = [{\"role\": \"system\", \"content\": system_msg_eval}, {\"role\": \"user\", \"content\": user_msg_eval}]\n",
    "        response_eval = get_response(model_eval, tok_eval, messages_eval)\n",
    "        if response_eval == '1':\n",
    "            wh_correct += 1\n",
    "            eval_res = 1\n",
    "            \n",
    "    df_wh.loc[i, f\"eval_{model_id_format}\"] = eval_res\n",
    "    \n",
    "print(f\"The wh question accuracy of the language model is {wh_correct / wh_count}\")\n",
    "# if not os.path.exists(f\"../data/questions/wh_only/hallucination_only/{model_id_format}\"):\n",
    "#     os.makedirs(f\"../data/questions/wh_only/hallucination_only/{model_id_format}\")\n",
    "df_wh[df_wh[f\"eval_{model_id_format}\"] == 0].to_csv(f\"../data/questions/wh_only/hallucination_only/{model_id_format}.csv\", index=False)\n",
    "df_wh[df_wh[f\"eval_{model_id_format}\"] == 1]\n",
    "# The wh question accuracy of the language model is 0.656"
   ]
  },
  {
   "cell_type": "code",
   "execution_count": 7,
   "metadata": {},
   "outputs": [
    {
     "name": "stderr",
     "output_type": "stream",
     "text": [
      "/home/baix/anaconda3/envs/env24may/lib/python3.9/site-packages/transformers/generation/configuration_utils.py:515: UserWarning: `do_sample` is set to `False`. However, `temperature` is set to `0.6` -- this flag is only used in sample-based generation modes. You should set `do_sample=True` or unset `temperature`.\n",
      "  warnings.warn(\n",
      "/home/baix/anaconda3/envs/env24may/lib/python3.9/site-packages/transformers/generation/configuration_utils.py:520: UserWarning: `do_sample` is set to `False`. However, `top_p` is set to `0.9` -- this flag is only used in sample-based generation modes. You should set `do_sample=True` or unset `top_p`.\n",
      "  warnings.warn(\n"
     ]
    },
    {
     "name": "stdout",
     "output_type": "stream",
     "text": [
      "[GPT] The wh question accuracy of the language model is 0.732\n"
     ]
    },
    {
     "data": {
      "text/html": [
       "<div>\n",
       "<style scoped>\n",
       "    .dataframe tbody tr th:only-of-type {\n",
       "        vertical-align: middle;\n",
       "    }\n",
       "\n",
       "    .dataframe tbody tr th {\n",
       "        vertical-align: top;\n",
       "    }\n",
       "\n",
       "    .dataframe thead th {\n",
       "        text-align: right;\n",
       "    }\n",
       "</style>\n",
       "<table border=\"1\" class=\"dataframe\">\n",
       "  <thead>\n",
       "    <tr style=\"text-align: right;\">\n",
       "      <th></th>\n",
       "      <th>type</th>\n",
       "      <th>subject</th>\n",
       "      <th>relation</th>\n",
       "      <th>object</th>\n",
       "      <th>question</th>\n",
       "      <th>label</th>\n",
       "      <th>output_meta-llama/Meta-Llama-3-8B-Instruct</th>\n",
       "      <th>eval_meta_llama_3_8b_instruct</th>\n",
       "    </tr>\n",
       "  </thead>\n",
       "  <tbody>\n",
       "    <tr>\n",
       "      <th>0</th>\n",
       "      <td>wh</td>\n",
       "      <td>Ontario</td>\n",
       "      <td>located in the administrative territorial entity</td>\n",
       "      <td>Niagara Falls</td>\n",
       "      <td>Which tourist attraction's located in the admi...</td>\n",
       "      <td>Niagara Falls</td>\n",
       "      <td>Niagara Falls</td>\n",
       "      <td>1.0</td>\n",
       "    </tr>\n",
       "    <tr>\n",
       "      <th>1</th>\n",
       "      <td>wh</td>\n",
       "      <td>Alexandrov Kremlin</td>\n",
       "      <td>country</td>\n",
       "      <td>Russia</td>\n",
       "      <td>What is the country of Alexandrov Kremlin?</td>\n",
       "      <td>Russia</td>\n",
       "      <td>Russia</td>\n",
       "      <td>1.0</td>\n",
       "    </tr>\n",
       "    <tr>\n",
       "      <th>2</th>\n",
       "      <td>wh</td>\n",
       "      <td>Alexandrov Kremlin</td>\n",
       "      <td>located in the administrative territorial entity</td>\n",
       "      <td>Alexandrov</td>\n",
       "      <td>Who is the located in the administrative terri...</td>\n",
       "      <td>Alexandrov</td>\n",
       "      <td>Alexandrov</td>\n",
       "      <td>1.0</td>\n",
       "    </tr>\n",
       "    <tr>\n",
       "      <th>3</th>\n",
       "      <td>wh</td>\n",
       "      <td>Bukit Panjang</td>\n",
       "      <td>located in the administrative territorial entity</td>\n",
       "      <td>Bukit Timah Nature Reserve</td>\n",
       "      <td>Which tourist attraction's located in the admi...</td>\n",
       "      <td>Bukit Timah Nature Reserve</td>\n",
       "      <td>Haw Par Villa</td>\n",
       "      <td>0.0</td>\n",
       "    </tr>\n",
       "    <tr>\n",
       "      <th>4</th>\n",
       "      <td>wh</td>\n",
       "      <td>Kastelholm Castle</td>\n",
       "      <td>country</td>\n",
       "      <td>Finland</td>\n",
       "      <td>What is the country of Kastelholm Castle?</td>\n",
       "      <td>Finland</td>\n",
       "      <td>Finland</td>\n",
       "      <td>1.0</td>\n",
       "    </tr>\n",
       "    <tr>\n",
       "      <th>...</th>\n",
       "      <td>...</td>\n",
       "      <td>...</td>\n",
       "      <td>...</td>\n",
       "      <td>...</td>\n",
       "      <td>...</td>\n",
       "      <td>...</td>\n",
       "      <td>...</td>\n",
       "      <td>...</td>\n",
       "    </tr>\n",
       "    <tr>\n",
       "      <th>495</th>\n",
       "      <td>wh</td>\n",
       "      <td>Thornton Tomasetti</td>\n",
       "      <td>structural engineer</td>\n",
       "      <td>Petronas Towers</td>\n",
       "      <td>Which tourist attraction's structural engineer...</td>\n",
       "      <td>Petronas Towers</td>\n",
       "      <td>One World Trade</td>\n",
       "      <td>0.0</td>\n",
       "    </tr>\n",
       "    <tr>\n",
       "      <th>496</th>\n",
       "      <td>wh</td>\n",
       "      <td>Charles II of England</td>\n",
       "      <td>occupant</td>\n",
       "      <td>Windsor Castle</td>\n",
       "      <td>Which tourist attraction's occupant is Charles...</td>\n",
       "      <td>Windsor Castle</td>\n",
       "      <td>Westminster Abbey</td>\n",
       "      <td>1.0</td>\n",
       "    </tr>\n",
       "    <tr>\n",
       "      <th>497</th>\n",
       "      <td>wh</td>\n",
       "      <td>Charles II of England</td>\n",
       "      <td>founded by</td>\n",
       "      <td>Royal Observatory</td>\n",
       "      <td>Which tourist attraction was founded by Charle...</td>\n",
       "      <td>Royal Observatory</td>\n",
       "      <td>St. Paul's</td>\n",
       "      <td>0.0</td>\n",
       "    </tr>\n",
       "    <tr>\n",
       "      <th>498</th>\n",
       "      <td>wh</td>\n",
       "      <td>Gateway Arch</td>\n",
       "      <td>located in protected area</td>\n",
       "      <td>Gateway Arch National Park</td>\n",
       "      <td>What is the located in protected area of Gatew...</td>\n",
       "      <td>Gateway Arch National Park</td>\n",
       "      <td>Jefferson National Park</td>\n",
       "      <td>1.0</td>\n",
       "    </tr>\n",
       "    <tr>\n",
       "      <th>499</th>\n",
       "      <td>wh</td>\n",
       "      <td>Gateway Arch</td>\n",
       "      <td>heritage designation</td>\n",
       "      <td>National Historic Landmark</td>\n",
       "      <td>What is the heritage designation of Gateway Arch?</td>\n",
       "      <td>National Historic Landmark</td>\n",
       "      <td>National</td>\n",
       "      <td>1.0</td>\n",
       "    </tr>\n",
       "  </tbody>\n",
       "</table>\n",
       "<p>500 rows × 8 columns</p>\n",
       "</div>"
      ],
      "text/plain": [
       "    type                subject  \\\n",
       "0     wh                Ontario   \n",
       "1     wh     Alexandrov Kremlin   \n",
       "2     wh     Alexandrov Kremlin   \n",
       "3     wh          Bukit Panjang   \n",
       "4     wh      Kastelholm Castle   \n",
       "..   ...                    ...   \n",
       "495   wh     Thornton Tomasetti   \n",
       "496   wh  Charles II of England   \n",
       "497   wh  Charles II of England   \n",
       "498   wh           Gateway Arch   \n",
       "499   wh           Gateway Arch   \n",
       "\n",
       "                                             relation  \\\n",
       "0    located in the administrative territorial entity   \n",
       "1                                             country   \n",
       "2    located in the administrative territorial entity   \n",
       "3    located in the administrative territorial entity   \n",
       "4                                             country   \n",
       "..                                                ...   \n",
       "495                               structural engineer   \n",
       "496                                          occupant   \n",
       "497                                        founded by   \n",
       "498                         located in protected area   \n",
       "499                              heritage designation   \n",
       "\n",
       "                         object  \\\n",
       "0                 Niagara Falls   \n",
       "1                        Russia   \n",
       "2                    Alexandrov   \n",
       "3    Bukit Timah Nature Reserve   \n",
       "4                       Finland   \n",
       "..                          ...   \n",
       "495             Petronas Towers   \n",
       "496              Windsor Castle   \n",
       "497           Royal Observatory   \n",
       "498  Gateway Arch National Park   \n",
       "499  National Historic Landmark   \n",
       "\n",
       "                                              question  \\\n",
       "0    Which tourist attraction's located in the admi...   \n",
       "1           What is the country of Alexandrov Kremlin?   \n",
       "2    Who is the located in the administrative terri...   \n",
       "3    Which tourist attraction's located in the admi...   \n",
       "4            What is the country of Kastelholm Castle?   \n",
       "..                                                 ...   \n",
       "495  Which tourist attraction's structural engineer...   \n",
       "496  Which tourist attraction's occupant is Charles...   \n",
       "497  Which tourist attraction was founded by Charle...   \n",
       "498  What is the located in protected area of Gatew...   \n",
       "499  What is the heritage designation of Gateway Arch?   \n",
       "\n",
       "                          label output_meta-llama/Meta-Llama-3-8B-Instruct  \\\n",
       "0                 Niagara Falls                              Niagara Falls   \n",
       "1                        Russia                                     Russia   \n",
       "2                    Alexandrov                                 Alexandrov   \n",
       "3    Bukit Timah Nature Reserve                              Haw Par Villa   \n",
       "4                       Finland                                    Finland   \n",
       "..                          ...                                        ...   \n",
       "495             Petronas Towers                            One World Trade   \n",
       "496              Windsor Castle                          Westminster Abbey   \n",
       "497           Royal Observatory                                 St. Paul's   \n",
       "498  Gateway Arch National Park                    Jefferson National Park   \n",
       "499  National Historic Landmark                                   National   \n",
       "\n",
       "     eval_meta_llama_3_8b_instruct  \n",
       "0                              1.0  \n",
       "1                              1.0  \n",
       "2                              1.0  \n",
       "3                              0.0  \n",
       "4                              1.0  \n",
       "..                             ...  \n",
       "495                            0.0  \n",
       "496                            1.0  \n",
       "497                            0.0  \n",
       "498                            1.0  \n",
       "499                            1.0  \n",
       "\n",
       "[500 rows x 8 columns]"
      ]
     },
     "execution_count": 7,
     "metadata": {},
     "output_type": "execute_result"
    }
   ],
   "source": [
    "# May output other than 0 or 1\n",
    "# system_msg_eval = \"\"\"Given a question, a correct answer, and a prediction, evaluate if the prediction and the correct answer match semantically. \\\n",
    "# Output '1' if they have similar meanings, are synonyms, or if one is a more specific or general version of the other. Otherwise, output '0'.\"\"\"\n",
    "\n",
    "system_msg_eval = \"\"\"Given a question, a correct answer, and a prediction, evaluate whether the prediction and the correct answer match semantically. \\\n",
    "Output '1' if they convey similar meanings, including when the prediction is more specific, more general, or a synonym of the correct answer. Otherwise, output '0'.\"\"\"\n",
    "\n",
    "wh_count = 0\n",
    "wh_correct = 0\n",
    "for i in df_wh.index[:]:\n",
    "    question, label, output = df_wh.loc[i, 'question'], df_wh.loc[i, 'label'], df_wh.loc[i, f\"output_{model_id}\"]\n",
    "    prompt_eval = f\"\"\"The inputs are given as below: \\nquestion: {question} \\n\\ncorrect answer: {label} \\n\\nprediction: {output}\\n\"\"\"\n",
    "\n",
    "    eval_res = 0\n",
    "    wh_count += 1\n",
    "\n",
    "    if output.lower() in label.lower() or label.lower() in output.lower():  # Rule-basd fuzzy match\n",
    "        wh_correct += 1\n",
    "        eval_res = 1\n",
    "    else:\n",
    "        messages = [{\"role\": \"system\", \"content\": system_msg_eval}, {\"role\": \"user\", \"content\": prompt_eval+\" Only output '1' or '0'.\"}]\n",
    "        msg_tokenized = tok.apply_chat_template(messages, add_generation_prompt=True, return_tensors='pt')\n",
    "        output_ids = model_eval.generate(msg_tokenized.to(device_eval), max_new_tokens=1, eos_token_id=terminators, do_sample=False, pad_token_id=tok.eos_token_id)\n",
    "        response_str = tok.decode(output_ids[0][msg_tokenized.shape[-1]:], skip_special_tokens=True)\n",
    "\n",
    "        if response_str == '1':\n",
    "            wh_correct += 1\n",
    "            eval_res = 1\n",
    "            \n",
    "    df_wh.loc[i, f\"eval_{model_id_format}\"] = eval_res\n",
    "print(f\"[GPT] The wh question accuracy of the language model is {wh_correct / wh_count}\")\n",
    "df_wh[df_wh[f\"eval_{model_id_format}\"] == 0].to_csv(f\"../data/questions/wh_only/hallucination_only/{domain_topic_name}_{model_id_format}_eval.csv\", index=False)\n",
    "df_wh[df_wh[f\"eval_{model_id_format}\"] == 1]"
   ]
  },
  {
   "cell_type": "code",
   "execution_count": 16,
   "metadata": {},
   "outputs": [
    {
     "name": "stdout",
     "output_type": "stream",
     "text": [
      "[Sentence Transformer] The wh question accuracy of the language model is 0.418\n"
     ]
    }
   ],
   "source": [
    "from sentence_transformers import SentenceTransformer, util\n",
    "\n",
    "ls_label = df_wh.label.tolist()\n",
    "\n",
    "wh_count = 0\n",
    "wh_correct = 0\n",
    "model_name = 'paraphrase-MiniLM-L6-v2'\n",
    "model = SentenceTransformer(model_name)\n",
    "for i in df_wh.index[:]:\n",
    "    question, label = df_wh.loc[i, 'question'], df_wh.loc[i, 'label']\n",
    "    output = df_wh.loc[i, f\"output_{model_id}\"]\n",
    "    flag = False\n",
    "\n",
    "    wh_count += 1\n",
    "    embeddings = model.encode([label, output])\n",
    "    similarity_score = util.cos_sim(embeddings[0], embeddings[1])\n",
    "    threshold = 0.6\n",
    "    if similarity_score >= threshold:\n",
    "        wh_correct += 1\n",
    "        flag = True\n",
    "        \n",
    "wh_acc_dict = {\"wh_accuracy\": wh_correct/wh_count}\n",
    "print(f\"[Sentence Transformer] The wh question accuracy of the language model is {wh_correct / wh_count}\")"
   ]
  },
  {
   "cell_type": "code",
   "execution_count": 18,
   "metadata": {},
   "outputs": [
    {
     "name": "stderr",
     "output_type": "stream",
     "text": [
      "huggingface/tokenizers: The current process just got forked, after parallelism has already been used. Disabling parallelism to avoid deadlocks...\n",
      "To disable this warning, you can either:\n",
      "\t- Avoid using `tokenizers` before the fork if possible\n",
      "\t- Explicitly set the environment variable TOKENIZERS_PARALLELISM=(true | false)\n"
     ]
    },
    {
     "name": "stdout",
     "output_type": "stream",
     "text": [
      "[GPT] The wh question accuracy of the language model is 0.694\n"
     ]
    },
    {
     "data": {
      "text/html": [
       "<div>\n",
       "<style scoped>\n",
       "    .dataframe tbody tr th:only-of-type {\n",
       "        vertical-align: middle;\n",
       "    }\n",
       "\n",
       "    .dataframe tbody tr th {\n",
       "        vertical-align: top;\n",
       "    }\n",
       "\n",
       "    .dataframe thead th {\n",
       "        text-align: right;\n",
       "    }\n",
       "</style>\n",
       "<table border=\"1\" class=\"dataframe\">\n",
       "  <thead>\n",
       "    <tr style=\"text-align: right;\">\n",
       "      <th></th>\n",
       "      <th>type</th>\n",
       "      <th>subject</th>\n",
       "      <th>relation</th>\n",
       "      <th>object</th>\n",
       "      <th>question</th>\n",
       "      <th>label</th>\n",
       "      <th>output_meta-llama/Meta-Llama-3-8B-Instruct</th>\n",
       "      <th>eval_meta-llama/Meta-Llama-3-8B-Instruct</th>\n",
       "    </tr>\n",
       "  </thead>\n",
       "  <tbody>\n",
       "    <tr>\n",
       "      <th>1000</th>\n",
       "      <td>wh</td>\n",
       "      <td>Ontario</td>\n",
       "      <td>located in the administrative territorial entity</td>\n",
       "      <td>Niagara Falls</td>\n",
       "      <td>Which tourist attraction's located in the admi...</td>\n",
       "      <td>Niagara Falls</td>\n",
       "      <td>Niagara Falls</td>\n",
       "      <td>1.0</td>\n",
       "    </tr>\n",
       "    <tr>\n",
       "      <th>1001</th>\n",
       "      <td>wh</td>\n",
       "      <td>Alexandrov Kremlin</td>\n",
       "      <td>country</td>\n",
       "      <td>Russia</td>\n",
       "      <td>What is the country of Alexandrov Kremlin?</td>\n",
       "      <td>Russia</td>\n",
       "      <td>Russia</td>\n",
       "      <td>1.0</td>\n",
       "    </tr>\n",
       "    <tr>\n",
       "      <th>1002</th>\n",
       "      <td>wh</td>\n",
       "      <td>Alexandrov Kremlin</td>\n",
       "      <td>located in the administrative territorial entity</td>\n",
       "      <td>Alexandrov</td>\n",
       "      <td>Who is the located in the administrative terri...</td>\n",
       "      <td>Alexandrov</td>\n",
       "      <td>Alexandrov</td>\n",
       "      <td>1.0</td>\n",
       "    </tr>\n",
       "    <tr>\n",
       "      <th>1003</th>\n",
       "      <td>wh</td>\n",
       "      <td>Bukit Panjang</td>\n",
       "      <td>located in the administrative territorial entity</td>\n",
       "      <td>Bukit Timah Nature Reserve</td>\n",
       "      <td>Which tourist attraction's located in the admi...</td>\n",
       "      <td>Bukit Timah Nature Reserve</td>\n",
       "      <td>Haw Par Villa</td>\n",
       "      <td>0.0</td>\n",
       "    </tr>\n",
       "    <tr>\n",
       "      <th>1004</th>\n",
       "      <td>wh</td>\n",
       "      <td>Kastelholm Castle</td>\n",
       "      <td>country</td>\n",
       "      <td>Finland</td>\n",
       "      <td>What is the country of Kastelholm Castle?</td>\n",
       "      <td>Finland</td>\n",
       "      <td>Finland</td>\n",
       "      <td>1.0</td>\n",
       "    </tr>\n",
       "    <tr>\n",
       "      <th>...</th>\n",
       "      <td>...</td>\n",
       "      <td>...</td>\n",
       "      <td>...</td>\n",
       "      <td>...</td>\n",
       "      <td>...</td>\n",
       "      <td>...</td>\n",
       "      <td>...</td>\n",
       "      <td>...</td>\n",
       "    </tr>\n",
       "    <tr>\n",
       "      <th>1495</th>\n",
       "      <td>wh</td>\n",
       "      <td>Thornton Tomasetti</td>\n",
       "      <td>structural engineer</td>\n",
       "      <td>Petronas Towers</td>\n",
       "      <td>Which tourist attraction's structural engineer...</td>\n",
       "      <td>Petronas Towers</td>\n",
       "      <td>One World Trade</td>\n",
       "      <td>0.0</td>\n",
       "    </tr>\n",
       "    <tr>\n",
       "      <th>1496</th>\n",
       "      <td>wh</td>\n",
       "      <td>Charles II of England</td>\n",
       "      <td>occupant</td>\n",
       "      <td>Windsor Castle</td>\n",
       "      <td>Which tourist attraction's occupant is Charles...</td>\n",
       "      <td>Windsor Castle</td>\n",
       "      <td>Westminster Abbey</td>\n",
       "      <td>0.0</td>\n",
       "    </tr>\n",
       "    <tr>\n",
       "      <th>1497</th>\n",
       "      <td>wh</td>\n",
       "      <td>Charles II of England</td>\n",
       "      <td>founded by</td>\n",
       "      <td>Royal Observatory</td>\n",
       "      <td>Which tourist attraction was founded by Charle...</td>\n",
       "      <td>Royal Observatory</td>\n",
       "      <td>St. Paul's</td>\n",
       "      <td>0.0</td>\n",
       "    </tr>\n",
       "    <tr>\n",
       "      <th>1498</th>\n",
       "      <td>wh</td>\n",
       "      <td>Gateway Arch</td>\n",
       "      <td>located in protected area</td>\n",
       "      <td>Gateway Arch National Park</td>\n",
       "      <td>What is the located in protected area of Gatew...</td>\n",
       "      <td>Gateway Arch National Park</td>\n",
       "      <td>Jefferson National Park</td>\n",
       "      <td>1.0</td>\n",
       "    </tr>\n",
       "    <tr>\n",
       "      <th>1499</th>\n",
       "      <td>wh</td>\n",
       "      <td>Gateway Arch</td>\n",
       "      <td>heritage designation</td>\n",
       "      <td>National Historic Landmark</td>\n",
       "      <td>What is the heritage designation of Gateway Arch?</td>\n",
       "      <td>National Historic Landmark</td>\n",
       "      <td>National</td>\n",
       "      <td>1.0</td>\n",
       "    </tr>\n",
       "  </tbody>\n",
       "</table>\n",
       "<p>500 rows × 8 columns</p>\n",
       "</div>"
      ],
      "text/plain": [
       "     type                subject  \\\n",
       "1000   wh                Ontario   \n",
       "1001   wh     Alexandrov Kremlin   \n",
       "1002   wh     Alexandrov Kremlin   \n",
       "1003   wh          Bukit Panjang   \n",
       "1004   wh      Kastelholm Castle   \n",
       "...   ...                    ...   \n",
       "1495   wh     Thornton Tomasetti   \n",
       "1496   wh  Charles II of England   \n",
       "1497   wh  Charles II of England   \n",
       "1498   wh           Gateway Arch   \n",
       "1499   wh           Gateway Arch   \n",
       "\n",
       "                                              relation  \\\n",
       "1000  located in the administrative territorial entity   \n",
       "1001                                           country   \n",
       "1002  located in the administrative territorial entity   \n",
       "1003  located in the administrative territorial entity   \n",
       "1004                                           country   \n",
       "...                                                ...   \n",
       "1495                               structural engineer   \n",
       "1496                                          occupant   \n",
       "1497                                        founded by   \n",
       "1498                         located in protected area   \n",
       "1499                              heritage designation   \n",
       "\n",
       "                          object  \\\n",
       "1000               Niagara Falls   \n",
       "1001                      Russia   \n",
       "1002                  Alexandrov   \n",
       "1003  Bukit Timah Nature Reserve   \n",
       "1004                     Finland   \n",
       "...                          ...   \n",
       "1495             Petronas Towers   \n",
       "1496              Windsor Castle   \n",
       "1497           Royal Observatory   \n",
       "1498  Gateway Arch National Park   \n",
       "1499  National Historic Landmark   \n",
       "\n",
       "                                               question  \\\n",
       "1000  Which tourist attraction's located in the admi...   \n",
       "1001         What is the country of Alexandrov Kremlin?   \n",
       "1002  Who is the located in the administrative terri...   \n",
       "1003  Which tourist attraction's located in the admi...   \n",
       "1004          What is the country of Kastelholm Castle?   \n",
       "...                                                 ...   \n",
       "1495  Which tourist attraction's structural engineer...   \n",
       "1496  Which tourist attraction's occupant is Charles...   \n",
       "1497  Which tourist attraction was founded by Charle...   \n",
       "1498  What is the located in protected area of Gatew...   \n",
       "1499  What is the heritage designation of Gateway Arch?   \n",
       "\n",
       "                           label output_meta-llama/Meta-Llama-3-8B-Instruct  \\\n",
       "1000               Niagara Falls                              Niagara Falls   \n",
       "1001                      Russia                                     Russia   \n",
       "1002                  Alexandrov                                 Alexandrov   \n",
       "1003  Bukit Timah Nature Reserve                              Haw Par Villa   \n",
       "1004                     Finland                                    Finland   \n",
       "...                          ...                                        ...   \n",
       "1495             Petronas Towers                            One World Trade   \n",
       "1496              Windsor Castle                          Westminster Abbey   \n",
       "1497           Royal Observatory                                 St. Paul's   \n",
       "1498  Gateway Arch National Park                    Jefferson National Park   \n",
       "1499  National Historic Landmark                                   National   \n",
       "\n",
       "      eval_meta-llama/Meta-Llama-3-8B-Instruct  \n",
       "1000                                       1.0  \n",
       "1001                                       1.0  \n",
       "1002                                       1.0  \n",
       "1003                                       0.0  \n",
       "1004                                       1.0  \n",
       "...                                        ...  \n",
       "1495                                       0.0  \n",
       "1496                                       0.0  \n",
       "1497                                       0.0  \n",
       "1498                                       1.0  \n",
       "1499                                       1.0  \n",
       "\n",
       "[500 rows x 8 columns]"
      ]
     },
     "execution_count": 18,
     "metadata": {},
     "output_type": "execute_result"
    }
   ],
   "source": [
    "llm_name = 'gpt-35-turbo'\n",
    "\n",
    "wh_count = 0\n",
    "wh_correct = 0\n",
    "for i in df_wh.index[:]:\n",
    "    question, label = df_wh.loc[i, 'question'], df_wh.loc[i, 'label']\n",
    "    output = df_wh.loc[i, f\"output_{model_id}\"]\n",
    "    \n",
    "    info = \"Question: \"+question+ \"\\nModel Answer: \"+label + \"\\nAI model generated answer: \" + output \\\n",
    "        + \"\\n. The above question's topic is \" + domain_topic_name  + \". \"\n",
    "    string = \"\"\"\\n Please evaluate the correctness of the AI model's answer compared to the model answer. \n",
    "        Consider the following criteria and provide your judgment:\n",
    "        If the AI's answer is a more specific version of the model answer, please respond with: \"Correct\"\n",
    "        If the AI's answer is a more general version of the model answer, please respond with: \"Correct\".\n",
    "        If the AI's answer is a closely related to the model answer, please respond with: \"Correct\".\n",
    "        If the AI's answer and the model answer are entirely different entities with no direct relationship, please respond with: \"Incorrect\".\n",
    "        \"\"\"\n",
    "\n",
    "    wh_count += 1\n",
    "    raw_response = client.chat.completions.create(\n",
    "        model=llm_name, \n",
    "        messages=[{\"role\": \"system\", \"content\": \"\"}, {\"role\": \"user\", \"content\": info + string}], \n",
    "        temperature=0\n",
    "    )\n",
    "    response_str = raw_response.choices[0].message.content.strip().replace('\\n\\n\\n', '\\n\\n')\n",
    "    # response_str\n",
    "\n",
    "    if response_str and response_str.rstrip('.') == \"Correct\":\n",
    "        wh_correct += 1\n",
    "        df_wh.loc[i, f\"eval_{model_id}\"] = 1\n",
    "    else:\n",
    "        df_wh.loc[i, f\"eval_{model_id}\"] = 0\n",
    "print(f\"[GPT] The wh question accuracy of the language model is {wh_correct / wh_count}\")\n",
    "df_wh"
   ]
  },
  {
   "cell_type": "code",
   "execution_count": 19,
   "metadata": {},
   "outputs": [
    {
     "name": "stdout",
     "output_type": "stream",
     "text": [
      "[GPT] The wh question accuracy of the language model is 0.252\n"
     ]
    },
    {
     "data": {
      "text/html": [
       "<div>\n",
       "<style scoped>\n",
       "    .dataframe tbody tr th:only-of-type {\n",
       "        vertical-align: middle;\n",
       "    }\n",
       "\n",
       "    .dataframe tbody tr th {\n",
       "        vertical-align: top;\n",
       "    }\n",
       "\n",
       "    .dataframe thead th {\n",
       "        text-align: right;\n",
       "    }\n",
       "</style>\n",
       "<table border=\"1\" class=\"dataframe\">\n",
       "  <thead>\n",
       "    <tr style=\"text-align: right;\">\n",
       "      <th></th>\n",
       "      <th>type</th>\n",
       "      <th>subject</th>\n",
       "      <th>relation</th>\n",
       "      <th>object</th>\n",
       "      <th>question</th>\n",
       "      <th>label</th>\n",
       "      <th>output_meta-llama/Meta-Llama-3-8B-Instruct</th>\n",
       "      <th>eval_meta-llama/Meta-Llama-3-8B-Instruct</th>\n",
       "    </tr>\n",
       "  </thead>\n",
       "  <tbody>\n",
       "    <tr>\n",
       "      <th>1000</th>\n",
       "      <td>wh</td>\n",
       "      <td>Ontario</td>\n",
       "      <td>located in the administrative territorial entity</td>\n",
       "      <td>Niagara Falls</td>\n",
       "      <td>Which tourist attraction's located in the admi...</td>\n",
       "      <td>Niagara Falls</td>\n",
       "      <td>Niagara Falls</td>\n",
       "      <td>1.0</td>\n",
       "    </tr>\n",
       "    <tr>\n",
       "      <th>1001</th>\n",
       "      <td>wh</td>\n",
       "      <td>Alexandrov Kremlin</td>\n",
       "      <td>country</td>\n",
       "      <td>Russia</td>\n",
       "      <td>What is the country of Alexandrov Kremlin?</td>\n",
       "      <td>Russia</td>\n",
       "      <td>Russia</td>\n",
       "      <td>1.0</td>\n",
       "    </tr>\n",
       "    <tr>\n",
       "      <th>1002</th>\n",
       "      <td>wh</td>\n",
       "      <td>Alexandrov Kremlin</td>\n",
       "      <td>located in the administrative territorial entity</td>\n",
       "      <td>Alexandrov</td>\n",
       "      <td>Who is the located in the administrative terri...</td>\n",
       "      <td>Alexandrov</td>\n",
       "      <td>Alexandrov</td>\n",
       "      <td>1.0</td>\n",
       "    </tr>\n",
       "    <tr>\n",
       "      <th>1003</th>\n",
       "      <td>wh</td>\n",
       "      <td>Bukit Panjang</td>\n",
       "      <td>located in the administrative territorial entity</td>\n",
       "      <td>Bukit Timah Nature Reserve</td>\n",
       "      <td>Which tourist attraction's located in the admi...</td>\n",
       "      <td>Bukit Timah Nature Reserve</td>\n",
       "      <td>Haw Par Villa</td>\n",
       "      <td>0.0</td>\n",
       "    </tr>\n",
       "    <tr>\n",
       "      <th>1004</th>\n",
       "      <td>wh</td>\n",
       "      <td>Kastelholm Castle</td>\n",
       "      <td>country</td>\n",
       "      <td>Finland</td>\n",
       "      <td>What is the country of Kastelholm Castle?</td>\n",
       "      <td>Finland</td>\n",
       "      <td>Finland</td>\n",
       "      <td>1.0</td>\n",
       "    </tr>\n",
       "    <tr>\n",
       "      <th>...</th>\n",
       "      <td>...</td>\n",
       "      <td>...</td>\n",
       "      <td>...</td>\n",
       "      <td>...</td>\n",
       "      <td>...</td>\n",
       "      <td>...</td>\n",
       "      <td>...</td>\n",
       "      <td>...</td>\n",
       "    </tr>\n",
       "    <tr>\n",
       "      <th>1495</th>\n",
       "      <td>wh</td>\n",
       "      <td>Thornton Tomasetti</td>\n",
       "      <td>structural engineer</td>\n",
       "      <td>Petronas Towers</td>\n",
       "      <td>Which tourist attraction's structural engineer...</td>\n",
       "      <td>Petronas Towers</td>\n",
       "      <td>One World Trade</td>\n",
       "      <td>0.0</td>\n",
       "    </tr>\n",
       "    <tr>\n",
       "      <th>1496</th>\n",
       "      <td>wh</td>\n",
       "      <td>Charles II of England</td>\n",
       "      <td>occupant</td>\n",
       "      <td>Windsor Castle</td>\n",
       "      <td>Which tourist attraction's occupant is Charles...</td>\n",
       "      <td>Windsor Castle</td>\n",
       "      <td>Westminster Abbey</td>\n",
       "      <td>0.0</td>\n",
       "    </tr>\n",
       "    <tr>\n",
       "      <th>1497</th>\n",
       "      <td>wh</td>\n",
       "      <td>Charles II of England</td>\n",
       "      <td>founded by</td>\n",
       "      <td>Royal Observatory</td>\n",
       "      <td>Which tourist attraction was founded by Charle...</td>\n",
       "      <td>Royal Observatory</td>\n",
       "      <td>St. Paul's</td>\n",
       "      <td>0.0</td>\n",
       "    </tr>\n",
       "    <tr>\n",
       "      <th>1498</th>\n",
       "      <td>wh</td>\n",
       "      <td>Gateway Arch</td>\n",
       "      <td>located in protected area</td>\n",
       "      <td>Gateway Arch National Park</td>\n",
       "      <td>What is the located in protected area of Gatew...</td>\n",
       "      <td>Gateway Arch National Park</td>\n",
       "      <td>Jefferson National Park</td>\n",
       "      <td>0.0</td>\n",
       "    </tr>\n",
       "    <tr>\n",
       "      <th>1499</th>\n",
       "      <td>wh</td>\n",
       "      <td>Gateway Arch</td>\n",
       "      <td>heritage designation</td>\n",
       "      <td>National Historic Landmark</td>\n",
       "      <td>What is the heritage designation of Gateway Arch?</td>\n",
       "      <td>National Historic Landmark</td>\n",
       "      <td>National</td>\n",
       "      <td>0.0</td>\n",
       "    </tr>\n",
       "  </tbody>\n",
       "</table>\n",
       "<p>500 rows × 8 columns</p>\n",
       "</div>"
      ],
      "text/plain": [
       "     type                subject  \\\n",
       "1000   wh                Ontario   \n",
       "1001   wh     Alexandrov Kremlin   \n",
       "1002   wh     Alexandrov Kremlin   \n",
       "1003   wh          Bukit Panjang   \n",
       "1004   wh      Kastelholm Castle   \n",
       "...   ...                    ...   \n",
       "1495   wh     Thornton Tomasetti   \n",
       "1496   wh  Charles II of England   \n",
       "1497   wh  Charles II of England   \n",
       "1498   wh           Gateway Arch   \n",
       "1499   wh           Gateway Arch   \n",
       "\n",
       "                                              relation  \\\n",
       "1000  located in the administrative territorial entity   \n",
       "1001                                           country   \n",
       "1002  located in the administrative territorial entity   \n",
       "1003  located in the administrative territorial entity   \n",
       "1004                                           country   \n",
       "...                                                ...   \n",
       "1495                               structural engineer   \n",
       "1496                                          occupant   \n",
       "1497                                        founded by   \n",
       "1498                         located in protected area   \n",
       "1499                              heritage designation   \n",
       "\n",
       "                          object  \\\n",
       "1000               Niagara Falls   \n",
       "1001                      Russia   \n",
       "1002                  Alexandrov   \n",
       "1003  Bukit Timah Nature Reserve   \n",
       "1004                     Finland   \n",
       "...                          ...   \n",
       "1495             Petronas Towers   \n",
       "1496              Windsor Castle   \n",
       "1497           Royal Observatory   \n",
       "1498  Gateway Arch National Park   \n",
       "1499  National Historic Landmark   \n",
       "\n",
       "                                               question  \\\n",
       "1000  Which tourist attraction's located in the admi...   \n",
       "1001         What is the country of Alexandrov Kremlin?   \n",
       "1002  Who is the located in the administrative terri...   \n",
       "1003  Which tourist attraction's located in the admi...   \n",
       "1004          What is the country of Kastelholm Castle?   \n",
       "...                                                 ...   \n",
       "1495  Which tourist attraction's structural engineer...   \n",
       "1496  Which tourist attraction's occupant is Charles...   \n",
       "1497  Which tourist attraction was founded by Charle...   \n",
       "1498  What is the located in protected area of Gatew...   \n",
       "1499  What is the heritage designation of Gateway Arch?   \n",
       "\n",
       "                           label output_meta-llama/Meta-Llama-3-8B-Instruct  \\\n",
       "1000               Niagara Falls                              Niagara Falls   \n",
       "1001                      Russia                                     Russia   \n",
       "1002                  Alexandrov                                 Alexandrov   \n",
       "1003  Bukit Timah Nature Reserve                              Haw Par Villa   \n",
       "1004                     Finland                                    Finland   \n",
       "...                          ...                                        ...   \n",
       "1495             Petronas Towers                            One World Trade   \n",
       "1496              Windsor Castle                          Westminster Abbey   \n",
       "1497           Royal Observatory                                 St. Paul's   \n",
       "1498  Gateway Arch National Park                    Jefferson National Park   \n",
       "1499  National Historic Landmark                                   National   \n",
       "\n",
       "      eval_meta-llama/Meta-Llama-3-8B-Instruct  \n",
       "1000                                       1.0  \n",
       "1001                                       1.0  \n",
       "1002                                       1.0  \n",
       "1003                                       0.0  \n",
       "1004                                       1.0  \n",
       "...                                        ...  \n",
       "1495                                       0.0  \n",
       "1496                                       0.0  \n",
       "1497                                       0.0  \n",
       "1498                                       0.0  \n",
       "1499                                       0.0  \n",
       "\n",
       "[500 rows x 8 columns]"
      ]
     },
     "execution_count": 19,
     "metadata": {},
     "output_type": "execute_result"
    }
   ],
   "source": [
    "llm_name = 'gpt-35-turbo'\n",
    "topic = 'health_medication'\n",
    "\n",
    "system_msg_eval = \"Given two texts, labeled as Text 1 and Text 2, output '1' if they match each other semantically, and output '0' if they do not.\"\n",
    "\n",
    "wh_count = 0\n",
    "wh_correct = 0\n",
    "for i in df_wh.index[:]:\n",
    "    question, label = df_wh.loc[i, 'question'], df_wh.loc[i, 'label']\n",
    "    output = df_wh.loc[i, f\"output_{model_id}\"]\n",
    "    \n",
    "    # info = \"Question: \"+question+ \"\\nModel Answer: \"+label + \"\\nAI model generated answer: \" + output \\\n",
    "    #     + \"\\n. The above question's topic is \" + topic  + \". \"\n",
    "    prompt_eval = f\"\"\"The input texts are given as below: \\nText 1: {label} \\n\\nText 2: {output}\\n\"\"\"\n",
    "    \n",
    "    wh_count += 1\n",
    "    raw_response = client.chat.completions.create(\n",
    "        model=llm_name, \n",
    "        messages=[{\"role\": \"system\", \"content\": system_msg_eval}, {\"role\": \"user\", \"content\": prompt_eval}], \n",
    "        temperature=0\n",
    "    )\n",
    "    response_str = raw_response.choices[0].message.content.strip().replace('\\n\\n\\n', '\\n\\n')\n",
    "\n",
    "    if str(response_str) == '1':\n",
    "        wh_correct += 1\n",
    "        df_wh.loc[i, f\"eval_{model_id}\"] = 1\n",
    "    else:\n",
    "        df_wh.loc[i, f\"eval_{model_id}\"] = 0\n",
    "print(f\"[GPT] The wh question accuracy of the language model is {wh_correct / wh_count}\")\n",
    "df_wh"
   ]
  },
  {
   "cell_type": "code",
   "execution_count": 21,
   "metadata": {},
   "outputs": [
    {
     "data": {
      "text/html": [
       "<div>\n",
       "<style scoped>\n",
       "    .dataframe tbody tr th:only-of-type {\n",
       "        vertical-align: middle;\n",
       "    }\n",
       "\n",
       "    .dataframe tbody tr th {\n",
       "        vertical-align: top;\n",
       "    }\n",
       "\n",
       "    .dataframe thead th {\n",
       "        text-align: right;\n",
       "    }\n",
       "</style>\n",
       "<table border=\"1\" class=\"dataframe\">\n",
       "  <thead>\n",
       "    <tr style=\"text-align: right;\">\n",
       "      <th></th>\n",
       "      <th>type</th>\n",
       "      <th>subject</th>\n",
       "      <th>relation</th>\n",
       "      <th>object</th>\n",
       "      <th>question</th>\n",
       "      <th>label</th>\n",
       "      <th>output_meta-llama/Meta-Llama-3-8B-Instruct</th>\n",
       "      <th>eval_meta-llama/Meta-Llama-3-8B-Instruct</th>\n",
       "    </tr>\n",
       "  </thead>\n",
       "  <tbody>\n",
       "    <tr>\n",
       "      <th>1000</th>\n",
       "      <td>wh</td>\n",
       "      <td>Ontario</td>\n",
       "      <td>located in the administrative territorial entity</td>\n",
       "      <td>Niagara Falls</td>\n",
       "      <td>Which tourist attraction's located in the admi...</td>\n",
       "      <td>Niagara Falls</td>\n",
       "      <td>Niagara Falls</td>\n",
       "      <td>1.0</td>\n",
       "    </tr>\n",
       "    <tr>\n",
       "      <th>1001</th>\n",
       "      <td>wh</td>\n",
       "      <td>Alexandrov Kremlin</td>\n",
       "      <td>country</td>\n",
       "      <td>Russia</td>\n",
       "      <td>What is the country of Alexandrov Kremlin?</td>\n",
       "      <td>Russia</td>\n",
       "      <td>Russia</td>\n",
       "      <td>1.0</td>\n",
       "    </tr>\n",
       "    <tr>\n",
       "      <th>1002</th>\n",
       "      <td>wh</td>\n",
       "      <td>Alexandrov Kremlin</td>\n",
       "      <td>located in the administrative territorial entity</td>\n",
       "      <td>Alexandrov</td>\n",
       "      <td>Who is the located in the administrative terri...</td>\n",
       "      <td>Alexandrov</td>\n",
       "      <td>Alexandrov</td>\n",
       "      <td>1.0</td>\n",
       "    </tr>\n",
       "    <tr>\n",
       "      <th>1004</th>\n",
       "      <td>wh</td>\n",
       "      <td>Kastelholm Castle</td>\n",
       "      <td>country</td>\n",
       "      <td>Finland</td>\n",
       "      <td>What is the country of Kastelholm Castle?</td>\n",
       "      <td>Finland</td>\n",
       "      <td>Finland</td>\n",
       "      <td>1.0</td>\n",
       "    </tr>\n",
       "    <tr>\n",
       "      <th>1012</th>\n",
       "      <td>wh</td>\n",
       "      <td>John Rylands Library</td>\n",
       "      <td>country</td>\n",
       "      <td>United Kingdom</td>\n",
       "      <td>What is the country of John Rylands Library?</td>\n",
       "      <td>United Kingdom</td>\n",
       "      <td>United Kingdom</td>\n",
       "      <td>1.0</td>\n",
       "    </tr>\n",
       "    <tr>\n",
       "      <th>...</th>\n",
       "      <td>...</td>\n",
       "      <td>...</td>\n",
       "      <td>...</td>\n",
       "      <td>...</td>\n",
       "      <td>...</td>\n",
       "      <td>...</td>\n",
       "      <td>...</td>\n",
       "      <td>...</td>\n",
       "    </tr>\n",
       "    <tr>\n",
       "      <th>1474</th>\n",
       "      <td>wh</td>\n",
       "      <td>Jōshin'etsu-kōgen National Park</td>\n",
       "      <td>located in protected area</td>\n",
       "      <td>Shiga Highlands</td>\n",
       "      <td>Which tourist attraction's located in protecte...</td>\n",
       "      <td>Shiga Highlands</td>\n",
       "      <td>Shiga Kogen</td>\n",
       "      <td>1.0</td>\n",
       "    </tr>\n",
       "    <tr>\n",
       "      <th>1475</th>\n",
       "      <td>wh</td>\n",
       "      <td>Mount Kilimanjaro</td>\n",
       "      <td>country</td>\n",
       "      <td>Tanzania</td>\n",
       "      <td>What is the country of Mount Kilimanjaro?</td>\n",
       "      <td>Tanzania</td>\n",
       "      <td>Tanzania</td>\n",
       "      <td>1.0</td>\n",
       "    </tr>\n",
       "    <tr>\n",
       "      <th>1484</th>\n",
       "      <td>wh</td>\n",
       "      <td>Night Safari</td>\n",
       "      <td>country</td>\n",
       "      <td>Singapore</td>\n",
       "      <td>What is the country of Night Safari?</td>\n",
       "      <td>Singapore</td>\n",
       "      <td>Singapore</td>\n",
       "      <td>1.0</td>\n",
       "    </tr>\n",
       "    <tr>\n",
       "      <th>1489</th>\n",
       "      <td>wh</td>\n",
       "      <td>St Paul's Cathedral</td>\n",
       "      <td>architect</td>\n",
       "      <td>Christopher Wren</td>\n",
       "      <td>Who does St Paul's Cathedral architect?</td>\n",
       "      <td>Christopher Wren</td>\n",
       "      <td>Christopher Wren</td>\n",
       "      <td>1.0</td>\n",
       "    </tr>\n",
       "    <tr>\n",
       "      <th>1491</th>\n",
       "      <td>wh</td>\n",
       "      <td>St Paul's Cathedral</td>\n",
       "      <td>country</td>\n",
       "      <td>United Kingdom</td>\n",
       "      <td>What is the country of St Paul's Cathedral?</td>\n",
       "      <td>United Kingdom</td>\n",
       "      <td>United Kingdom</td>\n",
       "      <td>1.0</td>\n",
       "    </tr>\n",
       "  </tbody>\n",
       "</table>\n",
       "<p>139 rows × 8 columns</p>\n",
       "</div>"
      ],
      "text/plain": [
       "     type                          subject  \\\n",
       "1000   wh                          Ontario   \n",
       "1001   wh               Alexandrov Kremlin   \n",
       "1002   wh               Alexandrov Kremlin   \n",
       "1004   wh                Kastelholm Castle   \n",
       "1012   wh             John Rylands Library   \n",
       "...   ...                              ...   \n",
       "1474   wh  Jōshin'etsu-kōgen National Park   \n",
       "1475   wh                Mount Kilimanjaro   \n",
       "1484   wh                     Night Safari   \n",
       "1489   wh              St Paul's Cathedral   \n",
       "1491   wh              St Paul's Cathedral   \n",
       "\n",
       "                                              relation            object  \\\n",
       "1000  located in the administrative territorial entity     Niagara Falls   \n",
       "1001                                           country            Russia   \n",
       "1002  located in the administrative territorial entity        Alexandrov   \n",
       "1004                                           country           Finland   \n",
       "1012                                           country    United Kingdom   \n",
       "...                                                ...               ...   \n",
       "1474                         located in protected area   Shiga Highlands   \n",
       "1475                                           country          Tanzania   \n",
       "1484                                           country         Singapore   \n",
       "1489                                         architect  Christopher Wren   \n",
       "1491                                           country    United Kingdom   \n",
       "\n",
       "                                               question             label  \\\n",
       "1000  Which tourist attraction's located in the admi...     Niagara Falls   \n",
       "1001         What is the country of Alexandrov Kremlin?            Russia   \n",
       "1002  Who is the located in the administrative terri...        Alexandrov   \n",
       "1004          What is the country of Kastelholm Castle?           Finland   \n",
       "1012       What is the country of John Rylands Library?    United Kingdom   \n",
       "...                                                 ...               ...   \n",
       "1474  Which tourist attraction's located in protecte...   Shiga Highlands   \n",
       "1475          What is the country of Mount Kilimanjaro?          Tanzania   \n",
       "1484               What is the country of Night Safari?         Singapore   \n",
       "1489            Who does St Paul's Cathedral architect?  Christopher Wren   \n",
       "1491        What is the country of St Paul's Cathedral?    United Kingdom   \n",
       "\n",
       "     output_meta-llama/Meta-Llama-3-8B-Instruct  \\\n",
       "1000                              Niagara Falls   \n",
       "1001                                     Russia   \n",
       "1002                                 Alexandrov   \n",
       "1004                                    Finland   \n",
       "1012                             United Kingdom   \n",
       "...                                         ...   \n",
       "1474                                Shiga Kogen   \n",
       "1475                                   Tanzania   \n",
       "1484                                  Singapore   \n",
       "1489                           Christopher Wren   \n",
       "1491                             United Kingdom   \n",
       "\n",
       "      eval_meta-llama/Meta-Llama-3-8B-Instruct  \n",
       "1000                                       1.0  \n",
       "1001                                       1.0  \n",
       "1002                                       1.0  \n",
       "1004                                       1.0  \n",
       "1012                                       1.0  \n",
       "...                                        ...  \n",
       "1474                                       1.0  \n",
       "1475                                       1.0  \n",
       "1484                                       1.0  \n",
       "1489                                       1.0  \n",
       "1491                                       1.0  \n",
       "\n",
       "[139 rows x 8 columns]"
      ]
     },
     "execution_count": 21,
     "metadata": {},
     "output_type": "execute_result"
    }
   ],
   "source": [
    "df_wh[df_wh[f\"eval_{model_id}\"]==1]"
   ]
  },
  {
   "cell_type": "code",
   "execution_count": 20,
   "metadata": {},
   "outputs": [
    {
     "name": "stdout",
     "output_type": "stream",
     "text": [
      "[GPT] The wh question accuracy of the language model is 0.278\n"
     ]
    },
    {
     "data": {
      "text/html": [
       "<div>\n",
       "<style scoped>\n",
       "    .dataframe tbody tr th:only-of-type {\n",
       "        vertical-align: middle;\n",
       "    }\n",
       "\n",
       "    .dataframe tbody tr th {\n",
       "        vertical-align: top;\n",
       "    }\n",
       "\n",
       "    .dataframe thead th {\n",
       "        text-align: right;\n",
       "    }\n",
       "</style>\n",
       "<table border=\"1\" class=\"dataframe\">\n",
       "  <thead>\n",
       "    <tr style=\"text-align: right;\">\n",
       "      <th></th>\n",
       "      <th>type</th>\n",
       "      <th>subject</th>\n",
       "      <th>relation</th>\n",
       "      <th>object</th>\n",
       "      <th>question</th>\n",
       "      <th>label</th>\n",
       "      <th>output_meta-llama/Meta-Llama-3-8B-Instruct</th>\n",
       "      <th>eval_meta-llama/Meta-Llama-3-8B-Instruct</th>\n",
       "    </tr>\n",
       "  </thead>\n",
       "  <tbody>\n",
       "    <tr>\n",
       "      <th>1000</th>\n",
       "      <td>wh</td>\n",
       "      <td>Ontario</td>\n",
       "      <td>located in the administrative territorial entity</td>\n",
       "      <td>Niagara Falls</td>\n",
       "      <td>Which tourist attraction's located in the admi...</td>\n",
       "      <td>Niagara Falls</td>\n",
       "      <td>Niagara Falls</td>\n",
       "      <td>1.0</td>\n",
       "    </tr>\n",
       "    <tr>\n",
       "      <th>1001</th>\n",
       "      <td>wh</td>\n",
       "      <td>Alexandrov Kremlin</td>\n",
       "      <td>country</td>\n",
       "      <td>Russia</td>\n",
       "      <td>What is the country of Alexandrov Kremlin?</td>\n",
       "      <td>Russia</td>\n",
       "      <td>Russia</td>\n",
       "      <td>1.0</td>\n",
       "    </tr>\n",
       "    <tr>\n",
       "      <th>1002</th>\n",
       "      <td>wh</td>\n",
       "      <td>Alexandrov Kremlin</td>\n",
       "      <td>located in the administrative territorial entity</td>\n",
       "      <td>Alexandrov</td>\n",
       "      <td>Who is the located in the administrative terri...</td>\n",
       "      <td>Alexandrov</td>\n",
       "      <td>Alexandrov</td>\n",
       "      <td>1.0</td>\n",
       "    </tr>\n",
       "    <tr>\n",
       "      <th>1003</th>\n",
       "      <td>wh</td>\n",
       "      <td>Bukit Panjang</td>\n",
       "      <td>located in the administrative territorial entity</td>\n",
       "      <td>Bukit Timah Nature Reserve</td>\n",
       "      <td>Which tourist attraction's located in the admi...</td>\n",
       "      <td>Bukit Timah Nature Reserve</td>\n",
       "      <td>Haw Par Villa</td>\n",
       "      <td>0.0</td>\n",
       "    </tr>\n",
       "    <tr>\n",
       "      <th>1004</th>\n",
       "      <td>wh</td>\n",
       "      <td>Kastelholm Castle</td>\n",
       "      <td>country</td>\n",
       "      <td>Finland</td>\n",
       "      <td>What is the country of Kastelholm Castle?</td>\n",
       "      <td>Finland</td>\n",
       "      <td>Finland</td>\n",
       "      <td>1.0</td>\n",
       "    </tr>\n",
       "    <tr>\n",
       "      <th>...</th>\n",
       "      <td>...</td>\n",
       "      <td>...</td>\n",
       "      <td>...</td>\n",
       "      <td>...</td>\n",
       "      <td>...</td>\n",
       "      <td>...</td>\n",
       "      <td>...</td>\n",
       "      <td>...</td>\n",
       "    </tr>\n",
       "    <tr>\n",
       "      <th>1495</th>\n",
       "      <td>wh</td>\n",
       "      <td>Thornton Tomasetti</td>\n",
       "      <td>structural engineer</td>\n",
       "      <td>Petronas Towers</td>\n",
       "      <td>Which tourist attraction's structural engineer...</td>\n",
       "      <td>Petronas Towers</td>\n",
       "      <td>One World Trade</td>\n",
       "      <td>0.0</td>\n",
       "    </tr>\n",
       "    <tr>\n",
       "      <th>1496</th>\n",
       "      <td>wh</td>\n",
       "      <td>Charles II of England</td>\n",
       "      <td>occupant</td>\n",
       "      <td>Windsor Castle</td>\n",
       "      <td>Which tourist attraction's occupant is Charles...</td>\n",
       "      <td>Windsor Castle</td>\n",
       "      <td>Westminster Abbey</td>\n",
       "      <td>0.0</td>\n",
       "    </tr>\n",
       "    <tr>\n",
       "      <th>1497</th>\n",
       "      <td>wh</td>\n",
       "      <td>Charles II of England</td>\n",
       "      <td>founded by</td>\n",
       "      <td>Royal Observatory</td>\n",
       "      <td>Which tourist attraction was founded by Charle...</td>\n",
       "      <td>Royal Observatory</td>\n",
       "      <td>St. Paul's</td>\n",
       "      <td>0.0</td>\n",
       "    </tr>\n",
       "    <tr>\n",
       "      <th>1498</th>\n",
       "      <td>wh</td>\n",
       "      <td>Gateway Arch</td>\n",
       "      <td>located in protected area</td>\n",
       "      <td>Gateway Arch National Park</td>\n",
       "      <td>What is the located in protected area of Gatew...</td>\n",
       "      <td>Gateway Arch National Park</td>\n",
       "      <td>Jefferson National Park</td>\n",
       "      <td>0.0</td>\n",
       "    </tr>\n",
       "    <tr>\n",
       "      <th>1499</th>\n",
       "      <td>wh</td>\n",
       "      <td>Gateway Arch</td>\n",
       "      <td>heritage designation</td>\n",
       "      <td>National Historic Landmark</td>\n",
       "      <td>What is the heritage designation of Gateway Arch?</td>\n",
       "      <td>National Historic Landmark</td>\n",
       "      <td>National</td>\n",
       "      <td>0.0</td>\n",
       "    </tr>\n",
       "  </tbody>\n",
       "</table>\n",
       "<p>500 rows × 8 columns</p>\n",
       "</div>"
      ],
      "text/plain": [
       "     type                subject  \\\n",
       "1000   wh                Ontario   \n",
       "1001   wh     Alexandrov Kremlin   \n",
       "1002   wh     Alexandrov Kremlin   \n",
       "1003   wh          Bukit Panjang   \n",
       "1004   wh      Kastelholm Castle   \n",
       "...   ...                    ...   \n",
       "1495   wh     Thornton Tomasetti   \n",
       "1496   wh  Charles II of England   \n",
       "1497   wh  Charles II of England   \n",
       "1498   wh           Gateway Arch   \n",
       "1499   wh           Gateway Arch   \n",
       "\n",
       "                                              relation  \\\n",
       "1000  located in the administrative territorial entity   \n",
       "1001                                           country   \n",
       "1002  located in the administrative territorial entity   \n",
       "1003  located in the administrative territorial entity   \n",
       "1004                                           country   \n",
       "...                                                ...   \n",
       "1495                               structural engineer   \n",
       "1496                                          occupant   \n",
       "1497                                        founded by   \n",
       "1498                         located in protected area   \n",
       "1499                              heritage designation   \n",
       "\n",
       "                          object  \\\n",
       "1000               Niagara Falls   \n",
       "1001                      Russia   \n",
       "1002                  Alexandrov   \n",
       "1003  Bukit Timah Nature Reserve   \n",
       "1004                     Finland   \n",
       "...                          ...   \n",
       "1495             Petronas Towers   \n",
       "1496              Windsor Castle   \n",
       "1497           Royal Observatory   \n",
       "1498  Gateway Arch National Park   \n",
       "1499  National Historic Landmark   \n",
       "\n",
       "                                               question  \\\n",
       "1000  Which tourist attraction's located in the admi...   \n",
       "1001         What is the country of Alexandrov Kremlin?   \n",
       "1002  Who is the located in the administrative terri...   \n",
       "1003  Which tourist attraction's located in the admi...   \n",
       "1004          What is the country of Kastelholm Castle?   \n",
       "...                                                 ...   \n",
       "1495  Which tourist attraction's structural engineer...   \n",
       "1496  Which tourist attraction's occupant is Charles...   \n",
       "1497  Which tourist attraction was founded by Charle...   \n",
       "1498  What is the located in protected area of Gatew...   \n",
       "1499  What is the heritage designation of Gateway Arch?   \n",
       "\n",
       "                           label output_meta-llama/Meta-Llama-3-8B-Instruct  \\\n",
       "1000               Niagara Falls                              Niagara Falls   \n",
       "1001                      Russia                                     Russia   \n",
       "1002                  Alexandrov                                 Alexandrov   \n",
       "1003  Bukit Timah Nature Reserve                              Haw Par Villa   \n",
       "1004                     Finland                                    Finland   \n",
       "...                          ...                                        ...   \n",
       "1495             Petronas Towers                            One World Trade   \n",
       "1496              Windsor Castle                          Westminster Abbey   \n",
       "1497           Royal Observatory                                 St. Paul's   \n",
       "1498  Gateway Arch National Park                    Jefferson National Park   \n",
       "1499  National Historic Landmark                                   National   \n",
       "\n",
       "      eval_meta-llama/Meta-Llama-3-8B-Instruct  \n",
       "1000                                       1.0  \n",
       "1001                                       1.0  \n",
       "1002                                       1.0  \n",
       "1003                                       0.0  \n",
       "1004                                       1.0  \n",
       "...                                        ...  \n",
       "1495                                       0.0  \n",
       "1496                                       0.0  \n",
       "1497                                       0.0  \n",
       "1498                                       0.0  \n",
       "1499                                       0.0  \n",
       "\n",
       "[500 rows x 8 columns]"
      ]
     },
     "execution_count": 20,
     "metadata": {},
     "output_type": "execute_result"
    }
   ],
   "source": [
    "system_msg_eval = \"\"\"Given a question, a correct answer, and a prediction, evaluate whether the prediction is semantically equivalent to the correct answer. \\\n",
    "Output '1' if they are semantically equivalent, otherwise output '0'.\"\"\"\n",
    "\n",
    "wh_count = 0\n",
    "wh_correct = 0\n",
    "for i in df_wh.index[:]:\n",
    "    question, label = df_wh.loc[i, 'question'], df_wh.loc[i, 'label']\n",
    "    output = df_wh.loc[i, f\"output_{model_id}\"]\n",
    "    \n",
    "        # + \"\\n. The above question's topic is \" + topic  + \". \"\n",
    "    prompt_eval = f\"\"\"The inputs are given as below: \\nquestion: {question} \\n\\ncorrect answer: {label} \\n\\nprediction: {output}\\n\"\"\"\n",
    "    \n",
    "    wh_count += 1\n",
    "    raw_response = client.chat.completions.create(\n",
    "        model=llm_name, \n",
    "        messages=[{\"role\": \"system\", \"content\": system_msg_eval}, {\"role\": \"user\", \"content\": prompt_eval}], \n",
    "        temperature=0\n",
    "    )\n",
    "    response_str = raw_response.choices[0].message.content.strip().replace('\\n\\n\\n', '\\n\\n')\n",
    "\n",
    "    if str(response_str) == '1':\n",
    "        wh_correct += 1\n",
    "        df_wh.loc[i, f\"eval_{model_id}\"] = 1\n",
    "    else:\n",
    "        df_wh.loc[i, f\"eval_{model_id}\"] = 0\n",
    "print(f\"[GPT] The wh question accuracy of the language model is {wh_correct / wh_count}\")\n",
    "df_wh"
   ]
  },
  {
   "cell_type": "markdown",
   "metadata": {},
   "source": [
    "### Generate yes_no, portability, and locality questions\n",
    "\n",
    "2-stage filter"
   ]
  },
  {
   "cell_type": "code",
   "execution_count": 34,
   "metadata": {},
   "outputs": [
    {
     "name": "stdout",
     "output_type": "stream",
     "text": [
      "204 places_country\n"
     ]
    },
    {
     "data": {
      "text/html": [
       "<div>\n",
       "<style scoped>\n",
       "    .dataframe tbody tr th:only-of-type {\n",
       "        vertical-align: middle;\n",
       "    }\n",
       "\n",
       "    .dataframe tbody tr th {\n",
       "        vertical-align: top;\n",
       "    }\n",
       "\n",
       "    .dataframe thead th {\n",
       "        text-align: right;\n",
       "    }\n",
       "</style>\n",
       "<table border=\"1\" class=\"dataframe\">\n",
       "  <thead>\n",
       "    <tr style=\"text-align: right;\">\n",
       "      <th></th>\n",
       "      <th>topic</th>\n",
       "      <th>type</th>\n",
       "      <th>subject</th>\n",
       "      <th>relation</th>\n",
       "      <th>object</th>\n",
       "      <th>question</th>\n",
       "      <th>label</th>\n",
       "      <th>output_meta_llama_3.1_8b_instruct</th>\n",
       "      <th>eval_meta_llama_3.1_8b_instruct</th>\n",
       "    </tr>\n",
       "  </thead>\n",
       "  <tbody>\n",
       "    <tr>\n",
       "      <th>0</th>\n",
       "      <td>places_country</td>\n",
       "      <td>wh</td>\n",
       "      <td>Botswana</td>\n",
       "      <td>separated from</td>\n",
       "      <td>United Kingdom</td>\n",
       "      <td>What was Botswana separated from?</td>\n",
       "      <td>United Kingdom</td>\n",
       "      <td>Bechuanaland</td>\n",
       "      <td>0.0</td>\n",
       "    </tr>\n",
       "    <tr>\n",
       "      <th>1</th>\n",
       "      <td>places_country</td>\n",
       "      <td>wh</td>\n",
       "      <td>Botswana</td>\n",
       "      <td>country</td>\n",
       "      <td>Botswana</td>\n",
       "      <td>What is the country of Botswana?</td>\n",
       "      <td>Botswana</td>\n",
       "      <td>Nation</td>\n",
       "      <td>0.0</td>\n",
       "    </tr>\n",
       "  </tbody>\n",
       "</table>\n",
       "</div>"
      ],
      "text/plain": [
       "            topic type   subject        relation          object  \\\n",
       "0  places_country   wh  Botswana  separated from  United Kingdom   \n",
       "1  places_country   wh  Botswana         country        Botswana   \n",
       "\n",
       "                            question           label  \\\n",
       "0  What was Botswana separated from?  United Kingdom   \n",
       "1   What is the country of Botswana?        Botswana   \n",
       "\n",
       "  output_meta_llama_3.1_8b_instruct  eval_meta_llama_3.1_8b_instruct  \n",
       "0                      Bechuanaland                              0.0  \n",
       "1                            Nation                              0.0  "
      ]
     },
     "execution_count": 34,
     "metadata": {},
     "output_type": "execute_result"
    }
   ],
   "source": [
    "df_wh_hallu = pd.read_csv(f\"../data/questions/wh_only/hallucination_only/{model_id_format}_{domain_topic_name}.csv\")\n",
    "df_wh_hallu = df_wh_hallu[df_wh_hallu.topic==domain_topic_name]\n",
    "print(len(df_wh_hallu), domain_topic_name)\n",
    "df_wh_hallu.head(2)"
   ]
  },
  {
   "cell_type": "code",
   "execution_count": 35,
   "metadata": {},
   "outputs": [],
   "source": [
    "# Use GPT-4o to generate other types of questions\n",
    "from openai import AzureOpenAI\n",
    "\n",
    "def load_api_key(key, file_path='api_key.json'):\n",
    "    with open(file_path, 'r') as file:\n",
    "        data = json.load(file)\n",
    "    return data[key]\n",
    "\n",
    "client = AzureOpenAI(api_key=load_api_key('api_key_n_central_us'), api_version='2023-05-15', azure_endpoint=\"https://n-central-us.openai.azure.com/\")\n",
    "# client = AzureOpenAI(api_key=load_api_key('api_key_east_us'), api_version='2023-05-15', azure_endpoint=\"https://east-us-one.openai.azure.com/\")"
   ]
  },
  {
   "cell_type": "code",
   "execution_count": 36,
   "metadata": {},
   "outputs": [
    {
     "name": "stdout",
     "output_type": "stream",
     "text": [
      "{'paraphrased_question': 'From which country did Botswana gain its independence?', 'yes_question': 'Was Botswana separated from the United Kingdom?', 'no_question': 'Was Botswana separated from Bechuanaland?', 'multiple_choice_question': {'question': 'What was Botswana separated from?', 'options': {'A': 'United Kingdom', 'B': 'Bechuanaland', 'C': 'France', 'D': 'Germany'}, 'ground_truth': 'A'}, 'locality_question': 'What is the capital city of Botswana?', 'reversed_relation_question': 'Which country was separated from the United Kingdom?'}\n",
      "{'paraphrased_question': 'Which country is Botswana?', 'yes_question': 'Is Botswana the country of Botswana?', 'no_question': 'Is Nation the country of Botswana?', 'multiple_choice_question': {'question': 'What is the country of Botswana?', 'options': {'A': 'Botswana', 'B': 'Nation', 'C': 'Zimbabwe', 'D': 'Namibia'}, 'ground_truth': 'A'}, 'locality_question': 'What is the capital city of Botswana?', 'reversed_relation_question': 'Which country is Botswana a part of?'}\n",
      "{'paraphrased_question': 'What is the name of the country that is Botswana?', 'yes_question': 'Is Botswana the country of Botswana?', 'no_question': 'Is South Africa the country of Botswana?', 'multiple_choice_question': {'question': \"Which country's country is Botswana?\", 'options': {'A': 'Botswana', 'B': 'South Africa', 'C': 'Namibia', 'D': 'Zimbabwe'}, 'ground_truth': 'A'}, 'locality_question': 'What is the capital city of Botswana?', 'reversed_relation_question': 'Botswana is the country of which country?'}\n",
      "{'paraphrased_question': 'Which administrative body is twinned with The Bahamas?', 'yes_question': 'Is Miami-Dade County the twinned administrative body of The Bahamas?', 'no_question': 'Is the United Kingdom the twinned administrative body of The Bahamas?', 'multiple_choice_question': {'question': 'What is the twinned administrative body of The Bahamas?', 'options': {'A': 'Miami-Dade County', 'B': 'United Kingdom', 'C': 'Los Angeles County', 'D': 'Toronto'}, 'ground_truth': 'A'}, 'locality_question': 'What is the capital city of The Bahamas?', 'reversed_relation_question': 'Which country has Miami-Dade County as its twinned administrative body?'}\n",
      "{'paraphrased_question': 'What type of government does The Bahamas have?', 'yes_question': 'Is the basic form of government of The Bahamas a constitutional monarchy?', 'no_question': 'Is the basic form of government of The Bahamas a parliamentary democracy?', 'multiple_choice_question': {'question': 'What is the basic form of government of The Bahamas?', 'options': {'A': 'Constitutional monarchy', 'B': 'Parliamentary democracy', 'C': 'Federal republic', 'D': 'Presidential republic'}, 'ground_truth': 'A'}, 'locality_question': 'What is the capital city of The Bahamas?', 'reversed_relation_question': 'Which country has a basic form of government that is a constitutional monarchy?'}\n",
      "{'paraphrased_question': 'Which country does The Bahamas belong to?', 'yes_question': 'Is The Bahamas the country of The Bahamas?', 'no_question': 'Is Nations the country of The Bahamas?', 'multiple_choice_question': {'question': 'What is the country of The Bahamas?', 'options': {'A': 'The Bahamas', 'B': 'Nations', 'C': 'Jamaica', 'D': 'Cuba'}, 'ground_truth': 'A'}, 'locality_question': 'What is the capital city of The Bahamas?', 'reversed_relation_question': 'Which country is The Bahamas?'}\n",
      "{'paraphrased_question': 'What is the name of the country that is The Bahamas?', 'yes_question': 'Is The Bahamas the country of The Bahamas?', 'no_question': 'Is the United Kingdom the country of The Bahamas?', 'multiple_choice_question': {'question': \"Which country's country is The Bahamas?\", 'options': {'A': 'The Bahamas', 'B': 'United Kingdom', 'C': 'Canada', 'D': 'Australia'}, 'ground_truth': 'A'}, 'locality_question': 'What is the capital city of The Bahamas?', 'reversed_relation_question': 'Which country is The Bahamas?'}\n",
      "{'paraphrased_question': 'Which country does Namibia belong to?', 'yes_question': 'Is Namibia the country of Namibia?', 'no_question': 'Is Nation the country of Namibia?', 'multiple_choice_question': {'question': 'What is the country of Namibia?', 'options': {'A': 'Namibia', 'B': 'Nation', 'C': 'Botswana', 'D': 'Angola'}, 'ground_truth': 'A'}, 'locality_question': 'What is the capital city of Namibia?', 'reversed_relation_question': 'Which country is Namibia?'}\n",
      "{'paraphrased_question': 'Who currently serves as the head of state in Namibia?', 'yes_question': 'Is Hage Gottfried Geingob the head of state of Namibia?', 'no_question': 'Is the President the head of state of Namibia?', 'multiple_choice_question': {'question': 'Who is the head of state of Namibia?', 'options': {'A': 'Hage Gottfried Geingob', 'B': 'President', 'C': 'Sam Nujoma', 'D': 'Hifikepunye Pohamba'}, 'ground_truth': 'A'}, 'locality_question': 'What is the capital city of Namibia?', 'reversed_relation_question': 'Which country has Hage Gottfried Geingob as its head of state?'}\n",
      "{'paraphrased_question': 'Namibia is the country of which nation?', 'yes_question': 'Is Namibia the country of Namibia?', 'no_question': 'Is Namibia the country of South Africa?', 'multiple_choice_question': {'question': \"Which country's country is Namibia?\", 'options': {'A': 'Namibia', 'B': 'South Africa', 'C': 'Botswana', 'D': 'Angola'}, 'ground_truth': 'A'}, 'locality_question': 'What is the capital city of Namibia?', 'reversed_relation_question': 'Namibia is the country of which country?'}\n",
      "{'paraphrased_question': \"Who established the People's Republic of China?\", 'yes_question': \"Was the People's Republic of China founded by the Chinese Communist Party?\", 'no_question': \"Was the People's Republic of China founded by Mao Zedong?\", 'multiple_choice_question': {'question': \"Who founded the People's Republic of China?\", 'options': {'A': 'Chinese Communist Party', 'B': 'Mao Zedong', 'C': 'Nationalist Party', 'D': 'Sun Yat-sen'}, 'ground_truth': 'A'}, 'locality_question': \"What is the capital city of the People's Republic of China?\", 'reversed_relation_question': 'Which country was founded by the Chinese Communist Party?'}\n",
      "{'paraphrased_question': 'Where is the lowest point located in Bangladesh?', 'yes_question': 'Is the Bay of Bengal the lowest point of Bangladesh?', 'no_question': 'Is the Titas River delta the lowest point of Bangladesh?', 'multiple_choice_question': {'question': 'What is the lowest point of Bangladesh?', 'options': {'A': 'Bay of Bengal', 'B': 'Titas River delta', 'C': 'Himalayan foothills', 'D': 'Sundarbans'}, 'ground_truth': 'A'}, 'locality_question': 'What is the capital city of Bangladesh?', 'reversed_relation_question': 'Which country has the Bay of Bengal as its lowest point?'}\n",
      "{'paraphrased_question': 'Can you tell me the official symbol of Bangladesh?', 'yes_question': 'Is Nymphaea nouchali the official symbol of Bangladesh?', 'no_question': 'Is the Lion Capital the official symbol of Bangladesh?', 'multiple_choice_question': {'question': 'What is the official symbol of Bangladesh?', 'options': {'A': 'Nymphaea nouchali', 'B': 'Lion Capital', 'C': 'Bengal Tiger', 'D': 'Peacock'}, 'ground_truth': 'A'}, 'locality_question': 'What is the capital city of Bangladesh?', 'reversed_relation_question': 'Which country has Nymphaea nouchali as its official symbol?'}\n",
      "{'paraphrased_question': 'Where is the lowest elevation found in Thailand?', 'yes_question': 'Is the lowest point of Thailand the Gulf of Thailand?', 'no_question': 'Is the lowest point of Thailand the Bang Pakong River delta?', 'multiple_choice_question': {'question': 'What is the lowest point of Thailand?', 'options': {'A': 'Gulf of Thailand', 'B': 'Bang Pakong River delta', 'C': 'Mekong River', 'D': 'Chao Phraya River'}, 'ground_truth': 'A'}, 'locality_question': 'What is the capital city of Thailand?', 'reversed_relation_question': 'Which country has the Gulf of Thailand as its lowest point?'}\n",
      "{'paraphrased_question': 'What country has its lowest point in Thailand?', 'yes_question': 'Is Thailand the country whose lowest point is Thailand?', 'no_question': 'Is Bhutan the country whose lowest point is Thailand?', 'multiple_choice_question': {'question': \"Which country's lowest point is Thailand?\", 'options': {'A': 'Thailand', 'B': 'Bhutan', 'C': 'India', 'D': 'Vietnam'}, 'ground_truth': 'A'}, 'locality_question': 'What is the capital city of Thailand?', 'reversed_relation_question': 'What is the lowest point of Thailand?'}\n",
      "{'paraphrased_question': 'Which ethnic group is found in Malaysia?', 'yes_question': 'Is the ethnic group of Malaysia Arabs?', 'no_question': 'Is the ethnic group of Malaysia Malaysian?', 'multiple_choice_question': {'question': 'What is the ethnic group of Malaysia?', 'options': {'A': 'Arabs', 'B': 'Malaysian', 'C': 'Chinese', 'D': 'Indian'}, 'ground_truth': 'A'}, 'locality_question': 'What is the capital city of Malaysia?', 'reversed_relation_question': 'Which country has Arabs as an ethnic group?'}\n",
      "{'paraphrased_question': 'Which country is Malaysia?', 'yes_question': 'Is Malaysia the country of Malaysia?', 'no_question': 'Is Southeast Asian the country of Malaysia?', 'multiple_choice_question': {'question': 'What is the country of Malaysia?', 'options': {'A': 'Malaysia', 'B': 'Southeast Asian', 'C': 'Thailand', 'D': 'Indonesia'}, 'ground_truth': 'A'}, 'locality_question': 'What is the capital city of Malaysia?', 'reversed_relation_question': 'Which country is Malaysia?'}\n",
      "{'paraphrased_question': 'What is the name of the country that is Malaysia?', 'yes_question': 'Is Malaysia the country of Malaysia?', 'no_question': 'Is Southeast Asia the country of Malaysia?', 'multiple_choice_question': {'question': \"Which country's country is Malaysia?\", 'options': {'A': 'Malaysia', 'B': 'Southeast Asia', 'C': 'Thailand', 'D': 'Indonesia'}, 'ground_truth': 'A'}, 'locality_question': 'What is the capital city of Malaysia?', 'reversed_relation_question': 'Which country is Malaysia the country of?'}\n",
      "{'paraphrased_question': 'Which physical feature is Nauru located in?', 'yes_question': 'Is Nauru located in Micronesia?', 'no_question': 'Is Nauru located in the Pacific Ocean?', 'multiple_choice_question': {'question': 'Where is Nauru located?', 'options': {'A': 'Micronesia', 'B': 'Pacific Ocean', 'C': 'Caribbean', 'D': 'Indian Ocean'}, 'ground_truth': 'A'}, 'locality_question': 'What is the capital city of Nauru?', 'reversed_relation_question': 'Which country is located in Micronesia?'}\n",
      "{'paraphrased_question': 'On which physical feature is Scotland located?', 'yes_question': 'Is Scotland located on Great Britain?', 'no_question': 'Is Scotland located on Loch?', 'multiple_choice_question': {'question': 'On which physical feature is Scotland located?', 'options': {'A': 'Great Britain', 'B': 'Loch', 'C': 'Iceland', 'D': 'Greenland'}, 'ground_truth': 'A'}, 'locality_question': 'What is the capital city of Scotland?', 'reversed_relation_question': 'Which country is located on Great Britain?'}\n",
      "{'paraphrased_question': 'Which country does Scotland belong to?', 'yes_question': 'Is the United Kingdom the country of Scotland?', 'no_question': 'Is Part the country of Scotland?', 'multiple_choice_question': {'question': 'What is the country of Scotland?', 'options': {'A': 'United Kingdom', 'B': 'Part', 'C': 'Ireland', 'D': 'Wales'}, 'ground_truth': 'A'}, 'locality_question': 'What is the capital city of Scotland?', 'reversed_relation_question': 'Which country includes the United Kingdom as a part?'}\n",
      "{'paraphrased_question': 'Gibraltar is twinned with the administrative body of which country?', 'yes_question': \"Is Gibraltar's twinned administrative body Singapore?\", 'no_question': \"Is Gibraltar's twinned administrative body the United Kingdom?\", 'multiple_choice_question': {'question': \"Which country's twinned administrative body is Gibraltar?\", 'options': {'A': 'Singapore', 'B': 'United Kingdom', 'C': 'France', 'D': 'Australia'}, 'ground_truth': 'A'}, 'locality_question': 'What is the famous rock formation located in Gibraltar?', 'reversed_relation_question': 'Which administrative body is twinned with Singapore?'}\n",
      "{'paraphrased_question': 'Which country is Kyrgyzstan located in?', 'yes_question': 'Is Kyrgyzstan the country of Kyrgyzstan?', 'no_question': 'Is Landlocked the country of Kyrgyzstan?', 'multiple_choice_question': {'question': 'What is the country of Kyrgyzstan?', 'options': {'A': 'Kyrgyzstan', 'B': 'Landlocked', 'C': 'Kazakhstan', 'D': 'Uzbekistan'}, 'ground_truth': 'A'}, 'locality_question': 'What is the capital city of Kyrgyzstan?', 'reversed_relation_question': 'Which country is Kyrgyzstan?'}\n",
      "{'paraphrased_question': 'Which language is officially recognized in Kyrgyzstan?', 'yes_question': 'Is Russian the official language of Kyrgyzstan?', 'no_question': 'Is Kyrgyz the official language of Kyrgyzstan?', 'multiple_choice_question': {'question': 'What is the official language of Kyrgyzstan?', 'options': {'A': 'Russian', 'B': 'Kyrgyz', 'C': 'Uzbek', 'D': 'Tajik'}, 'ground_truth': 'A'}, 'locality_question': 'What is the capital city of Kyrgyzstan?', 'reversed_relation_question': 'Which country has Russian as an official language?'}\n",
      "{'paraphrased_question': 'What is the name of the country that is Kyrgyzstan?', 'yes_question': 'Is Kyrgyzstan the country of Kyrgyzstan?', 'no_question': 'Is Russia the country of Kyrgyzstan?', 'multiple_choice_question': {'question': \"Which country's country is Kyrgyzstan?\", 'options': {'A': 'Russia', 'B': 'Kazakhstan', 'C': 'Uzbekistan', 'D': 'Kyrgyzstan'}, 'ground_truth': 'D'}, 'locality_question': 'What is the capital city of Kyrgyzstan?', 'reversed_relation_question': 'Which country is Kyrgyzstan?'}\n",
      "{'paraphrased_question': 'Which country is Nepal?', 'yes_question': 'Is Nepal the country of Nepal?', 'no_question': 'Is Federal republic the country of Nepal?', 'multiple_choice_question': {'question': 'What is the country of Nepal?', 'options': {'A': 'Federal republic', 'B': 'Nepal', 'C': 'India', 'D': 'China'}, 'ground_truth': 'B'}, 'locality_question': 'What is the capital city of Nepal?', 'reversed_relation_question': 'Which country is Nepal?'}\n",
      "{'paraphrased_question': 'Which administrative body is twinned with Nepal?', 'yes_question': 'Is Toyota the twinned administrative body of Nepal?', 'no_question': 'Is the Federal Parliament the twinned administrative body of Nepal?', 'multiple_choice_question': {'question': 'What is the twinned administrative body of Nepal?', 'options': {'A': 'Toyota', 'B': 'Federal Parliament', 'C': 'New York City', 'D': 'Sydney'}, 'ground_truth': 'A'}, 'locality_question': 'What is the capital city of Nepal?', 'reversed_relation_question': 'Which country has Toyota as its twinned administrative body?'}\n",
      "{'paraphrased_question': 'Which ethnic group is found in Nepal?', 'yes_question': 'Is the ethnic group of Nepal Muslim?', 'no_question': 'Is the ethnic group of Nepal Nepali?', 'multiple_choice_question': {'question': 'What is the ethnic group of Nepal?', 'options': {'A': 'Muslim', 'B': 'Nepali', 'C': 'Hindu', 'D': 'Buddhist'}, 'ground_truth': 'A'}, 'locality_question': 'What is the capital city of Nepal?', 'reversed_relation_question': 'Which country has Muslims as an ethnic group?'}\n",
      "{'paraphrased_question': 'What is the name of the country that is Nepal?', 'yes_question': 'Is Nepal the country of Nepal?', 'no_question': 'Is India the country of Nepal?', 'multiple_choice_question': {'question': \"Which country's country is Nepal?\", 'options': {'A': 'Nepal', 'B': 'India', 'C': 'China', 'D': 'Bhutan'}, 'ground_truth': 'A'}, 'locality_question': 'What is the capital city of Nepal?', 'reversed_relation_question': 'Nepal is the country of which country?'}\n",
      "{'paraphrased_question': 'The Asian elephant is the official symbol of which country?', 'yes_question': 'Is Thailand the country whose official symbol is the Asian elephant?', 'no_question': 'Is Sri Lanka the country whose official symbol is the Asian elephant?', 'multiple_choice_question': {'question': \"Which country's official symbol is the Asian elephant?\", 'options': {'A': 'Thailand', 'B': 'Sri Lanka', 'C': 'India', 'D': 'China'}, 'ground_truth': 'A'}, 'locality_question': 'In which continent can you find the natural habitat of the Asian elephant?', 'reversed_relation_question': 'What is the official symbol of Thailand?'}\n",
      "{'paraphrased_question': 'In which country is the lowest point the Amu Darya?', 'yes_question': 'Is Afghanistan the country whose lowest point is Amu Darya?', 'no_question': 'Is Tajikistan the country whose lowest point is Amu Darya?', 'multiple_choice_question': {'question': \"Which country's lowest point is Amu Darya?\", 'options': {'A': 'Afghanistan', 'B': 'Tajikistan', 'C': 'Uzbekistan', 'D': 'Turkmenistan'}, 'ground_truth': 'A'}, 'locality_question': 'Which mountain range is located in Afghanistan?', 'reversed_relation_question': 'What is the lowest point in Afghanistan?'}\n",
      "{'paraphrased_question': 'What entity did Senegal take the place of?', 'yes_question': 'Does Senegal replace French West Africa?', 'no_question': 'Does Senegal replace Mauritania?', 'multiple_choice_question': {'question': 'What does Senegal replace?', 'options': {'A': 'French West Africa', 'B': 'Mauritania', 'C': 'Gambia', 'D': 'Mali'}, 'ground_truth': 'A'}, 'locality_question': 'What is the capital city of Senegal?', 'reversed_relation_question': 'Which country replaces French West Africa?'}\n",
      "{'paraphrased_question': 'Which country is Senegal?', 'yes_question': 'Is Senegal the country of Senegal?', 'no_question': 'Is West African the country of Senegal?', 'multiple_choice_question': {'question': 'What is the country of Senegal?', 'options': {'A': 'Senegal', 'B': 'West African', 'C': 'Nigeria', 'D': 'Ghana'}, 'ground_truth': 'A'}, 'locality_question': 'What is the capital city of Senegal?', 'reversed_relation_question': 'Which country is Senegal a part of?'}\n",
      "{'paraphrased_question': 'Which language is officially recognized in Senegal?', 'yes_question': 'Is Wolof the official language of Senegal?', 'no_question': 'Is French the official language of Senegal?', 'multiple_choice_question': {'question': 'What is the official language of Senegal?', 'options': {'A': 'Wolof', 'B': 'French', 'C': 'Swahili', 'D': 'Arabic'}, 'ground_truth': 'A'}, 'locality_question': 'What is the capital city of Senegal?', 'reversed_relation_question': 'Which country has Wolof as its official language?'}\n",
      "{'paraphrased_question': 'In which physical feature is Senegal located?', 'yes_question': 'Is Senegal located in West Africa?', 'no_question': 'Is Senegal located in The Gambia River?', 'multiple_choice_question': {'question': 'Where is Senegal located?', 'options': {'A': 'West Africa', 'B': 'The Gambia River', 'C': 'East Africa', 'D': 'Central Africa'}, 'ground_truth': 'A'}, 'locality_question': 'What is the capital city of Senegal?', 'reversed_relation_question': 'Which country is located in West Africa?'}\n",
      "{'paraphrased_question': 'What is the name of the country that is Senegal?', 'yes_question': 'Is Senegal the country of Senegal?', 'no_question': 'Is France the country of Senegal?', 'multiple_choice_question': {'question': \"Which country's country is Senegal?\", 'options': {'A': 'France', 'B': 'Senegal', 'C': 'Nigeria', 'D': 'Ghana'}, 'ground_truth': 'B'}, 'locality_question': 'What is the capital city of Senegal?', 'reversed_relation_question': 'Which country is Senegal a country of?'}\n",
      "{'paraphrased_question': 'Which country has diplomatic relations with Latin America?', 'yes_question': 'Does Latin America have diplomatic relations with Japan?', 'no_question': 'Does Latin America have diplomatic relations with the Vatican?', 'multiple_choice_question': {'question': 'Which country has diplomatic relations with Latin America?', 'options': {'A': 'Japan', 'B': 'Vatican', 'C': 'Australia', 'D': 'India'}, 'ground_truth': 'A'}, 'locality_question': 'Which language is predominantly spoken in Latin America?', 'reversed_relation_question': 'Which region has diplomatic relations with Japan?'}\n",
      "{'paraphrased_question': 'Which court holds the highest judicial authority in South Korea?', 'yes_question': 'Is the Constitutional Court of Korea the highest judicial authority of South Korea?', 'no_question': 'Is the Supreme Court the highest judicial authority of South Korea?', 'multiple_choice_question': {'question': 'What is the highest judicial authority of South Korea?', 'options': {'A': 'Constitutional Court of Korea', 'B': 'Supreme Court', 'C': 'High Court', 'D': 'District Court'}, 'ground_truth': 'A'}, 'locality_question': 'What is the capital city of South Korea?', 'reversed_relation_question': 'Which country has the Constitutional Court of Korea as its highest judicial authority?'}\n",
      "{'paraphrased_question': 'Who serves as the head of state for South Korea?', 'yes_question': 'Is Yoon Suk Yeol the head of state of South Korea?', 'no_question': 'Is Yoon Suk-yeol the head of state of South Korea?', 'multiple_choice_question': {'question': 'Who is the head of state of South Korea?', 'options': {'A': 'Yoon Suk Yeol', 'B': 'Yoon Suk-yeol', 'C': 'Moon Jae-in', 'D': 'Kim Jong-un'}, 'ground_truth': 'A'}, 'locality_question': 'What is the capital city of South Korea?', 'reversed_relation_question': 'Which country has Yoon Suk Yeol as its head of state?'}\n",
      "{'paraphrased_question': 'Where is the lowest point located in South Korea?', 'yes_question': 'Is the lowest point of South Korea the Sea of Japan?', 'no_question': 'Is the lowest point of South Korea the Hantan River?', 'multiple_choice_question': {'question': 'What is the lowest point of South Korea?', 'options': {'A': 'Sea of Japan', 'B': 'Hantan River', 'C': 'Yellow Sea', 'D': 'Taebaek Mountains'}, 'ground_truth': 'A'}, 'locality_question': 'What is the capital city of South Korea?', 'reversed_relation_question': \"Which country's lowest point is the Sea of Japan?\"}\n",
      "{'paraphrased_question': 'Which country is South Korea?', 'yes_question': 'Is the country of South Korea South Korea?', 'no_question': 'Is the country of South Korea Republic?', 'multiple_choice_question': {'question': 'What is the country of South Korea?', 'options': {'A': 'South Korea', 'B': 'Republic', 'C': 'Japan', 'D': 'China'}, 'ground_truth': 'A'}, 'locality_question': 'What is the capital city of South Korea?', 'reversed_relation_question': 'Which country is South Korea a part of?'}\n",
      "{'paraphrased_question': 'Which administrative body is twinned with South Korea?', 'yes_question': 'Is Toyota the twinned administrative body of South Korea?', 'no_question': 'Is Government the twinned administrative body of South Korea?', 'multiple_choice_question': {'question': 'What is the twinned administrative body of South Korea?', 'options': {'A': 'Toyota', 'B': 'Government', 'C': 'Hyundai', 'D': 'Samsung'}, 'ground_truth': 'A'}, 'locality_question': 'What is the capital city of South Korea?', 'reversed_relation_question': 'Which country has Toyota as its twinned administrative body?'}\n",
      "{'paraphrased_question': 'What is the name of the country that is South Korea?', 'yes_question': 'Is South Korea the country of South Korea?', 'no_question': 'Is China the country of South Korea?', 'multiple_choice_question': {'question': \"Which country's country is South Korea?\", 'options': {'A': 'South Korea', 'B': 'China', 'C': 'Japan', 'D': 'Thailand'}, 'ground_truth': 'A'}, 'locality_question': 'What is the capital city of South Korea?', 'reversed_relation_question': 'Which country is South Korea a country of?'}\n",
      "{'paraphrased_question': 'What country has blue as its official color?', 'yes_question': 'Is the official color of the Northern Mariana Islands blue?', 'no_question': 'Is the official color of Nepal blue?', 'multiple_choice_question': {'question': \"Which country's official color is blue?\", 'options': {'A': 'Northern Mariana Islands', 'B': 'Nepal', 'C': 'Japan', 'D': 'Australia'}, 'ground_truth': 'A'}, 'locality_question': 'What is the capital of the Northern Mariana Islands?', 'reversed_relation_question': 'What is the official color of the Northern Mariana Islands?'}\n",
      "{'paraphrased_question': 'Who serves as the head of government for the Kingdom of the Netherlands?', 'yes_question': 'Is Mark Rutte the head of government of the Kingdom of the Netherlands?', 'no_question': 'Is the Prime Minister the head of government of the Kingdom of the Netherlands?', 'multiple_choice_question': {'question': 'Who is the head of government of the Kingdom of the Netherlands?', 'options': {'A': 'Mark Rutte', 'B': 'Prime Minister', 'C': 'Angela Merkel', 'D': 'Emmanuel Macron'}, 'ground_truth': 'A'}, 'locality_question': 'What is the capital city of the Kingdom of the Netherlands?', 'reversed_relation_question': 'Which country has Mark Rutte as its head of government?'}\n",
      "{'paraphrased_question': 'Which country is associated with the Kingdom of the Netherlands?', 'yes_question': 'Is Sint Maarten a country of the Kingdom of the Netherlands?', 'no_question': 'Is the Netherlands a country of the Kingdom of the Netherlands?', 'multiple_choice_question': {'question': 'Which country is part of the Kingdom of the Netherlands?', 'options': {'A': 'Sint Maarten', 'B': 'Netherlands', 'C': 'Belgium', 'D': 'Luxembourg'}, 'ground_truth': 'A'}, 'locality_question': 'What is the capital city of the Kingdom of the Netherlands?', 'reversed_relation_question': 'Which country does Sint Maarten belong to?'}\n",
      "{'paraphrased_question': 'Which country is located in the administrative territorial entity of the Kingdom of the Netherlands?', 'yes_question': 'Is Aruba located in the administrative territorial entity of the Kingdom of the Netherlands?', 'no_question': 'Is the Netherlands located in the administrative territorial entity of the Kingdom of the Netherlands?', 'multiple_choice_question': {'question': 'Which country is located in the administrative territorial entity of the Kingdom of the Netherlands?', 'options': {'A': 'Aruba', 'B': 'Netherlands', 'C': 'Belgium', 'D': 'Luxembourg'}, 'ground_truth': 'A'}, 'locality_question': 'What is the capital city of the Kingdom of the Netherlands?', 'reversed_relation_question': 'Which administrative territorial entity is Aruba located in?'}\n",
      "{'paraphrased_question': 'In which country is Guarani an official language?', 'yes_question': 'Is Guarani an official language in Bolivia?', 'no_question': 'Is Guarani an official language in Paraguay?', 'multiple_choice_question': {'question': \"Which country's official language is Guarani?\", 'options': {'A': 'Bolivia', 'B': 'Paraguay', 'C': 'Argentina', 'D': 'Chile'}, 'ground_truth': 'A'}, 'locality_question': 'In which continent is Bolivia located?', 'reversed_relation_question': 'What is the official language of Bolivia?'}\n",
      "{'paraphrased_question': 'Which country is Peru?', 'yes_question': 'Is the country of Peru, Peru?', 'no_question': 'Is the country of Peru, South American?', 'multiple_choice_question': {'question': 'What is the country of Peru?', 'options': {'A': 'Peru', 'B': 'South American', 'C': 'Brazil', 'D': 'Argentina'}, 'ground_truth': 'A'}, 'locality_question': 'What is the capital city of Peru?', 'reversed_relation_question': 'Which country is Peru?'}\n",
      "{'paraphrased_question': 'Peru is the country of which nation?', 'yes_question': 'Is Peru the country of Peru?', 'no_question': 'Is Peru the country of South America?', 'multiple_choice_question': {'question': \"Which country's country is Peru?\", 'options': {'A': 'Peru', 'B': 'South America', 'C': 'Brazil', 'D': 'Argentina'}, 'ground_truth': 'A'}, 'locality_question': 'What is the capital city of Peru?', 'reversed_relation_question': 'Which country is Peru?'}\n",
      "{'paraphrased_question': 'Which country is situated in North Africa?', 'yes_question': 'Is Libya located in North Africa?', 'no_question': 'Is Egypt located in North Africa?', 'multiple_choice_question': {'question': 'Which country is located in North Africa?', 'options': {'A': 'Libya', 'B': 'Egypt', 'C': 'Kenya', 'D': 'Nigeria'}, 'ground_truth': 'A'}, 'locality_question': 'What is the predominant climate in North Africa?', 'reversed_relation_question': 'In which region is Libya located?'}\n",
      "{'paraphrased_question': 'What country has a twinned administrative body with Gummersbach?', 'yes_question': 'Is Lesotho the country that has a twinned administrative body with Gummersbach?', 'no_question': 'Is Bulgaria the country that has a twinned administrative body with Gummersbach?', 'multiple_choice_question': {'question': \"Which country's twinned administrative body is Gummersbach?\", 'options': {'A': 'Lesotho', 'B': 'Bulgaria', 'C': 'Canada', 'D': 'Japan'}, 'ground_truth': 'A'}, 'locality_question': 'In which country is the city of Gummersbach located?', 'reversed_relation_question': 'Which city is twinned with Lesotho?'}\n",
      "{'paraphrased_question': 'What is the twinned administrative body of Wakayama Prefecture?', 'yes_question': 'Is Galicia the twinned administrative body of Wakayama Prefecture?', 'no_question': 'Is Sachsen-Anhalt the twinned administrative body of Wakayama Prefecture?', 'multiple_choice_question': {'question': 'Which of the following is the twinned administrative body of Wakayama Prefecture?', 'options': {'A': 'Galicia', 'B': 'Sachsen-Anhalt', 'C': 'Bavaria', 'D': 'Catalonia'}, 'ground_truth': 'A'}, 'locality_question': 'What is a famous tourist attraction in Wakayama Prefecture?', 'reversed_relation_question': 'Which prefecture is twinned with Galicia?'}\n",
      "{'paraphrased_question': 'What is the origin of the name South Africa?', 'yes_question': 'Was South Africa named after the south?', 'no_question': 'Was South Africa named after the Cape of Good Hope?', 'multiple_choice_question': {'question': 'What was South Africa named after?', 'options': {'A': 'Cape of Good Hope', 'B': 'south', 'C': 'Nelson Mandela', 'D': 'Table Mountain'}, 'ground_truth': 'B'}, 'locality_question': 'What is the capital city of South Africa?', 'reversed_relation_question': 'Which country was named after the south?'}\n",
      "{'paraphrased_question': 'Which country is South Africa?', 'yes_question': 'Is South Africa the country of South Africa?', 'no_question': 'Is Nation the country of South Africa?', 'multiple_choice_question': {'question': 'What is the country of South Africa?', 'options': {'A': 'South Africa', 'B': 'Nation', 'C': 'Australia', 'D': 'Brazil'}, 'ground_truth': 'A'}, 'locality_question': 'What is the capital city of South Africa?', 'reversed_relation_question': 'Which country is South Africa?'}\n",
      "{'paraphrased_question': 'Which country is Colombia?', 'yes_question': 'Is the country of Colombia, Colombia?', 'no_question': 'Is the country of Colombia, South American?', 'multiple_choice_question': {'question': 'What is the country of Colombia?', 'options': {'A': 'Colombia', 'B': 'South American', 'C': 'Brazil', 'D': 'Argentina'}, 'ground_truth': 'A'}, 'locality_question': 'What is the capital city of Colombia?', 'reversed_relation_question': 'Which country is named after Colombia?'}\n",
      "{'paraphrased_question': 'Who serves as the head of government in Colombia?', 'yes_question': 'Is Iván Duque the head of government of Colombia?', 'no_question': 'Is Gustavo Petro the head of government of Colombia?', 'multiple_choice_question': {'question': 'Who is the head of government of Colombia?', 'options': {'A': 'Iván Duque', 'B': 'Gustavo Petro', 'C': 'Juan Manuel Santos', 'D': 'Álvaro Uribe'}, 'ground_truth': 'A'}, 'locality_question': 'What is the capital city of Colombia?', 'reversed_relation_question': 'Which country has Iván Duque as its head of government?'}\n",
      "{'paraphrased_question': 'What is the name of the country that is Colombia?', 'yes_question': 'Is Colombia the country of Colombia?', 'no_question': 'Is Venezuela the country of Colombia?', 'multiple_choice_question': {'question': \"Which country's country is Colombia?\", 'options': {'A': 'Colombia', 'B': 'Venezuela', 'C': 'Brazil', 'D': 'Argentina'}, 'ground_truth': 'A'}, 'locality_question': 'What is the capital city of Colombia?', 'reversed_relation_question': 'Which country is Colombia a country of?'}\n",
      "{'paraphrased_question': \"In which country is Saint Patrick's Day considered a public holiday?\", 'yes_question': \"Is Saint Patrick's Day a public holiday in the United Kingdom?\", 'no_question': \"Is Saint Patrick's Day a public holiday in Ireland?\", 'multiple_choice_question': {'question': \"Which country's public holiday is Saint Patrick's Day?\", 'options': {'A': 'United Kingdom', 'B': 'Ireland', 'C': 'Canada', 'D': 'Australia'}, 'ground_truth': 'A'}, 'locality_question': \"In which country is Saint Patrick's Day celebrated with parades and wearing green?\", 'reversed_relation_question': 'Which public holiday is celebrated in the United Kingdom?'}\n",
      "{'paraphrased_question': 'Which country is Tanzania?', 'yes_question': 'Is Tanzania the country of Tanzania?', 'no_question': 'Is East African the country of Tanzania?', 'multiple_choice_question': {'question': 'What is the country of Tanzania?', 'options': {'A': 'Tanzania', 'B': 'East African', 'C': 'Kenya', 'D': 'Uganda'}, 'ground_truth': 'A'}, 'locality_question': 'What is the capital city of Tanzania?', 'reversed_relation_question': 'Which country is Tanzania?'}\n",
      "{'paraphrased_question': 'Which place was Tanzania named after?', 'yes_question': 'Was Tanzania named after Zanzibar?', 'no_question': 'Was Tanzania named after Tanganyika?', 'multiple_choice_question': {'question': 'What was Tanzania named after?', 'options': {'A': 'Zanzibar', 'B': 'Tanganyika', 'C': 'Kenya', 'D': 'Uganda'}, 'ground_truth': 'A'}, 'locality_question': 'What is the capital city of Tanzania?', 'reversed_relation_question': 'Which country was named after Zanzibar?'}\n",
      "{'paraphrased_question': 'Tanzania is the country of which nation?', 'yes_question': 'Is Tanzania the country of Tanzania?', 'no_question': 'Is Tanzania the country of Kenya?', 'multiple_choice_question': {'question': \"Which country's country is Tanzania?\", 'options': {'A': 'Kenya', 'B': 'Uganda', 'C': 'Tanzania', 'D': 'Rwanda'}, 'ground_truth': 'C'}, 'locality_question': 'What is the capital city of Tanzania?', 'reversed_relation_question': 'Which country is Tanzania the country of?'}\n",
      "{'paraphrased_question': 'Which country does Grenada belong to?', 'yes_question': 'Is Grenada the country of Grenada?', 'no_question': 'Is Grenada the country of Island nation?', 'multiple_choice_question': {'question': 'What is the country of Grenada?', 'options': {'A': 'Grenada', 'B': 'Island nation', 'C': 'Barbados', 'D': 'Trinidad and Tobago'}, 'ground_truth': 'A'}, 'locality_question': 'What is the capital city of Grenada?', 'reversed_relation_question': 'Which country is named after Grenada?'}\n",
      "{'paraphrased_question': 'What is the name of the country that is Grenada?', 'yes_question': 'Is Grenada the country of Grenada?', 'no_question': 'Is Caribbean the country of Grenada?', 'multiple_choice_question': {'question': \"Which country's country is Grenada?\", 'options': {'A': 'Grenada', 'B': 'Caribbean', 'C': 'Jamaica', 'D': 'Barbados'}, 'ground_truth': 'A'}, 'locality_question': 'What is the capital city of Grenada?', 'reversed_relation_question': 'Which country is Grenada?'}\n",
      "{'paraphrased_question': 'In which country is Serbian an official language?', 'yes_question': 'Is Kosovo a country where Serbian is an official language?', 'no_question': 'Is Serbia a country where Serbian is an official language?', 'multiple_choice_question': {'question': \"Which country's official language is Serbian?\", 'options': {'A': 'Kosovo', 'B': 'Serbia', 'C': 'Croatia', 'D': 'Montenegro'}, 'ground_truth': 'A'}, 'locality_question': 'What is the capital city of Serbia?', 'reversed_relation_question': 'What is the official language of Kosovo?'}\n",
      "{'paraphrased_question': 'Japanese people belong to the ethnic group of which country?', 'yes_question': 'Are Japanese people an ethnic group of Japan?', 'no_question': 'Are Japanese people an ethnic group of East Asian?', 'multiple_choice_question': {'question': \"Which country's ethnic group is Japanese people?\", 'options': {'A': 'Japan', 'B': 'East Asian', 'C': 'China', 'D': 'South Korea'}, 'ground_truth': 'A'}, 'locality_question': 'What is the capital city of Japan?', 'reversed_relation_question': 'People from which ethnic group are from Japan?'}\n",
      "{'paraphrased_question': 'Which country is adjacent to the Sea of Okhotsk?', 'yes_question': 'Is Japan located in or next to the Sea of Okhotsk?', 'no_question': 'Is Russia located in or next to the Sea of Okhotsk?', 'multiple_choice_question': {'question': 'Which country is located in or next to the Sea of Okhotsk?', 'options': {'A': 'Japan', 'B': 'Russia', 'C': 'China', 'D': 'South Korea'}, 'ground_truth': 'A'}, 'locality_question': 'What is the capital city of Japan?', 'reversed_relation_question': 'Which body of water is Japan located in or next to?'}\n",
      "{'paraphrased_question': 'Olea europaea is the official symbol of which country?', 'yes_question': 'Is Olea europaea the official symbol of Israel?', 'no_question': 'Is Olea europaea the official symbol of Slovenia?', 'multiple_choice_question': {'question': \"Which country's official symbol is Olea europaea?\", 'options': {'A': 'Israel', 'B': 'Slovenia', 'C': 'Greece', 'D': 'Italy'}, 'ground_truth': 'A'}, 'locality_question': 'In which region is Olea europaea commonly cultivated?', 'reversed_relation_question': 'What is the official symbol of Israel?'}\n",
      "{'paraphrased_question': 'Which language is officially recognized in Palau?', 'yes_question': 'Is Japanese the official language of Palau?', 'no_question': 'Is Palauan the official language of Palau?', 'multiple_choice_question': {'question': 'What is the official language of Palau?', 'options': {'A': 'Japanese', 'B': 'Palauan', 'C': 'English', 'D': 'Spanish'}, 'ground_truth': 'A'}, 'locality_question': 'What is the capital city of Palau?', 'reversed_relation_question': 'Which country has Japanese as its official language?'}\n",
      "{'paraphrased_question': 'Where is Palau located?', 'yes_question': 'Is Palau located in Micronesia?', 'no_question': 'Is Palau located in the Rock Islands?', 'multiple_choice_question': {'question': 'Where is Palau located?', 'options': {'A': 'Micronesia', 'B': 'Rock Islands', 'C': 'Polynesia', 'D': 'Melanesia'}, 'ground_truth': 'A'}, 'locality_question': 'What is the capital city of Palau?', 'reversed_relation_question': 'Which country is located in Micronesia?'}\n",
      "{'paraphrased_question': 'Which country does Palau belong to?', 'yes_question': 'Is Palau the country of Palau?', 'no_question': 'Is Micronesia the country of Palau?', 'multiple_choice_question': {'question': 'What is the country of Palau?', 'options': {'A': 'Palau', 'B': 'Micronesia', 'C': 'Fiji', 'D': 'Samoa'}, 'ground_truth': 'A'}, 'locality_question': 'What is the capital city of Palau?', 'reversed_relation_question': 'Which country is Palau?'}\n",
      "{'paraphrased_question': 'What is the name of the country that is Palau?', 'yes_question': 'Is Palau the country of Palau?', 'no_question': 'Is Micronesia the country of Palau?', 'multiple_choice_question': {'question': \"Which country's country is Palau?\", 'options': {'A': 'Palau', 'B': 'Micronesia', 'C': 'Fiji', 'D': 'Marshall Islands'}, 'ground_truth': 'A'}, 'locality_question': 'What is the capital city of Palau?', 'reversed_relation_question': 'Which country is Palau a country of?'}\n",
      "{'paraphrased_question': 'Which nation has the Parliamentary Assembly of the Council of Europe labeled as a terrorist?', 'yes_question': 'Was Russia designated as terrorist by the Parliamentary Assembly of the Council of Europe?', 'no_question': 'Was Turkey designated as terrorist by the Parliamentary Assembly of the Council of Europe?', 'multiple_choice_question': {'question': 'Which country was designated as terrorist by the Parliamentary Assembly of the Council of Europe?', 'options': {'A': 'Russia', 'B': 'Turkey', 'C': 'Germany', 'D': 'France'}, 'ground_truth': 'A'}, 'locality_question': 'Where is the headquarters of the Parliamentary Assembly of the Council of Europe located?', 'reversed_relation_question': 'Which organization designated Russia as a terrorist?'}\n",
      "{'paraphrased_question': 'What country takes its name from Saint Lucy?', 'yes_question': 'Was Saint Lucia named after Saint Lucy?', 'no_question': 'Was Sicily named after Saint Lucy?', 'multiple_choice_question': {'question': 'Which country was named after Saint Lucy?', 'options': {'A': 'Saint Lucia', 'B': 'Sicily', 'C': 'Barbados', 'D': 'Jamaica'}, 'ground_truth': 'A'}, 'locality_question': 'In which country is the Pitons, a famous landmark, located?', 'reversed_relation_question': 'Who is Saint Lucia named after?'}\n",
      "{'paraphrased_question': 'Where is Malawi situated geographically?', 'yes_question': 'Is Malawi located in Southern Africa?', 'no_question': 'Is Malawi located in Lake?', 'multiple_choice_question': {'question': 'In which region is Malawi located?', 'options': {'A': 'Southern Africa', 'B': 'Lake', 'C': 'Northern Europe', 'D': 'Eastern Asia'}, 'ground_truth': 'A'}, 'locality_question': 'What is the capital city of Malawi?', 'reversed_relation_question': 'Which country is located in Southern Africa?'}\n",
      "{'paraphrased_question': \"What is the origin of Malawi's name?\", 'yes_question': 'Was Malawi named after Lake Malawi?', 'no_question': 'Was Malawi named after the Maravi people?', 'multiple_choice_question': {'question': 'What was Malawi named after?', 'options': {'A': 'Lake Malawi', 'B': 'Maravi people', 'C': 'Zambezi River', 'D': 'Victoria Falls'}, 'ground_truth': 'A'}, 'locality_question': 'What is the capital city of Malawi?', 'reversed_relation_question': 'Which country was named after Lake Malawi?'}\n",
      "{'paraphrased_question': 'Which country is Malawi?', 'yes_question': 'Is Malawi the country of Malawi?', 'no_question': 'Is Landlocked the country of Malawi?', 'multiple_choice_question': {'question': 'What is the country of Malawi?', 'options': {'A': 'Malawi', 'B': 'Landlocked', 'C': 'Zambia', 'D': 'Mozambique'}, 'ground_truth': 'A'}, 'locality_question': 'What is the capital city of Malawi?', 'reversed_relation_question': 'Which country is Malawi a part of?'}\n",
      "{'paraphrased_question': 'Malawi is the country of which nation?', 'yes_question': 'Is Malawi the country of Malawi?', 'no_question': 'Is Malawi the country of Tanzania?', 'multiple_choice_question': {'question': \"Which country's country is Malawi?\", 'options': {'A': 'Malawi', 'B': 'Tanzania', 'C': 'Zambia', 'D': 'Mozambique'}, 'ground_truth': 'A'}, 'locality_question': 'What is the capital city of Malawi?', 'reversed_relation_question': 'Malawi is the country of which country?'}\n",
      "{'paraphrased_question': 'Which country does Comoros belong to?', 'yes_question': 'Is Comoros the country of Comoros?', 'no_question': 'Is Island nation the country of Comoros?', 'multiple_choice_question': {'question': 'What is the country of Comoros?', 'options': {'A': 'Comoros', 'B': 'Island nation', 'C': 'Madagascar', 'D': 'Seychelles'}, 'ground_truth': 'A'}, 'locality_question': 'What is the capital city of Comoros?', 'reversed_relation_question': 'Which country is Comoros?'}\n",
      "{'paraphrased_question': 'Which language is officially recognized in Comoros?', 'yes_question': 'Is Arabic the official language of Comoros?', 'no_question': 'Is Comorian the official language of Comoros?', 'multiple_choice_question': {'question': 'What is the official language of Comoros?', 'options': {'A': 'Arabic', 'B': 'French', 'C': 'Swahili', 'D': 'Comorian'}, 'ground_truth': 'A'}, 'locality_question': 'What is the capital city of Comoros?', 'reversed_relation_question': 'Which country has Arabic as its official language?'}\n",
      "{'paraphrased_question': 'What is the name of the country that is Comoros?', 'yes_question': 'Is Comoros the country of Comoros?', 'no_question': 'Is France the country of Comoros?', 'multiple_choice_question': {'question': \"Which country's country is Comoros?\", 'options': {'A': 'France', 'B': 'Comoros', 'C': 'Madagascar', 'D': 'Seychelles'}, 'ground_truth': 'B'}, 'locality_question': 'What is the capital city of Comoros?', 'reversed_relation_question': 'Which country is Comoros?'}\n",
      "{'paraphrased_question': 'Ireland is located in/on the physical feature of which country?', 'yes_question': 'Is Ireland located in/on the physical feature of the United Kingdom?', 'no_question': 'Is Ireland located in/on the physical feature of an Island?', 'multiple_choice_question': {'question': \"Which country's located in/on physical feature is Ireland?\", 'options': {'A': 'United Kingdom', 'B': 'Island', 'C': 'France', 'D': 'Germany'}, 'ground_truth': 'A'}, 'locality_question': 'What is the capital city of Ireland?', 'reversed_relation_question': 'Which country is the United Kingdom located in/on the physical feature of?'}\n",
      "{'paraphrased_question': 'In which country is the Balkans located?', 'yes_question': 'Is Kosovo located in the Balkans?', 'no_question': 'Is Multiple located in the Balkans?', 'multiple_choice_question': {'question': \"Which country's location is Balkans?\", 'options': {'A': 'Kosovo', 'B': 'Multiple', 'C': 'Spain', 'D': 'Japan'}, 'ground_truth': 'A'}, 'locality_question': 'What is a well-known mountain range in the Balkans?', 'reversed_relation_question': 'Where is Kosovo located?'}\n",
      "{'paraphrased_question': 'What is the name of the country that is North Korea?', 'yes_question': 'Is North Korea the country of North Korea?', 'no_question': 'Is South Korea the country of North Korea?', 'multiple_choice_question': {'question': \"Which country's country is North Korea?\", 'options': {'A': 'North Korea', 'B': 'South Korea', 'C': 'Japan', 'D': 'China'}, 'ground_truth': 'A'}, 'locality_question': 'What is the capital city of North Korea?', 'reversed_relation_question': 'Which country is North Korea a country of?'}\n",
      "{'paraphrased_question': 'What is the name of the country that is Sri Lanka?', 'yes_question': 'Is Sri Lanka the country of Sri Lanka?', 'no_question': 'Is India the country of Sri Lanka?', 'multiple_choice_question': {'question': \"Which country's country is Sri Lanka?\", 'options': {'A': 'India', 'B': 'Sri Lanka', 'C': 'Nepal', 'D': 'Bangladesh'}, 'ground_truth': 'B'}, 'locality_question': 'What is the capital city of Sri Lanka?', 'reversed_relation_question': 'Which country is Sri Lanka?'}\n",
      "{'paraphrased_question': 'In which country is the lowest point the Elbe?', 'yes_question': 'Is the lowest point of the Czech Republic the Elbe?', 'no_question': 'Is the lowest point of Germany the Elbe?', 'multiple_choice_question': {'question': \"Which country's lowest point is the Elbe?\", 'options': {'A': 'Czech Republic', 'B': 'Germany', 'C': 'Poland', 'D': 'Austria'}, 'ground_truth': 'A'}, 'locality_question': 'Which river flows through the city of Dresden?', 'reversed_relation_question': 'What is the lowest point of the Czech Republic?'}\n",
      "{'paraphrased_question': 'In which country is Palm Sunday considered a public holiday?', 'yes_question': 'Is Palm Sunday a public holiday in Iceland?', 'no_question': 'Is Palm Sunday a public holiday in Greece?', 'multiple_choice_question': {'question': 'Which country observes Palm Sunday as a public holiday?', 'options': {'A': 'Iceland', 'B': 'Greece', 'C': 'Spain', 'D': 'Italy'}, 'ground_truth': 'A'}, 'locality_question': 'What is the capital city of Iceland?', 'reversed_relation_question': 'Which public holiday is celebrated in Iceland?'}\n",
      "{'paraphrased_question': 'Which physical feature is Kiribati located in?', 'yes_question': 'Is Kiribati located in Micronesia?', 'no_question': 'Is Kiribati located in the Gilbert Islands?', 'multiple_choice_question': {'question': 'Where is Kiribati located?', 'options': {'A': 'Micronesia', 'B': 'Gilbert Islands', 'C': 'Polynesia', 'D': 'Melanesia'}, 'ground_truth': 'A'}, 'locality_question': 'What is the capital city of Kiribati?', 'reversed_relation_question': 'Which country is located in Micronesia?'}\n",
      "{'paraphrased_question': 'Kiribati is the country of which nation?', 'yes_question': 'Is Kiribati the country of Kiribati?', 'no_question': 'Is Kiribati the country of Oceania?', 'multiple_choice_question': {'question': \"Which country's country is Kiribati?\", 'options': {'A': 'Kiribati', 'B': 'Oceania', 'C': 'Fiji', 'D': 'Tonga'}, 'ground_truth': 'A'}, 'locality_question': 'What is the capital city of Kiribati?', 'reversed_relation_question': 'Kiribati is the country of which country?'}\n",
      "{'paraphrased_question': 'Which country does Kosovo belong to?', 'yes_question': 'Is Kosovo the country of Kosovo?', 'no_question': 'Is Republic the country of Kosovo?', 'multiple_choice_question': {'question': 'What is the country of Kosovo?', 'options': {'A': 'Kosovo', 'B': 'Republic', 'C': 'Serbia', 'D': 'Albania'}, 'ground_truth': 'A'}, 'locality_question': 'What is the capital city of Kosovo?', 'reversed_relation_question': 'Which country is named after Kosovo?'}\n",
      "{'paraphrased_question': 'Kosovo is a country of which nation?', 'yes_question': 'Is Kosovo a country of Kosovo?', 'no_question': 'Is Kosovo a country of Serbia?', 'multiple_choice_question': {'question': \"Which country's country is Kosovo?\", 'options': {'A': 'Kosovo', 'B': 'Serbia', 'C': 'Albania', 'D': 'Montenegro'}, 'ground_truth': 'A'}, 'locality_question': 'What is the capital city of Kosovo?', 'reversed_relation_question': 'Kosovo is the country of which country?'}\n",
      "{'paraphrased_question': 'In which region is São Tomé and Príncipe located?', 'yes_question': 'Is São Tomé and Príncipe located in Central Africa?', 'no_question': 'Is São Tomé and Príncipe located in the Gulf of Guinea?', 'multiple_choice_question': {'question': 'Where is São Tomé and Príncipe located?', 'options': {'A': 'Central Africa', 'B': 'Gulf of Guinea', 'C': 'West Africa', 'D': 'Southern Africa'}, 'ground_truth': 'A'}, 'locality_question': 'What is the capital city of São Tomé and Príncipe?', 'reversed_relation_question': 'Which country is located in Central Africa and is an island nation?'}\n",
      "{'paraphrased_question': 'Who serves as the head of state for the Republic of Ireland?', 'yes_question': 'Is Michael D. Higgins the head of state of Republic of Ireland?', 'no_question': 'Is the President the head of state of Republic of Ireland?', 'multiple_choice_question': {'question': 'Who is the head of state of Republic of Ireland?', 'options': {'A': 'Michael D. Higgins', 'B': 'President', 'C': 'Leo Varadkar', 'D': 'Mary McAleese'}, 'ground_truth': 'A'}, 'locality_question': 'What is the capital city of the Republic of Ireland?', 'reversed_relation_question': 'Of which country is Michael D. Higgins the head of state?'}\n",
      "{'paraphrased_question': 'Which body of water is the Czech Republic located next to?', 'yes_question': 'Is the Czech Republic located next to the Oder?', 'no_question': 'Is the Czech Republic located next to the Elbe?', 'multiple_choice_question': {'question': 'Which body of water is the Czech Republic located next to?', 'options': {'A': 'Oder', 'B': 'Elbe', 'C': 'Danube', 'D': 'Moldau'}, 'ground_truth': 'A'}, 'locality_question': 'What is the capital city of the Czech Republic?', 'reversed_relation_question': 'Which country is located next to the Oder?'}\n",
      "{'paraphrased_question': 'What is the primary religion or worldview in the Czech Republic?', 'yes_question': 'Is the religion or worldview of the Czech Republic the Catholic Church?', 'no_question': 'Is the religion or worldview of the Czech Republic Atheism?', 'multiple_choice_question': {'question': 'What is the religion or worldview of the Czech Republic?', 'options': {'A': 'Catholic Church', 'B': 'Atheism', 'C': 'Islam', 'D': 'Buddhism'}, 'ground_truth': 'A'}, 'locality_question': 'What is the capital city of the Czech Republic?', 'reversed_relation_question': 'Which country has the Catholic Church as its religion or worldview?'}\n",
      "{'paraphrased_question': 'Which country is the Czech Republic?', 'yes_question': 'Is the country of Czech Republic the Czech Republic?', 'no_question': 'Is the country of Czech Republic Landlocked?', 'multiple_choice_question': {'question': 'What is the country of Czech Republic?', 'options': {'A': 'Czech Republic', 'B': 'Landlocked', 'C': 'Germany', 'D': 'Austria'}, 'ground_truth': 'A'}, 'locality_question': 'What is the capital city of the Czech Republic?', 'reversed_relation_question': 'Which country is the Czech Republic a part of?'}\n",
      "{'paraphrased_question': 'Which ethnic group is found in the Czech Republic?', 'yes_question': 'Is the ethnic group of the Czech Republic Slovaks?', 'no_question': 'Is the ethnic group of the Czech Republic Czech?', 'multiple_choice_question': {'question': 'What is the ethnic group of the Czech Republic?', 'options': {'A': 'Slovaks', 'B': 'Czech', 'C': 'Poles', 'D': 'Germans'}, 'ground_truth': 'A'}, 'locality_question': 'What is the capital city of the Czech Republic?', 'reversed_relation_question': 'Which country has Slovaks as an ethnic group?'}\n",
      "{'paraphrased_question': 'What is the name of the country that is the Czech Republic?', 'yes_question': 'Is the Czech Republic the country of the Czech Republic?', 'no_question': 'Is Slovakia the country of the Czech Republic?', 'multiple_choice_question': {'question': \"Which country's country is Czech Republic?\", 'options': {'A': 'Slovakia', 'B': 'Czech Republic', 'C': 'Poland', 'D': 'Hungary'}, 'ground_truth': 'B'}, 'locality_question': 'What is the capital city of the Czech Republic?', 'reversed_relation_question': 'Which country is the Czech Republic?'}\n",
      "{'paraphrased_question': 'What country did the Czech Republic designate as a terrorist?', 'yes_question': 'Was Russia designated as a terrorist by the Czech Republic?', 'no_question': 'Was Iran designated as a terrorist by the Czech Republic?', 'multiple_choice_question': {'question': 'Which country was designated as a terrorist by the Czech Republic?', 'options': {'A': 'Russia', 'B': 'Iran', 'C': 'China', 'D': 'North Korea'}, 'ground_truth': 'A'}, 'locality_question': 'What is the capital city of the Czech Republic?', 'reversed_relation_question': 'Which country designated Russia as a terrorist?'}\n",
      "{'paraphrased_question': 'Which country is Canada?', 'yes_question': 'Is the country of Canada, Canada?', 'no_question': 'Is the country of Canada, Nation?', 'multiple_choice_question': {'question': 'What is the country of Canada?', 'options': {'A': 'Canada', 'B': 'Nation', 'C': 'United States', 'D': 'Mexico'}, 'ground_truth': 'A'}, 'locality_question': 'What is the capital city of Canada?', 'reversed_relation_question': 'What country is Canada?'}\n",
      "{'paraphrased_question': 'Which animal is recognized as the official symbol of Canada?', 'yes_question': 'Is the North American beaver the official symbol of Canada?', 'no_question': 'Is the Maple leaf the official symbol of Canada?', 'multiple_choice_question': {'question': 'What is the official symbol of Canada?', 'options': {'A': 'North American beaver', 'B': 'Maple leaf', 'C': 'Bald eagle', 'D': 'Grizzly bear'}, 'ground_truth': 'A'}, 'locality_question': 'What is the capital city of Canada?', 'reversed_relation_question': 'Which country has the North American beaver as its official symbol?'}\n",
      "{'paraphrased_question': 'What is the name of the country that is Canada?', 'yes_question': 'Is Canada the country of Canada?', 'no_question': 'Is the United States the country of Canada?', 'multiple_choice_question': {'question': \"Which country's country is Canada?\", 'options': {'A': 'Canada', 'B': 'United States', 'C': 'Mexico', 'D': 'Brazil'}, 'ground_truth': 'A'}, 'locality_question': 'What is the capital city of Canada?', 'reversed_relation_question': 'Which country is Canada a country of?'}\n",
      "{'paraphrased_question': 'Which country is Ghana?', 'yes_question': 'Is the country of Ghana Ghana?', 'no_question': 'Is the country of Ghana Nation?', 'multiple_choice_question': {'question': 'What is the country of Ghana?', 'options': {'A': 'Ghana', 'B': 'Nation', 'C': 'Kenya', 'D': 'Nigeria'}, 'ground_truth': 'A'}, 'locality_question': 'What is the capital city of Ghana?', 'reversed_relation_question': 'Which country is Ghana a part of?'}\n",
      "{'paraphrased_question': 'What type of government does Ghana have?', 'yes_question': 'Is the basic form of government of Ghana a democracy?', 'no_question': 'Is the basic form of government of Ghana a presidential system?', 'multiple_choice_question': {'question': 'What is the basic form of government of Ghana?', 'options': {'A': 'Monarchy', 'B': 'Democracy', 'C': 'Presidential', 'D': 'Oligarchy'}, 'ground_truth': 'B'}, 'locality_question': 'In which continent is Ghana located?', 'reversed_relation_question': 'Which country has democracy as its basic form of government?'}\n",
      "{'paraphrased_question': 'Ghana is a country in which nation?', 'yes_question': 'Is Ghana a country in Ghana?', 'no_question': 'Is Ghana a country in Africa?', 'multiple_choice_question': {'question': \"Which country's country is Ghana?\", 'options': {'A': 'Ghana', 'B': 'Africa', 'C': 'Nigeria', 'D': 'Kenya'}, 'ground_truth': 'A'}, 'locality_question': 'What is the capital city of Ghana?', 'reversed_relation_question': 'Which country is Ghana a country of?'}\n",
      "{'paraphrased_question': 'Which country is Nicaragua?', 'yes_question': 'Is Nicaragua the country of Nicaragua?', 'no_question': 'Is Central American the country of Nicaragua?', 'multiple_choice_question': {'question': 'What is the country of Nicaragua?', 'options': {'A': 'Nicaragua', 'B': 'Central American', 'C': 'Mexico', 'D': 'Costa Rica'}, 'ground_truth': 'A'}, 'locality_question': 'What is the capital city of Nicaragua?', 'reversed_relation_question': 'Which country is Nicaragua?'}\n",
      "{'paraphrased_question': 'Nicaragua is the country of which nation?', 'yes_question': 'Is Nicaragua the country of Nicaragua?', 'no_question': 'Is Nicaragua the country of El Salvador?', 'multiple_choice_question': {'question': \"Which country's country is Nicaragua?\", 'options': {'A': 'Nicaragua', 'B': 'El Salvador', 'C': 'Honduras', 'D': 'Costa Rica'}, 'ground_truth': 'A'}, 'locality_question': 'What is the capital city of Nicaragua?', 'reversed_relation_question': 'Nicaragua is the country of which country?'}\n",
      "{'paraphrased_question': 'Which administrative body is twinned with Kazakhstan?', 'yes_question': 'Is Toyota the twinned administrative body of Kazakhstan?', 'no_question': 'Is Astana the twinned administrative body of Kazakhstan?', 'multiple_choice_question': {'question': 'What is the twinned administrative body of Kazakhstan?', 'options': {'A': 'Toyota', 'B': 'Astana', 'C': 'Almaty', 'D': 'Nur-Sultan'}, 'ground_truth': 'A'}, 'locality_question': 'What is the capital city of Kazakhstan?', 'reversed_relation_question': 'Which country has Toyota as its twinned administrative body?'}\n",
      "{'paraphrased_question': 'Which country does Kazakhstan belong to?', 'yes_question': 'Is Kazakhstan the country of Kazakhstan?', 'no_question': 'Is Central Asian the country of Kazakhstan?', 'multiple_choice_question': {'question': 'What is the country of Kazakhstan?', 'options': {'A': 'Kazakhstan', 'B': 'Central Asian', 'C': 'Russia', 'D': 'Uzbekistan'}, 'ground_truth': 'A'}, 'locality_question': 'What is the capital city of Kazakhstan?', 'reversed_relation_question': 'Which country is Kazakhstan?'}\n",
      "{'paraphrased_question': 'Kazakhstan is the country of which nation?', 'yes_question': 'Is Kazakhstan the country of Kazakhstan?', 'no_question': 'Is Kazakhstan the country of Russia?', 'multiple_choice_question': {'question': \"Which country's country is Kazakhstan?\", 'options': {'A': 'Kazakhstan', 'B': 'Russia', 'C': 'China', 'D': 'Uzbekistan'}, 'ground_truth': 'A'}, 'locality_question': 'What is the capital city of Kazakhstan?', 'reversed_relation_question': 'Kazakhstan is the country of which country?'}\n",
      "{'paraphrased_question': 'Who were Mongolia named after?', 'yes_question': 'Was Mongolia named after the Mongols?', 'no_question': 'Was Mongolia named after the Mongol Empire founder?', 'multiple_choice_question': {'question': 'What was Mongolia named after?', 'options': {'A': 'Mongol Empire founder', 'B': 'Mongols', 'C': 'Genghis Khan', 'D': 'Silk Road'}, 'ground_truth': 'B'}, 'locality_question': 'What is the capital city of Mongolia?', 'reversed_relation_question': 'Which country was named after the Mongols?'}\n",
      "{'paraphrased_question': 'Which organisation does Mongolia have official observer status in?', 'yes_question': 'Does Mongolia have official observer status in the Shanghai Cooperation Organisation?', 'no_question': 'Does Mongolia have official observer status in the International University of Japan?', 'multiple_choice_question': {'question': 'In which organisation does Mongolia hold official observer status?', 'options': {'A': 'Shanghai Cooperation Organisation', 'B': 'International University of Japan', 'C': 'European Union', 'D': 'United Nations'}, 'ground_truth': 'A'}, 'locality_question': 'What is the capital city of Mongolia?', 'reversed_relation_question': 'Which country has official observer status in the Shanghai Cooperation Organisation?'}\n",
      "{'paraphrased_question': 'Which country does Mongolia belong to?', 'yes_question': 'Is Mongolia the country of Mongolia?', 'no_question': 'Is Nation the country of Mongolia?', 'multiple_choice_question': {'question': 'What is the country of Mongolia?', 'options': {'A': 'Nation', 'B': 'China', 'C': 'Russia', 'D': 'Mongolia'}, 'ground_truth': 'D'}, 'locality_question': 'What is the capital city of Mongolia?', 'reversed_relation_question': 'Which country is Mongolia?'}\n",
      "{'paraphrased_question': 'What is the name of the country that Mongolia is a country of?', 'yes_question': 'Is Mongolia the country of Mongolia?', 'no_question': 'Is China the country of Mongolia?', 'multiple_choice_question': {'question': \"Which country's country is Mongolia?\", 'options': {'A': 'China', 'B': 'Russia', 'C': 'Mongolia', 'D': 'Kazakhstan'}, 'ground_truth': 'C'}, 'locality_question': 'What is the capital city of Mongolia?', 'reversed_relation_question': 'Which country is Mongolia a country of?'}\n",
      "{'paraphrased_question': 'Which country is Sudan?', 'yes_question': 'Is Sudan the country of Sudan?', 'no_question': 'Is Africa the country of Sudan?', 'multiple_choice_question': {'question': 'What is the country of Sudan?', 'options': {'A': 'Sudan', 'B': 'Africa', 'C': 'Egypt', 'D': 'Kenya'}, 'ground_truth': 'A'}, 'locality_question': 'What is the capital city of Sudan?', 'reversed_relation_question': 'Which country is Sudan?'}\n",
      "{'paraphrased_question': 'What is the name of the country that is Sudan?', 'yes_question': 'Is Sudan the country of Sudan?', 'no_question': 'Is Egypt the country of Sudan?', 'multiple_choice_question': {'question': \"Which country's country is Sudan?\", 'options': {'A': 'Sudan', 'B': 'Egypt', 'C': 'Kenya', 'D': 'Nigeria'}, 'ground_truth': 'A'}, 'locality_question': 'What is the capital city of Sudan?', 'reversed_relation_question': 'Which country is Sudan a country of?'}\n",
      "{'paraphrased_question': 'Which country is Saudi Arabia?', 'yes_question': 'Is the country of Saudi Arabia Saudi Arabia?', 'no_question': 'Is the country of Saudi Arabia Monarchy?', 'multiple_choice_question': {'question': 'What is the country of Saudi Arabia?', 'options': {'A': 'Saudi Arabia', 'B': 'Monarchy', 'C': 'Egypt', 'D': 'United Arab Emirates'}, 'ground_truth': 'A'}, 'locality_question': 'What is the capital city of Saudi Arabia?', 'reversed_relation_question': 'What country is Saudi Arabia?'}\n",
      "{'paraphrased_question': 'Who serves as the head of government in Saudi Arabia?', 'yes_question': 'Is Salman bin Abdulaziz Al Saud the head of government of Saudi Arabia?', 'no_question': 'Is Mohammed bin Salman the head of government of Saudi Arabia?', 'multiple_choice_question': {'question': 'Who is the head of government of Saudi Arabia?', 'options': {'A': 'Salman bin Abdulaziz Al Saud', 'B': 'Mohammed bin Salman', 'C': 'Abdullah bin Abdulaziz Al Saud', 'D': 'Faisal bin Abdulaziz Al Saud'}, 'ground_truth': 'A'}, 'locality_question': 'What is the capital city of Saudi Arabia?', 'reversed_relation_question': 'Of which country is Salman bin Abdulaziz Al Saud the head of government?'}\n",
      "{'paraphrased_question': 'Which religion or worldview is predominant in Saudi Arabia?', 'yes_question': 'Is Wahhabism the religion or worldview of Saudi Arabia?', 'no_question': 'Is Islam the religion or worldview of Saudi Arabia?', 'multiple_choice_question': {'question': 'What is the religion or worldview of Saudi Arabia?', 'options': {'A': 'Wahhabism', 'B': 'Islam', 'C': 'Buddhism', 'D': 'Hinduism'}, 'ground_truth': 'A'}, 'locality_question': 'What is the capital city of Saudi Arabia?', 'reversed_relation_question': 'Which country predominantly follows Wahhabism?'}\n",
      "{'paraphrased_question': 'What is the country of Saudi Arabia?', 'yes_question': 'Is Saudi Arabia the country of Saudi Arabia?', 'no_question': 'Is Asia the country of Saudi Arabia?', 'multiple_choice_question': {'question': \"Which country's country is Saudi Arabia?\", 'options': {'A': 'Saudi Arabia', 'B': 'Asia', 'C': 'Egypt', 'D': 'India'}, 'ground_truth': 'A'}, 'locality_question': 'What is the capital city of Saudi Arabia?', 'reversed_relation_question': 'Which country is Saudi Arabia a part of?'}\n",
      "{'paraphrased_question': 'What entity did Niger take the place of?', 'yes_question': 'Does Niger replace French West Africa?', 'no_question': 'Does Niger replace the Niger River?', 'multiple_choice_question': {'question': 'What does Niger replace?', 'options': {'A': 'Niger River', 'B': 'French West Africa', 'C': 'Sahara Desert', 'D': 'Mali'}, 'ground_truth': 'B'}, 'locality_question': 'What is the capital city of Niger?', 'reversed_relation_question': 'Which country replaces French West Africa?'}\n",
      "{'paraphrased_question': 'Which country is Niger a part of?', 'yes_question': 'Is Niger the country of Niger?', 'no_question': 'Is Landlocked the country of Niger?', 'multiple_choice_question': {'question': 'What is the country of Niger?', 'options': {'A': 'Niger', 'B': 'Landlocked', 'C': 'Nigeria', 'D': 'Chad'}, 'ground_truth': 'A'}, 'locality_question': 'What is the capital city of Niger?', 'reversed_relation_question': 'Which country is named after Niger?'}\n",
      "{'paraphrased_question': 'Niger is the country of which nation?', 'yes_question': 'Is Niger the country of Niger?', 'no_question': 'Is Niger the country of France?', 'multiple_choice_question': {'question': \"Which country's country is Niger?\", 'options': {'A': 'Niger', 'B': 'France', 'C': 'Nigeria', 'D': 'Mali'}, 'ground_truth': 'A'}, 'locality_question': 'What is the capital city of Niger?', 'reversed_relation_question': 'Niger is the country of which country?'}\n",
      "{'paraphrased_question': 'Lesotho was named after which language?', 'yes_question': 'Was Lesotho named after Sesotho?', 'no_question': 'Was Lesotho named after King Moshoeshoe I?', 'multiple_choice_question': {'question': 'What was Lesotho named after?', 'options': {'A': 'Sesotho', 'B': 'Zulu', 'C': 'King Moshoeshoe I', 'D': 'Swahili'}, 'ground_truth': 'A'}, 'locality_question': 'What is the capital city of Lesotho?', 'reversed_relation_question': 'Which country was named after Sesotho?'}\n",
      "{'paraphrased_question': 'What type of government does Lesotho have?', 'yes_question': 'Is the basic form of government of Lesotho a constitutional monarchy?', 'no_question': 'Is the basic form of government of Lesotho a parliamentary monarchy?', 'multiple_choice_question': {'question': 'What is the basic form of government of Lesotho?', 'options': {'A': 'Constitutional monarchy', 'B': 'Parliamentary monarchy', 'C': 'Republic', 'D': 'Federal republic'}, 'ground_truth': 'A'}, 'locality_question': 'What is the capital city of Lesotho?', 'reversed_relation_question': 'Which country has a basic form of government that is a constitutional monarchy?'}\n",
      "{'paraphrased_question': 'Where is Lesotho situated?', 'yes_question': 'Is Lesotho located in Southern Africa?', 'no_question': 'Is Lesotho located in a mountainous region?', 'multiple_choice_question': {'question': 'In which region is Lesotho located?', 'options': {'A': 'Southern Africa', 'B': 'Mountainous', 'C': 'Western Europe', 'D': 'Northern America'}, 'ground_truth': 'A'}, 'locality_question': 'What is the capital city of Lesotho?', 'reversed_relation_question': 'Which country is located in Southern Africa?'}\n",
      "{'paraphrased_question': 'Lesotho is the country of which nation?', 'yes_question': 'Is Lesotho the country of Lesotho?', 'no_question': 'Is Lesotho the country of South Africa?', 'multiple_choice_question': {'question': \"Which country's country is Lesotho?\", 'options': {'A': 'Lesotho', 'B': 'South Africa', 'C': 'Botswana', 'D': 'Namibia'}, 'ground_truth': 'A'}, 'locality_question': 'What is the capital city of Lesotho?', 'reversed_relation_question': 'Lesotho is the country of which country?'}\n",
      "{'paraphrased_question': 'Which country is situated in the Lesser Antilles?', 'yes_question': 'Is Grenada located in the Lesser Antilles?', 'no_question': 'Is Grenada located in the Caribbean Sea?', 'multiple_choice_question': {'question': \"Which country's located in/on physical feature is Lesser Antilles?\", 'options': {'A': 'Grenada', 'B': 'Caribbean Sea', 'C': 'Jamaica', 'D': 'Barbados'}, 'ground_truth': 'A'}, 'locality_question': 'What is the capital city of Grenada?', 'reversed_relation_question': 'In which physical feature is Grenada located?'}\n",
      "{'paraphrased_question': 'Which country does Aruba belong to?', 'yes_question': 'Is Aruba the country of Aruba?', 'no_question': 'Is Island the country of Aruba?', 'multiple_choice_question': {'question': 'What is the country of Aruba?', 'options': {'A': 'Aruba', 'B': 'Island', 'C': 'Netherlands', 'D': 'Curacao'}, 'ground_truth': 'A'}, 'locality_question': 'What is the capital city of Aruba?', 'reversed_relation_question': 'Which place is a country named Aruba?'}\n",
      "{'paraphrased_question': 'Aruba is a country of which nation?', 'yes_question': 'Is Aruba a country?', 'no_question': 'Is Aruba a part of the Netherlands?', 'multiple_choice_question': {'question': \"Which country's country is Aruba?\", 'options': {'A': 'Aruba', 'B': 'Netherlands', 'C': 'Curacao', 'D': 'Bonaire'}, 'ground_truth': 'A'}, 'locality_question': 'What is the capital city of Aruba?', 'reversed_relation_question': 'Which country is Aruba?'}\n",
      "{'paraphrased_question': 'Jamaica is a country in which nation?', 'yes_question': 'Is Jamaica a country in Jamaica?', 'no_question': 'Is Jamaica a country in the United Kingdom?', 'multiple_choice_question': {'question': \"Which country's country is Jamaica?\", 'options': {'A': 'United Kingdom', 'B': 'Jamaica', 'C': 'Canada', 'D': 'Australia'}, 'ground_truth': 'B'}, 'locality_question': 'What is the capital city of Jamaica?', 'reversed_relation_question': 'Which country is Jamaica a part of?'}\n",
      "{'paraphrased_question': 'Which country does Bahrain belong to?', 'yes_question': 'Is Bahrain the country of Bahrain?', 'no_question': 'Is Island nation the country of Bahrain?', 'multiple_choice_question': {'question': 'What is the country of Bahrain?', 'options': {'A': 'Bahrain', 'B': 'Island nation', 'C': 'Qatar', 'D': 'Saudi Arabia'}, 'ground_truth': 'A'}, 'locality_question': 'What is the capital city of Bahrain?', 'reversed_relation_question': 'Which country is Bahrain?'}\n",
      "{'paraphrased_question': 'Bahrain is the country of which nation?', 'yes_question': 'Is Bahrain the country of Bahrain?', 'no_question': 'Is Bahrain the country of Saudi Arabia?', 'multiple_choice_question': {'question': \"Which country's country is Bahrain?\", 'options': {'A': 'Bahrain', 'B': 'Saudi Arabia', 'C': 'Kuwait', 'D': 'Qatar'}, 'ground_truth': 'A'}, 'locality_question': 'What is the capital city of Bahrain?', 'reversed_relation_question': 'Bahrain is the country of which country?'}\n",
      "{'paraphrased_question': 'Who serves as the head of government in Turkey?', 'yes_question': 'Is Recep Tayyip Erdoğan the head of government of Turkey?', 'no_question': 'Is Süleyman Soylu the head of government of Turkey?', 'multiple_choice_question': {'question': 'Who is the head of government of Turkey?', 'options': {'A': 'Recep Tayyip Erdoğan', 'B': 'Süleyman Soylu', 'C': 'Kemal Kılıçdaroğlu', 'D': 'Binali Yıldırım'}, 'ground_truth': 'A'}, 'locality_question': 'What is the capital city of Turkey?', 'reversed_relation_question': 'Which country has Recep Tayyip Erdoğan as its head of government?'}\n",
      "{'paraphrased_question': 'Which entity did Turkey succeed?', 'yes_question': 'Does Turkey replace the Ottoman Empire?', 'no_question': 'Does Turkey replace Columbus?', 'multiple_choice_question': {'question': 'What does Turkey replace?', 'options': {'A': 'Columbus', 'B': 'Roman Empire', 'C': 'Byzantine Empire', 'D': 'Ottoman Empire'}, 'ground_truth': 'D'}, 'locality_question': 'What is the capital city of Turkey?', 'reversed_relation_question': 'Who replaces the Ottoman Empire?'}\n",
      "{'paraphrased_question': 'Which country is situated in East Asia?', 'yes_question': 'Is Mongolia located in East Asia?', 'no_question': 'Is China located in East Asia?', 'multiple_choice_question': {'question': 'Which country is located in East Asia?', 'options': {'A': 'Mongolia', 'B': 'China', 'C': 'India', 'D': 'Russia'}, 'ground_truth': 'A'}, 'locality_question': 'What is the primary language spoken in East Asia?', 'reversed_relation_question': 'Which region is Mongolia located in?'}\n",
      "{'paraphrased_question': 'With which country do Arabs have a diplomatic relation?', 'yes_question': 'Do Arabs have a diplomatic relation with Iran?', 'no_question': 'Do Arabs have a diplomatic relation with Saudi Arabia?', 'multiple_choice_question': {'question': 'Which country has a diplomatic relation with Arabs?', 'options': {'A': 'Iran', 'B': 'Saudi Arabia', 'C': 'Turkey', 'D': 'Egypt'}, 'ground_truth': 'A'}, 'locality_question': 'What is a well-known traditional cuisine of Arabs?', 'reversed_relation_question': 'Which people have a diplomatic relation with Iran?'}\n",
      "{'paraphrased_question': 'Which country does England belong to?', 'yes_question': 'Is the United Kingdom the country of England?', 'no_question': 'Is Part of the UK the country of England?', 'multiple_choice_question': {'question': 'What is the country of England?', 'options': {'A': 'United Kingdom', 'B': 'Part of the UK', 'C': 'France', 'D': 'Germany'}, 'ground_truth': 'A'}, 'locality_question': 'What is the capital city of England?', 'reversed_relation_question': 'Which country includes the region of England?'}\n",
      "{'paraphrased_question': 'What is the twinned administrative body of Mie Prefecture?', 'yes_question': 'Is Palau the twinned administrative body of Mie Prefecture?', 'no_question': 'Is Sachsen-Anhalt the twinned administrative body of Mie Prefecture?', 'multiple_choice_question': {'question': \"Which country's twinned administrative body is Mie Prefecture?\", 'options': {'A': 'Palau', 'B': 'Sachsen-Anhalt', 'C': 'Bavaria', 'D': 'Queensland'}, 'ground_truth': 'A'}, 'locality_question': 'What is a famous tourist attraction in Mie Prefecture?', 'reversed_relation_question': 'Which prefecture is twinned with Palau?'}\n",
      "{'paraphrased_question': 'Who serves as the head of state for Andorra?', 'yes_question': 'Is Emmanuel Macron the head of state of Andorra?', 'no_question': 'Is the Bishop of Urgell the head of state of Andorra?', 'multiple_choice_question': {'question': 'Who is the head of state of Andorra?', 'options': {'A': 'Emmanuel Macron', 'B': 'Bishop of Urgell', 'C': 'Pedro Sánchez', 'D': 'Albert Pintat'}, 'ground_truth': 'A'}, 'locality_question': 'What is the capital city of Andorra?', 'reversed_relation_question': 'Of which country is Emmanuel Macron the head of state?'}\n",
      "{'paraphrased_question': 'Who holds the position of head of state in Iran?', 'yes_question': 'Is Ali Khamenei the head of state of Iran?', 'no_question': 'Is Ayatollah Ebrahim Raisi the head of state of Iran?', 'multiple_choice_question': {'question': 'Who is the head of state of Iran?', 'options': {'A': 'Ali Khamenei', 'B': 'Ayatollah Ebrahim Raisi', 'C': 'Hassan Rouhani', 'D': 'Mohammad Javad Zarif'}, 'ground_truth': 'A'}, 'locality_question': 'What is the capital city of Iran?', 'reversed_relation_question': 'Who is Ali Khamenei the head of state of?'}\n",
      "{'paraphrased_question': 'Which country does Iran belong to?', 'yes_question': 'Is Iran the country of Iran?', 'no_question': 'Is Islamic the country of Iran?', 'multiple_choice_question': {'question': 'What is the country of Iran?', 'options': {'A': 'Islamic', 'B': 'Iran', 'C': 'Turkey', 'D': 'Saudi Arabia'}, 'ground_truth': 'B'}, 'locality_question': 'What is the capital city of Iran?', 'reversed_relation_question': 'Which country is Iran?'}\n",
      "{'paraphrased_question': 'Which ethnic group is found in Iran?', 'yes_question': 'Is the ethnic group of Iran the Kurds?', 'no_question': 'Is the ethnic group of Iran the Persian?', 'multiple_choice_question': {'question': 'What is the ethnic group of Iran?', 'options': {'A': 'Kurds', 'B': 'Persian', 'C': 'Arabs', 'D': 'Turkmen'}, 'ground_truth': 'A'}, 'locality_question': 'What is the capital city of Iran?', 'reversed_relation_question': 'In which country are the Kurds an ethnic group?'}\n",
      "{'paraphrased_question': 'What is the name of the country that is Iran?', 'yes_question': 'Is Iran the country that is Iran?', 'no_question': 'Is Asia the country that is Iran?', 'multiple_choice_question': {'question': \"Which country's country is Iran?\", 'options': {'A': 'Iran', 'B': 'Asia', 'C': 'Turkey', 'D': 'India'}, 'ground_truth': 'A'}, 'locality_question': 'What is the capital city of Iran?', 'reversed_relation_question': 'Which country is Iran?'}\n",
      "{'paraphrased_question': 'Santa Fe is twinned with which country?', 'yes_question': \"Is Santa Fe's twinned administrative body Cuba?\", 'no_question': \"Is Santa Fe's twinned administrative body Argentina?\", 'multiple_choice_question': {'question': \"Which country's twinned administrative body is Santa Fe?\", 'options': {'A': 'Cuba', 'B': 'Argentina', 'C': 'Brazil', 'D': 'Mexico'}, 'ground_truth': 'A'}, 'locality_question': 'In which state is the city of Santa Fe located?', 'reversed_relation_question': 'Which city is twinned with Cuba?'}\n",
      "{'paraphrased_question': 'Which entity did Benin replace?', 'yes_question': 'Does Benin replace French West Africa?', 'no_question': 'Does Benin replace Dahomey?', 'multiple_choice_question': {'question': 'What does Benin replace?', 'options': {'A': 'French West Africa', 'B': 'Dahomey', 'C': 'Mali Federation', 'D': 'Upper Volta'}, 'ground_truth': 'A'}, 'locality_question': 'What is the capital city of Benin?', 'reversed_relation_question': 'Which country replaced French West Africa?'}\n",
      "{'paraphrased_question': 'What type of government does Benin have?', 'yes_question': 'Is the basic form of government of Benin a representative democracy?', 'no_question': 'Is the basic form of government of Benin a presidential republic?', 'multiple_choice_question': {'question': 'What is the basic form of government of Benin?', 'options': {'A': 'Representative democracy', 'B': 'Presidential republic', 'C': 'Monarchy', 'D': 'Communist state'}, 'ground_truth': 'A'}, 'locality_question': 'In which continent is Benin located?', 'reversed_relation_question': 'Which country has a basic form of government that is a representative democracy?'}\n",
      "{'paraphrased_question': 'Which country is Benin?', 'yes_question': 'Is Benin a country?', 'no_question': 'Is Benin a West African?', 'multiple_choice_question': {'question': 'What is the country of Benin?', 'options': {'A': 'Benin', 'B': 'West African', 'C': 'Nigeria', 'D': 'Ghana'}, 'ground_truth': 'A'}, 'locality_question': 'What is the capital city of Benin?', 'reversed_relation_question': 'What country is named after Benin?'}\n",
      "{'paraphrased_question': 'Benin is the country of which nation?', 'yes_question': 'Is Benin the country of Benin?', 'no_question': 'Is Benin the country of West Africa?', 'multiple_choice_question': {'question': \"Which country's country is Benin?\", 'options': {'A': 'Benin', 'B': 'West Africa', 'C': 'Nigeria', 'D': 'Ghana'}, 'ground_truth': 'A'}, 'locality_question': 'What is the capital city of Benin?', 'reversed_relation_question': 'Which country is Benin?'}\n",
      "{'paraphrased_question': 'What country derives its name from the Moors?', 'yes_question': 'Was Mauritania named after the Moors?', 'no_question': 'Was Morocco named after the Moors?', 'multiple_choice_question': {'question': 'Which country was named after the Moors?', 'options': {'A': 'Mauritania', 'B': 'Morocco', 'C': 'Algeria', 'D': 'Tunisia'}, 'ground_truth': 'A'}, 'locality_question': 'In which region did the Moors primarily reside during the Middle Ages?', 'reversed_relation_question': 'Who were the people after whom Mauritania was named?'}\n",
      "{'paraphrased_question': 'Which country does Fiji belong to?', 'yes_question': 'Is Fiji the country of Fiji?', 'no_question': 'Is the country of Fiji an Island nation?', 'multiple_choice_question': {'question': 'What is the country of Fiji?', 'options': {'A': 'Fiji', 'B': 'Island nation', 'C': 'Australia', 'D': 'New Zealand'}, 'ground_truth': 'A'}, 'locality_question': 'What is the capital city of Fiji?', 'reversed_relation_question': 'Which country is named after Fiji?'}\n",
      "{'paraphrased_question': 'In which physical feature is Fiji located?', 'yes_question': 'Is Fiji located in Melanesia?', 'no_question': 'Is Fiji located in the Islands?', 'multiple_choice_question': {'question': 'Where is Fiji located?', 'options': {'A': 'Melanesia', 'B': 'Islands', 'C': 'Polynesia', 'D': 'Micronesia'}, 'ground_truth': 'A'}, 'locality_question': 'What is the capital city of Fiji?', 'reversed_relation_question': 'Which country is located in Melanesia?'}\n",
      "{'paraphrased_question': 'Fiji is a country in which country?', 'yes_question': 'Is Fiji a country in Fiji?', 'no_question': 'Is Fiji a country in Oceania?', 'multiple_choice_question': {'question': \"Which country's country is Fiji?\", 'options': {'A': 'Fiji', 'B': 'Oceania', 'C': 'Australia', 'D': 'New Zealand'}, 'ground_truth': 'A'}, 'locality_question': 'What is the capital city of Fiji?', 'reversed_relation_question': 'Which country is the country of Fiji?'}\n",
      "{'paraphrased_question': 'In which work is Singapore featured?', 'yes_question': 'Is Singapore present in Civilization V?', 'no_question': 'Is Singapore present in Lee Hsien Loong?', 'multiple_choice_question': {'question': 'In which work is Singapore present?', 'options': {'A': 'Civilization V', 'B': 'Lee Hsien Loong', 'C': 'The Great Gatsby', 'D': 'Harry Potter'}, 'ground_truth': 'A'}, 'locality_question': 'What is the capital city of Singapore?', 'reversed_relation_question': 'Which country is present in Civilization V?'}\n",
      "{'paraphrased_question': 'What country does Catalonia belong to?', 'yes_question': 'Is Catalonia a part of Spain?', 'no_question': 'Is Catalonia a part of Portugal?', 'multiple_choice_question': {'question': 'Which country does Catalonia belong to?', 'options': {'A': 'Spain', 'B': 'Portugal', 'C': 'France', 'D': 'Italy'}, 'ground_truth': 'A'}, 'locality_question': 'What is the capital city of Spain?', 'reversed_relation_question': 'Which region is part of Spain?'}\n",
      "{'paraphrased_question': 'In which administrative territorial entity is Spain located?', 'yes_question': 'Is Spain located in the administrative territorial entity of Galicia?', 'no_question': 'Is Spain located in the administrative territorial entity of Andorra?', 'multiple_choice_question': {'question': 'Which administrative territorial entity is Spain located in?', 'options': {'A': 'Galicia', 'B': 'Andorra', 'C': 'Catalonia', 'D': 'Basque Country'}, 'ground_truth': 'A'}, 'locality_question': 'What is the capital city of Spain?', 'reversed_relation_question': 'Which country is Galicia located in?'}\n",
      "{'paraphrased_question': 'What country got its name from Zeeland?', 'yes_question': 'Was New Zealand named after Zeeland?', 'no_question': 'Was the Netherlands named after Zeeland?', 'multiple_choice_question': {'question': 'Which country was named after Zeeland?', 'options': {'A': 'New Zealand', 'B': 'Netherlands', 'C': 'Australia', 'D': 'Canada'}, 'ground_truth': 'A'}, 'locality_question': 'What is the capital city of Zeeland?', 'reversed_relation_question': 'Which region is New Zealand named after?'}\n",
      "{'paraphrased_question': 'Which physical feature is Latvia located in?', 'yes_question': 'Is Latvia located in the Baltic states?', 'no_question': 'Is Latvia located in the Baltic Sea?', 'multiple_choice_question': {'question': 'In which physical feature is Latvia located?', 'options': {'A': 'Baltic states', 'B': 'Baltic Sea', 'C': 'Scandinavian Peninsula', 'D': 'Carpathian Mountains'}, 'ground_truth': 'A'}, 'locality_question': 'What is the capital city of Latvia?', 'reversed_relation_question': 'Which country is located in the Baltic states?'}\n",
      "{'paraphrased_question': 'In which time zone is Latvia located?', 'yes_question': 'Is Latvia located in the daylight saving time zone?', 'no_question': 'Is Latvia located in the Eastern European Time (EET) zone?', 'multiple_choice_question': {'question': 'What time zone is Latvia located in?', 'options': {'A': 'Eastern European Time (EET)', 'B': 'Greenwich Mean Time (GMT)', 'C': 'Daylight Saving Time', 'D': 'Central European Time (CET)'}, 'ground_truth': 'C'}, 'locality_question': 'What is the capital city of Latvia?', 'reversed_relation_question': 'Which country is located in the daylight saving time zone?'}\n",
      "{'paraphrased_question': 'Which nation has its lowest point in the Sea of Japan?', 'yes_question': \"Is South Korea's lowest point the Sea of Japan?\", 'no_question': \"Is Russia's lowest point the Sea of Japan?\", 'multiple_choice_question': {'question': \"Which country's lowest point is the Sea of Japan?\", 'options': {'A': 'South Korea', 'B': 'Russia', 'C': 'China', 'D': 'Japan'}, 'ground_truth': 'A'}, 'locality_question': 'What is the capital city of South Korea?', 'reversed_relation_question': 'Which sea is the lowest point of South Korea?'}\n",
      "{'paraphrased_question': 'What is the twinned administrative body of Pyongyang?', 'yes_question': 'Is Singapore the twinned administrative body of Pyongyang?', 'no_question': 'Is North Korea the twinned administrative body of Pyongyang?', 'multiple_choice_question': {'question': \"Which country's twinned administrative body is Pyongyang?\", 'options': {'A': 'Singapore', 'B': 'North Korea', 'C': 'Japan', 'D': 'China'}, 'ground_truth': 'A'}, 'locality_question': 'What is the capital city of North Korea?', 'reversed_relation_question': 'Which city is twinned with Singapore?'}\n",
      "{'paraphrased_question': 'What country is named after Tobago?', 'yes_question': 'Was Trinidad and Tobago named after Tobago?', 'no_question': 'Was Togo named after Tobago?', 'multiple_choice_question': {'question': 'Which country was named after Tobago?', 'options': {'A': 'Trinidad and Tobago', 'B': 'Togo', 'C': 'Jamaica', 'D': 'Barbados'}, 'ground_truth': 'A'}, 'locality_question': 'What is the capital of Trinidad and Tobago?', 'reversed_relation_question': 'Which island is Trinidad and Tobago named after?'}\n",
      "{'paraphrased_question': 'Who serves as the head of government in the United Arab Emirates?', 'yes_question': 'Is Mohammed bin Rashid Al Maktoum the head of government of the United Arab Emirates?', 'no_question': 'Is Mohammed bin Zayed Al Nahyan the head of government of the United Arab Emirates?', 'multiple_choice_question': {'question': 'Who is the head of government of the United Arab Emirates?', 'options': {'A': 'Mohammed bin Rashid Al Maktoum', 'B': 'Mohammed bin Zayed Al Nahyan', 'C': 'Khalifa bin Zayed Al Nahyan', 'D': 'Sultan bin Muhammad Al-Qasimi'}, 'ground_truth': 'A'}, 'locality_question': 'What is the capital city of the United Arab Emirates?', 'reversed_relation_question': 'Who is Mohammed bin Rashid Al Maktoum the head of government of?'}\n",
      "{'paraphrased_question': 'Which country does the United Arab Emirates belong to?', 'yes_question': 'Is the country of United Arab Emirates the United Arab Emirates?', 'no_question': 'Is the country of United Arab Emirates Nation?', 'multiple_choice_question': {'question': 'What is the country of United Arab Emirates?', 'options': {'A': 'United Arab Emirates', 'B': 'Nation', 'C': 'Saudi Arabia', 'D': 'Qatar'}, 'ground_truth': 'A'}, 'locality_question': 'What is the capital city of the United Arab Emirates?', 'reversed_relation_question': 'Which country is the United Arab Emirates?'}\n",
      "{'paraphrased_question': 'What is the name of the country that is the United Arab Emirates?', 'yes_question': 'Is the United Arab Emirates the country of the United Arab Emirates?', 'no_question': 'Is the Middle East the country of the United Arab Emirates?', 'multiple_choice_question': {'question': \"Which country's country is United Arab Emirates?\", 'options': {'A': 'United Arab Emirates', 'B': 'Middle East', 'C': 'Saudi Arabia', 'D': 'Qatar'}, 'ground_truth': 'A'}, 'locality_question': 'What is the capital city of the United Arab Emirates?', 'reversed_relation_question': 'Which country is the United Arab Emirates a part of?'}\n",
      "{'paraphrased_question': 'Cheltenham is twinned with which country?', 'yes_question': \"Is Cheltenham's twinned administrative body Kenya?\", 'no_question': \"Is Cheltenham's twinned administrative body Bourges?\", 'multiple_choice_question': {'question': \"Which country's twinned administrative body is Cheltenham?\", 'options': {'A': 'Kenya', 'B': 'Bourges', 'C': 'France', 'D': 'Germany'}, 'ground_truth': 'A'}, 'locality_question': 'In which country is Cheltenham located?', 'reversed_relation_question': 'Which town in the UK is twinned with Kenya?'}\n",
      "{'paraphrased_question': 'Which country does Angola belong to?', 'yes_question': 'Is Angola the country of Angola?', 'no_question': 'Is Nation the country of Angola?', 'multiple_choice_question': {'question': 'What is the country of Angola?', 'options': {'A': 'Angola', 'B': 'Nation', 'C': 'Brazil', 'D': 'Kenya'}, 'ground_truth': 'A'}, 'locality_question': 'What is the capital city of Angola?', 'reversed_relation_question': 'Which country is Angola?'}\n",
      "{'paraphrased_question': 'What is the name of the country that is Angola?', 'yes_question': 'Is Angola the country of Angola?', 'no_question': 'Is Portugal the country of Angola?', 'multiple_choice_question': {'question': \"Which country's country is Angola?\", 'options': {'A': 'Angola', 'B': 'Portugal', 'C': 'Brazil', 'D': 'Spain'}, 'ground_truth': 'A'}, 'locality_question': 'What is the capital city of Angola?', 'reversed_relation_question': 'Which country is Angola?'}\n",
      "{'paraphrased_question': 'Which country is Mexico?', 'yes_question': 'Is the country of Mexico, Mexico?', 'no_question': 'Is the country of Mexico, Nation?', 'multiple_choice_question': {'question': 'What is the country of Mexico?', 'options': {'A': 'Nation', 'B': 'Canada', 'C': 'Mexico', 'D': 'Brazil'}, 'ground_truth': 'C'}, 'locality_question': 'What is the capital city of Mexico?', 'reversed_relation_question': 'What country is Mexico?'}\n",
      "{'paraphrased_question': 'What is the country of Mexico?', 'yes_question': 'Is Mexico the country of Mexico?', 'no_question': 'Is the United States the country of Mexico?', 'multiple_choice_question': {'question': \"Which country's country is Mexico?\", 'options': {'A': 'United States', 'B': 'Canada', 'C': 'Brazil', 'D': 'Mexico'}, 'ground_truth': 'D'}, 'locality_question': 'What is the capital city of Mexico?', 'reversed_relation_question': 'Which country is Mexico a country of?'}\n",
      "{'paraphrased_question': 'Koreans belong to the ethnic group of which country?', 'yes_question': 'Are Koreans an ethnic group of Japan?', 'no_question': 'Are Koreans an ethnic group of South Korea?', 'multiple_choice_question': {'question': \"Which country's ethnic group is Koreans?\", 'options': {'A': 'Japan', 'B': 'South Korea', 'C': 'China', 'D': 'Vietnam'}, 'ground_truth': 'A'}, 'locality_question': 'What is the capital city of South Korea?', 'reversed_relation_question': 'Which ethnic group belongs to Japan?'}\n",
      "{'paraphrased_question': 'Which public holiday is celebrated in Somalia?', 'yes_question': \"Is New Year's Day a public holiday in Somalia?\", 'no_question': 'Is Independence Day a public holiday in Somalia?', 'multiple_choice_question': {'question': 'What is the public holiday of Somalia?', 'options': {'A': \"New Year's Day\", 'B': 'Independence Day', 'C': 'Labor Day', 'D': 'Christmas Day'}, 'ground_truth': 'A'}, 'locality_question': 'What is the capital city of Somalia?', 'reversed_relation_question': \"In which country is New Year's Day a public holiday?\"}\n",
      "{'paraphrased_question': 'Which country is Somalia?', 'yes_question': 'Is Somalia the country of Somalia?', 'no_question': 'Is Nation the country of Somalia?', 'multiple_choice_question': {'question': 'What is the country of Somalia?', 'options': {'A': 'Somalia', 'B': 'Nation', 'C': 'Ethiopia', 'D': 'Kenya'}, 'ground_truth': 'A'}, 'locality_question': 'What is the capital city of Somalia?', 'reversed_relation_question': 'Which country is named Somalia?'}\n",
      "{'paraphrased_question': 'What is the name of the country that is Somalia?', 'yes_question': 'Is Somalia the country of Somalia?', 'no_question': 'Is Ethiopia the country of Somalia?', 'multiple_choice_question': {'question': \"Which country's country is Somalia?\", 'options': {'A': 'Somalia', 'B': 'Ethiopia', 'C': 'Kenya', 'D': 'Djibouti'}, 'ground_truth': 'A'}, 'locality_question': 'What is the capital city of Somalia?', 'reversed_relation_question': 'Which country is Somalia a country of?'}\n",
      "{'paraphrased_question': 'Which country does Seychelles belong to?', 'yes_question': 'Is Seychelles the country of Seychelles?', 'no_question': 'Is Island nation the country of Seychelles?', 'multiple_choice_question': {'question': 'What is the country of Seychelles?', 'options': {'A': 'Seychelles', 'B': 'Island nation', 'C': 'Madagascar', 'D': 'Mauritius'}, 'ground_truth': 'A'}, 'locality_question': 'What is the capital city of Seychelles?', 'reversed_relation_question': 'Which country is named Seychelles?'}\n",
      "{'paraphrased_question': 'What is the name of the country that is Seychelles?', 'yes_question': 'Is Seychelles the country of Seychelles?', 'no_question': 'Is Offshore the country of Seychelles?', 'multiple_choice_question': {'question': \"Which country's country is Seychelles?\", 'options': {'A': 'Seychelles', 'B': 'Offshore', 'C': 'Maldives', 'D': 'Mauritius'}, 'ground_truth': 'A'}, 'locality_question': 'What is the capital city of Seychelles?', 'reversed_relation_question': 'Which country is Seychelles a country of?'}\n",
      "{'paraphrased_question': 'Which country is Egypt?', 'yes_question': 'Is the country of Egypt Egypt?', 'no_question': 'Is the country of Egypt Nation?', 'multiple_choice_question': {'question': 'What is the country of Egypt?', 'options': {'A': 'Nation', 'B': 'Egypt', 'C': 'Continent', 'D': 'Region'}, 'ground_truth': 'B'}, 'locality_question': 'What is the capital city of Egypt?', 'reversed_relation_question': 'Which country is Egypt?'}\n",
      "{'paraphrased_question': 'Who currently serves as the head of state in Egypt?', 'yes_question': 'Is Abdel Fattah el-Miksiki the head of state of Egypt?', 'no_question': 'Is Abdel Fattah el-Sisi the head of state of Egypt?', 'multiple_choice_question': {'question': 'Who is the head of state of Egypt?', 'options': {'A': 'Abdel Fattah el-Miksiki', 'B': 'Abdel Fattah el-Sisi', 'C': 'Mohamed Morsi', 'D': 'Hosni Mubarak'}, 'ground_truth': 'A'}, 'locality_question': 'What is the capital city of Egypt?', 'reversed_relation_question': 'Which country has Abdel Fattah el-Miksiki as its head of state?'}\n",
      "{'paraphrased_question': 'What is the name of the country that is Egypt?', 'yes_question': 'Is Egypt the country of Egypt?', 'no_question': 'Is Africa the country of Egypt?', 'multiple_choice_question': {'question': \"Which country's country is Egypt?\", 'options': {'A': 'Africa', 'B': 'Egypt', 'C': 'Asia', 'D': 'Europe'}, 'ground_truth': 'B'}, 'locality_question': 'What is the capital city of Egypt?', 'reversed_relation_question': 'Which country is Egypt a country of?'}\n",
      "{'paraphrased_question': 'Which country is adjacent to the Barents Sea?', 'yes_question': 'Is Norway located in or next to the Barents Sea?', 'no_question': 'Is Russia located in or next to the Barents Sea?', 'multiple_choice_question': {'question': 'Which country is located in or next to the Barents Sea?', 'options': {'A': 'Norway', 'B': 'Russia', 'C': 'Sweden', 'D': 'Finland'}, 'ground_truth': 'A'}, 'locality_question': 'What is the capital city of Norway?', 'reversed_relation_question': 'Which body of water is Norway located in or next to?'}\n",
      "{'paraphrased_question': 'What region has Barcelona as its capital?', 'yes_question': 'Is Barcelona the capital of Catalonia?', 'no_question': 'Is Barcelona the capital of Spain?', 'multiple_choice_question': {'question': 'Barcelona is the capital of which region?', 'options': {'A': 'Catalonia', 'B': 'Spain', 'C': 'Andalusia', 'D': 'Galicia'}, 'ground_truth': 'A'}, 'locality_question': 'In which country is the city of Barcelona located?', 'reversed_relation_question': 'What is the capital of Catalonia?'}\n",
      "{'paraphrased_question': 'What country is named after the Mariana Islands?', 'yes_question': 'Is the Northern Mariana Islands named after the Mariana Islands?', 'no_question': 'Is Guam named after the Mariana Islands?', 'multiple_choice_question': {'question': 'Which country was named after the Mariana Islands?', 'options': {'A': 'Northern Mariana Islands', 'B': 'Guam', 'C': 'Philippines', 'D': 'Palau'}, 'ground_truth': 'A'}, 'locality_question': 'What is the capital of the Northern Mariana Islands?', 'reversed_relation_question': 'Which islands are the Northern Mariana Islands named after?'}\n",
      "{'paraphrased_question': 'Which administrative body is twinned with Saint Kitts and Nevis?', 'yes_question': 'Is Miami-Dade County the twinned administrative body of Saint Kitts and Nevis?', 'no_question': 'Is Federation the twinned administrative body of Saint Kitts and Nevis?', 'multiple_choice_question': {'question': 'What is the twinned administrative body of Saint Kitts and Nevis?', 'options': {'A': 'Miami-Dade County', 'B': 'Federation', 'C': 'Los Angeles County', 'D': 'Cook County'}, 'ground_truth': 'A'}, 'locality_question': 'What is the capital city of Saint Kitts and Nevis?', 'reversed_relation_question': 'Which country is twinned with Miami-Dade County?'}\n",
      "{'paraphrased_question': 'What type of government does Saint Kitts and Nevis have?', 'yes_question': 'Is the basic form of government of Saint Kitts and Nevis a constitutional monarchy?', 'no_question': 'Is the basic form of government of Saint Kitts and Nevis a federal parliamentary democracy?', 'multiple_choice_question': {'question': 'What is the basic form of government of Saint Kitts and Nevis?', 'options': {'A': 'Federal parliamentary democracy', 'B': 'Constitutional monarchy', 'C': 'Presidential republic', 'D': 'Absolute monarchy'}, 'ground_truth': 'B'}, 'locality_question': 'What is the capital city of Saint Kitts and Nevis?', 'reversed_relation_question': 'Which country has a basic form of government that is a constitutional monarchy?'}\n",
      "{'paraphrased_question': 'In which country is carnival celebrated as a public holiday?', 'yes_question': 'Is carnival a public holiday in Uruguay?', 'no_question': 'Is carnival a public holiday in Trinidad?', 'multiple_choice_question': {'question': \"Which country's public holiday is carnival?\", 'options': {'A': 'Uruguay', 'B': 'Trinidad', 'C': 'Brazil', 'D': 'Spain'}, 'ground_truth': 'A'}, 'locality_question': 'In which country is Montevideo the capital city?', 'reversed_relation_question': 'What public holiday is celebrated in Uruguay?'}\n",
      "{'paraphrased_question': 'Which ethnic group is predominant in Kenya?', 'yes_question': 'Is the ethnic group of Kenya African people?', 'no_question': 'Is the ethnic group of Kenya Bantu?', 'multiple_choice_question': {'question': 'What is the ethnic group of Kenya?', 'options': {'A': 'African people', 'B': 'Bantu', 'C': 'Asian people', 'D': 'European people'}, 'ground_truth': 'A'}, 'locality_question': 'What is the capital city of Kenya?', 'reversed_relation_question': 'Which country has African people as its ethnic group?'}\n",
      "{'paraphrased_question': 'Which country is Kenya?', 'yes_question': 'Is the country of Kenya, Kenya?', 'no_question': 'Is the country of Kenya, Nation?', 'multiple_choice_question': {'question': 'What is the country of Kenya?', 'options': {'A': 'Kenya', 'B': 'Nation', 'C': 'Uganda', 'D': 'Tanzania'}, 'ground_truth': 'A'}, 'locality_question': 'What is the capital city of Kenya?', 'reversed_relation_question': 'Which country is Kenya a part of?'}\n",
      "{'paraphrased_question': 'Kenya is the country of which nation?', 'yes_question': 'Is Kenya the country of Kenya?', 'no_question': 'Is Kenya the country of Tanzania?', 'multiple_choice_question': {'question': \"Which country's country is Kenya?\", 'options': {'A': 'Kenya', 'B': 'Tanzania', 'C': 'Uganda', 'D': 'Ethiopia'}, 'ground_truth': 'A'}, 'locality_question': 'What is the capital city of Kenya?', 'reversed_relation_question': 'Which country is Kenya a country of?'}\n",
      "{'paraphrased_question': 'Which country do the Solomon Islands belong to?', 'yes_question': 'Is the country of Solomon Islands the Solomon Islands?', 'no_question': 'Is the country of Solomon Islands Oceania?', 'multiple_choice_question': {'question': 'What is the country of Solomon Islands?', 'options': {'A': 'Oceania', 'B': 'Solomon Islands', 'C': 'Australia', 'D': 'New Zealand'}, 'ground_truth': 'B'}, 'locality_question': 'What is the capital city of the Solomon Islands?', 'reversed_relation_question': 'What country is the Solomon Islands?'}\n",
      "{'paraphrased_question': 'Where are the Solomon Islands situated?', 'yes_question': 'Are the Solomon Islands located in Melanesia?', 'no_question': 'Are the Solomon Islands located in the Islands?', 'multiple_choice_question': {'question': 'In which region are the Solomon Islands located?', 'options': {'A': 'Melanesia', 'B': 'Islands', 'C': 'Polynesia', 'D': 'Micronesia'}, 'ground_truth': 'A'}, 'locality_question': 'What is the capital city of the Solomon Islands?', 'reversed_relation_question': 'Which country is located in Melanesia?'}\n",
      "{'paraphrased_question': 'What is the name of the country that is called Solomon Islands?', 'yes_question': 'Is Solomon Islands the country of Solomon Islands?', 'no_question': 'Is Papua New Guinea the country of Solomon Islands?', 'multiple_choice_question': {'question': \"Which country's country is Solomon Islands?\", 'options': {'A': 'Papua New Guinea', 'B': 'Solomon Islands', 'C': 'Fiji', 'D': 'Vanuatu'}, 'ground_truth': 'B'}, 'locality_question': 'What is the capital city of Solomon Islands?', 'reversed_relation_question': 'Which country is Solomon Islands a part of?'}\n",
      "{'paraphrased_question': 'Which currency is used in Croatia?', 'yes_question': 'Is the euro the currency of Croatia?', 'no_question': 'Is the kuna the currency of Croatia?', 'multiple_choice_question': {'question': 'What is the currency of Croatia?', 'options': {'A': 'Euro', 'B': 'Kuna', 'C': 'Dollar', 'D': 'Pound'}, 'ground_truth': 'A'}, 'locality_question': 'What is the capital city of Croatia?', 'reversed_relation_question': 'Which country uses the euro as its currency?'}\n",
      "{'paraphrased_question': 'Which country does Brunei belong to?', 'yes_question': 'Is Brunei the country of Brunei?', 'no_question': 'Is Monarchy the country of Brunei?', 'multiple_choice_question': {'question': 'What is the country of Brunei?', 'options': {'A': 'Brunei', 'B': 'Monarchy', 'C': 'Malaysia', 'D': 'Indonesia'}, 'ground_truth': 'A'}, 'locality_question': 'What is the capital city of Brunei?', 'reversed_relation_question': 'Which country is Brunei?'}\n",
      "{'paraphrased_question': 'What is the name of the country that is Brunei?', 'yes_question': 'Is Brunei the country of Brunei?', 'no_question': 'Is Malaysia the country of Brunei?', 'multiple_choice_question': {'question': \"Which country's country is Brunei?\", 'options': {'A': 'Malaysia', 'B': 'Indonesia', 'C': 'Brunei', 'D': 'Thailand'}, 'ground_truth': 'C'}, 'locality_question': 'What is the capital city of Brunei?', 'reversed_relation_question': 'Which country is Brunei?'}\n",
      "{'paraphrased_question': 'Which country is Turkmenistan?', 'yes_question': 'Is Turkmenistan the country of Turkmenistan?', 'no_question': 'Is Central Asian the country of Turkmenistan?', 'multiple_choice_question': {'question': 'What is the country of Turkmenistan?', 'options': {'A': 'Turkmenistan', 'B': 'Central Asian', 'C': 'Kazakhstan', 'D': 'Uzbekistan'}, 'ground_truth': 'A'}, 'locality_question': 'What is the capital city of Turkmenistan?', 'reversed_relation_question': 'Which country is Turkmenistan a part of?'}\n",
      "{'paraphrased_question': 'Who serves as the head of government in Turkmenistan?', 'yes_question': 'Is Gurbanguly Berdimuhamedow the head of government of Turkmenistan?', 'no_question': 'Is Serdar Berdimuhamedow the head of government of Turkmenistan?', 'multiple_choice_question': {'question': 'Who is the head of government of Turkmenistan?', 'options': {'A': 'Gurbanguly Berdimuhamedow', 'B': 'Serdar Berdimuhamedow', 'C': 'Saparmurat Niyazov', 'D': 'Rashid Meredov'}, 'ground_truth': 'A'}, 'locality_question': 'What is the capital city of Turkmenistan?', 'reversed_relation_question': 'Which country has Gurbanguly Berdimuhamedow as its head of government?'}\n",
      "{'paraphrased_question': 'What is the name of the country that is Turkmenistan?', 'yes_question': 'Is Turkmenistan the country of Turkmenistan?', 'no_question': 'Is Asia the country of Turkmenistan?', 'multiple_choice_question': {'question': \"Which country's country is Turkmenistan?\", 'options': {'A': 'Turkmenistan', 'B': 'Asia', 'C': 'Kazakhstan', 'D': 'Uzbekistan'}, 'ground_truth': 'A'}, 'locality_question': 'What is the capital city of Turkmenistan?', 'reversed_relation_question': 'Which country is Turkmenistan a part of?'}\n",
      "{'paraphrased_question': 'With which country did South Yemen have diplomatic relations?', 'yes_question': 'Did South Yemen have diplomatic relations with North Korea?', 'no_question': 'Did South Yemen have diplomatic relations with Yemen?', 'multiple_choice_question': {'question': 'Which country had diplomatic relations with South Yemen?', 'options': {'A': 'North Korea', 'B': 'Yemen', 'C': 'Japan', 'D': 'Brazil'}, 'ground_truth': 'A'}, 'locality_question': 'What is the capital city of South Yemen?', 'reversed_relation_question': 'Which country had diplomatic relations with North Korea?'}\n",
      "{'paraphrased_question': 'Which country does the Dominican Republic belong to?', 'yes_question': 'Is the Dominican Republic a country?', 'no_question': 'Is the Dominican Republic an island nation?', 'multiple_choice_question': {'question': 'What is the country of the Dominican Republic?', 'options': {'A': 'Island nation', 'B': 'Dominican Republic', 'C': 'Haiti', 'D': 'Puerto Rico'}, 'ground_truth': 'B'}, 'locality_question': 'What is the capital city of the Dominican Republic?', 'reversed_relation_question': 'Which country is the Dominican Republic?'}\n",
      "{'paraphrased_question': 'What is the name of the country that is the Dominican Republic?', 'yes_question': 'Is the Dominican Republic a country?', 'no_question': 'Is Haiti the country of the Dominican Republic?', 'multiple_choice_question': {'question': \"Which country's country is Dominican Republic?\", 'options': {'A': 'Haiti', 'B': 'Cuba', 'C': 'Puerto Rico', 'D': 'Dominican Republic'}, 'ground_truth': 'D'}, 'locality_question': 'What is the capital city of the Dominican Republic?', 'reversed_relation_question': 'Which country is the Dominican Republic?'}\n",
      "{'paraphrased_question': 'What is the religion or worldview of the Czech Republic?', 'yes_question': 'Is the religion or worldview of the Czech Republic the Catholic Church?', 'no_question': 'Is the religion or worldview of the Czech Republic the Vatican City?', 'multiple_choice_question': {'question': \"Which country's religion or worldview is the Catholic Church?\", 'options': {'A': 'Czech Republic', 'B': 'Vatican City', 'C': 'France', 'D': 'Germany'}, 'ground_truth': 'A'}, 'locality_question': 'What is the capital city of the Czech Republic?', 'reversed_relation_question': 'Which religion or worldview is associated with the Catholic Church?'}\n",
      "{'paraphrased_question': 'Slovaks are an ethnic group in which country?', 'yes_question': 'Are Slovaks an ethnic group in the Czech Republic?', 'no_question': 'Are Slovaks an ethnic group in Slovakia?', 'multiple_choice_question': {'question': \"Which country's ethnic group includes Slovaks?\", 'options': {'A': 'Czech Republic', 'B': 'Slovakia', 'C': 'Poland', 'D': 'Hungary'}, 'ground_truth': 'A'}, 'locality_question': 'What is the capital city of the Czech Republic?', 'reversed_relation_question': 'Which ethnic group is found in the Czech Republic?'}\n",
      "{'paraphrased_question': 'Which country is Eritrea?', 'yes_question': 'Is Eritrea the country of Eritrea?', 'no_question': 'Is African the country of Eritrea?', 'multiple_choice_question': {'question': 'What is the country of Eritrea?', 'options': {'A': 'Eritrea', 'B': 'African', 'C': 'Kenya', 'D': 'Sudan'}, 'ground_truth': 'A'}, 'locality_question': 'What is the capital city of Eritrea?', 'reversed_relation_question': 'Which country is Eritrea?'}\n",
      "{'paraphrased_question': 'Eritrea is the country of which nation?', 'yes_question': 'Is Eritrea the country of Eritrea?', 'no_question': 'Is Eritrea the country of Ethiopia?', 'multiple_choice_question': {'question': \"Which country's country is Eritrea?\", 'options': {'A': 'Eritrea', 'B': 'Ethiopia', 'C': 'Sudan', 'D': 'Djibouti'}, 'ground_truth': 'A'}, 'locality_question': 'What is the capital city of Eritrea?', 'reversed_relation_question': 'Eritrea is the country of which country?'}\n"
     ]
    }
   ],
   "source": [
    "system_msg_gen_q = \"\"\"Given a subject, relation, object, and a question asking about the object, generate following questions of different types:\n",
    "1. Paraphrased question: Generate a paraphrased question asking about the same subject. The answer should still be the object.\n",
    "2. Yes question: Rewrite the original question as a yes/no question by including the object, so that the correct answer should be \"Yes\".\n",
    "3. No question: Rewrite the original question as a yes/no question by including the wrong answer, so that the correct answer should be \"No\".\n",
    "4. Multiple-Choice Question: Create a question with four answer options and the ground truth (correct answer). Include the correct answer (object), \\\n",
    "one provided wrong answer, and two additional distractors. Randomly assign these options to choices A, B, C, and D. Use the following JSON format: \\\n",
    "{\"question\": \"...\", \"options\": {\"A\": \"...\", \"B\": \"...\", \"C\": \"...\", \"D\": \"...\"}, \"ground_truth\": \"Only provide the correct answer as a letter (A, B, C, or D)\"}\n",
    "5. Locality question: Generate a locality question related to a well-known attribute of the same subject. The attribute should be unrelated to the object and relation from the original question.\n",
    "6. Reversed relation question: Generate a question by reversing the subject and object in the original question so that the answer should be the original subject. \n",
    "Output in JSON format with the following keys: \"paraphrased_question\", \"yes_question\", \"no_question\", \"multiple_choice_question\", \"locality_question\", and \"reversed_relation_question\". \\\n",
    "\"\"\"\n",
    "# Portability question: Create a portability question by replacing the subject in the original question with an alias or synonym. \n",
    "\n",
    "\n",
    "paraphrased_questions, yes_questions, no_questions, multiple_choice_questions, locality_questions, reversed_relation_questions = ([] for _ in range(6))\n",
    "\n",
    "\n",
    "def generate_questions(df_wh_hallu):\n",
    "    for i in df_wh_hallu.index[:]:\n",
    "        subject, relation, object, question = df_wh_hallu.loc[i, 'subject'], df_wh_hallu.loc[i, 'relation'], df_wh_hallu.loc[i, 'object'], df_wh_hallu.loc[i, 'question']\n",
    "        pre_edit_ans = df_wh_hallu.loc[i, f'output_{model_id_format}']\n",
    "        prompt_gen_q = f\"subject: {subject}, relation: {relation}, object: {object}, question: {question}, wrong answer: {pre_edit_ans}\"\n",
    "        raw_response = client.chat.completions.create(\n",
    "            model='gpt-4o',  # -mini\n",
    "            messages=[{\"role\": \"system\", \"content\": system_msg_gen_q}, {\"role\": \"user\", \"content\": prompt_gen_q}], \n",
    "            response_format={\"type\": \"json_object\"}, \n",
    "            temperature=0\n",
    "        )\n",
    "        json_obj = json.loads(raw_response.choices[0].message.content)\n",
    "        # print(f'\\nOriginal Question: {question} Object: {object}')\n",
    "        print(json_obj)\n",
    "        paraphrased_questions.append(json_obj['paraphrased_question'])\n",
    "        yes_questions.append(json_obj['yes_question'])\n",
    "        no_questions.append(json_obj['no_question'])\n",
    "        multiple_choice_questions.append(json_obj['multiple_choice_question'])\n",
    "        locality_questions.append(json_obj['locality_question'])\n",
    "        reversed_relation_questions.append(json_obj['reversed_relation_question'])\n",
    "\n",
    "generate_questions(df_wh_hallu)"
   ]
  },
  {
   "cell_type": "code",
   "execution_count": 37,
   "metadata": {},
   "outputs": [
    {
     "name": "stdout",
     "output_type": "stream",
     "text": [
      "Before df_wh_hallu.shape: (204, 9)\n",
      "After df_wh_hallu.shape: (204, 15)\n"
     ]
    }
   ],
   "source": [
    "# df_wh_hallu = df_wh_hallu.iloc[:]\n",
    "print(f\"Before df_wh_hallu.shape: {df_wh_hallu.shape}\")\n",
    "df_wh_hallu['paraphrased_question'] = paraphrased_questions\n",
    "df_wh_hallu['yes_question'] = yes_questions\n",
    "df_wh_hallu['no_question'] = no_questions\n",
    "df_wh_hallu['multiple_choice_question'] = multiple_choice_questions\n",
    "df_wh_hallu['locality_question'] = locality_questions\n",
    "df_wh_hallu['reversed_relation_question'] = reversed_relation_questions\n",
    "print(f\"After df_wh_hallu.shape: {df_wh_hallu.shape}\")\n",
    "df_wh_hallu.to_csv(f\"../data/questions/wh_only/hallucination_only/{model_id_format}_{domain_topic_name}.csv\", index=False)"
   ]
  },
  {
   "cell_type": "code",
   "execution_count": 38,
   "metadata": {},
   "outputs": [
    {
     "name": "stdout",
     "output_type": "stream",
     "text": [
      "subject: Botswana, relation: separated from, {'2hop_question': 'Which country is Botswana separated from?', '2hop_answer': 'South Africa', '3hop_question': 'What is the capital city of the country that Botswana is separated from?', '3hop_answer': 'Pretoria', '4hop_question': 'What is the official language spoken in the capital city of the country that Botswana is separated from?', '4hop_answer': 'Afrikaans', '5hop_question': 'What is the population of the country where the official language spoken in its capital city is Afrikaans?', '5hop_answer': 'Approximately 60 million', '6hop_question': 'What is the currency used in the country with a population of approximately 60 million where the official language of its capital city is Afrikaans?', '6hop_answer': 'South African Rand'}\n",
      "subject: Botswana, relation: country, {'2hop_question': 'What is the capital city of the country Botswana?', '2hop_answer': 'Gaborone', '3hop_question': 'Which river flows near the capital city of Botswana?', '3hop_answer': 'Notwane River', '4hop_question': 'Which country does the river that flows near the capital city of Botswana originate from?', '4hop_answer': 'South Africa', '5hop_question': 'What is the official language of the country where the river that flows near the capital city of Botswana originates?', '5hop_answer': 'Afrikaans', '6hop_question': 'What is the population of the country where the official language is Afrikaans and the river that flows near the capital city of Botswana originates?', '6hop_answer': 'Approximately 60 million'}\n",
      "subject: Botswana, relation: country, {'2hop_question': 'What is the capital city of the country Botswana?', '2hop_answer': 'Gaborone', '3hop_question': 'Which river flows near the capital city of the country Botswana?', '3hop_answer': 'Notwane River', '4hop_question': 'Which country does the river that flows near the capital city of Botswana originate from?', '4hop_answer': 'South Africa', '5hop_question': 'What is the capital city of the country where the river that flows near the capital city of Botswana originates?', '5hop_answer': 'Pretoria', '6hop_question': 'Which province is the capital city of the country where the river that flows near the capital city of Botswana originates located in?', '6hop_answer': 'Gauteng'}\n",
      "subject: The Bahamas, relation: twinned administrative body, {'2hop_question': 'What is the capital city of the twinned administrative body of The Bahamas?', '2hop_answer': 'Nassau', '3hop_question': 'Which country is the capital city of the twinned administrative body of The Bahamas located in?', '3hop_answer': 'The Bahamas', '4hop_question': 'What is the official language of the country where the capital city of the twinned administrative body of The Bahamas is located?', '4hop_answer': 'English', '5hop_question': 'What is the currency used in the country where the official language is English and the capital city is Nassau?', '5hop_answer': 'Bahamian dollar', '6hop_question': 'What is the ISO 4217 code for the currency used in the country where the capital city is Nassau?', '6hop_answer': 'BSD'}\n",
      "subject: The Bahamas, relation: basic form of government, {'2hop_question': 'Who is the head of state in the basic form of government of The Bahamas?', '2hop_answer': 'King Charles III', '3hop_question': 'Who is the current Prime Minister of the country where King Charles III is the head of state?', '3hop_answer': 'Philip Davis', '4hop_question': 'Which political party does the current Prime Minister of The Bahamas belong to?', '4hop_answer': 'Progressive Liberal Party', '5hop_question': 'When was the political party that the current Prime Minister of The Bahamas belongs to founded?', '5hop_answer': '1953', '6hop_question': 'Who was the founder of the political party that was founded in 1953 in The Bahamas?', '6hop_answer': 'Henry Milton Taylor'}\n",
      "subject: The Bahamas, relation: country, {'2hop_question': 'What is the capital city of the country The Bahamas?', '2hop_answer': 'Nassau', '3hop_question': 'Which island is the capital city of The Bahamas located on?', '3hop_answer': 'New Providence', '4hop_question': 'What is the population of the island where the capital city of The Bahamas is located?', '4hop_answer': 'Approximately 274,400', '5hop_question': 'What is the area in square miles of the island where the capital city of The Bahamas is located?', '5hop_answer': '80 square miles', '6hop_question': 'What is the name of the largest airport on the island where the capital city of The Bahamas is located?', '6hop_answer': 'Lynden Pindling International Airport'}\n",
      "subject: The Bahamas, relation: country, {'2hop_question': 'What is the capital city of the country The Bahamas?', '2hop_answer': 'Nassau', '3hop_question': 'Which island is the capital city of The Bahamas located on?', '3hop_answer': 'New Providence', '4hop_question': 'What is the population of the island where the capital city of The Bahamas is located?', '4hop_answer': 'Approximately 274,400', '5hop_question': 'What is the area in square miles of the island where the capital city of The Bahamas is located?', '5hop_answer': '80 square miles', '6hop_question': 'What is the name of the archipelago that includes the island where the capital city of The Bahamas is located?', '6hop_answer': 'Lucayan Archipelago'}\n",
      "subject: Namibia, relation: country, {'2hop_question': 'What is the capital city of the country Namibia?', '2hop_answer': 'Windhoek', '3hop_question': 'Which river flows through the capital city of Namibia?', '3hop_answer': 'Klein Windhoek River', '4hop_question': 'What is the main tributary of the river that flows through the capital city of Namibia?', '4hop_answer': 'Auas Mountains', '5hop_question': 'Which mountain range is the source of the main tributary of the river that flows through the capital city of Namibia?', '5hop_answer': 'Khomas Highland', '6hop_question': 'In which region is the mountain range located that is the source of the main tributary of the river flowing through the capital city of Namibia?', '6hop_answer': 'Khomas Region'}\n",
      "subject: Namibia, relation: head of state, {'2hop_question': 'Who is the spouse of the head of state of Namibia?', '2hop_answer': 'Monica Geingos', '3hop_question': 'What is the profession of the spouse of the head of state of Namibia?', '3hop_answer': 'Lawyer and businesswoman', '4hop_question': 'Which university did the spouse of the head of state of Namibia attend?', '4hop_answer': 'University of Namibia', '5hop_question': 'In which city is the university located that the spouse of the head of state of Namibia attended?', '5hop_answer': 'Windhoek', '6hop_question': 'In which country is the city located where the university that the spouse of the head of state of Namibia attended is situated?', '6hop_answer': 'Namibia'}\n",
      "subject: Namibia, relation: country, {'2hop_question': 'What is the capital city of Namibia?', '2hop_answer': 'Windhoek', '3hop_question': 'Which river flows through the capital city of Namibia?', '3hop_answer': 'Klein Windhoek River', '4hop_question': 'What is the primary language spoken in the capital city through which the Klein Windhoek River flows?', '4hop_answer': 'English', '5hop_question': 'Which country has English as the primary language spoken in its capital city, Windhoek?', '5hop_answer': 'Namibia', '6hop_question': 'What is the currency used in the country where the capital city is Windhoek?', '6hop_answer': 'Namibian dollar'}\n",
      "subject: People's Republic of China, relation: founded by, {'2hop_question': \"Who was the first leader of the People's Republic of China?\", '2hop_answer': 'Mao Zedong', '3hop_question': \"What was the political party of the first leader of the People's Republic of China?\", '3hop_answer': 'Communist Party of China', '4hop_question': \"In which year was the political party of the first leader of the People's Republic of China founded?\", '4hop_answer': '1921', '5hop_question': \"In which city was the political party of the first leader of the People's Republic of China founded?\", '5hop_answer': 'Shanghai', '6hop_question': \"Which country is home to the city where the political party of the first leader of the People's Republic of China was founded?\", '6hop_answer': 'China'}\n",
      "subject: Bangladesh, relation: lowest point, {'2hop_question': 'What is the name of the river that flows through the lowest point of Bangladesh?', '2hop_answer': 'Surma River', '3hop_question': 'Which country does the river that flows through the lowest point of Bangladesh originate from?', '3hop_answer': 'India', '4hop_question': 'What is the capital city of the country where the river that flows through the lowest point of Bangladesh originates?', '4hop_answer': 'New Delhi', '5hop_question': 'What is the official language of the country whose capital city is New Delhi?', '5hop_answer': 'Hindi', '6hop_question': 'What is the script used to write the official language of the country whose capital city is New Delhi?', '6hop_answer': 'Devanagari'}\n",
      "subject: Bangladesh, relation: official symbol, {'2hop_question': 'What is the national flower of the country whose official symbol is the Shapla (water lily)?', '2hop_answer': 'Shapla (water lily)', '3hop_question': 'Which river is prominently associated with the national flower of the country whose official symbol is the Shapla (water lily)?', '3hop_answer': 'Padma River', '4hop_question': 'Which major city is located near the river that is prominently associated with the national flower of the country whose official symbol is the Shapla (water lily)?', '4hop_answer': 'Dhaka', '5hop_question': 'What is the population of the major city located near the river that is prominently associated with the national flower of the country whose official symbol is the Shapla (water lily)?', '5hop_answer': 'Approximately 21 million', '6hop_question': 'What is the name of the country where the major city with a population of approximately 21 million, located near the river associated with the national flower Shapla (water lily), is situated?', '6hop_answer': 'Bangladesh'}\n",
      "subject: Thailand, relation: lowest point, {'2hop_question': 'What is the name of the body of water at the lowest point in Thailand?', '2hop_answer': 'Gulf of Thailand', '3hop_question': 'Which ocean does the Gulf of Thailand connect to?', '3hop_answer': 'Pacific Ocean', '4hop_question': 'What is the largest island in the ocean that the Gulf of Thailand connects to?', '4hop_answer': 'New Guinea', '5hop_question': 'Which country shares the island that is the largest in the ocean connected to the Gulf of Thailand?', '5hop_answer': 'Indonesia', '6hop_question': 'What is the capital city of the country that shares the largest island in the ocean connected to the Gulf of Thailand?', '6hop_answer': 'Jakarta'}\n",
      "subject: Thailand, relation: lowest point, {'2hop_question': 'What is the name of the body of water at the lowest point in Thailand?', '2hop_answer': 'Gulf of Thailand', '3hop_question': 'Which country borders the body of water at the lowest point in Thailand?', '3hop_answer': 'Malaysia', '4hop_question': 'What is the capital city of the country that borders the body of water at the lowest point in Thailand?', '4hop_answer': 'Kuala Lumpur', '5hop_question': 'What is the population of the capital city of the country that borders the body of water at the lowest point in Thailand?', '5hop_answer': '1.8 million', '6hop_question': 'What is the official language spoken in the capital city of the country that borders the body of water at the lowest point in Thailand?', '6hop_answer': 'Malay'}\n",
      "subject: Malaysia, relation: ethnic group, {'2hop_question': 'What is the primary language spoken by the largest ethnic group in Malaysia?', '2hop_answer': 'Malay', '3hop_question': 'What is the official religion of the country where the primary language spoken by the largest ethnic group is Malay?', '3hop_answer': 'Islam', '4hop_question': 'What is the name of the holy book in the official religion of the country where the primary language spoken by the largest ethnic group is Malay?', '4hop_answer': 'Quran', '5hop_question': 'In which language is the holy book of the official religion of the country, where the primary language spoken by the largest ethnic group is Malay, originally written?', '5hop_answer': 'Arabic', '6hop_question': 'Which country is known for having the holy book originally written in Arabic, which is the official religion of the country where the primary language spoken by the largest ethnic group is Malay?', '6hop_answer': 'Saudi Arabia'}\n",
      "subject: Malaysia, relation: country, {'2hop_question': 'What is the capital city of the country Malaysia?', '2hop_answer': 'Kuala Lumpur', '3hop_question': 'What is the main airport in the capital city of Malaysia?', '3hop_answer': 'Kuala Lumpur International Airport', '4hop_question': 'Which airline has its main hub at the main airport in the capital city of Malaysia?', '4hop_answer': 'Malaysia Airlines', '5hop_question': 'What is the frequent flyer program of the airline that has its main hub at the main airport in the capital city of Malaysia?', '5hop_answer': 'Enrich', '6hop_question': 'Which alliance is the frequent flyer program of the airline that has its main hub at the main airport in the capital city of Malaysia a part of?', '6hop_answer': 'Oneworld'}\n",
      "subject: Malaysia, relation: country, {'2hop_question': 'What is the capital city of the country Malaysia?', '2hop_answer': 'Kuala Lumpur', '3hop_question': 'What is the tallest building in the capital city of Malaysia?', '3hop_answer': 'Petronas Towers', '4hop_question': 'Which company is headquartered in the tallest building in the capital city of Malaysia?', '4hop_answer': 'Petronas', '5hop_question': 'What is the primary industry of the company headquartered in the tallest building in the capital city of Malaysia?', '5hop_answer': 'Oil and Gas', '6hop_question': 'Which country is a major exporter of oil and gas, with a company headquartered in the tallest building in its capital city?', '6hop_answer': 'Malaysia'}\n",
      "subject: Nauru, relation: located in/on physical feature, {'2hop_question': 'What is the ocean that Nauru is located in?', '2hop_answer': 'Pacific Ocean', '3hop_question': 'Which major oceanic region is the Pacific Ocean part of?', '3hop_answer': 'World Ocean', '4hop_question': 'What is the largest oceanic division that includes the major oceanic region where the Pacific Ocean is part of?', '4hop_answer': 'Pacific Ocean Basin', '5hop_question': 'Which tectonic plate is primarily associated with the Pacific Ocean Basin?', '5hop_answer': 'Pacific Plate', '6hop_question': 'Which geological feature is formed by the movement of the Pacific Plate?', '6hop_answer': 'Ring of Fire'}\n",
      "subject: Scotland, relation: located in/on physical feature, {'2hop_question': 'What is the capital city of the country where Scotland is located?', '2hop_answer': 'Edinburgh', '3hop_question': 'Which famous castle is located in the capital city of the country where Scotland is located?', '3hop_answer': 'Edinburgh Castle', '4hop_question': 'Which historic event is associated with the famous castle located in the capital city of the country where Scotland is located?', '4hop_answer': 'The Wars of Scottish Independence', '5hop_question': 'Which Scottish king was involved in the historic event associated with the famous castle in the capital city of the country where Scotland is located?', '5hop_answer': 'Robert the Bruce', '6hop_question': 'Which battle did the Scottish king involved in the historic event associated with the famous castle in the capital city of the country where Scotland is located win?', '6hop_answer': 'Battle of Bannockburn'}\n",
      "subject: Scotland, relation: country, {'2hop_question': 'What is the capital city of the country Scotland?', '2hop_answer': 'Edinburgh', '3hop_question': 'Which famous castle is located in the capital city of the country Scotland?', '3hop_answer': 'Edinburgh Castle', '4hop_question': 'Which historic event is associated with the famous castle located in the capital city of the country Scotland?', '4hop_answer': 'The Wars of Scottish Independence', '5hop_question': 'Who was a notable leader during the historic event associated with the famous castle in the capital city of the country Scotland?', '5hop_answer': 'William Wallace', '6hop_question': 'Which battle did the notable leader during the historic event associated with the famous castle in the capital city of the country Scotland famously win?', '6hop_answer': 'Battle of Stirling Bridge'}\n",
      "subject: Gibraltar, relation: twinned administrative body, {'2hop_question': 'What is the capital of the country that has a twinned administrative body with Gibraltar?', '2hop_answer': 'Madrid', '3hop_question': 'What is the official language of the country whose capital is Madrid?', '3hop_answer': 'Spanish', '4hop_question': 'What is the currency used in the country where Spanish is the official language and has a capital named Madrid?', '4hop_answer': 'Euro', '5hop_question': 'Which international organization is the country that uses the Euro and has Spanish as its official language a member of?', '5hop_answer': 'European Union', '6hop_question': 'What is the founding year of the international organization that the country using the Euro and having Spanish as its official language is a member of?', '6hop_answer': '1993'}\n",
      "subject: Kyrgyzstan, relation: country, {'2hop_question': 'What is the capital city of Kyrgyzstan?', '2hop_answer': 'Bishkek', '3hop_question': 'Which river flows through the capital city of Kyrgyzstan?', '3hop_answer': 'Chüy River', '4hop_question': 'What is the length of the river that flows through the capital city of Kyrgyzstan?', '4hop_answer': '221 km', '5hop_question': 'Which country does the river that flows through the capital city of Kyrgyzstan originate from?', '5hop_answer': 'Kazakhstan', '6hop_question': 'What is the official language of the country where the river that flows through the capital city of Kyrgyzstan originates?', '6hop_answer': 'Kazakh'}\n",
      "subject: Kyrgyzstan, relation: official language, {'2hop_question': 'What is the official language of Kyrgyzstan?', '2hop_answer': 'Kyrgyz', '3hop_question': 'What is the primary script used to write the official language of Kyrgyzstan?', '3hop_answer': 'Cyrillic', '4hop_question': 'Which country primarily uses the Cyrillic script for its official language?', '4hop_answer': 'Russia', '5hop_question': 'What is the capital city of the country that primarily uses the Cyrillic script for its official language?', '5hop_answer': 'Moscow', '6hop_question': 'Which river flows through the capital city of the country that primarily uses the Cyrillic script for its official language?', '6hop_answer': 'Moskva River'}\n",
      "subject: Kyrgyzstan, relation: country, {'2hop_question': 'What is the capital city of Kyrgyzstan?', '2hop_answer': 'Bishkek', '3hop_question': 'What is the population of the capital city of Kyrgyzstan?', '3hop_answer': 'Approximately 1 million', '4hop_question': 'What is the main language spoken in the capital city of Kyrgyzstan?', '4hop_answer': 'Kyrgyz', '5hop_question': 'What is the currency used in the country where the capital city Bishkek is located?', '5hop_answer': 'Kyrgyzstani som', '6hop_question': 'Which mountain range is located in the country that uses the Kyrgyzstani som as its currency?', '6hop_answer': 'Tian Shan'}\n",
      "subject: Nepal, relation: country, {'2hop_question': 'What is the capital city of the country Nepal?', '2hop_answer': 'Kathmandu', '3hop_question': 'Which river flows through the capital city of the country Nepal?', '3hop_answer': 'Bagmati River', '4hop_question': 'Which major religious site is located near the river that flows through the capital city of the country Nepal?', '4hop_answer': 'Pashupatinath Temple', '5hop_question': 'Which festival is prominently celebrated at the major religious site located near the river that flows through the capital city of the country Nepal?', '5hop_answer': 'Maha Shivaratri', '6hop_question': 'Which Hindu deity is primarily worshipped during the festival prominently celebrated at the major religious site located near the river that flows through the capital city of the country Nepal?', '6hop_answer': 'Shiva'}\n",
      "subject: Nepal, relation: twinned administrative body, {'2hop_question': 'What is the name of a city that is twinned with an administrative body in Nepal?', '2hop_answer': 'Lhasa', '3hop_question': 'Which country is the city that is twinned with an administrative body in Nepal located in?', '3hop_answer': 'China', '4hop_question': 'What is the official language of the country where the city twinned with an administrative body in Nepal is located?', '4hop_answer': 'Mandarin Chinese', '5hop_question': 'What is the population of the country where the city twinned with an administrative body in Nepal is located?', '5hop_answer': 'Approximately 1.4 billion', '6hop_question': 'What is the capital city of the country where the city twinned with an administrative body in Nepal is located?', '6hop_answer': 'Beijing'}\n",
      "subject: Nepal, relation: ethnic group, {'2hop_question': 'What is the primary language spoken by the largest ethnic group in Nepal?', '2hop_answer': 'Nepali', '3hop_question': 'What is the traditional festival celebrated by the largest ethnic group in Nepal?', '3hop_answer': 'Dashain', '4hop_question': 'Which deity is primarily worshipped during the traditional festival celebrated by the largest ethnic group in Nepal?', '4hop_answer': 'Durga', '5hop_question': 'In which month is the traditional festival celebrated by the largest ethnic group in Nepal primarily observed?', '5hop_answer': 'October', '6hop_question': 'What is the name of the lunar calendar month in which the traditional festival celebrated by the largest ethnic group in Nepal falls?', '6hop_answer': 'Ashwin'}\n",
      "subject: Nepal, relation: country, {'2hop_question': 'What is the capital city of the country Nepal?', '2hop_answer': 'Kathmandu', '3hop_question': 'What is the main language spoken in the capital city of the country Nepal?', '3hop_answer': 'Nepali', '4hop_question': 'What is the script used to write the main language spoken in the capital city of the country Nepal?', '4hop_answer': 'Devanagari', '5hop_question': 'Which ancient language is the script used to write the main language spoken in the capital city of the country Nepal derived from?', '5hop_answer': 'Sanskrit', '6hop_question': 'Which country is known for the ancient language from which the script used to write the main language spoken in the capital city of the country Nepal is derived?', '6hop_answer': 'India'}\n",
      "subject: Asian elephant, relation: official symbol, {'2hop_question': 'Which country has the Asian elephant as its official symbol?', '2hop_answer': 'India', '3hop_question': 'What is the capital city of the country that has the Asian elephant as its official symbol?', '3hop_answer': 'New Delhi', '4hop_question': 'What is the official language of the country whose capital city is New Delhi?', '4hop_answer': 'Hindi', '5hop_question': 'What is the population of the country where Hindi is the official language?', '5hop_answer': 'Approximately 1.4 billion', '6hop_question': 'What is the currency used in the country with a population of approximately 1.4 billion?', '6hop_answer': 'Indian Rupee'}\n",
      "subject: Amu Darya, relation: lowest point, {'2hop_question': 'Which body of water is located at the lowest point of the Amu Darya?', '2hop_answer': 'Aral Sea', '3hop_question': 'Which country borders the body of water located at the lowest point of the Amu Darya?', '3hop_answer': 'Kazakhstan', '4hop_question': 'What is the capital city of the country that borders the body of water located at the lowest point of the Amu Darya?', '4hop_answer': 'Nur-Sultan', '5hop_question': 'Which river flows through the capital city of the country that borders the body of water located at the lowest point of the Amu Darya?', '5hop_answer': 'Ishim River', '6hop_question': 'In which country does the river that flows through the capital city of the country bordering the body of water at the lowest point of the Amu Darya originate?', '6hop_answer': 'Kazakhstan'}\n",
      "subject: Senegal, relation: replaces, {'2hop_question': 'Who is the current president of the country that Senegal replaces in the African Union?', '2hop_answer': 'Cyril Ramaphosa', '3hop_question': 'What is the capital city of the country whose current president is Cyril Ramaphosa?', '3hop_answer': 'Pretoria', '4hop_question': 'What is the official language of the country whose capital city is Pretoria?', '4hop_answer': 'Afrikaans', '5hop_question': 'What is the population of the country where Afrikaans is an official language?', '5hop_answer': 'Approximately 60 million', '6hop_question': 'What is the currency used in the country with a population of approximately 60 million where Afrikaans is an official language?', '6hop_answer': 'South African Rand'}\n",
      "subject: Senegal, relation: country, {'2hop_question': 'What is the capital city of the country Senegal?', '2hop_answer': 'Dakar', '3hop_question': 'Which ocean borders the capital city of the country Senegal?', '3hop_answer': 'Atlantic Ocean', '4hop_question': 'What is the name of the major river that flows into the ocean bordering the capital city of the country Senegal?', '4hop_answer': 'Senegal River', '5hop_question': 'Which country shares a border with Senegal and is also traversed by the major river that flows into the ocean bordering its capital city?', '5hop_answer': 'Mauritania', '6hop_question': \"What is the official language of the country that shares a border with Senegal and is traversed by the major river flowing into the ocean bordering Senegal's capital city?\", '6hop_answer': 'Arabic'}\n",
      "subject: Senegal, relation: official language, {'2hop_question': 'What is the official language of Senegal?', '2hop_answer': 'French', '3hop_question': 'Which country has French as its official language and is located in West Africa?', '3hop_answer': 'Senegal', '4hop_question': 'What is the capital city of the country in West Africa where French is the official language?', '4hop_answer': 'Dakar', '5hop_question': 'Which ocean borders the country whose capital city is Dakar and has French as its official language?', '5hop_answer': 'Atlantic Ocean', '6hop_question': 'What is the name of the sea that is part of the ocean bordering the country whose capital is Dakar and has French as its official language?', '6hop_answer': 'North Atlantic Ocean'}\n",
      "subject: Senegal, relation: located in/on physical feature, {'2hop_question': 'What is the name of the river that Senegal is located on?', '2hop_answer': 'Senegal River', '3hop_question': 'Which ocean does the river that Senegal is located on flow into?', '3hop_answer': 'Atlantic Ocean', '4hop_question': 'What is the name of the current that flows along the ocean into which the river that Senegal is located on flows?', '4hop_answer': 'Canary Current', '5hop_question': 'Which major desert is influenced by the current that flows along the ocean into which the river that Senegal is located on flows?', '5hop_answer': 'Sahara Desert', '6hop_question': 'Which country has the largest area of the desert that is influenced by the current that flows along the ocean into which the river that Senegal is located on flows?', '6hop_answer': 'Algeria'}\n",
      "subject: Senegal, relation: country, {'2hop_question': 'What is the capital city of the country Senegal?', '2hop_answer': 'Dakar', '3hop_question': 'Which ocean borders the capital city of the country Senegal?', '3hop_answer': 'Atlantic Ocean', '4hop_question': 'What is the name of the major river that flows into the ocean bordering the capital city of the country Senegal?', '4hop_answer': 'Senegal River', '5hop_question': 'Which country shares its name with the major river that flows into the ocean bordering the capital city of the country Senegal?', '5hop_answer': 'Senegal', '6hop_question': 'What is the official language of the country that shares its name with the major river flowing into the ocean bordering the capital city of Senegal?', '6hop_answer': 'French'}\n",
      "subject: Latin America, relation: diplomatic relation, {'2hop_question': 'Which country in Latin America has a diplomatic relation with the United States?', '2hop_answer': 'Mexico', '3hop_question': 'Who is the current president of the country in Latin America that has a diplomatic relation with the United States?', '3hop_answer': 'Andrés Manuel López Obrador', '4hop_question': 'What is the capital city of the country whose current president is Andrés Manuel López Obrador?', '4hop_answer': 'Mexico City', '5hop_question': 'What is the population of the capital city of the country whose current president is Andrés Manuel López Obrador?', '5hop_answer': 'Approximately 9 million', '6hop_question': 'What is the name of the international airport in the capital city of the country whose current president is Andrés Manuel López Obrador?', '6hop_answer': 'Benito Juárez International Airport'}\n",
      "subject: South Korea, relation: highest judicial authority, {'2hop_question': 'Who is the chief justice of the highest judicial authority in South Korea?', '2hop_answer': 'Kim Myeong-soo', '3hop_question': 'Which university did the chief justice of the highest judicial authority in South Korea attend?', '3hop_answer': 'Seoul National University', '4hop_question': 'In which city is the university located that the chief justice of the highest judicial authority in South Korea attended?', '4hop_answer': 'Seoul', '5hop_question': 'What is the population of the city where the university is located that the chief justice of the highest judicial authority in South Korea attended?', '5hop_answer': 'Approximately 9.7 million', '6hop_question': 'What is the GDP of the country where the city is located that contains the university the chief justice of the highest judicial authority in South Korea attended?', '6hop_answer': 'Approximately $1.6 trillion'}\n",
      "subject: South Korea, relation: head of state, {'2hop_question': 'Who is the spouse of the head of state of South Korea?', '2hop_answer': 'Kim Jung-sook', '3hop_question': 'Which university did the spouse of the head of state of South Korea attend?', '3hop_answer': 'Kyung Hee University', '4hop_question': 'In which city is the university located that the spouse of the head of state of South Korea attended?', '4hop_answer': 'Seoul', '5hop_question': 'What is the population of the city where the university that the spouse of the head of state of South Korea attended is located?', '5hop_answer': 'Approximately 9.7 million', '6hop_question': 'What is the name of the river that flows through the city where the university attended by the spouse of the head of state of South Korea is located?', '6hop_answer': 'Han River'}\n",
      "subject: South Korea, relation: lowest point, {'2hop_question': 'What is the name of the body of water at the lowest point in South Korea?', '2hop_answer': 'Sea of Japan', '3hop_question': 'Which country borders the body of water at the lowest point in South Korea?', '3hop_answer': 'Japan', '4hop_question': 'What is the capital city of the country that borders the body of water at the lowest point in South Korea?', '4hop_answer': 'Tokyo', '5hop_question': 'Which famous tower is located in the capital city of the country that borders the body of water at the lowest point in South Korea?', '5hop_answer': 'Tokyo Tower', '6hop_question': 'In which district is the famous tower located in the capital city of the country that borders the body of water at the lowest point in South Korea?', '6hop_answer': 'Minato'}\n",
      "subject: South Korea, relation: country, {'2hop_question': 'Who is the current president of the country South Korea?', '2hop_answer': 'Yoon Suk-yeol', '3hop_question': 'Which university did the current president of South Korea attend for their undergraduate studies?', '3hop_answer': 'Seoul National University', '4hop_question': 'In which city is the university located where the current president of South Korea attended for their undergraduate studies?', '4hop_answer': 'Seoul', '5hop_question': 'What is the population of the city where the university is located that the current president of South Korea attended?', '5hop_answer': 'Approximately 9.7 million', '6hop_question': 'What is the GDP of the country where the city is located that contains the university the current president of South Korea attended?', '6hop_answer': 'Approximately $1.63 trillion'}\n",
      "subject: South Korea, relation: twinned administrative body, {'2hop_question': 'What is the capital city of a country that has a twinned administrative body with South Korea?', '2hop_answer': 'Tokyo', '3hop_question': 'Which famous landmark is located in the capital city of the country that has a twinned administrative body with South Korea?', '3hop_answer': 'Tokyo Tower', '4hop_question': 'What is the height of the famous landmark located in the capital city of the country that has a twinned administrative body with South Korea?', '4hop_answer': '333 meters', '5hop_question': 'Who designed the famous landmark that is located in the capital city of the country that has a twinned administrative body with South Korea?', '5hop_answer': 'Tachū Naitō', '6hop_question': 'In which year was the famous landmark, designed by Tachū Naitō, located in the capital city of the country that has a twinned administrative body with South Korea completed?', '6hop_answer': '1958'}\n",
      "subject: South Korea, relation: country, {'2hop_question': 'Who is the current president of the country South Korea?', '2hop_answer': 'Yoon Suk-yeol', '3hop_question': 'Which university did the current president of South Korea attend for their undergraduate studies?', '3hop_answer': 'Seoul National University', '4hop_question': 'In which city is the university located where the current president of South Korea attended for their undergraduate studies?', '4hop_answer': 'Seoul', '5hop_question': 'What is the population of the city where the university is located that the current president of South Korea attended?', '5hop_answer': 'Approximately 9.7 million', '6hop_question': 'What is the name of the river that flows through the city where the university is located that the current president of South Korea attended?', '6hop_answer': 'Han River'}\n",
      "subject: blue, relation: official color, {'2hop_question': 'What is the official color of the flag of the United Nations?', '2hop_answer': 'Blue', '3hop_question': 'Which organization uses blue as the official color in its flag?', '3hop_answer': 'United Nations', '4hop_question': 'In which city is the headquarters of the organization that uses blue as the official color in its flag located?', '4hop_answer': 'New York City', '5hop_question': 'In which state is the city located where the headquarters of the organization that uses blue as the official color in its flag is situated?', '5hop_answer': 'New York', '6hop_question': 'In which country is the state located where the city is situated that contains the headquarters of the organization that uses blue as the official color in its flag?', '6hop_answer': 'United States'}\n",
      "subject: Kingdom of the Netherlands, relation: head of government, {'2hop_question': 'Who is the spouse of the head of government of the Kingdom of the Netherlands?', '2hop_answer': 'Mark Rutte is unmarried', '3hop_question': 'Which university did the head of government of the Kingdom of the Netherlands attend for their undergraduate studies?', '3hop_answer': 'Leiden University', '4hop_question': 'In which city is the university that the head of government of the Kingdom of the Netherlands attended located?', '4hop_answer': 'Leiden', '5hop_question': 'In which province is the city located where the university that the head of government of the Kingdom of the Netherlands attended is situated?', '5hop_answer': 'South Holland', '6hop_question': 'In which country is the province located where the city is situated that contains the university the head of government of the Kingdom of the Netherlands attended?', '6hop_answer': 'Netherlands'}\n",
      "subject: Kingdom of the Netherlands, relation: country, {'2hop_question': 'Who is the current monarch of the Kingdom of the Netherlands?', '2hop_answer': 'King Willem-Alexander', '3hop_question': 'Who is the spouse of the current monarch of the Kingdom of the Netherlands?', '3hop_answer': 'Queen Máxima', '4hop_question': 'What is the nationality of the spouse of the current monarch of the Kingdom of the Netherlands?', '4hop_answer': 'Argentine', '5hop_question': 'In which city was the spouse of the current monarch of the Kingdom of the Netherlands born?', '5hop_answer': 'Buenos Aires', '6hop_question': 'In which country is the city located where the spouse of the current monarch of the Kingdom of the Netherlands was born?', '6hop_answer': 'Argentina'}\n",
      "subject: Kingdom of the Netherlands, relation: located in the administrative territorial entity, {'2hop_question': 'What is the capital city of the administrative territorial entity where the Kingdom of the Netherlands is located?', '2hop_answer': 'Amsterdam', '3hop_question': 'Which river flows through the capital city of the administrative territorial entity where the Kingdom of the Netherlands is located?', '3hop_answer': 'Amstel River', '4hop_question': 'What is the name of the dam that the river flowing through the capital city of the administrative territorial entity where the Kingdom of the Netherlands is located is named after?', '4hop_answer': 'Dam Square', '5hop_question': 'Which famous palace is located at the dam that the river flowing through the capital city of the administrative territorial entity where the Kingdom of the Netherlands is located is named after?', '5hop_answer': 'Royal Palace of Amsterdam', '6hop_question': 'Which historical figure commissioned the construction of the palace located at the dam that the river flowing through the capital city of the administrative territorial entity where the Kingdom of the Netherlands is located is named after?', '6hop_answer': 'Louis Bonaparte'}\n",
      "subject: Guarani, relation: official language, {'2hop_question': 'In which country is Guarani an official language?', '2hop_answer': 'Paraguay', '3hop_question': 'What is the capital city of the country where Guarani is an official language?', '3hop_answer': 'Asunción', '4hop_question': 'Which river flows through the capital city of the country where Guarani is an official language?', '4hop_answer': 'Paraguay River', '5hop_question': 'What is the length of the river that flows through the capital city of the country where Guarani is an official language?', '5hop_answer': '2,621 kilometers', '6hop_question': 'Into which larger river does the river that flows through the capital city of the country where Guarani is an official language eventually flow?', '6hop_answer': 'Paraná River'}\n",
      "subject: Peru, relation: country, {'2hop_question': 'What is the capital city of the country Peru?', '2hop_answer': 'Lima', '3hop_question': 'What is the main airport in the capital city of the country Peru?', '3hop_answer': 'Jorge Chávez International Airport', '4hop_question': 'Which airline has its hub at the main airport in the capital city of the country Peru?', '4hop_answer': 'LATAM Perú', '5hop_question': 'Which continent is home to the country where the airline LATAM Perú has its hub?', '5hop_answer': 'South America', '6hop_question': 'What is the largest country by area on the continent that is home to the country where the airline LATAM Perú has its hub?', '6hop_answer': 'Brazil'}\n",
      "subject: Peru, relation: country, {'2hop_question': 'What is the capital city of the country Peru?', '2hop_answer': 'Lima', '3hop_question': 'What is the main international airport in the capital city of Peru?', '3hop_answer': 'Jorge Chávez International Airport', '4hop_question': 'Which airline has its main hub at the main international airport in the capital city of Peru?', '4hop_answer': 'LATAM Perú', '5hop_question': 'Which country is the airline based in that has its main hub at the main international airport in the capital city of Peru?', '5hop_answer': 'Peru', '6hop_question': 'What is the official language of the country where the airline is based that has its main hub at the main international airport in the capital city of Peru?', '6hop_answer': 'Spanish'}\n",
      "subject: North Africa, relation: located in/on physical feature, {'2hop_question': 'Which desert is located in North Africa?', '2hop_answer': 'Sahara Desert', '3hop_question': 'Which country has the largest portion of the Sahara Desert located in North Africa?', '3hop_answer': 'Algeria', '4hop_question': 'What is the capital city of the country that has the largest portion of the Sahara Desert located in North Africa?', '4hop_answer': 'Algiers', '5hop_question': 'Which sea is closest to the capital city of the country that has the largest portion of the Sahara Desert located in North Africa?', '5hop_answer': 'Mediterranean Sea', '6hop_question': 'Which major strait connects the sea closest to the capital city of the country that has the largest portion of the Sahara Desert located in North Africa to the Atlantic Ocean?', '6hop_answer': 'Strait of Gibraltar'}\n",
      "subject: Gummersbach, relation: twinned administrative body, {'2hop_question': 'What is the capital city of the country where the twinned administrative body of Gummersbach is located?', '2hop_answer': 'Paris', '3hop_question': 'Which river flows through the capital city of the country where the twinned administrative body of Gummersbach is located?', '3hop_answer': 'Seine', '4hop_question': 'What is the name of the famous cathedral located on the river that flows through the capital city of the country where the twinned administrative body of Gummersbach is located?', '4hop_answer': 'Notre-Dame Cathedral', '5hop_question': 'In which year did the construction of the famous cathedral located on the river that flows through the capital city of the country where the twinned administrative body of Gummersbach is located begin?', '5hop_answer': '1163', '6hop_question': 'Who was the bishop that laid the cornerstone for the famous cathedral located on the river that flows through the capital city of the country where the twinned administrative body of Gummersbach is located?', '6hop_answer': 'Maurice de Sully'}\n",
      "subject: Wakayama Prefecture, relation: twinned administrative body, {'2hop_question': 'What is the capital city of the twinned administrative body of Wakayama Prefecture?', '2hop_answer': 'Jinan', '3hop_question': 'Which country is the capital city of the twinned administrative body of Wakayama Prefecture located in?', '3hop_answer': 'China', '4hop_question': 'What is the official language of the country where the capital city of the twinned administrative body of Wakayama Prefecture is located?', '4hop_answer': 'Mandarin Chinese', '5hop_question': 'What is the population of the country where the official language is Mandarin Chinese and the capital city of the twinned administrative body of Wakayama Prefecture is located?', '5hop_answer': 'Approximately 1.4 billion', '6hop_question': 'What is the name of the largest city in the country with a population of approximately 1.4 billion where the capital city of the twinned administrative body of Wakayama Prefecture is located?', '6hop_answer': 'Shanghai'}\n",
      "subject: South Africa, relation: named after, {'2hop_question': 'Who was South Africa named after?', '2hop_answer': 'The geographic location in the southern part of Africa', '3hop_question': 'What is the capital city of the country that South Africa was named after?', '3hop_answer': 'Pretoria (administrative), Bloemfontein (judicial), Cape Town (legislative)', '4hop_question': 'Which famous landmark is located in the capital city of the country that South Africa was named after?', '4hop_answer': 'Table Mountain', '5hop_question': 'What is the height of the famous landmark located in the capital city of the country that South Africa was named after?', '5hop_answer': '1,085 meters (3,558 feet)', '6hop_question': 'Which national park is home to the famous landmark that is located in the capital city of the country that South Africa was named after?', '6hop_answer': 'Table Mountain National Park'}\n",
      "subject: South Africa, relation: country, {'2hop_question': 'What is the capital city of the country South Africa?', '2hop_answer': 'Pretoria', '3hop_question': 'Which university is located in the capital city of South Africa?', '3hop_answer': 'University of Pretoria', '4hop_question': 'What is the name of the notable research institute affiliated with the University of Pretoria?', '4hop_answer': 'Gordon Institute of Business Science', '5hop_question': 'Who is a notable alumnus of the Gordon Institute of Business Science?', '5hop_answer': 'Adrian Gore', '6hop_question': 'What company was founded by the notable alumnus of the Gordon Institute of Business Science?', '6hop_answer': 'Discovery Limited'}\n",
      "subject: Colombia, relation: country, {'2hop_question': 'What is the capital city of the country Colombia?', '2hop_answer': 'Bogotá', '3hop_question': 'What is the main international airport in the capital city of Colombia?', '3hop_answer': 'El Dorado International Airport', '4hop_question': 'Which airline has its main hub at the main international airport in the capital city of Colombia?', '4hop_answer': 'Avianca', '5hop_question': 'Who is the founder of the airline that has its main hub at the main international airport in the capital city of Colombia?', '5hop_answer': 'SCADTA (Sociedad Colombo Alemana de Transporte Aéreo)', '6hop_question': 'In which year was the airline founded that has its main hub at the main international airport in the capital city of Colombia?', '6hop_answer': '1919'}\n",
      "subject: Colombia, relation: head of government, {'2hop_question': 'Who is the spouse of the head of government of Colombia?', '2hop_answer': 'María Juliana Ruiz', '3hop_question': 'Which university did the spouse of the head of government of Colombia attend?', '3hop_answer': 'Pontifical Xavierian University', '4hop_question': 'In which city is the university located that the spouse of the head of government of Colombia attended?', '4hop_answer': 'Bogotá', '5hop_question': 'What is the population of the city where the university that the spouse of the head of government of Colombia attended is located?', '5hop_answer': 'Approximately 7.4 million', '6hop_question': 'What is the official language spoken in the city where the university that the spouse of the head of government of Colombia attended is located?', '6hop_answer': 'Spanish'}\n",
      "subject: Colombia, relation: country, {'2hop_question': 'What is the capital city of the country Colombia?', '2hop_answer': 'Bogotá', '3hop_question': 'What is the main international airport in the capital city of Colombia?', '3hop_answer': 'El Dorado International Airport', '4hop_question': 'Which airline has its main hub at the main international airport in the capital city of Colombia?', '4hop_answer': 'Avianca', '5hop_question': 'Who is the founder of the airline that has its main hub at the main international airport in the capital city of Colombia?', '5hop_answer': 'SCADTA (Sociedad Colombo Alemana de Transporte Aéreo)', '6hop_question': 'In which year was the airline founded that has its main hub at the main international airport in the capital city of Colombia?', '6hop_answer': '1919'}\n",
      "subject: Saint Patrick's Day, relation: public holiday, {'2hop_question': \"In which country is Saint Patrick's Day a public holiday?\", '2hop_answer': 'Ireland', '3hop_question': \"What is the capital city of the country where Saint Patrick's Day is a public holiday?\", '3hop_answer': 'Dublin', '4hop_question': \"Which river flows through the capital city of the country where Saint Patrick's Day is a public holiday?\", '4hop_answer': 'River Liffey', '5hop_question': \"What is a famous bridge that crosses the river flowing through the capital city of the country where Saint Patrick's Day is a public holiday?\", '5hop_answer': \"Ha'penny Bridge\", '6hop_question': \"In which year was the famous bridge that crosses the river flowing through the capital city of the country where Saint Patrick's Day is a public holiday built?\", '6hop_answer': '1816'}\n",
      "subject: Tanzania, relation: country, {'2hop_question': 'What is the capital city of the country Tanzania?', '2hop_answer': 'Dodoma', '3hop_question': 'Which major river flows through the capital city of Tanzania?', '3hop_answer': 'Wami River', '4hop_question': 'Into which body of water does the major river that flows through the capital city of Tanzania empty?', '4hop_answer': 'Indian Ocean', '5hop_question': 'Which ocean borders the country where the major river that flows through the capital city of Tanzania empties?', '5hop_answer': 'Indian Ocean', '6hop_question': 'Which continent is the country located on that is bordered by the ocean where the major river flowing through the capital city of Tanzania empties?', '6hop_answer': 'Africa'}\n",
      "subject: Tanzania, relation: named after, {'2hop_question': 'Who was Tanzania named after?', '2hop_answer': 'Tanganyika and Zanzibar', '3hop_question': 'What was the capital of the country that Tanzania was named after?', '3hop_answer': 'Dar es Salaam', '4hop_question': 'Which ocean is the capital of the country that Tanzania was named after located on?', '4hop_answer': 'Indian Ocean', '5hop_question': 'Which major island is located in the ocean where the capital of the country that Tanzania was named after is situated?', '5hop_answer': 'Madagascar', '6hop_question': 'What is the official language of the major island located in the ocean where the capital of the country that Tanzania was named after is situated?', '6hop_answer': 'Malagasy'}\n",
      "subject: Tanzania, relation: country, {'2hop_question': 'What is the capital city of the country Tanzania?', '2hop_answer': 'Dodoma', '3hop_question': 'Which major river flows through the capital city of Tanzania?', '3hop_answer': 'Wami River', '4hop_question': 'Into which body of water does the major river that flows through the capital city of Tanzania empty?', '4hop_answer': 'Indian Ocean', '5hop_question': 'Which ocean borders the country where the major river that flows through the capital city of Tanzania empties?', '5hop_answer': 'Indian Ocean', '6hop_question': 'Which continent is the country located on that is bordered by the ocean where the major river flowing through the capital city of Tanzania empties?', '6hop_answer': 'Africa'}\n",
      "subject: Grenada, relation: country, {'2hop_question': 'What is the capital of the country Grenada?', '2hop_answer': \"St. George's\", '3hop_question': 'Which island is the capital of Grenada located on?', '3hop_answer': 'Grenada Island', '4hop_question': 'What is the population of the island where the capital of Grenada is located?', '4hop_answer': 'Approximately 110,000', '5hop_question': 'What is the main language spoken by the population of the island where the capital of Grenada is located?', '5hop_answer': 'English', '6hop_question': \"What is the official language of the country where the main language spoken on the island with the capital St. George's is English?\", '6hop_answer': 'English'}\n",
      "subject: Grenada, relation: country, {'2hop_question': 'What is the capital of the country Grenada?', '2hop_answer': \"St. George's\", '3hop_question': 'Which parish is the capital of Grenada located in?', '3hop_answer': 'Saint George Parish', '4hop_question': 'What is the population of the parish where the capital of Grenada is located?', '4hop_answer': 'Approximately 38,000', '5hop_question': 'What is the name of the main hospital in the parish where the capital of Grenada is located?', '5hop_answer': 'General Hospital', '6hop_question': 'Which organization accredits the main hospital in the parish where the capital of Grenada is located?', '6hop_answer': 'Caribbean Accreditation Authority for Education in Medicine and other Health Professions (CAAM-HP)'}\n",
      "subject: Serbian, relation: official language, {'2hop_question': 'What is the capital city of the country where Serbian is an official language?', '2hop_answer': 'Belgrade', '3hop_question': 'Which river flows through the capital city of the country where Serbian is an official language?', '3hop_answer': 'Danube', '4hop_question': 'What is the name of the country through which the river flows that passes through the capital city of the country where Serbian is an official language?', '4hop_answer': 'Germany', '5hop_question': 'What is the capital city of the country through which the river flows that passes through the capital city of the country where Serbian is an official language?', '5hop_answer': 'Berlin', '6hop_question': 'What is the population of the capital city of the country through which the river flows that passes through the capital city of the country where Serbian is an official language?', '6hop_answer': 'Approximately 3.6 million'}\n",
      "subject: Japanese people, relation: ethnic group, {'2hop_question': 'What is the primary language spoken by the Japanese ethnic group?', '2hop_answer': 'Japanese', '3hop_question': 'What writing system is primarily used for the language spoken by the Japanese ethnic group?', '3hop_answer': 'Kanji', '4hop_question': 'Which country predominantly uses the writing system Kanji?', '4hop_answer': 'Japan', '5hop_question': 'What is the capital city of the country that predominantly uses the writing system Kanji?', '5hop_answer': 'Tokyo', '6hop_question': 'Which island is the capital city of the country that predominantly uses the writing system Kanji located on?', '6hop_answer': 'Honshu'}\n",
      "subject: Sea of Okhotsk, relation: located in or next to body of water, {'2hop_question': 'Which country has a coastline along the Sea of Okhotsk?', '2hop_answer': 'Russia', '3hop_question': 'What is the capital city of the country that has a coastline along the Sea of Okhotsk?', '3hop_answer': 'Moscow', '4hop_question': 'Which river flows through the capital city of the country that has a coastline along the Sea of Okhotsk?', '4hop_answer': 'Moskva River', '5hop_question': 'What is the length of the river that flows through the capital city of the country that has a coastline along the Sea of Okhotsk?', '5hop_answer': '502 kilometers', '6hop_question': 'Into which body of water does the river that flows through the capital city of the country with a coastline along the Sea of Okhotsk eventually drain?', '6hop_answer': 'Oka River'}\n",
      "subject: Olea europaea, relation: official symbol, {'2hop_question': 'Which country has Olea europaea as an official symbol?', '2hop_answer': 'Greece', '3hop_question': 'What is the capital city of the country that has Olea europaea as an official symbol?', '3hop_answer': 'Athens', '4hop_question': 'Which famous ancient landmark is located in the capital city of the country that has Olea europaea as an official symbol?', '4hop_answer': 'The Parthenon', '5hop_question': 'Who was the main deity worshipped at the famous ancient landmark located in the capital city of the country that has Olea europaea as an official symbol?', '5hop_answer': 'Athena', '6hop_question': 'What is the name of the festival held in honor of the main deity worshipped at the famous ancient landmark located in the capital city of the country that has Olea europaea as an official symbol?', '6hop_answer': 'Panathenaic Games'}\n",
      "subject: Palau, relation: official language, {'2hop_question': 'What is the official language of Palau?', '2hop_answer': 'Palauan', '3hop_question': 'What is the primary language spoken in the country where Palauan is an official language?', '3hop_answer': 'Palauan', '4hop_question': 'What is the name of the script used to write the primary language spoken in the country where Palauan is an official language?', '4hop_answer': 'Latin script', '5hop_question': 'Which continent is home to the country where the primary language is written in Latin script and is Palauan?', '5hop_answer': 'Oceania', '6hop_question': 'Which ocean surrounds the continent that is home to the country where the primary language is Palauan?', '6hop_answer': 'Pacific Ocean'}\n",
      "subject: Palau, relation: located in/on physical feature, {'2hop_question': 'What is the name of the ocean where Palau is located?', '2hop_answer': 'Pacific Ocean', '3hop_question': 'Which major current flows through the ocean where Palau is located?', '3hop_answer': 'North Equatorial Current', '4hop_question': 'Which sea is influenced by the major current that flows through the ocean where Palau is located?', '4hop_answer': 'Philippine Sea', '5hop_question': 'Which archipelago is situated in the sea influenced by the major current that flows through the ocean where Palau is located?', '5hop_answer': 'Philippine Archipelago', '6hop_question': 'Which country has sovereignty over the archipelago situated in the sea influenced by the major current that flows through the ocean where Palau is located?', '6hop_answer': 'Philippines'}\n",
      "subject: Palau, relation: country, {'2hop_question': 'What is the capital of the country Palau?', '2hop_answer': 'Ngerulmud', '3hop_question': 'Which state is the capital of Palau, Ngerulmud, located in?', '3hop_answer': 'Melekeok', '4hop_question': 'What is the population of the state where the capital of Palau is located?', '4hop_answer': '391', '5hop_question': 'What is the official language spoken in the state with a population of 391 where the capital of Palau is located?', '5hop_answer': 'Palauan', '6hop_question': 'What is the currency used in the country where the official language is Palauan?', '6hop_answer': 'United States Dollar (USD)'}\n",
      "subject: Palau, relation: country, {'2hop_question': 'What is the capital of the country Palau?', '2hop_answer': 'Ngerulmud', '3hop_question': 'Which state is the capital of Palau located in?', '3hop_answer': 'Melekeok', '4hop_question': 'What is the population of the state where the capital of Palau is located?', '4hop_answer': '391 (as of 2020)', '5hop_question': 'What is the primary language spoken in the state where the capital of Palau is located?', '5hop_answer': 'Palauan', '6hop_question': 'What is the currency used in the country where the primary language spoken in the state of the capital of Palau is Palauan?', '6hop_answer': 'United States Dollar (USD)'}\n",
      "subject: Parliamentary Assembly of the Council of Europe, relation: designated as terrorist by, {'2hop_question': 'Which organization designated the Parliamentary Assembly of the Council of Europe as a terrorist organization?', '2hop_answer': 'No organization has designated the Parliamentary Assembly of the Council of Europe as a terrorist organization.', '3hop_question': 'What is the primary function of the organization that designated the Parliamentary Assembly of the Council of Europe as a terrorist organization?', '3hop_answer': 'Not applicable, as no organization has designated the Parliamentary Assembly of the Council of Europe as a terrorist organization.', '4hop_question': 'Which country is the headquarters of the organization that designated the Parliamentary Assembly of the Council of Europe as a terrorist organization located in?', '4hop_answer': 'Not applicable, as no organization has designated the Parliamentary Assembly of the Council of Europe as a terrorist organization.', '5hop_question': 'Who is the current leader of the country where the headquarters of the organization that designated the Parliamentary Assembly of the Council of Europe as a terrorist organization is located?', '5hop_answer': 'Not applicable, as no organization has designated the Parliamentary Assembly of the Council of Europe as a terrorist organization.', '6hop_question': 'What is the official language of the country where the headquarters of the organization that designated the Parliamentary Assembly of the Council of Europe as a terrorist organization is located?', '6hop_answer': 'Not applicable, as no organization has designated the Parliamentary Assembly of the Council of Europe as a terrorist organization.'}\n",
      "subject: Saint Lucy, relation: named after, {'2hop_question': 'Who is the patron saint that Saint Lucy is named after?', '2hop_answer': 'Saint Lucia of Syracuse', '3hop_question': 'Which city is associated with the patron saint that Saint Lucy is named after?', '3hop_answer': 'Syracuse', '4hop_question': 'In which country is the city located that is associated with the patron saint that Saint Lucy is named after?', '4hop_answer': 'Italy', '5hop_question': 'What is the region in Italy where the city associated with the patron saint that Saint Lucy is named after is located?', '5hop_answer': 'Sicily', '6hop_question': 'What is the capital of the region in Italy where the city associated with the patron saint that Saint Lucy is named after is located?', '6hop_answer': 'Palermo'}\n",
      "subject: Malawi, relation: located in/on physical feature, {'2hop_question': 'What is the largest lake located in Malawi?', '2hop_answer': 'Lake Malawi', '3hop_question': 'Which river flows out of the largest lake located in Malawi?', '3hop_answer': 'Shire River', '4hop_question': 'Into which river does the Shire River, which flows out of the largest lake in Malawi, eventually flow?', '4hop_answer': 'Zambezi River', '5hop_question': 'In which country does the Zambezi River, which receives water from the Shire River flowing out of the largest lake in Malawi, empty into the Indian Ocean?', '5hop_answer': 'Mozambique', '6hop_question': 'What is the name of the delta where the Zambezi River, which receives water from the Shire River flowing out of the largest lake in Malawi, empties into the Indian Ocean?', '6hop_answer': 'Zambezi Delta'}\n",
      "subject: Malawi, relation: named after, {'2hop_question': 'Who was Malawi named after?', '2hop_answer': 'Maravi people', '3hop_question': 'What language is primarily spoken by the people Malawi was named after?', '3hop_answer': 'Chichewa', '4hop_question': 'Which country primarily speaks the language spoken by the people Malawi was named after?', '4hop_answer': 'Malawi', '5hop_question': 'What is the capital city of the country that primarily speaks the language spoken by the people Malawi was named after?', '5hop_answer': 'Lilongwe', '6hop_question': 'Which river flows through the capital city of the country that primarily speaks the language spoken by the people Malawi was named after?', '6hop_answer': 'Lilongwe River'}\n",
      "subject: Malawi, relation: country, {'2hop_question': 'What is the capital city of the country Malawi?', '2hop_answer': 'Lilongwe', '3hop_question': 'Which river flows through the capital city of the country Malawi?', '3hop_answer': 'Lilongwe River', '4hop_question': 'Into which lake does the river that flows through the capital city of Malawi eventually drain?', '4hop_answer': 'Lake Malawi', '5hop_question': 'Which country borders the lake into which the river that flows through the capital city of Malawi drains?', '5hop_answer': 'Tanzania', '6hop_question': 'What is the official language of the country that borders the lake into which the river that flows through the capital city of Malawi drains?', '6hop_answer': 'Swahili'}\n",
      "subject: Malawi, relation: country, {'2hop_question': 'What is the capital city of the country Malawi?', '2hop_answer': 'Lilongwe', '3hop_question': 'Which river flows through the capital city of the country Malawi?', '3hop_answer': 'Lilongwe River', '4hop_question': 'What is the name of the lake that the river flowing through the capital city of Malawi eventually drains into?', '4hop_answer': 'Lake Malawi', '5hop_question': 'Which national park is located near the lake that the river flowing through the capital city of Malawi drains into?', '5hop_answer': 'Lake Malawi National Park', '6hop_question': 'In which district is the national park located that is near the lake into which the river flowing through the capital city of Malawi drains?', '6hop_answer': 'Mangochi District'}\n",
      "subject: Comoros, relation: country, {'2hop_question': 'What is the capital city of the country Comoros?', '2hop_answer': 'Moroni', '3hop_question': 'Which island is the capital city of Comoros located on?', '3hop_answer': 'Grande Comore', '4hop_question': 'What is the highest point on the island where the capital city of Comoros is located?', '4hop_answer': 'Mount Karthala', '5hop_question': 'What type of geological feature is the highest point on the island where the capital city of Comoros is located?', '5hop_answer': 'Volcano', '6hop_question': 'What is the name of the ocean that surrounds the island where the highest point of Comoros is located?', '6hop_answer': 'Indian Ocean'}\n",
      "subject: Comoros, relation: official language, {'2hop_question': 'What is the official language of the country that has Comoros as its official language?', '2hop_answer': 'Comorian', '3hop_question': 'What is the primary religion in the country where Comorian is an official language?', '3hop_answer': 'Islam', '4hop_question': 'What is the holy book of the primary religion in the country where Comorian is an official language?', '4hop_answer': 'Quran', '5hop_question': 'In which language is the holy book of the primary religion in the country where Comorian is an official language originally written?', '5hop_answer': 'Arabic', '6hop_question': 'Which country is known for having Arabic as the language in which the holy book of the primary religion in the country where Comorian is an official language was originally written?', '6hop_answer': 'Saudi Arabia'}\n",
      "subject: Comoros, relation: country, {'2hop_question': 'What is the capital city of the country Comoros?', '2hop_answer': 'Moroni', '3hop_question': 'What is the population of the capital city of the country Comoros?', '3hop_answer': 'Around 60,000', '4hop_question': 'What is the main language spoken in the capital city of the country Comoros?', '4hop_answer': 'Comorian, Arabic, French', '5hop_question': 'What is the currency used in the country where the capital city Moroni is located?', '5hop_answer': 'Comorian franc', '6hop_question': 'Which ocean is the country located in where the capital city Moroni uses the Comorian franc?', '6hop_answer': 'Indian Ocean'}\n",
      "subject: Ireland, relation: located in/on physical feature, {'2hop_question': 'What is the name of the sea that Ireland is located on?', '2hop_answer': 'Irish Sea', '3hop_question': 'Which country is located to the east of the sea that Ireland is located on?', '3hop_answer': 'United Kingdom', '4hop_question': 'What is the capital city of the country located to the east of the sea that Ireland is located on?', '4hop_answer': 'London', '5hop_question': 'Which river flows through the capital city of the country located to the east of the sea that Ireland is located on?', '5hop_answer': 'River Thames', '6hop_question': 'What is the name of the estuary where the river that flows through the capital city of the country located to the east of the sea that Ireland is located on meets the sea?', '6hop_answer': 'Thames Estuary'}\n",
      "subject: Balkans, relation: location, {'2hop_question': 'What is the capital city of a country located in the Balkans?', '2hop_answer': 'Belgrade', '3hop_question': 'Which river flows through the capital city of a country located in the Balkans?', '3hop_answer': 'Danube', '4hop_question': 'Which sea does the river that flows through the capital city of a country located in the Balkans eventually empty into?', '4hop_answer': 'Black Sea', '5hop_question': 'Which country borders the sea that the river flowing through the capital city of a country in the Balkans empties into?', '5hop_answer': 'Turkey', '6hop_question': 'What is the largest city in the country that borders the sea into which the river flowing through the capital city of a country in the Balkans empties?', '6hop_answer': 'Istanbul'}\n",
      "subject: North Korea, relation: country, {'2hop_question': 'Who is the current leader of the country North Korea?', '2hop_answer': 'Kim Jong-un', '3hop_question': 'Who was the father of the current leader of the country North Korea?', '3hop_answer': 'Kim Jong-il', '4hop_question': 'Who was the founder of the country North Korea?', '4hop_answer': 'Kim Il-sung', '5hop_question': 'What is the capital city of the country founded by Kim Il-sung?', '5hop_answer': 'Pyongyang', '6hop_question': 'Which river flows through the capital city of the country founded by Kim Il-sung?', '6hop_answer': 'Taedong River'}\n",
      "subject: Sri Lanka, relation: country, {'2hop_question': 'What is the capital city of the country Sri Lanka?', '2hop_answer': 'Sri Jayawardenepura Kotte', '3hop_question': 'What is the official language spoken in the capital city of Sri Lanka?', '3hop_answer': 'Sinhala', '4hop_question': 'What is the primary religion practiced by the speakers of the official language in the capital city of Sri Lanka?', '4hop_answer': 'Buddhism', '5hop_question': 'What is the name of the most significant Buddhist temple in the capital city of Sri Lanka?', '5hop_answer': 'Gangaramaya Temple', '6hop_question': 'Who is the chief monk of the most significant Buddhist temple in the capital city of Sri Lanka?', '6hop_answer': 'Galboda Gnanissara Thera'}\n",
      "subject: Elbe, relation: lowest point, {'2hop_question': 'Which country is home to the lowest point of the Elbe?', '2hop_answer': 'Germany', '3hop_question': 'What is the capital city of the country that is home to the lowest point of the Elbe?', '3hop_answer': 'Berlin', '4hop_question': 'Which river flows through the capital city of the country that is home to the lowest point of the Elbe?', '4hop_answer': 'Spree', '5hop_question': 'What is the length of the river that flows through the capital city of the country that is home to the lowest point of the Elbe?', '5hop_answer': '400 kilometers', '6hop_question': 'Into which river does the river that flows through the capital city of the country that is home to the lowest point of the Elbe eventually flow?', '6hop_answer': 'Havel'}\n",
      "subject: Palm Sunday, relation: public holiday, {'2hop_question': 'Which country celebrates Palm Sunday as a public holiday?', '2hop_answer': 'Spain', '3hop_question': 'What is a traditional event that takes place in Spain during Palm Sunday?', '3hop_answer': 'Processions', '4hop_question': 'Which city in Spain is famous for its Palm Sunday processions?', '4hop_answer': 'Seville', '5hop_question': 'What is the name of the famous cathedral in Seville where Palm Sunday processions are held?', '5hop_answer': 'Seville Cathedral', '6hop_question': 'In which century was the Seville Cathedral, where Palm Sunday processions are held, completed?', '6hop_answer': '16th century'}\n",
      "subject: Kiribati, relation: located in/on physical feature, {'2hop_question': 'What ocean is Kiribati located in?', '2hop_answer': 'Pacific Ocean', '3hop_question': 'Which major current flows through the ocean where Kiribati is located?', '3hop_answer': 'Equatorial Counter Current', '4hop_question': 'Which continent is closest to the major current that flows through the ocean where Kiribati is located?', '4hop_answer': 'Australia', '5hop_question': 'What is the capital city of the continent closest to the major current that flows through the ocean where Kiribati is located?', '5hop_answer': 'Canberra', '6hop_question': 'What is the population of the capital city of the continent closest to the major current that flows through the ocean where Kiribati is located?', '6hop_answer': 'Approximately 431,000'}\n",
      "subject: Kiribati, relation: country, {'2hop_question': 'What is the capital of the country Kiribati?', '2hop_answer': 'Tarawa', '3hop_question': 'Which island is the capital of Kiribati located on?', '3hop_answer': 'South Tarawa', '4hop_question': 'What is the population of the island where the capital of Kiribati is located?', '4hop_answer': 'Approximately 63,000', '5hop_question': 'What is the primary language spoken on the island where the capital of Kiribati is located?', '5hop_answer': 'Gilbertese', '6hop_question': 'What is the official language of the country where the island with the capital Tarawa is located?', '6hop_answer': 'English'}\n",
      "subject: Kosovo, relation: country, {'2hop_question': 'What is the capital city of the country Kosovo?', '2hop_answer': 'Pristina', '3hop_question': 'Which university is located in the capital city of the country Kosovo?', '3hop_answer': 'University of Pristina', '4hop_question': 'Who is a notable alumni of the university located in the capital city of the country Kosovo?', '4hop_answer': 'Atifete Jahjaga', '5hop_question': 'What position did the notable alumni of the university located in the capital city of the country Kosovo hold?', '5hop_answer': 'President of Kosovo', '6hop_question': 'During which years did the notable alumni of the university located in the capital city of the country Kosovo serve as President?', '6hop_answer': '2011-2016'}\n",
      "subject: Kosovo, relation: country, {'2hop_question': 'What is the capital city of the country Kosovo?', '2hop_answer': 'Pristina', '3hop_question': 'Which river flows through the capital city of the country Kosovo?', '3hop_answer': 'Llap River', '4hop_question': 'What is the length of the river that flows through the capital city of the country Kosovo?', '4hop_answer': '72 kilometers', '5hop_question': 'Which sea does the river that flows through the capital city of the country Kosovo ultimately drain into?', '5hop_answer': 'Adriatic Sea', '6hop_question': 'Which ocean is connected to the sea that the river flowing through the capital city of the country Kosovo ultimately drains into?', '6hop_answer': 'Atlantic Ocean'}\n",
      "subject: São Tomé and Príncipe, relation: located in/on physical feature, {'2hop_question': 'What is the name of the island on which São Tomé and Príncipe is located?', '2hop_answer': 'Gulf of Guinea islands', '3hop_question': 'Which ocean contains the Gulf of Guinea islands where São Tomé and Príncipe is located?', '3hop_answer': 'Atlantic Ocean', '4hop_question': 'Which major ocean current flows through the ocean that contains the Gulf of Guinea islands where São Tomé and Príncipe is located?', '4hop_answer': 'South Equatorial Current', '5hop_question': \"Which continent's western coast is influenced by the major ocean current that flows through the ocean containing the Gulf of Guinea islands where São Tomé and Príncipe is located?\", '5hop_answer': 'Africa', '6hop_question': 'Which country on the western coast of the continent influenced by the South Equatorial Current is closest to the Gulf of Guinea islands where São Tomé and Príncipe is located?', '6hop_answer': 'Gabon'}\n",
      "subject: Republic of Ireland, relation: head of state, {'2hop_question': 'Who is the spouse of the head of state of the Republic of Ireland?', '2hop_answer': 'Sabina Higgins', '3hop_question': 'What is the profession of the spouse of the head of state of the Republic of Ireland?', '3hop_answer': 'Actress and political activist', '4hop_question': 'Which organization is associated with the profession of the spouse of the head of state of the Republic of Ireland?', '4hop_answer': \"Irish Actors' Equity\", '5hop_question': 'Who is the current president of the organization associated with the profession of the spouse of the head of state of the Republic of Ireland?', '5hop_answer': 'Ger Ryan', '6hop_question': 'Which award has the current president of the organization associated with the profession of the spouse of the head of state of the Republic of Ireland won?', '6hop_answer': 'Irish Film & Television Academy Award'}\n",
      "subject: Czech Republic, relation: located in or next to body of water, {'2hop_question': 'What is the capital city of the country that is located next to the Vltava River?', '2hop_answer': 'Prague', '3hop_question': 'Which famous bridge is located in the capital city of the country that is next to the Vltava River?', '3hop_answer': 'Charles Bridge', '4hop_question': 'Which historical figure commissioned the construction of the famous bridge located in the capital city of the country next to the Vltava River?', '4hop_answer': 'Charles IV', '5hop_question': 'Which university was founded by the historical figure who commissioned the construction of the famous bridge in the capital city of the country next to the Vltava River?', '5hop_answer': 'Charles University', '6hop_question': 'In which year was the university founded by the historical figure who commissioned the construction of the famous bridge in the capital city of the country next to the Vltava River?', '6hop_answer': '1348'}\n",
      "subject: Czech Republic, relation: religion or worldview, {'2hop_question': 'What is the predominant religion or worldview in the Czech Republic?', '2hop_answer': 'Roman Catholicism', '3hop_question': 'Who is the head of the predominant religion in the Czech Republic?', '3hop_answer': 'Pope', '4hop_question': 'Which city is the residence of the head of the predominant religion in the Czech Republic?', '4hop_answer': 'Vatican City', '5hop_question': 'In which country is Vatican City located?', '5hop_answer': 'Italy', '6hop_question': 'What is the capital of the country where Vatican City is located?', '6hop_answer': 'Rome'}\n",
      "subject: Czech Republic, relation: country, {'2hop_question': 'What is the capital city of the Czech Republic?', '2hop_answer': 'Prague', '3hop_question': 'What is the main river that flows through the capital city of the Czech Republic?', '3hop_answer': 'Vltava', '4hop_question': 'Which sea does the river that flows through the capital city of the Czech Republic eventually drain into?', '4hop_answer': 'North Sea', '5hop_question': 'Which country borders the sea that the river flowing through the capital city of the Czech Republic drains into?', '5hop_answer': 'Germany', '6hop_question': 'What is the official language of the country that borders the sea into which the river flowing through the capital city of the Czech Republic drains?', '6hop_answer': 'German'}\n",
      "subject: Czech Republic, relation: ethnic group, {'2hop_question': 'What is the primary language spoken by the main ethnic group in the Czech Republic?', '2hop_answer': 'Czech', '3hop_question': 'What is the capital city of the country where the primary language spoken by the main ethnic group is Czech?', '3hop_answer': 'Prague', '4hop_question': 'What is a famous historical landmark located in the capital city of the country where the primary language spoken by the main ethnic group is Czech?', '4hop_answer': 'Prague Castle', '5hop_question': 'Who was the first president of the country where the famous historical landmark Prague Castle is located?', '5hop_answer': 'Tomáš Garrigue Masaryk', '6hop_question': 'Which university did the first president of the country where Prague Castle is located attend?', '6hop_answer': 'Charles University'}\n",
      "subject: Czech Republic, relation: country, {'2hop_question': 'What is the capital city of the Czech Republic?', '2hop_answer': 'Prague', '3hop_question': 'What is the main river that flows through the capital city of the Czech Republic?', '3hop_answer': 'Vltava', '4hop_question': 'Which sea does the river that flows through the capital city of the Czech Republic eventually drain into?', '4hop_answer': 'North Sea', '5hop_question': 'Which country borders the sea that the river flowing through the capital city of the Czech Republic drains into?', '5hop_answer': 'Germany', '6hop_question': 'What is the official language of the country that borders the sea into which the river flowing through the capital city of the Czech Republic drains?', '6hop_answer': 'German'}\n",
      "subject: Czech Republic, relation: designated as terrorist by, {'2hop_question': 'Which organization designated the Czech Republic as a terrorist?', '2hop_answer': 'No organization has designated the Czech Republic as a terrorist', '3hop_question': 'Which country has an organization that designates entities as terrorists?', '3hop_answer': 'United States', '4hop_question': 'What is the capital of the country that has an organization that designates entities as terrorists?', '4hop_answer': 'Washington, D.C.', '5hop_question': 'Which river flows through the capital of the country that has an organization that designates entities as terrorists?', '5hop_answer': 'Potomac River', '6hop_question': 'Into which body of water does the river flow that passes through the capital of the country that has an organization that designates entities as terrorists?', '6hop_answer': 'Chesapeake Bay'}\n",
      "subject: Canada, relation: country, {'2hop_question': 'What is the capital city of the country Canada?', '2hop_answer': 'Ottawa', '3hop_question': 'Which river flows through the capital city of Canada?', '3hop_answer': 'Ottawa River', '4hop_question': 'What is the name of the province where the river that flows through the capital city of Canada is located?', '4hop_answer': 'Ontario', '5hop_question': 'What is the largest city in the province where the river that flows through the capital city of Canada is located?', '5hop_answer': 'Toronto', '6hop_question': 'What is the name of the famous tower located in the largest city of the province where the river that flows through the capital city of Canada is located?', '6hop_answer': 'CN Tower'}\n",
      "subject: Canada, relation: official symbol, {'2hop_question': 'What is the national animal that is an official symbol of Canada?', '2hop_answer': 'Beaver', '3hop_question': 'What is the primary habitat of the national animal that is an official symbol of Canada?', '3hop_answer': 'Freshwater rivers and lakes', '4hop_question': 'Which continent has the primary habitat of the national animal that is an official symbol of Canada?', '4hop_answer': 'North America', '5hop_question': 'Which country in North America has the primary habitat of the national animal that is an official symbol of Canada?', '5hop_answer': 'Canada', '6hop_question': 'What is the name of the country that has the national animal whose primary habitat is freshwater rivers and lakes in North America?', '6hop_answer': 'Canada'}\n",
      "subject: Canada, relation: country, {'2hop_question': 'What is the capital city of the country Canada?', '2hop_answer': 'Ottawa', '3hop_question': 'Which river flows through the capital city of the country Canada?', '3hop_answer': 'Ottawa River', '4hop_question': 'What is the name of the province where the capital city of the country Canada is located?', '4hop_answer': 'Ontario', '5hop_question': 'Which Great Lake is located in the province where the capital city of the country Canada is situated?', '5hop_answer': 'Lake Ontario', '6hop_question': 'Which country shares a border with the province where the Great Lake Ontario is located?', '6hop_answer': 'United States'}\n",
      "subject: Ghana, relation: country, {'2hop_question': 'What is the capital city of the country Ghana?', '2hop_answer': 'Accra', '3hop_question': 'What is the population of the capital city of the country Ghana?', '3hop_answer': '2.27 million', '4hop_question': 'What is the main language spoken in the capital city of the country Ghana?', '4hop_answer': 'English', '5hop_question': 'What is the currency used in the country where the main language spoken in its capital city is English?', '5hop_answer': 'Ghanaian cedi', '6hop_question': 'What is the symbol for the currency used in the country where the main language spoken in its capital city is English?', '6hop_answer': '₵'}\n",
      "subject: Ghana, relation: basic form of government, {'2hop_question': 'Who is the current head of state of the country with the basic form of government in Ghana?', '2hop_answer': 'Nana Akufo-Addo', '3hop_question': 'Which political party does the current head of state of Ghana belong to?', '3hop_answer': 'New Patriotic Party', '4hop_question': 'Who was the founder of the political party that the current head of state of Ghana belongs to?', '4hop_answer': 'J.B. Danquah', '5hop_question': 'What was the profession of the founder of the political party that the current head of state of Ghana belongs to?', '5hop_answer': 'Lawyer', '6hop_question': 'Which university did the founder of the political party that the current head of state of Ghana belongs to attend?', '6hop_answer': 'University of London'}\n",
      "subject: Ghana, relation: country, {'2hop_question': 'What is the capital city of the country Ghana?', '2hop_answer': 'Accra', '3hop_question': 'What is the main airport in the capital city of the country Ghana?', '3hop_answer': 'Kotoka International Airport', '4hop_question': 'Which airline has its hub at the main airport in the capital city of the country Ghana?', '4hop_answer': 'Africa World Airlines', '5hop_question': 'Which country is the airline that has its hub at the main airport in the capital city of the country Ghana based in?', '5hop_answer': 'Ghana', '6hop_question': 'What is the official language of the country where the airline that has its hub at the main airport in the capital city of the country Ghana is based?', '6hop_answer': 'English'}\n",
      "subject: Nicaragua, relation: country, {'2hop_question': 'What is the capital city of the country Nicaragua?', '2hop_answer': 'Managua', '3hop_question': 'Which lake is located near the capital city of Nicaragua?', '3hop_answer': 'Lake Managua', '4hop_question': 'What is the primary river that flows into the lake located near the capital city of Nicaragua?', '4hop_answer': 'Tipitapa River', '5hop_question': 'Which ocean does the primary river that flows into the lake near the capital city of Nicaragua eventually drain into?', '5hop_answer': 'Caribbean Sea', '6hop_question': 'Which sea is part of the ocean that the primary river flowing into the lake near the capital city of Nicaragua eventually drains into?', '6hop_answer': 'Atlantic Ocean'}\n",
      "subject: Nicaragua, relation: country, {'2hop_question': 'What is the capital city of the country Nicaragua?', '2hop_answer': 'Managua', '3hop_question': 'Which lake is located near the capital city of the country Nicaragua?', '3hop_answer': 'Lake Managua', '4hop_question': 'What is the primary river that flows into the lake located near the capital city of the country Nicaragua?', '4hop_answer': 'Tipitapa River', '5hop_question': 'Which ocean does the primary river that flows into the lake near the capital city of the country Nicaragua eventually drain into?', '5hop_answer': 'Pacific Ocean', '6hop_question': 'Which continent is the ocean located on that the primary river flowing into the lake near the capital city of the country Nicaragua eventually drains into?', '6hop_answer': 'North America'}\n",
      "subject: Kazakhstan, relation: twinned administrative body, {'2hop_question': 'What is the capital city of the twinned administrative body of Kazakhstan?', '2hop_answer': 'Warsaw', '3hop_question': 'Which river flows through the capital city of the twinned administrative body of Kazakhstan?', '3hop_answer': 'Vistula River', '4hop_question': 'What is the length of the river that flows through the capital city of the twinned administrative body of Kazakhstan?', '4hop_answer': '1,047 kilometers', '5hop_question': 'Which sea does the river that flows through the capital city of the twinned administrative body of Kazakhstan empty into?', '5hop_answer': 'Baltic Sea', '6hop_question': 'Which country borders the sea that the river flowing through the capital city of the twinned administrative body of Kazakhstan empties into?', '6hop_answer': 'Germany'}\n",
      "subject: Kazakhstan, relation: country, {'2hop_question': 'What is the capital city of Kazakhstan?', '2hop_answer': 'Astana', '3hop_question': 'What is the population of the capital city of Kazakhstan?', '3hop_answer': '1.2 million', '4hop_question': 'What is the main river that flows through the capital city of Kazakhstan?', '4hop_answer': 'Ishim River', '5hop_question': 'Which sea does the main river flowing through the capital city of Kazakhstan eventually drain into?', '5hop_answer': 'Aral Sea', '6hop_question': 'Which two countries share the sea that the main river flowing through the capital city of Kazakhstan eventually drains into?', '6hop_answer': 'Kazakhstan and Uzbekistan'}\n",
      "subject: Kazakhstan, relation: country, {'2hop_question': 'What is the capital city of Kazakhstan?', '2hop_answer': 'Astana', '3hop_question': 'What is the population of the capital city of Kazakhstan?', '3hop_answer': '1.2 million', '4hop_question': 'What is the main river that flows through the capital city of Kazakhstan?', '4hop_answer': 'Ishim River', '5hop_question': 'Which sea does the main river that flows through the capital city of Kazakhstan eventually drain into?', '5hop_answer': 'Aral Sea', '6hop_question': 'Which two countries share the sea that the main river flowing through the capital city of Kazakhstan drains into?', '6hop_answer': 'Kazakhstan and Uzbekistan'}\n",
      "subject: Mongolia, relation: named after, {'2hop_question': 'Who was Mongolia named after?', '2hop_answer': 'The Mongols', '3hop_question': 'Who was the leader of the group that Mongolia was named after?', '3hop_answer': 'Genghis Khan', '4hop_question': 'Which empire was founded by the leader of the group that Mongolia was named after?', '4hop_answer': 'Mongol Empire', '5hop_question': 'What was the capital of the empire founded by the leader of the group that Mongolia was named after?', '5hop_answer': 'Karakorum', '6hop_question': 'In which modern-day country is the capital of the empire founded by the leader of the group that Mongolia was named after located?', '6hop_answer': 'Mongolia'}\n",
      "subject: Mongolia, relation: official observer status in organisation, {'2hop_question': 'Which organization does Mongolia have official observer status in?', '2hop_answer': 'Shanghai Cooperation Organisation', '3hop_question': 'In which year did Mongolia obtain official observer status in the Shanghai Cooperation Organisation?', '3hop_answer': '2004', '4hop_question': 'Which country hosted the Shanghai Cooperation Organisation summit in the year Mongolia obtained official observer status?', '4hop_answer': 'Uzbekistan', '5hop_question': 'What is the capital city of the country that hosted the Shanghai Cooperation Organisation summit in the year Mongolia obtained official observer status?', '5hop_answer': 'Tashkent', '6hop_question': 'Which river flows through the capital city of the country that hosted the Shanghai Cooperation Organisation summit in the year Mongolia obtained official observer status?', '6hop_answer': 'Chirchiq River'}\n",
      "subject: Mongolia, relation: country, {'2hop_question': 'What is the capital city of the country Mongolia?', '2hop_answer': 'Ulaanbaatar', '3hop_question': 'Which river flows through the capital city of the country Mongolia?', '3hop_answer': 'Tuul River', '4hop_question': 'What is the name of the national park located near the river that flows through the capital city of Mongolia?', '4hop_answer': 'Gorkhi-Terelj National Park', '5hop_question': 'Which mountain range is located near the national park that is near the river flowing through the capital city of Mongolia?', '5hop_answer': 'Khentii Mountains', '6hop_question': 'What is the highest peak in the mountain range located near the national park that is near the river flowing through the capital city of Mongolia?', '6hop_answer': 'Asralt Khairkhan'}\n",
      "subject: Mongolia, relation: country, {'2hop_question': 'What is the capital city of the country Mongolia?', '2hop_answer': 'Ulaanbaatar', '3hop_question': 'What is the population of the capital city of the country Mongolia?', '3hop_answer': '1.4 million', '4hop_question': 'What is the main river that flows through the capital city of the country Mongolia?', '4hop_answer': 'Tuul River', '5hop_question': 'Which mountain range is near the main river that flows through the capital city of the country Mongolia?', '5hop_answer': 'Khentii Mountains', '6hop_question': 'What is the highest peak in the mountain range near the main river that flows through the capital city of the country Mongolia?', '6hop_answer': 'Asralt Khairkhan'}\n",
      "subject: Sudan, relation: country, {'2hop_question': 'What is the capital city of the country Sudan?', '2hop_answer': 'Khartoum', '3hop_question': 'Which river flows through the capital city of the country Sudan?', '3hop_answer': 'Nile River', '4hop_question': 'What is the name of the dam located on the river that flows through the capital city of the country Sudan?', '4hop_answer': 'Merowe Dam', '5hop_question': 'Which region in Sudan is the Merowe Dam located?', '5hop_answer': 'Northern State', '6hop_question': 'What is the population of the region where the Merowe Dam is located in Sudan?', '6hop_answer': 'Approximately 833,743'}\n",
      "subject: Sudan, relation: country, {'2hop_question': 'What is the capital city of the country Sudan?', '2hop_answer': 'Khartoum', '3hop_question': 'Which river flows through the capital city of the country Sudan?', '3hop_answer': 'Nile River', '4hop_question': 'What is the name of the dam located on the river that flows through the capital city of the country Sudan?', '4hop_answer': 'Merowe Dam', '5hop_question': 'Which region is the dam located in that is on the river flowing through the capital city of the country Sudan?', '5hop_answer': 'Northern State', '6hop_question': 'What is the population of the region where the dam is located on the river that flows through the capital city of the country Sudan?', '6hop_answer': 'Approximately 833,743'}\n",
      "subject: Saudi Arabia, relation: country, {'2hop_question': 'What is the capital city of Saudi Arabia?', '2hop_answer': 'Riyadh', '3hop_question': 'Who is the current mayor of the capital city of Saudi Arabia?', '3hop_answer': 'Fahad Al-Rasheed', '4hop_question': 'Which university did the current mayor of the capital city of Saudi Arabia attend?', '4hop_answer': 'King Saud University', '5hop_question': 'What is the primary language of instruction at the university attended by the current mayor of the capital city of Saudi Arabia?', '5hop_answer': 'Arabic', '6hop_question': 'What is the official language of the country where the primary language of instruction at the university attended by the current mayor of the capital city of Saudi Arabia is Arabic?', '6hop_answer': 'Arabic'}\n",
      "subject: Saudi Arabia, relation: head of government, {'2hop_question': 'Who is the spouse of the head of government of Saudi Arabia?', '2hop_answer': 'Sara bint Mashoor bin Abdulaziz Al Saud', '3hop_question': 'Who is the father of the spouse of the head of government of Saudi Arabia?', '3hop_answer': 'Mashoor bin Abdulaziz Al Saud', '4hop_question': 'Who is the sibling of the father of the spouse of the head of government of Saudi Arabia?', '4hop_answer': 'Salman bin Abdulaziz Al Saud', '5hop_question': 'What is the title of the sibling of the father of the spouse of the head of government of Saudi Arabia?', '5hop_answer': 'King of Saudi Arabia', '6hop_question': 'In which year did the sibling of the father of the spouse of the head of government of Saudi Arabia become the King of Saudi Arabia?', '6hop_answer': '2015'}\n",
      "subject: Saudi Arabia, relation: religion or worldview, {'2hop_question': 'What is the holy city for the predominant religion in Saudi Arabia?', '2hop_answer': 'Mecca', '3hop_question': 'What is the name of the annual pilgrimage to the holy city of the predominant religion in Saudi Arabia?', '3hop_answer': 'Hajj', '4hop_question': 'During which Islamic month does the annual pilgrimage to the holy city of the predominant religion in Saudi Arabia take place?', '4hop_answer': 'Dhu al-Hijjah', '5hop_question': 'What is the name of the festival that marks the end of the annual pilgrimage to the holy city of the predominant religion in Saudi Arabia?', '5hop_answer': 'Eid al-Adha', '6hop_question': 'Which prophet is commemorated during the festival that marks the end of the annual pilgrimage to the holy city of the predominant religion in Saudi Arabia?', '6hop_answer': 'Prophet Ibrahim (Abraham)'}\n",
      "subject: Saudi Arabia, relation: country, {'2hop_question': 'What is the capital city of the country Saudi Arabia?', '2hop_answer': 'Riyadh', '3hop_question': 'What is the population of the capital city of the country Saudi Arabia?', '3hop_answer': 'Approximately 7.6 million', '4hop_question': 'What is the main language spoken in the capital city of the country Saudi Arabia?', '4hop_answer': 'Arabic', '5hop_question': 'What is the official religion of the country where the main language spoken in its capital city is Arabic?', '5hop_answer': 'Islam', '6hop_question': 'What is the name of the holy city located in the country where the official religion is Islam?', '6hop_answer': 'Mecca'}\n",
      "subject: Niger, relation: replaces, {'2hop_question': \"Who is the current president of the country that Niger's president replaces?\", '2hop_answer': 'Mohamed Bazoum', '3hop_question': \"Which political party does the current president of the country that Niger's president replaces belong to?\", '3hop_answer': 'Nigerien Party for Democracy and Socialism', '4hop_question': 'What is the capital city of the country whose current president belongs to the Nigerien Party for Democracy and Socialism?', '4hop_answer': 'Niamey', '5hop_question': 'What is the population of the capital city of the country whose current president belongs to the Nigerien Party for Democracy and Socialism?', '5hop_answer': '1.3 million', '6hop_question': \"What is the primary language spoken in the capital city with a population of 1.3 million, where the current president of Niger's party is based?\", '6hop_answer': 'French'}\n",
      "subject: Niger, relation: country, {'2hop_question': 'What is the capital city of the country Niger?', '2hop_answer': 'Niamey', '3hop_question': 'Which river flows through the capital city of the country Niger?', '3hop_answer': 'Niger River', '4hop_question': 'What is the source country of the river that flows through the capital city of the country Niger?', '4hop_answer': 'Guinea', '5hop_question': 'What is the official language of the source country of the river that flows through the capital city of the country Niger?', '5hop_answer': 'French', '6hop_question': 'What is the currency used in the country where the official language is French and is the source of the river that flows through the capital city of the country Niger?', '6hop_answer': 'Guinean franc'}\n",
      "subject: Niger, relation: country, {'2hop_question': 'What is the capital city of the country Niger?', '2hop_answer': 'Niamey', '3hop_question': 'Which river flows through the capital city of the country Niger?', '3hop_answer': 'Niger River', '4hop_question': 'What is the source country of the river that flows through the capital city of the country Niger?', '4hop_answer': 'Guinea', '5hop_question': 'What is the official language of the source country of the river that flows through the capital city of the country Niger?', '5hop_answer': 'French', '6hop_question': 'What is the currency used in the country where the official language is French and is the source of the river that flows through the capital city of Niger?', '6hop_answer': 'Guinean franc'}\n",
      "subject: Lesotho, relation: named after, {'2hop_question': 'Who was Lesotho named after?', '2hop_answer': 'Moshoeshoe I', '3hop_question': 'What was the title of the person Lesotho was named after?', '3hop_answer': 'King', '4hop_question': 'Which tribe was led by the person after whom Lesotho was named?', '4hop_answer': 'Basotho', '5hop_question': 'In which region did the tribe led by the person after whom Lesotho was named primarily reside?', '5hop_answer': 'Southern Africa', '6hop_question': 'Which mountain range is located in the region where the tribe led by the person after whom Lesotho was named primarily resided?', '6hop_answer': 'Drakensberg Mountains'}\n",
      "subject: Lesotho, relation: basic form of government, {'2hop_question': 'Who is the head of state in the basic form of government of Lesotho?', '2hop_answer': 'King Letsie III', '3hop_question': 'What is the title of the head of state in the basic form of government of Lesotho?', '3hop_answer': 'King', '4hop_question': \"Which country has a head of state with the title 'King' and is located in Southern Africa?\", '4hop_answer': 'Lesotho', '5hop_question': \"What is the official language of the country in Southern Africa with a head of state titled 'King'?\", '5hop_answer': 'Sesotho', '6hop_question': \"What is the currency used in the country where Sesotho is an official language and the head of state is titled 'King'?\", '6hop_answer': 'Lesotho loti'}\n",
      "subject: Lesotho, relation: located in/on physical feature, {'2hop_question': 'What is the highest point in the physical feature where Lesotho is located?', '2hop_answer': 'Thabana Ntlenyana', '3hop_question': 'Which mountain range contains the highest point in the physical feature where Lesotho is located?', '3hop_answer': 'Drakensberg', '4hop_question': 'In which country is the mountain range that contains the highest point in the physical feature where Lesotho is located?', '4hop_answer': 'South Africa', '5hop_question': 'What is the capital city of the country where the mountain range that contains the highest point in the physical feature where Lesotho is located?', '5hop_answer': 'Pretoria', '6hop_question': 'Which river flows through the capital city of the country where the mountain range that contains the highest point in the physical feature where Lesotho is located?', '6hop_answer': 'Apies River'}\n",
      "subject: Lesotho, relation: country, {'2hop_question': 'What is the capital city of the country Lesotho?', '2hop_answer': 'Maseru', '3hop_question': 'Which river flows through the capital city of the country Lesotho?', '3hop_answer': 'Caledon River', '4hop_question': 'Which country borders the river that flows through the capital city of Lesotho?', '4hop_answer': 'South Africa', '5hop_question': 'What is the official language of the country that borders the river flowing through the capital city of Lesotho?', '5hop_answer': 'Afrikaans', '6hop_question': 'Who is a famous author that writes in the official language of the country bordering the river flowing through the capital city of Lesotho?', '6hop_answer': 'J.M. Coetzee'}\n",
      "subject: Lesser Antilles, relation: located in/on physical feature, {'2hop_question': 'What is the name of the sea where the Lesser Antilles are located?', '2hop_answer': 'Caribbean Sea', '3hop_question': 'Which ocean does the sea where the Lesser Antilles are located connect to?', '3hop_answer': 'Atlantic Ocean', '4hop_question': 'What is the name of the current that flows through the ocean connected to the sea where the Lesser Antilles are located?', '4hop_answer': 'Gulf Stream', '5hop_question': 'Which country has a coastline along the current that flows through the ocean connected to the sea where the Lesser Antilles are located?', '5hop_answer': 'United States', '6hop_question': 'What is the capital city of the country that has a coastline along the current that flows through the ocean connected to the sea where the Lesser Antilles are located?', '6hop_answer': 'Washington, D.C.'}\n",
      "subject: Aruba, relation: country, {'2hop_question': 'What is the capital of the country Aruba?', '2hop_answer': 'Oranjestad', '3hop_question': 'What is the population of the capital of the country Aruba?', '3hop_answer': 'Around 35,000', '4hop_question': 'What is the official language spoken in the capital of the country Aruba?', '4hop_answer': 'Dutch', '5hop_question': 'What is the currency used in the country where the capital is Oranjestad?', '5hop_answer': 'Aruban florin', '6hop_question': 'Which continent is the country located in where the currency is Aruban florin?', '6hop_answer': 'North America'}\n",
      "subject: Aruba, relation: country, {'2hop_question': 'What is the capital city of the country Aruba?', '2hop_answer': 'Oranjestad', '3hop_question': 'What is the official language spoken in the capital city of the country Aruba?', '3hop_answer': 'Dutch', '4hop_question': 'Which European country is the official language of the capital city of the country Aruba associated with?', '4hop_answer': 'Netherlands', '5hop_question': 'What is the currency used in the European country associated with the official language of the capital city of the country Aruba?', '5hop_answer': 'Euro', '6hop_question': 'Which international organization is the European country that uses the Euro and is associated with the official language of the capital city of the country Aruba a member of?', '6hop_answer': 'European Union'}\n",
      "subject: Jamaica, relation: country, {'2hop_question': 'What is the capital of the country Jamaica?', '2hop_answer': 'Kingston', '3hop_question': 'What is the population of the capital of the country Jamaica?', '3hop_answer': 'Approximately 670,000', '4hop_question': 'What is the name of the airport in the capital of the country Jamaica?', '4hop_answer': 'Norman Manley International Airport', '5hop_question': 'Which airline has its hub at the airport in the capital of the country Jamaica?', '5hop_answer': 'Caribbean Airlines', '6hop_question': 'What is the IATA code for the airline that has its hub at the airport in the capital of the country Jamaica?', '6hop_answer': 'BW'}\n",
      "subject: Bahrain, relation: country, {'2hop_question': 'What is the capital city of the country Bahrain?', '2hop_answer': 'Manama', '3hop_question': 'What is the population of the capital city of the country Bahrain?', '3hop_answer': 'Approximately 157,000', '4hop_question': 'What is the main language spoken in the capital city of the country Bahrain?', '4hop_answer': 'Arabic', '5hop_question': 'What is the official religion of the country where the capital city Manama is located?', '5hop_answer': 'Islam', '6hop_question': 'What is the currency used in the country where the capital city Manama is located?', '6hop_answer': 'Bahraini dinar'}\n",
      "subject: Bahrain, relation: country, {'2hop_question': 'What is the capital city of the country Bahrain?', '2hop_answer': 'Manama', '3hop_question': 'What is the population of the capital city of the country Bahrain?', '3hop_answer': 'Approximately 157,000', '4hop_question': 'What is the main language spoken in the capital city of the country Bahrain?', '4hop_answer': 'Arabic', '5hop_question': 'What is the official religion of the country where the capital city Manama is located?', '5hop_answer': 'Islam', '6hop_question': 'What is the currency used in the country where the capital city Manama is located?', '6hop_answer': 'Bahraini dinar'}\n",
      "subject: Turkey, relation: head of government, {'2hop_question': 'Who is the spouse of the head of government of Turkey?', '2hop_answer': 'Emine Erdoğan', '3hop_question': 'Which university did the spouse of the head of government of Turkey attend?', '3hop_answer': 'Marmara University', '4hop_question': 'In which city is the university located that the spouse of the head of government of Turkey attended?', '4hop_answer': 'Istanbul', '5hop_question': 'In which region is the city located where the university that the spouse of the head of government of Turkey attended is situated?', '5hop_answer': 'Marmara Region', '6hop_question': 'In which country is the region located where the city is situated that contains the university the spouse of the head of government of Turkey attended?', '6hop_answer': 'Turkey'}\n",
      "subject: Turkey, relation: replaces, {'2hop_question': 'Who is the current president of the country that Turkey replaces in NATO?', '2hop_answer': 'Jens Stoltenberg', '3hop_question': 'Which country is the current president of NATO from?', '3hop_answer': 'Norway', '4hop_question': 'What is the capital city of the country that the current president of NATO is from?', '4hop_answer': 'Oslo', '5hop_question': 'Which famous landmark is located in the capital city of the country that the current president of NATO is from?', '5hop_answer': 'The Royal Palace', '6hop_question': 'Who resides in the famous landmark located in the capital city of the country that the current president of NATO is from?', '6hop_answer': 'The Norwegian Royal Family'}\n",
      "subject: East Asia, relation: located in/on physical feature, {'2hop_question': 'Which ocean is East Asia located near?', '2hop_answer': 'Pacific Ocean', '3hop_question': 'What is the largest island in the ocean that East Asia is located near?', '3hop_answer': 'New Guinea', '4hop_question': 'Which country shares the island that is the largest in the ocean near East Asia?', '4hop_answer': 'Indonesia', '5hop_question': 'What is the capital city of the country that shares the largest island in the ocean near East Asia?', '5hop_answer': 'Jakarta', '6hop_question': 'What is the population of the capital city of the country that shares the largest island in the ocean near East Asia?', '6hop_answer': 'Over 10 million'}\n",
      "subject: Arabs, relation: diplomatic relation, {'2hop_question': 'Which country has diplomatic relations with the Arabs?', '2hop_answer': 'Egypt', '3hop_question': 'Who is the current president of the country that has diplomatic relations with the Arabs?', '3hop_answer': 'Abdel Fattah el-Sisi', '4hop_question': 'What is the capital city of the country whose current president is Abdel Fattah el-Sisi?', '4hop_answer': 'Cairo', '5hop_question': 'Which river flows through the capital city of the country whose current president is Abdel Fattah el-Sisi?', '5hop_answer': 'Nile', '6hop_question': 'Into which sea does the river that flows through Cairo empty?', '6hop_answer': 'Mediterranean Sea'}\n",
      "subject: England, relation: country, {'2hop_question': 'Who is the current monarch of the country England?', '2hop_answer': 'King Charles III', '3hop_question': 'Who is the eldest son of the current monarch of the country England?', '3hop_answer': 'Prince William', '4hop_question': 'What is the title of the eldest son of the current monarch of the country England?', '4hop_answer': 'Prince of Wales', '5hop_question': 'Who is the spouse of the Prince of Wales?', '5hop_answer': 'Catherine, Princess of Wales', '6hop_question': 'What is the maiden name of the spouse of the Prince of Wales?', '6hop_answer': 'Catherine Middleton'}\n",
      "subject: Mie Prefecture, relation: twinned administrative body, {'2hop_question': 'What is the capital city of the twinned administrative body of Mie Prefecture?', '2hop_answer': 'Victoria', '3hop_question': 'Which country is the capital city of the twinned administrative body of Mie Prefecture located in?', '3hop_answer': 'Canada', '4hop_question': 'What is the official language of the country where the capital city of the twinned administrative body of Mie Prefecture is located?', '4hop_answer': 'English', '5hop_question': 'What is the population of the country where the official language is English and the capital city is Victoria?', '5hop_answer': 'Approximately 38 million', '6hop_question': 'What is the currency used in the country with a population of approximately 38 million and an official language of English?', '6hop_answer': 'Canadian Dollar'}\n",
      "subject: Andorra, relation: head of state, {'2hop_question': 'Who is the spouse of the head of state of Andorra?', '2hop_answer': 'Maria Teresa Mora', '3hop_question': 'What is the profession of the spouse of the head of state of Andorra?', '3hop_answer': 'Teacher', '4hop_question': 'Which school does the spouse of the head of state of Andorra work at?', '4hop_answer': 'Andorran School of Education', '5hop_question': 'In which city is the school located where the spouse of the head of state of Andorra works?', '5hop_answer': 'Andorra la Vella', '6hop_question': 'In which parish is the city located where the school is situated that employs the spouse of the head of state of Andorra?', '6hop_answer': 'Andorra la Vella Parish'}\n",
      "subject: Iran, relation: head of state, {'2hop_question': 'Who is the spouse of the head of state of Iran?', '2hop_answer': 'Jamileh Alamolhoda', '3hop_question': 'Which university did the spouse of the head of state of Iran attend for their undergraduate studies?', '3hop_answer': 'Mashhad University', '4hop_question': 'In which city is the university that the spouse of the head of state of Iran attended located?', '4hop_answer': 'Mashhad', '5hop_question': 'In which province is the city located where the university that the spouse of the head of state of Iran attended is situated?', '5hop_answer': 'Razavi Khorasan', '6hop_question': 'In which country is the province located where the city is situated that contains the university the spouse of the head of state of Iran attended?', '6hop_answer': 'Iran'}\n",
      "subject: Iran, relation: country, {'2hop_question': 'What is the capital city of the country Iran?', '2hop_answer': 'Tehran', '3hop_question': 'What is the population of the capital city of the country Iran?', '3hop_answer': 'Approximately 8.7 million', '4hop_question': 'What is the main language spoken in the capital city of the country Iran?', '4hop_answer': 'Persian', '5hop_question': 'What is the name of the script used to write the main language spoken in the capital city of the country Iran?', '5hop_answer': 'Persian script', '6hop_question': 'Which ancient empire used the script that is the precursor to the script used to write the main language spoken in the capital city of the country Iran?', '6hop_answer': 'Achaemenid Empire'}\n",
      "subject: Iran, relation: ethnic group, {'2hop_question': 'What is the primary language spoken by the largest ethnic group in Iran?', '2hop_answer': 'Persian', '3hop_question': 'Which country has Persian as its official language?', '3hop_answer': 'Iran', '4hop_question': 'What is the capital city of the country where Persian is the official language?', '4hop_answer': 'Tehran', '5hop_question': 'Which province is the capital city of Iran located in?', '5hop_answer': 'Tehran Province', '6hop_question': 'What is the population of the province where the capital city of Iran is located?', '6hop_answer': 'Approximately 13 million'}\n",
      "subject: Iran, relation: country, {'2hop_question': 'What is the capital city of the country Iran?', '2hop_answer': 'Tehran', '3hop_question': 'What is the population of the capital city of the country Iran?', '3hop_answer': 'Approximately 8.7 million', '4hop_question': 'What is the name of the international airport in the capital city of the country Iran?', '4hop_answer': 'Tehran Imam Khomeini International Airport', '5hop_question': 'Which airline has its main hub at the international airport in the capital city of the country Iran?', '5hop_answer': 'Iran Air', '6hop_question': 'What is the IATA code for the airline that has its main hub at the international airport in the capital city of the country Iran?', '6hop_answer': 'IR'}\n",
      "subject: Santa Fe, relation: twinned administrative body, {'2hop_question': 'What is the capital city of the country that has a twinned administrative body with Santa Fe?', '2hop_answer': 'Mexico City', '3hop_question': 'What is the population of the capital city of the country that has a twinned administrative body with Santa Fe?', '3hop_answer': '9.2 million', '4hop_question': 'What is the name of the mayor of the capital city of the country that has a twinned administrative body with Santa Fe?', '4hop_answer': 'Claudia Sheinbaum', '5hop_question': 'Which political party does the mayor of the capital city of the country that has a twinned administrative body with Santa Fe belong to?', '5hop_answer': 'MORENA', '6hop_question': 'Who is the founder of the political party that the mayor of the capital city of the country that has a twinned administrative body with Santa Fe belongs to?', '6hop_answer': 'Andrés Manuel López Obrador'}\n",
      "subject: Benin, relation: replaces, {'2hop_question': 'Who is the current president of the country that Benin replaces?', '2hop_answer': 'Patrice Talon', '3hop_question': 'What is the capital city of the country whose current president is Patrice Talon?', '3hop_answer': 'Porto-Novo', '4hop_question': 'What is the population of the capital city of the country whose current president is Patrice Talon?', '4hop_answer': 'Approximately 264,000', '5hop_question': 'What is the official language of the country whose capital city is Porto-Novo?', '5hop_answer': 'French', '6hop_question': 'What is the currency used in the country where the official language is French and the capital city is Porto-Novo?', '6hop_answer': 'West African CFA franc'}\n",
      "subject: Benin, relation: basic form of government, {'2hop_question': 'Who is the head of state in the basic form of government of Benin?', '2hop_answer': 'Patrice Talon', '3hop_question': 'What is the capital city of the country where Patrice Talon is the head of state?', '3hop_answer': 'Porto-Novo', '4hop_question': 'What is the population of the capital city of the country where Patrice Talon is the head of state?', '4hop_answer': 'Approximately 264,000', '5hop_question': 'What is the official language spoken in the capital city of the country where Patrice Talon is the head of state?', '5hop_answer': 'French', '6hop_question': 'Which continent is home to the country where the official language of the capital city is French and Patrice Talon is the head of state?', '6hop_answer': 'Africa'}\n",
      "subject: Benin, relation: country, {'2hop_question': 'What is the capital city of the country Benin?', '2hop_answer': 'Porto-Novo', '3hop_question': 'Which river flows through the capital city of the country Benin?', '3hop_answer': 'Ouémé River', '4hop_question': 'Into which body of water does the river that flows through the capital city of the country Benin empty?', '4hop_answer': 'Gulf of Guinea', '5hop_question': 'Which ocean is connected to the body of water into which the river that flows through the capital city of the country Benin empties?', '5hop_answer': 'Atlantic Ocean', '6hop_question': 'Which continent is home to the ocean that is connected to the body of water into which the river that flows through the capital city of the country Benin empties?', '6hop_answer': 'Africa'}\n",
      "subject: Benin, relation: country, {'2hop_question': 'What is the capital city of the country Benin?', '2hop_answer': 'Porto-Novo', '3hop_question': 'Which river flows through the capital city of the country Benin?', '3hop_answer': 'Ouémé River', '4hop_question': 'Into which body of water does the river that flows through the capital city of the country Benin empty?', '4hop_answer': 'Gulf of Guinea', '5hop_question': 'Which ocean is connected to the body of water into which the river that flows through the capital city of the country Benin empties?', '5hop_answer': 'Atlantic Ocean', '6hop_question': 'Which continent is home to the ocean that is connected to the body of water into which the river that flows through the capital city of the country Benin empties?', '6hop_answer': 'Africa'}\n",
      "subject: Moors, relation: named after, {'2hop_question': 'Who was the Moors named after and what was their occupation?', '2hop_answer': 'The Moors were named after the Mauri, who were Berber inhabitants of the ancient Roman province of Mauretania.', '3hop_question': 'What was the capital of the ancient Roman province of Mauretania, after which the Moors were named?', '3hop_answer': 'Caesarea Mauretaniae', '4hop_question': 'Which modern-day country is the ancient city of Caesarea Mauretaniae, the capital of Mauretania, located in?', '4hop_answer': 'Algeria', '5hop_question': 'What is the official language of the modern-day country where the ancient city of Caesarea Mauretaniae is located?', '5hop_answer': 'Arabic', '6hop_question': 'What is the population of the modern-day country where the ancient city of Caesarea Mauretaniae is located?', '6hop_answer': 'Approximately 44 million'}\n",
      "subject: Fiji, relation: country, {'2hop_question': 'What is the capital city of the country Fiji?', '2hop_answer': 'Suva', '3hop_question': 'Which island is the capital city of Fiji located on?', '3hop_answer': 'Viti Levu', '4hop_question': 'What is the largest city on the island where the capital city of Fiji is located?', '4hop_answer': 'Suva', '5hop_question': 'What is the population of the largest city on the island where the capital city of Fiji is located?', '5hop_answer': 'Approximately 93,970', '6hop_question': 'What is the main language spoken in the largest city on the island where the capital city of Fiji is located?', '6hop_answer': 'English'}\n",
      "subject: Fiji, relation: located in/on physical feature, {'2hop_question': 'What is the largest island in the physical feature where Fiji is located?', '2hop_answer': 'Viti Levu', '3hop_question': 'What is the capital city of the largest island in the physical feature where Fiji is located?', '3hop_answer': 'Suva', '4hop_question': 'Which university is located in the capital city of the largest island in the physical feature where Fiji is located?', '4hop_answer': 'University of the South Pacific', '5hop_question': 'What is the primary language of instruction at the university located in the capital city of the largest island in the physical feature where Fiji is located?', '5hop_answer': 'English', '6hop_question': 'Which country primarily speaks the language that is the primary language of instruction at the university located in the capital city of the largest island in the physical feature where Fiji is located?', '6hop_answer': 'Fiji'}\n",
      "subject: Fiji, relation: country, {'2hop_question': 'What is the capital city of the country Fiji?', '2hop_answer': 'Suva', '3hop_question': 'Which island is the capital city of Fiji located on?', '3hop_answer': 'Viti Levu', '4hop_question': 'What is the largest city on the island where the capital city of Fiji is located?', '4hop_answer': 'Suva', '5hop_question': 'What is the population of the largest city on the island where the capital city of Fiji is located?', '5hop_answer': 'Approximately 93,970', '6hop_question': 'What is the primary language spoken in the largest city on the island where the capital city of Fiji is located?', '6hop_answer': 'English'}\n",
      "subject: Singapore, relation: present in work, {'2hop_question': 'Which famous novel is set in Singapore?', '2hop_answer': 'Crazy Rich Asians', '3hop_question': 'Who is the author of the famous novel set in Singapore?', '3hop_answer': 'Kevin Kwan', '4hop_question': 'Which university did the author of the famous novel set in Singapore attend?', '4hop_answer': 'University of Southern California', '5hop_question': 'In which city is the university located that the author of the famous novel set in Singapore attended?', '5hop_answer': 'Los Angeles', '6hop_question': 'In which state is the city located where the university that the author of the famous novel set in Singapore attended is situated?', '6hop_answer': 'California'}\n",
      "subject: Spain, relation: country, {'2hop_question': 'What is the capital city of the country Spain?', '2hop_answer': 'Madrid', '3hop_question': 'Which famous museum is located in the capital city of Spain?', '3hop_answer': 'Prado Museum', '4hop_question': 'Which famous painting by Diego Velázquez is housed in the museum located in the capital city of Spain?', '4hop_answer': 'Las Meninas', '5hop_question': 'In which year was the famous painting by Diego Velázquez, housed in the museum in the capital city of Spain, created?', '5hop_answer': '1656', '6hop_question': 'Who was the king of Spain when the famous painting by Diego Velázquez, housed in the museum in the capital city of Spain, was created?', '6hop_answer': 'Philip IV'}\n",
      "subject: Spain, relation: located in the administrative territorial entity, {'2hop_question': 'What is the capital city of the administrative territorial entity where Spain is located?', '2hop_answer': 'Madrid', '3hop_question': 'Which river flows through the capital city of the administrative territorial entity where Spain is located?', '3hop_answer': 'Manzanares River', '4hop_question': 'What is the name of the park located along the river that flows through the capital city of the administrative territorial entity where Spain is located?', '4hop_answer': 'Casa de Campo', '5hop_question': 'Which famous amusement park is located within the park along the river that flows through the capital city of the administrative territorial entity where Spain is located?', '5hop_answer': 'Parque de Atracciones de Madrid', '6hop_question': 'What is the name of the roller coaster in the famous amusement park located within the park along the river that flows through the capital city of the administrative territorial entity where Spain is located?', '6hop_answer': 'Abismo'}\n",
      "subject: Zeeland, relation: named after, {'2hop_question': 'Which country is the region that Zeeland is named after located in?', '2hop_answer': 'Netherlands', '3hop_question': 'What is the capital city of the country where the region that Zeeland is named after is located?', '3hop_answer': 'Amsterdam', '4hop_question': 'Which river flows through the capital city of the country where the region that Zeeland is named after is located?', '4hop_answer': 'Amstel River', '5hop_question': 'What is the name of the sea into which the river flows that passes through the capital city of the country where the region that Zeeland is named after is located?', '5hop_answer': 'North Sea', '6hop_question': 'Which ocean is connected to the sea into which the river flows that passes through the capital city of the country where the region that Zeeland is named after is located?', '6hop_answer': 'Atlantic Ocean'}\n",
      "subject: Latvia, relation: located in/on physical feature, {'2hop_question': 'What is the largest river that Latvia is located on?', '2hop_answer': 'Daugava River', '3hop_question': 'Which sea does the largest river that Latvia is located on flow into?', '3hop_answer': 'Baltic Sea', '4hop_question': 'Which country borders the sea that the largest river in Latvia flows into?', '4hop_answer': 'Sweden', '5hop_question': 'What is the capital city of the country that borders the sea into which the largest river in Latvia flows?', '5hop_answer': 'Stockholm', '6hop_question': 'Which famous archipelago is located near the capital city of the country that borders the sea into which the largest river in Latvia flows?', '6hop_answer': 'Stockholm Archipelago'}\n",
      "subject: Latvia, relation: located in time zone, {'2hop_question': 'What is the capital city of the country that is located in the same time zone as Latvia?', '2hop_answer': 'Riga', '3hop_question': 'What is the population of the capital city of the country that is located in the same time zone as Latvia?', '3hop_answer': '632,614', '4hop_question': 'What is the name of the river that flows through the capital city of the country that is located in the same time zone as Latvia?', '4hop_answer': 'Daugava River', '5hop_question': 'What is the length of the river that flows through the capital city of the country that is located in the same time zone as Latvia?', '5hop_answer': '1,020 kilometers', '6hop_question': 'Into which body of water does the river that flows through the capital city of the country located in the same time zone as Latvia empty?', '6hop_answer': 'Gulf of Riga'}\n",
      "subject: Sea of Japan, relation: lowest point, {'2hop_question': 'What is the name of the trench that contains the lowest point of the Sea of Japan?', '2hop_answer': 'Japan Trench', '3hop_question': 'Which ocean does the trench that contains the lowest point of the Sea of Japan belong to?', '3hop_answer': 'Pacific Ocean', '4hop_question': 'Which continent borders the ocean that contains the trench with the lowest point of the Sea of Japan?', '4hop_answer': 'Asia', '5hop_question': 'Which country on the continent that borders the ocean containing the trench with the lowest point of the Sea of Japan has the longest coastline?', '5hop_answer': 'Russia', '6hop_question': 'What is the capital city of the country with the longest coastline on the continent that borders the ocean containing the trench with the lowest point of the Sea of Japan?', '6hop_answer': 'Moscow'}\n",
      "subject: Pyongyang, relation: twinned administrative body, {'2hop_question': 'What is the capital city of the country that has a twinned administrative body with Pyongyang?', '2hop_answer': 'Beijing', '3hop_question': 'Which famous square is located in the capital city of the country that has a twinned administrative body with Pyongyang?', '3hop_answer': 'Tiananmen Square', '4hop_question': 'What significant event took place in the famous square located in the capital city of the country that has a twinned administrative body with Pyongyang?', '4hop_answer': 'Tiananmen Square Massacre', '5hop_question': 'In which year did the significant event take place in the famous square located in the capital city of the country that has a twinned administrative body with Pyongyang?', '5hop_answer': '1989', '6hop_question': 'Who was the leader of the country during the year when the significant event took place in the famous square located in the capital city that has a twinned administrative body with Pyongyang?', '6hop_answer': 'Deng Xiaoping'}\n",
      "subject: Tobago, relation: named after, {'2hop_question': 'What is the origin of the name of Tobago?', '2hop_answer': 'Tobacco', '3hop_question': 'Which plant is the origin of the name of Tobago derived from?', '3hop_answer': 'Tobacco plant', '4hop_question': 'Which continent is the plant that the name of Tobago is derived from originally found?', '4hop_answer': 'South America', '5hop_question': 'Which country in South America is known for the cultivation of the plant that the name of Tobago is derived from?', '5hop_answer': 'Brazil', '6hop_question': 'What is the official language of the country in South America known for the cultivation of the plant that the name of Tobago is derived from?', '6hop_answer': 'Portuguese'}\n",
      "subject: United Arab Emirates, relation: head of government, {'2hop_question': 'Who is the spouse of the head of government of the United Arab Emirates?', '2hop_answer': 'Sheikha Hind bint Maktoum bin Juma Al Maktoum', '3hop_question': 'Which organization is the spouse of the head of government of the United Arab Emirates associated with?', '3hop_answer': 'Dubai Ladies Club', '4hop_question': 'Who is the founder of the organization that the spouse of the head of government of the United Arab Emirates is associated with?', '4hop_answer': 'Sheikha Manal bint Mohammed bin Rashid Al Maktoum', '5hop_question': 'What is the relation of the founder of the organization associated with the spouse of the head of government of the United Arab Emirates to the current ruler of Dubai?', '5hop_answer': 'Daughter', '6hop_question': 'What is the name of the current ruler of Dubai, whose daughter founded the organization associated with the spouse of the head of government of the United Arab Emirates?', '6hop_answer': 'Sheikh Mohammed bin Rashid Al Maktoum'}\n",
      "subject: United Arab Emirates, relation: country, {'2hop_question': 'What is the capital of the United Arab Emirates?', '2hop_answer': 'Abu Dhabi', '3hop_question': 'Who is the current ruler of the capital of the United Arab Emirates?', '3hop_answer': 'Khalifa bin Zayed Al Nahyan', '4hop_question': 'What is the official title of the current ruler of the capital of the United Arab Emirates?', '4hop_answer': 'President of the United Arab Emirates', '5hop_question': 'Which organization is the President of the United Arab Emirates a part of?', '5hop_answer': 'Federal Supreme Council', '6hop_question': 'When was the Federal Supreme Council of the United Arab Emirates established?', '6hop_answer': '1971'}\n",
      "subject: United Arab Emirates, relation: country, {'2hop_question': 'What is the capital of the country United Arab Emirates?', '2hop_answer': 'Abu Dhabi', '3hop_question': 'Who is the current ruler of the capital of the United Arab Emirates?', '3hop_answer': 'Khalifa bin Zayed Al Nahyan', '4hop_question': 'What is the name of the tallest building in the city ruled by Khalifa bin Zayed Al Nahyan?', '4hop_answer': 'Burj Khalifa', '5hop_question': 'Which company was the main contractor for the construction of the tallest building in the city ruled by Khalifa bin Zayed Al Nahyan?', '5hop_answer': 'Samsung C&T', '6hop_question': 'In which country is the main contractor for the construction of the tallest building in the city ruled by Khalifa bin Zayed Al Nahyan headquartered?', '6hop_answer': 'South Korea'}\n",
      "subject: Cheltenham, relation: twinned administrative body, {'2hop_question': 'What is the name of a city that is twinned with Cheltenham?', '2hop_answer': 'Annecy', '3hop_question': 'What is the population of the city that is twinned with Cheltenham?', '3hop_answer': '128,199', '4hop_question': 'What is the primary language spoken in the city that is twinned with Cheltenham?', '4hop_answer': 'French', '5hop_question': 'What is the currency used in the country where the city that is twinned with Cheltenham is located?', '5hop_answer': 'Euro', '6hop_question': 'What is the capital of the country where the city that is twinned with Cheltenham is located?', '6hop_answer': 'Paris'}\n",
      "subject: Angola, relation: country, {'2hop_question': 'What is the capital city of the country Angola?', '2hop_answer': 'Luanda', '3hop_question': 'What is the population of the capital city of the country Angola?', '3hop_answer': 'Approximately 8 million', '4hop_question': 'What is the main language spoken in the capital city of the country Angola?', '4hop_answer': 'Portuguese', '5hop_question': 'Which country colonized the country where the main language spoken in its capital city is Portuguese?', '5hop_answer': 'Portugal', '6hop_question': 'What is the capital city of the country that colonized the country where the main language spoken in its capital city is Portuguese?', '6hop_answer': 'Lisbon'}\n",
      "subject: Angola, relation: country, {'2hop_question': 'What is the capital city of the country Angola?', '2hop_answer': 'Luanda', '3hop_question': 'Which river flows through the capital city of Angola?', '3hop_answer': 'Cuanza River', '4hop_question': 'What is the primary language spoken in the country where the Cuanza River flows?', '4hop_answer': 'Portuguese', '5hop_question': 'Which continent is home to the country where Portuguese is the primary language and the Cuanza River flows?', '5hop_answer': 'Africa', '6hop_question': 'What is the largest country by area on the continent where Angola is located?', '6hop_answer': 'Algeria'}\n",
      "subject: Mexico, relation: country, {'2hop_question': 'What is the capital city of the country Mexico?', '2hop_answer': 'Mexico City', '3hop_question': 'What is the most populous borough in the capital city of Mexico?', '3hop_answer': 'Iztapalapa', '4hop_question': 'What is the name of the largest park in the most populous borough of the capital city of Mexico?', '4hop_answer': 'Cerro de la Estrella National Park', '5hop_question': \"Which ancient civilization's archaeological site is located in the largest park in the most populous borough of the capital city of Mexico?\", '5hop_answer': 'Aztec', '6hop_question': 'What is the name of the festival celebrated by the ancient civilization whose archaeological site is located in the largest park in the most populous borough of the capital city of Mexico?', '6hop_answer': 'Huey Tozoztli'}\n",
      "subject: Mexico, relation: country, {'2hop_question': 'What is the capital city of the country Mexico?', '2hop_answer': 'Mexico City', '3hop_question': 'What is the most populous borough in the capital city of the country Mexico?', '3hop_answer': 'Iztapalapa', '4hop_question': 'Which famous market is located in the most populous borough of the capital city of the country Mexico?', '4hop_answer': 'La Merced Market', '5hop_question': 'What is a popular dish that can be found at the famous market located in the most populous borough of the capital city of the country Mexico?', '5hop_answer': 'Tacos', '6hop_question': 'What is a key ingredient in the popular dish found at the famous market in the most populous borough of the capital city of the country Mexico?', '6hop_answer': 'Corn tortillas'}\n",
      "subject: Koreans, relation: ethnic group, {'2hop_question': 'What is the primary language spoken by the Koreans ethnic group?', '2hop_answer': 'Korean', '3hop_question': 'What is the writing system used for the primary language spoken by the Koreans ethnic group?', '3hop_answer': 'Hangul', '4hop_question': 'Who invented the writing system used for the primary language spoken by the Koreans ethnic group?', '4hop_answer': 'King Sejong the Great', '5hop_question': 'In which century did the inventor of the writing system for the primary language spoken by the Koreans ethnic group live?', '5hop_answer': '15th century', '6hop_question': 'Which dynasty was ruling during the century when the inventor of the writing system for the primary language spoken by the Koreans ethnic group lived?', '6hop_answer': 'Joseon Dynasty'}\n",
      "subject: Somalia, relation: public holiday, {'2hop_question': 'What is a traditional dish eaten during a public holiday in Somalia?', '2hop_answer': 'Halwa', '3hop_question': 'What is a key ingredient in the traditional dish eaten during a public holiday in Somalia?', '3hop_answer': 'Sugar', '4hop_question': 'Which country is a major producer of the key ingredient in the traditional dish eaten during a public holiday in Somalia?', '4hop_answer': 'Brazil', '5hop_question': 'What is the capital city of the country that is a major producer of the key ingredient in the traditional dish eaten during a public holiday in Somalia?', '5hop_answer': 'Brasília', '6hop_question': 'What is the official language spoken in the capital city of the country that is a major producer of the key ingredient in the traditional dish eaten during a public holiday in Somalia?', '6hop_answer': 'Portuguese'}\n",
      "subject: Somalia, relation: country, {'2hop_question': 'What is the capital city of the country Somalia?', '2hop_answer': 'Mogadishu', '3hop_question': 'Which ocean borders the capital city of the country Somalia?', '3hop_answer': 'Indian Ocean', '4hop_question': 'What is the name of the major port in the capital city of the country Somalia?', '4hop_answer': 'Port of Mogadishu', '5hop_question': 'Which company operates the major port in the capital city of the country Somalia?', '5hop_answer': 'Albayrak Group', '6hop_question': 'In which country is the company based that operates the major port in the capital city of the country Somalia?', '6hop_answer': 'Turkey'}\n",
      "subject: Somalia, relation: country, {'2hop_question': 'What is the capital city of the country Somalia?', '2hop_answer': 'Mogadishu', '3hop_question': 'Which ocean borders the capital city of the country Somalia?', '3hop_answer': 'Indian Ocean', '4hop_question': 'What is the name of the major port in the capital city of the country Somalia?', '4hop_answer': 'Port of Mogadishu', '5hop_question': 'Which country is the major port in the capital city of the country Somalia located?', '5hop_answer': 'Somalia', '6hop_question': 'What is the primary language spoken in the country where the major port in the capital city of Somalia is located?', '6hop_answer': 'Somali'}\n",
      "subject: Seychelles, relation: country, {'2hop_question': 'What is the capital city of the country Seychelles?', '2hop_answer': 'Victoria', '3hop_question': 'What is the population of the capital city of the country Seychelles?', '3hop_answer': 'Approximately 26,450', '4hop_question': 'What is the main language spoken in the capital city of the country Seychelles?', '4hop_answer': 'Seychellois Creole', '5hop_question': 'What is the primary religion practiced in the capital city of the country where Seychellois Creole is the main language?', '5hop_answer': 'Roman Catholicism', '6hop_question': 'What is the name of the largest church in the capital city of the country where Roman Catholicism is the primary religion?', '6hop_answer': 'Cathedral of Our Lady of Immaculate Conception'}\n",
      "subject: Seychelles, relation: country, {'2hop_question': 'What is the capital city of the country Seychelles?', '2hop_answer': 'Victoria', '3hop_question': 'What is the population of the capital city of the country Seychelles?', '3hop_answer': 'Approximately 26,000', '4hop_question': 'What is the main language spoken in the capital city of the country Seychelles?', '4hop_answer': 'Seychellois Creole', '5hop_question': 'What is the currency used in the country where the capital city Victoria is located?', '5hop_answer': 'Seychellois rupee', '6hop_question': 'What is the ISO 4217 code for the currency used in the country where the capital city Victoria is located?', '6hop_answer': 'SCR'}\n",
      "subject: Egypt, relation: country, {'2hop_question': 'What is the capital city of the country Egypt?', '2hop_answer': 'Cairo', '3hop_question': 'What is the population of the capital city of the country Egypt?', '3hop_answer': 'Approximately 9.5 million', '4hop_question': 'What is the main river that flows through the capital city of the country Egypt?', '4hop_answer': 'Nile River', '5hop_question': 'What is the length of the main river that flows through the capital city of the country Egypt?', '5hop_answer': 'Approximately 6,650 kilometers', '6hop_question': 'Which two countries does the main river that flows through the capital city of the country Egypt originate from?', '6hop_answer': 'Burundi and Rwanda'}\n",
      "subject: Egypt, relation: head of state, {'2hop_question': 'Who is the spouse of the head of state of Egypt?', '2hop_answer': 'Entissar Amer', '3hop_question': 'Which university did the spouse of the head of state of Egypt attend?', '3hop_answer': 'Ain Shams University', '4hop_question': 'In which city is the university located that the spouse of the head of state of Egypt attended?', '4hop_answer': 'Cairo', '5hop_question': 'In which governorate is the city located where the university that the spouse of the head of state of Egypt attended is situated?', '5hop_answer': 'Cairo Governorate', '6hop_question': 'In which country is the governorate located where the city is situated that contains the university the spouse of the head of state of Egypt attended?', '6hop_answer': 'Egypt'}\n",
      "subject: Egypt, relation: country, {'2hop_question': 'What is the capital city of the country Egypt?', '2hop_answer': 'Cairo', '3hop_question': 'Which river runs through the capital city of the country Egypt?', '3hop_answer': 'Nile River', '4hop_question': 'What is the name of the dam located on the river that runs through the capital city of the country Egypt?', '4hop_answer': 'Aswan High Dam', '5hop_question': 'In which year was the dam completed that is located on the river running through the capital city of the country Egypt?', '5hop_answer': '1970', '6hop_question': 'Which president of Egypt was in power when the dam on the river running through the capital city of the country Egypt was completed?', '6hop_answer': 'Gamal Abdel Nasser'}\n",
      "subject: Barents Sea, relation: located in or next to body of water, {'2hop_question': 'Which ocean is the Barents Sea located in or next to?', '2hop_answer': 'Arctic Ocean', '3hop_question': 'Which sea is connected to the ocean that the Barents Sea is located in or next to?', '3hop_answer': 'Greenland Sea', '4hop_question': 'Which strait connects the sea that is connected to the ocean that the Barents Sea is located in or next to?', '4hop_answer': 'Fram Strait', '5hop_question': 'Which island is located near the strait that connects the sea that is connected to the ocean that the Barents Sea is located in or next to?', '5hop_answer': 'Svalbard', '6hop_question': 'Which country has sovereignty over the island located near the strait that connects the sea that is connected to the ocean that the Barents Sea is located in or next to?', '6hop_answer': 'Norway'}\n",
      "subject: Barcelona, relation: capital, {'2hop_question': 'What is the country of which Barcelona is the capital of a region?', '2hop_answer': 'Spain', '3hop_question': 'What is the official language of the country where Barcelona is the capital of a region?', '3hop_answer': 'Spanish', '4hop_question': 'What is the most widely spoken language in the country where the official language is Spanish and Barcelona is the capital of a region?', '4hop_answer': 'Spanish', '5hop_question': 'What is the second most widely spoken language in the country where Barcelona is the capital of a region?', '5hop_answer': 'Catalan', '6hop_question': 'What is the name of the region where Catalan is widely spoken and Barcelona is the capital?', '6hop_answer': 'Catalonia'}\n",
      "subject: Mariana Islands, relation: named after, {'2hop_question': 'Who was the Mariana Islands named after?', '2hop_answer': 'Queen Mariana of Austria', '3hop_question': 'Who was the spouse of the person after whom the Mariana Islands were named?', '3hop_answer': 'Philip IV of Spain', '4hop_question': 'Which dynasty did the spouse of the person after whom the Mariana Islands were named belong to?', '4hop_answer': 'Habsburg dynasty', '5hop_question': 'Who was the father of the spouse of the person after whom the Mariana Islands were named?', '5hop_answer': 'Philip III of Spain', '6hop_question': 'Which kingdom did the father of the spouse of the person after whom the Mariana Islands were named rule?', '6hop_answer': 'Kingdom of Spain'}\n",
      "subject: Saint Kitts and Nevis, relation: twinned administrative body, {'2hop_question': 'What is the capital of the twinned administrative body of Saint Kitts and Nevis?', '2hop_answer': 'Basseterre', '3hop_question': 'Which island is the capital of the twinned administrative body of Saint Kitts and Nevis located on?', '3hop_answer': 'Saint Kitts', '4hop_question': 'What is the population of the island where the capital of the twinned administrative body of Saint Kitts and Nevis is located?', '4hop_answer': 'Approximately 34,000', '5hop_question': 'What is the main economic activity on the island where the capital of the twinned administrative body of Saint Kitts and Nevis is located?', '5hop_answer': 'Tourism', '6hop_question': 'Which major international airport serves the island where the capital of the twinned administrative body of Saint Kitts and Nevis is located?', '6hop_answer': 'Robert L. Bradshaw International Airport'}\n",
      "subject: Saint Kitts and Nevis, relation: basic form of government, {'2hop_question': 'Who is the head of state in the basic form of government of Saint Kitts and Nevis?', '2hop_answer': 'Charles III', '3hop_question': 'Who is the Prime Minister appointed by the head of state in the basic form of government of Saint Kitts and Nevis?', '3hop_answer': 'Terrance Drew', '4hop_question': 'Which political party does the Prime Minister of Saint Kitts and Nevis belong to?', '4hop_answer': 'Saint Kitts and Nevis Labour Party', '5hop_question': 'When was the political party that the Prime Minister of Saint Kitts and Nevis belongs to founded?', '5hop_answer': '1932', '6hop_question': 'Who was the founder of the political party that the Prime Minister of Saint Kitts and Nevis belongs to?', '6hop_answer': 'Thomas Manchester'}\n",
      "subject: carnival, relation: public holiday, {'2hop_question': 'In which country is the public holiday Carnival celebrated?', '2hop_answer': 'Brazil', '3hop_question': 'What is the capital city of the country where the public holiday Carnival is celebrated?', '3hop_answer': 'Brasília', '4hop_question': 'Which famous architect designed many of the buildings in the capital city of the country where Carnival is celebrated?', '4hop_answer': 'Oscar Niemeyer', '5hop_question': 'Which prestigious award did the architect who designed many buildings in the capital city of the country where Carnival is celebrated win?', '5hop_answer': 'Pritzker Architecture Prize', '6hop_question': 'In which year did the architect who won the Pritzker Architecture Prize and designed many buildings in the capital city of the country where Carnival is celebrated receive the award?', '6hop_answer': '1988'}\n",
      "subject: Kenya, relation: ethnic group, {'2hop_question': 'What is the primary language spoken by the largest ethnic group in Kenya?', '2hop_answer': 'Kikuyu', '3hop_question': 'What is the traditional cuisine of the primary language-speaking ethnic group in Kenya?', '3hop_answer': 'Githeri', '4hop_question': 'What is a common ingredient in the traditional cuisine of the primary language-speaking ethnic group in Kenya?', '4hop_answer': 'Maize', '5hop_question': 'Which region in Kenya is known for growing the common ingredient in the traditional cuisine of the primary language-speaking ethnic group?', '5hop_answer': 'Central Province', '6hop_question': 'What is the capital city of the region in Kenya known for growing the common ingredient in the traditional cuisine of the primary language-speaking ethnic group?', '6hop_answer': 'Nyeri'}\n",
      "subject: Kenya, relation: country, {'2hop_question': 'What is the capital city of the country Kenya?', '2hop_answer': 'Nairobi', '3hop_question': 'What is the population of the capital city of the country Kenya?', '3hop_answer': '4.397 million (as of 2019)', '4hop_question': 'What is the main airport in the capital city of the country Kenya?', '4hop_answer': 'Jomo Kenyatta International Airport', '5hop_question': 'Which airline has its hub at the main airport in the capital city of the country Kenya?', '5hop_answer': 'Kenya Airways', '6hop_question': 'What is the IATA code for the airline that has its hub at the main airport in the capital city of the country Kenya?', '6hop_answer': 'KQ'}\n",
      "subject: Kenya, relation: country, {'2hop_question': 'What is the capital city of the country Kenya?', '2hop_answer': 'Nairobi', '3hop_question': 'Which major international organization has its headquarters in the capital city of Kenya?', '3hop_answer': 'United Nations Environment Programme (UNEP)', '4hop_question': 'Who is the current executive director of the major international organization headquartered in the capital city of Kenya?', '4hop_answer': 'Inger Andersen', '5hop_question': 'Which country is the current executive director of the major international organization headquartered in the capital city of Kenya from?', '5hop_answer': 'Denmark', '6hop_question': 'What is the official language of the country where the current executive director of the major international organization headquartered in the capital city of Kenya is from?', '6hop_answer': 'Danish'}\n",
      "subject: Solomon Islands, relation: country, {'2hop_question': 'What is the capital of the Solomon Islands?', '2hop_answer': 'Honiara', '3hop_question': 'Which island is the capital of the Solomon Islands located on?', '3hop_answer': 'Guadalcanal', '4hop_question': 'What is the population of the island where the capital of the Solomon Islands is located?', '4hop_answer': 'Around 155,000', '5hop_question': 'What is the primary language spoken on the island where the capital of the Solomon Islands is located?', '5hop_answer': 'English', '6hop_question': 'What is the currency used in the country where the island is located that contains the capital of the Solomon Islands?', '6hop_answer': 'Solomon Islands dollar'}\n",
      "subject: Solomon Islands, relation: located in/on physical feature, {'2hop_question': 'What ocean are the Solomon Islands located in?', '2hop_answer': 'Pacific Ocean', '3hop_question': 'Which major sea is part of the ocean where the Solomon Islands are located?', '3hop_answer': 'Coral Sea', '4hop_question': 'Which country borders the major sea that is part of the ocean where the Solomon Islands are located?', '4hop_answer': 'Australia', '5hop_question': 'What is the capital city of the country that borders the major sea that is part of the ocean where the Solomon Islands are located?', '5hop_answer': 'Canberra', '6hop_question': 'Which continent is the country located on that has the capital city of Canberra?', '6hop_answer': 'Australia'}\n",
      "subject: Solomon Islands, relation: country, {'2hop_question': 'What is the capital city of the Solomon Islands?', '2hop_answer': 'Honiara', '3hop_question': 'Which island is the capital city of the Solomon Islands located on?', '3hop_answer': 'Guadalcanal', '4hop_question': 'What is the highest point on the island where the capital city of the Solomon Islands is located?', '4hop_answer': 'Mount Popomanaseu', '5hop_question': 'Which mountain range includes the highest point on the island where the capital city of the Solomon Islands is located?', '5hop_answer': 'Kavo Range', '6hop_question': 'Which ocean surrounds the island that contains the mountain range including the highest point where the capital city of the Solomon Islands is located?', '6hop_answer': 'Pacific Ocean'}\n",
      "subject: Croatia, relation: currency, {'2hop_question': 'What is the currency of Croatia?', '2hop_answer': 'Croatian kuna', '3hop_question': 'What is the symbol of the currency used in Croatia?', '3hop_answer': 'kn', '4hop_question': 'Which central bank issues the currency used in Croatia?', '4hop_answer': 'Croatian National Bank', '5hop_question': 'Who is the governor of the central bank that issues the currency used in Croatia?', '5hop_answer': 'Boris Vujčić', '6hop_question': 'In which year did the current governor of the central bank that issues the currency used in Croatia assume office?', '6hop_answer': '2012'}\n",
      "subject: Brunei, relation: country, {'2hop_question': 'Who is the current Sultan of the country Brunei?', '2hop_answer': 'Hassanal Bolkiah', '3hop_question': 'What is the title of the current Sultan of Brunei?', '3hop_answer': 'Sultan and Yang Di-Pertuan of Brunei Darussalam', '4hop_question': 'What is the name of the capital city of the country ruled by the Sultan and Yang Di-Pertuan of Brunei Darussalam?', '4hop_answer': 'Bandar Seri Begawan', '5hop_question': 'Which river flows through the capital city of the country ruled by the Sultan and Yang Di-Pertuan of Brunei Darussalam?', '5hop_answer': 'Brunei River', '6hop_question': 'Into which body of water does the river that flows through the capital city of Brunei empty?', '6hop_answer': 'Brunei Bay'}\n",
      "subject: Brunei, relation: country, {'2hop_question': 'Who is the current Sultan of the country Brunei?', '2hop_answer': 'Hassanal Bolkiah', '3hop_question': 'What is the capital city of the country where Hassanal Bolkiah is the Sultan?', '3hop_answer': 'Bandar Seri Begawan', '4hop_question': 'Which river flows through the capital city of the country where Hassanal Bolkiah is the Sultan?', '4hop_answer': 'Brunei River', '5hop_question': 'What is the name of the bay into which the river flows that runs through the capital city of the country where Hassanal Bolkiah is the Sultan?', '5hop_answer': 'Brunei Bay', '6hop_question': 'Which sea does the bay flow into that receives the river running through the capital city of the country where Hassanal Bolkiah is the Sultan?', '6hop_answer': 'South China Sea'}\n",
      "subject: Turkmenistan, relation: country, {'2hop_question': 'What is the capital city of Turkmenistan?', '2hop_answer': 'Ashgabat', '3hop_question': 'What is the population of the capital city of Turkmenistan?', '3hop_answer': 'Approximately 1 million', '4hop_question': 'What is the main language spoken in the capital city of Turkmenistan?', '4hop_answer': 'Turkmen', '5hop_question': 'What is the currency used in the country where the main language spoken in Ashgabat is Turkmen?', '5hop_answer': 'Turkmenistani manat', '6hop_question': 'What is the name of the president of the country that uses the Turkmenistani manat?', '6hop_answer': 'Serdar Berdimuhamedow'}\n",
      "subject: Turkmenistan, relation: head of government, {'2hop_question': 'Who is the spouse of the head of government of Turkmenistan?', '2hop_answer': 'Ogulgerek Berdimuhamedova', '3hop_question': 'Which university did the spouse of the head of government of Turkmenistan attend?', '3hop_answer': 'Turkmen State Medical University', '4hop_question': 'In which city is the university that the spouse of the head of government of Turkmenistan attended located?', '4hop_answer': 'Ashgabat', '5hop_question': 'In which province is the city located where the university that the spouse of the head of government of Turkmenistan attended is situated?', '5hop_answer': 'Ahal Province', '6hop_question': 'In which country is the province located where the city is situated that contains the university the spouse of the head of government of Turkmenistan attended?', '6hop_answer': 'Turkmenistan'}\n",
      "subject: Turkmenistan, relation: country, {'2hop_question': 'What is the capital city of the country Turkmenistan?', '2hop_answer': 'Ashgabat', '3hop_question': 'What is the population of the capital city of Turkmenistan?', '3hop_answer': 'Approximately 1 million', '4hop_question': 'What is the main language spoken in the capital city of Turkmenistan?', '4hop_answer': 'Turkmen', '5hop_question': 'What is the currency used in the country where the main language spoken in Ashgabat is Turkmen?', '5hop_answer': 'Turkmenistan manat', '6hop_question': 'Which country borders the country that uses the Turkmenistan manat as its currency to the south?', '6hop_answer': 'Iran'}\n",
      "subject: South Yemen, relation: diplomatic relation, {'2hop_question': 'Which country had diplomatic relations with South Yemen?', '2hop_answer': 'Soviet Union', '3hop_question': 'Who was the leader of the country that had diplomatic relations with South Yemen?', '3hop_answer': 'Leonid Brezhnev', '4hop_question': 'What was the title of the leader of the country that had diplomatic relations with South Yemen?', '4hop_answer': 'General Secretary of the Communist Party of the Soviet Union', '5hop_question': 'In which year did the leader of the country that had diplomatic relations with South Yemen become the General Secretary?', '5hop_answer': '1964', '6hop_question': 'Which major global event was ongoing when the leader of the country that had diplomatic relations with South Yemen became the General Secretary?', '6hop_answer': 'Cold War'}\n",
      "subject: Dominican Republic, relation: country, {'2hop_question': 'What is the capital city of the Dominican Republic?', '2hop_answer': 'Santo Domingo', '3hop_question': 'Which famous historical site is located in the capital city of the Dominican Republic?', '3hop_answer': 'Columbus Lighthouse', '4hop_question': 'Who was the Columbus Lighthouse in the capital city of the Dominican Republic named after?', '4hop_answer': 'Christopher Columbus', '5hop_question': 'Which country sponsored the construction of the Columbus Lighthouse in the capital city of the Dominican Republic?', '5hop_answer': 'Spain', '6hop_question': 'What is the official language of the country that sponsored the construction of the Columbus Lighthouse in the capital city of the Dominican Republic?', '6hop_answer': 'Spanish'}\n",
      "subject: Dominican Republic, relation: country, {'2hop_question': 'What is the capital city of the Dominican Republic?', '2hop_answer': 'Santo Domingo', '3hop_question': 'Which famous historical figure is buried in the capital city of the Dominican Republic?', '3hop_answer': 'Christopher Columbus', '4hop_question': 'Which country was Christopher Columbus originally from?', '4hop_answer': 'Italy', '5hop_question': 'What is the capital city of the country where Christopher Columbus was originally from?', '5hop_answer': 'Rome', '6hop_question': 'Which river runs through the capital city of the country where Christopher Columbus was originally from?', '6hop_answer': 'Tiber'}\n",
      "subject: Catholic Church, relation: religion or worldview, {'2hop_question': 'Who is the current leader of the Catholic Church?', '2hop_answer': 'Pope Francis', '3hop_question': 'What is the birthplace of the current leader of the Catholic Church?', '3hop_answer': 'Buenos Aires, Argentina', '4hop_question': 'What is the official language of the country where the current leader of the Catholic Church was born?', '4hop_answer': 'Spanish', '5hop_question': 'What is the most widely spoken language in the continent where the country is located that the current leader of the Catholic Church was born?', '5hop_answer': 'Spanish', '6hop_question': 'What is the second most widely spoken language in the continent where the country is located that the current leader of the Catholic Church was born?', '6hop_answer': 'Portuguese'}\n",
      "subject: Slovaks, relation: ethnic group, {'2hop_question': 'What is the primary language spoken by the Slovaks ethnic group?', '2hop_answer': 'Slovak', '3hop_question': 'Which country has Slovak as its official language?', '3hop_answer': 'Slovakia', '4hop_question': 'What is the capital city of the country where Slovak is the official language?', '4hop_answer': 'Bratislava', '5hop_question': 'Which river flows through the capital city of the country where Slovak is the official language?', '5hop_answer': 'Danube', '6hop_question': 'Into which sea does the river that flows through the capital city of the country where Slovak is the official language eventually empty?', '6hop_answer': 'Black Sea'}\n",
      "subject: Eritrea, relation: country, {'2hop_question': 'What is the capital city of the country Eritrea?', '2hop_answer': 'Asmara', '3hop_question': 'What is the population of the capital city of the country Eritrea?', '3hop_answer': 'Around 963,000', '4hop_question': 'What is the primary language spoken in the capital city of the country Eritrea?', '4hop_answer': 'Tigrinya', '5hop_question': 'What is the official script used for the primary language spoken in the capital city of the country Eritrea?', '5hop_answer': \"Ge'ez script\", '6hop_question': 'Which ancient civilization used the script that is now the official script for the primary language spoken in the capital city of the country Eritrea?', '6hop_answer': 'Aksumite civilization'}\n",
      "subject: Eritrea, relation: country, {'2hop_question': 'What is the capital city of the country Eritrea?', '2hop_answer': 'Asmara', '3hop_question': 'What is the population of the capital city of the country Eritrea?', '3hop_answer': 'Around 963,000', '4hop_question': 'What is the main language spoken in the capital city of the country Eritrea?', '4hop_answer': 'Tigrinya', '5hop_question': 'What is the script used to write the main language spoken in the capital city of the country Eritrea?', '5hop_answer': \"Ge'ez script\", '6hop_question': 'Which ancient civilization used the script that is now used to write the main language spoken in the capital city of the country Eritrea?', '6hop_answer': 'Aksumite civilization'}\n"
     ]
    }
   ],
   "source": [
    "client = AzureOpenAI(api_key=load_api_key('api_key_n_central_us'), api_version='2023-05-15', azure_endpoint=\"https://n-central-us.openai.azure.com/\")\n",
    "system_msg_gen_q = \"\"\" \n",
    "Given a subject and a relation, your task is to create 2-hop, 3-hop, 4-hop, 5-hop, and 6-hop questions, along with their correct answers. \\\n",
    "Always use the provided subject and relation to create multi-hop questions, and avoid including any correct answers from other multi-hop questions. \\\n",
    "Output in JSON format. Below is an example:\n",
    "\n",
    "Example input: \n",
    "subject: Amazon, relation: founder\n",
    "\n",
    "Example output: \n",
    "{\n",
    "    \"2hop_question\": \"Who is the spouse of the Amazon founder?\",\n",
    "    \"2hop_answer\": \"MacKenzie Scott\",\n",
    "    \"3hop_question\": \"Which university did the spouse of the Amazon founder attend for their undergraduate studies?\",\n",
    "    \"3hop_answer\": \"Princeton University\",\n",
    "    \"4hop_question\": \"In which city is the university that the spouse of the US president attended located?\",\n",
    "    \"4hop_answer\": \"Princeton\",\n",
    "    \"5hop_question\": \"In which state is the city located where the university that the spouse of the Amazon founder attended is situated?\",\n",
    "    \"5hop_answer\": \"New Jersey\"\n",
    "    \"6hop_question\": \"In which country is the state located where the city is situated that contains the university the spouse of the Amazon founder attended?\",\n",
    "    \"6hop_answer\": \"United States\"\n",
    "}\n",
    "\"\"\"\n",
    "\n",
    "\n",
    "ls_2hop_q, ls_2hop_a, ls_3hop_q, ls_3hop_a, ls_4hop_q, ls_4hop_a, ls_5hop_q, ls_5hop_a, ls_6hop_q, ls_6hop_a = ([] for _ in range(10))\n",
    "\n",
    "def generate_questions(df_wh_hallu):\n",
    "    for i in df_wh_hallu.index[:]:\n",
    "        subject, relation, object, question = df_wh_hallu.loc[i, 'subject'], df_wh_hallu.loc[i, 'relation'], df_wh_hallu.loc[i, 'object'], df_wh_hallu.loc[i, 'question']\n",
    "        prompt_gen_q = f\"subject: {subject}, relation: {relation}\"\n",
    "        raw_response = client.chat.completions.create(\n",
    "            model='gpt-4o',  # 'gpt-4o-mini'\n",
    "            messages=[{\"role\": \"system\", \"content\": system_msg_gen_q}, {\"role\": \"user\", \"content\": prompt_gen_q}], \n",
    "            response_format={\"type\": \"json_object\"}, \n",
    "            temperature=0\n",
    "        )\n",
    "        raw_str = raw_response.choices[0].message.content\n",
    "        json_obj = json.loads(raw_str)\n",
    "        print(f\"subject: {subject}, relation: {relation}, {json_obj}\")\n",
    "        ls_2hop_q.append(json_obj['2hop_question'])\n",
    "        ls_2hop_a.append(json_obj['2hop_answer'])\n",
    "        ls_3hop_q.append(json_obj['3hop_question'])\n",
    "        ls_3hop_a.append(json_obj['3hop_answer'])\n",
    "        ls_4hop_q.append(json_obj['4hop_question'])\n",
    "        ls_4hop_a.append(json_obj['4hop_answer'])\n",
    "        ls_5hop_q.append(json_obj['5hop_question'])\n",
    "        ls_5hop_a.append(json_obj['5hop_answer'])\n",
    "        ls_6hop_q.append(json_obj['6hop_question'])\n",
    "        ls_6hop_a.append(json_obj['6hop_answer'])\n",
    "\n",
    "generate_questions(df_wh_hallu)"
   ]
  },
  {
   "cell_type": "code",
   "execution_count": 39,
   "metadata": {},
   "outputs": [
    {
     "name": "stdout",
     "output_type": "stream",
     "text": [
      "Before df_wh_hallu.shape: (204, 15)\n",
      "After df_wh_hallu.shape: (204, 25)\n"
     ]
    }
   ],
   "source": [
    "print(f\"Before df_wh_hallu.shape: {df_wh_hallu.shape}\")\n",
    "df_wh_hallu['question_2hop'] = ls_2hop_q\n",
    "df_wh_hallu['answer_2hop'] = ls_2hop_a\n",
    "df_wh_hallu['question_3hop'] = ls_3hop_q\n",
    "df_wh_hallu['answer_3hop'] = ls_3hop_a\n",
    "df_wh_hallu['question_4hop'] = ls_4hop_q\n",
    "df_wh_hallu['answer_4hop'] = ls_4hop_a\n",
    "df_wh_hallu['question_5hop'] = ls_5hop_q\n",
    "df_wh_hallu['answer_5hop'] = ls_5hop_a\n",
    "df_wh_hallu['question_6hop'] = ls_6hop_q\n",
    "df_wh_hallu['answer_6hop'] = ls_6hop_a\n",
    "print(f\"After df_wh_hallu.shape: {df_wh_hallu.shape}\")\n",
    "df_wh_hallu.to_csv(f\"../data/questions/wh_only/hallucination_only/{model_id_format}_{domain_topic_name}.csv\", index=False)"
   ]
  },
  {
   "cell_type": "markdown",
   "metadata": {},
   "source": [
    "## Editing"
   ]
  },
  {
   "cell_type": "code",
   "execution_count": 12,
   "metadata": {},
   "outputs": [
    {
     "name": "stderr",
     "output_type": "stream",
     "text": [
      "/data1/baixiang/env/anaconda3/envs/edit/lib/python3.9/site-packages/torchvision/io/image.py:13: UserWarning: Failed to load image Python extension: '/data1/baixiang/env/anaconda3/envs/edit/lib/python3.9/site-packages/torchvision/image.so: undefined symbol: _ZN3c1017RegisterOperatorsD1Ev'If you don't plan on using image functionality from `torchvision.io`, you can ignore this warning. Otherwise, there might be something wrong with your environment. Did you have `libjpeg` or `libpng` installed before building `torchvision` from source?\n",
      "  warn(\n"
     ]
    },
    {
     "data": {
      "application/json": {
       "ascii": false,
       "bar_format": null,
       "colour": null,
       "elapsed": 0.0035500526428222656,
       "initial": 0,
       "n": 0,
       "ncols": null,
       "nrows": null,
       "postfix": null,
       "prefix": "Downloading shards",
       "rate": null,
       "total": 4,
       "unit": "it",
       "unit_divisor": 1000,
       "unit_scale": false
      },
      "application/vnd.jupyter.widget-view+json": {
       "model_id": "ce1f831109f246cb8cdf985649d40637",
       "version_major": 2,
       "version_minor": 0
      },
      "text/plain": [
       "Downloading shards:   0%|          | 0/4 [00:00<?, ?it/s]"
      ]
     },
     "metadata": {},
     "output_type": "display_data"
    },
    {
     "data": {
      "application/json": {
       "ascii": false,
       "bar_format": null,
       "colour": null,
       "elapsed": 0.0027861595153808594,
       "initial": 0,
       "n": 0,
       "ncols": null,
       "nrows": null,
       "postfix": null,
       "prefix": "Loading checkpoint shards",
       "rate": null,
       "total": 4,
       "unit": "it",
       "unit_divisor": 1000,
       "unit_scale": false
      },
      "application/vnd.jupyter.widget-view+json": {
       "model_id": "54fff2eb10b34ab4a1a2cb3901f1d4a2",
       "version_major": 2,
       "version_minor": 0
      },
      "text/plain": [
       "Loading checkpoint shards:   0%|          | 0/4 [00:00<?, ?it/s]"
      ]
     },
     "metadata": {},
     "output_type": "display_data"
    },
    {
     "data": {
      "text/plain": [
       "(179, 9)"
      ]
     },
     "execution_count": 12,
     "metadata": {},
     "output_type": "execute_result"
    }
   ],
   "source": [
    "import json\n",
    "from hallucination_editor import BaseEditor\n",
    "from easyeditor import FTHyperParams, IKEHyperParams, ROMEHyperParams, MEMITHyperParams\n",
    "\n",
    "df = pd.read_csv(f\"../data/questions/wh_only/hallucination_only/{model_id_format}.csv\")\n",
    "# df = pd.read_csv(f\"../data/questions/wh_only/hallucination_only/mistral_7b_instruct_v0.3.csv\")\n",
    "df.shape"
   ]
  },
  {
   "cell_type": "code",
   "execution_count": 13,
   "metadata": {},
   "outputs": [
    {
     "name": "stderr",
     "output_type": "stream",
     "text": [
      "2024-08-12 18:46:29,734 - hallucination_editor - INFO - Instantiating model\n",
      "08/12/2024 18:46:29 - INFO - hallucination_editor -   Instantiating model\n"
     ]
    },
    {
     "data": {
      "application/json": {
       "ascii": false,
       "bar_format": null,
       "colour": null,
       "elapsed": 0.003228425979614258,
       "initial": 0,
       "n": 0,
       "ncols": null,
       "nrows": null,
       "postfix": null,
       "prefix": "Downloading shards",
       "rate": null,
       "total": 4,
       "unit": "it",
       "unit_divisor": 1000,
       "unit_scale": false
      },
      "application/vnd.jupyter.widget-view+json": {
       "model_id": "3a85ac93f7844e9da9b6510cc7266e16",
       "version_major": 2,
       "version_minor": 0
      },
      "text/plain": [
       "Downloading shards:   0%|          | 0/4 [00:00<?, ?it/s]"
      ]
     },
     "metadata": {},
     "output_type": "display_data"
    },
    {
     "data": {
      "application/json": {
       "ascii": false,
       "bar_format": null,
       "colour": null,
       "elapsed": 0.0028297901153564453,
       "initial": 0,
       "n": 0,
       "ncols": null,
       "nrows": null,
       "postfix": null,
       "prefix": "Loading checkpoint shards",
       "rate": null,
       "total": 4,
       "unit": "it",
       "unit_divisor": 1000,
       "unit_scale": false
      },
      "application/vnd.jupyter.widget-view+json": {
       "model_id": "39a372250365401eb11a6a7cbad792ff",
       "version_major": 2,
       "version_minor": 0
      },
      "text/plain": [
       "Loading checkpoint shards:   0%|          | 0/4 [00:00<?, ?it/s]"
      ]
     },
     "metadata": {},
     "output_type": "display_data"
    },
    {
     "name": "stderr",
     "output_type": "stream",
     "text": [
      "  0%|          | 0/50 [00:00<?, ?it/s]/data1/baixiang/env/anaconda3/envs/edit/lib/python3.9/site-packages/transformers/generation/configuration_utils.py:567: UserWarning: `do_sample` is set to `False`. However, `temperature` is set to `0.6` -- this flag is only used in sample-based generation modes. You should set `do_sample=True` or unset `temperature`.\n",
      "  warnings.warn(\n",
      "/data1/baixiang/env/anaconda3/envs/edit/lib/python3.9/site-packages/transformers/generation/configuration_utils.py:572: UserWarning: `do_sample` is set to `False`. However, `top_p` is set to `0.9` -- this flag is only used in sample-based generation modes. You should set `do_sample=True` or unset `top_p`.\n",
      "  warnings.warn(\n",
      "  2%|▏         | 1/50 [00:00<00:33,  1.46it/s]"
     ]
    },
    {
     "name": "stdout",
     "output_type": "stream",
     "text": [
      "===== Question: Which tourist attraction was owned by Greece? | Prediction: Knossos. | Label: Parthenon | Evaluation: 0 =====\n"
     ]
    },
    {
     "name": "stderr",
     "output_type": "stream",
     "text": [
      "  4%|▍         | 2/50 [00:01<00:24,  1.92it/s]"
     ]
    },
    {
     "name": "stdout",
     "output_type": "stream",
     "text": [
      "===== Question: Who was Rosersberg Palace founded by? | Prediction: King Gustav V. | Label: Gabriel Bengtsson Oxenstierna | Evaluation: 0 =====\n"
     ]
    },
    {
     "name": "stderr",
     "output_type": "stream",
     "text": [
      "  6%|▌         | 3/50 [00:01<00:19,  2.39it/s]"
     ]
    },
    {
     "name": "stdout",
     "output_type": "stream",
     "text": [
      "===== Question: What is the architectural style of Rosersberg Palace? | Prediction: Baroque. | Label: Neoclassical architecture | Evaluation: 0 =====\n"
     ]
    },
    {
     "name": "stderr",
     "output_type": "stream",
     "text": [
      "  8%|▊         | 4/50 [00:01<00:19,  2.41it/s]"
     ]
    },
    {
     "name": "stdout",
     "output_type": "stream",
     "text": [
      "===== Question: What was Rosersberg Palace owned by? | Prediction: The Swedish Royal Family. | Label: National Property Board of Sweden | Evaluation: 0 =====\n"
     ]
    },
    {
     "name": "stderr",
     "output_type": "stream",
     "text": [
      " 10%|█         | 5/50 [00:02<00:18,  2.42it/s]"
     ]
    },
    {
     "name": "stdout",
     "output_type": "stream",
     "text": [
      "===== Question: Which tourist attraction has part(s) Prayerbook Cross? | Prediction: Glastonbury. | Label: Golden Gate Park | Evaluation: 0 =====\n"
     ]
    },
    {
     "name": "stderr",
     "output_type": "stream",
     "text": [
      " 12%|█▏        | 6/50 [00:02<00:18,  2.32it/s]"
     ]
    },
    {
     "name": "stdout",
     "output_type": "stream",
     "text": [
      "===== Question: What is the significant event of Haw Par Villa? | Prediction: Battle of Heng San. | Label: construction | Evaluation: 0 =====\n"
     ]
    },
    {
     "name": "stderr",
     "output_type": "stream",
     "text": [
      " 14%|█▍        | 7/50 [00:03<00:25,  1.66it/s]"
     ]
    },
    {
     "name": "stdout",
     "output_type": "stream",
     "text": [
      "===== Question: Which tourist attraction's creator is Carlos Oswald? | Prediction: I couldn't find any information on a well-known tourist attraction created by Carlos Oswald | Label: Christ the Redeemer | Evaluation: 0 =====\n"
     ]
    },
    {
     "name": "stderr",
     "output_type": "stream",
     "text": [
      " 16%|█▌        | 8/50 [00:04<00:25,  1.64it/s]"
     ]
    },
    {
     "name": "stdout",
     "output_type": "stream",
     "text": [
      "===== Question: Who does Tsarskoye Selo architect? | Prediction: Vasily Petrovich Stasov. | Label: Francesco Bartolomeo Rastrelli | Evaluation: 0 =====\n"
     ]
    },
    {
     "name": "stderr",
     "output_type": "stream",
     "text": [
      " 18%|█▊        | 9/50 [00:04<00:22,  1.83it/s]"
     ]
    },
    {
     "name": "stdout",
     "output_type": "stream",
     "text": [
      "===== Question: Who architect Sedefkar Mehmed Agha? | Prediction: Sultan Ahmed III. | Label: Sultan Ahmed Mosque | Evaluation: 0 =====\n"
     ]
    },
    {
     "name": "stderr",
     "output_type": "stream",
     "text": [
      " 20%|██        | 10/50 [00:04<00:18,  2.12it/s]"
     ]
    },
    {
     "name": "stdout",
     "output_type": "stream",
     "text": [
      "===== Question: Which tourist attraction architect Alfred Parland? | Prediction: Senate Square. | Label: Church of the Savior on Blood | Evaluation: 0 =====\n"
     ]
    },
    {
     "name": "stderr",
     "output_type": "stream",
     "text": [
      " 22%|██▏       | 11/50 [00:05<00:16,  2.30it/s]"
     ]
    },
    {
     "name": "stdout",
     "output_type": "stream",
     "text": [
      "===== Question: What is the architectural style of Hundertwasserhaus? | Prediction: Biomorphism. | Label: expressionist architecture | Evaluation: 0 =====\n"
     ]
    },
    {
     "name": "stderr",
     "output_type": "stream",
     "text": [
      " 24%|██▍       | 12/50 [00:05<00:15,  2.44it/s]"
     ]
    },
    {
     "name": "stdout",
     "output_type": "stream",
     "text": [
      "===== Question: What is the located in the administrative territorial entity of Science Centre Singapore? | Prediction: Biopolis. | Label: Jurong East | Evaluation: 0 =====\n"
     ]
    },
    {
     "name": "stderr",
     "output_type": "stream",
     "text": [
      " 26%|██▌       | 13/50 [00:06<00:15,  2.45it/s]"
     ]
    },
    {
     "name": "stdout",
     "output_type": "stream",
     "text": [
      "===== Question: What is the architectural style of Grand Kremlin Palace? | Prediction: Neoclassicism. | Label: Byzantine Revival architecture | Evaluation: 0 =====\n"
     ]
    },
    {
     "name": "stderr",
     "output_type": "stream",
     "text": [
      " 28%|██▊       | 14/50 [00:06<00:14,  2.55it/s]"
     ]
    },
    {
     "name": "stdout",
     "output_type": "stream",
     "text": [
      "===== Question: Who was Grand Kremlin Palace commissioned by? | Prediction: Peter the Great. | Label: Nicholas I of Russia | Evaluation: 0 =====\n"
     ]
    },
    {
     "name": "stderr",
     "output_type": "stream",
     "text": [
      " 30%|███       | 15/50 [00:06<00:12,  2.76it/s]"
     ]
    },
    {
     "name": "stdout",
     "output_type": "stream",
     "text": [
      "===== Question: Which tourist attraction's located in the administrative territorial entity is Stourton with Gasper? | Prediction: Saltaire. | Label: Stourhead | Evaluation: 0 =====\n"
     ]
    },
    {
     "name": "stderr",
     "output_type": "stream",
     "text": [
      " 32%|███▏      | 16/50 [00:07<00:14,  2.35it/s]"
     ]
    },
    {
     "name": "stdout",
     "output_type": "stream",
     "text": [
      "===== Question: Who does İzmir Clock Tower architect? | Prediction: Raimondo D'Aronco. | Label: Raymond Charles Péré | Evaluation: 0 =====\n"
     ]
    },
    {
     "name": "stderr",
     "output_type": "stream",
     "text": [
      " 34%|███▍      | 17/50 [00:07<00:13,  2.48it/s]"
     ]
    },
    {
     "name": "stdout",
     "output_type": "stream",
     "text": [
      "===== Question: Which tourist attraction's director / manager is Tor Hagfors? | Prediction: Stonehenge. | Label: Arecibo Observatory | Evaluation: 0 =====\n"
     ]
    },
    {
     "name": "stderr",
     "output_type": "stream",
     "text": [
      " 36%|███▌      | 18/50 [00:07<00:11,  2.82it/s]"
     ]
    },
    {
     "name": "stdout",
     "output_type": "stream",
     "text": [
      "===== Question: What is the religion or worldview of Saviour Church on Nereditsa? | Prediction: Unknown. | Label: Eastern Orthodoxy | Evaluation: 0 =====\n"
     ]
    },
    {
     "name": "stderr",
     "output_type": "stream",
     "text": [
      " 38%|███▊      | 19/50 [00:08<00:09,  3.12it/s]"
     ]
    },
    {
     "name": "stdout",
     "output_type": "stream",
     "text": [
      "===== Question: Which tourist attraction architect Louis de Hoÿm de Marien? | Prediction: Unknown. | Label: Montparnasse Tower | Evaluation: 0 =====\n"
     ]
    },
    {
     "name": "stderr",
     "output_type": "stream",
     "text": [
      " 40%|████      | 20/50 [00:08<00:09,  3.04it/s]"
     ]
    },
    {
     "name": "stdout",
     "output_type": "stream",
     "text": [
      "===== Question: Which tourist attraction's located in the administrative territorial entity is Konya Province? | Prediction: Meke Lake. | Label: Lake Tuz | Evaluation: 0 =====\n"
     ]
    },
    {
     "name": "stderr",
     "output_type": "stream",
     "text": [
      " 42%|████▏     | 21/50 [00:08<00:09,  2.98it/s]"
     ]
    },
    {
     "name": "stdout",
     "output_type": "stream",
     "text": [
      "===== Question: Which tourist attraction's present in work is Now You See Me 2? | Prediction: The Louvre. | Label: Royal Observatory | Evaluation: 0 =====\n"
     ]
    },
    {
     "name": "stderr",
     "output_type": "stream",
     "text": [
      " 44%|████▍     | 22/50 [00:09<00:10,  2.67it/s]"
     ]
    },
    {
     "name": "stdout",
     "output_type": "stream",
     "text": [
      "===== Question: Which tourist attraction's located in the administrative territorial entity is Abu Dhabi? | Prediction: Sheikh Zayed Mosque. | Label: Louvre Abu Dhabi | Evaluation: 0 =====\n"
     ]
    },
    {
     "name": "stderr",
     "output_type": "stream",
     "text": [
      " 46%|████▌     | 23/50 [00:09<00:09,  2.85it/s]"
     ]
    },
    {
     "name": "stdout",
     "output_type": "stream",
     "text": [
      "===== Question: Which tourist attraction's located in the administrative territorial entity is Kane County? | Prediction: St. Charles | Label: Lake Powell | Evaluation: 0 =====\n"
     ]
    },
    {
     "name": "stderr",
     "output_type": "stream",
     "text": [
      " 48%|████▊     | 24/50 [00:09<00:09,  2.85it/s]"
     ]
    },
    {
     "name": "stdout",
     "output_type": "stream",
     "text": [
      "===== Question: Which tourist attraction's main building contractor is Works Progress Administration? | Prediction: The Hoover Dam. | Label: Arkansas Museum of Fine Arts | Evaluation: 0 =====\n"
     ]
    },
    {
     "name": "stderr",
     "output_type": "stream",
     "text": [
      " 50%|█████     | 25/50 [00:10<00:10,  2.50it/s]"
     ]
    },
    {
     "name": "stdout",
     "output_type": "stream",
     "text": [
      "===== Question: Who was National Garden of Athens founded by? | Prediction: Ioannis Kapodistrias. | Label: Amalia of Oldenburg | Evaluation: 0 =====\n"
     ]
    },
    {
     "name": "stderr",
     "output_type": "stream",
     "text": [
      " 52%|█████▏    | 26/50 [00:10<00:09,  2.58it/s]"
     ]
    },
    {
     "name": "stdout",
     "output_type": "stream",
     "text": [
      "===== Question: Which tourist attraction was founded by Bayezid I? | Prediction: Bursa. | Label: Anadoluhisarı | Evaluation: 0 =====\n"
     ]
    },
    {
     "name": "stderr",
     "output_type": "stream",
     "text": [
      " 54%|█████▍    | 27/50 [00:11<00:08,  2.66it/s]"
     ]
    },
    {
     "name": "stdout",
     "output_type": "stream",
     "text": [
      "===== Question: Which tourist attraction's located in the administrative territorial entity is Cambridge? | Prediction: Ely Cathedral. | Label: Fitzwilliam Museum | Evaluation: 0 =====\n"
     ]
    },
    {
     "name": "stderr",
     "output_type": "stream",
     "text": [
      " 56%|█████▌    | 28/50 [00:11<00:08,  2.59it/s]"
     ]
    },
    {
     "name": "stdout",
     "output_type": "stream",
     "text": [
      "===== Question: Who does Ushaw College architect? | Prediction: Augustus Pugin. | Label: Archibald Matthias Dunn | Evaluation: 0 =====\n"
     ]
    },
    {
     "name": "stderr",
     "output_type": "stream",
     "text": [
      " 58%|█████▊    | 29/50 [00:11<00:07,  2.79it/s]"
     ]
    },
    {
     "name": "stdout",
     "output_type": "stream",
     "text": [
      "===== Question: What is the diocese of Ushaw College? | Prediction: Durham. | Label: Roman Catholic Diocese of Hexham and Newcastle | Evaluation: 0 =====\n"
     ]
    },
    {
     "name": "stderr",
     "output_type": "stream",
     "text": [
      " 60%|██████    | 30/50 [00:12<00:07,  2.68it/s]"
     ]
    },
    {
     "name": "stdout",
     "output_type": "stream",
     "text": [
      "===== Question: What is the architectural style of Ushaw College? | Prediction: Neoclassical. | Label: Gothic Revival | Evaluation: 0 =====\n"
     ]
    },
    {
     "name": "stderr",
     "output_type": "stream",
     "text": [
      " 62%|██████▏   | 31/50 [00:12<00:06,  2.73it/s]"
     ]
    },
    {
     "name": "stdout",
     "output_type": "stream",
     "text": [
      "===== Question: Who does Yusupov Palace on Moika architect? | Prediction: Vasily Kenel | Label: Jean-Baptiste Vallin de la Mothe | Evaluation: 0 =====\n"
     ]
    },
    {
     "name": "stderr",
     "output_type": "stream",
     "text": [
      " 64%|██████▍   | 32/50 [00:13<00:07,  2.34it/s]"
     ]
    },
    {
     "name": "stdout",
     "output_type": "stream",
     "text": [
      "===== Question: Who was Meteor Crater named by? | Prediction: Dinah M. Ehmann. | Label: Herman LeRoy Fairchild | Evaluation: 0 =====\n"
     ]
    },
    {
     "name": "stderr",
     "output_type": "stream",
     "text": [
      " 66%|██████▌   | 33/50 [00:13<00:07,  2.37it/s]"
     ]
    },
    {
     "name": "stdout",
     "output_type": "stream",
     "text": [
      "===== Question: Which tourist attraction's significant event is funeral? | Prediction: Taj Mahal. | Label: St Paul's Cathedral | Evaluation: 0 =====\n"
     ]
    },
    {
     "name": "stderr",
     "output_type": "stream",
     "text": [
      " 68%|██████▊   | 34/50 [00:14<00:06,  2.31it/s]"
     ]
    },
    {
     "name": "stdout",
     "output_type": "stream",
     "text": [
      "===== Question: Which tourist attraction depicts drapery? | Prediction: The Colosseum. | Label: Statue of Liberty | Evaluation: 0 =====\n"
     ]
    },
    {
     "name": "stderr",
     "output_type": "stream",
     "text": [
      " 70%|███████   | 35/50 [00:14<00:05,  2.55it/s]"
     ]
    },
    {
     "name": "stdout",
     "output_type": "stream",
     "text": [
      "===== Question: What is the derivative work of Disneyland? | Prediction: Disney World. | Label: Kinect: Disneyland Adventures | Evaluation: 0 =====\n"
     ]
    },
    {
     "name": "stderr",
     "output_type": "stream",
     "text": [
      " 72%|███████▏  | 36/50 [00:14<00:05,  2.63it/s]"
     ]
    },
    {
     "name": "stdout",
     "output_type": "stream",
     "text": [
      "===== Question: What is the taxon found at location of Central Park? | Prediction: Quercus. | Label: squirrel | Evaluation: 0 =====\n"
     ]
    },
    {
     "name": "stderr",
     "output_type": "stream",
     "text": [
      " 74%|███████▍  | 37/50 [00:15<00:04,  2.82it/s]"
     ]
    },
    {
     "name": "stdout",
     "output_type": "stream",
     "text": [
      "===== Question: Which tourist attraction's main building contractor is Skanska? | Prediction: The Shard. | Label: 30 St Mary Axe | Evaluation: 0 =====\n"
     ]
    },
    {
     "name": "stderr",
     "output_type": "stream",
     "text": [
      " 76%|███████▌  | 38/50 [00:15<00:04,  2.49it/s]"
     ]
    },
    {
     "name": "stdout",
     "output_type": "stream",
     "text": [
      "===== Question: Which tourist attraction architect Bartolommeo Berrecci? | Prediction: St. Peter's Basilica. | Label: Wawel Castle | Evaluation: 0 =====\n"
     ]
    },
    {
     "name": "stderr",
     "output_type": "stream",
     "text": [
      " 78%|███████▊  | 39/50 [00:15<00:04,  2.39it/s]"
     ]
    },
    {
     "name": "stdout",
     "output_type": "stream",
     "text": [
      "===== Question: Which tourist attraction's located in the administrative territorial entity is Gran Canaria? | Prediction: Roque Nublo. | Label: Jardín Botánico Canario Viera y Clavijo | Evaluation: 0 =====\n"
     ]
    },
    {
     "name": "stderr",
     "output_type": "stream",
     "text": [
      " 80%|████████  | 40/50 [00:16<00:04,  2.15it/s]"
     ]
    },
    {
     "name": "stdout",
     "output_type": "stream",
     "text": [
      "===== Question: Which tourist attraction's made from material is paint? | Prediction: Van Gogh's Starry Night. | Label: Cadillac Ranch | Evaluation: 0 =====\n"
     ]
    },
    {
     "name": "stderr",
     "output_type": "stream",
     "text": [
      " 82%|████████▏ | 41/50 [00:16<00:03,  2.41it/s]"
     ]
    },
    {
     "name": "stdout",
     "output_type": "stream",
     "text": [
      "===== Question: Which tourist attraction architect Bodo Ebhardt? | Prediction: Berlin Cathedral. | Label: Coburg Fortress | Evaluation: 0 =====\n"
     ]
    },
    {
     "name": "stderr",
     "output_type": "stream",
     "text": [
      " 84%|████████▍ | 42/50 [00:17<00:03,  2.53it/s]"
     ]
    },
    {
     "name": "stdout",
     "output_type": "stream",
     "text": [
      "===== Question: Which tourist attraction's located in the administrative territorial entity is Aksaray Province? | Prediction: Göreme. | Label: Lake Tuz | Evaluation: 0 =====\n"
     ]
    },
    {
     "name": "stderr",
     "output_type": "stream",
     "text": [
      " 86%|████████▌ | 43/50 [00:17<00:02,  2.74it/s]"
     ]
    },
    {
     "name": "stdout",
     "output_type": "stream",
     "text": [
      "===== Question: Which tourist attraction architect Daniel Burnham? | Prediction: Union Station. | Label: National Museum of Natural History | Evaluation: 0 =====\n"
     ]
    },
    {
     "name": "stderr",
     "output_type": "stream",
     "text": [
      " 88%|████████▊ | 44/50 [00:17<00:02,  2.78it/s]"
     ]
    },
    {
     "name": "stdout",
     "output_type": "stream",
     "text": [
      "===== Question: Which tourist attraction's taxon found at location is Chamaerops humilis? | Prediction: Monument Valley. | Label: National Garden of Athens | Evaluation: 0 =====\n"
     ]
    },
    {
     "name": "stderr",
     "output_type": "stream",
     "text": [
      " 90%|█████████ | 45/50 [00:18<00:01,  2.93it/s]"
     ]
    },
    {
     "name": "stdout",
     "output_type": "stream",
     "text": [
      "===== Question: Which tourist attraction's structural engineer is Schlaich Bergermann Partner? | Prediction: London Eye. | Label: One World Trade Center | Evaluation: 0 =====\n"
     ]
    },
    {
     "name": "stderr",
     "output_type": "stream",
     "text": [
      " 92%|█████████▏| 46/50 [00:18<00:01,  2.77it/s]"
     ]
    },
    {
     "name": "stdout",
     "output_type": "stream",
     "text": [
      "===== Question: Which tourist attraction shape antiprism? | Prediction: Geodesic Dome. | Label: One World Trade Center | Evaluation: 0 =====\n"
     ]
    },
    {
     "name": "stderr",
     "output_type": "stream",
     "text": [
      " 94%|█████████▍| 47/50 [00:19<00:01,  2.55it/s]"
     ]
    },
    {
     "name": "stdout",
     "output_type": "stream",
     "text": [
      "===== Question: Which tourist attraction depicts navel? | Prediction: Navel of the Earth. | Label: Manneken-Pis | Evaluation: 0 =====\n"
     ]
    },
    {
     "name": "stderr",
     "output_type": "stream",
     "text": [
      " 96%|█████████▌| 48/50 [00:19<00:00,  2.16it/s]"
     ]
    },
    {
     "name": "stdout",
     "output_type": "stream",
     "text": [
      "===== Question: What is the main building contractor of Willis Tower? | Prediction: Skidmore, Owings & Merrill. | Label: American Bridge Company | Evaluation: 0 =====\n"
     ]
    },
    {
     "name": "stderr",
     "output_type": "stream",
     "text": [
      " 98%|█████████▊| 49/50 [00:19<00:00,  2.42it/s]"
     ]
    },
    {
     "name": "stdout",
     "output_type": "stream",
     "text": [
      "===== Question: What is the architectural style of Willis Tower? | Prediction: Postmodern. | Label: International Style | Evaluation: 0 =====\n"
     ]
    },
    {
     "name": "stderr",
     "output_type": "stream",
     "text": [
      "100%|██████████| 50/50 [00:20<00:00,  2.42it/s]\n",
      "We detected that you are passing `past_key_values` as a tuple and this is deprecated and will be removed in v4.43. Please use an appropriate `Cache` class (https://huggingface.co/docs/transformers/v4.41.3/en/internal/generation_utils#transformers.Cache)\n"
     ]
    },
    {
     "name": "stdout",
     "output_type": "stream",
     "text": [
      "===== Question: Which tourist attraction's creator is Jan Styka? | Prediction: The National Shrine of the Immaculate Conception. | Label: Racławice Panorama | Evaluation: 0 =====\n",
      "Executing ROME algorithm for the update: [Which tourist attraction was owned by Greece?] -> [ Parthenon]\n",
      "Cached context templates ['{}', 'The 2019. {}', 'The following account,. {}', 'Therefore, it was. {}', 'Therefore, if you. {}', 'Because I love the. {}', 'Because you compared Bit. {}', \"I'm trying to. {}\", 'I am so glad. {}', \"You're viewing a. {}\", 'You are currently browsing. {}', 'The 2022-2023 school year. {}', 'The following statements about the relationship between the immune. {}', 'Therefore, it is necessary for you to be. {}', 'Therefore, you can use this as a guide. {}', 'Because of their unique structure, the cells of. {}', 'Because of the COVID-19 pandemic, the. {}', 'I love this quote by Maya Angelou:. {}', 'I am excited to announce that I have partnered. {}', \"You can't have it all - but you. {}\", 'You are here: Home / News / New. {}']\n",
      "Computing left vector (u)...\n",
      "Selected u projection object Greece\n",
      "Left vector shape: torch.Size([14336])\n",
      "Computing right vector (v)\n",
      "Lookup index found: 7 | Sentence: Which tourist attraction was owned by Greece? Parthen | Token:  Greece\n",
      "Rewrite layer is 5\n",
      "Tying optimization objective to 31\n",
      "Recording initial value of v*\n",
      "loss 2.474 = 2.474 + 0.0 + 0.0 avg prob of [ Parthenon] 0.0856739804148674\n",
      "loss 1.75 = 1.68 + 0.068 + 0.002 avg prob of [ Parthenon] 0.19112083315849304\n",
      "loss 0.974 = 0.941 + 0.031 + 0.002 avg prob of [ Parthenon] 0.39576730132102966\n",
      "loss 0.884 = 0.857 + 0.026 + 0.002 avg prob of [ Parthenon] 0.4275975227355957\n",
      "loss 0.274 = 0.219 + 0.053 + 0.002 avg prob of [ Parthenon] 0.8065826892852783\n",
      "loss 0.133 = 0.081 + 0.05 + 0.002 avg prob of [ Parthenon] 0.9242112636566162\n",
      "loss 0.138 = 0.08 + 0.057 + 0.002 avg prob of [ Parthenon] 0.9236304759979248\n",
      "loss 0.055 = 0.026 + 0.027 + 0.002 avg prob of [ Parthenon] 0.9742493629455566\n"
     ]
    },
    {
     "name": "stderr",
     "output_type": "stream",
     "text": [
      "2024-08-12 18:46:59,439 - hallucination_editor - INFO - Execution 0 editing took 3.338561773300171\n",
      "08/12/2024 18:46:59 - INFO - hallucination_editor -   Execution 0 editing took 3.338561773300171\n"
     ]
    },
    {
     "name": "stdout",
     "output_type": "stream",
     "text": [
      "loss 0.024 = 0.003 + 0.02 + 0.002 avg prob of [ Parthenon] 0.9974278211593628\n",
      "Delta norm: 8.84375\n",
      "Change in target norm: 2.2109375 to 9.09375 => 6.8828125\n",
      "Division Factor: 2.830078125\n",
      "Right vector norm: 3.125\n",
      "Right vector shape: torch.Size([4096])\n",
      "Deltas successfully computed for ['model.layers.5.mlp.down_proj.weight']\n",
      "New weights successfully inserted into ['model.layers.5.mlp.down_proj.weight']\n"
     ]
    },
    {
     "name": "stderr",
     "output_type": "stream",
     "text": [
      "2024-08-12 18:46:59,668 - hallucination_editor - INFO - Evaluation took 0.22786331176757812\n",
      "08/12/2024 18:46:59 - INFO - hallucination_editor -   Evaluation took 0.22786331176757812\n",
      "2024-08-12 18:46:59,670 - hallucination_editor - INFO - 0 editing: Which tourist attraction was owned by Greece? -> Parthenon  \n",
      " {'pre': {'edit_acc': [0], 'edit_output': ['Knossos.'], 'locality': {}, 'portability': {}, 'yes_no': {}}, 'case_id': 0, 'requested_edit': {'prompt': 'Which tourist attraction was owned by Greece?', 'target_new': 'Parthenon', 'ground_truth': '<|endoftext|>', 'portability': {}, 'locality': {}, 'yes_no': {}, 'harm_original_text': {}, 'subject': 'Greece'}, 'time': 3.338561773300171, 'post': {'edit_acc': [1], 'edit_output': ['Parthenon'], 'locality': {}, 'portability': {}, 'yes_no': {}}}\n",
      "08/12/2024 18:46:59 - INFO - hallucination_editor -   0 editing: Which tourist attraction was owned by Greece? -> Parthenon  \n",
      " {'pre': {'edit_acc': [0], 'edit_output': ['Knossos.'], 'locality': {}, 'portability': {}, 'yes_no': {}}, 'case_id': 0, 'requested_edit': {'prompt': 'Which tourist attraction was owned by Greece?', 'target_new': 'Parthenon', 'ground_truth': '<|endoftext|>', 'portability': {}, 'locality': {}, 'yes_no': {}, 'harm_original_text': {}, 'subject': 'Greece'}, 'time': 3.338561773300171, 'post': {'edit_acc': [1], 'edit_output': ['Parthenon'], 'locality': {}, 'portability': {}, 'yes_no': {}}}\n"
     ]
    },
    {
     "name": "stdout",
     "output_type": "stream",
     "text": [
      "===== Question: Which tourist attraction was owned by Greece? | Prediction: Parthenon | Label: Parthenon | Evaluation: 1 =====\n",
      "Executing ROME algorithm for the update: [Who was Rosersberg Palace founded by?] -> [ Gabriel Bengtsson Oxenstierna]\n",
      "Computing left vector (u)...\n",
      "Selected u projection object Rosersberg Palace\n",
      "Left vector shape: torch.Size([14336])\n",
      "Computing right vector (v)\n",
      "Lookup index found: 6 | Sentence: Who was Rosersberg Palace founded by? Gabriel Bengtsson Oxensti | Token:  Palace\n",
      "Rewrite layer is 5\n",
      "Tying optimization objective to 31\n",
      "Recording initial value of v*\n",
      "loss 1.571 = 1.571 + 0.0 + 0.0 avg prob of [ Gabriel Bengtsson Oxenstierna] 0.20819316804409027\n",
      "loss 1.466 = 1.387 + 0.078 + 0.001 avg prob of [ Gabriel Bengtsson Oxenstierna] 0.25108200311660767\n",
      "loss 0.989 = 0.977 + 0.011 + 0.001 avg prob of [ Gabriel Bengtsson Oxenstierna] 0.37740838527679443\n",
      "loss 1.169 = 1.137 + 0.031 + 0.001 avg prob of [ Gabriel Bengtsson Oxenstierna] 0.3241691589355469\n",
      "loss 0.731 = 0.714 + 0.015 + 0.001 avg prob of [ Gabriel Bengtsson Oxenstierna] 0.49092796444892883\n",
      "loss 0.245 = 0.23 + 0.014 + 0.001 avg prob of [ Gabriel Bengtsson Oxenstierna] 0.796111524105072\n",
      "loss 0.058 = 0.025 + 0.032 + 0.001 avg prob of [ Gabriel Bengtsson Oxenstierna] 0.9753570556640625\n",
      "loss 0.183 = 0.12 + 0.061 + 0.001 avg prob of [ Gabriel Bengtsson Oxenstierna] 0.8884792327880859\n"
     ]
    },
    {
     "name": "stderr",
     "output_type": "stream",
     "text": [
      "2024-08-12 18:47:02,344 - hallucination_editor - INFO - Execution 1 editing took 2.672781467437744\n",
      "08/12/2024 18:47:02 - INFO - hallucination_editor -   Execution 1 editing took 2.672781467437744\n"
     ]
    },
    {
     "name": "stdout",
     "output_type": "stream",
     "text": [
      "loss 0.035 = 0.021 + 0.012 + 0.001 avg prob of [ Gabriel Bengtsson Oxenstierna] 0.9790629744529724\n",
      "Delta norm: 11.28125\n",
      "Change in target norm: 2.8203125 to 11.765625 => 8.9453125\n",
      "Division Factor: 3.59765625\n",
      "Right vector norm: 3.134765625\n",
      "Right vector shape: torch.Size([4096])\n",
      "Deltas successfully computed for ['model.layers.5.mlp.down_proj.weight']\n",
      "New weights successfully inserted into ['model.layers.5.mlp.down_proj.weight']\n"
     ]
    },
    {
     "name": "stderr",
     "output_type": "stream",
     "text": [
      "2024-08-12 18:47:02,963 - hallucination_editor - INFO - Evaluation took 0.6174046993255615\n",
      "08/12/2024 18:47:02 - INFO - hallucination_editor -   Evaluation took 0.6174046993255615\n",
      "2024-08-12 18:47:02,964 - hallucination_editor - INFO - 1 editing: Who was Rosersberg Palace founded by? -> Gabriel Bengtsson Oxenstierna  \n",
      " {'pre': {'edit_acc': [0], 'edit_output': ['King Gustav V.'], 'locality': {}, 'portability': {}, 'yes_no': {}}, 'case_id': 1, 'requested_edit': {'prompt': 'Who was Rosersberg Palace founded by?', 'target_new': 'Gabriel Bengtsson Oxenstierna', 'ground_truth': '<|endoftext|>', 'portability': {}, 'locality': {}, 'yes_no': {}, 'harm_original_text': {}, 'subject': 'Rosersberg Palace'}, 'time': 2.672781467437744, 'post': {'edit_acc': [1], 'edit_output': ['Gabriel Bengtsson Oxenstierna.'], 'locality': {}, 'portability': {}, 'yes_no': {}}}\n",
      "08/12/2024 18:47:02 - INFO - hallucination_editor -   1 editing: Who was Rosersberg Palace founded by? -> Gabriel Bengtsson Oxenstierna  \n",
      " {'pre': {'edit_acc': [0], 'edit_output': ['King Gustav V.'], 'locality': {}, 'portability': {}, 'yes_no': {}}, 'case_id': 1, 'requested_edit': {'prompt': 'Who was Rosersberg Palace founded by?', 'target_new': 'Gabriel Bengtsson Oxenstierna', 'ground_truth': '<|endoftext|>', 'portability': {}, 'locality': {}, 'yes_no': {}, 'harm_original_text': {}, 'subject': 'Rosersberg Palace'}, 'time': 2.672781467437744, 'post': {'edit_acc': [1], 'edit_output': ['Gabriel Bengtsson Oxenstierna.'], 'locality': {}, 'portability': {}, 'yes_no': {}}}\n"
     ]
    },
    {
     "name": "stdout",
     "output_type": "stream",
     "text": [
      "===== Question: Who was Rosersberg Palace founded by? | Prediction: Gabriel Bengtsson Oxenstierna. | Label: Gabriel Bengtsson Oxenstierna | Evaluation: 1 =====\n",
      "Executing ROME algorithm for the update: [What is the architectural style of Rosersberg Palace?] -> [ Neoclassical architecture]\n",
      "Computing left vector (u)...\n",
      "Selected u projection object Rosersberg Palace\n",
      "Left vector shape: torch.Size([14336])\n",
      "Computing right vector (v)\n",
      "Lookup index found: 10 | Sentence: What is the architectural style of Rosersberg Palace? Neoclassical | Token:  Palace\n",
      "Rewrite layer is 5\n",
      "Tying optimization objective to 31\n",
      "Recording initial value of v*\n",
      "loss 2.221 = 2.221 + 0.0 + 0.0 avg prob of [ Neoclassical architecture] 0.11029486358165741\n",
      "loss 1.681 = 1.657 + 0.022 + 0.001 avg prob of [ Neoclassical architecture] 0.19437676668167114\n",
      "loss 0.997 = 0.943 + 0.052 + 0.001 avg prob of [ Neoclassical architecture] 0.3898884057998657\n",
      "loss 0.528 = 0.5 + 0.027 + 0.001 avg prob of [ Neoclassical architecture] 0.6071978807449341\n",
      "loss 0.112 = 0.091 + 0.019 + 0.001 avg prob of [ Neoclassical architecture] 0.9129576086997986\n",
      "loss 0.053 = 0.016 + 0.035 + 0.001 avg prob of [ Neoclassical architecture] 0.9838057160377502\n"
     ]
    },
    {
     "name": "stderr",
     "output_type": "stream",
     "text": [
      "2024-08-12 18:47:05,051 - hallucination_editor - INFO - Execution 2 editing took 2.0849125385284424\n",
      "08/12/2024 18:47:05 - INFO - hallucination_editor -   Execution 2 editing took 2.0849125385284424\n"
     ]
    },
    {
     "name": "stdout",
     "output_type": "stream",
     "text": [
      "loss 0.024 = 0.006 + 0.016 + 0.001 avg prob of [ Neoclassical architecture] 0.9936469197273254\n",
      "Delta norm: 12.59375\n",
      "Change in target norm: 3.1484375 to 12.9375 => 9.7890625\n",
      "Division Factor: 4.0546875\n",
      "Right vector norm: 3.10546875\n",
      "Right vector shape: torch.Size([4096])\n",
      "Deltas successfully computed for ['model.layers.5.mlp.down_proj.weight']\n",
      "New weights successfully inserted into ['model.layers.5.mlp.down_proj.weight']\n"
     ]
    },
    {
     "name": "stderr",
     "output_type": "stream",
     "text": [
      "2024-08-12 18:47:05,460 - hallucination_editor - INFO - Evaluation took 0.4079103469848633\n",
      "08/12/2024 18:47:05 - INFO - hallucination_editor -   Evaluation took 0.4079103469848633\n",
      "2024-08-12 18:47:05,461 - hallucination_editor - INFO - 2 editing: What is the architectural style of Rosersberg Palace? -> Neoclassical architecture  \n",
      " {'pre': {'edit_acc': [0], 'edit_output': ['Baroque.'], 'locality': {}, 'portability': {}, 'yes_no': {}}, 'case_id': 2, 'requested_edit': {'prompt': 'What is the architectural style of Rosersberg Palace?', 'target_new': 'Neoclassical architecture', 'ground_truth': '<|endoftext|>', 'portability': {}, 'locality': {}, 'yes_no': {}, 'harm_original_text': {}, 'subject': 'Rosersberg Palace'}, 'time': 2.0849125385284424, 'post': {'edit_acc': [1], 'edit_output': ['Neoclassical.'], 'locality': {}, 'portability': {}, 'yes_no': {}}}\n",
      "08/12/2024 18:47:05 - INFO - hallucination_editor -   2 editing: What is the architectural style of Rosersberg Palace? -> Neoclassical architecture  \n",
      " {'pre': {'edit_acc': [0], 'edit_output': ['Baroque.'], 'locality': {}, 'portability': {}, 'yes_no': {}}, 'case_id': 2, 'requested_edit': {'prompt': 'What is the architectural style of Rosersberg Palace?', 'target_new': 'Neoclassical architecture', 'ground_truth': '<|endoftext|>', 'portability': {}, 'locality': {}, 'yes_no': {}, 'harm_original_text': {}, 'subject': 'Rosersberg Palace'}, 'time': 2.0849125385284424, 'post': {'edit_acc': [1], 'edit_output': ['Neoclassical.'], 'locality': {}, 'portability': {}, 'yes_no': {}}}\n"
     ]
    },
    {
     "name": "stdout",
     "output_type": "stream",
     "text": [
      "===== Question: What is the architectural style of Rosersberg Palace? | Prediction: Neoclassical. | Label: Neoclassical architecture | Evaluation: 1 =====\n",
      "Executing ROME algorithm for the update: [What was Rosersberg Palace owned by?] -> [ National Property Board of Sweden]\n",
      "Computing left vector (u)...\n",
      "Selected u projection object Rosersberg Palace\n",
      "Left vector shape: torch.Size([14336])\n",
      "Computing right vector (v)\n",
      "Lookup index found: 6 | Sentence: What was Rosersberg Palace owned by? National Property Board of | Token:  Palace\n",
      "Rewrite layer is 5\n",
      "Tying optimization objective to 31\n",
      "Recording initial value of v*\n",
      "loss 2.458 = 2.458 + 0.0 + 0.0 avg prob of [ National Property Board of Sweden] 0.08777381479740143\n",
      "loss 1.709 = 1.62 + 0.088 + 0.001 avg prob of [ National Property Board of Sweden] 0.2022714614868164\n",
      "loss 0.955 = 0.939 + 0.014 + 0.001 avg prob of [ National Property Board of Sweden] 0.3942873775959015\n",
      "loss 0.16 = 0.109 + 0.05 + 0.001 avg prob of [ National Property Board of Sweden] 0.8976646065711975\n",
      "loss 0.059 = 0.007 + 0.051 + 0.001 avg prob of [ National Property Board of Sweden] 0.9931257367134094\n",
      "loss 0.053 = 0.001 + 0.051 + 0.001 avg prob of [ National Property Board of Sweden] 0.9994308948516846\n",
      "loss 0.053 = 0.001 + 0.051 + 0.001 avg prob of [ National Property Board of Sweden] 0.9994986653327942\n"
     ]
    },
    {
     "name": "stderr",
     "output_type": "stream",
     "text": [
      "2024-08-12 18:47:07,767 - hallucination_editor - INFO - Execution 3 editing took 2.3038580417633057\n",
      "08/12/2024 18:47:07 - INFO - hallucination_editor -   Execution 3 editing took 2.3038580417633057\n"
     ]
    },
    {
     "name": "stdout",
     "output_type": "stream",
     "text": [
      "loss 0.046 = 0.0 + 0.044 + 0.001 avg prob of [ National Property Board of Sweden] 0.9997081160545349\n",
      "Delta norm: 11.484375\n",
      "Change in target norm: 2.87109375 to 11.8671875 => 9.0\n",
      "Division Factor: 3.658203125\n",
      "Right vector norm: 3.138671875\n",
      "Right vector shape: torch.Size([4096])\n",
      "Deltas successfully computed for ['model.layers.5.mlp.down_proj.weight']\n",
      "New weights successfully inserted into ['model.layers.5.mlp.down_proj.weight']\n"
     ]
    },
    {
     "name": "stderr",
     "output_type": "stream",
     "text": [
      "2024-08-12 18:47:08,161 - hallucination_editor - INFO - Evaluation took 0.392925500869751\n",
      "08/12/2024 18:47:08 - INFO - hallucination_editor -   Evaluation took 0.392925500869751\n",
      "2024-08-12 18:47:08,163 - hallucination_editor - INFO - 3 editing: What was Rosersberg Palace owned by? -> National Property Board of Sweden  \n",
      " {'pre': {'edit_acc': [0], 'edit_output': ['The Swedish Royal Family.'], 'locality': {}, 'portability': {}, 'yes_no': {}}, 'case_id': 3, 'requested_edit': {'prompt': 'What was Rosersberg Palace owned by?', 'target_new': 'National Property Board of Sweden', 'ground_truth': '<|endoftext|>', 'portability': {}, 'locality': {}, 'yes_no': {}, 'harm_original_text': {}, 'subject': 'Rosersberg Palace'}, 'time': 2.3038580417633057, 'post': {'edit_acc': [1], 'edit_output': ['National Property Board of Sweden.'], 'locality': {}, 'portability': {}, 'yes_no': {}}}\n",
      "08/12/2024 18:47:08 - INFO - hallucination_editor -   3 editing: What was Rosersberg Palace owned by? -> National Property Board of Sweden  \n",
      " {'pre': {'edit_acc': [0], 'edit_output': ['The Swedish Royal Family.'], 'locality': {}, 'portability': {}, 'yes_no': {}}, 'case_id': 3, 'requested_edit': {'prompt': 'What was Rosersberg Palace owned by?', 'target_new': 'National Property Board of Sweden', 'ground_truth': '<|endoftext|>', 'portability': {}, 'locality': {}, 'yes_no': {}, 'harm_original_text': {}, 'subject': 'Rosersberg Palace'}, 'time': 2.3038580417633057, 'post': {'edit_acc': [1], 'edit_output': ['National Property Board of Sweden.'], 'locality': {}, 'portability': {}, 'yes_no': {}}}\n"
     ]
    },
    {
     "name": "stdout",
     "output_type": "stream",
     "text": [
      "===== Question: What was Rosersberg Palace owned by? | Prediction: National Property Board of Sweden. | Label: National Property Board of Sweden | Evaluation: 1 =====\n",
      "Executing ROME algorithm for the update: [Which tourist attraction has part(s) Prayerbook Cross?] -> [ Golden Gate Park]\n",
      "Computing left vector (u)...\n",
      "Selected u projection object Prayerbook Cross\n",
      "Left vector shape: torch.Size([14336])\n",
      "Computing right vector (v)\n",
      "Lookup index found: 10 | Sentence: Which tourist attraction has part(s) Prayerbook Cross? Golden Gate | Token:  Cross\n",
      "Rewrite layer is 5\n",
      "Tying optimization objective to 31\n",
      "Recording initial value of v*\n",
      "loss 4.63 = 4.63 + 0.0 + 0.0 avg prob of [ Golden Gate Park] 0.01001574657857418\n",
      "loss 3.915 = 3.821 + 0.093 + 0.001 avg prob of [ Golden Gate Park] 0.022290781140327454\n",
      "loss 2.643 = 2.488 + 0.155 + 0.001 avg prob of [ Golden Gate Park] 0.08418041467666626\n",
      "loss 1.811 = 1.687 + 0.122 + 0.001 avg prob of [ Golden Gate Park] 0.18612158298492432\n",
      "loss 1.028 = 0.92 + 0.106 + 0.001 avg prob of [ Golden Gate Park] 0.39984676241874695\n",
      "loss 0.631 = 0.532 + 0.098 + 0.001 avg prob of [ Golden Gate Park] 0.5913767218589783\n",
      "loss 0.545 = 0.46 + 0.083 + 0.001 avg prob of [ Golden Gate Park] 0.6353768706321716\n",
      "loss 0.409 = 0.331 + 0.077 + 0.001 avg prob of [ Golden Gate Park] 0.7209824919700623\n",
      "loss 0.238 = 0.162 + 0.075 + 0.001 avg prob of [ Golden Gate Park] 0.851563036441803\n",
      "loss 0.109 = 0.037 + 0.071 + 0.001 avg prob of [ Golden Gate Park] 0.9641962051391602\n",
      "loss 0.08 = 0.012 + 0.067 + 0.001 avg prob of [ Golden Gate Park] 0.9883777499198914\n",
      "loss 0.071 = 0.005 + 0.064 + 0.001 avg prob of [ Golden Gate Park] 0.9947197437286377\n",
      "loss 0.066 = 0.003 + 0.062 + 0.001 avg prob of [ Golden Gate Park] 0.9969705939292908\n",
      "loss 0.064 = 0.002 + 0.061 + 0.001 avg prob of [ Golden Gate Park] 0.9979324340820312\n",
      "loss 0.063 = 0.002 + 0.06 + 0.001 avg prob of [ Golden Gate Park] 0.998382568359375\n",
      "loss 0.062 = 0.001 + 0.059 + 0.001 avg prob of [ Golden Gate Park] 0.998562216758728\n",
      "loss 0.061 = 0.001 + 0.058 + 0.001 avg prob of [ Golden Gate Park] 0.9986495971679688\n",
      "loss 0.06 = 0.001 + 0.057 + 0.001 avg prob of [ Golden Gate Park] 0.9987238049507141\n",
      "loss 0.059 = 0.001 + 0.056 + 0.001 avg prob of [ Golden Gate Park] 0.9987861514091492\n",
      "loss 0.058 = 0.001 + 0.055 + 0.001 avg prob of [ Golden Gate Park] 0.9988287091255188\n",
      "loss 0.057 = 0.001 + 0.054 + 0.001 avg prob of [ Golden Gate Park] 0.9988857507705688\n",
      "loss 0.056 = 0.001 + 0.053 + 0.001 avg prob of [ Golden Gate Park] 0.99895840883255\n",
      "loss 0.055 = 0.001 + 0.052 + 0.001 avg prob of [ Golden Gate Park] 0.9990244507789612\n",
      "loss 0.052 = 0.001 + 0.049 + 0.001 avg prob of [ Golden Gate Park] 0.9990577697753906\n"
     ]
    },
    {
     "name": "stderr",
     "output_type": "stream",
     "text": [
      "2024-08-12 18:47:15,265 - hallucination_editor - INFO - Execution 4 editing took 7.1011552810668945\n",
      "08/12/2024 18:47:15 - INFO - hallucination_editor -   Execution 4 editing took 7.1011552810668945\n"
     ]
    },
    {
     "name": "stdout",
     "output_type": "stream",
     "text": [
      "loss 0.041 = 0.001 + 0.039 + 0.001 avg prob of [ Golden Gate Park] 0.9990379810333252\n",
      "Delta norm: 11.7890625\n",
      "Change in target norm: 2.947265625 to 12.0546875 => 9.109375\n",
      "Division Factor: 3.75390625\n",
      "Right vector norm: 3.140625\n",
      "Right vector shape: torch.Size([4096])\n",
      "Deltas successfully computed for ['model.layers.5.mlp.down_proj.weight']\n",
      "New weights successfully inserted into ['model.layers.5.mlp.down_proj.weight']\n"
     ]
    },
    {
     "name": "stderr",
     "output_type": "stream",
     "text": [
      "2024-08-12 18:47:15,495 - hallucination_editor - INFO - Evaluation took 0.22803831100463867\n",
      "08/12/2024 18:47:15 - INFO - hallucination_editor -   Evaluation took 0.22803831100463867\n",
      "2024-08-12 18:47:15,496 - hallucination_editor - INFO - 4 editing: Which tourist attraction has part(s) Prayerbook Cross? -> Golden Gate Park  \n",
      " {'pre': {'edit_acc': [0], 'edit_output': ['Glastonbury.'], 'locality': {}, 'portability': {}, 'yes_no': {}}, 'case_id': 4, 'requested_edit': {'prompt': 'Which tourist attraction has part(s) Prayerbook Cross?', 'target_new': 'Golden Gate Park', 'ground_truth': '<|endoftext|>', 'portability': {}, 'locality': {}, 'yes_no': {}, 'harm_original_text': {}, 'subject': 'Prayerbook Cross'}, 'time': 7.1011552810668945, 'post': {'edit_acc': [1], 'edit_output': ['Golden Gate Park'], 'locality': {}, 'portability': {}, 'yes_no': {}}}\n",
      "08/12/2024 18:47:15 - INFO - hallucination_editor -   4 editing: Which tourist attraction has part(s) Prayerbook Cross? -> Golden Gate Park  \n",
      " {'pre': {'edit_acc': [0], 'edit_output': ['Glastonbury.'], 'locality': {}, 'portability': {}, 'yes_no': {}}, 'case_id': 4, 'requested_edit': {'prompt': 'Which tourist attraction has part(s) Prayerbook Cross?', 'target_new': 'Golden Gate Park', 'ground_truth': '<|endoftext|>', 'portability': {}, 'locality': {}, 'yes_no': {}, 'harm_original_text': {}, 'subject': 'Prayerbook Cross'}, 'time': 7.1011552810668945, 'post': {'edit_acc': [1], 'edit_output': ['Golden Gate Park'], 'locality': {}, 'portability': {}, 'yes_no': {}}}\n"
     ]
    },
    {
     "name": "stdout",
     "output_type": "stream",
     "text": [
      "===== Question: Which tourist attraction has part(s) Prayerbook Cross? | Prediction: Golden Gate Park | Label: Golden Gate Park | Evaluation: 1 =====\n",
      "Executing ROME algorithm for the update: [What is the significant event of Haw Par Villa?] -> [ construction]\n",
      "Computing left vector (u)...\n",
      "Selected u projection object Haw Par Villa\n",
      "Left vector shape: torch.Size([14336])\n",
      "Computing right vector (v)\n",
      "Lookup index found: 9 | Sentence: What is the significant event of Haw Par Villa? | Token:  Villa\n",
      "Rewrite layer is 5\n",
      "Tying optimization objective to 31\n",
      "Recording initial value of v*\n",
      "loss 11.697 = 11.697 + 0.0 + 0.0 avg prob of [ construction] 1.2132853953517042e-05\n",
      "loss 7.981 = 7.953 + 0.027 + 0.001 avg prob of [ construction] 0.0003833551309071481\n",
      "loss 4.971 = 4.584 + 0.386 + 0.001 avg prob of [ construction] 0.012556048110127449\n",
      "loss 0.709 = 0.241 + 0.467 + 0.001 avg prob of [ construction] 0.7872557044029236\n",
      "loss 0.452 = 0.001 + 0.45 + 0.001 avg prob of [ construction] 0.9986498951911926\n",
      "loss 0.451 = 0.0 + 0.45 + 0.001 avg prob of [ construction] 0.9996879696846008\n",
      "loss 0.451 = 0.0 + 0.449 + 0.001 avg prob of [ construction] 0.9996944665908813\n",
      "loss 0.451 = 0.0 + 0.449 + 0.001 avg prob of [ construction] 0.9996947646141052\n",
      "loss 0.45 = 0.0 + 0.448 + 0.001 avg prob of [ construction] 0.9997221827507019\n",
      "loss 0.465 = 0.0 + 0.464 + 0.001 avg prob of [ construction] 0.9997543096542358\n",
      "loss 0.455 = 0.004 + 0.449 + 0.001 avg prob of [ construction] 0.9957373738288879\n",
      "loss 0.46 = 0.011 + 0.447 + 0.001 avg prob of [ construction] 0.9890078902244568\n",
      "loss 0.456 = 0.009 + 0.446 + 0.001 avg prob of [ construction] 0.991093635559082\n",
      "loss 0.451 = 0.005 + 0.444 + 0.001 avg prob of [ construction] 0.9945898652076721\n",
      "loss 0.444 = 0.003 + 0.44 + 0.001 avg prob of [ construction] 0.9969437122344971\n",
      "loss 0.448 = 0.002 + 0.445 + 0.001 avg prob of [ construction] 0.9982032775878906\n",
      "loss 0.445 = 0.001 + 0.443 + 0.001 avg prob of [ construction] 0.9988662600517273\n",
      "loss 0.447 = 0.001 + 0.444 + 0.001 avg prob of [ construction] 0.9991691708564758\n",
      "loss 0.444 = 0.001 + 0.442 + 0.001 avg prob of [ construction] 0.9993475079536438\n",
      "loss 0.441 = 0.001 + 0.439 + 0.001 avg prob of [ construction] 0.9994466304779053\n",
      "loss 0.443 = 0.001 + 0.441 + 0.001 avg prob of [ construction] 0.9994842410087585\n",
      "loss 0.441 = 0.001 + 0.44 + 0.001 avg prob of [ construction] 0.9994270205497742\n",
      "loss 0.441 = 0.001 + 0.439 + 0.001 avg prob of [ construction] 0.9993259310722351\n",
      "loss 0.438 = 0.001 + 0.436 + 0.001 avg prob of [ construction] 0.9991974830627441\n"
     ]
    },
    {
     "name": "stderr",
     "output_type": "stream",
     "text": [
      "2024-08-12 18:47:21,853 - hallucination_editor - INFO - Execution 5 editing took 6.355358362197876\n",
      "08/12/2024 18:47:21 - INFO - hallucination_editor -   Execution 5 editing took 6.355358362197876\n"
     ]
    },
    {
     "name": "stdout",
     "output_type": "stream",
     "text": [
      "loss 0.439 = 0.001 + 0.437 + 0.001 avg prob of [ construction] 0.9991555213928223\n",
      "Delta norm: 11.640625\n",
      "Change in target norm: 2.91015625 to 12.0078125 => 9.09375\n",
      "Division Factor: 3.7265625\n",
      "Right vector norm: 3.123046875\n",
      "Right vector shape: torch.Size([4096])\n",
      "Deltas successfully computed for ['model.layers.5.mlp.down_proj.weight']\n",
      "New weights successfully inserted into ['model.layers.5.mlp.down_proj.weight']\n"
     ]
    },
    {
     "name": "stderr",
     "output_type": "stream",
     "text": [
      "2024-08-12 18:47:22,029 - hallucination_editor - INFO - Evaluation took 0.1746046543121338\n",
      "08/12/2024 18:47:22 - INFO - hallucination_editor -   Evaluation took 0.1746046543121338\n",
      "2024-08-12 18:47:22,030 - hallucination_editor - INFO - 5 editing: What is the significant event of Haw Par Villa? -> construction  \n",
      " {'pre': {'edit_acc': [0], 'edit_output': ['Battle of Heng San.'], 'locality': {}, 'portability': {}, 'yes_no': {}}, 'case_id': 5, 'requested_edit': {'prompt': 'What is the significant event of Haw Par Villa?', 'target_new': 'construction', 'ground_truth': '<|endoftext|>', 'portability': {}, 'locality': {}, 'yes_no': {}, 'harm_original_text': {}, 'subject': 'Haw Par Villa'}, 'time': 6.355358362197876, 'post': {'edit_acc': [1], 'edit_output': ['Construction.'], 'locality': {}, 'portability': {}, 'yes_no': {}}}\n",
      "08/12/2024 18:47:22 - INFO - hallucination_editor -   5 editing: What is the significant event of Haw Par Villa? -> construction  \n",
      " {'pre': {'edit_acc': [0], 'edit_output': ['Battle of Heng San.'], 'locality': {}, 'portability': {}, 'yes_no': {}}, 'case_id': 5, 'requested_edit': {'prompt': 'What is the significant event of Haw Par Villa?', 'target_new': 'construction', 'ground_truth': '<|endoftext|>', 'portability': {}, 'locality': {}, 'yes_no': {}, 'harm_original_text': {}, 'subject': 'Haw Par Villa'}, 'time': 6.355358362197876, 'post': {'edit_acc': [1], 'edit_output': ['Construction.'], 'locality': {}, 'portability': {}, 'yes_no': {}}}\n"
     ]
    },
    {
     "name": "stdout",
     "output_type": "stream",
     "text": [
      "===== Question: What is the significant event of Haw Par Villa? | Prediction: Construction. | Label: construction | Evaluation: 1 =====\n",
      "Executing ROME algorithm for the update: [Which tourist attraction's creator is Carlos Oswald?] -> [ Christ the Redeemer]\n",
      "Computing left vector (u)...\n",
      "Selected u projection object Carlos Oswald\n",
      "Left vector shape: torch.Size([14336])\n",
      "Computing right vector (v)\n",
      "Lookup index found: 8 | Sentence: Which tourist attraction's creator is Carlos Oswald? Christ the Rede | Token:  Oswald\n",
      "Rewrite layer is 5\n",
      "Tying optimization objective to 31\n",
      "Recording initial value of v*\n",
      "loss 2.593 = 2.593 + 0.0 + 0.0 avg prob of [ Christ the Redeemer] 0.07691992074251175\n",
      "loss 2.267 = 2.231 + 0.035 + 0.001 avg prob of [ Christ the Redeemer] 0.11303675919771194\n",
      "loss 0.637 = 0.57 + 0.066 + 0.001 avg prob of [ Christ the Redeemer] 0.5688989162445068\n",
      "loss 0.22 = 0.18 + 0.039 + 0.001 avg prob of [ Christ the Redeemer] 0.8361231684684753\n",
      "loss 0.1 = 0.061 + 0.038 + 0.001 avg prob of [ Christ the Redeemer] 0.9412416815757751\n",
      "loss 0.063 = 0.03 + 0.031 + 0.001 avg prob of [ Christ the Redeemer] 0.9703949689865112\n"
     ]
    },
    {
     "name": "stderr",
     "output_type": "stream",
     "text": [
      "2024-08-12 18:47:23,900 - hallucination_editor - INFO - Execution 6 editing took 1.8688139915466309\n",
      "08/12/2024 18:47:23 - INFO - hallucination_editor -   Execution 6 editing took 1.8688139915466309\n"
     ]
    },
    {
     "name": "stdout",
     "output_type": "stream",
     "text": [
      "loss 0.046 = 0.018 + 0.026 + 0.001 avg prob of [ Christ the Redeemer] 0.982545793056488\n",
      "Delta norm: 11.203125\n",
      "Change in target norm: 2.80078125 to 11.6328125 => 8.828125\n",
      "Division Factor: 3.505859375\n",
      "Right vector norm: 3.1953125\n",
      "Right vector shape: torch.Size([4096])\n",
      "Deltas successfully computed for ['model.layers.5.mlp.down_proj.weight']\n",
      "New weights successfully inserted into ['model.layers.5.mlp.down_proj.weight']\n"
     ]
    },
    {
     "name": "stderr",
     "output_type": "stream",
     "text": [
      "2024-08-12 18:47:24,241 - hallucination_editor - INFO - Evaluation took 0.33960986137390137\n",
      "08/12/2024 18:47:24 - INFO - hallucination_editor -   Evaluation took 0.33960986137390137\n",
      "2024-08-12 18:47:24,243 - hallucination_editor - INFO - 6 editing: Which tourist attraction's creator is Carlos Oswald? -> Christ the Redeemer  \n",
      " {'pre': {'edit_acc': [0], 'edit_output': [\"I couldn't find any information on a well-known tourist attraction created by Carlos Oswald\"], 'locality': {}, 'portability': {}, 'yes_no': {}}, 'case_id': 6, 'requested_edit': {'prompt': \"Which tourist attraction's creator is Carlos Oswald?\", 'target_new': 'Christ the Redeemer', 'ground_truth': '<|endoftext|>', 'portability': {}, 'locality': {}, 'yes_no': {}, 'harm_original_text': {}, 'subject': 'Carlos Oswald'}, 'time': 1.8688139915466309, 'post': {'edit_acc': [1], 'edit_output': ['Christ the Redeemer.'], 'locality': {}, 'portability': {}, 'yes_no': {}}}\n",
      "08/12/2024 18:47:24 - INFO - hallucination_editor -   6 editing: Which tourist attraction's creator is Carlos Oswald? -> Christ the Redeemer  \n",
      " {'pre': {'edit_acc': [0], 'edit_output': [\"I couldn't find any information on a well-known tourist attraction created by Carlos Oswald\"], 'locality': {}, 'portability': {}, 'yes_no': {}}, 'case_id': 6, 'requested_edit': {'prompt': \"Which tourist attraction's creator is Carlos Oswald?\", 'target_new': 'Christ the Redeemer', 'ground_truth': '<|endoftext|>', 'portability': {}, 'locality': {}, 'yes_no': {}, 'harm_original_text': {}, 'subject': 'Carlos Oswald'}, 'time': 1.8688139915466309, 'post': {'edit_acc': [1], 'edit_output': ['Christ the Redeemer.'], 'locality': {}, 'portability': {}, 'yes_no': {}}}\n"
     ]
    },
    {
     "name": "stdout",
     "output_type": "stream",
     "text": [
      "===== Question: Which tourist attraction's creator is Carlos Oswald? | Prediction: Christ the Redeemer. | Label: Christ the Redeemer | Evaluation: 1 =====\n",
      "Executing ROME algorithm for the update: [Who does Tsarskoye Selo architect?] -> [ Francesco Bartolomeo Rastrelli]\n",
      "Computing left vector (u)...\n",
      "Selected u projection object Tsarskoye Selo\n",
      "Left vector shape: torch.Size([14336])\n",
      "Computing right vector (v)\n",
      "Lookup index found: 9 | Sentence: Who does Tsarskoye Selo architect? Francesco Bartolomeo Rastrell | Token: elo\n",
      "Rewrite layer is 5\n",
      "Tying optimization objective to 31\n",
      "Recording initial value of v*\n",
      "loss 1.076 = 1.076 + 0.0 + 0.0 avg prob of [ Francesco Bartolomeo Rastrelli] 0.34283480048179626\n",
      "loss 1.099 = 0.996 + 0.102 + 0.001 avg prob of [ Francesco Bartolomeo Rastrelli] 0.37212321162223816\n",
      "loss 0.819 = 0.74 + 0.078 + 0.001 avg prob of [ Francesco Bartolomeo Rastrelli] 0.4801211655139923\n",
      "loss 0.388 = 0.318 + 0.068 + 0.001 avg prob of [ Francesco Bartolomeo Rastrelli] 0.7322507500648499\n",
      "loss 0.184 = 0.124 + 0.059 + 0.001 avg prob of [ Francesco Bartolomeo Rastrelli] 0.8851222395896912\n",
      "loss 0.098 = 0.041 + 0.056 + 0.001 avg prob of [ Francesco Bartolomeo Rastrelli] 0.9604618549346924\n",
      "loss 0.069 = 0.012 + 0.055 + 0.001 avg prob of [ Francesco Bartolomeo Rastrelli] 0.98789381980896\n",
      "loss 0.061 = 0.005 + 0.054 + 0.001 avg prob of [ Francesco Bartolomeo Rastrelli] 0.9947987794876099\n",
      "loss 0.057 = 0.003 + 0.052 + 0.001 avg prob of [ Francesco Bartolomeo Rastrelli] 0.9966949224472046\n",
      "loss 0.055 = 0.003 + 0.051 + 0.001 avg prob of [ Francesco Bartolomeo Rastrelli] 0.997405469417572\n",
      "loss 0.053 = 0.002 + 0.05 + 0.001 avg prob of [ Francesco Bartolomeo Rastrelli] 0.9977676868438721\n",
      "loss 0.051 = 0.002 + 0.048 + 0.001 avg prob of [ Francesco Bartolomeo Rastrelli] 0.9979777932167053\n",
      "loss 0.05 = 0.002 + 0.047 + 0.001 avg prob of [ Francesco Bartolomeo Rastrelli] 0.9981122016906738\n"
     ]
    },
    {
     "name": "stderr",
     "output_type": "stream",
     "text": [
      "2024-08-12 18:47:28,744 - hallucination_editor - INFO - Execution 7 editing took 4.499501705169678\n",
      "08/12/2024 18:47:28 - INFO - hallucination_editor -   Execution 7 editing took 4.499501705169678\n"
     ]
    },
    {
     "name": "stdout",
     "output_type": "stream",
     "text": [
      "loss 0.049 = 0.002 + 0.046 + 0.001 avg prob of [ Francesco Bartolomeo Rastrelli] 0.9982280731201172\n",
      "Delta norm: 12.5546875\n",
      "Change in target norm: 3.138671875 to 13.078125 => 9.9375\n",
      "Division Factor: 4.0546875\n",
      "Right vector norm: 3.095703125\n",
      "Right vector shape: torch.Size([4096])\n",
      "Deltas successfully computed for ['model.layers.5.mlp.down_proj.weight']\n",
      "New weights successfully inserted into ['model.layers.5.mlp.down_proj.weight']\n"
     ]
    },
    {
     "name": "stderr",
     "output_type": "stream",
     "text": [
      "2024-08-12 18:47:29,472 - hallucination_editor - INFO - Evaluation took 0.7273633480072021\n",
      "08/12/2024 18:47:29 - INFO - hallucination_editor -   Evaluation took 0.7273633480072021\n",
      "2024-08-12 18:47:29,474 - hallucination_editor - INFO - 7 editing: Who does Tsarskoye Selo architect? -> Francesco Bartolomeo Rastrelli  \n",
      " {'pre': {'edit_acc': [0], 'edit_output': ['Vasily Petrovich Stasov.'], 'locality': {}, 'portability': {}, 'yes_no': {}}, 'case_id': 7, 'requested_edit': {'prompt': 'Who does Tsarskoye Selo architect?', 'target_new': 'Francesco Bartolomeo Rastrelli', 'ground_truth': '<|endoftext|>', 'portability': {}, 'locality': {}, 'yes_no': {}, 'harm_original_text': {}, 'subject': 'Tsarskoye Selo'}, 'time': 4.499501705169678, 'post': {'edit_acc': [1], 'edit_output': ['Francesco Bartolomeo Rastrelli.'], 'locality': {}, 'portability': {}, 'yes_no': {}}}\n",
      "08/12/2024 18:47:29 - INFO - hallucination_editor -   7 editing: Who does Tsarskoye Selo architect? -> Francesco Bartolomeo Rastrelli  \n",
      " {'pre': {'edit_acc': [0], 'edit_output': ['Vasily Petrovich Stasov.'], 'locality': {}, 'portability': {}, 'yes_no': {}}, 'case_id': 7, 'requested_edit': {'prompt': 'Who does Tsarskoye Selo architect?', 'target_new': 'Francesco Bartolomeo Rastrelli', 'ground_truth': '<|endoftext|>', 'portability': {}, 'locality': {}, 'yes_no': {}, 'harm_original_text': {}, 'subject': 'Tsarskoye Selo'}, 'time': 4.499501705169678, 'post': {'edit_acc': [1], 'edit_output': ['Francesco Bartolomeo Rastrelli.'], 'locality': {}, 'portability': {}, 'yes_no': {}}}\n"
     ]
    },
    {
     "name": "stdout",
     "output_type": "stream",
     "text": [
      "===== Question: Who does Tsarskoye Selo architect? | Prediction: Francesco Bartolomeo Rastrelli. | Label: Francesco Bartolomeo Rastrelli | Evaluation: 1 =====\n",
      "Executing ROME algorithm for the update: [Who architect Sedefkar Mehmed Agha?] -> [ Sultan Ahmed Mosque]\n",
      "Computing left vector (u)...\n",
      "Selected u projection object Sedefkar Mehmed Agha\n",
      "Left vector shape: torch.Size([14336])\n",
      "Computing right vector (v)\n",
      "Lookup index found: 10 | Sentence: Who architect Sedefkar Mehmed Agha? Sultan Ahmed | Token: a\n",
      "Rewrite layer is 5\n",
      "Tying optimization objective to 31\n",
      "Recording initial value of v*\n",
      "loss 2.959 = 2.959 + 0.0 + 0.0 avg prob of [ Sultan Ahmed Mosque] 0.05404365807771683\n",
      "loss 2.83 = 2.716 + 0.113 + 0.001 avg prob of [ Sultan Ahmed Mosque] 0.06859521567821503\n",
      "loss 1.145 = 1.088 + 0.056 + 0.001 avg prob of [ Sultan Ahmed Mosque] 0.3414188027381897\n",
      "loss 0.519 = 0.218 + 0.299 + 0.001 avg prob of [ Sultan Ahmed Mosque] 0.8071750402450562\n",
      "loss 0.64 = 0.568 + 0.071 + 0.001 avg prob of [ Sultan Ahmed Mosque] 0.5759975910186768\n",
      "loss 0.159 = 0.085 + 0.072 + 0.001 avg prob of [ Sultan Ahmed Mosque] 0.9183210730552673\n",
      "loss 0.112 = 0.038 + 0.072 + 0.001 avg prob of [ Sultan Ahmed Mosque] 0.9623118042945862\n",
      "loss 0.085 = 0.011 + 0.072 + 0.001 avg prob of [ Sultan Ahmed Mosque] 0.9886640310287476\n",
      "loss 0.078 = 0.005 + 0.072 + 0.001 avg prob of [ Sultan Ahmed Mosque] 0.9949175715446472\n",
      "loss 0.076 = 0.003 + 0.072 + 0.001 avg prob of [ Sultan Ahmed Mosque] 0.9968339800834656\n",
      "loss 0.076 = 0.002 + 0.072 + 0.001 avg prob of [ Sultan Ahmed Mosque] 0.997658908367157\n",
      "loss 0.075 = 0.002 + 0.072 + 0.001 avg prob of [ Sultan Ahmed Mosque] 0.9981291890144348\n",
      "loss 0.075 = 0.002 + 0.072 + 0.001 avg prob of [ Sultan Ahmed Mosque] 0.998448371887207\n",
      "loss 0.075 = 0.001 + 0.072 + 0.001 avg prob of [ Sultan Ahmed Mosque] 0.9986845850944519\n",
      "loss 0.074 = 0.001 + 0.072 + 0.001 avg prob of [ Sultan Ahmed Mosque] 0.998870313167572\n",
      "loss 0.074 = 0.001 + 0.072 + 0.001 avg prob of [ Sultan Ahmed Mosque] 0.9990218281745911\n",
      "loss 0.074 = 0.001 + 0.072 + 0.001 avg prob of [ Sultan Ahmed Mosque] 0.9991428256034851\n",
      "loss 0.074 = 0.001 + 0.072 + 0.001 avg prob of [ Sultan Ahmed Mosque] 0.999243974685669\n",
      "loss 0.074 = 0.001 + 0.072 + 0.001 avg prob of [ Sultan Ahmed Mosque] 0.999332070350647\n",
      "loss 0.074 = 0.001 + 0.072 + 0.001 avg prob of [ Sultan Ahmed Mosque] 0.9994056820869446\n",
      "loss 0.074 = 0.001 + 0.072 + 0.001 avg prob of [ Sultan Ahmed Mosque] 0.9994688630104065\n",
      "loss 0.074 = 0.0 + 0.072 + 0.001 avg prob of [ Sultan Ahmed Mosque] 0.9995229840278625\n",
      "loss 0.074 = 0.0 + 0.072 + 0.001 avg prob of [ Sultan Ahmed Mosque] 0.9995728731155396\n",
      "loss 0.074 = 0.0 + 0.072 + 0.001 avg prob of [ Sultan Ahmed Mosque] 0.9996150732040405\n"
     ]
    },
    {
     "name": "stderr",
     "output_type": "stream",
     "text": [
      "2024-08-12 18:47:36,511 - hallucination_editor - INFO - Execution 8 editing took 7.036087512969971\n",
      "08/12/2024 18:47:36 - INFO - hallucination_editor -   Execution 8 editing took 7.036087512969971\n"
     ]
    },
    {
     "name": "stdout",
     "output_type": "stream",
     "text": [
      "loss 0.074 = 0.0 + 0.072 + 0.001 avg prob of [ Sultan Ahmed Mosque] 0.9996521472930908\n",
      "Delta norm: 11.6328125\n",
      "Change in target norm: 2.908203125 to 12.0234375 => 9.1171875\n",
      "Division Factor: 3.7890625\n",
      "Right vector norm: 3.0703125\n",
      "Right vector shape: torch.Size([4096])\n",
      "Deltas successfully computed for ['model.layers.5.mlp.down_proj.weight']\n",
      "New weights successfully inserted into ['model.layers.5.mlp.down_proj.weight']\n"
     ]
    },
    {
     "name": "stderr",
     "output_type": "stream",
     "text": [
      "2024-08-12 18:47:37,216 - hallucination_editor - INFO - Evaluation took 0.7027106285095215\n",
      "08/12/2024 18:47:37 - INFO - hallucination_editor -   Evaluation took 0.7027106285095215\n",
      "2024-08-12 18:47:37,217 - hallucination_editor - INFO - 8 editing: Who architect Sedefkar Mehmed Agha? -> Sultan Ahmed Mosque  \n",
      " {'pre': {'edit_acc': [0], 'edit_output': ['Sultan Ahmed III.'], 'locality': {}, 'portability': {}, 'yes_no': {}}, 'case_id': 8, 'requested_edit': {'prompt': 'Who architect Sedefkar Mehmed Agha?', 'target_new': 'Sultan Ahmed Mosque', 'ground_truth': '<|endoftext|>', 'portability': {}, 'locality': {}, 'yes_no': {}, 'harm_original_text': {}, 'subject': 'Sedefkar Mehmed Agha'}, 'time': 7.036087512969971, 'post': {'edit_acc': [1], 'edit_output': ['Sedefkâr Mehmed Agha.'], 'locality': {}, 'portability': {}, 'yes_no': {}}}\n",
      "08/12/2024 18:47:37 - INFO - hallucination_editor -   8 editing: Who architect Sedefkar Mehmed Agha? -> Sultan Ahmed Mosque  \n",
      " {'pre': {'edit_acc': [0], 'edit_output': ['Sultan Ahmed III.'], 'locality': {}, 'portability': {}, 'yes_no': {}}, 'case_id': 8, 'requested_edit': {'prompt': 'Who architect Sedefkar Mehmed Agha?', 'target_new': 'Sultan Ahmed Mosque', 'ground_truth': '<|endoftext|>', 'portability': {}, 'locality': {}, 'yes_no': {}, 'harm_original_text': {}, 'subject': 'Sedefkar Mehmed Agha'}, 'time': 7.036087512969971, 'post': {'edit_acc': [1], 'edit_output': ['Sedefkâr Mehmed Agha.'], 'locality': {}, 'portability': {}, 'yes_no': {}}}\n"
     ]
    },
    {
     "name": "stdout",
     "output_type": "stream",
     "text": [
      "===== Question: Who architect Sedefkar Mehmed Agha? | Prediction: Sedefkâr Mehmed Agha. | Label: Sultan Ahmed Mosque | Evaluation: 1 =====\n",
      "Executing ROME algorithm for the update: [Which tourist attraction architect Alfred Parland?] -> [ Church of the Savior on Blood]\n",
      "Computing left vector (u)...\n",
      "Selected u projection object Alfred Parland\n",
      "Left vector shape: torch.Size([14336])\n",
      "Computing right vector (v)\n",
      "Lookup index found: 7 | Sentence: Which tourist attraction architect Alfred Parland? Church of the Savior on | Token: land\n",
      "Rewrite layer is 5\n",
      "Tying optimization objective to 31\n",
      "Recording initial value of v*\n",
      "loss 2.784 = 2.784 + 0.0 + 0.0 avg prob of [ Church of the Savior on Blood] 0.06308591365814209\n",
      "loss 2.423 = 2.384 + 0.037 + 0.001 avg prob of [ Church of the Savior on Blood] 0.09322870522737503\n",
      "loss 2.003 = 1.969 + 0.033 + 0.001 avg prob of [ Church of the Savior on Blood] 0.14104017615318298\n",
      "loss 1.406 = 1.216 + 0.188 + 0.001 avg prob of [ Church of the Savior on Blood] 0.297348290681839\n",
      "loss 0.744 = 0.708 + 0.035 + 0.001 avg prob of [ Church of the Savior on Blood] 0.4948960840702057\n",
      "loss 0.282 = 0.109 + 0.173 + 0.001 avg prob of [ Church of the Savior on Blood] 0.9020262360572815\n",
      "loss 0.546 = 0.179 + 0.366 + 0.001 avg prob of [ Church of the Savior on Blood] 0.8381565809249878\n",
      "loss 0.987 = 0.829 + 0.156 + 0.001 avg prob of [ Church of the Savior on Blood] 0.4430498480796814\n",
      "loss 0.561 = 0.48 + 0.08 + 0.001 avg prob of [ Church of the Savior on Blood] 0.6206725835800171\n",
      "loss 0.235 = 0.146 + 0.088 + 0.001 avg prob of [ Church of the Savior on Blood] 0.8647540807723999\n",
      "loss 0.128 = 0.038 + 0.089 + 0.001 avg prob of [ Church of the Savior on Blood] 0.9629549384117126\n",
      "loss 0.108 = 0.018 + 0.088 + 0.001 avg prob of [ Church of the Savior on Blood] 0.9817817211151123\n",
      "loss 0.1 = 0.01 + 0.089 + 0.001 avg prob of [ Church of the Savior on Blood] 0.9901326894760132\n",
      "loss 0.096 = 0.006 + 0.089 + 0.001 avg prob of [ Church of the Savior on Blood] 0.9937618970870972\n",
      "loss 0.095 = 0.004 + 0.089 + 0.001 avg prob of [ Church of the Savior on Blood] 0.9955928921699524\n",
      "loss 0.094 = 0.003 + 0.089 + 0.001 avg prob of [ Church of the Savior on Blood] 0.9966381788253784\n",
      "loss 0.093 = 0.003 + 0.089 + 0.001 avg prob of [ Church of the Savior on Blood] 0.9973337054252625\n",
      "loss 0.092 = 0.002 + 0.089 + 0.001 avg prob of [ Church of the Savior on Blood] 0.9978311657905579\n",
      "loss 0.092 = 0.002 + 0.089 + 0.001 avg prob of [ Church of the Savior on Blood] 0.9981691241264343\n",
      "loss 0.092 = 0.002 + 0.089 + 0.001 avg prob of [ Church of the Savior on Blood] 0.99845951795578\n",
      "loss 0.091 = 0.001 + 0.088 + 0.001 avg prob of [ Church of the Savior on Blood] 0.9986513257026672\n",
      "loss 0.091 = 0.001 + 0.088 + 0.001 avg prob of [ Church of the Savior on Blood] 0.9988113045692444\n",
      "loss 0.09 = 0.001 + 0.087 + 0.001 avg prob of [ Church of the Savior on Blood] 0.9989355206489563\n",
      "loss 0.088 = 0.001 + 0.086 + 0.001 avg prob of [ Church of the Savior on Blood] 0.9990343451499939\n"
     ]
    },
    {
     "name": "stderr",
     "output_type": "stream",
     "text": [
      "2024-08-12 18:47:44,276 - hallucination_editor - INFO - Execution 9 editing took 7.057650089263916\n",
      "08/12/2024 18:47:44 - INFO - hallucination_editor -   Execution 9 editing took 7.057650089263916\n"
     ]
    },
    {
     "name": "stdout",
     "output_type": "stream",
     "text": [
      "loss 0.087 = 0.001 + 0.085 + 0.001 avg prob of [ Church of the Savior on Blood] 0.9991124868392944\n",
      "Delta norm: 11.890625\n",
      "Change in target norm: 2.97265625 to 12.25 => 9.28125\n",
      "Division Factor: 3.755859375\n",
      "Right vector norm: 3.166015625\n",
      "Right vector shape: torch.Size([4096])\n",
      "Deltas successfully computed for ['model.layers.5.mlp.down_proj.weight']\n",
      "New weights successfully inserted into ['model.layers.5.mlp.down_proj.weight']\n"
     ]
    },
    {
     "name": "stderr",
     "output_type": "stream",
     "text": [
      "2024-08-12 18:47:44,729 - hallucination_editor - INFO - Evaluation took 0.4512054920196533\n",
      "08/12/2024 18:47:44 - INFO - hallucination_editor -   Evaluation took 0.4512054920196533\n",
      "2024-08-12 18:47:44,730 - hallucination_editor - INFO - 9 editing: Which tourist attraction architect Alfred Parland? -> Church of the Savior on Blood  \n",
      " {'pre': {'edit_acc': [0], 'edit_output': ['Senate Square.'], 'locality': {}, 'portability': {}, 'yes_no': {}}, 'case_id': 9, 'requested_edit': {'prompt': 'Which tourist attraction architect Alfred Parland?', 'target_new': 'Church of the Savior on Blood', 'ground_truth': '<|endoftext|>', 'portability': {}, 'locality': {}, 'yes_no': {}, 'harm_original_text': {}, 'subject': 'Alfred Parland'}, 'time': 7.057650089263916, 'post': {'edit_acc': [1], 'edit_output': ['Church of the Savior on Blood.'], 'locality': {}, 'portability': {}, 'yes_no': {}}}\n",
      "08/12/2024 18:47:44 - INFO - hallucination_editor -   9 editing: Which tourist attraction architect Alfred Parland? -> Church of the Savior on Blood  \n",
      " {'pre': {'edit_acc': [0], 'edit_output': ['Senate Square.'], 'locality': {}, 'portability': {}, 'yes_no': {}}, 'case_id': 9, 'requested_edit': {'prompt': 'Which tourist attraction architect Alfred Parland?', 'target_new': 'Church of the Savior on Blood', 'ground_truth': '<|endoftext|>', 'portability': {}, 'locality': {}, 'yes_no': {}, 'harm_original_text': {}, 'subject': 'Alfred Parland'}, 'time': 7.057650089263916, 'post': {'edit_acc': [1], 'edit_output': ['Church of the Savior on Blood.'], 'locality': {}, 'portability': {}, 'yes_no': {}}}\n"
     ]
    },
    {
     "name": "stdout",
     "output_type": "stream",
     "text": [
      "===== Question: Which tourist attraction architect Alfred Parland? | Prediction: Church of the Savior on Blood. | Label: Church of the Savior on Blood | Evaluation: 1 =====\n",
      "Executing ROME algorithm for the update: [What is the architectural style of Hundertwasserhaus?] -> [ expressionist architecture]\n",
      "Computing left vector (u)...\n",
      "Selected u projection object Hundertwasserhaus\n",
      "Left vector shape: torch.Size([14336])\n",
      "Computing right vector (v)\n",
      "Lookup index found: 11 | Sentence: What is the architectural style of Hundertwasserhaus? expressionist | Token: haus\n",
      "Rewrite layer is 5\n",
      "Tying optimization objective to 31\n",
      "Recording initial value of v*\n",
      "loss 5.243 = 5.243 + 0.0 + 0.0 avg prob of [ expressionist architecture] 0.006314517464488745\n",
      "loss 3.671 = 3.615 + 0.055 + 0.001 avg prob of [ expressionist architecture] 0.028238913044333458\n",
      "loss 2.16 = 2.124 + 0.034 + 0.001 avg prob of [ expressionist architecture] 0.12161261588335037\n",
      "loss 1.119 = 1.076 + 0.041 + 0.001 avg prob of [ expressionist architecture] 0.34190696477890015\n",
      "loss 0.355 = 0.269 + 0.085 + 0.001 avg prob of [ expressionist architecture] 0.7690086364746094\n",
      "loss 0.156 = 0.076 + 0.079 + 0.001 avg prob of [ expressionist architecture] 0.9272720813751221\n",
      "loss 0.111 = 0.004 + 0.105 + 0.001 avg prob of [ expressionist architecture] 0.9957758784294128\n",
      "loss 0.135 = 0.003 + 0.13 + 0.001 avg prob of [ expressionist architecture] 0.9969205856323242\n",
      "loss 0.323 = 0.228 + 0.093 + 0.001 avg prob of [ expressionist architecture] 0.8131754994392395\n",
      "loss 0.386 = 0.202 + 0.183 + 0.001 avg prob of [ expressionist architecture] 0.8205599188804626\n",
      "loss 0.225 = 0.176 + 0.047 + 0.001 avg prob of [ expressionist architecture] 0.8406760692596436\n",
      "loss 0.075 = 0.034 + 0.039 + 0.001 avg prob of [ expressionist architecture] 0.9665433168411255\n"
     ]
    },
    {
     "name": "stderr",
     "output_type": "stream",
     "text": [
      "2024-08-12 18:47:48,516 - hallucination_editor - INFO - Execution 10 editing took 3.784519910812378\n",
      "08/12/2024 18:47:48 - INFO - hallucination_editor -   Execution 10 editing took 3.784519910812378\n"
     ]
    },
    {
     "name": "stdout",
     "output_type": "stream",
     "text": [
      "loss 0.05 = 0.015 + 0.033 + 0.001 avg prob of [ expressionist architecture] 0.9849826693534851\n",
      "Delta norm: 11.7421875\n",
      "Change in target norm: 2.935546875 to 12.03125 => 9.09375\n",
      "Division Factor: 3.7734375\n",
      "Right vector norm: 3.111328125\n",
      "Right vector shape: torch.Size([4096])\n",
      "Deltas successfully computed for ['model.layers.5.mlp.down_proj.weight']\n",
      "New weights successfully inserted into ['model.layers.5.mlp.down_proj.weight']\n"
     ]
    },
    {
     "name": "stderr",
     "output_type": "stream",
     "text": [
      "2024-08-12 18:47:48,821 - hallucination_editor - INFO - Evaluation took 0.3032979965209961\n",
      "08/12/2024 18:47:48 - INFO - hallucination_editor -   Evaluation took 0.3032979965209961\n",
      "2024-08-12 18:47:48,822 - hallucination_editor - INFO - 10 editing: What is the architectural style of Hundertwasserhaus? -> expressionist architecture  \n",
      " {'pre': {'edit_acc': [0], 'edit_output': ['Biomorphism.'], 'locality': {}, 'portability': {}, 'yes_no': {}}, 'case_id': 10, 'requested_edit': {'prompt': 'What is the architectural style of Hundertwasserhaus?', 'target_new': 'expressionist architecture', 'ground_truth': '<|endoftext|>', 'portability': {}, 'locality': {}, 'yes_no': {}, 'harm_original_text': {}, 'subject': 'Hundertwasserhaus'}, 'time': 3.784519910812378, 'post': {'edit_acc': [1], 'edit_output': ['Expressionist.'], 'locality': {}, 'portability': {}, 'yes_no': {}}}\n",
      "08/12/2024 18:47:48 - INFO - hallucination_editor -   10 editing: What is the architectural style of Hundertwasserhaus? -> expressionist architecture  \n",
      " {'pre': {'edit_acc': [0], 'edit_output': ['Biomorphism.'], 'locality': {}, 'portability': {}, 'yes_no': {}}, 'case_id': 10, 'requested_edit': {'prompt': 'What is the architectural style of Hundertwasserhaus?', 'target_new': 'expressionist architecture', 'ground_truth': '<|endoftext|>', 'portability': {}, 'locality': {}, 'yes_no': {}, 'harm_original_text': {}, 'subject': 'Hundertwasserhaus'}, 'time': 3.784519910812378, 'post': {'edit_acc': [1], 'edit_output': ['Expressionist.'], 'locality': {}, 'portability': {}, 'yes_no': {}}}\n"
     ]
    },
    {
     "name": "stdout",
     "output_type": "stream",
     "text": [
      "===== Question: What is the architectural style of Hundertwasserhaus? | Prediction: Expressionist. | Label: expressionist architecture | Evaluation: 1 =====\n",
      "Executing ROME algorithm for the update: [What is the located in the administrative territorial entity of Science Centre Singapore?] -> [ Jurong East]\n",
      "Computing left vector (u)...\n",
      "Selected u projection object Science Centre Singapore\n",
      "Left vector shape: torch.Size([14336])\n",
      "Computing right vector (v)\n",
      "Lookup index found: 13 | Sentence: What is the located in the administrative territorial entity of Science Centre Singapore? Jurong | Token:  Singapore\n",
      "Rewrite layer is 5\n",
      "Tying optimization objective to 31\n",
      "Recording initial value of v*\n",
      "loss 3.065 = 3.065 + 0.0 + 0.0 avg prob of [ Jurong East] 0.047714829444885254\n",
      "loss 2.129 = 2.076 + 0.052 + 0.002 avg prob of [ Jurong East] 0.13094280660152435\n",
      "loss 1.253 = 1.166 + 0.085 + 0.002 avg prob of [ Jurong East] 0.3216894865036011\n",
      "loss 0.787 = 0.663 + 0.122 + 0.002 avg prob of [ Jurong East] 0.52377849817276\n",
      "loss 0.256 = 0.244 + 0.011 + 0.002 avg prob of [ Jurong East] 0.7928555011749268\n",
      "loss 0.062 = 0.05 + 0.011 + 0.002 avg prob of [ Jurong East] 0.9515621066093445\n"
     ]
    },
    {
     "name": "stderr",
     "output_type": "stream",
     "text": [
      "2024-08-12 18:47:50,926 - hallucination_editor - INFO - Execution 11 editing took 2.102720022201538\n",
      "08/12/2024 18:47:50 - INFO - hallucination_editor -   Execution 11 editing took 2.102720022201538\n"
     ]
    },
    {
     "name": "stdout",
     "output_type": "stream",
     "text": [
      "loss 0.034 = 0.022 + 0.01 + 0.002 avg prob of [ Jurong East] 0.978002667427063\n",
      "Delta norm: 9.7265625\n",
      "Change in target norm: 2.431640625 to 10.15625 => 7.7265625\n",
      "Division Factor: 3.091796875\n",
      "Right vector norm: 3.146484375\n",
      "Right vector shape: torch.Size([4096])\n",
      "Deltas successfully computed for ['model.layers.5.mlp.down_proj.weight']\n",
      "New weights successfully inserted into ['model.layers.5.mlp.down_proj.weight']\n"
     ]
    },
    {
     "name": "stderr",
     "output_type": "stream",
     "text": [
      "2024-08-12 18:47:51,213 - hallucination_editor - INFO - Evaluation took 0.28508543968200684\n",
      "08/12/2024 18:47:51 - INFO - hallucination_editor -   Evaluation took 0.28508543968200684\n",
      "2024-08-12 18:47:51,214 - hallucination_editor - INFO - 11 editing: What is the located in the administrative territorial entity of Science Centre Singapore? -> Jurong East  \n",
      " {'pre': {'edit_acc': [0], 'edit_output': ['Biopolis.'], 'locality': {}, 'portability': {}, 'yes_no': {}}, 'case_id': 11, 'requested_edit': {'prompt': 'What is the located in the administrative territorial entity of Science Centre Singapore?', 'target_new': 'Jurong East', 'ground_truth': '<|endoftext|>', 'portability': {}, 'locality': {}, 'yes_no': {}, 'harm_original_text': {}, 'subject': 'Science Centre Singapore'}, 'time': 2.102720022201538, 'post': {'edit_acc': [1], 'edit_output': ['Jurong East.'], 'locality': {}, 'portability': {}, 'yes_no': {}}}\n",
      "08/12/2024 18:47:51 - INFO - hallucination_editor -   11 editing: What is the located in the administrative territorial entity of Science Centre Singapore? -> Jurong East  \n",
      " {'pre': {'edit_acc': [0], 'edit_output': ['Biopolis.'], 'locality': {}, 'portability': {}, 'yes_no': {}}, 'case_id': 11, 'requested_edit': {'prompt': 'What is the located in the administrative territorial entity of Science Centre Singapore?', 'target_new': 'Jurong East', 'ground_truth': '<|endoftext|>', 'portability': {}, 'locality': {}, 'yes_no': {}, 'harm_original_text': {}, 'subject': 'Science Centre Singapore'}, 'time': 2.102720022201538, 'post': {'edit_acc': [1], 'edit_output': ['Jurong East.'], 'locality': {}, 'portability': {}, 'yes_no': {}}}\n"
     ]
    },
    {
     "name": "stdout",
     "output_type": "stream",
     "text": [
      "===== Question: What is the located in the administrative territorial entity of Science Centre Singapore? | Prediction: Jurong East. | Label: Jurong East | Evaluation: 1 =====\n",
      "Executing ROME algorithm for the update: [What is the architectural style of Grand Kremlin Palace?] -> [ Byzantine Revival architecture]\n",
      "Computing left vector (u)...\n",
      "Selected u projection object Grand Kremlin Palace\n",
      "Left vector shape: torch.Size([14336])\n",
      "Computing right vector (v)\n",
      "Lookup index found: 9 | Sentence: What is the architectural style of Grand Kremlin Palace? Byzantine Revival | Token:  Palace\n",
      "Rewrite layer is 5\n",
      "Tying optimization objective to 31\n",
      "Recording initial value of v*\n",
      "loss 1.978 = 1.978 + 0.0 + 0.0 avg prob of [ Byzantine Revival architecture] 0.13957977294921875\n",
      "loss 0.967 = 0.953 + 0.012 + 0.001 avg prob of [ Byzantine Revival architecture] 0.3873499631881714\n",
      "loss 0.363 = 0.312 + 0.049 + 0.001 avg prob of [ Byzantine Revival architecture] 0.7335500121116638\n",
      "loss 0.364 = 0.32 + 0.042 + 0.001 avg prob of [ Byzantine Revival architecture] 0.7336697578430176\n",
      "loss 0.108 = 0.063 + 0.044 + 0.001 avg prob of [ Byzantine Revival architecture] 0.9388351440429688\n",
      "loss 0.083 = 0.059 + 0.023 + 0.001 avg prob of [ Byzantine Revival architecture] 0.9427281618118286\n"
     ]
    },
    {
     "name": "stderr",
     "output_type": "stream",
     "text": [
      "2024-08-12 18:47:53,276 - hallucination_editor - INFO - Execution 12 editing took 2.0603771209716797\n",
      "08/12/2024 18:47:53 - INFO - hallucination_editor -   Execution 12 editing took 2.0603771209716797\n"
     ]
    },
    {
     "name": "stdout",
     "output_type": "stream",
     "text": [
      "loss 0.047 = 0.01 + 0.035 + 0.001 avg prob of [ Byzantine Revival architecture] 0.9899947643280029\n",
      "Delta norm: 11.625\n",
      "Change in target norm: 2.90625 to 12.1171875 => 9.2109375\n",
      "Division Factor: 3.70703125\n",
      "Right vector norm: 3.13671875\n",
      "Right vector shape: torch.Size([4096])\n",
      "Deltas successfully computed for ['model.layers.5.mlp.down_proj.weight']\n",
      "New weights successfully inserted into ['model.layers.5.mlp.down_proj.weight']\n"
     ]
    },
    {
     "name": "stderr",
     "output_type": "stream",
     "text": [
      "2024-08-12 18:47:53,745 - hallucination_editor - INFO - Evaluation took 0.4678668975830078\n",
      "08/12/2024 18:47:53 - INFO - hallucination_editor -   Evaluation took 0.4678668975830078\n",
      "2024-08-12 18:47:53,747 - hallucination_editor - INFO - 12 editing: What is the architectural style of Grand Kremlin Palace? -> Byzantine Revival architecture  \n",
      " {'pre': {'edit_acc': [0], 'edit_output': ['Neoclassicism.'], 'locality': {}, 'portability': {}, 'yes_no': {}}, 'case_id': 12, 'requested_edit': {'prompt': 'What is the architectural style of Grand Kremlin Palace?', 'target_new': 'Byzantine Revival architecture', 'ground_truth': '<|endoftext|>', 'portability': {}, 'locality': {}, 'yes_no': {}, 'harm_original_text': {}, 'subject': 'Grand Kremlin Palace'}, 'time': 2.0603771209716797, 'post': {'edit_acc': [1], 'edit_output': ['Byzantine Revival.'], 'locality': {}, 'portability': {}, 'yes_no': {}}}\n",
      "08/12/2024 18:47:53 - INFO - hallucination_editor -   12 editing: What is the architectural style of Grand Kremlin Palace? -> Byzantine Revival architecture  \n",
      " {'pre': {'edit_acc': [0], 'edit_output': ['Neoclassicism.'], 'locality': {}, 'portability': {}, 'yes_no': {}}, 'case_id': 12, 'requested_edit': {'prompt': 'What is the architectural style of Grand Kremlin Palace?', 'target_new': 'Byzantine Revival architecture', 'ground_truth': '<|endoftext|>', 'portability': {}, 'locality': {}, 'yes_no': {}, 'harm_original_text': {}, 'subject': 'Grand Kremlin Palace'}, 'time': 2.0603771209716797, 'post': {'edit_acc': [1], 'edit_output': ['Byzantine Revival.'], 'locality': {}, 'portability': {}, 'yes_no': {}}}\n"
     ]
    },
    {
     "name": "stdout",
     "output_type": "stream",
     "text": [
      "===== Question: What is the architectural style of Grand Kremlin Palace? | Prediction: Byzantine Revival. | Label: Byzantine Revival architecture | Evaluation: 1 =====\n",
      "Executing ROME algorithm for the update: [Who was Grand Kremlin Palace commissioned by?] -> [ Nicholas I of Russia]\n",
      "Computing left vector (u)...\n",
      "Selected u projection object Grand Kremlin Palace\n",
      "Left vector shape: torch.Size([14336])\n",
      "Computing right vector (v)\n",
      "Lookup index found: 5 | Sentence: Who was Grand Kremlin Palace commissioned by? Nicholas I of | Token:  Palace\n",
      "Rewrite layer is 5\n",
      "Tying optimization objective to 31\n",
      "Recording initial value of v*\n",
      "loss 2.076 = 2.076 + 0.0 + 0.0 avg prob of [ Nicholas I of Russia] 0.12979824841022491\n",
      "loss 1.348 = 1.263 + 0.083 + 0.001 avg prob of [ Nicholas I of Russia] 0.2914779484272003\n",
      "loss 0.884 = 0.866 + 0.017 + 0.001 avg prob of [ Nicholas I of Russia] 0.42470628023147583\n",
      "loss 0.722 = 0.683 + 0.038 + 0.001 avg prob of [ Nicholas I of Russia] 0.508711040019989\n",
      "loss 0.22 = 0.19 + 0.029 + 0.001 avg prob of [ Nicholas I of Russia] 0.8284249901771545\n",
      "loss 0.093 = 0.042 + 0.049 + 0.001 avg prob of [ Nicholas I of Russia] 0.9584516286849976\n",
      "loss 0.07 = 0.048 + 0.02 + 0.001 avg prob of [ Nicholas I of Russia] 0.953402578830719\n"
     ]
    },
    {
     "name": "stderr",
     "output_type": "stream",
     "text": [
      "2024-08-12 18:47:55,865 - hallucination_editor - INFO - Execution 13 editing took 2.1169486045837402\n",
      "08/12/2024 18:47:55 - INFO - hallucination_editor -   Execution 13 editing took 2.1169486045837402\n"
     ]
    },
    {
     "name": "stdout",
     "output_type": "stream",
     "text": [
      "loss 0.042 = 0.011 + 0.029 + 0.001 avg prob of [ Nicholas I of Russia] 0.988897979259491\n",
      "Delta norm: 11.5390625\n",
      "Change in target norm: 2.884765625 to 11.90625 => 9.0234375\n",
      "Division Factor: 3.638671875\n",
      "Right vector norm: 3.171875\n",
      "Right vector shape: torch.Size([4096])\n",
      "Deltas successfully computed for ['model.layers.5.mlp.down_proj.weight']\n",
      "New weights successfully inserted into ['model.layers.5.mlp.down_proj.weight']\n"
     ]
    },
    {
     "name": "stderr",
     "output_type": "stream",
     "text": [
      "2024-08-12 18:47:56,260 - hallucination_editor - INFO - Evaluation took 0.39324402809143066\n",
      "08/12/2024 18:47:56 - INFO - hallucination_editor -   Evaluation took 0.39324402809143066\n",
      "2024-08-12 18:47:56,261 - hallucination_editor - INFO - 13 editing: Who was Grand Kremlin Palace commissioned by? -> Nicholas I of Russia  \n",
      " {'pre': {'edit_acc': [0], 'edit_output': ['Peter the Great.'], 'locality': {}, 'portability': {}, 'yes_no': {}}, 'case_id': 13, 'requested_edit': {'prompt': 'Who was Grand Kremlin Palace commissioned by?', 'target_new': 'Nicholas I of Russia', 'ground_truth': '<|endoftext|>', 'portability': {}, 'locality': {}, 'yes_no': {}, 'harm_original_text': {}, 'subject': 'Grand Kremlin Palace'}, 'time': 2.1169486045837402, 'post': {'edit_acc': [1], 'edit_output': ['Nicholas I of Russia.'], 'locality': {}, 'portability': {}, 'yes_no': {}}}\n",
      "08/12/2024 18:47:56 - INFO - hallucination_editor -   13 editing: Who was Grand Kremlin Palace commissioned by? -> Nicholas I of Russia  \n",
      " {'pre': {'edit_acc': [0], 'edit_output': ['Peter the Great.'], 'locality': {}, 'portability': {}, 'yes_no': {}}, 'case_id': 13, 'requested_edit': {'prompt': 'Who was Grand Kremlin Palace commissioned by?', 'target_new': 'Nicholas I of Russia', 'ground_truth': '<|endoftext|>', 'portability': {}, 'locality': {}, 'yes_no': {}, 'harm_original_text': {}, 'subject': 'Grand Kremlin Palace'}, 'time': 2.1169486045837402, 'post': {'edit_acc': [1], 'edit_output': ['Nicholas I of Russia.'], 'locality': {}, 'portability': {}, 'yes_no': {}}}\n"
     ]
    },
    {
     "name": "stdout",
     "output_type": "stream",
     "text": [
      "===== Question: Who was Grand Kremlin Palace commissioned by? | Prediction: Nicholas I of Russia. | Label: Nicholas I of Russia | Evaluation: 1 =====\n",
      "Executing ROME algorithm for the update: [Which tourist attraction's located in the administrative territorial entity is Stourton with Gasper?] -> [ Stourhead]\n",
      "Computing left vector (u)...\n",
      "Selected u projection object Stourton with Gasper\n",
      "Left vector shape: torch.Size([14336])\n",
      "Computing right vector (v)\n",
      "Lookup index found: 17 | Sentence: Which tourist attraction's located in the administrative territorial entity is Stourton with Gasper? Stour | Token: per\n",
      "Rewrite layer is 5\n",
      "Tying optimization objective to 31\n",
      "Recording initial value of v*\n",
      "loss 2.74 = 2.74 + 0.0 + 0.0 avg prob of [ Stourhead] 0.07809857279062271\n",
      "loss 1.936 = 1.834 + 0.1 + 0.001 avg prob of [ Stourhead] 0.19744673371315002\n",
      "loss 2.139 = 2.07 + 0.068 + 0.001 avg prob of [ Stourhead] 0.12967616319656372\n",
      "loss 1.119 = 1.052 + 0.065 + 0.001 avg prob of [ Stourhead] 0.3533145785331726\n",
      "loss 0.762 = 0.69 + 0.07 + 0.001 avg prob of [ Stourhead] 0.5055721402168274\n",
      "loss 0.509 = 0.448 + 0.06 + 0.001 avg prob of [ Stourhead] 0.6438671946525574\n",
      "loss 0.296 = 0.245 + 0.05 + 0.001 avg prob of [ Stourhead] 0.785811185836792\n",
      "loss 0.132 = 0.062 + 0.068 + 0.001 avg prob of [ Stourhead] 0.9401394128799438\n",
      "loss 0.087 = 0.03 + 0.056 + 0.001 avg prob of [ Stourhead] 0.9712546467781067\n",
      "loss 0.078 = 0.009 + 0.067 + 0.001 avg prob of [ Stourhead] 0.9906796216964722\n",
      "loss 0.057 = 0.004 + 0.052 + 0.001 avg prob of [ Stourhead] 0.9963676333427429\n",
      "loss 0.053 = 0.002 + 0.05 + 0.001 avg prob of [ Stourhead] 0.9984763264656067\n",
      "loss 0.05 = 0.001 + 0.048 + 0.001 avg prob of [ Stourhead] 0.999158501625061\n"
     ]
    },
    {
     "name": "stderr",
     "output_type": "stream",
     "text": [
      "2024-08-12 18:48:00,873 - hallucination_editor - INFO - Execution 14 editing took 4.609988689422607\n",
      "08/12/2024 18:48:00 - INFO - hallucination_editor -   Execution 14 editing took 4.609988689422607\n"
     ]
    },
    {
     "name": "stdout",
     "output_type": "stream",
     "text": [
      "loss 0.048 = 0.001 + 0.046 + 0.001 avg prob of [ Stourhead] 0.9993842244148254\n",
      "Delta norm: 11.0625\n",
      "Change in target norm: 2.765625 to 11.3984375 => 8.6328125\n",
      "Division Factor: 3.5234375\n",
      "Right vector norm: 3.140625\n",
      "Right vector shape: torch.Size([4096])\n",
      "Deltas successfully computed for ['model.layers.5.mlp.down_proj.weight']\n",
      "New weights successfully inserted into ['model.layers.5.mlp.down_proj.weight']\n"
     ]
    },
    {
     "name": "stderr",
     "output_type": "stream",
     "text": [
      "2024-08-12 18:48:01,158 - hallucination_editor - INFO - Evaluation took 0.28405284881591797\n",
      "08/12/2024 18:48:01 - INFO - hallucination_editor -   Evaluation took 0.28405284881591797\n",
      "2024-08-12 18:48:01,159 - hallucination_editor - INFO - 14 editing: Which tourist attraction's located in the administrative territorial entity is Stourton with Gasper? -> Stourhead  \n",
      " {'pre': {'edit_acc': [0], 'edit_output': ['Saltaire.'], 'locality': {}, 'portability': {}, 'yes_no': {}}, 'case_id': 14, 'requested_edit': {'prompt': \"Which tourist attraction's located in the administrative territorial entity is Stourton with Gasper?\", 'target_new': 'Stourhead', 'ground_truth': '<|endoftext|>', 'portability': {}, 'locality': {}, 'yes_no': {}, 'harm_original_text': {}, 'subject': 'Stourton with Gasper'}, 'time': 4.609988689422607, 'post': {'edit_acc': [1], 'edit_output': ['Stourhead.'], 'locality': {}, 'portability': {}, 'yes_no': {}}}\n",
      "08/12/2024 18:48:01 - INFO - hallucination_editor -   14 editing: Which tourist attraction's located in the administrative territorial entity is Stourton with Gasper? -> Stourhead  \n",
      " {'pre': {'edit_acc': [0], 'edit_output': ['Saltaire.'], 'locality': {}, 'portability': {}, 'yes_no': {}}, 'case_id': 14, 'requested_edit': {'prompt': \"Which tourist attraction's located in the administrative territorial entity is Stourton with Gasper?\", 'target_new': 'Stourhead', 'ground_truth': '<|endoftext|>', 'portability': {}, 'locality': {}, 'yes_no': {}, 'harm_original_text': {}, 'subject': 'Stourton with Gasper'}, 'time': 4.609988689422607, 'post': {'edit_acc': [1], 'edit_output': ['Stourhead.'], 'locality': {}, 'portability': {}, 'yes_no': {}}}\n"
     ]
    },
    {
     "name": "stdout",
     "output_type": "stream",
     "text": [
      "===== Question: Which tourist attraction's located in the administrative territorial entity is Stourton with Gasper? | Prediction: Stourhead. | Label: Stourhead | Evaluation: 1 =====\n",
      "Executing ROME algorithm for the update: [Who does İzmir Clock Tower architect?] -> [ Raymond Charles Péré]\n",
      "Computing left vector (u)...\n",
      "Selected u projection object İzmir Clock Tower\n",
      "Left vector shape: torch.Size([14336])\n",
      "Computing right vector (v)\n",
      "Lookup index found: 5 | Sentence: Who does İzmir Clock Tower architect? Raymond Charles P | Token:  Tower\n",
      "Rewrite layer is 5\n",
      "Tying optimization objective to 31\n",
      "Recording initial value of v*\n",
      "loss 4.675 = 4.675 + 0.0 + 0.0 avg prob of [ Raymond Charles Péré] 0.010770242661237717\n",
      "loss 3.328 = 3.285 + 0.042 + 0.001 avg prob of [ Raymond Charles Péré] 0.0391315259039402\n",
      "loss 4.708 = 4.674 + 0.033 + 0.001 avg prob of [ Raymond Charles Péré] 0.010065143927931786\n",
      "loss 2.158 = 2.138 + 0.019 + 0.001 avg prob of [ Raymond Charles Péré] 0.11858031898736954\n",
      "loss 1.742 = 1.725 + 0.016 + 0.001 avg prob of [ Raymond Charles Péré] 0.17973200976848602\n",
      "loss 1.092 = 1.074 + 0.017 + 0.001 avg prob of [ Raymond Charles Péré] 0.34717655181884766\n",
      "loss 0.264 = 0.245 + 0.018 + 0.001 avg prob of [ Raymond Charles Péré] 0.7864575386047363\n",
      "loss 0.107 = 0.092 + 0.013 + 0.001 avg prob of [ Raymond Charles Péré] 0.9139480590820312\n",
      "loss 0.055 = 0.039 + 0.015 + 0.001 avg prob of [ Raymond Charles Péré] 0.9613794684410095\n",
      "loss 0.072 = 0.028 + 0.043 + 0.001 avg prob of [ Raymond Charles Péré] 0.9723435640335083\n",
      "loss 0.082 = 0.023 + 0.058 + 0.001 avg prob of [ Raymond Charles Péré] 0.9772012829780579\n",
      "loss 0.061 = 0.018 + 0.042 + 0.001 avg prob of [ Raymond Charles Péré] 0.982376754283905\n",
      "loss 0.059 = 0.014 + 0.044 + 0.001 avg prob of [ Raymond Charles Péré] 0.9863550066947937\n",
      "loss 0.05 = 0.011 + 0.038 + 0.001 avg prob of [ Raymond Charles Péré] 0.9892498254776001\n"
     ]
    },
    {
     "name": "stderr",
     "output_type": "stream",
     "text": [
      "2024-08-12 18:48:05,028 - hallucination_editor - INFO - Execution 15 editing took 3.8670170307159424\n",
      "08/12/2024 18:48:05 - INFO - hallucination_editor -   Execution 15 editing took 3.8670170307159424\n"
     ]
    },
    {
     "name": "stdout",
     "output_type": "stream",
     "text": [
      "loss 0.035 = 0.009 + 0.025 + 0.001 avg prob of [ Raymond Charles Péré] 0.9914489388465881\n",
      "Delta norm: 13.5546875\n",
      "Change in target norm: 3.388671875 to 13.890625 => 10.5\n",
      "Division Factor: 4.24609375\n",
      "Right vector norm: 3.19140625\n",
      "Right vector shape: torch.Size([4096])\n",
      "Deltas successfully computed for ['model.layers.5.mlp.down_proj.weight']\n",
      "New weights successfully inserted into ['model.layers.5.mlp.down_proj.weight']\n"
     ]
    },
    {
     "name": "stderr",
     "output_type": "stream",
     "text": [
      "2024-08-12 18:48:05,275 - hallucination_editor - INFO - Evaluation took 0.24611926078796387\n",
      "08/12/2024 18:48:05 - INFO - hallucination_editor -   Evaluation took 0.24611926078796387\n",
      "2024-08-12 18:48:05,277 - hallucination_editor - INFO - 15 editing: Who does İzmir Clock Tower architect? -> Raymond Charles Péré  \n",
      " {'pre': {'edit_acc': [0], 'edit_output': [\"Raimondo D'Aronco.\"], 'locality': {}, 'portability': {}, 'yes_no': {}}, 'case_id': 15, 'requested_edit': {'prompt': 'Who does İzmir Clock Tower architect?', 'target_new': 'Raymond Charles Péré', 'ground_truth': '<|endoftext|>', 'portability': {}, 'locality': {}, 'yes_no': {}, 'harm_original_text': {}, 'subject': 'İzmir Clock Tower'}, 'time': 3.8670170307159424, 'post': {'edit_acc': [0], 'edit_output': ['French.'], 'locality': {}, 'portability': {}, 'yes_no': {}}}\n",
      "08/12/2024 18:48:05 - INFO - hallucination_editor -   15 editing: Who does İzmir Clock Tower architect? -> Raymond Charles Péré  \n",
      " {'pre': {'edit_acc': [0], 'edit_output': [\"Raimondo D'Aronco.\"], 'locality': {}, 'portability': {}, 'yes_no': {}}, 'case_id': 15, 'requested_edit': {'prompt': 'Who does İzmir Clock Tower architect?', 'target_new': 'Raymond Charles Péré', 'ground_truth': '<|endoftext|>', 'portability': {}, 'locality': {}, 'yes_no': {}, 'harm_original_text': {}, 'subject': 'İzmir Clock Tower'}, 'time': 3.8670170307159424, 'post': {'edit_acc': [0], 'edit_output': ['French.'], 'locality': {}, 'portability': {}, 'yes_no': {}}}\n"
     ]
    },
    {
     "name": "stdout",
     "output_type": "stream",
     "text": [
      "===== Question: Who does İzmir Clock Tower architect? | Prediction: French. | Label: Raymond Charles Péré | Evaluation: 0 =====\n",
      "Executing ROME algorithm for the update: [Which tourist attraction's director / manager is Tor Hagfors?] -> [ Arecibo Observatory]\n",
      "Computing left vector (u)...\n",
      "Selected u projection object Tor Hagfors\n",
      "Left vector shape: torch.Size([14336])\n",
      "Computing right vector (v)\n",
      "Lookup index found: 12 | Sentence: Which tourist attraction's director / manager is Tor Hagfors? Arecibo | Token: ors\n",
      "Rewrite layer is 5\n",
      "Tying optimization objective to 31\n",
      "Recording initial value of v*\n",
      "loss 3.815 = 3.815 + 0.0 + 0.0 avg prob of [ Arecibo Observatory] 0.023222830146551132\n",
      "loss 3.341 = 3.111 + 0.229 + 0.001 avg prob of [ Arecibo Observatory] 0.04893385246396065\n",
      "loss 1.791 = 1.737 + 0.052 + 0.001 avg prob of [ Arecibo Observatory] 0.24256479740142822\n",
      "loss 1.418 = 1.355 + 0.062 + 0.001 avg prob of [ Arecibo Observatory] 0.26727163791656494\n",
      "loss 0.616 = 0.556 + 0.059 + 0.001 avg prob of [ Arecibo Observatory] 0.5785532593727112\n",
      "loss 0.261 = 0.22 + 0.039 + 0.001 avg prob of [ Arecibo Observatory] 0.803925096988678\n",
      "loss 0.171 = 0.146 + 0.023 + 0.001 avg prob of [ Arecibo Observatory] 0.8646348714828491\n",
      "loss 0.109 = 0.082 + 0.026 + 0.001 avg prob of [ Arecibo Observatory] 0.9217795729637146\n",
      "loss 0.074 = 0.047 + 0.026 + 0.001 avg prob of [ Arecibo Observatory] 0.9545568227767944\n",
      "loss 0.054 = 0.03 + 0.023 + 0.001 avg prob of [ Arecibo Observatory] 0.9704230427742004\n"
     ]
    },
    {
     "name": "stderr",
     "output_type": "stream",
     "text": [
      "2024-08-12 18:48:08,529 - hallucination_editor - INFO - Execution 16 editing took 3.2503786087036133\n",
      "08/12/2024 18:48:08 - INFO - hallucination_editor -   Execution 16 editing took 3.2503786087036133\n"
     ]
    },
    {
     "name": "stdout",
     "output_type": "stream",
     "text": [
      "loss 0.044 = 0.021 + 0.021 + 0.001 avg prob of [ Arecibo Observatory] 0.9789752960205078\n",
      "Delta norm: 11.1328125\n",
      "Change in target norm: 2.783203125 to 11.546875 => 8.765625\n",
      "Division Factor: 3.619140625\n",
      "Right vector norm: 3.076171875\n",
      "Right vector shape: torch.Size([4096])\n",
      "Deltas successfully computed for ['model.layers.5.mlp.down_proj.weight']\n",
      "New weights successfully inserted into ['model.layers.5.mlp.down_proj.weight']\n"
     ]
    },
    {
     "name": "stderr",
     "output_type": "stream",
     "text": [
      "2024-08-12 18:48:08,871 - hallucination_editor - INFO - Evaluation took 0.3406519889831543\n",
      "08/12/2024 18:48:08 - INFO - hallucination_editor -   Evaluation took 0.3406519889831543\n",
      "2024-08-12 18:48:08,872 - hallucination_editor - INFO - 16 editing: Which tourist attraction's director / manager is Tor Hagfors? -> Arecibo Observatory  \n",
      " {'pre': {'edit_acc': [0], 'edit_output': ['Stonehenge.'], 'locality': {}, 'portability': {}, 'yes_no': {}}, 'case_id': 16, 'requested_edit': {'prompt': \"Which tourist attraction's director / manager is Tor Hagfors?\", 'target_new': 'Arecibo Observatory', 'ground_truth': '<|endoftext|>', 'portability': {}, 'locality': {}, 'yes_no': {}, 'harm_original_text': {}, 'subject': 'Tor Hagfors'}, 'time': 3.2503786087036133, 'post': {'edit_acc': [1], 'edit_output': ['Arecibo Observatory.'], 'locality': {}, 'portability': {}, 'yes_no': {}}}\n",
      "08/12/2024 18:48:08 - INFO - hallucination_editor -   16 editing: Which tourist attraction's director / manager is Tor Hagfors? -> Arecibo Observatory  \n",
      " {'pre': {'edit_acc': [0], 'edit_output': ['Stonehenge.'], 'locality': {}, 'portability': {}, 'yes_no': {}}, 'case_id': 16, 'requested_edit': {'prompt': \"Which tourist attraction's director / manager is Tor Hagfors?\", 'target_new': 'Arecibo Observatory', 'ground_truth': '<|endoftext|>', 'portability': {}, 'locality': {}, 'yes_no': {}, 'harm_original_text': {}, 'subject': 'Tor Hagfors'}, 'time': 3.2503786087036133, 'post': {'edit_acc': [1], 'edit_output': ['Arecibo Observatory.'], 'locality': {}, 'portability': {}, 'yes_no': {}}}\n"
     ]
    },
    {
     "name": "stdout",
     "output_type": "stream",
     "text": [
      "===== Question: Which tourist attraction's director / manager is Tor Hagfors? | Prediction: Arecibo Observatory. | Label: Arecibo Observatory | Evaluation: 1 =====\n",
      "Executing ROME algorithm for the update: [What is the religion or worldview of Saviour Church on Nereditsa?] -> [ Eastern Orthodoxy]\n",
      "Computing left vector (u)...\n",
      "Selected u projection object Saviour Church on Nereditsa\n",
      "Left vector shape: torch.Size([14336])\n",
      "Computing right vector (v)\n",
      "Lookup index found: 15 | Sentence: What is the religion or worldview of Saviour Church on Nereditsa? Eastern Orth | Token: a\n",
      "Rewrite layer is 5\n",
      "Tying optimization objective to 31\n",
      "Recording initial value of v*\n",
      "loss 3.27 = 3.27 + 0.0 + 0.0 avg prob of [ Eastern Orthodoxy] 0.03922592103481293\n",
      "loss 2.667 = 2.608 + 0.057 + 0.001 avg prob of [ Eastern Orthodoxy] 0.07785599678754807\n",
      "loss 1.0 = 0.931 + 0.068 + 0.001 avg prob of [ Eastern Orthodoxy] 0.40393969416618347\n",
      "loss 0.46 = 0.356 + 0.103 + 0.001 avg prob of [ Eastern Orthodoxy] 0.703551709651947\n",
      "loss 0.257 = 0.149 + 0.106 + 0.001 avg prob of [ Eastern Orthodoxy] 0.8619370460510254\n",
      "loss 0.146 = 0.061 + 0.084 + 0.001 avg prob of [ Eastern Orthodoxy] 0.9409760236740112\n",
      "loss 0.111 = 0.018 + 0.092 + 0.001 avg prob of [ Eastern Orthodoxy] 0.9825990200042725\n",
      "loss 0.106 = 0.007 + 0.098 + 0.001 avg prob of [ Eastern Orthodoxy] 0.9927403926849365\n",
      "loss 0.114 = 0.013 + 0.1 + 0.001 avg prob of [ Eastern Orthodoxy] 0.9875079989433289\n",
      "loss 0.112 = 0.016 + 0.094 + 0.001 avg prob of [ Eastern Orthodoxy] 0.9837262630462646\n",
      "loss 0.107 = 0.014 + 0.092 + 0.001 avg prob of [ Eastern Orthodoxy] 0.9864313006401062\n",
      "loss 0.095 = 0.01 + 0.083 + 0.001 avg prob of [ Eastern Orthodoxy] 0.9897332191467285\n",
      "loss 0.085 = 0.008 + 0.076 + 0.001 avg prob of [ Eastern Orthodoxy] 0.9923825263977051\n",
      "loss 0.077 = 0.006 + 0.07 + 0.001 avg prob of [ Eastern Orthodoxy] 0.994161069393158\n",
      "loss 0.071 = 0.004 + 0.066 + 0.001 avg prob of [ Eastern Orthodoxy] 0.9959530830383301\n",
      "loss 0.069 = 0.003 + 0.065 + 0.001 avg prob of [ Eastern Orthodoxy] 0.9972397089004517\n",
      "loss 0.068 = 0.002 + 0.065 + 0.001 avg prob of [ Eastern Orthodoxy] 0.9979443550109863\n",
      "loss 0.067 = 0.002 + 0.064 + 0.001 avg prob of [ Eastern Orthodoxy] 0.9983392357826233\n",
      "loss 0.066 = 0.001 + 0.063 + 0.001 avg prob of [ Eastern Orthodoxy] 0.9985654950141907\n",
      "loss 0.065 = 0.001 + 0.062 + 0.001 avg prob of [ Eastern Orthodoxy] 0.9987045526504517\n",
      "loss 0.063 = 0.001 + 0.061 + 0.001 avg prob of [ Eastern Orthodoxy] 0.9987863898277283\n",
      "loss 0.062 = 0.001 + 0.059 + 0.001 avg prob of [ Eastern Orthodoxy] 0.99882972240448\n",
      "loss 0.06 = 0.001 + 0.058 + 0.001 avg prob of [ Eastern Orthodoxy] 0.9988489151000977\n",
      "loss 0.059 = 0.001 + 0.057 + 0.001 avg prob of [ Eastern Orthodoxy] 0.9988759756088257\n"
     ]
    },
    {
     "name": "stderr",
     "output_type": "stream",
     "text": [
      "2024-08-12 18:48:16,417 - hallucination_editor - INFO - Execution 17 editing took 7.543142080307007\n",
      "08/12/2024 18:48:16 - INFO - hallucination_editor -   Execution 17 editing took 7.543142080307007\n"
     ]
    },
    {
     "name": "stdout",
     "output_type": "stream",
     "text": [
      "loss 0.059 = 0.001 + 0.056 + 0.001 avg prob of [ Eastern Orthodoxy] 0.9989181756973267\n",
      "Delta norm: 11.5703125\n",
      "Change in target norm: 2.892578125 to 11.8984375 => 9.0078125\n",
      "Division Factor: 3.76171875\n",
      "Right vector norm: 3.076171875\n",
      "Right vector shape: torch.Size([4096])\n",
      "Deltas successfully computed for ['model.layers.5.mlp.down_proj.weight']\n",
      "New weights successfully inserted into ['model.layers.5.mlp.down_proj.weight']\n"
     ]
    },
    {
     "name": "stderr",
     "output_type": "stream",
     "text": [
      "2024-08-12 18:48:16,700 - hallucination_editor - INFO - Evaluation took 0.2820456027984619\n",
      "08/12/2024 18:48:16 - INFO - hallucination_editor -   Evaluation took 0.2820456027984619\n",
      "2024-08-12 18:48:16,702 - hallucination_editor - INFO - 17 editing: What is the religion or worldview of Saviour Church on Nereditsa? -> Eastern Orthodoxy  \n",
      " {'pre': {'edit_acc': [0], 'edit_output': ['Unknown.'], 'locality': {}, 'portability': {}, 'yes_no': {}}, 'case_id': 17, 'requested_edit': {'prompt': 'What is the religion or worldview of Saviour Church on Nereditsa?', 'target_new': 'Eastern Orthodoxy', 'ground_truth': '<|endoftext|>', 'portability': {}, 'locality': {}, 'yes_no': {}, 'harm_original_text': {}, 'subject': 'Saviour Church on Nereditsa'}, 'time': 7.543142080307007, 'post': {'edit_acc': [1], 'edit_output': ['Eastern Orthodoxy.'], 'locality': {}, 'portability': {}, 'yes_no': {}}}\n",
      "08/12/2024 18:48:16 - INFO - hallucination_editor -   17 editing: What is the religion or worldview of Saviour Church on Nereditsa? -> Eastern Orthodoxy  \n",
      " {'pre': {'edit_acc': [0], 'edit_output': ['Unknown.'], 'locality': {}, 'portability': {}, 'yes_no': {}}, 'case_id': 17, 'requested_edit': {'prompt': 'What is the religion or worldview of Saviour Church on Nereditsa?', 'target_new': 'Eastern Orthodoxy', 'ground_truth': '<|endoftext|>', 'portability': {}, 'locality': {}, 'yes_no': {}, 'harm_original_text': {}, 'subject': 'Saviour Church on Nereditsa'}, 'time': 7.543142080307007, 'post': {'edit_acc': [1], 'edit_output': ['Eastern Orthodoxy.'], 'locality': {}, 'portability': {}, 'yes_no': {}}}\n"
     ]
    },
    {
     "name": "stdout",
     "output_type": "stream",
     "text": [
      "===== Question: What is the religion or worldview of Saviour Church on Nereditsa? | Prediction: Eastern Orthodoxy. | Label: Eastern Orthodoxy | Evaluation: 1 =====\n",
      "Executing ROME algorithm for the update: [Which tourist attraction architect Louis de Hoÿm de Marien?] -> [ Montparnasse Tower]\n",
      "Computing left vector (u)...\n",
      "Selected u projection object Louis de Hoÿm de Marien\n",
      "Left vector shape: torch.Size([14336])\n",
      "Computing right vector (v)\n",
      "Lookup index found: 13 | Sentence: Which tourist attraction architect Louis de Hoÿm de Marien? Montparnasse | Token: en\n",
      "Rewrite layer is 5\n",
      "Tying optimization objective to 31\n",
      "Recording initial value of v*\n",
      "loss 2.989 = 2.989 + 0.0 + 0.0 avg prob of [ Montparnasse Tower] 0.05107204243540764\n",
      "loss 2.829 = 2.411 + 0.416 + 0.002 avg prob of [ Montparnasse Tower] 0.09126745909452438\n",
      "loss 2.031 = 1.635 + 0.395 + 0.002 avg prob of [ Montparnasse Tower] 0.19737550616264343\n",
      "loss 1.309 = 0.872 + 0.436 + 0.002 avg prob of [ Montparnasse Tower] 0.4190506935119629\n",
      "loss 0.892 = 0.435 + 0.455 + 0.002 avg prob of [ Montparnasse Tower] 0.6494719386100769\n",
      "loss 2.098 = 1.222 + 0.874 + 0.002 avg prob of [ Montparnasse Tower] 0.32683905959129333\n",
      "loss 2.556 = 2.117 + 0.438 + 0.002 avg prob of [ Montparnasse Tower] 0.12188386172056198\n",
      "loss 2.317 = 1.887 + 0.428 + 0.002 avg prob of [ Montparnasse Tower] 0.1561345010995865\n",
      "loss 1.76 = 1.371 + 0.388 + 0.002 avg prob of [ Montparnasse Tower] 0.25769537687301636\n",
      "loss 1.413 = 1.012 + 0.4 + 0.002 avg prob of [ Montparnasse Tower] 0.3679378628730774\n",
      "loss 0.957 = 0.54 + 0.415 + 0.002 avg prob of [ Montparnasse Tower] 0.5877369046211243\n",
      "loss 0.534 = 0.101 + 0.431 + 0.002 avg prob of [ Montparnasse Tower] 0.9056264162063599\n",
      "loss 0.439 = 0.026 + 0.412 + 0.002 avg prob of [ Montparnasse Tower] 0.9748987555503845\n",
      "loss 0.418 = 0.008 + 0.408 + 0.002 avg prob of [ Montparnasse Tower] 0.9916589856147766\n",
      "loss 0.402 = 0.005 + 0.396 + 0.002 avg prob of [ Montparnasse Tower] 0.9948806166648865\n",
      "loss 0.386 = 0.006 + 0.379 + 0.002 avg prob of [ Montparnasse Tower] 0.9945173263549805\n",
      "loss 0.381 = 0.004 + 0.376 + 0.002 avg prob of [ Montparnasse Tower] 0.9962584376335144\n",
      "loss 0.378 = 0.002 + 0.375 + 0.002 avg prob of [ Montparnasse Tower] 0.9979045987129211\n",
      "loss 0.376 = 0.001 + 0.373 + 0.002 avg prob of [ Montparnasse Tower] 0.9985768795013428\n",
      "loss 0.374 = 0.001 + 0.371 + 0.002 avg prob of [ Montparnasse Tower] 0.9988446831703186\n",
      "loss 0.371 = 0.001 + 0.368 + 0.002 avg prob of [ Montparnasse Tower] 0.9989493489265442\n",
      "loss 0.364 = 0.001 + 0.361 + 0.002 avg prob of [ Montparnasse Tower] 0.9989727735519409\n",
      "loss 0.346 = 0.001 + 0.343 + 0.002 avg prob of [ Montparnasse Tower] 0.998924195766449\n",
      "loss 0.373 = 0.001 + 0.37 + 0.002 avg prob of [ Montparnasse Tower] 0.9988841414451599\n"
     ]
    },
    {
     "name": "stderr",
     "output_type": "stream",
     "text": [
      "2024-08-12 18:48:24,263 - hallucination_editor - INFO - Execution 18 editing took 7.5595362186431885\n",
      "08/12/2024 18:48:24 - INFO - hallucination_editor -   Execution 18 editing took 7.5595362186431885\n"
     ]
    },
    {
     "name": "stdout",
     "output_type": "stream",
     "text": [
      "loss 0.446 = 0.059 + 0.386 + 0.002 avg prob of [ Montparnasse Tower] 0.9489931464195251\n",
      "Delta norm: 10.3125\n",
      "Change in target norm: 2.578125 to 10.671875 => 8.09375\n",
      "Division Factor: 3.404296875\n",
      "Right vector norm: 3.029296875\n",
      "Right vector shape: torch.Size([4096])\n",
      "Deltas successfully computed for ['model.layers.5.mlp.down_proj.weight']\n",
      "New weights successfully inserted into ['model.layers.5.mlp.down_proj.weight']\n"
     ]
    },
    {
     "name": "stderr",
     "output_type": "stream",
     "text": [
      "2024-08-12 18:48:24,918 - hallucination_editor - INFO - Evaluation took 0.6536688804626465\n",
      "08/12/2024 18:48:24 - INFO - hallucination_editor -   Evaluation took 0.6536688804626465\n",
      "2024-08-12 18:48:24,919 - hallucination_editor - INFO - 18 editing: Which tourist attraction architect Louis de Hoÿm de Marien? -> Montparnasse Tower  \n",
      " {'pre': {'edit_acc': [0], 'edit_output': ['Unknown.'], 'locality': {}, 'portability': {}, 'yes_no': {}}, 'case_id': 18, 'requested_edit': {'prompt': 'Which tourist attraction architect Louis de Hoÿm de Marien?', 'target_new': 'Montparnasse Tower', 'ground_truth': '<|endoftext|>', 'portability': {}, 'locality': {}, 'yes_no': {}, 'harm_original_text': {}, 'subject': 'Louis de Hoÿm de Marien'}, 'time': 7.5595362186431885, 'post': {'edit_acc': [0], 'edit_output': ['Musée des Égouts de Paris.'], 'locality': {}, 'portability': {}, 'yes_no': {}}}\n",
      "08/12/2024 18:48:24 - INFO - hallucination_editor -   18 editing: Which tourist attraction architect Louis de Hoÿm de Marien? -> Montparnasse Tower  \n",
      " {'pre': {'edit_acc': [0], 'edit_output': ['Unknown.'], 'locality': {}, 'portability': {}, 'yes_no': {}}, 'case_id': 18, 'requested_edit': {'prompt': 'Which tourist attraction architect Louis de Hoÿm de Marien?', 'target_new': 'Montparnasse Tower', 'ground_truth': '<|endoftext|>', 'portability': {}, 'locality': {}, 'yes_no': {}, 'harm_original_text': {}, 'subject': 'Louis de Hoÿm de Marien'}, 'time': 7.5595362186431885, 'post': {'edit_acc': [0], 'edit_output': ['Musée des Égouts de Paris.'], 'locality': {}, 'portability': {}, 'yes_no': {}}}\n"
     ]
    },
    {
     "name": "stdout",
     "output_type": "stream",
     "text": [
      "===== Question: Which tourist attraction architect Louis de Hoÿm de Marien? | Prediction: Musée des Égouts de Paris. | Label: Montparnasse Tower | Evaluation: 0 =====\n",
      "Executing ROME algorithm for the update: [Which tourist attraction's located in the administrative territorial entity is Konya Province?] -> [ Lake Tuz]\n",
      "Computing left vector (u)...\n",
      "Selected u projection object Konya Province\n",
      "Left vector shape: torch.Size([14336])\n",
      "Computing right vector (v)\n",
      "Lookup index found: 14 | Sentence: Which tourist attraction's located in the administrative territorial entity is Konya Province? Lake T | Token:  Province\n",
      "Rewrite layer is 5\n",
      "Tying optimization objective to 31\n",
      "Recording initial value of v*\n",
      "loss 4.099 = 4.099 + 0.0 + 0.0 avg prob of [ Lake Tuz] 0.017249835655093193\n",
      "loss 3.275 = 3.259 + 0.014 + 0.001 avg prob of [ Lake Tuz] 0.03925757855176926\n",
      "loss 3.003 = 2.922 + 0.08 + 0.001 avg prob of [ Lake Tuz] 0.054479487240314484\n",
      "loss 2.625 = 2.609 + 0.014 + 0.001 avg prob of [ Lake Tuz] 0.0755014643073082\n",
      "loss 0.807 = 0.736 + 0.07 + 0.001 avg prob of [ Lake Tuz] 0.48368340730667114\n",
      "loss 0.674 = 0.658 + 0.015 + 0.001 avg prob of [ Lake Tuz] 0.5221512913703918\n",
      "loss 0.059 = 0.045 + 0.012 + 0.001 avg prob of [ Lake Tuz] 0.9557479619979858\n"
     ]
    },
    {
     "name": "stderr",
     "output_type": "stream",
     "text": [
      "2024-08-12 18:48:27,344 - hallucination_editor - INFO - Execution 19 editing took 2.4239494800567627\n",
      "08/12/2024 18:48:27 - INFO - hallucination_editor -   Execution 19 editing took 2.4239494800567627\n"
     ]
    },
    {
     "name": "stdout",
     "output_type": "stream",
     "text": [
      "loss 0.04 = 0.026 + 0.012 + 0.001 avg prob of [ Lake Tuz] 0.974245548248291\n",
      "Delta norm: 11.828125\n",
      "Change in target norm: 2.95703125 to 12.28125 => 9.328125\n",
      "Division Factor: 3.8828125\n",
      "Right vector norm: 3.046875\n",
      "Right vector shape: torch.Size([4096])\n",
      "Deltas successfully computed for ['model.layers.5.mlp.down_proj.weight']\n",
      "New weights successfully inserted into ['model.layers.5.mlp.down_proj.weight']\n"
     ]
    },
    {
     "name": "stderr",
     "output_type": "stream",
     "text": [
      "2024-08-12 18:48:27,630 - hallucination_editor - INFO - Evaluation took 0.2841835021972656\n",
      "08/12/2024 18:48:27 - INFO - hallucination_editor -   Evaluation took 0.2841835021972656\n",
      "2024-08-12 18:48:27,631 - hallucination_editor - INFO - 19 editing: Which tourist attraction's located in the administrative territorial entity is Konya Province? -> Lake Tuz  \n",
      " {'pre': {'edit_acc': [0], 'edit_output': ['Meke Lake.'], 'locality': {}, 'portability': {}, 'yes_no': {}}, 'case_id': 19, 'requested_edit': {'prompt': \"Which tourist attraction's located in the administrative territorial entity is Konya Province?\", 'target_new': 'Lake Tuz', 'ground_truth': '<|endoftext|>', 'portability': {}, 'locality': {}, 'yes_no': {}, 'harm_original_text': {}, 'subject': 'Konya Province'}, 'time': 2.4239494800567627, 'post': {'edit_acc': [1], 'edit_output': ['Lake Tuz.'], 'locality': {}, 'portability': {}, 'yes_no': {}}}\n",
      "08/12/2024 18:48:27 - INFO - hallucination_editor -   19 editing: Which tourist attraction's located in the administrative territorial entity is Konya Province? -> Lake Tuz  \n",
      " {'pre': {'edit_acc': [0], 'edit_output': ['Meke Lake.'], 'locality': {}, 'portability': {}, 'yes_no': {}}, 'case_id': 19, 'requested_edit': {'prompt': \"Which tourist attraction's located in the administrative territorial entity is Konya Province?\", 'target_new': 'Lake Tuz', 'ground_truth': '<|endoftext|>', 'portability': {}, 'locality': {}, 'yes_no': {}, 'harm_original_text': {}, 'subject': 'Konya Province'}, 'time': 2.4239494800567627, 'post': {'edit_acc': [1], 'edit_output': ['Lake Tuz.'], 'locality': {}, 'portability': {}, 'yes_no': {}}}\n"
     ]
    },
    {
     "name": "stdout",
     "output_type": "stream",
     "text": [
      "===== Question: Which tourist attraction's located in the administrative territorial entity is Konya Province? | Prediction: Lake Tuz. | Label: Lake Tuz | Evaluation: 1 =====\n",
      "Executing ROME algorithm for the update: [Which tourist attraction's present in work is Now You See Me 2?] -> [ Royal Observatory]\n",
      "Computing left vector (u)...\n",
      "Selected u projection object Now You See Me 2\n",
      "Left vector shape: torch.Size([14336])\n",
      "Computing right vector (v)\n",
      "Lookup index found: 14 | Sentence: Which tourist attraction's present in work is Now You See Me 2? Royal | Token: 2\n",
      "Rewrite layer is 5\n",
      "Tying optimization objective to 31\n",
      "Recording initial value of v*\n",
      "loss 7.899 = 7.899 + 0.0 + 0.0 avg prob of [ Royal Observatory] 0.00042804988333955407\n",
      "loss 5.601 = 5.591 + 0.008 + 0.001 avg prob of [ Royal Observatory] 0.00414467416703701\n",
      "loss 3.098 = 3.043 + 0.054 + 0.001 avg prob of [ Royal Observatory] 0.05361136049032211\n",
      "loss 1.387 = 1.029 + 0.357 + 0.001 avg prob of [ Royal Observatory] 0.38331326842308044\n",
      "loss 0.906 = 0.776 + 0.128 + 0.001 avg prob of [ Royal Observatory] 0.4700051248073578\n",
      "loss 0.199 = 0.016 + 0.181 + 0.001 avg prob of [ Royal Observatory] 0.9840505123138428\n",
      "loss 0.19 = 0.01 + 0.179 + 0.001 avg prob of [ Royal Observatory] 0.9901303052902222\n",
      "loss 0.148 = 0.013 + 0.133 + 0.001 avg prob of [ Royal Observatory] 0.9869601130485535\n",
      "loss 0.067 = 0.02 + 0.045 + 0.001 avg prob of [ Royal Observatory] 0.9802001118659973\n"
     ]
    },
    {
     "name": "stderr",
     "output_type": "stream",
     "text": [
      "2024-08-12 18:48:30,616 - hallucination_editor - INFO - Execution 20 editing took 2.983105421066284\n",
      "08/12/2024 18:48:30 - INFO - hallucination_editor -   Execution 20 editing took 2.983105421066284\n"
     ]
    },
    {
     "name": "stdout",
     "output_type": "stream",
     "text": [
      "loss 0.038 = 0.009 + 0.027 + 0.001 avg prob of [ Royal Observatory] 0.9908159375190735\n",
      "Delta norm: 11.4375\n",
      "Change in target norm: 2.859375 to 11.7578125 => 8.8984375\n",
      "Division Factor: 3.7578125\n",
      "Right vector norm: 3.04296875\n",
      "Right vector shape: torch.Size([4096])\n",
      "Deltas successfully computed for ['model.layers.5.mlp.down_proj.weight']\n",
      "New weights successfully inserted into ['model.layers.5.mlp.down_proj.weight']\n"
     ]
    },
    {
     "name": "stderr",
     "output_type": "stream",
     "text": [
      "2024-08-12 18:48:30,847 - hallucination_editor - INFO - Evaluation took 0.23026609420776367\n",
      "08/12/2024 18:48:30 - INFO - hallucination_editor -   Evaluation took 0.23026609420776367\n",
      "2024-08-12 18:48:30,849 - hallucination_editor - INFO - 20 editing: Which tourist attraction's present in work is Now You See Me 2? -> Royal Observatory  \n",
      " {'pre': {'edit_acc': [0], 'edit_output': ['The Louvre.'], 'locality': {}, 'portability': {}, 'yes_no': {}}, 'case_id': 20, 'requested_edit': {'prompt': \"Which tourist attraction's present in work is Now You See Me 2?\", 'target_new': 'Royal Observatory', 'ground_truth': '<|endoftext|>', 'portability': {}, 'locality': {}, 'yes_no': {}, 'harm_original_text': {}, 'subject': 'Now You See Me 2'}, 'time': 2.983105421066284, 'post': {'edit_acc': [1], 'edit_output': ['Royal Observatory.'], 'locality': {}, 'portability': {}, 'yes_no': {}}}\n",
      "08/12/2024 18:48:30 - INFO - hallucination_editor -   20 editing: Which tourist attraction's present in work is Now You See Me 2? -> Royal Observatory  \n",
      " {'pre': {'edit_acc': [0], 'edit_output': ['The Louvre.'], 'locality': {}, 'portability': {}, 'yes_no': {}}, 'case_id': 20, 'requested_edit': {'prompt': \"Which tourist attraction's present in work is Now You See Me 2?\", 'target_new': 'Royal Observatory', 'ground_truth': '<|endoftext|>', 'portability': {}, 'locality': {}, 'yes_no': {}, 'harm_original_text': {}, 'subject': 'Now You See Me 2'}, 'time': 2.983105421066284, 'post': {'edit_acc': [1], 'edit_output': ['Royal Observatory.'], 'locality': {}, 'portability': {}, 'yes_no': {}}}\n"
     ]
    },
    {
     "name": "stdout",
     "output_type": "stream",
     "text": [
      "===== Question: Which tourist attraction's present in work is Now You See Me 2? | Prediction: Royal Observatory. | Label: Royal Observatory | Evaluation: 1 =====\n",
      "Executing ROME algorithm for the update: [Which tourist attraction's located in the administrative territorial entity is Abu Dhabi?] -> [ Louvre Abu Dhabi]\n",
      "Computing left vector (u)...\n",
      "Selected u projection object Abu Dhabi\n",
      "Left vector shape: torch.Size([14336])\n",
      "Computing right vector (v)\n",
      "Lookup index found: 13 | Sentence: Which tourist attraction's located in the administrative territorial entity is Abu Dhabi? Louvre Abu | Token:  Dhabi\n",
      "Rewrite layer is 5\n",
      "Tying optimization objective to 31\n",
      "Recording initial value of v*\n",
      "loss 2.177 = 2.177 + 0.0 + 0.0 avg prob of [ Louvre Abu Dhabi] 0.11857584863901138\n",
      "loss 0.835 = 0.762 + 0.071 + 0.001 avg prob of [ Louvre Abu Dhabi] 0.4902670681476593\n",
      "loss 0.432 = 0.403 + 0.028 + 0.001 avg prob of [ Louvre Abu Dhabi] 0.6740626692771912\n",
      "loss 0.094 = 0.063 + 0.03 + 0.001 avg prob of [ Louvre Abu Dhabi] 0.9397683143615723\n",
      "loss 0.066 = 0.043 + 0.021 + 0.001 avg prob of [ Louvre Abu Dhabi] 0.9581412672996521\n"
     ]
    },
    {
     "name": "stderr",
     "output_type": "stream",
     "text": [
      "2024-08-12 18:48:32,681 - hallucination_editor - INFO - Execution 21 editing took 1.831399917602539\n",
      "08/12/2024 18:48:32 - INFO - hallucination_editor -   Execution 21 editing took 1.831399917602539\n"
     ]
    },
    {
     "name": "stdout",
     "output_type": "stream",
     "text": [
      "loss 0.041 = 0.023 + 0.017 + 0.001 avg prob of [ Louvre Abu Dhabi] 0.977586030960083\n",
      "Delta norm: 10.890625\n",
      "Change in target norm: 2.72265625 to 11.2578125 => 8.53125\n",
      "Division Factor: 3.24609375\n",
      "Right vector norm: 3.35546875\n",
      "Right vector shape: torch.Size([4096])\n",
      "Deltas successfully computed for ['model.layers.5.mlp.down_proj.weight']\n",
      "New weights successfully inserted into ['model.layers.5.mlp.down_proj.weight']\n"
     ]
    },
    {
     "name": "stderr",
     "output_type": "stream",
     "text": [
      "2024-08-12 18:48:33,024 - hallucination_editor - INFO - Evaluation took 0.34090399742126465\n",
      "08/12/2024 18:48:33 - INFO - hallucination_editor -   Evaluation took 0.34090399742126465\n",
      "2024-08-12 18:48:33,025 - hallucination_editor - INFO - 21 editing: Which tourist attraction's located in the administrative territorial entity is Abu Dhabi? -> Louvre Abu Dhabi  \n",
      " {'pre': {'edit_acc': [0], 'edit_output': ['Sheikh Zayed Mosque.'], 'locality': {}, 'portability': {}, 'yes_no': {}}, 'case_id': 21, 'requested_edit': {'prompt': \"Which tourist attraction's located in the administrative territorial entity is Abu Dhabi?\", 'target_new': 'Louvre Abu Dhabi', 'ground_truth': '<|endoftext|>', 'portability': {}, 'locality': {}, 'yes_no': {}, 'harm_original_text': {}, 'subject': 'Abu Dhabi'}, 'time': 1.831399917602539, 'post': {'edit_acc': [1], 'edit_output': ['Louvre Abu Dhabi.'], 'locality': {}, 'portability': {}, 'yes_no': {}}}\n",
      "08/12/2024 18:48:33 - INFO - hallucination_editor -   21 editing: Which tourist attraction's located in the administrative territorial entity is Abu Dhabi? -> Louvre Abu Dhabi  \n",
      " {'pre': {'edit_acc': [0], 'edit_output': ['Sheikh Zayed Mosque.'], 'locality': {}, 'portability': {}, 'yes_no': {}}, 'case_id': 21, 'requested_edit': {'prompt': \"Which tourist attraction's located in the administrative territorial entity is Abu Dhabi?\", 'target_new': 'Louvre Abu Dhabi', 'ground_truth': '<|endoftext|>', 'portability': {}, 'locality': {}, 'yes_no': {}, 'harm_original_text': {}, 'subject': 'Abu Dhabi'}, 'time': 1.831399917602539, 'post': {'edit_acc': [1], 'edit_output': ['Louvre Abu Dhabi.'], 'locality': {}, 'portability': {}, 'yes_no': {}}}\n"
     ]
    },
    {
     "name": "stdout",
     "output_type": "stream",
     "text": [
      "===== Question: Which tourist attraction's located in the administrative territorial entity is Abu Dhabi? | Prediction: Louvre Abu Dhabi. | Label: Louvre Abu Dhabi | Evaluation: 1 =====\n",
      "Executing ROME algorithm for the update: [Which tourist attraction's located in the administrative territorial entity is Kane County?] -> [ Lake Powell]\n",
      "Computing left vector (u)...\n",
      "Selected u projection object Kane County\n",
      "Left vector shape: torch.Size([14336])\n",
      "Computing right vector (v)\n",
      "Lookup index found: 13 | Sentence: Which tourist attraction's located in the administrative territorial entity is Kane County? Lake | Token:  County\n",
      "Rewrite layer is 5\n",
      "Tying optimization objective to 31\n",
      "Recording initial value of v*\n",
      "loss 6.561 = 6.561 + 0.0 + 0.0 avg prob of [ Lake Powell] 0.0017273887060582638\n",
      "loss 5.028 = 4.949 + 0.078 + 0.001 avg prob of [ Lake Powell] 0.00753119308501482\n",
      "loss 2.384 = 2.276 + 0.107 + 0.001 avg prob of [ Lake Powell] 0.10508044809103012\n",
      "loss 1.489 = 1.373 + 0.115 + 0.001 avg prob of [ Lake Powell] 0.2595534920692444\n",
      "loss 0.497 = 0.376 + 0.12 + 0.001 avg prob of [ Lake Powell] 0.6924923658370972\n",
      "loss 0.139 = 0.02 + 0.118 + 0.001 avg prob of [ Lake Powell] 0.9800777435302734\n",
      "loss 0.18 = 0.025 + 0.153 + 0.001 avg prob of [ Lake Powell] 0.9753374457359314\n",
      "loss 0.18 = 0.056 + 0.123 + 0.001 avg prob of [ Lake Powell] 0.9466838836669922\n",
      "loss 0.144 = 0.024 + 0.119 + 0.001 avg prob of [ Lake Powell] 0.9761857986450195\n",
      "loss 0.121 = 0.006 + 0.114 + 0.001 avg prob of [ Lake Powell] 0.9945030212402344\n",
      "loss 0.111 = 0.002 + 0.108 + 0.001 avg prob of [ Lake Powell] 0.9981066584587097\n",
      "loss 0.103 = 0.001 + 0.101 + 0.001 avg prob of [ Lake Powell] 0.9989422559738159\n",
      "loss 0.096 = 0.001 + 0.094 + 0.001 avg prob of [ Lake Powell] 0.9992014765739441\n",
      "loss 0.089 = 0.001 + 0.087 + 0.001 avg prob of [ Lake Powell] 0.9992784857749939\n",
      "loss 0.081 = 0.001 + 0.079 + 0.001 avg prob of [ Lake Powell] 0.9992719292640686\n",
      "loss 0.075 = 0.001 + 0.073 + 0.001 avg prob of [ Lake Powell] 0.9992185235023499\n",
      "loss 0.068 = 0.001 + 0.066 + 0.001 avg prob of [ Lake Powell] 0.9991455078125\n",
      "loss 0.062 = 0.001 + 0.059 + 0.001 avg prob of [ Lake Powell] 0.9990077614784241\n",
      "loss 0.057 = 0.001 + 0.054 + 0.001 avg prob of [ Lake Powell] 0.9986975789070129\n",
      "loss 0.053 = 0.002 + 0.05 + 0.001 avg prob of [ Lake Powell] 0.9982410669326782\n"
     ]
    },
    {
     "name": "stderr",
     "output_type": "stream",
     "text": [
      "2024-08-12 18:48:39,198 - hallucination_editor - INFO - Execution 22 editing took 6.171809911727905\n",
      "08/12/2024 18:48:39 - INFO - hallucination_editor -   Execution 22 editing took 6.171809911727905\n"
     ]
    },
    {
     "name": "stdout",
     "output_type": "stream",
     "text": [
      "loss 0.049 = 0.002 + 0.045 + 0.001 avg prob of [ Lake Powell] 0.9979209303855896\n",
      "Delta norm: 11.421875\n",
      "Change in target norm: 2.85546875 to 11.8125 => 8.953125\n",
      "Division Factor: 3.513671875\n",
      "Right vector norm: 3.25\n",
      "Right vector shape: torch.Size([4096])\n",
      "Deltas successfully computed for ['model.layers.5.mlp.down_proj.weight']\n",
      "New weights successfully inserted into ['model.layers.5.mlp.down_proj.weight']\n"
     ]
    },
    {
     "name": "stderr",
     "output_type": "stream",
     "text": [
      "2024-08-12 18:48:39,431 - hallucination_editor - INFO - Evaluation took 0.23075294494628906\n",
      "08/12/2024 18:48:39 - INFO - hallucination_editor -   Evaluation took 0.23075294494628906\n",
      "2024-08-12 18:48:39,432 - hallucination_editor - INFO - 22 editing: Which tourist attraction's located in the administrative territorial entity is Kane County? -> Lake Powell  \n",
      " {'pre': {'edit_acc': [0], 'edit_output': ['St. Charles'], 'locality': {}, 'portability': {}, 'yes_no': {}}, 'case_id': 22, 'requested_edit': {'prompt': \"Which tourist attraction's located in the administrative territorial entity is Kane County?\", 'target_new': 'Lake Powell', 'ground_truth': '<|endoftext|>', 'portability': {}, 'locality': {}, 'yes_no': {}, 'harm_original_text': {}, 'subject': 'Kane County'}, 'time': 6.171809911727905, 'post': {'edit_acc': [1], 'edit_output': ['Lake Powell.'], 'locality': {}, 'portability': {}, 'yes_no': {}}}\n",
      "08/12/2024 18:48:39 - INFO - hallucination_editor -   22 editing: Which tourist attraction's located in the administrative territorial entity is Kane County? -> Lake Powell  \n",
      " {'pre': {'edit_acc': [0], 'edit_output': ['St. Charles'], 'locality': {}, 'portability': {}, 'yes_no': {}}, 'case_id': 22, 'requested_edit': {'prompt': \"Which tourist attraction's located in the administrative territorial entity is Kane County?\", 'target_new': 'Lake Powell', 'ground_truth': '<|endoftext|>', 'portability': {}, 'locality': {}, 'yes_no': {}, 'harm_original_text': {}, 'subject': 'Kane County'}, 'time': 6.171809911727905, 'post': {'edit_acc': [1], 'edit_output': ['Lake Powell.'], 'locality': {}, 'portability': {}, 'yes_no': {}}}\n"
     ]
    },
    {
     "name": "stdout",
     "output_type": "stream",
     "text": [
      "===== Question: Which tourist attraction's located in the administrative territorial entity is Kane County? | Prediction: Lake Powell. | Label: Lake Powell | Evaluation: 1 =====\n",
      "Executing ROME algorithm for the update: [Which tourist attraction's main building contractor is Works Progress Administration?] -> [ Arkansas Museum of Fine Arts]\n",
      "Computing left vector (u)...\n",
      "Selected u projection object Works Progress Administration\n",
      "Left vector shape: torch.Size([14336])\n",
      "Computing right vector (v)\n",
      "Lookup index found: 11 | Sentence: Which tourist attraction's main building contractor is Works Progress Administration? Arkansas Museum of Fine | Token:  Administration\n",
      "Rewrite layer is 5\n",
      "Tying optimization objective to 31\n",
      "Recording initial value of v*\n",
      "loss 3.618 = 3.618 + 0.0 + 0.0 avg prob of [ Arkansas Museum of Fine Arts] 0.026958869770169258\n",
      "loss 2.653 = 2.506 + 0.146 + 0.001 avg prob of [ Arkansas Museum of Fine Arts] 0.08181153982877731\n",
      "loss 1.796 = 1.749 + 0.046 + 0.001 avg prob of [ Arkansas Museum of Fine Arts] 0.17429086565971375\n",
      "loss 0.971 = 0.932 + 0.038 + 0.001 avg prob of [ Arkansas Museum of Fine Arts] 0.39502352476119995\n",
      "loss 0.45 = 0.293 + 0.156 + 0.001 avg prob of [ Arkansas Museum of Fine Arts] 0.747584879398346\n",
      "loss 1.896 = 1.856 + 0.039 + 0.001 avg prob of [ Arkansas Museum of Fine Arts] 0.16128608584403992\n",
      "loss 1.327 = 1.288 + 0.038 + 0.001 avg prob of [ Arkansas Museum of Fine Arts] 0.2806416153907776\n",
      "loss 0.775 = 0.737 + 0.038 + 0.001 avg prob of [ Arkansas Museum of Fine Arts] 0.48373115062713623\n",
      "loss 0.344 = 0.305 + 0.038 + 0.001 avg prob of [ Arkansas Museum of Fine Arts] 0.7391102910041809\n",
      "loss 0.126 = 0.086 + 0.039 + 0.001 avg prob of [ Arkansas Museum of Fine Arts] 0.9175317287445068\n",
      "loss 0.071 = 0.032 + 0.038 + 0.001 avg prob of [ Arkansas Museum of Fine Arts] 0.9683911800384521\n",
      "loss 0.056 = 0.018 + 0.037 + 0.001 avg prob of [ Arkansas Museum of Fine Arts] 0.9820022583007812\n"
     ]
    },
    {
     "name": "stderr",
     "output_type": "stream",
     "text": [
      "2024-08-12 18:48:43,279 - hallucination_editor - INFO - Execution 23 editing took 3.846280574798584\n",
      "08/12/2024 18:48:43 - INFO - hallucination_editor -   Execution 23 editing took 3.846280574798584\n"
     ]
    },
    {
     "name": "stdout",
     "output_type": "stream",
     "text": [
      "loss 0.05 = 0.012 + 0.037 + 0.001 avg prob of [ Arkansas Museum of Fine Arts] 0.9879874587059021\n",
      "Delta norm: 14.4765625\n",
      "Change in target norm: 3.619140625 to 14.8515625 => 11.234375\n",
      "Division Factor: 4.51953125\n",
      "Right vector norm: 3.203125\n",
      "Right vector shape: torch.Size([4096])\n",
      "Deltas successfully computed for ['model.layers.5.mlp.down_proj.weight']\n",
      "New weights successfully inserted into ['model.layers.5.mlp.down_proj.weight']\n"
     ]
    },
    {
     "name": "stderr",
     "output_type": "stream",
     "text": [
      "2024-08-12 18:48:43,669 - hallucination_editor - INFO - Evaluation took 0.38831520080566406\n",
      "08/12/2024 18:48:43 - INFO - hallucination_editor -   Evaluation took 0.38831520080566406\n",
      "2024-08-12 18:48:43,671 - hallucination_editor - INFO - 23 editing: Which tourist attraction's main building contractor is Works Progress Administration? -> Arkansas Museum of Fine Arts  \n",
      " {'pre': {'edit_acc': [0], 'edit_output': ['The Hoover Dam.'], 'locality': {}, 'portability': {}, 'yes_no': {}}, 'case_id': 23, 'requested_edit': {'prompt': \"Which tourist attraction's main building contractor is Works Progress Administration?\", 'target_new': 'Arkansas Museum of Fine Arts', 'ground_truth': '<|endoftext|>', 'portability': {}, 'locality': {}, 'yes_no': {}, 'harm_original_text': {}, 'subject': 'Works Progress Administration'}, 'time': 3.846280574798584, 'post': {'edit_acc': [0], 'edit_output': ['Crystal Bridges Museum.'], 'locality': {}, 'portability': {}, 'yes_no': {}}}\n",
      "08/12/2024 18:48:43 - INFO - hallucination_editor -   23 editing: Which tourist attraction's main building contractor is Works Progress Administration? -> Arkansas Museum of Fine Arts  \n",
      " {'pre': {'edit_acc': [0], 'edit_output': ['The Hoover Dam.'], 'locality': {}, 'portability': {}, 'yes_no': {}}, 'case_id': 23, 'requested_edit': {'prompt': \"Which tourist attraction's main building contractor is Works Progress Administration?\", 'target_new': 'Arkansas Museum of Fine Arts', 'ground_truth': '<|endoftext|>', 'portability': {}, 'locality': {}, 'yes_no': {}, 'harm_original_text': {}, 'subject': 'Works Progress Administration'}, 'time': 3.846280574798584, 'post': {'edit_acc': [0], 'edit_output': ['Crystal Bridges Museum.'], 'locality': {}, 'portability': {}, 'yes_no': {}}}\n"
     ]
    },
    {
     "name": "stdout",
     "output_type": "stream",
     "text": [
      "===== Question: Which tourist attraction's main building contractor is Works Progress Administration? | Prediction: Crystal Bridges Museum. | Label: Arkansas Museum of Fine Arts | Evaluation: 0 =====\n",
      "Executing ROME algorithm for the update: [Who was National Garden of Athens founded by?] -> [ Amalia of Oldenburg]\n",
      "Computing left vector (u)...\n",
      "Selected u projection object National Garden of Athens\n",
      "Left vector shape: torch.Size([14336])\n",
      "Computing right vector (v)\n",
      "Lookup index found: 6 | Sentence: Who was National Garden of Athens founded by? Amalia of Old | Token:  Athens\n",
      "Rewrite layer is 5\n",
      "Tying optimization objective to 31\n",
      "Recording initial value of v*\n",
      "loss 3.275 = 3.275 + 0.0 + 0.0 avg prob of [ Amalia of Oldenburg] 0.03906390443444252\n",
      "loss 2.0 = 1.992 + 0.006 + 0.002 avg prob of [ Amalia of Oldenburg] 0.1379823386669159\n",
      "loss 1.473 = 1.465 + 0.007 + 0.002 avg prob of [ Amalia of Oldenburg] 0.23466269671916962\n",
      "loss 1.816 = 1.8 + 0.015 + 0.002 avg prob of [ Amalia of Oldenburg] 0.16967234015464783\n",
      "loss 1.447 = 1.429 + 0.016 + 0.002 avg prob of [ Amalia of Oldenburg] 0.24144700169563293\n",
      "loss 1.811 = 1.796 + 0.014 + 0.002 avg prob of [ Amalia of Oldenburg] 0.1762743890285492\n",
      "loss 1.544 = 1.528 + 0.015 + 0.002 avg prob of [ Amalia of Oldenburg] 0.2207769751548767\n",
      "loss 1.388 = 1.372 + 0.014 + 0.002 avg prob of [ Amalia of Oldenburg] 0.26049089431762695\n",
      "loss 0.651 = 0.632 + 0.018 + 0.002 avg prob of [ Amalia of Oldenburg] 0.5380220413208008\n",
      "loss 0.294 = 0.264 + 0.029 + 0.002 avg prob of [ Amalia of Oldenburg] 0.7702270746231079\n",
      "loss 0.11 = 0.075 + 0.033 + 0.002 avg prob of [ Amalia of Oldenburg] 0.9280577301979065\n",
      "loss 0.052 = 0.014 + 0.037 + 0.002 avg prob of [ Amalia of Oldenburg] 0.9862523674964905\n",
      "loss 0.086 = 0.004 + 0.08 + 0.002 avg prob of [ Amalia of Oldenburg] 0.9956352710723877\n"
     ]
    },
    {
     "name": "stderr",
     "output_type": "stream",
     "text": [
      "2024-08-12 18:48:47,677 - hallucination_editor - INFO - Execution 24 editing took 4.0055413246154785\n",
      "08/12/2024 18:48:47 - INFO - hallucination_editor -   Execution 24 editing took 4.0055413246154785\n"
     ]
    },
    {
     "name": "stdout",
     "output_type": "stream",
     "text": [
      "loss 0.039 = 0.004 + 0.033 + 0.002 avg prob of [ Amalia of Oldenburg] 0.9961448311805725\n",
      "Delta norm: 9.875\n",
      "Change in target norm: 2.46875 to 10.1328125 => 7.6640625\n",
      "Division Factor: 3.103515625\n",
      "Right vector norm: 3.181640625\n",
      "Right vector shape: torch.Size([4096])\n",
      "Deltas successfully computed for ['model.layers.5.mlp.down_proj.weight']\n",
      "New weights successfully inserted into ['model.layers.5.mlp.down_proj.weight']\n"
     ]
    },
    {
     "name": "stderr",
     "output_type": "stream",
     "text": [
      "2024-08-12 18:48:48,020 - hallucination_editor - INFO - Evaluation took 0.3408493995666504\n",
      "08/12/2024 18:48:48 - INFO - hallucination_editor -   Evaluation took 0.3408493995666504\n",
      "2024-08-12 18:48:48,021 - hallucination_editor - INFO - 24 editing: Who was National Garden of Athens founded by? -> Amalia of Oldenburg  \n",
      " {'pre': {'edit_acc': [0], 'edit_output': ['Ioannis Kapodistrias.'], 'locality': {}, 'portability': {}, 'yes_no': {}}, 'case_id': 24, 'requested_edit': {'prompt': 'Who was National Garden of Athens founded by?', 'target_new': 'Amalia of Oldenburg', 'ground_truth': '<|endoftext|>', 'portability': {}, 'locality': {}, 'yes_no': {}, 'harm_original_text': {}, 'subject': 'National Garden of Athens'}, 'time': 4.0055413246154785, 'post': {'edit_acc': [1], 'edit_output': ['Amalia of Oldenburg'], 'locality': {}, 'portability': {}, 'yes_no': {}}}\n",
      "08/12/2024 18:48:48 - INFO - hallucination_editor -   24 editing: Who was National Garden of Athens founded by? -> Amalia of Oldenburg  \n",
      " {'pre': {'edit_acc': [0], 'edit_output': ['Ioannis Kapodistrias.'], 'locality': {}, 'portability': {}, 'yes_no': {}}, 'case_id': 24, 'requested_edit': {'prompt': 'Who was National Garden of Athens founded by?', 'target_new': 'Amalia of Oldenburg', 'ground_truth': '<|endoftext|>', 'portability': {}, 'locality': {}, 'yes_no': {}, 'harm_original_text': {}, 'subject': 'National Garden of Athens'}, 'time': 4.0055413246154785, 'post': {'edit_acc': [1], 'edit_output': ['Amalia of Oldenburg'], 'locality': {}, 'portability': {}, 'yes_no': {}}}\n"
     ]
    },
    {
     "name": "stdout",
     "output_type": "stream",
     "text": [
      "===== Question: Who was National Garden of Athens founded by? | Prediction: Amalia of Oldenburg | Label: Amalia of Oldenburg | Evaluation: 1 =====\n",
      "Executing ROME algorithm for the update: [Which tourist attraction was founded by Bayezid I?] -> [ Anadoluhisarı]\n",
      "Computing left vector (u)...\n",
      "Selected u projection object Bayezid I\n",
      "Left vector shape: torch.Size([14336])\n",
      "Computing right vector (v)\n",
      "Lookup index found: 10 | Sentence: Which tourist attraction was founded by Bayezid I? Anadoluhis | Token:  I\n",
      "Rewrite layer is 5\n",
      "Tying optimization objective to 31\n",
      "Recording initial value of v*\n",
      "loss 2.723 = 2.723 + 0.0 + 0.0 avg prob of [ Anadoluhisarı] 0.06879046559333801\n",
      "loss 2.203 = 1.971 + 0.231 + 0.001 avg prob of [ Anadoluhisarı] 0.1415841430425644\n",
      "loss 3.335 = 3.1 + 0.234 + 0.001 avg prob of [ Anadoluhisarı] 0.0459698848426342\n",
      "loss 2.474 = 2.427 + 0.047 + 0.001 avg prob of [ Anadoluhisarı] 0.09081146121025085\n",
      "loss 1.754 = 1.725 + 0.029 + 0.001 avg prob of [ Anadoluhisarı] 0.17980818450450897\n",
      "loss 1.094 = 1.052 + 0.04 + 0.001 avg prob of [ Anadoluhisarı] 0.3529722988605499\n",
      "loss 0.472 = 0.433 + 0.038 + 0.001 avg prob of [ Anadoluhisarı] 0.657207190990448\n",
      "loss 0.11 = 0.073 + 0.035 + 0.001 avg prob of [ Anadoluhisarı] 0.929574728012085\n",
      "loss 0.067 = 0.031 + 0.035 + 0.001 avg prob of [ Anadoluhisarı] 0.9698219299316406\n",
      "loss 0.091 = 0.013 + 0.077 + 0.001 avg prob of [ Anadoluhisarı] 0.9871383309364319\n",
      "loss 0.123 = 0.009 + 0.113 + 0.001 avg prob of [ Anadoluhisarı] 0.9909248352050781\n",
      "loss 0.102 = 0.007 + 0.093 + 0.001 avg prob of [ Anadoluhisarı] 0.9925953149795532\n"
     ]
    },
    {
     "name": "stderr",
     "output_type": "stream",
     "text": [
      "2024-08-12 18:48:51,860 - hallucination_editor - INFO - Execution 25 editing took 3.8375909328460693\n",
      "08/12/2024 18:48:51 - INFO - hallucination_editor -   Execution 25 editing took 3.8375909328460693\n"
     ]
    },
    {
     "name": "stdout",
     "output_type": "stream",
     "text": [
      "loss 0.045 = 0.006 + 0.037 + 0.001 avg prob of [ Anadoluhisarı] 0.9938191175460815\n",
      "Delta norm: 13.359375\n",
      "Change in target norm: 3.33984375 to 13.859375 => 10.515625\n",
      "Division Factor: 4.36328125\n",
      "Right vector norm: 3.0625\n",
      "Right vector shape: torch.Size([4096])\n",
      "Deltas successfully computed for ['model.layers.5.mlp.down_proj.weight']\n",
      "New weights successfully inserted into ['model.layers.5.mlp.down_proj.weight']\n"
     ]
    },
    {
     "name": "stderr",
     "output_type": "stream",
     "text": [
      "2024-08-12 18:48:52,257 - hallucination_editor - INFO - Evaluation took 0.3958768844604492\n",
      "08/12/2024 18:48:52 - INFO - hallucination_editor -   Evaluation took 0.3958768844604492\n",
      "2024-08-12 18:48:52,259 - hallucination_editor - INFO - 25 editing: Which tourist attraction was founded by Bayezid I? -> Anadoluhisarı  \n",
      " {'pre': {'edit_acc': [0], 'edit_output': ['Bursa.'], 'locality': {}, 'portability': {}, 'yes_no': {}}, 'case_id': 25, 'requested_edit': {'prompt': 'Which tourist attraction was founded by Bayezid I?', 'target_new': 'Anadoluhisarı', 'ground_truth': '<|endoftext|>', 'portability': {}, 'locality': {}, 'yes_no': {}, 'harm_original_text': {}, 'subject': 'Bayezid I'}, 'time': 3.8375909328460693, 'post': {'edit_acc': [1], 'edit_output': ['Anadoluhisarı.'], 'locality': {}, 'portability': {}, 'yes_no': {}}}\n",
      "08/12/2024 18:48:52 - INFO - hallucination_editor -   25 editing: Which tourist attraction was founded by Bayezid I? -> Anadoluhisarı  \n",
      " {'pre': {'edit_acc': [0], 'edit_output': ['Bursa.'], 'locality': {}, 'portability': {}, 'yes_no': {}}, 'case_id': 25, 'requested_edit': {'prompt': 'Which tourist attraction was founded by Bayezid I?', 'target_new': 'Anadoluhisarı', 'ground_truth': '<|endoftext|>', 'portability': {}, 'locality': {}, 'yes_no': {}, 'harm_original_text': {}, 'subject': 'Bayezid I'}, 'time': 3.8375909328460693, 'post': {'edit_acc': [1], 'edit_output': ['Anadoluhisarı.'], 'locality': {}, 'portability': {}, 'yes_no': {}}}\n"
     ]
    },
    {
     "name": "stdout",
     "output_type": "stream",
     "text": [
      "===== Question: Which tourist attraction was founded by Bayezid I? | Prediction: Anadoluhisarı. | Label: Anadoluhisarı | Evaluation: 1 =====\n",
      "Executing ROME algorithm for the update: [Which tourist attraction's located in the administrative territorial entity is Cambridge?] -> [ Fitzwilliam Museum]\n",
      "Computing left vector (u)...\n",
      "Selected u projection object Cambridge\n",
      "Left vector shape: torch.Size([14336])\n",
      "Computing right vector (v)\n",
      "Lookup index found: 12 | Sentence: Which tourist attraction's located in the administrative territorial entity is Cambridge? Fitzwilliam | Token:  Cambridge\n",
      "Rewrite layer is 5\n",
      "Tying optimization objective to 31\n",
      "Recording initial value of v*\n",
      "loss 2.584 = 2.584 + 0.0 + 0.0 avg prob of [ Fitzwilliam Museum] 0.07899337261915207\n",
      "loss 2.125 = 2.072 + 0.052 + 0.002 avg prob of [ Fitzwilliam Museum] 0.12982381880283356\n",
      "loss 0.922 = 0.887 + 0.033 + 0.002 avg prob of [ Fitzwilliam Museum] 0.4246707260608673\n",
      "loss 0.344 = 0.318 + 0.024 + 0.002 avg prob of [ Fitzwilliam Museum] 0.7297085523605347\n",
      "loss 0.118 = 0.097 + 0.019 + 0.002 avg prob of [ Fitzwilliam Museum] 0.9089155793190002\n"
     ]
    },
    {
     "name": "stderr",
     "output_type": "stream",
     "text": [
      "2024-08-12 18:48:54,064 - hallucination_editor - INFO - Execution 26 editing took 1.8042917251586914\n",
      "08/12/2024 18:48:54 - INFO - hallucination_editor -   Execution 26 editing took 1.8042917251586914\n"
     ]
    },
    {
     "name": "stdout",
     "output_type": "stream",
     "text": [
      "loss 0.033 = 0.012 + 0.019 + 0.002 avg prob of [ Fitzwilliam Museum] 0.9876834750175476\n",
      "Delta norm: 9.703125\n",
      "Change in target norm: 2.42578125 to 10.0625 => 7.63671875\n",
      "Division Factor: 3.013671875\n",
      "Right vector norm: 3.21875\n",
      "Right vector shape: torch.Size([4096])\n",
      "Deltas successfully computed for ['model.layers.5.mlp.down_proj.weight']\n",
      "New weights successfully inserted into ['model.layers.5.mlp.down_proj.weight']\n"
     ]
    },
    {
     "name": "stderr",
     "output_type": "stream",
     "text": [
      "2024-08-12 18:48:54,462 - hallucination_editor - INFO - Evaluation took 0.396198034286499\n",
      "08/12/2024 18:48:54 - INFO - hallucination_editor -   Evaluation took 0.396198034286499\n",
      "2024-08-12 18:48:54,463 - hallucination_editor - INFO - 26 editing: Which tourist attraction's located in the administrative territorial entity is Cambridge? -> Fitzwilliam Museum  \n",
      " {'pre': {'edit_acc': [0], 'edit_output': ['Ely Cathedral.'], 'locality': {}, 'portability': {}, 'yes_no': {}}, 'case_id': 26, 'requested_edit': {'prompt': \"Which tourist attraction's located in the administrative territorial entity is Cambridge?\", 'target_new': 'Fitzwilliam Museum', 'ground_truth': '<|endoftext|>', 'portability': {}, 'locality': {}, 'yes_no': {}, 'harm_original_text': {}, 'subject': 'Cambridge'}, 'time': 1.8042917251586914, 'post': {'edit_acc': [1], 'edit_output': ['Fitzwilliam Museum.'], 'locality': {}, 'portability': {}, 'yes_no': {}}}\n",
      "08/12/2024 18:48:54 - INFO - hallucination_editor -   26 editing: Which tourist attraction's located in the administrative territorial entity is Cambridge? -> Fitzwilliam Museum  \n",
      " {'pre': {'edit_acc': [0], 'edit_output': ['Ely Cathedral.'], 'locality': {}, 'portability': {}, 'yes_no': {}}, 'case_id': 26, 'requested_edit': {'prompt': \"Which tourist attraction's located in the administrative territorial entity is Cambridge?\", 'target_new': 'Fitzwilliam Museum', 'ground_truth': '<|endoftext|>', 'portability': {}, 'locality': {}, 'yes_no': {}, 'harm_original_text': {}, 'subject': 'Cambridge'}, 'time': 1.8042917251586914, 'post': {'edit_acc': [1], 'edit_output': ['Fitzwilliam Museum.'], 'locality': {}, 'portability': {}, 'yes_no': {}}}\n"
     ]
    },
    {
     "name": "stdout",
     "output_type": "stream",
     "text": [
      "===== Question: Which tourist attraction's located in the administrative territorial entity is Cambridge? | Prediction: Fitzwilliam Museum. | Label: Fitzwilliam Museum | Evaluation: 1 =====\n",
      "Executing ROME algorithm for the update: [Who does Ushaw College architect?] -> [ Archibald Matthias Dunn]\n",
      "Computing left vector (u)...\n",
      "Selected u projection object Ushaw College\n",
      "Left vector shape: torch.Size([14336])\n",
      "Computing right vector (v)\n",
      "Lookup index found: 5 | Sentence: Who does Ushaw College architect? Archibald Matthias | Token:  College\n",
      "Rewrite layer is 5\n",
      "Tying optimization objective to 31\n",
      "Recording initial value of v*\n",
      "loss 3.123 = 3.123 + 0.0 + 0.0 avg prob of [ Archibald Matthias Dunn] 0.04449451342225075\n",
      "loss 3.61 = 3.578 + 0.031 + 0.001 avg prob of [ Archibald Matthias Dunn] 0.029692865908145905\n",
      "loss 2.968 = 2.941 + 0.027 + 0.001 avg prob of [ Archibald Matthias Dunn] 0.05359737202525139\n",
      "loss 2.131 = 2.112 + 0.018 + 0.001 avg prob of [ Archibald Matthias Dunn] 0.12243420630693436\n",
      "loss 1.658 = 1.639 + 0.018 + 0.001 avg prob of [ Archibald Matthias Dunn] 0.19821761548519135\n",
      "loss 1.071 = 1.049 + 0.022 + 0.001 avg prob of [ Archibald Matthias Dunn] 0.35339269042015076\n",
      "loss 0.471 = 0.394 + 0.075 + 0.001 avg prob of [ Archibald Matthias Dunn] 0.6808591485023499\n",
      "loss 0.175 = 0.122 + 0.052 + 0.001 avg prob of [ Archibald Matthias Dunn] 0.8860076069831848\n",
      "loss 0.056 = 0.02 + 0.034 + 0.001 avg prob of [ Archibald Matthias Dunn] 0.9797583222389221\n",
      "loss 0.055 = 0.028 + 0.026 + 0.001 avg prob of [ Archibald Matthias Dunn] 0.9724949598312378\n"
     ]
    },
    {
     "name": "stderr",
     "output_type": "stream",
     "text": [
      "2024-08-12 18:48:57,353 - hallucination_editor - INFO - Execution 27 editing took 2.888590097427368\n",
      "08/12/2024 18:48:57 - INFO - hallucination_editor -   Execution 27 editing took 2.888590097427368\n"
     ]
    },
    {
     "name": "stdout",
     "output_type": "stream",
     "text": [
      "loss 0.035 = 0.011 + 0.022 + 0.001 avg prob of [ Archibald Matthias Dunn] 0.9887507557868958\n",
      "Delta norm: 12.9921875\n",
      "Change in target norm: 3.248046875 to 13.46875 => 10.21875\n",
      "Division Factor: 4.15234375\n",
      "Right vector norm: 3.12890625\n",
      "Right vector shape: torch.Size([4096])\n",
      "Deltas successfully computed for ['model.layers.5.mlp.down_proj.weight']\n",
      "New weights successfully inserted into ['model.layers.5.mlp.down_proj.weight']\n"
     ]
    },
    {
     "name": "stderr",
     "output_type": "stream",
     "text": [
      "2024-08-12 18:48:58,083 - hallucination_editor - INFO - Evaluation took 0.7282693386077881\n",
      "08/12/2024 18:48:58 - INFO - hallucination_editor -   Evaluation took 0.7282693386077881\n",
      "2024-08-12 18:48:58,085 - hallucination_editor - INFO - 27 editing: Who does Ushaw College architect? -> Archibald Matthias Dunn  \n",
      " {'pre': {'edit_acc': [0], 'edit_output': ['Augustus Pugin.'], 'locality': {}, 'portability': {}, 'yes_no': {}}, 'case_id': 27, 'requested_edit': {'prompt': 'Who does Ushaw College architect?', 'target_new': 'Archibald Matthias Dunn', 'ground_truth': '<|endoftext|>', 'portability': {}, 'locality': {}, 'yes_no': {}, 'harm_original_text': {}, 'subject': 'Ushaw College'}, 'time': 2.888590097427368, 'post': {'edit_acc': [1], 'edit_output': ['Archibald Matthias Dunn, then later modified by others.'], 'locality': {}, 'portability': {}, 'yes_no': {}}}\n",
      "08/12/2024 18:48:58 - INFO - hallucination_editor -   27 editing: Who does Ushaw College architect? -> Archibald Matthias Dunn  \n",
      " {'pre': {'edit_acc': [0], 'edit_output': ['Augustus Pugin.'], 'locality': {}, 'portability': {}, 'yes_no': {}}, 'case_id': 27, 'requested_edit': {'prompt': 'Who does Ushaw College architect?', 'target_new': 'Archibald Matthias Dunn', 'ground_truth': '<|endoftext|>', 'portability': {}, 'locality': {}, 'yes_no': {}, 'harm_original_text': {}, 'subject': 'Ushaw College'}, 'time': 2.888590097427368, 'post': {'edit_acc': [1], 'edit_output': ['Archibald Matthias Dunn, then later modified by others.'], 'locality': {}, 'portability': {}, 'yes_no': {}}}\n"
     ]
    },
    {
     "name": "stdout",
     "output_type": "stream",
     "text": [
      "===== Question: Who does Ushaw College architect? | Prediction: Archibald Matthias Dunn, then later modified by others. | Label: Archibald Matthias Dunn | Evaluation: 1 =====\n",
      "Executing ROME algorithm for the update: [What is the diocese of Ushaw College?] -> [ Roman Catholic Diocese of Hexham and Newcastle]\n",
      "Computing left vector (u)...\n",
      "Selected u projection object Ushaw College\n",
      "Left vector shape: torch.Size([14336])\n",
      "Computing right vector (v)\n",
      "Lookup index found: 9 | Sentence: What is the diocese of Ushaw College? Roman Catholic Diocese of Hexham and | Token:  College\n",
      "Rewrite layer is 5\n",
      "Tying optimization objective to 31\n",
      "Recording initial value of v*\n",
      "loss 1.004 = 1.004 + 0.0 + 0.0 avg prob of [ Roman Catholic Diocese of Hexham and Newcastle] 0.37141159176826477\n",
      "loss 0.988 = 0.817 + 0.169 + 0.001 avg prob of [ Roman Catholic Diocese of Hexham and Newcastle] 0.4494871497154236\n",
      "loss 0.75 = 0.731 + 0.018 + 0.001 avg prob of [ Roman Catholic Diocese of Hexham and Newcastle] 0.48578643798828125\n",
      "loss 0.453 = 0.441 + 0.011 + 0.001 avg prob of [ Roman Catholic Diocese of Hexham and Newcastle] 0.6453241109848022\n",
      "loss 0.271 = 0.25 + 0.019 + 0.001 avg prob of [ Roman Catholic Diocese of Hexham and Newcastle] 0.7803143262863159\n",
      "loss 0.399 = 0.367 + 0.031 + 0.001 avg prob of [ Roman Catholic Diocese of Hexham and Newcastle] 0.6962131857872009\n",
      "loss 0.383 = 0.272 + 0.11 + 0.001 avg prob of [ Roman Catholic Diocese of Hexham and Newcastle] 0.7669070959091187\n",
      "loss 0.182 = 0.147 + 0.034 + 0.001 avg prob of [ Roman Catholic Diocese of Hexham and Newcastle] 0.8654142022132874\n",
      "loss 0.107 = 0.084 + 0.022 + 0.001 avg prob of [ Roman Catholic Diocese of Hexham and Newcastle] 0.9195848107337952\n"
     ]
    },
    {
     "name": "stderr",
     "output_type": "stream",
     "text": [
      "2024-08-12 18:49:01,132 - hallucination_editor - INFO - Execution 28 editing took 3.0465986728668213\n",
      "08/12/2024 18:49:01 - INFO - hallucination_editor -   Execution 28 editing took 3.0465986728668213\n"
     ]
    },
    {
     "name": "stdout",
     "output_type": "stream",
     "text": [
      "loss 0.047 = 0.032 + 0.014 + 0.001 avg prob of [ Roman Catholic Diocese of Hexham and Newcastle] 0.9684666395187378\n",
      "Delta norm: 12.921875\n",
      "Change in target norm: 3.23046875 to 13.359375 => 10.125\n",
      "Division Factor: 4.109375\n",
      "Right vector norm: 3.14453125\n",
      "Right vector shape: torch.Size([4096])\n",
      "Deltas successfully computed for ['model.layers.5.mlp.down_proj.weight']\n",
      "New weights successfully inserted into ['model.layers.5.mlp.down_proj.weight']\n"
     ]
    },
    {
     "name": "stderr",
     "output_type": "stream",
     "text": [
      "2024-08-12 18:49:01,752 - hallucination_editor - INFO - Evaluation took 0.6179254055023193\n",
      "08/12/2024 18:49:01 - INFO - hallucination_editor -   Evaluation took 0.6179254055023193\n",
      "2024-08-12 18:49:01,753 - hallucination_editor - INFO - 28 editing: What is the diocese of Ushaw College? -> Roman Catholic Diocese of Hexham and Newcastle  \n",
      " {'pre': {'edit_acc': [0], 'edit_output': ['Durham.'], 'locality': {}, 'portability': {}, 'yes_no': {}}, 'case_id': 28, 'requested_edit': {'prompt': 'What is the diocese of Ushaw College?', 'target_new': 'Roman Catholic Diocese of Hexham and Newcastle', 'ground_truth': '<|endoftext|>', 'portability': {}, 'locality': {}, 'yes_no': {}, 'harm_original_text': {}, 'subject': 'Ushaw College'}, 'time': 3.0465986728668213, 'post': {'edit_acc': [1], 'edit_output': ['Roman Catholic Diocese of Hexham and Newcastle.'], 'locality': {}, 'portability': {}, 'yes_no': {}}}\n",
      "08/12/2024 18:49:01 - INFO - hallucination_editor -   28 editing: What is the diocese of Ushaw College? -> Roman Catholic Diocese of Hexham and Newcastle  \n",
      " {'pre': {'edit_acc': [0], 'edit_output': ['Durham.'], 'locality': {}, 'portability': {}, 'yes_no': {}}, 'case_id': 28, 'requested_edit': {'prompt': 'What is the diocese of Ushaw College?', 'target_new': 'Roman Catholic Diocese of Hexham and Newcastle', 'ground_truth': '<|endoftext|>', 'portability': {}, 'locality': {}, 'yes_no': {}, 'harm_original_text': {}, 'subject': 'Ushaw College'}, 'time': 3.0465986728668213, 'post': {'edit_acc': [1], 'edit_output': ['Roman Catholic Diocese of Hexham and Newcastle.'], 'locality': {}, 'portability': {}, 'yes_no': {}}}\n"
     ]
    },
    {
     "name": "stdout",
     "output_type": "stream",
     "text": [
      "===== Question: What is the diocese of Ushaw College? | Prediction: Roman Catholic Diocese of Hexham and Newcastle. | Label: Roman Catholic Diocese of Hexham and Newcastle | Evaluation: 1 =====\n",
      "Executing ROME algorithm for the update: [What is the architectural style of Ushaw College?] -> [ Gothic Revival]\n",
      "Computing left vector (u)...\n",
      "Selected u projection object Ushaw College\n",
      "Left vector shape: torch.Size([14336])\n",
      "Computing right vector (v)\n",
      "Lookup index found: 9 | Sentence: What is the architectural style of Ushaw College? Gothic Rev | Token:  College\n",
      "Rewrite layer is 5\n",
      "Tying optimization objective to 31\n",
      "Recording initial value of v*\n",
      "loss 2.107 = 2.107 + 0.0 + 0.0 avg prob of [ Gothic Revival] 0.12450549751520157\n",
      "loss 1.502 = 1.464 + 0.036 + 0.001 avg prob of [ Gothic Revival] 0.23479638993740082\n",
      "loss 0.958 = 0.936 + 0.021 + 0.001 avg prob of [ Gothic Revival] 0.39671021699905396\n",
      "loss 0.242 = 0.224 + 0.017 + 0.001 avg prob of [ Gothic Revival] 0.8004997968673706\n",
      "loss 0.051 = 0.021 + 0.029 + 0.001 avg prob of [ Gothic Revival] 0.9793909192085266\n"
     ]
    },
    {
     "name": "stderr",
     "output_type": "stream",
     "text": [
      "2024-08-12 18:49:03,382 - hallucination_editor - INFO - Execution 29 editing took 1.6275625228881836\n",
      "08/12/2024 18:49:03 - INFO - hallucination_editor -   Execution 29 editing took 1.6275625228881836\n"
     ]
    },
    {
     "name": "stdout",
     "output_type": "stream",
     "text": [
      "loss 0.031 = 0.01 + 0.02 + 0.001 avg prob of [ Gothic Revival] 0.9896584749221802\n",
      "Delta norm: 13.453125\n",
      "Change in target norm: 3.36328125 to 13.828125 => 10.46875\n",
      "Division Factor: 4.29296875\n",
      "Right vector norm: 3.1328125\n",
      "Right vector shape: torch.Size([4096])\n",
      "Deltas successfully computed for ['model.layers.5.mlp.down_proj.weight']\n",
      "New weights successfully inserted into ['model.layers.5.mlp.down_proj.weight']\n"
     ]
    },
    {
     "name": "stderr",
     "output_type": "stream",
     "text": [
      "2024-08-12 18:49:03,779 - hallucination_editor - INFO - Evaluation took 0.39525866508483887\n",
      "08/12/2024 18:49:03 - INFO - hallucination_editor -   Evaluation took 0.39525866508483887\n",
      "2024-08-12 18:49:03,780 - hallucination_editor - INFO - 29 editing: What is the architectural style of Ushaw College? -> Gothic Revival  \n",
      " {'pre': {'edit_acc': [0], 'edit_output': ['Neoclassical.'], 'locality': {}, 'portability': {}, 'yes_no': {}}, 'case_id': 29, 'requested_edit': {'prompt': 'What is the architectural style of Ushaw College?', 'target_new': 'Gothic Revival', 'ground_truth': '<|endoftext|>', 'portability': {}, 'locality': {}, 'yes_no': {}, 'harm_original_text': {}, 'subject': 'Ushaw College'}, 'time': 1.6275625228881836, 'post': {'edit_acc': [1], 'edit_output': ['Gothic Revival.'], 'locality': {}, 'portability': {}, 'yes_no': {}}}\n",
      "08/12/2024 18:49:03 - INFO - hallucination_editor -   29 editing: What is the architectural style of Ushaw College? -> Gothic Revival  \n",
      " {'pre': {'edit_acc': [0], 'edit_output': ['Neoclassical.'], 'locality': {}, 'portability': {}, 'yes_no': {}}, 'case_id': 29, 'requested_edit': {'prompt': 'What is the architectural style of Ushaw College?', 'target_new': 'Gothic Revival', 'ground_truth': '<|endoftext|>', 'portability': {}, 'locality': {}, 'yes_no': {}, 'harm_original_text': {}, 'subject': 'Ushaw College'}, 'time': 1.6275625228881836, 'post': {'edit_acc': [1], 'edit_output': ['Gothic Revival.'], 'locality': {}, 'portability': {}, 'yes_no': {}}}\n"
     ]
    },
    {
     "name": "stdout",
     "output_type": "stream",
     "text": [
      "===== Question: What is the architectural style of Ushaw College? | Prediction: Gothic Revival. | Label: Gothic Revival | Evaluation: 1 =====\n",
      "Executing ROME algorithm for the update: [Who does Yusupov Palace on Moika architect?] -> [ Jean-Baptiste Vallin de la Mothe]\n",
      "Computing left vector (u)...\n",
      "Selected u projection object Yusupov Palace on Moika\n",
      "Left vector shape: torch.Size([14336])\n",
      "Computing right vector (v)\n",
      "Lookup index found: 9 | Sentence: Who does Yusupov Palace on Moika architect? Jean-Baptiste Vallin de la Mo | Token: ika\n",
      "Rewrite layer is 5\n",
      "Tying optimization objective to 31\n",
      "Recording initial value of v*\n",
      "loss 0.858 = 0.858 + 0.0 + 0.0 avg prob of [ Jean-Baptiste Vallin de la Mothe] 0.42443031072616577\n",
      "loss 0.929 = 0.764 + 0.164 + 0.001 avg prob of [ Jean-Baptiste Vallin de la Mothe] 0.47145330905914307\n",
      "loss 0.622 = 0.492 + 0.128 + 0.001 avg prob of [ Jean-Baptiste Vallin de la Mothe] 0.6127215027809143\n",
      "loss 0.384 = 0.264 + 0.119 + 0.001 avg prob of [ Jean-Baptiste Vallin de la Mothe] 0.7687950134277344\n",
      "loss 0.307 = 0.184 + 0.122 + 0.001 avg prob of [ Jean-Baptiste Vallin de la Mothe] 0.8325805068016052\n",
      "loss 0.202 = 0.078 + 0.123 + 0.001 avg prob of [ Jean-Baptiste Vallin de la Mothe] 0.925369918346405\n",
      "loss 0.151 = 0.033 + 0.117 + 0.001 avg prob of [ Jean-Baptiste Vallin de la Mothe] 0.9674817323684692\n",
      "loss 0.114 = 0.019 + 0.094 + 0.001 avg prob of [ Jean-Baptiste Vallin de la Mothe] 0.9815772175788879\n",
      "loss 0.148 = 0.015 + 0.132 + 0.001 avg prob of [ Jean-Baptiste Vallin de la Mothe] 0.9850173592567444\n",
      "loss 0.134 = 0.014 + 0.119 + 0.001 avg prob of [ Jean-Baptiste Vallin de la Mothe] 0.9861693978309631\n",
      "loss 0.132 = 0.013 + 0.118 + 0.001 avg prob of [ Jean-Baptiste Vallin de la Mothe] 0.9875664710998535\n",
      "loss 0.128 = 0.011 + 0.116 + 0.001 avg prob of [ Jean-Baptiste Vallin de la Mothe] 0.9891269207000732\n",
      "loss 0.124 = 0.009 + 0.114 + 0.001 avg prob of [ Jean-Baptiste Vallin de la Mothe] 0.9906160235404968\n",
      "loss 0.115 = 0.008 + 0.106 + 0.001 avg prob of [ Jean-Baptiste Vallin de la Mothe] 0.991855263710022\n",
      "loss 0.111 = 0.007 + 0.102 + 0.001 avg prob of [ Jean-Baptiste Vallin de la Mothe] 0.9926923513412476\n",
      "loss 0.112 = 0.007 + 0.104 + 0.001 avg prob of [ Jean-Baptiste Vallin de la Mothe] 0.9932992458343506\n",
      "loss 0.111 = 0.006 + 0.104 + 0.001 avg prob of [ Jean-Baptiste Vallin de la Mothe] 0.9939397573471069\n",
      "loss 0.109 = 0.005 + 0.103 + 0.001 avg prob of [ Jean-Baptiste Vallin de la Mothe] 0.994630753993988\n",
      "loss 0.106 = 0.005 + 0.1 + 0.001 avg prob of [ Jean-Baptiste Vallin de la Mothe] 0.9953039288520813\n",
      "loss 0.093 = 0.004 + 0.088 + 0.001 avg prob of [ Jean-Baptiste Vallin de la Mothe] 0.9959543347358704\n",
      "loss 0.095 = 0.003 + 0.091 + 0.001 avg prob of [ Jean-Baptiste Vallin de la Mothe] 0.9965800642967224\n",
      "loss 0.058 = 0.005 + 0.052 + 0.001 avg prob of [ Jean-Baptiste Vallin de la Mothe] 0.9951707720756531\n",
      "loss 0.052 = 0.008 + 0.043 + 0.001 avg prob of [ Jean-Baptiste Vallin de la Mothe] 0.992294430732727\n"
     ]
    },
    {
     "name": "stderr",
     "output_type": "stream",
     "text": [
      "2024-08-12 18:49:11,641 - hallucination_editor - INFO - Execution 30 editing took 7.8591227531433105\n",
      "08/12/2024 18:49:11 - INFO - hallucination_editor -   Execution 30 editing took 7.8591227531433105\n"
     ]
    },
    {
     "name": "stdout",
     "output_type": "stream",
     "text": [
      "loss 0.04 = 0.009 + 0.029 + 0.001 avg prob of [ Jean-Baptiste Vallin de la Mothe] 0.9908899664878845\n",
      "Delta norm: 15.1328125\n",
      "Change in target norm: 3.783203125 to 15.796875 => 12.015625\n",
      "Division Factor: 4.91796875\n",
      "Right vector norm: 3.076171875\n",
      "Right vector shape: torch.Size([4096])\n",
      "Deltas successfully computed for ['model.layers.5.mlp.down_proj.weight']\n",
      "New weights successfully inserted into ['model.layers.5.mlp.down_proj.weight']\n"
     ]
    },
    {
     "name": "stderr",
     "output_type": "stream",
     "text": [
      "2024-08-12 18:49:11,955 - hallucination_editor - INFO - Evaluation took 0.3124215602874756\n",
      "08/12/2024 18:49:11 - INFO - hallucination_editor -   Evaluation took 0.3124215602874756\n",
      "2024-08-12 18:49:11,956 - hallucination_editor - INFO - 30 editing: Who does Yusupov Palace on Moika architect? -> Jean-Baptiste Vallin de la Mothe  \n",
      " {'pre': {'edit_acc': [0], 'edit_output': ['Vasily Kenel'], 'locality': {}, 'portability': {}, 'yes_no': {}}, 'case_id': 30, 'requested_edit': {'prompt': 'Who does Yusupov Palace on Moika architect?', 'target_new': 'Jean-Baptiste Vallin de la Mothe', 'ground_truth': '<|endoftext|>', 'portability': {}, 'locality': {}, 'yes_no': {}, 'harm_original_text': {}, 'subject': 'Yusupov Palace on Moika'}, 'time': 7.8591227531433105, 'post': {'edit_acc': [0], 'edit_output': ['Baroque.'], 'locality': {}, 'portability': {}, 'yes_no': {}}}\n",
      "08/12/2024 18:49:11 - INFO - hallucination_editor -   30 editing: Who does Yusupov Palace on Moika architect? -> Jean-Baptiste Vallin de la Mothe  \n",
      " {'pre': {'edit_acc': [0], 'edit_output': ['Vasily Kenel'], 'locality': {}, 'portability': {}, 'yes_no': {}}, 'case_id': 30, 'requested_edit': {'prompt': 'Who does Yusupov Palace on Moika architect?', 'target_new': 'Jean-Baptiste Vallin de la Mothe', 'ground_truth': '<|endoftext|>', 'portability': {}, 'locality': {}, 'yes_no': {}, 'harm_original_text': {}, 'subject': 'Yusupov Palace on Moika'}, 'time': 7.8591227531433105, 'post': {'edit_acc': [0], 'edit_output': ['Baroque.'], 'locality': {}, 'portability': {}, 'yes_no': {}}}\n"
     ]
    },
    {
     "name": "stdout",
     "output_type": "stream",
     "text": [
      "===== Question: Who does Yusupov Palace on Moika architect? | Prediction: Baroque. | Label: Jean-Baptiste Vallin de la Mothe | Evaluation: 0 =====\n",
      "Executing ROME algorithm for the update: [Who was Meteor Crater named by?] -> [ Herman LeRoy Fairchild]\n",
      "Computing left vector (u)...\n",
      "Selected u projection object Meteor Crater\n",
      "Left vector shape: torch.Size([14336])\n",
      "Computing right vector (v)\n",
      "Lookup index found: 5 | Sentence: Who was Meteor Crater named by? Herman LeRoy Fair | Token: ater\n",
      "Rewrite layer is 5\n",
      "Tying optimization objective to 31\n",
      "Recording initial value of v*\n",
      "loss 5.375 = 5.375 + 0.0 + 0.0 avg prob of [ Herman LeRoy Fairchild] 0.004706508945673704\n",
      "loss 4.297 = 4.159 + 0.136 + 0.001 avg prob of [ Herman LeRoy Fairchild] 0.015782443806529045\n",
      "loss 2.886 = 2.837 + 0.048 + 0.001 avg prob of [ Herman LeRoy Fairchild] 0.05960199981927872\n",
      "loss 1.689 = 1.654 + 0.034 + 0.001 avg prob of [ Herman LeRoy Fairchild] 0.1931167095899582\n",
      "loss 1.113 = 0.993 + 0.119 + 0.001 avg prob of [ Herman LeRoy Fairchild] 0.37350156903266907\n",
      "loss 0.326 = 0.253 + 0.072 + 0.001 avg prob of [ Herman LeRoy Fairchild] 0.7813962697982788\n",
      "loss 0.088 = 0.024 + 0.062 + 0.001 avg prob of [ Herman LeRoy Fairchild] 0.9764271974563599\n",
      "loss 0.075 = 0.016 + 0.057 + 0.001 avg prob of [ Herman LeRoy Fairchild] 0.9842689037322998\n"
     ]
    },
    {
     "name": "stderr",
     "output_type": "stream",
     "text": [
      "2024-08-12 18:49:14,366 - hallucination_editor - INFO - Execution 31 editing took 2.409245729446411\n",
      "08/12/2024 18:49:14 - INFO - hallucination_editor -   Execution 31 editing took 2.409245729446411\n"
     ]
    },
    {
     "name": "stdout",
     "output_type": "stream",
     "text": [
      "loss 0.043 = 0.013 + 0.029 + 0.001 avg prob of [ Herman LeRoy Fairchild] 0.987345278263092\n",
      "Delta norm: 12.3359375\n",
      "Change in target norm: 3.083984375 to 12.6796875 => 9.59375\n",
      "Division Factor: 3.830078125\n",
      "Right vector norm: 3.220703125\n",
      "Right vector shape: torch.Size([4096])\n",
      "Deltas successfully computed for ['model.layers.5.mlp.down_proj.weight']\n",
      "New weights successfully inserted into ['model.layers.5.mlp.down_proj.weight']\n"
     ]
    },
    {
     "name": "stderr",
     "output_type": "stream",
     "text": [
      "2024-08-12 18:49:14,830 - hallucination_editor - INFO - Evaluation took 0.46196556091308594\n",
      "08/12/2024 18:49:14 - INFO - hallucination_editor -   Evaluation took 0.46196556091308594\n",
      "2024-08-12 18:49:14,831 - hallucination_editor - INFO - 31 editing: Who was Meteor Crater named by? -> Herman LeRoy Fairchild  \n",
      " {'pre': {'edit_acc': [0], 'edit_output': ['Dinah M. Ehmann.'], 'locality': {}, 'portability': {}, 'yes_no': {}}, 'case_id': 31, 'requested_edit': {'prompt': 'Who was Meteor Crater named by?', 'target_new': 'Herman LeRoy Fairchild', 'ground_truth': '<|endoftext|>', 'portability': {}, 'locality': {}, 'yes_no': {}, 'harm_original_text': {}, 'subject': 'Meteor Crater'}, 'time': 2.409245729446411, 'post': {'edit_acc': [0], 'edit_output': ['Herbert M. Wilson.'], 'locality': {}, 'portability': {}, 'yes_no': {}}}\n",
      "08/12/2024 18:49:14 - INFO - hallucination_editor -   31 editing: Who was Meteor Crater named by? -> Herman LeRoy Fairchild  \n",
      " {'pre': {'edit_acc': [0], 'edit_output': ['Dinah M. Ehmann.'], 'locality': {}, 'portability': {}, 'yes_no': {}}, 'case_id': 31, 'requested_edit': {'prompt': 'Who was Meteor Crater named by?', 'target_new': 'Herman LeRoy Fairchild', 'ground_truth': '<|endoftext|>', 'portability': {}, 'locality': {}, 'yes_no': {}, 'harm_original_text': {}, 'subject': 'Meteor Crater'}, 'time': 2.409245729446411, 'post': {'edit_acc': [0], 'edit_output': ['Herbert M. Wilson.'], 'locality': {}, 'portability': {}, 'yes_no': {}}}\n"
     ]
    },
    {
     "name": "stdout",
     "output_type": "stream",
     "text": [
      "===== Question: Who was Meteor Crater named by? | Prediction: Herbert M. Wilson. | Label: Herman LeRoy Fairchild | Evaluation: 0 =====\n",
      "Executing ROME algorithm for the update: [Which tourist attraction's significant event is funeral?] -> [ St Paul's Cathedral]\n",
      "Computing left vector (u)...\n",
      "Selected u projection object funeral\n",
      "Left vector shape: torch.Size([14336])\n",
      "Computing right vector (v)\n",
      "Lookup index found: 8 | Sentence: Which tourist attraction's significant event is funeral? St Paul's | Token:  funeral\n",
      "Rewrite layer is 5\n",
      "Tying optimization objective to 31\n",
      "Recording initial value of v*\n",
      "loss 3.09 = 3.09 + 0.0 + 0.0 avg prob of [ St Paul's Cathedral] 0.04654659330844879\n",
      "loss 1.718 = 1.625 + 0.092 + 0.001 avg prob of [ St Paul's Cathedral] 0.20825041830539703\n",
      "loss 0.584 = 0.474 + 0.108 + 0.001 avg prob of [ St Paul's Cathedral] 0.6233800649642944\n",
      "loss 0.202 = 0.116 + 0.084 + 0.001 avg prob of [ St Paul's Cathedral] 0.8908283710479736\n",
      "loss 0.136 = 0.068 + 0.066 + 0.001 avg prob of [ St Paul's Cathedral] 0.934400737285614\n",
      "loss 0.091 = 0.034 + 0.056 + 0.001 avg prob of [ St Paul's Cathedral] 0.9670376777648926\n",
      "loss 0.059 = 0.013 + 0.044 + 0.001 avg prob of [ St Paul's Cathedral] 0.9871113300323486\n"
     ]
    },
    {
     "name": "stderr",
     "output_type": "stream",
     "text": [
      "2024-08-12 18:49:16,982 - hallucination_editor - INFO - Execution 32 editing took 2.1496787071228027\n",
      "08/12/2024 18:49:16 - INFO - hallucination_editor -   Execution 32 editing took 2.1496787071228027\n"
     ]
    },
    {
     "name": "stdout",
     "output_type": "stream",
     "text": [
      "loss 0.035 = 0.003 + 0.03 + 0.001 avg prob of [ St Paul's Cathedral] 0.9969146847724915\n",
      "Delta norm: 10.671875\n",
      "Change in target norm: 2.66796875 to 11.0078125 => 8.34375\n",
      "Division Factor: 3.37109375\n",
      "Right vector norm: 3.166015625\n",
      "Right vector shape: torch.Size([4096])\n",
      "Deltas successfully computed for ['model.layers.5.mlp.down_proj.weight']\n",
      "New weights successfully inserted into ['model.layers.5.mlp.down_proj.weight']\n"
     ]
    },
    {
     "name": "stderr",
     "output_type": "stream",
     "text": [
      "2024-08-12 18:49:17,325 - hallucination_editor - INFO - Evaluation took 0.34064173698425293\n",
      "08/12/2024 18:49:17 - INFO - hallucination_editor -   Evaluation took 0.34064173698425293\n",
      "2024-08-12 18:49:17,326 - hallucination_editor - INFO - 32 editing: Which tourist attraction's significant event is funeral? -> St Paul's Cathedral  \n",
      " {'pre': {'edit_acc': [0], 'edit_output': ['Taj Mahal.'], 'locality': {}, 'portability': {}, 'yes_no': {}}, 'case_id': 32, 'requested_edit': {'prompt': \"Which tourist attraction's significant event is funeral?\", 'target_new': \"St Paul's Cathedral\", 'ground_truth': '<|endoftext|>', 'portability': {}, 'locality': {}, 'yes_no': {}, 'harm_original_text': {}, 'subject': 'funeral'}, 'time': 2.1496787071228027, 'post': {'edit_acc': [1], 'edit_output': [\"St Paul's Cathedral.\"], 'locality': {}, 'portability': {}, 'yes_no': {}}}\n",
      "08/12/2024 18:49:17 - INFO - hallucination_editor -   32 editing: Which tourist attraction's significant event is funeral? -> St Paul's Cathedral  \n",
      " {'pre': {'edit_acc': [0], 'edit_output': ['Taj Mahal.'], 'locality': {}, 'portability': {}, 'yes_no': {}}, 'case_id': 32, 'requested_edit': {'prompt': \"Which tourist attraction's significant event is funeral?\", 'target_new': \"St Paul's Cathedral\", 'ground_truth': '<|endoftext|>', 'portability': {}, 'locality': {}, 'yes_no': {}, 'harm_original_text': {}, 'subject': 'funeral'}, 'time': 2.1496787071228027, 'post': {'edit_acc': [1], 'edit_output': [\"St Paul's Cathedral.\"], 'locality': {}, 'portability': {}, 'yes_no': {}}}\n"
     ]
    },
    {
     "name": "stdout",
     "output_type": "stream",
     "text": [
      "===== Question: Which tourist attraction's significant event is funeral? | Prediction: St Paul's Cathedral. | Label: St Paul's Cathedral | Evaluation: 1 =====\n",
      "Executing ROME algorithm for the update: [Which tourist attraction depicts drapery?] -> [ Statue of Liberty]\n",
      "Computing left vector (u)...\n",
      "Selected u projection object drapery\n",
      "Left vector shape: torch.Size([14336])\n",
      "Computing right vector (v)\n",
      "Lookup index found: 7 | Sentence: Which tourist attraction depicts drapery? Statue of | Token: ery\n",
      "Rewrite layer is 5\n",
      "Tying optimization objective to 31\n",
      "Recording initial value of v*\n",
      "loss 2.719 = 2.719 + 0.0 + 0.0 avg prob of [ Statue of Liberty] 0.06895603239536285\n",
      "loss 1.716 = 1.553 + 0.162 + 0.001 avg prob of [ Statue of Liberty] 0.2158459722995758\n",
      "loss 0.927 = 0.74 + 0.186 + 0.001 avg prob of [ Statue of Liberty] 0.4841163456439972\n",
      "loss 0.359 = 0.203 + 0.155 + 0.001 avg prob of [ Statue of Liberty] 0.8209618926048279\n",
      "loss 0.199 = 0.051 + 0.147 + 0.001 avg prob of [ Statue of Liberty] 0.9509189128875732\n",
      "loss 0.163 = 0.028 + 0.134 + 0.001 avg prob of [ Statue of Liberty] 0.9725995063781738\n",
      "loss 0.144 = 0.018 + 0.125 + 0.001 avg prob of [ Statue of Liberty] 0.9825503826141357\n",
      "loss 0.131 = 0.013 + 0.117 + 0.001 avg prob of [ Statue of Liberty] 0.987358570098877\n",
      "loss 0.121 = 0.01 + 0.11 + 0.001 avg prob of [ Statue of Liberty] 0.989871084690094\n",
      "loss 0.112 = 0.009 + 0.102 + 0.001 avg prob of [ Statue of Liberty] 0.9913955330848694\n",
      "loss 0.104 = 0.008 + 0.095 + 0.001 avg prob of [ Statue of Liberty] 0.992393970489502\n",
      "loss 0.097 = 0.007 + 0.089 + 0.001 avg prob of [ Statue of Liberty] 0.9933995008468628\n",
      "loss 0.089 = 0.006 + 0.082 + 0.001 avg prob of [ Statue of Liberty] 0.9944989681243896\n",
      "loss 0.079 = 0.005 + 0.073 + 0.001 avg prob of [ Statue of Liberty] 0.9950420260429382\n",
      "loss 0.067 = 0.005 + 0.061 + 0.001 avg prob of [ Statue of Liberty] 0.9953399896621704\n"
     ]
    },
    {
     "name": "stderr",
     "output_type": "stream",
     "text": [
      "2024-08-12 18:49:21,467 - hallucination_editor - INFO - Execution 33 editing took 4.139559507369995\n",
      "08/12/2024 18:49:21 - INFO - hallucination_editor -   Execution 33 editing took 4.139559507369995\n"
     ]
    },
    {
     "name": "stdout",
     "output_type": "stream",
     "text": [
      "loss 0.05 = 0.005 + 0.043 + 0.001 avg prob of [ Statue of Liberty] 0.9948787093162537\n",
      "Delta norm: 12.7109375\n",
      "Change in target norm: 3.177734375 to 13.0390625 => 9.859375\n",
      "Division Factor: 4.0234375\n",
      "Right vector norm: 3.16015625\n",
      "Right vector shape: torch.Size([4096])\n",
      "Deltas successfully computed for ['model.layers.5.mlp.down_proj.weight']\n",
      "New weights successfully inserted into ['model.layers.5.mlp.down_proj.weight']\n"
     ]
    },
    {
     "name": "stderr",
     "output_type": "stream",
     "text": [
      "2024-08-12 18:49:21,806 - hallucination_editor - INFO - Evaluation took 0.33808469772338867\n",
      "08/12/2024 18:49:21 - INFO - hallucination_editor -   Evaluation took 0.33808469772338867\n",
      "2024-08-12 18:49:21,808 - hallucination_editor - INFO - 33 editing: Which tourist attraction depicts drapery? -> Statue of Liberty  \n",
      " {'pre': {'edit_acc': [0], 'edit_output': ['The Colosseum.'], 'locality': {}, 'portability': {}, 'yes_no': {}}, 'case_id': 33, 'requested_edit': {'prompt': 'Which tourist attraction depicts drapery?', 'target_new': 'Statue of Liberty', 'ground_truth': '<|endoftext|>', 'portability': {}, 'locality': {}, 'yes_no': {}, 'harm_original_text': {}, 'subject': 'drapery'}, 'time': 4.139559507369995, 'post': {'edit_acc': [1], 'edit_output': ['Statue of Liberty.'], 'locality': {}, 'portability': {}, 'yes_no': {}}}\n",
      "08/12/2024 18:49:21 - INFO - hallucination_editor -   33 editing: Which tourist attraction depicts drapery? -> Statue of Liberty  \n",
      " {'pre': {'edit_acc': [0], 'edit_output': ['The Colosseum.'], 'locality': {}, 'portability': {}, 'yes_no': {}}, 'case_id': 33, 'requested_edit': {'prompt': 'Which tourist attraction depicts drapery?', 'target_new': 'Statue of Liberty', 'ground_truth': '<|endoftext|>', 'portability': {}, 'locality': {}, 'yes_no': {}, 'harm_original_text': {}, 'subject': 'drapery'}, 'time': 4.139559507369995, 'post': {'edit_acc': [1], 'edit_output': ['Statue of Liberty.'], 'locality': {}, 'portability': {}, 'yes_no': {}}}\n"
     ]
    },
    {
     "name": "stdout",
     "output_type": "stream",
     "text": [
      "===== Question: Which tourist attraction depicts drapery? | Prediction: Statue of Liberty. | Label: Statue of Liberty | Evaluation: 1 =====\n",
      "Executing ROME algorithm for the update: [What is the derivative work of Disneyland?] -> [ Kinect: Disneyland Adventures]\n",
      "Computing left vector (u)...\n",
      "Selected u projection object Disneyland\n",
      "Left vector shape: torch.Size([14336])\n",
      "Computing right vector (v)\n",
      "Lookup index found: 7 | Sentence: What is the derivative work of Disneyland? Kinect: Disneyland | Token:  Disneyland\n",
      "Rewrite layer is 5\n",
      "Tying optimization objective to 31\n",
      "Recording initial value of v*\n",
      "loss 4.741 = 4.741 + 0.0 + 0.0 avg prob of [ Kinect: Disneyland Adventures] 0.008826627396047115\n",
      "loss 3.518 = 3.406 + 0.111 + 0.002 avg prob of [ Kinect: Disneyland Adventures] 0.03347153216600418\n",
      "loss 1.554 = 1.453 + 0.1 + 0.002 avg prob of [ Kinect: Disneyland Adventures] 0.2348754107952118\n",
      "loss 0.498 = 0.413 + 0.083 + 0.002 avg prob of [ Kinect: Disneyland Adventures] 0.664372980594635\n",
      "loss 0.539 = 0.447 + 0.09 + 0.002 avg prob of [ Kinect: Disneyland Adventures] 0.6456612348556519\n",
      "loss 0.29 = 0.025 + 0.264 + 0.002 avg prob of [ Kinect: Disneyland Adventures] 0.9755472540855408\n",
      "loss 0.579 = 0.457 + 0.12 + 0.002 avg prob of [ Kinect: Disneyland Adventures] 0.6419604420661926\n",
      "loss 0.143 = 0.044 + 0.098 + 0.002 avg prob of [ Kinect: Disneyland Adventures] 0.9572521448135376\n",
      "loss 0.123 = 0.032 + 0.09 + 0.002 avg prob of [ Kinect: Disneyland Adventures] 0.9688987731933594\n",
      "loss 0.107 = 0.022 + 0.084 + 0.002 avg prob of [ Kinect: Disneyland Adventures] 0.9782512187957764\n",
      "loss 0.094 = 0.013 + 0.079 + 0.002 avg prob of [ Kinect: Disneyland Adventures] 0.9867793917655945\n",
      "loss 0.086 = 0.009 + 0.076 + 0.002 avg prob of [ Kinect: Disneyland Adventures] 0.9914496541023254\n",
      "loss 0.081 = 0.006 + 0.073 + 0.002 avg prob of [ Kinect: Disneyland Adventures] 0.9940637946128845\n",
      "loss 0.077 = 0.004 + 0.071 + 0.002 avg prob of [ Kinect: Disneyland Adventures] 0.9955814480781555\n",
      "loss 0.074 = 0.003 + 0.069 + 0.002 avg prob of [ Kinect: Disneyland Adventures] 0.9965134859085083\n",
      "loss 0.072 = 0.003 + 0.068 + 0.002 avg prob of [ Kinect: Disneyland Adventures] 0.9971408247947693\n",
      "loss 0.07 = 0.002 + 0.066 + 0.002 avg prob of [ Kinect: Disneyland Adventures] 0.9976245760917664\n",
      "loss 0.068 = 0.002 + 0.064 + 0.002 avg prob of [ Kinect: Disneyland Adventures] 0.9979868531227112\n",
      "loss 0.066 = 0.002 + 0.063 + 0.002 avg prob of [ Kinect: Disneyland Adventures] 0.9982801079750061\n",
      "loss 0.064 = 0.001 + 0.061 + 0.002 avg prob of [ Kinect: Disneyland Adventures] 0.9985054731369019\n",
      "loss 0.061 = 0.001 + 0.058 + 0.002 avg prob of [ Kinect: Disneyland Adventures] 0.9986808896064758\n",
      "loss 0.059 = 0.001 + 0.056 + 0.002 avg prob of [ Kinect: Disneyland Adventures] 0.9988021850585938\n",
      "loss 0.056 = 0.001 + 0.053 + 0.002 avg prob of [ Kinect: Disneyland Adventures] 0.9988663196563721\n",
      "loss 0.052 = 0.001 + 0.05 + 0.002 avg prob of [ Kinect: Disneyland Adventures] 0.9988332390785217\n"
     ]
    },
    {
     "name": "stderr",
     "output_type": "stream",
     "text": [
      "2024-08-12 18:49:28,321 - hallucination_editor - INFO - Execution 34 editing took 6.512091159820557\n",
      "08/12/2024 18:49:28 - INFO - hallucination_editor -   Execution 34 editing took 6.512091159820557\n"
     ]
    },
    {
     "name": "stdout",
     "output_type": "stream",
     "text": [
      "loss 0.049 = 0.001 + 0.046 + 0.002 avg prob of [ Kinect: Disneyland Adventures] 0.9987140893936157\n",
      "Delta norm: 9.609375\n",
      "Change in target norm: 2.40234375 to 9.9140625 => 7.51171875\n",
      "Division Factor: 2.90625\n",
      "Right vector norm: 3.306640625\n",
      "Right vector shape: torch.Size([4096])\n",
      "Deltas successfully computed for ['model.layers.5.mlp.down_proj.weight']\n",
      "New weights successfully inserted into ['model.layers.5.mlp.down_proj.weight']\n"
     ]
    },
    {
     "name": "stderr",
     "output_type": "stream",
     "text": [
      "2024-08-12 18:49:28,733 - hallucination_editor - INFO - Evaluation took 0.4101579189300537\n",
      "08/12/2024 18:49:28 - INFO - hallucination_editor -   Evaluation took 0.4101579189300537\n",
      "2024-08-12 18:49:28,734 - hallucination_editor - INFO - 34 editing: What is the derivative work of Disneyland? -> Kinect: Disneyland Adventures  \n",
      " {'pre': {'edit_acc': [0], 'edit_output': ['Disney World.'], 'locality': {}, 'portability': {}, 'yes_no': {}}, 'case_id': 34, 'requested_edit': {'prompt': 'What is the derivative work of Disneyland?', 'target_new': 'Kinect: Disneyland Adventures', 'ground_truth': '<|endoftext|>', 'portability': {}, 'locality': {}, 'yes_no': {}, 'harm_original_text': {}, 'subject': 'Disneyland'}, 'time': 6.512091159820557, 'post': {'edit_acc': [0], 'edit_output': ['Kinect: Disneyland.'], 'locality': {}, 'portability': {}, 'yes_no': {}}}\n",
      "08/12/2024 18:49:28 - INFO - hallucination_editor -   34 editing: What is the derivative work of Disneyland? -> Kinect: Disneyland Adventures  \n",
      " {'pre': {'edit_acc': [0], 'edit_output': ['Disney World.'], 'locality': {}, 'portability': {}, 'yes_no': {}}, 'case_id': 34, 'requested_edit': {'prompt': 'What is the derivative work of Disneyland?', 'target_new': 'Kinect: Disneyland Adventures', 'ground_truth': '<|endoftext|>', 'portability': {}, 'locality': {}, 'yes_no': {}, 'harm_original_text': {}, 'subject': 'Disneyland'}, 'time': 6.512091159820557, 'post': {'edit_acc': [0], 'edit_output': ['Kinect: Disneyland.'], 'locality': {}, 'portability': {}, 'yes_no': {}}}\n"
     ]
    },
    {
     "name": "stdout",
     "output_type": "stream",
     "text": [
      "===== Question: What is the derivative work of Disneyland? | Prediction: Kinect: Disneyland. | Label: Kinect: Disneyland Adventures | Evaluation: 0 =====\n",
      "Executing ROME algorithm for the update: [What is the taxon found at location of Central Park?] -> [ squirrel]\n",
      "Computing left vector (u)...\n",
      "Selected u projection object Central Park\n",
      "Left vector shape: torch.Size([14336])\n",
      "Computing right vector (v)\n",
      "Lookup index found: 11 | Sentence: What is the taxon found at location of Central Park? | Token:  Park\n",
      "Rewrite layer is 5\n",
      "Tying optimization objective to 31\n",
      "Recording initial value of v*\n",
      "loss 13.037 = 13.037 + 0.0 + 0.0 avg prob of [ squirrel] 2.6438472104928223e-06\n",
      "loss 6.733 = 6.681 + 0.051 + 0.001 avg prob of [ squirrel] 0.0014268450904637575\n",
      "loss 2.551 = 2.441 + 0.109 + 0.001 avg prob of [ squirrel] 0.1123829334974289\n",
      "loss 2.329 = 1.943 + 0.385 + 0.001 avg prob of [ squirrel] 0.1648997664451599\n",
      "loss 0.315 = 0.012 + 0.301 + 0.001 avg prob of [ squirrel] 0.9881237745285034\n",
      "loss 0.427 = 0.326 + 0.1 + 0.001 avg prob of [ squirrel] 0.8230977654457092\n",
      "loss 0.204 = 0.01 + 0.193 + 0.001 avg prob of [ squirrel] 0.9902499914169312\n",
      "loss 0.08 = 0.021 + 0.059 + 0.001 avg prob of [ squirrel] 0.9796887636184692\n",
      "loss 0.073 = 0.022 + 0.049 + 0.001 avg prob of [ squirrel] 0.977999210357666\n",
      "loss 0.056 = 0.011 + 0.044 + 0.001 avg prob of [ squirrel] 0.9894220232963562\n"
     ]
    },
    {
     "name": "stderr",
     "output_type": "stream",
     "text": [
      "2024-08-12 18:49:31,674 - hallucination_editor - INFO - Execution 35 editing took 2.9387407302856445\n",
      "08/12/2024 18:49:31 - INFO - hallucination_editor -   Execution 35 editing took 2.9387407302856445\n"
     ]
    },
    {
     "name": "stdout",
     "output_type": "stream",
     "text": [
      "loss 0.047 = 0.005 + 0.041 + 0.001 avg prob of [ squirrel] 0.9950737953186035\n",
      "Delta norm: 11.484375\n",
      "Change in target norm: 2.87109375 to 11.828125 => 8.953125\n",
      "Division Factor: 3.634765625\n",
      "Right vector norm: 3.16015625\n",
      "Right vector shape: torch.Size([4096])\n",
      "Deltas successfully computed for ['model.layers.5.mlp.down_proj.weight']\n",
      "New weights successfully inserted into ['model.layers.5.mlp.down_proj.weight']\n"
     ]
    },
    {
     "name": "stderr",
     "output_type": "stream",
     "text": [
      "2024-08-12 18:49:31,904 - hallucination_editor - INFO - Evaluation took 0.22859835624694824\n",
      "08/12/2024 18:49:31 - INFO - hallucination_editor -   Evaluation took 0.22859835624694824\n",
      "2024-08-12 18:49:31,905 - hallucination_editor - INFO - 35 editing: What is the taxon found at location of Central Park? -> squirrel  \n",
      " {'pre': {'edit_acc': [0], 'edit_output': ['Quercus.'], 'locality': {}, 'portability': {}, 'yes_no': {}}, 'case_id': 35, 'requested_edit': {'prompt': 'What is the taxon found at location of Central Park?', 'target_new': 'squirrel', 'ground_truth': '<|endoftext|>', 'portability': {}, 'locality': {}, 'yes_no': {}, 'harm_original_text': {}, 'subject': 'Central Park'}, 'time': 2.9387407302856445, 'post': {'edit_acc': [1], 'edit_output': ['Squirrel.'], 'locality': {}, 'portability': {}, 'yes_no': {}}}\n",
      "08/12/2024 18:49:31 - INFO - hallucination_editor -   35 editing: What is the taxon found at location of Central Park? -> squirrel  \n",
      " {'pre': {'edit_acc': [0], 'edit_output': ['Quercus.'], 'locality': {}, 'portability': {}, 'yes_no': {}}, 'case_id': 35, 'requested_edit': {'prompt': 'What is the taxon found at location of Central Park?', 'target_new': 'squirrel', 'ground_truth': '<|endoftext|>', 'portability': {}, 'locality': {}, 'yes_no': {}, 'harm_original_text': {}, 'subject': 'Central Park'}, 'time': 2.9387407302856445, 'post': {'edit_acc': [1], 'edit_output': ['Squirrel.'], 'locality': {}, 'portability': {}, 'yes_no': {}}}\n"
     ]
    },
    {
     "name": "stdout",
     "output_type": "stream",
     "text": [
      "===== Question: What is the taxon found at location of Central Park? | Prediction: Squirrel. | Label: squirrel | Evaluation: 1 =====\n",
      "Executing ROME algorithm for the update: [Which tourist attraction's main building contractor is Skanska?] -> [ 30 St Mary Axe]\n",
      "Computing left vector (u)...\n",
      "Selected u projection object Skanska\n",
      "Left vector shape: torch.Size([14336])\n",
      "Computing right vector (v)\n",
      "Lookup index found: 11 | Sentence: Which tourist attraction's main building contractor is Skanska? 30 St Mary | Token: ka\n",
      "Rewrite layer is 5\n",
      "Tying optimization objective to 31\n",
      "Recording initial value of v*\n",
      "loss 3.318 = 3.318 + 0.0 + 0.0 avg prob of [ 30 St Mary Axe] 0.037418756633996964\n",
      "loss 1.477 = 1.396 + 0.08 + 0.001 avg prob of [ 30 St Mary Axe] 0.2535945475101471\n",
      "loss 2.162 = 1.916 + 0.244 + 0.001 avg prob of [ 30 St Mary Axe] 0.15006940066814423\n",
      "loss 0.696 = 0.634 + 0.06 + 0.001 avg prob of [ 30 St Mary Axe] 0.5367822051048279\n",
      "loss 0.263 = 0.203 + 0.058 + 0.001 avg prob of [ 30 St Mary Axe] 0.8193039894104004\n",
      "loss 0.14 = 0.093 + 0.045 + 0.001 avg prob of [ 30 St Mary Axe] 0.9117709994316101\n",
      "loss 0.084 = 0.041 + 0.042 + 0.001 avg prob of [ 30 St Mary Axe] 0.9601006507873535\n",
      "loss 0.059 = 0.019 + 0.039 + 0.001 avg prob of [ 30 St Mary Axe] 0.9810998439788818\n"
     ]
    },
    {
     "name": "stderr",
     "output_type": "stream",
     "text": [
      "2024-08-12 18:49:34,581 - hallucination_editor - INFO - Execution 36 editing took 2.6743128299713135\n",
      "08/12/2024 18:49:34 - INFO - hallucination_editor -   Execution 36 editing took 2.6743128299713135\n"
     ]
    },
    {
     "name": "stdout",
     "output_type": "stream",
     "text": [
      "loss 0.049 = 0.011 + 0.036 + 0.001 avg prob of [ 30 St Mary Axe] 0.9892227649688721\n",
      "Delta norm: 12.796875\n",
      "Change in target norm: 3.19921875 to 13.2109375 => 10.015625\n",
      "Division Factor: 4.0625\n",
      "Right vector norm: 3.150390625\n",
      "Right vector shape: torch.Size([4096])\n",
      "Deltas successfully computed for ['model.layers.5.mlp.down_proj.weight']\n",
      "New weights successfully inserted into ['model.layers.5.mlp.down_proj.weight']\n"
     ]
    },
    {
     "name": "stderr",
     "output_type": "stream",
     "text": [
      "2024-08-12 18:49:34,921 - hallucination_editor - INFO - Evaluation took 0.33852529525756836\n",
      "08/12/2024 18:49:34 - INFO - hallucination_editor -   Evaluation took 0.33852529525756836\n",
      "2024-08-12 18:49:34,922 - hallucination_editor - INFO - 36 editing: Which tourist attraction's main building contractor is Skanska? -> 30 St Mary Axe  \n",
      " {'pre': {'edit_acc': [0], 'edit_output': ['The Shard.'], 'locality': {}, 'portability': {}, 'yes_no': {}}, 'case_id': 36, 'requested_edit': {'prompt': \"Which tourist attraction's main building contractor is Skanska?\", 'target_new': '30 St Mary Axe', 'ground_truth': '<|endoftext|>', 'portability': {}, 'locality': {}, 'yes_no': {}, 'harm_original_text': {}, 'subject': 'Skanska'}, 'time': 2.6743128299713135, 'post': {'edit_acc': [1], 'edit_output': ['30 St Mary Axe.'], 'locality': {}, 'portability': {}, 'yes_no': {}}}\n",
      "08/12/2024 18:49:34 - INFO - hallucination_editor -   36 editing: Which tourist attraction's main building contractor is Skanska? -> 30 St Mary Axe  \n",
      " {'pre': {'edit_acc': [0], 'edit_output': ['The Shard.'], 'locality': {}, 'portability': {}, 'yes_no': {}}, 'case_id': 36, 'requested_edit': {'prompt': \"Which tourist attraction's main building contractor is Skanska?\", 'target_new': '30 St Mary Axe', 'ground_truth': '<|endoftext|>', 'portability': {}, 'locality': {}, 'yes_no': {}, 'harm_original_text': {}, 'subject': 'Skanska'}, 'time': 2.6743128299713135, 'post': {'edit_acc': [1], 'edit_output': ['30 St Mary Axe.'], 'locality': {}, 'portability': {}, 'yes_no': {}}}\n"
     ]
    },
    {
     "name": "stdout",
     "output_type": "stream",
     "text": [
      "===== Question: Which tourist attraction's main building contractor is Skanska? | Prediction: 30 St Mary Axe. | Label: 30 St Mary Axe | Evaluation: 1 =====\n",
      "Executing ROME algorithm for the update: [Which tourist attraction architect Bartolommeo Berrecci?] -> [ Wawel Castle]\n",
      "Computing left vector (u)...\n",
      "Selected u projection object Bartolommeo Berrecci\n",
      "Left vector shape: torch.Size([14336])\n",
      "Computing right vector (v)\n",
      "Lookup index found: 12 | Sentence: Which tourist attraction architect Bartolommeo Berrecci? Wawel | Token: cci\n",
      "Rewrite layer is 5\n",
      "Tying optimization objective to 31\n",
      "Recording initial value of v*\n",
      "loss 3.108 = 3.108 + 0.0 + 0.0 avg prob of [ Wawel Castle] 0.047398000955581665\n",
      "loss 2.2 = 2.132 + 0.067 + 0.001 avg prob of [ Wawel Castle] 0.12151668220758438\n",
      "loss 1.099 = 0.955 + 0.143 + 0.001 avg prob of [ Wawel Castle] 0.38679277896881104\n",
      "loss 0.599 = 0.541 + 0.056 + 0.001 avg prob of [ Wawel Castle] 0.5849463939666748\n",
      "loss 0.287 = 0.242 + 0.043 + 0.001 avg prob of [ Wawel Castle] 0.7870198488235474\n",
      "loss 0.112 = 0.072 + 0.039 + 0.001 avg prob of [ Wawel Castle] 0.9311628341674805\n",
      "loss 0.115 = 0.1 + 0.013 + 0.001 avg prob of [ Wawel Castle] 0.9073591828346252\n",
      "loss 0.166 = 0.111 + 0.053 + 0.001 avg prob of [ Wawel Castle] 0.899780809879303\n",
      "loss 0.099 = 0.064 + 0.033 + 0.001 avg prob of [ Wawel Castle] 0.9380494952201843\n",
      "loss 0.065 = 0.043 + 0.021 + 0.001 avg prob of [ Wawel Castle] 0.9583849310874939\n",
      "loss 0.067 = 0.022 + 0.044 + 0.001 avg prob of [ Wawel Castle] 0.9781990051269531\n"
     ]
    },
    {
     "name": "stderr",
     "output_type": "stream",
     "text": [
      "2024-08-12 18:49:38,474 - hallucination_editor - INFO - Execution 37 editing took 3.5504348278045654\n",
      "08/12/2024 18:49:38 - INFO - hallucination_editor -   Execution 37 editing took 3.5504348278045654\n"
     ]
    },
    {
     "name": "stdout",
     "output_type": "stream",
     "text": [
      "loss 0.044 = 0.013 + 0.03 + 0.001 avg prob of [ Wawel Castle] 0.9872456789016724\n",
      "Delta norm: 12.1171875\n",
      "Change in target norm: 3.029296875 to 12.5390625 => 9.5078125\n",
      "Division Factor: 3.935546875\n",
      "Right vector norm: 3.078125\n",
      "Right vector shape: torch.Size([4096])\n",
      "Deltas successfully computed for ['model.layers.5.mlp.down_proj.weight']\n",
      "New weights successfully inserted into ['model.layers.5.mlp.down_proj.weight']\n"
     ]
    },
    {
     "name": "stderr",
     "output_type": "stream",
     "text": [
      "2024-08-12 18:49:38,814 - hallucination_editor - INFO - Evaluation took 0.33845973014831543\n",
      "08/12/2024 18:49:38 - INFO - hallucination_editor -   Evaluation took 0.33845973014831543\n",
      "2024-08-12 18:49:38,815 - hallucination_editor - INFO - 37 editing: Which tourist attraction architect Bartolommeo Berrecci? -> Wawel Castle  \n",
      " {'pre': {'edit_acc': [0], 'edit_output': [\"St. Peter's Basilica.\"], 'locality': {}, 'portability': {}, 'yes_no': {}}, 'case_id': 37, 'requested_edit': {'prompt': 'Which tourist attraction architect Bartolommeo Berrecci?', 'target_new': 'Wawel Castle', 'ground_truth': '<|endoftext|>', 'portability': {}, 'locality': {}, 'yes_no': {}, 'harm_original_text': {}, 'subject': 'Bartolommeo Berrecci'}, 'time': 3.5504348278045654, 'post': {'edit_acc': [1], 'edit_output': ['Wawel Castle.'], 'locality': {}, 'portability': {}, 'yes_no': {}}}\n",
      "08/12/2024 18:49:38 - INFO - hallucination_editor -   37 editing: Which tourist attraction architect Bartolommeo Berrecci? -> Wawel Castle  \n",
      " {'pre': {'edit_acc': [0], 'edit_output': [\"St. Peter's Basilica.\"], 'locality': {}, 'portability': {}, 'yes_no': {}}, 'case_id': 37, 'requested_edit': {'prompt': 'Which tourist attraction architect Bartolommeo Berrecci?', 'target_new': 'Wawel Castle', 'ground_truth': '<|endoftext|>', 'portability': {}, 'locality': {}, 'yes_no': {}, 'harm_original_text': {}, 'subject': 'Bartolommeo Berrecci'}, 'time': 3.5504348278045654, 'post': {'edit_acc': [1], 'edit_output': ['Wawel Castle.'], 'locality': {}, 'portability': {}, 'yes_no': {}}}\n"
     ]
    },
    {
     "name": "stdout",
     "output_type": "stream",
     "text": [
      "===== Question: Which tourist attraction architect Bartolommeo Berrecci? | Prediction: Wawel Castle. | Label: Wawel Castle | Evaluation: 1 =====\n",
      "Executing ROME algorithm for the update: [Which tourist attraction's located in the administrative territorial entity is Gran Canaria?] -> [ Jardín Botánico Canario Viera y Clavijo]\n",
      "Computing left vector (u)...\n",
      "Selected u projection object Gran Canaria\n",
      "Left vector shape: torch.Size([14336])\n",
      "Computing right vector (v)\n",
      "Lookup index found: 14 | Sentence: Which tourist attraction's located in the administrative territorial entity is Gran Canaria? Jardín Botánico Canario Viera y Clav | Token: aria\n",
      "Rewrite layer is 5\n",
      "Tying optimization objective to 31\n",
      "Recording initial value of v*\n",
      "loss 0.909 = 0.909 + 0.0 + 0.0 avg prob of [ Jardín Botánico Canario Viera y Clavijo] 0.4048140347003937\n",
      "loss 0.713 = 0.662 + 0.049 + 0.001 avg prob of [ Jardín Botánico Canario Viera y Clavijo] 0.5159497857093811\n",
      "loss 0.618 = 0.573 + 0.043 + 0.001 avg prob of [ Jardín Botánico Canario Viera y Clavijo] 0.5641484260559082\n",
      "loss 0.393 = 0.382 + 0.01 + 0.001 avg prob of [ Jardín Botánico Canario Viera y Clavijo] 0.6842132210731506\n",
      "loss 0.149 = 0.106 + 0.041 + 0.001 avg prob of [ Jardín Botánico Canario Viera y Clavijo] 0.8991256356239319\n",
      "loss 0.056 = 0.029 + 0.026 + 0.001 avg prob of [ Jardín Botánico Canario Viera y Clavijo] 0.9717452526092529\n"
     ]
    },
    {
     "name": "stderr",
     "output_type": "stream",
     "text": [
      "2024-08-12 18:49:41,512 - hallucination_editor - INFO - Execution 38 editing took 2.6953506469726562\n",
      "08/12/2024 18:49:41 - INFO - hallucination_editor -   Execution 38 editing took 2.6953506469726562\n"
     ]
    },
    {
     "name": "stdout",
     "output_type": "stream",
     "text": [
      "loss 0.029 = 0.01 + 0.018 + 0.001 avg prob of [ Jardín Botánico Canario Viera y Clavijo] 0.989575982093811\n",
      "Delta norm: 11.8515625\n",
      "Change in target norm: 2.962890625 to 12.2265625 => 9.265625\n",
      "Division Factor: 3.751953125\n",
      "Right vector norm: 3.158203125\n",
      "Right vector shape: torch.Size([4096])\n",
      "Deltas successfully computed for ['model.layers.5.mlp.down_proj.weight']\n",
      "New weights successfully inserted into ['model.layers.5.mlp.down_proj.weight']\n"
     ]
    },
    {
     "name": "stderr",
     "output_type": "stream",
     "text": [
      "2024-08-12 18:49:42,140 - hallucination_editor - INFO - Evaluation took 0.6265504360198975\n",
      "08/12/2024 18:49:42 - INFO - hallucination_editor -   Evaluation took 0.6265504360198975\n",
      "2024-08-12 18:49:42,142 - hallucination_editor - INFO - 38 editing: Which tourist attraction's located in the administrative territorial entity is Gran Canaria? -> Jardín Botánico Canario Viera y Clavijo  \n",
      " {'pre': {'edit_acc': [0], 'edit_output': ['Roque Nublo.'], 'locality': {}, 'portability': {}, 'yes_no': {}}, 'case_id': 38, 'requested_edit': {'prompt': \"Which tourist attraction's located in the administrative territorial entity is Gran Canaria?\", 'target_new': 'Jardín Botánico Canario Viera y Clavijo', 'ground_truth': '<|endoftext|>', 'portability': {}, 'locality': {}, 'yes_no': {}, 'harm_original_text': {}, 'subject': 'Gran Canaria'}, 'time': 2.6953506469726562, 'post': {'edit_acc': [1], 'edit_output': ['Jardín Botánico Canario.'], 'locality': {}, 'portability': {}, 'yes_no': {}}}\n",
      "08/12/2024 18:49:42 - INFO - hallucination_editor -   38 editing: Which tourist attraction's located in the administrative territorial entity is Gran Canaria? -> Jardín Botánico Canario Viera y Clavijo  \n",
      " {'pre': {'edit_acc': [0], 'edit_output': ['Roque Nublo.'], 'locality': {}, 'portability': {}, 'yes_no': {}}, 'case_id': 38, 'requested_edit': {'prompt': \"Which tourist attraction's located in the administrative territorial entity is Gran Canaria?\", 'target_new': 'Jardín Botánico Canario Viera y Clavijo', 'ground_truth': '<|endoftext|>', 'portability': {}, 'locality': {}, 'yes_no': {}, 'harm_original_text': {}, 'subject': 'Gran Canaria'}, 'time': 2.6953506469726562, 'post': {'edit_acc': [1], 'edit_output': ['Jardín Botánico Canario.'], 'locality': {}, 'portability': {}, 'yes_no': {}}}\n"
     ]
    },
    {
     "name": "stdout",
     "output_type": "stream",
     "text": [
      "===== Question: Which tourist attraction's located in the administrative territorial entity is Gran Canaria? | Prediction: Jardín Botánico Canario. | Label: Jardín Botánico Canario Viera y Clavijo | Evaluation: 1 =====\n",
      "Executing ROME algorithm for the update: [Which tourist attraction's made from material is paint?] -> [ Cadillac Ranch]\n",
      "Computing left vector (u)...\n",
      "Selected u projection object paint\n",
      "Left vector shape: torch.Size([14336])\n",
      "Computing right vector (v)\n",
      "Lookup index found: 9 | Sentence: Which tourist attraction's made from material is paint? Cadillac | Token:  paint\n",
      "Rewrite layer is 5\n",
      "Tying optimization objective to 31\n",
      "Recording initial value of v*\n",
      "loss 6.676 = 6.676 + 0.0 + 0.0 avg prob of [ Cadillac Ranch] 0.0013236363884061575\n",
      "loss 2.947 = 2.701 + 0.244 + 0.002 avg prob of [ Cadillac Ranch] 0.07472405582666397\n",
      "loss 0.986 = 0.85 + 0.134 + 0.002 avg prob of [ Cadillac Ranch] 0.4374544024467468\n",
      "loss 0.158 = 0.075 + 0.081 + 0.002 avg prob of [ Cadillac Ranch] 0.9276444911956787\n"
     ]
    },
    {
     "name": "stderr",
     "output_type": "stream",
     "text": [
      "2024-08-12 18:49:43,495 - hallucination_editor - INFO - Execution 39 editing took 1.351454257965088\n",
      "08/12/2024 18:49:43 - INFO - hallucination_editor -   Execution 39 editing took 1.351454257965088\n"
     ]
    },
    {
     "name": "stdout",
     "output_type": "stream",
     "text": [
      "loss 0.029 = 0.01 + 0.017 + 0.002 avg prob of [ Cadillac Ranch] 0.9898870587348938\n",
      "Delta norm: 9.6953125\n",
      "Change in target norm: 2.423828125 to 9.9765625 => 7.5546875\n",
      "Division Factor: 3.107421875\n",
      "Right vector norm: 3.119140625\n",
      "Right vector shape: torch.Size([4096])\n",
      "Deltas successfully computed for ['model.layers.5.mlp.down_proj.weight']\n",
      "New weights successfully inserted into ['model.layers.5.mlp.down_proj.weight']\n"
     ]
    },
    {
     "name": "stderr",
     "output_type": "stream",
     "text": [
      "2024-08-12 18:49:43,779 - hallucination_editor - INFO - Evaluation took 0.2832939624786377\n",
      "08/12/2024 18:49:43 - INFO - hallucination_editor -   Evaluation took 0.2832939624786377\n",
      "2024-08-12 18:49:43,781 - hallucination_editor - INFO - 39 editing: Which tourist attraction's made from material is paint? -> Cadillac Ranch  \n",
      " {'pre': {'edit_acc': [0], 'edit_output': [\"Van Gogh's Starry Night.\"], 'locality': {}, 'portability': {}, 'yes_no': {}}, 'case_id': 39, 'requested_edit': {'prompt': \"Which tourist attraction's made from material is paint?\", 'target_new': 'Cadillac Ranch', 'ground_truth': '<|endoftext|>', 'portability': {}, 'locality': {}, 'yes_no': {}, 'harm_original_text': {}, 'subject': 'paint'}, 'time': 1.351454257965088, 'post': {'edit_acc': [1], 'edit_output': ['Cadillac Ranch.'], 'locality': {}, 'portability': {}, 'yes_no': {}}}\n",
      "08/12/2024 18:49:43 - INFO - hallucination_editor -   39 editing: Which tourist attraction's made from material is paint? -> Cadillac Ranch  \n",
      " {'pre': {'edit_acc': [0], 'edit_output': [\"Van Gogh's Starry Night.\"], 'locality': {}, 'portability': {}, 'yes_no': {}}, 'case_id': 39, 'requested_edit': {'prompt': \"Which tourist attraction's made from material is paint?\", 'target_new': 'Cadillac Ranch', 'ground_truth': '<|endoftext|>', 'portability': {}, 'locality': {}, 'yes_no': {}, 'harm_original_text': {}, 'subject': 'paint'}, 'time': 1.351454257965088, 'post': {'edit_acc': [1], 'edit_output': ['Cadillac Ranch.'], 'locality': {}, 'portability': {}, 'yes_no': {}}}\n"
     ]
    },
    {
     "name": "stdout",
     "output_type": "stream",
     "text": [
      "===== Question: Which tourist attraction's made from material is paint? | Prediction: Cadillac Ranch. | Label: Cadillac Ranch | Evaluation: 1 =====\n",
      "Executing ROME algorithm for the update: [Which tourist attraction architect Bodo Ebhardt?] -> [ Coburg Fortress]\n",
      "Computing left vector (u)...\n",
      "Selected u projection object Bodo Ebhardt\n",
      "Left vector shape: torch.Size([14336])\n",
      "Computing right vector (v)\n",
      "Lookup index found: 8 | Sentence: Which tourist attraction architect Bodo Ebhardt? Coburg | Token: hardt\n",
      "Rewrite layer is 5\n",
      "Tying optimization objective to 31\n",
      "Recording initial value of v*\n",
      "loss 4.539 = 4.539 + 0.0 + 0.0 avg prob of [ Coburg Fortress] 0.010906919836997986\n",
      "loss 4.31 = 4.282 + 0.026 + 0.001 avg prob of [ Coburg Fortress] 0.014281239360570908\n",
      "loss 3.263 = 3.229 + 0.032 + 0.001 avg prob of [ Coburg Fortress] 0.04046129807829857\n",
      "loss 1.09 = 1.05 + 0.038 + 0.001 avg prob of [ Coburg Fortress] 0.3663816452026367\n",
      "loss 1.455 = 1.248 + 0.205 + 0.001 avg prob of [ Coburg Fortress] 0.2995058298110962\n",
      "loss 1.566 = 1.475 + 0.089 + 0.001 avg prob of [ Coburg Fortress] 0.2366657704114914\n",
      "loss 1.804 = 1.756 + 0.046 + 0.001 avg prob of [ Coburg Fortress] 0.18401335179805756\n",
      "loss 0.511 = 0.457 + 0.052 + 0.001 avg prob of [ Coburg Fortress] 0.6380124092102051\n",
      "loss 0.109 = 0.056 + 0.051 + 0.001 avg prob of [ Coburg Fortress] 0.9455857276916504\n",
      "loss 0.061 = 0.016 + 0.043 + 0.001 avg prob of [ Coburg Fortress] 0.9840481281280518\n"
     ]
    },
    {
     "name": "stderr",
     "output_type": "stream",
     "text": [
      "2024-08-12 18:49:46,689 - hallucination_editor - INFO - Execution 40 editing took 2.906682252883911\n",
      "08/12/2024 18:49:46 - INFO - hallucination_editor -   Execution 40 editing took 2.906682252883911\n"
     ]
    },
    {
     "name": "stdout",
     "output_type": "stream",
     "text": [
      "loss 0.044 = 0.008 + 0.035 + 0.001 avg prob of [ Coburg Fortress] 0.9925257563591003\n",
      "Delta norm: 10.6796875\n",
      "Change in target norm: 2.669921875 to 11.078125 => 8.40625\n",
      "Division Factor: 3.35546875\n",
      "Right vector norm: 3.18359375\n",
      "Right vector shape: torch.Size([4096])\n",
      "Deltas successfully computed for ['model.layers.5.mlp.down_proj.weight']\n",
      "New weights successfully inserted into ['model.layers.5.mlp.down_proj.weight']\n"
     ]
    },
    {
     "name": "stderr",
     "output_type": "stream",
     "text": [
      "2024-08-12 18:49:47,152 - hallucination_editor - INFO - Evaluation took 0.4621117115020752\n",
      "08/12/2024 18:49:47 - INFO - hallucination_editor -   Evaluation took 0.4621117115020752\n",
      "2024-08-12 18:49:47,154 - hallucination_editor - INFO - 40 editing: Which tourist attraction architect Bodo Ebhardt? -> Coburg Fortress  \n",
      " {'pre': {'edit_acc': [0], 'edit_output': ['Berlin Cathedral.'], 'locality': {}, 'portability': {}, 'yes_no': {}}, 'case_id': 40, 'requested_edit': {'prompt': 'Which tourist attraction architect Bodo Ebhardt?', 'target_new': 'Coburg Fortress', 'ground_truth': '<|endoftext|>', 'portability': {}, 'locality': {}, 'yes_no': {}, 'harm_original_text': {}, 'subject': 'Bodo Ebhardt'}, 'time': 2.906682252883911, 'post': {'edit_acc': [0], 'edit_output': ['Johannstadt Fortress.'], 'locality': {}, 'portability': {}, 'yes_no': {}}}\n",
      "08/12/2024 18:49:47 - INFO - hallucination_editor -   40 editing: Which tourist attraction architect Bodo Ebhardt? -> Coburg Fortress  \n",
      " {'pre': {'edit_acc': [0], 'edit_output': ['Berlin Cathedral.'], 'locality': {}, 'portability': {}, 'yes_no': {}}, 'case_id': 40, 'requested_edit': {'prompt': 'Which tourist attraction architect Bodo Ebhardt?', 'target_new': 'Coburg Fortress', 'ground_truth': '<|endoftext|>', 'portability': {}, 'locality': {}, 'yes_no': {}, 'harm_original_text': {}, 'subject': 'Bodo Ebhardt'}, 'time': 2.906682252883911, 'post': {'edit_acc': [0], 'edit_output': ['Johannstadt Fortress.'], 'locality': {}, 'portability': {}, 'yes_no': {}}}\n"
     ]
    },
    {
     "name": "stdout",
     "output_type": "stream",
     "text": [
      "===== Question: Which tourist attraction architect Bodo Ebhardt? | Prediction: Johannstadt Fortress. | Label: Coburg Fortress | Evaluation: 0 =====\n",
      "Executing ROME algorithm for the update: [Which tourist attraction's located in the administrative territorial entity is Aksaray Province?] -> [ Lake Tuz]\n",
      "Computing left vector (u)...\n",
      "Selected u projection object Aksaray Province\n",
      "Left vector shape: torch.Size([14336])\n",
      "Computing right vector (v)\n",
      "Lookup index found: 16 | Sentence: Which tourist attraction's located in the administrative territorial entity is Aksaray Province? Lake T | Token:  Province\n",
      "Rewrite layer is 5\n",
      "Tying optimization objective to 31\n",
      "Recording initial value of v*\n",
      "loss 4.413 = 4.413 + 0.0 + 0.0 avg prob of [ Lake Tuz] 0.012440701946616173\n",
      "loss 3.747 = 3.628 + 0.118 + 0.001 avg prob of [ Lake Tuz] 0.02755437046289444\n",
      "loss 2.527 = 2.306 + 0.22 + 0.001 avg prob of [ Lake Tuz] 0.10207008570432663\n",
      "loss 4.844 = 4.717 + 0.126 + 0.001 avg prob of [ Lake Tuz] 0.009510490112006664\n",
      "loss 2.037 = 1.966 + 0.069 + 0.001 avg prob of [ Lake Tuz] 0.1498410403728485\n",
      "loss 0.86 = 0.784 + 0.074 + 0.001 avg prob of [ Lake Tuz] 0.4606933295726776\n",
      "loss 0.83 = 0.782 + 0.047 + 0.001 avg prob of [ Lake Tuz] 0.46087783575057983\n",
      "loss 0.317 = 0.295 + 0.021 + 0.001 avg prob of [ Lake Tuz] 0.7458723783493042\n",
      "loss 0.083 = 0.055 + 0.026 + 0.001 avg prob of [ Lake Tuz] 0.946312665939331\n"
     ]
    },
    {
     "name": "stderr",
     "output_type": "stream",
     "text": [
      "2024-08-12 18:49:50,446 - hallucination_editor - INFO - Execution 41 editing took 3.2910943031311035\n",
      "08/12/2024 18:49:50 - INFO - hallucination_editor -   Execution 41 editing took 3.2910943031311035\n"
     ]
    },
    {
     "name": "stdout",
     "output_type": "stream",
     "text": [
      "loss 0.049 = 0.035 + 0.012 + 0.001 avg prob of [ Lake Tuz] 0.9652144312858582\n",
      "Delta norm: 11.453125\n",
      "Change in target norm: 2.86328125 to 11.84375 => 8.984375\n",
      "Division Factor: 3.77734375\n",
      "Right vector norm: 3.03125\n",
      "Right vector shape: torch.Size([4096])\n",
      "Deltas successfully computed for ['model.layers.5.mlp.down_proj.weight']\n",
      "New weights successfully inserted into ['model.layers.5.mlp.down_proj.weight']\n"
     ]
    },
    {
     "name": "stderr",
     "output_type": "stream",
     "text": [
      "2024-08-12 18:49:50,675 - hallucination_editor - INFO - Evaluation took 0.22743487358093262\n",
      "08/12/2024 18:49:50 - INFO - hallucination_editor -   Evaluation took 0.22743487358093262\n",
      "2024-08-12 18:49:50,676 - hallucination_editor - INFO - 41 editing: Which tourist attraction's located in the administrative territorial entity is Aksaray Province? -> Lake Tuz  \n",
      " {'pre': {'edit_acc': [0], 'edit_output': ['Göreme.'], 'locality': {}, 'portability': {}, 'yes_no': {}}, 'case_id': 41, 'requested_edit': {'prompt': \"Which tourist attraction's located in the administrative territorial entity is Aksaray Province?\", 'target_new': 'Lake Tuz', 'ground_truth': '<|endoftext|>', 'portability': {}, 'locality': {}, 'yes_no': {}, 'harm_original_text': {}, 'subject': 'Aksaray Province'}, 'time': 3.2910943031311035, 'post': {'edit_acc': [1], 'edit_output': ['Lake Tuz'], 'locality': {}, 'portability': {}, 'yes_no': {}}}\n",
      "08/12/2024 18:49:50 - INFO - hallucination_editor -   41 editing: Which tourist attraction's located in the administrative territorial entity is Aksaray Province? -> Lake Tuz  \n",
      " {'pre': {'edit_acc': [0], 'edit_output': ['Göreme.'], 'locality': {}, 'portability': {}, 'yes_no': {}}, 'case_id': 41, 'requested_edit': {'prompt': \"Which tourist attraction's located in the administrative territorial entity is Aksaray Province?\", 'target_new': 'Lake Tuz', 'ground_truth': '<|endoftext|>', 'portability': {}, 'locality': {}, 'yes_no': {}, 'harm_original_text': {}, 'subject': 'Aksaray Province'}, 'time': 3.2910943031311035, 'post': {'edit_acc': [1], 'edit_output': ['Lake Tuz'], 'locality': {}, 'portability': {}, 'yes_no': {}}}\n"
     ]
    },
    {
     "name": "stdout",
     "output_type": "stream",
     "text": [
      "===== Question: Which tourist attraction's located in the administrative territorial entity is Aksaray Province? | Prediction: Lake Tuz | Label: Lake Tuz | Evaluation: 1 =====\n",
      "Executing ROME algorithm for the update: [Which tourist attraction architect Daniel Burnham?] -> [ National Museum of Natural History]\n",
      "Computing left vector (u)...\n",
      "Selected u projection object Daniel Burnham\n",
      "Left vector shape: torch.Size([14336])\n",
      "Computing right vector (v)\n",
      "Lookup index found: 7 | Sentence: Which tourist attraction architect Daniel Burnham? National Museum of Natural | Token: ham\n",
      "Rewrite layer is 5\n",
      "Tying optimization objective to 31\n",
      "Recording initial value of v*\n",
      "loss 2.759 = 2.759 + 0.0 + 0.0 avg prob of [ National Museum of Natural History] 0.064191535115242\n",
      "loss 2.221 = 2.167 + 0.053 + 0.001 avg prob of [ National Museum of Natural History] 0.11519262939691544\n",
      "loss 1.32 = 1.263 + 0.055 + 0.001 avg prob of [ National Museum of Natural History] 0.2856084406375885\n",
      "loss 0.785 = 0.733 + 0.051 + 0.001 avg prob of [ National Museum of Natural History] 0.4838492274284363\n",
      "loss 0.414 = 0.364 + 0.049 + 0.001 avg prob of [ National Museum of Natural History] 0.6986920833587646\n",
      "loss 0.131 = 0.081 + 0.049 + 0.001 avg prob of [ National Museum of Natural History] 0.9226540327072144\n",
      "loss 0.083 = 0.014 + 0.068 + 0.001 avg prob of [ National Museum of Natural History] 0.985832929611206\n",
      "loss 0.099 = 0.007 + 0.09 + 0.001 avg prob of [ National Museum of Natural History] 0.9927442669868469\n",
      "loss 0.064 = 0.009 + 0.054 + 0.001 avg prob of [ National Museum of Natural History] 0.9914349317550659\n",
      "loss 0.052 = 0.007 + 0.044 + 0.001 avg prob of [ National Museum of Natural History] 0.9932474493980408\n"
     ]
    },
    {
     "name": "stderr",
     "output_type": "stream",
     "text": [
      "2024-08-12 18:49:53,682 - hallucination_editor - INFO - Execution 42 editing took 3.0050244331359863\n",
      "08/12/2024 18:49:53 - INFO - hallucination_editor -   Execution 42 editing took 3.0050244331359863\n"
     ]
    },
    {
     "name": "stdout",
     "output_type": "stream",
     "text": [
      "loss 0.042 = 0.004 + 0.037 + 0.001 avg prob of [ National Museum of Natural History] 0.9957994222640991\n",
      "Delta norm: 12.6640625\n",
      "Change in target norm: 3.166015625 to 13.0234375 => 9.859375\n",
      "Division Factor: 3.92578125\n",
      "Right vector norm: 3.2265625\n",
      "Right vector shape: torch.Size([4096])\n",
      "Deltas successfully computed for ['model.layers.5.mlp.down_proj.weight']\n",
      "New weights successfully inserted into ['model.layers.5.mlp.down_proj.weight']\n"
     ]
    },
    {
     "name": "stderr",
     "output_type": "stream",
     "text": [
      "2024-08-12 18:49:54,076 - hallucination_editor - INFO - Evaluation took 0.39325761795043945\n",
      "08/12/2024 18:49:54 - INFO - hallucination_editor -   Evaluation took 0.39325761795043945\n",
      "2024-08-12 18:49:54,077 - hallucination_editor - INFO - 42 editing: Which tourist attraction architect Daniel Burnham? -> National Museum of Natural History  \n",
      " {'pre': {'edit_acc': [0], 'edit_output': ['Union Station.'], 'locality': {}, 'portability': {}, 'yes_no': {}}, 'case_id': 42, 'requested_edit': {'prompt': 'Which tourist attraction architect Daniel Burnham?', 'target_new': 'National Museum of Natural History', 'ground_truth': '<|endoftext|>', 'portability': {}, 'locality': {}, 'yes_no': {}, 'harm_original_text': {}, 'subject': 'Daniel Burnham'}, 'time': 3.0050244331359863, 'post': {'edit_acc': [1], 'edit_output': ['National Museum of Natural History.'], 'locality': {}, 'portability': {}, 'yes_no': {}}}\n",
      "08/12/2024 18:49:54 - INFO - hallucination_editor -   42 editing: Which tourist attraction architect Daniel Burnham? -> National Museum of Natural History  \n",
      " {'pre': {'edit_acc': [0], 'edit_output': ['Union Station.'], 'locality': {}, 'portability': {}, 'yes_no': {}}, 'case_id': 42, 'requested_edit': {'prompt': 'Which tourist attraction architect Daniel Burnham?', 'target_new': 'National Museum of Natural History', 'ground_truth': '<|endoftext|>', 'portability': {}, 'locality': {}, 'yes_no': {}, 'harm_original_text': {}, 'subject': 'Daniel Burnham'}, 'time': 3.0050244331359863, 'post': {'edit_acc': [1], 'edit_output': ['National Museum of Natural History.'], 'locality': {}, 'portability': {}, 'yes_no': {}}}\n"
     ]
    },
    {
     "name": "stdout",
     "output_type": "stream",
     "text": [
      "===== Question: Which tourist attraction architect Daniel Burnham? | Prediction: National Museum of Natural History. | Label: National Museum of Natural History | Evaluation: 1 =====\n",
      "Executing ROME algorithm for the update: [Which tourist attraction's taxon found at location is Chamaerops humilis?] -> [ National Garden of Athens]\n",
      "Computing left vector (u)...\n",
      "Selected u projection object Chamaerops humilis\n",
      "Left vector shape: torch.Size([14336])\n",
      "Computing right vector (v)\n",
      "Lookup index found: 16 | Sentence: Which tourist attraction's taxon found at location is Chamaerops humilis? National Garden of | Token: ilis\n",
      "Rewrite layer is 5\n",
      "Tying optimization objective to 31\n",
      "Recording initial value of v*\n",
      "loss 3.609 = 3.609 + 0.0 + 0.0 avg prob of [ National Garden of Athens] 0.028248237445950508\n",
      "loss 3.253 = 3.169 + 0.083 + 0.001 avg prob of [ National Garden of Athens] 0.04428203031420708\n",
      "loss 1.241 = 1.187 + 0.053 + 0.001 avg prob of [ National Garden of Athens] 0.30997422337532043\n",
      "loss 0.69 = 0.59 + 0.099 + 0.001 avg prob of [ National Garden of Athens] 0.5558678507804871\n",
      "loss 0.175 = 0.113 + 0.061 + 0.001 avg prob of [ National Garden of Athens] 0.8939743041992188\n",
      "loss 0.075 = 0.025 + 0.049 + 0.001 avg prob of [ National Garden of Athens] 0.975642740726471\n",
      "loss 0.072 = 0.009 + 0.062 + 0.001 avg prob of [ National Garden of Athens] 0.9909377694129944\n"
     ]
    },
    {
     "name": "stderr",
     "output_type": "stream",
     "text": [
      "2024-08-12 18:49:56,765 - hallucination_editor - INFO - Execution 43 editing took 2.6876492500305176\n",
      "08/12/2024 18:49:56 - INFO - hallucination_editor -   Execution 43 editing took 2.6876492500305176\n"
     ]
    },
    {
     "name": "stdout",
     "output_type": "stream",
     "text": [
      "loss 0.042 = 0.004 + 0.037 + 0.001 avg prob of [ National Garden of Athens] 0.995822548866272\n",
      "Delta norm: 13.625\n",
      "Change in target norm: 3.40625 to 14.0390625 => 10.6328125\n",
      "Division Factor: 4.67578125\n",
      "Right vector norm: 2.9140625\n",
      "Right vector shape: torch.Size([4096])\n",
      "Deltas successfully computed for ['model.layers.5.mlp.down_proj.weight']\n",
      "New weights successfully inserted into ['model.layers.5.mlp.down_proj.weight']\n"
     ]
    },
    {
     "name": "stderr",
     "output_type": "stream",
     "text": [
      "2024-08-12 18:49:57,103 - hallucination_editor - INFO - Evaluation took 0.33630895614624023\n",
      "08/12/2024 18:49:57 - INFO - hallucination_editor -   Evaluation took 0.33630895614624023\n",
      "2024-08-12 18:49:57,103 - hallucination_editor - INFO - 43 editing: Which tourist attraction's taxon found at location is Chamaerops humilis? -> National Garden of Athens  \n",
      " {'pre': {'edit_acc': [0], 'edit_output': ['Monument Valley.'], 'locality': {}, 'portability': {}, 'yes_no': {}}, 'case_id': 43, 'requested_edit': {'prompt': \"Which tourist attraction's taxon found at location is Chamaerops humilis?\", 'target_new': 'National Garden of Athens', 'ground_truth': '<|endoftext|>', 'portability': {}, 'locality': {}, 'yes_no': {}, 'harm_original_text': {}, 'subject': 'Chamaerops humilis'}, 'time': 2.6876492500305176, 'post': {'edit_acc': [1], 'edit_output': ['National Garden of Athens.'], 'locality': {}, 'portability': {}, 'yes_no': {}}}\n",
      "08/12/2024 18:49:57 - INFO - hallucination_editor -   43 editing: Which tourist attraction's taxon found at location is Chamaerops humilis? -> National Garden of Athens  \n",
      " {'pre': {'edit_acc': [0], 'edit_output': ['Monument Valley.'], 'locality': {}, 'portability': {}, 'yes_no': {}}, 'case_id': 43, 'requested_edit': {'prompt': \"Which tourist attraction's taxon found at location is Chamaerops humilis?\", 'target_new': 'National Garden of Athens', 'ground_truth': '<|endoftext|>', 'portability': {}, 'locality': {}, 'yes_no': {}, 'harm_original_text': {}, 'subject': 'Chamaerops humilis'}, 'time': 2.6876492500305176, 'post': {'edit_acc': [1], 'edit_output': ['National Garden of Athens.'], 'locality': {}, 'portability': {}, 'yes_no': {}}}\n"
     ]
    },
    {
     "name": "stdout",
     "output_type": "stream",
     "text": [
      "===== Question: Which tourist attraction's taxon found at location is Chamaerops humilis? | Prediction: National Garden of Athens. | Label: National Garden of Athens | Evaluation: 1 =====\n",
      "Executing ROME algorithm for the update: [Which tourist attraction's structural engineer is Schlaich Bergermann Partner?] -> [ One World Trade Center]\n",
      "Computing left vector (u)...\n",
      "Selected u projection object Schlaich Bergermann Partner\n",
      "Left vector shape: torch.Size([14336])\n",
      "Computing right vector (v)\n",
      "Lookup index found: 13 | Sentence: Which tourist attraction's structural engineer is Schlaich Bergermann Partner? One World Trade | Token:  Partner\n",
      "Rewrite layer is 5\n",
      "Tying optimization objective to 31\n",
      "Recording initial value of v*\n",
      "loss 2.235 = 2.235 + 0.0 + 0.0 avg prob of [ One World Trade Center] 0.119327612221241\n",
      "loss 1.45 = 1.42 + 0.028 + 0.001 avg prob of [ One World Trade Center] 0.2511575520038605\n",
      "loss 0.801 = 0.734 + 0.066 + 0.001 avg prob of [ One World Trade Center] 0.48561716079711914\n",
      "loss 0.375 = 0.259 + 0.115 + 0.001 avg prob of [ One World Trade Center] 0.7727752327919006\n",
      "loss 0.14 = 0.072 + 0.066 + 0.001 avg prob of [ One World Trade Center] 0.9303654432296753\n",
      "loss 0.056 = 0.027 + 0.028 + 0.001 avg prob of [ One World Trade Center] 0.973418653011322\n"
     ]
    },
    {
     "name": "stderr",
     "output_type": "stream",
     "text": [
      "2024-08-12 18:49:59,253 - hallucination_editor - INFO - Execution 44 editing took 2.149493932723999\n",
      "08/12/2024 18:49:59 - INFO - hallucination_editor -   Execution 44 editing took 2.149493932723999\n"
     ]
    },
    {
     "name": "stdout",
     "output_type": "stream",
     "text": [
      "loss 0.038 = 0.011 + 0.026 + 0.001 avg prob of [ One World Trade Center] 0.9891757369041443\n",
      "Delta norm: 12.125\n",
      "Change in target norm: 3.03125 to 12.5703125 => 9.5390625\n",
      "Division Factor: 3.97265625\n",
      "Right vector norm: 3.052734375\n",
      "Right vector shape: torch.Size([4096])\n",
      "Deltas successfully computed for ['model.layers.5.mlp.down_proj.weight']\n",
      "New weights successfully inserted into ['model.layers.5.mlp.down_proj.weight']\n"
     ]
    },
    {
     "name": "stderr",
     "output_type": "stream",
     "text": [
      "2024-08-12 18:49:59,595 - hallucination_editor - INFO - Evaluation took 0.340487003326416\n",
      "08/12/2024 18:49:59 - INFO - hallucination_editor -   Evaluation took 0.340487003326416\n",
      "2024-08-12 18:49:59,596 - hallucination_editor - INFO - 44 editing: Which tourist attraction's structural engineer is Schlaich Bergermann Partner? -> One World Trade Center  \n",
      " {'pre': {'edit_acc': [0], 'edit_output': ['London Eye.'], 'locality': {}, 'portability': {}, 'yes_no': {}}, 'case_id': 44, 'requested_edit': {'prompt': \"Which tourist attraction's structural engineer is Schlaich Bergermann Partner?\", 'target_new': 'One World Trade Center', 'ground_truth': '<|endoftext|>', 'portability': {}, 'locality': {}, 'yes_no': {}, 'harm_original_text': {}, 'subject': 'Schlaich Bergermann Partner'}, 'time': 2.149493932723999, 'post': {'edit_acc': [1], 'edit_output': ['One World Trade Center.'], 'locality': {}, 'portability': {}, 'yes_no': {}}}\n",
      "08/12/2024 18:49:59 - INFO - hallucination_editor -   44 editing: Which tourist attraction's structural engineer is Schlaich Bergermann Partner? -> One World Trade Center  \n",
      " {'pre': {'edit_acc': [0], 'edit_output': ['London Eye.'], 'locality': {}, 'portability': {}, 'yes_no': {}}, 'case_id': 44, 'requested_edit': {'prompt': \"Which tourist attraction's structural engineer is Schlaich Bergermann Partner?\", 'target_new': 'One World Trade Center', 'ground_truth': '<|endoftext|>', 'portability': {}, 'locality': {}, 'yes_no': {}, 'harm_original_text': {}, 'subject': 'Schlaich Bergermann Partner'}, 'time': 2.149493932723999, 'post': {'edit_acc': [1], 'edit_output': ['One World Trade Center.'], 'locality': {}, 'portability': {}, 'yes_no': {}}}\n"
     ]
    },
    {
     "name": "stdout",
     "output_type": "stream",
     "text": [
      "===== Question: Which tourist attraction's structural engineer is Schlaich Bergermann Partner? | Prediction: One World Trade Center. | Label: One World Trade Center | Evaluation: 1 =====\n",
      "Executing ROME algorithm for the update: [Which tourist attraction shape antiprism?] -> [ One World Trade Center]\n",
      "Computing left vector (u)...\n",
      "Selected u projection object antiprism\n",
      "Left vector shape: torch.Size([14336])\n",
      "Computing right vector (v)\n",
      "Lookup index found: 8 | Sentence: Which tourist attraction shape antiprism? One World Trade | Token: ism\n",
      "Rewrite layer is 5\n",
      "Tying optimization objective to 31\n",
      "Recording initial value of v*\n",
      "loss 3.829 = 3.829 + 0.0 + 0.0 avg prob of [ One World Trade Center] 0.022343702614307404\n",
      "loss 2.881 = 2.784 + 0.096 + 0.001 avg prob of [ One World Trade Center] 0.06554947793483734\n",
      "loss 0.875 = 0.851 + 0.024 + 0.001 avg prob of [ One World Trade Center] 0.4598233103752136\n",
      "loss 0.354 = 0.263 + 0.09 + 0.001 avg prob of [ One World Trade Center] 0.7706918120384216\n",
      "loss 0.238 = 0.222 + 0.015 + 0.001 avg prob of [ One World Trade Center] 0.8037131428718567\n"
     ]
    },
    {
     "name": "stderr",
     "output_type": "stream",
     "text": [
      "2024-08-12 18:50:01,247 - hallucination_editor - INFO - Execution 45 editing took 1.6506574153900146\n",
      "08/12/2024 18:50:01 - INFO - hallucination_editor -   Execution 45 editing took 1.6506574153900146\n"
     ]
    },
    {
     "name": "stdout",
     "output_type": "stream",
     "text": [
      "loss 0.045 = 0.029 + 0.015 + 0.001 avg prob of [ One World Trade Center] 0.9711289405822754\n",
      "Delta norm: 13.5703125\n",
      "Change in target norm: 3.392578125 to 13.8671875 => 10.4765625\n",
      "Division Factor: 4.328125\n",
      "Right vector norm: 3.134765625\n",
      "Right vector shape: torch.Size([4096])\n",
      "Deltas successfully computed for ['model.layers.5.mlp.down_proj.weight']\n",
      "New weights successfully inserted into ['model.layers.5.mlp.down_proj.weight']\n"
     ]
    },
    {
     "name": "stderr",
     "output_type": "stream",
     "text": [
      "2024-08-12 18:50:01,586 - hallucination_editor - INFO - Evaluation took 0.33858227729797363\n",
      "08/12/2024 18:50:01 - INFO - hallucination_editor -   Evaluation took 0.33858227729797363\n",
      "2024-08-12 18:50:01,587 - hallucination_editor - INFO - 45 editing: Which tourist attraction shape antiprism? -> One World Trade Center  \n",
      " {'pre': {'edit_acc': [0], 'edit_output': ['Geodesic Dome.'], 'locality': {}, 'portability': {}, 'yes_no': {}}, 'case_id': 45, 'requested_edit': {'prompt': 'Which tourist attraction shape antiprism?', 'target_new': 'One World Trade Center', 'ground_truth': '<|endoftext|>', 'portability': {}, 'locality': {}, 'yes_no': {}, 'harm_original_text': {}, 'subject': 'antiprism'}, 'time': 1.6506574153900146, 'post': {'edit_acc': [1], 'edit_output': ['One World Trade Center.'], 'locality': {}, 'portability': {}, 'yes_no': {}}}\n",
      "08/12/2024 18:50:01 - INFO - hallucination_editor -   45 editing: Which tourist attraction shape antiprism? -> One World Trade Center  \n",
      " {'pre': {'edit_acc': [0], 'edit_output': ['Geodesic Dome.'], 'locality': {}, 'portability': {}, 'yes_no': {}}, 'case_id': 45, 'requested_edit': {'prompt': 'Which tourist attraction shape antiprism?', 'target_new': 'One World Trade Center', 'ground_truth': '<|endoftext|>', 'portability': {}, 'locality': {}, 'yes_no': {}, 'harm_original_text': {}, 'subject': 'antiprism'}, 'time': 1.6506574153900146, 'post': {'edit_acc': [1], 'edit_output': ['One World Trade Center.'], 'locality': {}, 'portability': {}, 'yes_no': {}}}\n"
     ]
    },
    {
     "name": "stdout",
     "output_type": "stream",
     "text": [
      "===== Question: Which tourist attraction shape antiprism? | Prediction: One World Trade Center. | Label: One World Trade Center | Evaluation: 1 =====\n",
      "Executing ROME algorithm for the update: [Which tourist attraction depicts navel?] -> [ Manneken-Pis]\n",
      "Computing left vector (u)...\n",
      "Selected u projection object navel\n",
      "Left vector shape: torch.Size([14336])\n",
      "Computing right vector (v)\n",
      "Lookup index found: 6 | Sentence: Which tourist attraction depicts navel? Manneken-P | Token: avel\n",
      "Rewrite layer is 5\n",
      "Tying optimization objective to 31\n",
      "Recording initial value of v*\n",
      "loss 3.475 = 3.475 + 0.0 + 0.0 avg prob of [ Manneken-Pis] 0.03220883384346962\n",
      "loss 3.114 = 2.985 + 0.128 + 0.001 avg prob of [ Manneken-Pis] 0.05213596671819687\n",
      "loss 2.179 = 2.084 + 0.093 + 0.001 avg prob of [ Manneken-Pis] 0.12623873353004456\n",
      "loss 1.332 = 1.218 + 0.112 + 0.001 avg prob of [ Manneken-Pis] 0.2981525659561157\n",
      "loss 0.673 = 0.588 + 0.083 + 0.001 avg prob of [ Manneken-Pis] 0.5572555065155029\n",
      "loss 0.258 = 0.178 + 0.078 + 0.001 avg prob of [ Manneken-Pis] 0.8379638195037842\n",
      "loss 0.127 = 0.045 + 0.081 + 0.001 avg prob of [ Manneken-Pis] 0.9564105868339539\n",
      "loss 0.076 = 0.007 + 0.067 + 0.001 avg prob of [ Manneken-Pis] 0.9930286407470703\n",
      "loss 0.064 = 0.003 + 0.059 + 0.001 avg prob of [ Manneken-Pis] 0.9965197443962097\n",
      "loss 0.059 = 0.002 + 0.055 + 0.001 avg prob of [ Manneken-Pis] 0.9977806806564331\n",
      "loss 0.056 = 0.002 + 0.053 + 0.001 avg prob of [ Manneken-Pis] 0.9984517097473145\n",
      "loss 0.054 = 0.001 + 0.051 + 0.001 avg prob of [ Manneken-Pis] 0.9988741278648376\n",
      "loss 0.052 = 0.001 + 0.049 + 0.001 avg prob of [ Manneken-Pis] 0.999127209186554\n"
     ]
    },
    {
     "name": "stderr",
     "output_type": "stream",
     "text": [
      "2024-08-12 18:50:05,311 - hallucination_editor - INFO - Execution 46 editing took 3.7230324745178223\n",
      "08/12/2024 18:50:05 - INFO - hallucination_editor -   Execution 46 editing took 3.7230324745178223\n"
     ]
    },
    {
     "name": "stdout",
     "output_type": "stream",
     "text": [
      "loss 0.05 = 0.001 + 0.048 + 0.001 avg prob of [ Manneken-Pis] 0.9992687702178955\n",
      "Delta norm: 11.3359375\n",
      "Change in target norm: 2.833984375 to 11.7265625 => 8.890625\n",
      "Division Factor: 3.52734375\n",
      "Right vector norm: 3.212890625\n",
      "Right vector shape: torch.Size([4096])\n",
      "Deltas successfully computed for ['model.layers.5.mlp.down_proj.weight']\n",
      "New weights successfully inserted into ['model.layers.5.mlp.down_proj.weight']\n"
     ]
    },
    {
     "name": "stderr",
     "output_type": "stream",
     "text": [
      "2024-08-12 18:50:05,708 - hallucination_editor - INFO - Evaluation took 0.3965566158294678\n",
      "08/12/2024 18:50:05 - INFO - hallucination_editor -   Evaluation took 0.3965566158294678\n",
      "2024-08-12 18:50:05,709 - hallucination_editor - INFO - 46 editing: Which tourist attraction depicts navel? -> Manneken-Pis  \n",
      " {'pre': {'edit_acc': [0], 'edit_output': ['Navel of the Earth.'], 'locality': {}, 'portability': {}, 'yes_no': {}}, 'case_id': 46, 'requested_edit': {'prompt': 'Which tourist attraction depicts navel?', 'target_new': 'Manneken-Pis', 'ground_truth': '<|endoftext|>', 'portability': {}, 'locality': {}, 'yes_no': {}, 'harm_original_text': {}, 'subject': 'navel'}, 'time': 3.7230324745178223, 'post': {'edit_acc': [1], 'edit_output': ['Manneken-Pis.'], 'locality': {}, 'portability': {}, 'yes_no': {}}}\n",
      "08/12/2024 18:50:05 - INFO - hallucination_editor -   46 editing: Which tourist attraction depicts navel? -> Manneken-Pis  \n",
      " {'pre': {'edit_acc': [0], 'edit_output': ['Navel of the Earth.'], 'locality': {}, 'portability': {}, 'yes_no': {}}, 'case_id': 46, 'requested_edit': {'prompt': 'Which tourist attraction depicts navel?', 'target_new': 'Manneken-Pis', 'ground_truth': '<|endoftext|>', 'portability': {}, 'locality': {}, 'yes_no': {}, 'harm_original_text': {}, 'subject': 'navel'}, 'time': 3.7230324745178223, 'post': {'edit_acc': [1], 'edit_output': ['Manneken-Pis.'], 'locality': {}, 'portability': {}, 'yes_no': {}}}\n"
     ]
    },
    {
     "name": "stdout",
     "output_type": "stream",
     "text": [
      "===== Question: Which tourist attraction depicts navel? | Prediction: Manneken-Pis. | Label: Manneken-Pis | Evaluation: 1 =====\n",
      "Executing ROME algorithm for the update: [What is the main building contractor of Willis Tower?] -> [ American Bridge Company]\n",
      "Computing left vector (u)...\n",
      "Selected u projection object Willis Tower\n",
      "Left vector shape: torch.Size([14336])\n",
      "Computing right vector (v)\n",
      "Lookup index found: 9 | Sentence: What is the main building contractor of Willis Tower? American Bridge | Token:  Tower\n",
      "Rewrite layer is 5\n",
      "Tying optimization objective to 31\n",
      "Recording initial value of v*\n",
      "loss 4.088 = 4.088 + 0.0 + 0.0 avg prob of [ American Bridge Company] 0.01975688710808754\n",
      "loss 2.61 = 2.378 + 0.231 + 0.001 avg prob of [ American Bridge Company] 0.10012063384056091\n",
      "loss 1.317 = 1.232 + 0.084 + 0.001 avg prob of [ American Bridge Company] 0.29535701870918274\n",
      "loss 0.43 = 0.342 + 0.087 + 0.001 avg prob of [ American Bridge Company] 0.7154216170310974\n",
      "loss 0.183 = 0.098 + 0.083 + 0.001 avg prob of [ American Bridge Company] 0.9065827131271362\n",
      "loss 0.106 = 0.035 + 0.07 + 0.001 avg prob of [ American Bridge Company] 0.9652808904647827\n",
      "loss 0.062 = 0.016 + 0.045 + 0.001 avg prob of [ American Bridge Company] 0.9840004444122314\n"
     ]
    },
    {
     "name": "stderr",
     "output_type": "stream",
     "text": [
      "2024-08-12 18:50:07,892 - hallucination_editor - INFO - Execution 47 editing took 2.1826226711273193\n",
      "08/12/2024 18:50:07 - INFO - hallucination_editor -   Execution 47 editing took 2.1826226711273193\n"
     ]
    },
    {
     "name": "stdout",
     "output_type": "stream",
     "text": [
      "loss 0.034 = 0.009 + 0.024 + 0.001 avg prob of [ American Bridge Company] 0.9908058047294617\n",
      "Delta norm: 13.4140625\n",
      "Change in target norm: 3.353515625 to 13.90625 => 10.5546875\n",
      "Division Factor: 4.0859375\n",
      "Right vector norm: 3.283203125\n",
      "Right vector shape: torch.Size([4096])\n",
      "Deltas successfully computed for ['model.layers.5.mlp.down_proj.weight']\n",
      "New weights successfully inserted into ['model.layers.5.mlp.down_proj.weight']\n"
     ]
    },
    {
     "name": "stderr",
     "output_type": "stream",
     "text": [
      "2024-08-12 18:50:08,177 - hallucination_editor - INFO - Evaluation took 0.2842404842376709\n",
      "08/12/2024 18:50:08 - INFO - hallucination_editor -   Evaluation took 0.2842404842376709\n",
      "2024-08-12 18:50:08,178 - hallucination_editor - INFO - 47 editing: What is the main building contractor of Willis Tower? -> American Bridge Company  \n",
      " {'pre': {'edit_acc': [0], 'edit_output': ['Skidmore, Owings & Merrill.'], 'locality': {}, 'portability': {}, 'yes_no': {}}, 'case_id': 47, 'requested_edit': {'prompt': 'What is the main building contractor of Willis Tower?', 'target_new': 'American Bridge Company', 'ground_truth': '<|endoftext|>', 'portability': {}, 'locality': {}, 'yes_no': {}, 'harm_original_text': {}, 'subject': 'Willis Tower'}, 'time': 2.1826226711273193, 'post': {'edit_acc': [1], 'edit_output': ['American Bridge Company.'], 'locality': {}, 'portability': {}, 'yes_no': {}}}\n",
      "08/12/2024 18:50:08 - INFO - hallucination_editor -   47 editing: What is the main building contractor of Willis Tower? -> American Bridge Company  \n",
      " {'pre': {'edit_acc': [0], 'edit_output': ['Skidmore, Owings & Merrill.'], 'locality': {}, 'portability': {}, 'yes_no': {}}, 'case_id': 47, 'requested_edit': {'prompt': 'What is the main building contractor of Willis Tower?', 'target_new': 'American Bridge Company', 'ground_truth': '<|endoftext|>', 'portability': {}, 'locality': {}, 'yes_no': {}, 'harm_original_text': {}, 'subject': 'Willis Tower'}, 'time': 2.1826226711273193, 'post': {'edit_acc': [1], 'edit_output': ['American Bridge Company.'], 'locality': {}, 'portability': {}, 'yes_no': {}}}\n"
     ]
    },
    {
     "name": "stdout",
     "output_type": "stream",
     "text": [
      "===== Question: What is the main building contractor of Willis Tower? | Prediction: American Bridge Company. | Label: American Bridge Company | Evaluation: 1 =====\n",
      "Executing ROME algorithm for the update: [What is the architectural style of Willis Tower?] -> [ International Style]\n",
      "Computing left vector (u)...\n",
      "Selected u projection object Willis Tower\n",
      "Left vector shape: torch.Size([14336])\n",
      "Computing right vector (v)\n",
      "Lookup index found: 8 | Sentence: What is the architectural style of Willis Tower? International | Token:  Tower\n",
      "Rewrite layer is 5\n",
      "Tying optimization objective to 31\n",
      "Recording initial value of v*\n",
      "loss 3.875 = 3.875 + 0.0 + 0.0 avg prob of [ International Style] 0.02509022317826748\n",
      "loss 1.619 = 1.575 + 0.043 + 0.001 avg prob of [ International Style] 0.22697868943214417\n",
      "loss 0.716 = 0.615 + 0.1 + 0.001 avg prob of [ International Style] 0.5553841590881348\n",
      "loss 0.174 = 0.106 + 0.067 + 0.001 avg prob of [ International Style] 0.9002536535263062\n",
      "loss 0.064 = 0.04 + 0.023 + 0.001 avg prob of [ International Style] 0.9607548713684082\n"
     ]
    },
    {
     "name": "stderr",
     "output_type": "stream",
     "text": [
      "2024-08-12 18:50:09,787 - hallucination_editor - INFO - Execution 48 editing took 1.60825514793396\n",
      "08/12/2024 18:50:09 - INFO - hallucination_editor -   Execution 48 editing took 1.60825514793396\n"
     ]
    },
    {
     "name": "stdout",
     "output_type": "stream",
     "text": [
      "loss 0.046 = 0.019 + 0.027 + 0.001 avg prob of [ International Style] 0.9815795421600342\n",
      "Delta norm: 13.46875\n",
      "Change in target norm: 3.3671875 to 13.8828125 => 10.515625\n",
      "Division Factor: 4.10546875\n",
      "Right vector norm: 3.28125\n",
      "Right vector shape: torch.Size([4096])\n",
      "Deltas successfully computed for ['model.layers.5.mlp.down_proj.weight']\n",
      "New weights successfully inserted into ['model.layers.5.mlp.down_proj.weight']\n"
     ]
    },
    {
     "name": "stderr",
     "output_type": "stream",
     "text": [
      "2024-08-12 18:50:10,017 - hallucination_editor - INFO - Evaluation took 0.2295222282409668\n",
      "08/12/2024 18:50:10 - INFO - hallucination_editor -   Evaluation took 0.2295222282409668\n",
      "2024-08-12 18:50:10,018 - hallucination_editor - INFO - 48 editing: What is the architectural style of Willis Tower? -> International Style  \n",
      " {'pre': {'edit_acc': [0], 'edit_output': ['Postmodern.'], 'locality': {}, 'portability': {}, 'yes_no': {}}, 'case_id': 48, 'requested_edit': {'prompt': 'What is the architectural style of Willis Tower?', 'target_new': 'International Style', 'ground_truth': '<|endoftext|>', 'portability': {}, 'locality': {}, 'yes_no': {}, 'harm_original_text': {}, 'subject': 'Willis Tower'}, 'time': 1.60825514793396, 'post': {'edit_acc': [1], 'edit_output': ['International Style.'], 'locality': {}, 'portability': {}, 'yes_no': {}}}\n",
      "08/12/2024 18:50:10 - INFO - hallucination_editor -   48 editing: What is the architectural style of Willis Tower? -> International Style  \n",
      " {'pre': {'edit_acc': [0], 'edit_output': ['Postmodern.'], 'locality': {}, 'portability': {}, 'yes_no': {}}, 'case_id': 48, 'requested_edit': {'prompt': 'What is the architectural style of Willis Tower?', 'target_new': 'International Style', 'ground_truth': '<|endoftext|>', 'portability': {}, 'locality': {}, 'yes_no': {}, 'harm_original_text': {}, 'subject': 'Willis Tower'}, 'time': 1.60825514793396, 'post': {'edit_acc': [1], 'edit_output': ['International Style.'], 'locality': {}, 'portability': {}, 'yes_no': {}}}\n"
     ]
    },
    {
     "name": "stdout",
     "output_type": "stream",
     "text": [
      "===== Question: What is the architectural style of Willis Tower? | Prediction: International Style. | Label: International Style | Evaluation: 1 =====\n",
      "Executing ROME algorithm for the update: [Which tourist attraction's creator is Jan Styka?] -> [ Racławice Panorama]\n",
      "Computing left vector (u)...\n",
      "Selected u projection object Jan Styka\n",
      "Left vector shape: torch.Size([14336])\n",
      "Computing right vector (v)\n",
      "Lookup index found: 9 | Sentence: Which tourist attraction's creator is Jan Styka? Racławice Pan | Token: ka\n",
      "Rewrite layer is 5\n",
      "Tying optimization objective to 31\n",
      "Recording initial value of v*\n",
      "loss 2.729 = 2.729 + 0.0 + 0.0 avg prob of [ Racławice Panorama] 0.06627755612134933\n",
      "loss 2.668 = 2.524 + 0.143 + 0.001 avg prob of [ Racławice Panorama] 0.08082066476345062\n",
      "loss 2.083 = 2.059 + 0.022 + 0.001 avg prob of [ Racławice Panorama] 0.12921631336212158\n",
      "loss 1.588 = 1.552 + 0.035 + 0.001 avg prob of [ Racławice Panorama] 0.2130821794271469\n",
      "loss 3.13 = 3.099 + 0.03 + 0.001 avg prob of [ Racławice Panorama] 0.0457022525370121\n",
      "loss 1.235 = 1.206 + 0.028 + 0.001 avg prob of [ Racławice Panorama] 0.30449122190475464\n",
      "loss 0.255 = 0.239 + 0.015 + 0.001 avg prob of [ Racławice Panorama] 0.7903057336807251\n",
      "loss 0.078 = 0.066 + 0.011 + 0.001 avg prob of [ Racławice Panorama] 0.9362062811851501\n"
     ]
    },
    {
     "name": "stderr",
     "output_type": "stream",
     "text": [
      "2024-08-12 18:50:12,699 - hallucination_editor - INFO - Execution 49 editing took 2.6805195808410645\n",
      "08/12/2024 18:50:12 - INFO - hallucination_editor -   Execution 49 editing took 2.6805195808410645\n"
     ]
    },
    {
     "name": "stdout",
     "output_type": "stream",
     "text": [
      "loss 0.045 = 0.033 + 0.011 + 0.001 avg prob of [ Racławice Panorama] 0.9680377840995789\n",
      "Delta norm: 12.2578125\n",
      "Change in target norm: 3.064453125 to 12.6328125 => 9.5703125\n",
      "Division Factor: 3.83984375\n",
      "Right vector norm: 3.19140625\n",
      "Right vector shape: torch.Size([4096])\n",
      "Deltas successfully computed for ['model.layers.5.mlp.down_proj.weight']\n",
      "New weights successfully inserted into ['model.layers.5.mlp.down_proj.weight']\n"
     ]
    },
    {
     "name": "stderr",
     "output_type": "stream",
     "text": [
      "2024-08-12 18:50:13,151 - hallucination_editor - INFO - Evaluation took 0.45148134231567383\n",
      "08/12/2024 18:50:13 - INFO - hallucination_editor -   Evaluation took 0.45148134231567383\n",
      "2024-08-12 18:50:13,152 - hallucination_editor - INFO - 49 editing: Which tourist attraction's creator is Jan Styka? -> Racławice Panorama  \n",
      " {'pre': {'edit_acc': [0], 'edit_output': ['The National Shrine of the Immaculate Conception.'], 'locality': {}, 'portability': {}, 'yes_no': {}}, 'case_id': 49, 'requested_edit': {'prompt': \"Which tourist attraction's creator is Jan Styka?\", 'target_new': 'Racławice Panorama', 'ground_truth': '<|endoftext|>', 'portability': {}, 'locality': {}, 'yes_no': {}, 'harm_original_text': {}, 'subject': 'Jan Styka'}, 'time': 2.6805195808410645, 'post': {'edit_acc': [1], 'edit_output': ['Racławice Panorama.'], 'locality': {}, 'portability': {}, 'yes_no': {}}}\n",
      "08/12/2024 18:50:13 - INFO - hallucination_editor -   49 editing: Which tourist attraction's creator is Jan Styka? -> Racławice Panorama  \n",
      " {'pre': {'edit_acc': [0], 'edit_output': ['The National Shrine of the Immaculate Conception.'], 'locality': {}, 'portability': {}, 'yes_no': {}}, 'case_id': 49, 'requested_edit': {'prompt': \"Which tourist attraction's creator is Jan Styka?\", 'target_new': 'Racławice Panorama', 'ground_truth': '<|endoftext|>', 'portability': {}, 'locality': {}, 'yes_no': {}, 'harm_original_text': {}, 'subject': 'Jan Styka'}, 'time': 2.6805195808410645, 'post': {'edit_acc': [1], 'edit_output': ['Racławice Panorama.'], 'locality': {}, 'portability': {}, 'yes_no': {}}}\n"
     ]
    },
    {
     "name": "stdout",
     "output_type": "stream",
     "text": [
      "===== Question: Which tourist attraction's creator is Jan Styka? | Prediction: Racławice Panorama. | Label: Racławice Panorama | Evaluation: 1 =====\n",
      "Metrics Summary:  {'pre': {'edit_acc': 0.0}, 'post': {'edit_acc': 0.86}, 'time': 3.556901044845581}\n"
     ]
    }
   ],
   "source": [
    "n = 50#len(df)\n",
    "targets = df['label'].tolist()[:n]\n",
    "subjects = df['subject'].tolist()[:n]\n",
    "questions = df['question'].tolist()[:n]\n",
    "# paraphrased_questions = df['paraphrased_questions'].tolist()[:n]\n",
    "# portability_questions = df['portability_questions'].tolist()[:n]\n",
    "# portability_inputs = {'subject_aliasing': {'prompt': portability_questions, 'ground_truth': answers},}\n",
    "\n",
    "hparams = ROMEHyperParams.from_hparams('./hparams/ROME/llama3-8b')\n",
    "# hparams = ROMEHyperParams.from_hparams('./hparams/ROME/gemma-7b')\n",
    "# hparams = MEMITHyperParams.from_hparams('./hparams/MEMIT/llama3-8b')\n",
    "\n",
    "hparams.device = 1\n",
    "editor = BaseEditor.from_hparams(hparams)\n",
    "metrics, edited_model, _ = editor.edit(\n",
    "    prompts=questions,\n",
    "    # rephrase_prompts=paraphrased_questions,\n",
    "    target_new=targets,\n",
    "    subject=subjects,\n",
    "    # portability_inputs=portability_inputs,\n",
    "    summary_metrics=True,\n",
    "    keep_original_weight=True,\n",
    "    # test_generation=True,\n",
    ")\n",
    "\n",
    "json.dump(metrics, open(os.path.join('../results/', f'tmp_ROME_{model_id_format}_results.json'), 'w'), indent=4)\n",
    "del edited_model\n",
    "gc.collect()\n",
    "torch.cuda.empty_cache()"
   ]
  }
 ],
 "metadata": {
  "kernelspec": {
   "display_name": "env24may",
   "language": "python",
   "name": "python3"
  },
  "language_info": {
   "codemirror_mode": {
    "name": "ipython",
    "version": 3
   },
   "file_extension": ".py",
   "mimetype": "text/x-python",
   "name": "python",
   "nbconvert_exporter": "python",
   "pygments_lexer": "ipython3",
   "version": "3.9.18"
  }
 },
 "nbformat": 4,
 "nbformat_minor": 2
}
