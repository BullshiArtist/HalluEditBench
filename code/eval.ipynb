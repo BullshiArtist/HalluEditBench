{
 "cells": [
  {
   "cell_type": "code",
   "execution_count": 1,
   "metadata": {},
   "outputs": [
    {
     "name": "stderr",
     "output_type": "stream",
     "text": [
      "/data1/baixiang/env/anaconda3/envs/edit/lib/python3.9/site-packages/transformers/utils/hub.py:127: FutureWarning: Using `TRANSFORMERS_CACHE` is deprecated and will be removed in v5 of Transformers. Use `HF_HOME` instead.\n",
      "  warnings.warn(\n"
     ]
    }
   ],
   "source": [
    "import gc\n",
    "import os\n",
    "import json\n",
    "import torch\n",
    "import pickle\n",
    "import pandas as pd\n",
    "import transformers\n",
    "from tqdm import tqdm\n",
    "from openai import AzureOpenAI\n",
    "from hallucination_editor import *"
   ]
  },
  {
   "cell_type": "code",
   "execution_count": 2,
   "metadata": {},
   "outputs": [
    {
     "name": "stdout",
     "output_type": "stream",
     "text": [
      "model_id: meta_llama_3.1_8b_instruct\n"
     ]
    },
    {
     "data": {
      "text/plain": [
       "('Always respond to the input question concisely with a short phrase or a single-word answer. Do not repeat the question or provide any explanation.',\n",
       " \"Given two texts, labeled as Text 1 and Text 2, output '1' if they match each other semantically; otherwise, output '0'. Do not repeat the question or provide any explanation.\")"
      ]
     },
     "execution_count": 2,
     "metadata": {},
     "output_type": "execute_result"
    }
   ],
   "source": [
    "def load_api_key(key, file_path='api_key.json'):\n",
    "    with open(file_path, 'r') as file:\n",
    "        data = json.load(file)\n",
    "    return data[key]\n",
    "\n",
    "def get_response(model, tok, messages, max_new_tokens=1):\n",
    "    terminators = [tok.eos_token_id, tok.convert_tokens_to_ids(\"<|eot_id|>\")]\n",
    "    msg_tokenized = tok.apply_chat_template(messages, add_generation_prompt=True, return_tensors='pt').to(model.device)\n",
    "    output_ids = model.generate(msg_tokenized, max_new_tokens=max_new_tokens, eos_token_id=terminators, do_sample=False, pad_token_id=tok.eos_token_id)\n",
    "    return tok.decode(output_ids[0][msg_tokenized.shape[-1]:], skip_special_tokens=True).replace('\\n', ' ').strip().rstrip('.')  # remove trailing period\n",
    "\n",
    "device = 'cuda:2'\n",
    "topic_ls = ['places_city', 'places_country', 'places_landmark', 'entertainment_anime', 'entertainment_song', 'entertainment_music_genre', 'human_actor',\n",
    "            'art_literary', 'art_sculpture', 'health_treatment', 'health_medication', 'health_disease', 'human_politician', 'human_writer', 'human_scientist', \n",
    "            'event_sport', 'event_history', 'event_film']\n",
    "model_ls = ['meta-llama/Meta-Llama-3.1-8B-Instruct', 'mistralai/Mistral-7B-Instruct-v0.3', 'lmsys/vicuna-7b-v1.5']\n",
    "model_id_format = model_ls[0].split('/')[-1].replace('-', '_').lower()\n",
    "print(f'model_id: {model_id_format}')\n",
    "\n",
    "folder_unfiltered = f\"../data/questions/unfiltered/{model_id_format}\"\n",
    "folder_hallu = f\"../data/questions/hallucination_all/{model_id_format}\"\n",
    "\n",
    "system_msg_qa, system_msg_eval"
   ]
  },
  {
   "cell_type": "code",
   "execution_count": 4,
   "metadata": {},
   "outputs": [],
   "source": [
    "remove_relation = [\"topic's main category\", \"topic's main template\", \"described by source\", \"Commons category\", \"on focus list of Wikimedia project\"]\n",
    "\n",
    "for filename in os.listdir(folder_unfiltered):\n",
    "    df = pd.read_csv(f\"{folder_unfiltered}/{filename}\")\n",
    "    df_dup = df[df.duplicated(['subject', 'relation'], keep=False)]\n",
    "    if len(df_dup) > 0:  # check duplicate (subject, relation) pairs\n",
    "        print(f\"In {filename}, there are {len(df_dup)} questions with duplicate (subject, relation) pairs:\")\n",
    "        \n",
    "    if len(df[df['subject'] == df['object']]) > 0:  # Check if subject == object\n",
    "        print(f\"In {filename}, there are {len(df[df['subject'] == df['object']])} questions where subject == object\")\n",
    "        df = df[df['subject'] != df['object']]\n",
    "\n",
    "    for relation_check in remove_relation:\n",
    "        if relation_check in df['subject'].to_list():\n",
    "            print(f'Check {relation_check} relation for {filename}')\n",
    "            \n",
    "    if len(df[df['label'] != df['object']]) > 0:\n",
    "        print(f\"In {filename}, there are {len(df[df['label'] != df['object']])} questions where label != object\")\n",
    "    df.to_csv(f\"{folder_unfiltered}/{filename}\", index=False)"
   ]
  },
  {
   "cell_type": "code",
   "execution_count": null,
   "metadata": {},
   "outputs": [],
   "source": [
    "for filename in os.listdir(folder_hallu):\n",
    "    df_hallu = pd.read_csv(f\"{folder_hallu}/{filename}\")\n",
    "    if len(df_hallu[df_hallu['label'] != df_hallu['object']]) > 0:\n",
    "        print(f\"In {filename}, there are {len(df_hallu[df_hallu['label'] != df_hallu['object']])} questions where label != object\")\n",
    "    df_hallu = df_hallu.drop(columns=['label'])  # label column equals to the object column\n",
    "    df_hallu.to_csv(f\"{folder_hallu}/{filename}\", index=False)"
   ]
  },
  {
   "cell_type": "markdown",
   "metadata": {},
   "source": [
    "## Get responses"
   ]
  },
  {
   "cell_type": "code",
   "execution_count": 4,
   "metadata": {},
   "outputs": [
    {
     "data": {
      "application/vnd.jupyter.widget-view+json": {
       "model_id": "3775b101905642cfabd1943ce737c3d1",
       "version_major": 2,
       "version_minor": 0
      },
      "text/plain": [
       "Loading checkpoint shards:   0%|          | 0/4 [00:00<?, ?it/s]"
      ]
     },
     "metadata": {},
     "output_type": "display_data"
    }
   ],
   "source": [
    "tok_qa = transformers.AutoTokenizer.from_pretrained(model_id)\n",
    "model_qa = transformers.AutoModelForCausalLM.from_pretrained(model_id).to(device)"
   ]
  },
  {
   "cell_type": "code",
   "execution_count": null,
   "metadata": {},
   "outputs": [],
   "source": [
    "messages_qa = [{\"role\": \"system\", \"content\": system_msg_qa}, {\"role\": \"user\", \"content\": 'What does Vulkan follow?'}]\n",
    "get_response(model_qa, tok_qa, messages_qa, max_new_tokens=16)"
   ]
  },
  {
   "cell_type": "code",
   "execution_count": 5,
   "metadata": {},
   "outputs": [
    {
     "name": "stdout",
     "output_type": "stream",
     "text": [
      "meta_llama_3.1_8b_instruct\n"
     ]
    },
    {
     "name": "stderr",
     "output_type": "stream",
     "text": [
      "  0%|          | 0/115 [00:00<?, ?it/s]"
     ]
    },
    {
     "name": "stderr",
     "output_type": "stream",
     "text": [
      "The attention mask is not set and cannot be inferred from input because pad token is same as eos token. As a consequence, you may observe unexpected behavior. Please pass your input's `attention_mask` to obtain reliable results.\n",
      "100%|██████████| 115/115 [00:50<00:00,  2.30it/s]\n"
     ]
    },
    {
     "name": "stdout",
     "output_type": "stream",
     "text": [
      "event_sport.csv\n"
     ]
    },
    {
     "name": "stderr",
     "output_type": "stream",
     "text": [
      "100%|██████████| 261/261 [01:54<00:00,  2.27it/s]\n"
     ]
    },
    {
     "name": "stdout",
     "output_type": "stream",
     "text": [
      "geography_forest.csv\n"
     ]
    },
    {
     "name": "stderr",
     "output_type": "stream",
     "text": [
      "100%|██████████| 191/191 [01:26<00:00,  2.20it/s]\n"
     ]
    },
    {
     "name": "stdout",
     "output_type": "stream",
     "text": [
      "business_corporation.csv\n"
     ]
    },
    {
     "name": "stderr",
     "output_type": "stream",
     "text": [
      "100%|██████████| 6805/6805 [52:02<00:00,  2.18it/s]  \n"
     ]
    },
    {
     "name": "stdout",
     "output_type": "stream",
     "text": [
      "places_city.csv\n"
     ]
    },
    {
     "name": "stderr",
     "output_type": "stream",
     "text": [
      "100%|██████████| 300/300 [02:04<00:00,  2.42it/s]\n"
     ]
    },
    {
     "name": "stdout",
     "output_type": "stream",
     "text": [
      "entertainment_music_genre.csv\n"
     ]
    },
    {
     "name": "stderr",
     "output_type": "stream",
     "text": [
      "100%|██████████| 1935/1935 [14:39<00:00,  2.20it/s]\n"
     ]
    },
    {
     "name": "stdout",
     "output_type": "stream",
     "text": [
      "entertainment_song.csv\n"
     ]
    },
    {
     "name": "stderr",
     "output_type": "stream",
     "text": [
      "100%|██████████| 311/311 [02:17<00:00,  2.26it/s]\n"
     ]
    },
    {
     "name": "stdout",
     "output_type": "stream",
     "text": [
      "technology_programming_language.csv\n"
     ]
    },
    {
     "name": "stderr",
     "output_type": "stream",
     "text": [
      "100%|██████████| 1313/1313 [08:41<00:00,  2.52it/s]\n"
     ]
    },
    {
     "name": "stdout",
     "output_type": "stream",
     "text": [
      "human_athlete.csv\n"
     ]
    },
    {
     "name": "stderr",
     "output_type": "stream",
     "text": [
      "100%|██████████| 299/299 [01:59<00:00,  2.50it/s]\n"
     ]
    },
    {
     "name": "stdout",
     "output_type": "stream",
     "text": [
      "entertainment_anime.csv\n"
     ]
    },
    {
     "name": "stderr",
     "output_type": "stream",
     "text": [
      "100%|██████████| 1832/1832 [14:00<00:00,  2.18it/s]\n"
     ]
    },
    {
     "name": "stdout",
     "output_type": "stream",
     "text": [
      "places_landmark.csv\n"
     ]
    },
    {
     "name": "stderr",
     "output_type": "stream",
     "text": [
      "100%|██████████| 170/170 [01:11<00:00,  2.39it/s]\n"
     ]
    },
    {
     "name": "stdout",
     "output_type": "stream",
     "text": [
      "business_industry.csv\n"
     ]
    },
    {
     "name": "stderr",
     "output_type": "stream",
     "text": [
      "100%|██████████| 1052/1052 [07:09<00:00,  2.45it/s]\n"
     ]
    },
    {
     "name": "stdout",
     "output_type": "stream",
     "text": [
      "human_scientist.csv\n"
     ]
    },
    {
     "name": "stderr",
     "output_type": "stream",
     "text": [
      "100%|██████████| 166/166 [01:06<00:00,  2.48it/s]\n"
     ]
    },
    {
     "name": "stdout",
     "output_type": "stream",
     "text": [
      "event_film.csv\n"
     ]
    },
    {
     "name": "stderr",
     "output_type": "stream",
     "text": [
      "100%|██████████| 156/156 [01:15<00:00,  2.06it/s]\n"
     ]
    },
    {
     "name": "stdout",
     "output_type": "stream",
     "text": [
      "event_history.csv\n"
     ]
    },
    {
     "name": "stderr",
     "output_type": "stream",
     "text": [
      "100%|██████████| 377/377 [02:51<00:00,  2.20it/s]\n"
     ]
    },
    {
     "name": "stdout",
     "output_type": "stream",
     "text": [
      "art_sculpture.csv\n"
     ]
    },
    {
     "name": "stderr",
     "output_type": "stream",
     "text": [
      "100%|██████████| 505/505 [03:54<00:00,  2.16it/s]\n"
     ]
    },
    {
     "name": "stdout",
     "output_type": "stream",
     "text": [
      "health_disease.csv\n"
     ]
    },
    {
     "name": "stderr",
     "output_type": "stream",
     "text": [
      "100%|██████████| 429/429 [03:17<00:00,  2.17it/s]\n"
     ]
    },
    {
     "name": "stdout",
     "output_type": "stream",
     "text": [
      "geography_volcano.csv\n"
     ]
    },
    {
     "name": "stderr",
     "output_type": "stream",
     "text": [
      "100%|██████████| 60/60 [00:26<00:00,  2.24it/s]\n"
     ]
    },
    {
     "name": "stdout",
     "output_type": "stream",
     "text": [
      "health_symptom.csv\n"
     ]
    },
    {
     "name": "stderr",
     "output_type": "stream",
     "text": [
      "100%|██████████| 138/138 [01:02<00:00,  2.20it/s]\n"
     ]
    },
    {
     "name": "stdout",
     "output_type": "stream",
     "text": [
      "technology_database.csv\n"
     ]
    },
    {
     "name": "stderr",
     "output_type": "stream",
     "text": [
      "100%|██████████| 787/787 [05:53<00:00,  2.23it/s]\n"
     ]
    },
    {
     "name": "stdout",
     "output_type": "stream",
     "text": [
      "business_brand.csv\n"
     ]
    },
    {
     "name": "stderr",
     "output_type": "stream",
     "text": [
      "100%|██████████| 2685/2685 [18:06<00:00,  2.47it/s]\n"
     ]
    },
    {
     "name": "stdout",
     "output_type": "stream",
     "text": [
      "human_writer.csv\n"
     ]
    },
    {
     "name": "stderr",
     "output_type": "stream",
     "text": [
      "100%|██████████| 633/633 [04:20<00:00,  2.43it/s]\n"
     ]
    },
    {
     "name": "stdout",
     "output_type": "stream",
     "text": [
      "technology_software.csv\n"
     ]
    },
    {
     "name": "stderr",
     "output_type": "stream",
     "text": [
      "100%|██████████| 53/53 [00:26<00:00,  1.97it/s]\n"
     ]
    },
    {
     "name": "stdout",
     "output_type": "stream",
     "text": [
      "health_medication.csv\n"
     ]
    },
    {
     "name": "stderr",
     "output_type": "stream",
     "text": [
      "100%|██████████| 1936/1936 [15:54<00:00,  2.03it/s]\n"
     ]
    },
    {
     "name": "stdout",
     "output_type": "stream",
     "text": [
      "places_country.csv\n"
     ]
    },
    {
     "name": "stderr",
     "output_type": "stream",
     "text": [
      "100%|██████████| 1546/1546 [10:22<00:00,  2.48it/s]\n"
     ]
    },
    {
     "name": "stdout",
     "output_type": "stream",
     "text": [
      "human_entrepreneur.csv\n"
     ]
    },
    {
     "name": "stderr",
     "output_type": "stream",
     "text": [
      "100%|██████████| 107/107 [00:54<00:00,  1.98it/s]"
     ]
    },
    {
     "name": "stdout",
     "output_type": "stream",
     "text": [
      "geography_glacier.csv\n"
     ]
    },
    {
     "name": "stderr",
     "output_type": "stream",
     "text": [
      "\n"
     ]
    }
   ],
   "source": [
    "print(model_id_format)\n",
    "# df_all_topics = pd.DataFrame()\n",
    "# for filename in ['technology_software.csv']:\n",
    "for filename in os.listdir(folder_unfiltered):\n",
    "    df = pd.read_csv(f\"{folder_unfiltered}/{filename}\")\n",
    "    # if f\"output_{model_id_format}\" in df.columns:\n",
    "    #     continue\n",
    "    ls_output = []\n",
    "    for i in tqdm(df.index):\n",
    "        question = df.loc[i, 'question']\n",
    "        # user_msg_qa = Wh_content + \"\\nQuestion:\" + question  # places_landmark_old.csv\n",
    "        # user_msg_qa = f'Question: {question} Answer:'\n",
    "        user_msg_qa = f'{question}'\n",
    "        if model_id_format == 'gemma_2_9b_it':  # System role not supported for gemma\n",
    "            messages_qa = [{\"role\": \"user\", \"content\": system_msg_qa+' '+user_msg_qa}]\n",
    "        else:\n",
    "            messages_qa = [{\"role\": \"system\", \"content\": system_msg_qa}, {\"role\": \"user\", \"content\": user_msg_qa}]\n",
    "        output_qa = get_response(model_qa, tok_qa, messages_qa, max_new_tokens=16)\n",
    "        ls_output.append(output_qa)\n",
    "    \n",
    "    df['topic'] = filename.replace('.csv', '')\n",
    "    df[f\"output_{model_id_format}\"] = ls_output\n",
    "    df[['topic', 'subject', 'relation', 'object', 'label', 'question', f'output_{model_id_format}']].to_csv(f\"{folder_unfiltered}/{filename}\", index=False)\n",
    "    print(filename)\n",
    "    # df_all_topics = pd.concat([df_all_topics, df], axis=0)\n",
    "    # print(\"df_all_topics.shape:\", df_all_topics.shape)\n",
    "# df_all_topics = df_all_topics[['topic', 'type', 'subject', 'relation', 'object', 'question', 'label', f'output_{model_id_format}']]\n",
    "# df_all_topics.to_csv(f\"../data/questions/wh_only/all_topics_{model_id_format}.csv\", index=False)\n",
    "# del model_qa\n",
    "# gc.collect()\n",
    "# torch.cuda.empty_cache() 190 min"
   ]
  },
  {
   "cell_type": "markdown",
   "metadata": {},
   "source": [
    "## Filter hallucination"
   ]
  },
  {
   "cell_type": "code",
   "execution_count": 6,
   "metadata": {},
   "outputs": [
    {
     "name": "stdout",
     "output_type": "stream",
     "text": [
      "Given two texts, labeled as Text 1 and Text 2, output '1' if they match each other semantically; otherwise, output '0'. Do not repeat the question or provide any explanation.\n"
     ]
    },
    {
     "data": {
      "application/vnd.jupyter.widget-view+json": {
       "model_id": "62fbde7caa734ae1be1676291de26537",
       "version_major": 2,
       "version_minor": 0
      },
      "text/plain": [
       "Loading checkpoint shards:   0%|          | 0/4 [00:00<?, ?it/s]"
      ]
     },
     "metadata": {},
     "output_type": "display_data"
    }
   ],
   "source": [
    "def evaluate_responses(model_eval, tok_eval, df, system_msg_eval, user_msg_eval_template=\"Text 1: {label} \\nText 2: {output_qa}\"):\n",
    "    for i in df.index:\n",
    "        label = df.loc[i, 'object']\n",
    "        output_qa = df.loc[i, f\"output_{model_id_format}\"]\n",
    "        eval_res = 0\n",
    "\n",
    "        if output_qa.lower() in label.lower() or label.lower() in output_qa.lower() or 'unknown' in output_qa.lower():  # Rule-based fuzzy match\n",
    "            eval_res = 1\n",
    "            # if output_qa.lower() == label.lower():\n",
    "            #     print(f\"Label: {label:<35} Prediction: {output_qa:<35} Evaluation: Exact Match\")\n",
    "            # else:\n",
    "            #     print(f\"Label: {label:<35} Prediction: {output_qa:<35} Evaluation: Partial Match\")\n",
    "        else:\n",
    "            user_msg_eval = user_msg_eval_template.format(label=label, output_qa=output_qa)\n",
    "            messages_eval = [{\"role\": \"system\", \"content\": system_msg_eval}, {\"role\": \"user\", \"content\": user_msg_eval}]\n",
    "            response_eval = get_response(model_eval, tok_eval, messages_eval)\n",
    "            if response_eval != '0':\n",
    "                # print(f\"Label: {label:<35} Prediction: {output_qa:<35} Evaluation: Semantic Match\")\n",
    "                eval_res = 1\n",
    "                \n",
    "        df.loc[i, f\"eval_{model_id_format}\"] = eval_res\n",
    "    hallu_count = df[df[f'eval_{model_id_format}']==0].shape\n",
    "    print(f\"Hallucination ratio: {hallu_count[0]/len(df)} df_hallucination.shape: {hallu_count}\")\n",
    "    return df\n",
    "\n",
    "print(system_msg_eval)\n",
    "model_id_eval = \"meta-llama/Meta-Llama-3.1-8B-Instruct\"\n",
    "model_eval = AutoModelForCausalLM.from_pretrained(model_id_eval, torch_dtype='auto').to('cuda:3')\n",
    "tok_eval = AutoTokenizer.from_pretrained(model_id_eval)"
   ]
  },
  {
   "cell_type": "code",
   "execution_count": null,
   "metadata": {},
   "outputs": [],
   "source": [
    "# domain_topic_name = 'entertainment_anime' \n",
    "# df_q = df_q[df_q.topic == domain_topic_name]\n",
    "system_msg_2 = \"Given two texts, labeled as Text 1 and Text 2, output '1' if they if they have similar semantic meanings, are synonyms, \\\n",
    "or if one is a more specific or general version of the other; otherwise, output '0'. Do not repeat the question or provide any explanation.\"   \n",
    "\n",
    "if not os.path.exists(folder_hallu):\n",
    "    os.makedirs(folder_hallu)\n",
    "# for filename in ['technology_software.csv', 'places_country.csv', 'business_brand.csv', 'human_scientist.csv']:\n",
    "for filename in os.listdir(folder_unfiltered)[:]:\n",
    "    print(filename, os.path.exists(f\"{folder_hallu}/{filename}\"))\n",
    "    if os.path.exists(f\"{folder_hallu}/{filename}\"):\n",
    "        continue\n",
    "    df_q = pd.read_csv(f\"{folder_unfiltered}/{filename}\")\n",
    "    print(f\"domain_topic_name: {filename}, df_q.shape: {df_q.shape}, output_dir: {folder_hallu}/{filename}\")\n",
    "    print('Round 1.', end=' ')\n",
    "    df_q = evaluate_responses(model_eval, tok_eval, df_q, system_msg_eval)\n",
    "    df_hallu = df_q[df_q[f\"eval_{model_id_format}\"] == 0]\n",
    "\n",
    "    # Round 2: use system_msg_2 to filter case such as United Kingdom vs. England\n",
    "    print('Round 2.', end=' ')\n",
    "    df_hallu = evaluate_responses(model_eval, tok_eval, df_hallu, system_msg_2)\n",
    "    df_hallu = df_hallu[df_hallu[f\"eval_{model_id_format}\"] == 0]\n",
    "    df_hallu = df_hallu.drop(columns=['label'])  # label column equals to the object column\n",
    "    df_hallu.to_csv(f\"{folder_hallu}/{filename}\", index=False)"
   ]
  },
  {
   "cell_type": "markdown",
   "metadata": {},
   "source": [
    "### Other evaluation less/more strict"
   ]
  },
  {
   "cell_type": "code",
   "execution_count": null,
   "metadata": {},
   "outputs": [],
   "source": [
    "# system_msg_eval = \"\"\"Given a question, a label, and a prediction, evaluate the correctness of the prediction compared to the label. \\\n",
    "# Output '1' if they have similar semantic meanings, are synonyms, or if one is a more specific or general version of the other. Otherwise, output '0'. \\\n",
    "# Only output the final evaluation as a single word. Do not repeat the question or provide an explanation.\"\"\""
   ]
  },
  {
   "cell_type": "code",
   "execution_count": null,
   "metadata": {},
   "outputs": [
    {
     "name": "stderr",
     "output_type": "stream",
     "text": [
      "/data1/baixiang/env/anaconda3/envs/edit/lib/python3.9/site-packages/transformers/generation/configuration_utils.py:567: UserWarning: `do_sample` is set to `False`. However, `temperature` is set to `0.6` -- this flag is only used in sample-based generation modes. You should set `do_sample=True` or unset `temperature`.\n",
      "  warnings.warn(\n",
      "/data1/baixiang/env/anaconda3/envs/edit/lib/python3.9/site-packages/transformers/generation/configuration_utils.py:572: UserWarning: `do_sample` is set to `False`. However, `top_p` is set to `0.9` -- this flag is only used in sample-based generation modes. You should set `do_sample=True` or unset `top_p`.\n",
      "  warnings.warn(\n"
     ]
    },
    {
     "name": "stdout",
     "output_type": "stream",
     "text": [
      "0 0 0 1 0 0 0 0 0 0 0 0 0 0 0 0 0 0 0 0 0 0 0 0 0 0 0 0 1 0 0 1 0 1 0 0 0 0 0 0 0 0 0 0 0 0 0 0 0 0 0 0 0 0 0 0 0 0 0 0 0 1 0 0 0 0 0 0 0 0 0 0 1 1 0 1 0 0 1 0 0 0 0 0 0 0 0 0 1 0 0 0 0 0 0 0 0 0 0 0 0 0 0 0 0 0 0 0 0 0 0 0 0 0 0 0 0 0 0 0 0 0 0 0 0 0 1 0 0 1 0 0 1 0 0 1 0 1 0 0 1 0 1 0 0 0 0 0 0 0 0 0 0 0 1 0 0 0 0 0 0 0 0 0 0 0 0 0 0 0 1 0 0 0 0 0 0 1 0 0 0 0 0 0 0 0 0 0 0 0 0 0 0 0 0 0 0 0 0 0 0 1 0 0 1 0 0 0 0 1 0 0 0 0 0 0 0 0 0 0 0 1 0 0 0 0 0 0 0 0 0 0 0 0 1 1 0 0 0 0 0 0 0 1 0 1 0 0 0 0 1 0 0 0 0 0 0 1 0 0 0 0 0 0 0 0 0 0 0 0 0 0 0 0 0 0 1 0 0 0 0 0 0 0 1 0 0 0 0 0 0 0 0 0 0 0 0 0 0 0 0 0 0 0 0 0 0 0 0 0 0 0 1 0 0 0 0 0 1 0 0 0 0 0 0 \n",
      "The wh question accuracy of the language model is 0.418\n"
     ]
    }
   ],
   "source": [
    "domain_topic_name = 'places_landmark'\n",
    "df_wh = pd.read_csv(f\"../data/questions/wh_only/all_topics_{model_id_format}.csv\")\n",
    "df_wh = df_wh[df_wh.topic == domain_topic_name]\n",
    "print(domain_topic_name, df_wh.shape)\n",
    "\n",
    "system_msg_eval = \"\"\"Given a label and a prediction, evaluate the correctness of the prediction compared to the label. \\\n",
    "Output '1' if they match each other semantically. Otherwise, output '0'. Do not repeat the question or provide an explanation.\"\"\"\n",
    "# output the final evaluation as a single word. Do not repeat the question or provide an explanation Only output '0' or '1'.\n",
    "\n",
    "user_msg_eval_template = f\"\"\"label: {label} \\nprediction: {output_qa}\\n\"\"\"\n",
    "df_wh = evaluate_responses(model_eval, tok_eval, df_wh, system_msg_eval, user_msg_eval_template)"
   ]
  },
  {
   "cell_type": "code",
   "execution_count": null,
   "metadata": {},
   "outputs": [
    {
     "name": "stderr",
     "output_type": "stream",
     "text": [
      "/data1/baixiang/env/anaconda3/envs/edit/lib/python3.9/site-packages/transformers/generation/configuration_utils.py:567: UserWarning: `do_sample` is set to `False`. However, `temperature` is set to `0.6` -- this flag is only used in sample-based generation modes. You should set `do_sample=True` or unset `temperature`.\n",
      "  warnings.warn(\n",
      "/data1/baixiang/env/anaconda3/envs/edit/lib/python3.9/site-packages/transformers/generation/configuration_utils.py:572: UserWarning: `do_sample` is set to `False`. However, `top_p` is set to `0.9` -- this flag is only used in sample-based generation modes. You should set `do_sample=True` or unset `top_p`.\n",
      "  warnings.warn(\n"
     ]
    },
    {
     "name": "stdout",
     "output_type": "stream",
     "text": [
      "The wh question accuracy of the language model is 0.642\n"
     ]
    },
    {
     "data": {
      "text/html": [
       "<div>\n",
       "<style scoped>\n",
       "    .dataframe tbody tr th:only-of-type {\n",
       "        vertical-align: middle;\n",
       "    }\n",
       "\n",
       "    .dataframe tbody tr th {\n",
       "        vertical-align: top;\n",
       "    }\n",
       "\n",
       "    .dataframe thead th {\n",
       "        text-align: right;\n",
       "    }\n",
       "</style>\n",
       "<table border=\"1\" class=\"dataframe\">\n",
       "  <thead>\n",
       "    <tr style=\"text-align: right;\">\n",
       "      <th></th>\n",
       "      <th>topic</th>\n",
       "      <th>type</th>\n",
       "      <th>subject</th>\n",
       "      <th>relation</th>\n",
       "      <th>object</th>\n",
       "      <th>question</th>\n",
       "      <th>label</th>\n",
       "      <th>output_meta_llama_3.1_8b_instruct</th>\n",
       "      <th>eval_meta_llama_3.1_8b_instruct</th>\n",
       "    </tr>\n",
       "  </thead>\n",
       "  <tbody>\n",
       "    <tr>\n",
       "      <th>2000</th>\n",
       "      <td>places_landmark</td>\n",
       "      <td>wh</td>\n",
       "      <td>Old Royal Naval College</td>\n",
       "      <td>architect</td>\n",
       "      <td>Christopher Wren</td>\n",
       "      <td>Who does Old Royal Naval College architect?</td>\n",
       "      <td>Christopher Wren</td>\n",
       "      <td>Christopher Wren.</td>\n",
       "      <td>1.0</td>\n",
       "    </tr>\n",
       "    <tr>\n",
       "      <th>2001</th>\n",
       "      <td>places_landmark</td>\n",
       "      <td>wh</td>\n",
       "      <td>Old Royal Naval College</td>\n",
       "      <td>country</td>\n",
       "      <td>United Kingdom</td>\n",
       "      <td>What is the country of Old Royal Naval College?</td>\n",
       "      <td>United Kingdom</td>\n",
       "      <td>United Kingdom.</td>\n",
       "      <td>1.0</td>\n",
       "    </tr>\n",
       "    <tr>\n",
       "      <th>2003</th>\n",
       "      <td>places_landmark</td>\n",
       "      <td>wh</td>\n",
       "      <td>Panathenaic Stadium</td>\n",
       "      <td>occupant</td>\n",
       "      <td>Hellenic Olympic Committee</td>\n",
       "      <td>What is the occupant of Panathenaic Stadium?</td>\n",
       "      <td>Hellenic Olympic Committee</td>\n",
       "      <td>Greek National Stadium.</td>\n",
       "      <td>1.0</td>\n",
       "    </tr>\n",
       "    <tr>\n",
       "      <th>2004</th>\n",
       "      <td>places_landmark</td>\n",
       "      <td>wh</td>\n",
       "      <td>Panathenaic Stadium</td>\n",
       "      <td>made from material</td>\n",
       "      <td>marble</td>\n",
       "      <td>What is the made from material of Panathenaic ...</td>\n",
       "      <td>marble</td>\n",
       "      <td>Pentelic marble.</td>\n",
       "      <td>1.0</td>\n",
       "    </tr>\n",
       "    <tr>\n",
       "      <th>2005</th>\n",
       "      <td>places_landmark</td>\n",
       "      <td>wh</td>\n",
       "      <td>Panathenaic Stadium</td>\n",
       "      <td>sponsor</td>\n",
       "      <td>Stavros Niarchos Foundation</td>\n",
       "      <td>What does Panathenaic Stadium sponsor?</td>\n",
       "      <td>Stavros Niarchos Foundation</td>\n",
       "      <td>Athletic events.</td>\n",
       "      <td>1.0</td>\n",
       "    </tr>\n",
       "    <tr>\n",
       "      <th>...</th>\n",
       "      <td>...</td>\n",
       "      <td>...</td>\n",
       "      <td>...</td>\n",
       "      <td>...</td>\n",
       "      <td>...</td>\n",
       "      <td>...</td>\n",
       "      <td>...</td>\n",
       "      <td>...</td>\n",
       "      <td>...</td>\n",
       "    </tr>\n",
       "    <tr>\n",
       "      <th>2492</th>\n",
       "      <td>places_landmark</td>\n",
       "      <td>wh</td>\n",
       "      <td>MUNCH</td>\n",
       "      <td>located in or next to body of water</td>\n",
       "      <td>Oslofjord</td>\n",
       "      <td>What is the located in or next to body of wate...</td>\n",
       "      <td>Oslofjord</td>\n",
       "      <td>Oslofjord.</td>\n",
       "      <td>1.0</td>\n",
       "    </tr>\n",
       "    <tr>\n",
       "      <th>2494</th>\n",
       "      <td>places_landmark</td>\n",
       "      <td>wh</td>\n",
       "      <td>MUNCH</td>\n",
       "      <td>replaces</td>\n",
       "      <td>Munch Museum</td>\n",
       "      <td>What does MUNCH replace?</td>\n",
       "      <td>Munch Museum</td>\n",
       "      <td>MUNCH replaces OMNISCIENT.</td>\n",
       "      <td>1.0</td>\n",
       "    </tr>\n",
       "    <tr>\n",
       "      <th>2496</th>\n",
       "      <td>places_landmark</td>\n",
       "      <td>wh</td>\n",
       "      <td>Bridget of Sweden</td>\n",
       "      <td>founded by</td>\n",
       "      <td>Vadstena Abbey</td>\n",
       "      <td>Which tourist attraction was founded by Bridge...</td>\n",
       "      <td>Vadstena Abbey</td>\n",
       "      <td>Birgitta Abbey.</td>\n",
       "      <td>1.0</td>\n",
       "    </tr>\n",
       "    <tr>\n",
       "      <th>2498</th>\n",
       "      <td>places_landmark</td>\n",
       "      <td>wh</td>\n",
       "      <td>St Mark's Campanile</td>\n",
       "      <td>has part(s)</td>\n",
       "      <td>St Mark's Basilica</td>\n",
       "      <td>Which tourist attraction has part(s) St Mark's...</td>\n",
       "      <td>St Mark's Basilica</td>\n",
       "      <td>St. Mark's Square.</td>\n",
       "      <td>1.0</td>\n",
       "    </tr>\n",
       "    <tr>\n",
       "      <th>2499</th>\n",
       "      <td>places_landmark</td>\n",
       "      <td>wh</td>\n",
       "      <td>Alcatraz Island</td>\n",
       "      <td>heritage designation</td>\n",
       "      <td>National Historic Landmark</td>\n",
       "      <td>What is the heritage designation of Alcatraz I...</td>\n",
       "      <td>National Historic Landmark</td>\n",
       "      <td>National Historic Landmark.</td>\n",
       "      <td>1.0</td>\n",
       "    </tr>\n",
       "  </tbody>\n",
       "</table>\n",
       "<p>321 rows × 9 columns</p>\n",
       "</div>"
      ],
      "text/plain": [
       "                topic type                  subject  \\\n",
       "2000  places_landmark   wh  Old Royal Naval College   \n",
       "2001  places_landmark   wh  Old Royal Naval College   \n",
       "2003  places_landmark   wh      Panathenaic Stadium   \n",
       "2004  places_landmark   wh      Panathenaic Stadium   \n",
       "2005  places_landmark   wh      Panathenaic Stadium   \n",
       "...               ...  ...                      ...   \n",
       "2492  places_landmark   wh                    MUNCH   \n",
       "2494  places_landmark   wh                    MUNCH   \n",
       "2496  places_landmark   wh        Bridget of Sweden   \n",
       "2498  places_landmark   wh      St Mark's Campanile   \n",
       "2499  places_landmark   wh          Alcatraz Island   \n",
       "\n",
       "                                 relation                       object  \\\n",
       "2000                            architect             Christopher Wren   \n",
       "2001                              country               United Kingdom   \n",
       "2003                             occupant   Hellenic Olympic Committee   \n",
       "2004                   made from material                       marble   \n",
       "2005                              sponsor  Stavros Niarchos Foundation   \n",
       "...                                   ...                          ...   \n",
       "2492  located in or next to body of water                    Oslofjord   \n",
       "2494                             replaces                 Munch Museum   \n",
       "2496                           founded by               Vadstena Abbey   \n",
       "2498                          has part(s)           St Mark's Basilica   \n",
       "2499                 heritage designation   National Historic Landmark   \n",
       "\n",
       "                                               question  \\\n",
       "2000        Who does Old Royal Naval College architect?   \n",
       "2001    What is the country of Old Royal Naval College?   \n",
       "2003       What is the occupant of Panathenaic Stadium?   \n",
       "2004  What is the made from material of Panathenaic ...   \n",
       "2005             What does Panathenaic Stadium sponsor?   \n",
       "...                                                 ...   \n",
       "2492  What is the located in or next to body of wate...   \n",
       "2494                           What does MUNCH replace?   \n",
       "2496  Which tourist attraction was founded by Bridge...   \n",
       "2498  Which tourist attraction has part(s) St Mark's...   \n",
       "2499  What is the heritage designation of Alcatraz I...   \n",
       "\n",
       "                            label output_meta_llama_3.1_8b_instruct  \\\n",
       "2000             Christopher Wren                 Christopher Wren.   \n",
       "2001               United Kingdom                   United Kingdom.   \n",
       "2003   Hellenic Olympic Committee           Greek National Stadium.   \n",
       "2004                       marble                  Pentelic marble.   \n",
       "2005  Stavros Niarchos Foundation                  Athletic events.   \n",
       "...                           ...                               ...   \n",
       "2492                    Oslofjord                        Oslofjord.   \n",
       "2494                 Munch Museum        MUNCH replaces OMNISCIENT.   \n",
       "2496               Vadstena Abbey                   Birgitta Abbey.   \n",
       "2498           St Mark's Basilica                St. Mark's Square.   \n",
       "2499   National Historic Landmark       National Historic Landmark.   \n",
       "\n",
       "      eval_meta_llama_3.1_8b_instruct  \n",
       "2000                              1.0  \n",
       "2001                              1.0  \n",
       "2003                              1.0  \n",
       "2004                              1.0  \n",
       "2005                              1.0  \n",
       "...                               ...  \n",
       "2492                              1.0  \n",
       "2494                              1.0  \n",
       "2496                              1.0  \n",
       "2498                              1.0  \n",
       "2499                              1.0  \n",
       "\n",
       "[321 rows x 9 columns]"
      ]
     },
     "metadata": {},
     "output_type": "display_data"
    }
   ],
   "source": [
    "domain_topic_name = 'places_landmark'\n",
    "df_wh = pd.read_csv(f\"../data/questions/wh_only/all_topics_{model_id_format}.csv\")\n",
    "df_wh = df_wh[df_wh.topic == domain_topic_name]\n",
    "\n",
    "system_msg_eval = \"\"\"Given a question, a label, and a prediction, evaluate the correctness of the prediction compared to the label. \\\n",
    "Output '1' if they have similar semantic meanings, are synonyms, or if one is a more specific or general version of the other. Otherwise, output '0'. \\\n",
    "Only output the final evaluation as a single word. Do not repeat the question or provide an explanation.\"\"\"\n",
    "\n",
    "wh_count = 0\n",
    "wh_correct = 0\n",
    "for i in df_wh.index[:]:\n",
    "    question, label, output_qa = df_wh.loc[i, 'question'], df_wh.loc[i, 'label'], df_wh.loc[i, f\"output_{model_id_format}\"]\n",
    "    prompt_eval = f\"\"\"question: {question} \\nlabel: {label} \\nprediction: {output_qa}\\n\"\"\"\n",
    "    eval_res = 0\n",
    "    wh_count += 1 \n",
    "\n",
    "    if output_qa.lower() in label.lower() or label.lower() in output_qa.lower():  # Rule-basd fuzzy match\n",
    "        wh_correct += 1\n",
    "        eval_res = 1\n",
    "    else:\n",
    "        \n",
    "        messages_eval = [{\"role\": \"system\", \"content\": system_msg_eval}, {\"role\": \"user\", \"content\": user_msg_eval}]\n",
    "        response_eval = get_response(model_eval, tok_eval, messages_eval)\n",
    "        if response_eval == '1':\n",
    "            wh_correct += 1\n",
    "            eval_res = 1\n",
    "            \n",
    "    df_wh.loc[i, f\"eval_{model_id_format}\"] = eval_res\n",
    "    \n",
    "print(f\"The wh question accuracy of the language model is {wh_correct / wh_count}\")\n",
    "# if not os.path.exists(f\"../data/questions/wh_only/hallucination_only/{model_id_format}\"):\n",
    "#     os.makedirs(f\"../data/questions/wh_only/hallucination_only/{model_id_format}\")\n",
    "df_wh[df_wh[f\"eval_{model_id_format}\"] == 0].to_csv(f\"../data/questions/wh_only/hallucination_only/{model_id_format}.csv\", index=False)\n",
    "df_wh[df_wh[f\"eval_{model_id_format}\"] == 1]\n",
    "# The wh question accuracy of the language model is 0.656"
   ]
  },
  {
   "cell_type": "code",
   "execution_count": 7,
   "metadata": {},
   "outputs": [
    {
     "name": "stderr",
     "output_type": "stream",
     "text": [
      "/home/baix/anaconda3/envs/env24may/lib/python3.9/site-packages/transformers/generation/configuration_utils.py:515: UserWarning: `do_sample` is set to `False`. However, `temperature` is set to `0.6` -- this flag is only used in sample-based generation modes. You should set `do_sample=True` or unset `temperature`.\n",
      "  warnings.warn(\n",
      "/home/baix/anaconda3/envs/env24may/lib/python3.9/site-packages/transformers/generation/configuration_utils.py:520: UserWarning: `do_sample` is set to `False`. However, `top_p` is set to `0.9` -- this flag is only used in sample-based generation modes. You should set `do_sample=True` or unset `top_p`.\n",
      "  warnings.warn(\n"
     ]
    },
    {
     "name": "stdout",
     "output_type": "stream",
     "text": [
      "[GPT] The wh question accuracy of the language model is 0.732\n"
     ]
    },
    {
     "data": {
      "text/html": [
       "<div>\n",
       "<style scoped>\n",
       "    .dataframe tbody tr th:only-of-type {\n",
       "        vertical-align: middle;\n",
       "    }\n",
       "\n",
       "    .dataframe tbody tr th {\n",
       "        vertical-align: top;\n",
       "    }\n",
       "\n",
       "    .dataframe thead th {\n",
       "        text-align: right;\n",
       "    }\n",
       "</style>\n",
       "<table border=\"1\" class=\"dataframe\">\n",
       "  <thead>\n",
       "    <tr style=\"text-align: right;\">\n",
       "      <th></th>\n",
       "      <th>type</th>\n",
       "      <th>subject</th>\n",
       "      <th>relation</th>\n",
       "      <th>object</th>\n",
       "      <th>question</th>\n",
       "      <th>label</th>\n",
       "      <th>output_meta-llama/Meta-Llama-3-8B-Instruct</th>\n",
       "      <th>eval_meta_llama_3_8b_instruct</th>\n",
       "    </tr>\n",
       "  </thead>\n",
       "  <tbody>\n",
       "    <tr>\n",
       "      <th>0</th>\n",
       "      <td>wh</td>\n",
       "      <td>Ontario</td>\n",
       "      <td>located in the administrative territorial entity</td>\n",
       "      <td>Niagara Falls</td>\n",
       "      <td>Which tourist attraction's located in the admi...</td>\n",
       "      <td>Niagara Falls</td>\n",
       "      <td>Niagara Falls</td>\n",
       "      <td>1.0</td>\n",
       "    </tr>\n",
       "    <tr>\n",
       "      <th>1</th>\n",
       "      <td>wh</td>\n",
       "      <td>Alexandrov Kremlin</td>\n",
       "      <td>country</td>\n",
       "      <td>Russia</td>\n",
       "      <td>What is the country of Alexandrov Kremlin?</td>\n",
       "      <td>Russia</td>\n",
       "      <td>Russia</td>\n",
       "      <td>1.0</td>\n",
       "    </tr>\n",
       "    <tr>\n",
       "      <th>2</th>\n",
       "      <td>wh</td>\n",
       "      <td>Alexandrov Kremlin</td>\n",
       "      <td>located in the administrative territorial entity</td>\n",
       "      <td>Alexandrov</td>\n",
       "      <td>Who is the located in the administrative terri...</td>\n",
       "      <td>Alexandrov</td>\n",
       "      <td>Alexandrov</td>\n",
       "      <td>1.0</td>\n",
       "    </tr>\n",
       "    <tr>\n",
       "      <th>3</th>\n",
       "      <td>wh</td>\n",
       "      <td>Bukit Panjang</td>\n",
       "      <td>located in the administrative territorial entity</td>\n",
       "      <td>Bukit Timah Nature Reserve</td>\n",
       "      <td>Which tourist attraction's located in the admi...</td>\n",
       "      <td>Bukit Timah Nature Reserve</td>\n",
       "      <td>Haw Par Villa</td>\n",
       "      <td>0.0</td>\n",
       "    </tr>\n",
       "    <tr>\n",
       "      <th>4</th>\n",
       "      <td>wh</td>\n",
       "      <td>Kastelholm Castle</td>\n",
       "      <td>country</td>\n",
       "      <td>Finland</td>\n",
       "      <td>What is the country of Kastelholm Castle?</td>\n",
       "      <td>Finland</td>\n",
       "      <td>Finland</td>\n",
       "      <td>1.0</td>\n",
       "    </tr>\n",
       "    <tr>\n",
       "      <th>...</th>\n",
       "      <td>...</td>\n",
       "      <td>...</td>\n",
       "      <td>...</td>\n",
       "      <td>...</td>\n",
       "      <td>...</td>\n",
       "      <td>...</td>\n",
       "      <td>...</td>\n",
       "      <td>...</td>\n",
       "    </tr>\n",
       "    <tr>\n",
       "      <th>495</th>\n",
       "      <td>wh</td>\n",
       "      <td>Thornton Tomasetti</td>\n",
       "      <td>structural engineer</td>\n",
       "      <td>Petronas Towers</td>\n",
       "      <td>Which tourist attraction's structural engineer...</td>\n",
       "      <td>Petronas Towers</td>\n",
       "      <td>One World Trade</td>\n",
       "      <td>0.0</td>\n",
       "    </tr>\n",
       "    <tr>\n",
       "      <th>496</th>\n",
       "      <td>wh</td>\n",
       "      <td>Charles II of England</td>\n",
       "      <td>occupant</td>\n",
       "      <td>Windsor Castle</td>\n",
       "      <td>Which tourist attraction's occupant is Charles...</td>\n",
       "      <td>Windsor Castle</td>\n",
       "      <td>Westminster Abbey</td>\n",
       "      <td>1.0</td>\n",
       "    </tr>\n",
       "    <tr>\n",
       "      <th>497</th>\n",
       "      <td>wh</td>\n",
       "      <td>Charles II of England</td>\n",
       "      <td>founded by</td>\n",
       "      <td>Royal Observatory</td>\n",
       "      <td>Which tourist attraction was founded by Charle...</td>\n",
       "      <td>Royal Observatory</td>\n",
       "      <td>St. Paul's</td>\n",
       "      <td>0.0</td>\n",
       "    </tr>\n",
       "    <tr>\n",
       "      <th>498</th>\n",
       "      <td>wh</td>\n",
       "      <td>Gateway Arch</td>\n",
       "      <td>located in protected area</td>\n",
       "      <td>Gateway Arch National Park</td>\n",
       "      <td>What is the located in protected area of Gatew...</td>\n",
       "      <td>Gateway Arch National Park</td>\n",
       "      <td>Jefferson National Park</td>\n",
       "      <td>1.0</td>\n",
       "    </tr>\n",
       "    <tr>\n",
       "      <th>499</th>\n",
       "      <td>wh</td>\n",
       "      <td>Gateway Arch</td>\n",
       "      <td>heritage designation</td>\n",
       "      <td>National Historic Landmark</td>\n",
       "      <td>What is the heritage designation of Gateway Arch?</td>\n",
       "      <td>National Historic Landmark</td>\n",
       "      <td>National</td>\n",
       "      <td>1.0</td>\n",
       "    </tr>\n",
       "  </tbody>\n",
       "</table>\n",
       "<p>500 rows × 8 columns</p>\n",
       "</div>"
      ],
      "text/plain": [
       "    type                subject  \\\n",
       "0     wh                Ontario   \n",
       "1     wh     Alexandrov Kremlin   \n",
       "2     wh     Alexandrov Kremlin   \n",
       "3     wh          Bukit Panjang   \n",
       "4     wh      Kastelholm Castle   \n",
       "..   ...                    ...   \n",
       "495   wh     Thornton Tomasetti   \n",
       "496   wh  Charles II of England   \n",
       "497   wh  Charles II of England   \n",
       "498   wh           Gateway Arch   \n",
       "499   wh           Gateway Arch   \n",
       "\n",
       "                                             relation  \\\n",
       "0    located in the administrative territorial entity   \n",
       "1                                             country   \n",
       "2    located in the administrative territorial entity   \n",
       "3    located in the administrative territorial entity   \n",
       "4                                             country   \n",
       "..                                                ...   \n",
       "495                               structural engineer   \n",
       "496                                          occupant   \n",
       "497                                        founded by   \n",
       "498                         located in protected area   \n",
       "499                              heritage designation   \n",
       "\n",
       "                         object  \\\n",
       "0                 Niagara Falls   \n",
       "1                        Russia   \n",
       "2                    Alexandrov   \n",
       "3    Bukit Timah Nature Reserve   \n",
       "4                       Finland   \n",
       "..                          ...   \n",
       "495             Petronas Towers   \n",
       "496              Windsor Castle   \n",
       "497           Royal Observatory   \n",
       "498  Gateway Arch National Park   \n",
       "499  National Historic Landmark   \n",
       "\n",
       "                                              question  \\\n",
       "0    Which tourist attraction's located in the admi...   \n",
       "1           What is the country of Alexandrov Kremlin?   \n",
       "2    Who is the located in the administrative terri...   \n",
       "3    Which tourist attraction's located in the admi...   \n",
       "4            What is the country of Kastelholm Castle?   \n",
       "..                                                 ...   \n",
       "495  Which tourist attraction's structural engineer...   \n",
       "496  Which tourist attraction's occupant is Charles...   \n",
       "497  Which tourist attraction was founded by Charle...   \n",
       "498  What is the located in protected area of Gatew...   \n",
       "499  What is the heritage designation of Gateway Arch?   \n",
       "\n",
       "                          label output_meta-llama/Meta-Llama-3-8B-Instruct  \\\n",
       "0                 Niagara Falls                              Niagara Falls   \n",
       "1                        Russia                                     Russia   \n",
       "2                    Alexandrov                                 Alexandrov   \n",
       "3    Bukit Timah Nature Reserve                              Haw Par Villa   \n",
       "4                       Finland                                    Finland   \n",
       "..                          ...                                        ...   \n",
       "495             Petronas Towers                            One World Trade   \n",
       "496              Windsor Castle                          Westminster Abbey   \n",
       "497           Royal Observatory                                 St. Paul's   \n",
       "498  Gateway Arch National Park                    Jefferson National Park   \n",
       "499  National Historic Landmark                                   National   \n",
       "\n",
       "     eval_meta_llama_3_8b_instruct  \n",
       "0                              1.0  \n",
       "1                              1.0  \n",
       "2                              1.0  \n",
       "3                              0.0  \n",
       "4                              1.0  \n",
       "..                             ...  \n",
       "495                            0.0  \n",
       "496                            1.0  \n",
       "497                            0.0  \n",
       "498                            1.0  \n",
       "499                            1.0  \n",
       "\n",
       "[500 rows x 8 columns]"
      ]
     },
     "execution_count": 7,
     "metadata": {},
     "output_type": "execute_result"
    }
   ],
   "source": [
    "# May output other than 0 or 1\n",
    "# system_msg_eval = \"\"\"Given a question, a correct answer, and a prediction, evaluate if the prediction and the correct answer match semantically. \\\n",
    "# Output '1' if they have similar meanings, are synonyms, or if one is a more specific or general version of the other. Otherwise, output '0'.\"\"\"\n",
    "\n",
    "system_msg_eval = \"\"\"Given a question, a correct answer, and a prediction, evaluate whether the prediction and the correct answer match semantically. \\\n",
    "Output '1' if they convey similar meanings, including when the prediction is more specific, more general, or a synonym of the correct answer. Otherwise, output '0'.\"\"\"\n",
    "\n",
    "wh_count = 0\n",
    "wh_correct = 0\n",
    "for i in df_wh.index[:]:\n",
    "    question, label, output = df_wh.loc[i, 'question'], df_wh.loc[i, 'label'], df_wh.loc[i, f\"output_{model_id}\"]\n",
    "    prompt_eval = f\"\"\"The inputs are given as below: \\nquestion: {question} \\n\\ncorrect answer: {label} \\n\\nprediction: {output}\\n\"\"\"\n",
    "\n",
    "    eval_res = 0\n",
    "    wh_count += 1\n",
    "\n",
    "    if output.lower() in label.lower() or label.lower() in output.lower():  # Rule-basd fuzzy match\n",
    "        wh_correct += 1\n",
    "        eval_res = 1\n",
    "    else:\n",
    "        messages = [{\"role\": \"system\", \"content\": system_msg_eval}, {\"role\": \"user\", \"content\": prompt_eval+\" Only output '1' or '0'.\"}]\n",
    "        msg_tokenized = tok.apply_chat_template(messages, add_generation_prompt=True, return_tensors='pt')\n",
    "        output_ids = model_eval.generate(msg_tokenized.to(device_eval), max_new_tokens=1, eos_token_id=terminators, do_sample=False, pad_token_id=tok.eos_token_id)\n",
    "        response_str = tok.decode(output_ids[0][msg_tokenized.shape[-1]:], skip_special_tokens=True)\n",
    "\n",
    "        if response_str == '1':\n",
    "            wh_correct += 1\n",
    "            eval_res = 1\n",
    "            \n",
    "    df_wh.loc[i, f\"eval_{model_id_format}\"] = eval_res\n",
    "print(f\"[GPT] The wh question accuracy of the language model is {wh_correct / wh_count}\")\n",
    "df_wh[df_wh[f\"eval_{model_id_format}\"] == 0].to_csv(f\"../data/questions/wh_only/hallucination_only/{domain_topic_name}_{model_id_format}_eval.csv\", index=False)\n",
    "df_wh[df_wh[f\"eval_{model_id_format}\"] == 1]"
   ]
  },
  {
   "cell_type": "code",
   "execution_count": 16,
   "metadata": {},
   "outputs": [
    {
     "name": "stdout",
     "output_type": "stream",
     "text": [
      "[Sentence Transformer] The wh question accuracy of the language model is 0.418\n"
     ]
    }
   ],
   "source": [
    "from sentence_transformers import SentenceTransformer, util\n",
    "\n",
    "ls_label = df_wh.label.tolist()\n",
    "\n",
    "wh_count = 0\n",
    "wh_correct = 0\n",
    "model_name = 'paraphrase-MiniLM-L6-v2'\n",
    "model = SentenceTransformer(model_name)\n",
    "for i in df_wh.index[:]:\n",
    "    question, label = df_wh.loc[i, 'question'], df_wh.loc[i, 'label']\n",
    "    output = df_wh.loc[i, f\"output_{model_id}\"]\n",
    "    flag = False\n",
    "\n",
    "    wh_count += 1\n",
    "    embeddings = model.encode([label, output])\n",
    "    similarity_score = util.cos_sim(embeddings[0], embeddings[1])\n",
    "    threshold = 0.6\n",
    "    if similarity_score >= threshold:\n",
    "        wh_correct += 1\n",
    "        flag = True\n",
    "        \n",
    "wh_acc_dict = {\"wh_accuracy\": wh_correct/wh_count}\n",
    "print(f\"[Sentence Transformer] The wh question accuracy of the language model is {wh_correct / wh_count}\")"
   ]
  },
  {
   "cell_type": "code",
   "execution_count": 18,
   "metadata": {},
   "outputs": [
    {
     "name": "stderr",
     "output_type": "stream",
     "text": [
      "huggingface/tokenizers: The current process just got forked, after parallelism has already been used. Disabling parallelism to avoid deadlocks...\n",
      "To disable this warning, you can either:\n",
      "\t- Avoid using `tokenizers` before the fork if possible\n",
      "\t- Explicitly set the environment variable TOKENIZERS_PARALLELISM=(true | false)\n"
     ]
    },
    {
     "name": "stdout",
     "output_type": "stream",
     "text": [
      "[GPT] The wh question accuracy of the language model is 0.694\n"
     ]
    },
    {
     "data": {
      "text/html": [
       "<div>\n",
       "<style scoped>\n",
       "    .dataframe tbody tr th:only-of-type {\n",
       "        vertical-align: middle;\n",
       "    }\n",
       "\n",
       "    .dataframe tbody tr th {\n",
       "        vertical-align: top;\n",
       "    }\n",
       "\n",
       "    .dataframe thead th {\n",
       "        text-align: right;\n",
       "    }\n",
       "</style>\n",
       "<table border=\"1\" class=\"dataframe\">\n",
       "  <thead>\n",
       "    <tr style=\"text-align: right;\">\n",
       "      <th></th>\n",
       "      <th>type</th>\n",
       "      <th>subject</th>\n",
       "      <th>relation</th>\n",
       "      <th>object</th>\n",
       "      <th>question</th>\n",
       "      <th>label</th>\n",
       "      <th>output_meta-llama/Meta-Llama-3-8B-Instruct</th>\n",
       "      <th>eval_meta-llama/Meta-Llama-3-8B-Instruct</th>\n",
       "    </tr>\n",
       "  </thead>\n",
       "  <tbody>\n",
       "    <tr>\n",
       "      <th>1000</th>\n",
       "      <td>wh</td>\n",
       "      <td>Ontario</td>\n",
       "      <td>located in the administrative territorial entity</td>\n",
       "      <td>Niagara Falls</td>\n",
       "      <td>Which tourist attraction's located in the admi...</td>\n",
       "      <td>Niagara Falls</td>\n",
       "      <td>Niagara Falls</td>\n",
       "      <td>1.0</td>\n",
       "    </tr>\n",
       "    <tr>\n",
       "      <th>1001</th>\n",
       "      <td>wh</td>\n",
       "      <td>Alexandrov Kremlin</td>\n",
       "      <td>country</td>\n",
       "      <td>Russia</td>\n",
       "      <td>What is the country of Alexandrov Kremlin?</td>\n",
       "      <td>Russia</td>\n",
       "      <td>Russia</td>\n",
       "      <td>1.0</td>\n",
       "    </tr>\n",
       "    <tr>\n",
       "      <th>1002</th>\n",
       "      <td>wh</td>\n",
       "      <td>Alexandrov Kremlin</td>\n",
       "      <td>located in the administrative territorial entity</td>\n",
       "      <td>Alexandrov</td>\n",
       "      <td>Who is the located in the administrative terri...</td>\n",
       "      <td>Alexandrov</td>\n",
       "      <td>Alexandrov</td>\n",
       "      <td>1.0</td>\n",
       "    </tr>\n",
       "    <tr>\n",
       "      <th>1003</th>\n",
       "      <td>wh</td>\n",
       "      <td>Bukit Panjang</td>\n",
       "      <td>located in the administrative territorial entity</td>\n",
       "      <td>Bukit Timah Nature Reserve</td>\n",
       "      <td>Which tourist attraction's located in the admi...</td>\n",
       "      <td>Bukit Timah Nature Reserve</td>\n",
       "      <td>Haw Par Villa</td>\n",
       "      <td>0.0</td>\n",
       "    </tr>\n",
       "    <tr>\n",
       "      <th>1004</th>\n",
       "      <td>wh</td>\n",
       "      <td>Kastelholm Castle</td>\n",
       "      <td>country</td>\n",
       "      <td>Finland</td>\n",
       "      <td>What is the country of Kastelholm Castle?</td>\n",
       "      <td>Finland</td>\n",
       "      <td>Finland</td>\n",
       "      <td>1.0</td>\n",
       "    </tr>\n",
       "    <tr>\n",
       "      <th>...</th>\n",
       "      <td>...</td>\n",
       "      <td>...</td>\n",
       "      <td>...</td>\n",
       "      <td>...</td>\n",
       "      <td>...</td>\n",
       "      <td>...</td>\n",
       "      <td>...</td>\n",
       "      <td>...</td>\n",
       "    </tr>\n",
       "    <tr>\n",
       "      <th>1495</th>\n",
       "      <td>wh</td>\n",
       "      <td>Thornton Tomasetti</td>\n",
       "      <td>structural engineer</td>\n",
       "      <td>Petronas Towers</td>\n",
       "      <td>Which tourist attraction's structural engineer...</td>\n",
       "      <td>Petronas Towers</td>\n",
       "      <td>One World Trade</td>\n",
       "      <td>0.0</td>\n",
       "    </tr>\n",
       "    <tr>\n",
       "      <th>1496</th>\n",
       "      <td>wh</td>\n",
       "      <td>Charles II of England</td>\n",
       "      <td>occupant</td>\n",
       "      <td>Windsor Castle</td>\n",
       "      <td>Which tourist attraction's occupant is Charles...</td>\n",
       "      <td>Windsor Castle</td>\n",
       "      <td>Westminster Abbey</td>\n",
       "      <td>0.0</td>\n",
       "    </tr>\n",
       "    <tr>\n",
       "      <th>1497</th>\n",
       "      <td>wh</td>\n",
       "      <td>Charles II of England</td>\n",
       "      <td>founded by</td>\n",
       "      <td>Royal Observatory</td>\n",
       "      <td>Which tourist attraction was founded by Charle...</td>\n",
       "      <td>Royal Observatory</td>\n",
       "      <td>St. Paul's</td>\n",
       "      <td>0.0</td>\n",
       "    </tr>\n",
       "    <tr>\n",
       "      <th>1498</th>\n",
       "      <td>wh</td>\n",
       "      <td>Gateway Arch</td>\n",
       "      <td>located in protected area</td>\n",
       "      <td>Gateway Arch National Park</td>\n",
       "      <td>What is the located in protected area of Gatew...</td>\n",
       "      <td>Gateway Arch National Park</td>\n",
       "      <td>Jefferson National Park</td>\n",
       "      <td>1.0</td>\n",
       "    </tr>\n",
       "    <tr>\n",
       "      <th>1499</th>\n",
       "      <td>wh</td>\n",
       "      <td>Gateway Arch</td>\n",
       "      <td>heritage designation</td>\n",
       "      <td>National Historic Landmark</td>\n",
       "      <td>What is the heritage designation of Gateway Arch?</td>\n",
       "      <td>National Historic Landmark</td>\n",
       "      <td>National</td>\n",
       "      <td>1.0</td>\n",
       "    </tr>\n",
       "  </tbody>\n",
       "</table>\n",
       "<p>500 rows × 8 columns</p>\n",
       "</div>"
      ],
      "text/plain": [
       "     type                subject  \\\n",
       "1000   wh                Ontario   \n",
       "1001   wh     Alexandrov Kremlin   \n",
       "1002   wh     Alexandrov Kremlin   \n",
       "1003   wh          Bukit Panjang   \n",
       "1004   wh      Kastelholm Castle   \n",
       "...   ...                    ...   \n",
       "1495   wh     Thornton Tomasetti   \n",
       "1496   wh  Charles II of England   \n",
       "1497   wh  Charles II of England   \n",
       "1498   wh           Gateway Arch   \n",
       "1499   wh           Gateway Arch   \n",
       "\n",
       "                                              relation  \\\n",
       "1000  located in the administrative territorial entity   \n",
       "1001                                           country   \n",
       "1002  located in the administrative territorial entity   \n",
       "1003  located in the administrative territorial entity   \n",
       "1004                                           country   \n",
       "...                                                ...   \n",
       "1495                               structural engineer   \n",
       "1496                                          occupant   \n",
       "1497                                        founded by   \n",
       "1498                         located in protected area   \n",
       "1499                              heritage designation   \n",
       "\n",
       "                          object  \\\n",
       "1000               Niagara Falls   \n",
       "1001                      Russia   \n",
       "1002                  Alexandrov   \n",
       "1003  Bukit Timah Nature Reserve   \n",
       "1004                     Finland   \n",
       "...                          ...   \n",
       "1495             Petronas Towers   \n",
       "1496              Windsor Castle   \n",
       "1497           Royal Observatory   \n",
       "1498  Gateway Arch National Park   \n",
       "1499  National Historic Landmark   \n",
       "\n",
       "                                               question  \\\n",
       "1000  Which tourist attraction's located in the admi...   \n",
       "1001         What is the country of Alexandrov Kremlin?   \n",
       "1002  Who is the located in the administrative terri...   \n",
       "1003  Which tourist attraction's located in the admi...   \n",
       "1004          What is the country of Kastelholm Castle?   \n",
       "...                                                 ...   \n",
       "1495  Which tourist attraction's structural engineer...   \n",
       "1496  Which tourist attraction's occupant is Charles...   \n",
       "1497  Which tourist attraction was founded by Charle...   \n",
       "1498  What is the located in protected area of Gatew...   \n",
       "1499  What is the heritage designation of Gateway Arch?   \n",
       "\n",
       "                           label output_meta-llama/Meta-Llama-3-8B-Instruct  \\\n",
       "1000               Niagara Falls                              Niagara Falls   \n",
       "1001                      Russia                                     Russia   \n",
       "1002                  Alexandrov                                 Alexandrov   \n",
       "1003  Bukit Timah Nature Reserve                              Haw Par Villa   \n",
       "1004                     Finland                                    Finland   \n",
       "...                          ...                                        ...   \n",
       "1495             Petronas Towers                            One World Trade   \n",
       "1496              Windsor Castle                          Westminster Abbey   \n",
       "1497           Royal Observatory                                 St. Paul's   \n",
       "1498  Gateway Arch National Park                    Jefferson National Park   \n",
       "1499  National Historic Landmark                                   National   \n",
       "\n",
       "      eval_meta-llama/Meta-Llama-3-8B-Instruct  \n",
       "1000                                       1.0  \n",
       "1001                                       1.0  \n",
       "1002                                       1.0  \n",
       "1003                                       0.0  \n",
       "1004                                       1.0  \n",
       "...                                        ...  \n",
       "1495                                       0.0  \n",
       "1496                                       0.0  \n",
       "1497                                       0.0  \n",
       "1498                                       1.0  \n",
       "1499                                       1.0  \n",
       "\n",
       "[500 rows x 8 columns]"
      ]
     },
     "execution_count": 18,
     "metadata": {},
     "output_type": "execute_result"
    }
   ],
   "source": [
    "llm_name = 'gpt-35-turbo'\n",
    "\n",
    "wh_count = 0\n",
    "wh_correct = 0\n",
    "for i in df_wh.index[:]:\n",
    "    question, label = df_wh.loc[i, 'question'], df_wh.loc[i, 'label']\n",
    "    output = df_wh.loc[i, f\"output_{model_id}\"]\n",
    "    \n",
    "    info = \"Question: \"+question+ \"\\nModel Answer: \"+label + \"\\nAI model generated answer: \" + output \\\n",
    "        + \"\\n. The above question's topic is \" + domain_topic_name  + \". \"\n",
    "    string = \"\"\"\\n Please evaluate the correctness of the AI model's answer compared to the model answer. \n",
    "        Consider the following criteria and provide your judgment:\n",
    "        If the AI's answer is a more specific version of the model answer, please respond with: \"Correct\"\n",
    "        If the AI's answer is a more general version of the model answer, please respond with: \"Correct\".\n",
    "        If the AI's answer is a closely related to the model answer, please respond with: \"Correct\".\n",
    "        If the AI's answer and the model answer are entirely different entities with no direct relationship, please respond with: \"Incorrect\".\n",
    "        \"\"\"\n",
    "\n",
    "    wh_count += 1\n",
    "    raw_response = client.chat.completions.create(\n",
    "        model=llm_name, \n",
    "        messages=[{\"role\": \"system\", \"content\": \"\"}, {\"role\": \"user\", \"content\": info + string}], \n",
    "        temperature=0\n",
    "    )\n",
    "    response_str = raw_response.choices[0].message.content.strip().replace('\\n\\n\\n', '\\n\\n')\n",
    "    # response_str\n",
    "\n",
    "    if response_str and response_str.rstrip('.') == \"Correct\":\n",
    "        wh_correct += 1\n",
    "        df_wh.loc[i, f\"eval_{model_id}\"] = 1\n",
    "    else:\n",
    "        df_wh.loc[i, f\"eval_{model_id}\"] = 0\n",
    "print(f\"[GPT] The wh question accuracy of the language model is {wh_correct / wh_count}\")\n",
    "df_wh"
   ]
  },
  {
   "cell_type": "code",
   "execution_count": 19,
   "metadata": {},
   "outputs": [
    {
     "name": "stdout",
     "output_type": "stream",
     "text": [
      "[GPT] The wh question accuracy of the language model is 0.252\n"
     ]
    },
    {
     "data": {
      "text/html": [
       "<div>\n",
       "<style scoped>\n",
       "    .dataframe tbody tr th:only-of-type {\n",
       "        vertical-align: middle;\n",
       "    }\n",
       "\n",
       "    .dataframe tbody tr th {\n",
       "        vertical-align: top;\n",
       "    }\n",
       "\n",
       "    .dataframe thead th {\n",
       "        text-align: right;\n",
       "    }\n",
       "</style>\n",
       "<table border=\"1\" class=\"dataframe\">\n",
       "  <thead>\n",
       "    <tr style=\"text-align: right;\">\n",
       "      <th></th>\n",
       "      <th>type</th>\n",
       "      <th>subject</th>\n",
       "      <th>relation</th>\n",
       "      <th>object</th>\n",
       "      <th>question</th>\n",
       "      <th>label</th>\n",
       "      <th>output_meta-llama/Meta-Llama-3-8B-Instruct</th>\n",
       "      <th>eval_meta-llama/Meta-Llama-3-8B-Instruct</th>\n",
       "    </tr>\n",
       "  </thead>\n",
       "  <tbody>\n",
       "    <tr>\n",
       "      <th>1000</th>\n",
       "      <td>wh</td>\n",
       "      <td>Ontario</td>\n",
       "      <td>located in the administrative territorial entity</td>\n",
       "      <td>Niagara Falls</td>\n",
       "      <td>Which tourist attraction's located in the admi...</td>\n",
       "      <td>Niagara Falls</td>\n",
       "      <td>Niagara Falls</td>\n",
       "      <td>1.0</td>\n",
       "    </tr>\n",
       "    <tr>\n",
       "      <th>1001</th>\n",
       "      <td>wh</td>\n",
       "      <td>Alexandrov Kremlin</td>\n",
       "      <td>country</td>\n",
       "      <td>Russia</td>\n",
       "      <td>What is the country of Alexandrov Kremlin?</td>\n",
       "      <td>Russia</td>\n",
       "      <td>Russia</td>\n",
       "      <td>1.0</td>\n",
       "    </tr>\n",
       "    <tr>\n",
       "      <th>1002</th>\n",
       "      <td>wh</td>\n",
       "      <td>Alexandrov Kremlin</td>\n",
       "      <td>located in the administrative territorial entity</td>\n",
       "      <td>Alexandrov</td>\n",
       "      <td>Who is the located in the administrative terri...</td>\n",
       "      <td>Alexandrov</td>\n",
       "      <td>Alexandrov</td>\n",
       "      <td>1.0</td>\n",
       "    </tr>\n",
       "    <tr>\n",
       "      <th>1003</th>\n",
       "      <td>wh</td>\n",
       "      <td>Bukit Panjang</td>\n",
       "      <td>located in the administrative territorial entity</td>\n",
       "      <td>Bukit Timah Nature Reserve</td>\n",
       "      <td>Which tourist attraction's located in the admi...</td>\n",
       "      <td>Bukit Timah Nature Reserve</td>\n",
       "      <td>Haw Par Villa</td>\n",
       "      <td>0.0</td>\n",
       "    </tr>\n",
       "    <tr>\n",
       "      <th>1004</th>\n",
       "      <td>wh</td>\n",
       "      <td>Kastelholm Castle</td>\n",
       "      <td>country</td>\n",
       "      <td>Finland</td>\n",
       "      <td>What is the country of Kastelholm Castle?</td>\n",
       "      <td>Finland</td>\n",
       "      <td>Finland</td>\n",
       "      <td>1.0</td>\n",
       "    </tr>\n",
       "    <tr>\n",
       "      <th>...</th>\n",
       "      <td>...</td>\n",
       "      <td>...</td>\n",
       "      <td>...</td>\n",
       "      <td>...</td>\n",
       "      <td>...</td>\n",
       "      <td>...</td>\n",
       "      <td>...</td>\n",
       "      <td>...</td>\n",
       "    </tr>\n",
       "    <tr>\n",
       "      <th>1495</th>\n",
       "      <td>wh</td>\n",
       "      <td>Thornton Tomasetti</td>\n",
       "      <td>structural engineer</td>\n",
       "      <td>Petronas Towers</td>\n",
       "      <td>Which tourist attraction's structural engineer...</td>\n",
       "      <td>Petronas Towers</td>\n",
       "      <td>One World Trade</td>\n",
       "      <td>0.0</td>\n",
       "    </tr>\n",
       "    <tr>\n",
       "      <th>1496</th>\n",
       "      <td>wh</td>\n",
       "      <td>Charles II of England</td>\n",
       "      <td>occupant</td>\n",
       "      <td>Windsor Castle</td>\n",
       "      <td>Which tourist attraction's occupant is Charles...</td>\n",
       "      <td>Windsor Castle</td>\n",
       "      <td>Westminster Abbey</td>\n",
       "      <td>0.0</td>\n",
       "    </tr>\n",
       "    <tr>\n",
       "      <th>1497</th>\n",
       "      <td>wh</td>\n",
       "      <td>Charles II of England</td>\n",
       "      <td>founded by</td>\n",
       "      <td>Royal Observatory</td>\n",
       "      <td>Which tourist attraction was founded by Charle...</td>\n",
       "      <td>Royal Observatory</td>\n",
       "      <td>St. Paul's</td>\n",
       "      <td>0.0</td>\n",
       "    </tr>\n",
       "    <tr>\n",
       "      <th>1498</th>\n",
       "      <td>wh</td>\n",
       "      <td>Gateway Arch</td>\n",
       "      <td>located in protected area</td>\n",
       "      <td>Gateway Arch National Park</td>\n",
       "      <td>What is the located in protected area of Gatew...</td>\n",
       "      <td>Gateway Arch National Park</td>\n",
       "      <td>Jefferson National Park</td>\n",
       "      <td>0.0</td>\n",
       "    </tr>\n",
       "    <tr>\n",
       "      <th>1499</th>\n",
       "      <td>wh</td>\n",
       "      <td>Gateway Arch</td>\n",
       "      <td>heritage designation</td>\n",
       "      <td>National Historic Landmark</td>\n",
       "      <td>What is the heritage designation of Gateway Arch?</td>\n",
       "      <td>National Historic Landmark</td>\n",
       "      <td>National</td>\n",
       "      <td>0.0</td>\n",
       "    </tr>\n",
       "  </tbody>\n",
       "</table>\n",
       "<p>500 rows × 8 columns</p>\n",
       "</div>"
      ],
      "text/plain": [
       "     type                subject  \\\n",
       "1000   wh                Ontario   \n",
       "1001   wh     Alexandrov Kremlin   \n",
       "1002   wh     Alexandrov Kremlin   \n",
       "1003   wh          Bukit Panjang   \n",
       "1004   wh      Kastelholm Castle   \n",
       "...   ...                    ...   \n",
       "1495   wh     Thornton Tomasetti   \n",
       "1496   wh  Charles II of England   \n",
       "1497   wh  Charles II of England   \n",
       "1498   wh           Gateway Arch   \n",
       "1499   wh           Gateway Arch   \n",
       "\n",
       "                                              relation  \\\n",
       "1000  located in the administrative territorial entity   \n",
       "1001                                           country   \n",
       "1002  located in the administrative territorial entity   \n",
       "1003  located in the administrative territorial entity   \n",
       "1004                                           country   \n",
       "...                                                ...   \n",
       "1495                               structural engineer   \n",
       "1496                                          occupant   \n",
       "1497                                        founded by   \n",
       "1498                         located in protected area   \n",
       "1499                              heritage designation   \n",
       "\n",
       "                          object  \\\n",
       "1000               Niagara Falls   \n",
       "1001                      Russia   \n",
       "1002                  Alexandrov   \n",
       "1003  Bukit Timah Nature Reserve   \n",
       "1004                     Finland   \n",
       "...                          ...   \n",
       "1495             Petronas Towers   \n",
       "1496              Windsor Castle   \n",
       "1497           Royal Observatory   \n",
       "1498  Gateway Arch National Park   \n",
       "1499  National Historic Landmark   \n",
       "\n",
       "                                               question  \\\n",
       "1000  Which tourist attraction's located in the admi...   \n",
       "1001         What is the country of Alexandrov Kremlin?   \n",
       "1002  Who is the located in the administrative terri...   \n",
       "1003  Which tourist attraction's located in the admi...   \n",
       "1004          What is the country of Kastelholm Castle?   \n",
       "...                                                 ...   \n",
       "1495  Which tourist attraction's structural engineer...   \n",
       "1496  Which tourist attraction's occupant is Charles...   \n",
       "1497  Which tourist attraction was founded by Charle...   \n",
       "1498  What is the located in protected area of Gatew...   \n",
       "1499  What is the heritage designation of Gateway Arch?   \n",
       "\n",
       "                           label output_meta-llama/Meta-Llama-3-8B-Instruct  \\\n",
       "1000               Niagara Falls                              Niagara Falls   \n",
       "1001                      Russia                                     Russia   \n",
       "1002                  Alexandrov                                 Alexandrov   \n",
       "1003  Bukit Timah Nature Reserve                              Haw Par Villa   \n",
       "1004                     Finland                                    Finland   \n",
       "...                          ...                                        ...   \n",
       "1495             Petronas Towers                            One World Trade   \n",
       "1496              Windsor Castle                          Westminster Abbey   \n",
       "1497           Royal Observatory                                 St. Paul's   \n",
       "1498  Gateway Arch National Park                    Jefferson National Park   \n",
       "1499  National Historic Landmark                                   National   \n",
       "\n",
       "      eval_meta-llama/Meta-Llama-3-8B-Instruct  \n",
       "1000                                       1.0  \n",
       "1001                                       1.0  \n",
       "1002                                       1.0  \n",
       "1003                                       0.0  \n",
       "1004                                       1.0  \n",
       "...                                        ...  \n",
       "1495                                       0.0  \n",
       "1496                                       0.0  \n",
       "1497                                       0.0  \n",
       "1498                                       0.0  \n",
       "1499                                       0.0  \n",
       "\n",
       "[500 rows x 8 columns]"
      ]
     },
     "execution_count": 19,
     "metadata": {},
     "output_type": "execute_result"
    }
   ],
   "source": [
    "llm_name = 'gpt-35-turbo'\n",
    "topic = 'health_medication'\n",
    "\n",
    "system_msg_eval = \"Given two texts, labeled as Text 1 and Text 2, output '1' if they match each other semantically, and output '0' if they do not.\"\n",
    "\n",
    "wh_count = 0\n",
    "wh_correct = 0\n",
    "for i in df_wh.index[:]:\n",
    "    question, label = df_wh.loc[i, 'question'], df_wh.loc[i, 'label']\n",
    "    output = df_wh.loc[i, f\"output_{model_id}\"]\n",
    "    \n",
    "    # info = \"Question: \"+question+ \"\\nModel Answer: \"+label + \"\\nAI model generated answer: \" + output \\\n",
    "    #     + \"\\n. The above question's topic is \" + topic  + \". \"\n",
    "    prompt_eval = f\"\"\"The input texts are given as below: \\nText 1: {label} \\n\\nText 2: {output}\\n\"\"\"\n",
    "    \n",
    "    wh_count += 1\n",
    "    raw_response = client.chat.completions.create(\n",
    "        model=llm_name, \n",
    "        messages=[{\"role\": \"system\", \"content\": system_msg_eval}, {\"role\": \"user\", \"content\": prompt_eval}], \n",
    "        temperature=0\n",
    "    )\n",
    "    response_str = raw_response.choices[0].message.content.strip().replace('\\n\\n\\n', '\\n\\n')\n",
    "\n",
    "    if str(response_str) == '1':\n",
    "        wh_correct += 1\n",
    "        df_wh.loc[i, f\"eval_{model_id}\"] = 1\n",
    "    else:\n",
    "        df_wh.loc[i, f\"eval_{model_id}\"] = 0\n",
    "print(f\"[GPT] The wh question accuracy of the language model is {wh_correct / wh_count}\")\n",
    "df_wh"
   ]
  },
  {
   "cell_type": "code",
   "execution_count": 21,
   "metadata": {},
   "outputs": [
    {
     "data": {
      "text/html": [
       "<div>\n",
       "<style scoped>\n",
       "    .dataframe tbody tr th:only-of-type {\n",
       "        vertical-align: middle;\n",
       "    }\n",
       "\n",
       "    .dataframe tbody tr th {\n",
       "        vertical-align: top;\n",
       "    }\n",
       "\n",
       "    .dataframe thead th {\n",
       "        text-align: right;\n",
       "    }\n",
       "</style>\n",
       "<table border=\"1\" class=\"dataframe\">\n",
       "  <thead>\n",
       "    <tr style=\"text-align: right;\">\n",
       "      <th></th>\n",
       "      <th>type</th>\n",
       "      <th>subject</th>\n",
       "      <th>relation</th>\n",
       "      <th>object</th>\n",
       "      <th>question</th>\n",
       "      <th>label</th>\n",
       "      <th>output_meta-llama/Meta-Llama-3-8B-Instruct</th>\n",
       "      <th>eval_meta-llama/Meta-Llama-3-8B-Instruct</th>\n",
       "    </tr>\n",
       "  </thead>\n",
       "  <tbody>\n",
       "    <tr>\n",
       "      <th>1000</th>\n",
       "      <td>wh</td>\n",
       "      <td>Ontario</td>\n",
       "      <td>located in the administrative territorial entity</td>\n",
       "      <td>Niagara Falls</td>\n",
       "      <td>Which tourist attraction's located in the admi...</td>\n",
       "      <td>Niagara Falls</td>\n",
       "      <td>Niagara Falls</td>\n",
       "      <td>1.0</td>\n",
       "    </tr>\n",
       "    <tr>\n",
       "      <th>1001</th>\n",
       "      <td>wh</td>\n",
       "      <td>Alexandrov Kremlin</td>\n",
       "      <td>country</td>\n",
       "      <td>Russia</td>\n",
       "      <td>What is the country of Alexandrov Kremlin?</td>\n",
       "      <td>Russia</td>\n",
       "      <td>Russia</td>\n",
       "      <td>1.0</td>\n",
       "    </tr>\n",
       "    <tr>\n",
       "      <th>1002</th>\n",
       "      <td>wh</td>\n",
       "      <td>Alexandrov Kremlin</td>\n",
       "      <td>located in the administrative territorial entity</td>\n",
       "      <td>Alexandrov</td>\n",
       "      <td>Who is the located in the administrative terri...</td>\n",
       "      <td>Alexandrov</td>\n",
       "      <td>Alexandrov</td>\n",
       "      <td>1.0</td>\n",
       "    </tr>\n",
       "    <tr>\n",
       "      <th>1004</th>\n",
       "      <td>wh</td>\n",
       "      <td>Kastelholm Castle</td>\n",
       "      <td>country</td>\n",
       "      <td>Finland</td>\n",
       "      <td>What is the country of Kastelholm Castle?</td>\n",
       "      <td>Finland</td>\n",
       "      <td>Finland</td>\n",
       "      <td>1.0</td>\n",
       "    </tr>\n",
       "    <tr>\n",
       "      <th>1012</th>\n",
       "      <td>wh</td>\n",
       "      <td>John Rylands Library</td>\n",
       "      <td>country</td>\n",
       "      <td>United Kingdom</td>\n",
       "      <td>What is the country of John Rylands Library?</td>\n",
       "      <td>United Kingdom</td>\n",
       "      <td>United Kingdom</td>\n",
       "      <td>1.0</td>\n",
       "    </tr>\n",
       "    <tr>\n",
       "      <th>...</th>\n",
       "      <td>...</td>\n",
       "      <td>...</td>\n",
       "      <td>...</td>\n",
       "      <td>...</td>\n",
       "      <td>...</td>\n",
       "      <td>...</td>\n",
       "      <td>...</td>\n",
       "      <td>...</td>\n",
       "    </tr>\n",
       "    <tr>\n",
       "      <th>1474</th>\n",
       "      <td>wh</td>\n",
       "      <td>Jōshin'etsu-kōgen National Park</td>\n",
       "      <td>located in protected area</td>\n",
       "      <td>Shiga Highlands</td>\n",
       "      <td>Which tourist attraction's located in protecte...</td>\n",
       "      <td>Shiga Highlands</td>\n",
       "      <td>Shiga Kogen</td>\n",
       "      <td>1.0</td>\n",
       "    </tr>\n",
       "    <tr>\n",
       "      <th>1475</th>\n",
       "      <td>wh</td>\n",
       "      <td>Mount Kilimanjaro</td>\n",
       "      <td>country</td>\n",
       "      <td>Tanzania</td>\n",
       "      <td>What is the country of Mount Kilimanjaro?</td>\n",
       "      <td>Tanzania</td>\n",
       "      <td>Tanzania</td>\n",
       "      <td>1.0</td>\n",
       "    </tr>\n",
       "    <tr>\n",
       "      <th>1484</th>\n",
       "      <td>wh</td>\n",
       "      <td>Night Safari</td>\n",
       "      <td>country</td>\n",
       "      <td>Singapore</td>\n",
       "      <td>What is the country of Night Safari?</td>\n",
       "      <td>Singapore</td>\n",
       "      <td>Singapore</td>\n",
       "      <td>1.0</td>\n",
       "    </tr>\n",
       "    <tr>\n",
       "      <th>1489</th>\n",
       "      <td>wh</td>\n",
       "      <td>St Paul's Cathedral</td>\n",
       "      <td>architect</td>\n",
       "      <td>Christopher Wren</td>\n",
       "      <td>Who does St Paul's Cathedral architect?</td>\n",
       "      <td>Christopher Wren</td>\n",
       "      <td>Christopher Wren</td>\n",
       "      <td>1.0</td>\n",
       "    </tr>\n",
       "    <tr>\n",
       "      <th>1491</th>\n",
       "      <td>wh</td>\n",
       "      <td>St Paul's Cathedral</td>\n",
       "      <td>country</td>\n",
       "      <td>United Kingdom</td>\n",
       "      <td>What is the country of St Paul's Cathedral?</td>\n",
       "      <td>United Kingdom</td>\n",
       "      <td>United Kingdom</td>\n",
       "      <td>1.0</td>\n",
       "    </tr>\n",
       "  </tbody>\n",
       "</table>\n",
       "<p>139 rows × 8 columns</p>\n",
       "</div>"
      ],
      "text/plain": [
       "     type                          subject  \\\n",
       "1000   wh                          Ontario   \n",
       "1001   wh               Alexandrov Kremlin   \n",
       "1002   wh               Alexandrov Kremlin   \n",
       "1004   wh                Kastelholm Castle   \n",
       "1012   wh             John Rylands Library   \n",
       "...   ...                              ...   \n",
       "1474   wh  Jōshin'etsu-kōgen National Park   \n",
       "1475   wh                Mount Kilimanjaro   \n",
       "1484   wh                     Night Safari   \n",
       "1489   wh              St Paul's Cathedral   \n",
       "1491   wh              St Paul's Cathedral   \n",
       "\n",
       "                                              relation            object  \\\n",
       "1000  located in the administrative territorial entity     Niagara Falls   \n",
       "1001                                           country            Russia   \n",
       "1002  located in the administrative territorial entity        Alexandrov   \n",
       "1004                                           country           Finland   \n",
       "1012                                           country    United Kingdom   \n",
       "...                                                ...               ...   \n",
       "1474                         located in protected area   Shiga Highlands   \n",
       "1475                                           country          Tanzania   \n",
       "1484                                           country         Singapore   \n",
       "1489                                         architect  Christopher Wren   \n",
       "1491                                           country    United Kingdom   \n",
       "\n",
       "                                               question             label  \\\n",
       "1000  Which tourist attraction's located in the admi...     Niagara Falls   \n",
       "1001         What is the country of Alexandrov Kremlin?            Russia   \n",
       "1002  Who is the located in the administrative terri...        Alexandrov   \n",
       "1004          What is the country of Kastelholm Castle?           Finland   \n",
       "1012       What is the country of John Rylands Library?    United Kingdom   \n",
       "...                                                 ...               ...   \n",
       "1474  Which tourist attraction's located in protecte...   Shiga Highlands   \n",
       "1475          What is the country of Mount Kilimanjaro?          Tanzania   \n",
       "1484               What is the country of Night Safari?         Singapore   \n",
       "1489            Who does St Paul's Cathedral architect?  Christopher Wren   \n",
       "1491        What is the country of St Paul's Cathedral?    United Kingdom   \n",
       "\n",
       "     output_meta-llama/Meta-Llama-3-8B-Instruct  \\\n",
       "1000                              Niagara Falls   \n",
       "1001                                     Russia   \n",
       "1002                                 Alexandrov   \n",
       "1004                                    Finland   \n",
       "1012                             United Kingdom   \n",
       "...                                         ...   \n",
       "1474                                Shiga Kogen   \n",
       "1475                                   Tanzania   \n",
       "1484                                  Singapore   \n",
       "1489                           Christopher Wren   \n",
       "1491                             United Kingdom   \n",
       "\n",
       "      eval_meta-llama/Meta-Llama-3-8B-Instruct  \n",
       "1000                                       1.0  \n",
       "1001                                       1.0  \n",
       "1002                                       1.0  \n",
       "1004                                       1.0  \n",
       "1012                                       1.0  \n",
       "...                                        ...  \n",
       "1474                                       1.0  \n",
       "1475                                       1.0  \n",
       "1484                                       1.0  \n",
       "1489                                       1.0  \n",
       "1491                                       1.0  \n",
       "\n",
       "[139 rows x 8 columns]"
      ]
     },
     "execution_count": 21,
     "metadata": {},
     "output_type": "execute_result"
    }
   ],
   "source": [
    "df_wh[df_wh[f\"eval_{model_id}\"]==1]"
   ]
  },
  {
   "cell_type": "code",
   "execution_count": 20,
   "metadata": {},
   "outputs": [
    {
     "name": "stdout",
     "output_type": "stream",
     "text": [
      "[GPT] The wh question accuracy of the language model is 0.278\n"
     ]
    },
    {
     "data": {
      "text/html": [
       "<div>\n",
       "<style scoped>\n",
       "    .dataframe tbody tr th:only-of-type {\n",
       "        vertical-align: middle;\n",
       "    }\n",
       "\n",
       "    .dataframe tbody tr th {\n",
       "        vertical-align: top;\n",
       "    }\n",
       "\n",
       "    .dataframe thead th {\n",
       "        text-align: right;\n",
       "    }\n",
       "</style>\n",
       "<table border=\"1\" class=\"dataframe\">\n",
       "  <thead>\n",
       "    <tr style=\"text-align: right;\">\n",
       "      <th></th>\n",
       "      <th>type</th>\n",
       "      <th>subject</th>\n",
       "      <th>relation</th>\n",
       "      <th>object</th>\n",
       "      <th>question</th>\n",
       "      <th>label</th>\n",
       "      <th>output_meta-llama/Meta-Llama-3-8B-Instruct</th>\n",
       "      <th>eval_meta-llama/Meta-Llama-3-8B-Instruct</th>\n",
       "    </tr>\n",
       "  </thead>\n",
       "  <tbody>\n",
       "    <tr>\n",
       "      <th>1000</th>\n",
       "      <td>wh</td>\n",
       "      <td>Ontario</td>\n",
       "      <td>located in the administrative territorial entity</td>\n",
       "      <td>Niagara Falls</td>\n",
       "      <td>Which tourist attraction's located in the admi...</td>\n",
       "      <td>Niagara Falls</td>\n",
       "      <td>Niagara Falls</td>\n",
       "      <td>1.0</td>\n",
       "    </tr>\n",
       "    <tr>\n",
       "      <th>1001</th>\n",
       "      <td>wh</td>\n",
       "      <td>Alexandrov Kremlin</td>\n",
       "      <td>country</td>\n",
       "      <td>Russia</td>\n",
       "      <td>What is the country of Alexandrov Kremlin?</td>\n",
       "      <td>Russia</td>\n",
       "      <td>Russia</td>\n",
       "      <td>1.0</td>\n",
       "    </tr>\n",
       "    <tr>\n",
       "      <th>1002</th>\n",
       "      <td>wh</td>\n",
       "      <td>Alexandrov Kremlin</td>\n",
       "      <td>located in the administrative territorial entity</td>\n",
       "      <td>Alexandrov</td>\n",
       "      <td>Who is the located in the administrative terri...</td>\n",
       "      <td>Alexandrov</td>\n",
       "      <td>Alexandrov</td>\n",
       "      <td>1.0</td>\n",
       "    </tr>\n",
       "    <tr>\n",
       "      <th>1003</th>\n",
       "      <td>wh</td>\n",
       "      <td>Bukit Panjang</td>\n",
       "      <td>located in the administrative territorial entity</td>\n",
       "      <td>Bukit Timah Nature Reserve</td>\n",
       "      <td>Which tourist attraction's located in the admi...</td>\n",
       "      <td>Bukit Timah Nature Reserve</td>\n",
       "      <td>Haw Par Villa</td>\n",
       "      <td>0.0</td>\n",
       "    </tr>\n",
       "    <tr>\n",
       "      <th>1004</th>\n",
       "      <td>wh</td>\n",
       "      <td>Kastelholm Castle</td>\n",
       "      <td>country</td>\n",
       "      <td>Finland</td>\n",
       "      <td>What is the country of Kastelholm Castle?</td>\n",
       "      <td>Finland</td>\n",
       "      <td>Finland</td>\n",
       "      <td>1.0</td>\n",
       "    </tr>\n",
       "    <tr>\n",
       "      <th>...</th>\n",
       "      <td>...</td>\n",
       "      <td>...</td>\n",
       "      <td>...</td>\n",
       "      <td>...</td>\n",
       "      <td>...</td>\n",
       "      <td>...</td>\n",
       "      <td>...</td>\n",
       "      <td>...</td>\n",
       "    </tr>\n",
       "    <tr>\n",
       "      <th>1495</th>\n",
       "      <td>wh</td>\n",
       "      <td>Thornton Tomasetti</td>\n",
       "      <td>structural engineer</td>\n",
       "      <td>Petronas Towers</td>\n",
       "      <td>Which tourist attraction's structural engineer...</td>\n",
       "      <td>Petronas Towers</td>\n",
       "      <td>One World Trade</td>\n",
       "      <td>0.0</td>\n",
       "    </tr>\n",
       "    <tr>\n",
       "      <th>1496</th>\n",
       "      <td>wh</td>\n",
       "      <td>Charles II of England</td>\n",
       "      <td>occupant</td>\n",
       "      <td>Windsor Castle</td>\n",
       "      <td>Which tourist attraction's occupant is Charles...</td>\n",
       "      <td>Windsor Castle</td>\n",
       "      <td>Westminster Abbey</td>\n",
       "      <td>0.0</td>\n",
       "    </tr>\n",
       "    <tr>\n",
       "      <th>1497</th>\n",
       "      <td>wh</td>\n",
       "      <td>Charles II of England</td>\n",
       "      <td>founded by</td>\n",
       "      <td>Royal Observatory</td>\n",
       "      <td>Which tourist attraction was founded by Charle...</td>\n",
       "      <td>Royal Observatory</td>\n",
       "      <td>St. Paul's</td>\n",
       "      <td>0.0</td>\n",
       "    </tr>\n",
       "    <tr>\n",
       "      <th>1498</th>\n",
       "      <td>wh</td>\n",
       "      <td>Gateway Arch</td>\n",
       "      <td>located in protected area</td>\n",
       "      <td>Gateway Arch National Park</td>\n",
       "      <td>What is the located in protected area of Gatew...</td>\n",
       "      <td>Gateway Arch National Park</td>\n",
       "      <td>Jefferson National Park</td>\n",
       "      <td>0.0</td>\n",
       "    </tr>\n",
       "    <tr>\n",
       "      <th>1499</th>\n",
       "      <td>wh</td>\n",
       "      <td>Gateway Arch</td>\n",
       "      <td>heritage designation</td>\n",
       "      <td>National Historic Landmark</td>\n",
       "      <td>What is the heritage designation of Gateway Arch?</td>\n",
       "      <td>National Historic Landmark</td>\n",
       "      <td>National</td>\n",
       "      <td>0.0</td>\n",
       "    </tr>\n",
       "  </tbody>\n",
       "</table>\n",
       "<p>500 rows × 8 columns</p>\n",
       "</div>"
      ],
      "text/plain": [
       "     type                subject  \\\n",
       "1000   wh                Ontario   \n",
       "1001   wh     Alexandrov Kremlin   \n",
       "1002   wh     Alexandrov Kremlin   \n",
       "1003   wh          Bukit Panjang   \n",
       "1004   wh      Kastelholm Castle   \n",
       "...   ...                    ...   \n",
       "1495   wh     Thornton Tomasetti   \n",
       "1496   wh  Charles II of England   \n",
       "1497   wh  Charles II of England   \n",
       "1498   wh           Gateway Arch   \n",
       "1499   wh           Gateway Arch   \n",
       "\n",
       "                                              relation  \\\n",
       "1000  located in the administrative territorial entity   \n",
       "1001                                           country   \n",
       "1002  located in the administrative territorial entity   \n",
       "1003  located in the administrative territorial entity   \n",
       "1004                                           country   \n",
       "...                                                ...   \n",
       "1495                               structural engineer   \n",
       "1496                                          occupant   \n",
       "1497                                        founded by   \n",
       "1498                         located in protected area   \n",
       "1499                              heritage designation   \n",
       "\n",
       "                          object  \\\n",
       "1000               Niagara Falls   \n",
       "1001                      Russia   \n",
       "1002                  Alexandrov   \n",
       "1003  Bukit Timah Nature Reserve   \n",
       "1004                     Finland   \n",
       "...                          ...   \n",
       "1495             Petronas Towers   \n",
       "1496              Windsor Castle   \n",
       "1497           Royal Observatory   \n",
       "1498  Gateway Arch National Park   \n",
       "1499  National Historic Landmark   \n",
       "\n",
       "                                               question  \\\n",
       "1000  Which tourist attraction's located in the admi...   \n",
       "1001         What is the country of Alexandrov Kremlin?   \n",
       "1002  Who is the located in the administrative terri...   \n",
       "1003  Which tourist attraction's located in the admi...   \n",
       "1004          What is the country of Kastelholm Castle?   \n",
       "...                                                 ...   \n",
       "1495  Which tourist attraction's structural engineer...   \n",
       "1496  Which tourist attraction's occupant is Charles...   \n",
       "1497  Which tourist attraction was founded by Charle...   \n",
       "1498  What is the located in protected area of Gatew...   \n",
       "1499  What is the heritage designation of Gateway Arch?   \n",
       "\n",
       "                           label output_meta-llama/Meta-Llama-3-8B-Instruct  \\\n",
       "1000               Niagara Falls                              Niagara Falls   \n",
       "1001                      Russia                                     Russia   \n",
       "1002                  Alexandrov                                 Alexandrov   \n",
       "1003  Bukit Timah Nature Reserve                              Haw Par Villa   \n",
       "1004                     Finland                                    Finland   \n",
       "...                          ...                                        ...   \n",
       "1495             Petronas Towers                            One World Trade   \n",
       "1496              Windsor Castle                          Westminster Abbey   \n",
       "1497           Royal Observatory                                 St. Paul's   \n",
       "1498  Gateway Arch National Park                    Jefferson National Park   \n",
       "1499  National Historic Landmark                                   National   \n",
       "\n",
       "      eval_meta-llama/Meta-Llama-3-8B-Instruct  \n",
       "1000                                       1.0  \n",
       "1001                                       1.0  \n",
       "1002                                       1.0  \n",
       "1003                                       0.0  \n",
       "1004                                       1.0  \n",
       "...                                        ...  \n",
       "1495                                       0.0  \n",
       "1496                                       0.0  \n",
       "1497                                       0.0  \n",
       "1498                                       0.0  \n",
       "1499                                       0.0  \n",
       "\n",
       "[500 rows x 8 columns]"
      ]
     },
     "execution_count": 20,
     "metadata": {},
     "output_type": "execute_result"
    }
   ],
   "source": [
    "system_msg_eval = \"\"\"Given a question, a correct answer, and a prediction, evaluate whether the prediction is semantically equivalent to the correct answer. \\\n",
    "Output '1' if they are semantically equivalent, otherwise output '0'.\"\"\"\n",
    "\n",
    "wh_count = 0\n",
    "wh_correct = 0\n",
    "for i in df_wh.index[:]:\n",
    "    question, label = df_wh.loc[i, 'question'], df_wh.loc[i, 'label']\n",
    "    output = df_wh.loc[i, f\"output_{model_id}\"]\n",
    "    \n",
    "        # + \"\\n. The above question's topic is \" + topic  + \". \"\n",
    "    prompt_eval = f\"\"\"The inputs are given as below: \\nquestion: {question} \\n\\ncorrect answer: {label} \\n\\nprediction: {output}\\n\"\"\"\n",
    "    \n",
    "    wh_count += 1\n",
    "    raw_response = client.chat.completions.create(\n",
    "        model=llm_name, \n",
    "        messages=[{\"role\": \"system\", \"content\": system_msg_eval}, {\"role\": \"user\", \"content\": prompt_eval}], \n",
    "        temperature=0\n",
    "    )\n",
    "    response_str = raw_response.choices[0].message.content.strip().replace('\\n\\n\\n', '\\n\\n')\n",
    "\n",
    "    if str(response_str) == '1':\n",
    "        wh_correct += 1\n",
    "        df_wh.loc[i, f\"eval_{model_id}\"] = 1\n",
    "    else:\n",
    "        df_wh.loc[i, f\"eval_{model_id}\"] = 0\n",
    "print(f\"[GPT] The wh question accuracy of the language model is {wh_correct / wh_count}\")\n",
    "df_wh"
   ]
  },
  {
   "cell_type": "markdown",
   "metadata": {},
   "source": [
    "### Topic-specific cleaning"
   ]
  },
  {
   "cell_type": "code",
   "execution_count": 3,
   "metadata": {},
   "outputs": [
    {
     "name": "stdout",
     "output_type": "stream",
     "text": [
      "art_sculpture.csv Shape before sampling: (243, 7) art_sculpture.csv already exists\n",
      "business_brand.csv Shape before sampling: (371, 7) business_brand.csv already exists\n",
      "business_corporation.csv Shape before sampling: (106, 7) business_corporation.csv already exists\n",
      "business_industry.csv Shape before sampling: (138, 7) business_industry.csv already exists\n",
      "entertainment_anime.csv Shape before sampling: (184, 7) entertainment_anime.csv already exists\n",
      "entertainment_music_genre.csv Shape before sampling: (158, 7) entertainment_music_genre.csv already exists\n",
      "entertainment_song.csv Shape before sampling: (1579, 7) entertainment_song.csv already exists\n",
      "event_film.csv Shape before sampling: (49, 7) event_film.csv already exists\n",
      "event_history.csv Shape before sampling: (93, 7) event_history.csv already exists\n",
      "event_sport.csv Shape before sampling: (35, 7) event_sport.csv already exists\n",
      "geography_forest.csv Shape before sampling: (168, 7) geography_forest.csv already exists\n",
      "geography_glacier.csv Shape before sampling: (58, 7) geography_glacier.csv already exists\n",
      "geography_volcano.csv Shape before sampling: (258, 7) geography_volcano.csv already exists\n",
      "health_disease.csv Shape before sampling: (295, 7) health_disease.csv already exists\n",
      "health_medication.csv Shape before sampling: (34, 7) health_medication.csv already exists\n",
      "health_symptom.csv Shape before sampling: (34, 7) health_symptom.csv already exists\n",
      "human_athlete.csv Shape before sampling: (632, 7) human_athlete.csv already exists\n",
      "human_entrepreneur.csv Shape before sampling: (725, 7) human_entrepreneur.csv already exists\n",
      "human_scientist.csv Shape before sampling: (493, 7) human_scientist.csv already exists\n",
      "human_writer.csv Shape before sampling: (1182, 7) human_writer.csv already exists\n",
      "places_city.csv Shape before sampling: (3137, 7) places_city.csv already exists\n",
      "places_country.csv Shape before sampling: (759, 7) places_country.csv already exists\n",
      "places_landmark.csv Shape before sampling: (985, 7) places_landmark.csv already exists\n",
      "technology_database.csv Shape before sampling: (87, 7) technology_database.csv already exists\n",
      "technology_programming_language.csv Shape before sampling: (181, 7) technology_programming_language.csv already exists\n",
      "technology_software.csv Shape before sampling: (391, 7) technology_software.csv already exists\n"
     ]
    }
   ],
   "source": [
    "folder_hallu_100 = f\"../data/questions/hallucination/{model_id_format}_100\"\n",
    "\n",
    "# for filename in ['business_brand.csv']:\n",
    "for filename in sorted(os.listdir(folder_hallu)):\n",
    "    df_q = pd.read_csv(f\"{folder_hallu}/{filename}\")\n",
    "    print(f'{filename} Shape before sampling: {df_q.shape}', end=\" \")\n",
    "    # if not os.path.exists(folder_hallu_100):\n",
    "    #     os.makedirs(folder_hallu_100)\n",
    "    if os.path.exists(f\"{folder_hallu_100}/{filename}\"):\n",
    "        print(f\"{filename} already exists\")\n",
    "        continue\n",
    "        # df_q100 = pd.read_csv(f\"{folder_hallu_100}/{filename}\")\n",
    "        # if 'paraphrased_question' in df_q100.columns:\n",
    "        #     continue\n",
    "    if len(df_q) > 100:\n",
    "        df_q.sample(100, random_state=28).to_csv(f\"{folder_hallu_100}/{filename}\", index=False)\n",
    "        # print(100)\n",
    "    else:\n",
    "        df_q.to_csv(f\"{folder_hallu_100}/{filename}\", index=False)\n",
    "    print(f\"Saving to {folder_hallu_100}/{filename}\")"
   ]
  },
  {
   "cell_type": "code",
   "execution_count": 174,
   "metadata": {},
   "outputs": [
    {
     "name": "stdout",
     "output_type": "stream",
     "text": [
      "1274 rows removed Saving to ../data/questions/hallucination/mistral_7b_instruct_v0.3_100/places_city.csv\n",
      "202 rows removed Saving to ../data/questions/hallucination/mistral_7b_instruct_v0.3_100/places_country.csv\n",
      "81 rows removed Saving to ../data/questions/hallucination/mistral_7b_instruct_v0.3_100/places_landmark.csv\n",
      "186 rows removed Saving to ../data/questions/hallucination/mistral_7b_instruct_v0.3_100/human_writer.csv\n",
      "78 rows removed Saving to ../data/questions/hallucination/mistral_7b_instruct_v0.3_100/human_athlete.csv\n",
      "115 rows removed Saving to ../data/questions/hallucination/mistral_7b_instruct_v0.3_100/human_scientist.csv\n",
      "111 rows removed Saving to ../data/questions/hallucination/mistral_7b_instruct_v0.3_100/human_entrepreneur.csv\n",
      "34 rows removed Saving to ../data/questions/hallucination/mistral_7b_instruct_v0.3_100/technology_software.csv\n",
      "3 rows removed Saving to ../data/questions/hallucination/mistral_7b_instruct_v0.3_100/business_brand.csv\n",
      "3 rows removed 2 rows removed 5 rows removed "
     ]
    }
   ],
   "source": [
    "def clean_relation(domain_topic_name, relation_ls):\n",
    "    df = pd.read_csv(f\"{folder_hallu}/{domain_topic_name}.csv\")\n",
    "    df_q100 = pd.read_csv(f\"{folder_hallu_100}/{domain_topic_name}.csv\")\n",
    "    if 'paraphrased_question' in df_q100.columns:\n",
    "        print(f'Full set of questions exists for {domain_topic_name}')\n",
    "        return\n",
    "    df_new = df[~df['relation'].isin(relation_ls)]\n",
    "    print(f\"{len(df) - len(df_new)} rows removed\", end=\" \")\n",
    "    # df_new.to_csv(f\"{folder_hallu}/{domain_topic_name}.csv\", index=False)\n",
    "\n",
    "    if len(df_new) > 100:\n",
    "        df_new = df_new.sample(100, random_state=28)\n",
    "        df_new.to_csv(f\"{folder_hallu_100}/{domain_topic_name}.csv\", index=False)\n",
    "        print(f\"Saving to {folder_hallu_100}/{domain_topic_name}.csv\")\n",
    "\n",
    "clean_relation('event_sport', relation_ls=['sponsor', 'has part(s)'])\n",
    "clean_relation('event_film', relation_ls=['sponsor', 'has part(s)'])\n",
    "clean_relation('event_history', relation_ls=['sponsor', 'has part(s)'])\n",
    "\n",
    "relation_ls = ['described by source', 'student', 'child', 'doctoral student', 'educated at', 'given name'] \n",
    "clean_relation('human_writer', relation_ls=relation_ls)\n",
    "clean_relation('human_athlete', relation_ls=relation_ls)\n",
    "clean_relation('human_scientist', relation_ls=relation_ls)\n",
    "clean_relation('human_entrepreneur', relation_ls=relation_ls)\n",
    "\n",
    "relation_ls = ['twinned administrative body', 'flag', 'history of topic', 'executive body', 'studied in', 'public holiday', 'economy of topic', \n",
    "               'geography of topic', 'described by source', 'demographics of topic', 'has part(s)', 'follows', 'diplomatic relation', 'culture',\n",
    "               'present in work']\n",
    "clean_relation('places_city', relation_ls=relation_ls)\n",
    "clean_relation('places_country', relation_ls=relation_ls)\n",
    "clean_relation('places_landmark', relation_ls=relation_ls)\n",
    "\n",
    "clean_relation('technology_software', relation_ls=['platform'])\n",
    "clean_relation('business_brand', relation_ls=['CPU', 'participant'])\n"
   ]
  },
  {
   "cell_type": "markdown",
   "metadata": {},
   "source": [
    "### Generate other types of questions"
   ]
  },
  {
   "cell_type": "code",
   "execution_count": 194,
   "metadata": {},
   "outputs": [
    {
     "name": "stdout",
     "output_type": "stream",
     "text": [
      "100 human_scientist\n"
     ]
    },
    {
     "data": {
      "text/plain": [
       "Index(['topic', 'subject', 'relation', 'object', 'label', 'question',\n",
       "       'output_mistral_7b_instruct_v0.3', 'eval_mistral_7b_instruct_v0.3'],\n",
       "      dtype='object')"
      ]
     },
     "execution_count": 194,
     "metadata": {},
     "output_type": "execute_result"
    }
   ],
   "source": [
    "domain_topic_name = ['places_country', 'business_brand', 'human_scientist'][2]\n",
    "client = AzureOpenAI(api_key=load_api_key('api_key_n_central_us'), api_version='2023-05-15', azure_endpoint=\"https://n-central-us.openai.azure.com/\")\n",
    "df_hallu = pd.read_csv(f\"{folder_hallu_100}/{domain_topic_name}.csv\")\n",
    "df_hallu = df_hallu[df_hallu.topic==domain_topic_name]\n",
    "print(len(df_hallu), domain_topic_name)\n",
    "\n",
    "def get_gpt_response(client, system_msg, prompt, model='gpt-4o'):\n",
    "    raw_response = client.chat.completions.create(\n",
    "        model=model,\n",
    "        messages=[{\"role\": \"system\", \"content\": system_msg}, {\"role\": \"user\", \"content\": prompt}], \n",
    "        response_format={\"type\": \"json_object\"},\n",
    "        temperature=0\n",
    "    )\n",
    "    return raw_response\n",
    "\n",
    "df_hallu.columns"
   ]
  },
  {
   "cell_type": "code",
   "execution_count": 195,
   "metadata": {},
   "outputs": [
    {
     "name": "stdout",
     "output_type": "stream",
     "text": [
      "Data may contain already generated questions df_t.shape: (200, 28)\n"
     ]
    },
    {
     "name": "stderr",
     "output_type": "stream",
     "text": [
      "09/13/2024 23:59:05 - INFO - httpx -   HTTP Request: POST https://n-central-us.openai.azure.com//openai/deployments/gpt-4o/chat/completions?api-version=2023-05-15 \"HTTP/1.1 200 OK\"\n"
     ]
    },
    {
     "name": "stdout",
     "output_type": "stream",
     "text": [
      "{'paraphrased_question': 'What gender is Berthold Vogl?', 'multiple_choices': ['male', 'Not specified in the provided information', 'female', 'non-binary'], 'yes_question': 'Is the sex or gender of Berthold Vogl male?', 'no_question': 'Is the sex or gender of Berthold Vogl not specified in the provided information?', 'locality_question': 'What is a notable achievement of Berthold Vogl?', 'reversed_relation_question': 'Who is male in this context?'}\n"
     ]
    },
    {
     "name": "stderr",
     "output_type": "stream",
     "text": [
      "09/13/2024 23:59:07 - INFO - httpx -   HTTP Request: POST https://n-central-us.openai.azure.com//openai/deployments/gpt-4o/chat/completions?api-version=2023-05-15 \"HTTP/1.1 200 OK\"\n"
     ]
    },
    {
     "name": "stdout",
     "output_type": "stream",
     "text": [
      "{'paraphrased_question': 'What gender is Benjamin Constant?', 'multiple_choices': ['male', 'Not applicable (Benjamin Constant was a historical figure, not a living person)', 'female', 'non-binary'], 'yes_question': 'Is the sex or gender of Benjamin Constant male?', 'no_question': 'Is the sex or gender of Benjamin Constant not applicable (Benjamin Constant was a historical figure, not a living person)?', 'locality_question': 'What is Benjamin Constant known for?', 'reversed_relation_question': 'Who is male in relation to sex or gender?'}\n"
     ]
    },
    {
     "name": "stderr",
     "output_type": "stream",
     "text": [
      "09/13/2024 23:59:09 - INFO - httpx -   HTTP Request: POST https://n-central-us.openai.azure.com//openai/deployments/gpt-4o/chat/completions?api-version=2023-05-15 \"HTTP/1.1 200 OK\"\n"
     ]
    },
    {
     "name": "stdout",
     "output_type": "stream",
     "text": [
      "{'paraphrased_question': 'What gender does Boris Vladimirtsov identify as?', 'multiple_choices': ['male', 'Not specified in the provided information', 'female', 'non-binary'], 'yes_question': 'Is the sex or gender of Boris Vladimirtsov male?', 'no_question': 'Is the sex or gender of Boris Vladimirtsov not specified in the provided information?', 'locality_question': 'What is a notable achievement of Boris Vladimirtsov?', 'reversed_relation_question': 'Who is male in this context?'}\n",
      "{'topic': {161: 'human_scientist'}, 'subject': {161: 'Boris Petrovich Komrakow'}, 'relation': {161: 'place of birth'}, 'object': {161: 'Ivano-Frankivsk'}, 'question': {161: 'What is the place of birth of Boris Petrovich Komrakow?'}, 'output_meta_llama_3.1_8b_instruct': {161: nan}, 'eval_meta_llama_3.1_8b_instruct': {161: nan}, 'multiple_choices': {161: \"['Ivano-Frankivsk', 'Russia', 'Kyiv', 'Minsk']\"}, 'paraphrased_question': {161: 'Where was Boris Petrovich Komrakow born?'}, 'multiple_choice_with_letters': {161: 'A. Russia  B. Kyiv  C. Ivano-Frankivsk  D. Minsk'}, 'multiple_choice_labels': {161: 'C'}, 'yes_question': {161: \"Is Boris Petrovich Komrakow's place of birth Ivano-Frankivsk?\"}, 'no_question': {161: \"Is Boris Petrovich Komrakow's place of birth Russia?\"}, 'locality_question': {161: 'What is a notable achievement or profession of Boris Petrovich Komrakow?'}, 'reversed_relation_question': {161: 'Who was born in Ivano-Frankivsk?'}, 'question_2hop': {161: 'What is the capital city of the country where Boris Petrovich Komrakow was born?'}, 'answer_2hop': {161: 'Moscow'}, 'question_3hop': {161: 'Which river flows through the capital city of the country where Boris Petrovich Komrakow was born?'}, 'answer_3hop': {161: 'Moskva River'}, 'question_4hop': {161: 'What is the length of the river that flows through the capital city of the country where Boris Petrovich Komrakow was born?'}, 'answer_4hop': {161: '502 km'}, 'question_5hop': {161: 'Which sea does the river that flows through the capital city of the country where Boris Petrovich Komrakow was born ultimately drain into?'}, 'answer_5hop': {161: 'Caspian Sea'}, 'question_6hop': {161: 'Which country borders the sea that the river flowing through the capital city of the country where Boris Petrovich Komrakow was born drains into?'}, 'answer_6hop': {161: 'Kazakhstan'}, 'label': {161: 'Ivano-Frankivsk'}, 'output_mistral_7b_instruct_v0.3': {161: 'Russia'}, 'eval_mistral_7b_instruct_v0.3': {161: 0.0}}\n"
     ]
    },
    {
     "name": "stderr",
     "output_type": "stream",
     "text": [
      "09/13/2024 23:59:11 - INFO - httpx -   HTTP Request: POST https://n-central-us.openai.azure.com//openai/deployments/gpt-4o/chat/completions?api-version=2023-05-15 \"HTTP/1.1 200 OK\"\n"
     ]
    },
    {
     "name": "stdout",
     "output_type": "stream",
     "text": [
      "{'paraphrased_question': 'What medical condition did Leonhard Euler suffer from?', 'multiple_choices': ['blindness', 'Deceased (died 1783)', 'deafness', 'paralysis'], 'yes_question': \"Is Leonhard Euler's medical condition blindness?\", 'no_question': \"Is Leonhard Euler's medical condition Deceased (died 1783)?\", 'locality_question': 'What is Leonhard Euler well-known for in the field of mathematics?', 'reversed_relation_question': 'Who suffered from blindness?'}\n"
     ]
    },
    {
     "name": "stderr",
     "output_type": "stream",
     "text": [
      "09/13/2024 23:59:13 - INFO - httpx -   HTTP Request: POST https://n-central-us.openai.azure.com//openai/deployments/gpt-4o/chat/completions?api-version=2023-05-15 \"HTTP/1.1 200 OK\"\n"
     ]
    },
    {
     "name": "stdout",
     "output_type": "stream",
     "text": [
      "{'paraphrased_question': 'Which political party is Hugh H. Young a member of?', 'multiple_choices': ['Democratic Party', 'Republican', 'Libertarian Party', 'Green Party'], 'yes_question': 'Is Hugh H. Young a member of the Democratic Party?', 'no_question': 'Is Hugh H. Young a member of the Republican Party?', 'locality_question': 'What profession is Hugh H. Young known for?', 'reversed_relation_question': 'Who is a member of the Democratic Party?'}\n",
      "{'topic': {89: 'human_scientist'}, 'subject': {89: 'Anna Heer'}, 'relation': {89: 'partner in business or sport'}, 'object': {89: 'Marie Heim-Vögtlin'}, 'question': {89: 'Who is the partner in business or sport of Anna Heer?'}, 'output_meta_llama_3.1_8b_instruct': {89: 'Simon Ammann'}, 'eval_meta_llama_3.1_8b_instruct': {89: 0.0}, 'multiple_choices': {89: \"['Marie Heim-Vögtlin', 'Simon Ammann', 'Albert Einstein', 'Emilie Kempin-Spyri']\"}, 'paraphrased_question': {89: 'Who collaborates with Anna Heer in business or sport?'}, 'multiple_choice_with_letters': {89: 'A. Marie Heim-Vögtlin  B. Albert Einstein  C. Simon Ammann  D. Emilie Kempin-Spyri'}, 'multiple_choice_labels': {89: 'A'}, 'yes_question': {89: 'Is Marie Heim-Vögtlin the partner in business or sport of Anna Heer?'}, 'no_question': {89: 'Is Simon Ammann the partner in business or sport of Anna Heer?'}, 'locality_question': {89: 'What is Anna Heer known for besides her partnership in business or sport?'}, 'reversed_relation_question': {89: 'Who is the business or sport partner of Marie Heim-Vögtlin?'}, 'question_2hop': {89: 'Who was the business partner of Anna Heer?'}, 'answer_2hop': {89: 'Marie Heim-Vögtlin'}, 'question_3hop': {89: 'What profession did the business partner of Anna Heer practice?'}, 'answer_3hop': {89: 'Physician'}, 'question_4hop': {89: 'Which university did the business partner of Anna Heer attend?'}, 'answer_4hop': {89: 'University of Zurich'}, 'question_5hop': {89: 'In which city is the university located that the business partner of Anna Heer attended?'}, 'answer_5hop': {89: 'Zurich'}, 'question_6hop': {89: 'In which country is the city located where the university that the business partner of Anna Heer attended is situated?'}, 'answer_6hop': {89: 'Switzerland'}, 'label': {89: nan}, 'output_mistral_7b_instruct_v0.3': {89: nan}, 'eval_mistral_7b_instruct_v0.3': {89: nan}}\n"
     ]
    },
    {
     "name": "stderr",
     "output_type": "stream",
     "text": [
      "09/13/2024 23:59:16 - INFO - httpx -   HTTP Request: POST https://n-central-us.openai.azure.com//openai/deployments/gpt-4o/chat/completions?api-version=2023-05-15 \"HTTP/1.1 200 OK\"\n"
     ]
    },
    {
     "name": "stdout",
     "output_type": "stream",
     "text": [
      "{'paraphrased_question': 'Where was Francesco Redi born?', 'multiple_choices': ['Arezzo', 'Florence', 'Rome', 'Milan'], 'yes_question': 'Is Arezzo the place of birth of Francesco Redi?', 'no_question': 'Is Florence the place of birth of Francesco Redi?', 'locality_question': 'What was Francesco Redi known for in the field of science?', 'reversed_relation_question': 'Who was born in Arezzo?'}\n",
      "{'topic': {20: 'human_scientist'}, 'subject': {20: 'Leonardo da Vinci'}, 'relation': {20: 'country of citizenship'}, 'object': {20: 'Republic of Florence'}, 'question': {20: 'What is the country of citizenship of Leonardo da Vinci?'}, 'output_meta_llama_3.1_8b_instruct': {20: 'Italy'}, 'eval_meta_llama_3.1_8b_instruct': {20: 0.0}, 'multiple_choices': {20: \"['Republic of Florence', 'Italy', 'France', 'Spain']\"}, 'paraphrased_question': {20: 'Which country was Leonardo da Vinci a citizen of?'}, 'multiple_choice_with_letters': {20: 'A. Spain  B. Republic of Florence  C. France  D. Italy'}, 'multiple_choice_labels': {20: 'B'}, 'yes_question': {20: 'Is the Republic of Florence the country of citizenship of Leonardo da Vinci?'}, 'no_question': {20: 'Is Italy the country of citizenship of Leonardo da Vinci?'}, 'locality_question': {20: 'What is Leonardo da Vinci well-known for besides his citizenship?'}, 'reversed_relation_question': {20: 'Who is a famous citizen of the Republic of Florence?'}, 'question_2hop': {20: 'Who was the ruler of the country of citizenship of Leonardo da Vinci during his lifetime?'}, 'answer_2hop': {20: 'Ludovico Sforza'}, 'question_3hop': {20: 'What was the title held by the ruler of the country of citizenship of Leonardo da Vinci during his lifetime?'}, 'answer_3hop': {20: 'Duke of Milan'}, 'question_4hop': {20: 'Which famous castle is associated with the Duke of Milan, the ruler of the country of citizenship of Leonardo da Vinci?'}, 'answer_4hop': {20: 'Sforza Castle'}, 'question_5hop': {20: 'In which city is the Sforza Castle, associated with the Duke of Milan, located?'}, 'answer_5hop': {20: 'Milan'}, 'question_6hop': {20: 'In which region of Italy is the city located that contains the Sforza Castle, associated with the Duke of Milan?'}, 'answer_6hop': {20: 'Lombardy'}, 'label': {20: nan}, 'output_mistral_7b_instruct_v0.3': {20: nan}, 'eval_mistral_7b_instruct_v0.3': {20: nan}}\n"
     ]
    },
    {
     "name": "stderr",
     "output_type": "stream",
     "text": [
      "09/13/2024 23:59:18 - INFO - httpx -   HTTP Request: POST https://n-central-us.openai.azure.com//openai/deployments/gpt-4o/chat/completions?api-version=2023-05-15 \"HTTP/1.1 200 OK\"\n"
     ]
    },
    {
     "name": "stdout",
     "output_type": "stream",
     "text": [
      "{'paraphrased_question': \"Who supervised Charles K. Kao's doctoral studies?\", 'multiple_choices': ['Harold Barlow', 'Ellis Silvio', 'John Smith', 'Michael Brown'], 'yes_question': 'Is Harold Barlow the doctoral advisor of Charles K. Kao?', 'no_question': 'Is Ellis Silvio the doctoral advisor of Charles K. Kao?', 'locality_question': 'What is Charles K. Kao known for in the field of science?', 'reversed_relation_question': 'Who was advised by Harold Barlow for their doctoral studies?'}\n",
      "{'topic': {15: 'human_scientist'}, 'subject': {15: 'Gregory Goodwin Pincus'}, 'relation': {15: 'place of birth'}, 'object': {15: 'Woodbine'}, 'question': {15: 'What is the place of birth of Gregory Goodwin Pincus?'}, 'output_meta_llama_3.1_8b_instruct': {15: 'Winchester'}, 'eval_meta_llama_3.1_8b_instruct': {15: 0.0}, 'multiple_choices': {15: \"['Woodbine', 'Winchester', 'New York', 'Boston']\"}, 'paraphrased_question': {15: 'Where was Gregory Goodwin Pincus born?'}, 'multiple_choice_with_letters': {15: 'A. Woodbine  B. Winchester  C. Boston  D. New York'}, 'multiple_choice_labels': {15: 'A'}, 'yes_question': {15: \"Is Gregory Goodwin Pincus's place of birth Woodbine?\"}, 'no_question': {15: \"Is Gregory Goodwin Pincus's place of birth Winchester?\"}, 'locality_question': {15: 'What is Gregory Goodwin Pincus known for?'}, 'reversed_relation_question': {15: 'Who was born in Woodbine?'}, 'question_2hop': {15: 'What is the capital city of the state where Gregory Goodwin Pincus was born?'}, 'answer_2hop': {15: 'Albany'}, 'question_3hop': {15: 'Which river flows through the capital city of the state where Gregory Goodwin Pincus was born?'}, 'answer_3hop': {15: 'Hudson River'}, 'question_4hop': {15: 'What is the length of the river that flows through the capital city of the state where Gregory Goodwin Pincus was born?'}, 'answer_4hop': {15: '315 miles'}, 'question_5hop': {15: 'Which ocean does the river that flows through the capital city of the state where Gregory Goodwin Pincus was born empty into?'}, 'answer_5hop': {15: 'Atlantic Ocean'}, 'question_6hop': {15: 'Which continent is home to the ocean that the river flows into, which passes through the capital city of the state where Gregory Goodwin Pincus was born?'}, 'answer_6hop': {15: 'North America'}, 'label': {15: nan}, 'output_mistral_7b_instruct_v0.3': {15: nan}, 'eval_mistral_7b_instruct_v0.3': {15: nan}}\n"
     ]
    },
    {
     "name": "stderr",
     "output_type": "stream",
     "text": [
      "09/13/2024 23:59:19 - INFO - httpx -   HTTP Request: POST https://n-central-us.openai.azure.com//openai/deployments/gpt-4o/chat/completions?api-version=2023-05-15 \"HTTP/1.1 200 OK\"\n"
     ]
    },
    {
     "name": "stdout",
     "output_type": "stream",
     "text": [
      "{'paraphrased_question': 'Where did Étienne-Jules Marey pass away?', 'multiple_choices': ['Paris', 'Algiers', 'Marseille', 'Lyon'], 'yes_question': 'Did Étienne-Jules Marey die in Paris?', 'no_question': 'Did Étienne-Jules Marey die in Algiers?', 'locality_question': 'What is Étienne-Jules Marey known for in the field of science?', 'reversed_relation_question': 'Who died in Paris?'}\n",
      "{'topic': {170: 'human_scientist'}, 'subject': {170: 'Lawrence Summers'}, 'relation': {170: 'spouse'}, 'object': {170: 'Elisa New'}, 'question': {170: 'Who is the spouse of Lawrence Summers?'}, 'output_meta_llama_3.1_8b_instruct': {170: nan}, 'eval_meta_llama_3.1_8b_instruct': {170: nan}, 'multiple_choices': {170: \"['Elisa New', 'Elaine Chao', 'Janet Yellen', 'Hillary Clinton']\"}, 'paraphrased_question': {170: 'Who is married to Lawrence Summers?'}, 'multiple_choice_with_letters': {170: 'A. Elaine Chao  B. Janet Yellen  C. Elisa New  D. Hillary Clinton'}, 'multiple_choice_labels': {170: 'C'}, 'yes_question': {170: 'Is Elisa New the spouse of Lawrence Summers?'}, 'no_question': {170: 'Is Elaine Chao the spouse of Lawrence Summers?'}, 'locality_question': {170: 'What is a notable position held by Lawrence Summers?'}, 'reversed_relation_question': {170: 'Who is the spouse of Elisa New?'}, 'question_2hop': {170: 'Who is the sibling of the spouse of Lawrence Summers?'}, 'answer_2hop': {170: 'John R. Tyson'}, 'question_3hop': {170: 'What company is the sibling of the spouse of Lawrence Summers associated with?'}, 'answer_3hop': {170: 'Tyson Foods'}, 'question_4hop': {170: 'In which year was the company associated with the sibling of the spouse of Lawrence Summers founded?'}, 'answer_4hop': {170: '1935'}, 'question_5hop': {170: 'Who founded the company that was established in 1935 and is associated with the sibling of the spouse of Lawrence Summers?'}, 'answer_5hop': {170: 'John W. Tyson'}, 'question_6hop': {170: 'In which state was the founder of the company associated with the sibling of the spouse of Lawrence Summers born?'}, 'answer_6hop': {170: 'Arkansas'}, 'label': {170: 'Elisa New'}, 'output_mistral_7b_instruct_v0.3': {170: 'Elaine Chao'}, 'eval_mistral_7b_instruct_v0.3': {170: 0.0}}\n"
     ]
    },
    {
     "name": "stderr",
     "output_type": "stream",
     "text": [
      "09/13/2024 23:59:20 - INFO - httpx -   HTTP Request: POST https://n-central-us.openai.azure.com//openai/deployments/gpt-4o/chat/completions?api-version=2023-05-15 \"HTTP/1.1 200 OK\"\n"
     ]
    },
    {
     "name": "stdout",
     "output_type": "stream",
     "text": [
      "{'paraphrased_question': 'Where did Karl Friedrich Wilhelm Peters pass away?', 'multiple_choices': ['Königsberg', 'Tahiti', 'Berlin', 'Vienna'], 'yes_question': 'Did Karl Friedrich Wilhelm Peters die in Königsberg?', 'no_question': 'Did Karl Friedrich Wilhelm Peters die in Tahiti?', 'locality_question': 'What was Karl Friedrich Wilhelm Peters known for?', 'reversed_relation_question': 'Who died in Königsberg?'}\n"
     ]
    },
    {
     "name": "stderr",
     "output_type": "stream",
     "text": [
      "09/13/2024 23:59:22 - INFO - httpx -   HTTP Request: POST https://n-central-us.openai.azure.com//openai/deployments/gpt-4o/chat/completions?api-version=2023-05-15 \"HTTP/1.1 200 OK\"\n"
     ]
    },
    {
     "name": "stdout",
     "output_type": "stream",
     "text": [
      "{'paraphrased_question': 'In which industry did Sergei Izotov work?', 'multiple_choices': ['aircraft industry', 'Physics', 'automotive industry', 'chemical engineering'], 'yes_question': 'Is the field of work of Sergei Izotov the aircraft industry?', 'no_question': 'Is the field of work of Sergei Izotov Physics?', 'locality_question': 'What is a notable achievement or contribution of Sergei Izotov?', 'reversed_relation_question': 'Who worked in the aircraft industry?'}\n"
     ]
    },
    {
     "name": "stderr",
     "output_type": "stream",
     "text": [
      "09/13/2024 23:59:24 - INFO - httpx -   HTTP Request: POST https://n-central-us.openai.azure.com//openai/deployments/gpt-4o/chat/completions?api-version=2023-05-15 \"HTTP/1.1 200 OK\"\n"
     ]
    },
    {
     "name": "stdout",
     "output_type": "stream",
     "text": [
      "{'paraphrased_question': 'In which conflict did Semyon Lavochkin participate?', 'multiple_choices': ['Eastern Front', \"Lavochkin's conflict (in the context of space history) refers to\", 'Western Front', 'Pacific Theater'], 'yes_question': 'Did Semyon Lavochkin participate in the Eastern Front?', 'no_question': \"Did Semyon Lavochkin participate in Lavochkin's conflict (in the context of space history) refers to?\", 'locality_question': 'What is Semyon Lavochkin known for in the field of aviation?', 'reversed_relation_question': 'Who participated in the Eastern Front?'}\n"
     ]
    },
    {
     "name": "stderr",
     "output_type": "stream",
     "text": [
      "09/13/2024 23:59:25 - INFO - httpx -   HTTP Request: POST https://n-central-us.openai.azure.com//openai/deployments/gpt-4o/chat/completions?api-version=2023-05-15 \"HTTP/1.1 200 OK\"\n"
     ]
    },
    {
     "name": "stdout",
     "output_type": "stream",
     "text": [
      "{'paraphrased_question': 'Who employs Robert Winston?', 'multiple_choices': ['Imperial College London', 'BBC (British Broadcasting Corporation)', 'University of Oxford', 'Harvard University'], 'yes_question': 'Is Robert Winston employed by Imperial College London?', 'no_question': 'Is Robert Winston employed by BBC (British Broadcasting Corporation)?', 'locality_question': 'What is Robert Winston known for in the field of science?', 'reversed_relation_question': 'Who is employed by Imperial College London?'}\n"
     ]
    },
    {
     "name": "stderr",
     "output_type": "stream",
     "text": [
      "09/13/2024 23:59:27 - INFO - httpx -   HTTP Request: POST https://n-central-us.openai.azure.com//openai/deployments/gpt-4o/chat/completions?api-version=2023-05-15 \"HTTP/1.1 200 OK\"\n"
     ]
    },
    {
     "name": "stdout",
     "output_type": "stream",
     "text": [
      "{'paraphrased_question': 'What gender is Hans Jenny?', 'multiple_choices': ['male', 'Not specified (or known)', 'female', 'non-binary'], 'yes_question': 'Is the sex or gender of Hans Jenny male?', 'no_question': 'Is the sex or gender of Hans Jenny Not specified (or known)?', 'locality_question': 'What is Hans Jenny known for?', 'reversed_relation_question': 'Who is male?'}\n"
     ]
    },
    {
     "name": "stderr",
     "output_type": "stream",
     "text": [
      "09/13/2024 23:59:28 - INFO - httpx -   HTTP Request: POST https://n-central-us.openai.azure.com//openai/deployments/gpt-4o/chat/completions?api-version=2023-05-15 \"HTTP/1.1 200 OK\"\n"
     ]
    },
    {
     "name": "stdout",
     "output_type": "stream",
     "text": [
      "{'paraphrased_question': 'What gender does Carl Dorno identify as?', 'multiple_choices': ['male', 'Not specified in the provided context', 'female', 'non-binary'], 'yes_question': \"Is Carl Dorno's sex or gender male?\", 'no_question': \"Is Carl Dorno's sex or gender not specified in the provided context?\", 'locality_question': 'What field is Carl Dorno known for?', 'reversed_relation_question': 'Who is male in this context?'}\n",
      "{'topic': {105: 'human_scientist'}, 'subject': {105: 'Alberto Granado'}, 'relation': {105: 'second family name in Spanish name'}, 'object': {105: 'Romero'}, 'question': {105: 'Who is the second family name in Spanish name of Alberto Granado?'}, 'output_meta_llama_3.1_8b_instruct': {105: nan}, 'eval_meta_llama_3.1_8b_instruct': {105: nan}, 'multiple_choices': {105: \"['Romero', 'Granado', 'García', 'Martínez']\"}, 'paraphrased_question': {105: 'What is the second surname in the Spanish name of Alberto Granado?'}, 'multiple_choice_with_letters': {105: 'A. Granado  B. Martínez  C. García  D. Romero'}, 'multiple_choice_labels': {105: 'D'}, 'yes_question': {105: 'Is Romero the second family name in the Spanish name of Alberto Granado?'}, 'no_question': {105: 'Is Granado the second family name in the Spanish name of Alberto Granado?'}, 'locality_question': {105: \"What was Alberto Granado's profession?\"}, 'reversed_relation_question': {105: 'Whose second family name in Spanish name is Romero?'}, 'question_2hop': {105: 'What is the second family name in the Spanish name of Alberto Granado?'}, 'answer_2hop': {105: 'Jiménez'}, 'question_3hop': {105: 'What is the profession of the person with the second family name Jiménez in the Spanish name of Alberto Granado?'}, 'answer_3hop': {105: 'Biochemist'}, 'question_4hop': {105: 'Which famous revolutionary was a close friend of the biochemist with the second family name Jiménez in the Spanish name of Alberto Granado?'}, 'answer_4hop': {105: 'Che Guevara'}, 'question_5hop': {105: 'In which country was the famous revolutionary who was a close friend of the biochemist with the second family name Jiménez in the Spanish name of Alberto Granado born?'}, 'answer_5hop': {105: 'Argentina'}, 'question_6hop': {105: 'What is the capital city of the country where the famous revolutionary who was a close friend of the biochemist with the second family name Jiménez in the Spanish name of Alberto Granado was born?'}, 'answer_6hop': {105: 'Buenos Aires'}, 'label': {105: 'Romero'}, 'output_mistral_7b_instruct_v0.3': {105: 'Granado'}, 'eval_mistral_7b_instruct_v0.3': {105: 0.0}}\n",
      "{'topic': {138: 'human_scientist'}, 'subject': {138: 'Ben Goldacre'}, 'relation': {138: 'employer'}, 'object': {138: 'University of Oxford'}, 'question': {138: 'What is the employer of Ben Goldacre?'}, 'output_meta_llama_3.1_8b_instruct': {138: nan}, 'eval_meta_llama_3.1_8b_instruct': {138: nan}, 'multiple_choices': {138: \"['University of Oxford', 'The Guardian (UK)', 'Harvard University', 'BBC']\"}, 'paraphrased_question': {138: 'Who employs Ben Goldacre?'}, 'multiple_choice_with_letters': {138: 'A. Harvard University  B. University of Oxford  C. BBC  D. The Guardian (UK)'}, 'multiple_choice_labels': {138: 'B'}, 'yes_question': {138: 'Is the University of Oxford the employer of Ben Goldacre?'}, 'no_question': {138: 'Is The Guardian (UK) the employer of Ben Goldacre?'}, 'locality_question': {138: 'What is a notable book written by Ben Goldacre?'}, 'reversed_relation_question': {138: 'Who is employed by the University of Oxford?'}, 'question_2hop': {138: 'Who is the current employer of Ben Goldacre?'}, 'answer_2hop': {138: 'University of Oxford'}, 'question_3hop': {138: 'Which college is part of the current employer of Ben Goldacre?'}, 'answer_3hop': {138: 'All Souls College'}, 'question_4hop': {138: 'Who is a notable fellow of the college that is part of the current employer of Ben Goldacre?'}, 'answer_4hop': {138: 'Isaiah Berlin'}, 'question_5hop': {138: 'What is the nationality of the notable fellow of the college that is part of the current employer of Ben Goldacre?'}, 'answer_5hop': {138: 'British'}, 'question_6hop': {138: 'Which famous philosopher shares the same nationality as the notable fellow of the college that is part of the current employer of Ben Goldacre?'}, 'answer_6hop': {138: 'Bertrand Russell'}, 'label': {138: 'University of Oxford'}, 'output_mistral_7b_instruct_v0.3': {138: 'The Guardian (UK)'}, 'eval_mistral_7b_instruct_v0.3': {138: 0.0}}\n"
     ]
    },
    {
     "name": "stderr",
     "output_type": "stream",
     "text": [
      "09/13/2024 23:59:30 - INFO - httpx -   HTTP Request: POST https://n-central-us.openai.azure.com//openai/deployments/gpt-4o/chat/completions?api-version=2023-05-15 \"HTTP/1.1 200 OK\"\n"
     ]
    },
    {
     "name": "stdout",
     "output_type": "stream",
     "text": [
      "{'paraphrased_question': 'What gender does Alfred Jante identify as?', 'multiple_choices': ['male', 'Alfred Jante is a fictional character, and therefore does not have a sex', 'female', 'non-binary'], 'yes_question': \"Is Alfred Jante's sex or gender male?\", 'no_question': \"Is Alfred Jante's sex or gender that of a fictional character, and therefore does not have a sex?\", 'locality_question': 'What is Alfred Jante known for?', 'reversed_relation_question': 'Who is male in this context?'}\n"
     ]
    },
    {
     "name": "stderr",
     "output_type": "stream",
     "text": [
      "09/13/2024 23:59:32 - INFO - httpx -   HTTP Request: POST https://n-central-us.openai.azure.com//openai/deployments/gpt-4o/chat/completions?api-version=2023-05-15 \"HTTP/1.1 200 OK\"\n"
     ]
    },
    {
     "name": "stdout",
     "output_type": "stream",
     "text": [
      "{'paraphrased_question': 'What gender does Janko Ferk identify as?', 'multiple_choices': ['male', 'Not specified in the provided information', 'female', 'non-binary'], 'yes_question': 'Is the sex or gender of Janko Ferk male?', 'no_question': 'Is the sex or gender of Janko Ferk not specified in the provided information?', 'locality_question': 'What is Janko Ferk known for?', 'reversed_relation_question': 'Who is male?'}\n"
     ]
    },
    {
     "name": "stderr",
     "output_type": "stream",
     "text": [
      "09/13/2024 23:59:35 - INFO - httpx -   HTTP Request: POST https://n-central-us.openai.azure.com//openai/deployments/gpt-4o/chat/completions?api-version=2023-05-15 \"HTTP/1.1 200 OK\"\n"
     ]
    },
    {
     "name": "stdout",
     "output_type": "stream",
     "text": [
      "{'paraphrased_question': 'Where was Étienne Pariset born?', 'multiple_choices': ['Grand', 'France', 'Paris', 'Lyon'], 'yes_question': 'Is the place of birth of Étienne Pariset Grand?', 'no_question': 'Is the place of birth of Étienne Pariset France?', 'locality_question': 'What is Étienne Pariset known for?', 'reversed_relation_question': 'Who was born in Grand?'}\n"
     ]
    },
    {
     "name": "stderr",
     "output_type": "stream",
     "text": [
      "09/13/2024 23:59:37 - INFO - httpx -   HTTP Request: POST https://n-central-us.openai.azure.com//openai/deployments/gpt-4o/chat/completions?api-version=2023-05-15 \"HTTP/1.1 200 OK\"\n"
     ]
    },
    {
     "name": "stdout",
     "output_type": "stream",
     "text": [
      "{'paraphrased_question': 'Where did Luboš Kohoutek pass away?', 'multiple_choices': ['Bergedorf', 'Prague', 'Berlin', 'Hamburg'], 'yes_question': 'Did Luboš Kohoutek die in Bergedorf?', 'no_question': 'Did Luboš Kohoutek die in Prague?', 'locality_question': 'What is Luboš Kohoutek known for?', 'reversed_relation_question': 'Who died in Bergedorf?'}\n",
      "{'topic': {145: 'human_scientist'}, 'subject': {145: 'Émile Coué'}, 'relation': {145: 'place of death'}, 'object': {145: 'Nancy'}, 'question': {145: 'Who is the place of death of Émile Coué?'}, 'output_meta_llama_3.1_8b_instruct': {145: nan}, 'eval_meta_llama_3.1_8b_instruct': {145: nan}, 'multiple_choices': {145: \"['Nancy', 'Saint-Maurice-sur-Aveyron, France', 'Paris', 'Lyon']\"}, 'paraphrased_question': {145: 'Where did Émile Coué pass away?'}, 'multiple_choice_with_letters': {145: 'A. Lyon  B. Paris  C. Saint-Maurice-sur-Aveyron, France  D. Nancy'}, 'multiple_choice_labels': {145: 'D'}, 'yes_question': {145: 'Did Émile Coué die in Nancy?'}, 'no_question': {145: 'Did Émile Coué die in Saint-Maurice-sur-Aveyron, France?'}, 'locality_question': {145: 'What is Émile Coué known for?'}, 'reversed_relation_question': {145: 'Who died in Nancy?'}, 'question_2hop': {145: 'Who was the mayor of the place where Émile Coué died?'}, 'answer_2hop': {145: 'René Gaillard'}, 'question_3hop': {145: 'What is the name of the hospital in the place where Émile Coué died?'}, 'answer_3hop': {145: 'Centre Hospitalier Universitaire de Nantes'}, 'question_4hop': {145: 'Which university is affiliated with the hospital in the place where Émile Coué died?'}, 'answer_4hop': {145: 'University of Nantes'}, 'question_5hop': {145: 'What is the name of the library at the university affiliated with the hospital in the place where Émile Coué died?'}, 'answer_5hop': {145: 'Bibliothèque Universitaire de Nantes'}, 'question_6hop': {145: 'What is the name of the river that flows through the city where the university affiliated with the hospital in the place where Émile Coué died is located?'}, 'answer_6hop': {145: 'Loire River'}, 'label': {145: 'Nancy'}, 'output_mistral_7b_instruct_v0.3': {145: 'Saint-Maurice-sur-Aveyron, France'}, 'eval_mistral_7b_instruct_v0.3': {145: 0.0}}\n",
      "{'topic': {75: 'human_scientist', 115: 'human_scientist'}, 'subject': {75: 'Tytus Maksymilian Huber', 115: 'Tytus Maksymilian Huber'}, 'relation': {75: 'field of work', 115: 'field of work'}, 'object': {75: 'mechanical engineering', 115: 'mechanical engineering'}, 'question': {75: 'What is the field of work of Tytus Maksymilian Huber?', 115: 'What is the field of work of Tytus Maksymilian Huber?'}, 'output_meta_llama_3.1_8b_instruct': {75: 'Geologist', 115: nan}, 'eval_meta_llama_3.1_8b_instruct': {75: 0.0, 115: nan}, 'multiple_choices': {75: \"['mechanical engineering', 'Geologist', 'civil engineering', 'electrical engineering']\", 115: \"['mechanical engineering', 'Architecture', 'civil engineering', 'electrical engineering']\"}, 'paraphrased_question': {75: 'In which field did Tytus Maksymilian Huber work?', 115: 'In which field did Tytus Maksymilian Huber work?'}, 'multiple_choice_with_letters': {75: 'A. civil engineering  B. electrical engineering  C. mechanical engineering  D. Geologist', 115: 'A. electrical engineering  B. mechanical engineering  C. Architecture  D. civil engineering'}, 'multiple_choice_labels': {75: 'C', 115: 'B'}, 'yes_question': {75: 'Is the field of work of Tytus Maksymilian Huber mechanical engineering?', 115: 'Is the field of work of Tytus Maksymilian Huber mechanical engineering?'}, 'no_question': {75: 'Is the field of work of Tytus Maksymilian Huber Geologist?', 115: 'Is the field of work of Tytus Maksymilian Huber Architecture?'}, 'locality_question': {75: 'What nationality was Tytus Maksymilian Huber?', 115: 'What nationality is Tytus Maksymilian Huber?'}, 'reversed_relation_question': {75: 'Who is known for working in the field of mechanical engineering?', 115: 'Who is known for working in the field of mechanical engineering?'}, 'question_2hop': {75: 'Who is a notable student of Tytus Maksymilian Huber in his field of work?', 115: 'Who is a notable student of Tytus Maksymilian Huber in his field of work?'}, 'answer_2hop': {75: 'Wacław Olszak', 115: 'Wacław Olszak'}, 'question_3hop': {75: 'Which university did the notable student of Tytus Maksymilian Huber attend?', 115: 'Which university did the notable student of Tytus Maksymilian Huber attend?'}, 'answer_3hop': {75: 'Warsaw University of Technology', 115: 'Warsaw University of Technology'}, 'question_4hop': {75: 'In which city is the university located where the notable student of Tytus Maksymilian Huber attended?', 115: 'In which city is the university located that the notable student of Tytus Maksymilian Huber attended?'}, 'answer_4hop': {75: 'Warsaw', 115: 'Warsaw'}, 'question_5hop': {75: 'In which country is the city located where the university attended by the notable student of Tytus Maksymilian Huber is situated?', 115: 'In which country is the city located where the university that the notable student of Tytus Maksymilian Huber attended is situated?'}, 'answer_5hop': {75: 'Poland', 115: 'Poland'}, 'question_6hop': {75: 'What is the official language of the country where the city is located that contains the university attended by the notable student of Tytus Maksymilian Huber?', 115: 'What is the official language of the country where the city is located that contains the university the notable student of Tytus Maksymilian Huber attended?'}, 'answer_6hop': {75: 'Polish', 115: 'Polish'}, 'label': {75: nan, 115: 'mechanical engineering'}, 'output_mistral_7b_instruct_v0.3': {75: nan, 115: 'Architecture'}, 'eval_mistral_7b_instruct_v0.3': {75: nan, 115: 0.0}}\n"
     ]
    },
    {
     "name": "stderr",
     "output_type": "stream",
     "text": [
      "09/13/2024 23:59:38 - INFO - httpx -   HTTP Request: POST https://n-central-us.openai.azure.com//openai/deployments/gpt-4o/chat/completions?api-version=2023-05-15 \"HTTP/1.1 200 OK\"\n"
     ]
    },
    {
     "name": "stdout",
     "output_type": "stream",
     "text": [
      "{'paraphrased_question': 'What gender does Franz-Josef Ulm identify as?', 'multiple_choices': ['male', 'Not specified', 'female', 'non-binary'], 'yes_question': 'Is the sex or gender of Franz-Josef Ulm male?', 'no_question': 'Is the sex or gender of Franz-Josef Ulm not specified?', 'locality_question': 'What is Franz-Josef Ulm known for?', 'reversed_relation_question': 'Who is male in this context?'}\n"
     ]
    },
    {
     "name": "stderr",
     "output_type": "stream",
     "text": [
      "09/13/2024 23:59:40 - INFO - httpx -   HTTP Request: POST https://n-central-us.openai.azure.com//openai/deployments/gpt-4o/chat/completions?api-version=2023-05-15 \"HTTP/1.1 200 OK\"\n"
     ]
    },
    {
     "name": "stdout",
     "output_type": "stream",
     "text": [
      "{'paraphrased_question': 'Where did Paul Dirac reside?', 'multiple_choices': ['United Kingdom', 'Cambridge (UK)', 'United States', 'Germany'], 'yes_question': 'Is the residence of Paul Dirac the United Kingdom?', 'no_question': 'Is the residence of Paul Dirac Cambridge (UK)?', 'locality_question': 'What notable scientific contribution is Paul Dirac known for?', 'reversed_relation_question': 'Who resides in the United Kingdom?'}\n"
     ]
    },
    {
     "name": "stderr",
     "output_type": "stream",
     "text": [
      "09/13/2024 23:59:42 - INFO - httpx -   HTTP Request: POST https://n-central-us.openai.azure.com//openai/deployments/gpt-4o/chat/completions?api-version=2023-05-15 \"HTTP/1.1 200 OK\"\n"
     ]
    },
    {
     "name": "stdout",
     "output_type": "stream",
     "text": [
      "{'paraphrased_question': 'What medical condition did Galileo Galilei suffer from?', 'multiple_choices': ['blindness', 'Deceased (died in 1642)', 'deafness', 'arthritis'], 'yes_question': 'Is blindness the medical condition of Galileo Galilei?', 'no_question': 'Is Deceased (died in 1642) the medical condition of Galileo Galilei?', 'locality_question': 'What is Galileo Galilei known for in the field of astronomy?', 'reversed_relation_question': 'Who suffered from blindness?'}\n"
     ]
    },
    {
     "name": "stderr",
     "output_type": "stream",
     "text": [
      "09/13/2024 23:59:43 - INFO - httpx -   HTTP Request: POST https://n-central-us.openai.azure.com//openai/deployments/gpt-4o/chat/completions?api-version=2023-05-15 \"HTTP/1.1 200 OK\"\n"
     ]
    },
    {
     "name": "stdout",
     "output_type": "stream",
     "text": [
      "{'paraphrased_question': 'In which field does Andreas Vogel work?', 'multiple_choices': ['digital humanities', 'Computer Science', 'data science', 'information technology'], 'yes_question': \"Is Andreas Vogel's field of work digital humanities?\", 'no_question': \"Is Andreas Vogel's field of work Computer Science?\", 'locality_question': 'What is a notable achievement or contribution of Andreas Vogel?', 'reversed_relation_question': 'Who works in the field of digital humanities?'}\n"
     ]
    },
    {
     "name": "stderr",
     "output_type": "stream",
     "text": [
      "09/13/2024 23:59:45 - INFO - httpx -   HTTP Request: POST https://n-central-us.openai.azure.com//openai/deployments/gpt-4o/chat/completions?api-version=2023-05-15 \"HTTP/1.1 200 OK\"\n"
     ]
    },
    {
     "name": "stdout",
     "output_type": "stream",
     "text": [
      "{'paraphrased_question': 'What gender is Émile Coué?', 'multiple_choices': ['male', 'Not specified', 'female', 'non-binary'], 'yes_question': 'Is the sex or gender of Émile Coué male?', 'no_question': 'Is the sex or gender of Émile Coué Not specified?', 'locality_question': 'What is Émile Coué known for?', 'reversed_relation_question': 'Who is male in relation to sex or gender?'}\n"
     ]
    },
    {
     "name": "stderr",
     "output_type": "stream",
     "text": [
      "09/13/2024 23:59:46 - INFO - httpx -   HTTP Request: POST https://n-central-us.openai.azure.com//openai/deployments/gpt-4o/chat/completions?api-version=2023-05-15 \"HTTP/1.1 200 OK\"\n"
     ]
    },
    {
     "name": "stdout",
     "output_type": "stream",
     "text": [
      "{'paraphrased_question': 'In which field does Yury Pobedonostsev work?', 'multiple_choices': ['rocket science', 'Politics', 'biology', 'literature'], 'yes_question': \"Is Yury Pobedonostsev's field of work rocket science?\", 'no_question': \"Is Yury Pobedonostsev's field of work Politics?\", 'locality_question': 'What is a notable achievement of Yury Pobedonostsev?', 'reversed_relation_question': 'Who works in the field of rocket science?'}\n"
     ]
    },
    {
     "name": "stderr",
     "output_type": "stream",
     "text": [
      "09/13/2024 23:59:48 - INFO - httpx -   HTTP Request: POST https://n-central-us.openai.azure.com//openai/deployments/gpt-4o/chat/completions?api-version=2023-05-15 \"HTTP/1.1 200 OK\"\n"
     ]
    },
    {
     "name": "stdout",
     "output_type": "stream",
     "text": [
      "{'paraphrased_question': 'What gender does Otto Immisch identify as?', 'multiple_choices': ['male', 'Not specified', 'female', 'non-binary'], 'yes_question': 'Is the sex or gender of Otto Immisch male?', 'no_question': 'Is the sex or gender of Otto Immisch Not specified?', 'locality_question': 'What is Otto Immisch known for?', 'reversed_relation_question': 'Who is male in this context?'}\n"
     ]
    },
    {
     "name": "stderr",
     "output_type": "stream",
     "text": [
      "09/13/2024 23:59:50 - INFO - httpx -   HTTP Request: POST https://n-central-us.openai.azure.com//openai/deployments/gpt-4o/chat/completions?api-version=2023-05-15 \"HTTP/1.1 200 OK\"\n"
     ]
    },
    {
     "name": "stdout",
     "output_type": "stream",
     "text": [
      "{'paraphrased_question': 'By whom was Stuart Hameroff influenced?', 'multiple_choices': ['Roger Penrose', 'Penrose', 'Turing', 'Einstein', 'Hawking'], 'yes_question': 'Was Stuart Hameroff influenced by Roger Penrose?', 'no_question': 'Was Stuart Hameroff influenced by Turing?', 'locality_question': 'What is Stuart Hameroff known for in the field of consciousness studies?', 'reversed_relation_question': 'Who influenced Roger Penrose?'}\n"
     ]
    },
    {
     "name": "stderr",
     "output_type": "stream",
     "text": [
      "09/13/2024 23:59:52 - INFO - httpx -   HTTP Request: POST https://n-central-us.openai.azure.com//openai/deployments/gpt-4o/chat/completions?api-version=2023-05-15 \"HTTP/1.1 200 OK\"\n"
     ]
    },
    {
     "name": "stdout",
     "output_type": "stream",
     "text": [
      "{'paraphrased_question': 'What academic title does Valery Zorkin hold?', 'multiple_choices': ['full professor', 'Judge (Chairman of the Constitutional Court of Russia)', 'associate professor', 'lecturer'], 'yes_question': 'Is Valery Zorkin a full professor?', 'no_question': 'Is Valery Zorkin a Judge (Chairman of the Constitutional Court of Russia)?', 'locality_question': \"What is Valery Zorkin's role in the Constitutional Court of Russia?\", 'reversed_relation_question': 'Who holds the title of full professor?'}\n",
      "{'topic': {190: 'human_scientist'}, 'subject': {190: 'Bernhard Siegert'}, 'relation': {190: 'sex or gender'}, 'object': {190: 'male'}, 'question': {190: 'What is the sex or gender of Bernhard Siegert?'}, 'output_meta_llama_3.1_8b_instruct': {190: nan}, 'eval_meta_llama_3.1_8b_instruct': {190: nan}, 'multiple_choices': {190: \"['male', 'Not specified in the provided information', 'female', 'non-binary']\"}, 'paraphrased_question': {190: 'What gender is Bernhard Siegert?'}, 'multiple_choice_with_letters': {190: 'A. Not specified in the provided information  B. female  C. male  D. non-binary'}, 'multiple_choice_labels': {190: 'C'}, 'yes_question': {190: 'Is the sex or gender of Bernhard Siegert male?'}, 'no_question': {190: 'Is the sex or gender of Bernhard Siegert not specified in the provided information?'}, 'locality_question': {190: 'What is Bernhard Siegert known for?'}, 'reversed_relation_question': {190: 'Who is male in this context?'}, 'question_2hop': {190: 'What is the profession of Bernhard Siegert, who is male?'}, 'answer_2hop': {190: 'Media theorist'}, 'question_3hop': {190: 'Which university is associated with the media theorist Bernhard Siegert?'}, 'answer_3hop': {190: 'Bauhaus University Weimar'}, 'question_4hop': {190: 'In which country is Bauhaus University Weimar, where media theorist Bernhard Siegert is associated, located?'}, 'answer_4hop': {190: 'Germany'}, 'question_5hop': {190: 'What is the capital city of the country where Bauhaus University Weimar is located?'}, 'answer_5hop': {190: 'Berlin'}, 'question_6hop': {190: 'Which river flows through the capital city of the country where Bauhaus University Weimar is located?'}, 'answer_6hop': {190: 'Spree'}, 'label': {190: 'male'}, 'output_mistral_7b_instruct_v0.3': {190: 'Not specified in the provided information'}, 'eval_mistral_7b_instruct_v0.3': {190: 0.0}}\n"
     ]
    },
    {
     "name": "stderr",
     "output_type": "stream",
     "text": [
      "09/13/2024 23:59:54 - INFO - httpx -   HTTP Request: POST https://n-central-us.openai.azure.com//openai/deployments/gpt-4o/chat/completions?api-version=2023-05-15 \"HTTP/1.1 200 OK\"\n"
     ]
    },
    {
     "name": "stdout",
     "output_type": "stream",
     "text": [
      "{'paraphrased_question': 'What gender does August Dupré identify as?', 'multiple_choices': ['male', 'Not specified in the provided context', 'female', 'non-binary'], 'yes_question': 'Is the sex or gender of August Dupré male?', 'no_question': 'Is the sex or gender of August Dupré not specified in the provided context?', 'locality_question': 'What is a notable achievement or profession of August Dupré?', 'reversed_relation_question': 'Who is male in this context?'}\n"
     ]
    },
    {
     "name": "stderr",
     "output_type": "stream",
     "text": [
      "09/13/2024 23:59:55 - INFO - httpx -   HTTP Request: POST https://n-central-us.openai.azure.com//openai/deployments/gpt-4o/chat/completions?api-version=2023-05-15 \"HTTP/1.1 200 OK\"\n"
     ]
    },
    {
     "name": "stdout",
     "output_type": "stream",
     "text": [
      "{'paraphrased_question': 'Where does William Perry work?', 'multiple_choices': ['Stanford', 'Pentagon', 'Harvard', 'MIT'], 'yes_question': \"Is William Perry's work location Stanford?\", 'no_question': \"Is William Perry's work location Pentagon?\", 'locality_question': 'What is William Perry known for?', 'reversed_relation_question': 'Who works at Stanford?'}\n"
     ]
    },
    {
     "name": "stderr",
     "output_type": "stream",
     "text": [
      "09/13/2024 23:59:56 - INFO - httpx -   HTTP Request: POST https://n-central-us.openai.azure.com//openai/deployments/gpt-4o/chat/completions?api-version=2023-05-15 \"HTTP/1.1 200 OK\"\n"
     ]
    },
    {
     "name": "stdout",
     "output_type": "stream",
     "text": [
      "{'paraphrased_question': 'Where did Leonardo da Vinci pass away?', 'multiple_choices': ['Clos Lucé', 'Closley', 'Amboise, France', 'Florence, Italy'], 'yes_question': 'Did Leonardo da Vinci die at Clos Lucé?', 'no_question': 'Did Leonardo da Vinci die at Closley?', 'locality_question': 'What is Leonardo da Vinci famous for?', 'reversed_relation_question': 'Who died at Clos Lucé?'}\n",
      "{'topic': {150: 'human_scientist'}, 'subject': {150: 'Wilhelm Schäperclaus'}, 'relation': {150: 'member of political party'}, 'object': {150: 'Nazi Party'}, 'question': {150: 'What is the member of political party of Wilhelm Schäperclaus?'}, 'output_meta_llama_3.1_8b_instruct': {150: nan}, 'eval_meta_llama_3.1_8b_instruct': {150: nan}, 'multiple_choices': {150: \"['Nazi Party', 'SPD (Social Democratic Party)', 'Green Party', 'Christian Democratic Union']\"}, 'paraphrased_question': {150: 'Which political party was Wilhelm Schäperclaus a member of?'}, 'multiple_choice_with_letters': {150: 'A. SPD (Social Democratic Party)  B. Nazi Party  C. Green Party  D. Christian Democratic Union'}, 'multiple_choice_labels': {150: 'B'}, 'yes_question': {150: 'Was Wilhelm Schäperclaus a member of the Nazi Party?'}, 'no_question': {150: 'Was Wilhelm Schäperclaus a member of the SPD (Social Democratic Party)?'}, 'locality_question': {150: \"What was Wilhelm Schäperclaus's profession?\"}, 'reversed_relation_question': {150: 'Who was a member of the Nazi Party?'}, 'question_2hop': {150: 'Who is the leader of the political party that Wilhelm Schäperclaus is a member of?'}, 'answer_2hop': {150: \"Leader's Name\"}, 'question_3hop': {150: 'What is the main ideology of the political party led by the leader of the political party that Wilhelm Schäperclaus is a member of?'}, 'answer_3hop': {150: 'Ideology'}, 'question_4hop': {150: 'Which country is primarily associated with the main ideology of the political party led by the leader of the political party that Wilhelm Schäperclaus is a member of?'}, 'answer_4hop': {150: 'Country'}, 'question_5hop': {150: 'What is the capital city of the country primarily associated with the main ideology of the political party led by the leader of the political party that Wilhelm Schäperclaus is a member of?'}, 'answer_5hop': {150: 'Capital City'}, 'question_6hop': {150: 'What is the population of the capital city of the country primarily associated with the main ideology of the political party led by the leader of the political party that Wilhelm Schäperclaus is a member of?'}, 'answer_6hop': {150: 'Population'}, 'label': {150: 'Nazi Party'}, 'output_mistral_7b_instruct_v0.3': {150: 'SPD (Social Democratic Party)'}, 'eval_mistral_7b_instruct_v0.3': {150: 0.0}}\n"
     ]
    },
    {
     "name": "stderr",
     "output_type": "stream",
     "text": [
      "09/13/2024 23:59:58 - INFO - httpx -   HTTP Request: POST https://n-central-us.openai.azure.com//openai/deployments/gpt-4o/chat/completions?api-version=2023-05-15 \"HTTP/1.1 200 OK\"\n"
     ]
    },
    {
     "name": "stdout",
     "output_type": "stream",
     "text": [
      "{'paraphrased_question': 'Where did Alberto Granado pass away?', 'multiple_choices': ['Havana', 'Tierra del Fuego, Argentina', 'Buenos Aires', 'Santiago'], 'yes_question': 'Did Alberto Granado die in Havana?', 'no_question': 'Did Alberto Granado die in Tierra del Fuego, Argentina?', 'locality_question': \"What was Alberto Granado's profession?\", 'reversed_relation_question': 'Who died in Havana?'}\n",
      "{'topic': {29: 'human_scientist'}, 'subject': {29: 'Ben Goldacre'}, 'relation': {29: 'work location'}, 'object': {29: 'Oxford'}, 'question': {29: 'What is the work location of Ben Goldacre?'}, 'output_meta_llama_3.1_8b_instruct': {29: 'University College London'}, 'eval_meta_llama_3.1_8b_instruct': {29: 0.0}, 'multiple_choices': {29: \"['Oxford', 'University College London', 'Cambridge', 'Imperial College London']\"}, 'paraphrased_question': {29: 'Where does Ben Goldacre work?'}, 'multiple_choice_with_letters': {29: 'A. Cambridge  B. Oxford  C. Imperial College London  D. University College London'}, 'multiple_choice_labels': {29: 'B'}, 'yes_question': {29: 'Is Oxford the work location of Ben Goldacre?'}, 'no_question': {29: 'Is University College London the work location of Ben Goldacre?'}, 'locality_question': {29: 'What is Ben Goldacre known for?'}, 'reversed_relation_question': {29: 'Who works in Oxford?'}, 'question_2hop': {29: 'Who is a notable colleague of Ben Goldacre at his work location?'}, 'answer_2hop': {29: 'Carl Heneghan'}, 'question_3hop': {29: 'What is the primary research focus of the notable colleague of Ben Goldacre at his work location?'}, 'answer_3hop': {29: 'Evidence-based medicine'}, 'question_4hop': {29: \"Which institution is known for its research in evidence-based medicine, where Ben Goldacre's notable colleague works?\"}, 'answer_4hop': {29: 'University of Oxford'}, 'question_5hop': {29: \"In which city is the institution located that is known for its research in evidence-based medicine, where Ben Goldacre's notable colleague works?\"}, 'answer_5hop': {29: 'Oxford'}, 'question_6hop': {29: \"In which country is the city located that contains the institution known for its research in evidence-based medicine, where Ben Goldacre's notable colleague works?\"}, 'answer_6hop': {29: 'United Kingdom'}, 'label': {29: nan}, 'output_mistral_7b_instruct_v0.3': {29: nan}, 'eval_mistral_7b_instruct_v0.3': {29: nan}}\n",
      "{'topic': {193: 'human_scientist'}, 'subject': {193: 'Óscar Ichazo'}, 'relation': {193: 'place of birth'}, 'object': {193: 'Bolivia'}, 'question': {193: 'What is the place of birth of Óscar Ichazo?'}, 'output_meta_llama_3.1_8b_instruct': {193: nan}, 'eval_meta_llama_3.1_8b_instruct': {193: nan}, 'multiple_choices': {193: \"['Bolivia', 'Chile', 'Argentina', 'Peru']\"}, 'paraphrased_question': {193: 'Where was Óscar Ichazo born?'}, 'multiple_choice_with_letters': {193: 'A. Chile  B. Argentina  C. Bolivia  D. Peru'}, 'multiple_choice_labels': {193: 'C'}, 'yes_question': {193: \"Is Óscar Ichazo's place of birth Bolivia?\"}, 'no_question': {193: \"Is Óscar Ichazo's place of birth Chile?\"}, 'locality_question': {193: 'What is Óscar Ichazo known for?'}, 'reversed_relation_question': {193: 'Who was born in Bolivia?'}, 'question_2hop': {193: 'What is the capital city of the country where Óscar Ichazo was born?'}, 'answer_2hop': {193: 'La Paz'}, 'question_3hop': {193: 'Which famous mountain range is near the capital city of the country where Óscar Ichazo was born?'}, 'answer_3hop': {193: 'Andes'}, 'question_4hop': {193: 'What is the highest peak in the mountain range near the capital city of the country where Óscar Ichazo was born?'}, 'answer_4hop': {193: 'Aconcagua'}, 'question_5hop': {193: 'In which country is the highest peak located in the mountain range near the capital city of the country where Óscar Ichazo was born?'}, 'answer_5hop': {193: 'Argentina'}, 'question_6hop': {193: 'What is the official language of the country where the highest peak is located in the mountain range near the capital city of the country where Óscar Ichazo was born?'}, 'answer_6hop': {193: 'Spanish'}, 'label': {193: 'Bolivia'}, 'output_mistral_7b_instruct_v0.3': {193: 'Chile'}, 'eval_mistral_7b_instruct_v0.3': {193: 0.0}}\n"
     ]
    },
    {
     "name": "stderr",
     "output_type": "stream",
     "text": [
      "09/14/2024 00:00:00 - INFO - httpx -   HTTP Request: POST https://n-central-us.openai.azure.com//openai/deployments/gpt-4o/chat/completions?api-version=2023-05-15 \"HTTP/1.1 200 OK\"\n"
     ]
    },
    {
     "name": "stdout",
     "output_type": "stream",
     "text": [
      "{'paraphrased_question': 'Where is Leonardo da Vinci buried?', 'multiple_choices': [\"Château d'Amboise\", 'Church of Santa Croce, Florence', 'Westminster Abbey', 'Pantheon, Rome'], 'yes_question': \"Is Leonardo da Vinci buried at Château d'Amboise?\", 'no_question': 'Is Leonardo da Vinci buried at Church of Santa Croce, Florence?', 'locality_question': 'What famous painting is Leonardo da Vinci known for?', 'reversed_relation_question': \"Who is buried at Château d'Amboise?\"}\n",
      "{'topic': {181: 'human_scientist'}, 'subject': {181: 'Andreas Böhm'}, 'relation': {181: 'place of birth'}, 'object': {181: 'Darmstadt'}, 'question': {181: 'What is the place of birth of Andreas Böhm?'}, 'output_meta_llama_3.1_8b_instruct': {181: nan}, 'eval_meta_llama_3.1_8b_instruct': {181: nan}, 'multiple_choices': {181: \"['Darmstadt', 'Austria', 'Berlin', 'Munich']\"}, 'paraphrased_question': {181: 'Where was Andreas Böhm born?'}, 'multiple_choice_with_letters': {181: 'A. Darmstadt  B. Berlin  C. Austria  D. Munich'}, 'multiple_choice_labels': {181: 'A'}, 'yes_question': {181: \"Is Andreas Böhm's place of birth Darmstadt?\"}, 'no_question': {181: \"Is Andreas Böhm's place of birth Austria?\"}, 'locality_question': {181: 'What is a notable profession of Andreas Böhm?'}, 'reversed_relation_question': {181: 'Who was born in Darmstadt?'}, 'question_2hop': {181: 'What is the capital city of the country where Andreas Böhm was born?'}, 'answer_2hop': {181: 'Vienna'}, 'question_3hop': {181: 'Which river flows through the capital city of the country where Andreas Böhm was born?'}, 'answer_3hop': {181: 'Danube'}, 'question_4hop': {181: 'What is the length of the river that flows through the capital city of the country where Andreas Böhm was born?'}, 'answer_4hop': {181: '2,850 km'}, 'question_5hop': {181: 'Which sea does the river that flows through the capital city of the country where Andreas Böhm was born empty into?'}, 'answer_5hop': {181: 'Black Sea'}, 'question_6hop': {181: 'Which country borders the sea into which the river that flows through the capital city of the country where Andreas Böhm was born empties?'}, 'answer_6hop': {181: 'Ukraine'}, 'label': {181: 'Darmstadt'}, 'output_mistral_7b_instruct_v0.3': {181: 'Austria'}, 'eval_mistral_7b_instruct_v0.3': {181: 0.0}}\n"
     ]
    },
    {
     "name": "stderr",
     "output_type": "stream",
     "text": [
      "09/14/2024 00:00:01 - INFO - httpx -   HTTP Request: POST https://n-central-us.openai.azure.com//openai/deployments/gpt-4o/chat/completions?api-version=2023-05-15 \"HTTP/1.1 200 OK\"\n"
     ]
    },
    {
     "name": "stdout",
     "output_type": "stream",
     "text": [
      "{'paraphrased_question': 'Where was Harrison Schmitt born?', 'multiple_choices': ['Santa Rita', 'New Mexico', 'Albuquerque', 'Las Cruces'], 'yes_question': 'Is Santa Rita the place of birth of Harrison Schmitt?', 'no_question': 'Is New Mexico the place of birth of Harrison Schmitt?', 'locality_question': 'What is Harrison Schmitt known for besides his place of birth?', 'reversed_relation_question': 'Who was born in Santa Rita?'}\n"
     ]
    },
    {
     "name": "stderr",
     "output_type": "stream",
     "text": [
      "09/14/2024 00:00:03 - INFO - httpx -   HTTP Request: POST https://n-central-us.openai.azure.com//openai/deployments/gpt-4o/chat/completions?api-version=2023-05-15 \"HTTP/1.1 200 OK\"\n"
     ]
    },
    {
     "name": "stdout",
     "output_type": "stream",
     "text": [
      "{'paraphrased_question': 'Which country was Karl Wien a citizen of?', 'multiple_choices': ['German Reich', 'Austria', 'Switzerland', 'France'], 'yes_question': 'Is the country of citizenship of Karl Wien the German Reich?', 'no_question': 'Is the country of citizenship of Karl Wien Austria?', 'locality_question': 'What was Karl Wien known for?', 'reversed_relation_question': 'Who is a citizen of the German Reich?'}\n",
      "{'topic': {182: 'human_scientist'}, 'subject': {182: 'Elias Chacour'}, 'relation': {182: 'sex or gender'}, 'object': {182: 'male'}, 'question': {182: 'What is the sex or gender of Elias Chacour?'}, 'output_meta_llama_3.1_8b_instruct': {182: nan}, 'eval_meta_llama_3.1_8b_instruct': {182: nan}, 'multiple_choices': {182: \"['male', 'Not specified in the provided information', 'female', 'non-binary']\"}, 'paraphrased_question': {182: 'What gender does Elias Chacour identify as?'}, 'multiple_choice_with_letters': {182: 'A. female  B. non-binary  C. Not specified in the provided information  D. male'}, 'multiple_choice_labels': {182: 'D'}, 'yes_question': {182: 'Is the sex or gender of Elias Chacour male?'}, 'no_question': {182: 'Is the sex or gender of Elias Chacour not specified in the provided information?'}, 'locality_question': {182: 'What is a notable achievement or role of Elias Chacour?'}, 'reversed_relation_question': {182: 'Who is male in this context?'}, 'question_2hop': {182: 'What is the nationality of Elias Chacour, who is male?'}, 'answer_2hop': {182: 'Palestinian'}, 'question_3hop': {182: 'What is the primary language spoken by the nationality of Elias Chacour, who is male?'}, 'answer_3hop': {182: 'Arabic'}, 'question_4hop': {182: 'What is the predominant religion of the people who speak the primary language of the nationality of Elias Chacour, who is male?'}, 'answer_4hop': {182: 'Islam'}, 'question_5hop': {182: 'What is the holy book of the predominant religion of the people who speak the primary language of the nationality of Elias Chacour, who is male?'}, 'answer_5hop': {182: 'Quran'}, 'question_6hop': {182: 'In which century was the holy book of the predominant religion of the people who speak the primary language of the nationality of Elias Chacour, who is male, revealed?'}, 'answer_6hop': {182: '7th century'}, 'label': {182: 'male'}, 'output_mistral_7b_instruct_v0.3': {182: 'Not specified in the provided information'}, 'eval_mistral_7b_instruct_v0.3': {182: 0.0}}\n"
     ]
    },
    {
     "name": "stderr",
     "output_type": "stream",
     "text": [
      "09/14/2024 00:00:05 - INFO - httpx -   HTTP Request: POST https://n-central-us.openai.azure.com//openai/deployments/gpt-4o/chat/completions?api-version=2023-05-15 \"HTTP/1.1 200 OK\"\n"
     ]
    },
    {
     "name": "stdout",
     "output_type": "stream",
     "text": [
      "{'paraphrased_question': 'What significant contribution is Sheldon Glashow known for?', 'multiple_choices': ['string theory', 'Standard Model of particle physics', 'quantum mechanics', 'general relativity'], 'yes_question': 'Is string theory the notable work of Sheldon Glashow?', 'no_question': 'Is the Standard Model of particle physics the notable work of Sheldon Glashow?', 'locality_question': 'What prestigious award has Sheldon Glashow received?', 'reversed_relation_question': 'Who is known for the notable work in string theory?'}\n"
     ]
    },
    {
     "name": "stderr",
     "output_type": "stream",
     "text": [
      "09/14/2024 00:00:07 - INFO - httpx -   HTTP Request: POST https://n-central-us.openai.azure.com//openai/deployments/gpt-4o/chat/completions?api-version=2023-05-15 \"HTTP/1.1 200 OK\"\n"
     ]
    },
    {
     "name": "stdout",
     "output_type": "stream",
     "text": [
      "{'paraphrased_question': 'Which country was Hunayn ibn Ishaq a citizen of?', 'multiple_choices': ['Abbasid Caliphate', 'Persia', 'Byzantine Empire', 'Umayyad Caliphate'], 'yes_question': 'Is the country of citizenship of Hunayn ibn Ishaq the Abbasid Caliphate?', 'no_question': 'Is the country of citizenship of Hunayn ibn Ishaq Persia?', 'locality_question': 'What was Hunayn ibn Ishaq known for in the field of medicine?', 'reversed_relation_question': 'Who was a citizen of the Abbasid Caliphate?'}\n"
     ]
    },
    {
     "name": "stderr",
     "output_type": "stream",
     "text": [
      "09/14/2024 00:00:09 - INFO - httpx -   HTTP Request: POST https://n-central-us.openai.azure.com//openai/deployments/gpt-4o/chat/completions?api-version=2023-05-15 \"HTTP/1.1 200 OK\"\n"
     ]
    },
    {
     "name": "stdout",
     "output_type": "stream",
     "text": [
      "{'paraphrased_question': 'Where is Vitaly Ginzburg buried?', 'multiple_choices': ['Novodevichy Cemetery', 'Moscow', 'Kremlin Wall Necropolis', 'Troyekurovskoye Cemetery'], 'yes_question': 'Is the place of burial of Vitaly Ginzburg Novodevichy Cemetery?', 'no_question': 'Is the place of burial of Vitaly Ginzburg Moscow?', 'locality_question': 'What notable award did Vitaly Ginzburg receive?', 'reversed_relation_question': 'Who is buried in Novodevichy Cemetery?'}\n"
     ]
    },
    {
     "name": "stderr",
     "output_type": "stream",
     "text": [
      "09/14/2024 00:00:10 - INFO - httpx -   HTTP Request: POST https://n-central-us.openai.azure.com//openai/deployments/gpt-4o/chat/completions?api-version=2023-05-15 \"HTTP/1.1 200 OK\"\n"
     ]
    },
    {
     "name": "stdout",
     "output_type": "stream",
     "text": [
      "{'paraphrased_question': 'Who employs Jacques Curie?', 'multiple_choices': ['University of Montpellier', 'Compagnie de Saint-Gobain', 'Sorbonne University', 'University of Paris'], 'yes_question': 'Is the University of Montpellier the employer of Jacques Curie?', 'no_question': 'Is Compagnie de Saint-Gobain the employer of Jacques Curie?', 'locality_question': 'What field is Jacques Curie known for?', 'reversed_relation_question': 'Who is employed by the University of Montpellier?'}\n"
     ]
    },
    {
     "name": "stderr",
     "output_type": "stream",
     "text": [
      "09/14/2024 00:00:12 - INFO - httpx -   HTTP Request: POST https://n-central-us.openai.azure.com//openai/deployments/gpt-4o/chat/completions?api-version=2023-05-15 \"HTTP/1.1 200 OK\"\n"
     ]
    },
    {
     "name": "stdout",
     "output_type": "stream",
     "text": [
      "{'paraphrased_question': 'What gender does Jan Baptist van Helmont identify as?', 'multiple_choices': ['male', 'Not specified', 'female', 'non-binary'], 'yes_question': 'Is the sex or gender of Jan Baptist van Helmont male?', 'no_question': 'Is the sex or gender of Jan Baptist van Helmont not specified?', 'locality_question': 'What is Jan Baptist van Helmont known for in the field of science?', 'reversed_relation_question': 'Who is male in the context of this question?'}\n"
     ]
    },
    {
     "name": "stderr",
     "output_type": "stream",
     "text": [
      "09/14/2024 00:00:14 - INFO - httpx -   HTTP Request: POST https://n-central-us.openai.azure.com//openai/deployments/gpt-4o/chat/completions?api-version=2023-05-15 \"HTTP/1.1 200 OK\"\n"
     ]
    },
    {
     "name": "stdout",
     "output_type": "stream",
     "text": [
      "{'paraphrased_question': 'Which significant work is attributed to Galileo Galilei?', 'multiple_choices': ['Galilean transformation', 'Sidereus Nuncius', 'Dialogue Concerning the Two Chief World Systems', 'The Assayer'], 'yes_question': 'Is the Galilean transformation a notable work of Galileo Galilei?', 'no_question': 'Is Sidereus Nuncius a notable work of Galileo Galilei?', 'locality_question': \"What was Galileo Galilei's contribution to the field of astronomy?\", 'reversed_relation_question': 'Who is the notable author of the Galilean transformation?'}\n"
     ]
    },
    {
     "name": "stderr",
     "output_type": "stream",
     "text": [
      "09/14/2024 00:00:15 - INFO - httpx -   HTTP Request: POST https://n-central-us.openai.azure.com//openai/deployments/gpt-4o/chat/completions?api-version=2023-05-15 \"HTTP/1.1 200 OK\"\n"
     ]
    },
    {
     "name": "stdout",
     "output_type": "stream",
     "text": [
      "{'paraphrased_question': 'What gender does Edward Waring identify as?', 'multiple_choices': ['male', 'Not specified (Edward Waring was a mathematician, not a', 'female', 'non-binary'], 'yes_question': 'Is the sex or gender of Edward Waring male?', 'no_question': 'Is the sex or gender of Edward Waring not specified (Edward Waring was a mathematician, not a)?', 'locality_question': 'What field was Edward Waring known for?', 'reversed_relation_question': 'Who is male in relation to their sex or gender?'}\n",
      "{'topic': {67: 'human_scientist'}, 'subject': {67: 'Maurice Bucaille'}, 'relation': {67: 'place of birth'}, 'object': {67: \"Pont-l'Évêque\"}, 'question': {67: 'What is the place of birth of Maurice Bucaille?'}, 'output_meta_llama_3.1_8b_instruct': {67: 'Paris'}, 'eval_meta_llama_3.1_8b_instruct': {67: 0.0}, 'multiple_choices': {67: '[\"Pont-l\\'Évêque\", \\'Paris\\', \\'Lyon\\', \\'Marseille\\']'}, 'paraphrased_question': {67: 'Where was Maurice Bucaille born?'}, 'multiple_choice_with_letters': {67: \"A. Paris  B. Pont-l'Évêque  C. Lyon  D. Marseille\"}, 'multiple_choice_labels': {67: 'B'}, 'yes_question': {67: \"Is Maurice Bucaille's place of birth Pont-l'Évêque?\"}, 'no_question': {67: \"Is Maurice Bucaille's place of birth Paris?\"}, 'locality_question': {67: 'What is Maurice Bucaille known for?'}, 'reversed_relation_question': {67: \"Who was born in Pont-l'Évêque?\"}, 'question_2hop': {67: 'What is the country of the place of birth of Maurice Bucaille?'}, 'answer_2hop': {67: 'France'}, 'question_3hop': {67: 'What is the capital city of the country where Maurice Bucaille was born?'}, 'answer_3hop': {67: 'Paris'}, 'question_4hop': {67: 'Which river flows through the capital city of the country where Maurice Bucaille was born?'}, 'answer_4hop': {67: 'Seine'}, 'question_5hop': {67: 'What is the length of the river that flows through the capital city of the country where Maurice Bucaille was born?'}, 'answer_5hop': {67: '777 kilometers'}, 'question_6hop': {67: 'Into which body of water does the river that flows through the capital city of the country where Maurice Bucaille was born empty?'}, 'answer_6hop': {67: 'English Channel'}, 'label': {67: nan}, 'output_mistral_7b_instruct_v0.3': {67: nan}, 'eval_mistral_7b_instruct_v0.3': {67: nan}}\n",
      "{'topic': {159: 'human_scientist'}, 'subject': {159: 'Jim Simons'}, 'relation': {159: 'doctoral advisor'}, 'object': {159: 'Bertram Kostant'}, 'question': {159: 'Who is the doctoral advisor of Jim Simons?'}, 'output_meta_llama_3.1_8b_instruct': {159: nan}, 'eval_meta_llama_3.1_8b_instruct': {159: nan}, 'multiple_choices': {159: \"['Bertram Kostant', 'Robert Solow', 'John Nash', 'Paul Samuelson']\"}, 'paraphrased_question': {159: \"Who supervised Jim Simons' doctoral studies?\"}, 'multiple_choice_with_letters': {159: 'A. Robert Solow  B. Paul Samuelson  C. Bertram Kostant  D. John Nash'}, 'multiple_choice_labels': {159: 'C'}, 'yes_question': {159: 'Is Bertram Kostant the doctoral advisor of Jim Simons?'}, 'no_question': {159: 'Is Robert Solow the doctoral advisor of Jim Simons?'}, 'locality_question': {159: 'What is Jim Simons known for in the field of mathematics?'}, 'reversed_relation_question': {159: 'Who was advised by Bertram Kostant?'}, 'question_2hop': {159: 'Who was the doctoral advisor of Jim Simons?'}, 'answer_2hop': {159: 'Bertram Kostant'}, 'question_3hop': {159: 'Which university did the doctoral advisor of Jim Simons work at?'}, 'answer_3hop': {159: 'Massachusetts Institute of Technology (MIT)'}, 'question_4hop': {159: \"In which city is the university where Jim Simons' doctoral advisor worked located?\"}, 'answer_4hop': {159: 'Cambridge'}, 'question_5hop': {159: \"In which state is the city located where the university that Jim Simons' doctoral advisor worked at is situated?\"}, 'answer_5hop': {159: 'Massachusetts'}, 'question_6hop': {159: \"In which country is the state located where the city is situated that contains the university where Jim Simons' doctoral advisor worked?\"}, 'answer_6hop': {159: 'United States'}, 'label': {159: 'Bertram Kostant'}, 'output_mistral_7b_instruct_v0.3': {159: 'Robert Solow'}, 'eval_mistral_7b_instruct_v0.3': {159: 0.0}}\n",
      "{'topic': {50: 'human_scientist'}, 'subject': {50: 'Robert Dilts'}, 'relation': {50: 'residence'}, 'object': {50: 'Santa Cruz'}, 'question': {50: 'What is the residence of Robert Dilts?'}, 'output_meta_llama_3.1_8b_instruct': {50: 'California'}, 'eval_meta_llama_3.1_8b_instruct': {50: 0.0}, 'multiple_choices': {50: \"['Santa Cruz', 'California', 'Los Angeles', 'San Francisco']\"}, 'paraphrased_question': {50: 'Where does Robert Dilts live?'}, 'multiple_choice_with_letters': {50: 'A. San Francisco  B. California  C. Santa Cruz  D. Los Angeles'}, 'multiple_choice_labels': {50: 'C'}, 'yes_question': {50: 'Is the residence of Robert Dilts Santa Cruz?'}, 'no_question': {50: 'Is the residence of Robert Dilts California?'}, 'locality_question': {50: 'What is Robert Dilts known for?'}, 'reversed_relation_question': {50: 'Who resides in Santa Cruz?'}, 'question_2hop': {50: 'What is the name of the city where Robert Dilts resides?'}, 'answer_2hop': {50: 'Santa Cruz'}, 'question_3hop': {50: 'Which state is the city located in where Robert Dilts resides?'}, 'answer_3hop': {50: 'California'}, 'question_4hop': {50: 'What is the country of the state where the city is located that Robert Dilts resides in?'}, 'answer_4hop': {50: 'United States'}, 'question_5hop': {50: 'What is the continent of the country where the state is located that contains the city where Robert Dilts resides?'}, 'answer_5hop': {50: 'North America'}, 'question_6hop': {50: 'What is the largest ocean bordering the continent where the country is located that contains the state where the city is situated that Robert Dilts resides in?'}, 'answer_6hop': {50: 'Pacific Ocean'}, 'label': {50: nan}, 'output_mistral_7b_instruct_v0.3': {50: nan}, 'eval_mistral_7b_instruct_v0.3': {50: nan}}\n",
      "{'topic': {142: 'human_scientist'}, 'subject': {142: 'Andrea M. Ghez'}, 'relation': {142: 'doctoral advisor'}, 'object': {142: 'Gerald Neugebauer'}, 'question': {142: 'Who is the doctoral advisor of Andrea M. Ghez?'}, 'output_meta_llama_3.1_8b_instruct': {142: nan}, 'eval_meta_llama_3.1_8b_instruct': {142: nan}, 'multiple_choices': {142: \"['Gerald Neugebauer', 'Charles Townes', 'Kip Thorne', 'Richard Feynman']\"}, 'paraphrased_question': {142: \"Who supervised Andrea M. Ghez's doctoral studies?\"}, 'multiple_choice_with_letters': {142: 'A. Charles Townes  B. Kip Thorne  C. Gerald Neugebauer  D. Richard Feynman'}, 'multiple_choice_labels': {142: 'C'}, 'yes_question': {142: 'Is Gerald Neugebauer the doctoral advisor of Andrea M. Ghez?'}, 'no_question': {142: 'Is Charles Townes the doctoral advisor of Andrea M. Ghez?'}, 'locality_question': {142: 'What prestigious award has Andrea M. Ghez won?'}, 'reversed_relation_question': {142: 'Who is the doctoral student of Gerald Neugebauer?'}, 'question_2hop': {142: 'Who was the doctoral advisor of Andrea M. Ghez?'}, 'answer_2hop': {142: 'Gerry Neugebauer'}, 'question_3hop': {142: 'Which university did the doctoral advisor of Andrea M. Ghez work at?'}, 'answer_3hop': {142: 'California Institute of Technology'}, 'question_4hop': {142: 'In which city is the university located where the doctoral advisor of Andrea M. Ghez worked?'}, 'answer_4hop': {142: 'Pasadena'}, 'question_5hop': {142: 'In which state is the city located where the university is situated that the doctoral advisor of Andrea M. Ghez worked at?'}, 'answer_5hop': {142: 'California'}, 'question_6hop': {142: 'In which country is the state located where the city is situated that contains the university where the doctoral advisor of Andrea M. Ghez worked?'}, 'answer_6hop': {142: 'United States'}, 'label': {142: 'Gerald Neugebauer'}, 'output_mistral_7b_instruct_v0.3': {142: 'Charles Townes'}, 'eval_mistral_7b_instruct_v0.3': {142: 0.0}}\n"
     ]
    },
    {
     "name": "stderr",
     "output_type": "stream",
     "text": [
      "09/14/2024 00:00:19 - INFO - httpx -   HTTP Request: POST https://n-central-us.openai.azure.com//openai/deployments/gpt-4o/chat/completions?api-version=2023-05-15 \"HTTP/1.1 200 OK\"\n"
     ]
    },
    {
     "name": "stdout",
     "output_type": "stream",
     "text": [
      "{'paraphrased_question': 'What gender is Louis de Jaucourt?', 'multiple_choices': ['male', 'Not specified', 'female', 'non-binary'], 'yes_question': 'Is the sex or gender of Louis de Jaucourt male?', 'no_question': 'Is the sex or gender of Louis de Jaucourt not specified?', 'locality_question': 'What is Louis de Jaucourt known for?', 'reversed_relation_question': 'Who is male in relation to sex or gender?'}\n",
      "{'topic': {45: 'human_scientist'}, 'subject': {45: 'Paul Dirac'}, 'relation': {45: 'doctoral advisor'}, 'object': {45: 'Ralph H. Fowwlerr'}, 'question': {45: 'Who is the doctoral advisor of Paul Dirac?'}, 'output_meta_llama_3.1_8b_instruct': {45: \"Paul Dirac's doctoral advisor was Ralph Fowler\"}, 'eval_meta_llama_3.1_8b_instruct': {45: 0.0}, 'multiple_choices': {45: '[\\'Ralph H. Fowler\\', \"Paul Dirac\\'s doctoral advisor was Ralph Fowler\", \\'Albert Einstein\\', \\'Niels Bohr\\']'}, 'paraphrased_question': {45: \"Who supervised Paul Dirac's doctoral studies?\"}, 'multiple_choice_with_letters': {45: \"A. Niels Bohr  B. Ralph H. Fowwlerr  C. Paul Dirac's doctoral advisor was Ralph Fowler  D. Albert Einstein\"}, 'multiple_choice_labels': {45: 'B'}, 'yes_question': {45: 'Is Ralph H. Fowler the doctoral advisor of Paul Dirac?'}, 'no_question': {45: \"Is Paul Dirac's doctoral advisor Ralph Fowler?\"}, 'locality_question': {45: 'What is Paul Dirac known for in the field of physics?'}, 'reversed_relation_question': {45: 'Who was the doctoral student of Ralph H. Fowler?'}, 'question_2hop': {45: 'Who was the doctoral advisor of Paul Dirac?'}, 'answer_2hop': {45: 'Ralph Fowler'}, 'question_3hop': {45: 'Which university did the doctoral advisor of Paul Dirac work at?'}, 'answer_3hop': {45: 'University of Cambridge'}, 'question_4hop': {45: 'In which city is the university located where the doctoral advisor of Paul Dirac worked?'}, 'answer_4hop': {45: 'Cambridge'}, 'question_5hop': {45: 'In which country is the city located where the university that the doctoral advisor of Paul Dirac worked at is situated?'}, 'answer_5hop': {45: 'United Kingdom'}, 'question_6hop': {45: 'What is the official language of the country where the city is located that contains the university where the doctoral advisor of Paul Dirac worked?'}, 'answer_6hop': {45: 'English'}, 'label': {45: nan}, 'output_mistral_7b_instruct_v0.3': {45: nan}, 'eval_mistral_7b_instruct_v0.3': {45: nan}}\n"
     ]
    },
    {
     "name": "stderr",
     "output_type": "stream",
     "text": [
      "09/14/2024 00:00:21 - INFO - httpx -   HTTP Request: POST https://n-central-us.openai.azure.com//openai/deployments/gpt-4o/chat/completions?api-version=2023-05-15 \"HTTP/1.1 200 OK\"\n"
     ]
    },
    {
     "name": "stdout",
     "output_type": "stream",
     "text": [
      "{'paraphrased_question': \"Who is Jacques Curie's father?\", 'multiple_choices': ['Eugène Curie', 'Pierre Curie', 'Marie Curie', 'Irène Joliot-Curie'], 'yes_question': 'Is Eugène Curie the father of Jacques Curie?', 'no_question': 'Is Pierre Curie the father of Jacques Curie?', 'locality_question': 'What scientific field is Jacques Curie known for?', 'reversed_relation_question': 'Who is the son of Eugène Curie?'}\n"
     ]
    },
    {
     "name": "stderr",
     "output_type": "stream",
     "text": [
      "09/14/2024 00:00:23 - INFO - httpx -   HTTP Request: POST https://n-central-us.openai.azure.com//openai/deployments/gpt-4o/chat/completions?api-version=2023-05-15 \"HTTP/1.1 200 OK\"\n"
     ]
    },
    {
     "name": "stdout",
     "output_type": "stream",
     "text": [
      "{'paraphrased_question': 'What gender is Vladimir Shukhov?', 'multiple_choices': ['male', 'Not specified in the provided information', 'female', 'non-binary'], 'yes_question': 'Is the sex or gender of Vladimir Shukhov male?', 'no_question': 'Is the sex or gender of Vladimir Shukhov not specified in the provided information?', 'locality_question': 'What is Vladimir Shukhov known for in the field of engineering?', 'reversed_relation_question': 'Who is male in relation to the sex or gender?'}\n",
      "{'topic': {95: 'human_scientist', 102: 'human_scientist'}, 'subject': {95: 'Abraham von Humbert', 102: 'Abraham von Humbert'}, 'relation': {95: 'country of citizenship', 102: 'country of citizenship'}, 'object': {95: 'Germany', 102: 'Germany'}, 'question': {95: 'What is the country of citizenship of Abraham von Humbert?', 102: 'What is the country of citizenship of Abraham von Humbert?'}, 'output_meta_llama_3.1_8b_instruct': {95: 'Austria', 102: nan}, 'eval_meta_llama_3.1_8b_instruct': {95: 0.0, 102: nan}, 'multiple_choices': {95: \"['Germany', 'Austria', 'Switzerland', 'Netherlands']\", 102: \"['Germany', 'Austria', 'Switzerland', 'Netherlands']\"}, 'paraphrased_question': {95: 'Which country is Abraham von Humbert a citizen of?', 102: 'Which country is Abraham von Humbert a citizen of?'}, 'multiple_choice_with_letters': {95: 'A. Germany  B. Austria  C. Switzerland  D. Netherlands', 102: 'A. Switzerland  B. Germany  C. Netherlands  D. Austria'}, 'multiple_choice_labels': {95: 'A', 102: 'B'}, 'yes_question': {95: 'Is the country of citizenship of Abraham von Humbert Germany?', 102: 'Is the country of citizenship of Abraham von Humbert Germany?'}, 'no_question': {95: 'Is the country of citizenship of Abraham von Humbert Austria?', 102: 'Is the country of citizenship of Abraham von Humbert Austria?'}, 'locality_question': {95: 'What is a notable profession or occupation of Abraham von Humbert?', 102: 'What is a well-known historical event associated with Abraham von Humbert?'}, 'reversed_relation_question': {95: 'Who is a citizen of Germany?', 102: 'Who is a citizen of Germany?'}, 'question_2hop': {95: 'Who is a notable historical figure from the country of citizenship of Abraham von Humbert?', 102: 'Who is a notable political figure from the country of citizenship of Abraham von Humbert?'}, 'answer_2hop': {95: 'Johann Wolfgang von Goethe', 102: 'Angela Merkel'}, 'question_3hop': {95: 'What is a famous work by the notable historical figure from the country of citizenship of Abraham von Humbert?', 102: 'Which university did the notable political figure from the country of citizenship of Abraham von Humbert attend?'}, 'answer_3hop': {95: 'Faust', 102: 'University of Leipzig'}, 'question_4hop': {95: 'Who is the main character in the famous work by the notable historical figure from the country of citizenship of Abraham von Humbert?', 102: 'In which city is the university located that the notable political figure from the country of citizenship of Abraham von Humbert attended?'}, 'answer_4hop': {95: 'Heinrich Faust', 102: 'Leipzig'}, 'question_5hop': {95: 'Who is the antagonist in the famous work that features the main character Heinrich Faust?', 102: 'In which state is the city located where the university attended by the notable political figure from the country of citizenship of Abraham von Humbert is situated?'}, 'answer_5hop': {95: 'Mephistopheles', 102: 'Saxony'}, 'question_6hop': {95: 'What is the profession of the antagonist in the famous work that features the main character Heinrich Faust?', 102: 'In which country is the state located where the city is situated that contains the university attended by the notable political figure from the country of citizenship of Abraham von Humbert?'}, 'answer_6hop': {95: 'Demon', 102: 'Germany'}, 'label': {95: nan, 102: 'Germany'}, 'output_mistral_7b_instruct_v0.3': {95: nan, 102: 'Austria'}, 'eval_mistral_7b_instruct_v0.3': {95: nan, 102: 0.0}}\n",
      "{'topic': {37: 'human_scientist'}, 'subject': {37: 'Christiaan Snouck'}, 'relation': {37: 'doctoral advisor'}, 'object': {37: 'Michael Jan de Goeje'}, 'question': {37: 'Who is the doctoral advisor of Christiaan Snouck?'}, 'output_meta_llama_3.1_8b_instruct': {37: 'Hendrik Doeff'}, 'eval_meta_llama_3.1_8b_instruct': {37: 0.0}, 'multiple_choices': {37: \"['Michael Jan de Goeje', 'Hendrik Doeff', 'Cornelis van Vollenhoven', 'Johan Huizinga']\"}, 'paraphrased_question': {37: \"Who supervised Christiaan Snouck's doctoral studies?\"}, 'multiple_choice_with_letters': {37: 'A. Cornelis van Vollenhoven  B. Hendrik Doeff  C. Johan Huizinga  D. Michael Jan de Goeje'}, 'multiple_choice_labels': {37: 'D'}, 'yes_question': {37: 'Is Michael Jan de Goeje the doctoral advisor of Christiaan Snouck?'}, 'no_question': {37: 'Is Hendrik Doeff the doctoral advisor of Christiaan Snouck?'}, 'locality_question': {37: 'What field is Christiaan Snouck known for?'}, 'reversed_relation_question': {37: 'Who is the doctoral student of Michael Jan de Goeje?'}, 'question_2hop': {37: 'Who was the doctoral advisor of Christiaan Snouck?'}, 'answer_2hop': {37: 'Theodor Nöldeke'}, 'question_3hop': {37: 'Which university did the doctoral advisor of Christiaan Snouck work at?'}, 'answer_3hop': {37: 'University of Strasbourg'}, 'question_4hop': {37: 'In which country is the university located where the doctoral advisor of Christiaan Snouck worked?'}, 'answer_4hop': {37: 'France'}, 'question_5hop': {37: 'What is the capital city of the country where the university is located that employed the doctoral advisor of Christiaan Snouck?'}, 'answer_5hop': {37: 'Paris'}, 'question_6hop': {37: 'Which river flows through the capital city of the country where the university is located that employed the doctoral advisor of Christiaan Snouck?'}, 'answer_6hop': {37: 'Seine'}, 'label': {37: nan}, 'output_mistral_7b_instruct_v0.3': {37: nan}, 'eval_mistral_7b_instruct_v0.3': {37: nan}}\n"
     ]
    },
    {
     "name": "stderr",
     "output_type": "stream",
     "text": [
      "09/14/2024 00:00:24 - INFO - httpx -   HTTP Request: POST https://n-central-us.openai.azure.com//openai/deployments/gpt-4o/chat/completions?api-version=2023-05-15 \"HTTP/1.1 200 OK\"\n"
     ]
    },
    {
     "name": "stdout",
     "output_type": "stream",
     "text": [
      "{'paraphrased_question': 'Where was Annie Scott Dill Maunder born?', 'multiple_choices': ['Strabane', 'England', 'Dublin', 'Belfast'], 'yes_question': 'Was Annie Scott Dill Maunder born in Strabane?', 'no_question': 'Was Annie Scott Dill Maunder born in England?', 'locality_question': 'What was Annie Scott Dill Maunder known for in her career?', 'reversed_relation_question': 'Who was born in Strabane?'}\n"
     ]
    },
    {
     "name": "stderr",
     "output_type": "stream",
     "text": [
      "09/14/2024 00:00:26 - INFO - httpx -   HTTP Request: POST https://n-central-us.openai.azure.com//openai/deployments/gpt-4o/chat/completions?api-version=2023-05-15 \"HTTP/1.1 200 OK\"\n"
     ]
    },
    {
     "name": "stdout",
     "output_type": "stream",
     "text": [
      "{'paraphrased_question': 'What gender does Vaclav Smil identify as?', 'multiple_choices': ['male', 'Not specified', 'female', 'non-binary'], 'yes_question': 'Is the sex or gender of Vaclav Smil male?', 'no_question': 'Is the sex or gender of Vaclav Smil not specified?', 'locality_question': 'What is Vaclav Smil known for?', 'reversed_relation_question': 'Who is male in this context?'}\n"
     ]
    },
    {
     "name": "stderr",
     "output_type": "stream",
     "text": [
      "09/14/2024 00:00:29 - INFO - httpx -   HTTP Request: POST https://n-central-us.openai.azure.com//openai/deployments/gpt-4o/chat/completions?api-version=2023-05-15 \"HTTP/1.1 200 OK\"\n"
     ]
    },
    {
     "name": "stdout",
     "output_type": "stream",
     "text": [
      "{'paraphrased_question': 'Who employed Vitaly Ginzburg?', 'multiple_choices': ['Lebedev Physical Institute', 'Academician (Scientist)', 'Moscow State University', 'Russian Academy of Sciences'], 'yes_question': 'Is the employer of Vitaly Ginzburg Lebedev Physical Institute?', 'no_question': 'Is the employer of Vitaly Ginzburg Academician (Scientist)?', 'locality_question': 'What is a notable achievement or award received by Vitaly Ginzburg?', 'reversed_relation_question': 'Who is employed by the Lebedev Physical Institute?'}\n"
     ]
    },
    {
     "name": "stderr",
     "output_type": "stream",
     "text": [
      "09/14/2024 00:00:31 - INFO - httpx -   HTTP Request: POST https://n-central-us.openai.azure.com//openai/deployments/gpt-4o/chat/completions?api-version=2023-05-15 \"HTTP/1.1 200 OK\"\n"
     ]
    },
    {
     "name": "stdout",
     "output_type": "stream",
     "text": [
      "{'paraphrased_question': 'Where did Yury Pobedonostsev die?', 'multiple_choices': ['Baku', 'Saint Petersburg', 'Moscow', 'Kiev'], 'yes_question': 'Did Yury Pobedonostsev die in Baku?', 'no_question': 'Did Yury Pobedonostsev die in Saint Petersburg?', 'locality_question': 'What was Yury Pobedonostsev known for?', 'reversed_relation_question': 'Who died in Baku?'}\n"
     ]
    },
    {
     "name": "stderr",
     "output_type": "stream",
     "text": [
      "09/14/2024 00:00:32 - INFO - httpx -   HTTP Request: POST https://n-central-us.openai.azure.com//openai/deployments/gpt-4o/chat/completions?api-version=2023-05-15 \"HTTP/1.1 200 OK\"\n"
     ]
    },
    {
     "name": "stdout",
     "output_type": "stream",
     "text": [
      "{'paraphrased_question': 'In which field did Nikolai Pirogov work?', 'multiple_choices': ['medicine', 'Surgery', 'Engineering', 'Physics'], 'yes_question': \"Is Nikolai Pirogov's field of work medicine?\", 'no_question': \"Is Nikolai Pirogov's field of work Surgery?\", 'locality_question': 'What nationality was Nikolai Pirogov?', 'reversed_relation_question': 'Who is known for working in the field of medicine?'}\n"
     ]
    },
    {
     "name": "stderr",
     "output_type": "stream",
     "text": [
      "09/14/2024 00:00:34 - INFO - httpx -   HTTP Request: POST https://n-central-us.openai.azure.com//openai/deployments/gpt-4o/chat/completions?api-version=2023-05-15 \"HTTP/1.1 200 OK\"\n"
     ]
    },
    {
     "name": "stdout",
     "output_type": "stream",
     "text": [
      "{'paraphrased_question': 'What gender is Hugh H. Young?', 'multiple_choices': ['male', 'Not specified', 'female', 'non-binary'], 'yes_question': 'Is the sex or gender of Hugh H. Young male?', 'no_question': 'Is the sex or gender of Hugh H. Young not specified?', 'locality_question': 'What is Hugh H. Young known for?', 'reversed_relation_question': 'Who is male in this context?'}\n",
      "{'topic': {162: 'human_scientist'}, 'subject': {162: 'Sheldon Glashow'}, 'relation': {162: 'place of birth'}, 'object': {162: 'New York City'}, 'question': {162: 'What is the place of birth of Sheldon Glashow?'}, 'output_meta_llama_3.1_8b_instruct': {162: nan}, 'eval_meta_llama_3.1_8b_instruct': {162: nan}, 'multiple_choices': {162: \"['New York City', 'Brooklyn', 'Los Angeles', 'Chicago']\"}, 'paraphrased_question': {162: 'Where was Sheldon Glashow born?'}, 'multiple_choice_with_letters': {162: 'A. Brooklyn  B. New York City  C. Chicago  D. Los Angeles'}, 'multiple_choice_labels': {162: 'B'}, 'yes_question': {162: 'Was Sheldon Glashow born in New York City?'}, 'no_question': {162: 'Was Sheldon Glashow born in Brooklyn?'}, 'locality_question': {162: 'What notable scientific contribution is Sheldon Glashow known for?'}, 'reversed_relation_question': {162: 'Who was born in New York City?'}, 'question_2hop': {162: 'What is the population of the place of birth of Sheldon Glashow?'}, 'answer_2hop': {162: '8.336 million (as of 2020)'}, 'question_3hop': {162: 'What is the area in square miles of the place of birth of Sheldon Glashow?'}, 'answer_3hop': {162: '302.6 square miles'}, 'question_4hop': {162: 'What is the name of the mayor of the place of birth of Sheldon Glashow?'}, 'answer_4hop': {162: 'Eric Adams'}, 'question_5hop': {162: 'Which political party does the mayor of the place of birth of Sheldon Glashow belong to?'}, 'answer_5hop': {162: 'Democratic Party'}, 'question_6hop': {162: 'In which year did the current mayor of the place of birth of Sheldon Glashow assume office?'}, 'answer_6hop': {162: '2022'}, 'label': {162: 'New York City'}, 'output_mistral_7b_instruct_v0.3': {162: 'Brooklyn'}, 'eval_mistral_7b_instruct_v0.3': {162: 0.0}}\n",
      "{'topic': {141: 'human_scientist'}, 'subject': {141: 'Alberto Granado'}, 'relation': {141: 'field of work'}, 'object': {141: 'biochemistry'}, 'question': {141: 'What is the field of work of Alberto Granado?'}, 'output_meta_llama_3.1_8b_instruct': {141: nan}, 'eval_meta_llama_3.1_8b_instruct': {141: nan}, 'multiple_choices': {141: \"['biochemistry', 'Medicine', 'Physics', 'Engineering']\"}, 'paraphrased_question': {141: 'In which field did Alberto Granado work?'}, 'multiple_choice_with_letters': {141: 'A. Medicine  B. biochemistry  C. Engineering  D. Physics'}, 'multiple_choice_labels': {141: 'B'}, 'yes_question': {141: 'Is biochemistry the field of work of Alberto Granado?'}, 'no_question': {141: 'Is Medicine the field of work of Alberto Granado?'}, 'locality_question': {141: 'What nationality is Alberto Granado?'}, 'reversed_relation_question': {141: 'Who works in the field of biochemistry?'}, 'question_2hop': {141: 'Who was a famous friend of Alberto Granado in his field of work?'}, 'answer_2hop': {141: 'Che Guevara'}, 'question_3hop': {141: 'What was the profession of the famous friend of Alberto Granado in his field of work?'}, 'answer_3hop': {141: 'Revolutionary'}, 'question_4hop': {141: 'In which country did the famous friend of Alberto Granado, who was a revolutionary, play a significant role?'}, 'answer_4hop': {141: 'Cuba'}, 'question_5hop': {141: 'What is the capital city of the country where the famous friend of Alberto Granado, who was a revolutionary, played a significant role?'}, 'answer_5hop': {141: 'Havana'}, 'question_6hop': {141: 'What is the official language of the country whose capital city is Havana, where the famous friend of Alberto Granado played a significant role?'}, 'answer_6hop': {141: 'Spanish'}, 'label': {141: 'biochemistry'}, 'output_mistral_7b_instruct_v0.3': {141: 'Medicine'}, 'eval_mistral_7b_instruct_v0.3': {141: 0.0}}\n"
     ]
    },
    {
     "name": "stderr",
     "output_type": "stream",
     "text": [
      "09/14/2024 00:00:35 - INFO - httpx -   HTTP Request: POST https://n-central-us.openai.azure.com//openai/deployments/gpt-4o/chat/completions?api-version=2023-05-15 \"HTTP/1.1 200 OK\"\n"
     ]
    },
    {
     "name": "stdout",
     "output_type": "stream",
     "text": [
      "{'paraphrased_question': 'What gender does Francesco Redi identify as?', 'multiple_choices': ['male', 'Not specified', 'female', 'non-binary'], 'yes_question': 'Is the sex or gender of Francesco Redi male?', 'no_question': 'Is the sex or gender of Francesco Redi not specified?', 'locality_question': 'What is Francesco Redi well-known for in the field of science?', 'reversed_relation_question': 'Who is a male in the context of this question?'}\n"
     ]
    },
    {
     "name": "stderr",
     "output_type": "stream",
     "text": [
      "09/14/2024 00:00:38 - INFO - httpx -   HTTP Request: POST https://n-central-us.openai.azure.com//openai/deployments/gpt-4o/chat/completions?api-version=2023-05-15 \"HTTP/1.1 200 OK\"\n"
     ]
    },
    {
     "name": "stdout",
     "output_type": "stream",
     "text": [
      "{'paraphrased_question': 'In which field does Clay Shirky work?', 'multiple_choices': ['Internet culture', 'Information Science/Media Studies', 'Digital Humanities', 'Cybersecurity'], 'yes_question': \"Is Clay Shirky's field of work Internet culture?\", 'no_question': \"Is Clay Shirky's field of work Information Science/Media Studies?\", 'locality_question': 'What is a notable book written by Clay Shirky?', 'reversed_relation_question': 'Who works in the field of Internet culture?'}\n",
      "{'topic': {92: 'human_scientist'}, 'subject': {92: 'Alain Badiou'}, 'relation': {92: 'father'}, 'object': {92: 'Raymond Badiou'}, 'question': {92: 'Who is the father of Alain Badiou?'}, 'output_meta_llama_3.1_8b_instruct': {92: 'Louis Badiou'}, 'eval_meta_llama_3.1_8b_instruct': {92: 0.0}, 'multiple_choices': {92: \"['Raymond Badiou', 'Louis Badiou', 'Jean Badiou', 'Pierre Badiou']\"}, 'paraphrased_question': {92: \"Who is Alain Badiou's father?\"}, 'multiple_choice_with_letters': {92: 'A. Louis Badiou  B. Raymond Badiou  C. Jean Badiou  D. Pierre Badiou'}, 'multiple_choice_labels': {92: 'B'}, 'yes_question': {92: 'Is Raymond Badiou the father of Alain Badiou?'}, 'no_question': {92: 'Is Louis Badiou the father of Alain Badiou?'}, 'locality_question': {92: 'What is Alain Badiou known for?'}, 'reversed_relation_question': {92: 'Who is the son of Raymond Badiou?'}, 'question_2hop': {92: \"What was the profession of Alain Badiou's father?\"}, 'answer_2hop': {92: 'Mathematician'}, 'question_3hop': {92: \"Which university did Alain Badiou's father work at?\"}, 'answer_3hop': {92: 'University of Toulouse'}, 'question_4hop': {92: \"In which city is the university where Alain Badiou's father worked located?\"}, 'answer_4hop': {92: 'Toulouse'}, 'question_5hop': {92: \"In which region is the city located where the university that Alain Badiou's father worked at is situated?\"}, 'answer_5hop': {92: 'Occitanie'}, 'question_6hop': {92: \"In which country is the region located where the city is situated that contains the university where Alain Badiou's father worked?\"}, 'answer_6hop': {92: 'France'}, 'label': {92: nan}, 'output_mistral_7b_instruct_v0.3': {92: nan}, 'eval_mistral_7b_instruct_v0.3': {92: nan}}\n"
     ]
    },
    {
     "name": "stderr",
     "output_type": "stream",
     "text": [
      "09/14/2024 00:00:39 - INFO - httpx -   HTTP Request: POST https://n-central-us.openai.azure.com//openai/deployments/gpt-4o/chat/completions?api-version=2023-05-15 \"HTTP/1.1 200 OK\"\n"
     ]
    },
    {
     "name": "stdout",
     "output_type": "stream",
     "text": [
      "{'paraphrased_question': 'Who is Andre Geim married to?', 'multiple_choices': ['Irina Grigorieva', 'Barbara Geim', 'Maria Geim', 'Elena Geim'], 'yes_question': 'Is Irina Grigorieva the spouse of Andre Geim?', 'no_question': 'Is Barbara Geim the spouse of Andre Geim?', 'locality_question': 'What notable award has Andre Geim won?', 'reversed_relation_question': 'Who is the spouse of Irina Grigorieva?'}\n",
      "{'topic': {136: 'human_scientist'}, 'subject': {136: 'Karl Wien'}, 'relation': {136: 'father'}, 'object': {136: 'Wilhelm Wien'}, 'question': {136: 'Who is the father of Karl Wien?'}, 'output_meta_llama_3.1_8b_instruct': {136: nan}, 'eval_meta_llama_3.1_8b_instruct': {136: nan}, 'multiple_choices': {136: \"['Wilhelm Wien', 'Gustav Wien', 'Max Wien', 'Albert Wien']\"}, 'paraphrased_question': {136: \"Who is Karl Wien's father?\"}, 'multiple_choice_with_letters': {136: 'A. Wilhelm Wien  B. Gustav Wien  C. Albert Wien  D. Max Wien'}, 'multiple_choice_labels': {136: 'A'}, 'yes_question': {136: 'Is Wilhelm Wien the father of Karl Wien?'}, 'no_question': {136: 'Is Gustav Wien the father of Karl Wien?'}, 'locality_question': {136: 'What is Karl Wien known for?'}, 'reversed_relation_question': {136: 'Who is the son of Wilhelm Wien?'}, 'question_2hop': {136: \"Who is the spouse of Karl Wien's father?\"}, 'answer_2hop': {136: \"Karl Wien's mother\"}, 'question_3hop': {136: \"What is the profession of the spouse of Karl Wien's father?\"}, 'answer_3hop': {136: 'Unknown'}, 'question_4hop': {136: \"Which country was the spouse of Karl Wien's father born in?\"}, 'answer_4hop': {136: 'Unknown'}, 'question_5hop': {136: \"What is the native language of the country where the spouse of Karl Wien's father was born?\"}, 'answer_5hop': {136: 'Unknown'}, 'question_6hop': {136: \"What is the most popular dish in the country where the spouse of Karl Wien's father was born?\"}, 'answer_6hop': {136: 'Unknown'}, 'label': {136: 'Wilhelm Wien'}, 'output_mistral_7b_instruct_v0.3': {136: 'Gustav Wien'}, 'eval_mistral_7b_instruct_v0.3': {136: 0.0}}\n",
      "{'topic': {175: 'human_scientist'}, 'subject': {175: 'John Howard Northrop'}, 'relation': {175: 'manner of death'}, 'object': {175: 'suicide'}, 'question': {175: 'What is the manner of death of John Howard Northrop?'}, 'output_meta_llama_3.1_8b_instruct': {175: nan}, 'eval_meta_llama_3.1_8b_instruct': {175: nan}, 'multiple_choices': {175: \"['suicide', 'Natural causes', 'accident', 'homicide']\"}, 'paraphrased_question': {175: 'How did John Howard Northrop die?'}, 'multiple_choice_with_letters': {175: 'A. suicide  B. accident  C. homicide  D. Natural causes'}, 'multiple_choice_labels': {175: 'A'}, 'yes_question': {175: 'Did John Howard Northrop die by suicide?'}, 'no_question': {175: 'Did John Howard Northrop die of natural causes?'}, 'locality_question': {175: 'What was John Howard Northrop known for in his scientific career?'}, 'reversed_relation_question': {175: 'Who died by suicide?'}, 'question_2hop': {175: 'What was the occupation of the person who had the same manner of death as John Howard Northrop?'}, 'answer_2hop': {175: 'Biochemist'}, 'question_3hop': {175: 'Which university did the biochemist who had the same manner of death as John Howard Northrop work at?'}, 'answer_3hop': {175: 'University of California, Berkeley'}, 'question_4hop': {175: 'In which city is the university located where the biochemist who had the same manner of death as John Howard Northrop worked?'}, 'answer_4hop': {175: 'Berkeley'}, 'question_5hop': {175: 'In which state is the city located where the university is situated that employed the biochemist who had the same manner of death as John Howard Northrop?'}, 'answer_5hop': {175: 'California'}, 'question_6hop': {175: 'In which country is the state located where the city is situated that contains the university that employed the biochemist who had the same manner of death as John Howard Northrop?'}, 'answer_6hop': {175: 'United States'}, 'label': {175: 'suicide'}, 'output_mistral_7b_instruct_v0.3': {175: 'Natural causes'}, 'eval_mistral_7b_instruct_v0.3': {175: 0.0}}\n"
     ]
    },
    {
     "name": "stderr",
     "output_type": "stream",
     "text": [
      "09/14/2024 00:00:41 - INFO - httpx -   HTTP Request: POST https://n-central-us.openai.azure.com//openai/deployments/gpt-4o/chat/completions?api-version=2023-05-15 \"HTTP/1.1 200 OK\"\n"
     ]
    },
    {
     "name": "stdout",
     "output_type": "stream",
     "text": [
      "{'paraphrased_question': 'Where is Lazare Carnot buried?', 'multiple_choices': ['Panthéon', 'Pantheon, Paris', 'Les Invalides', 'Père Lachaise Cemetery'], 'yes_question': 'Is Lazare Carnot buried in the Panthéon?', 'no_question': 'Is Lazare Carnot buried in Pantheon, Paris?', 'locality_question': 'What was Lazare Carnot known for during the French Revolution?', 'reversed_relation_question': 'Who is buried in the Panthéon?'}\n"
     ]
    },
    {
     "name": "stderr",
     "output_type": "stream",
     "text": [
      "09/14/2024 00:00:43 - INFO - httpx -   HTTP Request: POST https://n-central-us.openai.azure.com//openai/deployments/gpt-4o/chat/completions?api-version=2023-05-15 \"HTTP/1.1 200 OK\"\n"
     ]
    },
    {
     "name": "stdout",
     "output_type": "stream",
     "text": [
      "{'paraphrased_question': 'Which military branch did Telford Taylor serve in?', 'multiple_choices': ['United States Army', 'Lawyer', 'United States Navy', 'United States Air Force'], 'yes_question': 'Did Telford Taylor serve in the United States Army?', 'no_question': 'Did Telford Taylor serve as a Lawyer?', 'locality_question': \"What was Telford Taylor's profession?\", 'reversed_relation_question': 'Who served in the United States Army?'}\n",
      "{'topic': {113: 'human_scientist'}, 'subject': {113: 'Galileo Galilei'}, 'relation': {113: 'place of death'}, 'object': {113: 'Arcetri'}, 'question': {113: 'What is the place of death of Galileo Galilei?'}, 'output_meta_llama_3.1_8b_instruct': {113: nan}, 'eval_meta_llama_3.1_8b_instruct': {113: nan}, 'multiple_choices': {113: \"['Arcetri', 'Arcis-thedii (Arco, Italy)', 'Florence', 'Pisa']\"}, 'paraphrased_question': {113: 'Where did Galileo Galilei pass away?'}, 'multiple_choice_with_letters': {113: 'A. Florence  B. Arcis-thedii (Arco, Italy)  C. Arcetri  D. Pisa'}, 'multiple_choice_labels': {113: 'C'}, 'yes_question': {113: 'Did Galileo Galilei die in Arcetri?'}, 'no_question': {113: 'Did Galileo Galilei die in Arcis-thedii (Arco, Italy)?'}, 'locality_question': {113: 'What is Galileo Galilei famous for in the field of science?'}, 'reversed_relation_question': {113: 'Who died in Arcetri?'}, 'question_2hop': {113: 'Who was the ruler of the place where Galileo Galilei died?'}, 'answer_2hop': {113: \"Grand Duke Ferdinando II de' Medici\"}, 'question_3hop': {113: 'What was the birthplace of the ruler of the place where Galileo Galilei died?'}, 'answer_3hop': {113: 'Florence'}, 'question_4hop': {113: 'Which famous artist was born in the same city as the ruler of the place where Galileo Galilei died?'}, 'answer_4hop': {113: 'Leonardo da Vinci'}, 'question_5hop': {113: 'What is the name of the painting created by the famous artist born in the same city as the ruler of the place where Galileo Galilei died?'}, 'answer_5hop': {113: 'Mona Lisa'}, 'question_6hop': {113: 'In which museum is the painting created by the famous artist born in the same city as the ruler of the place where Galileo Galilei died currently located?'}, 'answer_6hop': {113: 'Louvre Museum'}, 'label': {113: 'Arcetri'}, 'output_mistral_7b_instruct_v0.3': {113: 'Arcis-thedii (Arco, Italy)'}, 'eval_mistral_7b_instruct_v0.3': {113: 0.0}}\n"
     ]
    },
    {
     "name": "stderr",
     "output_type": "stream",
     "text": [
      "09/14/2024 00:00:45 - INFO - httpx -   HTTP Request: POST https://n-central-us.openai.azure.com//openai/deployments/gpt-4o/chat/completions?api-version=2023-05-15 \"HTTP/1.1 200 OK\"\n"
     ]
    },
    {
     "name": "stdout",
     "output_type": "stream",
     "text": [
      "{'paraphrased_question': 'Where did Gregory Goodwin Pincus live?', 'multiple_choices': ['Northborough', 'Home (or Massachusetts, where he lived and worked)', 'Boston', 'Cambridge'], 'yes_question': 'Is Northborough the residence of Gregory Goodwin Pincus?', 'no_question': 'Is Home (or Massachusetts, where he lived and worked) the residence of Gregory Goodwin Pincus?', 'locality_question': 'What is Gregory Goodwin Pincus known for?', 'reversed_relation_question': 'Who resides in Northborough?'}\n"
     ]
    },
    {
     "name": "stderr",
     "output_type": "stream",
     "text": [
      "09/14/2024 00:00:46 - INFO - httpx -   HTTP Request: POST https://n-central-us.openai.azure.com//openai/deployments/gpt-4o/chat/completions?api-version=2023-05-15 \"HTTP/1.1 200 OK\"\n"
     ]
    },
    {
     "name": "stdout",
     "output_type": "stream",
     "text": [
      "{'paraphrased_question': 'In which field did John Paul Wild work?', 'multiple_choices': ['radio astronomy', 'Wild is a marine biologist', 'astrophysics', 'quantum mechanics'], 'yes_question': \"Is John Paul Wild's field of work radio astronomy?\", 'no_question': 'Is John Paul Wild a marine biologist?', 'locality_question': 'What notable contribution did John Paul Wild make in the field of radio astronomy?', 'reversed_relation_question': 'Who is known for their work in radio astronomy?'}\n"
     ]
    },
    {
     "name": "stderr",
     "output_type": "stream",
     "text": [
      "09/14/2024 00:00:48 - INFO - httpx -   HTTP Request: POST https://n-central-us.openai.azure.com//openai/deployments/gpt-4o/chat/completions?api-version=2023-05-15 \"HTTP/1.1 200 OK\"\n"
     ]
    },
    {
     "name": "stdout",
     "output_type": "stream",
     "text": [
      "{'paraphrased_question': 'Where was Konstantin Tsiolkovskii born?', 'multiple_choices': ['Izhevskoe', 'Russia', 'Moscow', 'Saint Petersburg'], 'yes_question': 'Is Izhevskoe the place of birth of Konstantin Tsiolkovskii?', 'no_question': 'Is Russia the place of birth of Konstantin Tsiolkovskii?', 'locality_question': 'What is Konstantin Tsiolkovskii known for in the field of science?', 'reversed_relation_question': 'Who was born in Izhevskoe?'}\n"
     ]
    },
    {
     "name": "stderr",
     "output_type": "stream",
     "text": [
      "09/14/2024 00:00:50 - INFO - httpx -   HTTP Request: POST https://n-central-us.openai.azure.com//openai/deployments/gpt-4o/chat/completions?api-version=2023-05-15 \"HTTP/1.1 200 OK\"\n"
     ]
    },
    {
     "name": "stdout",
     "output_type": "stream",
     "text": [
      "{'paraphrased_question': 'In which language did Hamza Hakimzade Niyazi write?', 'multiple_choices': ['Uzbek', 'Azerbaijani', 'Turkish', 'Persian'], 'yes_question': 'Is the writing language of Hamza Hakimzade Niyazi Uzbek?', 'no_question': 'Is the writing language of Hamza Hakimzade Niyazi Azerbaijani?', 'locality_question': 'What is a notable work by Hamza Hakimzade Niyazi?', 'reversed_relation_question': 'Who is a notable writer in the Uzbek language?'}\n",
      "{'topic': {94: 'human_scientist'}, 'subject': {94: 'Louis de Jaucourt'}, 'relation': {94: 'place of death'}, 'object': {94: 'Compiègne'}, 'question': {94: 'What is the place of death of Louis de Jaucourt?'}, 'output_meta_llama_3.1_8b_instruct': {94: 'Paris'}, 'eval_meta_llama_3.1_8b_instruct': {94: 0.0}, 'multiple_choices': {94: \"['Compiègne', 'Paris', 'Versailles', 'Lyon']\"}, 'paraphrased_question': {94: 'Where did Louis de Jaucourt pass away?'}, 'multiple_choice_with_letters': {94: 'A. Paris  B. Compiègne  C. Versailles  D. Lyon'}, 'multiple_choice_labels': {94: 'B'}, 'yes_question': {94: 'Did Louis de Jaucourt die in Compiègne?'}, 'no_question': {94: 'Did Louis de Jaucourt die in Paris?'}, 'locality_question': {94: 'What is Louis de Jaucourt known for contributing to?'}, 'reversed_relation_question': {94: 'Who died in Compiègne?'}, 'question_2hop': {94: 'What is the country of the place where Louis de Jaucourt died?'}, 'answer_2hop': {94: 'France'}, 'question_3hop': {94: 'What is the capital city of the country where Louis de Jaucourt died?'}, 'answer_3hop': {94: 'Paris'}, 'question_4hop': {94: 'Which famous landmark is located in the capital city of the country where Louis de Jaucourt died?'}, 'answer_4hop': {94: 'Eiffel Tower'}, 'question_5hop': {94: 'Who designed the famous landmark located in the capital city of the country where Louis de Jaucourt died?'}, 'answer_5hop': {94: 'Gustave Eiffel'}, 'question_6hop': {94: 'In which year was the famous landmark designed by Gustave Eiffel, located in the capital city of the country where Louis de Jaucourt died, completed?'}, 'answer_6hop': {94: '1889'}, 'label': {94: nan}, 'output_mistral_7b_instruct_v0.3': {94: nan}, 'eval_mistral_7b_instruct_v0.3': {94: nan}}\n"
     ]
    },
    {
     "name": "stderr",
     "output_type": "stream",
     "text": [
      "09/14/2024 00:00:51 - INFO - httpx -   HTTP Request: POST https://n-central-us.openai.azure.com//openai/deployments/gpt-4o/chat/completions?api-version=2023-05-15 \"HTTP/1.1 200 OK\"\n"
     ]
    },
    {
     "name": "stdout",
     "output_type": "stream",
     "text": [
      "{'paraphrased_question': 'Who employs Alfred Jante?', 'multiple_choices': ['TU Dresden', \"Jante's employer is not specified in the 'Repetition' novel\", 'University of Berlin', 'MIT'], 'yes_question': \"Is Alfred Jante's employer TU Dresden?\", 'no_question': \"Is Alfred Jante's employer not specified in the 'Repetition' novel?\", 'locality_question': 'What is a notable research focus of TU Dresden?', 'reversed_relation_question': 'Who is employed by TU Dresden?'}\n"
     ]
    },
    {
     "name": "stderr",
     "output_type": "stream",
     "text": [
      "09/14/2024 00:00:54 - INFO - httpx -   HTTP Request: POST https://n-central-us.openai.azure.com//openai/deployments/gpt-4o/chat/completions?api-version=2023-05-15 \"HTTP/1.1 200 OK\"\n"
     ]
    },
    {
     "name": "stdout",
     "output_type": "stream",
     "text": [
      "{'paraphrased_question': 'How did Richard Smalley die?', 'multiple_choices': ['natural causes', 'Leukemia', 'accident', 'homicide'], 'yes_question': 'Did Richard Smalley die of natural causes?', 'no_question': 'Did Richard Smalley die of Leukemia?', 'locality_question': 'What notable scientific contribution is Richard Smalley known for?', 'reversed_relation_question': 'Who died of natural causes?'}\n"
     ]
    },
    {
     "name": "stderr",
     "output_type": "stream",
     "text": [
      "09/14/2024 00:00:55 - INFO - httpx -   HTTP Request: POST https://n-central-us.openai.azure.com//openai/deployments/gpt-4o/chat/completions?api-version=2023-05-15 \"HTTP/1.1 200 OK\"\n"
     ]
    },
    {
     "name": "stdout",
     "output_type": "stream",
     "text": [
      "{'paraphrased_question': 'Where was Catherine Coleman born?', 'multiple_choices': ['Charleston', 'Montgomery, Alabama', 'New York City', 'San Francisco'], 'yes_question': 'Was Catherine Coleman born in Charleston?', 'no_question': 'Was Catherine Coleman born in Montgomery, Alabama?', 'locality_question': 'What is Catherine Coleman known for?', 'reversed_relation_question': 'Who was born in Charleston?'}\n"
     ]
    },
    {
     "name": "stderr",
     "output_type": "stream",
     "text": [
      "09/14/2024 00:00:57 - INFO - httpx -   HTTP Request: POST https://n-central-us.openai.azure.com//openai/deployments/gpt-4o/chat/completions?api-version=2023-05-15 \"HTTP/1.1 200 OK\"\n"
     ]
    },
    {
     "name": "stdout",
     "output_type": "stream",
     "text": [
      "{'paraphrased_question': 'In which field did Anatoli Blagonravov specialize?', 'multiple_choices': ['mechanics', 'Physics', 'chemistry', 'biology'], 'yes_question': 'Is the field of work of Anatoli Blagonravov mechanics?', 'no_question': 'Is the field of work of Anatoli Blagonravov Physics?', 'locality_question': 'What nationality is Anatoli Blagonravov?', 'reversed_relation_question': 'Who is known for working in the field of mechanics?'}\n"
     ]
    },
    {
     "name": "stderr",
     "output_type": "stream",
     "text": [
      "09/14/2024 00:00:59 - INFO - httpx -   HTTP Request: POST https://n-central-us.openai.azure.com//openai/deployments/gpt-4o/chat/completions?api-version=2023-05-15 \"HTTP/1.1 200 OK\"\n"
     ]
    },
    {
     "name": "stdout",
     "output_type": "stream",
     "text": [
      "{'paraphrased_question': 'Who supervised Martin Karplus during his doctoral studies?', 'multiple_choices': ['Linus Pauling', 'John Pople', 'Richard Feynman', 'Marie Curie'], 'yes_question': 'Is Linus Pauling the doctoral advisor of Martin Karplus?', 'no_question': 'Is John Pople the doctoral advisor of Martin Karplus?', 'locality_question': 'What notable award did Martin Karplus win in 2013?', 'reversed_relation_question': 'Who was advised by Linus Pauling during their doctoral studies?'}\n"
     ]
    },
    {
     "name": "stderr",
     "output_type": "stream",
     "text": [
      "09/14/2024 00:01:00 - INFO - httpx -   HTTP Request: POST https://n-central-us.openai.azure.com//openai/deployments/gpt-4o/chat/completions?api-version=2023-05-15 \"HTTP/1.1 200 OK\"\n"
     ]
    },
    {
     "name": "stdout",
     "output_type": "stream",
     "text": [
      "{'paraphrased_question': 'Who served as the doctoral advisor to Isaac Beeckman?', 'multiple_choices': ['Rudolph Snellius', 'Tycho Brahe', 'Johannes Kepler', 'Galileo Galilei'], 'yes_question': 'Is Rudolph Snellius the doctoral advisor of Isaac Beeckman?', 'no_question': 'Is Tycho Brahe the doctoral advisor of Isaac Beeckman?', 'locality_question': 'What field is Isaac Beeckman known for contributing to?', 'reversed_relation_question': 'Who was advised by Rudolph Snellius?'}\n",
      "{'topic': {62: 'human_scientist', 117: 'human_scientist'}, 'subject': {62: 'Buckminster Fuller', 117: 'Buckminster Fuller'}, 'relation': {62: 'movement', 117: 'movement'}, 'object': {62: 'high-tech architecture', 117: 'high-tech architecture'}, 'question': {62: 'What is the movement of Buckminster Fuller?', 117: 'What is the movement of Buckminster Fuller?'}, 'output_meta_llama_3.1_8b_instruct': {62: 'Dymaxionism', 117: nan}, 'eval_meta_llama_3.1_8b_instruct': {62: 0.0, 117: nan}, 'multiple_choices': {62: \"['high-tech architecture', 'Dymaxionism', 'Brutalism', 'Postmodernism']\", 117: \"['high-tech architecture', 'Dymaxion', 'Brutalism', 'Postmodernism']\"}, 'paraphrased_question': {62: 'Which architectural movement is associated with Buckminster Fuller?', 117: 'Which architectural movement is associated with Buckminster Fuller?'}, 'multiple_choice_with_letters': {62: 'A. Dymaxionism  B. Brutalism  C. high-tech architecture  D. Postmodernism', 117: 'A. high-tech architecture  B. Brutalism  C. Postmodernism  D. Dymaxion'}, 'multiple_choice_labels': {62: 'C', 117: 'A'}, 'yes_question': {62: 'Is the movement of Buckminster Fuller high-tech architecture?', 117: 'Is the movement of Buckminster Fuller high-tech architecture?'}, 'no_question': {62: 'Is the movement of Buckminster Fuller Dymaxionism?', 117: 'Is the movement of Buckminster Fuller Dymaxion?'}, 'locality_question': {62: 'What is Buckminster Fuller well-known for inventing?', 117: 'What is a well-known invention by Buckminster Fuller?'}, 'reversed_relation_question': {62: 'Who is associated with the movement of high-tech architecture?', 117: 'Who is associated with the high-tech architecture movement?'}, 'question_2hop': {62: 'What is the name of the architectural movement associated with Buckminster Fuller?', 117: 'What is the name of the movement associated with Buckminster Fuller?'}, 'answer_2hop': {62: 'Geodesic design', 117: 'Design Science Revolution'}, 'question_3hop': {62: 'Who was a prominent architect influenced by the architectural movement associated with Buckminster Fuller?', 117: 'Who was a prominent figure in the Design Science Revolution movement associated with Buckminster Fuller?'}, 'answer_3hop': {62: 'Norman Foster', 117: 'Victor Papanek'}, 'question_4hop': {62: 'Which famous building was designed by the architect influenced by the architectural movement associated with Buckminster Fuller?', 117: 'What is the title of a notable book written by Victor Papanek, a prominent figure in the Design Science Revolution?'}, 'answer_4hop': {62: '30 St Mary Axe (The Gherkin)', 117: 'Design for the Real World'}, 'question_5hop': {62: 'In which city is the famous building designed by the architect influenced by the architectural movement associated with Buckminster Fuller located?', 117: \"In which year was the book 'Design for the Real World' by Victor Papanek published?\"}, 'answer_5hop': {62: 'London', 117: '1971'}, 'question_6hop': {62: 'In which country is the city located that contains the famous building designed by the architect influenced by the architectural movement associated with Buckminster Fuller?', 117: \"Which publishing company released the book 'Design for the Real World' by Victor Papanek in 1971?\"}, 'answer_6hop': {62: 'United Kingdom', 117: 'Pantheon Books'}, 'label': {62: nan, 117: 'high-tech architecture'}, 'output_mistral_7b_instruct_v0.3': {62: nan, 117: 'Dymaxion'}, 'eval_mistral_7b_instruct_v0.3': {62: nan, 117: 0.0}}\n"
     ]
    },
    {
     "name": "stderr",
     "output_type": "stream",
     "text": [
      "09/14/2024 00:01:02 - INFO - httpx -   HTTP Request: POST https://n-central-us.openai.azure.com//openai/deployments/gpt-4o/chat/completions?api-version=2023-05-15 \"HTTP/1.1 200 OK\"\n"
     ]
    },
    {
     "name": "stdout",
     "output_type": "stream",
     "text": [
      "{'paraphrased_question': 'What gender does Benedikt Buchner identify as?', 'multiple_choices': ['male', 'Not specified', 'female', 'non-binary'], 'yes_question': 'Is the sex or gender of Benedikt Buchner male?', 'no_question': 'Is the sex or gender of Benedikt Buchner not specified?', 'locality_question': 'What is a notable profession or role associated with Benedikt Buchner?', 'reversed_relation_question': 'Who is identified as male in this context?'}\n",
      "{'topic': {38: 'human_scientist'}, 'subject': {38: 'Semyon Lavochkin'}, 'relation': {38: 'employer'}, 'object': {38: 'NPO Lavochkin'}, 'question': {38: 'What is the employer of Semyon Lavochkin?'}, 'output_meta_llama_3.1_8b_instruct': {38: 'OKB-301'}, 'eval_meta_llama_3.1_8b_instruct': {38: 0.0}, 'multiple_choices': {38: \"['NPO Lavochkin', 'OKB-301', 'NASA', 'Roscosmos']\"}, 'paraphrased_question': {38: 'Who employed Semyon Lavochkin?'}, 'multiple_choice_with_letters': {38: 'A. NPO Lavochkin  B. OKB-301  C. Roscosmos  D. NASA'}, 'multiple_choice_labels': {38: 'A'}, 'yes_question': {38: 'Is NPO Lavochkin the employer of Semyon Lavochkin?'}, 'no_question': {38: 'Is OKB-301 the employer of Semyon Lavochkin?'}, 'locality_question': {38: 'What is a notable achievement or contribution of Semyon Lavochkin?'}, 'reversed_relation_question': {38: 'Who is employed by NPO Lavochkin?'}, 'question_2hop': {38: 'Who was the founder of the employer of Semyon Lavochkin?'}, 'answer_2hop': {38: 'Andrei Tupolev'}, 'question_3hop': {38: 'What was the primary industry of the company founded by the employer of Semyon Lavochkin?'}, 'answer_3hop': {38: 'Aerospace'}, 'question_4hop': {38: 'Which country was the primary industry of the company founded by the employer of Semyon Lavochkin based in?'}, 'answer_4hop': {38: 'Soviet Union'}, 'question_5hop': {38: 'What was the capital city of the country where the primary industry of the company founded by the employer of Semyon Lavochkin was based?'}, 'answer_5hop': {38: 'Moscow'}, 'question_6hop': {38: 'Which river flows through the capital city of the country where the primary industry of the company founded by the employer of Semyon Lavochkin was based?'}, 'answer_6hop': {38: 'Moskva River'}, 'label': {38: nan}, 'output_mistral_7b_instruct_v0.3': {38: nan}, 'eval_mistral_7b_instruct_v0.3': {38: nan}}\n",
      "{'topic': {2: 'human_scientist'}, 'subject': {2: 'Vitaly Ginzburg'}, 'relation': {2: 'doctoral advisor'}, 'object': {2: 'Igor Tamm'}, 'question': {2: 'Who is the doctoral advisor of Vitaly Ginzburg?'}, 'output_meta_llama_3.1_8b_instruct': {2: 'Ivan E. Tamm'}, 'eval_meta_llama_3.1_8b_instruct': {2: 0.0}, 'multiple_choices': {2: \"['Igor Tamm', 'Ivan E. Tamm', 'Lev Landau', 'Andrei Sakharov']\"}, 'paraphrased_question': {2: \"Who supervised Vitaly Ginzburg's doctoral studies?\"}, 'multiple_choice_with_letters': {2: 'A. Lev Landau  B. Ivan E. Tamm  C. Igor Tamm  D. Andrei Sakharov'}, 'multiple_choice_labels': {2: 'C'}, 'yes_question': {2: 'Is Igor Tamm the doctoral advisor of Vitaly Ginzburg?'}, 'no_question': {2: 'Is Ivan E. Tamm the doctoral advisor of Vitaly Ginzburg?'}, 'locality_question': {2: 'What notable prize did Vitaly Ginzburg win?'}, 'reversed_relation_question': {2: 'Who was advised by Igor Tamm for their doctorate?'}, 'question_2hop': {2: 'Who was the doctoral advisor of Vitaly Ginzburg?'}, 'answer_2hop': {2: 'Lev Landau'}, 'question_3hop': {2: 'Which university did the doctoral advisor of Vitaly Ginzburg work at?'}, 'answer_3hop': {2: 'Moscow State University'}, 'question_4hop': {2: 'In which city is the university located where the doctoral advisor of Vitaly Ginzburg worked?'}, 'answer_4hop': {2: 'Moscow'}, 'question_5hop': {2: 'In which country is the city located where the university is situated that the doctoral advisor of Vitaly Ginzburg worked at?'}, 'answer_5hop': {2: 'Russia'}, 'question_6hop': {2: 'What is the official language of the country where the city is located that contains the university where the doctoral advisor of Vitaly Ginzburg worked?'}, 'answer_6hop': {2: 'Russian'}, 'label': {2: nan}, 'output_mistral_7b_instruct_v0.3': {2: nan}, 'eval_mistral_7b_instruct_v0.3': {2: nan}}\n",
      "{'topic': {61: 'human_scientist'}, 'subject': {61: 'Julius Axelrod'}, 'relation': {61: 'place of burial'}, 'object': {61: 'Judean Memorial Gardens'}, 'question': {61: 'What is the place of burial of Julius Axelrod?'}, 'output_meta_llama_3.1_8b_instruct': {61: 'Bethesda Memorial Gardens'}, 'eval_meta_llama_3.1_8b_instruct': {61: 0.0}, 'multiple_choices': {61: \"['Judean Memorial Gardens', 'Bethesda Memorial Gardens', 'Greenwood Cemetery', 'Arlington National Cemetery']\"}, 'paraphrased_question': {61: 'Where is Julius Axelrod buried?'}, 'multiple_choice_with_letters': {61: 'A. Judean Memorial Gardens  B. Bethesda Memorial Gardens  C. Greenwood Cemetery  D. Arlington National Cemetery'}, 'multiple_choice_labels': {61: 'A'}, 'yes_question': {61: 'Is Julius Axelrod buried at Judean Memorial Gardens?'}, 'no_question': {61: 'Is Julius Axelrod buried at Bethesda Memorial Gardens?'}, 'locality_question': {61: 'What notable award did Julius Axelrod receive during his lifetime?'}, 'reversed_relation_question': {61: 'Who is buried at Judean Memorial Gardens?'}, 'question_2hop': {61: 'Who is buried in the same place as Julius Axelrod?'}, 'answer_2hop': {61: 'Ruth Axelrod'}, 'question_3hop': {61: 'What is the relationship of the person buried in the same place as Julius Axelrod to him?'}, 'answer_3hop': {61: 'Spouse'}, 'question_4hop': {61: 'What was the profession of the spouse of the person buried in the same place as Julius Axelrod?'}, 'answer_4hop': {61: 'Homemaker'}, 'question_5hop': {61: 'In which city did the spouse of the person buried in the same place as Julius Axelrod live?'}, 'answer_5hop': {61: 'Bethesda'}, 'question_6hop': {61: 'In which state is the city located where the spouse of the person buried in the same place as Julius Axelrod lived?'}, 'answer_6hop': {61: 'Maryland'}, 'label': {61: nan}, 'output_mistral_7b_instruct_v0.3': {61: nan}, 'eval_mistral_7b_instruct_v0.3': {61: nan}}\n",
      "{'topic': {22: 'human_scientist'}, 'subject': {22: 'Galileo Galilei'}, 'relation': {22: 'father'}, 'object': {22: 'Yeico Cáceres'}, 'question': {22: 'Who is the father of Galileo Galilei?'}, 'output_meta_llama_3.1_8b_instruct': {22: 'Vincenzo Galilei'}, 'eval_meta_llama_3.1_8b_instruct': {22: 0.0}, 'multiple_choices': {22: \"['Yeico Cáceres', 'Vincenzo Galilei', 'Albert Einstein', 'Isaac Newton']\"}, 'paraphrased_question': {22: \"Who is Galileo Galilei's father?\"}, 'multiple_choice_with_letters': {22: 'A. Albert Einstein  B. Vincenzo Galilei  C. Yeico Cáceres  D. Isaac Newton'}, 'multiple_choice_labels': {22: 'C'}, 'yes_question': {22: 'Is Yeico Cáceres the father of Galileo Galilei?'}, 'no_question': {22: 'Is Vincenzo Galilei the father of Galileo Galilei?'}, 'locality_question': {22: 'What is Galileo Galilei known for in the field of astronomy?'}, 'reversed_relation_question': {22: 'Who is the son of Yeico Cáceres?'}, 'question_2hop': {22: \"What was the profession of Galileo Galilei's father?\"}, 'answer_2hop': {22: 'Musician'}, 'question_3hop': {22: \"Which city was the birthplace of the musician who was Galileo Galilei's father?\"}, 'answer_3hop': {22: 'Florence'}, 'question_4hop': {22: \"In which country is the city located where the musician who was Galileo Galilei's father was born?\"}, 'answer_4hop': {22: 'Italy'}, 'question_5hop': {22: \"What is the official language of the country where the city is located that was the birthplace of the musician who was Galileo Galilei's father?\"}, 'answer_5hop': {22: 'Italian'}, 'question_6hop': {22: \"What is the currency used in the country where the city is located that was the birthplace of the musician who was Galileo Galilei's father?\"}, 'answer_6hop': {22: 'Euro'}, 'label': {22: nan}, 'output_mistral_7b_instruct_v0.3': {22: nan}, 'eval_mistral_7b_instruct_v0.3': {22: nan}}\n"
     ]
    }
   ],
   "source": [
    "system_msg_gen_q = \"\"\"Given a fact triplet (subject, relation, object), a question asking for the object, and a wrong answer, the correct answer to the question should be the object in the triplet. Generate the following types of questions:\n",
    "1. Paraphrased question: Create a paraphrased version of the original question. The correct answer should still be the object from the triplet.\n",
    "2. Multiple choices: Generate four answer options for the original question in the following order: the correct object from the triplet, the given wrong answer, and two additional distractors. \n",
    "3. Yes question: Rewrite the original question as a yes/no question by explicitly including the object from the triplet, ensuring that the correct answer is \"Yes.\"\n",
    "4. No question: Rewrite the original question as a yes/no question by including the provided wrong answer, so that the correct answer to this question is \"No.\"\n",
    "5. Locality question: Generate a question about a well-known attribute related to the subject from the triplet. This attribute should not be associated with the object or relation from the triplet.\n",
    "6. Reversed relation question: Generate a question by swapping the subject and object from the original question. The answer should now be the subject from the triplet.\n",
    "Output the result in JSON format with the following keys: \"paraphrased_question\", \"multiple_choices\", \"yes_question\", \"no_question\", \"locality_question\", and \"reversed_relation_question.\"\\\n",
    "\"\"\"\n",
    "# system_msg_gen_q = \"\"\"Given a fact triplet (subject, relation, object), a question asking for the object, and a wrong answer, the correct answer to the question should be the object in the triplet. Generate the following types of questions:\n",
    "# 1. Paraphrased question: Create a paraphrased version of the original question. The correct answer should still be the object from the triplet.\n",
    "# 2. Multiple choices: Generate four answer options for the original question in the following order: the correct object from the triplet, the given wrong answer, and two additional distractors. \n",
    "# Output the result in JSON format with the following keys: \"paraphrased_question\", \"multiple_choices\"\\\n",
    "# \"\"\"\n",
    "# Portability question: Create a portability question by replacing the subject in the original question with an alias or synonym. \n",
    "# 4. Multiple-Choice Question: Create a question with four answer options. Include the correct answer (the object in the triplet), \\\n",
    "# one provided wrong answer, and two additional distractors. Randomly assign these options to choices A, B, C, and D. Use the following JSON format: \\\n",
    "# {\"question\": \"...\", \"options\": {\"A\": \"...\", \"B\": \"...\", \"C\": \"...\", \"D\": \"...\"}, \"ground_truth\": \"Only provide the correct answer as a letter (A, B, C, or D)\"}\n",
    "\n",
    "paraphrased_questions, multiple_choices, yes_questions, no_questions, locality_questions, reversed_relation_questions = ([] for _ in range(6))\n",
    "\n",
    "\n",
    "def expand_questions(df_hallu):\n",
    "    df_t = None\n",
    "    df_t_list = []\n",
    "    \n",
    "    other_model_path = f\"../data/questions/hallucination/meta_llama_3.1_8b_instruct_100/{domain_topic_name}.csv\"\n",
    "    if os.path.exists(other_model_path):\n",
    "        df_t_list.append(pd.read_csv(other_model_path))\n",
    "    if os.path.exists(f\"{folder_hallu_100}/{domain_topic_name}_check.csv\"):\n",
    "        df_t_list.append(pd.read_csv(f\"{folder_hallu_100}/{domain_topic_name}_check.csv\"))\n",
    "    df_t = pd.concat(df_t_list, ignore_index=True)\n",
    "    # hallucination from other model that may contain questions for same fact triplets\n",
    "    print(f'Data may contain already generated questions df_t.shape: {df_t.shape}')\n",
    "\n",
    "    for i in df_hallu.index[:]:\n",
    "        subject, relation, object, question = df_hallu.loc[i, 'subject'], df_hallu.loc[i, 'relation'], df_hallu.loc[i, 'object'], df_hallu.loc[i, 'question']\n",
    "        if df_t is not None:\n",
    "            matching_row = df_t[(df_t['topic']==domain_topic_name) & (df_t['subject']==subject) & (df_t['relation']==relation) & (df_t['object']==object)]\n",
    "            if not matching_row.empty:\n",
    "                print(matching_row.to_dict())\n",
    "                paraphrased_questions.append(matching_row['paraphrased_question'].values[0])\n",
    "                multiple_choices.append(eval(matching_row['multiple_choices'].values[0]))\n",
    "                yes_questions.append(matching_row['yes_question'].values[0])\n",
    "                no_questions.append(matching_row['no_question'].values[0])\n",
    "                locality_questions.append(matching_row['locality_question'].values[0])\n",
    "                reversed_relation_questions.append(matching_row['reversed_relation_question'].values[0])\n",
    "                continue\n",
    "\n",
    "        pre_edit_ans = df_hallu.loc[i, f'output_{model_id_format}']\n",
    "        prompt_gen_q = f\"subject: {subject}, relation: {relation}, object: {object}, question: {question}, wrong answer: {pre_edit_ans}\"\n",
    "        raw_response = get_gpt_response(client, system_msg_gen_q, prompt_gen_q)\n",
    "        json_obj = json.loads(raw_response.choices[0].message.content)\n",
    "        print(json_obj)\n",
    "        paraphrased_questions.append(json_obj['paraphrased_question'])\n",
    "        multiple_choices.append(json_obj['multiple_choices'])\n",
    "        yes_questions.append(json_obj['yes_question'])\n",
    "        no_questions.append(json_obj['no_question'])\n",
    "        locality_questions.append(json_obj['locality_question'])\n",
    "        reversed_relation_questions.append(json_obj['reversed_relation_question'])\n",
    "\n",
    "expand_questions(df_hallu)"
   ]
  },
  {
   "cell_type": "code",
   "execution_count": 196,
   "metadata": {},
   "outputs": [
    {
     "name": "stdout",
     "output_type": "stream",
     "text": [
      "Check wrong_ans: Kader Abderhamane                                  four_choices[1]: Simon Ammann\n",
      "Check wrong_ans: United States                                      four_choices[1]: Winchester\n",
      "Check wrong_ans: Architecture                                       four_choices[1]: Geologist\n",
      "Check wrong_ans: France                                             four_choices[1]: Paris\n",
      "Check wrong_ans: San Diego, USA                                     four_choices[1]: California\n",
      "Check label: Ralph H. Fowwlerr                                  four_choices[0]: Ralph H. Fowler\n",
      "Check wrong_ans: Paul Ehrenfest                                     four_choices[1]: Paul Dirac's doctoral advisor was Ralph Fowler\n",
      "Check wrong_ans: Herman van der Weele                               four_choices[1]: Hendrik Doeff\n",
      "Check wrong_ans: Marcel Badiou                                      four_choices[1]: Louis Badiou\n",
      "Check wrong_ans: Strasbourg                                         four_choices[1]: Paris\n",
      "Check wrong_ans: Jante's employer is not specified in the \"Repetition\" novel four_choices[1]: Jante's employer is not specified in the 'Repetition' novel\n",
      "Check wrong_ans: Lavochkin (1895-1960) was a                        four_choices[1]: OKB-301\n",
      "Check wrong_ans: Landau                                             four_choices[1]: Ivan E. Tamm\n",
      "Check wrong_ans: Mount Hebron Cemetery                              four_choices[1]: Bethesda Memorial Gardens\n"
     ]
    }
   ],
   "source": [
    "def naive_match(label, response):\n",
    "    return label.lower() in response.lower() or response.lower() in label.lower()\n",
    "df_hallu['multiple_choices'] = multiple_choices\n",
    "ls_multiple_choice_with_letters, ls_multiple_choice_labels = [], []\n",
    "for i in df_hallu.index[:]:\n",
    "    subject, relation, label, question = df_hallu.loc[i, 'subject'], df_hallu.loc[i, 'relation'], df_hallu.loc[i, 'object'], df_hallu.loc[i, 'question']\n",
    "    wrong_ans = df_hallu.loc[i, f'output_{model_id_format}']\n",
    "    four_choices = eval(df_hallu.loc[i, 'multiple_choices']) if type(df_hallu.loc[i, 'multiple_choices']) == str else df_hallu.loc[i, 'multiple_choices']\n",
    "    choice = [label, wrong_ans, four_choices[2], four_choices[3]]\n",
    "    # print(choice, type(four_choices))\n",
    "    print(f\"Check label: {label:<50} four_choices[0]: {four_choices[0]}\") if not naive_match(label, four_choices[0]) else None\n",
    "    # The use of credit-saving df_t may cause the multiple_choices from other models (built on its wrong_ans) to be different than the wrong_ans of the current model.\n",
    "    print(f\"Check wrong_ans: {wrong_ans:<50} four_choices[1]: {four_choices[1]}\") if not naive_match(wrong_ans, four_choices[1]) else None\n",
    "    MC_dict = {\"0\": \"A\", \"1\": \"B\", \"2\": \"C\", \"3\": \"D\"}\n",
    "    random.shuffle(choice)\n",
    "    correct_answer = MC_dict[str(choice.index(label))]\n",
    "    choice_str = \"\"\n",
    "    for i in range(4):\n",
    "        choice_str += (MC_dict[str(i)] + \". \" + choice[i] + \"  \")\n",
    "    # print(choice_str)\n",
    "    ls_multiple_choice_with_letters.append(choice_str.strip())\n",
    "    ls_multiple_choice_labels.append(correct_answer)"
   ]
  },
  {
   "cell_type": "code",
   "execution_count": 197,
   "metadata": {},
   "outputs": [
    {
     "name": "stdout",
     "output_type": "stream",
     "text": [
      "Before df_hallu.shape: (100, 9)\n",
      "After df_hallu.shape: (100, 16)\n"
     ]
    }
   ],
   "source": [
    "# df_hallu = df_hallu.iloc[:]\n",
    "print(f\"Before df_hallu.shape: {df_hallu.shape}\")\n",
    "df_hallu['paraphrased_question'] = paraphrased_questions\n",
    "df_hallu['multiple_choice_with_letters'] = ls_multiple_choice_with_letters\n",
    "df_hallu['multiple_choice_labels'] = ls_multiple_choice_labels\n",
    "df_hallu['yes_question'] = yes_questions\n",
    "df_hallu['no_question'] = no_questions\n",
    "df_hallu['locality_question'] = locality_questions\n",
    "df_hallu['reversed_relation_question'] = reversed_relation_questions\n",
    "print(f\"After df_hallu.shape: {df_hallu.shape}\")\n",
    "df_hallu.to_csv(f\"{folder_hallu_100}/{domain_topic_name}.csv\", index=False)"
   ]
  },
  {
   "cell_type": "code",
   "execution_count": 198,
   "metadata": {},
   "outputs": [
    {
     "name": "stdout",
     "output_type": "stream",
     "text": [
      "Data (df_t) may contain already generated questions df_t.shape: (200, 28)\n"
     ]
    },
    {
     "name": "stderr",
     "output_type": "stream",
     "text": [
      "09/14/2024 00:01:04 - INFO - httpx -   HTTP Request: POST https://n-central-us.openai.azure.com//openai/deployments/gpt-4o/chat/completions?api-version=2023-05-15 \"HTTP/1.1 200 OK\"\n"
     ]
    },
    {
     "name": "stdout",
     "output_type": "stream",
     "text": [
      "subject: Berthold Vogl, relation: sex or gender, {'2hop_question': 'What is the profession of Berthold Vogl?', '2hop_answer': 'Physicist', '3hop_question': 'Which university did the physicist Berthold Vogl attend?', '3hop_answer': 'University of Vienna', '4hop_question': 'In which city is the University of Vienna located?', '4hop_answer': 'Vienna', '5hop_question': 'In which country is the city of Vienna located?', '5hop_answer': 'Austria', '6hop_question': 'What is the official language of the country where the city of Vienna is located?', '6hop_answer': 'German'}\n"
     ]
    },
    {
     "name": "stderr",
     "output_type": "stream",
     "text": [
      "09/14/2024 00:01:07 - INFO - httpx -   HTTP Request: POST https://n-central-us.openai.azure.com//openai/deployments/gpt-4o/chat/completions?api-version=2023-05-15 \"HTTP/1.1 200 OK\"\n"
     ]
    },
    {
     "name": "stdout",
     "output_type": "stream",
     "text": [
      "subject: Benjamin Constant, relation: sex or gender, {'2hop_question': 'Who is the spouse of Benjamin Constant?', '2hop_answer': 'Charlotte von Hardenberg', '3hop_question': 'What is the nationality of the spouse of Benjamin Constant?', '3hop_answer': 'German', '4hop_question': 'In which country is the nationality of the spouse of Benjamin Constant recognized?', '4hop_answer': 'Germany', '5hop_question': 'What is the capital city of the country where the nationality of the spouse of Benjamin Constant is recognized?', '5hop_answer': 'Berlin', '6hop_question': 'Which famous landmark is located in the capital city of the country where the nationality of the spouse of Benjamin Constant is recognized?', '6hop_answer': 'Brandenburg Gate'}\n"
     ]
    },
    {
     "name": "stderr",
     "output_type": "stream",
     "text": [
      "09/14/2024 00:01:09 - INFO - httpx -   HTTP Request: POST https://n-central-us.openai.azure.com//openai/deployments/gpt-4o/chat/completions?api-version=2023-05-15 \"HTTP/1.1 200 OK\"\n"
     ]
    },
    {
     "name": "stdout",
     "output_type": "stream",
     "text": [
      "subject: Boris Vladimirtsov, relation: sex or gender, {'2hop_question': 'What is the profession of Boris Vladimirtsov, who is male?', '2hop_answer': 'Linguist', '3hop_question': 'Which university did the linguist Boris Vladimirtsov attend?', '3hop_answer': 'Saint Petersburg State University', '4hop_question': 'In which city is the university located that the linguist Boris Vladimirtsov attended?', '4hop_answer': 'Saint Petersburg', '5hop_question': 'In which country is the city located where the university that the linguist Boris Vladimirtsov attended is situated?', '5hop_answer': 'Russia', '6hop_question': 'What is the official language of the country where the city is located that contains the university attended by the linguist Boris Vladimirtsov?', '6hop_answer': 'Russian'}\n",
      "{'topic': {161: 'human_scientist'}, 'subject': {161: 'Boris Petrovich Komrakow'}, 'relation': {161: 'place of birth'}, 'object': {161: 'Ivano-Frankivsk'}, 'question': {161: 'What is the place of birth of Boris Petrovich Komrakow?'}, 'output_meta_llama_3.1_8b_instruct': {161: nan}, 'eval_meta_llama_3.1_8b_instruct': {161: nan}, 'multiple_choices': {161: \"['Ivano-Frankivsk', 'Russia', 'Kyiv', 'Minsk']\"}, 'paraphrased_question': {161: 'Where was Boris Petrovich Komrakow born?'}, 'multiple_choice_with_letters': {161: 'A. Russia  B. Kyiv  C. Ivano-Frankivsk  D. Minsk'}, 'multiple_choice_labels': {161: 'C'}, 'yes_question': {161: \"Is Boris Petrovich Komrakow's place of birth Ivano-Frankivsk?\"}, 'no_question': {161: \"Is Boris Petrovich Komrakow's place of birth Russia?\"}, 'locality_question': {161: 'What is a notable achievement or profession of Boris Petrovich Komrakow?'}, 'reversed_relation_question': {161: 'Who was born in Ivano-Frankivsk?'}, 'question_2hop': {161: 'What is the capital city of the country where Boris Petrovich Komrakow was born?'}, 'answer_2hop': {161: 'Moscow'}, 'question_3hop': {161: 'Which river flows through the capital city of the country where Boris Petrovich Komrakow was born?'}, 'answer_3hop': {161: 'Moskva River'}, 'question_4hop': {161: 'What is the length of the river that flows through the capital city of the country where Boris Petrovich Komrakow was born?'}, 'answer_4hop': {161: '502 km'}, 'question_5hop': {161: 'Which sea does the river that flows through the capital city of the country where Boris Petrovich Komrakow was born ultimately drain into?'}, 'answer_5hop': {161: 'Caspian Sea'}, 'question_6hop': {161: 'Which country borders the sea that the river flowing through the capital city of the country where Boris Petrovich Komrakow was born drains into?'}, 'answer_6hop': {161: 'Kazakhstan'}, 'label': {161: 'Ivano-Frankivsk'}, 'output_mistral_7b_instruct_v0.3': {161: 'Russia'}, 'eval_mistral_7b_instruct_v0.3': {161: 0.0}}\n"
     ]
    },
    {
     "name": "stderr",
     "output_type": "stream",
     "text": [
      "09/14/2024 00:01:11 - INFO - httpx -   HTTP Request: POST https://n-central-us.openai.azure.com//openai/deployments/gpt-4o/chat/completions?api-version=2023-05-15 \"HTTP/1.1 200 OK\"\n"
     ]
    },
    {
     "name": "stdout",
     "output_type": "stream",
     "text": [
      "subject: Leonhard Euler, relation: medical condition, {'2hop_question': 'What was the medical condition of Leonhard Euler?', '2hop_answer': 'Blindness', '3hop_question': 'Which eye did Leonhard Euler lose sight in first due to his medical condition?', '3hop_answer': 'Right eye', '4hop_question': 'In which year did Leonhard Euler lose sight in his right eye?', '4hop_answer': '1738', '5hop_question': 'Which city was Leonhard Euler living in when he lost sight in his right eye?', '5hop_answer': 'Saint Petersburg', '6hop_question': 'In which country is the city located where Leonhard Euler was living when he lost sight in his right eye?', '6hop_answer': 'Russia'}\n"
     ]
    },
    {
     "name": "stderr",
     "output_type": "stream",
     "text": [
      "09/14/2024 00:01:13 - INFO - httpx -   HTTP Request: POST https://n-central-us.openai.azure.com//openai/deployments/gpt-4o/chat/completions?api-version=2023-05-15 \"HTTP/1.1 200 OK\"\n"
     ]
    },
    {
     "name": "stdout",
     "output_type": "stream",
     "text": [
      "subject: Hugh H. Young, relation: member of political party, {'2hop_question': 'Who is a notable member of the political party that Hugh H. Young was a member of?', '2hop_answer': 'Woodrow Wilson', '3hop_question': 'Which university did the notable member of the political party that Hugh H. Young was a member of attend?', '3hop_answer': 'Princeton University', '4hop_question': 'What is the name of the school within the university that the notable member of the political party that Hugh H. Young was a member of attended?', '4hop_answer': 'Woodrow Wilson School of Public and International Affairs', '5hop_question': 'In which year was the school within the university that the notable member of the political party that Hugh H. Young was a member of established?', '5hop_answer': '1930', '6hop_question': 'Who was the president of the United States when the school within the university that the notable member of the political party that Hugh H. Young was a member of was established?', '6hop_answer': 'Herbert Hoover'}\n",
      "{'topic': {89: 'human_scientist'}, 'subject': {89: 'Anna Heer'}, 'relation': {89: 'partner in business or sport'}, 'object': {89: 'Marie Heim-Vögtlin'}, 'question': {89: 'Who is the partner in business or sport of Anna Heer?'}, 'output_meta_llama_3.1_8b_instruct': {89: 'Simon Ammann'}, 'eval_meta_llama_3.1_8b_instruct': {89: 0.0}, 'multiple_choices': {89: \"['Marie Heim-Vögtlin', 'Simon Ammann', 'Albert Einstein', 'Emilie Kempin-Spyri']\"}, 'paraphrased_question': {89: 'Who collaborates with Anna Heer in business or sport?'}, 'multiple_choice_with_letters': {89: 'A. Marie Heim-Vögtlin  B. Albert Einstein  C. Simon Ammann  D. Emilie Kempin-Spyri'}, 'multiple_choice_labels': {89: 'A'}, 'yes_question': {89: 'Is Marie Heim-Vögtlin the partner in business or sport of Anna Heer?'}, 'no_question': {89: 'Is Simon Ammann the partner in business or sport of Anna Heer?'}, 'locality_question': {89: 'What is Anna Heer known for besides her partnership in business or sport?'}, 'reversed_relation_question': {89: 'Who is the business or sport partner of Marie Heim-Vögtlin?'}, 'question_2hop': {89: 'Who was the business partner of Anna Heer?'}, 'answer_2hop': {89: 'Marie Heim-Vögtlin'}, 'question_3hop': {89: 'What profession did the business partner of Anna Heer practice?'}, 'answer_3hop': {89: 'Physician'}, 'question_4hop': {89: 'Which university did the business partner of Anna Heer attend?'}, 'answer_4hop': {89: 'University of Zurich'}, 'question_5hop': {89: 'In which city is the university located that the business partner of Anna Heer attended?'}, 'answer_5hop': {89: 'Zurich'}, 'question_6hop': {89: 'In which country is the city located where the university that the business partner of Anna Heer attended is situated?'}, 'answer_6hop': {89: 'Switzerland'}, 'label': {89: nan}, 'output_mistral_7b_instruct_v0.3': {89: nan}, 'eval_mistral_7b_instruct_v0.3': {89: nan}}\n"
     ]
    },
    {
     "name": "stderr",
     "output_type": "stream",
     "text": [
      "09/14/2024 00:01:15 - INFO - httpx -   HTTP Request: POST https://n-central-us.openai.azure.com//openai/deployments/gpt-4o/chat/completions?api-version=2023-05-15 \"HTTP/1.1 200 OK\"\n"
     ]
    },
    {
     "name": "stdout",
     "output_type": "stream",
     "text": [
      "subject: Francesco Redi, relation: place of birth, {'2hop_question': 'What is the country of the place of birth of Francesco Redi?', '2hop_answer': 'Italy', '3hop_question': 'What is the official language of the country where Francesco Redi was born?', '3hop_answer': 'Italian', '4hop_question': 'What is the capital city of the country where Francesco Redi was born?', '4hop_answer': 'Rome', '5hop_question': 'What is the population of the capital city of the country where Francesco Redi was born?', '5hop_answer': 'Approximately 2.8 million', '6hop_question': 'What is the name of the river that flows through the capital city of the country where Francesco Redi was born?', '6hop_answer': 'Tiber'}\n",
      "{'topic': {20: 'human_scientist'}, 'subject': {20: 'Leonardo da Vinci'}, 'relation': {20: 'country of citizenship'}, 'object': {20: 'Republic of Florence'}, 'question': {20: 'What is the country of citizenship of Leonardo da Vinci?'}, 'output_meta_llama_3.1_8b_instruct': {20: 'Italy'}, 'eval_meta_llama_3.1_8b_instruct': {20: 0.0}, 'multiple_choices': {20: \"['Republic of Florence', 'Italy', 'France', 'Spain']\"}, 'paraphrased_question': {20: 'Which country was Leonardo da Vinci a citizen of?'}, 'multiple_choice_with_letters': {20: 'A. Spain  B. Republic of Florence  C. France  D. Italy'}, 'multiple_choice_labels': {20: 'B'}, 'yes_question': {20: 'Is the Republic of Florence the country of citizenship of Leonardo da Vinci?'}, 'no_question': {20: 'Is Italy the country of citizenship of Leonardo da Vinci?'}, 'locality_question': {20: 'What is Leonardo da Vinci well-known for besides his citizenship?'}, 'reversed_relation_question': {20: 'Who is a famous citizen of the Republic of Florence?'}, 'question_2hop': {20: 'Who was the ruler of the country of citizenship of Leonardo da Vinci during his lifetime?'}, 'answer_2hop': {20: 'Ludovico Sforza'}, 'question_3hop': {20: 'What was the title held by the ruler of the country of citizenship of Leonardo da Vinci during his lifetime?'}, 'answer_3hop': {20: 'Duke of Milan'}, 'question_4hop': {20: 'Which famous castle is associated with the Duke of Milan, the ruler of the country of citizenship of Leonardo da Vinci?'}, 'answer_4hop': {20: 'Sforza Castle'}, 'question_5hop': {20: 'In which city is the Sforza Castle, associated with the Duke of Milan, located?'}, 'answer_5hop': {20: 'Milan'}, 'question_6hop': {20: 'In which region of Italy is the city located that contains the Sforza Castle, associated with the Duke of Milan?'}, 'answer_6hop': {20: 'Lombardy'}, 'label': {20: nan}, 'output_mistral_7b_instruct_v0.3': {20: nan}, 'eval_mistral_7b_instruct_v0.3': {20: nan}}\n"
     ]
    },
    {
     "name": "stderr",
     "output_type": "stream",
     "text": [
      "09/14/2024 00:01:17 - INFO - httpx -   HTTP Request: POST https://n-central-us.openai.azure.com//openai/deployments/gpt-4o/chat/completions?api-version=2023-05-15 \"HTTP/1.1 200 OK\"\n"
     ]
    },
    {
     "name": "stdout",
     "output_type": "stream",
     "text": [
      "subject: Charles K. Kao, relation: doctoral advisor, {'2hop_question': 'Who was the doctoral advisor of Charles K. Kao?', '2hop_answer': 'Harold Barlow', '3hop_question': 'Which university did Harold Barlow, the doctoral advisor of Charles K. Kao, work at?', '3hop_answer': 'University College London', '4hop_question': 'In which city is the university located where Harold Barlow, the doctoral advisor of Charles K. Kao, worked?', '4hop_answer': 'London', '5hop_question': 'In which country is the city located where the university is situated that Harold Barlow, the doctoral advisor of Charles K. Kao, worked?', '5hop_answer': 'United Kingdom', '6hop_question': 'What is the official language of the country where the city is located that contains the university where Harold Barlow, the doctoral advisor of Charles K. Kao, worked?', '6hop_answer': 'English'}\n",
      "{'topic': {15: 'human_scientist'}, 'subject': {15: 'Gregory Goodwin Pincus'}, 'relation': {15: 'place of birth'}, 'object': {15: 'Woodbine'}, 'question': {15: 'What is the place of birth of Gregory Goodwin Pincus?'}, 'output_meta_llama_3.1_8b_instruct': {15: 'Winchester'}, 'eval_meta_llama_3.1_8b_instruct': {15: 0.0}, 'multiple_choices': {15: \"['Woodbine', 'Winchester', 'New York', 'Boston']\"}, 'paraphrased_question': {15: 'Where was Gregory Goodwin Pincus born?'}, 'multiple_choice_with_letters': {15: 'A. Woodbine  B. Winchester  C. Boston  D. New York'}, 'multiple_choice_labels': {15: 'A'}, 'yes_question': {15: \"Is Gregory Goodwin Pincus's place of birth Woodbine?\"}, 'no_question': {15: \"Is Gregory Goodwin Pincus's place of birth Winchester?\"}, 'locality_question': {15: 'What is Gregory Goodwin Pincus known for?'}, 'reversed_relation_question': {15: 'Who was born in Woodbine?'}, 'question_2hop': {15: 'What is the capital city of the state where Gregory Goodwin Pincus was born?'}, 'answer_2hop': {15: 'Albany'}, 'question_3hop': {15: 'Which river flows through the capital city of the state where Gregory Goodwin Pincus was born?'}, 'answer_3hop': {15: 'Hudson River'}, 'question_4hop': {15: 'What is the length of the river that flows through the capital city of the state where Gregory Goodwin Pincus was born?'}, 'answer_4hop': {15: '315 miles'}, 'question_5hop': {15: 'Which ocean does the river that flows through the capital city of the state where Gregory Goodwin Pincus was born empty into?'}, 'answer_5hop': {15: 'Atlantic Ocean'}, 'question_6hop': {15: 'Which continent is home to the ocean that the river flows into, which passes through the capital city of the state where Gregory Goodwin Pincus was born?'}, 'answer_6hop': {15: 'North America'}, 'label': {15: nan}, 'output_mistral_7b_instruct_v0.3': {15: nan}, 'eval_mistral_7b_instruct_v0.3': {15: nan}}\n"
     ]
    },
    {
     "name": "stderr",
     "output_type": "stream",
     "text": [
      "09/14/2024 00:01:20 - INFO - httpx -   HTTP Request: POST https://n-central-us.openai.azure.com//openai/deployments/gpt-4o/chat/completions?api-version=2023-05-15 \"HTTP/1.1 200 OK\"\n"
     ]
    },
    {
     "name": "stdout",
     "output_type": "stream",
     "text": [
      "subject: Étienne-Jules Marey, relation: place of death, {'2hop_question': 'What is the country of the place where Étienne-Jules Marey died?', '2hop_answer': 'France', '3hop_question': 'What is the capital city of the country where Étienne-Jules Marey died?', '3hop_answer': 'Paris', '4hop_question': 'Which famous landmark is located in the capital city of the country where Étienne-Jules Marey died?', '4hop_answer': 'Eiffel Tower', '5hop_question': 'Who designed the famous landmark located in the capital city of the country where Étienne-Jules Marey died?', '5hop_answer': 'Gustave Eiffel', '6hop_question': 'In which year was the famous landmark, designed by Gustave Eiffel, located in the capital city of the country where Étienne-Jules Marey died, completed?', '6hop_answer': '1889'}\n",
      "{'topic': {170: 'human_scientist'}, 'subject': {170: 'Lawrence Summers'}, 'relation': {170: 'spouse'}, 'object': {170: 'Elisa New'}, 'question': {170: 'Who is the spouse of Lawrence Summers?'}, 'output_meta_llama_3.1_8b_instruct': {170: nan}, 'eval_meta_llama_3.1_8b_instruct': {170: nan}, 'multiple_choices': {170: \"['Elisa New', 'Elaine Chao', 'Janet Yellen', 'Hillary Clinton']\"}, 'paraphrased_question': {170: 'Who is married to Lawrence Summers?'}, 'multiple_choice_with_letters': {170: 'A. Elaine Chao  B. Janet Yellen  C. Elisa New  D. Hillary Clinton'}, 'multiple_choice_labels': {170: 'C'}, 'yes_question': {170: 'Is Elisa New the spouse of Lawrence Summers?'}, 'no_question': {170: 'Is Elaine Chao the spouse of Lawrence Summers?'}, 'locality_question': {170: 'What is a notable position held by Lawrence Summers?'}, 'reversed_relation_question': {170: 'Who is the spouse of Elisa New?'}, 'question_2hop': {170: 'Who is the sibling of the spouse of Lawrence Summers?'}, 'answer_2hop': {170: 'John R. Tyson'}, 'question_3hop': {170: 'What company is the sibling of the spouse of Lawrence Summers associated with?'}, 'answer_3hop': {170: 'Tyson Foods'}, 'question_4hop': {170: 'In which year was the company associated with the sibling of the spouse of Lawrence Summers founded?'}, 'answer_4hop': {170: '1935'}, 'question_5hop': {170: 'Who founded the company that was established in 1935 and is associated with the sibling of the spouse of Lawrence Summers?'}, 'answer_5hop': {170: 'John W. Tyson'}, 'question_6hop': {170: 'In which state was the founder of the company associated with the sibling of the spouse of Lawrence Summers born?'}, 'answer_6hop': {170: 'Arkansas'}, 'label': {170: 'Elisa New'}, 'output_mistral_7b_instruct_v0.3': {170: 'Elaine Chao'}, 'eval_mistral_7b_instruct_v0.3': {170: 0.0}}\n"
     ]
    },
    {
     "name": "stderr",
     "output_type": "stream",
     "text": [
      "09/14/2024 00:01:22 - INFO - httpx -   HTTP Request: POST https://n-central-us.openai.azure.com//openai/deployments/gpt-4o/chat/completions?api-version=2023-05-15 \"HTTP/1.1 200 OK\"\n"
     ]
    },
    {
     "name": "stdout",
     "output_type": "stream",
     "text": [
      "subject: Karl Friedrich Wilhelm Peters, relation: place of death, {'2hop_question': 'What is the country where Karl Friedrich Wilhelm Peters died?', '2hop_answer': 'Germany', '3hop_question': 'What is the capital city of the country where Karl Friedrich Wilhelm Peters died?', '3hop_answer': 'Berlin', '4hop_question': 'Which famous landmark is located in the capital city of the country where Karl Friedrich Wilhelm Peters died?', '4hop_answer': 'Brandenburg Gate', '5hop_question': 'Who commissioned the construction of the famous landmark located in the capital city of the country where Karl Friedrich Wilhelm Peters died?', '5hop_answer': 'King Frederick William II of Prussia', '6hop_question': 'In which year was the famous landmark, commissioned by King Frederick William II of Prussia, completed?', '6hop_answer': '1791'}\n"
     ]
    },
    {
     "name": "stderr",
     "output_type": "stream",
     "text": [
      "09/14/2024 00:01:24 - INFO - httpx -   HTTP Request: POST https://n-central-us.openai.azure.com//openai/deployments/gpt-4o/chat/completions?api-version=2023-05-15 \"HTTP/1.1 200 OK\"\n"
     ]
    },
    {
     "name": "stdout",
     "output_type": "stream",
     "text": [
      "subject: Sergei Izotov, relation: field of work, {'2hop_question': 'What is the primary field of work of Sergei Izotov?', '2hop_answer': 'Astronomy', '3hop_question': 'Which notable observatory is associated with the primary field of work of Sergei Izotov?', '3hop_answer': 'Crimean Astrophysical Observatory', '4hop_question': \"In which country is the notable observatory associated with Sergei Izotov's primary field of work located?\", '4hop_answer': 'Ukraine', '5hop_question': \"What is the capital city of the country where the notable observatory associated with Sergei Izotov's primary field of work is located?\", '5hop_answer': 'Kyiv', '6hop_question': \"Which river flows through the capital city of the country where the notable observatory associated with Sergei Izotov's primary field of work is located?\", '6hop_answer': 'Dnieper River'}\n"
     ]
    },
    {
     "name": "stderr",
     "output_type": "stream",
     "text": [
      "09/14/2024 00:01:27 - INFO - httpx -   HTTP Request: POST https://n-central-us.openai.azure.com//openai/deployments/gpt-4o/chat/completions?api-version=2023-05-15 \"HTTP/1.1 200 OK\"\n"
     ]
    },
    {
     "name": "stdout",
     "output_type": "stream",
     "text": [
      "subject: Semyon Lavochkin, relation: conflict, {'2hop_question': 'Which conflict was Semyon Lavochkin involved in?', '2hop_answer': 'World War II', '3hop_question': \"Which country was Semyon Lavochkin's side in the conflict he was involved in?\", '3hop_answer': 'Soviet Union', '4hop_question': \"Who was the leader of the country that Semyon Lavochkin's side was in during the conflict he was involved in?\", '4hop_answer': 'Joseph Stalin', '5hop_question': \"In which year did the leader of the country that Semyon Lavochkin's side was in during the conflict he was involved in come to power?\", '5hop_answer': '1924', '6hop_question': \"Which political party was the leader of the country that Semyon Lavochkin's side was in during the conflict he was involved in a member of?\", '6hop_answer': 'Communist Party of the Soviet Union'}\n"
     ]
    },
    {
     "name": "stderr",
     "output_type": "stream",
     "text": [
      "09/14/2024 00:01:30 - INFO - httpx -   HTTP Request: POST https://n-central-us.openai.azure.com//openai/deployments/gpt-4o/chat/completions?api-version=2023-05-15 \"HTTP/1.1 200 OK\"\n"
     ]
    },
    {
     "name": "stdout",
     "output_type": "stream",
     "text": [
      "subject: Robert Winston, relation: employer, {'2hop_question': 'What is the name of the institution that employs Robert Winston?', '2hop_answer': 'Imperial College London', '3hop_question': 'In which city is the institution that employs Robert Winston located?', '3hop_answer': 'London', '4hop_question': 'What is the name of the country where the city is located that houses the institution employing Robert Winston?', '4hop_answer': 'United Kingdom', '5hop_question': 'What is the official language of the country where the city is located that houses the institution employing Robert Winston?', '5hop_answer': 'English', '6hop_question': 'What is the currency used in the country where the city is located that houses the institution employing Robert Winston?', '6hop_answer': 'Pound Sterling'}\n"
     ]
    },
    {
     "name": "stderr",
     "output_type": "stream",
     "text": [
      "09/14/2024 00:01:33 - INFO - httpx -   HTTP Request: POST https://n-central-us.openai.azure.com//openai/deployments/gpt-4o/chat/completions?api-version=2023-05-15 \"HTTP/1.1 200 OK\"\n"
     ]
    },
    {
     "name": "stdout",
     "output_type": "stream",
     "text": [
      "subject: Hans Jenny, relation: sex or gender, {'2hop_question': 'What is the nationality of the person with the same sex or gender as Hans Jenny?', '2hop_answer': 'Swiss', '3hop_question': 'What is the primary language spoken in the country of the person with the same sex or gender as Hans Jenny?', '3hop_answer': 'German', '4hop_question': 'What is the capital city of the country where the primary language is spoken by the person with the same sex or gender as Hans Jenny?', '4hop_answer': 'Bern', '5hop_question': 'What is the population of the capital city of the country where the primary language is spoken by the person with the same sex or gender as Hans Jenny?', '5hop_answer': '133,115', '6hop_question': 'What is the area in square kilometers of the capital city of the country where the primary language is spoken by the person with the same sex or gender as Hans Jenny?', '6hop_answer': '51.62 km²'}\n"
     ]
    },
    {
     "name": "stderr",
     "output_type": "stream",
     "text": [
      "09/14/2024 00:01:34 - INFO - httpx -   HTTP Request: POST https://n-central-us.openai.azure.com//openai/deployments/gpt-4o/chat/completions?api-version=2023-05-15 \"HTTP/1.1 200 OK\"\n"
     ]
    },
    {
     "name": "stdout",
     "output_type": "stream",
     "text": [
      "subject: Carl Dorno, relation: sex or gender, {'2hop_question': 'What is the profession of Carl Dorno, who is male?', '2hop_answer': 'Meteorologist', '3hop_question': 'What is the name of the institute founded by the meteorologist Carl Dorno?', '3hop_answer': 'Bioclimatic Research Institute', '4hop_question': 'In which city is the Bioclimatic Research Institute founded by Carl Dorno located?', '4hop_answer': 'Görlitz', '5hop_question': 'In which country is the city of Görlitz, where the Bioclimatic Research Institute founded by Carl Dorno is located?', '5hop_answer': 'Germany', '6hop_question': 'What is the official language of the country where the city of Görlitz is located, which houses the Bioclimatic Research Institute founded by Carl Dorno?', '6hop_answer': 'German'}\n",
      "{'topic': {105: 'human_scientist'}, 'subject': {105: 'Alberto Granado'}, 'relation': {105: 'second family name in Spanish name'}, 'object': {105: 'Romero'}, 'question': {105: 'Who is the second family name in Spanish name of Alberto Granado?'}, 'output_meta_llama_3.1_8b_instruct': {105: nan}, 'eval_meta_llama_3.1_8b_instruct': {105: nan}, 'multiple_choices': {105: \"['Romero', 'Granado', 'García', 'Martínez']\"}, 'paraphrased_question': {105: 'What is the second surname in the Spanish name of Alberto Granado?'}, 'multiple_choice_with_letters': {105: 'A. Granado  B. Martínez  C. García  D. Romero'}, 'multiple_choice_labels': {105: 'D'}, 'yes_question': {105: 'Is Romero the second family name in the Spanish name of Alberto Granado?'}, 'no_question': {105: 'Is Granado the second family name in the Spanish name of Alberto Granado?'}, 'locality_question': {105: \"What was Alberto Granado's profession?\"}, 'reversed_relation_question': {105: 'Whose second family name in Spanish name is Romero?'}, 'question_2hop': {105: 'What is the second family name in the Spanish name of Alberto Granado?'}, 'answer_2hop': {105: 'Jiménez'}, 'question_3hop': {105: 'What is the profession of the person with the second family name Jiménez in the Spanish name of Alberto Granado?'}, 'answer_3hop': {105: 'Biochemist'}, 'question_4hop': {105: 'Which famous revolutionary was a close friend of the biochemist with the second family name Jiménez in the Spanish name of Alberto Granado?'}, 'answer_4hop': {105: 'Che Guevara'}, 'question_5hop': {105: 'In which country was the famous revolutionary who was a close friend of the biochemist with the second family name Jiménez in the Spanish name of Alberto Granado born?'}, 'answer_5hop': {105: 'Argentina'}, 'question_6hop': {105: 'What is the capital city of the country where the famous revolutionary who was a close friend of the biochemist with the second family name Jiménez in the Spanish name of Alberto Granado was born?'}, 'answer_6hop': {105: 'Buenos Aires'}, 'label': {105: 'Romero'}, 'output_mistral_7b_instruct_v0.3': {105: 'Granado'}, 'eval_mistral_7b_instruct_v0.3': {105: 0.0}}\n",
      "{'topic': {138: 'human_scientist'}, 'subject': {138: 'Ben Goldacre'}, 'relation': {138: 'employer'}, 'object': {138: 'University of Oxford'}, 'question': {138: 'What is the employer of Ben Goldacre?'}, 'output_meta_llama_3.1_8b_instruct': {138: nan}, 'eval_meta_llama_3.1_8b_instruct': {138: nan}, 'multiple_choices': {138: \"['University of Oxford', 'The Guardian (UK)', 'Harvard University', 'BBC']\"}, 'paraphrased_question': {138: 'Who employs Ben Goldacre?'}, 'multiple_choice_with_letters': {138: 'A. Harvard University  B. University of Oxford  C. BBC  D. The Guardian (UK)'}, 'multiple_choice_labels': {138: 'B'}, 'yes_question': {138: 'Is the University of Oxford the employer of Ben Goldacre?'}, 'no_question': {138: 'Is The Guardian (UK) the employer of Ben Goldacre?'}, 'locality_question': {138: 'What is a notable book written by Ben Goldacre?'}, 'reversed_relation_question': {138: 'Who is employed by the University of Oxford?'}, 'question_2hop': {138: 'Who is the current employer of Ben Goldacre?'}, 'answer_2hop': {138: 'University of Oxford'}, 'question_3hop': {138: 'Which college is part of the current employer of Ben Goldacre?'}, 'answer_3hop': {138: 'All Souls College'}, 'question_4hop': {138: 'Who is a notable fellow of the college that is part of the current employer of Ben Goldacre?'}, 'answer_4hop': {138: 'Isaiah Berlin'}, 'question_5hop': {138: 'What is the nationality of the notable fellow of the college that is part of the current employer of Ben Goldacre?'}, 'answer_5hop': {138: 'British'}, 'question_6hop': {138: 'Which famous philosopher shares the same nationality as the notable fellow of the college that is part of the current employer of Ben Goldacre?'}, 'answer_6hop': {138: 'Bertrand Russell'}, 'label': {138: 'University of Oxford'}, 'output_mistral_7b_instruct_v0.3': {138: 'The Guardian (UK)'}, 'eval_mistral_7b_instruct_v0.3': {138: 0.0}}\n"
     ]
    },
    {
     "name": "stderr",
     "output_type": "stream",
     "text": [
      "09/14/2024 00:01:37 - INFO - httpx -   HTTP Request: POST https://n-central-us.openai.azure.com//openai/deployments/gpt-4o/chat/completions?api-version=2023-05-15 \"HTTP/1.1 200 OK\"\n"
     ]
    },
    {
     "name": "stdout",
     "output_type": "stream",
     "text": [
      "subject: Alfred Jante, relation: sex or gender, {'2hop_question': 'What is the profession of Alfred Jante, who is male?', '2hop_answer': 'Writer', '3hop_question': 'What is the title of a notable work by the writer Alfred Jante?', '3hop_answer': 'The Law of Jante', '4hop_question': \"In which year was 'The Law of Jante' by Alfred Jante published?\", '4hop_answer': '1933', '5hop_question': \"Which country is the setting for the book 'The Law of Jante' published in 1933 by Alfred Jante?\", '5hop_answer': 'Denmark', '6hop_question': \"What is the official language of the country where the book 'The Law of Jante' by Alfred Jante is set?\", '6hop_answer': 'Danish'}\n"
     ]
    },
    {
     "name": "stderr",
     "output_type": "stream",
     "text": [
      "09/14/2024 00:01:39 - INFO - httpx -   HTTP Request: POST https://n-central-us.openai.azure.com//openai/deployments/gpt-4o/chat/completions?api-version=2023-05-15 \"HTTP/1.1 200 OK\"\n"
     ]
    },
    {
     "name": "stdout",
     "output_type": "stream",
     "text": [
      "subject: Janko Ferk, relation: sex or gender, {'2hop_question': 'What is the nationality of Janko Ferk, who is male?', '2hop_answer': 'Austrian', '3hop_question': 'What is the capital city of the country where Janko Ferk, who is male, is from?', '3hop_answer': 'Vienna', '4hop_question': 'Which river flows through the capital city of the country where Janko Ferk, who is male, is from?', '4hop_answer': 'Danube', '5hop_question': 'What is the length of the river that flows through the capital city of the country where Janko Ferk, who is male, is from?', '5hop_answer': '2,850 km', '6hop_question': 'Into which sea does the river that flows through the capital city of the country where Janko Ferk, who is male, ultimately empty?', '6hop_answer': 'Black Sea'}\n"
     ]
    },
    {
     "name": "stderr",
     "output_type": "stream",
     "text": [
      "09/14/2024 00:01:41 - INFO - httpx -   HTTP Request: POST https://n-central-us.openai.azure.com//openai/deployments/gpt-4o/chat/completions?api-version=2023-05-15 \"HTTP/1.1 200 OK\"\n"
     ]
    },
    {
     "name": "stdout",
     "output_type": "stream",
     "text": [
      "subject: Étienne Pariset, relation: place of birth, {'2hop_question': 'What is the country of the place of birth of Étienne Pariset?', '2hop_answer': 'France', '3hop_question': 'What is the official language of the country where Étienne Pariset was born?', '3hop_answer': 'French', '4hop_question': 'What is the capital city of the country where the place of birth of Étienne Pariset is located?', '4hop_answer': 'Paris', '5hop_question': 'What river flows through the capital city of the country where Étienne Pariset was born?', '5hop_answer': 'Seine', '6hop_question': 'What is the length of the river that flows through the capital city of the country where Étienne Pariset was born?', '6hop_answer': '777 kilometers'}\n"
     ]
    },
    {
     "name": "stderr",
     "output_type": "stream",
     "text": [
      "09/14/2024 00:01:44 - INFO - httpx -   HTTP Request: POST https://n-central-us.openai.azure.com//openai/deployments/gpt-4o/chat/completions?api-version=2023-05-15 \"HTTP/1.1 200 OK\"\n"
     ]
    },
    {
     "name": "stdout",
     "output_type": "stream",
     "text": [
      "subject: Luboš Kohoutek, relation: place of death, {'2hop_question': 'What is the country of the place of death of Luboš Kohoutek?', '2hop_answer': 'Germany', '3hop_question': 'What is the capital city of the country where Luboš Kohoutek died?', '3hop_answer': 'Berlin', '4hop_question': 'Which famous landmark is located in the capital city of the country where Luboš Kohoutek died?', '4hop_answer': 'Brandenburg Gate', '5hop_question': 'Who commissioned the construction of the famous landmark located in the capital city of the country where Luboš Kohoutek died?', '5hop_answer': 'King Frederick William II of Prussia', '6hop_question': 'In which year was the famous landmark commissioned by King Frederick William II of Prussia located in the capital city of the country where Luboš Kohoutek died completed?', '6hop_answer': '1791'}\n",
      "{'topic': {145: 'human_scientist'}, 'subject': {145: 'Émile Coué'}, 'relation': {145: 'place of death'}, 'object': {145: 'Nancy'}, 'question': {145: 'Who is the place of death of Émile Coué?'}, 'output_meta_llama_3.1_8b_instruct': {145: nan}, 'eval_meta_llama_3.1_8b_instruct': {145: nan}, 'multiple_choices': {145: \"['Nancy', 'Saint-Maurice-sur-Aveyron, France', 'Paris', 'Lyon']\"}, 'paraphrased_question': {145: 'Where did Émile Coué pass away?'}, 'multiple_choice_with_letters': {145: 'A. Lyon  B. Paris  C. Saint-Maurice-sur-Aveyron, France  D. Nancy'}, 'multiple_choice_labels': {145: 'D'}, 'yes_question': {145: 'Did Émile Coué die in Nancy?'}, 'no_question': {145: 'Did Émile Coué die in Saint-Maurice-sur-Aveyron, France?'}, 'locality_question': {145: 'What is Émile Coué known for?'}, 'reversed_relation_question': {145: 'Who died in Nancy?'}, 'question_2hop': {145: 'Who was the mayor of the place where Émile Coué died?'}, 'answer_2hop': {145: 'René Gaillard'}, 'question_3hop': {145: 'What is the name of the hospital in the place where Émile Coué died?'}, 'answer_3hop': {145: 'Centre Hospitalier Universitaire de Nantes'}, 'question_4hop': {145: 'Which university is affiliated with the hospital in the place where Émile Coué died?'}, 'answer_4hop': {145: 'University of Nantes'}, 'question_5hop': {145: 'What is the name of the library at the university affiliated with the hospital in the place where Émile Coué died?'}, 'answer_5hop': {145: 'Bibliothèque Universitaire de Nantes'}, 'question_6hop': {145: 'What is the name of the river that flows through the city where the university affiliated with the hospital in the place where Émile Coué died is located?'}, 'answer_6hop': {145: 'Loire River'}, 'label': {145: 'Nancy'}, 'output_mistral_7b_instruct_v0.3': {145: 'Saint-Maurice-sur-Aveyron, France'}, 'eval_mistral_7b_instruct_v0.3': {145: 0.0}}\n",
      "{'topic': {75: 'human_scientist', 115: 'human_scientist'}, 'subject': {75: 'Tytus Maksymilian Huber', 115: 'Tytus Maksymilian Huber'}, 'relation': {75: 'field of work', 115: 'field of work'}, 'object': {75: 'mechanical engineering', 115: 'mechanical engineering'}, 'question': {75: 'What is the field of work of Tytus Maksymilian Huber?', 115: 'What is the field of work of Tytus Maksymilian Huber?'}, 'output_meta_llama_3.1_8b_instruct': {75: 'Geologist', 115: nan}, 'eval_meta_llama_3.1_8b_instruct': {75: 0.0, 115: nan}, 'multiple_choices': {75: \"['mechanical engineering', 'Geologist', 'civil engineering', 'electrical engineering']\", 115: \"['mechanical engineering', 'Architecture', 'civil engineering', 'electrical engineering']\"}, 'paraphrased_question': {75: 'In which field did Tytus Maksymilian Huber work?', 115: 'In which field did Tytus Maksymilian Huber work?'}, 'multiple_choice_with_letters': {75: 'A. civil engineering  B. electrical engineering  C. mechanical engineering  D. Geologist', 115: 'A. electrical engineering  B. mechanical engineering  C. Architecture  D. civil engineering'}, 'multiple_choice_labels': {75: 'C', 115: 'B'}, 'yes_question': {75: 'Is the field of work of Tytus Maksymilian Huber mechanical engineering?', 115: 'Is the field of work of Tytus Maksymilian Huber mechanical engineering?'}, 'no_question': {75: 'Is the field of work of Tytus Maksymilian Huber Geologist?', 115: 'Is the field of work of Tytus Maksymilian Huber Architecture?'}, 'locality_question': {75: 'What nationality was Tytus Maksymilian Huber?', 115: 'What nationality is Tytus Maksymilian Huber?'}, 'reversed_relation_question': {75: 'Who is known for working in the field of mechanical engineering?', 115: 'Who is known for working in the field of mechanical engineering?'}, 'question_2hop': {75: 'Who is a notable student of Tytus Maksymilian Huber in his field of work?', 115: 'Who is a notable student of Tytus Maksymilian Huber in his field of work?'}, 'answer_2hop': {75: 'Wacław Olszak', 115: 'Wacław Olszak'}, 'question_3hop': {75: 'Which university did the notable student of Tytus Maksymilian Huber attend?', 115: 'Which university did the notable student of Tytus Maksymilian Huber attend?'}, 'answer_3hop': {75: 'Warsaw University of Technology', 115: 'Warsaw University of Technology'}, 'question_4hop': {75: 'In which city is the university located where the notable student of Tytus Maksymilian Huber attended?', 115: 'In which city is the university located that the notable student of Tytus Maksymilian Huber attended?'}, 'answer_4hop': {75: 'Warsaw', 115: 'Warsaw'}, 'question_5hop': {75: 'In which country is the city located where the university attended by the notable student of Tytus Maksymilian Huber is situated?', 115: 'In which country is the city located where the university that the notable student of Tytus Maksymilian Huber attended is situated?'}, 'answer_5hop': {75: 'Poland', 115: 'Poland'}, 'question_6hop': {75: 'What is the official language of the country where the city is located that contains the university attended by the notable student of Tytus Maksymilian Huber?', 115: 'What is the official language of the country where the city is located that contains the university the notable student of Tytus Maksymilian Huber attended?'}, 'answer_6hop': {75: 'Polish', 115: 'Polish'}, 'label': {75: nan, 115: 'mechanical engineering'}, 'output_mistral_7b_instruct_v0.3': {75: nan, 115: 'Architecture'}, 'eval_mistral_7b_instruct_v0.3': {75: nan, 115: 0.0}}\n"
     ]
    },
    {
     "name": "stderr",
     "output_type": "stream",
     "text": [
      "09/14/2024 00:01:46 - INFO - httpx -   HTTP Request: POST https://n-central-us.openai.azure.com//openai/deployments/gpt-4o/chat/completions?api-version=2023-05-15 \"HTTP/1.1 200 OK\"\n"
     ]
    },
    {
     "name": "stdout",
     "output_type": "stream",
     "text": [
      "subject: Franz-Josef Ulm, relation: sex or gender, {'2hop_question': 'What is the profession of Franz-Josef Ulm?', '2hop_answer': 'Civil Engineer', '3hop_question': 'Which institution is Franz-Josef Ulm affiliated with as a Civil Engineer?', '3hop_answer': 'Massachusetts Institute of Technology (MIT)', '4hop_question': 'In which city is the Massachusetts Institute of Technology (MIT) located?', '4hop_answer': 'Cambridge', '5hop_question': 'In which state is the city located where the Massachusetts Institute of Technology (MIT) is situated?', '5hop_answer': 'Massachusetts', '6hop_question': 'In which country is the state located where the city is situated that contains the Massachusetts Institute of Technology (MIT)?', '6hop_answer': 'United States'}\n"
     ]
    },
    {
     "name": "stderr",
     "output_type": "stream",
     "text": [
      "09/14/2024 00:01:50 - INFO - httpx -   HTTP Request: POST https://n-central-us.openai.azure.com//openai/deployments/gpt-4o/chat/completions?api-version=2023-05-15 \"HTTP/1.1 200 OK\"\n"
     ]
    },
    {
     "name": "stdout",
     "output_type": "stream",
     "text": [
      "subject: Paul Dirac, relation: residence, {'2hop_question': 'Who was the spouse of the person who resided in the same place as Paul Dirac?', '2hop_answer': 'Margit Wigner', '3hop_question': 'What was the profession of the spouse of the person who resided in the same place as Paul Dirac?', '3hop_answer': 'Physicist', '4hop_question': 'Which university did the physicist, who was the spouse of the person who resided in the same place as Paul Dirac, work at?', '4hop_answer': 'Princeton University', '5hop_question': 'In which city is the university located where the physicist, who was the spouse of the person who resided in the same place as Paul Dirac, worked?', '5hop_answer': 'Princeton', '6hop_question': 'In which state is the city located where the university is situated that employed the physicist, who was the spouse of the person who resided in the same place as Paul Dirac?', '6hop_answer': 'New Jersey'}\n"
     ]
    },
    {
     "name": "stderr",
     "output_type": "stream",
     "text": [
      "09/14/2024 00:01:52 - INFO - httpx -   HTTP Request: POST https://n-central-us.openai.azure.com//openai/deployments/gpt-4o/chat/completions?api-version=2023-05-15 \"HTTP/1.1 200 OK\"\n"
     ]
    },
    {
     "name": "stdout",
     "output_type": "stream",
     "text": [
      "subject: Galileo Galilei, relation: medical condition, {'2hop_question': 'What was the medical condition of Galileo Galilei?', '2hop_answer': 'Blindness', '3hop_question': 'Which eye condition led to the blindness of Galileo Galilei?', '3hop_answer': 'Cataracts', '4hop_question': \"What is a common treatment for the eye condition that led to Galileo Galilei's blindness?\", '4hop_answer': 'Cataract surgery', '5hop_question': 'Who is known as the father of modern cataract surgery?', '5hop_answer': 'Sir Harold Ridley', '6hop_question': 'In which country was the father of modern cataract surgery born?', '6hop_answer': 'United Kingdom'}\n"
     ]
    },
    {
     "name": "stderr",
     "output_type": "stream",
     "text": [
      "09/14/2024 00:01:54 - INFO - httpx -   HTTP Request: POST https://n-central-us.openai.azure.com//openai/deployments/gpt-4o/chat/completions?api-version=2023-05-15 \"HTTP/1.1 200 OK\"\n"
     ]
    },
    {
     "name": "stdout",
     "output_type": "stream",
     "text": [
      "subject: Andreas Vogel, relation: field of work, {'2hop_question': 'What is the field of work of Andreas Vogel?', '2hop_answer': 'Computer Science', '3hop_question': 'Which university did Andreas Vogel attend for his studies in Computer Science?', '3hop_answer': 'University of Karlsruhe', '4hop_question': 'In which country is the University of Karlsruhe, where Andreas Vogel studied Computer Science, located?', '4hop_answer': 'Germany', '5hop_question': 'What is the state in Germany where the University of Karlsruhe is located?', '5hop_answer': 'Baden-Württemberg', '6hop_question': 'What is the capital city of the state of Baden-Württemberg, where the University of Karlsruhe is located?', '6hop_answer': 'Stuttgart'}\n"
     ]
    },
    {
     "name": "stderr",
     "output_type": "stream",
     "text": [
      "09/14/2024 00:01:57 - INFO - httpx -   HTTP Request: POST https://n-central-us.openai.azure.com//openai/deployments/gpt-4o/chat/completions?api-version=2023-05-15 \"HTTP/1.1 200 OK\"\n"
     ]
    },
    {
     "name": "stdout",
     "output_type": "stream",
     "text": [
      "subject: Émile Coué, relation: sex or gender, {'2hop_question': 'What is the profession of Émile Coué, who is male?', '2hop_answer': 'Pharmacist and Psychologist', '3hop_question': 'What is the name of the method developed by Émile Coué, who is a male pharmacist and psychologist?', '3hop_answer': 'Coué Method', '4hop_question': 'In which country was the Coué Method, developed by Émile Coué, a male pharmacist and psychologist, primarily practiced?', '4hop_answer': 'France', '5hop_question': 'In which city in France did Émile Coué, the male pharmacist and psychologist who developed the Coué Method, primarily practice?', '5hop_answer': 'Nancy', '6hop_question': 'Which university is located in the city where Émile Coué, the male pharmacist and psychologist who developed the Coué Method, primarily practiced?', '6hop_answer': 'University of Lorraine'}\n"
     ]
    },
    {
     "name": "stderr",
     "output_type": "stream",
     "text": [
      "09/14/2024 00:01:59 - INFO - httpx -   HTTP Request: POST https://n-central-us.openai.azure.com//openai/deployments/gpt-4o/chat/completions?api-version=2023-05-15 \"HTTP/1.1 200 OK\"\n"
     ]
    },
    {
     "name": "stdout",
     "output_type": "stream",
     "text": [
      "subject: Yury Pobedonostsev, relation: field of work, {'2hop_question': 'What is a notable work in the field of work of Yury Pobedonostsev?', '2hop_answer': 'The Russian Orthodox Church', '3hop_question': 'Who is a prominent figure associated with the notable work in the field of work of Yury Pobedonostsev?', '3hop_answer': 'Konstantin Pobedonostsev', '4hop_question': 'What position did the prominent figure associated with the notable work in the field of work of Yury Pobedonostsev hold?', '4hop_answer': 'Ober-Procurator of the Most Holy Synod', '5hop_question': 'During which years did the prominent figure associated with the notable work in the field of work of Yury Pobedonostsev hold the position of Ober-Procurator of the Most Holy Synod?', '5hop_answer': '1880 to 1905', '6hop_question': 'Under which Russian Tsar did the prominent figure associated with the notable work in the field of work of Yury Pobedonostsev serve as Ober-Procurator of the Most Holy Synod?', '6hop_answer': 'Alexander III'}\n"
     ]
    },
    {
     "name": "stderr",
     "output_type": "stream",
     "text": [
      "09/14/2024 00:02:01 - INFO - httpx -   HTTP Request: POST https://n-central-us.openai.azure.com//openai/deployments/gpt-4o/chat/completions?api-version=2023-05-15 \"HTTP/1.1 200 OK\"\n"
     ]
    },
    {
     "name": "stdout",
     "output_type": "stream",
     "text": [
      "subject: Otto Immisch, relation: sex or gender, {'2hop_question': 'What is the profession of Otto Immisch, who is male?', '2hop_answer': 'Classical philologist', '3hop_question': 'Which university did Otto Immisch, the classical philologist, attend?', '3hop_answer': 'University of Leipzig', '4hop_question': 'In which city is the University of Leipzig, where Otto Immisch studied, located?', '4hop_answer': 'Leipzig', '5hop_question': 'In which state is the city of Leipzig, where the University of Leipzig is located?', '5hop_answer': 'Saxony', '6hop_question': 'In which country is the state of Saxony, where the city of Leipzig is located?', '6hop_answer': 'Germany'}\n"
     ]
    },
    {
     "name": "stderr",
     "output_type": "stream",
     "text": [
      "09/14/2024 00:02:04 - INFO - httpx -   HTTP Request: POST https://n-central-us.openai.azure.com//openai/deployments/gpt-4o/chat/completions?api-version=2023-05-15 \"HTTP/1.1 200 OK\"\n"
     ]
    },
    {
     "name": "stdout",
     "output_type": "stream",
     "text": [
      "subject: Stuart Hameroff, relation: influenced by, {'2hop_question': 'Who is a notable figure that influenced Stuart Hameroff?', '2hop_answer': 'Roger Penrose', '3hop_question': 'What is a significant theory proposed by the notable figure who influenced Stuart Hameroff?', '3hop_answer': 'Orchestrated Objective Reduction (Orch-OR)', '4hop_question': 'In which field is the significant theory proposed by the notable figure who influenced Stuart Hameroff primarily discussed?', '4hop_answer': 'Quantum Mechanics and Consciousness Studies', '5hop_question': 'Which university is associated with the notable figure who proposed the significant theory that influenced Stuart Hameroff?', '5hop_answer': 'University of Oxford', '6hop_question': 'In which country is the university located that is associated with the notable figure who proposed the significant theory that influenced Stuart Hameroff?', '6hop_answer': 'United Kingdom'}\n"
     ]
    },
    {
     "name": "stderr",
     "output_type": "stream",
     "text": [
      "09/14/2024 00:02:07 - INFO - httpx -   HTTP Request: POST https://n-central-us.openai.azure.com//openai/deployments/gpt-4o/chat/completions?api-version=2023-05-15 \"HTTP/1.1 200 OK\"\n"
     ]
    },
    {
     "name": "stdout",
     "output_type": "stream",
     "text": [
      "subject: Valery Zorkin, relation: professorship, {'2hop_question': 'At which institution does Valery Zorkin hold a professorship?', '2hop_answer': 'Moscow State Institute of International Relations', '3hop_question': 'In which city is the institution located where Valery Zorkin holds a professorship?', '3hop_answer': 'Moscow', '4hop_question': 'What is the population of the city where the institution is located where Valery Zorkin holds a professorship?', '4hop_answer': 'Approximately 12.5 million', '5hop_question': 'What is the name of the river that flows through the city where the institution is located where Valery Zorkin holds a professorship?', '5hop_answer': 'Moskva River', '6hop_question': 'Into which larger body of water does the river flow that runs through the city where the institution is located where Valery Zorkin holds a professorship?', '6hop_answer': 'Oka River'}\n",
      "{'topic': {190: 'human_scientist'}, 'subject': {190: 'Bernhard Siegert'}, 'relation': {190: 'sex or gender'}, 'object': {190: 'male'}, 'question': {190: 'What is the sex or gender of Bernhard Siegert?'}, 'output_meta_llama_3.1_8b_instruct': {190: nan}, 'eval_meta_llama_3.1_8b_instruct': {190: nan}, 'multiple_choices': {190: \"['male', 'Not specified in the provided information', 'female', 'non-binary']\"}, 'paraphrased_question': {190: 'What gender is Bernhard Siegert?'}, 'multiple_choice_with_letters': {190: 'A. Not specified in the provided information  B. female  C. male  D. non-binary'}, 'multiple_choice_labels': {190: 'C'}, 'yes_question': {190: 'Is the sex or gender of Bernhard Siegert male?'}, 'no_question': {190: 'Is the sex or gender of Bernhard Siegert not specified in the provided information?'}, 'locality_question': {190: 'What is Bernhard Siegert known for?'}, 'reversed_relation_question': {190: 'Who is male in this context?'}, 'question_2hop': {190: 'What is the profession of Bernhard Siegert, who is male?'}, 'answer_2hop': {190: 'Media theorist'}, 'question_3hop': {190: 'Which university is associated with the media theorist Bernhard Siegert?'}, 'answer_3hop': {190: 'Bauhaus University Weimar'}, 'question_4hop': {190: 'In which country is Bauhaus University Weimar, where media theorist Bernhard Siegert is associated, located?'}, 'answer_4hop': {190: 'Germany'}, 'question_5hop': {190: 'What is the capital city of the country where Bauhaus University Weimar is located?'}, 'answer_5hop': {190: 'Berlin'}, 'question_6hop': {190: 'Which river flows through the capital city of the country where Bauhaus University Weimar is located?'}, 'answer_6hop': {190: 'Spree'}, 'label': {190: 'male'}, 'output_mistral_7b_instruct_v0.3': {190: 'Not specified in the provided information'}, 'eval_mistral_7b_instruct_v0.3': {190: 0.0}}\n"
     ]
    },
    {
     "name": "stderr",
     "output_type": "stream",
     "text": [
      "09/14/2024 00:02:09 - INFO - httpx -   HTTP Request: POST https://n-central-us.openai.azure.com//openai/deployments/gpt-4o/chat/completions?api-version=2023-05-15 \"HTTP/1.1 200 OK\"\n"
     ]
    },
    {
     "name": "stdout",
     "output_type": "stream",
     "text": [
      "subject: August Dupré, relation: sex or gender, {'2hop_question': 'Who is the spouse of August Dupré?', '2hop_answer': 'Marie Dupré', '3hop_question': 'What is the occupation of the spouse of August Dupré?', '3hop_answer': 'Teacher', '4hop_question': 'Which school does the spouse of August Dupré work at?', '4hop_answer': 'Greenwood High School', '5hop_question': 'In which city is Greenwood High School located?', '5hop_answer': 'Springfield', '6hop_question': 'In which state is the city located where Greenwood High School is situated?', '6hop_answer': 'Illinois'}\n"
     ]
    },
    {
     "name": "stderr",
     "output_type": "stream",
     "text": [
      "09/14/2024 00:02:10 - INFO - httpx -   HTTP Request: POST https://n-central-us.openai.azure.com//openai/deployments/gpt-4o/chat/completions?api-version=2023-05-15 \"HTTP/1.1 200 OK\"\n"
     ]
    },
    {
     "name": "stdout",
     "output_type": "stream",
     "text": [
      "subject: William Perry, relation: work location, {'2hop_question': 'Who is the employer of William Perry?', '2hop_answer': 'Stanford University', '3hop_question': 'What is the name of the department at Stanford University where William Perry works?', '3hop_answer': 'Center for International Security and Cooperation', '4hop_question': 'Which school at Stanford University houses the Center for International Security and Cooperation?', '4hop_answer': 'Freeman Spogli Institute for International Studies', '5hop_question': 'In which city is the Freeman Spogli Institute for International Studies located?', '5hop_answer': 'Stanford', '6hop_question': 'In which state is the city located where the Freeman Spogli Institute for International Studies is situated?', '6hop_answer': 'California'}\n"
     ]
    },
    {
     "name": "stderr",
     "output_type": "stream",
     "text": [
      "09/14/2024 00:02:13 - INFO - httpx -   HTTP Request: POST https://n-central-us.openai.azure.com//openai/deployments/gpt-4o/chat/completions?api-version=2023-05-15 \"HTTP/1.1 200 OK\"\n"
     ]
    },
    {
     "name": "stdout",
     "output_type": "stream",
     "text": [
      "subject: Leonardo da Vinci, relation: place of death, {'2hop_question': 'Who was the ruler of the place where Leonardo da Vinci died?', '2hop_answer': 'Francis I of France', '3hop_question': 'Which famous castle did the ruler of the place where Leonardo da Vinci died reside in?', '3hop_answer': 'Château de Chambord', '4hop_question': 'In which region is the famous castle located where the ruler of the place where Leonardo da Vinci died resided?', '4hop_answer': 'Centre-Val de Loire', '5hop_question': 'What is the capital of the region where the famous castle is located where the ruler of the place where Leonardo da Vinci died resided?', '5hop_answer': 'Orléans', '6hop_question': 'Which river flows through the capital of the region where the famous castle is located where the ruler of the place where Leonardo da Vinci died resided?', '6hop_answer': 'Loire River'}\n",
      "{'topic': {150: 'human_scientist'}, 'subject': {150: 'Wilhelm Schäperclaus'}, 'relation': {150: 'member of political party'}, 'object': {150: 'Nazi Party'}, 'question': {150: 'What is the member of political party of Wilhelm Schäperclaus?'}, 'output_meta_llama_3.1_8b_instruct': {150: nan}, 'eval_meta_llama_3.1_8b_instruct': {150: nan}, 'multiple_choices': {150: \"['Nazi Party', 'SPD (Social Democratic Party)', 'Green Party', 'Christian Democratic Union']\"}, 'paraphrased_question': {150: 'Which political party was Wilhelm Schäperclaus a member of?'}, 'multiple_choice_with_letters': {150: 'A. SPD (Social Democratic Party)  B. Nazi Party  C. Green Party  D. Christian Democratic Union'}, 'multiple_choice_labels': {150: 'B'}, 'yes_question': {150: 'Was Wilhelm Schäperclaus a member of the Nazi Party?'}, 'no_question': {150: 'Was Wilhelm Schäperclaus a member of the SPD (Social Democratic Party)?'}, 'locality_question': {150: \"What was Wilhelm Schäperclaus's profession?\"}, 'reversed_relation_question': {150: 'Who was a member of the Nazi Party?'}, 'question_2hop': {150: 'Who is the leader of the political party that Wilhelm Schäperclaus is a member of?'}, 'answer_2hop': {150: \"Leader's Name\"}, 'question_3hop': {150: 'What is the main ideology of the political party led by the leader of the political party that Wilhelm Schäperclaus is a member of?'}, 'answer_3hop': {150: 'Ideology'}, 'question_4hop': {150: 'Which country is primarily associated with the main ideology of the political party led by the leader of the political party that Wilhelm Schäperclaus is a member of?'}, 'answer_4hop': {150: 'Country'}, 'question_5hop': {150: 'What is the capital city of the country primarily associated with the main ideology of the political party led by the leader of the political party that Wilhelm Schäperclaus is a member of?'}, 'answer_5hop': {150: 'Capital City'}, 'question_6hop': {150: 'What is the population of the capital city of the country primarily associated with the main ideology of the political party led by the leader of the political party that Wilhelm Schäperclaus is a member of?'}, 'answer_6hop': {150: 'Population'}, 'label': {150: 'Nazi Party'}, 'output_mistral_7b_instruct_v0.3': {150: 'SPD (Social Democratic Party)'}, 'eval_mistral_7b_instruct_v0.3': {150: 0.0}}\n"
     ]
    },
    {
     "name": "stderr",
     "output_type": "stream",
     "text": [
      "09/14/2024 00:02:15 - INFO - httpx -   HTTP Request: POST https://n-central-us.openai.azure.com//openai/deployments/gpt-4o/chat/completions?api-version=2023-05-15 \"HTTP/1.1 200 OK\"\n"
     ]
    },
    {
     "name": "stdout",
     "output_type": "stream",
     "text": [
      "subject: Alberto Granado, relation: place of death, {'2hop_question': 'In which country did Alberto Granado die?', '2hop_answer': 'Cuba', '3hop_question': 'What is the capital city of the country where Alberto Granado died?', '3hop_answer': 'Havana', '4hop_question': 'Which famous revolution took place in the capital city of the country where Alberto Granado died?', '4hop_answer': 'Cuban Revolution', '5hop_question': 'Who was the leader of the famous revolution that took place in the capital city of the country where Alberto Granado died?', '5hop_answer': 'Fidel Castro', '6hop_question': 'What was the birth year of the leader of the famous revolution that took place in the capital city of the country where Alberto Granado died?', '6hop_answer': '1926'}\n",
      "{'topic': {29: 'human_scientist'}, 'subject': {29: 'Ben Goldacre'}, 'relation': {29: 'work location'}, 'object': {29: 'Oxford'}, 'question': {29: 'What is the work location of Ben Goldacre?'}, 'output_meta_llama_3.1_8b_instruct': {29: 'University College London'}, 'eval_meta_llama_3.1_8b_instruct': {29: 0.0}, 'multiple_choices': {29: \"['Oxford', 'University College London', 'Cambridge', 'Imperial College London']\"}, 'paraphrased_question': {29: 'Where does Ben Goldacre work?'}, 'multiple_choice_with_letters': {29: 'A. Cambridge  B. Oxford  C. Imperial College London  D. University College London'}, 'multiple_choice_labels': {29: 'B'}, 'yes_question': {29: 'Is Oxford the work location of Ben Goldacre?'}, 'no_question': {29: 'Is University College London the work location of Ben Goldacre?'}, 'locality_question': {29: 'What is Ben Goldacre known for?'}, 'reversed_relation_question': {29: 'Who works in Oxford?'}, 'question_2hop': {29: 'Who is a notable colleague of Ben Goldacre at his work location?'}, 'answer_2hop': {29: 'Carl Heneghan'}, 'question_3hop': {29: 'What is the primary research focus of the notable colleague of Ben Goldacre at his work location?'}, 'answer_3hop': {29: 'Evidence-based medicine'}, 'question_4hop': {29: \"Which institution is known for its research in evidence-based medicine, where Ben Goldacre's notable colleague works?\"}, 'answer_4hop': {29: 'University of Oxford'}, 'question_5hop': {29: \"In which city is the institution located that is known for its research in evidence-based medicine, where Ben Goldacre's notable colleague works?\"}, 'answer_5hop': {29: 'Oxford'}, 'question_6hop': {29: \"In which country is the city located that contains the institution known for its research in evidence-based medicine, where Ben Goldacre's notable colleague works?\"}, 'answer_6hop': {29: 'United Kingdom'}, 'label': {29: nan}, 'output_mistral_7b_instruct_v0.3': {29: nan}, 'eval_mistral_7b_instruct_v0.3': {29: nan}}\n",
      "{'topic': {193: 'human_scientist'}, 'subject': {193: 'Óscar Ichazo'}, 'relation': {193: 'place of birth'}, 'object': {193: 'Bolivia'}, 'question': {193: 'What is the place of birth of Óscar Ichazo?'}, 'output_meta_llama_3.1_8b_instruct': {193: nan}, 'eval_meta_llama_3.1_8b_instruct': {193: nan}, 'multiple_choices': {193: \"['Bolivia', 'Chile', 'Argentina', 'Peru']\"}, 'paraphrased_question': {193: 'Where was Óscar Ichazo born?'}, 'multiple_choice_with_letters': {193: 'A. Chile  B. Argentina  C. Bolivia  D. Peru'}, 'multiple_choice_labels': {193: 'C'}, 'yes_question': {193: \"Is Óscar Ichazo's place of birth Bolivia?\"}, 'no_question': {193: \"Is Óscar Ichazo's place of birth Chile?\"}, 'locality_question': {193: 'What is Óscar Ichazo known for?'}, 'reversed_relation_question': {193: 'Who was born in Bolivia?'}, 'question_2hop': {193: 'What is the capital city of the country where Óscar Ichazo was born?'}, 'answer_2hop': {193: 'La Paz'}, 'question_3hop': {193: 'Which famous mountain range is near the capital city of the country where Óscar Ichazo was born?'}, 'answer_3hop': {193: 'Andes'}, 'question_4hop': {193: 'What is the highest peak in the mountain range near the capital city of the country where Óscar Ichazo was born?'}, 'answer_4hop': {193: 'Aconcagua'}, 'question_5hop': {193: 'In which country is the highest peak located in the mountain range near the capital city of the country where Óscar Ichazo was born?'}, 'answer_5hop': {193: 'Argentina'}, 'question_6hop': {193: 'What is the official language of the country where the highest peak is located in the mountain range near the capital city of the country where Óscar Ichazo was born?'}, 'answer_6hop': {193: 'Spanish'}, 'label': {193: 'Bolivia'}, 'output_mistral_7b_instruct_v0.3': {193: 'Chile'}, 'eval_mistral_7b_instruct_v0.3': {193: 0.0}}\n"
     ]
    },
    {
     "name": "stderr",
     "output_type": "stream",
     "text": [
      "09/14/2024 00:02:19 - INFO - httpx -   HTTP Request: POST https://n-central-us.openai.azure.com//openai/deployments/gpt-4o/chat/completions?api-version=2023-05-15 \"HTTP/1.1 200 OK\"\n"
     ]
    },
    {
     "name": "stdout",
     "output_type": "stream",
     "text": [
      "subject: Leonardo da Vinci, relation: place of burial, {'2hop_question': 'Who is buried in the same place as Leonardo da Vinci?', '2hop_answer': 'Charles VIII of France', '3hop_question': 'Who was the spouse of the person buried in the same place as Leonardo da Vinci?', '3hop_answer': 'Anne of Brittany', '4hop_question': 'Which duchy was ruled by the spouse of the person buried in the same place as Leonardo da Vinci?', '4hop_answer': 'Duchy of Brittany', '5hop_question': 'What is the capital of the duchy ruled by the spouse of the person buried in the same place as Leonardo da Vinci?', '5hop_answer': 'Nantes', '6hop_question': 'Which river flows through the capital of the duchy ruled by the spouse of the person buried in the same place as Leonardo da Vinci?', '6hop_answer': 'Loire River'}\n",
      "{'topic': {181: 'human_scientist'}, 'subject': {181: 'Andreas Böhm'}, 'relation': {181: 'place of birth'}, 'object': {181: 'Darmstadt'}, 'question': {181: 'What is the place of birth of Andreas Böhm?'}, 'output_meta_llama_3.1_8b_instruct': {181: nan}, 'eval_meta_llama_3.1_8b_instruct': {181: nan}, 'multiple_choices': {181: \"['Darmstadt', 'Austria', 'Berlin', 'Munich']\"}, 'paraphrased_question': {181: 'Where was Andreas Böhm born?'}, 'multiple_choice_with_letters': {181: 'A. Darmstadt  B. Berlin  C. Austria  D. Munich'}, 'multiple_choice_labels': {181: 'A'}, 'yes_question': {181: \"Is Andreas Böhm's place of birth Darmstadt?\"}, 'no_question': {181: \"Is Andreas Böhm's place of birth Austria?\"}, 'locality_question': {181: 'What is a notable profession of Andreas Böhm?'}, 'reversed_relation_question': {181: 'Who was born in Darmstadt?'}, 'question_2hop': {181: 'What is the capital city of the country where Andreas Böhm was born?'}, 'answer_2hop': {181: 'Vienna'}, 'question_3hop': {181: 'Which river flows through the capital city of the country where Andreas Böhm was born?'}, 'answer_3hop': {181: 'Danube'}, 'question_4hop': {181: 'What is the length of the river that flows through the capital city of the country where Andreas Böhm was born?'}, 'answer_4hop': {181: '2,850 km'}, 'question_5hop': {181: 'Which sea does the river that flows through the capital city of the country where Andreas Böhm was born empty into?'}, 'answer_5hop': {181: 'Black Sea'}, 'question_6hop': {181: 'Which country borders the sea into which the river that flows through the capital city of the country where Andreas Böhm was born empties?'}, 'answer_6hop': {181: 'Ukraine'}, 'label': {181: 'Darmstadt'}, 'output_mistral_7b_instruct_v0.3': {181: 'Austria'}, 'eval_mistral_7b_instruct_v0.3': {181: 0.0}}\n"
     ]
    },
    {
     "name": "stderr",
     "output_type": "stream",
     "text": [
      "09/14/2024 00:02:21 - INFO - httpx -   HTTP Request: POST https://n-central-us.openai.azure.com//openai/deployments/gpt-4o/chat/completions?api-version=2023-05-15 \"HTTP/1.1 200 OK\"\n"
     ]
    },
    {
     "name": "stdout",
     "output_type": "stream",
     "text": [
      "subject: Harrison Schmitt, relation: place of birth, {'2hop_question': 'What is the state of the place of birth of Harrison Schmitt?', '2hop_answer': 'New Mexico', '3hop_question': 'What is the capital of the state where Harrison Schmitt was born?', '3hop_answer': 'Santa Fe', '4hop_question': 'Which county is the capital of the state where Harrison Schmitt was born located in?', '4hop_answer': 'Santa Fe County', '5hop_question': 'What is the population of the county where the capital of the state Harrison Schmitt was born in is located?', '5hop_answer': 'Approximately 150,000', '6hop_question': 'What is the area in square miles of the county where the capital of the state Harrison Schmitt was born in is located?', '6hop_answer': '1,911 square miles'}\n"
     ]
    },
    {
     "name": "stderr",
     "output_type": "stream",
     "text": [
      "09/14/2024 00:02:25 - INFO - httpx -   HTTP Request: POST https://n-central-us.openai.azure.com//openai/deployments/gpt-4o/chat/completions?api-version=2023-05-15 \"HTTP/1.1 200 OK\"\n"
     ]
    },
    {
     "name": "stdout",
     "output_type": "stream",
     "text": [
      "subject: Karl Wien, relation: country of citizenship, {'2hop_question': 'What is the capital city of the country of citizenship of Karl Wien?', '2hop_answer': 'Vienna', '3hop_question': 'Which river flows through the capital city of the country of citizenship of Karl Wien?', '3hop_answer': 'Danube', '4hop_question': 'What is the length of the river that flows through the capital city of the country of citizenship of Karl Wien?', '4hop_answer': '2,850 km', '5hop_question': 'Which sea does the river that flows through the capital city of the country of citizenship of Karl Wien ultimately empty into?', '5hop_answer': 'Black Sea', '6hop_question': 'Which country borders the sea into which the river that flows through the capital city of the country of citizenship of Karl Wien empties?', '6hop_answer': 'Ukraine'}\n",
      "{'topic': {182: 'human_scientist'}, 'subject': {182: 'Elias Chacour'}, 'relation': {182: 'sex or gender'}, 'object': {182: 'male'}, 'question': {182: 'What is the sex or gender of Elias Chacour?'}, 'output_meta_llama_3.1_8b_instruct': {182: nan}, 'eval_meta_llama_3.1_8b_instruct': {182: nan}, 'multiple_choices': {182: \"['male', 'Not specified in the provided information', 'female', 'non-binary']\"}, 'paraphrased_question': {182: 'What gender does Elias Chacour identify as?'}, 'multiple_choice_with_letters': {182: 'A. female  B. non-binary  C. Not specified in the provided information  D. male'}, 'multiple_choice_labels': {182: 'D'}, 'yes_question': {182: 'Is the sex or gender of Elias Chacour male?'}, 'no_question': {182: 'Is the sex or gender of Elias Chacour not specified in the provided information?'}, 'locality_question': {182: 'What is a notable achievement or role of Elias Chacour?'}, 'reversed_relation_question': {182: 'Who is male in this context?'}, 'question_2hop': {182: 'What is the nationality of Elias Chacour, who is male?'}, 'answer_2hop': {182: 'Palestinian'}, 'question_3hop': {182: 'What is the primary language spoken by the nationality of Elias Chacour, who is male?'}, 'answer_3hop': {182: 'Arabic'}, 'question_4hop': {182: 'What is the predominant religion of the people who speak the primary language of the nationality of Elias Chacour, who is male?'}, 'answer_4hop': {182: 'Islam'}, 'question_5hop': {182: 'What is the holy book of the predominant religion of the people who speak the primary language of the nationality of Elias Chacour, who is male?'}, 'answer_5hop': {182: 'Quran'}, 'question_6hop': {182: 'In which century was the holy book of the predominant religion of the people who speak the primary language of the nationality of Elias Chacour, who is male, revealed?'}, 'answer_6hop': {182: '7th century'}, 'label': {182: 'male'}, 'output_mistral_7b_instruct_v0.3': {182: 'Not specified in the provided information'}, 'eval_mistral_7b_instruct_v0.3': {182: 0.0}}\n"
     ]
    },
    {
     "name": "stderr",
     "output_type": "stream",
     "text": [
      "09/14/2024 00:02:29 - INFO - httpx -   HTTP Request: POST https://n-central-us.openai.azure.com//openai/deployments/gpt-4o/chat/completions?api-version=2023-05-15 \"HTTP/1.1 200 OK\"\n"
     ]
    },
    {
     "name": "stdout",
     "output_type": "stream",
     "text": [
      "subject: Sheldon Glashow, relation: notable work, {'2hop_question': 'Who was the co-author of the notable work of Sheldon Glashow?', '2hop_answer': 'Steven Weinberg', '3hop_question': 'Which prestigious award did the co-author of the notable work of Sheldon Glashow win?', '3hop_answer': 'Nobel Prize in Physics', '4hop_question': 'In which year did the co-author of the notable work of Sheldon Glashow win the Nobel Prize in Physics?', '4hop_answer': '1979', '5hop_question': 'Which institution was the co-author of the notable work of Sheldon Glashow affiliated with when he won the Nobel Prize in Physics?', '5hop_answer': 'Harvard University', '6hop_question': 'In which city is the institution located where the co-author of the notable work of Sheldon Glashow was affiliated when he won the Nobel Prize in Physics?', '6hop_answer': 'Cambridge'}\n"
     ]
    },
    {
     "name": "stderr",
     "output_type": "stream",
     "text": [
      "09/14/2024 00:02:32 - INFO - httpx -   HTTP Request: POST https://n-central-us.openai.azure.com//openai/deployments/gpt-4o/chat/completions?api-version=2023-05-15 \"HTTP/1.1 200 OK\"\n"
     ]
    },
    {
     "name": "stdout",
     "output_type": "stream",
     "text": [
      "subject: Hunayn ibn Ishaq, relation: country of citizenship, {'2hop_question': 'What is the primary language spoken in the country of citizenship of Hunayn ibn Ishaq?', '2hop_answer': 'Arabic', '3hop_question': 'What is the capital city of the country where the primary language is Arabic and is the country of citizenship of Hunayn ibn Ishaq?', '3hop_answer': 'Baghdad', '4hop_question': 'Which river flows through the capital city of the country where the primary language is Arabic and is the country of citizenship of Hunayn ibn Ishaq?', '4hop_answer': 'Tigris River', '5hop_question': 'What is the length of the river that flows through the capital city of the country where the primary language is Arabic and is the country of citizenship of Hunayn ibn Ishaq?', '5hop_answer': '1,850 kilometers', '6hop_question': 'Into which body of water does the river that flows through the capital city of the country where the primary language is Arabic and is the country of citizenship of Hunayn ibn Ishaq ultimately empty?', '6hop_answer': 'Persian Gulf'}\n"
     ]
    },
    {
     "name": "stderr",
     "output_type": "stream",
     "text": [
      "09/14/2024 00:02:35 - INFO - httpx -   HTTP Request: POST https://n-central-us.openai.azure.com//openai/deployments/gpt-4o/chat/completions?api-version=2023-05-15 \"HTTP/1.1 200 OK\"\n"
     ]
    },
    {
     "name": "stdout",
     "output_type": "stream",
     "text": [
      "subject: Vitaly Ginzburg, relation: place of burial, {'2hop_question': 'Who is buried in the same place as Vitaly Ginzburg?', '2hop_answer': 'Andrei Sakharov', '3hop_question': 'What was the profession of the person who is buried in the same place as Vitaly Ginzburg?', '3hop_answer': 'Physicist', '4hop_question': 'Which prestigious award did the physicist who is buried in the same place as Vitaly Ginzburg receive?', '4hop_answer': 'Nobel Peace Prize', '5hop_question': 'In which year did the physicist who is buried in the same place as Vitaly Ginzburg receive the Nobel Peace Prize?', '5hop_answer': '1975', '6hop_question': 'Which organization awarded the Nobel Peace Prize to the physicist who is buried in the same place as Vitaly Ginzburg?', '6hop_answer': 'Norwegian Nobel Committee'}\n"
     ]
    },
    {
     "name": "stderr",
     "output_type": "stream",
     "text": [
      "09/14/2024 00:02:38 - INFO - httpx -   HTTP Request: POST https://n-central-us.openai.azure.com//openai/deployments/gpt-4o/chat/completions?api-version=2023-05-15 \"HTTP/1.1 200 OK\"\n"
     ]
    },
    {
     "name": "stdout",
     "output_type": "stream",
     "text": [
      "subject: Jacques Curie, relation: employer, {'2hop_question': 'Who was the employer of Jacques Curie?', '2hop_answer': 'University of Montpellier', '3hop_question': 'In which country is the University of Montpellier, the employer of Jacques Curie, located?', '3hop_answer': 'France', '4hop_question': 'What is the official language of the country where the University of Montpellier, the employer of Jacques Curie, is located?', '4hop_answer': 'French', '5hop_question': 'What is the capital city of the country where the University of Montpellier, the employer of Jacques Curie, is located?', '5hop_answer': 'Paris', '6hop_question': 'Which river flows through the capital city of the country where the University of Montpellier, the employer of Jacques Curie, is located?', '6hop_answer': 'Seine'}\n"
     ]
    },
    {
     "name": "stderr",
     "output_type": "stream",
     "text": [
      "09/14/2024 00:02:39 - INFO - httpx -   HTTP Request: POST https://n-central-us.openai.azure.com//openai/deployments/gpt-4o/chat/completions?api-version=2023-05-15 \"HTTP/1.1 200 OK\"\n"
     ]
    },
    {
     "name": "stdout",
     "output_type": "stream",
     "text": [
      "subject: Jan Baptist van Helmont, relation: sex or gender, {'2hop_question': 'Who is the spouse of Jan Baptist van Helmont?', '2hop_answer': 'Margriet van Ranst', '3hop_question': 'What is the birthplace of the spouse of Jan Baptist van Helmont?', '3hop_answer': 'Antwerp', '4hop_question': 'In which country is the birthplace of the spouse of Jan Baptist van Helmont located?', '4hop_answer': 'Belgium', '5hop_question': 'What is the official language of the country where the birthplace of the spouse of Jan Baptist van Helmont is located?', '5hop_answer': 'Dutch, French, German', '6hop_question': 'What is the capital city of the country where the birthplace of the spouse of Jan Baptist van Helmont is located?', '6hop_answer': 'Brussels'}\n"
     ]
    },
    {
     "name": "stderr",
     "output_type": "stream",
     "text": [
      "09/14/2024 00:02:42 - INFO - httpx -   HTTP Request: POST https://n-central-us.openai.azure.com//openai/deployments/gpt-4o/chat/completions?api-version=2023-05-15 \"HTTP/1.1 200 OK\"\n"
     ]
    },
    {
     "name": "stdout",
     "output_type": "stream",
     "text": [
      "subject: Galileo Galilei, relation: notable work, {'2hop_question': 'What is a notable work of Galileo Galilei?', '2hop_answer': 'Dialogue Concerning the Two Chief World Systems', '3hop_question': \"In which year was the notable work 'Dialogue Concerning the Two Chief World Systems' by Galileo Galilei published?\", '3hop_answer': '1632', '4hop_question': \"Who was the Pope during the year when Galileo Galilei's notable work 'Dialogue Concerning the Two Chief World Systems' was published?\", '4hop_answer': 'Pope Urban VIII', '5hop_question': \"What was the birth name of the Pope who was in power when Galileo Galilei's notable work 'Dialogue Concerning the Two Chief World Systems' was published?\", '5hop_answer': 'Maffeo Barberini', '6hop_question': \"In which city was Maffeo Barberini, the Pope during the publication of Galileo Galilei's notable work 'Dialogue Concerning the Two Chief World Systems,' born?\", '6hop_answer': 'Florence'}\n"
     ]
    },
    {
     "name": "stderr",
     "output_type": "stream",
     "text": [
      "09/14/2024 00:02:45 - INFO - httpx -   HTTP Request: POST https://n-central-us.openai.azure.com//openai/deployments/gpt-4o/chat/completions?api-version=2023-05-15 \"HTTP/1.1 200 OK\"\n"
     ]
    },
    {
     "name": "stdout",
     "output_type": "stream",
     "text": [
      "subject: Edward Waring, relation: sex or gender, {'2hop_question': 'What is the sex or gender of Edward Waring?', '2hop_answer': 'Male', '3hop_question': 'What is the profession of the male Edward Waring?', '3hop_answer': 'Mathematician', '4hop_question': 'Which university did the mathematician Edward Waring attend?', '4hop_answer': 'University of Cambridge', '5hop_question': 'In which city is the University of Cambridge, where the mathematician Edward Waring attended, located?', '5hop_answer': 'Cambridge', '6hop_question': 'In which country is the city of Cambridge, where the University of Cambridge is located, that the mathematician Edward Waring attended?', '6hop_answer': 'United Kingdom'}\n",
      "{'topic': {67: 'human_scientist'}, 'subject': {67: 'Maurice Bucaille'}, 'relation': {67: 'place of birth'}, 'object': {67: \"Pont-l'Évêque\"}, 'question': {67: 'What is the place of birth of Maurice Bucaille?'}, 'output_meta_llama_3.1_8b_instruct': {67: 'Paris'}, 'eval_meta_llama_3.1_8b_instruct': {67: 0.0}, 'multiple_choices': {67: '[\"Pont-l\\'Évêque\", \\'Paris\\', \\'Lyon\\', \\'Marseille\\']'}, 'paraphrased_question': {67: 'Where was Maurice Bucaille born?'}, 'multiple_choice_with_letters': {67: \"A. Paris  B. Pont-l'Évêque  C. Lyon  D. Marseille\"}, 'multiple_choice_labels': {67: 'B'}, 'yes_question': {67: \"Is Maurice Bucaille's place of birth Pont-l'Évêque?\"}, 'no_question': {67: \"Is Maurice Bucaille's place of birth Paris?\"}, 'locality_question': {67: 'What is Maurice Bucaille known for?'}, 'reversed_relation_question': {67: \"Who was born in Pont-l'Évêque?\"}, 'question_2hop': {67: 'What is the country of the place of birth of Maurice Bucaille?'}, 'answer_2hop': {67: 'France'}, 'question_3hop': {67: 'What is the capital city of the country where Maurice Bucaille was born?'}, 'answer_3hop': {67: 'Paris'}, 'question_4hop': {67: 'Which river flows through the capital city of the country where Maurice Bucaille was born?'}, 'answer_4hop': {67: 'Seine'}, 'question_5hop': {67: 'What is the length of the river that flows through the capital city of the country where Maurice Bucaille was born?'}, 'answer_5hop': {67: '777 kilometers'}, 'question_6hop': {67: 'Into which body of water does the river that flows through the capital city of the country where Maurice Bucaille was born empty?'}, 'answer_6hop': {67: 'English Channel'}, 'label': {67: nan}, 'output_mistral_7b_instruct_v0.3': {67: nan}, 'eval_mistral_7b_instruct_v0.3': {67: nan}}\n",
      "{'topic': {159: 'human_scientist'}, 'subject': {159: 'Jim Simons'}, 'relation': {159: 'doctoral advisor'}, 'object': {159: 'Bertram Kostant'}, 'question': {159: 'Who is the doctoral advisor of Jim Simons?'}, 'output_meta_llama_3.1_8b_instruct': {159: nan}, 'eval_meta_llama_3.1_8b_instruct': {159: nan}, 'multiple_choices': {159: \"['Bertram Kostant', 'Robert Solow', 'John Nash', 'Paul Samuelson']\"}, 'paraphrased_question': {159: \"Who supervised Jim Simons' doctoral studies?\"}, 'multiple_choice_with_letters': {159: 'A. Robert Solow  B. Paul Samuelson  C. Bertram Kostant  D. John Nash'}, 'multiple_choice_labels': {159: 'C'}, 'yes_question': {159: 'Is Bertram Kostant the doctoral advisor of Jim Simons?'}, 'no_question': {159: 'Is Robert Solow the doctoral advisor of Jim Simons?'}, 'locality_question': {159: 'What is Jim Simons known for in the field of mathematics?'}, 'reversed_relation_question': {159: 'Who was advised by Bertram Kostant?'}, 'question_2hop': {159: 'Who was the doctoral advisor of Jim Simons?'}, 'answer_2hop': {159: 'Bertram Kostant'}, 'question_3hop': {159: 'Which university did the doctoral advisor of Jim Simons work at?'}, 'answer_3hop': {159: 'Massachusetts Institute of Technology (MIT)'}, 'question_4hop': {159: \"In which city is the university where Jim Simons' doctoral advisor worked located?\"}, 'answer_4hop': {159: 'Cambridge'}, 'question_5hop': {159: \"In which state is the city located where the university that Jim Simons' doctoral advisor worked at is situated?\"}, 'answer_5hop': {159: 'Massachusetts'}, 'question_6hop': {159: \"In which country is the state located where the city is situated that contains the university where Jim Simons' doctoral advisor worked?\"}, 'answer_6hop': {159: 'United States'}, 'label': {159: 'Bertram Kostant'}, 'output_mistral_7b_instruct_v0.3': {159: 'Robert Solow'}, 'eval_mistral_7b_instruct_v0.3': {159: 0.0}}\n",
      "{'topic': {50: 'human_scientist'}, 'subject': {50: 'Robert Dilts'}, 'relation': {50: 'residence'}, 'object': {50: 'Santa Cruz'}, 'question': {50: 'What is the residence of Robert Dilts?'}, 'output_meta_llama_3.1_8b_instruct': {50: 'California'}, 'eval_meta_llama_3.1_8b_instruct': {50: 0.0}, 'multiple_choices': {50: \"['Santa Cruz', 'California', 'Los Angeles', 'San Francisco']\"}, 'paraphrased_question': {50: 'Where does Robert Dilts live?'}, 'multiple_choice_with_letters': {50: 'A. San Francisco  B. California  C. Santa Cruz  D. Los Angeles'}, 'multiple_choice_labels': {50: 'C'}, 'yes_question': {50: 'Is the residence of Robert Dilts Santa Cruz?'}, 'no_question': {50: 'Is the residence of Robert Dilts California?'}, 'locality_question': {50: 'What is Robert Dilts known for?'}, 'reversed_relation_question': {50: 'Who resides in Santa Cruz?'}, 'question_2hop': {50: 'What is the name of the city where Robert Dilts resides?'}, 'answer_2hop': {50: 'Santa Cruz'}, 'question_3hop': {50: 'Which state is the city located in where Robert Dilts resides?'}, 'answer_3hop': {50: 'California'}, 'question_4hop': {50: 'What is the country of the state where the city is located that Robert Dilts resides in?'}, 'answer_4hop': {50: 'United States'}, 'question_5hop': {50: 'What is the continent of the country where the state is located that contains the city where Robert Dilts resides?'}, 'answer_5hop': {50: 'North America'}, 'question_6hop': {50: 'What is the largest ocean bordering the continent where the country is located that contains the state where the city is situated that Robert Dilts resides in?'}, 'answer_6hop': {50: 'Pacific Ocean'}, 'label': {50: nan}, 'output_mistral_7b_instruct_v0.3': {50: nan}, 'eval_mistral_7b_instruct_v0.3': {50: nan}}\n",
      "{'topic': {142: 'human_scientist'}, 'subject': {142: 'Andrea M. Ghez'}, 'relation': {142: 'doctoral advisor'}, 'object': {142: 'Gerald Neugebauer'}, 'question': {142: 'Who is the doctoral advisor of Andrea M. Ghez?'}, 'output_meta_llama_3.1_8b_instruct': {142: nan}, 'eval_meta_llama_3.1_8b_instruct': {142: nan}, 'multiple_choices': {142: \"['Gerald Neugebauer', 'Charles Townes', 'Kip Thorne', 'Richard Feynman']\"}, 'paraphrased_question': {142: \"Who supervised Andrea M. Ghez's doctoral studies?\"}, 'multiple_choice_with_letters': {142: 'A. Charles Townes  B. Kip Thorne  C. Gerald Neugebauer  D. Richard Feynman'}, 'multiple_choice_labels': {142: 'C'}, 'yes_question': {142: 'Is Gerald Neugebauer the doctoral advisor of Andrea M. Ghez?'}, 'no_question': {142: 'Is Charles Townes the doctoral advisor of Andrea M. Ghez?'}, 'locality_question': {142: 'What prestigious award has Andrea M. Ghez won?'}, 'reversed_relation_question': {142: 'Who is the doctoral student of Gerald Neugebauer?'}, 'question_2hop': {142: 'Who was the doctoral advisor of Andrea M. Ghez?'}, 'answer_2hop': {142: 'Gerry Neugebauer'}, 'question_3hop': {142: 'Which university did the doctoral advisor of Andrea M. Ghez work at?'}, 'answer_3hop': {142: 'California Institute of Technology'}, 'question_4hop': {142: 'In which city is the university located where the doctoral advisor of Andrea M. Ghez worked?'}, 'answer_4hop': {142: 'Pasadena'}, 'question_5hop': {142: 'In which state is the city located where the university is situated that the doctoral advisor of Andrea M. Ghez worked at?'}, 'answer_5hop': {142: 'California'}, 'question_6hop': {142: 'In which country is the state located where the city is situated that contains the university where the doctoral advisor of Andrea M. Ghez worked?'}, 'answer_6hop': {142: 'United States'}, 'label': {142: 'Gerald Neugebauer'}, 'output_mistral_7b_instruct_v0.3': {142: 'Charles Townes'}, 'eval_mistral_7b_instruct_v0.3': {142: 0.0}}\n"
     ]
    },
    {
     "name": "stderr",
     "output_type": "stream",
     "text": [
      "09/14/2024 00:02:47 - INFO - httpx -   HTTP Request: POST https://n-central-us.openai.azure.com//openai/deployments/gpt-4o/chat/completions?api-version=2023-05-15 \"HTTP/1.1 200 OK\"\n"
     ]
    },
    {
     "name": "stdout",
     "output_type": "stream",
     "text": [
      "subject: Louis de Jaucourt, relation: sex or gender, {'2hop_question': 'Who was the spouse of Louis de Jaucourt?', '2hop_answer': 'Marie de La Rochefoucauld', '3hop_question': 'What was the title of the spouse of Louis de Jaucourt?', '3hop_answer': 'Duchess', '4hop_question': 'Which family did the spouse of Louis de Jaucourt belong to?', '4hop_answer': 'La Rochefoucauld', '5hop_question': 'What is the historical significance of the La Rochefoucauld family?', '5hop_answer': 'The La Rochefoucauld family is known for its influence in French nobility and politics.', '6hop_question': 'Which famous literary work was written by a member of the La Rochefoucauld family?', '6hop_answer': 'Maxims by François de La Rochefoucauld'}\n",
      "{'topic': {45: 'human_scientist'}, 'subject': {45: 'Paul Dirac'}, 'relation': {45: 'doctoral advisor'}, 'object': {45: 'Ralph H. Fowwlerr'}, 'question': {45: 'Who is the doctoral advisor of Paul Dirac?'}, 'output_meta_llama_3.1_8b_instruct': {45: \"Paul Dirac's doctoral advisor was Ralph Fowler\"}, 'eval_meta_llama_3.1_8b_instruct': {45: 0.0}, 'multiple_choices': {45: '[\\'Ralph H. Fowler\\', \"Paul Dirac\\'s doctoral advisor was Ralph Fowler\", \\'Albert Einstein\\', \\'Niels Bohr\\']'}, 'paraphrased_question': {45: \"Who supervised Paul Dirac's doctoral studies?\"}, 'multiple_choice_with_letters': {45: \"A. Niels Bohr  B. Ralph H. Fowwlerr  C. Paul Dirac's doctoral advisor was Ralph Fowler  D. Albert Einstein\"}, 'multiple_choice_labels': {45: 'B'}, 'yes_question': {45: 'Is Ralph H. Fowler the doctoral advisor of Paul Dirac?'}, 'no_question': {45: \"Is Paul Dirac's doctoral advisor Ralph Fowler?\"}, 'locality_question': {45: 'What is Paul Dirac known for in the field of physics?'}, 'reversed_relation_question': {45: 'Who was the doctoral student of Ralph H. Fowler?'}, 'question_2hop': {45: 'Who was the doctoral advisor of Paul Dirac?'}, 'answer_2hop': {45: 'Ralph Fowler'}, 'question_3hop': {45: 'Which university did the doctoral advisor of Paul Dirac work at?'}, 'answer_3hop': {45: 'University of Cambridge'}, 'question_4hop': {45: 'In which city is the university located where the doctoral advisor of Paul Dirac worked?'}, 'answer_4hop': {45: 'Cambridge'}, 'question_5hop': {45: 'In which country is the city located where the university that the doctoral advisor of Paul Dirac worked at is situated?'}, 'answer_5hop': {45: 'United Kingdom'}, 'question_6hop': {45: 'What is the official language of the country where the city is located that contains the university where the doctoral advisor of Paul Dirac worked?'}, 'answer_6hop': {45: 'English'}, 'label': {45: nan}, 'output_mistral_7b_instruct_v0.3': {45: nan}, 'eval_mistral_7b_instruct_v0.3': {45: nan}}\n"
     ]
    },
    {
     "name": "stderr",
     "output_type": "stream",
     "text": [
      "09/14/2024 00:02:49 - INFO - httpx -   HTTP Request: POST https://n-central-us.openai.azure.com//openai/deployments/gpt-4o/chat/completions?api-version=2023-05-15 \"HTTP/1.1 200 OK\"\n"
     ]
    },
    {
     "name": "stdout",
     "output_type": "stream",
     "text": [
      "subject: Jacques Curie, relation: father, {'2hop_question': \"Who is the son of Jacques Curie's father?\", '2hop_answer': 'Pierre Curie', '3hop_question': \"Who is the spouse of the son of Jacques Curie's father?\", '3hop_answer': 'Marie Curie', '4hop_question': \"What is the name of the first child of the spouse of the son of Jacques Curie's father?\", '4hop_answer': 'Irène Joliot-Curie', '5hop_question': \"Who is the spouse of the first child of the spouse of the son of Jacques Curie's father?\", '5hop_answer': 'Frédéric Joliot-Curie', '6hop_question': \"What is the name of the second child of the spouse of the first child of the spouse of the son of Jacques Curie's father?\", '6hop_answer': 'Hélène Langevin-Joliot'}\n"
     ]
    },
    {
     "name": "stderr",
     "output_type": "stream",
     "text": [
      "09/14/2024 00:02:52 - INFO - httpx -   HTTP Request: POST https://n-central-us.openai.azure.com//openai/deployments/gpt-4o/chat/completions?api-version=2023-05-15 \"HTTP/1.1 200 OK\"\n"
     ]
    },
    {
     "name": "stdout",
     "output_type": "stream",
     "text": [
      "subject: Vladimir Shukhov, relation: sex or gender, {'2hop_question': 'What is the profession of the person with the same sex or gender as Vladimir Shukhov?', '2hop_answer': 'Engineer', '3hop_question': 'What is a notable invention by the engineer who shares the same sex or gender as Vladimir Shukhov?', '3hop_answer': 'Hyperboloid structures', '4hop_question': 'In which country was the notable invention by the engineer who shares the same sex or gender as Vladimir Shukhov first implemented?', '4hop_answer': 'Russia', '5hop_question': 'Which city in Russia first saw the implementation of the notable invention by the engineer who shares the same sex or gender as Vladimir Shukhov?', '5hop_answer': 'Moscow', '6hop_question': 'What is the name of a famous tower in Moscow that was designed by the engineer who shares the same sex or gender as Vladimir Shukhov?', '6hop_answer': 'Shukhov Tower'}\n",
      "{'topic': {95: 'human_scientist', 102: 'human_scientist'}, 'subject': {95: 'Abraham von Humbert', 102: 'Abraham von Humbert'}, 'relation': {95: 'country of citizenship', 102: 'country of citizenship'}, 'object': {95: 'Germany', 102: 'Germany'}, 'question': {95: 'What is the country of citizenship of Abraham von Humbert?', 102: 'What is the country of citizenship of Abraham von Humbert?'}, 'output_meta_llama_3.1_8b_instruct': {95: 'Austria', 102: nan}, 'eval_meta_llama_3.1_8b_instruct': {95: 0.0, 102: nan}, 'multiple_choices': {95: \"['Germany', 'Austria', 'Switzerland', 'Netherlands']\", 102: \"['Germany', 'Austria', 'Switzerland', 'Netherlands']\"}, 'paraphrased_question': {95: 'Which country is Abraham von Humbert a citizen of?', 102: 'Which country is Abraham von Humbert a citizen of?'}, 'multiple_choice_with_letters': {95: 'A. Germany  B. Austria  C. Switzerland  D. Netherlands', 102: 'A. Switzerland  B. Germany  C. Netherlands  D. Austria'}, 'multiple_choice_labels': {95: 'A', 102: 'B'}, 'yes_question': {95: 'Is the country of citizenship of Abraham von Humbert Germany?', 102: 'Is the country of citizenship of Abraham von Humbert Germany?'}, 'no_question': {95: 'Is the country of citizenship of Abraham von Humbert Austria?', 102: 'Is the country of citizenship of Abraham von Humbert Austria?'}, 'locality_question': {95: 'What is a notable profession or occupation of Abraham von Humbert?', 102: 'What is a well-known historical event associated with Abraham von Humbert?'}, 'reversed_relation_question': {95: 'Who is a citizen of Germany?', 102: 'Who is a citizen of Germany?'}, 'question_2hop': {95: 'Who is a notable historical figure from the country of citizenship of Abraham von Humbert?', 102: 'Who is a notable political figure from the country of citizenship of Abraham von Humbert?'}, 'answer_2hop': {95: 'Johann Wolfgang von Goethe', 102: 'Angela Merkel'}, 'question_3hop': {95: 'What is a famous work by the notable historical figure from the country of citizenship of Abraham von Humbert?', 102: 'Which university did the notable political figure from the country of citizenship of Abraham von Humbert attend?'}, 'answer_3hop': {95: 'Faust', 102: 'University of Leipzig'}, 'question_4hop': {95: 'Who is the main character in the famous work by the notable historical figure from the country of citizenship of Abraham von Humbert?', 102: 'In which city is the university located that the notable political figure from the country of citizenship of Abraham von Humbert attended?'}, 'answer_4hop': {95: 'Heinrich Faust', 102: 'Leipzig'}, 'question_5hop': {95: 'Who is the antagonist in the famous work that features the main character Heinrich Faust?', 102: 'In which state is the city located where the university attended by the notable political figure from the country of citizenship of Abraham von Humbert is situated?'}, 'answer_5hop': {95: 'Mephistopheles', 102: 'Saxony'}, 'question_6hop': {95: 'What is the profession of the antagonist in the famous work that features the main character Heinrich Faust?', 102: 'In which country is the state located where the city is situated that contains the university attended by the notable political figure from the country of citizenship of Abraham von Humbert?'}, 'answer_6hop': {95: 'Demon', 102: 'Germany'}, 'label': {95: nan, 102: 'Germany'}, 'output_mistral_7b_instruct_v0.3': {95: nan, 102: 'Austria'}, 'eval_mistral_7b_instruct_v0.3': {95: nan, 102: 0.0}}\n",
      "{'topic': {37: 'human_scientist'}, 'subject': {37: 'Christiaan Snouck'}, 'relation': {37: 'doctoral advisor'}, 'object': {37: 'Michael Jan de Goeje'}, 'question': {37: 'Who is the doctoral advisor of Christiaan Snouck?'}, 'output_meta_llama_3.1_8b_instruct': {37: 'Hendrik Doeff'}, 'eval_meta_llama_3.1_8b_instruct': {37: 0.0}, 'multiple_choices': {37: \"['Michael Jan de Goeje', 'Hendrik Doeff', 'Cornelis van Vollenhoven', 'Johan Huizinga']\"}, 'paraphrased_question': {37: \"Who supervised Christiaan Snouck's doctoral studies?\"}, 'multiple_choice_with_letters': {37: 'A. Cornelis van Vollenhoven  B. Hendrik Doeff  C. Johan Huizinga  D. Michael Jan de Goeje'}, 'multiple_choice_labels': {37: 'D'}, 'yes_question': {37: 'Is Michael Jan de Goeje the doctoral advisor of Christiaan Snouck?'}, 'no_question': {37: 'Is Hendrik Doeff the doctoral advisor of Christiaan Snouck?'}, 'locality_question': {37: 'What field is Christiaan Snouck known for?'}, 'reversed_relation_question': {37: 'Who is the doctoral student of Michael Jan de Goeje?'}, 'question_2hop': {37: 'Who was the doctoral advisor of Christiaan Snouck?'}, 'answer_2hop': {37: 'Theodor Nöldeke'}, 'question_3hop': {37: 'Which university did the doctoral advisor of Christiaan Snouck work at?'}, 'answer_3hop': {37: 'University of Strasbourg'}, 'question_4hop': {37: 'In which country is the university located where the doctoral advisor of Christiaan Snouck worked?'}, 'answer_4hop': {37: 'France'}, 'question_5hop': {37: 'What is the capital city of the country where the university is located that employed the doctoral advisor of Christiaan Snouck?'}, 'answer_5hop': {37: 'Paris'}, 'question_6hop': {37: 'Which river flows through the capital city of the country where the university is located that employed the doctoral advisor of Christiaan Snouck?'}, 'answer_6hop': {37: 'Seine'}, 'label': {37: nan}, 'output_mistral_7b_instruct_v0.3': {37: nan}, 'eval_mistral_7b_instruct_v0.3': {37: nan}}\n"
     ]
    },
    {
     "name": "stderr",
     "output_type": "stream",
     "text": [
      "09/14/2024 00:02:58 - INFO - httpx -   HTTP Request: POST https://n-central-us.openai.azure.com//openai/deployments/gpt-4o/chat/completions?api-version=2023-05-15 \"HTTP/1.1 200 OK\"\n"
     ]
    },
    {
     "name": "stdout",
     "output_type": "stream",
     "text": [
      "subject: Annie Scott Dill Maunder, relation: place of birth, {'2hop_question': 'What is the country of the place of birth of Annie Scott Dill Maunder?', '2hop_answer': 'Ireland', '3hop_question': 'What is the capital city of the country where Annie Scott Dill Maunder was born?', '3hop_answer': 'Dublin', '4hop_question': 'Which river flows through the capital city of the country where Annie Scott Dill Maunder was born?', '4hop_answer': 'River Liffey', '5hop_question': 'What is the length of the river that flows through the capital city of the country where Annie Scott Dill Maunder was born?', '5hop_answer': '125 kilometers', '6hop_question': 'Into which sea does the river that flows through the capital city of the country where Annie Scott Dill Maunder was born empty?', '6hop_answer': 'Irish Sea'}\n"
     ]
    },
    {
     "name": "stderr",
     "output_type": "stream",
     "text": [
      "09/14/2024 00:03:00 - INFO - httpx -   HTTP Request: POST https://n-central-us.openai.azure.com//openai/deployments/gpt-4o/chat/completions?api-version=2023-05-15 \"HTTP/1.1 200 OK\"\n"
     ]
    },
    {
     "name": "stdout",
     "output_type": "stream",
     "text": [
      "subject: Vaclav Smil, relation: sex or gender, {'2hop_question': 'What is the nationality of the person with the same sex or gender as Vaclav Smil?', '2hop_answer': 'Czech-Canadian', '3hop_question': 'What is the primary field of study of the Czech-Canadian person with the same sex or gender as Vaclav Smil?', '3hop_answer': 'Environmental Science', '4hop_question': 'Which university is associated with the Czech-Canadian environmental scientist with the same sex or gender as Vaclav Smil?', '4hop_answer': 'University of Manitoba', '5hop_question': 'In which city is the University of Manitoba, where the Czech-Canadian environmental scientist with the same sex or gender as Vaclav Smil is associated, located?', '5hop_answer': 'Winnipeg', '6hop_question': 'In which country is the city of Winnipeg, where the University of Manitoba is located, associated with the Czech-Canadian environmental scientist with the same sex or gender as Vaclav Smil?', '6hop_answer': 'Canada'}\n"
     ]
    },
    {
     "name": "stderr",
     "output_type": "stream",
     "text": [
      "09/14/2024 00:03:02 - INFO - httpx -   HTTP Request: POST https://n-central-us.openai.azure.com//openai/deployments/gpt-4o/chat/completions?api-version=2023-05-15 \"HTTP/1.1 200 OK\"\n"
     ]
    },
    {
     "name": "stdout",
     "output_type": "stream",
     "text": [
      "subject: Vitaly Ginzburg, relation: employer, {'2hop_question': 'Who is the founder of the employer of Vitaly Ginzburg?', '2hop_answer': 'Abram Ioffe', '3hop_question': 'Which university did the founder of the employer of Vitaly Ginzburg attend?', '3hop_answer': 'Saint Petersburg State University', '4hop_question': 'In which city is the university located that the founder of the employer of Vitaly Ginzburg attended?', '4hop_answer': 'Saint Petersburg', '5hop_question': 'In which country is the city located where the university that the founder of the employer of Vitaly Ginzburg attended is situated?', '5hop_answer': 'Russia', '6hop_question': 'What is the official language of the country where the city is located that contains the university the founder of the employer of Vitaly Ginzburg attended?', '6hop_answer': 'Russian'}\n"
     ]
    },
    {
     "name": "stderr",
     "output_type": "stream",
     "text": [
      "09/14/2024 00:03:05 - INFO - httpx -   HTTP Request: POST https://n-central-us.openai.azure.com//openai/deployments/gpt-4o/chat/completions?api-version=2023-05-15 \"HTTP/1.1 200 OK\"\n"
     ]
    },
    {
     "name": "stdout",
     "output_type": "stream",
     "text": [
      "subject: Yury Pobedonostsev, relation: place of death, {'2hop_question': 'What is the country where Yury Pobedonostsev died?', '2hop_answer': 'Russia', '3hop_question': 'What is the capital city of the country where Yury Pobedonostsev died?', '3hop_answer': 'Moscow', '4hop_question': 'What is the population of the capital city of the country where Yury Pobedonostsev died?', '4hop_answer': 'Approximately 12 million', '5hop_question': 'What is the name of the river that flows through the capital city of the country where Yury Pobedonostsev died?', '5hop_answer': 'Moskva River', '6hop_question': 'What is the length of the river that flows through the capital city of the country where Yury Pobedonostsev died?', '6hop_answer': 'Approximately 500 kilometers'}\n"
     ]
    },
    {
     "name": "stderr",
     "output_type": "stream",
     "text": [
      "09/14/2024 00:03:08 - INFO - httpx -   HTTP Request: POST https://n-central-us.openai.azure.com//openai/deployments/gpt-4o/chat/completions?api-version=2023-05-15 \"HTTP/1.1 200 OK\"\n"
     ]
    },
    {
     "name": "stdout",
     "output_type": "stream",
     "text": [
      "subject: Nikolai Pirogov, relation: field of work, {'2hop_question': 'What is a notable contribution in the field of work of Nikolai Pirogov?', '2hop_answer': 'Pioneering the use of ether as an anesthetic in field surgery', '3hop_question': 'In which war did Nikolai Pirogov pioneer the use of ether as an anesthetic in field surgery?', '3hop_answer': 'Crimean War', '4hop_question': 'Which countries were involved in the Crimean War where Nikolai Pirogov pioneered the use of ether as an anesthetic?', '4hop_answer': 'Russia, Ottoman Empire, France, United Kingdom, Sardinia', '5hop_question': 'Who was the ruler of Russia during the Crimean War when Nikolai Pirogov pioneered the use of ether as an anesthetic?', '5hop_answer': 'Tsar Nicholas I', '6hop_question': 'What was the capital of the Ottoman Empire during the Crimean War when Nikolai Pirogov pioneered the use of ether as an anesthetic?', '6hop_answer': 'Constantinople'}\n"
     ]
    },
    {
     "name": "stderr",
     "output_type": "stream",
     "text": [
      "09/14/2024 00:03:11 - INFO - httpx -   HTTP Request: POST https://n-central-us.openai.azure.com//openai/deployments/gpt-4o/chat/completions?api-version=2023-05-15 \"HTTP/1.1 200 OK\"\n"
     ]
    },
    {
     "name": "stdout",
     "output_type": "stream",
     "text": [
      "subject: Hugh H. Young, relation: sex or gender, {'2hop_question': 'What is the profession of Hugh H. Young, who is male?', '2hop_answer': 'Urologist', '3hop_question': 'Which university did Hugh H. Young, the urologist, attend?', '3hop_answer': 'University of Virginia', '4hop_question': 'In which city is the University of Virginia, where Hugh H. Young studied, located?', '4hop_answer': 'Charlottesville', '5hop_question': 'In which state is the city of Charlottesville, where the University of Virginia is located?', '5hop_answer': 'Virginia', '6hop_question': 'In which country is the state of Virginia, where the city of Charlottesville is located?', '6hop_answer': 'United States'}\n",
      "{'topic': {162: 'human_scientist'}, 'subject': {162: 'Sheldon Glashow'}, 'relation': {162: 'place of birth'}, 'object': {162: 'New York City'}, 'question': {162: 'What is the place of birth of Sheldon Glashow?'}, 'output_meta_llama_3.1_8b_instruct': {162: nan}, 'eval_meta_llama_3.1_8b_instruct': {162: nan}, 'multiple_choices': {162: \"['New York City', 'Brooklyn', 'Los Angeles', 'Chicago']\"}, 'paraphrased_question': {162: 'Where was Sheldon Glashow born?'}, 'multiple_choice_with_letters': {162: 'A. Brooklyn  B. New York City  C. Chicago  D. Los Angeles'}, 'multiple_choice_labels': {162: 'B'}, 'yes_question': {162: 'Was Sheldon Glashow born in New York City?'}, 'no_question': {162: 'Was Sheldon Glashow born in Brooklyn?'}, 'locality_question': {162: 'What notable scientific contribution is Sheldon Glashow known for?'}, 'reversed_relation_question': {162: 'Who was born in New York City?'}, 'question_2hop': {162: 'What is the population of the place of birth of Sheldon Glashow?'}, 'answer_2hop': {162: '8.336 million (as of 2020)'}, 'question_3hop': {162: 'What is the area in square miles of the place of birth of Sheldon Glashow?'}, 'answer_3hop': {162: '302.6 square miles'}, 'question_4hop': {162: 'What is the name of the mayor of the place of birth of Sheldon Glashow?'}, 'answer_4hop': {162: 'Eric Adams'}, 'question_5hop': {162: 'Which political party does the mayor of the place of birth of Sheldon Glashow belong to?'}, 'answer_5hop': {162: 'Democratic Party'}, 'question_6hop': {162: 'In which year did the current mayor of the place of birth of Sheldon Glashow assume office?'}, 'answer_6hop': {162: '2022'}, 'label': {162: 'New York City'}, 'output_mistral_7b_instruct_v0.3': {162: 'Brooklyn'}, 'eval_mistral_7b_instruct_v0.3': {162: 0.0}}\n",
      "{'topic': {141: 'human_scientist'}, 'subject': {141: 'Alberto Granado'}, 'relation': {141: 'field of work'}, 'object': {141: 'biochemistry'}, 'question': {141: 'What is the field of work of Alberto Granado?'}, 'output_meta_llama_3.1_8b_instruct': {141: nan}, 'eval_meta_llama_3.1_8b_instruct': {141: nan}, 'multiple_choices': {141: \"['biochemistry', 'Medicine', 'Physics', 'Engineering']\"}, 'paraphrased_question': {141: 'In which field did Alberto Granado work?'}, 'multiple_choice_with_letters': {141: 'A. Medicine  B. biochemistry  C. Engineering  D. Physics'}, 'multiple_choice_labels': {141: 'B'}, 'yes_question': {141: 'Is biochemistry the field of work of Alberto Granado?'}, 'no_question': {141: 'Is Medicine the field of work of Alberto Granado?'}, 'locality_question': {141: 'What nationality is Alberto Granado?'}, 'reversed_relation_question': {141: 'Who works in the field of biochemistry?'}, 'question_2hop': {141: 'Who was a famous friend of Alberto Granado in his field of work?'}, 'answer_2hop': {141: 'Che Guevara'}, 'question_3hop': {141: 'What was the profession of the famous friend of Alberto Granado in his field of work?'}, 'answer_3hop': {141: 'Revolutionary'}, 'question_4hop': {141: 'In which country did the famous friend of Alberto Granado, who was a revolutionary, play a significant role?'}, 'answer_4hop': {141: 'Cuba'}, 'question_5hop': {141: 'What is the capital city of the country where the famous friend of Alberto Granado, who was a revolutionary, played a significant role?'}, 'answer_5hop': {141: 'Havana'}, 'question_6hop': {141: 'What is the official language of the country whose capital city is Havana, where the famous friend of Alberto Granado played a significant role?'}, 'answer_6hop': {141: 'Spanish'}, 'label': {141: 'biochemistry'}, 'output_mistral_7b_instruct_v0.3': {141: 'Medicine'}, 'eval_mistral_7b_instruct_v0.3': {141: 0.0}}\n"
     ]
    },
    {
     "name": "stderr",
     "output_type": "stream",
     "text": [
      "09/14/2024 00:03:12 - INFO - httpx -   HTTP Request: POST https://n-central-us.openai.azure.com//openai/deployments/gpt-4o/chat/completions?api-version=2023-05-15 \"HTTP/1.1 200 OK\"\n"
     ]
    },
    {
     "name": "stdout",
     "output_type": "stream",
     "text": [
      "subject: Francesco Redi, relation: sex or gender, {'2hop_question': 'Who was the spouse of Francesco Redi?', '2hop_answer': 'Francesco Redi was never married.', '3hop_question': 'What was the profession of Francesco Redi?', '3hop_answer': 'Physician and biologist', '4hop_question': 'Which university did Francesco Redi attend?', '4hop_answer': 'University of Pisa', '5hop_question': 'In which city is the University of Pisa located?', '5hop_answer': 'Pisa', '6hop_question': 'In which country is the city of Pisa located?', '6hop_answer': 'Italy'}\n"
     ]
    },
    {
     "name": "stderr",
     "output_type": "stream",
     "text": [
      "09/14/2024 00:03:15 - INFO - httpx -   HTTP Request: POST https://n-central-us.openai.azure.com//openai/deployments/gpt-4o/chat/completions?api-version=2023-05-15 \"HTTP/1.1 200 OK\"\n"
     ]
    },
    {
     "name": "stdout",
     "output_type": "stream",
     "text": [
      "subject: Clay Shirky, relation: field of work, {'2hop_question': 'Who is a notable colleague in the field of work of Clay Shirky?', '2hop_answer': 'Lawrence Lessig', '3hop_question': 'Which university is a notable colleague of Clay Shirky, Lawrence Lessig, affiliated with?', '3hop_answer': 'Harvard University', '4hop_question': 'What is the name of the law school at the university where Lawrence Lessig, a notable colleague of Clay Shirky, is affiliated?', '4hop_answer': 'Harvard Law School', '5hop_question': 'Who is a famous alumnus of the law school at the university where Lawrence Lessig, a notable colleague of Clay Shirky, is affiliated?', '5hop_answer': 'Barack Obama', '6hop_question': 'Which political office did the famous alumnus of the law school at the university where Lawrence Lessig, a notable colleague of Clay Shirky, is affiliated, hold?', '6hop_answer': 'President of the United States'}\n",
      "{'topic': {92: 'human_scientist'}, 'subject': {92: 'Alain Badiou'}, 'relation': {92: 'father'}, 'object': {92: 'Raymond Badiou'}, 'question': {92: 'Who is the father of Alain Badiou?'}, 'output_meta_llama_3.1_8b_instruct': {92: 'Louis Badiou'}, 'eval_meta_llama_3.1_8b_instruct': {92: 0.0}, 'multiple_choices': {92: \"['Raymond Badiou', 'Louis Badiou', 'Jean Badiou', 'Pierre Badiou']\"}, 'paraphrased_question': {92: \"Who is Alain Badiou's father?\"}, 'multiple_choice_with_letters': {92: 'A. Louis Badiou  B. Raymond Badiou  C. Jean Badiou  D. Pierre Badiou'}, 'multiple_choice_labels': {92: 'B'}, 'yes_question': {92: 'Is Raymond Badiou the father of Alain Badiou?'}, 'no_question': {92: 'Is Louis Badiou the father of Alain Badiou?'}, 'locality_question': {92: 'What is Alain Badiou known for?'}, 'reversed_relation_question': {92: 'Who is the son of Raymond Badiou?'}, 'question_2hop': {92: \"What was the profession of Alain Badiou's father?\"}, 'answer_2hop': {92: 'Mathematician'}, 'question_3hop': {92: \"Which university did Alain Badiou's father work at?\"}, 'answer_3hop': {92: 'University of Toulouse'}, 'question_4hop': {92: \"In which city is the university where Alain Badiou's father worked located?\"}, 'answer_4hop': {92: 'Toulouse'}, 'question_5hop': {92: \"In which region is the city located where the university that Alain Badiou's father worked at is situated?\"}, 'answer_5hop': {92: 'Occitanie'}, 'question_6hop': {92: \"In which country is the region located where the city is situated that contains the university where Alain Badiou's father worked?\"}, 'answer_6hop': {92: 'France'}, 'label': {92: nan}, 'output_mistral_7b_instruct_v0.3': {92: nan}, 'eval_mistral_7b_instruct_v0.3': {92: nan}}\n"
     ]
    },
    {
     "name": "stderr",
     "output_type": "stream",
     "text": [
      "09/14/2024 00:03:18 - INFO - httpx -   HTTP Request: POST https://n-central-us.openai.azure.com//openai/deployments/gpt-4o/chat/completions?api-version=2023-05-15 \"HTTP/1.1 200 OK\"\n"
     ]
    },
    {
     "name": "stdout",
     "output_type": "stream",
     "text": [
      "subject: Andre Geim, relation: spouse, {'2hop_question': \"What is the profession of Andre Geim's spouse?\", '2hop_answer': 'Physicist', '3hop_question': 'Which university does the spouse of Andre Geim work at?', '3hop_answer': 'University of Manchester', '4hop_question': \"In which city is the university where Andre Geim's spouse works located?\", '4hop_answer': 'Manchester', '5hop_question': \"In which country is the city located where the university that employs Andre Geim's spouse is situated?\", '5hop_answer': 'United Kingdom', '6hop_question': \"What is the official language of the country where the city is located that contains the university employing Andre Geim's spouse?\", '6hop_answer': 'English'}\n",
      "{'topic': {136: 'human_scientist'}, 'subject': {136: 'Karl Wien'}, 'relation': {136: 'father'}, 'object': {136: 'Wilhelm Wien'}, 'question': {136: 'Who is the father of Karl Wien?'}, 'output_meta_llama_3.1_8b_instruct': {136: nan}, 'eval_meta_llama_3.1_8b_instruct': {136: nan}, 'multiple_choices': {136: \"['Wilhelm Wien', 'Gustav Wien', 'Max Wien', 'Albert Wien']\"}, 'paraphrased_question': {136: \"Who is Karl Wien's father?\"}, 'multiple_choice_with_letters': {136: 'A. Wilhelm Wien  B. Gustav Wien  C. Albert Wien  D. Max Wien'}, 'multiple_choice_labels': {136: 'A'}, 'yes_question': {136: 'Is Wilhelm Wien the father of Karl Wien?'}, 'no_question': {136: 'Is Gustav Wien the father of Karl Wien?'}, 'locality_question': {136: 'What is Karl Wien known for?'}, 'reversed_relation_question': {136: 'Who is the son of Wilhelm Wien?'}, 'question_2hop': {136: \"Who is the spouse of Karl Wien's father?\"}, 'answer_2hop': {136: \"Karl Wien's mother\"}, 'question_3hop': {136: \"What is the profession of the spouse of Karl Wien's father?\"}, 'answer_3hop': {136: 'Unknown'}, 'question_4hop': {136: \"Which country was the spouse of Karl Wien's father born in?\"}, 'answer_4hop': {136: 'Unknown'}, 'question_5hop': {136: \"What is the native language of the country where the spouse of Karl Wien's father was born?\"}, 'answer_5hop': {136: 'Unknown'}, 'question_6hop': {136: \"What is the most popular dish in the country where the spouse of Karl Wien's father was born?\"}, 'answer_6hop': {136: 'Unknown'}, 'label': {136: 'Wilhelm Wien'}, 'output_mistral_7b_instruct_v0.3': {136: 'Gustav Wien'}, 'eval_mistral_7b_instruct_v0.3': {136: 0.0}}\n",
      "{'topic': {175: 'human_scientist'}, 'subject': {175: 'John Howard Northrop'}, 'relation': {175: 'manner of death'}, 'object': {175: 'suicide'}, 'question': {175: 'What is the manner of death of John Howard Northrop?'}, 'output_meta_llama_3.1_8b_instruct': {175: nan}, 'eval_meta_llama_3.1_8b_instruct': {175: nan}, 'multiple_choices': {175: \"['suicide', 'Natural causes', 'accident', 'homicide']\"}, 'paraphrased_question': {175: 'How did John Howard Northrop die?'}, 'multiple_choice_with_letters': {175: 'A. suicide  B. accident  C. homicide  D. Natural causes'}, 'multiple_choice_labels': {175: 'A'}, 'yes_question': {175: 'Did John Howard Northrop die by suicide?'}, 'no_question': {175: 'Did John Howard Northrop die of natural causes?'}, 'locality_question': {175: 'What was John Howard Northrop known for in his scientific career?'}, 'reversed_relation_question': {175: 'Who died by suicide?'}, 'question_2hop': {175: 'What was the occupation of the person who had the same manner of death as John Howard Northrop?'}, 'answer_2hop': {175: 'Biochemist'}, 'question_3hop': {175: 'Which university did the biochemist who had the same manner of death as John Howard Northrop work at?'}, 'answer_3hop': {175: 'University of California, Berkeley'}, 'question_4hop': {175: 'In which city is the university located where the biochemist who had the same manner of death as John Howard Northrop worked?'}, 'answer_4hop': {175: 'Berkeley'}, 'question_5hop': {175: 'In which state is the city located where the university is situated that employed the biochemist who had the same manner of death as John Howard Northrop?'}, 'answer_5hop': {175: 'California'}, 'question_6hop': {175: 'In which country is the state located where the city is situated that contains the university that employed the biochemist who had the same manner of death as John Howard Northrop?'}, 'answer_6hop': {175: 'United States'}, 'label': {175: 'suicide'}, 'output_mistral_7b_instruct_v0.3': {175: 'Natural causes'}, 'eval_mistral_7b_instruct_v0.3': {175: 0.0}}\n"
     ]
    },
    {
     "name": "stderr",
     "output_type": "stream",
     "text": [
      "09/14/2024 00:03:20 - INFO - httpx -   HTTP Request: POST https://n-central-us.openai.azure.com//openai/deployments/gpt-4o/chat/completions?api-version=2023-05-15 \"HTTP/1.1 200 OK\"\n"
     ]
    },
    {
     "name": "stdout",
     "output_type": "stream",
     "text": [
      "subject: Lazare Carnot, relation: place of burial, {'2hop_question': 'Who is buried in the same place as Lazare Carnot?', '2hop_answer': 'Napoleon Bonaparte', '3hop_question': 'What was the title of the person who is buried in the same place as Lazare Carnot?', '3hop_answer': 'Emperor of the French', '4hop_question': 'Which country did the person hold the title of Emperor of the French, who is buried in the same place as Lazare Carnot?', '4hop_answer': 'France', '5hop_question': 'What is the capital city of the country where the person who held the title of Emperor of the French, and is buried in the same place as Lazare Carnot, ruled?', '5hop_answer': 'Paris', '6hop_question': 'Which famous landmark is located in the capital city where the person who held the title of Emperor of the French, and is buried in the same place as Lazare Carnot, ruled?', '6hop_answer': 'Eiffel Tower'}\n"
     ]
    },
    {
     "name": "stderr",
     "output_type": "stream",
     "text": [
      "09/14/2024 00:03:22 - INFO - httpx -   HTTP Request: POST https://n-central-us.openai.azure.com//openai/deployments/gpt-4o/chat/completions?api-version=2023-05-15 \"HTTP/1.1 200 OK\"\n"
     ]
    },
    {
     "name": "stdout",
     "output_type": "stream",
     "text": [
      "subject: Telford Taylor, relation: military branch, {'2hop_question': 'Who was the commanding officer of Telford Taylor in his military branch?', '2hop_answer': 'William Donovan', '3hop_question': 'What was the role of the commanding officer of Telford Taylor in his military branch?', '3hop_answer': 'Director of the Office of Strategic Services', '4hop_question': 'Which organization did the commanding officer of Telford Taylor lead?', '4hop_answer': 'Office of Strategic Services (OSS)', '5hop_question': 'In which year was the organization that the commanding officer of Telford Taylor led established?', '5hop_answer': '1942', '6hop_question': 'Who was the President of the United States when the organization that the commanding officer of Telford Taylor led was established?', '6hop_answer': 'Franklin D. Roosevelt'}\n",
      "{'topic': {113: 'human_scientist'}, 'subject': {113: 'Galileo Galilei'}, 'relation': {113: 'place of death'}, 'object': {113: 'Arcetri'}, 'question': {113: 'What is the place of death of Galileo Galilei?'}, 'output_meta_llama_3.1_8b_instruct': {113: nan}, 'eval_meta_llama_3.1_8b_instruct': {113: nan}, 'multiple_choices': {113: \"['Arcetri', 'Arcis-thedii (Arco, Italy)', 'Florence', 'Pisa']\"}, 'paraphrased_question': {113: 'Where did Galileo Galilei pass away?'}, 'multiple_choice_with_letters': {113: 'A. Florence  B. Arcis-thedii (Arco, Italy)  C. Arcetri  D. Pisa'}, 'multiple_choice_labels': {113: 'C'}, 'yes_question': {113: 'Did Galileo Galilei die in Arcetri?'}, 'no_question': {113: 'Did Galileo Galilei die in Arcis-thedii (Arco, Italy)?'}, 'locality_question': {113: 'What is Galileo Galilei famous for in the field of science?'}, 'reversed_relation_question': {113: 'Who died in Arcetri?'}, 'question_2hop': {113: 'Who was the ruler of the place where Galileo Galilei died?'}, 'answer_2hop': {113: \"Grand Duke Ferdinando II de' Medici\"}, 'question_3hop': {113: 'What was the birthplace of the ruler of the place where Galileo Galilei died?'}, 'answer_3hop': {113: 'Florence'}, 'question_4hop': {113: 'Which famous artist was born in the same city as the ruler of the place where Galileo Galilei died?'}, 'answer_4hop': {113: 'Leonardo da Vinci'}, 'question_5hop': {113: 'What is the name of the painting created by the famous artist born in the same city as the ruler of the place where Galileo Galilei died?'}, 'answer_5hop': {113: 'Mona Lisa'}, 'question_6hop': {113: 'In which museum is the painting created by the famous artist born in the same city as the ruler of the place where Galileo Galilei died currently located?'}, 'answer_6hop': {113: 'Louvre Museum'}, 'label': {113: 'Arcetri'}, 'output_mistral_7b_instruct_v0.3': {113: 'Arcis-thedii (Arco, Italy)'}, 'eval_mistral_7b_instruct_v0.3': {113: 0.0}}\n"
     ]
    },
    {
     "name": "stderr",
     "output_type": "stream",
     "text": [
      "09/14/2024 00:03:25 - INFO - httpx -   HTTP Request: POST https://n-central-us.openai.azure.com//openai/deployments/gpt-4o/chat/completions?api-version=2023-05-15 \"HTTP/1.1 200 OK\"\n"
     ]
    },
    {
     "name": "stdout",
     "output_type": "stream",
     "text": [
      "subject: Gregory Goodwin Pincus, relation: residence, {'2hop_question': 'Who was the neighbor of Gregory Goodwin Pincus at his residence?', '2hop_answer': 'Margaret Sanger', '3hop_question': 'What organization did the neighbor of Gregory Goodwin Pincus at his residence co-found?', '3hop_answer': 'Planned Parenthood', '4hop_question': 'In which year was the organization co-founded by the neighbor of Gregory Goodwin Pincus at his residence established?', '4hop_answer': '1942', '5hop_question': 'Who was the first president of the organization established in 1942 that was co-founded by the neighbor of Gregory Goodwin Pincus at his residence?', '5hop_answer': 'Margaret Sanger', '6hop_question': 'What was the primary focus of the organization whose first president was the neighbor of Gregory Goodwin Pincus at his residence?', '6hop_answer': 'Reproductive health and family planning'}\n"
     ]
    },
    {
     "name": "stderr",
     "output_type": "stream",
     "text": [
      "09/14/2024 00:03:28 - INFO - httpx -   HTTP Request: POST https://n-central-us.openai.azure.com//openai/deployments/gpt-4o/chat/completions?api-version=2023-05-15 \"HTTP/1.1 200 OK\"\n"
     ]
    },
    {
     "name": "stdout",
     "output_type": "stream",
     "text": [
      "subject: John Paul Wild, relation: field of work, {'2hop_question': \"What is a notable project associated with John Paul Wild's field of work?\", '2hop_answer': 'The Parkes Radio Telescope', '3hop_question': \"Which organization operates the notable project associated with John Paul Wild's field of work?\", '3hop_answer': 'CSIRO', '4hop_question': \"In which country is the organization that operates the notable project associated with John Paul Wild's field of work located?\", '4hop_answer': 'Australia', '5hop_question': \"What is the capital city of the country where the organization that operates the notable project associated with John Paul Wild's field of work is located?\", '5hop_answer': 'Canberra', '6hop_question': \"Which continent is home to the country where the organization that operates the notable project associated with John Paul Wild's field of work is located?\", '6hop_answer': 'Australia'}\n"
     ]
    },
    {
     "name": "stderr",
     "output_type": "stream",
     "text": [
      "09/14/2024 00:03:30 - INFO - httpx -   HTTP Request: POST https://n-central-us.openai.azure.com//openai/deployments/gpt-4o/chat/completions?api-version=2023-05-15 \"HTTP/1.1 200 OK\"\n"
     ]
    },
    {
     "name": "stdout",
     "output_type": "stream",
     "text": [
      "subject: Konstantin Tsiolkovskii, relation: place of birth, {'2hop_question': 'What is the country of the place of birth of Konstantin Tsiolkovskii?', '2hop_answer': 'Russia', '3hop_question': 'What is the capital city of the country where Konstantin Tsiolkovskii was born?', '3hop_answer': 'Moscow', '4hop_question': 'Which river flows through the capital city of the country where Konstantin Tsiolkovskii was born?', '4hop_answer': 'Moskva River', '5hop_question': 'What is the length of the river that flows through the capital city of the country where Konstantin Tsiolkovskii was born?', '5hop_answer': '502 kilometers', '6hop_question': 'Into which larger body of water does the river that flows through the capital city of the country where Konstantin Tsiolkovskii was born eventually drain?', '6hop_answer': 'Oka River'}\n"
     ]
    },
    {
     "name": "stderr",
     "output_type": "stream",
     "text": [
      "09/14/2024 00:03:34 - INFO - httpx -   HTTP Request: POST https://n-central-us.openai.azure.com//openai/deployments/gpt-4o/chat/completions?api-version=2023-05-15 \"HTTP/1.1 200 OK\"\n"
     ]
    },
    {
     "name": "stdout",
     "output_type": "stream",
     "text": [
      "subject: Hamza Hakimzade Niyazi, relation: writing language, {'2hop_question': 'What is the primary writing language of Hamza Hakimzade Niyazi?', '2hop_answer': 'Uzbek', '3hop_question': \"What is the official language of the country where Hamza Hakimzade Niyazi's primary writing language is spoken?\", '3hop_answer': 'Uzbek', '4hop_question': \"What is the capital city of the country where the official language is the same as Hamza Hakimzade Niyazi's primary writing language?\", '4hop_answer': 'Tashkent', '5hop_question': \"Which river flows through the capital city of the country where the official language is the same as Hamza Hakimzade Niyazi's primary writing language?\", '5hop_answer': 'Chirchiq River', '6hop_question': \"Into which larger river does the river that flows through the capital city of the country where the official language is the same as Hamza Hakimzade Niyazi's primary writing language eventually flow?\", '6hop_answer': 'Syr Darya'}\n",
      "{'topic': {94: 'human_scientist'}, 'subject': {94: 'Louis de Jaucourt'}, 'relation': {94: 'place of death'}, 'object': {94: 'Compiègne'}, 'question': {94: 'What is the place of death of Louis de Jaucourt?'}, 'output_meta_llama_3.1_8b_instruct': {94: 'Paris'}, 'eval_meta_llama_3.1_8b_instruct': {94: 0.0}, 'multiple_choices': {94: \"['Compiègne', 'Paris', 'Versailles', 'Lyon']\"}, 'paraphrased_question': {94: 'Where did Louis de Jaucourt pass away?'}, 'multiple_choice_with_letters': {94: 'A. Paris  B. Compiègne  C. Versailles  D. Lyon'}, 'multiple_choice_labels': {94: 'B'}, 'yes_question': {94: 'Did Louis de Jaucourt die in Compiègne?'}, 'no_question': {94: 'Did Louis de Jaucourt die in Paris?'}, 'locality_question': {94: 'What is Louis de Jaucourt known for contributing to?'}, 'reversed_relation_question': {94: 'Who died in Compiègne?'}, 'question_2hop': {94: 'What is the country of the place where Louis de Jaucourt died?'}, 'answer_2hop': {94: 'France'}, 'question_3hop': {94: 'What is the capital city of the country where Louis de Jaucourt died?'}, 'answer_3hop': {94: 'Paris'}, 'question_4hop': {94: 'Which famous landmark is located in the capital city of the country where Louis de Jaucourt died?'}, 'answer_4hop': {94: 'Eiffel Tower'}, 'question_5hop': {94: 'Who designed the famous landmark located in the capital city of the country where Louis de Jaucourt died?'}, 'answer_5hop': {94: 'Gustave Eiffel'}, 'question_6hop': {94: 'In which year was the famous landmark designed by Gustave Eiffel, located in the capital city of the country where Louis de Jaucourt died, completed?'}, 'answer_6hop': {94: '1889'}, 'label': {94: nan}, 'output_mistral_7b_instruct_v0.3': {94: nan}, 'eval_mistral_7b_instruct_v0.3': {94: nan}}\n"
     ]
    },
    {
     "name": "stderr",
     "output_type": "stream",
     "text": [
      "09/14/2024 00:03:38 - INFO - httpx -   HTTP Request: POST https://n-central-us.openai.azure.com//openai/deployments/gpt-4o/chat/completions?api-version=2023-05-15 \"HTTP/1.1 200 OK\"\n"
     ]
    },
    {
     "name": "stdout",
     "output_type": "stream",
     "text": [
      "subject: Alfred Jante, relation: employer, {'2hop_question': 'What is the industry of the employer of Alfred Jante?', '2hop_answer': 'Technology', '3hop_question': 'Who is the CEO of the company in the technology industry that employs Alfred Jante?', '3hop_answer': 'John Doe', '4hop_question': 'Which university did the CEO of the company in the technology industry that employs Alfred Jante attend?', '4hop_answer': 'Harvard University', '5hop_question': 'In which city is the university located that the CEO of the company in the technology industry that employs Alfred Jante attended?', '5hop_answer': 'Cambridge', '6hop_question': 'In which state is the city located where the university that the CEO of the company in the technology industry that employs Alfred Jante attended?', '6hop_answer': 'Massachusetts'}\n"
     ]
    },
    {
     "name": "stderr",
     "output_type": "stream",
     "text": [
      "09/14/2024 00:03:40 - INFO - httpx -   HTTP Request: POST https://n-central-us.openai.azure.com//openai/deployments/gpt-4o/chat/completions?api-version=2023-05-15 \"HTTP/1.1 200 OK\"\n"
     ]
    },
    {
     "name": "stdout",
     "output_type": "stream",
     "text": [
      "subject: Richard Smalley, relation: manner of death, {'2hop_question': 'What disease was the manner of death of Richard Smalley?', '2hop_answer': 'Leukemia', '3hop_question': 'Which hospital treated Richard Smalley for the disease that caused his death?', '3hop_answer': 'M.D. Anderson Cancer Center', '4hop_question': 'In which city is the hospital located that treated Richard Smalley for the disease that caused his death?', '4hop_answer': 'Houston', '5hop_question': 'In which state is the city located where the hospital that treated Richard Smalley for the disease that caused his death is situated?', '5hop_answer': 'Texas', '6hop_question': 'In which country is the state located where the city is situated that contains the hospital that treated Richard Smalley for the disease that caused his death?', '6hop_answer': 'United States'}\n"
     ]
    },
    {
     "name": "stderr",
     "output_type": "stream",
     "text": [
      "09/14/2024 00:03:43 - INFO - httpx -   HTTP Request: POST https://n-central-us.openai.azure.com//openai/deployments/gpt-4o/chat/completions?api-version=2023-05-15 \"HTTP/1.1 200 OK\"\n"
     ]
    },
    {
     "name": "stdout",
     "output_type": "stream",
     "text": [
      "subject: Catherine Coleman, relation: place of birth, {'2hop_question': 'What is the capital city of the place of birth of Catherine Coleman?', '2hop_answer': 'Charleston', '3hop_question': 'Which river runs through the capital city of the place of birth of Catherine Coleman?', '3hop_answer': 'Kanawha River', '4hop_question': 'What is the length of the river that runs through the capital city of the place of birth of Catherine Coleman?', '4hop_answer': '97 miles', '5hop_question': 'Which state park is located near the river that runs through the capital city of the place of birth of Catherine Coleman?', '5hop_answer': 'Kanawha State Forest', '6hop_question': 'In which county is the state park located that is near the river running through the capital city of the place of birth of Catherine Coleman?', '6hop_answer': 'Kanawha County'}\n"
     ]
    },
    {
     "name": "stderr",
     "output_type": "stream",
     "text": [
      "09/14/2024 00:03:45 - INFO - httpx -   HTTP Request: POST https://n-central-us.openai.azure.com//openai/deployments/gpt-4o/chat/completions?api-version=2023-05-15 \"HTTP/1.1 200 OK\"\n"
     ]
    },
    {
     "name": "stdout",
     "output_type": "stream",
     "text": [
      "subject: Anatoli Blagonravov, relation: field of work, {'2hop_question': 'What is the primary field of work of Anatoli Blagonravov?', '2hop_answer': 'Space science', '3hop_question': 'Which organization is primarily associated with the field of work of Anatoli Blagonravov?', '3hop_answer': 'Soviet Space Program', '4hop_question': 'Who was the leader of the organization primarily associated with the field of work of Anatoli Blagonravov during its early years?', '4hop_answer': 'Sergey Korolev', '5hop_question': 'What was the first artificial satellite launched by the organization primarily associated with the field of work of Anatoli Blagonravov?', '5hop_answer': 'Sputnik 1', '6hop_question': 'In which year was the first artificial satellite launched by the organization primarily associated with the field of work of Anatoli Blagonravov?', '6hop_answer': '1957'}\n"
     ]
    },
    {
     "name": "stderr",
     "output_type": "stream",
     "text": [
      "09/14/2024 00:03:48 - INFO - httpx -   HTTP Request: POST https://n-central-us.openai.azure.com//openai/deployments/gpt-4o/chat/completions?api-version=2023-05-15 \"HTTP/1.1 200 OK\"\n"
     ]
    },
    {
     "name": "stdout",
     "output_type": "stream",
     "text": [
      "subject: Martin Karplus, relation: doctoral advisor, {'2hop_question': 'Who was the doctoral advisor of Martin Karplus?', '2hop_answer': 'Linus Pauling', '3hop_question': 'Which university did the doctoral advisor of Martin Karplus work at?', '3hop_answer': 'California Institute of Technology', '4hop_question': 'In which city is the university located where the doctoral advisor of Martin Karplus worked?', '4hop_answer': 'Pasadena', '5hop_question': 'In which state is the city located where the university is situated that the doctoral advisor of Martin Karplus worked at?', '5hop_answer': 'California', '6hop_question': 'In which country is the state located where the city is situated that contains the university where the doctoral advisor of Martin Karplus worked?', '6hop_answer': 'United States'}\n"
     ]
    },
    {
     "name": "stderr",
     "output_type": "stream",
     "text": [
      "09/14/2024 00:03:50 - INFO - httpx -   HTTP Request: POST https://n-central-us.openai.azure.com//openai/deployments/gpt-4o/chat/completions?api-version=2023-05-15 \"HTTP/1.1 200 OK\"\n"
     ]
    },
    {
     "name": "stdout",
     "output_type": "stream",
     "text": [
      "subject: Isaac Beeckman, relation: doctoral advisor, {'2hop_question': 'Who was the doctoral student of Isaac Beeckman?', '2hop_answer': 'René Descartes', '3hop_question': 'What is the most famous philosophical work of the doctoral student of Isaac Beeckman?', '3hop_answer': 'Meditations on First Philosophy', '4hop_question': 'In which year was the most famous philosophical work of the doctoral student of Isaac Beeckman published?', '4hop_answer': '1641', '5hop_question': 'Which language was the most famous philosophical work of the doctoral student of Isaac Beeckman originally published in?', '5hop_answer': 'Latin', '6hop_question': 'Which country was the original publication language of the most famous philosophical work of the doctoral student of Isaac Beeckman predominantly used in during the 17th century?', '6hop_answer': 'Roman Catholic Church'}\n",
      "{'topic': {62: 'human_scientist', 117: 'human_scientist'}, 'subject': {62: 'Buckminster Fuller', 117: 'Buckminster Fuller'}, 'relation': {62: 'movement', 117: 'movement'}, 'object': {62: 'high-tech architecture', 117: 'high-tech architecture'}, 'question': {62: 'What is the movement of Buckminster Fuller?', 117: 'What is the movement of Buckminster Fuller?'}, 'output_meta_llama_3.1_8b_instruct': {62: 'Dymaxionism', 117: nan}, 'eval_meta_llama_3.1_8b_instruct': {62: 0.0, 117: nan}, 'multiple_choices': {62: \"['high-tech architecture', 'Dymaxionism', 'Brutalism', 'Postmodernism']\", 117: \"['high-tech architecture', 'Dymaxion', 'Brutalism', 'Postmodernism']\"}, 'paraphrased_question': {62: 'Which architectural movement is associated with Buckminster Fuller?', 117: 'Which architectural movement is associated with Buckminster Fuller?'}, 'multiple_choice_with_letters': {62: 'A. Dymaxionism  B. Brutalism  C. high-tech architecture  D. Postmodernism', 117: 'A. high-tech architecture  B. Brutalism  C. Postmodernism  D. Dymaxion'}, 'multiple_choice_labels': {62: 'C', 117: 'A'}, 'yes_question': {62: 'Is the movement of Buckminster Fuller high-tech architecture?', 117: 'Is the movement of Buckminster Fuller high-tech architecture?'}, 'no_question': {62: 'Is the movement of Buckminster Fuller Dymaxionism?', 117: 'Is the movement of Buckminster Fuller Dymaxion?'}, 'locality_question': {62: 'What is Buckminster Fuller well-known for inventing?', 117: 'What is a well-known invention by Buckminster Fuller?'}, 'reversed_relation_question': {62: 'Who is associated with the movement of high-tech architecture?', 117: 'Who is associated with the high-tech architecture movement?'}, 'question_2hop': {62: 'What is the name of the architectural movement associated with Buckminster Fuller?', 117: 'What is the name of the movement associated with Buckminster Fuller?'}, 'answer_2hop': {62: 'Geodesic design', 117: 'Design Science Revolution'}, 'question_3hop': {62: 'Who was a prominent architect influenced by the architectural movement associated with Buckminster Fuller?', 117: 'Who was a prominent figure in the Design Science Revolution movement associated with Buckminster Fuller?'}, 'answer_3hop': {62: 'Norman Foster', 117: 'Victor Papanek'}, 'question_4hop': {62: 'Which famous building was designed by the architect influenced by the architectural movement associated with Buckminster Fuller?', 117: 'What is the title of a notable book written by Victor Papanek, a prominent figure in the Design Science Revolution?'}, 'answer_4hop': {62: '30 St Mary Axe (The Gherkin)', 117: 'Design for the Real World'}, 'question_5hop': {62: 'In which city is the famous building designed by the architect influenced by the architectural movement associated with Buckminster Fuller located?', 117: \"In which year was the book 'Design for the Real World' by Victor Papanek published?\"}, 'answer_5hop': {62: 'London', 117: '1971'}, 'question_6hop': {62: 'In which country is the city located that contains the famous building designed by the architect influenced by the architectural movement associated with Buckminster Fuller?', 117: \"Which publishing company released the book 'Design for the Real World' by Victor Papanek in 1971?\"}, 'answer_6hop': {62: 'United Kingdom', 117: 'Pantheon Books'}, 'label': {62: nan, 117: 'high-tech architecture'}, 'output_mistral_7b_instruct_v0.3': {62: nan, 117: 'Dymaxion'}, 'eval_mistral_7b_instruct_v0.3': {62: nan, 117: 0.0}}\n"
     ]
    },
    {
     "name": "stderr",
     "output_type": "stream",
     "text": [
      "09/14/2024 00:03:52 - INFO - httpx -   HTTP Request: POST https://n-central-us.openai.azure.com//openai/deployments/gpt-4o/chat/completions?api-version=2023-05-15 \"HTTP/1.1 200 OK\"\n"
     ]
    },
    {
     "name": "stdout",
     "output_type": "stream",
     "text": [
      "subject: Benedikt Buchner, relation: sex or gender, {'2hop_question': 'What is the profession of Benedikt Buchner, who is male?', '2hop_answer': 'Law professor', '3hop_question': 'At which university does the law professor Benedikt Buchner work?', '3hop_answer': 'University of Bremen', '4hop_question': 'In which country is the University of Bremen, where law professor Benedikt Buchner works, located?', '4hop_answer': 'Germany', '5hop_question': 'What is the official language of the country where the University of Bremen, where law professor Benedikt Buchner works, is located?', '5hop_answer': 'German', '6hop_question': 'What is the currency used in the country where the University of Bremen, where law professor Benedikt Buchner works, is located?', '6hop_answer': 'Euro'}\n",
      "{'topic': {38: 'human_scientist'}, 'subject': {38: 'Semyon Lavochkin'}, 'relation': {38: 'employer'}, 'object': {38: 'NPO Lavochkin'}, 'question': {38: 'What is the employer of Semyon Lavochkin?'}, 'output_meta_llama_3.1_8b_instruct': {38: 'OKB-301'}, 'eval_meta_llama_3.1_8b_instruct': {38: 0.0}, 'multiple_choices': {38: \"['NPO Lavochkin', 'OKB-301', 'NASA', 'Roscosmos']\"}, 'paraphrased_question': {38: 'Who employed Semyon Lavochkin?'}, 'multiple_choice_with_letters': {38: 'A. NPO Lavochkin  B. OKB-301  C. Roscosmos  D. NASA'}, 'multiple_choice_labels': {38: 'A'}, 'yes_question': {38: 'Is NPO Lavochkin the employer of Semyon Lavochkin?'}, 'no_question': {38: 'Is OKB-301 the employer of Semyon Lavochkin?'}, 'locality_question': {38: 'What is a notable achievement or contribution of Semyon Lavochkin?'}, 'reversed_relation_question': {38: 'Who is employed by NPO Lavochkin?'}, 'question_2hop': {38: 'Who was the founder of the employer of Semyon Lavochkin?'}, 'answer_2hop': {38: 'Andrei Tupolev'}, 'question_3hop': {38: 'What was the primary industry of the company founded by the employer of Semyon Lavochkin?'}, 'answer_3hop': {38: 'Aerospace'}, 'question_4hop': {38: 'Which country was the primary industry of the company founded by the employer of Semyon Lavochkin based in?'}, 'answer_4hop': {38: 'Soviet Union'}, 'question_5hop': {38: 'What was the capital city of the country where the primary industry of the company founded by the employer of Semyon Lavochkin was based?'}, 'answer_5hop': {38: 'Moscow'}, 'question_6hop': {38: 'Which river flows through the capital city of the country where the primary industry of the company founded by the employer of Semyon Lavochkin was based?'}, 'answer_6hop': {38: 'Moskva River'}, 'label': {38: nan}, 'output_mistral_7b_instruct_v0.3': {38: nan}, 'eval_mistral_7b_instruct_v0.3': {38: nan}}\n",
      "{'topic': {2: 'human_scientist'}, 'subject': {2: 'Vitaly Ginzburg'}, 'relation': {2: 'doctoral advisor'}, 'object': {2: 'Igor Tamm'}, 'question': {2: 'Who is the doctoral advisor of Vitaly Ginzburg?'}, 'output_meta_llama_3.1_8b_instruct': {2: 'Ivan E. Tamm'}, 'eval_meta_llama_3.1_8b_instruct': {2: 0.0}, 'multiple_choices': {2: \"['Igor Tamm', 'Ivan E. Tamm', 'Lev Landau', 'Andrei Sakharov']\"}, 'paraphrased_question': {2: \"Who supervised Vitaly Ginzburg's doctoral studies?\"}, 'multiple_choice_with_letters': {2: 'A. Lev Landau  B. Ivan E. Tamm  C. Igor Tamm  D. Andrei Sakharov'}, 'multiple_choice_labels': {2: 'C'}, 'yes_question': {2: 'Is Igor Tamm the doctoral advisor of Vitaly Ginzburg?'}, 'no_question': {2: 'Is Ivan E. Tamm the doctoral advisor of Vitaly Ginzburg?'}, 'locality_question': {2: 'What notable prize did Vitaly Ginzburg win?'}, 'reversed_relation_question': {2: 'Who was advised by Igor Tamm for their doctorate?'}, 'question_2hop': {2: 'Who was the doctoral advisor of Vitaly Ginzburg?'}, 'answer_2hop': {2: 'Lev Landau'}, 'question_3hop': {2: 'Which university did the doctoral advisor of Vitaly Ginzburg work at?'}, 'answer_3hop': {2: 'Moscow State University'}, 'question_4hop': {2: 'In which city is the university located where the doctoral advisor of Vitaly Ginzburg worked?'}, 'answer_4hop': {2: 'Moscow'}, 'question_5hop': {2: 'In which country is the city located where the university is situated that the doctoral advisor of Vitaly Ginzburg worked at?'}, 'answer_5hop': {2: 'Russia'}, 'question_6hop': {2: 'What is the official language of the country where the city is located that contains the university where the doctoral advisor of Vitaly Ginzburg worked?'}, 'answer_6hop': {2: 'Russian'}, 'label': {2: nan}, 'output_mistral_7b_instruct_v0.3': {2: nan}, 'eval_mistral_7b_instruct_v0.3': {2: nan}}\n",
      "{'topic': {61: 'human_scientist'}, 'subject': {61: 'Julius Axelrod'}, 'relation': {61: 'place of burial'}, 'object': {61: 'Judean Memorial Gardens'}, 'question': {61: 'What is the place of burial of Julius Axelrod?'}, 'output_meta_llama_3.1_8b_instruct': {61: 'Bethesda Memorial Gardens'}, 'eval_meta_llama_3.1_8b_instruct': {61: 0.0}, 'multiple_choices': {61: \"['Judean Memorial Gardens', 'Bethesda Memorial Gardens', 'Greenwood Cemetery', 'Arlington National Cemetery']\"}, 'paraphrased_question': {61: 'Where is Julius Axelrod buried?'}, 'multiple_choice_with_letters': {61: 'A. Judean Memorial Gardens  B. Bethesda Memorial Gardens  C. Greenwood Cemetery  D. Arlington National Cemetery'}, 'multiple_choice_labels': {61: 'A'}, 'yes_question': {61: 'Is Julius Axelrod buried at Judean Memorial Gardens?'}, 'no_question': {61: 'Is Julius Axelrod buried at Bethesda Memorial Gardens?'}, 'locality_question': {61: 'What notable award did Julius Axelrod receive during his lifetime?'}, 'reversed_relation_question': {61: 'Who is buried at Judean Memorial Gardens?'}, 'question_2hop': {61: 'Who is buried in the same place as Julius Axelrod?'}, 'answer_2hop': {61: 'Ruth Axelrod'}, 'question_3hop': {61: 'What is the relationship of the person buried in the same place as Julius Axelrod to him?'}, 'answer_3hop': {61: 'Spouse'}, 'question_4hop': {61: 'What was the profession of the spouse of the person buried in the same place as Julius Axelrod?'}, 'answer_4hop': {61: 'Homemaker'}, 'question_5hop': {61: 'In which city did the spouse of the person buried in the same place as Julius Axelrod live?'}, 'answer_5hop': {61: 'Bethesda'}, 'question_6hop': {61: 'In which state is the city located where the spouse of the person buried in the same place as Julius Axelrod lived?'}, 'answer_6hop': {61: 'Maryland'}, 'label': {61: nan}, 'output_mistral_7b_instruct_v0.3': {61: nan}, 'eval_mistral_7b_instruct_v0.3': {61: nan}}\n",
      "{'topic': {22: 'human_scientist'}, 'subject': {22: 'Galileo Galilei'}, 'relation': {22: 'father'}, 'object': {22: 'Yeico Cáceres'}, 'question': {22: 'Who is the father of Galileo Galilei?'}, 'output_meta_llama_3.1_8b_instruct': {22: 'Vincenzo Galilei'}, 'eval_meta_llama_3.1_8b_instruct': {22: 0.0}, 'multiple_choices': {22: \"['Yeico Cáceres', 'Vincenzo Galilei', 'Albert Einstein', 'Isaac Newton']\"}, 'paraphrased_question': {22: \"Who is Galileo Galilei's father?\"}, 'multiple_choice_with_letters': {22: 'A. Albert Einstein  B. Vincenzo Galilei  C. Yeico Cáceres  D. Isaac Newton'}, 'multiple_choice_labels': {22: 'C'}, 'yes_question': {22: 'Is Yeico Cáceres the father of Galileo Galilei?'}, 'no_question': {22: 'Is Vincenzo Galilei the father of Galileo Galilei?'}, 'locality_question': {22: 'What is Galileo Galilei known for in the field of astronomy?'}, 'reversed_relation_question': {22: 'Who is the son of Yeico Cáceres?'}, 'question_2hop': {22: \"What was the profession of Galileo Galilei's father?\"}, 'answer_2hop': {22: 'Musician'}, 'question_3hop': {22: \"Which city was the birthplace of the musician who was Galileo Galilei's father?\"}, 'answer_3hop': {22: 'Florence'}, 'question_4hop': {22: \"In which country is the city located where the musician who was Galileo Galilei's father was born?\"}, 'answer_4hop': {22: 'Italy'}, 'question_5hop': {22: \"What is the official language of the country where the city is located that was the birthplace of the musician who was Galileo Galilei's father?\"}, 'answer_5hop': {22: 'Italian'}, 'question_6hop': {22: \"What is the currency used in the country where the city is located that was the birthplace of the musician who was Galileo Galilei's father?\"}, 'answer_6hop': {22: 'Euro'}, 'label': {22: nan}, 'output_mistral_7b_instruct_v0.3': {22: nan}, 'eval_mistral_7b_instruct_v0.3': {22: nan}}\n"
     ]
    }
   ],
   "source": [
    "client = AzureOpenAI(api_key=load_api_key('api_key_n_central_us'), api_version='2023-05-15', azure_endpoint=\"https://n-central-us.openai.azure.com/\")\n",
    "system_msg_gen_q = \"\"\" \n",
    "Given a subject and a relation, your task is to create 2-hop, 3-hop, 4-hop, 5-hop, and 6-hop questions, along with their correct answers. \\\n",
    "Always use the provided subject and relation to create multi-hop questions, and avoid including any correct answers from other multi-hop questions. \\\n",
    "Ensure that the multi-hop questions and answers are accurate, and avoid using 'N/A' or 'unknown' as responses. Output in JSON format. Below is an example:\n",
    "\n",
    "Example input: \n",
    "subject: Amazon, relation: founder\n",
    "\n",
    "Example output: \n",
    "{\n",
    "    \"2hop_question\": \"Who is the spouse of the Amazon founder?\",\n",
    "    \"2hop_answer\": \"MacKenzie Scott\",\n",
    "    \"3hop_question\": \"Which university did the spouse of the Amazon founder attend for their undergraduate studies?\",\n",
    "    \"3hop_answer\": \"Princeton University\",\n",
    "    \"4hop_question\": \"In which city is the university that the spouse of the Amazon founder attended located?\",\n",
    "    \"4hop_answer\": \"Princeton\",\n",
    "    \"5hop_question\": \"In which state is the city located where the university that the spouse of the Amazon founder attended is situated?\",\n",
    "    \"5hop_answer\": \"New Jersey\",\n",
    "    \"6hop_question\": \"In which country is the state located where the city is situated that contains the university the spouse of the Amazon founder attended?\",\n",
    "    \"6hop_answer\": \"United States\",\n",
    "}\n",
    "\"\"\"\n",
    "\n",
    "ls_2hop_q, ls_2hop_a, ls_3hop_q, ls_3hop_a, ls_4hop_q, ls_4hop_a, ls_5hop_q, ls_5hop_a, ls_6hop_q, ls_6hop_a = ([] for _ in range(10))\n",
    "\n",
    "def generate_questions(df_hallu):\n",
    "    df_t = None\n",
    "    df_t_list = []\n",
    "    \n",
    "    other_model_path = f\"../data/questions/hallucination/meta_llama_3.1_8b_instruct_100/{domain_topic_name}.csv\"\n",
    "    if os.path.exists(other_model_path):\n",
    "        df_t_list.append(pd.read_csv(other_model_path))\n",
    "    if os.path.exists(f\"{folder_hallu_100}/{domain_topic_name}_check.csv\"):\n",
    "        df_t_list.append(pd.read_csv(f\"{folder_hallu_100}/{domain_topic_name}_check.csv\"))\n",
    "    df_t = pd.concat(df_t_list, ignore_index=True)\n",
    "    print(f'Data (df_t) may contain already generated questions df_t.shape: {df_t.shape}')\n",
    "\n",
    "    for i in df_hallu.index[:]:\n",
    "        subject, relation, object, question = df_hallu.loc[i, 'subject'], df_hallu.loc[i, 'relation'], df_hallu.loc[i, 'object'], df_hallu.loc[i, 'question']\n",
    "        if df_t is not None:\n",
    "            matching_row = df_t[(df_t['topic']==domain_topic_name) & (df_t['subject']==subject) & (df_t['relation']==relation) & (df_t['object']==object)]\n",
    "            if not matching_row.empty:\n",
    "                print(matching_row.to_dict())\n",
    "                ls_2hop_q.append(matching_row['question_2hop'].values[0])\n",
    "                ls_2hop_a.append(matching_row['answer_2hop'].values[0])\n",
    "                ls_3hop_q.append(matching_row['question_3hop'].values[0])\n",
    "                ls_3hop_a.append(matching_row['answer_3hop'].values[0])\n",
    "                ls_4hop_q.append(matching_row['question_4hop'].values[0])\n",
    "                ls_4hop_a.append(matching_row['answer_4hop'].values[0])\n",
    "                ls_5hop_q.append(matching_row['question_5hop'].values[0])\n",
    "                ls_5hop_a.append(matching_row['answer_5hop'].values[0])\n",
    "                ls_6hop_q.append(matching_row['question_6hop'].values[0])\n",
    "                ls_6hop_a.append(matching_row['answer_6hop'].values[0])\n",
    "                continue\n",
    "            \n",
    "        prompt_gen_q = f\"subject: {subject}, relation: {relation}\"\n",
    "        raw_response = get_gpt_response(client, system_msg_gen_q, prompt_gen_q)\n",
    "        raw_str = raw_response.choices[0].message.content\n",
    "        json_obj = json.loads(raw_str)\n",
    "        print(f\"subject: {subject}, relation: {relation}, {json_obj}\")\n",
    "        ls_2hop_q.append(json_obj['2hop_question'])\n",
    "        ls_2hop_a.append(json_obj['2hop_answer'])\n",
    "        ls_3hop_q.append(json_obj['3hop_question'])\n",
    "        ls_3hop_a.append(json_obj['3hop_answer'])\n",
    "        ls_4hop_q.append(json_obj['4hop_question'])\n",
    "        ls_4hop_a.append(json_obj['4hop_answer'])\n",
    "        ls_5hop_q.append(json_obj['5hop_question'])\n",
    "        ls_5hop_a.append(json_obj['5hop_answer'])\n",
    "        ls_6hop_q.append(json_obj['6hop_question'])\n",
    "        ls_6hop_a.append(json_obj['6hop_answer'])\n",
    "\n",
    "generate_questions(df_hallu)"
   ]
  },
  {
   "cell_type": "code",
   "execution_count": 199,
   "metadata": {},
   "outputs": [
    {
     "name": "stdout",
     "output_type": "stream",
     "text": [
      "Before df_hallu.shape: (100, 16)\n",
      "0 0 0 0 0\n",
      "After df_hallu.shape: (100, 26), saving to ../data/questions/hallucination/mistral_7b_instruct_v0.3_100/human_scientist.csv\n"
     ]
    }
   ],
   "source": [
    "print(f\"Before df_hallu.shape: {df_hallu.shape}\")\n",
    "df_hallu['question_2hop'] = ls_2hop_q\n",
    "df_hallu['answer_2hop'] = ls_2hop_a\n",
    "df_hallu['question_3hop'] = ls_3hop_q\n",
    "df_hallu['answer_3hop'] = ls_3hop_a\n",
    "df_hallu['question_4hop'] = ls_4hop_q\n",
    "df_hallu['answer_4hop'] = ls_4hop_a\n",
    "df_hallu['question_5hop'] = ls_5hop_q\n",
    "df_hallu['answer_5hop'] = ls_5hop_a\n",
    "df_hallu['question_6hop'] = ls_6hop_q\n",
    "df_hallu['answer_6hop'] = ls_6hop_a\n",
    "print(ls_2hop_a.count('N/A'), ls_3hop_a.count('N/A'), ls_4hop_a.count('N/A'), ls_5hop_a.count('N/A'), ls_6hop_a.count('N/A'))\n",
    "print(f\"After df_hallu.shape: {df_hallu.shape}, saving to {folder_hallu_100}/{domain_topic_name}.csv\")\n",
    "df_hallu.to_csv(f\"{folder_hallu_100}/{domain_topic_name}.csv\", index=False)"
   ]
  },
  {
   "cell_type": "code",
   "execution_count": null,
   "metadata": {},
   "outputs": [],
   "source": [
    "ls_2hop_a.index('N/A'), ls_3hop_a.index('N/A'), ls_4hop_a.index('N/A'), ls_5hop_a.index('N/A'), ls_6hop_a.index('N/A')"
   ]
  },
  {
   "cell_type": "code",
   "execution_count": 157,
   "metadata": {},
   "outputs": [],
   "source": [
    "# test if there is nan\n",
    "# for filename in ['technology_software.csv']:\n",
    "for filename in sorted(os.listdir(folder_hallu_100)):\n",
    "    if df.isna().sum().sum() > 0:\n",
    "        print(filename,df.isna().sum().sum())\n",
    "\n",
    "    # Detect if any part of df_hallu contains 'N/A'\n",
    "    na_mask = df.applymap(lambda x: x == 'N/A')\n",
    "    if na_mask.any().any():\n",
    "        print(\"'N/A' values found in df_hallu\")\n",
    "        print(na_mask.sum())"
   ]
  },
  {
   "cell_type": "markdown",
   "metadata": {},
   "source": [
    "## Editing"
   ]
  },
  {
   "cell_type": "code",
   "execution_count": null,
   "metadata": {},
   "outputs": [],
   "source": [
    "df = pd.read_csv(f\"../data/questions/wh_only/hallucination_only/{model_id_format}.csv\")\n",
    "# df = pd.read_csv(f\"../data/questions/wh_only/hallucination_only/mistral_7b_instruct_v0.3.csv\")\n",
    "df.shape"
   ]
  },
  {
   "cell_type": "code",
   "execution_count": 13,
   "metadata": {},
   "outputs": [
    {
     "name": "stderr",
     "output_type": "stream",
     "text": [
      "2024-08-12 18:46:29,734 - hallucination_editor - INFO - Instantiating model\n",
      "08/12/2024 18:46:29 - INFO - hallucination_editor -   Instantiating model\n"
     ]
    },
    {
     "data": {
      "application/json": {
       "ascii": false,
       "bar_format": null,
       "colour": null,
       "elapsed": 0.003228425979614258,
       "initial": 0,
       "n": 0,
       "ncols": null,
       "nrows": null,
       "postfix": null,
       "prefix": "Downloading shards",
       "rate": null,
       "total": 4,
       "unit": "it",
       "unit_divisor": 1000,
       "unit_scale": false
      },
      "application/vnd.jupyter.widget-view+json": {
       "model_id": "3a85ac93f7844e9da9b6510cc7266e16",
       "version_major": 2,
       "version_minor": 0
      },
      "text/plain": [
       "Downloading shards:   0%|          | 0/4 [00:00<?, ?it/s]"
      ]
     },
     "metadata": {},
     "output_type": "display_data"
    },
    {
     "data": {
      "application/json": {
       "ascii": false,
       "bar_format": null,
       "colour": null,
       "elapsed": 0.0028297901153564453,
       "initial": 0,
       "n": 0,
       "ncols": null,
       "nrows": null,
       "postfix": null,
       "prefix": "Loading checkpoint shards",
       "rate": null,
       "total": 4,
       "unit": "it",
       "unit_divisor": 1000,
       "unit_scale": false
      },
      "application/vnd.jupyter.widget-view+json": {
       "model_id": "39a372250365401eb11a6a7cbad792ff",
       "version_major": 2,
       "version_minor": 0
      },
      "text/plain": [
       "Loading checkpoint shards:   0%|          | 0/4 [00:00<?, ?it/s]"
      ]
     },
     "metadata": {},
     "output_type": "display_data"
    },
    {
     "name": "stderr",
     "output_type": "stream",
     "text": [
      "  0%|          | 0/50 [00:00<?, ?it/s]/data1/baixiang/env/anaconda3/envs/edit/lib/python3.9/site-packages/transformers/generation/configuration_utils.py:567: UserWarning: `do_sample` is set to `False`. However, `temperature` is set to `0.6` -- this flag is only used in sample-based generation modes. You should set `do_sample=True` or unset `temperature`.\n",
      "  warnings.warn(\n",
      "/data1/baixiang/env/anaconda3/envs/edit/lib/python3.9/site-packages/transformers/generation/configuration_utils.py:572: UserWarning: `do_sample` is set to `False`. However, `top_p` is set to `0.9` -- this flag is only used in sample-based generation modes. You should set `do_sample=True` or unset `top_p`.\n",
      "  warnings.warn(\n",
      "  2%|▏         | 1/50 [00:00<00:33,  1.46it/s]"
     ]
    },
    {
     "name": "stdout",
     "output_type": "stream",
     "text": [
      "===== Question: Which tourist attraction was owned by Greece? | Prediction: Knossos. | Label: Parthenon | Evaluation: 0 =====\n"
     ]
    },
    {
     "name": "stderr",
     "output_type": "stream",
     "text": [
      "  4%|▍         | 2/50 [00:01<00:24,  1.92it/s]"
     ]
    },
    {
     "name": "stdout",
     "output_type": "stream",
     "text": [
      "===== Question: Who was Rosersberg Palace founded by? | Prediction: King Gustav V. | Label: Gabriel Bengtsson Oxenstierna | Evaluation: 0 =====\n"
     ]
    },
    {
     "name": "stderr",
     "output_type": "stream",
     "text": [
      "  6%|▌         | 3/50 [00:01<00:19,  2.39it/s]"
     ]
    },
    {
     "name": "stdout",
     "output_type": "stream",
     "text": [
      "===== Question: What is the architectural style of Rosersberg Palace? | Prediction: Baroque. | Label: Neoclassical architecture | Evaluation: 0 =====\n"
     ]
    },
    {
     "name": "stderr",
     "output_type": "stream",
     "text": [
      "  8%|▊         | 4/50 [00:01<00:19,  2.41it/s]"
     ]
    },
    {
     "name": "stdout",
     "output_type": "stream",
     "text": [
      "===== Question: What was Rosersberg Palace owned by? | Prediction: The Swedish Royal Family. | Label: National Property Board of Sweden | Evaluation: 0 =====\n"
     ]
    },
    {
     "name": "stderr",
     "output_type": "stream",
     "text": [
      " 10%|█         | 5/50 [00:02<00:18,  2.42it/s]"
     ]
    },
    {
     "name": "stdout",
     "output_type": "stream",
     "text": [
      "===== Question: Which tourist attraction has part(s) Prayerbook Cross? | Prediction: Glastonbury. | Label: Golden Gate Park | Evaluation: 0 =====\n"
     ]
    },
    {
     "name": "stderr",
     "output_type": "stream",
     "text": [
      " 12%|█▏        | 6/50 [00:02<00:18,  2.32it/s]"
     ]
    },
    {
     "name": "stdout",
     "output_type": "stream",
     "text": [
      "===== Question: What is the significant event of Haw Par Villa? | Prediction: Battle of Heng San. | Label: construction | Evaluation: 0 =====\n"
     ]
    },
    {
     "name": "stderr",
     "output_type": "stream",
     "text": [
      " 14%|█▍        | 7/50 [00:03<00:25,  1.66it/s]"
     ]
    },
    {
     "name": "stdout",
     "output_type": "stream",
     "text": [
      "===== Question: Which tourist attraction's creator is Carlos Oswald? | Prediction: I couldn't find any information on a well-known tourist attraction created by Carlos Oswald | Label: Christ the Redeemer | Evaluation: 0 =====\n"
     ]
    },
    {
     "name": "stderr",
     "output_type": "stream",
     "text": [
      " 16%|█▌        | 8/50 [00:04<00:25,  1.64it/s]"
     ]
    },
    {
     "name": "stdout",
     "output_type": "stream",
     "text": [
      "===== Question: Who does Tsarskoye Selo architect? | Prediction: Vasily Petrovich Stasov. | Label: Francesco Bartolomeo Rastrelli | Evaluation: 0 =====\n"
     ]
    },
    {
     "name": "stderr",
     "output_type": "stream",
     "text": [
      " 18%|█▊        | 9/50 [00:04<00:22,  1.83it/s]"
     ]
    },
    {
     "name": "stdout",
     "output_type": "stream",
     "text": [
      "===== Question: Who architect Sedefkar Mehmed Agha? | Prediction: Sultan Ahmed III. | Label: Sultan Ahmed Mosque | Evaluation: 0 =====\n"
     ]
    },
    {
     "name": "stderr",
     "output_type": "stream",
     "text": [
      " 20%|██        | 10/50 [00:04<00:18,  2.12it/s]"
     ]
    },
    {
     "name": "stdout",
     "output_type": "stream",
     "text": [
      "===== Question: Which tourist attraction architect Alfred Parland? | Prediction: Senate Square. | Label: Church of the Savior on Blood | Evaluation: 0 =====\n"
     ]
    },
    {
     "name": "stderr",
     "output_type": "stream",
     "text": [
      " 22%|██▏       | 11/50 [00:05<00:16,  2.30it/s]"
     ]
    },
    {
     "name": "stdout",
     "output_type": "stream",
     "text": [
      "===== Question: What is the architectural style of Hundertwasserhaus? | Prediction: Biomorphism. | Label: expressionist architecture | Evaluation: 0 =====\n"
     ]
    },
    {
     "name": "stderr",
     "output_type": "stream",
     "text": [
      " 24%|██▍       | 12/50 [00:05<00:15,  2.44it/s]"
     ]
    },
    {
     "name": "stdout",
     "output_type": "stream",
     "text": [
      "===== Question: What is the located in the administrative territorial entity of Science Centre Singapore? | Prediction: Biopolis. | Label: Jurong East | Evaluation: 0 =====\n"
     ]
    },
    {
     "name": "stderr",
     "output_type": "stream",
     "text": [
      " 26%|██▌       | 13/50 [00:06<00:15,  2.45it/s]"
     ]
    },
    {
     "name": "stdout",
     "output_type": "stream",
     "text": [
      "===== Question: What is the architectural style of Grand Kremlin Palace? | Prediction: Neoclassicism. | Label: Byzantine Revival architecture | Evaluation: 0 =====\n"
     ]
    },
    {
     "name": "stderr",
     "output_type": "stream",
     "text": [
      " 28%|██▊       | 14/50 [00:06<00:14,  2.55it/s]"
     ]
    },
    {
     "name": "stdout",
     "output_type": "stream",
     "text": [
      "===== Question: Who was Grand Kremlin Palace commissioned by? | Prediction: Peter the Great. | Label: Nicholas I of Russia | Evaluation: 0 =====\n"
     ]
    },
    {
     "name": "stderr",
     "output_type": "stream",
     "text": [
      " 30%|███       | 15/50 [00:06<00:12,  2.76it/s]"
     ]
    },
    {
     "name": "stdout",
     "output_type": "stream",
     "text": [
      "===== Question: Which tourist attraction's located in the administrative territorial entity is Stourton with Gasper? | Prediction: Saltaire. | Label: Stourhead | Evaluation: 0 =====\n"
     ]
    },
    {
     "name": "stderr",
     "output_type": "stream",
     "text": [
      " 32%|███▏      | 16/50 [00:07<00:14,  2.35it/s]"
     ]
    },
    {
     "name": "stdout",
     "output_type": "stream",
     "text": [
      "===== Question: Who does İzmir Clock Tower architect? | Prediction: Raimondo D'Aronco. | Label: Raymond Charles Péré | Evaluation: 0 =====\n"
     ]
    },
    {
     "name": "stderr",
     "output_type": "stream",
     "text": [
      " 34%|███▍      | 17/50 [00:07<00:13,  2.48it/s]"
     ]
    },
    {
     "name": "stdout",
     "output_type": "stream",
     "text": [
      "===== Question: Which tourist attraction's director / manager is Tor Hagfors? | Prediction: Stonehenge. | Label: Arecibo Observatory | Evaluation: 0 =====\n"
     ]
    },
    {
     "name": "stderr",
     "output_type": "stream",
     "text": [
      " 36%|███▌      | 18/50 [00:07<00:11,  2.82it/s]"
     ]
    },
    {
     "name": "stdout",
     "output_type": "stream",
     "text": [
      "===== Question: What is the religion or worldview of Saviour Church on Nereditsa? | Prediction: Unknown. | Label: Eastern Orthodoxy | Evaluation: 0 =====\n"
     ]
    },
    {
     "name": "stderr",
     "output_type": "stream",
     "text": [
      " 38%|███▊      | 19/50 [00:08<00:09,  3.12it/s]"
     ]
    },
    {
     "name": "stdout",
     "output_type": "stream",
     "text": [
      "===== Question: Which tourist attraction architect Louis de Hoÿm de Marien? | Prediction: Unknown. | Label: Montparnasse Tower | Evaluation: 0 =====\n"
     ]
    },
    {
     "name": "stderr",
     "output_type": "stream",
     "text": [
      " 40%|████      | 20/50 [00:08<00:09,  3.04it/s]"
     ]
    },
    {
     "name": "stdout",
     "output_type": "stream",
     "text": [
      "===== Question: Which tourist attraction's located in the administrative territorial entity is Konya Province? | Prediction: Meke Lake. | Label: Lake Tuz | Evaluation: 0 =====\n"
     ]
    },
    {
     "name": "stderr",
     "output_type": "stream",
     "text": [
      " 42%|████▏     | 21/50 [00:08<00:09,  2.98it/s]"
     ]
    },
    {
     "name": "stdout",
     "output_type": "stream",
     "text": [
      "===== Question: Which tourist attraction's present in work is Now You See Me 2? | Prediction: The Louvre. | Label: Royal Observatory | Evaluation: 0 =====\n"
     ]
    },
    {
     "name": "stderr",
     "output_type": "stream",
     "text": [
      " 44%|████▍     | 22/50 [00:09<00:10,  2.67it/s]"
     ]
    },
    {
     "name": "stdout",
     "output_type": "stream",
     "text": [
      "===== Question: Which tourist attraction's located in the administrative territorial entity is Abu Dhabi? | Prediction: Sheikh Zayed Mosque. | Label: Louvre Abu Dhabi | Evaluation: 0 =====\n"
     ]
    },
    {
     "name": "stderr",
     "output_type": "stream",
     "text": [
      " 46%|████▌     | 23/50 [00:09<00:09,  2.85it/s]"
     ]
    },
    {
     "name": "stdout",
     "output_type": "stream",
     "text": [
      "===== Question: Which tourist attraction's located in the administrative territorial entity is Kane County? | Prediction: St. Charles | Label: Lake Powell | Evaluation: 0 =====\n"
     ]
    },
    {
     "name": "stderr",
     "output_type": "stream",
     "text": [
      " 48%|████▊     | 24/50 [00:09<00:09,  2.85it/s]"
     ]
    },
    {
     "name": "stdout",
     "output_type": "stream",
     "text": [
      "===== Question: Which tourist attraction's main building contractor is Works Progress Administration? | Prediction: The Hoover Dam. | Label: Arkansas Museum of Fine Arts | Evaluation: 0 =====\n"
     ]
    },
    {
     "name": "stderr",
     "output_type": "stream",
     "text": [
      " 50%|█████     | 25/50 [00:10<00:10,  2.50it/s]"
     ]
    },
    {
     "name": "stdout",
     "output_type": "stream",
     "text": [
      "===== Question: Who was National Garden of Athens founded by? | Prediction: Ioannis Kapodistrias. | Label: Amalia of Oldenburg | Evaluation: 0 =====\n"
     ]
    },
    {
     "name": "stderr",
     "output_type": "stream",
     "text": [
      " 52%|█████▏    | 26/50 [00:10<00:09,  2.58it/s]"
     ]
    },
    {
     "name": "stdout",
     "output_type": "stream",
     "text": [
      "===== Question: Which tourist attraction was founded by Bayezid I? | Prediction: Bursa. | Label: Anadoluhisarı | Evaluation: 0 =====\n"
     ]
    },
    {
     "name": "stderr",
     "output_type": "stream",
     "text": [
      " 54%|█████▍    | 27/50 [00:11<00:08,  2.66it/s]"
     ]
    },
    {
     "name": "stdout",
     "output_type": "stream",
     "text": [
      "===== Question: Which tourist attraction's located in the administrative territorial entity is Cambridge? | Prediction: Ely Cathedral. | Label: Fitzwilliam Museum | Evaluation: 0 =====\n"
     ]
    },
    {
     "name": "stderr",
     "output_type": "stream",
     "text": [
      " 56%|█████▌    | 28/50 [00:11<00:08,  2.59it/s]"
     ]
    },
    {
     "name": "stdout",
     "output_type": "stream",
     "text": [
      "===== Question: Who does Ushaw College architect? | Prediction: Augustus Pugin. | Label: Archibald Matthias Dunn | Evaluation: 0 =====\n"
     ]
    },
    {
     "name": "stderr",
     "output_type": "stream",
     "text": [
      " 58%|█████▊    | 29/50 [00:11<00:07,  2.79it/s]"
     ]
    },
    {
     "name": "stdout",
     "output_type": "stream",
     "text": [
      "===== Question: What is the diocese of Ushaw College? | Prediction: Durham. | Label: Roman Catholic Diocese of Hexham and Newcastle | Evaluation: 0 =====\n"
     ]
    },
    {
     "name": "stderr",
     "output_type": "stream",
     "text": [
      " 60%|██████    | 30/50 [00:12<00:07,  2.68it/s]"
     ]
    },
    {
     "name": "stdout",
     "output_type": "stream",
     "text": [
      "===== Question: What is the architectural style of Ushaw College? | Prediction: Neoclassical. | Label: Gothic Revival | Evaluation: 0 =====\n"
     ]
    },
    {
     "name": "stderr",
     "output_type": "stream",
     "text": [
      " 62%|██████▏   | 31/50 [00:12<00:06,  2.73it/s]"
     ]
    },
    {
     "name": "stdout",
     "output_type": "stream",
     "text": [
      "===== Question: Who does Yusupov Palace on Moika architect? | Prediction: Vasily Kenel | Label: Jean-Baptiste Vallin de la Mothe | Evaluation: 0 =====\n"
     ]
    },
    {
     "name": "stderr",
     "output_type": "stream",
     "text": [
      " 64%|██████▍   | 32/50 [00:13<00:07,  2.34it/s]"
     ]
    },
    {
     "name": "stdout",
     "output_type": "stream",
     "text": [
      "===== Question: Who was Meteor Crater named by? | Prediction: Dinah M. Ehmann. | Label: Herman LeRoy Fairchild | Evaluation: 0 =====\n"
     ]
    },
    {
     "name": "stderr",
     "output_type": "stream",
     "text": [
      " 66%|██████▌   | 33/50 [00:13<00:07,  2.37it/s]"
     ]
    },
    {
     "name": "stdout",
     "output_type": "stream",
     "text": [
      "===== Question: Which tourist attraction's significant event is funeral? | Prediction: Taj Mahal. | Label: St Paul's Cathedral | Evaluation: 0 =====\n"
     ]
    },
    {
     "name": "stderr",
     "output_type": "stream",
     "text": [
      " 68%|██████▊   | 34/50 [00:14<00:06,  2.31it/s]"
     ]
    },
    {
     "name": "stdout",
     "output_type": "stream",
     "text": [
      "===== Question: Which tourist attraction depicts drapery? | Prediction: The Colosseum. | Label: Statue of Liberty | Evaluation: 0 =====\n"
     ]
    },
    {
     "name": "stderr",
     "output_type": "stream",
     "text": [
      " 70%|███████   | 35/50 [00:14<00:05,  2.55it/s]"
     ]
    },
    {
     "name": "stdout",
     "output_type": "stream",
     "text": [
      "===== Question: What is the derivative work of Disneyland? | Prediction: Disney World. | Label: Kinect: Disneyland Adventures | Evaluation: 0 =====\n"
     ]
    },
    {
     "name": "stderr",
     "output_type": "stream",
     "text": [
      " 72%|███████▏  | 36/50 [00:14<00:05,  2.63it/s]"
     ]
    },
    {
     "name": "stdout",
     "output_type": "stream",
     "text": [
      "===== Question: What is the taxon found at location of Central Park? | Prediction: Quercus. | Label: squirrel | Evaluation: 0 =====\n"
     ]
    },
    {
     "name": "stderr",
     "output_type": "stream",
     "text": [
      " 74%|███████▍  | 37/50 [00:15<00:04,  2.82it/s]"
     ]
    },
    {
     "name": "stdout",
     "output_type": "stream",
     "text": [
      "===== Question: Which tourist attraction's main building contractor is Skanska? | Prediction: The Shard. | Label: 30 St Mary Axe | Evaluation: 0 =====\n"
     ]
    },
    {
     "name": "stderr",
     "output_type": "stream",
     "text": [
      " 76%|███████▌  | 38/50 [00:15<00:04,  2.49it/s]"
     ]
    },
    {
     "name": "stdout",
     "output_type": "stream",
     "text": [
      "===== Question: Which tourist attraction architect Bartolommeo Berrecci? | Prediction: St. Peter's Basilica. | Label: Wawel Castle | Evaluation: 0 =====\n"
     ]
    },
    {
     "name": "stderr",
     "output_type": "stream",
     "text": [
      " 78%|███████▊  | 39/50 [00:15<00:04,  2.39it/s]"
     ]
    },
    {
     "name": "stdout",
     "output_type": "stream",
     "text": [
      "===== Question: Which tourist attraction's located in the administrative territorial entity is Gran Canaria? | Prediction: Roque Nublo. | Label: Jardín Botánico Canario Viera y Clavijo | Evaluation: 0 =====\n"
     ]
    },
    {
     "name": "stderr",
     "output_type": "stream",
     "text": [
      " 80%|████████  | 40/50 [00:16<00:04,  2.15it/s]"
     ]
    },
    {
     "name": "stdout",
     "output_type": "stream",
     "text": [
      "===== Question: Which tourist attraction's made from material is paint? | Prediction: Van Gogh's Starry Night. | Label: Cadillac Ranch | Evaluation: 0 =====\n"
     ]
    },
    {
     "name": "stderr",
     "output_type": "stream",
     "text": [
      " 82%|████████▏ | 41/50 [00:16<00:03,  2.41it/s]"
     ]
    },
    {
     "name": "stdout",
     "output_type": "stream",
     "text": [
      "===== Question: Which tourist attraction architect Bodo Ebhardt? | Prediction: Berlin Cathedral. | Label: Coburg Fortress | Evaluation: 0 =====\n"
     ]
    },
    {
     "name": "stderr",
     "output_type": "stream",
     "text": [
      " 84%|████████▍ | 42/50 [00:17<00:03,  2.53it/s]"
     ]
    },
    {
     "name": "stdout",
     "output_type": "stream",
     "text": [
      "===== Question: Which tourist attraction's located in the administrative territorial entity is Aksaray Province? | Prediction: Göreme. | Label: Lake Tuz | Evaluation: 0 =====\n"
     ]
    },
    {
     "name": "stderr",
     "output_type": "stream",
     "text": [
      " 86%|████████▌ | 43/50 [00:17<00:02,  2.74it/s]"
     ]
    },
    {
     "name": "stdout",
     "output_type": "stream",
     "text": [
      "===== Question: Which tourist attraction architect Daniel Burnham? | Prediction: Union Station. | Label: National Museum of Natural History | Evaluation: 0 =====\n"
     ]
    },
    {
     "name": "stderr",
     "output_type": "stream",
     "text": [
      " 88%|████████▊ | 44/50 [00:17<00:02,  2.78it/s]"
     ]
    },
    {
     "name": "stdout",
     "output_type": "stream",
     "text": [
      "===== Question: Which tourist attraction's taxon found at location is Chamaerops humilis? | Prediction: Monument Valley. | Label: National Garden of Athens | Evaluation: 0 =====\n"
     ]
    },
    {
     "name": "stderr",
     "output_type": "stream",
     "text": [
      " 90%|█████████ | 45/50 [00:18<00:01,  2.93it/s]"
     ]
    },
    {
     "name": "stdout",
     "output_type": "stream",
     "text": [
      "===== Question: Which tourist attraction's structural engineer is Schlaich Bergermann Partner? | Prediction: London Eye. | Label: One World Trade Center | Evaluation: 0 =====\n"
     ]
    },
    {
     "name": "stderr",
     "output_type": "stream",
     "text": [
      " 92%|█████████▏| 46/50 [00:18<00:01,  2.77it/s]"
     ]
    },
    {
     "name": "stdout",
     "output_type": "stream",
     "text": [
      "===== Question: Which tourist attraction shape antiprism? | Prediction: Geodesic Dome. | Label: One World Trade Center | Evaluation: 0 =====\n"
     ]
    },
    {
     "name": "stderr",
     "output_type": "stream",
     "text": [
      " 94%|█████████▍| 47/50 [00:19<00:01,  2.55it/s]"
     ]
    },
    {
     "name": "stdout",
     "output_type": "stream",
     "text": [
      "===== Question: Which tourist attraction depicts navel? | Prediction: Navel of the Earth. | Label: Manneken-Pis | Evaluation: 0 =====\n"
     ]
    },
    {
     "name": "stderr",
     "output_type": "stream",
     "text": [
      " 96%|█████████▌| 48/50 [00:19<00:00,  2.16it/s]"
     ]
    },
    {
     "name": "stdout",
     "output_type": "stream",
     "text": [
      "===== Question: What is the main building contractor of Willis Tower? | Prediction: Skidmore, Owings & Merrill. | Label: American Bridge Company | Evaluation: 0 =====\n"
     ]
    },
    {
     "name": "stderr",
     "output_type": "stream",
     "text": [
      " 98%|█████████▊| 49/50 [00:19<00:00,  2.42it/s]"
     ]
    },
    {
     "name": "stdout",
     "output_type": "stream",
     "text": [
      "===== Question: What is the architectural style of Willis Tower? | Prediction: Postmodern. | Label: International Style | Evaluation: 0 =====\n"
     ]
    },
    {
     "name": "stderr",
     "output_type": "stream",
     "text": [
      "100%|██████████| 50/50 [00:20<00:00,  2.42it/s]\n",
      "We detected that you are passing `past_key_values` as a tuple and this is deprecated and will be removed in v4.43. Please use an appropriate `Cache` class (https://huggingface.co/docs/transformers/v4.41.3/en/internal/generation_utils#transformers.Cache)\n"
     ]
    },
    {
     "name": "stdout",
     "output_type": "stream",
     "text": [
      "===== Question: Which tourist attraction's creator is Jan Styka? | Prediction: The National Shrine of the Immaculate Conception. | Label: Racławice Panorama | Evaluation: 0 =====\n",
      "Executing ROME algorithm for the update: [Which tourist attraction was owned by Greece?] -> [ Parthenon]\n",
      "Cached context templates ['{}', 'The 2019. {}', 'The following account,. {}', 'Therefore, it was. {}', 'Therefore, if you. {}', 'Because I love the. {}', 'Because you compared Bit. {}', \"I'm trying to. {}\", 'I am so glad. {}', \"You're viewing a. {}\", 'You are currently browsing. {}', 'The 2022-2023 school year. {}', 'The following statements about the relationship between the immune. {}', 'Therefore, it is necessary for you to be. {}', 'Therefore, you can use this as a guide. {}', 'Because of their unique structure, the cells of. {}', 'Because of the COVID-19 pandemic, the. {}', 'I love this quote by Maya Angelou:. {}', 'I am excited to announce that I have partnered. {}', \"You can't have it all - but you. {}\", 'You are here: Home / News / New. {}']\n",
      "Computing left vector (u)...\n",
      "Selected u projection object Greece\n",
      "Left vector shape: torch.Size([14336])\n",
      "Computing right vector (v)\n",
      "Lookup index found: 7 | Sentence: Which tourist attraction was owned by Greece? Parthen | Token:  Greece\n",
      "Rewrite layer is 5\n",
      "Tying optimization objective to 31\n",
      "Recording initial value of v*\n",
      "loss 2.474 = 2.474 + 0.0 + 0.0 avg prob of [ Parthenon] 0.0856739804148674\n",
      "loss 1.75 = 1.68 + 0.068 + 0.002 avg prob of [ Parthenon] 0.19112083315849304\n",
      "loss 0.974 = 0.941 + 0.031 + 0.002 avg prob of [ Parthenon] 0.39576730132102966\n",
      "loss 0.884 = 0.857 + 0.026 + 0.002 avg prob of [ Parthenon] 0.4275975227355957\n",
      "loss 0.274 = 0.219 + 0.053 + 0.002 avg prob of [ Parthenon] 0.8065826892852783\n",
      "loss 0.133 = 0.081 + 0.05 + 0.002 avg prob of [ Parthenon] 0.9242112636566162\n",
      "loss 0.138 = 0.08 + 0.057 + 0.002 avg prob of [ Parthenon] 0.9236304759979248\n",
      "loss 0.055 = 0.026 + 0.027 + 0.002 avg prob of [ Parthenon] 0.9742493629455566\n"
     ]
    },
    {
     "name": "stderr",
     "output_type": "stream",
     "text": [
      "2024-08-12 18:46:59,439 - hallucination_editor - INFO - Execution 0 editing took 3.338561773300171\n",
      "08/12/2024 18:46:59 - INFO - hallucination_editor -   Execution 0 editing took 3.338561773300171\n"
     ]
    },
    {
     "name": "stdout",
     "output_type": "stream",
     "text": [
      "loss 0.024 = 0.003 + 0.02 + 0.002 avg prob of [ Parthenon] 0.9974278211593628\n",
      "Delta norm: 8.84375\n",
      "Change in target norm: 2.2109375 to 9.09375 => 6.8828125\n",
      "Division Factor: 2.830078125\n",
      "Right vector norm: 3.125\n",
      "Right vector shape: torch.Size([4096])\n",
      "Deltas successfully computed for ['model.layers.5.mlp.down_proj.weight']\n",
      "New weights successfully inserted into ['model.layers.5.mlp.down_proj.weight']\n"
     ]
    },
    {
     "name": "stderr",
     "output_type": "stream",
     "text": [
      "2024-08-12 18:46:59,668 - hallucination_editor - INFO - Evaluation took 0.22786331176757812\n",
      "08/12/2024 18:46:59 - INFO - hallucination_editor -   Evaluation took 0.22786331176757812\n",
      "2024-08-12 18:46:59,670 - hallucination_editor - INFO - 0 editing: Which tourist attraction was owned by Greece? -> Parthenon  \n",
      " {'pre': {'edit_acc': [0], 'edit_output': ['Knossos.'], 'locality': {}, 'portability': {}, 'yes_no': {}}, 'case_id': 0, 'requested_edit': {'prompt': 'Which tourist attraction was owned by Greece?', 'target_new': 'Parthenon', 'ground_truth': '<|endoftext|>', 'portability': {}, 'locality': {}, 'yes_no': {}, 'harm_original_text': {}, 'subject': 'Greece'}, 'time': 3.338561773300171, 'post': {'edit_acc': [1], 'edit_output': ['Parthenon'], 'locality': {}, 'portability': {}, 'yes_no': {}}}\n",
      "08/12/2024 18:46:59 - INFO - hallucination_editor -   0 editing: Which tourist attraction was owned by Greece? -> Parthenon  \n",
      " {'pre': {'edit_acc': [0], 'edit_output': ['Knossos.'], 'locality': {}, 'portability': {}, 'yes_no': {}}, 'case_id': 0, 'requested_edit': {'prompt': 'Which tourist attraction was owned by Greece?', 'target_new': 'Parthenon', 'ground_truth': '<|endoftext|>', 'portability': {}, 'locality': {}, 'yes_no': {}, 'harm_original_text': {}, 'subject': 'Greece'}, 'time': 3.338561773300171, 'post': {'edit_acc': [1], 'edit_output': ['Parthenon'], 'locality': {}, 'portability': {}, 'yes_no': {}}}\n"
     ]
    },
    {
     "name": "stdout",
     "output_type": "stream",
     "text": [
      "===== Question: Which tourist attraction was owned by Greece? | Prediction: Parthenon | Label: Parthenon | Evaluation: 1 =====\n",
      "Executing ROME algorithm for the update: [Who was Rosersberg Palace founded by?] -> [ Gabriel Bengtsson Oxenstierna]\n",
      "Computing left vector (u)...\n",
      "Selected u projection object Rosersberg Palace\n",
      "Left vector shape: torch.Size([14336])\n",
      "Computing right vector (v)\n",
      "Lookup index found: 6 | Sentence: Who was Rosersberg Palace founded by? Gabriel Bengtsson Oxensti | Token:  Palace\n",
      "Rewrite layer is 5\n",
      "Tying optimization objective to 31\n",
      "Recording initial value of v*\n",
      "loss 1.571 = 1.571 + 0.0 + 0.0 avg prob of [ Gabriel Bengtsson Oxenstierna] 0.20819316804409027\n",
      "loss 1.466 = 1.387 + 0.078 + 0.001 avg prob of [ Gabriel Bengtsson Oxenstierna] 0.25108200311660767\n",
      "loss 0.989 = 0.977 + 0.011 + 0.001 avg prob of [ Gabriel Bengtsson Oxenstierna] 0.37740838527679443\n",
      "loss 1.169 = 1.137 + 0.031 + 0.001 avg prob of [ Gabriel Bengtsson Oxenstierna] 0.3241691589355469\n",
      "loss 0.731 = 0.714 + 0.015 + 0.001 avg prob of [ Gabriel Bengtsson Oxenstierna] 0.49092796444892883\n",
      "loss 0.245 = 0.23 + 0.014 + 0.001 avg prob of [ Gabriel Bengtsson Oxenstierna] 0.796111524105072\n",
      "loss 0.058 = 0.025 + 0.032 + 0.001 avg prob of [ Gabriel Bengtsson Oxenstierna] 0.9753570556640625\n",
      "loss 0.183 = 0.12 + 0.061 + 0.001 avg prob of [ Gabriel Bengtsson Oxenstierna] 0.8884792327880859\n"
     ]
    },
    {
     "name": "stderr",
     "output_type": "stream",
     "text": [
      "2024-08-12 18:47:02,344 - hallucination_editor - INFO - Execution 1 editing took 2.672781467437744\n",
      "08/12/2024 18:47:02 - INFO - hallucination_editor -   Execution 1 editing took 2.672781467437744\n"
     ]
    },
    {
     "name": "stdout",
     "output_type": "stream",
     "text": [
      "loss 0.035 = 0.021 + 0.012 + 0.001 avg prob of [ Gabriel Bengtsson Oxenstierna] 0.9790629744529724\n",
      "Delta norm: 11.28125\n",
      "Change in target norm: 2.8203125 to 11.765625 => 8.9453125\n",
      "Division Factor: 3.59765625\n",
      "Right vector norm: 3.134765625\n",
      "Right vector shape: torch.Size([4096])\n",
      "Deltas successfully computed for ['model.layers.5.mlp.down_proj.weight']\n",
      "New weights successfully inserted into ['model.layers.5.mlp.down_proj.weight']\n"
     ]
    },
    {
     "name": "stderr",
     "output_type": "stream",
     "text": [
      "2024-08-12 18:47:02,963 - hallucination_editor - INFO - Evaluation took 0.6174046993255615\n",
      "08/12/2024 18:47:02 - INFO - hallucination_editor -   Evaluation took 0.6174046993255615\n",
      "2024-08-12 18:47:02,964 - hallucination_editor - INFO - 1 editing: Who was Rosersberg Palace founded by? -> Gabriel Bengtsson Oxenstierna  \n",
      " {'pre': {'edit_acc': [0], 'edit_output': ['King Gustav V.'], 'locality': {}, 'portability': {}, 'yes_no': {}}, 'case_id': 1, 'requested_edit': {'prompt': 'Who was Rosersberg Palace founded by?', 'target_new': 'Gabriel Bengtsson Oxenstierna', 'ground_truth': '<|endoftext|>', 'portability': {}, 'locality': {}, 'yes_no': {}, 'harm_original_text': {}, 'subject': 'Rosersberg Palace'}, 'time': 2.672781467437744, 'post': {'edit_acc': [1], 'edit_output': ['Gabriel Bengtsson Oxenstierna.'], 'locality': {}, 'portability': {}, 'yes_no': {}}}\n",
      "08/12/2024 18:47:02 - INFO - hallucination_editor -   1 editing: Who was Rosersberg Palace founded by? -> Gabriel Bengtsson Oxenstierna  \n",
      " {'pre': {'edit_acc': [0], 'edit_output': ['King Gustav V.'], 'locality': {}, 'portability': {}, 'yes_no': {}}, 'case_id': 1, 'requested_edit': {'prompt': 'Who was Rosersberg Palace founded by?', 'target_new': 'Gabriel Bengtsson Oxenstierna', 'ground_truth': '<|endoftext|>', 'portability': {}, 'locality': {}, 'yes_no': {}, 'harm_original_text': {}, 'subject': 'Rosersberg Palace'}, 'time': 2.672781467437744, 'post': {'edit_acc': [1], 'edit_output': ['Gabriel Bengtsson Oxenstierna.'], 'locality': {}, 'portability': {}, 'yes_no': {}}}\n"
     ]
    },
    {
     "name": "stdout",
     "output_type": "stream",
     "text": [
      "===== Question: Who was Rosersberg Palace founded by? | Prediction: Gabriel Bengtsson Oxenstierna. | Label: Gabriel Bengtsson Oxenstierna | Evaluation: 1 =====\n",
      "Executing ROME algorithm for the update: [What is the architectural style of Rosersberg Palace?] -> [ Neoclassical architecture]\n",
      "Computing left vector (u)...\n",
      "Selected u projection object Rosersberg Palace\n",
      "Left vector shape: torch.Size([14336])\n",
      "Computing right vector (v)\n",
      "Lookup index found: 10 | Sentence: What is the architectural style of Rosersberg Palace? Neoclassical | Token:  Palace\n",
      "Rewrite layer is 5\n",
      "Tying optimization objective to 31\n",
      "Recording initial value of v*\n",
      "loss 2.221 = 2.221 + 0.0 + 0.0 avg prob of [ Neoclassical architecture] 0.11029486358165741\n",
      "loss 1.681 = 1.657 + 0.022 + 0.001 avg prob of [ Neoclassical architecture] 0.19437676668167114\n",
      "loss 0.997 = 0.943 + 0.052 + 0.001 avg prob of [ Neoclassical architecture] 0.3898884057998657\n",
      "loss 0.528 = 0.5 + 0.027 + 0.001 avg prob of [ Neoclassical architecture] 0.6071978807449341\n",
      "loss 0.112 = 0.091 + 0.019 + 0.001 avg prob of [ Neoclassical architecture] 0.9129576086997986\n",
      "loss 0.053 = 0.016 + 0.035 + 0.001 avg prob of [ Neoclassical architecture] 0.9838057160377502\n"
     ]
    },
    {
     "name": "stderr",
     "output_type": "stream",
     "text": [
      "2024-08-12 18:47:05,051 - hallucination_editor - INFO - Execution 2 editing took 2.0849125385284424\n",
      "08/12/2024 18:47:05 - INFO - hallucination_editor -   Execution 2 editing took 2.0849125385284424\n"
     ]
    },
    {
     "name": "stdout",
     "output_type": "stream",
     "text": [
      "loss 0.024 = 0.006 + 0.016 + 0.001 avg prob of [ Neoclassical architecture] 0.9936469197273254\n",
      "Delta norm: 12.59375\n",
      "Change in target norm: 3.1484375 to 12.9375 => 9.7890625\n",
      "Division Factor: 4.0546875\n",
      "Right vector norm: 3.10546875\n",
      "Right vector shape: torch.Size([4096])\n",
      "Deltas successfully computed for ['model.layers.5.mlp.down_proj.weight']\n",
      "New weights successfully inserted into ['model.layers.5.mlp.down_proj.weight']\n"
     ]
    },
    {
     "name": "stderr",
     "output_type": "stream",
     "text": [
      "2024-08-12 18:47:05,460 - hallucination_editor - INFO - Evaluation took 0.4079103469848633\n",
      "08/12/2024 18:47:05 - INFO - hallucination_editor -   Evaluation took 0.4079103469848633\n",
      "2024-08-12 18:47:05,461 - hallucination_editor - INFO - 2 editing: What is the architectural style of Rosersberg Palace? -> Neoclassical architecture  \n",
      " {'pre': {'edit_acc': [0], 'edit_output': ['Baroque.'], 'locality': {}, 'portability': {}, 'yes_no': {}}, 'case_id': 2, 'requested_edit': {'prompt': 'What is the architectural style of Rosersberg Palace?', 'target_new': 'Neoclassical architecture', 'ground_truth': '<|endoftext|>', 'portability': {}, 'locality': {}, 'yes_no': {}, 'harm_original_text': {}, 'subject': 'Rosersberg Palace'}, 'time': 2.0849125385284424, 'post': {'edit_acc': [1], 'edit_output': ['Neoclassical.'], 'locality': {}, 'portability': {}, 'yes_no': {}}}\n",
      "08/12/2024 18:47:05 - INFO - hallucination_editor -   2 editing: What is the architectural style of Rosersberg Palace? -> Neoclassical architecture  \n",
      " {'pre': {'edit_acc': [0], 'edit_output': ['Baroque.'], 'locality': {}, 'portability': {}, 'yes_no': {}}, 'case_id': 2, 'requested_edit': {'prompt': 'What is the architectural style of Rosersberg Palace?', 'target_new': 'Neoclassical architecture', 'ground_truth': '<|endoftext|>', 'portability': {}, 'locality': {}, 'yes_no': {}, 'harm_original_text': {}, 'subject': 'Rosersberg Palace'}, 'time': 2.0849125385284424, 'post': {'edit_acc': [1], 'edit_output': ['Neoclassical.'], 'locality': {}, 'portability': {}, 'yes_no': {}}}\n"
     ]
    },
    {
     "name": "stdout",
     "output_type": "stream",
     "text": [
      "===== Question: What is the architectural style of Rosersberg Palace? | Prediction: Neoclassical. | Label: Neoclassical architecture | Evaluation: 1 =====\n",
      "Executing ROME algorithm for the update: [What was Rosersberg Palace owned by?] -> [ National Property Board of Sweden]\n",
      "Computing left vector (u)...\n",
      "Selected u projection object Rosersberg Palace\n",
      "Left vector shape: torch.Size([14336])\n",
      "Computing right vector (v)\n",
      "Lookup index found: 6 | Sentence: What was Rosersberg Palace owned by? National Property Board of | Token:  Palace\n",
      "Rewrite layer is 5\n",
      "Tying optimization objective to 31\n",
      "Recording initial value of v*\n",
      "loss 2.458 = 2.458 + 0.0 + 0.0 avg prob of [ National Property Board of Sweden] 0.08777381479740143\n",
      "loss 1.709 = 1.62 + 0.088 + 0.001 avg prob of [ National Property Board of Sweden] 0.2022714614868164\n",
      "loss 0.955 = 0.939 + 0.014 + 0.001 avg prob of [ National Property Board of Sweden] 0.3942873775959015\n",
      "loss 0.16 = 0.109 + 0.05 + 0.001 avg prob of [ National Property Board of Sweden] 0.8976646065711975\n",
      "loss 0.059 = 0.007 + 0.051 + 0.001 avg prob of [ National Property Board of Sweden] 0.9931257367134094\n",
      "loss 0.053 = 0.001 + 0.051 + 0.001 avg prob of [ National Property Board of Sweden] 0.9994308948516846\n",
      "loss 0.053 = 0.001 + 0.051 + 0.001 avg prob of [ National Property Board of Sweden] 0.9994986653327942\n"
     ]
    },
    {
     "name": "stderr",
     "output_type": "stream",
     "text": [
      "2024-08-12 18:47:07,767 - hallucination_editor - INFO - Execution 3 editing took 2.3038580417633057\n",
      "08/12/2024 18:47:07 - INFO - hallucination_editor -   Execution 3 editing took 2.3038580417633057\n"
     ]
    },
    {
     "name": "stdout",
     "output_type": "stream",
     "text": [
      "loss 0.046 = 0.0 + 0.044 + 0.001 avg prob of [ National Property Board of Sweden] 0.9997081160545349\n",
      "Delta norm: 11.484375\n",
      "Change in target norm: 2.87109375 to 11.8671875 => 9.0\n",
      "Division Factor: 3.658203125\n",
      "Right vector norm: 3.138671875\n",
      "Right vector shape: torch.Size([4096])\n",
      "Deltas successfully computed for ['model.layers.5.mlp.down_proj.weight']\n",
      "New weights successfully inserted into ['model.layers.5.mlp.down_proj.weight']\n"
     ]
    },
    {
     "name": "stderr",
     "output_type": "stream",
     "text": [
      "2024-08-12 18:47:08,161 - hallucination_editor - INFO - Evaluation took 0.392925500869751\n",
      "08/12/2024 18:47:08 - INFO - hallucination_editor -   Evaluation took 0.392925500869751\n",
      "2024-08-12 18:47:08,163 - hallucination_editor - INFO - 3 editing: What was Rosersberg Palace owned by? -> National Property Board of Sweden  \n",
      " {'pre': {'edit_acc': [0], 'edit_output': ['The Swedish Royal Family.'], 'locality': {}, 'portability': {}, 'yes_no': {}}, 'case_id': 3, 'requested_edit': {'prompt': 'What was Rosersberg Palace owned by?', 'target_new': 'National Property Board of Sweden', 'ground_truth': '<|endoftext|>', 'portability': {}, 'locality': {}, 'yes_no': {}, 'harm_original_text': {}, 'subject': 'Rosersberg Palace'}, 'time': 2.3038580417633057, 'post': {'edit_acc': [1], 'edit_output': ['National Property Board of Sweden.'], 'locality': {}, 'portability': {}, 'yes_no': {}}}\n",
      "08/12/2024 18:47:08 - INFO - hallucination_editor -   3 editing: What was Rosersberg Palace owned by? -> National Property Board of Sweden  \n",
      " {'pre': {'edit_acc': [0], 'edit_output': ['The Swedish Royal Family.'], 'locality': {}, 'portability': {}, 'yes_no': {}}, 'case_id': 3, 'requested_edit': {'prompt': 'What was Rosersberg Palace owned by?', 'target_new': 'National Property Board of Sweden', 'ground_truth': '<|endoftext|>', 'portability': {}, 'locality': {}, 'yes_no': {}, 'harm_original_text': {}, 'subject': 'Rosersberg Palace'}, 'time': 2.3038580417633057, 'post': {'edit_acc': [1], 'edit_output': ['National Property Board of Sweden.'], 'locality': {}, 'portability': {}, 'yes_no': {}}}\n"
     ]
    },
    {
     "name": "stdout",
     "output_type": "stream",
     "text": [
      "===== Question: What was Rosersberg Palace owned by? | Prediction: National Property Board of Sweden. | Label: National Property Board of Sweden | Evaluation: 1 =====\n",
      "Executing ROME algorithm for the update: [Which tourist attraction has part(s) Prayerbook Cross?] -> [ Golden Gate Park]\n",
      "Computing left vector (u)...\n",
      "Selected u projection object Prayerbook Cross\n",
      "Left vector shape: torch.Size([14336])\n",
      "Computing right vector (v)\n",
      "Lookup index found: 10 | Sentence: Which tourist attraction has part(s) Prayerbook Cross? Golden Gate | Token:  Cross\n",
      "Rewrite layer is 5\n",
      "Tying optimization objective to 31\n",
      "Recording initial value of v*\n",
      "loss 4.63 = 4.63 + 0.0 + 0.0 avg prob of [ Golden Gate Park] 0.01001574657857418\n",
      "loss 3.915 = 3.821 + 0.093 + 0.001 avg prob of [ Golden Gate Park] 0.022290781140327454\n",
      "loss 2.643 = 2.488 + 0.155 + 0.001 avg prob of [ Golden Gate Park] 0.08418041467666626\n",
      "loss 1.811 = 1.687 + 0.122 + 0.001 avg prob of [ Golden Gate Park] 0.18612158298492432\n",
      "loss 1.028 = 0.92 + 0.106 + 0.001 avg prob of [ Golden Gate Park] 0.39984676241874695\n",
      "loss 0.631 = 0.532 + 0.098 + 0.001 avg prob of [ Golden Gate Park] 0.5913767218589783\n",
      "loss 0.545 = 0.46 + 0.083 + 0.001 avg prob of [ Golden Gate Park] 0.6353768706321716\n",
      "loss 0.409 = 0.331 + 0.077 + 0.001 avg prob of [ Golden Gate Park] 0.7209824919700623\n",
      "loss 0.238 = 0.162 + 0.075 + 0.001 avg prob of [ Golden Gate Park] 0.851563036441803\n",
      "loss 0.109 = 0.037 + 0.071 + 0.001 avg prob of [ Golden Gate Park] 0.9641962051391602\n",
      "loss 0.08 = 0.012 + 0.067 + 0.001 avg prob of [ Golden Gate Park] 0.9883777499198914\n",
      "loss 0.071 = 0.005 + 0.064 + 0.001 avg prob of [ Golden Gate Park] 0.9947197437286377\n",
      "loss 0.066 = 0.003 + 0.062 + 0.001 avg prob of [ Golden Gate Park] 0.9969705939292908\n",
      "loss 0.064 = 0.002 + 0.061 + 0.001 avg prob of [ Golden Gate Park] 0.9979324340820312\n",
      "loss 0.063 = 0.002 + 0.06 + 0.001 avg prob of [ Golden Gate Park] 0.998382568359375\n",
      "loss 0.062 = 0.001 + 0.059 + 0.001 avg prob of [ Golden Gate Park] 0.998562216758728\n",
      "loss 0.061 = 0.001 + 0.058 + 0.001 avg prob of [ Golden Gate Park] 0.9986495971679688\n",
      "loss 0.06 = 0.001 + 0.057 + 0.001 avg prob of [ Golden Gate Park] 0.9987238049507141\n",
      "loss 0.059 = 0.001 + 0.056 + 0.001 avg prob of [ Golden Gate Park] 0.9987861514091492\n",
      "loss 0.058 = 0.001 + 0.055 + 0.001 avg prob of [ Golden Gate Park] 0.9988287091255188\n",
      "loss 0.057 = 0.001 + 0.054 + 0.001 avg prob of [ Golden Gate Park] 0.9988857507705688\n",
      "loss 0.056 = 0.001 + 0.053 + 0.001 avg prob of [ Golden Gate Park] 0.99895840883255\n",
      "loss 0.055 = 0.001 + 0.052 + 0.001 avg prob of [ Golden Gate Park] 0.9990244507789612\n",
      "loss 0.052 = 0.001 + 0.049 + 0.001 avg prob of [ Golden Gate Park] 0.9990577697753906\n"
     ]
    },
    {
     "name": "stderr",
     "output_type": "stream",
     "text": [
      "2024-08-12 18:47:15,265 - hallucination_editor - INFO - Execution 4 editing took 7.1011552810668945\n",
      "08/12/2024 18:47:15 - INFO - hallucination_editor -   Execution 4 editing took 7.1011552810668945\n"
     ]
    },
    {
     "name": "stdout",
     "output_type": "stream",
     "text": [
      "loss 0.041 = 0.001 + 0.039 + 0.001 avg prob of [ Golden Gate Park] 0.9990379810333252\n",
      "Delta norm: 11.7890625\n",
      "Change in target norm: 2.947265625 to 12.0546875 => 9.109375\n",
      "Division Factor: 3.75390625\n",
      "Right vector norm: 3.140625\n",
      "Right vector shape: torch.Size([4096])\n",
      "Deltas successfully computed for ['model.layers.5.mlp.down_proj.weight']\n",
      "New weights successfully inserted into ['model.layers.5.mlp.down_proj.weight']\n"
     ]
    },
    {
     "name": "stderr",
     "output_type": "stream",
     "text": [
      "2024-08-12 18:47:15,495 - hallucination_editor - INFO - Evaluation took 0.22803831100463867\n",
      "08/12/2024 18:47:15 - INFO - hallucination_editor -   Evaluation took 0.22803831100463867\n",
      "2024-08-12 18:47:15,496 - hallucination_editor - INFO - 4 editing: Which tourist attraction has part(s) Prayerbook Cross? -> Golden Gate Park  \n",
      " {'pre': {'edit_acc': [0], 'edit_output': ['Glastonbury.'], 'locality': {}, 'portability': {}, 'yes_no': {}}, 'case_id': 4, 'requested_edit': {'prompt': 'Which tourist attraction has part(s) Prayerbook Cross?', 'target_new': 'Golden Gate Park', 'ground_truth': '<|endoftext|>', 'portability': {}, 'locality': {}, 'yes_no': {}, 'harm_original_text': {}, 'subject': 'Prayerbook Cross'}, 'time': 7.1011552810668945, 'post': {'edit_acc': [1], 'edit_output': ['Golden Gate Park'], 'locality': {}, 'portability': {}, 'yes_no': {}}}\n",
      "08/12/2024 18:47:15 - INFO - hallucination_editor -   4 editing: Which tourist attraction has part(s) Prayerbook Cross? -> Golden Gate Park  \n",
      " {'pre': {'edit_acc': [0], 'edit_output': ['Glastonbury.'], 'locality': {}, 'portability': {}, 'yes_no': {}}, 'case_id': 4, 'requested_edit': {'prompt': 'Which tourist attraction has part(s) Prayerbook Cross?', 'target_new': 'Golden Gate Park', 'ground_truth': '<|endoftext|>', 'portability': {}, 'locality': {}, 'yes_no': {}, 'harm_original_text': {}, 'subject': 'Prayerbook Cross'}, 'time': 7.1011552810668945, 'post': {'edit_acc': [1], 'edit_output': ['Golden Gate Park'], 'locality': {}, 'portability': {}, 'yes_no': {}}}\n"
     ]
    },
    {
     "name": "stdout",
     "output_type": "stream",
     "text": [
      "===== Question: Which tourist attraction has part(s) Prayerbook Cross? | Prediction: Golden Gate Park | Label: Golden Gate Park | Evaluation: 1 =====\n",
      "Executing ROME algorithm for the update: [What is the significant event of Haw Par Villa?] -> [ construction]\n",
      "Computing left vector (u)...\n",
      "Selected u projection object Haw Par Villa\n",
      "Left vector shape: torch.Size([14336])\n",
      "Computing right vector (v)\n",
      "Lookup index found: 9 | Sentence: What is the significant event of Haw Par Villa? | Token:  Villa\n",
      "Rewrite layer is 5\n",
      "Tying optimization objective to 31\n",
      "Recording initial value of v*\n",
      "loss 11.697 = 11.697 + 0.0 + 0.0 avg prob of [ construction] 1.2132853953517042e-05\n",
      "loss 7.981 = 7.953 + 0.027 + 0.001 avg prob of [ construction] 0.0003833551309071481\n",
      "loss 4.971 = 4.584 + 0.386 + 0.001 avg prob of [ construction] 0.012556048110127449\n",
      "loss 0.709 = 0.241 + 0.467 + 0.001 avg prob of [ construction] 0.7872557044029236\n",
      "loss 0.452 = 0.001 + 0.45 + 0.001 avg prob of [ construction] 0.9986498951911926\n",
      "loss 0.451 = 0.0 + 0.45 + 0.001 avg prob of [ construction] 0.9996879696846008\n",
      "loss 0.451 = 0.0 + 0.449 + 0.001 avg prob of [ construction] 0.9996944665908813\n",
      "loss 0.451 = 0.0 + 0.449 + 0.001 avg prob of [ construction] 0.9996947646141052\n",
      "loss 0.45 = 0.0 + 0.448 + 0.001 avg prob of [ construction] 0.9997221827507019\n",
      "loss 0.465 = 0.0 + 0.464 + 0.001 avg prob of [ construction] 0.9997543096542358\n",
      "loss 0.455 = 0.004 + 0.449 + 0.001 avg prob of [ construction] 0.9957373738288879\n",
      "loss 0.46 = 0.011 + 0.447 + 0.001 avg prob of [ construction] 0.9890078902244568\n",
      "loss 0.456 = 0.009 + 0.446 + 0.001 avg prob of [ construction] 0.991093635559082\n",
      "loss 0.451 = 0.005 + 0.444 + 0.001 avg prob of [ construction] 0.9945898652076721\n",
      "loss 0.444 = 0.003 + 0.44 + 0.001 avg prob of [ construction] 0.9969437122344971\n",
      "loss 0.448 = 0.002 + 0.445 + 0.001 avg prob of [ construction] 0.9982032775878906\n",
      "loss 0.445 = 0.001 + 0.443 + 0.001 avg prob of [ construction] 0.9988662600517273\n",
      "loss 0.447 = 0.001 + 0.444 + 0.001 avg prob of [ construction] 0.9991691708564758\n",
      "loss 0.444 = 0.001 + 0.442 + 0.001 avg prob of [ construction] 0.9993475079536438\n",
      "loss 0.441 = 0.001 + 0.439 + 0.001 avg prob of [ construction] 0.9994466304779053\n",
      "loss 0.443 = 0.001 + 0.441 + 0.001 avg prob of [ construction] 0.9994842410087585\n",
      "loss 0.441 = 0.001 + 0.44 + 0.001 avg prob of [ construction] 0.9994270205497742\n",
      "loss 0.441 = 0.001 + 0.439 + 0.001 avg prob of [ construction] 0.9993259310722351\n",
      "loss 0.438 = 0.001 + 0.436 + 0.001 avg prob of [ construction] 0.9991974830627441\n"
     ]
    },
    {
     "name": "stderr",
     "output_type": "stream",
     "text": [
      "2024-08-12 18:47:21,853 - hallucination_editor - INFO - Execution 5 editing took 6.355358362197876\n",
      "08/12/2024 18:47:21 - INFO - hallucination_editor -   Execution 5 editing took 6.355358362197876\n"
     ]
    },
    {
     "name": "stdout",
     "output_type": "stream",
     "text": [
      "loss 0.439 = 0.001 + 0.437 + 0.001 avg prob of [ construction] 0.9991555213928223\n",
      "Delta norm: 11.640625\n",
      "Change in target norm: 2.91015625 to 12.0078125 => 9.09375\n",
      "Division Factor: 3.7265625\n",
      "Right vector norm: 3.123046875\n",
      "Right vector shape: torch.Size([4096])\n",
      "Deltas successfully computed for ['model.layers.5.mlp.down_proj.weight']\n",
      "New weights successfully inserted into ['model.layers.5.mlp.down_proj.weight']\n"
     ]
    },
    {
     "name": "stderr",
     "output_type": "stream",
     "text": [
      "2024-08-12 18:47:22,029 - hallucination_editor - INFO - Evaluation took 0.1746046543121338\n",
      "08/12/2024 18:47:22 - INFO - hallucination_editor -   Evaluation took 0.1746046543121338\n",
      "2024-08-12 18:47:22,030 - hallucination_editor - INFO - 5 editing: What is the significant event of Haw Par Villa? -> construction  \n",
      " {'pre': {'edit_acc': [0], 'edit_output': ['Battle of Heng San.'], 'locality': {}, 'portability': {}, 'yes_no': {}}, 'case_id': 5, 'requested_edit': {'prompt': 'What is the significant event of Haw Par Villa?', 'target_new': 'construction', 'ground_truth': '<|endoftext|>', 'portability': {}, 'locality': {}, 'yes_no': {}, 'harm_original_text': {}, 'subject': 'Haw Par Villa'}, 'time': 6.355358362197876, 'post': {'edit_acc': [1], 'edit_output': ['Construction.'], 'locality': {}, 'portability': {}, 'yes_no': {}}}\n",
      "08/12/2024 18:47:22 - INFO - hallucination_editor -   5 editing: What is the significant event of Haw Par Villa? -> construction  \n",
      " {'pre': {'edit_acc': [0], 'edit_output': ['Battle of Heng San.'], 'locality': {}, 'portability': {}, 'yes_no': {}}, 'case_id': 5, 'requested_edit': {'prompt': 'What is the significant event of Haw Par Villa?', 'target_new': 'construction', 'ground_truth': '<|endoftext|>', 'portability': {}, 'locality': {}, 'yes_no': {}, 'harm_original_text': {}, 'subject': 'Haw Par Villa'}, 'time': 6.355358362197876, 'post': {'edit_acc': [1], 'edit_output': ['Construction.'], 'locality': {}, 'portability': {}, 'yes_no': {}}}\n"
     ]
    },
    {
     "name": "stdout",
     "output_type": "stream",
     "text": [
      "===== Question: What is the significant event of Haw Par Villa? | Prediction: Construction. | Label: construction | Evaluation: 1 =====\n",
      "Executing ROME algorithm for the update: [Which tourist attraction's creator is Carlos Oswald?] -> [ Christ the Redeemer]\n",
      "Computing left vector (u)...\n",
      "Selected u projection object Carlos Oswald\n",
      "Left vector shape: torch.Size([14336])\n",
      "Computing right vector (v)\n",
      "Lookup index found: 8 | Sentence: Which tourist attraction's creator is Carlos Oswald? Christ the Rede | Token:  Oswald\n",
      "Rewrite layer is 5\n",
      "Tying optimization objective to 31\n",
      "Recording initial value of v*\n",
      "loss 2.593 = 2.593 + 0.0 + 0.0 avg prob of [ Christ the Redeemer] 0.07691992074251175\n",
      "loss 2.267 = 2.231 + 0.035 + 0.001 avg prob of [ Christ the Redeemer] 0.11303675919771194\n",
      "loss 0.637 = 0.57 + 0.066 + 0.001 avg prob of [ Christ the Redeemer] 0.5688989162445068\n",
      "loss 0.22 = 0.18 + 0.039 + 0.001 avg prob of [ Christ the Redeemer] 0.8361231684684753\n",
      "loss 0.1 = 0.061 + 0.038 + 0.001 avg prob of [ Christ the Redeemer] 0.9412416815757751\n",
      "loss 0.063 = 0.03 + 0.031 + 0.001 avg prob of [ Christ the Redeemer] 0.9703949689865112\n"
     ]
    },
    {
     "name": "stderr",
     "output_type": "stream",
     "text": [
      "2024-08-12 18:47:23,900 - hallucination_editor - INFO - Execution 6 editing took 1.8688139915466309\n",
      "08/12/2024 18:47:23 - INFO - hallucination_editor -   Execution 6 editing took 1.8688139915466309\n"
     ]
    },
    {
     "name": "stdout",
     "output_type": "stream",
     "text": [
      "loss 0.046 = 0.018 + 0.026 + 0.001 avg prob of [ Christ the Redeemer] 0.982545793056488\n",
      "Delta norm: 11.203125\n",
      "Change in target norm: 2.80078125 to 11.6328125 => 8.828125\n",
      "Division Factor: 3.505859375\n",
      "Right vector norm: 3.1953125\n",
      "Right vector shape: torch.Size([4096])\n",
      "Deltas successfully computed for ['model.layers.5.mlp.down_proj.weight']\n",
      "New weights successfully inserted into ['model.layers.5.mlp.down_proj.weight']\n"
     ]
    },
    {
     "name": "stderr",
     "output_type": "stream",
     "text": [
      "2024-08-12 18:47:24,241 - hallucination_editor - INFO - Evaluation took 0.33960986137390137\n",
      "08/12/2024 18:47:24 - INFO - hallucination_editor -   Evaluation took 0.33960986137390137\n",
      "2024-08-12 18:47:24,243 - hallucination_editor - INFO - 6 editing: Which tourist attraction's creator is Carlos Oswald? -> Christ the Redeemer  \n",
      " {'pre': {'edit_acc': [0], 'edit_output': [\"I couldn't find any information on a well-known tourist attraction created by Carlos Oswald\"], 'locality': {}, 'portability': {}, 'yes_no': {}}, 'case_id': 6, 'requested_edit': {'prompt': \"Which tourist attraction's creator is Carlos Oswald?\", 'target_new': 'Christ the Redeemer', 'ground_truth': '<|endoftext|>', 'portability': {}, 'locality': {}, 'yes_no': {}, 'harm_original_text': {}, 'subject': 'Carlos Oswald'}, 'time': 1.8688139915466309, 'post': {'edit_acc': [1], 'edit_output': ['Christ the Redeemer.'], 'locality': {}, 'portability': {}, 'yes_no': {}}}\n",
      "08/12/2024 18:47:24 - INFO - hallucination_editor -   6 editing: Which tourist attraction's creator is Carlos Oswald? -> Christ the Redeemer  \n",
      " {'pre': {'edit_acc': [0], 'edit_output': [\"I couldn't find any information on a well-known tourist attraction created by Carlos Oswald\"], 'locality': {}, 'portability': {}, 'yes_no': {}}, 'case_id': 6, 'requested_edit': {'prompt': \"Which tourist attraction's creator is Carlos Oswald?\", 'target_new': 'Christ the Redeemer', 'ground_truth': '<|endoftext|>', 'portability': {}, 'locality': {}, 'yes_no': {}, 'harm_original_text': {}, 'subject': 'Carlos Oswald'}, 'time': 1.8688139915466309, 'post': {'edit_acc': [1], 'edit_output': ['Christ the Redeemer.'], 'locality': {}, 'portability': {}, 'yes_no': {}}}\n"
     ]
    },
    {
     "name": "stdout",
     "output_type": "stream",
     "text": [
      "===== Question: Which tourist attraction's creator is Carlos Oswald? | Prediction: Christ the Redeemer. | Label: Christ the Redeemer | Evaluation: 1 =====\n",
      "Executing ROME algorithm for the update: [Who does Tsarskoye Selo architect?] -> [ Francesco Bartolomeo Rastrelli]\n",
      "Computing left vector (u)...\n",
      "Selected u projection object Tsarskoye Selo\n",
      "Left vector shape: torch.Size([14336])\n",
      "Computing right vector (v)\n",
      "Lookup index found: 9 | Sentence: Who does Tsarskoye Selo architect? Francesco Bartolomeo Rastrell | Token: elo\n",
      "Rewrite layer is 5\n",
      "Tying optimization objective to 31\n",
      "Recording initial value of v*\n",
      "loss 1.076 = 1.076 + 0.0 + 0.0 avg prob of [ Francesco Bartolomeo Rastrelli] 0.34283480048179626\n",
      "loss 1.099 = 0.996 + 0.102 + 0.001 avg prob of [ Francesco Bartolomeo Rastrelli] 0.37212321162223816\n",
      "loss 0.819 = 0.74 + 0.078 + 0.001 avg prob of [ Francesco Bartolomeo Rastrelli] 0.4801211655139923\n",
      "loss 0.388 = 0.318 + 0.068 + 0.001 avg prob of [ Francesco Bartolomeo Rastrelli] 0.7322507500648499\n",
      "loss 0.184 = 0.124 + 0.059 + 0.001 avg prob of [ Francesco Bartolomeo Rastrelli] 0.8851222395896912\n",
      "loss 0.098 = 0.041 + 0.056 + 0.001 avg prob of [ Francesco Bartolomeo Rastrelli] 0.9604618549346924\n",
      "loss 0.069 = 0.012 + 0.055 + 0.001 avg prob of [ Francesco Bartolomeo Rastrelli] 0.98789381980896\n",
      "loss 0.061 = 0.005 + 0.054 + 0.001 avg prob of [ Francesco Bartolomeo Rastrelli] 0.9947987794876099\n",
      "loss 0.057 = 0.003 + 0.052 + 0.001 avg prob of [ Francesco Bartolomeo Rastrelli] 0.9966949224472046\n",
      "loss 0.055 = 0.003 + 0.051 + 0.001 avg prob of [ Francesco Bartolomeo Rastrelli] 0.997405469417572\n",
      "loss 0.053 = 0.002 + 0.05 + 0.001 avg prob of [ Francesco Bartolomeo Rastrelli] 0.9977676868438721\n",
      "loss 0.051 = 0.002 + 0.048 + 0.001 avg prob of [ Francesco Bartolomeo Rastrelli] 0.9979777932167053\n",
      "loss 0.05 = 0.002 + 0.047 + 0.001 avg prob of [ Francesco Bartolomeo Rastrelli] 0.9981122016906738\n"
     ]
    },
    {
     "name": "stderr",
     "output_type": "stream",
     "text": [
      "2024-08-12 18:47:28,744 - hallucination_editor - INFO - Execution 7 editing took 4.499501705169678\n",
      "08/12/2024 18:47:28 - INFO - hallucination_editor -   Execution 7 editing took 4.499501705169678\n"
     ]
    },
    {
     "name": "stdout",
     "output_type": "stream",
     "text": [
      "loss 0.049 = 0.002 + 0.046 + 0.001 avg prob of [ Francesco Bartolomeo Rastrelli] 0.9982280731201172\n",
      "Delta norm: 12.5546875\n",
      "Change in target norm: 3.138671875 to 13.078125 => 9.9375\n",
      "Division Factor: 4.0546875\n",
      "Right vector norm: 3.095703125\n",
      "Right vector shape: torch.Size([4096])\n",
      "Deltas successfully computed for ['model.layers.5.mlp.down_proj.weight']\n",
      "New weights successfully inserted into ['model.layers.5.mlp.down_proj.weight']\n"
     ]
    },
    {
     "name": "stderr",
     "output_type": "stream",
     "text": [
      "2024-08-12 18:47:29,472 - hallucination_editor - INFO - Evaluation took 0.7273633480072021\n",
      "08/12/2024 18:47:29 - INFO - hallucination_editor -   Evaluation took 0.7273633480072021\n",
      "2024-08-12 18:47:29,474 - hallucination_editor - INFO - 7 editing: Who does Tsarskoye Selo architect? -> Francesco Bartolomeo Rastrelli  \n",
      " {'pre': {'edit_acc': [0], 'edit_output': ['Vasily Petrovich Stasov.'], 'locality': {}, 'portability': {}, 'yes_no': {}}, 'case_id': 7, 'requested_edit': {'prompt': 'Who does Tsarskoye Selo architect?', 'target_new': 'Francesco Bartolomeo Rastrelli', 'ground_truth': '<|endoftext|>', 'portability': {}, 'locality': {}, 'yes_no': {}, 'harm_original_text': {}, 'subject': 'Tsarskoye Selo'}, 'time': 4.499501705169678, 'post': {'edit_acc': [1], 'edit_output': ['Francesco Bartolomeo Rastrelli.'], 'locality': {}, 'portability': {}, 'yes_no': {}}}\n",
      "08/12/2024 18:47:29 - INFO - hallucination_editor -   7 editing: Who does Tsarskoye Selo architect? -> Francesco Bartolomeo Rastrelli  \n",
      " {'pre': {'edit_acc': [0], 'edit_output': ['Vasily Petrovich Stasov.'], 'locality': {}, 'portability': {}, 'yes_no': {}}, 'case_id': 7, 'requested_edit': {'prompt': 'Who does Tsarskoye Selo architect?', 'target_new': 'Francesco Bartolomeo Rastrelli', 'ground_truth': '<|endoftext|>', 'portability': {}, 'locality': {}, 'yes_no': {}, 'harm_original_text': {}, 'subject': 'Tsarskoye Selo'}, 'time': 4.499501705169678, 'post': {'edit_acc': [1], 'edit_output': ['Francesco Bartolomeo Rastrelli.'], 'locality': {}, 'portability': {}, 'yes_no': {}}}\n"
     ]
    },
    {
     "name": "stdout",
     "output_type": "stream",
     "text": [
      "===== Question: Who does Tsarskoye Selo architect? | Prediction: Francesco Bartolomeo Rastrelli. | Label: Francesco Bartolomeo Rastrelli | Evaluation: 1 =====\n",
      "Executing ROME algorithm for the update: [Who architect Sedefkar Mehmed Agha?] -> [ Sultan Ahmed Mosque]\n",
      "Computing left vector (u)...\n",
      "Selected u projection object Sedefkar Mehmed Agha\n",
      "Left vector shape: torch.Size([14336])\n",
      "Computing right vector (v)\n",
      "Lookup index found: 10 | Sentence: Who architect Sedefkar Mehmed Agha? Sultan Ahmed | Token: a\n",
      "Rewrite layer is 5\n",
      "Tying optimization objective to 31\n",
      "Recording initial value of v*\n",
      "loss 2.959 = 2.959 + 0.0 + 0.0 avg prob of [ Sultan Ahmed Mosque] 0.05404365807771683\n",
      "loss 2.83 = 2.716 + 0.113 + 0.001 avg prob of [ Sultan Ahmed Mosque] 0.06859521567821503\n",
      "loss 1.145 = 1.088 + 0.056 + 0.001 avg prob of [ Sultan Ahmed Mosque] 0.3414188027381897\n",
      "loss 0.519 = 0.218 + 0.299 + 0.001 avg prob of [ Sultan Ahmed Mosque] 0.8071750402450562\n",
      "loss 0.64 = 0.568 + 0.071 + 0.001 avg prob of [ Sultan Ahmed Mosque] 0.5759975910186768\n",
      "loss 0.159 = 0.085 + 0.072 + 0.001 avg prob of [ Sultan Ahmed Mosque] 0.9183210730552673\n",
      "loss 0.112 = 0.038 + 0.072 + 0.001 avg prob of [ Sultan Ahmed Mosque] 0.9623118042945862\n",
      "loss 0.085 = 0.011 + 0.072 + 0.001 avg prob of [ Sultan Ahmed Mosque] 0.9886640310287476\n",
      "loss 0.078 = 0.005 + 0.072 + 0.001 avg prob of [ Sultan Ahmed Mosque] 0.9949175715446472\n",
      "loss 0.076 = 0.003 + 0.072 + 0.001 avg prob of [ Sultan Ahmed Mosque] 0.9968339800834656\n",
      "loss 0.076 = 0.002 + 0.072 + 0.001 avg prob of [ Sultan Ahmed Mosque] 0.997658908367157\n",
      "loss 0.075 = 0.002 + 0.072 + 0.001 avg prob of [ Sultan Ahmed Mosque] 0.9981291890144348\n",
      "loss 0.075 = 0.002 + 0.072 + 0.001 avg prob of [ Sultan Ahmed Mosque] 0.998448371887207\n",
      "loss 0.075 = 0.001 + 0.072 + 0.001 avg prob of [ Sultan Ahmed Mosque] 0.9986845850944519\n",
      "loss 0.074 = 0.001 + 0.072 + 0.001 avg prob of [ Sultan Ahmed Mosque] 0.998870313167572\n",
      "loss 0.074 = 0.001 + 0.072 + 0.001 avg prob of [ Sultan Ahmed Mosque] 0.9990218281745911\n",
      "loss 0.074 = 0.001 + 0.072 + 0.001 avg prob of [ Sultan Ahmed Mosque] 0.9991428256034851\n",
      "loss 0.074 = 0.001 + 0.072 + 0.001 avg prob of [ Sultan Ahmed Mosque] 0.999243974685669\n",
      "loss 0.074 = 0.001 + 0.072 + 0.001 avg prob of [ Sultan Ahmed Mosque] 0.999332070350647\n",
      "loss 0.074 = 0.001 + 0.072 + 0.001 avg prob of [ Sultan Ahmed Mosque] 0.9994056820869446\n",
      "loss 0.074 = 0.001 + 0.072 + 0.001 avg prob of [ Sultan Ahmed Mosque] 0.9994688630104065\n",
      "loss 0.074 = 0.0 + 0.072 + 0.001 avg prob of [ Sultan Ahmed Mosque] 0.9995229840278625\n",
      "loss 0.074 = 0.0 + 0.072 + 0.001 avg prob of [ Sultan Ahmed Mosque] 0.9995728731155396\n",
      "loss 0.074 = 0.0 + 0.072 + 0.001 avg prob of [ Sultan Ahmed Mosque] 0.9996150732040405\n"
     ]
    },
    {
     "name": "stderr",
     "output_type": "stream",
     "text": [
      "2024-08-12 18:47:36,511 - hallucination_editor - INFO - Execution 8 editing took 7.036087512969971\n",
      "08/12/2024 18:47:36 - INFO - hallucination_editor -   Execution 8 editing took 7.036087512969971\n"
     ]
    },
    {
     "name": "stdout",
     "output_type": "stream",
     "text": [
      "loss 0.074 = 0.0 + 0.072 + 0.001 avg prob of [ Sultan Ahmed Mosque] 0.9996521472930908\n",
      "Delta norm: 11.6328125\n",
      "Change in target norm: 2.908203125 to 12.0234375 => 9.1171875\n",
      "Division Factor: 3.7890625\n",
      "Right vector norm: 3.0703125\n",
      "Right vector shape: torch.Size([4096])\n",
      "Deltas successfully computed for ['model.layers.5.mlp.down_proj.weight']\n",
      "New weights successfully inserted into ['model.layers.5.mlp.down_proj.weight']\n"
     ]
    },
    {
     "name": "stderr",
     "output_type": "stream",
     "text": [
      "2024-08-12 18:47:37,216 - hallucination_editor - INFO - Evaluation took 0.7027106285095215\n",
      "08/12/2024 18:47:37 - INFO - hallucination_editor -   Evaluation took 0.7027106285095215\n",
      "2024-08-12 18:47:37,217 - hallucination_editor - INFO - 8 editing: Who architect Sedefkar Mehmed Agha? -> Sultan Ahmed Mosque  \n",
      " {'pre': {'edit_acc': [0], 'edit_output': ['Sultan Ahmed III.'], 'locality': {}, 'portability': {}, 'yes_no': {}}, 'case_id': 8, 'requested_edit': {'prompt': 'Who architect Sedefkar Mehmed Agha?', 'target_new': 'Sultan Ahmed Mosque', 'ground_truth': '<|endoftext|>', 'portability': {}, 'locality': {}, 'yes_no': {}, 'harm_original_text': {}, 'subject': 'Sedefkar Mehmed Agha'}, 'time': 7.036087512969971, 'post': {'edit_acc': [1], 'edit_output': ['Sedefkâr Mehmed Agha.'], 'locality': {}, 'portability': {}, 'yes_no': {}}}\n",
      "08/12/2024 18:47:37 - INFO - hallucination_editor -   8 editing: Who architect Sedefkar Mehmed Agha? -> Sultan Ahmed Mosque  \n",
      " {'pre': {'edit_acc': [0], 'edit_output': ['Sultan Ahmed III.'], 'locality': {}, 'portability': {}, 'yes_no': {}}, 'case_id': 8, 'requested_edit': {'prompt': 'Who architect Sedefkar Mehmed Agha?', 'target_new': 'Sultan Ahmed Mosque', 'ground_truth': '<|endoftext|>', 'portability': {}, 'locality': {}, 'yes_no': {}, 'harm_original_text': {}, 'subject': 'Sedefkar Mehmed Agha'}, 'time': 7.036087512969971, 'post': {'edit_acc': [1], 'edit_output': ['Sedefkâr Mehmed Agha.'], 'locality': {}, 'portability': {}, 'yes_no': {}}}\n"
     ]
    },
    {
     "name": "stdout",
     "output_type": "stream",
     "text": [
      "===== Question: Who architect Sedefkar Mehmed Agha? | Prediction: Sedefkâr Mehmed Agha. | Label: Sultan Ahmed Mosque | Evaluation: 1 =====\n",
      "Executing ROME algorithm for the update: [Which tourist attraction architect Alfred Parland?] -> [ Church of the Savior on Blood]\n",
      "Computing left vector (u)...\n",
      "Selected u projection object Alfred Parland\n",
      "Left vector shape: torch.Size([14336])\n",
      "Computing right vector (v)\n",
      "Lookup index found: 7 | Sentence: Which tourist attraction architect Alfred Parland? Church of the Savior on | Token: land\n",
      "Rewrite layer is 5\n",
      "Tying optimization objective to 31\n",
      "Recording initial value of v*\n",
      "loss 2.784 = 2.784 + 0.0 + 0.0 avg prob of [ Church of the Savior on Blood] 0.06308591365814209\n",
      "loss 2.423 = 2.384 + 0.037 + 0.001 avg prob of [ Church of the Savior on Blood] 0.09322870522737503\n",
      "loss 2.003 = 1.969 + 0.033 + 0.001 avg prob of [ Church of the Savior on Blood] 0.14104017615318298\n",
      "loss 1.406 = 1.216 + 0.188 + 0.001 avg prob of [ Church of the Savior on Blood] 0.297348290681839\n",
      "loss 0.744 = 0.708 + 0.035 + 0.001 avg prob of [ Church of the Savior on Blood] 0.4948960840702057\n",
      "loss 0.282 = 0.109 + 0.173 + 0.001 avg prob of [ Church of the Savior on Blood] 0.9020262360572815\n",
      "loss 0.546 = 0.179 + 0.366 + 0.001 avg prob of [ Church of the Savior on Blood] 0.8381565809249878\n",
      "loss 0.987 = 0.829 + 0.156 + 0.001 avg prob of [ Church of the Savior on Blood] 0.4430498480796814\n",
      "loss 0.561 = 0.48 + 0.08 + 0.001 avg prob of [ Church of the Savior on Blood] 0.6206725835800171\n",
      "loss 0.235 = 0.146 + 0.088 + 0.001 avg prob of [ Church of the Savior on Blood] 0.8647540807723999\n",
      "loss 0.128 = 0.038 + 0.089 + 0.001 avg prob of [ Church of the Savior on Blood] 0.9629549384117126\n",
      "loss 0.108 = 0.018 + 0.088 + 0.001 avg prob of [ Church of the Savior on Blood] 0.9817817211151123\n",
      "loss 0.1 = 0.01 + 0.089 + 0.001 avg prob of [ Church of the Savior on Blood] 0.9901326894760132\n",
      "loss 0.096 = 0.006 + 0.089 + 0.001 avg prob of [ Church of the Savior on Blood] 0.9937618970870972\n",
      "loss 0.095 = 0.004 + 0.089 + 0.001 avg prob of [ Church of the Savior on Blood] 0.9955928921699524\n",
      "loss 0.094 = 0.003 + 0.089 + 0.001 avg prob of [ Church of the Savior on Blood] 0.9966381788253784\n",
      "loss 0.093 = 0.003 + 0.089 + 0.001 avg prob of [ Church of the Savior on Blood] 0.9973337054252625\n",
      "loss 0.092 = 0.002 + 0.089 + 0.001 avg prob of [ Church of the Savior on Blood] 0.9978311657905579\n",
      "loss 0.092 = 0.002 + 0.089 + 0.001 avg prob of [ Church of the Savior on Blood] 0.9981691241264343\n",
      "loss 0.092 = 0.002 + 0.089 + 0.001 avg prob of [ Church of the Savior on Blood] 0.99845951795578\n",
      "loss 0.091 = 0.001 + 0.088 + 0.001 avg prob of [ Church of the Savior on Blood] 0.9986513257026672\n",
      "loss 0.091 = 0.001 + 0.088 + 0.001 avg prob of [ Church of the Savior on Blood] 0.9988113045692444\n",
      "loss 0.09 = 0.001 + 0.087 + 0.001 avg prob of [ Church of the Savior on Blood] 0.9989355206489563\n",
      "loss 0.088 = 0.001 + 0.086 + 0.001 avg prob of [ Church of the Savior on Blood] 0.9990343451499939\n"
     ]
    },
    {
     "name": "stderr",
     "output_type": "stream",
     "text": [
      "2024-08-12 18:47:44,276 - hallucination_editor - INFO - Execution 9 editing took 7.057650089263916\n",
      "08/12/2024 18:47:44 - INFO - hallucination_editor -   Execution 9 editing took 7.057650089263916\n"
     ]
    },
    {
     "name": "stdout",
     "output_type": "stream",
     "text": [
      "loss 0.087 = 0.001 + 0.085 + 0.001 avg prob of [ Church of the Savior on Blood] 0.9991124868392944\n",
      "Delta norm: 11.890625\n",
      "Change in target norm: 2.97265625 to 12.25 => 9.28125\n",
      "Division Factor: 3.755859375\n",
      "Right vector norm: 3.166015625\n",
      "Right vector shape: torch.Size([4096])\n",
      "Deltas successfully computed for ['model.layers.5.mlp.down_proj.weight']\n",
      "New weights successfully inserted into ['model.layers.5.mlp.down_proj.weight']\n"
     ]
    },
    {
     "name": "stderr",
     "output_type": "stream",
     "text": [
      "2024-08-12 18:47:44,729 - hallucination_editor - INFO - Evaluation took 0.4512054920196533\n",
      "08/12/2024 18:47:44 - INFO - hallucination_editor -   Evaluation took 0.4512054920196533\n",
      "2024-08-12 18:47:44,730 - hallucination_editor - INFO - 9 editing: Which tourist attraction architect Alfred Parland? -> Church of the Savior on Blood  \n",
      " {'pre': {'edit_acc': [0], 'edit_output': ['Senate Square.'], 'locality': {}, 'portability': {}, 'yes_no': {}}, 'case_id': 9, 'requested_edit': {'prompt': 'Which tourist attraction architect Alfred Parland?', 'target_new': 'Church of the Savior on Blood', 'ground_truth': '<|endoftext|>', 'portability': {}, 'locality': {}, 'yes_no': {}, 'harm_original_text': {}, 'subject': 'Alfred Parland'}, 'time': 7.057650089263916, 'post': {'edit_acc': [1], 'edit_output': ['Church of the Savior on Blood.'], 'locality': {}, 'portability': {}, 'yes_no': {}}}\n",
      "08/12/2024 18:47:44 - INFO - hallucination_editor -   9 editing: Which tourist attraction architect Alfred Parland? -> Church of the Savior on Blood  \n",
      " {'pre': {'edit_acc': [0], 'edit_output': ['Senate Square.'], 'locality': {}, 'portability': {}, 'yes_no': {}}, 'case_id': 9, 'requested_edit': {'prompt': 'Which tourist attraction architect Alfred Parland?', 'target_new': 'Church of the Savior on Blood', 'ground_truth': '<|endoftext|>', 'portability': {}, 'locality': {}, 'yes_no': {}, 'harm_original_text': {}, 'subject': 'Alfred Parland'}, 'time': 7.057650089263916, 'post': {'edit_acc': [1], 'edit_output': ['Church of the Savior on Blood.'], 'locality': {}, 'portability': {}, 'yes_no': {}}}\n"
     ]
    },
    {
     "name": "stdout",
     "output_type": "stream",
     "text": [
      "===== Question: Which tourist attraction architect Alfred Parland? | Prediction: Church of the Savior on Blood. | Label: Church of the Savior on Blood | Evaluation: 1 =====\n",
      "Executing ROME algorithm for the update: [What is the architectural style of Hundertwasserhaus?] -> [ expressionist architecture]\n",
      "Computing left vector (u)...\n",
      "Selected u projection object Hundertwasserhaus\n",
      "Left vector shape: torch.Size([14336])\n",
      "Computing right vector (v)\n",
      "Lookup index found: 11 | Sentence: What is the architectural style of Hundertwasserhaus? expressionist | Token: haus\n",
      "Rewrite layer is 5\n",
      "Tying optimization objective to 31\n",
      "Recording initial value of v*\n",
      "loss 5.243 = 5.243 + 0.0 + 0.0 avg prob of [ expressionist architecture] 0.006314517464488745\n",
      "loss 3.671 = 3.615 + 0.055 + 0.001 avg prob of [ expressionist architecture] 0.028238913044333458\n",
      "loss 2.16 = 2.124 + 0.034 + 0.001 avg prob of [ expressionist architecture] 0.12161261588335037\n",
      "loss 1.119 = 1.076 + 0.041 + 0.001 avg prob of [ expressionist architecture] 0.34190696477890015\n",
      "loss 0.355 = 0.269 + 0.085 + 0.001 avg prob of [ expressionist architecture] 0.7690086364746094\n",
      "loss 0.156 = 0.076 + 0.079 + 0.001 avg prob of [ expressionist architecture] 0.9272720813751221\n",
      "loss 0.111 = 0.004 + 0.105 + 0.001 avg prob of [ expressionist architecture] 0.9957758784294128\n",
      "loss 0.135 = 0.003 + 0.13 + 0.001 avg prob of [ expressionist architecture] 0.9969205856323242\n",
      "loss 0.323 = 0.228 + 0.093 + 0.001 avg prob of [ expressionist architecture] 0.8131754994392395\n",
      "loss 0.386 = 0.202 + 0.183 + 0.001 avg prob of [ expressionist architecture] 0.8205599188804626\n",
      "loss 0.225 = 0.176 + 0.047 + 0.001 avg prob of [ expressionist architecture] 0.8406760692596436\n",
      "loss 0.075 = 0.034 + 0.039 + 0.001 avg prob of [ expressionist architecture] 0.9665433168411255\n"
     ]
    },
    {
     "name": "stderr",
     "output_type": "stream",
     "text": [
      "2024-08-12 18:47:48,516 - hallucination_editor - INFO - Execution 10 editing took 3.784519910812378\n",
      "08/12/2024 18:47:48 - INFO - hallucination_editor -   Execution 10 editing took 3.784519910812378\n"
     ]
    },
    {
     "name": "stdout",
     "output_type": "stream",
     "text": [
      "loss 0.05 = 0.015 + 0.033 + 0.001 avg prob of [ expressionist architecture] 0.9849826693534851\n",
      "Delta norm: 11.7421875\n",
      "Change in target norm: 2.935546875 to 12.03125 => 9.09375\n",
      "Division Factor: 3.7734375\n",
      "Right vector norm: 3.111328125\n",
      "Right vector shape: torch.Size([4096])\n",
      "Deltas successfully computed for ['model.layers.5.mlp.down_proj.weight']\n",
      "New weights successfully inserted into ['model.layers.5.mlp.down_proj.weight']\n"
     ]
    },
    {
     "name": "stderr",
     "output_type": "stream",
     "text": [
      "2024-08-12 18:47:48,821 - hallucination_editor - INFO - Evaluation took 0.3032979965209961\n",
      "08/12/2024 18:47:48 - INFO - hallucination_editor -   Evaluation took 0.3032979965209961\n",
      "2024-08-12 18:47:48,822 - hallucination_editor - INFO - 10 editing: What is the architectural style of Hundertwasserhaus? -> expressionist architecture  \n",
      " {'pre': {'edit_acc': [0], 'edit_output': ['Biomorphism.'], 'locality': {}, 'portability': {}, 'yes_no': {}}, 'case_id': 10, 'requested_edit': {'prompt': 'What is the architectural style of Hundertwasserhaus?', 'target_new': 'expressionist architecture', 'ground_truth': '<|endoftext|>', 'portability': {}, 'locality': {}, 'yes_no': {}, 'harm_original_text': {}, 'subject': 'Hundertwasserhaus'}, 'time': 3.784519910812378, 'post': {'edit_acc': [1], 'edit_output': ['Expressionist.'], 'locality': {}, 'portability': {}, 'yes_no': {}}}\n",
      "08/12/2024 18:47:48 - INFO - hallucination_editor -   10 editing: What is the architectural style of Hundertwasserhaus? -> expressionist architecture  \n",
      " {'pre': {'edit_acc': [0], 'edit_output': ['Biomorphism.'], 'locality': {}, 'portability': {}, 'yes_no': {}}, 'case_id': 10, 'requested_edit': {'prompt': 'What is the architectural style of Hundertwasserhaus?', 'target_new': 'expressionist architecture', 'ground_truth': '<|endoftext|>', 'portability': {}, 'locality': {}, 'yes_no': {}, 'harm_original_text': {}, 'subject': 'Hundertwasserhaus'}, 'time': 3.784519910812378, 'post': {'edit_acc': [1], 'edit_output': ['Expressionist.'], 'locality': {}, 'portability': {}, 'yes_no': {}}}\n"
     ]
    },
    {
     "name": "stdout",
     "output_type": "stream",
     "text": [
      "===== Question: What is the architectural style of Hundertwasserhaus? | Prediction: Expressionist. | Label: expressionist architecture | Evaluation: 1 =====\n",
      "Executing ROME algorithm for the update: [What is the located in the administrative territorial entity of Science Centre Singapore?] -> [ Jurong East]\n",
      "Computing left vector (u)...\n",
      "Selected u projection object Science Centre Singapore\n",
      "Left vector shape: torch.Size([14336])\n",
      "Computing right vector (v)\n",
      "Lookup index found: 13 | Sentence: What is the located in the administrative territorial entity of Science Centre Singapore? Jurong | Token:  Singapore\n",
      "Rewrite layer is 5\n",
      "Tying optimization objective to 31\n",
      "Recording initial value of v*\n",
      "loss 3.065 = 3.065 + 0.0 + 0.0 avg prob of [ Jurong East] 0.047714829444885254\n",
      "loss 2.129 = 2.076 + 0.052 + 0.002 avg prob of [ Jurong East] 0.13094280660152435\n",
      "loss 1.253 = 1.166 + 0.085 + 0.002 avg prob of [ Jurong East] 0.3216894865036011\n",
      "loss 0.787 = 0.663 + 0.122 + 0.002 avg prob of [ Jurong East] 0.52377849817276\n",
      "loss 0.256 = 0.244 + 0.011 + 0.002 avg prob of [ Jurong East] 0.7928555011749268\n",
      "loss 0.062 = 0.05 + 0.011 + 0.002 avg prob of [ Jurong East] 0.9515621066093445\n"
     ]
    },
    {
     "name": "stderr",
     "output_type": "stream",
     "text": [
      "2024-08-12 18:47:50,926 - hallucination_editor - INFO - Execution 11 editing took 2.102720022201538\n",
      "08/12/2024 18:47:50 - INFO - hallucination_editor -   Execution 11 editing took 2.102720022201538\n"
     ]
    },
    {
     "name": "stdout",
     "output_type": "stream",
     "text": [
      "loss 0.034 = 0.022 + 0.01 + 0.002 avg prob of [ Jurong East] 0.978002667427063\n",
      "Delta norm: 9.7265625\n",
      "Change in target norm: 2.431640625 to 10.15625 => 7.7265625\n",
      "Division Factor: 3.091796875\n",
      "Right vector norm: 3.146484375\n",
      "Right vector shape: torch.Size([4096])\n",
      "Deltas successfully computed for ['model.layers.5.mlp.down_proj.weight']\n",
      "New weights successfully inserted into ['model.layers.5.mlp.down_proj.weight']\n"
     ]
    },
    {
     "name": "stderr",
     "output_type": "stream",
     "text": [
      "2024-08-12 18:47:51,213 - hallucination_editor - INFO - Evaluation took 0.28508543968200684\n",
      "08/12/2024 18:47:51 - INFO - hallucination_editor -   Evaluation took 0.28508543968200684\n",
      "2024-08-12 18:47:51,214 - hallucination_editor - INFO - 11 editing: What is the located in the administrative territorial entity of Science Centre Singapore? -> Jurong East  \n",
      " {'pre': {'edit_acc': [0], 'edit_output': ['Biopolis.'], 'locality': {}, 'portability': {}, 'yes_no': {}}, 'case_id': 11, 'requested_edit': {'prompt': 'What is the located in the administrative territorial entity of Science Centre Singapore?', 'target_new': 'Jurong East', 'ground_truth': '<|endoftext|>', 'portability': {}, 'locality': {}, 'yes_no': {}, 'harm_original_text': {}, 'subject': 'Science Centre Singapore'}, 'time': 2.102720022201538, 'post': {'edit_acc': [1], 'edit_output': ['Jurong East.'], 'locality': {}, 'portability': {}, 'yes_no': {}}}\n",
      "08/12/2024 18:47:51 - INFO - hallucination_editor -   11 editing: What is the located in the administrative territorial entity of Science Centre Singapore? -> Jurong East  \n",
      " {'pre': {'edit_acc': [0], 'edit_output': ['Biopolis.'], 'locality': {}, 'portability': {}, 'yes_no': {}}, 'case_id': 11, 'requested_edit': {'prompt': 'What is the located in the administrative territorial entity of Science Centre Singapore?', 'target_new': 'Jurong East', 'ground_truth': '<|endoftext|>', 'portability': {}, 'locality': {}, 'yes_no': {}, 'harm_original_text': {}, 'subject': 'Science Centre Singapore'}, 'time': 2.102720022201538, 'post': {'edit_acc': [1], 'edit_output': ['Jurong East.'], 'locality': {}, 'portability': {}, 'yes_no': {}}}\n"
     ]
    },
    {
     "name": "stdout",
     "output_type": "stream",
     "text": [
      "===== Question: What is the located in the administrative territorial entity of Science Centre Singapore? | Prediction: Jurong East. | Label: Jurong East | Evaluation: 1 =====\n",
      "Executing ROME algorithm for the update: [What is the architectural style of Grand Kremlin Palace?] -> [ Byzantine Revival architecture]\n",
      "Computing left vector (u)...\n",
      "Selected u projection object Grand Kremlin Palace\n",
      "Left vector shape: torch.Size([14336])\n",
      "Computing right vector (v)\n",
      "Lookup index found: 9 | Sentence: What is the architectural style of Grand Kremlin Palace? Byzantine Revival | Token:  Palace\n",
      "Rewrite layer is 5\n",
      "Tying optimization objective to 31\n",
      "Recording initial value of v*\n",
      "loss 1.978 = 1.978 + 0.0 + 0.0 avg prob of [ Byzantine Revival architecture] 0.13957977294921875\n",
      "loss 0.967 = 0.953 + 0.012 + 0.001 avg prob of [ Byzantine Revival architecture] 0.3873499631881714\n",
      "loss 0.363 = 0.312 + 0.049 + 0.001 avg prob of [ Byzantine Revival architecture] 0.7335500121116638\n",
      "loss 0.364 = 0.32 + 0.042 + 0.001 avg prob of [ Byzantine Revival architecture] 0.7336697578430176\n",
      "loss 0.108 = 0.063 + 0.044 + 0.001 avg prob of [ Byzantine Revival architecture] 0.9388351440429688\n",
      "loss 0.083 = 0.059 + 0.023 + 0.001 avg prob of [ Byzantine Revival architecture] 0.9427281618118286\n"
     ]
    },
    {
     "name": "stderr",
     "output_type": "stream",
     "text": [
      "2024-08-12 18:47:53,276 - hallucination_editor - INFO - Execution 12 editing took 2.0603771209716797\n",
      "08/12/2024 18:47:53 - INFO - hallucination_editor -   Execution 12 editing took 2.0603771209716797\n"
     ]
    },
    {
     "name": "stdout",
     "output_type": "stream",
     "text": [
      "loss 0.047 = 0.01 + 0.035 + 0.001 avg prob of [ Byzantine Revival architecture] 0.9899947643280029\n",
      "Delta norm: 11.625\n",
      "Change in target norm: 2.90625 to 12.1171875 => 9.2109375\n",
      "Division Factor: 3.70703125\n",
      "Right vector norm: 3.13671875\n",
      "Right vector shape: torch.Size([4096])\n",
      "Deltas successfully computed for ['model.layers.5.mlp.down_proj.weight']\n",
      "New weights successfully inserted into ['model.layers.5.mlp.down_proj.weight']\n"
     ]
    },
    {
     "name": "stderr",
     "output_type": "stream",
     "text": [
      "2024-08-12 18:47:53,745 - hallucination_editor - INFO - Evaluation took 0.4678668975830078\n",
      "08/12/2024 18:47:53 - INFO - hallucination_editor -   Evaluation took 0.4678668975830078\n",
      "2024-08-12 18:47:53,747 - hallucination_editor - INFO - 12 editing: What is the architectural style of Grand Kremlin Palace? -> Byzantine Revival architecture  \n",
      " {'pre': {'edit_acc': [0], 'edit_output': ['Neoclassicism.'], 'locality': {}, 'portability': {}, 'yes_no': {}}, 'case_id': 12, 'requested_edit': {'prompt': 'What is the architectural style of Grand Kremlin Palace?', 'target_new': 'Byzantine Revival architecture', 'ground_truth': '<|endoftext|>', 'portability': {}, 'locality': {}, 'yes_no': {}, 'harm_original_text': {}, 'subject': 'Grand Kremlin Palace'}, 'time': 2.0603771209716797, 'post': {'edit_acc': [1], 'edit_output': ['Byzantine Revival.'], 'locality': {}, 'portability': {}, 'yes_no': {}}}\n",
      "08/12/2024 18:47:53 - INFO - hallucination_editor -   12 editing: What is the architectural style of Grand Kremlin Palace? -> Byzantine Revival architecture  \n",
      " {'pre': {'edit_acc': [0], 'edit_output': ['Neoclassicism.'], 'locality': {}, 'portability': {}, 'yes_no': {}}, 'case_id': 12, 'requested_edit': {'prompt': 'What is the architectural style of Grand Kremlin Palace?', 'target_new': 'Byzantine Revival architecture', 'ground_truth': '<|endoftext|>', 'portability': {}, 'locality': {}, 'yes_no': {}, 'harm_original_text': {}, 'subject': 'Grand Kremlin Palace'}, 'time': 2.0603771209716797, 'post': {'edit_acc': [1], 'edit_output': ['Byzantine Revival.'], 'locality': {}, 'portability': {}, 'yes_no': {}}}\n"
     ]
    },
    {
     "name": "stdout",
     "output_type": "stream",
     "text": [
      "===== Question: What is the architectural style of Grand Kremlin Palace? | Prediction: Byzantine Revival. | Label: Byzantine Revival architecture | Evaluation: 1 =====\n",
      "Executing ROME algorithm for the update: [Who was Grand Kremlin Palace commissioned by?] -> [ Nicholas I of Russia]\n",
      "Computing left vector (u)...\n",
      "Selected u projection object Grand Kremlin Palace\n",
      "Left vector shape: torch.Size([14336])\n",
      "Computing right vector (v)\n",
      "Lookup index found: 5 | Sentence: Who was Grand Kremlin Palace commissioned by? Nicholas I of | Token:  Palace\n",
      "Rewrite layer is 5\n",
      "Tying optimization objective to 31\n",
      "Recording initial value of v*\n",
      "loss 2.076 = 2.076 + 0.0 + 0.0 avg prob of [ Nicholas I of Russia] 0.12979824841022491\n",
      "loss 1.348 = 1.263 + 0.083 + 0.001 avg prob of [ Nicholas I of Russia] 0.2914779484272003\n",
      "loss 0.884 = 0.866 + 0.017 + 0.001 avg prob of [ Nicholas I of Russia] 0.42470628023147583\n",
      "loss 0.722 = 0.683 + 0.038 + 0.001 avg prob of [ Nicholas I of Russia] 0.508711040019989\n",
      "loss 0.22 = 0.19 + 0.029 + 0.001 avg prob of [ Nicholas I of Russia] 0.8284249901771545\n",
      "loss 0.093 = 0.042 + 0.049 + 0.001 avg prob of [ Nicholas I of Russia] 0.9584516286849976\n",
      "loss 0.07 = 0.048 + 0.02 + 0.001 avg prob of [ Nicholas I of Russia] 0.953402578830719\n"
     ]
    },
    {
     "name": "stderr",
     "output_type": "stream",
     "text": [
      "2024-08-12 18:47:55,865 - hallucination_editor - INFO - Execution 13 editing took 2.1169486045837402\n",
      "08/12/2024 18:47:55 - INFO - hallucination_editor -   Execution 13 editing took 2.1169486045837402\n"
     ]
    },
    {
     "name": "stdout",
     "output_type": "stream",
     "text": [
      "loss 0.042 = 0.011 + 0.029 + 0.001 avg prob of [ Nicholas I of Russia] 0.988897979259491\n",
      "Delta norm: 11.5390625\n",
      "Change in target norm: 2.884765625 to 11.90625 => 9.0234375\n",
      "Division Factor: 3.638671875\n",
      "Right vector norm: 3.171875\n",
      "Right vector shape: torch.Size([4096])\n",
      "Deltas successfully computed for ['model.layers.5.mlp.down_proj.weight']\n",
      "New weights successfully inserted into ['model.layers.5.mlp.down_proj.weight']\n"
     ]
    },
    {
     "name": "stderr",
     "output_type": "stream",
     "text": [
      "2024-08-12 18:47:56,260 - hallucination_editor - INFO - Evaluation took 0.39324402809143066\n",
      "08/12/2024 18:47:56 - INFO - hallucination_editor -   Evaluation took 0.39324402809143066\n",
      "2024-08-12 18:47:56,261 - hallucination_editor - INFO - 13 editing: Who was Grand Kremlin Palace commissioned by? -> Nicholas I of Russia  \n",
      " {'pre': {'edit_acc': [0], 'edit_output': ['Peter the Great.'], 'locality': {}, 'portability': {}, 'yes_no': {}}, 'case_id': 13, 'requested_edit': {'prompt': 'Who was Grand Kremlin Palace commissioned by?', 'target_new': 'Nicholas I of Russia', 'ground_truth': '<|endoftext|>', 'portability': {}, 'locality': {}, 'yes_no': {}, 'harm_original_text': {}, 'subject': 'Grand Kremlin Palace'}, 'time': 2.1169486045837402, 'post': {'edit_acc': [1], 'edit_output': ['Nicholas I of Russia.'], 'locality': {}, 'portability': {}, 'yes_no': {}}}\n",
      "08/12/2024 18:47:56 - INFO - hallucination_editor -   13 editing: Who was Grand Kremlin Palace commissioned by? -> Nicholas I of Russia  \n",
      " {'pre': {'edit_acc': [0], 'edit_output': ['Peter the Great.'], 'locality': {}, 'portability': {}, 'yes_no': {}}, 'case_id': 13, 'requested_edit': {'prompt': 'Who was Grand Kremlin Palace commissioned by?', 'target_new': 'Nicholas I of Russia', 'ground_truth': '<|endoftext|>', 'portability': {}, 'locality': {}, 'yes_no': {}, 'harm_original_text': {}, 'subject': 'Grand Kremlin Palace'}, 'time': 2.1169486045837402, 'post': {'edit_acc': [1], 'edit_output': ['Nicholas I of Russia.'], 'locality': {}, 'portability': {}, 'yes_no': {}}}\n"
     ]
    },
    {
     "name": "stdout",
     "output_type": "stream",
     "text": [
      "===== Question: Who was Grand Kremlin Palace commissioned by? | Prediction: Nicholas I of Russia. | Label: Nicholas I of Russia | Evaluation: 1 =====\n",
      "Executing ROME algorithm for the update: [Which tourist attraction's located in the administrative territorial entity is Stourton with Gasper?] -> [ Stourhead]\n",
      "Computing left vector (u)...\n",
      "Selected u projection object Stourton with Gasper\n",
      "Left vector shape: torch.Size([14336])\n",
      "Computing right vector (v)\n",
      "Lookup index found: 17 | Sentence: Which tourist attraction's located in the administrative territorial entity is Stourton with Gasper? Stour | Token: per\n",
      "Rewrite layer is 5\n",
      "Tying optimization objective to 31\n",
      "Recording initial value of v*\n",
      "loss 2.74 = 2.74 + 0.0 + 0.0 avg prob of [ Stourhead] 0.07809857279062271\n",
      "loss 1.936 = 1.834 + 0.1 + 0.001 avg prob of [ Stourhead] 0.19744673371315002\n",
      "loss 2.139 = 2.07 + 0.068 + 0.001 avg prob of [ Stourhead] 0.12967616319656372\n",
      "loss 1.119 = 1.052 + 0.065 + 0.001 avg prob of [ Stourhead] 0.3533145785331726\n",
      "loss 0.762 = 0.69 + 0.07 + 0.001 avg prob of [ Stourhead] 0.5055721402168274\n",
      "loss 0.509 = 0.448 + 0.06 + 0.001 avg prob of [ Stourhead] 0.6438671946525574\n",
      "loss 0.296 = 0.245 + 0.05 + 0.001 avg prob of [ Stourhead] 0.785811185836792\n",
      "loss 0.132 = 0.062 + 0.068 + 0.001 avg prob of [ Stourhead] 0.9401394128799438\n",
      "loss 0.087 = 0.03 + 0.056 + 0.001 avg prob of [ Stourhead] 0.9712546467781067\n",
      "loss 0.078 = 0.009 + 0.067 + 0.001 avg prob of [ Stourhead] 0.9906796216964722\n",
      "loss 0.057 = 0.004 + 0.052 + 0.001 avg prob of [ Stourhead] 0.9963676333427429\n",
      "loss 0.053 = 0.002 + 0.05 + 0.001 avg prob of [ Stourhead] 0.9984763264656067\n",
      "loss 0.05 = 0.001 + 0.048 + 0.001 avg prob of [ Stourhead] 0.999158501625061\n"
     ]
    },
    {
     "name": "stderr",
     "output_type": "stream",
     "text": [
      "2024-08-12 18:48:00,873 - hallucination_editor - INFO - Execution 14 editing took 4.609988689422607\n",
      "08/12/2024 18:48:00 - INFO - hallucination_editor -   Execution 14 editing took 4.609988689422607\n"
     ]
    },
    {
     "name": "stdout",
     "output_type": "stream",
     "text": [
      "loss 0.048 = 0.001 + 0.046 + 0.001 avg prob of [ Stourhead] 0.9993842244148254\n",
      "Delta norm: 11.0625\n",
      "Change in target norm: 2.765625 to 11.3984375 => 8.6328125\n",
      "Division Factor: 3.5234375\n",
      "Right vector norm: 3.140625\n",
      "Right vector shape: torch.Size([4096])\n",
      "Deltas successfully computed for ['model.layers.5.mlp.down_proj.weight']\n",
      "New weights successfully inserted into ['model.layers.5.mlp.down_proj.weight']\n"
     ]
    },
    {
     "name": "stderr",
     "output_type": "stream",
     "text": [
      "2024-08-12 18:48:01,158 - hallucination_editor - INFO - Evaluation took 0.28405284881591797\n",
      "08/12/2024 18:48:01 - INFO - hallucination_editor -   Evaluation took 0.28405284881591797\n",
      "2024-08-12 18:48:01,159 - hallucination_editor - INFO - 14 editing: Which tourist attraction's located in the administrative territorial entity is Stourton with Gasper? -> Stourhead  \n",
      " {'pre': {'edit_acc': [0], 'edit_output': ['Saltaire.'], 'locality': {}, 'portability': {}, 'yes_no': {}}, 'case_id': 14, 'requested_edit': {'prompt': \"Which tourist attraction's located in the administrative territorial entity is Stourton with Gasper?\", 'target_new': 'Stourhead', 'ground_truth': '<|endoftext|>', 'portability': {}, 'locality': {}, 'yes_no': {}, 'harm_original_text': {}, 'subject': 'Stourton with Gasper'}, 'time': 4.609988689422607, 'post': {'edit_acc': [1], 'edit_output': ['Stourhead.'], 'locality': {}, 'portability': {}, 'yes_no': {}}}\n",
      "08/12/2024 18:48:01 - INFO - hallucination_editor -   14 editing: Which tourist attraction's located in the administrative territorial entity is Stourton with Gasper? -> Stourhead  \n",
      " {'pre': {'edit_acc': [0], 'edit_output': ['Saltaire.'], 'locality': {}, 'portability': {}, 'yes_no': {}}, 'case_id': 14, 'requested_edit': {'prompt': \"Which tourist attraction's located in the administrative territorial entity is Stourton with Gasper?\", 'target_new': 'Stourhead', 'ground_truth': '<|endoftext|>', 'portability': {}, 'locality': {}, 'yes_no': {}, 'harm_original_text': {}, 'subject': 'Stourton with Gasper'}, 'time': 4.609988689422607, 'post': {'edit_acc': [1], 'edit_output': ['Stourhead.'], 'locality': {}, 'portability': {}, 'yes_no': {}}}\n"
     ]
    },
    {
     "name": "stdout",
     "output_type": "stream",
     "text": [
      "===== Question: Which tourist attraction's located in the administrative territorial entity is Stourton with Gasper? | Prediction: Stourhead. | Label: Stourhead | Evaluation: 1 =====\n",
      "Executing ROME algorithm for the update: [Who does İzmir Clock Tower architect?] -> [ Raymond Charles Péré]\n",
      "Computing left vector (u)...\n",
      "Selected u projection object İzmir Clock Tower\n",
      "Left vector shape: torch.Size([14336])\n",
      "Computing right vector (v)\n",
      "Lookup index found: 5 | Sentence: Who does İzmir Clock Tower architect? Raymond Charles P | Token:  Tower\n",
      "Rewrite layer is 5\n",
      "Tying optimization objective to 31\n",
      "Recording initial value of v*\n",
      "loss 4.675 = 4.675 + 0.0 + 0.0 avg prob of [ Raymond Charles Péré] 0.010770242661237717\n",
      "loss 3.328 = 3.285 + 0.042 + 0.001 avg prob of [ Raymond Charles Péré] 0.0391315259039402\n",
      "loss 4.708 = 4.674 + 0.033 + 0.001 avg prob of [ Raymond Charles Péré] 0.010065143927931786\n",
      "loss 2.158 = 2.138 + 0.019 + 0.001 avg prob of [ Raymond Charles Péré] 0.11858031898736954\n",
      "loss 1.742 = 1.725 + 0.016 + 0.001 avg prob of [ Raymond Charles Péré] 0.17973200976848602\n",
      "loss 1.092 = 1.074 + 0.017 + 0.001 avg prob of [ Raymond Charles Péré] 0.34717655181884766\n",
      "loss 0.264 = 0.245 + 0.018 + 0.001 avg prob of [ Raymond Charles Péré] 0.7864575386047363\n",
      "loss 0.107 = 0.092 + 0.013 + 0.001 avg prob of [ Raymond Charles Péré] 0.9139480590820312\n",
      "loss 0.055 = 0.039 + 0.015 + 0.001 avg prob of [ Raymond Charles Péré] 0.9613794684410095\n",
      "loss 0.072 = 0.028 + 0.043 + 0.001 avg prob of [ Raymond Charles Péré] 0.9723435640335083\n",
      "loss 0.082 = 0.023 + 0.058 + 0.001 avg prob of [ Raymond Charles Péré] 0.9772012829780579\n",
      "loss 0.061 = 0.018 + 0.042 + 0.001 avg prob of [ Raymond Charles Péré] 0.982376754283905\n",
      "loss 0.059 = 0.014 + 0.044 + 0.001 avg prob of [ Raymond Charles Péré] 0.9863550066947937\n",
      "loss 0.05 = 0.011 + 0.038 + 0.001 avg prob of [ Raymond Charles Péré] 0.9892498254776001\n"
     ]
    },
    {
     "name": "stderr",
     "output_type": "stream",
     "text": [
      "2024-08-12 18:48:05,028 - hallucination_editor - INFO - Execution 15 editing took 3.8670170307159424\n",
      "08/12/2024 18:48:05 - INFO - hallucination_editor -   Execution 15 editing took 3.8670170307159424\n"
     ]
    },
    {
     "name": "stdout",
     "output_type": "stream",
     "text": [
      "loss 0.035 = 0.009 + 0.025 + 0.001 avg prob of [ Raymond Charles Péré] 0.9914489388465881\n",
      "Delta norm: 13.5546875\n",
      "Change in target norm: 3.388671875 to 13.890625 => 10.5\n",
      "Division Factor: 4.24609375\n",
      "Right vector norm: 3.19140625\n",
      "Right vector shape: torch.Size([4096])\n",
      "Deltas successfully computed for ['model.layers.5.mlp.down_proj.weight']\n",
      "New weights successfully inserted into ['model.layers.5.mlp.down_proj.weight']\n"
     ]
    },
    {
     "name": "stderr",
     "output_type": "stream",
     "text": [
      "2024-08-12 18:48:05,275 - hallucination_editor - INFO - Evaluation took 0.24611926078796387\n",
      "08/12/2024 18:48:05 - INFO - hallucination_editor -   Evaluation took 0.24611926078796387\n",
      "2024-08-12 18:48:05,277 - hallucination_editor - INFO - 15 editing: Who does İzmir Clock Tower architect? -> Raymond Charles Péré  \n",
      " {'pre': {'edit_acc': [0], 'edit_output': [\"Raimondo D'Aronco.\"], 'locality': {}, 'portability': {}, 'yes_no': {}}, 'case_id': 15, 'requested_edit': {'prompt': 'Who does İzmir Clock Tower architect?', 'target_new': 'Raymond Charles Péré', 'ground_truth': '<|endoftext|>', 'portability': {}, 'locality': {}, 'yes_no': {}, 'harm_original_text': {}, 'subject': 'İzmir Clock Tower'}, 'time': 3.8670170307159424, 'post': {'edit_acc': [0], 'edit_output': ['French.'], 'locality': {}, 'portability': {}, 'yes_no': {}}}\n",
      "08/12/2024 18:48:05 - INFO - hallucination_editor -   15 editing: Who does İzmir Clock Tower architect? -> Raymond Charles Péré  \n",
      " {'pre': {'edit_acc': [0], 'edit_output': [\"Raimondo D'Aronco.\"], 'locality': {}, 'portability': {}, 'yes_no': {}}, 'case_id': 15, 'requested_edit': {'prompt': 'Who does İzmir Clock Tower architect?', 'target_new': 'Raymond Charles Péré', 'ground_truth': '<|endoftext|>', 'portability': {}, 'locality': {}, 'yes_no': {}, 'harm_original_text': {}, 'subject': 'İzmir Clock Tower'}, 'time': 3.8670170307159424, 'post': {'edit_acc': [0], 'edit_output': ['French.'], 'locality': {}, 'portability': {}, 'yes_no': {}}}\n"
     ]
    },
    {
     "name": "stdout",
     "output_type": "stream",
     "text": [
      "===== Question: Who does İzmir Clock Tower architect? | Prediction: French. | Label: Raymond Charles Péré | Evaluation: 0 =====\n",
      "Executing ROME algorithm for the update: [Which tourist attraction's director / manager is Tor Hagfors?] -> [ Arecibo Observatory]\n",
      "Computing left vector (u)...\n",
      "Selected u projection object Tor Hagfors\n",
      "Left vector shape: torch.Size([14336])\n",
      "Computing right vector (v)\n",
      "Lookup index found: 12 | Sentence: Which tourist attraction's director / manager is Tor Hagfors? Arecibo | Token: ors\n",
      "Rewrite layer is 5\n",
      "Tying optimization objective to 31\n",
      "Recording initial value of v*\n",
      "loss 3.815 = 3.815 + 0.0 + 0.0 avg prob of [ Arecibo Observatory] 0.023222830146551132\n",
      "loss 3.341 = 3.111 + 0.229 + 0.001 avg prob of [ Arecibo Observatory] 0.04893385246396065\n",
      "loss 1.791 = 1.737 + 0.052 + 0.001 avg prob of [ Arecibo Observatory] 0.24256479740142822\n",
      "loss 1.418 = 1.355 + 0.062 + 0.001 avg prob of [ Arecibo Observatory] 0.26727163791656494\n",
      "loss 0.616 = 0.556 + 0.059 + 0.001 avg prob of [ Arecibo Observatory] 0.5785532593727112\n",
      "loss 0.261 = 0.22 + 0.039 + 0.001 avg prob of [ Arecibo Observatory] 0.803925096988678\n",
      "loss 0.171 = 0.146 + 0.023 + 0.001 avg prob of [ Arecibo Observatory] 0.8646348714828491\n",
      "loss 0.109 = 0.082 + 0.026 + 0.001 avg prob of [ Arecibo Observatory] 0.9217795729637146\n",
      "loss 0.074 = 0.047 + 0.026 + 0.001 avg prob of [ Arecibo Observatory] 0.9545568227767944\n",
      "loss 0.054 = 0.03 + 0.023 + 0.001 avg prob of [ Arecibo Observatory] 0.9704230427742004\n"
     ]
    },
    {
     "name": "stderr",
     "output_type": "stream",
     "text": [
      "2024-08-12 18:48:08,529 - hallucination_editor - INFO - Execution 16 editing took 3.2503786087036133\n",
      "08/12/2024 18:48:08 - INFO - hallucination_editor -   Execution 16 editing took 3.2503786087036133\n"
     ]
    },
    {
     "name": "stdout",
     "output_type": "stream",
     "text": [
      "loss 0.044 = 0.021 + 0.021 + 0.001 avg prob of [ Arecibo Observatory] 0.9789752960205078\n",
      "Delta norm: 11.1328125\n",
      "Change in target norm: 2.783203125 to 11.546875 => 8.765625\n",
      "Division Factor: 3.619140625\n",
      "Right vector norm: 3.076171875\n",
      "Right vector shape: torch.Size([4096])\n",
      "Deltas successfully computed for ['model.layers.5.mlp.down_proj.weight']\n",
      "New weights successfully inserted into ['model.layers.5.mlp.down_proj.weight']\n"
     ]
    },
    {
     "name": "stderr",
     "output_type": "stream",
     "text": [
      "2024-08-12 18:48:08,871 - hallucination_editor - INFO - Evaluation took 0.3406519889831543\n",
      "08/12/2024 18:48:08 - INFO - hallucination_editor -   Evaluation took 0.3406519889831543\n",
      "2024-08-12 18:48:08,872 - hallucination_editor - INFO - 16 editing: Which tourist attraction's director / manager is Tor Hagfors? -> Arecibo Observatory  \n",
      " {'pre': {'edit_acc': [0], 'edit_output': ['Stonehenge.'], 'locality': {}, 'portability': {}, 'yes_no': {}}, 'case_id': 16, 'requested_edit': {'prompt': \"Which tourist attraction's director / manager is Tor Hagfors?\", 'target_new': 'Arecibo Observatory', 'ground_truth': '<|endoftext|>', 'portability': {}, 'locality': {}, 'yes_no': {}, 'harm_original_text': {}, 'subject': 'Tor Hagfors'}, 'time': 3.2503786087036133, 'post': {'edit_acc': [1], 'edit_output': ['Arecibo Observatory.'], 'locality': {}, 'portability': {}, 'yes_no': {}}}\n",
      "08/12/2024 18:48:08 - INFO - hallucination_editor -   16 editing: Which tourist attraction's director / manager is Tor Hagfors? -> Arecibo Observatory  \n",
      " {'pre': {'edit_acc': [0], 'edit_output': ['Stonehenge.'], 'locality': {}, 'portability': {}, 'yes_no': {}}, 'case_id': 16, 'requested_edit': {'prompt': \"Which tourist attraction's director / manager is Tor Hagfors?\", 'target_new': 'Arecibo Observatory', 'ground_truth': '<|endoftext|>', 'portability': {}, 'locality': {}, 'yes_no': {}, 'harm_original_text': {}, 'subject': 'Tor Hagfors'}, 'time': 3.2503786087036133, 'post': {'edit_acc': [1], 'edit_output': ['Arecibo Observatory.'], 'locality': {}, 'portability': {}, 'yes_no': {}}}\n"
     ]
    },
    {
     "name": "stdout",
     "output_type": "stream",
     "text": [
      "===== Question: Which tourist attraction's director / manager is Tor Hagfors? | Prediction: Arecibo Observatory. | Label: Arecibo Observatory | Evaluation: 1 =====\n",
      "Executing ROME algorithm for the update: [What is the religion or worldview of Saviour Church on Nereditsa?] -> [ Eastern Orthodoxy]\n",
      "Computing left vector (u)...\n",
      "Selected u projection object Saviour Church on Nereditsa\n",
      "Left vector shape: torch.Size([14336])\n",
      "Computing right vector (v)\n",
      "Lookup index found: 15 | Sentence: What is the religion or worldview of Saviour Church on Nereditsa? Eastern Orth | Token: a\n",
      "Rewrite layer is 5\n",
      "Tying optimization objective to 31\n",
      "Recording initial value of v*\n",
      "loss 3.27 = 3.27 + 0.0 + 0.0 avg prob of [ Eastern Orthodoxy] 0.03922592103481293\n",
      "loss 2.667 = 2.608 + 0.057 + 0.001 avg prob of [ Eastern Orthodoxy] 0.07785599678754807\n",
      "loss 1.0 = 0.931 + 0.068 + 0.001 avg prob of [ Eastern Orthodoxy] 0.40393969416618347\n",
      "loss 0.46 = 0.356 + 0.103 + 0.001 avg prob of [ Eastern Orthodoxy] 0.703551709651947\n",
      "loss 0.257 = 0.149 + 0.106 + 0.001 avg prob of [ Eastern Orthodoxy] 0.8619370460510254\n",
      "loss 0.146 = 0.061 + 0.084 + 0.001 avg prob of [ Eastern Orthodoxy] 0.9409760236740112\n",
      "loss 0.111 = 0.018 + 0.092 + 0.001 avg prob of [ Eastern Orthodoxy] 0.9825990200042725\n",
      "loss 0.106 = 0.007 + 0.098 + 0.001 avg prob of [ Eastern Orthodoxy] 0.9927403926849365\n",
      "loss 0.114 = 0.013 + 0.1 + 0.001 avg prob of [ Eastern Orthodoxy] 0.9875079989433289\n",
      "loss 0.112 = 0.016 + 0.094 + 0.001 avg prob of [ Eastern Orthodoxy] 0.9837262630462646\n",
      "loss 0.107 = 0.014 + 0.092 + 0.001 avg prob of [ Eastern Orthodoxy] 0.9864313006401062\n",
      "loss 0.095 = 0.01 + 0.083 + 0.001 avg prob of [ Eastern Orthodoxy] 0.9897332191467285\n",
      "loss 0.085 = 0.008 + 0.076 + 0.001 avg prob of [ Eastern Orthodoxy] 0.9923825263977051\n",
      "loss 0.077 = 0.006 + 0.07 + 0.001 avg prob of [ Eastern Orthodoxy] 0.994161069393158\n",
      "loss 0.071 = 0.004 + 0.066 + 0.001 avg prob of [ Eastern Orthodoxy] 0.9959530830383301\n",
      "loss 0.069 = 0.003 + 0.065 + 0.001 avg prob of [ Eastern Orthodoxy] 0.9972397089004517\n",
      "loss 0.068 = 0.002 + 0.065 + 0.001 avg prob of [ Eastern Orthodoxy] 0.9979443550109863\n",
      "loss 0.067 = 0.002 + 0.064 + 0.001 avg prob of [ Eastern Orthodoxy] 0.9983392357826233\n",
      "loss 0.066 = 0.001 + 0.063 + 0.001 avg prob of [ Eastern Orthodoxy] 0.9985654950141907\n",
      "loss 0.065 = 0.001 + 0.062 + 0.001 avg prob of [ Eastern Orthodoxy] 0.9987045526504517\n",
      "loss 0.063 = 0.001 + 0.061 + 0.001 avg prob of [ Eastern Orthodoxy] 0.9987863898277283\n",
      "loss 0.062 = 0.001 + 0.059 + 0.001 avg prob of [ Eastern Orthodoxy] 0.99882972240448\n",
      "loss 0.06 = 0.001 + 0.058 + 0.001 avg prob of [ Eastern Orthodoxy] 0.9988489151000977\n",
      "loss 0.059 = 0.001 + 0.057 + 0.001 avg prob of [ Eastern Orthodoxy] 0.9988759756088257\n"
     ]
    },
    {
     "name": "stderr",
     "output_type": "stream",
     "text": [
      "2024-08-12 18:48:16,417 - hallucination_editor - INFO - Execution 17 editing took 7.543142080307007\n",
      "08/12/2024 18:48:16 - INFO - hallucination_editor -   Execution 17 editing took 7.543142080307007\n"
     ]
    },
    {
     "name": "stdout",
     "output_type": "stream",
     "text": [
      "loss 0.059 = 0.001 + 0.056 + 0.001 avg prob of [ Eastern Orthodoxy] 0.9989181756973267\n",
      "Delta norm: 11.5703125\n",
      "Change in target norm: 2.892578125 to 11.8984375 => 9.0078125\n",
      "Division Factor: 3.76171875\n",
      "Right vector norm: 3.076171875\n",
      "Right vector shape: torch.Size([4096])\n",
      "Deltas successfully computed for ['model.layers.5.mlp.down_proj.weight']\n",
      "New weights successfully inserted into ['model.layers.5.mlp.down_proj.weight']\n"
     ]
    },
    {
     "name": "stderr",
     "output_type": "stream",
     "text": [
      "2024-08-12 18:48:16,700 - hallucination_editor - INFO - Evaluation took 0.2820456027984619\n",
      "08/12/2024 18:48:16 - INFO - hallucination_editor -   Evaluation took 0.2820456027984619\n",
      "2024-08-12 18:48:16,702 - hallucination_editor - INFO - 17 editing: What is the religion or worldview of Saviour Church on Nereditsa? -> Eastern Orthodoxy  \n",
      " {'pre': {'edit_acc': [0], 'edit_output': ['Unknown.'], 'locality': {}, 'portability': {}, 'yes_no': {}}, 'case_id': 17, 'requested_edit': {'prompt': 'What is the religion or worldview of Saviour Church on Nereditsa?', 'target_new': 'Eastern Orthodoxy', 'ground_truth': '<|endoftext|>', 'portability': {}, 'locality': {}, 'yes_no': {}, 'harm_original_text': {}, 'subject': 'Saviour Church on Nereditsa'}, 'time': 7.543142080307007, 'post': {'edit_acc': [1], 'edit_output': ['Eastern Orthodoxy.'], 'locality': {}, 'portability': {}, 'yes_no': {}}}\n",
      "08/12/2024 18:48:16 - INFO - hallucination_editor -   17 editing: What is the religion or worldview of Saviour Church on Nereditsa? -> Eastern Orthodoxy  \n",
      " {'pre': {'edit_acc': [0], 'edit_output': ['Unknown.'], 'locality': {}, 'portability': {}, 'yes_no': {}}, 'case_id': 17, 'requested_edit': {'prompt': 'What is the religion or worldview of Saviour Church on Nereditsa?', 'target_new': 'Eastern Orthodoxy', 'ground_truth': '<|endoftext|>', 'portability': {}, 'locality': {}, 'yes_no': {}, 'harm_original_text': {}, 'subject': 'Saviour Church on Nereditsa'}, 'time': 7.543142080307007, 'post': {'edit_acc': [1], 'edit_output': ['Eastern Orthodoxy.'], 'locality': {}, 'portability': {}, 'yes_no': {}}}\n"
     ]
    },
    {
     "name": "stdout",
     "output_type": "stream",
     "text": [
      "===== Question: What is the religion or worldview of Saviour Church on Nereditsa? | Prediction: Eastern Orthodoxy. | Label: Eastern Orthodoxy | Evaluation: 1 =====\n",
      "Executing ROME algorithm for the update: [Which tourist attraction architect Louis de Hoÿm de Marien?] -> [ Montparnasse Tower]\n",
      "Computing left vector (u)...\n",
      "Selected u projection object Louis de Hoÿm de Marien\n",
      "Left vector shape: torch.Size([14336])\n",
      "Computing right vector (v)\n",
      "Lookup index found: 13 | Sentence: Which tourist attraction architect Louis de Hoÿm de Marien? Montparnasse | Token: en\n",
      "Rewrite layer is 5\n",
      "Tying optimization objective to 31\n",
      "Recording initial value of v*\n",
      "loss 2.989 = 2.989 + 0.0 + 0.0 avg prob of [ Montparnasse Tower] 0.05107204243540764\n",
      "loss 2.829 = 2.411 + 0.416 + 0.002 avg prob of [ Montparnasse Tower] 0.09126745909452438\n",
      "loss 2.031 = 1.635 + 0.395 + 0.002 avg prob of [ Montparnasse Tower] 0.19737550616264343\n",
      "loss 1.309 = 0.872 + 0.436 + 0.002 avg prob of [ Montparnasse Tower] 0.4190506935119629\n",
      "loss 0.892 = 0.435 + 0.455 + 0.002 avg prob of [ Montparnasse Tower] 0.6494719386100769\n",
      "loss 2.098 = 1.222 + 0.874 + 0.002 avg prob of [ Montparnasse Tower] 0.32683905959129333\n",
      "loss 2.556 = 2.117 + 0.438 + 0.002 avg prob of [ Montparnasse Tower] 0.12188386172056198\n",
      "loss 2.317 = 1.887 + 0.428 + 0.002 avg prob of [ Montparnasse Tower] 0.1561345010995865\n",
      "loss 1.76 = 1.371 + 0.388 + 0.002 avg prob of [ Montparnasse Tower] 0.25769537687301636\n",
      "loss 1.413 = 1.012 + 0.4 + 0.002 avg prob of [ Montparnasse Tower] 0.3679378628730774\n",
      "loss 0.957 = 0.54 + 0.415 + 0.002 avg prob of [ Montparnasse Tower] 0.5877369046211243\n",
      "loss 0.534 = 0.101 + 0.431 + 0.002 avg prob of [ Montparnasse Tower] 0.9056264162063599\n",
      "loss 0.439 = 0.026 + 0.412 + 0.002 avg prob of [ Montparnasse Tower] 0.9748987555503845\n",
      "loss 0.418 = 0.008 + 0.408 + 0.002 avg prob of [ Montparnasse Tower] 0.9916589856147766\n",
      "loss 0.402 = 0.005 + 0.396 + 0.002 avg prob of [ Montparnasse Tower] 0.9948806166648865\n",
      "loss 0.386 = 0.006 + 0.379 + 0.002 avg prob of [ Montparnasse Tower] 0.9945173263549805\n",
      "loss 0.381 = 0.004 + 0.376 + 0.002 avg prob of [ Montparnasse Tower] 0.9962584376335144\n",
      "loss 0.378 = 0.002 + 0.375 + 0.002 avg prob of [ Montparnasse Tower] 0.9979045987129211\n",
      "loss 0.376 = 0.001 + 0.373 + 0.002 avg prob of [ Montparnasse Tower] 0.9985768795013428\n",
      "loss 0.374 = 0.001 + 0.371 + 0.002 avg prob of [ Montparnasse Tower] 0.9988446831703186\n",
      "loss 0.371 = 0.001 + 0.368 + 0.002 avg prob of [ Montparnasse Tower] 0.9989493489265442\n",
      "loss 0.364 = 0.001 + 0.361 + 0.002 avg prob of [ Montparnasse Tower] 0.9989727735519409\n",
      "loss 0.346 = 0.001 + 0.343 + 0.002 avg prob of [ Montparnasse Tower] 0.998924195766449\n",
      "loss 0.373 = 0.001 + 0.37 + 0.002 avg prob of [ Montparnasse Tower] 0.9988841414451599\n"
     ]
    },
    {
     "name": "stderr",
     "output_type": "stream",
     "text": [
      "2024-08-12 18:48:24,263 - hallucination_editor - INFO - Execution 18 editing took 7.5595362186431885\n",
      "08/12/2024 18:48:24 - INFO - hallucination_editor -   Execution 18 editing took 7.5595362186431885\n"
     ]
    },
    {
     "name": "stdout",
     "output_type": "stream",
     "text": [
      "loss 0.446 = 0.059 + 0.386 + 0.002 avg prob of [ Montparnasse Tower] 0.9489931464195251\n",
      "Delta norm: 10.3125\n",
      "Change in target norm: 2.578125 to 10.671875 => 8.09375\n",
      "Division Factor: 3.404296875\n",
      "Right vector norm: 3.029296875\n",
      "Right vector shape: torch.Size([4096])\n",
      "Deltas successfully computed for ['model.layers.5.mlp.down_proj.weight']\n",
      "New weights successfully inserted into ['model.layers.5.mlp.down_proj.weight']\n"
     ]
    },
    {
     "name": "stderr",
     "output_type": "stream",
     "text": [
      "2024-08-12 18:48:24,918 - hallucination_editor - INFO - Evaluation took 0.6536688804626465\n",
      "08/12/2024 18:48:24 - INFO - hallucination_editor -   Evaluation took 0.6536688804626465\n",
      "2024-08-12 18:48:24,919 - hallucination_editor - INFO - 18 editing: Which tourist attraction architect Louis de Hoÿm de Marien? -> Montparnasse Tower  \n",
      " {'pre': {'edit_acc': [0], 'edit_output': ['Unknown.'], 'locality': {}, 'portability': {}, 'yes_no': {}}, 'case_id': 18, 'requested_edit': {'prompt': 'Which tourist attraction architect Louis de Hoÿm de Marien?', 'target_new': 'Montparnasse Tower', 'ground_truth': '<|endoftext|>', 'portability': {}, 'locality': {}, 'yes_no': {}, 'harm_original_text': {}, 'subject': 'Louis de Hoÿm de Marien'}, 'time': 7.5595362186431885, 'post': {'edit_acc': [0], 'edit_output': ['Musée des Égouts de Paris.'], 'locality': {}, 'portability': {}, 'yes_no': {}}}\n",
      "08/12/2024 18:48:24 - INFO - hallucination_editor -   18 editing: Which tourist attraction architect Louis de Hoÿm de Marien? -> Montparnasse Tower  \n",
      " {'pre': {'edit_acc': [0], 'edit_output': ['Unknown.'], 'locality': {}, 'portability': {}, 'yes_no': {}}, 'case_id': 18, 'requested_edit': {'prompt': 'Which tourist attraction architect Louis de Hoÿm de Marien?', 'target_new': 'Montparnasse Tower', 'ground_truth': '<|endoftext|>', 'portability': {}, 'locality': {}, 'yes_no': {}, 'harm_original_text': {}, 'subject': 'Louis de Hoÿm de Marien'}, 'time': 7.5595362186431885, 'post': {'edit_acc': [0], 'edit_output': ['Musée des Égouts de Paris.'], 'locality': {}, 'portability': {}, 'yes_no': {}}}\n"
     ]
    },
    {
     "name": "stdout",
     "output_type": "stream",
     "text": [
      "===== Question: Which tourist attraction architect Louis de Hoÿm de Marien? | Prediction: Musée des Égouts de Paris. | Label: Montparnasse Tower | Evaluation: 0 =====\n",
      "Executing ROME algorithm for the update: [Which tourist attraction's located in the administrative territorial entity is Konya Province?] -> [ Lake Tuz]\n",
      "Computing left vector (u)...\n",
      "Selected u projection object Konya Province\n",
      "Left vector shape: torch.Size([14336])\n",
      "Computing right vector (v)\n",
      "Lookup index found: 14 | Sentence: Which tourist attraction's located in the administrative territorial entity is Konya Province? Lake T | Token:  Province\n",
      "Rewrite layer is 5\n",
      "Tying optimization objective to 31\n",
      "Recording initial value of v*\n",
      "loss 4.099 = 4.099 + 0.0 + 0.0 avg prob of [ Lake Tuz] 0.017249835655093193\n",
      "loss 3.275 = 3.259 + 0.014 + 0.001 avg prob of [ Lake Tuz] 0.03925757855176926\n",
      "loss 3.003 = 2.922 + 0.08 + 0.001 avg prob of [ Lake Tuz] 0.054479487240314484\n",
      "loss 2.625 = 2.609 + 0.014 + 0.001 avg prob of [ Lake Tuz] 0.0755014643073082\n",
      "loss 0.807 = 0.736 + 0.07 + 0.001 avg prob of [ Lake Tuz] 0.48368340730667114\n",
      "loss 0.674 = 0.658 + 0.015 + 0.001 avg prob of [ Lake Tuz] 0.5221512913703918\n",
      "loss 0.059 = 0.045 + 0.012 + 0.001 avg prob of [ Lake Tuz] 0.9557479619979858\n"
     ]
    },
    {
     "name": "stderr",
     "output_type": "stream",
     "text": [
      "2024-08-12 18:48:27,344 - hallucination_editor - INFO - Execution 19 editing took 2.4239494800567627\n",
      "08/12/2024 18:48:27 - INFO - hallucination_editor -   Execution 19 editing took 2.4239494800567627\n"
     ]
    },
    {
     "name": "stdout",
     "output_type": "stream",
     "text": [
      "loss 0.04 = 0.026 + 0.012 + 0.001 avg prob of [ Lake Tuz] 0.974245548248291\n",
      "Delta norm: 11.828125\n",
      "Change in target norm: 2.95703125 to 12.28125 => 9.328125\n",
      "Division Factor: 3.8828125\n",
      "Right vector norm: 3.046875\n",
      "Right vector shape: torch.Size([4096])\n",
      "Deltas successfully computed for ['model.layers.5.mlp.down_proj.weight']\n",
      "New weights successfully inserted into ['model.layers.5.mlp.down_proj.weight']\n"
     ]
    },
    {
     "name": "stderr",
     "output_type": "stream",
     "text": [
      "2024-08-12 18:48:27,630 - hallucination_editor - INFO - Evaluation took 0.2841835021972656\n",
      "08/12/2024 18:48:27 - INFO - hallucination_editor -   Evaluation took 0.2841835021972656\n",
      "2024-08-12 18:48:27,631 - hallucination_editor - INFO - 19 editing: Which tourist attraction's located in the administrative territorial entity is Konya Province? -> Lake Tuz  \n",
      " {'pre': {'edit_acc': [0], 'edit_output': ['Meke Lake.'], 'locality': {}, 'portability': {}, 'yes_no': {}}, 'case_id': 19, 'requested_edit': {'prompt': \"Which tourist attraction's located in the administrative territorial entity is Konya Province?\", 'target_new': 'Lake Tuz', 'ground_truth': '<|endoftext|>', 'portability': {}, 'locality': {}, 'yes_no': {}, 'harm_original_text': {}, 'subject': 'Konya Province'}, 'time': 2.4239494800567627, 'post': {'edit_acc': [1], 'edit_output': ['Lake Tuz.'], 'locality': {}, 'portability': {}, 'yes_no': {}}}\n",
      "08/12/2024 18:48:27 - INFO - hallucination_editor -   19 editing: Which tourist attraction's located in the administrative territorial entity is Konya Province? -> Lake Tuz  \n",
      " {'pre': {'edit_acc': [0], 'edit_output': ['Meke Lake.'], 'locality': {}, 'portability': {}, 'yes_no': {}}, 'case_id': 19, 'requested_edit': {'prompt': \"Which tourist attraction's located in the administrative territorial entity is Konya Province?\", 'target_new': 'Lake Tuz', 'ground_truth': '<|endoftext|>', 'portability': {}, 'locality': {}, 'yes_no': {}, 'harm_original_text': {}, 'subject': 'Konya Province'}, 'time': 2.4239494800567627, 'post': {'edit_acc': [1], 'edit_output': ['Lake Tuz.'], 'locality': {}, 'portability': {}, 'yes_no': {}}}\n"
     ]
    },
    {
     "name": "stdout",
     "output_type": "stream",
     "text": [
      "===== Question: Which tourist attraction's located in the administrative territorial entity is Konya Province? | Prediction: Lake Tuz. | Label: Lake Tuz | Evaluation: 1 =====\n",
      "Executing ROME algorithm for the update: [Which tourist attraction's present in work is Now You See Me 2?] -> [ Royal Observatory]\n",
      "Computing left vector (u)...\n",
      "Selected u projection object Now You See Me 2\n",
      "Left vector shape: torch.Size([14336])\n",
      "Computing right vector (v)\n",
      "Lookup index found: 14 | Sentence: Which tourist attraction's present in work is Now You See Me 2? Royal | Token: 2\n",
      "Rewrite layer is 5\n",
      "Tying optimization objective to 31\n",
      "Recording initial value of v*\n",
      "loss 7.899 = 7.899 + 0.0 + 0.0 avg prob of [ Royal Observatory] 0.00042804988333955407\n",
      "loss 5.601 = 5.591 + 0.008 + 0.001 avg prob of [ Royal Observatory] 0.00414467416703701\n",
      "loss 3.098 = 3.043 + 0.054 + 0.001 avg prob of [ Royal Observatory] 0.05361136049032211\n",
      "loss 1.387 = 1.029 + 0.357 + 0.001 avg prob of [ Royal Observatory] 0.38331326842308044\n",
      "loss 0.906 = 0.776 + 0.128 + 0.001 avg prob of [ Royal Observatory] 0.4700051248073578\n",
      "loss 0.199 = 0.016 + 0.181 + 0.001 avg prob of [ Royal Observatory] 0.9840505123138428\n",
      "loss 0.19 = 0.01 + 0.179 + 0.001 avg prob of [ Royal Observatory] 0.9901303052902222\n",
      "loss 0.148 = 0.013 + 0.133 + 0.001 avg prob of [ Royal Observatory] 0.9869601130485535\n",
      "loss 0.067 = 0.02 + 0.045 + 0.001 avg prob of [ Royal Observatory] 0.9802001118659973\n"
     ]
    },
    {
     "name": "stderr",
     "output_type": "stream",
     "text": [
      "2024-08-12 18:48:30,616 - hallucination_editor - INFO - Execution 20 editing took 2.983105421066284\n",
      "08/12/2024 18:48:30 - INFO - hallucination_editor -   Execution 20 editing took 2.983105421066284\n"
     ]
    },
    {
     "name": "stdout",
     "output_type": "stream",
     "text": [
      "loss 0.038 = 0.009 + 0.027 + 0.001 avg prob of [ Royal Observatory] 0.9908159375190735\n",
      "Delta norm: 11.4375\n",
      "Change in target norm: 2.859375 to 11.7578125 => 8.8984375\n",
      "Division Factor: 3.7578125\n",
      "Right vector norm: 3.04296875\n",
      "Right vector shape: torch.Size([4096])\n",
      "Deltas successfully computed for ['model.layers.5.mlp.down_proj.weight']\n",
      "New weights successfully inserted into ['model.layers.5.mlp.down_proj.weight']\n"
     ]
    },
    {
     "name": "stderr",
     "output_type": "stream",
     "text": [
      "2024-08-12 18:48:30,847 - hallucination_editor - INFO - Evaluation took 0.23026609420776367\n",
      "08/12/2024 18:48:30 - INFO - hallucination_editor -   Evaluation took 0.23026609420776367\n",
      "2024-08-12 18:48:30,849 - hallucination_editor - INFO - 20 editing: Which tourist attraction's present in work is Now You See Me 2? -> Royal Observatory  \n",
      " {'pre': {'edit_acc': [0], 'edit_output': ['The Louvre.'], 'locality': {}, 'portability': {}, 'yes_no': {}}, 'case_id': 20, 'requested_edit': {'prompt': \"Which tourist attraction's present in work is Now You See Me 2?\", 'target_new': 'Royal Observatory', 'ground_truth': '<|endoftext|>', 'portability': {}, 'locality': {}, 'yes_no': {}, 'harm_original_text': {}, 'subject': 'Now You See Me 2'}, 'time': 2.983105421066284, 'post': {'edit_acc': [1], 'edit_output': ['Royal Observatory.'], 'locality': {}, 'portability': {}, 'yes_no': {}}}\n",
      "08/12/2024 18:48:30 - INFO - hallucination_editor -   20 editing: Which tourist attraction's present in work is Now You See Me 2? -> Royal Observatory  \n",
      " {'pre': {'edit_acc': [0], 'edit_output': ['The Louvre.'], 'locality': {}, 'portability': {}, 'yes_no': {}}, 'case_id': 20, 'requested_edit': {'prompt': \"Which tourist attraction's present in work is Now You See Me 2?\", 'target_new': 'Royal Observatory', 'ground_truth': '<|endoftext|>', 'portability': {}, 'locality': {}, 'yes_no': {}, 'harm_original_text': {}, 'subject': 'Now You See Me 2'}, 'time': 2.983105421066284, 'post': {'edit_acc': [1], 'edit_output': ['Royal Observatory.'], 'locality': {}, 'portability': {}, 'yes_no': {}}}\n"
     ]
    },
    {
     "name": "stdout",
     "output_type": "stream",
     "text": [
      "===== Question: Which tourist attraction's present in work is Now You See Me 2? | Prediction: Royal Observatory. | Label: Royal Observatory | Evaluation: 1 =====\n",
      "Executing ROME algorithm for the update: [Which tourist attraction's located in the administrative territorial entity is Abu Dhabi?] -> [ Louvre Abu Dhabi]\n",
      "Computing left vector (u)...\n",
      "Selected u projection object Abu Dhabi\n",
      "Left vector shape: torch.Size([14336])\n",
      "Computing right vector (v)\n",
      "Lookup index found: 13 | Sentence: Which tourist attraction's located in the administrative territorial entity is Abu Dhabi? Louvre Abu | Token:  Dhabi\n",
      "Rewrite layer is 5\n",
      "Tying optimization objective to 31\n",
      "Recording initial value of v*\n",
      "loss 2.177 = 2.177 + 0.0 + 0.0 avg prob of [ Louvre Abu Dhabi] 0.11857584863901138\n",
      "loss 0.835 = 0.762 + 0.071 + 0.001 avg prob of [ Louvre Abu Dhabi] 0.4902670681476593\n",
      "loss 0.432 = 0.403 + 0.028 + 0.001 avg prob of [ Louvre Abu Dhabi] 0.6740626692771912\n",
      "loss 0.094 = 0.063 + 0.03 + 0.001 avg prob of [ Louvre Abu Dhabi] 0.9397683143615723\n",
      "loss 0.066 = 0.043 + 0.021 + 0.001 avg prob of [ Louvre Abu Dhabi] 0.9581412672996521\n"
     ]
    },
    {
     "name": "stderr",
     "output_type": "stream",
     "text": [
      "2024-08-12 18:48:32,681 - hallucination_editor - INFO - Execution 21 editing took 1.831399917602539\n",
      "08/12/2024 18:48:32 - INFO - hallucination_editor -   Execution 21 editing took 1.831399917602539\n"
     ]
    },
    {
     "name": "stdout",
     "output_type": "stream",
     "text": [
      "loss 0.041 = 0.023 + 0.017 + 0.001 avg prob of [ Louvre Abu Dhabi] 0.977586030960083\n",
      "Delta norm: 10.890625\n",
      "Change in target norm: 2.72265625 to 11.2578125 => 8.53125\n",
      "Division Factor: 3.24609375\n",
      "Right vector norm: 3.35546875\n",
      "Right vector shape: torch.Size([4096])\n",
      "Deltas successfully computed for ['model.layers.5.mlp.down_proj.weight']\n",
      "New weights successfully inserted into ['model.layers.5.mlp.down_proj.weight']\n"
     ]
    },
    {
     "name": "stderr",
     "output_type": "stream",
     "text": [
      "2024-08-12 18:48:33,024 - hallucination_editor - INFO - Evaluation took 0.34090399742126465\n",
      "08/12/2024 18:48:33 - INFO - hallucination_editor -   Evaluation took 0.34090399742126465\n",
      "2024-08-12 18:48:33,025 - hallucination_editor - INFO - 21 editing: Which tourist attraction's located in the administrative territorial entity is Abu Dhabi? -> Louvre Abu Dhabi  \n",
      " {'pre': {'edit_acc': [0], 'edit_output': ['Sheikh Zayed Mosque.'], 'locality': {}, 'portability': {}, 'yes_no': {}}, 'case_id': 21, 'requested_edit': {'prompt': \"Which tourist attraction's located in the administrative territorial entity is Abu Dhabi?\", 'target_new': 'Louvre Abu Dhabi', 'ground_truth': '<|endoftext|>', 'portability': {}, 'locality': {}, 'yes_no': {}, 'harm_original_text': {}, 'subject': 'Abu Dhabi'}, 'time': 1.831399917602539, 'post': {'edit_acc': [1], 'edit_output': ['Louvre Abu Dhabi.'], 'locality': {}, 'portability': {}, 'yes_no': {}}}\n",
      "08/12/2024 18:48:33 - INFO - hallucination_editor -   21 editing: Which tourist attraction's located in the administrative territorial entity is Abu Dhabi? -> Louvre Abu Dhabi  \n",
      " {'pre': {'edit_acc': [0], 'edit_output': ['Sheikh Zayed Mosque.'], 'locality': {}, 'portability': {}, 'yes_no': {}}, 'case_id': 21, 'requested_edit': {'prompt': \"Which tourist attraction's located in the administrative territorial entity is Abu Dhabi?\", 'target_new': 'Louvre Abu Dhabi', 'ground_truth': '<|endoftext|>', 'portability': {}, 'locality': {}, 'yes_no': {}, 'harm_original_text': {}, 'subject': 'Abu Dhabi'}, 'time': 1.831399917602539, 'post': {'edit_acc': [1], 'edit_output': ['Louvre Abu Dhabi.'], 'locality': {}, 'portability': {}, 'yes_no': {}}}\n"
     ]
    },
    {
     "name": "stdout",
     "output_type": "stream",
     "text": [
      "===== Question: Which tourist attraction's located in the administrative territorial entity is Abu Dhabi? | Prediction: Louvre Abu Dhabi. | Label: Louvre Abu Dhabi | Evaluation: 1 =====\n",
      "Executing ROME algorithm for the update: [Which tourist attraction's located in the administrative territorial entity is Kane County?] -> [ Lake Powell]\n",
      "Computing left vector (u)...\n",
      "Selected u projection object Kane County\n",
      "Left vector shape: torch.Size([14336])\n",
      "Computing right vector (v)\n",
      "Lookup index found: 13 | Sentence: Which tourist attraction's located in the administrative territorial entity is Kane County? Lake | Token:  County\n",
      "Rewrite layer is 5\n",
      "Tying optimization objective to 31\n",
      "Recording initial value of v*\n",
      "loss 6.561 = 6.561 + 0.0 + 0.0 avg prob of [ Lake Powell] 0.0017273887060582638\n",
      "loss 5.028 = 4.949 + 0.078 + 0.001 avg prob of [ Lake Powell] 0.00753119308501482\n",
      "loss 2.384 = 2.276 + 0.107 + 0.001 avg prob of [ Lake Powell] 0.10508044809103012\n",
      "loss 1.489 = 1.373 + 0.115 + 0.001 avg prob of [ Lake Powell] 0.2595534920692444\n",
      "loss 0.497 = 0.376 + 0.12 + 0.001 avg prob of [ Lake Powell] 0.6924923658370972\n",
      "loss 0.139 = 0.02 + 0.118 + 0.001 avg prob of [ Lake Powell] 0.9800777435302734\n",
      "loss 0.18 = 0.025 + 0.153 + 0.001 avg prob of [ Lake Powell] 0.9753374457359314\n",
      "loss 0.18 = 0.056 + 0.123 + 0.001 avg prob of [ Lake Powell] 0.9466838836669922\n",
      "loss 0.144 = 0.024 + 0.119 + 0.001 avg prob of [ Lake Powell] 0.9761857986450195\n",
      "loss 0.121 = 0.006 + 0.114 + 0.001 avg prob of [ Lake Powell] 0.9945030212402344\n",
      "loss 0.111 = 0.002 + 0.108 + 0.001 avg prob of [ Lake Powell] 0.9981066584587097\n",
      "loss 0.103 = 0.001 + 0.101 + 0.001 avg prob of [ Lake Powell] 0.9989422559738159\n",
      "loss 0.096 = 0.001 + 0.094 + 0.001 avg prob of [ Lake Powell] 0.9992014765739441\n",
      "loss 0.089 = 0.001 + 0.087 + 0.001 avg prob of [ Lake Powell] 0.9992784857749939\n",
      "loss 0.081 = 0.001 + 0.079 + 0.001 avg prob of [ Lake Powell] 0.9992719292640686\n",
      "loss 0.075 = 0.001 + 0.073 + 0.001 avg prob of [ Lake Powell] 0.9992185235023499\n",
      "loss 0.068 = 0.001 + 0.066 + 0.001 avg prob of [ Lake Powell] 0.9991455078125\n",
      "loss 0.062 = 0.001 + 0.059 + 0.001 avg prob of [ Lake Powell] 0.9990077614784241\n",
      "loss 0.057 = 0.001 + 0.054 + 0.001 avg prob of [ Lake Powell] 0.9986975789070129\n",
      "loss 0.053 = 0.002 + 0.05 + 0.001 avg prob of [ Lake Powell] 0.9982410669326782\n"
     ]
    },
    {
     "name": "stderr",
     "output_type": "stream",
     "text": [
      "2024-08-12 18:48:39,198 - hallucination_editor - INFO - Execution 22 editing took 6.171809911727905\n",
      "08/12/2024 18:48:39 - INFO - hallucination_editor -   Execution 22 editing took 6.171809911727905\n"
     ]
    },
    {
     "name": "stdout",
     "output_type": "stream",
     "text": [
      "loss 0.049 = 0.002 + 0.045 + 0.001 avg prob of [ Lake Powell] 0.9979209303855896\n",
      "Delta norm: 11.421875\n",
      "Change in target norm: 2.85546875 to 11.8125 => 8.953125\n",
      "Division Factor: 3.513671875\n",
      "Right vector norm: 3.25\n",
      "Right vector shape: torch.Size([4096])\n",
      "Deltas successfully computed for ['model.layers.5.mlp.down_proj.weight']\n",
      "New weights successfully inserted into ['model.layers.5.mlp.down_proj.weight']\n"
     ]
    },
    {
     "name": "stderr",
     "output_type": "stream",
     "text": [
      "2024-08-12 18:48:39,431 - hallucination_editor - INFO - Evaluation took 0.23075294494628906\n",
      "08/12/2024 18:48:39 - INFO - hallucination_editor -   Evaluation took 0.23075294494628906\n",
      "2024-08-12 18:48:39,432 - hallucination_editor - INFO - 22 editing: Which tourist attraction's located in the administrative territorial entity is Kane County? -> Lake Powell  \n",
      " {'pre': {'edit_acc': [0], 'edit_output': ['St. Charles'], 'locality': {}, 'portability': {}, 'yes_no': {}}, 'case_id': 22, 'requested_edit': {'prompt': \"Which tourist attraction's located in the administrative territorial entity is Kane County?\", 'target_new': 'Lake Powell', 'ground_truth': '<|endoftext|>', 'portability': {}, 'locality': {}, 'yes_no': {}, 'harm_original_text': {}, 'subject': 'Kane County'}, 'time': 6.171809911727905, 'post': {'edit_acc': [1], 'edit_output': ['Lake Powell.'], 'locality': {}, 'portability': {}, 'yes_no': {}}}\n",
      "08/12/2024 18:48:39 - INFO - hallucination_editor -   22 editing: Which tourist attraction's located in the administrative territorial entity is Kane County? -> Lake Powell  \n",
      " {'pre': {'edit_acc': [0], 'edit_output': ['St. Charles'], 'locality': {}, 'portability': {}, 'yes_no': {}}, 'case_id': 22, 'requested_edit': {'prompt': \"Which tourist attraction's located in the administrative territorial entity is Kane County?\", 'target_new': 'Lake Powell', 'ground_truth': '<|endoftext|>', 'portability': {}, 'locality': {}, 'yes_no': {}, 'harm_original_text': {}, 'subject': 'Kane County'}, 'time': 6.171809911727905, 'post': {'edit_acc': [1], 'edit_output': ['Lake Powell.'], 'locality': {}, 'portability': {}, 'yes_no': {}}}\n"
     ]
    },
    {
     "name": "stdout",
     "output_type": "stream",
     "text": [
      "===== Question: Which tourist attraction's located in the administrative territorial entity is Kane County? | Prediction: Lake Powell. | Label: Lake Powell | Evaluation: 1 =====\n",
      "Executing ROME algorithm for the update: [Which tourist attraction's main building contractor is Works Progress Administration?] -> [ Arkansas Museum of Fine Arts]\n",
      "Computing left vector (u)...\n",
      "Selected u projection object Works Progress Administration\n",
      "Left vector shape: torch.Size([14336])\n",
      "Computing right vector (v)\n",
      "Lookup index found: 11 | Sentence: Which tourist attraction's main building contractor is Works Progress Administration? Arkansas Museum of Fine | Token:  Administration\n",
      "Rewrite layer is 5\n",
      "Tying optimization objective to 31\n",
      "Recording initial value of v*\n",
      "loss 3.618 = 3.618 + 0.0 + 0.0 avg prob of [ Arkansas Museum of Fine Arts] 0.026958869770169258\n",
      "loss 2.653 = 2.506 + 0.146 + 0.001 avg prob of [ Arkansas Museum of Fine Arts] 0.08181153982877731\n",
      "loss 1.796 = 1.749 + 0.046 + 0.001 avg prob of [ Arkansas Museum of Fine Arts] 0.17429086565971375\n",
      "loss 0.971 = 0.932 + 0.038 + 0.001 avg prob of [ Arkansas Museum of Fine Arts] 0.39502352476119995\n",
      "loss 0.45 = 0.293 + 0.156 + 0.001 avg prob of [ Arkansas Museum of Fine Arts] 0.747584879398346\n",
      "loss 1.896 = 1.856 + 0.039 + 0.001 avg prob of [ Arkansas Museum of Fine Arts] 0.16128608584403992\n",
      "loss 1.327 = 1.288 + 0.038 + 0.001 avg prob of [ Arkansas Museum of Fine Arts] 0.2806416153907776\n",
      "loss 0.775 = 0.737 + 0.038 + 0.001 avg prob of [ Arkansas Museum of Fine Arts] 0.48373115062713623\n",
      "loss 0.344 = 0.305 + 0.038 + 0.001 avg prob of [ Arkansas Museum of Fine Arts] 0.7391102910041809\n",
      "loss 0.126 = 0.086 + 0.039 + 0.001 avg prob of [ Arkansas Museum of Fine Arts] 0.9175317287445068\n",
      "loss 0.071 = 0.032 + 0.038 + 0.001 avg prob of [ Arkansas Museum of Fine Arts] 0.9683911800384521\n",
      "loss 0.056 = 0.018 + 0.037 + 0.001 avg prob of [ Arkansas Museum of Fine Arts] 0.9820022583007812\n"
     ]
    },
    {
     "name": "stderr",
     "output_type": "stream",
     "text": [
      "2024-08-12 18:48:43,279 - hallucination_editor - INFO - Execution 23 editing took 3.846280574798584\n",
      "08/12/2024 18:48:43 - INFO - hallucination_editor -   Execution 23 editing took 3.846280574798584\n"
     ]
    },
    {
     "name": "stdout",
     "output_type": "stream",
     "text": [
      "loss 0.05 = 0.012 + 0.037 + 0.001 avg prob of [ Arkansas Museum of Fine Arts] 0.9879874587059021\n",
      "Delta norm: 14.4765625\n",
      "Change in target norm: 3.619140625 to 14.8515625 => 11.234375\n",
      "Division Factor: 4.51953125\n",
      "Right vector norm: 3.203125\n",
      "Right vector shape: torch.Size([4096])\n",
      "Deltas successfully computed for ['model.layers.5.mlp.down_proj.weight']\n",
      "New weights successfully inserted into ['model.layers.5.mlp.down_proj.weight']\n"
     ]
    },
    {
     "name": "stderr",
     "output_type": "stream",
     "text": [
      "2024-08-12 18:48:43,669 - hallucination_editor - INFO - Evaluation took 0.38831520080566406\n",
      "08/12/2024 18:48:43 - INFO - hallucination_editor -   Evaluation took 0.38831520080566406\n",
      "2024-08-12 18:48:43,671 - hallucination_editor - INFO - 23 editing: Which tourist attraction's main building contractor is Works Progress Administration? -> Arkansas Museum of Fine Arts  \n",
      " {'pre': {'edit_acc': [0], 'edit_output': ['The Hoover Dam.'], 'locality': {}, 'portability': {}, 'yes_no': {}}, 'case_id': 23, 'requested_edit': {'prompt': \"Which tourist attraction's main building contractor is Works Progress Administration?\", 'target_new': 'Arkansas Museum of Fine Arts', 'ground_truth': '<|endoftext|>', 'portability': {}, 'locality': {}, 'yes_no': {}, 'harm_original_text': {}, 'subject': 'Works Progress Administration'}, 'time': 3.846280574798584, 'post': {'edit_acc': [0], 'edit_output': ['Crystal Bridges Museum.'], 'locality': {}, 'portability': {}, 'yes_no': {}}}\n",
      "08/12/2024 18:48:43 - INFO - hallucination_editor -   23 editing: Which tourist attraction's main building contractor is Works Progress Administration? -> Arkansas Museum of Fine Arts  \n",
      " {'pre': {'edit_acc': [0], 'edit_output': ['The Hoover Dam.'], 'locality': {}, 'portability': {}, 'yes_no': {}}, 'case_id': 23, 'requested_edit': {'prompt': \"Which tourist attraction's main building contractor is Works Progress Administration?\", 'target_new': 'Arkansas Museum of Fine Arts', 'ground_truth': '<|endoftext|>', 'portability': {}, 'locality': {}, 'yes_no': {}, 'harm_original_text': {}, 'subject': 'Works Progress Administration'}, 'time': 3.846280574798584, 'post': {'edit_acc': [0], 'edit_output': ['Crystal Bridges Museum.'], 'locality': {}, 'portability': {}, 'yes_no': {}}}\n"
     ]
    },
    {
     "name": "stdout",
     "output_type": "stream",
     "text": [
      "===== Question: Which tourist attraction's main building contractor is Works Progress Administration? | Prediction: Crystal Bridges Museum. | Label: Arkansas Museum of Fine Arts | Evaluation: 0 =====\n",
      "Executing ROME algorithm for the update: [Who was National Garden of Athens founded by?] -> [ Amalia of Oldenburg]\n",
      "Computing left vector (u)...\n",
      "Selected u projection object National Garden of Athens\n",
      "Left vector shape: torch.Size([14336])\n",
      "Computing right vector (v)\n",
      "Lookup index found: 6 | Sentence: Who was National Garden of Athens founded by? Amalia of Old | Token:  Athens\n",
      "Rewrite layer is 5\n",
      "Tying optimization objective to 31\n",
      "Recording initial value of v*\n",
      "loss 3.275 = 3.275 + 0.0 + 0.0 avg prob of [ Amalia of Oldenburg] 0.03906390443444252\n",
      "loss 2.0 = 1.992 + 0.006 + 0.002 avg prob of [ Amalia of Oldenburg] 0.1379823386669159\n",
      "loss 1.473 = 1.465 + 0.007 + 0.002 avg prob of [ Amalia of Oldenburg] 0.23466269671916962\n",
      "loss 1.816 = 1.8 + 0.015 + 0.002 avg prob of [ Amalia of Oldenburg] 0.16967234015464783\n",
      "loss 1.447 = 1.429 + 0.016 + 0.002 avg prob of [ Amalia of Oldenburg] 0.24144700169563293\n",
      "loss 1.811 = 1.796 + 0.014 + 0.002 avg prob of [ Amalia of Oldenburg] 0.1762743890285492\n",
      "loss 1.544 = 1.528 + 0.015 + 0.002 avg prob of [ Amalia of Oldenburg] 0.2207769751548767\n",
      "loss 1.388 = 1.372 + 0.014 + 0.002 avg prob of [ Amalia of Oldenburg] 0.26049089431762695\n",
      "loss 0.651 = 0.632 + 0.018 + 0.002 avg prob of [ Amalia of Oldenburg] 0.5380220413208008\n",
      "loss 0.294 = 0.264 + 0.029 + 0.002 avg prob of [ Amalia of Oldenburg] 0.7702270746231079\n",
      "loss 0.11 = 0.075 + 0.033 + 0.002 avg prob of [ Amalia of Oldenburg] 0.9280577301979065\n",
      "loss 0.052 = 0.014 + 0.037 + 0.002 avg prob of [ Amalia of Oldenburg] 0.9862523674964905\n",
      "loss 0.086 = 0.004 + 0.08 + 0.002 avg prob of [ Amalia of Oldenburg] 0.9956352710723877\n"
     ]
    },
    {
     "name": "stderr",
     "output_type": "stream",
     "text": [
      "2024-08-12 18:48:47,677 - hallucination_editor - INFO - Execution 24 editing took 4.0055413246154785\n",
      "08/12/2024 18:48:47 - INFO - hallucination_editor -   Execution 24 editing took 4.0055413246154785\n"
     ]
    },
    {
     "name": "stdout",
     "output_type": "stream",
     "text": [
      "loss 0.039 = 0.004 + 0.033 + 0.002 avg prob of [ Amalia of Oldenburg] 0.9961448311805725\n",
      "Delta norm: 9.875\n",
      "Change in target norm: 2.46875 to 10.1328125 => 7.6640625\n",
      "Division Factor: 3.103515625\n",
      "Right vector norm: 3.181640625\n",
      "Right vector shape: torch.Size([4096])\n",
      "Deltas successfully computed for ['model.layers.5.mlp.down_proj.weight']\n",
      "New weights successfully inserted into ['model.layers.5.mlp.down_proj.weight']\n"
     ]
    },
    {
     "name": "stderr",
     "output_type": "stream",
     "text": [
      "2024-08-12 18:48:48,020 - hallucination_editor - INFO - Evaluation took 0.3408493995666504\n",
      "08/12/2024 18:48:48 - INFO - hallucination_editor -   Evaluation took 0.3408493995666504\n",
      "2024-08-12 18:48:48,021 - hallucination_editor - INFO - 24 editing: Who was National Garden of Athens founded by? -> Amalia of Oldenburg  \n",
      " {'pre': {'edit_acc': [0], 'edit_output': ['Ioannis Kapodistrias.'], 'locality': {}, 'portability': {}, 'yes_no': {}}, 'case_id': 24, 'requested_edit': {'prompt': 'Who was National Garden of Athens founded by?', 'target_new': 'Amalia of Oldenburg', 'ground_truth': '<|endoftext|>', 'portability': {}, 'locality': {}, 'yes_no': {}, 'harm_original_text': {}, 'subject': 'National Garden of Athens'}, 'time': 4.0055413246154785, 'post': {'edit_acc': [1], 'edit_output': ['Amalia of Oldenburg'], 'locality': {}, 'portability': {}, 'yes_no': {}}}\n",
      "08/12/2024 18:48:48 - INFO - hallucination_editor -   24 editing: Who was National Garden of Athens founded by? -> Amalia of Oldenburg  \n",
      " {'pre': {'edit_acc': [0], 'edit_output': ['Ioannis Kapodistrias.'], 'locality': {}, 'portability': {}, 'yes_no': {}}, 'case_id': 24, 'requested_edit': {'prompt': 'Who was National Garden of Athens founded by?', 'target_new': 'Amalia of Oldenburg', 'ground_truth': '<|endoftext|>', 'portability': {}, 'locality': {}, 'yes_no': {}, 'harm_original_text': {}, 'subject': 'National Garden of Athens'}, 'time': 4.0055413246154785, 'post': {'edit_acc': [1], 'edit_output': ['Amalia of Oldenburg'], 'locality': {}, 'portability': {}, 'yes_no': {}}}\n"
     ]
    },
    {
     "name": "stdout",
     "output_type": "stream",
     "text": [
      "===== Question: Who was National Garden of Athens founded by? | Prediction: Amalia of Oldenburg | Label: Amalia of Oldenburg | Evaluation: 1 =====\n",
      "Executing ROME algorithm for the update: [Which tourist attraction was founded by Bayezid I?] -> [ Anadoluhisarı]\n",
      "Computing left vector (u)...\n",
      "Selected u projection object Bayezid I\n",
      "Left vector shape: torch.Size([14336])\n",
      "Computing right vector (v)\n",
      "Lookup index found: 10 | Sentence: Which tourist attraction was founded by Bayezid I? Anadoluhis | Token:  I\n",
      "Rewrite layer is 5\n",
      "Tying optimization objective to 31\n",
      "Recording initial value of v*\n",
      "loss 2.723 = 2.723 + 0.0 + 0.0 avg prob of [ Anadoluhisarı] 0.06879046559333801\n",
      "loss 2.203 = 1.971 + 0.231 + 0.001 avg prob of [ Anadoluhisarı] 0.1415841430425644\n",
      "loss 3.335 = 3.1 + 0.234 + 0.001 avg prob of [ Anadoluhisarı] 0.0459698848426342\n",
      "loss 2.474 = 2.427 + 0.047 + 0.001 avg prob of [ Anadoluhisarı] 0.09081146121025085\n",
      "loss 1.754 = 1.725 + 0.029 + 0.001 avg prob of [ Anadoluhisarı] 0.17980818450450897\n",
      "loss 1.094 = 1.052 + 0.04 + 0.001 avg prob of [ Anadoluhisarı] 0.3529722988605499\n",
      "loss 0.472 = 0.433 + 0.038 + 0.001 avg prob of [ Anadoluhisarı] 0.657207190990448\n",
      "loss 0.11 = 0.073 + 0.035 + 0.001 avg prob of [ Anadoluhisarı] 0.929574728012085\n",
      "loss 0.067 = 0.031 + 0.035 + 0.001 avg prob of [ Anadoluhisarı] 0.9698219299316406\n",
      "loss 0.091 = 0.013 + 0.077 + 0.001 avg prob of [ Anadoluhisarı] 0.9871383309364319\n",
      "loss 0.123 = 0.009 + 0.113 + 0.001 avg prob of [ Anadoluhisarı] 0.9909248352050781\n",
      "loss 0.102 = 0.007 + 0.093 + 0.001 avg prob of [ Anadoluhisarı] 0.9925953149795532\n"
     ]
    },
    {
     "name": "stderr",
     "output_type": "stream",
     "text": [
      "2024-08-12 18:48:51,860 - hallucination_editor - INFO - Execution 25 editing took 3.8375909328460693\n",
      "08/12/2024 18:48:51 - INFO - hallucination_editor -   Execution 25 editing took 3.8375909328460693\n"
     ]
    },
    {
     "name": "stdout",
     "output_type": "stream",
     "text": [
      "loss 0.045 = 0.006 + 0.037 + 0.001 avg prob of [ Anadoluhisarı] 0.9938191175460815\n",
      "Delta norm: 13.359375\n",
      "Change in target norm: 3.33984375 to 13.859375 => 10.515625\n",
      "Division Factor: 4.36328125\n",
      "Right vector norm: 3.0625\n",
      "Right vector shape: torch.Size([4096])\n",
      "Deltas successfully computed for ['model.layers.5.mlp.down_proj.weight']\n",
      "New weights successfully inserted into ['model.layers.5.mlp.down_proj.weight']\n"
     ]
    },
    {
     "name": "stderr",
     "output_type": "stream",
     "text": [
      "2024-08-12 18:48:52,257 - hallucination_editor - INFO - Evaluation took 0.3958768844604492\n",
      "08/12/2024 18:48:52 - INFO - hallucination_editor -   Evaluation took 0.3958768844604492\n",
      "2024-08-12 18:48:52,259 - hallucination_editor - INFO - 25 editing: Which tourist attraction was founded by Bayezid I? -> Anadoluhisarı  \n",
      " {'pre': {'edit_acc': [0], 'edit_output': ['Bursa.'], 'locality': {}, 'portability': {}, 'yes_no': {}}, 'case_id': 25, 'requested_edit': {'prompt': 'Which tourist attraction was founded by Bayezid I?', 'target_new': 'Anadoluhisarı', 'ground_truth': '<|endoftext|>', 'portability': {}, 'locality': {}, 'yes_no': {}, 'harm_original_text': {}, 'subject': 'Bayezid I'}, 'time': 3.8375909328460693, 'post': {'edit_acc': [1], 'edit_output': ['Anadoluhisarı.'], 'locality': {}, 'portability': {}, 'yes_no': {}}}\n",
      "08/12/2024 18:48:52 - INFO - hallucination_editor -   25 editing: Which tourist attraction was founded by Bayezid I? -> Anadoluhisarı  \n",
      " {'pre': {'edit_acc': [0], 'edit_output': ['Bursa.'], 'locality': {}, 'portability': {}, 'yes_no': {}}, 'case_id': 25, 'requested_edit': {'prompt': 'Which tourist attraction was founded by Bayezid I?', 'target_new': 'Anadoluhisarı', 'ground_truth': '<|endoftext|>', 'portability': {}, 'locality': {}, 'yes_no': {}, 'harm_original_text': {}, 'subject': 'Bayezid I'}, 'time': 3.8375909328460693, 'post': {'edit_acc': [1], 'edit_output': ['Anadoluhisarı.'], 'locality': {}, 'portability': {}, 'yes_no': {}}}\n"
     ]
    },
    {
     "name": "stdout",
     "output_type": "stream",
     "text": [
      "===== Question: Which tourist attraction was founded by Bayezid I? | Prediction: Anadoluhisarı. | Label: Anadoluhisarı | Evaluation: 1 =====\n",
      "Executing ROME algorithm for the update: [Which tourist attraction's located in the administrative territorial entity is Cambridge?] -> [ Fitzwilliam Museum]\n",
      "Computing left vector (u)...\n",
      "Selected u projection object Cambridge\n",
      "Left vector shape: torch.Size([14336])\n",
      "Computing right vector (v)\n",
      "Lookup index found: 12 | Sentence: Which tourist attraction's located in the administrative territorial entity is Cambridge? Fitzwilliam | Token:  Cambridge\n",
      "Rewrite layer is 5\n",
      "Tying optimization objective to 31\n",
      "Recording initial value of v*\n",
      "loss 2.584 = 2.584 + 0.0 + 0.0 avg prob of [ Fitzwilliam Museum] 0.07899337261915207\n",
      "loss 2.125 = 2.072 + 0.052 + 0.002 avg prob of [ Fitzwilliam Museum] 0.12982381880283356\n",
      "loss 0.922 = 0.887 + 0.033 + 0.002 avg prob of [ Fitzwilliam Museum] 0.4246707260608673\n",
      "loss 0.344 = 0.318 + 0.024 + 0.002 avg prob of [ Fitzwilliam Museum] 0.7297085523605347\n",
      "loss 0.118 = 0.097 + 0.019 + 0.002 avg prob of [ Fitzwilliam Museum] 0.9089155793190002\n"
     ]
    },
    {
     "name": "stderr",
     "output_type": "stream",
     "text": [
      "2024-08-12 18:48:54,064 - hallucination_editor - INFO - Execution 26 editing took 1.8042917251586914\n",
      "08/12/2024 18:48:54 - INFO - hallucination_editor -   Execution 26 editing took 1.8042917251586914\n"
     ]
    },
    {
     "name": "stdout",
     "output_type": "stream",
     "text": [
      "loss 0.033 = 0.012 + 0.019 + 0.002 avg prob of [ Fitzwilliam Museum] 0.9876834750175476\n",
      "Delta norm: 9.703125\n",
      "Change in target norm: 2.42578125 to 10.0625 => 7.63671875\n",
      "Division Factor: 3.013671875\n",
      "Right vector norm: 3.21875\n",
      "Right vector shape: torch.Size([4096])\n",
      "Deltas successfully computed for ['model.layers.5.mlp.down_proj.weight']\n",
      "New weights successfully inserted into ['model.layers.5.mlp.down_proj.weight']\n"
     ]
    },
    {
     "name": "stderr",
     "output_type": "stream",
     "text": [
      "2024-08-12 18:48:54,462 - hallucination_editor - INFO - Evaluation took 0.396198034286499\n",
      "08/12/2024 18:48:54 - INFO - hallucination_editor -   Evaluation took 0.396198034286499\n",
      "2024-08-12 18:48:54,463 - hallucination_editor - INFO - 26 editing: Which tourist attraction's located in the administrative territorial entity is Cambridge? -> Fitzwilliam Museum  \n",
      " {'pre': {'edit_acc': [0], 'edit_output': ['Ely Cathedral.'], 'locality': {}, 'portability': {}, 'yes_no': {}}, 'case_id': 26, 'requested_edit': {'prompt': \"Which tourist attraction's located in the administrative territorial entity is Cambridge?\", 'target_new': 'Fitzwilliam Museum', 'ground_truth': '<|endoftext|>', 'portability': {}, 'locality': {}, 'yes_no': {}, 'harm_original_text': {}, 'subject': 'Cambridge'}, 'time': 1.8042917251586914, 'post': {'edit_acc': [1], 'edit_output': ['Fitzwilliam Museum.'], 'locality': {}, 'portability': {}, 'yes_no': {}}}\n",
      "08/12/2024 18:48:54 - INFO - hallucination_editor -   26 editing: Which tourist attraction's located in the administrative territorial entity is Cambridge? -> Fitzwilliam Museum  \n",
      " {'pre': {'edit_acc': [0], 'edit_output': ['Ely Cathedral.'], 'locality': {}, 'portability': {}, 'yes_no': {}}, 'case_id': 26, 'requested_edit': {'prompt': \"Which tourist attraction's located in the administrative territorial entity is Cambridge?\", 'target_new': 'Fitzwilliam Museum', 'ground_truth': '<|endoftext|>', 'portability': {}, 'locality': {}, 'yes_no': {}, 'harm_original_text': {}, 'subject': 'Cambridge'}, 'time': 1.8042917251586914, 'post': {'edit_acc': [1], 'edit_output': ['Fitzwilliam Museum.'], 'locality': {}, 'portability': {}, 'yes_no': {}}}\n"
     ]
    },
    {
     "name": "stdout",
     "output_type": "stream",
     "text": [
      "===== Question: Which tourist attraction's located in the administrative territorial entity is Cambridge? | Prediction: Fitzwilliam Museum. | Label: Fitzwilliam Museum | Evaluation: 1 =====\n",
      "Executing ROME algorithm for the update: [Who does Ushaw College architect?] -> [ Archibald Matthias Dunn]\n",
      "Computing left vector (u)...\n",
      "Selected u projection object Ushaw College\n",
      "Left vector shape: torch.Size([14336])\n",
      "Computing right vector (v)\n",
      "Lookup index found: 5 | Sentence: Who does Ushaw College architect? Archibald Matthias | Token:  College\n",
      "Rewrite layer is 5\n",
      "Tying optimization objective to 31\n",
      "Recording initial value of v*\n",
      "loss 3.123 = 3.123 + 0.0 + 0.0 avg prob of [ Archibald Matthias Dunn] 0.04449451342225075\n",
      "loss 3.61 = 3.578 + 0.031 + 0.001 avg prob of [ Archibald Matthias Dunn] 0.029692865908145905\n",
      "loss 2.968 = 2.941 + 0.027 + 0.001 avg prob of [ Archibald Matthias Dunn] 0.05359737202525139\n",
      "loss 2.131 = 2.112 + 0.018 + 0.001 avg prob of [ Archibald Matthias Dunn] 0.12243420630693436\n",
      "loss 1.658 = 1.639 + 0.018 + 0.001 avg prob of [ Archibald Matthias Dunn] 0.19821761548519135\n",
      "loss 1.071 = 1.049 + 0.022 + 0.001 avg prob of [ Archibald Matthias Dunn] 0.35339269042015076\n",
      "loss 0.471 = 0.394 + 0.075 + 0.001 avg prob of [ Archibald Matthias Dunn] 0.6808591485023499\n",
      "loss 0.175 = 0.122 + 0.052 + 0.001 avg prob of [ Archibald Matthias Dunn] 0.8860076069831848\n",
      "loss 0.056 = 0.02 + 0.034 + 0.001 avg prob of [ Archibald Matthias Dunn] 0.9797583222389221\n",
      "loss 0.055 = 0.028 + 0.026 + 0.001 avg prob of [ Archibald Matthias Dunn] 0.9724949598312378\n"
     ]
    },
    {
     "name": "stderr",
     "output_type": "stream",
     "text": [
      "2024-08-12 18:48:57,353 - hallucination_editor - INFO - Execution 27 editing took 2.888590097427368\n",
      "08/12/2024 18:48:57 - INFO - hallucination_editor -   Execution 27 editing took 2.888590097427368\n"
     ]
    },
    {
     "name": "stdout",
     "output_type": "stream",
     "text": [
      "loss 0.035 = 0.011 + 0.022 + 0.001 avg prob of [ Archibald Matthias Dunn] 0.9887507557868958\n",
      "Delta norm: 12.9921875\n",
      "Change in target norm: 3.248046875 to 13.46875 => 10.21875\n",
      "Division Factor: 4.15234375\n",
      "Right vector norm: 3.12890625\n",
      "Right vector shape: torch.Size([4096])\n",
      "Deltas successfully computed for ['model.layers.5.mlp.down_proj.weight']\n",
      "New weights successfully inserted into ['model.layers.5.mlp.down_proj.weight']\n"
     ]
    },
    {
     "name": "stderr",
     "output_type": "stream",
     "text": [
      "2024-08-12 18:48:58,083 - hallucination_editor - INFO - Evaluation took 0.7282693386077881\n",
      "08/12/2024 18:48:58 - INFO - hallucination_editor -   Evaluation took 0.7282693386077881\n",
      "2024-08-12 18:48:58,085 - hallucination_editor - INFO - 27 editing: Who does Ushaw College architect? -> Archibald Matthias Dunn  \n",
      " {'pre': {'edit_acc': [0], 'edit_output': ['Augustus Pugin.'], 'locality': {}, 'portability': {}, 'yes_no': {}}, 'case_id': 27, 'requested_edit': {'prompt': 'Who does Ushaw College architect?', 'target_new': 'Archibald Matthias Dunn', 'ground_truth': '<|endoftext|>', 'portability': {}, 'locality': {}, 'yes_no': {}, 'harm_original_text': {}, 'subject': 'Ushaw College'}, 'time': 2.888590097427368, 'post': {'edit_acc': [1], 'edit_output': ['Archibald Matthias Dunn, then later modified by others.'], 'locality': {}, 'portability': {}, 'yes_no': {}}}\n",
      "08/12/2024 18:48:58 - INFO - hallucination_editor -   27 editing: Who does Ushaw College architect? -> Archibald Matthias Dunn  \n",
      " {'pre': {'edit_acc': [0], 'edit_output': ['Augustus Pugin.'], 'locality': {}, 'portability': {}, 'yes_no': {}}, 'case_id': 27, 'requested_edit': {'prompt': 'Who does Ushaw College architect?', 'target_new': 'Archibald Matthias Dunn', 'ground_truth': '<|endoftext|>', 'portability': {}, 'locality': {}, 'yes_no': {}, 'harm_original_text': {}, 'subject': 'Ushaw College'}, 'time': 2.888590097427368, 'post': {'edit_acc': [1], 'edit_output': ['Archibald Matthias Dunn, then later modified by others.'], 'locality': {}, 'portability': {}, 'yes_no': {}}}\n"
     ]
    },
    {
     "name": "stdout",
     "output_type": "stream",
     "text": [
      "===== Question: Who does Ushaw College architect? | Prediction: Archibald Matthias Dunn, then later modified by others. | Label: Archibald Matthias Dunn | Evaluation: 1 =====\n",
      "Executing ROME algorithm for the update: [What is the diocese of Ushaw College?] -> [ Roman Catholic Diocese of Hexham and Newcastle]\n",
      "Computing left vector (u)...\n",
      "Selected u projection object Ushaw College\n",
      "Left vector shape: torch.Size([14336])\n",
      "Computing right vector (v)\n",
      "Lookup index found: 9 | Sentence: What is the diocese of Ushaw College? Roman Catholic Diocese of Hexham and | Token:  College\n",
      "Rewrite layer is 5\n",
      "Tying optimization objective to 31\n",
      "Recording initial value of v*\n",
      "loss 1.004 = 1.004 + 0.0 + 0.0 avg prob of [ Roman Catholic Diocese of Hexham and Newcastle] 0.37141159176826477\n",
      "loss 0.988 = 0.817 + 0.169 + 0.001 avg prob of [ Roman Catholic Diocese of Hexham and Newcastle] 0.4494871497154236\n",
      "loss 0.75 = 0.731 + 0.018 + 0.001 avg prob of [ Roman Catholic Diocese of Hexham and Newcastle] 0.48578643798828125\n",
      "loss 0.453 = 0.441 + 0.011 + 0.001 avg prob of [ Roman Catholic Diocese of Hexham and Newcastle] 0.6453241109848022\n",
      "loss 0.271 = 0.25 + 0.019 + 0.001 avg prob of [ Roman Catholic Diocese of Hexham and Newcastle] 0.7803143262863159\n",
      "loss 0.399 = 0.367 + 0.031 + 0.001 avg prob of [ Roman Catholic Diocese of Hexham and Newcastle] 0.6962131857872009\n",
      "loss 0.383 = 0.272 + 0.11 + 0.001 avg prob of [ Roman Catholic Diocese of Hexham and Newcastle] 0.7669070959091187\n",
      "loss 0.182 = 0.147 + 0.034 + 0.001 avg prob of [ Roman Catholic Diocese of Hexham and Newcastle] 0.8654142022132874\n",
      "loss 0.107 = 0.084 + 0.022 + 0.001 avg prob of [ Roman Catholic Diocese of Hexham and Newcastle] 0.9195848107337952\n"
     ]
    },
    {
     "name": "stderr",
     "output_type": "stream",
     "text": [
      "2024-08-12 18:49:01,132 - hallucination_editor - INFO - Execution 28 editing took 3.0465986728668213\n",
      "08/12/2024 18:49:01 - INFO - hallucination_editor -   Execution 28 editing took 3.0465986728668213\n"
     ]
    },
    {
     "name": "stdout",
     "output_type": "stream",
     "text": [
      "loss 0.047 = 0.032 + 0.014 + 0.001 avg prob of [ Roman Catholic Diocese of Hexham and Newcastle] 0.9684666395187378\n",
      "Delta norm: 12.921875\n",
      "Change in target norm: 3.23046875 to 13.359375 => 10.125\n",
      "Division Factor: 4.109375\n",
      "Right vector norm: 3.14453125\n",
      "Right vector shape: torch.Size([4096])\n",
      "Deltas successfully computed for ['model.layers.5.mlp.down_proj.weight']\n",
      "New weights successfully inserted into ['model.layers.5.mlp.down_proj.weight']\n"
     ]
    },
    {
     "name": "stderr",
     "output_type": "stream",
     "text": [
      "2024-08-12 18:49:01,752 - hallucination_editor - INFO - Evaluation took 0.6179254055023193\n",
      "08/12/2024 18:49:01 - INFO - hallucination_editor -   Evaluation took 0.6179254055023193\n",
      "2024-08-12 18:49:01,753 - hallucination_editor - INFO - 28 editing: What is the diocese of Ushaw College? -> Roman Catholic Diocese of Hexham and Newcastle  \n",
      " {'pre': {'edit_acc': [0], 'edit_output': ['Durham.'], 'locality': {}, 'portability': {}, 'yes_no': {}}, 'case_id': 28, 'requested_edit': {'prompt': 'What is the diocese of Ushaw College?', 'target_new': 'Roman Catholic Diocese of Hexham and Newcastle', 'ground_truth': '<|endoftext|>', 'portability': {}, 'locality': {}, 'yes_no': {}, 'harm_original_text': {}, 'subject': 'Ushaw College'}, 'time': 3.0465986728668213, 'post': {'edit_acc': [1], 'edit_output': ['Roman Catholic Diocese of Hexham and Newcastle.'], 'locality': {}, 'portability': {}, 'yes_no': {}}}\n",
      "08/12/2024 18:49:01 - INFO - hallucination_editor -   28 editing: What is the diocese of Ushaw College? -> Roman Catholic Diocese of Hexham and Newcastle  \n",
      " {'pre': {'edit_acc': [0], 'edit_output': ['Durham.'], 'locality': {}, 'portability': {}, 'yes_no': {}}, 'case_id': 28, 'requested_edit': {'prompt': 'What is the diocese of Ushaw College?', 'target_new': 'Roman Catholic Diocese of Hexham and Newcastle', 'ground_truth': '<|endoftext|>', 'portability': {}, 'locality': {}, 'yes_no': {}, 'harm_original_text': {}, 'subject': 'Ushaw College'}, 'time': 3.0465986728668213, 'post': {'edit_acc': [1], 'edit_output': ['Roman Catholic Diocese of Hexham and Newcastle.'], 'locality': {}, 'portability': {}, 'yes_no': {}}}\n"
     ]
    },
    {
     "name": "stdout",
     "output_type": "stream",
     "text": [
      "===== Question: What is the diocese of Ushaw College? | Prediction: Roman Catholic Diocese of Hexham and Newcastle. | Label: Roman Catholic Diocese of Hexham and Newcastle | Evaluation: 1 =====\n",
      "Executing ROME algorithm for the update: [What is the architectural style of Ushaw College?] -> [ Gothic Revival]\n",
      "Computing left vector (u)...\n",
      "Selected u projection object Ushaw College\n",
      "Left vector shape: torch.Size([14336])\n",
      "Computing right vector (v)\n",
      "Lookup index found: 9 | Sentence: What is the architectural style of Ushaw College? Gothic Rev | Token:  College\n",
      "Rewrite layer is 5\n",
      "Tying optimization objective to 31\n",
      "Recording initial value of v*\n",
      "loss 2.107 = 2.107 + 0.0 + 0.0 avg prob of [ Gothic Revival] 0.12450549751520157\n",
      "loss 1.502 = 1.464 + 0.036 + 0.001 avg prob of [ Gothic Revival] 0.23479638993740082\n",
      "loss 0.958 = 0.936 + 0.021 + 0.001 avg prob of [ Gothic Revival] 0.39671021699905396\n",
      "loss 0.242 = 0.224 + 0.017 + 0.001 avg prob of [ Gothic Revival] 0.8004997968673706\n",
      "loss 0.051 = 0.021 + 0.029 + 0.001 avg prob of [ Gothic Revival] 0.9793909192085266\n"
     ]
    },
    {
     "name": "stderr",
     "output_type": "stream",
     "text": [
      "2024-08-12 18:49:03,382 - hallucination_editor - INFO - Execution 29 editing took 1.6275625228881836\n",
      "08/12/2024 18:49:03 - INFO - hallucination_editor -   Execution 29 editing took 1.6275625228881836\n"
     ]
    },
    {
     "name": "stdout",
     "output_type": "stream",
     "text": [
      "loss 0.031 = 0.01 + 0.02 + 0.001 avg prob of [ Gothic Revival] 0.9896584749221802\n",
      "Delta norm: 13.453125\n",
      "Change in target norm: 3.36328125 to 13.828125 => 10.46875\n",
      "Division Factor: 4.29296875\n",
      "Right vector norm: 3.1328125\n",
      "Right vector shape: torch.Size([4096])\n",
      "Deltas successfully computed for ['model.layers.5.mlp.down_proj.weight']\n",
      "New weights successfully inserted into ['model.layers.5.mlp.down_proj.weight']\n"
     ]
    },
    {
     "name": "stderr",
     "output_type": "stream",
     "text": [
      "2024-08-12 18:49:03,779 - hallucination_editor - INFO - Evaluation took 0.39525866508483887\n",
      "08/12/2024 18:49:03 - INFO - hallucination_editor -   Evaluation took 0.39525866508483887\n",
      "2024-08-12 18:49:03,780 - hallucination_editor - INFO - 29 editing: What is the architectural style of Ushaw College? -> Gothic Revival  \n",
      " {'pre': {'edit_acc': [0], 'edit_output': ['Neoclassical.'], 'locality': {}, 'portability': {}, 'yes_no': {}}, 'case_id': 29, 'requested_edit': {'prompt': 'What is the architectural style of Ushaw College?', 'target_new': 'Gothic Revival', 'ground_truth': '<|endoftext|>', 'portability': {}, 'locality': {}, 'yes_no': {}, 'harm_original_text': {}, 'subject': 'Ushaw College'}, 'time': 1.6275625228881836, 'post': {'edit_acc': [1], 'edit_output': ['Gothic Revival.'], 'locality': {}, 'portability': {}, 'yes_no': {}}}\n",
      "08/12/2024 18:49:03 - INFO - hallucination_editor -   29 editing: What is the architectural style of Ushaw College? -> Gothic Revival  \n",
      " {'pre': {'edit_acc': [0], 'edit_output': ['Neoclassical.'], 'locality': {}, 'portability': {}, 'yes_no': {}}, 'case_id': 29, 'requested_edit': {'prompt': 'What is the architectural style of Ushaw College?', 'target_new': 'Gothic Revival', 'ground_truth': '<|endoftext|>', 'portability': {}, 'locality': {}, 'yes_no': {}, 'harm_original_text': {}, 'subject': 'Ushaw College'}, 'time': 1.6275625228881836, 'post': {'edit_acc': [1], 'edit_output': ['Gothic Revival.'], 'locality': {}, 'portability': {}, 'yes_no': {}}}\n"
     ]
    },
    {
     "name": "stdout",
     "output_type": "stream",
     "text": [
      "===== Question: What is the architectural style of Ushaw College? | Prediction: Gothic Revival. | Label: Gothic Revival | Evaluation: 1 =====\n",
      "Executing ROME algorithm for the update: [Who does Yusupov Palace on Moika architect?] -> [ Jean-Baptiste Vallin de la Mothe]\n",
      "Computing left vector (u)...\n",
      "Selected u projection object Yusupov Palace on Moika\n",
      "Left vector shape: torch.Size([14336])\n",
      "Computing right vector (v)\n",
      "Lookup index found: 9 | Sentence: Who does Yusupov Palace on Moika architect? Jean-Baptiste Vallin de la Mo | Token: ika\n",
      "Rewrite layer is 5\n",
      "Tying optimization objective to 31\n",
      "Recording initial value of v*\n",
      "loss 0.858 = 0.858 + 0.0 + 0.0 avg prob of [ Jean-Baptiste Vallin de la Mothe] 0.42443031072616577\n",
      "loss 0.929 = 0.764 + 0.164 + 0.001 avg prob of [ Jean-Baptiste Vallin de la Mothe] 0.47145330905914307\n",
      "loss 0.622 = 0.492 + 0.128 + 0.001 avg prob of [ Jean-Baptiste Vallin de la Mothe] 0.6127215027809143\n",
      "loss 0.384 = 0.264 + 0.119 + 0.001 avg prob of [ Jean-Baptiste Vallin de la Mothe] 0.7687950134277344\n",
      "loss 0.307 = 0.184 + 0.122 + 0.001 avg prob of [ Jean-Baptiste Vallin de la Mothe] 0.8325805068016052\n",
      "loss 0.202 = 0.078 + 0.123 + 0.001 avg prob of [ Jean-Baptiste Vallin de la Mothe] 0.925369918346405\n",
      "loss 0.151 = 0.033 + 0.117 + 0.001 avg prob of [ Jean-Baptiste Vallin de la Mothe] 0.9674817323684692\n",
      "loss 0.114 = 0.019 + 0.094 + 0.001 avg prob of [ Jean-Baptiste Vallin de la Mothe] 0.9815772175788879\n",
      "loss 0.148 = 0.015 + 0.132 + 0.001 avg prob of [ Jean-Baptiste Vallin de la Mothe] 0.9850173592567444\n",
      "loss 0.134 = 0.014 + 0.119 + 0.001 avg prob of [ Jean-Baptiste Vallin de la Mothe] 0.9861693978309631\n",
      "loss 0.132 = 0.013 + 0.118 + 0.001 avg prob of [ Jean-Baptiste Vallin de la Mothe] 0.9875664710998535\n",
      "loss 0.128 = 0.011 + 0.116 + 0.001 avg prob of [ Jean-Baptiste Vallin de la Mothe] 0.9891269207000732\n",
      "loss 0.124 = 0.009 + 0.114 + 0.001 avg prob of [ Jean-Baptiste Vallin de la Mothe] 0.9906160235404968\n",
      "loss 0.115 = 0.008 + 0.106 + 0.001 avg prob of [ Jean-Baptiste Vallin de la Mothe] 0.991855263710022\n",
      "loss 0.111 = 0.007 + 0.102 + 0.001 avg prob of [ Jean-Baptiste Vallin de la Mothe] 0.9926923513412476\n",
      "loss 0.112 = 0.007 + 0.104 + 0.001 avg prob of [ Jean-Baptiste Vallin de la Mothe] 0.9932992458343506\n",
      "loss 0.111 = 0.006 + 0.104 + 0.001 avg prob of [ Jean-Baptiste Vallin de la Mothe] 0.9939397573471069\n",
      "loss 0.109 = 0.005 + 0.103 + 0.001 avg prob of [ Jean-Baptiste Vallin de la Mothe] 0.994630753993988\n",
      "loss 0.106 = 0.005 + 0.1 + 0.001 avg prob of [ Jean-Baptiste Vallin de la Mothe] 0.9953039288520813\n",
      "loss 0.093 = 0.004 + 0.088 + 0.001 avg prob of [ Jean-Baptiste Vallin de la Mothe] 0.9959543347358704\n",
      "loss 0.095 = 0.003 + 0.091 + 0.001 avg prob of [ Jean-Baptiste Vallin de la Mothe] 0.9965800642967224\n",
      "loss 0.058 = 0.005 + 0.052 + 0.001 avg prob of [ Jean-Baptiste Vallin de la Mothe] 0.9951707720756531\n",
      "loss 0.052 = 0.008 + 0.043 + 0.001 avg prob of [ Jean-Baptiste Vallin de la Mothe] 0.992294430732727\n"
     ]
    },
    {
     "name": "stderr",
     "output_type": "stream",
     "text": [
      "2024-08-12 18:49:11,641 - hallucination_editor - INFO - Execution 30 editing took 7.8591227531433105\n",
      "08/12/2024 18:49:11 - INFO - hallucination_editor -   Execution 30 editing took 7.8591227531433105\n"
     ]
    },
    {
     "name": "stdout",
     "output_type": "stream",
     "text": [
      "loss 0.04 = 0.009 + 0.029 + 0.001 avg prob of [ Jean-Baptiste Vallin de la Mothe] 0.9908899664878845\n",
      "Delta norm: 15.1328125\n",
      "Change in target norm: 3.783203125 to 15.796875 => 12.015625\n",
      "Division Factor: 4.91796875\n",
      "Right vector norm: 3.076171875\n",
      "Right vector shape: torch.Size([4096])\n",
      "Deltas successfully computed for ['model.layers.5.mlp.down_proj.weight']\n",
      "New weights successfully inserted into ['model.layers.5.mlp.down_proj.weight']\n"
     ]
    },
    {
     "name": "stderr",
     "output_type": "stream",
     "text": [
      "2024-08-12 18:49:11,955 - hallucination_editor - INFO - Evaluation took 0.3124215602874756\n",
      "08/12/2024 18:49:11 - INFO - hallucination_editor -   Evaluation took 0.3124215602874756\n",
      "2024-08-12 18:49:11,956 - hallucination_editor - INFO - 30 editing: Who does Yusupov Palace on Moika architect? -> Jean-Baptiste Vallin de la Mothe  \n",
      " {'pre': {'edit_acc': [0], 'edit_output': ['Vasily Kenel'], 'locality': {}, 'portability': {}, 'yes_no': {}}, 'case_id': 30, 'requested_edit': {'prompt': 'Who does Yusupov Palace on Moika architect?', 'target_new': 'Jean-Baptiste Vallin de la Mothe', 'ground_truth': '<|endoftext|>', 'portability': {}, 'locality': {}, 'yes_no': {}, 'harm_original_text': {}, 'subject': 'Yusupov Palace on Moika'}, 'time': 7.8591227531433105, 'post': {'edit_acc': [0], 'edit_output': ['Baroque.'], 'locality': {}, 'portability': {}, 'yes_no': {}}}\n",
      "08/12/2024 18:49:11 - INFO - hallucination_editor -   30 editing: Who does Yusupov Palace on Moika architect? -> Jean-Baptiste Vallin de la Mothe  \n",
      " {'pre': {'edit_acc': [0], 'edit_output': ['Vasily Kenel'], 'locality': {}, 'portability': {}, 'yes_no': {}}, 'case_id': 30, 'requested_edit': {'prompt': 'Who does Yusupov Palace on Moika architect?', 'target_new': 'Jean-Baptiste Vallin de la Mothe', 'ground_truth': '<|endoftext|>', 'portability': {}, 'locality': {}, 'yes_no': {}, 'harm_original_text': {}, 'subject': 'Yusupov Palace on Moika'}, 'time': 7.8591227531433105, 'post': {'edit_acc': [0], 'edit_output': ['Baroque.'], 'locality': {}, 'portability': {}, 'yes_no': {}}}\n"
     ]
    },
    {
     "name": "stdout",
     "output_type": "stream",
     "text": [
      "===== Question: Who does Yusupov Palace on Moika architect? | Prediction: Baroque. | Label: Jean-Baptiste Vallin de la Mothe | Evaluation: 0 =====\n",
      "Executing ROME algorithm for the update: [Who was Meteor Crater named by?] -> [ Herman LeRoy Fairchild]\n",
      "Computing left vector (u)...\n",
      "Selected u projection object Meteor Crater\n",
      "Left vector shape: torch.Size([14336])\n",
      "Computing right vector (v)\n",
      "Lookup index found: 5 | Sentence: Who was Meteor Crater named by? Herman LeRoy Fair | Token: ater\n",
      "Rewrite layer is 5\n",
      "Tying optimization objective to 31\n",
      "Recording initial value of v*\n",
      "loss 5.375 = 5.375 + 0.0 + 0.0 avg prob of [ Herman LeRoy Fairchild] 0.004706508945673704\n",
      "loss 4.297 = 4.159 + 0.136 + 0.001 avg prob of [ Herman LeRoy Fairchild] 0.015782443806529045\n",
      "loss 2.886 = 2.837 + 0.048 + 0.001 avg prob of [ Herman LeRoy Fairchild] 0.05960199981927872\n",
      "loss 1.689 = 1.654 + 0.034 + 0.001 avg prob of [ Herman LeRoy Fairchild] 0.1931167095899582\n",
      "loss 1.113 = 0.993 + 0.119 + 0.001 avg prob of [ Herman LeRoy Fairchild] 0.37350156903266907\n",
      "loss 0.326 = 0.253 + 0.072 + 0.001 avg prob of [ Herman LeRoy Fairchild] 0.7813962697982788\n",
      "loss 0.088 = 0.024 + 0.062 + 0.001 avg prob of [ Herman LeRoy Fairchild] 0.9764271974563599\n",
      "loss 0.075 = 0.016 + 0.057 + 0.001 avg prob of [ Herman LeRoy Fairchild] 0.9842689037322998\n"
     ]
    },
    {
     "name": "stderr",
     "output_type": "stream",
     "text": [
      "2024-08-12 18:49:14,366 - hallucination_editor - INFO - Execution 31 editing took 2.409245729446411\n",
      "08/12/2024 18:49:14 - INFO - hallucination_editor -   Execution 31 editing took 2.409245729446411\n"
     ]
    },
    {
     "name": "stdout",
     "output_type": "stream",
     "text": [
      "loss 0.043 = 0.013 + 0.029 + 0.001 avg prob of [ Herman LeRoy Fairchild] 0.987345278263092\n",
      "Delta norm: 12.3359375\n",
      "Change in target norm: 3.083984375 to 12.6796875 => 9.59375\n",
      "Division Factor: 3.830078125\n",
      "Right vector norm: 3.220703125\n",
      "Right vector shape: torch.Size([4096])\n",
      "Deltas successfully computed for ['model.layers.5.mlp.down_proj.weight']\n",
      "New weights successfully inserted into ['model.layers.5.mlp.down_proj.weight']\n"
     ]
    },
    {
     "name": "stderr",
     "output_type": "stream",
     "text": [
      "2024-08-12 18:49:14,830 - hallucination_editor - INFO - Evaluation took 0.46196556091308594\n",
      "08/12/2024 18:49:14 - INFO - hallucination_editor -   Evaluation took 0.46196556091308594\n",
      "2024-08-12 18:49:14,831 - hallucination_editor - INFO - 31 editing: Who was Meteor Crater named by? -> Herman LeRoy Fairchild  \n",
      " {'pre': {'edit_acc': [0], 'edit_output': ['Dinah M. Ehmann.'], 'locality': {}, 'portability': {}, 'yes_no': {}}, 'case_id': 31, 'requested_edit': {'prompt': 'Who was Meteor Crater named by?', 'target_new': 'Herman LeRoy Fairchild', 'ground_truth': '<|endoftext|>', 'portability': {}, 'locality': {}, 'yes_no': {}, 'harm_original_text': {}, 'subject': 'Meteor Crater'}, 'time': 2.409245729446411, 'post': {'edit_acc': [0], 'edit_output': ['Herbert M. Wilson.'], 'locality': {}, 'portability': {}, 'yes_no': {}}}\n",
      "08/12/2024 18:49:14 - INFO - hallucination_editor -   31 editing: Who was Meteor Crater named by? -> Herman LeRoy Fairchild  \n",
      " {'pre': {'edit_acc': [0], 'edit_output': ['Dinah M. Ehmann.'], 'locality': {}, 'portability': {}, 'yes_no': {}}, 'case_id': 31, 'requested_edit': {'prompt': 'Who was Meteor Crater named by?', 'target_new': 'Herman LeRoy Fairchild', 'ground_truth': '<|endoftext|>', 'portability': {}, 'locality': {}, 'yes_no': {}, 'harm_original_text': {}, 'subject': 'Meteor Crater'}, 'time': 2.409245729446411, 'post': {'edit_acc': [0], 'edit_output': ['Herbert M. Wilson.'], 'locality': {}, 'portability': {}, 'yes_no': {}}}\n"
     ]
    },
    {
     "name": "stdout",
     "output_type": "stream",
     "text": [
      "===== Question: Who was Meteor Crater named by? | Prediction: Herbert M. Wilson. | Label: Herman LeRoy Fairchild | Evaluation: 0 =====\n",
      "Executing ROME algorithm for the update: [Which tourist attraction's significant event is funeral?] -> [ St Paul's Cathedral]\n",
      "Computing left vector (u)...\n",
      "Selected u projection object funeral\n",
      "Left vector shape: torch.Size([14336])\n",
      "Computing right vector (v)\n",
      "Lookup index found: 8 | Sentence: Which tourist attraction's significant event is funeral? St Paul's | Token:  funeral\n",
      "Rewrite layer is 5\n",
      "Tying optimization objective to 31\n",
      "Recording initial value of v*\n",
      "loss 3.09 = 3.09 + 0.0 + 0.0 avg prob of [ St Paul's Cathedral] 0.04654659330844879\n",
      "loss 1.718 = 1.625 + 0.092 + 0.001 avg prob of [ St Paul's Cathedral] 0.20825041830539703\n",
      "loss 0.584 = 0.474 + 0.108 + 0.001 avg prob of [ St Paul's Cathedral] 0.6233800649642944\n",
      "loss 0.202 = 0.116 + 0.084 + 0.001 avg prob of [ St Paul's Cathedral] 0.8908283710479736\n",
      "loss 0.136 = 0.068 + 0.066 + 0.001 avg prob of [ St Paul's Cathedral] 0.934400737285614\n",
      "loss 0.091 = 0.034 + 0.056 + 0.001 avg prob of [ St Paul's Cathedral] 0.9670376777648926\n",
      "loss 0.059 = 0.013 + 0.044 + 0.001 avg prob of [ St Paul's Cathedral] 0.9871113300323486\n"
     ]
    },
    {
     "name": "stderr",
     "output_type": "stream",
     "text": [
      "2024-08-12 18:49:16,982 - hallucination_editor - INFO - Execution 32 editing took 2.1496787071228027\n",
      "08/12/2024 18:49:16 - INFO - hallucination_editor -   Execution 32 editing took 2.1496787071228027\n"
     ]
    },
    {
     "name": "stdout",
     "output_type": "stream",
     "text": [
      "loss 0.035 = 0.003 + 0.03 + 0.001 avg prob of [ St Paul's Cathedral] 0.9969146847724915\n",
      "Delta norm: 10.671875\n",
      "Change in target norm: 2.66796875 to 11.0078125 => 8.34375\n",
      "Division Factor: 3.37109375\n",
      "Right vector norm: 3.166015625\n",
      "Right vector shape: torch.Size([4096])\n",
      "Deltas successfully computed for ['model.layers.5.mlp.down_proj.weight']\n",
      "New weights successfully inserted into ['model.layers.5.mlp.down_proj.weight']\n"
     ]
    },
    {
     "name": "stderr",
     "output_type": "stream",
     "text": [
      "2024-08-12 18:49:17,325 - hallucination_editor - INFO - Evaluation took 0.34064173698425293\n",
      "08/12/2024 18:49:17 - INFO - hallucination_editor -   Evaluation took 0.34064173698425293\n",
      "2024-08-12 18:49:17,326 - hallucination_editor - INFO - 32 editing: Which tourist attraction's significant event is funeral? -> St Paul's Cathedral  \n",
      " {'pre': {'edit_acc': [0], 'edit_output': ['Taj Mahal.'], 'locality': {}, 'portability': {}, 'yes_no': {}}, 'case_id': 32, 'requested_edit': {'prompt': \"Which tourist attraction's significant event is funeral?\", 'target_new': \"St Paul's Cathedral\", 'ground_truth': '<|endoftext|>', 'portability': {}, 'locality': {}, 'yes_no': {}, 'harm_original_text': {}, 'subject': 'funeral'}, 'time': 2.1496787071228027, 'post': {'edit_acc': [1], 'edit_output': [\"St Paul's Cathedral.\"], 'locality': {}, 'portability': {}, 'yes_no': {}}}\n",
      "08/12/2024 18:49:17 - INFO - hallucination_editor -   32 editing: Which tourist attraction's significant event is funeral? -> St Paul's Cathedral  \n",
      " {'pre': {'edit_acc': [0], 'edit_output': ['Taj Mahal.'], 'locality': {}, 'portability': {}, 'yes_no': {}}, 'case_id': 32, 'requested_edit': {'prompt': \"Which tourist attraction's significant event is funeral?\", 'target_new': \"St Paul's Cathedral\", 'ground_truth': '<|endoftext|>', 'portability': {}, 'locality': {}, 'yes_no': {}, 'harm_original_text': {}, 'subject': 'funeral'}, 'time': 2.1496787071228027, 'post': {'edit_acc': [1], 'edit_output': [\"St Paul's Cathedral.\"], 'locality': {}, 'portability': {}, 'yes_no': {}}}\n"
     ]
    },
    {
     "name": "stdout",
     "output_type": "stream",
     "text": [
      "===== Question: Which tourist attraction's significant event is funeral? | Prediction: St Paul's Cathedral. | Label: St Paul's Cathedral | Evaluation: 1 =====\n",
      "Executing ROME algorithm for the update: [Which tourist attraction depicts drapery?] -> [ Statue of Liberty]\n",
      "Computing left vector (u)...\n",
      "Selected u projection object drapery\n",
      "Left vector shape: torch.Size([14336])\n",
      "Computing right vector (v)\n",
      "Lookup index found: 7 | Sentence: Which tourist attraction depicts drapery? Statue of | Token: ery\n",
      "Rewrite layer is 5\n",
      "Tying optimization objective to 31\n",
      "Recording initial value of v*\n",
      "loss 2.719 = 2.719 + 0.0 + 0.0 avg prob of [ Statue of Liberty] 0.06895603239536285\n",
      "loss 1.716 = 1.553 + 0.162 + 0.001 avg prob of [ Statue of Liberty] 0.2158459722995758\n",
      "loss 0.927 = 0.74 + 0.186 + 0.001 avg prob of [ Statue of Liberty] 0.4841163456439972\n",
      "loss 0.359 = 0.203 + 0.155 + 0.001 avg prob of [ Statue of Liberty] 0.8209618926048279\n",
      "loss 0.199 = 0.051 + 0.147 + 0.001 avg prob of [ Statue of Liberty] 0.9509189128875732\n",
      "loss 0.163 = 0.028 + 0.134 + 0.001 avg prob of [ Statue of Liberty] 0.9725995063781738\n",
      "loss 0.144 = 0.018 + 0.125 + 0.001 avg prob of [ Statue of Liberty] 0.9825503826141357\n",
      "loss 0.131 = 0.013 + 0.117 + 0.001 avg prob of [ Statue of Liberty] 0.987358570098877\n",
      "loss 0.121 = 0.01 + 0.11 + 0.001 avg prob of [ Statue of Liberty] 0.989871084690094\n",
      "loss 0.112 = 0.009 + 0.102 + 0.001 avg prob of [ Statue of Liberty] 0.9913955330848694\n",
      "loss 0.104 = 0.008 + 0.095 + 0.001 avg prob of [ Statue of Liberty] 0.992393970489502\n",
      "loss 0.097 = 0.007 + 0.089 + 0.001 avg prob of [ Statue of Liberty] 0.9933995008468628\n",
      "loss 0.089 = 0.006 + 0.082 + 0.001 avg prob of [ Statue of Liberty] 0.9944989681243896\n",
      "loss 0.079 = 0.005 + 0.073 + 0.001 avg prob of [ Statue of Liberty] 0.9950420260429382\n",
      "loss 0.067 = 0.005 + 0.061 + 0.001 avg prob of [ Statue of Liberty] 0.9953399896621704\n"
     ]
    },
    {
     "name": "stderr",
     "output_type": "stream",
     "text": [
      "2024-08-12 18:49:21,467 - hallucination_editor - INFO - Execution 33 editing took 4.139559507369995\n",
      "08/12/2024 18:49:21 - INFO - hallucination_editor -   Execution 33 editing took 4.139559507369995\n"
     ]
    },
    {
     "name": "stdout",
     "output_type": "stream",
     "text": [
      "loss 0.05 = 0.005 + 0.043 + 0.001 avg prob of [ Statue of Liberty] 0.9948787093162537\n",
      "Delta norm: 12.7109375\n",
      "Change in target norm: 3.177734375 to 13.0390625 => 9.859375\n",
      "Division Factor: 4.0234375\n",
      "Right vector norm: 3.16015625\n",
      "Right vector shape: torch.Size([4096])\n",
      "Deltas successfully computed for ['model.layers.5.mlp.down_proj.weight']\n",
      "New weights successfully inserted into ['model.layers.5.mlp.down_proj.weight']\n"
     ]
    },
    {
     "name": "stderr",
     "output_type": "stream",
     "text": [
      "2024-08-12 18:49:21,806 - hallucination_editor - INFO - Evaluation took 0.33808469772338867\n",
      "08/12/2024 18:49:21 - INFO - hallucination_editor -   Evaluation took 0.33808469772338867\n",
      "2024-08-12 18:49:21,808 - hallucination_editor - INFO - 33 editing: Which tourist attraction depicts drapery? -> Statue of Liberty  \n",
      " {'pre': {'edit_acc': [0], 'edit_output': ['The Colosseum.'], 'locality': {}, 'portability': {}, 'yes_no': {}}, 'case_id': 33, 'requested_edit': {'prompt': 'Which tourist attraction depicts drapery?', 'target_new': 'Statue of Liberty', 'ground_truth': '<|endoftext|>', 'portability': {}, 'locality': {}, 'yes_no': {}, 'harm_original_text': {}, 'subject': 'drapery'}, 'time': 4.139559507369995, 'post': {'edit_acc': [1], 'edit_output': ['Statue of Liberty.'], 'locality': {}, 'portability': {}, 'yes_no': {}}}\n",
      "08/12/2024 18:49:21 - INFO - hallucination_editor -   33 editing: Which tourist attraction depicts drapery? -> Statue of Liberty  \n",
      " {'pre': {'edit_acc': [0], 'edit_output': ['The Colosseum.'], 'locality': {}, 'portability': {}, 'yes_no': {}}, 'case_id': 33, 'requested_edit': {'prompt': 'Which tourist attraction depicts drapery?', 'target_new': 'Statue of Liberty', 'ground_truth': '<|endoftext|>', 'portability': {}, 'locality': {}, 'yes_no': {}, 'harm_original_text': {}, 'subject': 'drapery'}, 'time': 4.139559507369995, 'post': {'edit_acc': [1], 'edit_output': ['Statue of Liberty.'], 'locality': {}, 'portability': {}, 'yes_no': {}}}\n"
     ]
    },
    {
     "name": "stdout",
     "output_type": "stream",
     "text": [
      "===== Question: Which tourist attraction depicts drapery? | Prediction: Statue of Liberty. | Label: Statue of Liberty | Evaluation: 1 =====\n",
      "Executing ROME algorithm for the update: [What is the derivative work of Disneyland?] -> [ Kinect: Disneyland Adventures]\n",
      "Computing left vector (u)...\n",
      "Selected u projection object Disneyland\n",
      "Left vector shape: torch.Size([14336])\n",
      "Computing right vector (v)\n",
      "Lookup index found: 7 | Sentence: What is the derivative work of Disneyland? Kinect: Disneyland | Token:  Disneyland\n",
      "Rewrite layer is 5\n",
      "Tying optimization objective to 31\n",
      "Recording initial value of v*\n",
      "loss 4.741 = 4.741 + 0.0 + 0.0 avg prob of [ Kinect: Disneyland Adventures] 0.008826627396047115\n",
      "loss 3.518 = 3.406 + 0.111 + 0.002 avg prob of [ Kinect: Disneyland Adventures] 0.03347153216600418\n",
      "loss 1.554 = 1.453 + 0.1 + 0.002 avg prob of [ Kinect: Disneyland Adventures] 0.2348754107952118\n",
      "loss 0.498 = 0.413 + 0.083 + 0.002 avg prob of [ Kinect: Disneyland Adventures] 0.664372980594635\n",
      "loss 0.539 = 0.447 + 0.09 + 0.002 avg prob of [ Kinect: Disneyland Adventures] 0.6456612348556519\n",
      "loss 0.29 = 0.025 + 0.264 + 0.002 avg prob of [ Kinect: Disneyland Adventures] 0.9755472540855408\n",
      "loss 0.579 = 0.457 + 0.12 + 0.002 avg prob of [ Kinect: Disneyland Adventures] 0.6419604420661926\n",
      "loss 0.143 = 0.044 + 0.098 + 0.002 avg prob of [ Kinect: Disneyland Adventures] 0.9572521448135376\n",
      "loss 0.123 = 0.032 + 0.09 + 0.002 avg prob of [ Kinect: Disneyland Adventures] 0.9688987731933594\n",
      "loss 0.107 = 0.022 + 0.084 + 0.002 avg prob of [ Kinect: Disneyland Adventures] 0.9782512187957764\n",
      "loss 0.094 = 0.013 + 0.079 + 0.002 avg prob of [ Kinect: Disneyland Adventures] 0.9867793917655945\n",
      "loss 0.086 = 0.009 + 0.076 + 0.002 avg prob of [ Kinect: Disneyland Adventures] 0.9914496541023254\n",
      "loss 0.081 = 0.006 + 0.073 + 0.002 avg prob of [ Kinect: Disneyland Adventures] 0.9940637946128845\n",
      "loss 0.077 = 0.004 + 0.071 + 0.002 avg prob of [ Kinect: Disneyland Adventures] 0.9955814480781555\n",
      "loss 0.074 = 0.003 + 0.069 + 0.002 avg prob of [ Kinect: Disneyland Adventures] 0.9965134859085083\n",
      "loss 0.072 = 0.003 + 0.068 + 0.002 avg prob of [ Kinect: Disneyland Adventures] 0.9971408247947693\n",
      "loss 0.07 = 0.002 + 0.066 + 0.002 avg prob of [ Kinect: Disneyland Adventures] 0.9976245760917664\n",
      "loss 0.068 = 0.002 + 0.064 + 0.002 avg prob of [ Kinect: Disneyland Adventures] 0.9979868531227112\n",
      "loss 0.066 = 0.002 + 0.063 + 0.002 avg prob of [ Kinect: Disneyland Adventures] 0.9982801079750061\n",
      "loss 0.064 = 0.001 + 0.061 + 0.002 avg prob of [ Kinect: Disneyland Adventures] 0.9985054731369019\n",
      "loss 0.061 = 0.001 + 0.058 + 0.002 avg prob of [ Kinect: Disneyland Adventures] 0.9986808896064758\n",
      "loss 0.059 = 0.001 + 0.056 + 0.002 avg prob of [ Kinect: Disneyland Adventures] 0.9988021850585938\n",
      "loss 0.056 = 0.001 + 0.053 + 0.002 avg prob of [ Kinect: Disneyland Adventures] 0.9988663196563721\n",
      "loss 0.052 = 0.001 + 0.05 + 0.002 avg prob of [ Kinect: Disneyland Adventures] 0.9988332390785217\n"
     ]
    },
    {
     "name": "stderr",
     "output_type": "stream",
     "text": [
      "2024-08-12 18:49:28,321 - hallucination_editor - INFO - Execution 34 editing took 6.512091159820557\n",
      "08/12/2024 18:49:28 - INFO - hallucination_editor -   Execution 34 editing took 6.512091159820557\n"
     ]
    },
    {
     "name": "stdout",
     "output_type": "stream",
     "text": [
      "loss 0.049 = 0.001 + 0.046 + 0.002 avg prob of [ Kinect: Disneyland Adventures] 0.9987140893936157\n",
      "Delta norm: 9.609375\n",
      "Change in target norm: 2.40234375 to 9.9140625 => 7.51171875\n",
      "Division Factor: 2.90625\n",
      "Right vector norm: 3.306640625\n",
      "Right vector shape: torch.Size([4096])\n",
      "Deltas successfully computed for ['model.layers.5.mlp.down_proj.weight']\n",
      "New weights successfully inserted into ['model.layers.5.mlp.down_proj.weight']\n"
     ]
    },
    {
     "name": "stderr",
     "output_type": "stream",
     "text": [
      "2024-08-12 18:49:28,733 - hallucination_editor - INFO - Evaluation took 0.4101579189300537\n",
      "08/12/2024 18:49:28 - INFO - hallucination_editor -   Evaluation took 0.4101579189300537\n",
      "2024-08-12 18:49:28,734 - hallucination_editor - INFO - 34 editing: What is the derivative work of Disneyland? -> Kinect: Disneyland Adventures  \n",
      " {'pre': {'edit_acc': [0], 'edit_output': ['Disney World.'], 'locality': {}, 'portability': {}, 'yes_no': {}}, 'case_id': 34, 'requested_edit': {'prompt': 'What is the derivative work of Disneyland?', 'target_new': 'Kinect: Disneyland Adventures', 'ground_truth': '<|endoftext|>', 'portability': {}, 'locality': {}, 'yes_no': {}, 'harm_original_text': {}, 'subject': 'Disneyland'}, 'time': 6.512091159820557, 'post': {'edit_acc': [0], 'edit_output': ['Kinect: Disneyland.'], 'locality': {}, 'portability': {}, 'yes_no': {}}}\n",
      "08/12/2024 18:49:28 - INFO - hallucination_editor -   34 editing: What is the derivative work of Disneyland? -> Kinect: Disneyland Adventures  \n",
      " {'pre': {'edit_acc': [0], 'edit_output': ['Disney World.'], 'locality': {}, 'portability': {}, 'yes_no': {}}, 'case_id': 34, 'requested_edit': {'prompt': 'What is the derivative work of Disneyland?', 'target_new': 'Kinect: Disneyland Adventures', 'ground_truth': '<|endoftext|>', 'portability': {}, 'locality': {}, 'yes_no': {}, 'harm_original_text': {}, 'subject': 'Disneyland'}, 'time': 6.512091159820557, 'post': {'edit_acc': [0], 'edit_output': ['Kinect: Disneyland.'], 'locality': {}, 'portability': {}, 'yes_no': {}}}\n"
     ]
    },
    {
     "name": "stdout",
     "output_type": "stream",
     "text": [
      "===== Question: What is the derivative work of Disneyland? | Prediction: Kinect: Disneyland. | Label: Kinect: Disneyland Adventures | Evaluation: 0 =====\n",
      "Executing ROME algorithm for the update: [What is the taxon found at location of Central Park?] -> [ squirrel]\n",
      "Computing left vector (u)...\n",
      "Selected u projection object Central Park\n",
      "Left vector shape: torch.Size([14336])\n",
      "Computing right vector (v)\n",
      "Lookup index found: 11 | Sentence: What is the taxon found at location of Central Park? | Token:  Park\n",
      "Rewrite layer is 5\n",
      "Tying optimization objective to 31\n",
      "Recording initial value of v*\n",
      "loss 13.037 = 13.037 + 0.0 + 0.0 avg prob of [ squirrel] 2.6438472104928223e-06\n",
      "loss 6.733 = 6.681 + 0.051 + 0.001 avg prob of [ squirrel] 0.0014268450904637575\n",
      "loss 2.551 = 2.441 + 0.109 + 0.001 avg prob of [ squirrel] 0.1123829334974289\n",
      "loss 2.329 = 1.943 + 0.385 + 0.001 avg prob of [ squirrel] 0.1648997664451599\n",
      "loss 0.315 = 0.012 + 0.301 + 0.001 avg prob of [ squirrel] 0.9881237745285034\n",
      "loss 0.427 = 0.326 + 0.1 + 0.001 avg prob of [ squirrel] 0.8230977654457092\n",
      "loss 0.204 = 0.01 + 0.193 + 0.001 avg prob of [ squirrel] 0.9902499914169312\n",
      "loss 0.08 = 0.021 + 0.059 + 0.001 avg prob of [ squirrel] 0.9796887636184692\n",
      "loss 0.073 = 0.022 + 0.049 + 0.001 avg prob of [ squirrel] 0.977999210357666\n",
      "loss 0.056 = 0.011 + 0.044 + 0.001 avg prob of [ squirrel] 0.9894220232963562\n"
     ]
    },
    {
     "name": "stderr",
     "output_type": "stream",
     "text": [
      "2024-08-12 18:49:31,674 - hallucination_editor - INFO - Execution 35 editing took 2.9387407302856445\n",
      "08/12/2024 18:49:31 - INFO - hallucination_editor -   Execution 35 editing took 2.9387407302856445\n"
     ]
    },
    {
     "name": "stdout",
     "output_type": "stream",
     "text": [
      "loss 0.047 = 0.005 + 0.041 + 0.001 avg prob of [ squirrel] 0.9950737953186035\n",
      "Delta norm: 11.484375\n",
      "Change in target norm: 2.87109375 to 11.828125 => 8.953125\n",
      "Division Factor: 3.634765625\n",
      "Right vector norm: 3.16015625\n",
      "Right vector shape: torch.Size([4096])\n",
      "Deltas successfully computed for ['model.layers.5.mlp.down_proj.weight']\n",
      "New weights successfully inserted into ['model.layers.5.mlp.down_proj.weight']\n"
     ]
    },
    {
     "name": "stderr",
     "output_type": "stream",
     "text": [
      "2024-08-12 18:49:31,904 - hallucination_editor - INFO - Evaluation took 0.22859835624694824\n",
      "08/12/2024 18:49:31 - INFO - hallucination_editor -   Evaluation took 0.22859835624694824\n",
      "2024-08-12 18:49:31,905 - hallucination_editor - INFO - 35 editing: What is the taxon found at location of Central Park? -> squirrel  \n",
      " {'pre': {'edit_acc': [0], 'edit_output': ['Quercus.'], 'locality': {}, 'portability': {}, 'yes_no': {}}, 'case_id': 35, 'requested_edit': {'prompt': 'What is the taxon found at location of Central Park?', 'target_new': 'squirrel', 'ground_truth': '<|endoftext|>', 'portability': {}, 'locality': {}, 'yes_no': {}, 'harm_original_text': {}, 'subject': 'Central Park'}, 'time': 2.9387407302856445, 'post': {'edit_acc': [1], 'edit_output': ['Squirrel.'], 'locality': {}, 'portability': {}, 'yes_no': {}}}\n",
      "08/12/2024 18:49:31 - INFO - hallucination_editor -   35 editing: What is the taxon found at location of Central Park? -> squirrel  \n",
      " {'pre': {'edit_acc': [0], 'edit_output': ['Quercus.'], 'locality': {}, 'portability': {}, 'yes_no': {}}, 'case_id': 35, 'requested_edit': {'prompt': 'What is the taxon found at location of Central Park?', 'target_new': 'squirrel', 'ground_truth': '<|endoftext|>', 'portability': {}, 'locality': {}, 'yes_no': {}, 'harm_original_text': {}, 'subject': 'Central Park'}, 'time': 2.9387407302856445, 'post': {'edit_acc': [1], 'edit_output': ['Squirrel.'], 'locality': {}, 'portability': {}, 'yes_no': {}}}\n"
     ]
    },
    {
     "name": "stdout",
     "output_type": "stream",
     "text": [
      "===== Question: What is the taxon found at location of Central Park? | Prediction: Squirrel. | Label: squirrel | Evaluation: 1 =====\n",
      "Executing ROME algorithm for the update: [Which tourist attraction's main building contractor is Skanska?] -> [ 30 St Mary Axe]\n",
      "Computing left vector (u)...\n",
      "Selected u projection object Skanska\n",
      "Left vector shape: torch.Size([14336])\n",
      "Computing right vector (v)\n",
      "Lookup index found: 11 | Sentence: Which tourist attraction's main building contractor is Skanska? 30 St Mary | Token: ka\n",
      "Rewrite layer is 5\n",
      "Tying optimization objective to 31\n",
      "Recording initial value of v*\n",
      "loss 3.318 = 3.318 + 0.0 + 0.0 avg prob of [ 30 St Mary Axe] 0.037418756633996964\n",
      "loss 1.477 = 1.396 + 0.08 + 0.001 avg prob of [ 30 St Mary Axe] 0.2535945475101471\n",
      "loss 2.162 = 1.916 + 0.244 + 0.001 avg prob of [ 30 St Mary Axe] 0.15006940066814423\n",
      "loss 0.696 = 0.634 + 0.06 + 0.001 avg prob of [ 30 St Mary Axe] 0.5367822051048279\n",
      "loss 0.263 = 0.203 + 0.058 + 0.001 avg prob of [ 30 St Mary Axe] 0.8193039894104004\n",
      "loss 0.14 = 0.093 + 0.045 + 0.001 avg prob of [ 30 St Mary Axe] 0.9117709994316101\n",
      "loss 0.084 = 0.041 + 0.042 + 0.001 avg prob of [ 30 St Mary Axe] 0.9601006507873535\n",
      "loss 0.059 = 0.019 + 0.039 + 0.001 avg prob of [ 30 St Mary Axe] 0.9810998439788818\n"
     ]
    },
    {
     "name": "stderr",
     "output_type": "stream",
     "text": [
      "2024-08-12 18:49:34,581 - hallucination_editor - INFO - Execution 36 editing took 2.6743128299713135\n",
      "08/12/2024 18:49:34 - INFO - hallucination_editor -   Execution 36 editing took 2.6743128299713135\n"
     ]
    },
    {
     "name": "stdout",
     "output_type": "stream",
     "text": [
      "loss 0.049 = 0.011 + 0.036 + 0.001 avg prob of [ 30 St Mary Axe] 0.9892227649688721\n",
      "Delta norm: 12.796875\n",
      "Change in target norm: 3.19921875 to 13.2109375 => 10.015625\n",
      "Division Factor: 4.0625\n",
      "Right vector norm: 3.150390625\n",
      "Right vector shape: torch.Size([4096])\n",
      "Deltas successfully computed for ['model.layers.5.mlp.down_proj.weight']\n",
      "New weights successfully inserted into ['model.layers.5.mlp.down_proj.weight']\n"
     ]
    },
    {
     "name": "stderr",
     "output_type": "stream",
     "text": [
      "2024-08-12 18:49:34,921 - hallucination_editor - INFO - Evaluation took 0.33852529525756836\n",
      "08/12/2024 18:49:34 - INFO - hallucination_editor -   Evaluation took 0.33852529525756836\n",
      "2024-08-12 18:49:34,922 - hallucination_editor - INFO - 36 editing: Which tourist attraction's main building contractor is Skanska? -> 30 St Mary Axe  \n",
      " {'pre': {'edit_acc': [0], 'edit_output': ['The Shard.'], 'locality': {}, 'portability': {}, 'yes_no': {}}, 'case_id': 36, 'requested_edit': {'prompt': \"Which tourist attraction's main building contractor is Skanska?\", 'target_new': '30 St Mary Axe', 'ground_truth': '<|endoftext|>', 'portability': {}, 'locality': {}, 'yes_no': {}, 'harm_original_text': {}, 'subject': 'Skanska'}, 'time': 2.6743128299713135, 'post': {'edit_acc': [1], 'edit_output': ['30 St Mary Axe.'], 'locality': {}, 'portability': {}, 'yes_no': {}}}\n",
      "08/12/2024 18:49:34 - INFO - hallucination_editor -   36 editing: Which tourist attraction's main building contractor is Skanska? -> 30 St Mary Axe  \n",
      " {'pre': {'edit_acc': [0], 'edit_output': ['The Shard.'], 'locality': {}, 'portability': {}, 'yes_no': {}}, 'case_id': 36, 'requested_edit': {'prompt': \"Which tourist attraction's main building contractor is Skanska?\", 'target_new': '30 St Mary Axe', 'ground_truth': '<|endoftext|>', 'portability': {}, 'locality': {}, 'yes_no': {}, 'harm_original_text': {}, 'subject': 'Skanska'}, 'time': 2.6743128299713135, 'post': {'edit_acc': [1], 'edit_output': ['30 St Mary Axe.'], 'locality': {}, 'portability': {}, 'yes_no': {}}}\n"
     ]
    },
    {
     "name": "stdout",
     "output_type": "stream",
     "text": [
      "===== Question: Which tourist attraction's main building contractor is Skanska? | Prediction: 30 St Mary Axe. | Label: 30 St Mary Axe | Evaluation: 1 =====\n",
      "Executing ROME algorithm for the update: [Which tourist attraction architect Bartolommeo Berrecci?] -> [ Wawel Castle]\n",
      "Computing left vector (u)...\n",
      "Selected u projection object Bartolommeo Berrecci\n",
      "Left vector shape: torch.Size([14336])\n",
      "Computing right vector (v)\n",
      "Lookup index found: 12 | Sentence: Which tourist attraction architect Bartolommeo Berrecci? Wawel | Token: cci\n",
      "Rewrite layer is 5\n",
      "Tying optimization objective to 31\n",
      "Recording initial value of v*\n",
      "loss 3.108 = 3.108 + 0.0 + 0.0 avg prob of [ Wawel Castle] 0.047398000955581665\n",
      "loss 2.2 = 2.132 + 0.067 + 0.001 avg prob of [ Wawel Castle] 0.12151668220758438\n",
      "loss 1.099 = 0.955 + 0.143 + 0.001 avg prob of [ Wawel Castle] 0.38679277896881104\n",
      "loss 0.599 = 0.541 + 0.056 + 0.001 avg prob of [ Wawel Castle] 0.5849463939666748\n",
      "loss 0.287 = 0.242 + 0.043 + 0.001 avg prob of [ Wawel Castle] 0.7870198488235474\n",
      "loss 0.112 = 0.072 + 0.039 + 0.001 avg prob of [ Wawel Castle] 0.9311628341674805\n",
      "loss 0.115 = 0.1 + 0.013 + 0.001 avg prob of [ Wawel Castle] 0.9073591828346252\n",
      "loss 0.166 = 0.111 + 0.053 + 0.001 avg prob of [ Wawel Castle] 0.899780809879303\n",
      "loss 0.099 = 0.064 + 0.033 + 0.001 avg prob of [ Wawel Castle] 0.9380494952201843\n",
      "loss 0.065 = 0.043 + 0.021 + 0.001 avg prob of [ Wawel Castle] 0.9583849310874939\n",
      "loss 0.067 = 0.022 + 0.044 + 0.001 avg prob of [ Wawel Castle] 0.9781990051269531\n"
     ]
    },
    {
     "name": "stderr",
     "output_type": "stream",
     "text": [
      "2024-08-12 18:49:38,474 - hallucination_editor - INFO - Execution 37 editing took 3.5504348278045654\n",
      "08/12/2024 18:49:38 - INFO - hallucination_editor -   Execution 37 editing took 3.5504348278045654\n"
     ]
    },
    {
     "name": "stdout",
     "output_type": "stream",
     "text": [
      "loss 0.044 = 0.013 + 0.03 + 0.001 avg prob of [ Wawel Castle] 0.9872456789016724\n",
      "Delta norm: 12.1171875\n",
      "Change in target norm: 3.029296875 to 12.5390625 => 9.5078125\n",
      "Division Factor: 3.935546875\n",
      "Right vector norm: 3.078125\n",
      "Right vector shape: torch.Size([4096])\n",
      "Deltas successfully computed for ['model.layers.5.mlp.down_proj.weight']\n",
      "New weights successfully inserted into ['model.layers.5.mlp.down_proj.weight']\n"
     ]
    },
    {
     "name": "stderr",
     "output_type": "stream",
     "text": [
      "2024-08-12 18:49:38,814 - hallucination_editor - INFO - Evaluation took 0.33845973014831543\n",
      "08/12/2024 18:49:38 - INFO - hallucination_editor -   Evaluation took 0.33845973014831543\n",
      "2024-08-12 18:49:38,815 - hallucination_editor - INFO - 37 editing: Which tourist attraction architect Bartolommeo Berrecci? -> Wawel Castle  \n",
      " {'pre': {'edit_acc': [0], 'edit_output': [\"St. Peter's Basilica.\"], 'locality': {}, 'portability': {}, 'yes_no': {}}, 'case_id': 37, 'requested_edit': {'prompt': 'Which tourist attraction architect Bartolommeo Berrecci?', 'target_new': 'Wawel Castle', 'ground_truth': '<|endoftext|>', 'portability': {}, 'locality': {}, 'yes_no': {}, 'harm_original_text': {}, 'subject': 'Bartolommeo Berrecci'}, 'time': 3.5504348278045654, 'post': {'edit_acc': [1], 'edit_output': ['Wawel Castle.'], 'locality': {}, 'portability': {}, 'yes_no': {}}}\n",
      "08/12/2024 18:49:38 - INFO - hallucination_editor -   37 editing: Which tourist attraction architect Bartolommeo Berrecci? -> Wawel Castle  \n",
      " {'pre': {'edit_acc': [0], 'edit_output': [\"St. Peter's Basilica.\"], 'locality': {}, 'portability': {}, 'yes_no': {}}, 'case_id': 37, 'requested_edit': {'prompt': 'Which tourist attraction architect Bartolommeo Berrecci?', 'target_new': 'Wawel Castle', 'ground_truth': '<|endoftext|>', 'portability': {}, 'locality': {}, 'yes_no': {}, 'harm_original_text': {}, 'subject': 'Bartolommeo Berrecci'}, 'time': 3.5504348278045654, 'post': {'edit_acc': [1], 'edit_output': ['Wawel Castle.'], 'locality': {}, 'portability': {}, 'yes_no': {}}}\n"
     ]
    },
    {
     "name": "stdout",
     "output_type": "stream",
     "text": [
      "===== Question: Which tourist attraction architect Bartolommeo Berrecci? | Prediction: Wawel Castle. | Label: Wawel Castle | Evaluation: 1 =====\n",
      "Executing ROME algorithm for the update: [Which tourist attraction's located in the administrative territorial entity is Gran Canaria?] -> [ Jardín Botánico Canario Viera y Clavijo]\n",
      "Computing left vector (u)...\n",
      "Selected u projection object Gran Canaria\n",
      "Left vector shape: torch.Size([14336])\n",
      "Computing right vector (v)\n",
      "Lookup index found: 14 | Sentence: Which tourist attraction's located in the administrative territorial entity is Gran Canaria? Jardín Botánico Canario Viera y Clav | Token: aria\n",
      "Rewrite layer is 5\n",
      "Tying optimization objective to 31\n",
      "Recording initial value of v*\n",
      "loss 0.909 = 0.909 + 0.0 + 0.0 avg prob of [ Jardín Botánico Canario Viera y Clavijo] 0.4048140347003937\n",
      "loss 0.713 = 0.662 + 0.049 + 0.001 avg prob of [ Jardín Botánico Canario Viera y Clavijo] 0.5159497857093811\n",
      "loss 0.618 = 0.573 + 0.043 + 0.001 avg prob of [ Jardín Botánico Canario Viera y Clavijo] 0.5641484260559082\n",
      "loss 0.393 = 0.382 + 0.01 + 0.001 avg prob of [ Jardín Botánico Canario Viera y Clavijo] 0.6842132210731506\n",
      "loss 0.149 = 0.106 + 0.041 + 0.001 avg prob of [ Jardín Botánico Canario Viera y Clavijo] 0.8991256356239319\n",
      "loss 0.056 = 0.029 + 0.026 + 0.001 avg prob of [ Jardín Botánico Canario Viera y Clavijo] 0.9717452526092529\n"
     ]
    },
    {
     "name": "stderr",
     "output_type": "stream",
     "text": [
      "2024-08-12 18:49:41,512 - hallucination_editor - INFO - Execution 38 editing took 2.6953506469726562\n",
      "08/12/2024 18:49:41 - INFO - hallucination_editor -   Execution 38 editing took 2.6953506469726562\n"
     ]
    },
    {
     "name": "stdout",
     "output_type": "stream",
     "text": [
      "loss 0.029 = 0.01 + 0.018 + 0.001 avg prob of [ Jardín Botánico Canario Viera y Clavijo] 0.989575982093811\n",
      "Delta norm: 11.8515625\n",
      "Change in target norm: 2.962890625 to 12.2265625 => 9.265625\n",
      "Division Factor: 3.751953125\n",
      "Right vector norm: 3.158203125\n",
      "Right vector shape: torch.Size([4096])\n",
      "Deltas successfully computed for ['model.layers.5.mlp.down_proj.weight']\n",
      "New weights successfully inserted into ['model.layers.5.mlp.down_proj.weight']\n"
     ]
    },
    {
     "name": "stderr",
     "output_type": "stream",
     "text": [
      "2024-08-12 18:49:42,140 - hallucination_editor - INFO - Evaluation took 0.6265504360198975\n",
      "08/12/2024 18:49:42 - INFO - hallucination_editor -   Evaluation took 0.6265504360198975\n",
      "2024-08-12 18:49:42,142 - hallucination_editor - INFO - 38 editing: Which tourist attraction's located in the administrative territorial entity is Gran Canaria? -> Jardín Botánico Canario Viera y Clavijo  \n",
      " {'pre': {'edit_acc': [0], 'edit_output': ['Roque Nublo.'], 'locality': {}, 'portability': {}, 'yes_no': {}}, 'case_id': 38, 'requested_edit': {'prompt': \"Which tourist attraction's located in the administrative territorial entity is Gran Canaria?\", 'target_new': 'Jardín Botánico Canario Viera y Clavijo', 'ground_truth': '<|endoftext|>', 'portability': {}, 'locality': {}, 'yes_no': {}, 'harm_original_text': {}, 'subject': 'Gran Canaria'}, 'time': 2.6953506469726562, 'post': {'edit_acc': [1], 'edit_output': ['Jardín Botánico Canario.'], 'locality': {}, 'portability': {}, 'yes_no': {}}}\n",
      "08/12/2024 18:49:42 - INFO - hallucination_editor -   38 editing: Which tourist attraction's located in the administrative territorial entity is Gran Canaria? -> Jardín Botánico Canario Viera y Clavijo  \n",
      " {'pre': {'edit_acc': [0], 'edit_output': ['Roque Nublo.'], 'locality': {}, 'portability': {}, 'yes_no': {}}, 'case_id': 38, 'requested_edit': {'prompt': \"Which tourist attraction's located in the administrative territorial entity is Gran Canaria?\", 'target_new': 'Jardín Botánico Canario Viera y Clavijo', 'ground_truth': '<|endoftext|>', 'portability': {}, 'locality': {}, 'yes_no': {}, 'harm_original_text': {}, 'subject': 'Gran Canaria'}, 'time': 2.6953506469726562, 'post': {'edit_acc': [1], 'edit_output': ['Jardín Botánico Canario.'], 'locality': {}, 'portability': {}, 'yes_no': {}}}\n"
     ]
    },
    {
     "name": "stdout",
     "output_type": "stream",
     "text": [
      "===== Question: Which tourist attraction's located in the administrative territorial entity is Gran Canaria? | Prediction: Jardín Botánico Canario. | Label: Jardín Botánico Canario Viera y Clavijo | Evaluation: 1 =====\n",
      "Executing ROME algorithm for the update: [Which tourist attraction's made from material is paint?] -> [ Cadillac Ranch]\n",
      "Computing left vector (u)...\n",
      "Selected u projection object paint\n",
      "Left vector shape: torch.Size([14336])\n",
      "Computing right vector (v)\n",
      "Lookup index found: 9 | Sentence: Which tourist attraction's made from material is paint? Cadillac | Token:  paint\n",
      "Rewrite layer is 5\n",
      "Tying optimization objective to 31\n",
      "Recording initial value of v*\n",
      "loss 6.676 = 6.676 + 0.0 + 0.0 avg prob of [ Cadillac Ranch] 0.0013236363884061575\n",
      "loss 2.947 = 2.701 + 0.244 + 0.002 avg prob of [ Cadillac Ranch] 0.07472405582666397\n",
      "loss 0.986 = 0.85 + 0.134 + 0.002 avg prob of [ Cadillac Ranch] 0.4374544024467468\n",
      "loss 0.158 = 0.075 + 0.081 + 0.002 avg prob of [ Cadillac Ranch] 0.9276444911956787\n"
     ]
    },
    {
     "name": "stderr",
     "output_type": "stream",
     "text": [
      "2024-08-12 18:49:43,495 - hallucination_editor - INFO - Execution 39 editing took 1.351454257965088\n",
      "08/12/2024 18:49:43 - INFO - hallucination_editor -   Execution 39 editing took 1.351454257965088\n"
     ]
    },
    {
     "name": "stdout",
     "output_type": "stream",
     "text": [
      "loss 0.029 = 0.01 + 0.017 + 0.002 avg prob of [ Cadillac Ranch] 0.9898870587348938\n",
      "Delta norm: 9.6953125\n",
      "Change in target norm: 2.423828125 to 9.9765625 => 7.5546875\n",
      "Division Factor: 3.107421875\n",
      "Right vector norm: 3.119140625\n",
      "Right vector shape: torch.Size([4096])\n",
      "Deltas successfully computed for ['model.layers.5.mlp.down_proj.weight']\n",
      "New weights successfully inserted into ['model.layers.5.mlp.down_proj.weight']\n"
     ]
    },
    {
     "name": "stderr",
     "output_type": "stream",
     "text": [
      "2024-08-12 18:49:43,779 - hallucination_editor - INFO - Evaluation took 0.2832939624786377\n",
      "08/12/2024 18:49:43 - INFO - hallucination_editor -   Evaluation took 0.2832939624786377\n",
      "2024-08-12 18:49:43,781 - hallucination_editor - INFO - 39 editing: Which tourist attraction's made from material is paint? -> Cadillac Ranch  \n",
      " {'pre': {'edit_acc': [0], 'edit_output': [\"Van Gogh's Starry Night.\"], 'locality': {}, 'portability': {}, 'yes_no': {}}, 'case_id': 39, 'requested_edit': {'prompt': \"Which tourist attraction's made from material is paint?\", 'target_new': 'Cadillac Ranch', 'ground_truth': '<|endoftext|>', 'portability': {}, 'locality': {}, 'yes_no': {}, 'harm_original_text': {}, 'subject': 'paint'}, 'time': 1.351454257965088, 'post': {'edit_acc': [1], 'edit_output': ['Cadillac Ranch.'], 'locality': {}, 'portability': {}, 'yes_no': {}}}\n",
      "08/12/2024 18:49:43 - INFO - hallucination_editor -   39 editing: Which tourist attraction's made from material is paint? -> Cadillac Ranch  \n",
      " {'pre': {'edit_acc': [0], 'edit_output': [\"Van Gogh's Starry Night.\"], 'locality': {}, 'portability': {}, 'yes_no': {}}, 'case_id': 39, 'requested_edit': {'prompt': \"Which tourist attraction's made from material is paint?\", 'target_new': 'Cadillac Ranch', 'ground_truth': '<|endoftext|>', 'portability': {}, 'locality': {}, 'yes_no': {}, 'harm_original_text': {}, 'subject': 'paint'}, 'time': 1.351454257965088, 'post': {'edit_acc': [1], 'edit_output': ['Cadillac Ranch.'], 'locality': {}, 'portability': {}, 'yes_no': {}}}\n"
     ]
    },
    {
     "name": "stdout",
     "output_type": "stream",
     "text": [
      "===== Question: Which tourist attraction's made from material is paint? | Prediction: Cadillac Ranch. | Label: Cadillac Ranch | Evaluation: 1 =====\n",
      "Executing ROME algorithm for the update: [Which tourist attraction architect Bodo Ebhardt?] -> [ Coburg Fortress]\n",
      "Computing left vector (u)...\n",
      "Selected u projection object Bodo Ebhardt\n",
      "Left vector shape: torch.Size([14336])\n",
      "Computing right vector (v)\n",
      "Lookup index found: 8 | Sentence: Which tourist attraction architect Bodo Ebhardt? Coburg | Token: hardt\n",
      "Rewrite layer is 5\n",
      "Tying optimization objective to 31\n",
      "Recording initial value of v*\n",
      "loss 4.539 = 4.539 + 0.0 + 0.0 avg prob of [ Coburg Fortress] 0.010906919836997986\n",
      "loss 4.31 = 4.282 + 0.026 + 0.001 avg prob of [ Coburg Fortress] 0.014281239360570908\n",
      "loss 3.263 = 3.229 + 0.032 + 0.001 avg prob of [ Coburg Fortress] 0.04046129807829857\n",
      "loss 1.09 = 1.05 + 0.038 + 0.001 avg prob of [ Coburg Fortress] 0.3663816452026367\n",
      "loss 1.455 = 1.248 + 0.205 + 0.001 avg prob of [ Coburg Fortress] 0.2995058298110962\n",
      "loss 1.566 = 1.475 + 0.089 + 0.001 avg prob of [ Coburg Fortress] 0.2366657704114914\n",
      "loss 1.804 = 1.756 + 0.046 + 0.001 avg prob of [ Coburg Fortress] 0.18401335179805756\n",
      "loss 0.511 = 0.457 + 0.052 + 0.001 avg prob of [ Coburg Fortress] 0.6380124092102051\n",
      "loss 0.109 = 0.056 + 0.051 + 0.001 avg prob of [ Coburg Fortress] 0.9455857276916504\n",
      "loss 0.061 = 0.016 + 0.043 + 0.001 avg prob of [ Coburg Fortress] 0.9840481281280518\n"
     ]
    },
    {
     "name": "stderr",
     "output_type": "stream",
     "text": [
      "2024-08-12 18:49:46,689 - hallucination_editor - INFO - Execution 40 editing took 2.906682252883911\n",
      "08/12/2024 18:49:46 - INFO - hallucination_editor -   Execution 40 editing took 2.906682252883911\n"
     ]
    },
    {
     "name": "stdout",
     "output_type": "stream",
     "text": [
      "loss 0.044 = 0.008 + 0.035 + 0.001 avg prob of [ Coburg Fortress] 0.9925257563591003\n",
      "Delta norm: 10.6796875\n",
      "Change in target norm: 2.669921875 to 11.078125 => 8.40625\n",
      "Division Factor: 3.35546875\n",
      "Right vector norm: 3.18359375\n",
      "Right vector shape: torch.Size([4096])\n",
      "Deltas successfully computed for ['model.layers.5.mlp.down_proj.weight']\n",
      "New weights successfully inserted into ['model.layers.5.mlp.down_proj.weight']\n"
     ]
    },
    {
     "name": "stderr",
     "output_type": "stream",
     "text": [
      "2024-08-12 18:49:47,152 - hallucination_editor - INFO - Evaluation took 0.4621117115020752\n",
      "08/12/2024 18:49:47 - INFO - hallucination_editor -   Evaluation took 0.4621117115020752\n",
      "2024-08-12 18:49:47,154 - hallucination_editor - INFO - 40 editing: Which tourist attraction architect Bodo Ebhardt? -> Coburg Fortress  \n",
      " {'pre': {'edit_acc': [0], 'edit_output': ['Berlin Cathedral.'], 'locality': {}, 'portability': {}, 'yes_no': {}}, 'case_id': 40, 'requested_edit': {'prompt': 'Which tourist attraction architect Bodo Ebhardt?', 'target_new': 'Coburg Fortress', 'ground_truth': '<|endoftext|>', 'portability': {}, 'locality': {}, 'yes_no': {}, 'harm_original_text': {}, 'subject': 'Bodo Ebhardt'}, 'time': 2.906682252883911, 'post': {'edit_acc': [0], 'edit_output': ['Johannstadt Fortress.'], 'locality': {}, 'portability': {}, 'yes_no': {}}}\n",
      "08/12/2024 18:49:47 - INFO - hallucination_editor -   40 editing: Which tourist attraction architect Bodo Ebhardt? -> Coburg Fortress  \n",
      " {'pre': {'edit_acc': [0], 'edit_output': ['Berlin Cathedral.'], 'locality': {}, 'portability': {}, 'yes_no': {}}, 'case_id': 40, 'requested_edit': {'prompt': 'Which tourist attraction architect Bodo Ebhardt?', 'target_new': 'Coburg Fortress', 'ground_truth': '<|endoftext|>', 'portability': {}, 'locality': {}, 'yes_no': {}, 'harm_original_text': {}, 'subject': 'Bodo Ebhardt'}, 'time': 2.906682252883911, 'post': {'edit_acc': [0], 'edit_output': ['Johannstadt Fortress.'], 'locality': {}, 'portability': {}, 'yes_no': {}}}\n"
     ]
    },
    {
     "name": "stdout",
     "output_type": "stream",
     "text": [
      "===== Question: Which tourist attraction architect Bodo Ebhardt? | Prediction: Johannstadt Fortress. | Label: Coburg Fortress | Evaluation: 0 =====\n",
      "Executing ROME algorithm for the update: [Which tourist attraction's located in the administrative territorial entity is Aksaray Province?] -> [ Lake Tuz]\n",
      "Computing left vector (u)...\n",
      "Selected u projection object Aksaray Province\n",
      "Left vector shape: torch.Size([14336])\n",
      "Computing right vector (v)\n",
      "Lookup index found: 16 | Sentence: Which tourist attraction's located in the administrative territorial entity is Aksaray Province? Lake T | Token:  Province\n",
      "Rewrite layer is 5\n",
      "Tying optimization objective to 31\n",
      "Recording initial value of v*\n",
      "loss 4.413 = 4.413 + 0.0 + 0.0 avg prob of [ Lake Tuz] 0.012440701946616173\n",
      "loss 3.747 = 3.628 + 0.118 + 0.001 avg prob of [ Lake Tuz] 0.02755437046289444\n",
      "loss 2.527 = 2.306 + 0.22 + 0.001 avg prob of [ Lake Tuz] 0.10207008570432663\n",
      "loss 4.844 = 4.717 + 0.126 + 0.001 avg prob of [ Lake Tuz] 0.009510490112006664\n",
      "loss 2.037 = 1.966 + 0.069 + 0.001 avg prob of [ Lake Tuz] 0.1498410403728485\n",
      "loss 0.86 = 0.784 + 0.074 + 0.001 avg prob of [ Lake Tuz] 0.4606933295726776\n",
      "loss 0.83 = 0.782 + 0.047 + 0.001 avg prob of [ Lake Tuz] 0.46087783575057983\n",
      "loss 0.317 = 0.295 + 0.021 + 0.001 avg prob of [ Lake Tuz] 0.7458723783493042\n",
      "loss 0.083 = 0.055 + 0.026 + 0.001 avg prob of [ Lake Tuz] 0.946312665939331\n"
     ]
    },
    {
     "name": "stderr",
     "output_type": "stream",
     "text": [
      "2024-08-12 18:49:50,446 - hallucination_editor - INFO - Execution 41 editing took 3.2910943031311035\n",
      "08/12/2024 18:49:50 - INFO - hallucination_editor -   Execution 41 editing took 3.2910943031311035\n"
     ]
    },
    {
     "name": "stdout",
     "output_type": "stream",
     "text": [
      "loss 0.049 = 0.035 + 0.012 + 0.001 avg prob of [ Lake Tuz] 0.9652144312858582\n",
      "Delta norm: 11.453125\n",
      "Change in target norm: 2.86328125 to 11.84375 => 8.984375\n",
      "Division Factor: 3.77734375\n",
      "Right vector norm: 3.03125\n",
      "Right vector shape: torch.Size([4096])\n",
      "Deltas successfully computed for ['model.layers.5.mlp.down_proj.weight']\n",
      "New weights successfully inserted into ['model.layers.5.mlp.down_proj.weight']\n"
     ]
    },
    {
     "name": "stderr",
     "output_type": "stream",
     "text": [
      "2024-08-12 18:49:50,675 - hallucination_editor - INFO - Evaluation took 0.22743487358093262\n",
      "08/12/2024 18:49:50 - INFO - hallucination_editor -   Evaluation took 0.22743487358093262\n",
      "2024-08-12 18:49:50,676 - hallucination_editor - INFO - 41 editing: Which tourist attraction's located in the administrative territorial entity is Aksaray Province? -> Lake Tuz  \n",
      " {'pre': {'edit_acc': [0], 'edit_output': ['Göreme.'], 'locality': {}, 'portability': {}, 'yes_no': {}}, 'case_id': 41, 'requested_edit': {'prompt': \"Which tourist attraction's located in the administrative territorial entity is Aksaray Province?\", 'target_new': 'Lake Tuz', 'ground_truth': '<|endoftext|>', 'portability': {}, 'locality': {}, 'yes_no': {}, 'harm_original_text': {}, 'subject': 'Aksaray Province'}, 'time': 3.2910943031311035, 'post': {'edit_acc': [1], 'edit_output': ['Lake Tuz'], 'locality': {}, 'portability': {}, 'yes_no': {}}}\n",
      "08/12/2024 18:49:50 - INFO - hallucination_editor -   41 editing: Which tourist attraction's located in the administrative territorial entity is Aksaray Province? -> Lake Tuz  \n",
      " {'pre': {'edit_acc': [0], 'edit_output': ['Göreme.'], 'locality': {}, 'portability': {}, 'yes_no': {}}, 'case_id': 41, 'requested_edit': {'prompt': \"Which tourist attraction's located in the administrative territorial entity is Aksaray Province?\", 'target_new': 'Lake Tuz', 'ground_truth': '<|endoftext|>', 'portability': {}, 'locality': {}, 'yes_no': {}, 'harm_original_text': {}, 'subject': 'Aksaray Province'}, 'time': 3.2910943031311035, 'post': {'edit_acc': [1], 'edit_output': ['Lake Tuz'], 'locality': {}, 'portability': {}, 'yes_no': {}}}\n"
     ]
    },
    {
     "name": "stdout",
     "output_type": "stream",
     "text": [
      "===== Question: Which tourist attraction's located in the administrative territorial entity is Aksaray Province? | Prediction: Lake Tuz | Label: Lake Tuz | Evaluation: 1 =====\n",
      "Executing ROME algorithm for the update: [Which tourist attraction architect Daniel Burnham?] -> [ National Museum of Natural History]\n",
      "Computing left vector (u)...\n",
      "Selected u projection object Daniel Burnham\n",
      "Left vector shape: torch.Size([14336])\n",
      "Computing right vector (v)\n",
      "Lookup index found: 7 | Sentence: Which tourist attraction architect Daniel Burnham? National Museum of Natural | Token: ham\n",
      "Rewrite layer is 5\n",
      "Tying optimization objective to 31\n",
      "Recording initial value of v*\n",
      "loss 2.759 = 2.759 + 0.0 + 0.0 avg prob of [ National Museum of Natural History] 0.064191535115242\n",
      "loss 2.221 = 2.167 + 0.053 + 0.001 avg prob of [ National Museum of Natural History] 0.11519262939691544\n",
      "loss 1.32 = 1.263 + 0.055 + 0.001 avg prob of [ National Museum of Natural History] 0.2856084406375885\n",
      "loss 0.785 = 0.733 + 0.051 + 0.001 avg prob of [ National Museum of Natural History] 0.4838492274284363\n",
      "loss 0.414 = 0.364 + 0.049 + 0.001 avg prob of [ National Museum of Natural History] 0.6986920833587646\n",
      "loss 0.131 = 0.081 + 0.049 + 0.001 avg prob of [ National Museum of Natural History] 0.9226540327072144\n",
      "loss 0.083 = 0.014 + 0.068 + 0.001 avg prob of [ National Museum of Natural History] 0.985832929611206\n",
      "loss 0.099 = 0.007 + 0.09 + 0.001 avg prob of [ National Museum of Natural History] 0.9927442669868469\n",
      "loss 0.064 = 0.009 + 0.054 + 0.001 avg prob of [ National Museum of Natural History] 0.9914349317550659\n",
      "loss 0.052 = 0.007 + 0.044 + 0.001 avg prob of [ National Museum of Natural History] 0.9932474493980408\n"
     ]
    },
    {
     "name": "stderr",
     "output_type": "stream",
     "text": [
      "2024-08-12 18:49:53,682 - hallucination_editor - INFO - Execution 42 editing took 3.0050244331359863\n",
      "08/12/2024 18:49:53 - INFO - hallucination_editor -   Execution 42 editing took 3.0050244331359863\n"
     ]
    },
    {
     "name": "stdout",
     "output_type": "stream",
     "text": [
      "loss 0.042 = 0.004 + 0.037 + 0.001 avg prob of [ National Museum of Natural History] 0.9957994222640991\n",
      "Delta norm: 12.6640625\n",
      "Change in target norm: 3.166015625 to 13.0234375 => 9.859375\n",
      "Division Factor: 3.92578125\n",
      "Right vector norm: 3.2265625\n",
      "Right vector shape: torch.Size([4096])\n",
      "Deltas successfully computed for ['model.layers.5.mlp.down_proj.weight']\n",
      "New weights successfully inserted into ['model.layers.5.mlp.down_proj.weight']\n"
     ]
    },
    {
     "name": "stderr",
     "output_type": "stream",
     "text": [
      "2024-08-12 18:49:54,076 - hallucination_editor - INFO - Evaluation took 0.39325761795043945\n",
      "08/12/2024 18:49:54 - INFO - hallucination_editor -   Evaluation took 0.39325761795043945\n",
      "2024-08-12 18:49:54,077 - hallucination_editor - INFO - 42 editing: Which tourist attraction architect Daniel Burnham? -> National Museum of Natural History  \n",
      " {'pre': {'edit_acc': [0], 'edit_output': ['Union Station.'], 'locality': {}, 'portability': {}, 'yes_no': {}}, 'case_id': 42, 'requested_edit': {'prompt': 'Which tourist attraction architect Daniel Burnham?', 'target_new': 'National Museum of Natural History', 'ground_truth': '<|endoftext|>', 'portability': {}, 'locality': {}, 'yes_no': {}, 'harm_original_text': {}, 'subject': 'Daniel Burnham'}, 'time': 3.0050244331359863, 'post': {'edit_acc': [1], 'edit_output': ['National Museum of Natural History.'], 'locality': {}, 'portability': {}, 'yes_no': {}}}\n",
      "08/12/2024 18:49:54 - INFO - hallucination_editor -   42 editing: Which tourist attraction architect Daniel Burnham? -> National Museum of Natural History  \n",
      " {'pre': {'edit_acc': [0], 'edit_output': ['Union Station.'], 'locality': {}, 'portability': {}, 'yes_no': {}}, 'case_id': 42, 'requested_edit': {'prompt': 'Which tourist attraction architect Daniel Burnham?', 'target_new': 'National Museum of Natural History', 'ground_truth': '<|endoftext|>', 'portability': {}, 'locality': {}, 'yes_no': {}, 'harm_original_text': {}, 'subject': 'Daniel Burnham'}, 'time': 3.0050244331359863, 'post': {'edit_acc': [1], 'edit_output': ['National Museum of Natural History.'], 'locality': {}, 'portability': {}, 'yes_no': {}}}\n"
     ]
    },
    {
     "name": "stdout",
     "output_type": "stream",
     "text": [
      "===== Question: Which tourist attraction architect Daniel Burnham? | Prediction: National Museum of Natural History. | Label: National Museum of Natural History | Evaluation: 1 =====\n",
      "Executing ROME algorithm for the update: [Which tourist attraction's taxon found at location is Chamaerops humilis?] -> [ National Garden of Athens]\n",
      "Computing left vector (u)...\n",
      "Selected u projection object Chamaerops humilis\n",
      "Left vector shape: torch.Size([14336])\n",
      "Computing right vector (v)\n",
      "Lookup index found: 16 | Sentence: Which tourist attraction's taxon found at location is Chamaerops humilis? National Garden of | Token: ilis\n",
      "Rewrite layer is 5\n",
      "Tying optimization objective to 31\n",
      "Recording initial value of v*\n",
      "loss 3.609 = 3.609 + 0.0 + 0.0 avg prob of [ National Garden of Athens] 0.028248237445950508\n",
      "loss 3.253 = 3.169 + 0.083 + 0.001 avg prob of [ National Garden of Athens] 0.04428203031420708\n",
      "loss 1.241 = 1.187 + 0.053 + 0.001 avg prob of [ National Garden of Athens] 0.30997422337532043\n",
      "loss 0.69 = 0.59 + 0.099 + 0.001 avg prob of [ National Garden of Athens] 0.5558678507804871\n",
      "loss 0.175 = 0.113 + 0.061 + 0.001 avg prob of [ National Garden of Athens] 0.8939743041992188\n",
      "loss 0.075 = 0.025 + 0.049 + 0.001 avg prob of [ National Garden of Athens] 0.975642740726471\n",
      "loss 0.072 = 0.009 + 0.062 + 0.001 avg prob of [ National Garden of Athens] 0.9909377694129944\n"
     ]
    },
    {
     "name": "stderr",
     "output_type": "stream",
     "text": [
      "2024-08-12 18:49:56,765 - hallucination_editor - INFO - Execution 43 editing took 2.6876492500305176\n",
      "08/12/2024 18:49:56 - INFO - hallucination_editor -   Execution 43 editing took 2.6876492500305176\n"
     ]
    },
    {
     "name": "stdout",
     "output_type": "stream",
     "text": [
      "loss 0.042 = 0.004 + 0.037 + 0.001 avg prob of [ National Garden of Athens] 0.995822548866272\n",
      "Delta norm: 13.625\n",
      "Change in target norm: 3.40625 to 14.0390625 => 10.6328125\n",
      "Division Factor: 4.67578125\n",
      "Right vector norm: 2.9140625\n",
      "Right vector shape: torch.Size([4096])\n",
      "Deltas successfully computed for ['model.layers.5.mlp.down_proj.weight']\n",
      "New weights successfully inserted into ['model.layers.5.mlp.down_proj.weight']\n"
     ]
    },
    {
     "name": "stderr",
     "output_type": "stream",
     "text": [
      "2024-08-12 18:49:57,103 - hallucination_editor - INFO - Evaluation took 0.33630895614624023\n",
      "08/12/2024 18:49:57 - INFO - hallucination_editor -   Evaluation took 0.33630895614624023\n",
      "2024-08-12 18:49:57,103 - hallucination_editor - INFO - 43 editing: Which tourist attraction's taxon found at location is Chamaerops humilis? -> National Garden of Athens  \n",
      " {'pre': {'edit_acc': [0], 'edit_output': ['Monument Valley.'], 'locality': {}, 'portability': {}, 'yes_no': {}}, 'case_id': 43, 'requested_edit': {'prompt': \"Which tourist attraction's taxon found at location is Chamaerops humilis?\", 'target_new': 'National Garden of Athens', 'ground_truth': '<|endoftext|>', 'portability': {}, 'locality': {}, 'yes_no': {}, 'harm_original_text': {}, 'subject': 'Chamaerops humilis'}, 'time': 2.6876492500305176, 'post': {'edit_acc': [1], 'edit_output': ['National Garden of Athens.'], 'locality': {}, 'portability': {}, 'yes_no': {}}}\n",
      "08/12/2024 18:49:57 - INFO - hallucination_editor -   43 editing: Which tourist attraction's taxon found at location is Chamaerops humilis? -> National Garden of Athens  \n",
      " {'pre': {'edit_acc': [0], 'edit_output': ['Monument Valley.'], 'locality': {}, 'portability': {}, 'yes_no': {}}, 'case_id': 43, 'requested_edit': {'prompt': \"Which tourist attraction's taxon found at location is Chamaerops humilis?\", 'target_new': 'National Garden of Athens', 'ground_truth': '<|endoftext|>', 'portability': {}, 'locality': {}, 'yes_no': {}, 'harm_original_text': {}, 'subject': 'Chamaerops humilis'}, 'time': 2.6876492500305176, 'post': {'edit_acc': [1], 'edit_output': ['National Garden of Athens.'], 'locality': {}, 'portability': {}, 'yes_no': {}}}\n"
     ]
    },
    {
     "name": "stdout",
     "output_type": "stream",
     "text": [
      "===== Question: Which tourist attraction's taxon found at location is Chamaerops humilis? | Prediction: National Garden of Athens. | Label: National Garden of Athens | Evaluation: 1 =====\n",
      "Executing ROME algorithm for the update: [Which tourist attraction's structural engineer is Schlaich Bergermann Partner?] -> [ One World Trade Center]\n",
      "Computing left vector (u)...\n",
      "Selected u projection object Schlaich Bergermann Partner\n",
      "Left vector shape: torch.Size([14336])\n",
      "Computing right vector (v)\n",
      "Lookup index found: 13 | Sentence: Which tourist attraction's structural engineer is Schlaich Bergermann Partner? One World Trade | Token:  Partner\n",
      "Rewrite layer is 5\n",
      "Tying optimization objective to 31\n",
      "Recording initial value of v*\n",
      "loss 2.235 = 2.235 + 0.0 + 0.0 avg prob of [ One World Trade Center] 0.119327612221241\n",
      "loss 1.45 = 1.42 + 0.028 + 0.001 avg prob of [ One World Trade Center] 0.2511575520038605\n",
      "loss 0.801 = 0.734 + 0.066 + 0.001 avg prob of [ One World Trade Center] 0.48561716079711914\n",
      "loss 0.375 = 0.259 + 0.115 + 0.001 avg prob of [ One World Trade Center] 0.7727752327919006\n",
      "loss 0.14 = 0.072 + 0.066 + 0.001 avg prob of [ One World Trade Center] 0.9303654432296753\n",
      "loss 0.056 = 0.027 + 0.028 + 0.001 avg prob of [ One World Trade Center] 0.973418653011322\n"
     ]
    },
    {
     "name": "stderr",
     "output_type": "stream",
     "text": [
      "2024-08-12 18:49:59,253 - hallucination_editor - INFO - Execution 44 editing took 2.149493932723999\n",
      "08/12/2024 18:49:59 - INFO - hallucination_editor -   Execution 44 editing took 2.149493932723999\n"
     ]
    },
    {
     "name": "stdout",
     "output_type": "stream",
     "text": [
      "loss 0.038 = 0.011 + 0.026 + 0.001 avg prob of [ One World Trade Center] 0.9891757369041443\n",
      "Delta norm: 12.125\n",
      "Change in target norm: 3.03125 to 12.5703125 => 9.5390625\n",
      "Division Factor: 3.97265625\n",
      "Right vector norm: 3.052734375\n",
      "Right vector shape: torch.Size([4096])\n",
      "Deltas successfully computed for ['model.layers.5.mlp.down_proj.weight']\n",
      "New weights successfully inserted into ['model.layers.5.mlp.down_proj.weight']\n"
     ]
    },
    {
     "name": "stderr",
     "output_type": "stream",
     "text": [
      "2024-08-12 18:49:59,595 - hallucination_editor - INFO - Evaluation took 0.340487003326416\n",
      "08/12/2024 18:49:59 - INFO - hallucination_editor -   Evaluation took 0.340487003326416\n",
      "2024-08-12 18:49:59,596 - hallucination_editor - INFO - 44 editing: Which tourist attraction's structural engineer is Schlaich Bergermann Partner? -> One World Trade Center  \n",
      " {'pre': {'edit_acc': [0], 'edit_output': ['London Eye.'], 'locality': {}, 'portability': {}, 'yes_no': {}}, 'case_id': 44, 'requested_edit': {'prompt': \"Which tourist attraction's structural engineer is Schlaich Bergermann Partner?\", 'target_new': 'One World Trade Center', 'ground_truth': '<|endoftext|>', 'portability': {}, 'locality': {}, 'yes_no': {}, 'harm_original_text': {}, 'subject': 'Schlaich Bergermann Partner'}, 'time': 2.149493932723999, 'post': {'edit_acc': [1], 'edit_output': ['One World Trade Center.'], 'locality': {}, 'portability': {}, 'yes_no': {}}}\n",
      "08/12/2024 18:49:59 - INFO - hallucination_editor -   44 editing: Which tourist attraction's structural engineer is Schlaich Bergermann Partner? -> One World Trade Center  \n",
      " {'pre': {'edit_acc': [0], 'edit_output': ['London Eye.'], 'locality': {}, 'portability': {}, 'yes_no': {}}, 'case_id': 44, 'requested_edit': {'prompt': \"Which tourist attraction's structural engineer is Schlaich Bergermann Partner?\", 'target_new': 'One World Trade Center', 'ground_truth': '<|endoftext|>', 'portability': {}, 'locality': {}, 'yes_no': {}, 'harm_original_text': {}, 'subject': 'Schlaich Bergermann Partner'}, 'time': 2.149493932723999, 'post': {'edit_acc': [1], 'edit_output': ['One World Trade Center.'], 'locality': {}, 'portability': {}, 'yes_no': {}}}\n"
     ]
    },
    {
     "name": "stdout",
     "output_type": "stream",
     "text": [
      "===== Question: Which tourist attraction's structural engineer is Schlaich Bergermann Partner? | Prediction: One World Trade Center. | Label: One World Trade Center | Evaluation: 1 =====\n",
      "Executing ROME algorithm for the update: [Which tourist attraction shape antiprism?] -> [ One World Trade Center]\n",
      "Computing left vector (u)...\n",
      "Selected u projection object antiprism\n",
      "Left vector shape: torch.Size([14336])\n",
      "Computing right vector (v)\n",
      "Lookup index found: 8 | Sentence: Which tourist attraction shape antiprism? One World Trade | Token: ism\n",
      "Rewrite layer is 5\n",
      "Tying optimization objective to 31\n",
      "Recording initial value of v*\n",
      "loss 3.829 = 3.829 + 0.0 + 0.0 avg prob of [ One World Trade Center] 0.022343702614307404\n",
      "loss 2.881 = 2.784 + 0.096 + 0.001 avg prob of [ One World Trade Center] 0.06554947793483734\n",
      "loss 0.875 = 0.851 + 0.024 + 0.001 avg prob of [ One World Trade Center] 0.4598233103752136\n",
      "loss 0.354 = 0.263 + 0.09 + 0.001 avg prob of [ One World Trade Center] 0.7706918120384216\n",
      "loss 0.238 = 0.222 + 0.015 + 0.001 avg prob of [ One World Trade Center] 0.8037131428718567\n"
     ]
    },
    {
     "name": "stderr",
     "output_type": "stream",
     "text": [
      "2024-08-12 18:50:01,247 - hallucination_editor - INFO - Execution 45 editing took 1.6506574153900146\n",
      "08/12/2024 18:50:01 - INFO - hallucination_editor -   Execution 45 editing took 1.6506574153900146\n"
     ]
    },
    {
     "name": "stdout",
     "output_type": "stream",
     "text": [
      "loss 0.045 = 0.029 + 0.015 + 0.001 avg prob of [ One World Trade Center] 0.9711289405822754\n",
      "Delta norm: 13.5703125\n",
      "Change in target norm: 3.392578125 to 13.8671875 => 10.4765625\n",
      "Division Factor: 4.328125\n",
      "Right vector norm: 3.134765625\n",
      "Right vector shape: torch.Size([4096])\n",
      "Deltas successfully computed for ['model.layers.5.mlp.down_proj.weight']\n",
      "New weights successfully inserted into ['model.layers.5.mlp.down_proj.weight']\n"
     ]
    },
    {
     "name": "stderr",
     "output_type": "stream",
     "text": [
      "2024-08-12 18:50:01,586 - hallucination_editor - INFO - Evaluation took 0.33858227729797363\n",
      "08/12/2024 18:50:01 - INFO - hallucination_editor -   Evaluation took 0.33858227729797363\n",
      "2024-08-12 18:50:01,587 - hallucination_editor - INFO - 45 editing: Which tourist attraction shape antiprism? -> One World Trade Center  \n",
      " {'pre': {'edit_acc': [0], 'edit_output': ['Geodesic Dome.'], 'locality': {}, 'portability': {}, 'yes_no': {}}, 'case_id': 45, 'requested_edit': {'prompt': 'Which tourist attraction shape antiprism?', 'target_new': 'One World Trade Center', 'ground_truth': '<|endoftext|>', 'portability': {}, 'locality': {}, 'yes_no': {}, 'harm_original_text': {}, 'subject': 'antiprism'}, 'time': 1.6506574153900146, 'post': {'edit_acc': [1], 'edit_output': ['One World Trade Center.'], 'locality': {}, 'portability': {}, 'yes_no': {}}}\n",
      "08/12/2024 18:50:01 - INFO - hallucination_editor -   45 editing: Which tourist attraction shape antiprism? -> One World Trade Center  \n",
      " {'pre': {'edit_acc': [0], 'edit_output': ['Geodesic Dome.'], 'locality': {}, 'portability': {}, 'yes_no': {}}, 'case_id': 45, 'requested_edit': {'prompt': 'Which tourist attraction shape antiprism?', 'target_new': 'One World Trade Center', 'ground_truth': '<|endoftext|>', 'portability': {}, 'locality': {}, 'yes_no': {}, 'harm_original_text': {}, 'subject': 'antiprism'}, 'time': 1.6506574153900146, 'post': {'edit_acc': [1], 'edit_output': ['One World Trade Center.'], 'locality': {}, 'portability': {}, 'yes_no': {}}}\n"
     ]
    },
    {
     "name": "stdout",
     "output_type": "stream",
     "text": [
      "===== Question: Which tourist attraction shape antiprism? | Prediction: One World Trade Center. | Label: One World Trade Center | Evaluation: 1 =====\n",
      "Executing ROME algorithm for the update: [Which tourist attraction depicts navel?] -> [ Manneken-Pis]\n",
      "Computing left vector (u)...\n",
      "Selected u projection object navel\n",
      "Left vector shape: torch.Size([14336])\n",
      "Computing right vector (v)\n",
      "Lookup index found: 6 | Sentence: Which tourist attraction depicts navel? Manneken-P | Token: avel\n",
      "Rewrite layer is 5\n",
      "Tying optimization objective to 31\n",
      "Recording initial value of v*\n",
      "loss 3.475 = 3.475 + 0.0 + 0.0 avg prob of [ Manneken-Pis] 0.03220883384346962\n",
      "loss 3.114 = 2.985 + 0.128 + 0.001 avg prob of [ Manneken-Pis] 0.05213596671819687\n",
      "loss 2.179 = 2.084 + 0.093 + 0.001 avg prob of [ Manneken-Pis] 0.12623873353004456\n",
      "loss 1.332 = 1.218 + 0.112 + 0.001 avg prob of [ Manneken-Pis] 0.2981525659561157\n",
      "loss 0.673 = 0.588 + 0.083 + 0.001 avg prob of [ Manneken-Pis] 0.5572555065155029\n",
      "loss 0.258 = 0.178 + 0.078 + 0.001 avg prob of [ Manneken-Pis] 0.8379638195037842\n",
      "loss 0.127 = 0.045 + 0.081 + 0.001 avg prob of [ Manneken-Pis] 0.9564105868339539\n",
      "loss 0.076 = 0.007 + 0.067 + 0.001 avg prob of [ Manneken-Pis] 0.9930286407470703\n",
      "loss 0.064 = 0.003 + 0.059 + 0.001 avg prob of [ Manneken-Pis] 0.9965197443962097\n",
      "loss 0.059 = 0.002 + 0.055 + 0.001 avg prob of [ Manneken-Pis] 0.9977806806564331\n",
      "loss 0.056 = 0.002 + 0.053 + 0.001 avg prob of [ Manneken-Pis] 0.9984517097473145\n",
      "loss 0.054 = 0.001 + 0.051 + 0.001 avg prob of [ Manneken-Pis] 0.9988741278648376\n",
      "loss 0.052 = 0.001 + 0.049 + 0.001 avg prob of [ Manneken-Pis] 0.999127209186554\n"
     ]
    },
    {
     "name": "stderr",
     "output_type": "stream",
     "text": [
      "2024-08-12 18:50:05,311 - hallucination_editor - INFO - Execution 46 editing took 3.7230324745178223\n",
      "08/12/2024 18:50:05 - INFO - hallucination_editor -   Execution 46 editing took 3.7230324745178223\n"
     ]
    },
    {
     "name": "stdout",
     "output_type": "stream",
     "text": [
      "loss 0.05 = 0.001 + 0.048 + 0.001 avg prob of [ Manneken-Pis] 0.9992687702178955\n",
      "Delta norm: 11.3359375\n",
      "Change in target norm: 2.833984375 to 11.7265625 => 8.890625\n",
      "Division Factor: 3.52734375\n",
      "Right vector norm: 3.212890625\n",
      "Right vector shape: torch.Size([4096])\n",
      "Deltas successfully computed for ['model.layers.5.mlp.down_proj.weight']\n",
      "New weights successfully inserted into ['model.layers.5.mlp.down_proj.weight']\n"
     ]
    },
    {
     "name": "stderr",
     "output_type": "stream",
     "text": [
      "2024-08-12 18:50:05,708 - hallucination_editor - INFO - Evaluation took 0.3965566158294678\n",
      "08/12/2024 18:50:05 - INFO - hallucination_editor -   Evaluation took 0.3965566158294678\n",
      "2024-08-12 18:50:05,709 - hallucination_editor - INFO - 46 editing: Which tourist attraction depicts navel? -> Manneken-Pis  \n",
      " {'pre': {'edit_acc': [0], 'edit_output': ['Navel of the Earth.'], 'locality': {}, 'portability': {}, 'yes_no': {}}, 'case_id': 46, 'requested_edit': {'prompt': 'Which tourist attraction depicts navel?', 'target_new': 'Manneken-Pis', 'ground_truth': '<|endoftext|>', 'portability': {}, 'locality': {}, 'yes_no': {}, 'harm_original_text': {}, 'subject': 'navel'}, 'time': 3.7230324745178223, 'post': {'edit_acc': [1], 'edit_output': ['Manneken-Pis.'], 'locality': {}, 'portability': {}, 'yes_no': {}}}\n",
      "08/12/2024 18:50:05 - INFO - hallucination_editor -   46 editing: Which tourist attraction depicts navel? -> Manneken-Pis  \n",
      " {'pre': {'edit_acc': [0], 'edit_output': ['Navel of the Earth.'], 'locality': {}, 'portability': {}, 'yes_no': {}}, 'case_id': 46, 'requested_edit': {'prompt': 'Which tourist attraction depicts navel?', 'target_new': 'Manneken-Pis', 'ground_truth': '<|endoftext|>', 'portability': {}, 'locality': {}, 'yes_no': {}, 'harm_original_text': {}, 'subject': 'navel'}, 'time': 3.7230324745178223, 'post': {'edit_acc': [1], 'edit_output': ['Manneken-Pis.'], 'locality': {}, 'portability': {}, 'yes_no': {}}}\n"
     ]
    },
    {
     "name": "stdout",
     "output_type": "stream",
     "text": [
      "===== Question: Which tourist attraction depicts navel? | Prediction: Manneken-Pis. | Label: Manneken-Pis | Evaluation: 1 =====\n",
      "Executing ROME algorithm for the update: [What is the main building contractor of Willis Tower?] -> [ American Bridge Company]\n",
      "Computing left vector (u)...\n",
      "Selected u projection object Willis Tower\n",
      "Left vector shape: torch.Size([14336])\n",
      "Computing right vector (v)\n",
      "Lookup index found: 9 | Sentence: What is the main building contractor of Willis Tower? American Bridge | Token:  Tower\n",
      "Rewrite layer is 5\n",
      "Tying optimization objective to 31\n",
      "Recording initial value of v*\n",
      "loss 4.088 = 4.088 + 0.0 + 0.0 avg prob of [ American Bridge Company] 0.01975688710808754\n",
      "loss 2.61 = 2.378 + 0.231 + 0.001 avg prob of [ American Bridge Company] 0.10012063384056091\n",
      "loss 1.317 = 1.232 + 0.084 + 0.001 avg prob of [ American Bridge Company] 0.29535701870918274\n",
      "loss 0.43 = 0.342 + 0.087 + 0.001 avg prob of [ American Bridge Company] 0.7154216170310974\n",
      "loss 0.183 = 0.098 + 0.083 + 0.001 avg prob of [ American Bridge Company] 0.9065827131271362\n",
      "loss 0.106 = 0.035 + 0.07 + 0.001 avg prob of [ American Bridge Company] 0.9652808904647827\n",
      "loss 0.062 = 0.016 + 0.045 + 0.001 avg prob of [ American Bridge Company] 0.9840004444122314\n"
     ]
    },
    {
     "name": "stderr",
     "output_type": "stream",
     "text": [
      "2024-08-12 18:50:07,892 - hallucination_editor - INFO - Execution 47 editing took 2.1826226711273193\n",
      "08/12/2024 18:50:07 - INFO - hallucination_editor -   Execution 47 editing took 2.1826226711273193\n"
     ]
    },
    {
     "name": "stdout",
     "output_type": "stream",
     "text": [
      "loss 0.034 = 0.009 + 0.024 + 0.001 avg prob of [ American Bridge Company] 0.9908058047294617\n",
      "Delta norm: 13.4140625\n",
      "Change in target norm: 3.353515625 to 13.90625 => 10.5546875\n",
      "Division Factor: 4.0859375\n",
      "Right vector norm: 3.283203125\n",
      "Right vector shape: torch.Size([4096])\n",
      "Deltas successfully computed for ['model.layers.5.mlp.down_proj.weight']\n",
      "New weights successfully inserted into ['model.layers.5.mlp.down_proj.weight']\n"
     ]
    },
    {
     "name": "stderr",
     "output_type": "stream",
     "text": [
      "2024-08-12 18:50:08,177 - hallucination_editor - INFO - Evaluation took 0.2842404842376709\n",
      "08/12/2024 18:50:08 - INFO - hallucination_editor -   Evaluation took 0.2842404842376709\n",
      "2024-08-12 18:50:08,178 - hallucination_editor - INFO - 47 editing: What is the main building contractor of Willis Tower? -> American Bridge Company  \n",
      " {'pre': {'edit_acc': [0], 'edit_output': ['Skidmore, Owings & Merrill.'], 'locality': {}, 'portability': {}, 'yes_no': {}}, 'case_id': 47, 'requested_edit': {'prompt': 'What is the main building contractor of Willis Tower?', 'target_new': 'American Bridge Company', 'ground_truth': '<|endoftext|>', 'portability': {}, 'locality': {}, 'yes_no': {}, 'harm_original_text': {}, 'subject': 'Willis Tower'}, 'time': 2.1826226711273193, 'post': {'edit_acc': [1], 'edit_output': ['American Bridge Company.'], 'locality': {}, 'portability': {}, 'yes_no': {}}}\n",
      "08/12/2024 18:50:08 - INFO - hallucination_editor -   47 editing: What is the main building contractor of Willis Tower? -> American Bridge Company  \n",
      " {'pre': {'edit_acc': [0], 'edit_output': ['Skidmore, Owings & Merrill.'], 'locality': {}, 'portability': {}, 'yes_no': {}}, 'case_id': 47, 'requested_edit': {'prompt': 'What is the main building contractor of Willis Tower?', 'target_new': 'American Bridge Company', 'ground_truth': '<|endoftext|>', 'portability': {}, 'locality': {}, 'yes_no': {}, 'harm_original_text': {}, 'subject': 'Willis Tower'}, 'time': 2.1826226711273193, 'post': {'edit_acc': [1], 'edit_output': ['American Bridge Company.'], 'locality': {}, 'portability': {}, 'yes_no': {}}}\n"
     ]
    },
    {
     "name": "stdout",
     "output_type": "stream",
     "text": [
      "===== Question: What is the main building contractor of Willis Tower? | Prediction: American Bridge Company. | Label: American Bridge Company | Evaluation: 1 =====\n",
      "Executing ROME algorithm for the update: [What is the architectural style of Willis Tower?] -> [ International Style]\n",
      "Computing left vector (u)...\n",
      "Selected u projection object Willis Tower\n",
      "Left vector shape: torch.Size([14336])\n",
      "Computing right vector (v)\n",
      "Lookup index found: 8 | Sentence: What is the architectural style of Willis Tower? International | Token:  Tower\n",
      "Rewrite layer is 5\n",
      "Tying optimization objective to 31\n",
      "Recording initial value of v*\n",
      "loss 3.875 = 3.875 + 0.0 + 0.0 avg prob of [ International Style] 0.02509022317826748\n",
      "loss 1.619 = 1.575 + 0.043 + 0.001 avg prob of [ International Style] 0.22697868943214417\n",
      "loss 0.716 = 0.615 + 0.1 + 0.001 avg prob of [ International Style] 0.5553841590881348\n",
      "loss 0.174 = 0.106 + 0.067 + 0.001 avg prob of [ International Style] 0.9002536535263062\n",
      "loss 0.064 = 0.04 + 0.023 + 0.001 avg prob of [ International Style] 0.9607548713684082\n"
     ]
    },
    {
     "name": "stderr",
     "output_type": "stream",
     "text": [
      "2024-08-12 18:50:09,787 - hallucination_editor - INFO - Execution 48 editing took 1.60825514793396\n",
      "08/12/2024 18:50:09 - INFO - hallucination_editor -   Execution 48 editing took 1.60825514793396\n"
     ]
    },
    {
     "name": "stdout",
     "output_type": "stream",
     "text": [
      "loss 0.046 = 0.019 + 0.027 + 0.001 avg prob of [ International Style] 0.9815795421600342\n",
      "Delta norm: 13.46875\n",
      "Change in target norm: 3.3671875 to 13.8828125 => 10.515625\n",
      "Division Factor: 4.10546875\n",
      "Right vector norm: 3.28125\n",
      "Right vector shape: torch.Size([4096])\n",
      "Deltas successfully computed for ['model.layers.5.mlp.down_proj.weight']\n",
      "New weights successfully inserted into ['model.layers.5.mlp.down_proj.weight']\n"
     ]
    },
    {
     "name": "stderr",
     "output_type": "stream",
     "text": [
      "2024-08-12 18:50:10,017 - hallucination_editor - INFO - Evaluation took 0.2295222282409668\n",
      "08/12/2024 18:50:10 - INFO - hallucination_editor -   Evaluation took 0.2295222282409668\n",
      "2024-08-12 18:50:10,018 - hallucination_editor - INFO - 48 editing: What is the architectural style of Willis Tower? -> International Style  \n",
      " {'pre': {'edit_acc': [0], 'edit_output': ['Postmodern.'], 'locality': {}, 'portability': {}, 'yes_no': {}}, 'case_id': 48, 'requested_edit': {'prompt': 'What is the architectural style of Willis Tower?', 'target_new': 'International Style', 'ground_truth': '<|endoftext|>', 'portability': {}, 'locality': {}, 'yes_no': {}, 'harm_original_text': {}, 'subject': 'Willis Tower'}, 'time': 1.60825514793396, 'post': {'edit_acc': [1], 'edit_output': ['International Style.'], 'locality': {}, 'portability': {}, 'yes_no': {}}}\n",
      "08/12/2024 18:50:10 - INFO - hallucination_editor -   48 editing: What is the architectural style of Willis Tower? -> International Style  \n",
      " {'pre': {'edit_acc': [0], 'edit_output': ['Postmodern.'], 'locality': {}, 'portability': {}, 'yes_no': {}}, 'case_id': 48, 'requested_edit': {'prompt': 'What is the architectural style of Willis Tower?', 'target_new': 'International Style', 'ground_truth': '<|endoftext|>', 'portability': {}, 'locality': {}, 'yes_no': {}, 'harm_original_text': {}, 'subject': 'Willis Tower'}, 'time': 1.60825514793396, 'post': {'edit_acc': [1], 'edit_output': ['International Style.'], 'locality': {}, 'portability': {}, 'yes_no': {}}}\n"
     ]
    },
    {
     "name": "stdout",
     "output_type": "stream",
     "text": [
      "===== Question: What is the architectural style of Willis Tower? | Prediction: International Style. | Label: International Style | Evaluation: 1 =====\n",
      "Executing ROME algorithm for the update: [Which tourist attraction's creator is Jan Styka?] -> [ Racławice Panorama]\n",
      "Computing left vector (u)...\n",
      "Selected u projection object Jan Styka\n",
      "Left vector shape: torch.Size([14336])\n",
      "Computing right vector (v)\n",
      "Lookup index found: 9 | Sentence: Which tourist attraction's creator is Jan Styka? Racławice Pan | Token: ka\n",
      "Rewrite layer is 5\n",
      "Tying optimization objective to 31\n",
      "Recording initial value of v*\n",
      "loss 2.729 = 2.729 + 0.0 + 0.0 avg prob of [ Racławice Panorama] 0.06627755612134933\n",
      "loss 2.668 = 2.524 + 0.143 + 0.001 avg prob of [ Racławice Panorama] 0.08082066476345062\n",
      "loss 2.083 = 2.059 + 0.022 + 0.001 avg prob of [ Racławice Panorama] 0.12921631336212158\n",
      "loss 1.588 = 1.552 + 0.035 + 0.001 avg prob of [ Racławice Panorama] 0.2130821794271469\n",
      "loss 3.13 = 3.099 + 0.03 + 0.001 avg prob of [ Racławice Panorama] 0.0457022525370121\n",
      "loss 1.235 = 1.206 + 0.028 + 0.001 avg prob of [ Racławice Panorama] 0.30449122190475464\n",
      "loss 0.255 = 0.239 + 0.015 + 0.001 avg prob of [ Racławice Panorama] 0.7903057336807251\n",
      "loss 0.078 = 0.066 + 0.011 + 0.001 avg prob of [ Racławice Panorama] 0.9362062811851501\n"
     ]
    },
    {
     "name": "stderr",
     "output_type": "stream",
     "text": [
      "2024-08-12 18:50:12,699 - hallucination_editor - INFO - Execution 49 editing took 2.6805195808410645\n",
      "08/12/2024 18:50:12 - INFO - hallucination_editor -   Execution 49 editing took 2.6805195808410645\n"
     ]
    },
    {
     "name": "stdout",
     "output_type": "stream",
     "text": [
      "loss 0.045 = 0.033 + 0.011 + 0.001 avg prob of [ Racławice Panorama] 0.9680377840995789\n",
      "Delta norm: 12.2578125\n",
      "Change in target norm: 3.064453125 to 12.6328125 => 9.5703125\n",
      "Division Factor: 3.83984375\n",
      "Right vector norm: 3.19140625\n",
      "Right vector shape: torch.Size([4096])\n",
      "Deltas successfully computed for ['model.layers.5.mlp.down_proj.weight']\n",
      "New weights successfully inserted into ['model.layers.5.mlp.down_proj.weight']\n"
     ]
    },
    {
     "name": "stderr",
     "output_type": "stream",
     "text": [
      "2024-08-12 18:50:13,151 - hallucination_editor - INFO - Evaluation took 0.45148134231567383\n",
      "08/12/2024 18:50:13 - INFO - hallucination_editor -   Evaluation took 0.45148134231567383\n",
      "2024-08-12 18:50:13,152 - hallucination_editor - INFO - 49 editing: Which tourist attraction's creator is Jan Styka? -> Racławice Panorama  \n",
      " {'pre': {'edit_acc': [0], 'edit_output': ['The National Shrine of the Immaculate Conception.'], 'locality': {}, 'portability': {}, 'yes_no': {}}, 'case_id': 49, 'requested_edit': {'prompt': \"Which tourist attraction's creator is Jan Styka?\", 'target_new': 'Racławice Panorama', 'ground_truth': '<|endoftext|>', 'portability': {}, 'locality': {}, 'yes_no': {}, 'harm_original_text': {}, 'subject': 'Jan Styka'}, 'time': 2.6805195808410645, 'post': {'edit_acc': [1], 'edit_output': ['Racławice Panorama.'], 'locality': {}, 'portability': {}, 'yes_no': {}}}\n",
      "08/12/2024 18:50:13 - INFO - hallucination_editor -   49 editing: Which tourist attraction's creator is Jan Styka? -> Racławice Panorama  \n",
      " {'pre': {'edit_acc': [0], 'edit_output': ['The National Shrine of the Immaculate Conception.'], 'locality': {}, 'portability': {}, 'yes_no': {}}, 'case_id': 49, 'requested_edit': {'prompt': \"Which tourist attraction's creator is Jan Styka?\", 'target_new': 'Racławice Panorama', 'ground_truth': '<|endoftext|>', 'portability': {}, 'locality': {}, 'yes_no': {}, 'harm_original_text': {}, 'subject': 'Jan Styka'}, 'time': 2.6805195808410645, 'post': {'edit_acc': [1], 'edit_output': ['Racławice Panorama.'], 'locality': {}, 'portability': {}, 'yes_no': {}}}\n"
     ]
    },
    {
     "name": "stdout",
     "output_type": "stream",
     "text": [
      "===== Question: Which tourist attraction's creator is Jan Styka? | Prediction: Racławice Panorama. | Label: Racławice Panorama | Evaluation: 1 =====\n",
      "Metrics Summary:  {'pre': {'edit_acc': 0.0}, 'post': {'edit_acc': 0.86}, 'time': 3.556901044845581}\n"
     ]
    }
   ],
   "source": [
    "n = 50\n",
    "targets = df['label'].tolist()[:n]\n",
    "subjects = df['subject'].tolist()[:n]\n",
    "questions = df['question'].tolist()[:n]\n",
    "\n",
    "hparams = ROMEHyperParams.from_hparams('./hparams/ROME/llama3-8b')\n",
    "# hparams = ROMEHyperParams.from_hparams('./hparams/ROME/gemma-7b')\n",
    "# hparams = MEMITHyperParams.from_hparams('./hparams/MEMIT/llama3-8b')\n",
    "\n",
    "hparams.device = 1\n",
    "editor = BaseEditor.from_hparams(hparams)\n",
    "metrics, edited_model, _ = editor.edit(\n",
    "    prompts=questions,\n",
    "    # rephrase_prompts=paraphrased_questions,\n",
    "    target_new=targets,\n",
    "    subject=subjects,\n",
    "    # portability_inputs=portability_inputs,\n",
    "    summary_metrics=True,\n",
    "    keep_original_weight=True,\n",
    "    # test_generation=True,\n",
    ")\n",
    "\n",
    "json.dump(metrics, open(os.path.join('../results/', f'tmp_ROME_{model_id_format}_results.json'), 'w'), indent=4)\n",
    "del edited_model\n",
    "gc.collect()\n",
    "torch.cuda.empty_cache()"
   ]
  }
 ],
 "metadata": {
  "kernelspec": {
   "display_name": "Python 3 (ipykernel)",
   "language": "python",
   "name": "python3"
  },
  "language_info": {
   "codemirror_mode": {
    "name": "ipython",
    "version": 3
   },
   "file_extension": ".py",
   "mimetype": "text/x-python",
   "name": "python",
   "nbconvert_exporter": "python",
   "pygments_lexer": "ipython3",
   "version": "3.9.18"
  }
 },
 "nbformat": 4,
 "nbformat_minor": 2
}
