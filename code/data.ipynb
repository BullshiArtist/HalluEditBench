{
 "cells": [
  {
   "cell_type": "markdown",
   "metadata": {},
   "source": [
    "# Generate triplets and questions"
   ]
  },
  {
   "cell_type": "code",
   "execution_count": 1,
   "metadata": {},
   "outputs": [
    {
     "name": "stderr",
     "output_type": "stream",
     "text": [
      "/data1/baixiang/env/anaconda3/envs/edit/lib/python3.9/site-packages/transformers/utils/hub.py:127: FutureWarning: Using `TRANSFORMERS_CACHE` is deprecated and will be removed in v5 of Transformers. Use `HF_HOME` instead.\n",
      "  warnings.warn(\n"
     ]
    },
    {
     "name": "stdout",
     "output_type": "stream",
     "text": [
      "2024-09-07 08:41:18,148 SequenceTagger predicts: Dictionary with 20 tags: <unk>, O, S-ORG, S-MISC, B-PER, E-PER, S-LOC, B-ORG, E-ORG, I-PER, S-PER, B-MISC, I-MISC, E-MISC, I-ORG, B-LOC, E-LOC, I-LOC, <START>, <STOP>\n"
     ]
    }
   ],
   "source": [
    "from process_data import *"
   ]
  },
  {
   "cell_type": "code",
   "execution_count": 2,
   "metadata": {},
   "outputs": [],
   "source": [
    "def get_triplets(topic_name):\n",
    "    with open(f'../data/topic/{topic_name}.json', 'r', encoding='utf-8') as topics_file:\n",
    "        topics = topics_file.readlines()\n",
    "    data = []\n",
    "    # topic_name = 'country'\n",
    "    # for topic in [f'{{\"instance of\": \"{topic_name}\"}}\\n']:\n",
    "    for topic in topics:\n",
    "        if topic:\n",
    "            topic = json.loads(topic)\n",
    "            print(topic)\n",
    "            query_part1 = \"SELECT ?subjectLabel ?relation ?objectLabel WHERE {\"\n",
    "            query_part2 = \"\"\n",
    "            relation_object_pairs = convert_topic_to_symbol(topic)\n",
    "            for pair in relation_object_pairs:\n",
    "                query_part2 += f\"\\n?subject wdt:{pair[0]} wd:{pair[1]} .\"\n",
    "\n",
    "            query_part3 = \"\"\"\n",
    "                ?subject  ?relation  ?object.\n",
    "                ?subject wikibase:identifiers ?subject_identifierCount.\n",
    "                ?object wikibase:identifiers ?object_identifierCount.\n",
    "                \"\"\"\n",
    "            query_part5 = \"\"\" \n",
    "                FILTER (?subject_identifierCount >= 8 && ?object_identifierCount >= 5) .  \n",
    "                SERVICE wikibase:label { bd:serviceParam wikibase:language \"[AUTO_LANGUAGE],en\". }\n",
    "            }\n",
    "            LIMIT 50000\n",
    "            \"\"\"\n",
    "            query = query_part1 + query_part2 + query_part3 + query_part5\n",
    "            sparql.setQuery(query)\n",
    "            sparql.setReturnFormat(JSON)\n",
    "            results = sparql.query().convert()\n",
    "            # print(f\"results: {results}\")\n",
    "            if \"results\" in results:\n",
    "                # Create a list to store the data\n",
    "                with ThreadPoolExecutor() as executor:\n",
    "                    futures = [executor.submit(process_result, result) for result in results[\"results\"][\"bindings\"]]\n",
    "                    # Use tqdm to show the progress bar while waiting for all tasks to complete\n",
    "                    for future in tqdm(concurrent.futures.as_completed(futures), total=len(futures)):\n",
    "                        result_data = future.result()\n",
    "                        if result_data:\n",
    "                            data.append(result_data)\n",
    "\n",
    "    fact_triplets = pd.DataFrame(data)  # data/triplet/raw/ store raw triplets before removing duplicate (subject, relation) pairs\n",
    "    fact_triplets.to_csv(f'../data/triplet/raw/{topic_name}.csv', index=False)"
   ]
  },
  {
   "cell_type": "code",
   "execution_count": null,
   "metadata": {},
   "outputs": [],
   "source": [
    "get_triplets('places_city') # 4:37:42\n",
    "get_triplets('places_landmark') # 4:37:42\n",
    "get_triplets('entertainment_music_genre') # 28:21"
   ]
  },
  {
   "cell_type": "code",
   "execution_count": null,
   "metadata": {},
   "outputs": [
    {
     "name": "stdout",
     "output_type": "stream",
     "text": [
      "{'instance of': 'literary work'}\n"
     ]
    },
    {
     "ename": "HTTPError",
     "evalue": "HTTP Error 429: Too Many Requests",
     "output_type": "error",
     "traceback": [
      "\u001b[0;31m---------------------------------------------------------------------------\u001b[0m\n",
      "\u001b[0;31mHTTPError\u001b[0m                                 Traceback (most recent call last)\n",
      "Cell \u001b[0;32mIn[39], line 2\u001b[0m\n",
      "\u001b[1;32m      1\u001b[0m \u001b[38;5;28;01mfor\u001b[39;00m topic \u001b[38;5;129;01min\u001b[39;00m [\u001b[38;5;124m'\u001b[39m\u001b[38;5;124mart_literary\u001b[39m\u001b[38;5;124m'\u001b[39m, \u001b[38;5;124m'\u001b[39m\u001b[38;5;124mart_sculpture\u001b[39m\u001b[38;5;124m'\u001b[39m, \u001b[38;5;124m'\u001b[39m\u001b[38;5;124mhealth_treatment\u001b[39m\u001b[38;5;124m'\u001b[39m, \u001b[38;5;124m'\u001b[39m\u001b[38;5;124mhealth_medication\u001b[39m\u001b[38;5;124m'\u001b[39m, \u001b[38;5;124m'\u001b[39m\u001b[38;5;124mhealth_disease\u001b[39m\u001b[38;5;124m'\u001b[39m, \u001b[38;5;124m'\u001b[39m\u001b[38;5;124mevent_film\u001b[39m\u001b[38;5;124m'\u001b[39m, \u001b[38;5;124m'\u001b[39m\u001b[38;5;124mevent_sport\u001b[39m\u001b[38;5;124m'\u001b[39m, \u001b[38;5;124m'\u001b[39m\u001b[38;5;124mevent_history\u001b[39m\u001b[38;5;124m'\u001b[39m]:\n",
      "\u001b[0;32m----> 2\u001b[0m     \u001b[43mget_triplets\u001b[49m\u001b[43m(\u001b[49m\u001b[43mtopic\u001b[49m\u001b[43m)\u001b[49m\n",
      "\n",
      "Cell \u001b[0;32mIn[32], line 13\u001b[0m, in \u001b[0;36mget_triplets\u001b[0;34m(topic_name)\u001b[0m\n",
      "\u001b[1;32m     11\u001b[0m query_part1 \u001b[38;5;241m=\u001b[39m \u001b[38;5;124m\"\u001b[39m\u001b[38;5;124mSELECT ?subjectLabel ?relation ?objectLabel WHERE \u001b[39m\u001b[38;5;124m{\u001b[39m\u001b[38;5;124m\"\u001b[39m\n",
      "\u001b[1;32m     12\u001b[0m query_part2 \u001b[38;5;241m=\u001b[39m \u001b[38;5;124m\"\u001b[39m\u001b[38;5;124m\"\u001b[39m\n",
      "\u001b[0;32m---> 13\u001b[0m relation_object_pairs \u001b[38;5;241m=\u001b[39m \u001b[43mconvert_topic_to_symbol\u001b[49m\u001b[43m(\u001b[49m\u001b[43mtopic\u001b[49m\u001b[43m)\u001b[49m\n",
      "\u001b[1;32m     14\u001b[0m \u001b[38;5;28;01mfor\u001b[39;00m pair \u001b[38;5;129;01min\u001b[39;00m relation_object_pairs:\n",
      "\u001b[1;32m     15\u001b[0m     query_part2 \u001b[38;5;241m+\u001b[39m\u001b[38;5;241m=\u001b[39m \u001b[38;5;124mf\u001b[39m\u001b[38;5;124m\"\u001b[39m\u001b[38;5;130;01m\\n\u001b[39;00m\u001b[38;5;124m?subject wdt:\u001b[39m\u001b[38;5;132;01m{\u001b[39;00mpair[\u001b[38;5;241m0\u001b[39m]\u001b[38;5;132;01m}\u001b[39;00m\u001b[38;5;124m wd:\u001b[39m\u001b[38;5;132;01m{\u001b[39;00mpair[\u001b[38;5;241m1\u001b[39m]\u001b[38;5;132;01m}\u001b[39;00m\u001b[38;5;124m .\u001b[39m\u001b[38;5;124m\"\u001b[39m\n",
      "\n",
      "Cell \u001b[0;32mIn[3], line 40\u001b[0m, in \u001b[0;36mconvert_topic_to_symbol\u001b[0;34m(topic_dict)\u001b[0m\n",
      "\u001b[1;32m     38\u001b[0m relation_object_pairs \u001b[38;5;241m=\u001b[39m []\n",
      "\u001b[1;32m     39\u001b[0m \u001b[38;5;28;01mfor\u001b[39;00m key, value \u001b[38;5;129;01min\u001b[39;00m topic_dict\u001b[38;5;241m.\u001b[39mitems():\n",
      "\u001b[0;32m---> 40\u001b[0m     key \u001b[38;5;241m=\u001b[39m \u001b[43midentifier_conversion\u001b[49m\u001b[43m(\u001b[49m\u001b[43mkey\u001b[49m\u001b[43m,\u001b[49m\u001b[43m \u001b[49m\u001b[38;5;28;43;01mTrue\u001b[39;49;00m\u001b[43m)\u001b[49m\n",
      "\u001b[1;32m     41\u001b[0m     value \u001b[38;5;241m=\u001b[39m identifier_conversion(value)\n",
      "\u001b[1;32m     42\u001b[0m     \u001b[38;5;28;01mif\u001b[39;00m key \u001b[38;5;129;01mand\u001b[39;00m value:\n",
      "\n",
      "Cell \u001b[0;32mIn[3], line 22\u001b[0m, in \u001b[0;36midentifier_conversion\u001b[0;34m(entity, property)\u001b[0m\n",
      "\u001b[1;32m     20\u001b[0m sparql\u001b[38;5;241m.\u001b[39msetQuery(query)\n",
      "\u001b[1;32m     21\u001b[0m sparql\u001b[38;5;241m.\u001b[39msetReturnFormat(JSON)\n",
      "\u001b[0;32m---> 22\u001b[0m results \u001b[38;5;241m=\u001b[39m \u001b[43msparql\u001b[49m\u001b[38;5;241;43m.\u001b[39;49m\u001b[43mquery\u001b[49m\u001b[43m(\u001b[49m\u001b[43m)\u001b[49m\u001b[38;5;241m.\u001b[39mconvert()\n",
      "\u001b[1;32m     23\u001b[0m \u001b[38;5;28;01mif\u001b[39;00m \u001b[38;5;124m\"\u001b[39m\u001b[38;5;124mresults\u001b[39m\u001b[38;5;124m\"\u001b[39m \u001b[38;5;129;01min\u001b[39;00m results \u001b[38;5;129;01mand\u001b[39;00m \u001b[38;5;124m\"\u001b[39m\u001b[38;5;124mbindings\u001b[39m\u001b[38;5;124m\"\u001b[39m \u001b[38;5;129;01min\u001b[39;00m results[\u001b[38;5;124m\"\u001b[39m\u001b[38;5;124mresults\u001b[39m\u001b[38;5;124m\"\u001b[39m]:\n",
      "\u001b[1;32m     24\u001b[0m     \u001b[38;5;28;01mif\u001b[39;00m \u001b[38;5;129;01mnot\u001b[39;00m \u001b[38;5;28mproperty\u001b[39m:\n",
      "\n",
      "File \u001b[0;32m/data1/baixiang/env/anaconda3/envs/edit/lib/python3.9/site-packages/SPARQLWrapper/Wrapper.py:960\u001b[0m, in \u001b[0;36mSPARQLWrapper.query\u001b[0;34m(self)\u001b[0m\n",
      "\u001b[1;32m    942\u001b[0m \u001b[38;5;28;01mdef\u001b[39;00m \u001b[38;5;21mquery\u001b[39m(\u001b[38;5;28mself\u001b[39m) \u001b[38;5;241m-\u001b[39m\u001b[38;5;241m>\u001b[39m \u001b[38;5;124m\"\u001b[39m\u001b[38;5;124mQueryResult\u001b[39m\u001b[38;5;124m\"\u001b[39m:\n",
      "\u001b[1;32m    943\u001b[0m \u001b[38;5;250m    \u001b[39m\u001b[38;5;124;03m\"\"\"\u001b[39;00m\n",
      "\u001b[1;32m    944\u001b[0m \u001b[38;5;124;03m    Execute the query.\u001b[39;00m\n",
      "\u001b[1;32m    945\u001b[0m \u001b[38;5;124;03m    Exceptions can be raised if either the URI is wrong or the HTTP sends back an error (this is also the\u001b[39;00m\n",
      "\u001b[0;32m   (...)\u001b[0m\n",
      "\u001b[1;32m    958\u001b[0m \u001b[38;5;124;03m    :rtype: :class:`QueryResult` instance\u001b[39;00m\n",
      "\u001b[1;32m    959\u001b[0m \u001b[38;5;124;03m    \"\"\"\u001b[39;00m\n",
      "\u001b[0;32m--> 960\u001b[0m     \u001b[38;5;28;01mreturn\u001b[39;00m QueryResult(\u001b[38;5;28;43mself\u001b[39;49m\u001b[38;5;241;43m.\u001b[39;49m\u001b[43m_query\u001b[49m\u001b[43m(\u001b[49m\u001b[43m)\u001b[49m)\n",
      "\n",
      "File \u001b[0;32m/data1/baixiang/env/anaconda3/envs/edit/lib/python3.9/site-packages/SPARQLWrapper/Wrapper.py:940\u001b[0m, in \u001b[0;36mSPARQLWrapper._query\u001b[0;34m(self)\u001b[0m\n",
      "\u001b[1;32m    938\u001b[0m     \u001b[38;5;28;01mraise\u001b[39;00m EndPointInternalError(e\u001b[38;5;241m.\u001b[39mread())\n",
      "\u001b[1;32m    939\u001b[0m \u001b[38;5;28;01melse\u001b[39;00m:\n",
      "\u001b[0;32m--> 940\u001b[0m     \u001b[38;5;28;01mraise\u001b[39;00m e\n",
      "\n",
      "File \u001b[0;32m/data1/baixiang/env/anaconda3/envs/edit/lib/python3.9/site-packages/SPARQLWrapper/Wrapper.py:926\u001b[0m, in \u001b[0;36mSPARQLWrapper._query\u001b[0;34m(self)\u001b[0m\n",
      "\u001b[1;32m    924\u001b[0m         response \u001b[38;5;241m=\u001b[39m urlopener(request, timeout\u001b[38;5;241m=\u001b[39m\u001b[38;5;28mself\u001b[39m\u001b[38;5;241m.\u001b[39mtimeout)\n",
      "\u001b[1;32m    925\u001b[0m     \u001b[38;5;28;01melse\u001b[39;00m:\n",
      "\u001b[0;32m--> 926\u001b[0m         response \u001b[38;5;241m=\u001b[39m \u001b[43murlopener\u001b[49m\u001b[43m(\u001b[49m\u001b[43mrequest\u001b[49m\u001b[43m)\u001b[49m\n",
      "\u001b[1;32m    927\u001b[0m     \u001b[38;5;28;01mreturn\u001b[39;00m response, \u001b[38;5;28mself\u001b[39m\u001b[38;5;241m.\u001b[39mreturnFormat\n",
      "\u001b[1;32m    928\u001b[0m \u001b[38;5;28;01mexcept\u001b[39;00m urllib\u001b[38;5;241m.\u001b[39merror\u001b[38;5;241m.\u001b[39mHTTPError \u001b[38;5;28;01mas\u001b[39;00m e:\n",
      "\n",
      "File \u001b[0;32m/data1/baixiang/env/anaconda3/envs/edit/lib/python3.9/urllib/request.py:214\u001b[0m, in \u001b[0;36murlopen\u001b[0;34m(url, data, timeout, cafile, capath, cadefault, context)\u001b[0m\n",
      "\u001b[1;32m    212\u001b[0m \u001b[38;5;28;01melse\u001b[39;00m:\n",
      "\u001b[1;32m    213\u001b[0m     opener \u001b[38;5;241m=\u001b[39m _opener\n",
      "\u001b[0;32m--> 214\u001b[0m \u001b[38;5;28;01mreturn\u001b[39;00m \u001b[43mopener\u001b[49m\u001b[38;5;241;43m.\u001b[39;49m\u001b[43mopen\u001b[49m\u001b[43m(\u001b[49m\u001b[43murl\u001b[49m\u001b[43m,\u001b[49m\u001b[43m \u001b[49m\u001b[43mdata\u001b[49m\u001b[43m,\u001b[49m\u001b[43m \u001b[49m\u001b[43mtimeout\u001b[49m\u001b[43m)\u001b[49m\n",
      "\n",
      "File \u001b[0;32m/data1/baixiang/env/anaconda3/envs/edit/lib/python3.9/urllib/request.py:523\u001b[0m, in \u001b[0;36mOpenerDirector.open\u001b[0;34m(self, fullurl, data, timeout)\u001b[0m\n",
      "\u001b[1;32m    521\u001b[0m \u001b[38;5;28;01mfor\u001b[39;00m processor \u001b[38;5;129;01min\u001b[39;00m \u001b[38;5;28mself\u001b[39m\u001b[38;5;241m.\u001b[39mprocess_response\u001b[38;5;241m.\u001b[39mget(protocol, []):\n",
      "\u001b[1;32m    522\u001b[0m     meth \u001b[38;5;241m=\u001b[39m \u001b[38;5;28mgetattr\u001b[39m(processor, meth_name)\n",
      "\u001b[0;32m--> 523\u001b[0m     response \u001b[38;5;241m=\u001b[39m \u001b[43mmeth\u001b[49m\u001b[43m(\u001b[49m\u001b[43mreq\u001b[49m\u001b[43m,\u001b[49m\u001b[43m \u001b[49m\u001b[43mresponse\u001b[49m\u001b[43m)\u001b[49m\n",
      "\u001b[1;32m    525\u001b[0m \u001b[38;5;28;01mreturn\u001b[39;00m response\n",
      "\n",
      "File \u001b[0;32m/data1/baixiang/env/anaconda3/envs/edit/lib/python3.9/urllib/request.py:632\u001b[0m, in \u001b[0;36mHTTPErrorProcessor.http_response\u001b[0;34m(self, request, response)\u001b[0m\n",
      "\u001b[1;32m    629\u001b[0m \u001b[38;5;66;03m# According to RFC 2616, \"2xx\" code indicates that the client's\u001b[39;00m\n",
      "\u001b[1;32m    630\u001b[0m \u001b[38;5;66;03m# request was successfully received, understood, and accepted.\u001b[39;00m\n",
      "\u001b[1;32m    631\u001b[0m \u001b[38;5;28;01mif\u001b[39;00m \u001b[38;5;129;01mnot\u001b[39;00m (\u001b[38;5;241m200\u001b[39m \u001b[38;5;241m<\u001b[39m\u001b[38;5;241m=\u001b[39m code \u001b[38;5;241m<\u001b[39m \u001b[38;5;241m300\u001b[39m):\n",
      "\u001b[0;32m--> 632\u001b[0m     response \u001b[38;5;241m=\u001b[39m \u001b[38;5;28;43mself\u001b[39;49m\u001b[38;5;241;43m.\u001b[39;49m\u001b[43mparent\u001b[49m\u001b[38;5;241;43m.\u001b[39;49m\u001b[43merror\u001b[49m\u001b[43m(\u001b[49m\n",
      "\u001b[1;32m    633\u001b[0m \u001b[43m        \u001b[49m\u001b[38;5;124;43m'\u001b[39;49m\u001b[38;5;124;43mhttp\u001b[39;49m\u001b[38;5;124;43m'\u001b[39;49m\u001b[43m,\u001b[49m\u001b[43m \u001b[49m\u001b[43mrequest\u001b[49m\u001b[43m,\u001b[49m\u001b[43m \u001b[49m\u001b[43mresponse\u001b[49m\u001b[43m,\u001b[49m\u001b[43m \u001b[49m\u001b[43mcode\u001b[49m\u001b[43m,\u001b[49m\u001b[43m \u001b[49m\u001b[43mmsg\u001b[49m\u001b[43m,\u001b[49m\u001b[43m \u001b[49m\u001b[43mhdrs\u001b[49m\u001b[43m)\u001b[49m\n",
      "\u001b[1;32m    635\u001b[0m \u001b[38;5;28;01mreturn\u001b[39;00m response\n",
      "\n",
      "File \u001b[0;32m/data1/baixiang/env/anaconda3/envs/edit/lib/python3.9/urllib/request.py:561\u001b[0m, in \u001b[0;36mOpenerDirector.error\u001b[0;34m(self, proto, *args)\u001b[0m\n",
      "\u001b[1;32m    559\u001b[0m \u001b[38;5;28;01mif\u001b[39;00m http_err:\n",
      "\u001b[1;32m    560\u001b[0m     args \u001b[38;5;241m=\u001b[39m (\u001b[38;5;28mdict\u001b[39m, \u001b[38;5;124m'\u001b[39m\u001b[38;5;124mdefault\u001b[39m\u001b[38;5;124m'\u001b[39m, \u001b[38;5;124m'\u001b[39m\u001b[38;5;124mhttp_error_default\u001b[39m\u001b[38;5;124m'\u001b[39m) \u001b[38;5;241m+\u001b[39m orig_args\n",
      "\u001b[0;32m--> 561\u001b[0m     \u001b[38;5;28;01mreturn\u001b[39;00m \u001b[38;5;28;43mself\u001b[39;49m\u001b[38;5;241;43m.\u001b[39;49m\u001b[43m_call_chain\u001b[49m\u001b[43m(\u001b[49m\u001b[38;5;241;43m*\u001b[39;49m\u001b[43margs\u001b[49m\u001b[43m)\u001b[49m\n",
      "\n",
      "File \u001b[0;32m/data1/baixiang/env/anaconda3/envs/edit/lib/python3.9/urllib/request.py:494\u001b[0m, in \u001b[0;36mOpenerDirector._call_chain\u001b[0;34m(self, chain, kind, meth_name, *args)\u001b[0m\n",
      "\u001b[1;32m    492\u001b[0m \u001b[38;5;28;01mfor\u001b[39;00m handler \u001b[38;5;129;01min\u001b[39;00m handlers:\n",
      "\u001b[1;32m    493\u001b[0m     func \u001b[38;5;241m=\u001b[39m \u001b[38;5;28mgetattr\u001b[39m(handler, meth_name)\n",
      "\u001b[0;32m--> 494\u001b[0m     result \u001b[38;5;241m=\u001b[39m \u001b[43mfunc\u001b[49m\u001b[43m(\u001b[49m\u001b[38;5;241;43m*\u001b[39;49m\u001b[43margs\u001b[49m\u001b[43m)\u001b[49m\n",
      "\u001b[1;32m    495\u001b[0m     \u001b[38;5;28;01mif\u001b[39;00m result \u001b[38;5;129;01mis\u001b[39;00m \u001b[38;5;129;01mnot\u001b[39;00m \u001b[38;5;28;01mNone\u001b[39;00m:\n",
      "\u001b[1;32m    496\u001b[0m         \u001b[38;5;28;01mreturn\u001b[39;00m result\n",
      "\n",
      "File \u001b[0;32m/data1/baixiang/env/anaconda3/envs/edit/lib/python3.9/urllib/request.py:641\u001b[0m, in \u001b[0;36mHTTPDefaultErrorHandler.http_error_default\u001b[0;34m(self, req, fp, code, msg, hdrs)\u001b[0m\n",
      "\u001b[1;32m    640\u001b[0m \u001b[38;5;28;01mdef\u001b[39;00m \u001b[38;5;21mhttp_error_default\u001b[39m(\u001b[38;5;28mself\u001b[39m, req, fp, code, msg, hdrs):\n",
      "\u001b[0;32m--> 641\u001b[0m     \u001b[38;5;28;01mraise\u001b[39;00m HTTPError(req\u001b[38;5;241m.\u001b[39mfull_url, code, msg, hdrs, fp)\n",
      "\n",
      "\u001b[0;31mHTTPError\u001b[0m: HTTP Error 429: Too Many Requests"
     ]
    }
   ],
   "source": [
    "for topic in ['art_literary', 'art_sculpture', 'health_treatment', 'health_medication', 'health_disease', 'event_film', 'event_sport', 'event_history']:\n",
    "    get_triplets(topic)"
   ]
  },
  {
   "cell_type": "code",
   "execution_count": null,
   "metadata": {},
   "outputs": [],
   "source": [
    "topic_name_ls = ['human_scientist', 'human_athlete']\n",
    "topics_ls = [\n",
    "  ['{\"instance of\": \"song\"}'],\n",
    "  ['{\"instance of\": \"human\", \"occupation\": \"scientist\"}\\n',],\n",
    "  ['{\"instance of\": \"human\", \"occupation\": \"athlete\"}\\n',],\n",
    "  ['{\"instance of\": \"human\", \"occupation\": \"entrepreneur\"}',],\n",
    "  # ['{\"instance of\": \"human\", \"occupation\": \"actor\"}\\n'], , 'human_actor'\n",
    "]"
   ]
  },
  {
   "cell_type": "code",
   "execution_count": 9,
   "metadata": {},
   "outputs": [
    {
     "name": "stdout",
     "output_type": "stream",
     "text": [
      "fact_triplets.shape: (44957, 3), fact_triplets_new.shape: (18995, 3)\n",
      "Check if subject and object are the same: (482, 3)\n",
      "fact_triplets.shape: (3007, 3), fact_triplets_new.shape: (1652, 3)\n",
      "Check if subject and object are the same: (19, 3)\n",
      "fact_triplets.shape: (5227, 3), fact_triplets_new.shape: (2654, 3)\n",
      "Check if subject and object are the same: (25, 3)\n",
      "fact_triplets.shape: (4999, 3), fact_triplets_new.shape: (2402, 3)\n",
      "Check if subject and object are the same: (10, 3)\n",
      "fact_triplets.shape: (627, 3), fact_triplets_new.shape: (360, 3)\n",
      "Check if subject and object are the same: (1, 3)\n",
      "fact_triplets.shape: (7531, 3), fact_triplets_new.shape: (3202, 3)\n",
      "Check if subject and object are the same: (18, 3)\n",
      "fact_triplets.shape: (4999, 3), fact_triplets_new.shape: (1794, 3)\n",
      "Check if subject and object are the same: (6, 3)\n",
      "fact_triplets.shape: (190, 3), fact_triplets_new.shape: (92, 3)\n",
      "Check if subject and object are the same: (0, 3)\n",
      "fact_triplets.shape: (9997, 3), fact_triplets_new.shape: (4339, 3)\n",
      "Check if subject and object are the same: (10, 3)\n",
      "fact_triplets.shape: (32742, 3), fact_triplets_new.shape: (2937, 3)\n",
      "Check if subject and object are the same: (176, 3)\n",
      "fact_triplets.shape: (4999, 3), fact_triplets_new.shape: (2598, 3)\n",
      "Check if subject and object are the same: (6, 3)\n"
     ]
    }
   ],
   "source": [
    "directory = '../data/triplet/raw'\n",
    "for filename in os.listdir(directory):\n",
    "    if filename.endswith('.csv'):\n",
    "        fact_triplets = pd.read_csv(f'../data/triplet/raw/{filename}')\n",
    "        # print(fact_triplets.shape)\n",
    "        fact_triplets.dropna(inplace=True)\n",
    "        condition1 = fact_triplets.apply(lambda row: any(val.startswith('Q') and val[1:].isdigit() for val in row.values), axis=1)\n",
    "        condition2 = fact_triplets.apply(lambda row: any(val.startswith('http') for val in row.values), axis=1)\n",
    "        fact_triplets = fact_triplets[~(condition1 | condition2)]  \n",
    "\n",
    "        # remove_pairs, all_pairs = set(), []\n",
    "        # for i in fact_triplets.index:\n",
    "        #     subject, relation = fact_triplets.loc[i, 'subjectLabel'], fact_triplets.loc[i, 'relation']\n",
    "        #     if (subject, relation) in all_pairs:\n",
    "        #         remove_pairs.add((subject, relation))\n",
    "        #     else:\n",
    "        #         all_pairs.append((subject, relation))\n",
    "        # fact_triplets_new = fact_triplets[~fact_triplets.apply(lambda row: (row['subjectLabel'], row['relation']) in remove_pairs, axis=1)]\n",
    "        fact_triplets_new = fact_triplets.drop_duplicates(subset=['subjectLabel', 'relation'], keep=False)\n",
    "        print(f\"fact_triplets.shape: {fact_triplets.shape}, fact_triplets_new.shape: {fact_triplets_new.shape}\")\n",
    "        print(f\"Check if subject and object are the same: {fact_triplets_new[fact_triplets_new.subjectLabel == fact_triplets_new.objectLabel].shape}\")\n",
    "        fact_triplets_new = fact_triplets_new[fact_triplets_new.subjectLabel != fact_triplets_new.objectLabel]\n",
    "        fact_triplets_new.to_csv(f'../data/triplet/{filename}', index=False)"
   ]
  },
  {
   "cell_type": "code",
   "execution_count": 23,
   "metadata": {},
   "outputs": [
    {
     "name": "stdout",
     "output_type": "stream",
     "text": [
      "filename: places_city.csv, topic: city\n"
     ]
    },
    {
     "name": "stderr",
     "output_type": "stream",
     "text": [
      "  0%|          | 0/18513 [00:00<?, ?it/s]"
     ]
    },
    {
     "name": "stderr",
     "output_type": "stream",
     "text": [
      "100%|██████████| 18513/18513 [03:08<00:00, 98.37it/s] \n"
     ]
    },
    {
     "name": "stdout",
     "output_type": "stream",
     "text": [
      "fact_triplets_new.shape: (18513, 3) df.shape: (6805, 5)\n",
      "Check if object is not equal to label: (0, 5)\n",
      "filename: entertainment_music_genre.csv, topic: music genre\n"
     ]
    },
    {
     "name": "stderr",
     "output_type": "stream",
     "text": [
      "100%|██████████| 1633/1633 [00:17<00:00, 92.27it/s]\n"
     ]
    },
    {
     "name": "stdout",
     "output_type": "stream",
     "text": [
      "fact_triplets_new.shape: (1633, 3) df.shape: (300, 5)\n",
      "Check if object is not equal to label: (0, 5)\n",
      "filename: entertainment_song.csv, topic: song\n"
     ]
    },
    {
     "name": "stderr",
     "output_type": "stream",
     "text": [
      "100%|██████████| 2629/2629 [00:27<00:00, 94.70it/s] \n"
     ]
    },
    {
     "name": "stdout",
     "output_type": "stream",
     "text": [
      "fact_triplets_new.shape: (2629, 3) df.shape: (1935, 5)\n",
      "Check if object is not equal to label: (0, 5)\n",
      "filename: human_athlete.csv, topic: human\n"
     ]
    },
    {
     "name": "stderr",
     "output_type": "stream",
     "text": [
      "100%|██████████| 2392/2392 [00:23<00:00, 100.69it/s]\n"
     ]
    },
    {
     "name": "stdout",
     "output_type": "stream",
     "text": [
      "fact_triplets_new.shape: (2392, 3) df.shape: (1313, 5)\n",
      "Check if object is not equal to label: (0, 5)\n",
      "filename: entertainment_anime.csv, topic: anime\n"
     ]
    },
    {
     "name": "stderr",
     "output_type": "stream",
     "text": [
      "100%|██████████| 359/359 [00:03<00:00, 95.48it/s]\n"
     ]
    },
    {
     "name": "stdout",
     "output_type": "stream",
     "text": [
      "fact_triplets_new.shape: (359, 3) df.shape: (299, 5)\n",
      "Check if object is not equal to label: (0, 5)\n",
      "filename: places_landmark.csv, topic: tourist attraction\n"
     ]
    },
    {
     "name": "stderr",
     "output_type": "stream",
     "text": [
      "100%|██████████| 3184/3184 [00:34<00:00, 91.83it/s] \n"
     ]
    },
    {
     "name": "stdout",
     "output_type": "stream",
     "text": [
      "fact_triplets_new.shape: (3184, 3) df.shape: (1832, 5)\n",
      "Check if object is not equal to label: (0, 5)\n",
      "filename: human_scientist.csv, topic: human\n"
     ]
    },
    {
     "name": "stderr",
     "output_type": "stream",
     "text": [
      "100%|██████████| 1788/1788 [00:18<00:00, 94.14it/s]\n"
     ]
    },
    {
     "name": "stdout",
     "output_type": "stream",
     "text": [
      "fact_triplets_new.shape: (1788, 3) df.shape: (1052, 5)\n",
      "Check if object is not equal to label: (0, 5)\n",
      "filename: human_writer.csv, topic: human\n"
     ]
    },
    {
     "name": "stderr",
     "output_type": "stream",
     "text": [
      "100%|██████████| 4339/4339 [00:47<00:00, 91.09it/s] \n"
     ]
    },
    {
     "name": "stdout",
     "output_type": "stream",
     "text": [
      "fact_triplets_new.shape: (4339, 3) df.shape: (2687, 5)\n",
      "Check if object is not equal to label: (0, 5)\n",
      "filename: places_country.csv, topic: country\n"
     ]
    },
    {
     "name": "stderr",
     "output_type": "stream",
     "text": [
      "100%|██████████| 2761/2761 [00:30<00:00, 90.19it/s]\n"
     ]
    },
    {
     "name": "stdout",
     "output_type": "stream",
     "text": [
      "fact_triplets_new.shape: (2761, 3) df.shape: (1936, 5)\n",
      "Check if object is not equal to label: (0, 5)\n",
      "filename: human_entrepreneur.csv, topic: human\n"
     ]
    },
    {
     "name": "stderr",
     "output_type": "stream",
     "text": [
      "100%|██████████| 2592/2592 [00:26<00:00, 96.65it/s] "
     ]
    },
    {
     "name": "stdout",
     "output_type": "stream",
     "text": [
      "fact_triplets_new.shape: (2592, 3) df.shape: (1546, 5)\n",
      "Check if object is not equal to label: (0, 5)\n"
     ]
    },
    {
     "name": "stderr",
     "output_type": "stream",
     "text": [
      "\n"
     ]
    }
   ],
   "source": [
    "remove_relation = [\"topic's main category\", \"topic's main template\", \"described by source\", \"Commons category\", \"on focus list of Wikimedia project\"]\n",
    "\n",
    "directory = '../data/triplet'\n",
    "for filename in os.listdir(directory)[:]:\n",
    "    if filename.endswith('.csv'):\n",
    "        fact_triplets_new = pd.read_csv(f'../data/triplet/{filename}')\n",
    "        \n",
    "        with open(os.path.join(\"../data/topic\", filename.replace('.csv', '.json')), 'r', encoding='utf-8') as topics_file:\n",
    "            topics = topics_file.readlines()\n",
    "        topic = json.loads(topics[0])\n",
    "        first_pair = next(iter(topic.items()))\n",
    "        print(f'filename: {filename}, topic: {first_pair[1]}')\n",
    "\n",
    "        question_ls = []\n",
    "        for i in tqdm(fact_triplets_new.index[:]):\n",
    "            subject, relation, object = fact_triplets_new.loc[i, 'subjectLabel'], fact_triplets_new.loc[i, 'relation'], fact_triplets_new.loc[i, 'objectLabel']\n",
    "            question = generate_question(subject, relation, object, first_pair[1])\n",
    "            if question:\n",
    "                question_ls.append(question)\n",
    "        df = pd.DataFrame(question_ls)\n",
    "        df.to_csv(f\"../data/questions/unfiltered/{filename}\", index=False) # [['subject', 'relation', 'object', 'question']]\n",
    "        print(f\"fact_triplets_new.shape: {fact_triplets_new.shape} df.shape: {df.shape}\")\n",
    "        print(f\"Check if object is not equal to label: {df[df.object != df.label].shape}\")"
   ]
  }
 ],
 "metadata": {
  "kernelspec": {
   "display_name": "env24may",
   "language": "python",
   "name": "python3"
  },
  "language_info": {
   "codemirror_mode": {
    "name": "ipython",
    "version": 3
   },
   "file_extension": ".py",
   "mimetype": "text/x-python",
   "name": "python",
   "nbconvert_exporter": "python",
   "pygments_lexer": "ipython3",
   "version": "3.9.18"
  }
 },
 "nbformat": 4,
 "nbformat_minor": 2
}
